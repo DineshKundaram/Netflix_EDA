{
  "nbformat": 4,
  "nbformat_minor": 0,
  "metadata": {
    "colab": {
      "provenance": []
    },
    "kernelspec": {
      "name": "python3",
      "display_name": "Python 3"
    },
    "language_info": {
      "name": "python"
    }
  },
  "cells": [
    {
      "cell_type": "markdown",
      "source": [
        "# **Project Name** - NETFLIX EDA"
      ],
      "metadata": {
        "id": "viui27WSmUQ1"
      }
    },
    {
      "cell_type": "markdown",
      "source": [
        "**Project Type** - EDA\n",
        "\n",
        "**Contribution** - Individual"
      ],
      "metadata": {
        "id": "OPPV5Z3onmGA"
      }
    },
    {
      "cell_type": "markdown",
      "source": [
        "# **Project Summary:**"
      ],
      "metadata": {
        "id": "QwcORdFhm6tR"
      }
    },
    {
      "cell_type": "markdown",
      "source": [
        "This project centers on clustering Netflix movies and TV shows using unsupervised machine learning techniques on Microsoft Azure. The dataset, sourced from Flixable and covering content as of 2019, includes both TV shows and movies available on Netflix. An exciting aspect of the project is its intent to enrich the Netflix data by integrating external sources—like IMDB ratings and Rotten Tomatoes—to derive deeper insights into content categorization and audience reception."
      ],
      "metadata": {
        "id": "3Zgrm8M-oEQ-"
      }
    },
    {
      "cell_type": "markdown",
      "source": [
        "# **Problem Statement**"
      ],
      "metadata": {
        "id": "0vmNVbMBwftH"
      }
    },
    {
      "cell_type": "markdown",
      "source": [
        "The dataset reveals a notable shift in Netflix's content strategy: while the number of TV shows has nearly tripled since 2010, the number of movies has decreased by over 2000 titles. This raises several critical issues:\n",
        "\n",
        "**Content Evolution:** What are the implications of a growing TV show library versus a shrinking movie offering?\n",
        "\n",
        "**Regional Variability:** How does the type of content differ across countries?\n",
        "\n",
        "**Feature Clustering:** (optional) Can unsupervised learning techniques effectively group similar content based on text-based features, and what insights might this clustering yield?"
      ],
      "metadata": {
        "id": "_6OGEU0iwpqm"
      }
    },
    {
      "cell_type": "markdown",
      "source": [
        "# **Business Objective**"
      ],
      "metadata": {
        "id": "WDYp_upSxeOv"
      }
    },
    {
      "cell_type": "markdown",
      "source": [
        "1) **Exploratory Data Analysis:** Dive deep into the dataset to identify structural patterns, trends, and anomalies within Netflix's content offerings.\n",
        "\n",
        "2) **Regional Content Analysis:** Determine what types of content are available in different countries to inform tailored content strategies and regional engagements.\n",
        "\n",
        "3) **Content Strategy Evaluation:** Analyze whether Netflix is consciously pivoting towards TV shows over movies and to what extent this evolution aligns with its broader business strategy.\n",
        "\n",
        "4) **Clustering for Insights: (optional)** Implement clustering algorithms to group similar content based on textual features. This will help in categorizing content effectively, uncovering latent themes, and possibly guiding decisions on future content investments."
      ],
      "metadata": {
        "id": "2rsG-LPvxjuH"
      }
    },
    {
      "cell_type": "markdown",
      "source": [
        "# **Let's Dive!!**"
      ],
      "metadata": {
        "id": "3dsA_5tnDgID"
      }
    },
    {
      "cell_type": "markdown",
      "source": [
        "### Checking Data"
      ],
      "metadata": {
        "id": "2Q3M9TuYDtqM"
      }
    },
    {
      "cell_type": "code",
      "source": [
        "# Required modules\n",
        "import pandas as pd\n",
        "import numpy as np\n",
        "import seaborn as sns\n",
        "import matplotlib.pyplot as plt\n",
        "import plotly.express as px\n",
        "import random\n",
        "import re\n",
        "import collections\n",
        "import unicodedata\n",
        "from wordcloud import WordCloud\n",
        "import plotly.graph_objects as go\n",
        "import io\n",
        "import base64\n",
        "import warnings\n",
        "warnings.filterwarnings('ignore')\n",
        "sns.set(style='whitegrid', palette='muted', color_codes=True)"
      ],
      "metadata": {
        "id": "YT3ISlvCnyap"
      },
      "execution_count": null,
      "outputs": []
    },
    {
      "cell_type": "markdown",
      "source": [
        "### Initial data looks"
      ],
      "metadata": {
        "id": "OLr5Z0ChDyyw"
      }
    },
    {
      "cell_type": "code",
      "source": [
        "df = pd.read_csv(\"/content/drive/MyDrive/Netflix/NETFLIX MOVIES AND TV SHOWS CLUSTERING.csv\")"
      ],
      "metadata": {
        "id": "LdEFCK7ToBrZ"
      },
      "execution_count": null,
      "outputs": []
    },
    {
      "cell_type": "code",
      "source": [
        "df.head(3)"
      ],
      "metadata": {
        "colab": {
          "base_uri": "https://localhost:8080/",
          "height": 247
        },
        "id": "ULOIYjgPoCxC",
        "outputId": "b1fce7e2-82e8-4de3-de6a-47e8ee3545d0"
      },
      "execution_count": null,
      "outputs": [
        {
          "output_type": "execute_result",
          "data": {
            "text/plain": [
              "  show_id     type  title           director  \\\n",
              "0      s1  TV Show     3%                NaN   \n",
              "1      s2    Movie   7:19  Jorge Michel Grau   \n",
              "2      s3    Movie  23:59       Gilbert Chan   \n",
              "\n",
              "                                                cast    country  \\\n",
              "0  João Miguel, Bianca Comparato, Michel Gomes, R...     Brazil   \n",
              "1  Demián Bichir, Héctor Bonilla, Oscar Serrano, ...     Mexico   \n",
              "2  Tedd Chan, Stella Chung, Henley Hii, Lawrence ...  Singapore   \n",
              "\n",
              "          date_added  release_year rating   duration  \\\n",
              "0    August 14, 2020          2020  TV-MA  4 Seasons   \n",
              "1  December 23, 2016          2016  TV-MA     93 min   \n",
              "2  December 20, 2018          2011      R     78 min   \n",
              "\n",
              "                                           listed_in  \\\n",
              "0  International TV Shows, TV Dramas, TV Sci-Fi &...   \n",
              "1                       Dramas, International Movies   \n",
              "2                Horror Movies, International Movies   \n",
              "\n",
              "                                         description  \n",
              "0  In a future where the elite inhabit an island ...  \n",
              "1  After a devastating earthquake hits Mexico Cit...  \n",
              "2  When an army recruit is found dead, his fellow...  "
            ],
            "text/html": [
              "\n",
              "  <div id=\"df-ddbe3444-a26a-41ae-86e6-cf63948f6821\" class=\"colab-df-container\">\n",
              "    <div>\n",
              "<style scoped>\n",
              "    .dataframe tbody tr th:only-of-type {\n",
              "        vertical-align: middle;\n",
              "    }\n",
              "\n",
              "    .dataframe tbody tr th {\n",
              "        vertical-align: top;\n",
              "    }\n",
              "\n",
              "    .dataframe thead th {\n",
              "        text-align: right;\n",
              "    }\n",
              "</style>\n",
              "<table border=\"1\" class=\"dataframe\">\n",
              "  <thead>\n",
              "    <tr style=\"text-align: right;\">\n",
              "      <th></th>\n",
              "      <th>show_id</th>\n",
              "      <th>type</th>\n",
              "      <th>title</th>\n",
              "      <th>director</th>\n",
              "      <th>cast</th>\n",
              "      <th>country</th>\n",
              "      <th>date_added</th>\n",
              "      <th>release_year</th>\n",
              "      <th>rating</th>\n",
              "      <th>duration</th>\n",
              "      <th>listed_in</th>\n",
              "      <th>description</th>\n",
              "    </tr>\n",
              "  </thead>\n",
              "  <tbody>\n",
              "    <tr>\n",
              "      <th>0</th>\n",
              "      <td>s1</td>\n",
              "      <td>TV Show</td>\n",
              "      <td>3%</td>\n",
              "      <td>NaN</td>\n",
              "      <td>João Miguel, Bianca Comparato, Michel Gomes, R...</td>\n",
              "      <td>Brazil</td>\n",
              "      <td>August 14, 2020</td>\n",
              "      <td>2020</td>\n",
              "      <td>TV-MA</td>\n",
              "      <td>4 Seasons</td>\n",
              "      <td>International TV Shows, TV Dramas, TV Sci-Fi &amp;...</td>\n",
              "      <td>In a future where the elite inhabit an island ...</td>\n",
              "    </tr>\n",
              "    <tr>\n",
              "      <th>1</th>\n",
              "      <td>s2</td>\n",
              "      <td>Movie</td>\n",
              "      <td>7:19</td>\n",
              "      <td>Jorge Michel Grau</td>\n",
              "      <td>Demián Bichir, Héctor Bonilla, Oscar Serrano, ...</td>\n",
              "      <td>Mexico</td>\n",
              "      <td>December 23, 2016</td>\n",
              "      <td>2016</td>\n",
              "      <td>TV-MA</td>\n",
              "      <td>93 min</td>\n",
              "      <td>Dramas, International Movies</td>\n",
              "      <td>After a devastating earthquake hits Mexico Cit...</td>\n",
              "    </tr>\n",
              "    <tr>\n",
              "      <th>2</th>\n",
              "      <td>s3</td>\n",
              "      <td>Movie</td>\n",
              "      <td>23:59</td>\n",
              "      <td>Gilbert Chan</td>\n",
              "      <td>Tedd Chan, Stella Chung, Henley Hii, Lawrence ...</td>\n",
              "      <td>Singapore</td>\n",
              "      <td>December 20, 2018</td>\n",
              "      <td>2011</td>\n",
              "      <td>R</td>\n",
              "      <td>78 min</td>\n",
              "      <td>Horror Movies, International Movies</td>\n",
              "      <td>When an army recruit is found dead, his fellow...</td>\n",
              "    </tr>\n",
              "  </tbody>\n",
              "</table>\n",
              "</div>\n",
              "    <div class=\"colab-df-buttons\">\n",
              "\n",
              "  <div class=\"colab-df-container\">\n",
              "    <button class=\"colab-df-convert\" onclick=\"convertToInteractive('df-ddbe3444-a26a-41ae-86e6-cf63948f6821')\"\n",
              "            title=\"Convert this dataframe to an interactive table.\"\n",
              "            style=\"display:none;\">\n",
              "\n",
              "  <svg xmlns=\"http://www.w3.org/2000/svg\" height=\"24px\" viewBox=\"0 -960 960 960\">\n",
              "    <path d=\"M120-120v-720h720v720H120Zm60-500h600v-160H180v160Zm220 220h160v-160H400v160Zm0 220h160v-160H400v160ZM180-400h160v-160H180v160Zm440 0h160v-160H620v160ZM180-180h160v-160H180v160Zm440 0h160v-160H620v160Z\"/>\n",
              "  </svg>\n",
              "    </button>\n",
              "\n",
              "  <style>\n",
              "    .colab-df-container {\n",
              "      display:flex;\n",
              "      gap: 12px;\n",
              "    }\n",
              "\n",
              "    .colab-df-convert {\n",
              "      background-color: #E8F0FE;\n",
              "      border: none;\n",
              "      border-radius: 50%;\n",
              "      cursor: pointer;\n",
              "      display: none;\n",
              "      fill: #1967D2;\n",
              "      height: 32px;\n",
              "      padding: 0 0 0 0;\n",
              "      width: 32px;\n",
              "    }\n",
              "\n",
              "    .colab-df-convert:hover {\n",
              "      background-color: #E2EBFA;\n",
              "      box-shadow: 0px 1px 2px rgba(60, 64, 67, 0.3), 0px 1px 3px 1px rgba(60, 64, 67, 0.15);\n",
              "      fill: #174EA6;\n",
              "    }\n",
              "\n",
              "    .colab-df-buttons div {\n",
              "      margin-bottom: 4px;\n",
              "    }\n",
              "\n",
              "    [theme=dark] .colab-df-convert {\n",
              "      background-color: #3B4455;\n",
              "      fill: #D2E3FC;\n",
              "    }\n",
              "\n",
              "    [theme=dark] .colab-df-convert:hover {\n",
              "      background-color: #434B5C;\n",
              "      box-shadow: 0px 1px 3px 1px rgba(0, 0, 0, 0.15);\n",
              "      filter: drop-shadow(0px 1px 2px rgba(0, 0, 0, 0.3));\n",
              "      fill: #FFFFFF;\n",
              "    }\n",
              "  </style>\n",
              "\n",
              "    <script>\n",
              "      const buttonEl =\n",
              "        document.querySelector('#df-ddbe3444-a26a-41ae-86e6-cf63948f6821 button.colab-df-convert');\n",
              "      buttonEl.style.display =\n",
              "        google.colab.kernel.accessAllowed ? 'block' : 'none';\n",
              "\n",
              "      async function convertToInteractive(key) {\n",
              "        const element = document.querySelector('#df-ddbe3444-a26a-41ae-86e6-cf63948f6821');\n",
              "        const dataTable =\n",
              "          await google.colab.kernel.invokeFunction('convertToInteractive',\n",
              "                                                    [key], {});\n",
              "        if (!dataTable) return;\n",
              "\n",
              "        const docLinkHtml = 'Like what you see? Visit the ' +\n",
              "          '<a target=\"_blank\" href=https://colab.research.google.com/notebooks/data_table.ipynb>data table notebook</a>'\n",
              "          + ' to learn more about interactive tables.';\n",
              "        element.innerHTML = '';\n",
              "        dataTable['output_type'] = 'display_data';\n",
              "        await google.colab.output.renderOutput(dataTable, element);\n",
              "        const docLink = document.createElement('div');\n",
              "        docLink.innerHTML = docLinkHtml;\n",
              "        element.appendChild(docLink);\n",
              "      }\n",
              "    </script>\n",
              "  </div>\n",
              "\n",
              "\n",
              "    <div id=\"df-7cc778c3-20e2-4433-8791-3c11e78249ac\">\n",
              "      <button class=\"colab-df-quickchart\" onclick=\"quickchart('df-7cc778c3-20e2-4433-8791-3c11e78249ac')\"\n",
              "                title=\"Suggest charts\"\n",
              "                style=\"display:none;\">\n",
              "\n",
              "<svg xmlns=\"http://www.w3.org/2000/svg\" height=\"24px\"viewBox=\"0 0 24 24\"\n",
              "     width=\"24px\">\n",
              "    <g>\n",
              "        <path d=\"M19 3H5c-1.1 0-2 .9-2 2v14c0 1.1.9 2 2 2h14c1.1 0 2-.9 2-2V5c0-1.1-.9-2-2-2zM9 17H7v-7h2v7zm4 0h-2V7h2v10zm4 0h-2v-4h2v4z\"/>\n",
              "    </g>\n",
              "</svg>\n",
              "      </button>\n",
              "\n",
              "<style>\n",
              "  .colab-df-quickchart {\n",
              "      --bg-color: #E8F0FE;\n",
              "      --fill-color: #1967D2;\n",
              "      --hover-bg-color: #E2EBFA;\n",
              "      --hover-fill-color: #174EA6;\n",
              "      --disabled-fill-color: #AAA;\n",
              "      --disabled-bg-color: #DDD;\n",
              "  }\n",
              "\n",
              "  [theme=dark] .colab-df-quickchart {\n",
              "      --bg-color: #3B4455;\n",
              "      --fill-color: #D2E3FC;\n",
              "      --hover-bg-color: #434B5C;\n",
              "      --hover-fill-color: #FFFFFF;\n",
              "      --disabled-bg-color: #3B4455;\n",
              "      --disabled-fill-color: #666;\n",
              "  }\n",
              "\n",
              "  .colab-df-quickchart {\n",
              "    background-color: var(--bg-color);\n",
              "    border: none;\n",
              "    border-radius: 50%;\n",
              "    cursor: pointer;\n",
              "    display: none;\n",
              "    fill: var(--fill-color);\n",
              "    height: 32px;\n",
              "    padding: 0;\n",
              "    width: 32px;\n",
              "  }\n",
              "\n",
              "  .colab-df-quickchart:hover {\n",
              "    background-color: var(--hover-bg-color);\n",
              "    box-shadow: 0 1px 2px rgba(60, 64, 67, 0.3), 0 1px 3px 1px rgba(60, 64, 67, 0.15);\n",
              "    fill: var(--button-hover-fill-color);\n",
              "  }\n",
              "\n",
              "  .colab-df-quickchart-complete:disabled,\n",
              "  .colab-df-quickchart-complete:disabled:hover {\n",
              "    background-color: var(--disabled-bg-color);\n",
              "    fill: var(--disabled-fill-color);\n",
              "    box-shadow: none;\n",
              "  }\n",
              "\n",
              "  .colab-df-spinner {\n",
              "    border: 2px solid var(--fill-color);\n",
              "    border-color: transparent;\n",
              "    border-bottom-color: var(--fill-color);\n",
              "    animation:\n",
              "      spin 1s steps(1) infinite;\n",
              "  }\n",
              "\n",
              "  @keyframes spin {\n",
              "    0% {\n",
              "      border-color: transparent;\n",
              "      border-bottom-color: var(--fill-color);\n",
              "      border-left-color: var(--fill-color);\n",
              "    }\n",
              "    20% {\n",
              "      border-color: transparent;\n",
              "      border-left-color: var(--fill-color);\n",
              "      border-top-color: var(--fill-color);\n",
              "    }\n",
              "    30% {\n",
              "      border-color: transparent;\n",
              "      border-left-color: var(--fill-color);\n",
              "      border-top-color: var(--fill-color);\n",
              "      border-right-color: var(--fill-color);\n",
              "    }\n",
              "    40% {\n",
              "      border-color: transparent;\n",
              "      border-right-color: var(--fill-color);\n",
              "      border-top-color: var(--fill-color);\n",
              "    }\n",
              "    60% {\n",
              "      border-color: transparent;\n",
              "      border-right-color: var(--fill-color);\n",
              "    }\n",
              "    80% {\n",
              "      border-color: transparent;\n",
              "      border-right-color: var(--fill-color);\n",
              "      border-bottom-color: var(--fill-color);\n",
              "    }\n",
              "    90% {\n",
              "      border-color: transparent;\n",
              "      border-bottom-color: var(--fill-color);\n",
              "    }\n",
              "  }\n",
              "</style>\n",
              "\n",
              "      <script>\n",
              "        async function quickchart(key) {\n",
              "          const quickchartButtonEl =\n",
              "            document.querySelector('#' + key + ' button');\n",
              "          quickchartButtonEl.disabled = true;  // To prevent multiple clicks.\n",
              "          quickchartButtonEl.classList.add('colab-df-spinner');\n",
              "          try {\n",
              "            const charts = await google.colab.kernel.invokeFunction(\n",
              "                'suggestCharts', [key], {});\n",
              "          } catch (error) {\n",
              "            console.error('Error during call to suggestCharts:', error);\n",
              "          }\n",
              "          quickchartButtonEl.classList.remove('colab-df-spinner');\n",
              "          quickchartButtonEl.classList.add('colab-df-quickchart-complete');\n",
              "        }\n",
              "        (() => {\n",
              "          let quickchartButtonEl =\n",
              "            document.querySelector('#df-7cc778c3-20e2-4433-8791-3c11e78249ac button');\n",
              "          quickchartButtonEl.style.display =\n",
              "            google.colab.kernel.accessAllowed ? 'block' : 'none';\n",
              "        })();\n",
              "      </script>\n",
              "    </div>\n",
              "\n",
              "    </div>\n",
              "  </div>\n"
            ],
            "application/vnd.google.colaboratory.intrinsic+json": {
              "type": "dataframe",
              "variable_name": "df",
              "summary": "{\n  \"name\": \"df\",\n  \"rows\": 7787,\n  \"fields\": [\n    {\n      \"column\": \"show_id\",\n      \"properties\": {\n        \"dtype\": \"string\",\n        \"num_unique_values\": 7787,\n        \"samples\": [\n          \"s7325\",\n          \"s4695\",\n          \"s1323\"\n        ],\n        \"semantic_type\": \"\",\n        \"description\": \"\"\n      }\n    },\n    {\n      \"column\": \"type\",\n      \"properties\": {\n        \"dtype\": \"category\",\n        \"num_unique_values\": 2,\n        \"samples\": [\n          \"Movie\",\n          \"TV Show\"\n        ],\n        \"semantic_type\": \"\",\n        \"description\": \"\"\n      }\n    },\n    {\n      \"column\": \"title\",\n      \"properties\": {\n        \"dtype\": \"string\",\n        \"num_unique_values\": 7787,\n        \"samples\": [\n          \"Unchained: The Untold Story of Freestyle Motocross\",\n          \"Our Idiot Brother\"\n        ],\n        \"semantic_type\": \"\",\n        \"description\": \"\"\n      }\n    },\n    {\n      \"column\": \"director\",\n      \"properties\": {\n        \"dtype\": \"string\",\n        \"num_unique_values\": 4049,\n        \"samples\": [\n          \"Olivia Milch\",\n          \"Francisco Macri\"\n        ],\n        \"semantic_type\": \"\",\n        \"description\": \"\"\n      }\n    },\n    {\n      \"column\": \"cast\",\n      \"properties\": {\n        \"dtype\": \"string\",\n        \"num_unique_values\": 6831,\n        \"samples\": [\n          \"Nicola Lambo, Evan Boymel, John P. Fowler, Erica Duke, Ezra James Colbert\",\n          \"Jodie Whittaker, Warwick Davis, Jim Broadbent, Stephen Graham, Nonso Anozie, Rafe Spall, Ewen Bremner, Matt King\"\n        ],\n        \"semantic_type\": \"\",\n        \"description\": \"\"\n      }\n    },\n    {\n      \"column\": \"country\",\n      \"properties\": {\n        \"dtype\": \"category\",\n        \"num_unique_values\": 681,\n        \"samples\": [\n          \"Romania, United Kingdom\",\n          \"United States, United Arab Emirates\"\n        ],\n        \"semantic_type\": \"\",\n        \"description\": \"\"\n      }\n    },\n    {\n      \"column\": \"date_added\",\n      \"properties\": {\n        \"dtype\": \"category\",\n        \"num_unique_values\": 1565,\n        \"samples\": [\n          \"April 18, 2017\",\n          \"February 27, 2020\"\n        ],\n        \"semantic_type\": \"\",\n        \"description\": \"\"\n      }\n    },\n    {\n      \"column\": \"release_year\",\n      \"properties\": {\n        \"dtype\": \"number\",\n        \"std\": 8,\n        \"min\": 1925,\n        \"max\": 2021,\n        \"num_unique_values\": 73,\n        \"samples\": [\n          2008,\n          1969\n        ],\n        \"semantic_type\": \"\",\n        \"description\": \"\"\n      }\n    },\n    {\n      \"column\": \"rating\",\n      \"properties\": {\n        \"dtype\": \"category\",\n        \"num_unique_values\": 14,\n        \"samples\": [\n          \"PG\",\n          \"NC-17\"\n        ],\n        \"semantic_type\": \"\",\n        \"description\": \"\"\n      }\n    },\n    {\n      \"column\": \"duration\",\n      \"properties\": {\n        \"dtype\": \"category\",\n        \"num_unique_values\": 216,\n        \"samples\": [\n          \"230 min\",\n          \"253 min\"\n        ],\n        \"semantic_type\": \"\",\n        \"description\": \"\"\n      }\n    },\n    {\n      \"column\": \"listed_in\",\n      \"properties\": {\n        \"dtype\": \"category\",\n        \"num_unique_values\": 492,\n        \"samples\": [\n          \"Children & Family Movies, Dramas\",\n          \"Dramas, LGBTQ Movies\"\n        ],\n        \"semantic_type\": \"\",\n        \"description\": \"\"\n      }\n    },\n    {\n      \"column\": \"description\",\n      \"properties\": {\n        \"dtype\": \"string\",\n        \"num_unique_values\": 7769,\n        \"samples\": [\n          \"A middle-aged actress is cast in a film adaptation of the play that made her famous 20 years earlier, but in a much less glamorous role.\",\n          \"The life of a high-flying law student takes a drastic turn when a bout of misfortune changes his status in society for good.\"\n        ],\n        \"semantic_type\": \"\",\n        \"description\": \"\"\n      }\n    }\n  ]\n}"
            }
          },
          "metadata": {},
          "execution_count": 3
        }
      ]
    },
    {
      "cell_type": "markdown",
      "source": [
        "### Dataset Rows & Columns count"
      ],
      "metadata": {
        "id": "Kj6NVu18D-lq"
      }
    },
    {
      "cell_type": "code",
      "source": [
        "# Dataset Rows & Columns count\n",
        "print('Number of Rows =', df.shape[0])\n",
        "print('Number of Columns =',df.shape[1])"
      ],
      "metadata": {
        "colab": {
          "base_uri": "https://localhost:8080/"
        },
        "id": "EtDzK6wNpAWk",
        "outputId": "baf7a5f5-095a-448c-fc09-c094332659b4"
      },
      "execution_count": null,
      "outputs": [
        {
          "output_type": "stream",
          "name": "stdout",
          "text": [
            "Number of Rows = 7787\n",
            "Number of Columns = 12\n"
          ]
        }
      ]
    },
    {
      "cell_type": "markdown",
      "source": [
        "### Dataset information"
      ],
      "metadata": {
        "id": "0rg_HLt0ESBz"
      }
    },
    {
      "cell_type": "code",
      "source": [
        "df.info()"
      ],
      "metadata": {
        "colab": {
          "base_uri": "https://localhost:8080/"
        },
        "id": "WI2GSuZhpOmm",
        "outputId": "6d16a306-0d38-4437-e5cf-4384d514604d"
      },
      "execution_count": null,
      "outputs": [
        {
          "output_type": "stream",
          "name": "stdout",
          "text": [
            "<class 'pandas.core.frame.DataFrame'>\n",
            "RangeIndex: 7787 entries, 0 to 7786\n",
            "Data columns (total 12 columns):\n",
            " #   Column        Non-Null Count  Dtype \n",
            "---  ------        --------------  ----- \n",
            " 0   show_id       7787 non-null   object\n",
            " 1   type          7787 non-null   object\n",
            " 2   title         7787 non-null   object\n",
            " 3   director      5398 non-null   object\n",
            " 4   cast          7069 non-null   object\n",
            " 5   country       7280 non-null   object\n",
            " 6   date_added    7777 non-null   object\n",
            " 7   release_year  7787 non-null   int64 \n",
            " 8   rating        7780 non-null   object\n",
            " 9   duration      7787 non-null   object\n",
            " 10  listed_in     7787 non-null   object\n",
            " 11  description   7787 non-null   object\n",
            "dtypes: int64(1), object(11)\n",
            "memory usage: 730.2+ KB\n"
          ]
        }
      ]
    },
    {
      "cell_type": "markdown",
      "source": [
        "## **Understanding Your Variables**"
      ],
      "metadata": {
        "id": "3K-ttyb1Gxat"
      }
    },
    {
      "cell_type": "code",
      "source": [
        "# checking columns\n",
        "df.columns"
      ],
      "metadata": {
        "colab": {
          "base_uri": "https://localhost:8080/"
        },
        "id": "QpsZF48LpOcK",
        "outputId": "ceb354de-db3c-4dbb-d757-462a664c4c25"
      },
      "execution_count": null,
      "outputs": [
        {
          "output_type": "execute_result",
          "data": {
            "text/plain": [
              "Index(['show_id', 'type', 'title', 'director', 'cast', 'country', 'date_added',\n",
              "       'release_year', 'rating', 'duration', 'listed_in', 'description'],\n",
              "      dtype='object')"
            ]
          },
          "metadata": {},
          "execution_count": 6
        }
      ]
    },
    {
      "cell_type": "markdown",
      "source": [
        "#### Dataset Summary Statistics (Rounded)"
      ],
      "metadata": {
        "id": "6bkvHpRFE1L8"
      }
    },
    {
      "cell_type": "code",
      "source": [
        "round(df.describe(include='all'))"
      ],
      "metadata": {
        "colab": {
          "base_uri": "https://localhost:8080/",
          "height": 429
        },
        "id": "29c5TNSOpOhi",
        "outputId": "80bd4efd-c17f-4418-aa03-0bd7e873cb72"
      },
      "execution_count": null,
      "outputs": [
        {
          "output_type": "execute_result",
          "data": {
            "text/plain": [
              "       show_id   type                                    title  \\\n",
              "count     7787   7787                                     7787   \n",
              "unique    7787      2                                     7787   \n",
              "top      s7787  Movie  ZZ TOP: THAT LITTLE OL' BAND FROM TEXAS   \n",
              "freq         1   5377                                        1   \n",
              "mean       NaN    NaN                                      NaN   \n",
              "std        NaN    NaN                                      NaN   \n",
              "min        NaN    NaN                                      NaN   \n",
              "25%        NaN    NaN                                      NaN   \n",
              "50%        NaN    NaN                                      NaN   \n",
              "75%        NaN    NaN                                      NaN   \n",
              "max        NaN    NaN                                      NaN   \n",
              "\n",
              "                      director                cast        country  \\\n",
              "count                     5398                7069           7280   \n",
              "unique                    4049                6831            681   \n",
              "top     Raúl Campos, Jan Suter  David Attenborough  United States   \n",
              "freq                        18                  18           2555   \n",
              "mean                       NaN                 NaN            NaN   \n",
              "std                        NaN                 NaN            NaN   \n",
              "min                        NaN                 NaN            NaN   \n",
              "25%                        NaN                 NaN            NaN   \n",
              "50%                        NaN                 NaN            NaN   \n",
              "75%                        NaN                 NaN            NaN   \n",
              "max                        NaN                 NaN            NaN   \n",
              "\n",
              "             date_added  release_year rating  duration      listed_in  \\\n",
              "count              7777        7787.0   7780      7787           7787   \n",
              "unique             1565           NaN     14       216            492   \n",
              "top     January 1, 2020           NaN  TV-MA  1 Season  Documentaries   \n",
              "freq                118           NaN   2863      1608            334   \n",
              "mean                NaN        2014.0    NaN       NaN            NaN   \n",
              "std                 NaN           9.0    NaN       NaN            NaN   \n",
              "min                 NaN        1925.0    NaN       NaN            NaN   \n",
              "25%                 NaN        2013.0    NaN       NaN            NaN   \n",
              "50%                 NaN        2017.0    NaN       NaN            NaN   \n",
              "75%                 NaN        2018.0    NaN       NaN            NaN   \n",
              "max                 NaN        2021.0    NaN       NaN            NaN   \n",
              "\n",
              "                                              description  \n",
              "count                                                7787  \n",
              "unique                                               7769  \n",
              "top     Multiple women report their husbands as missin...  \n",
              "freq                                                    3  \n",
              "mean                                                  NaN  \n",
              "std                                                   NaN  \n",
              "min                                                   NaN  \n",
              "25%                                                   NaN  \n",
              "50%                                                   NaN  \n",
              "75%                                                   NaN  \n",
              "max                                                   NaN  "
            ],
            "text/html": [
              "\n",
              "  <div id=\"df-4186f2f7-250d-4ed3-861e-58ed79e1f8ec\" class=\"colab-df-container\">\n",
              "    <div>\n",
              "<style scoped>\n",
              "    .dataframe tbody tr th:only-of-type {\n",
              "        vertical-align: middle;\n",
              "    }\n",
              "\n",
              "    .dataframe tbody tr th {\n",
              "        vertical-align: top;\n",
              "    }\n",
              "\n",
              "    .dataframe thead th {\n",
              "        text-align: right;\n",
              "    }\n",
              "</style>\n",
              "<table border=\"1\" class=\"dataframe\">\n",
              "  <thead>\n",
              "    <tr style=\"text-align: right;\">\n",
              "      <th></th>\n",
              "      <th>show_id</th>\n",
              "      <th>type</th>\n",
              "      <th>title</th>\n",
              "      <th>director</th>\n",
              "      <th>cast</th>\n",
              "      <th>country</th>\n",
              "      <th>date_added</th>\n",
              "      <th>release_year</th>\n",
              "      <th>rating</th>\n",
              "      <th>duration</th>\n",
              "      <th>listed_in</th>\n",
              "      <th>description</th>\n",
              "    </tr>\n",
              "  </thead>\n",
              "  <tbody>\n",
              "    <tr>\n",
              "      <th>count</th>\n",
              "      <td>7787</td>\n",
              "      <td>7787</td>\n",
              "      <td>7787</td>\n",
              "      <td>5398</td>\n",
              "      <td>7069</td>\n",
              "      <td>7280</td>\n",
              "      <td>7777</td>\n",
              "      <td>7787.0</td>\n",
              "      <td>7780</td>\n",
              "      <td>7787</td>\n",
              "      <td>7787</td>\n",
              "      <td>7787</td>\n",
              "    </tr>\n",
              "    <tr>\n",
              "      <th>unique</th>\n",
              "      <td>7787</td>\n",
              "      <td>2</td>\n",
              "      <td>7787</td>\n",
              "      <td>4049</td>\n",
              "      <td>6831</td>\n",
              "      <td>681</td>\n",
              "      <td>1565</td>\n",
              "      <td>NaN</td>\n",
              "      <td>14</td>\n",
              "      <td>216</td>\n",
              "      <td>492</td>\n",
              "      <td>7769</td>\n",
              "    </tr>\n",
              "    <tr>\n",
              "      <th>top</th>\n",
              "      <td>s7787</td>\n",
              "      <td>Movie</td>\n",
              "      <td>ZZ TOP: THAT LITTLE OL' BAND FROM TEXAS</td>\n",
              "      <td>Raúl Campos, Jan Suter</td>\n",
              "      <td>David Attenborough</td>\n",
              "      <td>United States</td>\n",
              "      <td>January 1, 2020</td>\n",
              "      <td>NaN</td>\n",
              "      <td>TV-MA</td>\n",
              "      <td>1 Season</td>\n",
              "      <td>Documentaries</td>\n",
              "      <td>Multiple women report their husbands as missin...</td>\n",
              "    </tr>\n",
              "    <tr>\n",
              "      <th>freq</th>\n",
              "      <td>1</td>\n",
              "      <td>5377</td>\n",
              "      <td>1</td>\n",
              "      <td>18</td>\n",
              "      <td>18</td>\n",
              "      <td>2555</td>\n",
              "      <td>118</td>\n",
              "      <td>NaN</td>\n",
              "      <td>2863</td>\n",
              "      <td>1608</td>\n",
              "      <td>334</td>\n",
              "      <td>3</td>\n",
              "    </tr>\n",
              "    <tr>\n",
              "      <th>mean</th>\n",
              "      <td>NaN</td>\n",
              "      <td>NaN</td>\n",
              "      <td>NaN</td>\n",
              "      <td>NaN</td>\n",
              "      <td>NaN</td>\n",
              "      <td>NaN</td>\n",
              "      <td>NaN</td>\n",
              "      <td>2014.0</td>\n",
              "      <td>NaN</td>\n",
              "      <td>NaN</td>\n",
              "      <td>NaN</td>\n",
              "      <td>NaN</td>\n",
              "    </tr>\n",
              "    <tr>\n",
              "      <th>std</th>\n",
              "      <td>NaN</td>\n",
              "      <td>NaN</td>\n",
              "      <td>NaN</td>\n",
              "      <td>NaN</td>\n",
              "      <td>NaN</td>\n",
              "      <td>NaN</td>\n",
              "      <td>NaN</td>\n",
              "      <td>9.0</td>\n",
              "      <td>NaN</td>\n",
              "      <td>NaN</td>\n",
              "      <td>NaN</td>\n",
              "      <td>NaN</td>\n",
              "    </tr>\n",
              "    <tr>\n",
              "      <th>min</th>\n",
              "      <td>NaN</td>\n",
              "      <td>NaN</td>\n",
              "      <td>NaN</td>\n",
              "      <td>NaN</td>\n",
              "      <td>NaN</td>\n",
              "      <td>NaN</td>\n",
              "      <td>NaN</td>\n",
              "      <td>1925.0</td>\n",
              "      <td>NaN</td>\n",
              "      <td>NaN</td>\n",
              "      <td>NaN</td>\n",
              "      <td>NaN</td>\n",
              "    </tr>\n",
              "    <tr>\n",
              "      <th>25%</th>\n",
              "      <td>NaN</td>\n",
              "      <td>NaN</td>\n",
              "      <td>NaN</td>\n",
              "      <td>NaN</td>\n",
              "      <td>NaN</td>\n",
              "      <td>NaN</td>\n",
              "      <td>NaN</td>\n",
              "      <td>2013.0</td>\n",
              "      <td>NaN</td>\n",
              "      <td>NaN</td>\n",
              "      <td>NaN</td>\n",
              "      <td>NaN</td>\n",
              "    </tr>\n",
              "    <tr>\n",
              "      <th>50%</th>\n",
              "      <td>NaN</td>\n",
              "      <td>NaN</td>\n",
              "      <td>NaN</td>\n",
              "      <td>NaN</td>\n",
              "      <td>NaN</td>\n",
              "      <td>NaN</td>\n",
              "      <td>NaN</td>\n",
              "      <td>2017.0</td>\n",
              "      <td>NaN</td>\n",
              "      <td>NaN</td>\n",
              "      <td>NaN</td>\n",
              "      <td>NaN</td>\n",
              "    </tr>\n",
              "    <tr>\n",
              "      <th>75%</th>\n",
              "      <td>NaN</td>\n",
              "      <td>NaN</td>\n",
              "      <td>NaN</td>\n",
              "      <td>NaN</td>\n",
              "      <td>NaN</td>\n",
              "      <td>NaN</td>\n",
              "      <td>NaN</td>\n",
              "      <td>2018.0</td>\n",
              "      <td>NaN</td>\n",
              "      <td>NaN</td>\n",
              "      <td>NaN</td>\n",
              "      <td>NaN</td>\n",
              "    </tr>\n",
              "    <tr>\n",
              "      <th>max</th>\n",
              "      <td>NaN</td>\n",
              "      <td>NaN</td>\n",
              "      <td>NaN</td>\n",
              "      <td>NaN</td>\n",
              "      <td>NaN</td>\n",
              "      <td>NaN</td>\n",
              "      <td>NaN</td>\n",
              "      <td>2021.0</td>\n",
              "      <td>NaN</td>\n",
              "      <td>NaN</td>\n",
              "      <td>NaN</td>\n",
              "      <td>NaN</td>\n",
              "    </tr>\n",
              "  </tbody>\n",
              "</table>\n",
              "</div>\n",
              "    <div class=\"colab-df-buttons\">\n",
              "\n",
              "  <div class=\"colab-df-container\">\n",
              "    <button class=\"colab-df-convert\" onclick=\"convertToInteractive('df-4186f2f7-250d-4ed3-861e-58ed79e1f8ec')\"\n",
              "            title=\"Convert this dataframe to an interactive table.\"\n",
              "            style=\"display:none;\">\n",
              "\n",
              "  <svg xmlns=\"http://www.w3.org/2000/svg\" height=\"24px\" viewBox=\"0 -960 960 960\">\n",
              "    <path d=\"M120-120v-720h720v720H120Zm60-500h600v-160H180v160Zm220 220h160v-160H400v160Zm0 220h160v-160H400v160ZM180-400h160v-160H180v160Zm440 0h160v-160H620v160ZM180-180h160v-160H180v160Zm440 0h160v-160H620v160Z\"/>\n",
              "  </svg>\n",
              "    </button>\n",
              "\n",
              "  <style>\n",
              "    .colab-df-container {\n",
              "      display:flex;\n",
              "      gap: 12px;\n",
              "    }\n",
              "\n",
              "    .colab-df-convert {\n",
              "      background-color: #E8F0FE;\n",
              "      border: none;\n",
              "      border-radius: 50%;\n",
              "      cursor: pointer;\n",
              "      display: none;\n",
              "      fill: #1967D2;\n",
              "      height: 32px;\n",
              "      padding: 0 0 0 0;\n",
              "      width: 32px;\n",
              "    }\n",
              "\n",
              "    .colab-df-convert:hover {\n",
              "      background-color: #E2EBFA;\n",
              "      box-shadow: 0px 1px 2px rgba(60, 64, 67, 0.3), 0px 1px 3px 1px rgba(60, 64, 67, 0.15);\n",
              "      fill: #174EA6;\n",
              "    }\n",
              "\n",
              "    .colab-df-buttons div {\n",
              "      margin-bottom: 4px;\n",
              "    }\n",
              "\n",
              "    [theme=dark] .colab-df-convert {\n",
              "      background-color: #3B4455;\n",
              "      fill: #D2E3FC;\n",
              "    }\n",
              "\n",
              "    [theme=dark] .colab-df-convert:hover {\n",
              "      background-color: #434B5C;\n",
              "      box-shadow: 0px 1px 3px 1px rgba(0, 0, 0, 0.15);\n",
              "      filter: drop-shadow(0px 1px 2px rgba(0, 0, 0, 0.3));\n",
              "      fill: #FFFFFF;\n",
              "    }\n",
              "  </style>\n",
              "\n",
              "    <script>\n",
              "      const buttonEl =\n",
              "        document.querySelector('#df-4186f2f7-250d-4ed3-861e-58ed79e1f8ec button.colab-df-convert');\n",
              "      buttonEl.style.display =\n",
              "        google.colab.kernel.accessAllowed ? 'block' : 'none';\n",
              "\n",
              "      async function convertToInteractive(key) {\n",
              "        const element = document.querySelector('#df-4186f2f7-250d-4ed3-861e-58ed79e1f8ec');\n",
              "        const dataTable =\n",
              "          await google.colab.kernel.invokeFunction('convertToInteractive',\n",
              "                                                    [key], {});\n",
              "        if (!dataTable) return;\n",
              "\n",
              "        const docLinkHtml = 'Like what you see? Visit the ' +\n",
              "          '<a target=\"_blank\" href=https://colab.research.google.com/notebooks/data_table.ipynb>data table notebook</a>'\n",
              "          + ' to learn more about interactive tables.';\n",
              "        element.innerHTML = '';\n",
              "        dataTable['output_type'] = 'display_data';\n",
              "        await google.colab.output.renderOutput(dataTable, element);\n",
              "        const docLink = document.createElement('div');\n",
              "        docLink.innerHTML = docLinkHtml;\n",
              "        element.appendChild(docLink);\n",
              "      }\n",
              "    </script>\n",
              "  </div>\n",
              "\n",
              "\n",
              "    <div id=\"df-46c759a8-367c-4527-9077-a158272ab6a5\">\n",
              "      <button class=\"colab-df-quickchart\" onclick=\"quickchart('df-46c759a8-367c-4527-9077-a158272ab6a5')\"\n",
              "                title=\"Suggest charts\"\n",
              "                style=\"display:none;\">\n",
              "\n",
              "<svg xmlns=\"http://www.w3.org/2000/svg\" height=\"24px\"viewBox=\"0 0 24 24\"\n",
              "     width=\"24px\">\n",
              "    <g>\n",
              "        <path d=\"M19 3H5c-1.1 0-2 .9-2 2v14c0 1.1.9 2 2 2h14c1.1 0 2-.9 2-2V5c0-1.1-.9-2-2-2zM9 17H7v-7h2v7zm4 0h-2V7h2v10zm4 0h-2v-4h2v4z\"/>\n",
              "    </g>\n",
              "</svg>\n",
              "      </button>\n",
              "\n",
              "<style>\n",
              "  .colab-df-quickchart {\n",
              "      --bg-color: #E8F0FE;\n",
              "      --fill-color: #1967D2;\n",
              "      --hover-bg-color: #E2EBFA;\n",
              "      --hover-fill-color: #174EA6;\n",
              "      --disabled-fill-color: #AAA;\n",
              "      --disabled-bg-color: #DDD;\n",
              "  }\n",
              "\n",
              "  [theme=dark] .colab-df-quickchart {\n",
              "      --bg-color: #3B4455;\n",
              "      --fill-color: #D2E3FC;\n",
              "      --hover-bg-color: #434B5C;\n",
              "      --hover-fill-color: #FFFFFF;\n",
              "      --disabled-bg-color: #3B4455;\n",
              "      --disabled-fill-color: #666;\n",
              "  }\n",
              "\n",
              "  .colab-df-quickchart {\n",
              "    background-color: var(--bg-color);\n",
              "    border: none;\n",
              "    border-radius: 50%;\n",
              "    cursor: pointer;\n",
              "    display: none;\n",
              "    fill: var(--fill-color);\n",
              "    height: 32px;\n",
              "    padding: 0;\n",
              "    width: 32px;\n",
              "  }\n",
              "\n",
              "  .colab-df-quickchart:hover {\n",
              "    background-color: var(--hover-bg-color);\n",
              "    box-shadow: 0 1px 2px rgba(60, 64, 67, 0.3), 0 1px 3px 1px rgba(60, 64, 67, 0.15);\n",
              "    fill: var(--button-hover-fill-color);\n",
              "  }\n",
              "\n",
              "  .colab-df-quickchart-complete:disabled,\n",
              "  .colab-df-quickchart-complete:disabled:hover {\n",
              "    background-color: var(--disabled-bg-color);\n",
              "    fill: var(--disabled-fill-color);\n",
              "    box-shadow: none;\n",
              "  }\n",
              "\n",
              "  .colab-df-spinner {\n",
              "    border: 2px solid var(--fill-color);\n",
              "    border-color: transparent;\n",
              "    border-bottom-color: var(--fill-color);\n",
              "    animation:\n",
              "      spin 1s steps(1) infinite;\n",
              "  }\n",
              "\n",
              "  @keyframes spin {\n",
              "    0% {\n",
              "      border-color: transparent;\n",
              "      border-bottom-color: var(--fill-color);\n",
              "      border-left-color: var(--fill-color);\n",
              "    }\n",
              "    20% {\n",
              "      border-color: transparent;\n",
              "      border-left-color: var(--fill-color);\n",
              "      border-top-color: var(--fill-color);\n",
              "    }\n",
              "    30% {\n",
              "      border-color: transparent;\n",
              "      border-left-color: var(--fill-color);\n",
              "      border-top-color: var(--fill-color);\n",
              "      border-right-color: var(--fill-color);\n",
              "    }\n",
              "    40% {\n",
              "      border-color: transparent;\n",
              "      border-right-color: var(--fill-color);\n",
              "      border-top-color: var(--fill-color);\n",
              "    }\n",
              "    60% {\n",
              "      border-color: transparent;\n",
              "      border-right-color: var(--fill-color);\n",
              "    }\n",
              "    80% {\n",
              "      border-color: transparent;\n",
              "      border-right-color: var(--fill-color);\n",
              "      border-bottom-color: var(--fill-color);\n",
              "    }\n",
              "    90% {\n",
              "      border-color: transparent;\n",
              "      border-bottom-color: var(--fill-color);\n",
              "    }\n",
              "  }\n",
              "</style>\n",
              "\n",
              "      <script>\n",
              "        async function quickchart(key) {\n",
              "          const quickchartButtonEl =\n",
              "            document.querySelector('#' + key + ' button');\n",
              "          quickchartButtonEl.disabled = true;  // To prevent multiple clicks.\n",
              "          quickchartButtonEl.classList.add('colab-df-spinner');\n",
              "          try {\n",
              "            const charts = await google.colab.kernel.invokeFunction(\n",
              "                'suggestCharts', [key], {});\n",
              "          } catch (error) {\n",
              "            console.error('Error during call to suggestCharts:', error);\n",
              "          }\n",
              "          quickchartButtonEl.classList.remove('colab-df-spinner');\n",
              "          quickchartButtonEl.classList.add('colab-df-quickchart-complete');\n",
              "        }\n",
              "        (() => {\n",
              "          let quickchartButtonEl =\n",
              "            document.querySelector('#df-46c759a8-367c-4527-9077-a158272ab6a5 button');\n",
              "          quickchartButtonEl.style.display =\n",
              "            google.colab.kernel.accessAllowed ? 'block' : 'none';\n",
              "        })();\n",
              "      </script>\n",
              "    </div>\n",
              "\n",
              "    </div>\n",
              "  </div>\n"
            ],
            "application/vnd.google.colaboratory.intrinsic+json": {
              "type": "dataframe",
              "summary": "{\n  \"name\": \"round(df\",\n  \"rows\": 11,\n  \"fields\": [\n    {\n      \"column\": \"show_id\",\n      \"properties\": {\n        \"dtype\": \"category\",\n        \"num_unique_values\": 3,\n        \"samples\": [\n          \"7787\",\n          \"s7787\",\n          \"1\"\n        ],\n        \"semantic_type\": \"\",\n        \"description\": \"\"\n      }\n    },\n    {\n      \"column\": \"type\",\n      \"properties\": {\n        \"dtype\": \"category\",\n        \"num_unique_values\": 4,\n        \"samples\": [\n          2,\n          \"5377\",\n          \"7787\"\n        ],\n        \"semantic_type\": \"\",\n        \"description\": \"\"\n      }\n    },\n    {\n      \"column\": \"title\",\n      \"properties\": {\n        \"dtype\": \"category\",\n        \"num_unique_values\": 3,\n        \"samples\": [\n          \"7787\",\n          \"ZZ TOP: THAT LITTLE OL' BAND FROM TEXAS\",\n          \"1\"\n        ],\n        \"semantic_type\": \"\",\n        \"description\": \"\"\n      }\n    },\n    {\n      \"column\": \"director\",\n      \"properties\": {\n        \"dtype\": \"category\",\n        \"num_unique_values\": 4,\n        \"samples\": [\n          4049,\n          \"18\",\n          \"5398\"\n        ],\n        \"semantic_type\": \"\",\n        \"description\": \"\"\n      }\n    },\n    {\n      \"column\": \"cast\",\n      \"properties\": {\n        \"dtype\": \"category\",\n        \"num_unique_values\": 4,\n        \"samples\": [\n          6831,\n          \"18\",\n          \"7069\"\n        ],\n        \"semantic_type\": \"\",\n        \"description\": \"\"\n      }\n    },\n    {\n      \"column\": \"country\",\n      \"properties\": {\n        \"dtype\": \"category\",\n        \"num_unique_values\": 4,\n        \"samples\": [\n          681,\n          \"2555\",\n          \"7280\"\n        ],\n        \"semantic_type\": \"\",\n        \"description\": \"\"\n      }\n    },\n    {\n      \"column\": \"date_added\",\n      \"properties\": {\n        \"dtype\": \"date\",\n        \"min\": \"1970-01-01 00:00:00.000000118\",\n        \"max\": \"2020-01-01 00:00:00\",\n        \"num_unique_values\": 4,\n        \"samples\": [\n          1565,\n          \"118\",\n          \"7777\"\n        ],\n        \"semantic_type\": \"\",\n        \"description\": \"\"\n      }\n    },\n    {\n      \"column\": \"release_year\",\n      \"properties\": {\n        \"dtype\": \"number\",\n        \"std\": 2256.78950217845,\n        \"min\": 9.0,\n        \"max\": 7787.0,\n        \"num_unique_values\": 8,\n        \"samples\": [\n          2014.0,\n          2017.0,\n          7787.0\n        ],\n        \"semantic_type\": \"\",\n        \"description\": \"\"\n      }\n    },\n    {\n      \"column\": \"rating\",\n      \"properties\": {\n        \"dtype\": \"category\",\n        \"num_unique_values\": 4,\n        \"samples\": [\n          14,\n          \"2863\",\n          \"7780\"\n        ],\n        \"semantic_type\": \"\",\n        \"description\": \"\"\n      }\n    },\n    {\n      \"column\": \"duration\",\n      \"properties\": {\n        \"dtype\": \"category\",\n        \"num_unique_values\": 4,\n        \"samples\": [\n          216,\n          \"1608\",\n          \"7787\"\n        ],\n        \"semantic_type\": \"\",\n        \"description\": \"\"\n      }\n    },\n    {\n      \"column\": \"listed_in\",\n      \"properties\": {\n        \"dtype\": \"category\",\n        \"num_unique_values\": 4,\n        \"samples\": [\n          492,\n          \"334\",\n          \"7787\"\n        ],\n        \"semantic_type\": \"\",\n        \"description\": \"\"\n      }\n    },\n    {\n      \"column\": \"description\",\n      \"properties\": {\n        \"dtype\": \"category\",\n        \"num_unique_values\": 4,\n        \"samples\": [\n          7769,\n          \"3\",\n          \"7787\"\n        ],\n        \"semantic_type\": \"\",\n        \"description\": \"\"\n      }\n    }\n  ]\n}"
            }
          },
          "metadata": {},
          "execution_count": 7
        }
      ]
    },
    {
      "cell_type": "markdown",
      "source": [
        "The **output shows** that the Netflix dataset contains 7787 unique titles—with movies dominating over TV shows—and highlights modern content (median release year around 2017) with significant diversity in fields like director, cast, and genres, though some attributes have missing data."
      ],
      "metadata": {
        "id": "Q3WqCT0KGo6U"
      }
    },
    {
      "cell_type": "markdown",
      "source": [
        "**show_id:** A unique identifier for each Netflix title.\n",
        "\n",
        "**type:** Indicates whether the title is a Movie or a TV Show.\n",
        "\n",
        "**title:** The name of the Netflix title.\n",
        "\n",
        "**director:** The director(s) associated with the title.\n",
        "\n",
        "**cast:** The main cast members featured in the title.\n",
        "\n",
        "**country:** The country or countries where the title was produced.\n",
        "\n",
        "**date_added:** The date when the title was added to Netflix.\n",
        "\n",
        "**release_year:** The year the title was originally released.\n",
        "\n",
        "**rating:** The content rating assigned to the title (e.g., TV-MA, PG).\n",
        "\n",
        "**duration:** The runtime for movies (in minutes) or the number of seasons for TV shows.\n",
        "\n",
        "**listed_in:** The genres or categories under which the title is classified.\n",
        "\n",
        "**description:** A brief synopsis of the title's content."
      ],
      "metadata": {
        "id": "QTLNo6l9Hw2R"
      }
    },
    {
      "cell_type": "markdown",
      "source": [
        "#### Check Unique Values for each variable."
      ],
      "metadata": {
        "id": "zOArhBrGIgnA"
      }
    },
    {
      "cell_type": "code",
      "source": [
        "print('Unique Values in dataset:\\n')\n",
        "print(df.nunique())"
      ],
      "metadata": {
        "colab": {
          "base_uri": "https://localhost:8080/"
        },
        "id": "Ll9GCjDrIidm",
        "outputId": "043cc5b7-5558-4757-c4ed-bdb96ddbfb60"
      },
      "execution_count": null,
      "outputs": [
        {
          "output_type": "stream",
          "name": "stdout",
          "text": [
            "Unique Values in dataset:\n",
            "\n",
            "show_id         7787\n",
            "type               2\n",
            "title           7787\n",
            "director        4049\n",
            "cast            6831\n",
            "country          681\n",
            "date_added      1565\n",
            "release_year      73\n",
            "rating            14\n",
            "duration         216\n",
            "listed_in        492\n",
            "description     7769\n",
            "dtype: int64\n"
          ]
        }
      ]
    },
    {
      "cell_type": "markdown",
      "source": [
        "#### Checking Missing Values/Null Values"
      ],
      "metadata": {
        "id": "5VRJVCWhJTwL"
      }
    },
    {
      "cell_type": "code",
      "source": [
        "# Missing Values/Null Values Count\n",
        "print('Number of missing values in dataset =', df.isnull().sum().sum())"
      ],
      "metadata": {
        "colab": {
          "base_uri": "https://localhost:8080/"
        },
        "id": "ol730IOKJAIR",
        "outputId": "6a624d01-f96f-439d-b3da-352b1e622e40"
      },
      "execution_count": null,
      "outputs": [
        {
          "output_type": "stream",
          "name": "stdout",
          "text": [
            "Number of missing values in dataset = 3631\n"
          ]
        }
      ]
    },
    {
      "cell_type": "code",
      "source": [
        "# Calculate missing values for each column\n",
        "missing_values = df.isnull().sum()\n",
        "\n",
        "# Create a DataFrame for visualization\n",
        "missing_df = pd.DataFrame({'Column names': missing_values.index, 'Missing Values': missing_values.values})\n",
        "\n",
        "# Create a list of random colors\n",
        "num_colors = len(missing_df)\n",
        "colors = [\"#\" + ''.join([random.choice('0123456789ABCDEF') for j in range(6)]) for i in range(num_colors)]\n",
        "\n",
        "# Create a bar chart using Plotly Express with random colors and count numbers\n",
        "fig = px.bar(missing_df, x='Column names', y='Missing Values', title='Missing Values in Dataset',\n",
        "             color='Column names', color_discrete_sequence=colors, text='Missing Values')  # Added text for count numbers\n",
        "\n",
        "# Customize the layout (optional)\n",
        "fig.update_layout(xaxis_tickangle=-45, xaxis_title='Dataset Variables', yaxis_title='Number of Missing Values')\n",
        "fig.update_traces(textposition='outside')  # Position count numbers outside the bars\n",
        "\n",
        "# Show the plot\n",
        "fig.show()"
      ],
      "metadata": {
        "colab": {
          "base_uri": "https://localhost:8080/",
          "height": 542
        },
        "id": "t3nHYzC1JXkf",
        "outputId": "874e7448-9401-4b51-c15a-255748252afa"
      },
      "execution_count": null,
      "outputs": [
        {
          "output_type": "display_data",
          "data": {
            "text/html": [
              "<html>\n",
              "<head><meta charset=\"utf-8\" /></head>\n",
              "<body>\n",
              "    <div>            <script src=\"https://cdnjs.cloudflare.com/ajax/libs/mathjax/2.7.5/MathJax.js?config=TeX-AMS-MML_SVG\"></script><script type=\"text/javascript\">if (window.MathJax && window.MathJax.Hub && window.MathJax.Hub.Config) {window.MathJax.Hub.Config({SVG: {font: \"STIX-Web\"}});}</script>                <script type=\"text/javascript\">window.PlotlyConfig = {MathJaxConfig: 'local'};</script>\n",
              "        <script charset=\"utf-8\" src=\"https://cdn.plot.ly/plotly-2.35.2.min.js\"></script>                <div id=\"bb77726e-df34-40e2-ba24-a5279d7320c2\" class=\"plotly-graph-div\" style=\"height:525px; width:100%;\"></div>            <script type=\"text/javascript\">                                    window.PLOTLYENV=window.PLOTLYENV || {};                                    if (document.getElementById(\"bb77726e-df34-40e2-ba24-a5279d7320c2\")) {                    Plotly.newPlot(                        \"bb77726e-df34-40e2-ba24-a5279d7320c2\",                        [{\"alignmentgroup\":\"True\",\"hovertemplate\":\"Column names=%{x}\\u003cbr\\u003eMissing Values=%{text}\\u003cextra\\u003e\\u003c\\u002fextra\\u003e\",\"legendgroup\":\"show_id\",\"marker\":{\"color\":\"#40BD40\",\"pattern\":{\"shape\":\"\"}},\"name\":\"show_id\",\"offsetgroup\":\"show_id\",\"orientation\":\"v\",\"showlegend\":true,\"text\":[0.0],\"textposition\":\"outside\",\"x\":[\"show_id\"],\"xaxis\":\"x\",\"y\":[0],\"yaxis\":\"y\",\"type\":\"bar\"},{\"alignmentgroup\":\"True\",\"hovertemplate\":\"Column names=%{x}\\u003cbr\\u003eMissing Values=%{text}\\u003cextra\\u003e\\u003c\\u002fextra\\u003e\",\"legendgroup\":\"type\",\"marker\":{\"color\":\"#B82BC7\",\"pattern\":{\"shape\":\"\"}},\"name\":\"type\",\"offsetgroup\":\"type\",\"orientation\":\"v\",\"showlegend\":true,\"text\":[0.0],\"textposition\":\"outside\",\"x\":[\"type\"],\"xaxis\":\"x\",\"y\":[0],\"yaxis\":\"y\",\"type\":\"bar\"},{\"alignmentgroup\":\"True\",\"hovertemplate\":\"Column names=%{x}\\u003cbr\\u003eMissing Values=%{text}\\u003cextra\\u003e\\u003c\\u002fextra\\u003e\",\"legendgroup\":\"title\",\"marker\":{\"color\":\"#9A7FFC\",\"pattern\":{\"shape\":\"\"}},\"name\":\"title\",\"offsetgroup\":\"title\",\"orientation\":\"v\",\"showlegend\":true,\"text\":[0.0],\"textposition\":\"outside\",\"x\":[\"title\"],\"xaxis\":\"x\",\"y\":[0],\"yaxis\":\"y\",\"type\":\"bar\"},{\"alignmentgroup\":\"True\",\"hovertemplate\":\"Column names=%{x}\\u003cbr\\u003eMissing Values=%{text}\\u003cextra\\u003e\\u003c\\u002fextra\\u003e\",\"legendgroup\":\"director\",\"marker\":{\"color\":\"#C2425B\",\"pattern\":{\"shape\":\"\"}},\"name\":\"director\",\"offsetgroup\":\"director\",\"orientation\":\"v\",\"showlegend\":true,\"text\":[2389.0],\"textposition\":\"outside\",\"x\":[\"director\"],\"xaxis\":\"x\",\"y\":[2389],\"yaxis\":\"y\",\"type\":\"bar\"},{\"alignmentgroup\":\"True\",\"hovertemplate\":\"Column names=%{x}\\u003cbr\\u003eMissing Values=%{text}\\u003cextra\\u003e\\u003c\\u002fextra\\u003e\",\"legendgroup\":\"cast\",\"marker\":{\"color\":\"#DA2DBA\",\"pattern\":{\"shape\":\"\"}},\"name\":\"cast\",\"offsetgroup\":\"cast\",\"orientation\":\"v\",\"showlegend\":true,\"text\":[718.0],\"textposition\":\"outside\",\"x\":[\"cast\"],\"xaxis\":\"x\",\"y\":[718],\"yaxis\":\"y\",\"type\":\"bar\"},{\"alignmentgroup\":\"True\",\"hovertemplate\":\"Column names=%{x}\\u003cbr\\u003eMissing Values=%{text}\\u003cextra\\u003e\\u003c\\u002fextra\\u003e\",\"legendgroup\":\"country\",\"marker\":{\"color\":\"#085A3A\",\"pattern\":{\"shape\":\"\"}},\"name\":\"country\",\"offsetgroup\":\"country\",\"orientation\":\"v\",\"showlegend\":true,\"text\":[507.0],\"textposition\":\"outside\",\"x\":[\"country\"],\"xaxis\":\"x\",\"y\":[507],\"yaxis\":\"y\",\"type\":\"bar\"},{\"alignmentgroup\":\"True\",\"hovertemplate\":\"Column names=%{x}\\u003cbr\\u003eMissing Values=%{text}\\u003cextra\\u003e\\u003c\\u002fextra\\u003e\",\"legendgroup\":\"date_added\",\"marker\":{\"color\":\"#69046E\",\"pattern\":{\"shape\":\"\"}},\"name\":\"date_added\",\"offsetgroup\":\"date_added\",\"orientation\":\"v\",\"showlegend\":true,\"text\":[10.0],\"textposition\":\"outside\",\"x\":[\"date_added\"],\"xaxis\":\"x\",\"y\":[10],\"yaxis\":\"y\",\"type\":\"bar\"},{\"alignmentgroup\":\"True\",\"hovertemplate\":\"Column names=%{x}\\u003cbr\\u003eMissing Values=%{text}\\u003cextra\\u003e\\u003c\\u002fextra\\u003e\",\"legendgroup\":\"release_year\",\"marker\":{\"color\":\"#3A0FD0\",\"pattern\":{\"shape\":\"\"}},\"name\":\"release_year\",\"offsetgroup\":\"release_year\",\"orientation\":\"v\",\"showlegend\":true,\"text\":[0.0],\"textposition\":\"outside\",\"x\":[\"release_year\"],\"xaxis\":\"x\",\"y\":[0],\"yaxis\":\"y\",\"type\":\"bar\"},{\"alignmentgroup\":\"True\",\"hovertemplate\":\"Column names=%{x}\\u003cbr\\u003eMissing Values=%{text}\\u003cextra\\u003e\\u003c\\u002fextra\\u003e\",\"legendgroup\":\"rating\",\"marker\":{\"color\":\"#32B5A1\",\"pattern\":{\"shape\":\"\"}},\"name\":\"rating\",\"offsetgroup\":\"rating\",\"orientation\":\"v\",\"showlegend\":true,\"text\":[7.0],\"textposition\":\"outside\",\"x\":[\"rating\"],\"xaxis\":\"x\",\"y\":[7],\"yaxis\":\"y\",\"type\":\"bar\"},{\"alignmentgroup\":\"True\",\"hovertemplate\":\"Column names=%{x}\\u003cbr\\u003eMissing Values=%{text}\\u003cextra\\u003e\\u003c\\u002fextra\\u003e\",\"legendgroup\":\"duration\",\"marker\":{\"color\":\"#CCB33F\",\"pattern\":{\"shape\":\"\"}},\"name\":\"duration\",\"offsetgroup\":\"duration\",\"orientation\":\"v\",\"showlegend\":true,\"text\":[0.0],\"textposition\":\"outside\",\"x\":[\"duration\"],\"xaxis\":\"x\",\"y\":[0],\"yaxis\":\"y\",\"type\":\"bar\"},{\"alignmentgroup\":\"True\",\"hovertemplate\":\"Column names=%{x}\\u003cbr\\u003eMissing Values=%{text}\\u003cextra\\u003e\\u003c\\u002fextra\\u003e\",\"legendgroup\":\"listed_in\",\"marker\":{\"color\":\"#E62A7A\",\"pattern\":{\"shape\":\"\"}},\"name\":\"listed_in\",\"offsetgroup\":\"listed_in\",\"orientation\":\"v\",\"showlegend\":true,\"text\":[0.0],\"textposition\":\"outside\",\"x\":[\"listed_in\"],\"xaxis\":\"x\",\"y\":[0],\"yaxis\":\"y\",\"type\":\"bar\"},{\"alignmentgroup\":\"True\",\"hovertemplate\":\"Column names=%{x}\\u003cbr\\u003eMissing Values=%{text}\\u003cextra\\u003e\\u003c\\u002fextra\\u003e\",\"legendgroup\":\"description\",\"marker\":{\"color\":\"#011F64\",\"pattern\":{\"shape\":\"\"}},\"name\":\"description\",\"offsetgroup\":\"description\",\"orientation\":\"v\",\"showlegend\":true,\"text\":[0.0],\"textposition\":\"outside\",\"x\":[\"description\"],\"xaxis\":\"x\",\"y\":[0],\"yaxis\":\"y\",\"type\":\"bar\"}],                        {\"template\":{\"data\":{\"histogram2dcontour\":[{\"type\":\"histogram2dcontour\",\"colorbar\":{\"outlinewidth\":0,\"ticks\":\"\"},\"colorscale\":[[0.0,\"#0d0887\"],[0.1111111111111111,\"#46039f\"],[0.2222222222222222,\"#7201a8\"],[0.3333333333333333,\"#9c179e\"],[0.4444444444444444,\"#bd3786\"],[0.5555555555555556,\"#d8576b\"],[0.6666666666666666,\"#ed7953\"],[0.7777777777777778,\"#fb9f3a\"],[0.8888888888888888,\"#fdca26\"],[1.0,\"#f0f921\"]]}],\"choropleth\":[{\"type\":\"choropleth\",\"colorbar\":{\"outlinewidth\":0,\"ticks\":\"\"}}],\"histogram2d\":[{\"type\":\"histogram2d\",\"colorbar\":{\"outlinewidth\":0,\"ticks\":\"\"},\"colorscale\":[[0.0,\"#0d0887\"],[0.1111111111111111,\"#46039f\"],[0.2222222222222222,\"#7201a8\"],[0.3333333333333333,\"#9c179e\"],[0.4444444444444444,\"#bd3786\"],[0.5555555555555556,\"#d8576b\"],[0.6666666666666666,\"#ed7953\"],[0.7777777777777778,\"#fb9f3a\"],[0.8888888888888888,\"#fdca26\"],[1.0,\"#f0f921\"]]}],\"heatmap\":[{\"type\":\"heatmap\",\"colorbar\":{\"outlinewidth\":0,\"ticks\":\"\"},\"colorscale\":[[0.0,\"#0d0887\"],[0.1111111111111111,\"#46039f\"],[0.2222222222222222,\"#7201a8\"],[0.3333333333333333,\"#9c179e\"],[0.4444444444444444,\"#bd3786\"],[0.5555555555555556,\"#d8576b\"],[0.6666666666666666,\"#ed7953\"],[0.7777777777777778,\"#fb9f3a\"],[0.8888888888888888,\"#fdca26\"],[1.0,\"#f0f921\"]]}],\"heatmapgl\":[{\"type\":\"heatmapgl\",\"colorbar\":{\"outlinewidth\":0,\"ticks\":\"\"},\"colorscale\":[[0.0,\"#0d0887\"],[0.1111111111111111,\"#46039f\"],[0.2222222222222222,\"#7201a8\"],[0.3333333333333333,\"#9c179e\"],[0.4444444444444444,\"#bd3786\"],[0.5555555555555556,\"#d8576b\"],[0.6666666666666666,\"#ed7953\"],[0.7777777777777778,\"#fb9f3a\"],[0.8888888888888888,\"#fdca26\"],[1.0,\"#f0f921\"]]}],\"contourcarpet\":[{\"type\":\"contourcarpet\",\"colorbar\":{\"outlinewidth\":0,\"ticks\":\"\"}}],\"contour\":[{\"type\":\"contour\",\"colorbar\":{\"outlinewidth\":0,\"ticks\":\"\"},\"colorscale\":[[0.0,\"#0d0887\"],[0.1111111111111111,\"#46039f\"],[0.2222222222222222,\"#7201a8\"],[0.3333333333333333,\"#9c179e\"],[0.4444444444444444,\"#bd3786\"],[0.5555555555555556,\"#d8576b\"],[0.6666666666666666,\"#ed7953\"],[0.7777777777777778,\"#fb9f3a\"],[0.8888888888888888,\"#fdca26\"],[1.0,\"#f0f921\"]]}],\"surface\":[{\"type\":\"surface\",\"colorbar\":{\"outlinewidth\":0,\"ticks\":\"\"},\"colorscale\":[[0.0,\"#0d0887\"],[0.1111111111111111,\"#46039f\"],[0.2222222222222222,\"#7201a8\"],[0.3333333333333333,\"#9c179e\"],[0.4444444444444444,\"#bd3786\"],[0.5555555555555556,\"#d8576b\"],[0.6666666666666666,\"#ed7953\"],[0.7777777777777778,\"#fb9f3a\"],[0.8888888888888888,\"#fdca26\"],[1.0,\"#f0f921\"]]}],\"mesh3d\":[{\"type\":\"mesh3d\",\"colorbar\":{\"outlinewidth\":0,\"ticks\":\"\"}}],\"scatter\":[{\"fillpattern\":{\"fillmode\":\"overlay\",\"size\":10,\"solidity\":0.2},\"type\":\"scatter\"}],\"parcoords\":[{\"type\":\"parcoords\",\"line\":{\"colorbar\":{\"outlinewidth\":0,\"ticks\":\"\"}}}],\"scatterpolargl\":[{\"type\":\"scatterpolargl\",\"marker\":{\"colorbar\":{\"outlinewidth\":0,\"ticks\":\"\"}}}],\"bar\":[{\"error_x\":{\"color\":\"#2a3f5f\"},\"error_y\":{\"color\":\"#2a3f5f\"},\"marker\":{\"line\":{\"color\":\"#E5ECF6\",\"width\":0.5},\"pattern\":{\"fillmode\":\"overlay\",\"size\":10,\"solidity\":0.2}},\"type\":\"bar\"}],\"scattergeo\":[{\"type\":\"scattergeo\",\"marker\":{\"colorbar\":{\"outlinewidth\":0,\"ticks\":\"\"}}}],\"scatterpolar\":[{\"type\":\"scatterpolar\",\"marker\":{\"colorbar\":{\"outlinewidth\":0,\"ticks\":\"\"}}}],\"histogram\":[{\"marker\":{\"pattern\":{\"fillmode\":\"overlay\",\"size\":10,\"solidity\":0.2}},\"type\":\"histogram\"}],\"scattergl\":[{\"type\":\"scattergl\",\"marker\":{\"colorbar\":{\"outlinewidth\":0,\"ticks\":\"\"}}}],\"scatter3d\":[{\"type\":\"scatter3d\",\"line\":{\"colorbar\":{\"outlinewidth\":0,\"ticks\":\"\"}},\"marker\":{\"colorbar\":{\"outlinewidth\":0,\"ticks\":\"\"}}}],\"scattermapbox\":[{\"type\":\"scattermapbox\",\"marker\":{\"colorbar\":{\"outlinewidth\":0,\"ticks\":\"\"}}}],\"scatterternary\":[{\"type\":\"scatterternary\",\"marker\":{\"colorbar\":{\"outlinewidth\":0,\"ticks\":\"\"}}}],\"scattercarpet\":[{\"type\":\"scattercarpet\",\"marker\":{\"colorbar\":{\"outlinewidth\":0,\"ticks\":\"\"}}}],\"carpet\":[{\"aaxis\":{\"endlinecolor\":\"#2a3f5f\",\"gridcolor\":\"white\",\"linecolor\":\"white\",\"minorgridcolor\":\"white\",\"startlinecolor\":\"#2a3f5f\"},\"baxis\":{\"endlinecolor\":\"#2a3f5f\",\"gridcolor\":\"white\",\"linecolor\":\"white\",\"minorgridcolor\":\"white\",\"startlinecolor\":\"#2a3f5f\"},\"type\":\"carpet\"}],\"table\":[{\"cells\":{\"fill\":{\"color\":\"#EBF0F8\"},\"line\":{\"color\":\"white\"}},\"header\":{\"fill\":{\"color\":\"#C8D4E3\"},\"line\":{\"color\":\"white\"}},\"type\":\"table\"}],\"barpolar\":[{\"marker\":{\"line\":{\"color\":\"#E5ECF6\",\"width\":0.5},\"pattern\":{\"fillmode\":\"overlay\",\"size\":10,\"solidity\":0.2}},\"type\":\"barpolar\"}],\"pie\":[{\"automargin\":true,\"type\":\"pie\"}]},\"layout\":{\"autotypenumbers\":\"strict\",\"colorway\":[\"#636efa\",\"#EF553B\",\"#00cc96\",\"#ab63fa\",\"#FFA15A\",\"#19d3f3\",\"#FF6692\",\"#B6E880\",\"#FF97FF\",\"#FECB52\"],\"font\":{\"color\":\"#2a3f5f\"},\"hovermode\":\"closest\",\"hoverlabel\":{\"align\":\"left\"},\"paper_bgcolor\":\"white\",\"plot_bgcolor\":\"#E5ECF6\",\"polar\":{\"bgcolor\":\"#E5ECF6\",\"angularaxis\":{\"gridcolor\":\"white\",\"linecolor\":\"white\",\"ticks\":\"\"},\"radialaxis\":{\"gridcolor\":\"white\",\"linecolor\":\"white\",\"ticks\":\"\"}},\"ternary\":{\"bgcolor\":\"#E5ECF6\",\"aaxis\":{\"gridcolor\":\"white\",\"linecolor\":\"white\",\"ticks\":\"\"},\"baxis\":{\"gridcolor\":\"white\",\"linecolor\":\"white\",\"ticks\":\"\"},\"caxis\":{\"gridcolor\":\"white\",\"linecolor\":\"white\",\"ticks\":\"\"}},\"coloraxis\":{\"colorbar\":{\"outlinewidth\":0,\"ticks\":\"\"}},\"colorscale\":{\"sequential\":[[0.0,\"#0d0887\"],[0.1111111111111111,\"#46039f\"],[0.2222222222222222,\"#7201a8\"],[0.3333333333333333,\"#9c179e\"],[0.4444444444444444,\"#bd3786\"],[0.5555555555555556,\"#d8576b\"],[0.6666666666666666,\"#ed7953\"],[0.7777777777777778,\"#fb9f3a\"],[0.8888888888888888,\"#fdca26\"],[1.0,\"#f0f921\"]],\"sequentialminus\":[[0.0,\"#0d0887\"],[0.1111111111111111,\"#46039f\"],[0.2222222222222222,\"#7201a8\"],[0.3333333333333333,\"#9c179e\"],[0.4444444444444444,\"#bd3786\"],[0.5555555555555556,\"#d8576b\"],[0.6666666666666666,\"#ed7953\"],[0.7777777777777778,\"#fb9f3a\"],[0.8888888888888888,\"#fdca26\"],[1.0,\"#f0f921\"]],\"diverging\":[[0,\"#8e0152\"],[0.1,\"#c51b7d\"],[0.2,\"#de77ae\"],[0.3,\"#f1b6da\"],[0.4,\"#fde0ef\"],[0.5,\"#f7f7f7\"],[0.6,\"#e6f5d0\"],[0.7,\"#b8e186\"],[0.8,\"#7fbc41\"],[0.9,\"#4d9221\"],[1,\"#276419\"]]},\"xaxis\":{\"gridcolor\":\"white\",\"linecolor\":\"white\",\"ticks\":\"\",\"title\":{\"standoff\":15},\"zerolinecolor\":\"white\",\"automargin\":true,\"zerolinewidth\":2},\"yaxis\":{\"gridcolor\":\"white\",\"linecolor\":\"white\",\"ticks\":\"\",\"title\":{\"standoff\":15},\"zerolinecolor\":\"white\",\"automargin\":true,\"zerolinewidth\":2},\"scene\":{\"xaxis\":{\"backgroundcolor\":\"#E5ECF6\",\"gridcolor\":\"white\",\"linecolor\":\"white\",\"showbackground\":true,\"ticks\":\"\",\"zerolinecolor\":\"white\",\"gridwidth\":2},\"yaxis\":{\"backgroundcolor\":\"#E5ECF6\",\"gridcolor\":\"white\",\"linecolor\":\"white\",\"showbackground\":true,\"ticks\":\"\",\"zerolinecolor\":\"white\",\"gridwidth\":2},\"zaxis\":{\"backgroundcolor\":\"#E5ECF6\",\"gridcolor\":\"white\",\"linecolor\":\"white\",\"showbackground\":true,\"ticks\":\"\",\"zerolinecolor\":\"white\",\"gridwidth\":2}},\"shapedefaults\":{\"line\":{\"color\":\"#2a3f5f\"}},\"annotationdefaults\":{\"arrowcolor\":\"#2a3f5f\",\"arrowhead\":0,\"arrowwidth\":1},\"geo\":{\"bgcolor\":\"white\",\"landcolor\":\"#E5ECF6\",\"subunitcolor\":\"white\",\"showland\":true,\"showlakes\":true,\"lakecolor\":\"white\"},\"title\":{\"x\":0.05},\"mapbox\":{\"style\":\"light\"}}},\"xaxis\":{\"anchor\":\"y\",\"domain\":[0.0,1.0],\"title\":{\"text\":\"Dataset Variables\"},\"categoryorder\":\"array\",\"categoryarray\":[\"show_id\",\"type\",\"title\",\"director\",\"cast\",\"country\",\"date_added\",\"release_year\",\"rating\",\"duration\",\"listed_in\",\"description\"],\"tickangle\":-45},\"yaxis\":{\"anchor\":\"x\",\"domain\":[0.0,1.0],\"title\":{\"text\":\"Number of Missing Values\"}},\"legend\":{\"title\":{\"text\":\"Column names\"},\"tracegroupgap\":0},\"title\":{\"text\":\"Missing Values in Dataset\"},\"barmode\":\"relative\"},                        {\"responsive\": true}                    ).then(function(){\n",
              "                            \n",
              "var gd = document.getElementById('bb77726e-df34-40e2-ba24-a5279d7320c2');\n",
              "var x = new MutationObserver(function (mutations, observer) {{\n",
              "        var display = window.getComputedStyle(gd).display;\n",
              "        if (!display || display === 'none') {{\n",
              "            console.log([gd, 'removed!']);\n",
              "            Plotly.purge(gd);\n",
              "            observer.disconnect();\n",
              "        }}\n",
              "}});\n",
              "\n",
              "// Listen for the removal of the full notebook cells\n",
              "var notebookContainer = gd.closest('#notebook-container');\n",
              "if (notebookContainer) {{\n",
              "    x.observe(notebookContainer, {childList: true});\n",
              "}}\n",
              "\n",
              "// Listen for the clearing of the current output cell\n",
              "var outputEl = gd.closest('.output');\n",
              "if (outputEl) {{\n",
              "    x.observe(outputEl, {childList: true});\n",
              "}}\n",
              "\n",
              "                        })                };                            </script>        </div>\n",
              "</body>\n",
              "</html>"
            ]
          },
          "metadata": {}
        }
      ]
    },
    {
      "cell_type": "code",
      "source": [
        "# If missing values are represented as something other than null\n",
        "# replace them with \"not_available\" or appropriate placeholder\n",
        "df[['type', 'title', 'director', 'cast', 'country',\n",
        "    'rating', 'duration', 'listed_in', 'description']] = df[['type', 'title', 'director', 'cast', 'country',\n",
        "    'rating', 'duration', 'listed_in', 'description']].fillna('Not available')\n"
      ],
      "metadata": {
        "id": "uWNdPnYsJQmN"
      },
      "execution_count": null,
      "outputs": []
    },
    {
      "cell_type": "markdown",
      "source": [
        "checking again the missing values"
      ],
      "metadata": {
        "id": "P2Ja4XWRO2yy"
      }
    },
    {
      "cell_type": "code",
      "source": [
        "print(df.isnull().sum())"
      ],
      "metadata": {
        "colab": {
          "base_uri": "https://localhost:8080/"
        },
        "id": "l8CIfZXpNnFI",
        "outputId": "152be1f4-f036-4370-f70a-4256394022c4"
      },
      "execution_count": null,
      "outputs": [
        {
          "output_type": "stream",
          "name": "stdout",
          "text": [
            "show_id          0\n",
            "type             0\n",
            "title            0\n",
            "director         0\n",
            "cast             0\n",
            "country          0\n",
            "date_added      10\n",
            "release_year     0\n",
            "rating           0\n",
            "duration         0\n",
            "listed_in        0\n",
            "description      0\n",
            "dtype: int64\n"
          ]
        }
      ]
    },
    {
      "cell_type": "markdown",
      "source": [
        "Date format in correct way"
      ],
      "metadata": {
        "id": "VtH_3d3wO5-U"
      }
    },
    {
      "cell_type": "code",
      "source": [
        "df['date_added'] = pd.to_datetime(df['date_added'], errors='coerce')"
      ],
      "metadata": {
        "id": "B2paocgbK3dQ"
      },
      "execution_count": null,
      "outputs": []
    },
    {
      "cell_type": "code",
      "source": [
        "print(df.isnull().sum())"
      ],
      "metadata": {
        "colab": {
          "base_uri": "https://localhost:8080/"
        },
        "id": "qUKNtVd2K3Ba",
        "outputId": "7301721e-c99f-4a5f-d212-2d95d24d9fbe"
      },
      "execution_count": null,
      "outputs": [
        {
          "output_type": "stream",
          "name": "stdout",
          "text": [
            "show_id          0\n",
            "type             0\n",
            "title            0\n",
            "director         0\n",
            "cast             0\n",
            "country          0\n",
            "date_added      98\n",
            "release_year     0\n",
            "rating           0\n",
            "duration         0\n",
            "listed_in        0\n",
            "description      0\n",
            "dtype: int64\n"
          ]
        }
      ]
    },
    {
      "cell_type": "markdown",
      "source": [
        "Date column filling with median"
      ],
      "metadata": {
        "id": "MvrkH6g4PC__"
      }
    },
    {
      "cell_type": "code",
      "source": [
        "df['date_added'] = df['date_added'].fillna(df['date_added'].median())"
      ],
      "metadata": {
        "id": "8BY8gQW5K2ur"
      },
      "execution_count": null,
      "outputs": []
    },
    {
      "cell_type": "markdown",
      "source": [
        "checking again for all null values"
      ],
      "metadata": {
        "id": "XxgHCy2xPI5T"
      }
    },
    {
      "cell_type": "code",
      "source": [
        "# Calculate missing values for each column\n",
        "missing_values = df.isnull().sum()\n",
        "\n",
        "# Create a DataFrame for visualization\n",
        "missing_df = pd.DataFrame({'Column names': missing_values.index, 'Missing Values': missing_values.values})\n",
        "\n",
        "# Create a list of random colors\n",
        "num_colors = len(missing_df)\n",
        "colors = [\"#\" + ''.join([random.choice('0123456789ABCDEF') for j in range(6)]) for i in range(num_colors)]\n",
        "\n",
        "# Create a bar chart using Plotly Express with random colors and count numbers\n",
        "fig = px.bar(missing_df, x='Column names', y='Missing Values', title='Missing Values in Dataset',\n",
        "             color='Column names', color_discrete_sequence=colors, text='Missing Values')  # Added text for count numbers\n",
        "\n",
        "# Customize the layout (optional)\n",
        "fig.update_layout(xaxis_tickangle=-45, xaxis_title='Dataset Variables', yaxis_title='Number of Missing Values')\n",
        "fig.update_traces(textposition='outside')  # Position count numbers outside the bars\n",
        "\n",
        "# Show the plot\n",
        "fig.show()"
      ],
      "metadata": {
        "colab": {
          "base_uri": "https://localhost:8080/",
          "height": 542
        },
        "id": "8jUPSMgpOn5i",
        "outputId": "c76c509b-9677-4efa-eafb-2f59c00bcd4f"
      },
      "execution_count": null,
      "outputs": [
        {
          "output_type": "display_data",
          "data": {
            "text/html": [
              "<html>\n",
              "<head><meta charset=\"utf-8\" /></head>\n",
              "<body>\n",
              "    <div>            <script src=\"https://cdnjs.cloudflare.com/ajax/libs/mathjax/2.7.5/MathJax.js?config=TeX-AMS-MML_SVG\"></script><script type=\"text/javascript\">if (window.MathJax && window.MathJax.Hub && window.MathJax.Hub.Config) {window.MathJax.Hub.Config({SVG: {font: \"STIX-Web\"}});}</script>                <script type=\"text/javascript\">window.PlotlyConfig = {MathJaxConfig: 'local'};</script>\n",
              "        <script charset=\"utf-8\" src=\"https://cdn.plot.ly/plotly-2.35.2.min.js\"></script>                <div id=\"b6a121ae-6bfb-4922-a623-a54844b975ae\" class=\"plotly-graph-div\" style=\"height:525px; width:100%;\"></div>            <script type=\"text/javascript\">                                    window.PLOTLYENV=window.PLOTLYENV || {};                                    if (document.getElementById(\"b6a121ae-6bfb-4922-a623-a54844b975ae\")) {                    Plotly.newPlot(                        \"b6a121ae-6bfb-4922-a623-a54844b975ae\",                        [{\"alignmentgroup\":\"True\",\"hovertemplate\":\"Column names=%{x}\\u003cbr\\u003eMissing Values=%{text}\\u003cextra\\u003e\\u003c\\u002fextra\\u003e\",\"legendgroup\":\"show_id\",\"marker\":{\"color\":\"#A127CF\",\"pattern\":{\"shape\":\"\"}},\"name\":\"show_id\",\"offsetgroup\":\"show_id\",\"orientation\":\"v\",\"showlegend\":true,\"text\":[0.0],\"textposition\":\"outside\",\"x\":[\"show_id\"],\"xaxis\":\"x\",\"y\":[0],\"yaxis\":\"y\",\"type\":\"bar\"},{\"alignmentgroup\":\"True\",\"hovertemplate\":\"Column names=%{x}\\u003cbr\\u003eMissing Values=%{text}\\u003cextra\\u003e\\u003c\\u002fextra\\u003e\",\"legendgroup\":\"type\",\"marker\":{\"color\":\"#6F80B5\",\"pattern\":{\"shape\":\"\"}},\"name\":\"type\",\"offsetgroup\":\"type\",\"orientation\":\"v\",\"showlegend\":true,\"text\":[0.0],\"textposition\":\"outside\",\"x\":[\"type\"],\"xaxis\":\"x\",\"y\":[0],\"yaxis\":\"y\",\"type\":\"bar\"},{\"alignmentgroup\":\"True\",\"hovertemplate\":\"Column names=%{x}\\u003cbr\\u003eMissing Values=%{text}\\u003cextra\\u003e\\u003c\\u002fextra\\u003e\",\"legendgroup\":\"title\",\"marker\":{\"color\":\"#6025A7\",\"pattern\":{\"shape\":\"\"}},\"name\":\"title\",\"offsetgroup\":\"title\",\"orientation\":\"v\",\"showlegend\":true,\"text\":[0.0],\"textposition\":\"outside\",\"x\":[\"title\"],\"xaxis\":\"x\",\"y\":[0],\"yaxis\":\"y\",\"type\":\"bar\"},{\"alignmentgroup\":\"True\",\"hovertemplate\":\"Column names=%{x}\\u003cbr\\u003eMissing Values=%{text}\\u003cextra\\u003e\\u003c\\u002fextra\\u003e\",\"legendgroup\":\"director\",\"marker\":{\"color\":\"#699665\",\"pattern\":{\"shape\":\"\"}},\"name\":\"director\",\"offsetgroup\":\"director\",\"orientation\":\"v\",\"showlegend\":true,\"text\":[0.0],\"textposition\":\"outside\",\"x\":[\"director\"],\"xaxis\":\"x\",\"y\":[0],\"yaxis\":\"y\",\"type\":\"bar\"},{\"alignmentgroup\":\"True\",\"hovertemplate\":\"Column names=%{x}\\u003cbr\\u003eMissing Values=%{text}\\u003cextra\\u003e\\u003c\\u002fextra\\u003e\",\"legendgroup\":\"cast\",\"marker\":{\"color\":\"#BA7A2F\",\"pattern\":{\"shape\":\"\"}},\"name\":\"cast\",\"offsetgroup\":\"cast\",\"orientation\":\"v\",\"showlegend\":true,\"text\":[0.0],\"textposition\":\"outside\",\"x\":[\"cast\"],\"xaxis\":\"x\",\"y\":[0],\"yaxis\":\"y\",\"type\":\"bar\"},{\"alignmentgroup\":\"True\",\"hovertemplate\":\"Column names=%{x}\\u003cbr\\u003eMissing Values=%{text}\\u003cextra\\u003e\\u003c\\u002fextra\\u003e\",\"legendgroup\":\"country\",\"marker\":{\"color\":\"#8D73BC\",\"pattern\":{\"shape\":\"\"}},\"name\":\"country\",\"offsetgroup\":\"country\",\"orientation\":\"v\",\"showlegend\":true,\"text\":[0.0],\"textposition\":\"outside\",\"x\":[\"country\"],\"xaxis\":\"x\",\"y\":[0],\"yaxis\":\"y\",\"type\":\"bar\"},{\"alignmentgroup\":\"True\",\"hovertemplate\":\"Column names=%{x}\\u003cbr\\u003eMissing Values=%{text}\\u003cextra\\u003e\\u003c\\u002fextra\\u003e\",\"legendgroup\":\"date_added\",\"marker\":{\"color\":\"#E03BE8\",\"pattern\":{\"shape\":\"\"}},\"name\":\"date_added\",\"offsetgroup\":\"date_added\",\"orientation\":\"v\",\"showlegend\":true,\"text\":[0.0],\"textposition\":\"outside\",\"x\":[\"date_added\"],\"xaxis\":\"x\",\"y\":[0],\"yaxis\":\"y\",\"type\":\"bar\"},{\"alignmentgroup\":\"True\",\"hovertemplate\":\"Column names=%{x}\\u003cbr\\u003eMissing Values=%{text}\\u003cextra\\u003e\\u003c\\u002fextra\\u003e\",\"legendgroup\":\"release_year\",\"marker\":{\"color\":\"#74E43B\",\"pattern\":{\"shape\":\"\"}},\"name\":\"release_year\",\"offsetgroup\":\"release_year\",\"orientation\":\"v\",\"showlegend\":true,\"text\":[0.0],\"textposition\":\"outside\",\"x\":[\"release_year\"],\"xaxis\":\"x\",\"y\":[0],\"yaxis\":\"y\",\"type\":\"bar\"},{\"alignmentgroup\":\"True\",\"hovertemplate\":\"Column names=%{x}\\u003cbr\\u003eMissing Values=%{text}\\u003cextra\\u003e\\u003c\\u002fextra\\u003e\",\"legendgroup\":\"rating\",\"marker\":{\"color\":\"#1E434C\",\"pattern\":{\"shape\":\"\"}},\"name\":\"rating\",\"offsetgroup\":\"rating\",\"orientation\":\"v\",\"showlegend\":true,\"text\":[0.0],\"textposition\":\"outside\",\"x\":[\"rating\"],\"xaxis\":\"x\",\"y\":[0],\"yaxis\":\"y\",\"type\":\"bar\"},{\"alignmentgroup\":\"True\",\"hovertemplate\":\"Column names=%{x}\\u003cbr\\u003eMissing Values=%{text}\\u003cextra\\u003e\\u003c\\u002fextra\\u003e\",\"legendgroup\":\"duration\",\"marker\":{\"color\":\"#8FCE56\",\"pattern\":{\"shape\":\"\"}},\"name\":\"duration\",\"offsetgroup\":\"duration\",\"orientation\":\"v\",\"showlegend\":true,\"text\":[0.0],\"textposition\":\"outside\",\"x\":[\"duration\"],\"xaxis\":\"x\",\"y\":[0],\"yaxis\":\"y\",\"type\":\"bar\"},{\"alignmentgroup\":\"True\",\"hovertemplate\":\"Column names=%{x}\\u003cbr\\u003eMissing Values=%{text}\\u003cextra\\u003e\\u003c\\u002fextra\\u003e\",\"legendgroup\":\"listed_in\",\"marker\":{\"color\":\"#06A7B1\",\"pattern\":{\"shape\":\"\"}},\"name\":\"listed_in\",\"offsetgroup\":\"listed_in\",\"orientation\":\"v\",\"showlegend\":true,\"text\":[0.0],\"textposition\":\"outside\",\"x\":[\"listed_in\"],\"xaxis\":\"x\",\"y\":[0],\"yaxis\":\"y\",\"type\":\"bar\"},{\"alignmentgroup\":\"True\",\"hovertemplate\":\"Column names=%{x}\\u003cbr\\u003eMissing Values=%{text}\\u003cextra\\u003e\\u003c\\u002fextra\\u003e\",\"legendgroup\":\"description\",\"marker\":{\"color\":\"#B80AEB\",\"pattern\":{\"shape\":\"\"}},\"name\":\"description\",\"offsetgroup\":\"description\",\"orientation\":\"v\",\"showlegend\":true,\"text\":[0.0],\"textposition\":\"outside\",\"x\":[\"description\"],\"xaxis\":\"x\",\"y\":[0],\"yaxis\":\"y\",\"type\":\"bar\"}],                        {\"template\":{\"data\":{\"histogram2dcontour\":[{\"type\":\"histogram2dcontour\",\"colorbar\":{\"outlinewidth\":0,\"ticks\":\"\"},\"colorscale\":[[0.0,\"#0d0887\"],[0.1111111111111111,\"#46039f\"],[0.2222222222222222,\"#7201a8\"],[0.3333333333333333,\"#9c179e\"],[0.4444444444444444,\"#bd3786\"],[0.5555555555555556,\"#d8576b\"],[0.6666666666666666,\"#ed7953\"],[0.7777777777777778,\"#fb9f3a\"],[0.8888888888888888,\"#fdca26\"],[1.0,\"#f0f921\"]]}],\"choropleth\":[{\"type\":\"choropleth\",\"colorbar\":{\"outlinewidth\":0,\"ticks\":\"\"}}],\"histogram2d\":[{\"type\":\"histogram2d\",\"colorbar\":{\"outlinewidth\":0,\"ticks\":\"\"},\"colorscale\":[[0.0,\"#0d0887\"],[0.1111111111111111,\"#46039f\"],[0.2222222222222222,\"#7201a8\"],[0.3333333333333333,\"#9c179e\"],[0.4444444444444444,\"#bd3786\"],[0.5555555555555556,\"#d8576b\"],[0.6666666666666666,\"#ed7953\"],[0.7777777777777778,\"#fb9f3a\"],[0.8888888888888888,\"#fdca26\"],[1.0,\"#f0f921\"]]}],\"heatmap\":[{\"type\":\"heatmap\",\"colorbar\":{\"outlinewidth\":0,\"ticks\":\"\"},\"colorscale\":[[0.0,\"#0d0887\"],[0.1111111111111111,\"#46039f\"],[0.2222222222222222,\"#7201a8\"],[0.3333333333333333,\"#9c179e\"],[0.4444444444444444,\"#bd3786\"],[0.5555555555555556,\"#d8576b\"],[0.6666666666666666,\"#ed7953\"],[0.7777777777777778,\"#fb9f3a\"],[0.8888888888888888,\"#fdca26\"],[1.0,\"#f0f921\"]]}],\"heatmapgl\":[{\"type\":\"heatmapgl\",\"colorbar\":{\"outlinewidth\":0,\"ticks\":\"\"},\"colorscale\":[[0.0,\"#0d0887\"],[0.1111111111111111,\"#46039f\"],[0.2222222222222222,\"#7201a8\"],[0.3333333333333333,\"#9c179e\"],[0.4444444444444444,\"#bd3786\"],[0.5555555555555556,\"#d8576b\"],[0.6666666666666666,\"#ed7953\"],[0.7777777777777778,\"#fb9f3a\"],[0.8888888888888888,\"#fdca26\"],[1.0,\"#f0f921\"]]}],\"contourcarpet\":[{\"type\":\"contourcarpet\",\"colorbar\":{\"outlinewidth\":0,\"ticks\":\"\"}}],\"contour\":[{\"type\":\"contour\",\"colorbar\":{\"outlinewidth\":0,\"ticks\":\"\"},\"colorscale\":[[0.0,\"#0d0887\"],[0.1111111111111111,\"#46039f\"],[0.2222222222222222,\"#7201a8\"],[0.3333333333333333,\"#9c179e\"],[0.4444444444444444,\"#bd3786\"],[0.5555555555555556,\"#d8576b\"],[0.6666666666666666,\"#ed7953\"],[0.7777777777777778,\"#fb9f3a\"],[0.8888888888888888,\"#fdca26\"],[1.0,\"#f0f921\"]]}],\"surface\":[{\"type\":\"surface\",\"colorbar\":{\"outlinewidth\":0,\"ticks\":\"\"},\"colorscale\":[[0.0,\"#0d0887\"],[0.1111111111111111,\"#46039f\"],[0.2222222222222222,\"#7201a8\"],[0.3333333333333333,\"#9c179e\"],[0.4444444444444444,\"#bd3786\"],[0.5555555555555556,\"#d8576b\"],[0.6666666666666666,\"#ed7953\"],[0.7777777777777778,\"#fb9f3a\"],[0.8888888888888888,\"#fdca26\"],[1.0,\"#f0f921\"]]}],\"mesh3d\":[{\"type\":\"mesh3d\",\"colorbar\":{\"outlinewidth\":0,\"ticks\":\"\"}}],\"scatter\":[{\"fillpattern\":{\"fillmode\":\"overlay\",\"size\":10,\"solidity\":0.2},\"type\":\"scatter\"}],\"parcoords\":[{\"type\":\"parcoords\",\"line\":{\"colorbar\":{\"outlinewidth\":0,\"ticks\":\"\"}}}],\"scatterpolargl\":[{\"type\":\"scatterpolargl\",\"marker\":{\"colorbar\":{\"outlinewidth\":0,\"ticks\":\"\"}}}],\"bar\":[{\"error_x\":{\"color\":\"#2a3f5f\"},\"error_y\":{\"color\":\"#2a3f5f\"},\"marker\":{\"line\":{\"color\":\"#E5ECF6\",\"width\":0.5},\"pattern\":{\"fillmode\":\"overlay\",\"size\":10,\"solidity\":0.2}},\"type\":\"bar\"}],\"scattergeo\":[{\"type\":\"scattergeo\",\"marker\":{\"colorbar\":{\"outlinewidth\":0,\"ticks\":\"\"}}}],\"scatterpolar\":[{\"type\":\"scatterpolar\",\"marker\":{\"colorbar\":{\"outlinewidth\":0,\"ticks\":\"\"}}}],\"histogram\":[{\"marker\":{\"pattern\":{\"fillmode\":\"overlay\",\"size\":10,\"solidity\":0.2}},\"type\":\"histogram\"}],\"scattergl\":[{\"type\":\"scattergl\",\"marker\":{\"colorbar\":{\"outlinewidth\":0,\"ticks\":\"\"}}}],\"scatter3d\":[{\"type\":\"scatter3d\",\"line\":{\"colorbar\":{\"outlinewidth\":0,\"ticks\":\"\"}},\"marker\":{\"colorbar\":{\"outlinewidth\":0,\"ticks\":\"\"}}}],\"scattermapbox\":[{\"type\":\"scattermapbox\",\"marker\":{\"colorbar\":{\"outlinewidth\":0,\"ticks\":\"\"}}}],\"scatterternary\":[{\"type\":\"scatterternary\",\"marker\":{\"colorbar\":{\"outlinewidth\":0,\"ticks\":\"\"}}}],\"scattercarpet\":[{\"type\":\"scattercarpet\",\"marker\":{\"colorbar\":{\"outlinewidth\":0,\"ticks\":\"\"}}}],\"carpet\":[{\"aaxis\":{\"endlinecolor\":\"#2a3f5f\",\"gridcolor\":\"white\",\"linecolor\":\"white\",\"minorgridcolor\":\"white\",\"startlinecolor\":\"#2a3f5f\"},\"baxis\":{\"endlinecolor\":\"#2a3f5f\",\"gridcolor\":\"white\",\"linecolor\":\"white\",\"minorgridcolor\":\"white\",\"startlinecolor\":\"#2a3f5f\"},\"type\":\"carpet\"}],\"table\":[{\"cells\":{\"fill\":{\"color\":\"#EBF0F8\"},\"line\":{\"color\":\"white\"}},\"header\":{\"fill\":{\"color\":\"#C8D4E3\"},\"line\":{\"color\":\"white\"}},\"type\":\"table\"}],\"barpolar\":[{\"marker\":{\"line\":{\"color\":\"#E5ECF6\",\"width\":0.5},\"pattern\":{\"fillmode\":\"overlay\",\"size\":10,\"solidity\":0.2}},\"type\":\"barpolar\"}],\"pie\":[{\"automargin\":true,\"type\":\"pie\"}]},\"layout\":{\"autotypenumbers\":\"strict\",\"colorway\":[\"#636efa\",\"#EF553B\",\"#00cc96\",\"#ab63fa\",\"#FFA15A\",\"#19d3f3\",\"#FF6692\",\"#B6E880\",\"#FF97FF\",\"#FECB52\"],\"font\":{\"color\":\"#2a3f5f\"},\"hovermode\":\"closest\",\"hoverlabel\":{\"align\":\"left\"},\"paper_bgcolor\":\"white\",\"plot_bgcolor\":\"#E5ECF6\",\"polar\":{\"bgcolor\":\"#E5ECF6\",\"angularaxis\":{\"gridcolor\":\"white\",\"linecolor\":\"white\",\"ticks\":\"\"},\"radialaxis\":{\"gridcolor\":\"white\",\"linecolor\":\"white\",\"ticks\":\"\"}},\"ternary\":{\"bgcolor\":\"#E5ECF6\",\"aaxis\":{\"gridcolor\":\"white\",\"linecolor\":\"white\",\"ticks\":\"\"},\"baxis\":{\"gridcolor\":\"white\",\"linecolor\":\"white\",\"ticks\":\"\"},\"caxis\":{\"gridcolor\":\"white\",\"linecolor\":\"white\",\"ticks\":\"\"}},\"coloraxis\":{\"colorbar\":{\"outlinewidth\":0,\"ticks\":\"\"}},\"colorscale\":{\"sequential\":[[0.0,\"#0d0887\"],[0.1111111111111111,\"#46039f\"],[0.2222222222222222,\"#7201a8\"],[0.3333333333333333,\"#9c179e\"],[0.4444444444444444,\"#bd3786\"],[0.5555555555555556,\"#d8576b\"],[0.6666666666666666,\"#ed7953\"],[0.7777777777777778,\"#fb9f3a\"],[0.8888888888888888,\"#fdca26\"],[1.0,\"#f0f921\"]],\"sequentialminus\":[[0.0,\"#0d0887\"],[0.1111111111111111,\"#46039f\"],[0.2222222222222222,\"#7201a8\"],[0.3333333333333333,\"#9c179e\"],[0.4444444444444444,\"#bd3786\"],[0.5555555555555556,\"#d8576b\"],[0.6666666666666666,\"#ed7953\"],[0.7777777777777778,\"#fb9f3a\"],[0.8888888888888888,\"#fdca26\"],[1.0,\"#f0f921\"]],\"diverging\":[[0,\"#8e0152\"],[0.1,\"#c51b7d\"],[0.2,\"#de77ae\"],[0.3,\"#f1b6da\"],[0.4,\"#fde0ef\"],[0.5,\"#f7f7f7\"],[0.6,\"#e6f5d0\"],[0.7,\"#b8e186\"],[0.8,\"#7fbc41\"],[0.9,\"#4d9221\"],[1,\"#276419\"]]},\"xaxis\":{\"gridcolor\":\"white\",\"linecolor\":\"white\",\"ticks\":\"\",\"title\":{\"standoff\":15},\"zerolinecolor\":\"white\",\"automargin\":true,\"zerolinewidth\":2},\"yaxis\":{\"gridcolor\":\"white\",\"linecolor\":\"white\",\"ticks\":\"\",\"title\":{\"standoff\":15},\"zerolinecolor\":\"white\",\"automargin\":true,\"zerolinewidth\":2},\"scene\":{\"xaxis\":{\"backgroundcolor\":\"#E5ECF6\",\"gridcolor\":\"white\",\"linecolor\":\"white\",\"showbackground\":true,\"ticks\":\"\",\"zerolinecolor\":\"white\",\"gridwidth\":2},\"yaxis\":{\"backgroundcolor\":\"#E5ECF6\",\"gridcolor\":\"white\",\"linecolor\":\"white\",\"showbackground\":true,\"ticks\":\"\",\"zerolinecolor\":\"white\",\"gridwidth\":2},\"zaxis\":{\"backgroundcolor\":\"#E5ECF6\",\"gridcolor\":\"white\",\"linecolor\":\"white\",\"showbackground\":true,\"ticks\":\"\",\"zerolinecolor\":\"white\",\"gridwidth\":2}},\"shapedefaults\":{\"line\":{\"color\":\"#2a3f5f\"}},\"annotationdefaults\":{\"arrowcolor\":\"#2a3f5f\",\"arrowhead\":0,\"arrowwidth\":1},\"geo\":{\"bgcolor\":\"white\",\"landcolor\":\"#E5ECF6\",\"subunitcolor\":\"white\",\"showland\":true,\"showlakes\":true,\"lakecolor\":\"white\"},\"title\":{\"x\":0.05},\"mapbox\":{\"style\":\"light\"}}},\"xaxis\":{\"anchor\":\"y\",\"domain\":[0.0,1.0],\"title\":{\"text\":\"Dataset Variables\"},\"categoryorder\":\"array\",\"categoryarray\":[\"show_id\",\"type\",\"title\",\"director\",\"cast\",\"country\",\"date_added\",\"release_year\",\"rating\",\"duration\",\"listed_in\",\"description\"],\"tickangle\":-45},\"yaxis\":{\"anchor\":\"x\",\"domain\":[0.0,1.0],\"title\":{\"text\":\"Number of Missing Values\"}},\"legend\":{\"title\":{\"text\":\"Column names\"},\"tracegroupgap\":0},\"title\":{\"text\":\"Missing Values in Dataset\"},\"barmode\":\"relative\"},                        {\"responsive\": true}                    ).then(function(){\n",
              "                            \n",
              "var gd = document.getElementById('b6a121ae-6bfb-4922-a623-a54844b975ae');\n",
              "var x = new MutationObserver(function (mutations, observer) {{\n",
              "        var display = window.getComputedStyle(gd).display;\n",
              "        if (!display || display === 'none') {{\n",
              "            console.log([gd, 'removed!']);\n",
              "            Plotly.purge(gd);\n",
              "            observer.disconnect();\n",
              "        }}\n",
              "}});\n",
              "\n",
              "// Listen for the removal of the full notebook cells\n",
              "var notebookContainer = gd.closest('#notebook-container');\n",
              "if (notebookContainer) {{\n",
              "    x.observe(notebookContainer, {childList: true});\n",
              "}}\n",
              "\n",
              "// Listen for the clearing of the current output cell\n",
              "var outputEl = gd.closest('.output');\n",
              "if (outputEl) {{\n",
              "    x.observe(outputEl, {childList: true});\n",
              "}}\n",
              "\n",
              "                        })                };                            </script>        </div>\n",
              "</body>\n",
              "</html>"
            ]
          },
          "metadata": {}
        }
      ]
    },
    {
      "cell_type": "markdown",
      "source": [
        "#### Check for Unusual Characters in all Columns"
      ],
      "metadata": {
        "id": "O76P1iZ9P7Rs"
      }
    },
    {
      "cell_type": "code",
      "source": [
        "# Function to check for unusual characters\n",
        "def check_unusual_chars(text):\n",
        "    # Define a pattern for allowed characters (alphanumeric, spaces, and common punctuation)\n",
        "    pattern = r\"[^a-zA-Z0-9\\s.,!?;:'\\\"()\\[\\]{}]\"\n",
        "    # Find all matches for the pattern\n",
        "    matches = re.findall(pattern, str(text))  # Convert to string to handle non-string values\n",
        "    # Return True if any unusual characters are found, otherwise False\n",
        "    return bool(matches)\n",
        "\n",
        "# Apply the function to all columns\n",
        "for col in df.columns:\n",
        "    unusual_chars_found = df[col].apply(check_unusual_chars).any()\n",
        "    if unusual_chars_found:\n",
        "        print(f\"Unusual characters found in column: {col}\")"
      ],
      "metadata": {
        "colab": {
          "base_uri": "https://localhost:8080/"
        },
        "id": "2gWjgliSOn2I",
        "outputId": "710ee6e8-f466-4a57-fda6-1a371a29a1a1"
      },
      "execution_count": null,
      "outputs": [
        {
          "output_type": "stream",
          "name": "stdout",
          "text": [
            "Unusual characters found in column: title\n",
            "Unusual characters found in column: director\n",
            "Unusual characters found in column: cast\n",
            "Unusual characters found in column: date_added\n",
            "Unusual characters found in column: rating\n",
            "Unusual characters found in column: listed_in\n",
            "Unusual characters found in column: description\n"
          ]
        }
      ]
    },
    {
      "cell_type": "code",
      "source": [
        "# Combine text from all relevant columns\n",
        "all_text = ' '.join(df['title'] + ' ' + df['description'] + ' ' + df['director'] + ' ' + df['cast'] + ' ' + df['listed_in'] + ' ' + df['country'])\n",
        "\n",
        "# Find all unusual characters\n",
        "unusual_chars = re.findall(r\"[^a-zA-Z0-9\\s.,!?;:'\\\"()\\[\\]{}]\", all_text)\n",
        "\n",
        "# Count the frequency of each unusual character\n",
        "char_counts = collections.Counter(unusual_chars)\n",
        "\n",
        "# Create a bar chart with Plotly Express\n",
        "fig = px.bar(x=list(char_counts.keys()), y=list(char_counts.values()),\n",
        "             labels={'x': 'Unusual Characters', 'y': 'Frequency'},\n",
        "             title=\"Frequency of Unusual Characters\")\n",
        "fig.show()"
      ],
      "metadata": {
        "colab": {
          "base_uri": "https://localhost:8080/",
          "height": 542
        },
        "id": "FEWRjboYPOWV",
        "outputId": "5529a33a-60f2-45d5-f1b2-50f644e629e3"
      },
      "execution_count": null,
      "outputs": [
        {
          "output_type": "display_data",
          "data": {
            "text/html": [
              "<html>\n",
              "<head><meta charset=\"utf-8\" /></head>\n",
              "<body>\n",
              "    <div>            <script src=\"https://cdnjs.cloudflare.com/ajax/libs/mathjax/2.7.5/MathJax.js?config=TeX-AMS-MML_SVG\"></script><script type=\"text/javascript\">if (window.MathJax && window.MathJax.Hub && window.MathJax.Hub.Config) {window.MathJax.Hub.Config({SVG: {font: \"STIX-Web\"}});}</script>                <script type=\"text/javascript\">window.PlotlyConfig = {MathJaxConfig: 'local'};</script>\n",
              "        <script charset=\"utf-8\" src=\"https://cdn.plot.ly/plotly-2.35.2.min.js\"></script>                <div id=\"151b8fb8-429d-46b0-aa15-74b4c3be5d88\" class=\"plotly-graph-div\" style=\"height:525px; width:100%;\"></div>            <script type=\"text/javascript\">                                    window.PLOTLYENV=window.PLOTLYENV || {};                                    if (document.getElementById(\"151b8fb8-429d-46b0-aa15-74b4c3be5d88\")) {                    Plotly.newPlot(                        \"151b8fb8-429d-46b0-aa15-74b4c3be5d88\",                        [{\"alignmentgroup\":\"True\",\"hovertemplate\":\"Unusual Characters=%{x}\\u003cbr\\u003eFrequency=%{y}\\u003cextra\\u003e\\u003c\\u002fextra\\u003e\",\"legendgroup\":\"\",\"marker\":{\"color\":\"#636efa\",\"pattern\":{\"shape\":\"\"}},\"name\":\"\",\"offsetgroup\":\"\",\"orientation\":\"v\",\"showlegend\":false,\"textposition\":\"auto\",\"x\":[\"%\",\"ã\",\"é\",\"-\",\"&\",\"á\",\"ş\",\"ç\",\"ğ\",\"ı\",\"Ş\",\"Ö\",\"—\",\"ï\",\"ę\",\"ł\",\"ń\",\"ó\",\"ś\",\"Ø\",\"ø\",\"​\",\"–\",\"#\",\"_\",\"’\",\"แ\",\"ผ\",\"น\",\"ร\",\"้\",\"า\",\"ย\",\"เ\",\"จ\",\"ล\",\"่\",\"ห\",\"์\",\"¡\",\"í\",\"Ç\",\"ü\",\"É\",\"þ\",\"Ó\",\"Á\",\"ú\",\"ð\",\"ö\",\"Þ\",\"İ\",\"Ò\",\"ò\",\"ū\",\"Æ\",\"Ü\",\"ñ\",\"$\",\"“\",\"”\",\"î\",\"ą\",\"ż\",\"Ł\",\"\\u002f\",\"=\",\"・\",\"ê\",\"ô\",\"â\",\"ë\",\"ä\",\"ß\",\"Í\",\"́\",\"å\",\"忍\",\"者\",\"ハ\",\"ッ\",\"ト\",\"リ\",\"く\",\"ん\",\"è\",\"æ\",\"à\",\"È\",\"Ñ\",\"À\",\"‘\",\"*\",\"´\",\"²\",\"海\",\"的\",\"儿\",\"子\",\"Ō\",\"|\",\"Ṣ\",\"ọ\",\"ẹ\",\"ì\",\"ù\",\"Č\",\"Ř\",\"반\",\"드\",\"시\",\"잡\",\"는\",\"다\",\"@\",\"마\",\"녀\",\"사\",\"냥\",\"최\",\"강\",\"전\",\"미\",\"니\",\"특\",\"공\",\"대\",\"영\",\"웅\",\"의\",\"탄\",\"생\",\"+\",\"„\",\"…\",\"Ú\",\"ň\",\"ý\",\"️\",\"‑\",\"û\",\"š\",\"č\",\"ć\",\"õ\",\"¿\",\"Ź\",\"®\",\"ơ\",\"ā\",\"ă\",\"Ż\",\"đ\",\"ÿ\",\"~\",\"Ś\",\"ي\",\"و\",\"م\",\"ا\",\"ل\",\"د\",\"ن\",\"ف\",\"ع\",\"ة\",\"ق\",\"ه\",\"ر\",\"ش\",\"ت\",\"ب\",\"ك\"],\"xaxis\":\"x\",\"y\":[5,32,863,6774,2406,649,92,174,141,260,38,86,183,43,8,68,21,355,14,8,54,9,600,11,4,428,1,1,2,1,3,3,2,2,1,1,1,1,1,1,540,50,348,19,3,14,80,118,8,135,5,55,2,7,2,1,23,173,31,24,29,14,5,8,6,25,1,18,9,30,4,45,32,3,2,5,32,1,1,1,1,1,1,1,1,42,8,18,2,1,6,3,29,1,2,1,1,1,1,1,1,1,1,1,2,2,3,1,1,1,1,1,1,1,2,1,1,2,1,1,1,1,1,1,1,1,1,1,1,1,1,1,3,1,3,5,1,2,2,3,2,3,4,16,1,1,1,1,1,1,2,2,1,1,2,1,2,2,2,6,3,2,1,2,1,2,1,1,2,1,1,2,2],\"yaxis\":\"y\",\"type\":\"bar\"}],                        {\"template\":{\"data\":{\"histogram2dcontour\":[{\"type\":\"histogram2dcontour\",\"colorbar\":{\"outlinewidth\":0,\"ticks\":\"\"},\"colorscale\":[[0.0,\"#0d0887\"],[0.1111111111111111,\"#46039f\"],[0.2222222222222222,\"#7201a8\"],[0.3333333333333333,\"#9c179e\"],[0.4444444444444444,\"#bd3786\"],[0.5555555555555556,\"#d8576b\"],[0.6666666666666666,\"#ed7953\"],[0.7777777777777778,\"#fb9f3a\"],[0.8888888888888888,\"#fdca26\"],[1.0,\"#f0f921\"]]}],\"choropleth\":[{\"type\":\"choropleth\",\"colorbar\":{\"outlinewidth\":0,\"ticks\":\"\"}}],\"histogram2d\":[{\"type\":\"histogram2d\",\"colorbar\":{\"outlinewidth\":0,\"ticks\":\"\"},\"colorscale\":[[0.0,\"#0d0887\"],[0.1111111111111111,\"#46039f\"],[0.2222222222222222,\"#7201a8\"],[0.3333333333333333,\"#9c179e\"],[0.4444444444444444,\"#bd3786\"],[0.5555555555555556,\"#d8576b\"],[0.6666666666666666,\"#ed7953\"],[0.7777777777777778,\"#fb9f3a\"],[0.8888888888888888,\"#fdca26\"],[1.0,\"#f0f921\"]]}],\"heatmap\":[{\"type\":\"heatmap\",\"colorbar\":{\"outlinewidth\":0,\"ticks\":\"\"},\"colorscale\":[[0.0,\"#0d0887\"],[0.1111111111111111,\"#46039f\"],[0.2222222222222222,\"#7201a8\"],[0.3333333333333333,\"#9c179e\"],[0.4444444444444444,\"#bd3786\"],[0.5555555555555556,\"#d8576b\"],[0.6666666666666666,\"#ed7953\"],[0.7777777777777778,\"#fb9f3a\"],[0.8888888888888888,\"#fdca26\"],[1.0,\"#f0f921\"]]}],\"heatmapgl\":[{\"type\":\"heatmapgl\",\"colorbar\":{\"outlinewidth\":0,\"ticks\":\"\"},\"colorscale\":[[0.0,\"#0d0887\"],[0.1111111111111111,\"#46039f\"],[0.2222222222222222,\"#7201a8\"],[0.3333333333333333,\"#9c179e\"],[0.4444444444444444,\"#bd3786\"],[0.5555555555555556,\"#d8576b\"],[0.6666666666666666,\"#ed7953\"],[0.7777777777777778,\"#fb9f3a\"],[0.8888888888888888,\"#fdca26\"],[1.0,\"#f0f921\"]]}],\"contourcarpet\":[{\"type\":\"contourcarpet\",\"colorbar\":{\"outlinewidth\":0,\"ticks\":\"\"}}],\"contour\":[{\"type\":\"contour\",\"colorbar\":{\"outlinewidth\":0,\"ticks\":\"\"},\"colorscale\":[[0.0,\"#0d0887\"],[0.1111111111111111,\"#46039f\"],[0.2222222222222222,\"#7201a8\"],[0.3333333333333333,\"#9c179e\"],[0.4444444444444444,\"#bd3786\"],[0.5555555555555556,\"#d8576b\"],[0.6666666666666666,\"#ed7953\"],[0.7777777777777778,\"#fb9f3a\"],[0.8888888888888888,\"#fdca26\"],[1.0,\"#f0f921\"]]}],\"surface\":[{\"type\":\"surface\",\"colorbar\":{\"outlinewidth\":0,\"ticks\":\"\"},\"colorscale\":[[0.0,\"#0d0887\"],[0.1111111111111111,\"#46039f\"],[0.2222222222222222,\"#7201a8\"],[0.3333333333333333,\"#9c179e\"],[0.4444444444444444,\"#bd3786\"],[0.5555555555555556,\"#d8576b\"],[0.6666666666666666,\"#ed7953\"],[0.7777777777777778,\"#fb9f3a\"],[0.8888888888888888,\"#fdca26\"],[1.0,\"#f0f921\"]]}],\"mesh3d\":[{\"type\":\"mesh3d\",\"colorbar\":{\"outlinewidth\":0,\"ticks\":\"\"}}],\"scatter\":[{\"fillpattern\":{\"fillmode\":\"overlay\",\"size\":10,\"solidity\":0.2},\"type\":\"scatter\"}],\"parcoords\":[{\"type\":\"parcoords\",\"line\":{\"colorbar\":{\"outlinewidth\":0,\"ticks\":\"\"}}}],\"scatterpolargl\":[{\"type\":\"scatterpolargl\",\"marker\":{\"colorbar\":{\"outlinewidth\":0,\"ticks\":\"\"}}}],\"bar\":[{\"error_x\":{\"color\":\"#2a3f5f\"},\"error_y\":{\"color\":\"#2a3f5f\"},\"marker\":{\"line\":{\"color\":\"#E5ECF6\",\"width\":0.5},\"pattern\":{\"fillmode\":\"overlay\",\"size\":10,\"solidity\":0.2}},\"type\":\"bar\"}],\"scattergeo\":[{\"type\":\"scattergeo\",\"marker\":{\"colorbar\":{\"outlinewidth\":0,\"ticks\":\"\"}}}],\"scatterpolar\":[{\"type\":\"scatterpolar\",\"marker\":{\"colorbar\":{\"outlinewidth\":0,\"ticks\":\"\"}}}],\"histogram\":[{\"marker\":{\"pattern\":{\"fillmode\":\"overlay\",\"size\":10,\"solidity\":0.2}},\"type\":\"histogram\"}],\"scattergl\":[{\"type\":\"scattergl\",\"marker\":{\"colorbar\":{\"outlinewidth\":0,\"ticks\":\"\"}}}],\"scatter3d\":[{\"type\":\"scatter3d\",\"line\":{\"colorbar\":{\"outlinewidth\":0,\"ticks\":\"\"}},\"marker\":{\"colorbar\":{\"outlinewidth\":0,\"ticks\":\"\"}}}],\"scattermapbox\":[{\"type\":\"scattermapbox\",\"marker\":{\"colorbar\":{\"outlinewidth\":0,\"ticks\":\"\"}}}],\"scatterternary\":[{\"type\":\"scatterternary\",\"marker\":{\"colorbar\":{\"outlinewidth\":0,\"ticks\":\"\"}}}],\"scattercarpet\":[{\"type\":\"scattercarpet\",\"marker\":{\"colorbar\":{\"outlinewidth\":0,\"ticks\":\"\"}}}],\"carpet\":[{\"aaxis\":{\"endlinecolor\":\"#2a3f5f\",\"gridcolor\":\"white\",\"linecolor\":\"white\",\"minorgridcolor\":\"white\",\"startlinecolor\":\"#2a3f5f\"},\"baxis\":{\"endlinecolor\":\"#2a3f5f\",\"gridcolor\":\"white\",\"linecolor\":\"white\",\"minorgridcolor\":\"white\",\"startlinecolor\":\"#2a3f5f\"},\"type\":\"carpet\"}],\"table\":[{\"cells\":{\"fill\":{\"color\":\"#EBF0F8\"},\"line\":{\"color\":\"white\"}},\"header\":{\"fill\":{\"color\":\"#C8D4E3\"},\"line\":{\"color\":\"white\"}},\"type\":\"table\"}],\"barpolar\":[{\"marker\":{\"line\":{\"color\":\"#E5ECF6\",\"width\":0.5},\"pattern\":{\"fillmode\":\"overlay\",\"size\":10,\"solidity\":0.2}},\"type\":\"barpolar\"}],\"pie\":[{\"automargin\":true,\"type\":\"pie\"}]},\"layout\":{\"autotypenumbers\":\"strict\",\"colorway\":[\"#636efa\",\"#EF553B\",\"#00cc96\",\"#ab63fa\",\"#FFA15A\",\"#19d3f3\",\"#FF6692\",\"#B6E880\",\"#FF97FF\",\"#FECB52\"],\"font\":{\"color\":\"#2a3f5f\"},\"hovermode\":\"closest\",\"hoverlabel\":{\"align\":\"left\"},\"paper_bgcolor\":\"white\",\"plot_bgcolor\":\"#E5ECF6\",\"polar\":{\"bgcolor\":\"#E5ECF6\",\"angularaxis\":{\"gridcolor\":\"white\",\"linecolor\":\"white\",\"ticks\":\"\"},\"radialaxis\":{\"gridcolor\":\"white\",\"linecolor\":\"white\",\"ticks\":\"\"}},\"ternary\":{\"bgcolor\":\"#E5ECF6\",\"aaxis\":{\"gridcolor\":\"white\",\"linecolor\":\"white\",\"ticks\":\"\"},\"baxis\":{\"gridcolor\":\"white\",\"linecolor\":\"white\",\"ticks\":\"\"},\"caxis\":{\"gridcolor\":\"white\",\"linecolor\":\"white\",\"ticks\":\"\"}},\"coloraxis\":{\"colorbar\":{\"outlinewidth\":0,\"ticks\":\"\"}},\"colorscale\":{\"sequential\":[[0.0,\"#0d0887\"],[0.1111111111111111,\"#46039f\"],[0.2222222222222222,\"#7201a8\"],[0.3333333333333333,\"#9c179e\"],[0.4444444444444444,\"#bd3786\"],[0.5555555555555556,\"#d8576b\"],[0.6666666666666666,\"#ed7953\"],[0.7777777777777778,\"#fb9f3a\"],[0.8888888888888888,\"#fdca26\"],[1.0,\"#f0f921\"]],\"sequentialminus\":[[0.0,\"#0d0887\"],[0.1111111111111111,\"#46039f\"],[0.2222222222222222,\"#7201a8\"],[0.3333333333333333,\"#9c179e\"],[0.4444444444444444,\"#bd3786\"],[0.5555555555555556,\"#d8576b\"],[0.6666666666666666,\"#ed7953\"],[0.7777777777777778,\"#fb9f3a\"],[0.8888888888888888,\"#fdca26\"],[1.0,\"#f0f921\"]],\"diverging\":[[0,\"#8e0152\"],[0.1,\"#c51b7d\"],[0.2,\"#de77ae\"],[0.3,\"#f1b6da\"],[0.4,\"#fde0ef\"],[0.5,\"#f7f7f7\"],[0.6,\"#e6f5d0\"],[0.7,\"#b8e186\"],[0.8,\"#7fbc41\"],[0.9,\"#4d9221\"],[1,\"#276419\"]]},\"xaxis\":{\"gridcolor\":\"white\",\"linecolor\":\"white\",\"ticks\":\"\",\"title\":{\"standoff\":15},\"zerolinecolor\":\"white\",\"automargin\":true,\"zerolinewidth\":2},\"yaxis\":{\"gridcolor\":\"white\",\"linecolor\":\"white\",\"ticks\":\"\",\"title\":{\"standoff\":15},\"zerolinecolor\":\"white\",\"automargin\":true,\"zerolinewidth\":2},\"scene\":{\"xaxis\":{\"backgroundcolor\":\"#E5ECF6\",\"gridcolor\":\"white\",\"linecolor\":\"white\",\"showbackground\":true,\"ticks\":\"\",\"zerolinecolor\":\"white\",\"gridwidth\":2},\"yaxis\":{\"backgroundcolor\":\"#E5ECF6\",\"gridcolor\":\"white\",\"linecolor\":\"white\",\"showbackground\":true,\"ticks\":\"\",\"zerolinecolor\":\"white\",\"gridwidth\":2},\"zaxis\":{\"backgroundcolor\":\"#E5ECF6\",\"gridcolor\":\"white\",\"linecolor\":\"white\",\"showbackground\":true,\"ticks\":\"\",\"zerolinecolor\":\"white\",\"gridwidth\":2}},\"shapedefaults\":{\"line\":{\"color\":\"#2a3f5f\"}},\"annotationdefaults\":{\"arrowcolor\":\"#2a3f5f\",\"arrowhead\":0,\"arrowwidth\":1},\"geo\":{\"bgcolor\":\"white\",\"landcolor\":\"#E5ECF6\",\"subunitcolor\":\"white\",\"showland\":true,\"showlakes\":true,\"lakecolor\":\"white\"},\"title\":{\"x\":0.05},\"mapbox\":{\"style\":\"light\"}}},\"xaxis\":{\"anchor\":\"y\",\"domain\":[0.0,1.0],\"title\":{\"text\":\"Unusual Characters\"}},\"yaxis\":{\"anchor\":\"x\",\"domain\":[0.0,1.0],\"title\":{\"text\":\"Frequency\"}},\"legend\":{\"tracegroupgap\":0},\"title\":{\"text\":\"Frequency of Unusual Characters\"},\"barmode\":\"relative\"},                        {\"responsive\": true}                    ).then(function(){\n",
              "                            \n",
              "var gd = document.getElementById('151b8fb8-429d-46b0-aa15-74b4c3be5d88');\n",
              "var x = new MutationObserver(function (mutations, observer) {{\n",
              "        var display = window.getComputedStyle(gd).display;\n",
              "        if (!display || display === 'none') {{\n",
              "            console.log([gd, 'removed!']);\n",
              "            Plotly.purge(gd);\n",
              "            observer.disconnect();\n",
              "        }}\n",
              "}});\n",
              "\n",
              "// Listen for the removal of the full notebook cells\n",
              "var notebookContainer = gd.closest('#notebook-container');\n",
              "if (notebookContainer) {{\n",
              "    x.observe(notebookContainer, {childList: true});\n",
              "}}\n",
              "\n",
              "// Listen for the clearing of the current output cell\n",
              "var outputEl = gd.closest('.output');\n",
              "if (outputEl) {{\n",
              "    x.observe(outputEl, {childList: true});\n",
              "}}\n",
              "\n",
              "                        })                };                            </script>        </div>\n",
              "</body>\n",
              "</html>"
            ]
          },
          "metadata": {}
        }
      ]
    },
    {
      "cell_type": "code",
      "source": [
        "# Create a word cloud from the unusual characters\n",
        "wordcloud = WordCloud(width=800, height=400, background_color='white').generate_from_frequencies(char_counts)\n",
        "\n",
        "# Convert the word cloud image to bytes\n",
        "img_bytes = io.BytesIO()\n",
        "wordcloud.to_image().save(img_bytes, format='PNG')\n",
        "img_bytes.seek(0)\n",
        "\n",
        "# Encode the image bytes as base64\n",
        "encoded_image = base64.b64encode(img_bytes.read()).decode('ascii')\n",
        "\n",
        "# Display the word cloud using Plotly's Image object with the encoded image\n",
        "fig = go.Figure(data=[go.Image(source='data:image/png;base64,' + encoded_image)]) # Modified line\n",
        "fig.update_layout(title=\"Word Cloud of Unusual Characters\")\n",
        "fig.show()"
      ],
      "metadata": {
        "colab": {
          "base_uri": "https://localhost:8080/",
          "height": 542
        },
        "id": "Cbr7wFUwPOSR",
        "outputId": "49601931-a6f9-4147-c395-5b2e43c7ac4c"
      },
      "execution_count": null,
      "outputs": [
        {
          "output_type": "display_data",
          "data": {
            "text/html": [
              "<html>\n",
              "<head><meta charset=\"utf-8\" /></head>\n",
              "<body>\n",
              "    <div>            <script src=\"https://cdnjs.cloudflare.com/ajax/libs/mathjax/2.7.5/MathJax.js?config=TeX-AMS-MML_SVG\"></script><script type=\"text/javascript\">if (window.MathJax && window.MathJax.Hub && window.MathJax.Hub.Config) {window.MathJax.Hub.Config({SVG: {font: \"STIX-Web\"}});}</script>                <script type=\"text/javascript\">window.PlotlyConfig = {MathJaxConfig: 'local'};</script>\n",
              "        <script charset=\"utf-8\" src=\"https://cdn.plot.ly/plotly-2.35.2.min.js\"></script>                <div id=\"c279bde6-39e4-406f-9464-1614667416cd\" class=\"plotly-graph-div\" style=\"height:525px; width:100%;\"></div>            <script type=\"text/javascript\">                                    window.PLOTLYENV=window.PLOTLYENV || {};                                    if (document.getElementById(\"c279bde6-39e4-406f-9464-1614667416cd\")) {                    Plotly.newPlot(                        \"c279bde6-39e4-406f-9464-1614667416cd\",                        [{\"source\":\"data:image\\u002fpng;base64,iVBORw0KGgoAAAANSUhEUgAAAyAAAAGQCAIAAADZR5NjAADO50lEQVR4nOzddVhbVxsA8HPjCQkEd3coVigUSkvd3XXtts7Xbe3ct2\\u002fu69Zp22nd3R1aoLS4uwUIGveb+\\u002f1BRylFQuwm4fye7\\u002fme5N5z733blfDmyHsQDMMABEEQBEEQpD8kvAMwFDWGERAE7yggCBrROAJBVUcnACDZxxt+IukFt4VfX9cOAIgb44cQ4F8pZLoIeAegT0KFvFbQxREJAAC7y3KFCjneEUEQNKIVt7aO8\\u002fZSY5gSRfGOxUJUVrSMjvPF1JhSBf9KIZNmUT1YKkytQNGbTXUuViw5ispQFQtQ8Q4KsjS3m9d2ybKdraZHO32PdyyQGSASCLDvSr+IRALsu4JMn0UlWLZUui2VHmTrcINT60S3cqRb4R0RZGmEitIuWTYAwMt6Dd6xQBAEQabLooYIe0xw95nvF4p3FJAFqhP8CwBgUYLtaGPwjgUyA1Kl6mJlZXZTE96BWA65THUztay4kIN3IBA0BASuIoQgDSnQrusNk9WYPNzhIw\\u002fWErzD6V9Lu6CW0wkAiI+Es6ohYygT3u5StLjRA70YI\\u002fprrRrDlNj9aWFUgkUNEEFagP8CIEhTjcKDakxOJrBdmXPwjmVA5bWt42L8MgvqVCqUQoY\\u002f4JBhCZQdTJKtPcVNrBLI1VIqgY53RLi51VaFYRiCIACAvK6G54In4R0RhDP4+QvhRq5WoWp17yMMEgWvYIaEYWiDcC8AwMN6GRGh4R3OYIhEOKsaMpJqUS6JQBllMz6X9w+daOVE88Y7IjwlOfkTEQIAQKFW4R0LhD+YYEG42V5xzZfp2PP2dnv1h1GLcIxncFzJJZmKiwCiF2sl3rFAEGRy\\u002fFgO17nl3a9lKgW+wUCmACZYEG6caTZz3KN63kpM+yOpXrALAOBkNYVGcsU7lsHI5MobdyrLaltHh3ngHQtk+QgISY2hAACxio93LDhzo7Pd6Gy8o4BMCEywINxIVPIaUVvP2w65CMdgBidUlHbJ7gIAvK3X4h3LEKaPCwUATIgLwDsQaETwYoQe42xtkdXwFK14xwJBpgWuIoRwUy5oESilvY\\u002fE2fviFczgCtvf5giPsijBSe5H8Y4FgkwLBjA1hhIR+HUdgh4AfyQg3ARZu+AdgkaUal6z6AwAwNt6Hd6xQJDJQQACsysIephlFhqFID1qEBww\\u002feoMEARBkEmBCRYEDQYDaINwHwDAw3oZAYFbW0IQBEEagQkWBA2mVXxZpmpBANGLtQrvWCAIgiCzAQfOof5hGHhk54G7tRwAwKLR4Z8sno53RPjo3nzQyWoKjWQeM8YgCIIgUwATLKh\\u002fezJzu7MrAMCxnKJZEcHJgSOuRrNQUfZfdQY4vR0AAFBMfbuzOK0tr1LU2C7nS1EZCSExSDQXmp0Xw3mUjX+8fRibzMQ7TAiCIPzBMg1QP\\u002fIamh\\u002fZcVCJosviIhq7+OlV9XZW9IPPrHFls\\u002fAOzagK29\\u002fhCI+wKCFJ7kfwjgV\\u002fFcKGr8v21IqbB2lDQAhvhq6b4BhjtKggCIJME5yDBfXVzBM+v\\u002fuEEkWXj4n8YMHUn9YuSPT36hRLn911TKJQ4h2d8SjVvJZ71RlMvbioEVSKGl\\u002fN29aTXbHJzDBr3xjboFBrH3uKTU8zBIAIG1jjFIIgCA4RQg95ce\\u002fJLrH0xalJT01MAADQyKRfH1n4wfHLR7OL\\u002fnfi8udLZ+IdoJE0Cg6imIxCtDW16gwfv7wv7VKRFZP225FNDs7Wxnno9+X7pagcABDE8nwuYGmI9QPjxXylOI9XcbM9n4gQbCkjq5sTgiCoX3CIEIL6gQH0RsN0marZj\\u002f1koO1LeIdzX0Vx0wurf8Uw7L3vVidNDjXOQxsk3I1ZnwEAmCT6XwnvskgM4zwXgsyFvOtplews3lEMiGZ\\u002fiEgZg3cUIw7swYKgfiCAmOJ5Ge8o+sLU2M+fn8Iw7NEXphktuwIAcKTt3S8i2AEwu4IgCNIETLCgfhQ1cQ\\u002fcLsiqbeQKRAAAF2tmor\\u002fX2sQYHwdbvEMb0S4czy7Ja9i4ZcbS9cn4RAA7vCEIgjQDEyzoAaga+\\u002fLs9V0ZOb1\\u002fk9a0d9W0d+3PKnhxatLGCSO0n\\u002fmdNb\\u002fcvV7y6g\\u002frJi\\u002fG7W9gxqLYGYtijf9cN7pD94tCfrUMVdCIFOPHAJkybn17fQkHABA3LRIhIHiHA0EmASZY0AM+OnnlQFY+AMDP0W5VQlSAk70aw8q57Xsy8ho6ed9eSEPV6u7J79DI4cVwdqc7cqRtQpXkm7K9r4asphDIeAcFmZCq3NqE2TF3LxYoFSoKDf7bgCAAYIIF9Xazsq47uxoX4P3T2gUUErH7eKK\\u002f14oxkU\\u002f+feROLefHy+nJQT7hbs64RoobNWrUMTKpRLEo8SNvf6ffjmwquFN74K\\u002fUsoJGiUjOtreKGuO3+skUd28H40TyuN+8\\u002fxX9AQC40ZZTJWpc6zNzgmM0CSEa5+mQ6SOSiLDvCoJ6g3WwoPv+TLsLACARCR8vnt6TXXWjkUmfLJ5OQBA1hm2\\u002fnoVTgDioK2\\u002fe9uaBx5M\\u002fyr5RCgD4ZvOu1THvvLzo+z8+PVFZ0GCcGDj1HRdP5Ly28Y87NytodDLditLOFVw+lfv8ql\\u002frq1uNE8M4h8in\\u002fBciAAEAcKRtX5T8uzbjw9+rjlWJOMYJAIIgyLzAHizoHplSdbumAQAQ7+vpbN3PbieeduxoL7fsOk5qRa0KVZOIlp+dH\\u002f7tyh+fnlCj6t4Hu9oEXW2C4qzqgz9f+urwi6MS\\u002fPu9tqVNUNfYAQAYE+1DQHT6Zq9Sot++d3TS7MgnXp5pa88EABTl1n+8ZW9Xh+jvbZff\\u002fdZIu1Av9pgYzPL+ufJwpagRANClEBxuvHa48Zo\\u002f032eW\\u002fJU5zFkAvw8uadD0dEsbQIAhNuM6s5Kh6VJwq8StgEAxjn56\\u002fiPxzhkEvmtE3cqc2ujUsLwjgWCTIXl\\u002f46ENFTZ2qFC1QCAUFfHgdp0n5IqlFVtncaLDCe3zuXv+OiYGlXTragLH5\\u002foE+wKAJj\\u002f6IRH35yXPCeaxqD4j\\u002fLok11xxPwbzVU3mqvUGFZR0xoX6a3GMJUK1T2YwDC3Vz9e0p1dAQDCo71WPTERAJCbWa37zTUXbuP7U+wrH0U8meQQ0TM+WCXifF++f8Ptj9Pa8owZjCmrl9SFWYdhAFOpVVpcXsJvTnLywzBMqdbDPx4jmLxyXNL8uEfeWwonYEFQD8v5xtnRKfrkm9NFJU2ODqyXnpkaF+PT++yvf14\\u002ffT4fADBnRuTTj6bgE6Jp40lk3S9sGfSB2tha0f9rLDVGTLg69MtlAACFRt566hXPQOd31vxSW9YcHOPdvYpQLlXw2kV9LinmtUx2C0xtqe7+vUgkEvTV\\u002fTBjUWyfCS6BYW4AALFIppCrKFSj\\u002fiDH24XF24XxleLrrdlnmtNrxE0AgHY576PiP1d7T1\\u002fvM9uYwZgsAkLUou+qBxEhIObQdwVB0EAsJ8HafTDzbm4dAKCB0\\u002fnVj+f3\\u002f\\u002fFUz6mi0qa9hzK7X+89lDkhKSgs2BWfKM3BILO4R1Td\\u002f9rSJgBAWJyvZ2A\\u002fM\\u002fqpdIqzp93Dx4kIgaDDr9WB+DwUA93qXq0E9MERTKOxIVvNdx8\\u002f3318Tlf5juoT3eOGe+ouhLJ84u31OU605aXdeXn1gzQ4cuwlG5sBvxVAkBGQrDYSaab71YJAeqCvXf1g5yiVaDmZgEmxnL\\u002fW5hZez2tuKx9F1cT\\u002fJgk1NfN6t2xq7oIJ1sPs\\u002fuud6hRLBmrTJb7XcdXTlWXBiCQiAEAh12aIBwAgkytTb1eWV3NjRnnqHoyVFVX3mxhIjG3QD6O3\\u002fK9oZ0ZHEQDgcONVPSZYeXn1g2dX0THe1tYm969RoVbk8LLrJXXBrBAtLpeqlJebS4t5LfEOPvoODTIIIiUO7xCGIbW+To1h3f3r2S1NmxOS8I7IMvVNsIQS+VtbT4YHuAIAiiqbv9y8gG6AMXUM5WCqSgAAgTpeX\\u002fPA3F3vFxl3cbIh9pqC7e72QP3xPm+hboHO9jQySaZUlTS3DdSmuLkVAEAjk\\u002fwc+um8sTBBUV7ZN0pL7tYUZlYNNJO9D6lKdZFTVtTFTXDynjY+FAAwPj5AP9GY9mARESE84b+wO8EqEdTq8c7\\u002f\\u002fJ02yFkrK+obb8w1wZG0BLuxAIAY9mjtLp\\u002frGQEAmOKqTXIGQZqY4OVNJBAAAHJUy++Q0JD66cEaG+mzZk4cAGD36TsGeiqmLCLQpqjlqQBTAkQ\\u002fX81XL0uoqm0rLm1ysGdueW5671Nhwa6rlyacOp8HAJg3Mzo0CHZf9YNMJCYH+lwqrsyqaWzhC11sWH0a1Hfw8hqaAQCJ\\u002ft4jYQnhsmen5qSWYWrszZXbZq8dx+\\u002fsO+PqYfO9wwEA09yDDR+dyXGnOyAAwQAmVytVGKqXElmFBY25OXWDNHjhxemOTta6PwjqF0cgqOrsBAAke3ubxWJGSEMBdnaXa++tj5GqlPgGY8FwHCIk6vdbuZ2t1Xefrhjo7FOPpjxlbnPbOUJBZWcnAGC8l5E+3Z6YMOZKSRWqVr915MKv6xb2LoUlU6rePnoBwwCCgMfHm1NnuNaik4O2fLtm21sH5FLFiT9vdB8syKgaPSGE7dA3+4S6FEIMYAAAKxJNXwVId+y4NsjZlIkhU6eN0suDoH4Vt7ZO9vNLratToiiVZDnzSSB3lrU7C34zMTjL74cwX0VtrcmeXmrdlmqfqik9W1uuYeMID5dnJo0FAGRU1S\\u002fa9u+u9JzM6obM6oa\\u002fb2Uv+PHfu7UcAMCGcbGjvd20jkdHRbfKV3k9s8z1ybuX8nsOnvrt4gLbDRsjXm6tb9fv46Yui\\u002f\\u002f92ttz1iXTGPdmlJ\\u002fbc2td3HvfbN7V2mj5hSp6YIOtfLjnGOdeDhpho9Fw6pBu3qwoyB+wlKu7u+3mLbP08iBoEESC3lbCQtBIg9OXEkymll1QK4sJlLH4BGAmdP90k6lUxOHsX\\u002fHc5LFkIuHHy+k17V2fnr7W+xQBQR4fH\\u002ffStGRd4tHRyV\\u002fOt3M6AQDHfjgbOzWy++C+L45LBNK64sar+26ueG2Bfp\\u002fo5G77\\u002fGfLN7678I0VP5bl1AEAVCr00sHbqadyX\\u002fl+bfKcaP0+zjR9V7ZPoVaNc4iMZAfYkK36nO1Q8PfXXz7+X4K1yGOi7k9Uq7Ed268OdJbBoHz0yVIWi6b7gyAIggwEnwSLQJ8PACDQpg\\u002fZcrgqa1rT0ivyixobOV18gVShVNFpZCdHaz8fx4RYv5RxQbQRUwevpLP149tXW6UiBCCHKgrfiZ8UauekyYVPpsRPDQvYlZ6bXlXHFYgQBHG2Zib4ea5KiApyNtLOdwPqSTd7553IQ2f1jcagMK0ZAIDH3prPaxce3XFNLlV88dzfHv5OPiG49ecZjQxVXG\\u002fLudp6FwDgQGV70B2ZZAYJIUpQWYu0o0HS2tPFtcprWjQ7UPcnnjmTV1\\u002fX0e8pBAFvvDXf21ibMI5kUqXqYmVlUWtrgocH3rFA0D1qZalakQoQBoa2kJnP62satyH0k2Bl5NcKJXIAQFFl8+IpUUYPSUvFZc2\\u002f7LyaX9TY57hYoqipa6+pa798vWTrb5dWL0lYsWQMmWQGm9RKVcoL1ZVFba1jtfp0C7Vz2j1zxaGKQiIBWeQfPqxr\\u002fRzt3ps\\u002fWYuHGtr8Z6bnXStSKdFFL9wfHlr5+sLtr+9y9LCfvHKcoQOwd7FZ9uxUv3CPr1\\u002f8V6VCT\\u002f6VuunzAWf+6Y7OoJzL+6jfUz4BzgOd0jtSrz1w2uW8djnv4TYsEmOj\\u002f\\u002fyZLnrokxYKZX\\u002fuvD7Q2fUbJowbp4ccDhrS\\u002fNAQAMC0AD2thIUgvcB4ROpkhOSPSo8BYNJbHSCWUTryn33pf+5KU2v2ZwkOdPn47UVOjiNinvLdVg4BQWIcLb+XxdDeWfPL3eslr\\u002f6wrruS+7LwN0R8SXi839dHXsI7NINDMfXdrtI8XmWlsKFV3sVTiBRqJQYwOpFqR7HxZ7rF2oUkO0TRifr5Kvn9d+dOnsjp99ScudFbXoZTryBo5FIrMhCCY3eCRaRNBwgD74gGZAkLQ37afuXAsWFUlCiraHnh9T0\\u002ffrnacQSsBYt1csc7BAukRtUKuRIAQKZYwk\\u002fQkIgIoXt7nJ4jfKVofeZHBITww+jN+sqrupWXt5w6mdvvqUmTwzZvmanHZ0EQBBmO2f96OH0hv092RSAgiWP8p08O93C3ZVsz2juENXXtpy8WFPQaPWzm8t\\u002f55Ni2r1abxVghZHyc6tbyvPpxs6Ie3rwWw7B\\u002fvzmjkCkBACGjfXAIzgTsqbsgReVLPSfpN7tSq7HvvzvXb7d6UlLgm2\\u002fNg9vzQdCIUsfpFIhkEcFmOQhj3glWe4do2+9Xeh9xsGN+9M6i3jvhONgzQ4JcZ02LuHKj9IutZ2Wye0XVSsubdx\\u002fI2LDa4LN2IP2qzKm9sjct+3JBe2OHmC9h2THdAlzipkXO3jjFzlVvNfo7uPwvN\\u002f1DoZEjEwODorwc3W07W\\u002fkAgEsHbx\\u002f86VJtWTMAgO3Amm9uxdX0gq8UnW1OBwDsqbvQIGndFLiUSdJPL\\u002f3+fRllpc0PH4+L833vg0XEEVDeFoKg3q5klK+Y3XdHBFR2ChAc1Mo8ogGWyumRec\\u002fB+uqHc6fO36+HZM2i7fhxg7PjgPXTcvLrt7y1v2eqFplM3LfzKQd7psEDhfRBIpT+8NzOK3vS+v1HS2VQN3y4fOmWuXp5VmFm1atLtg7SwDvI9Y1fNviM1E0tBUrxRW7W3zWn5WrlZKfY10PX6X7P+rqOJ5\\u002fYqVT2nbU6cVLom2\\u002fNI8HOZlyhynwC0RUhOBr0Kds+PXlq\\u002f22mNX370RdsHcz7k\\u002flKQVVubRMCgLu9zfKkSLzDMT8iifzfY7cbmrvCAlzWLojHOxxtmPE3wi6e+Pzlot5HXntx1iDZFQAgJtJr9bKEnrdKJbr\\u002fyG1DxQfplaBD+MrkDy\\u002fvTu3OrqgMamCsX8SEUM9gt+5hI7lE\\u002ftur\\u002f\\u002f780l96edyoBP8vD72w8PGJIaN9bB1ZPXOtXLzsp68Y+97OJ3659MaIza4AANZkqyUeE5d4TgIA5PMr9XLPb74+83B2tXBR7DvvLoDZFb4U4t0Y2i4X\\u002fYapuwz3lHau4PzRbADA5g8Wmnt2dSSjUKFSAQAYVEpRfQtfIvv1fAbeQZkZJoP6zOrxIoncTLMrYNZDhBevlShV9z+OQ4JcxycOvXh7zfKxx07niMTy7rfnLhc++WgKnIll+r569OeK7BoAgLU969nv1qcsTyKR7\\u002f1Xa2vs2PHGnit70wAAR388GxwfMGW1HqqhRowNiBh7f4F69yrCda\\u002fM7l5FCAmU4nxeJQCARepbelQ79fV9C19teHTCukfgID7+1Gg9xWoNBmRqVTWREmugp+z47rxSoVr1RMq4KWFDtzZtdW1dayfENHbwZ0QH7b+ZTyISxDIF3kFBxmbGCdaNWw\\u002fsALNsgUY\\u002f9gw6ZerEsGOn7y0CFwhlWXdrkhJgoReTdv1gesbpbAAAzYr6zdUPfMIfKAzm6GH\\u002f5q5NSrky9UgmAGDnW3tSliX2pF+QfhXyqz8r+YeAEDrkPBRTAwCWeU7Sy52PHn9JL\\u002feB9I5ETZKLtmFoG9n6TQM9oiSv4drZ\\u002fKUbktc\\u002fP9VAjzAmX2e7sqZ2AoL8dDadbUXLq2n2cmTjHRRkbOY6RCiVKopLm3rekkiE5LGa1h7s0zLjTrU+I4MM4NC3p7pfLH5xTp\\u002fsqscjHyzvftHW0HH7bP9VlCDdkRCiDFV0yHnWZGaCffgnEU9PcYZdehaORE0hkkfRrN8EiKG2JwqN8jyX99HGzTMMdH8jWxgfzhNLO0VSJxsrEpHY0MFbmginYeGM2yq4faf69p1qDUtm6s5ce7DKKrkoqu55GxrkqvkeOBHh7gQColbf+yt+uPg7ZFLaGjtKb9+b5TN51YADRj7hHnYu7M4WHgAg92pR0vw4\\u002fYbx8e5n+hzpkFc1irPIBLpY1Tba\\u002fhEiQtHvE01TiLX34XGf4h0FZGwk6ngAYK\\u002fwMMyNC50bF4p3FGZMJJHvOp7V0Mzbdfy2XqZhVVRyExP8s7JrVEqUYpQShuaaYFXVtPZ+Gxnuqfm1NCrZ29O+pq69+21dQ4dMrqRRR8oehWan8GZZ9wsqg+oVOljdVHt3u+4Eq7mqxQiByVGhNzOJTfGqEFxQYygRVmiCLJlBsqtDf6ft+Pb8QGc3vTN\\u002fzjLYPzpCMRnUp1clP71KDxNqexCJBIIRa+mZa4LV2PTAYhYPt+EVQPJ0t+tJsNRqjNPE8\\u002fc17PJjSGs92ZJcIp9OWqnJJYJOkSEjgiBIn0gkIoPZT8VaCtVcf0NBEDDfBIvbKuj91tXFZliX99mIsKkFJlimS9gpHu4lSoXKEJFAEGQIUfG+n\\u002fyyHu8oIAsnkyvTblVUVHGjI72M80RzTbB4fEnvt4OXv3qYne0DC8s7u4b9Kxwymp7JdnQmLSReo\\u002fWenua5r8KIJRTKigobi4oaGxs6m5p5XZ1iqVQpkylIJCKdTmay6G5ubA8Pu9BQt6hoL4cRsIUoBEF6N3VSGAAgOUnT9XC6M9cESyiS935Lpw9vBpUV44HuaIFQqoeYIMOwtruXDVs7sL68+C6+wfRRJbxCJ9q2ykp8mOPxjsX8CIWya1dLLl8uKixo6HdZj0KhUihUfL6U09iZdbv6KAAAgIAA52nTR02dNorN1s\\u002f+PBAEQYZgrgmWXKHs\\u002fZY6zCnqfZYc9mxQCJkgJy+H7hcdTV1KuZJsMssR3BjRboxoAEAYWIB3LGaGx5McPJB54ni2RDLs6ouVldzKSu4fO2\\u002fMXzB65aqxMM2CIMg0mWsdLFSl7v2WOswll6QHd43tXREeMjVRKeHdL1QKVUFaKb7BQDrCMHDmdN76db\\u002ft25uhRXbVQy5XHjyQuX7db2fP5OkxPAiCIH0x1x4sHfUUwYJMn7OPY+Bo3+59cg5\\u002fe2r0lAi8I4K0JBTKPvn4eNZtvZX2FYlkX391Ji21\\u002fK135ltZ9bMMDTILd29VzozqO\\u002fpPo1OOZZjWlAAIGhZz7cEikh6IXCYf3qox+YOrzOBehCZuzduLu1\\u002fcPpe7\\u002f8vjgzfmtwkGbwDhoqGh47ln\\u002ftJjdtUjI6Py+Wf\\u002f5nAMuA8xZFAkEtGazXj4f3jHBUE6MdcerD51QRUKpRVjGHW0ZfIHJl1pXgUewsW4hfGTVyV3b+e84809RbfKF780OzwxqGc+lqhLXFvUkHe9OP3kHWs71qdnDLVjGqSdxsbOlzfv6egwVH2y+vqOzS\\u002fu+m7rWnf34ZXEg0wBLNMAWSRzTbCsWQ9siSWRKGzZVgM1flifWe3WLLp+woIMZsv2p0RdotvncgEA6SfvpJ+8QyQRWXZMIokgEUilIllPy7jpUbhFCfWnvV245aXdQ2ZXZDIxJNQtONjVzY3NYtGpNLJSoRKJ5c1NXTXVbQUFjRKJfJDLOzpEW17ave2nRxydhle0BRdqDHvt0rkGvgDF1AuCQ9dFRuMdEQRBemauCRbb5oHeY26bwH04xdxb24S93\\u002fYpiwWZICqd8vHJN\\u002fZ8dvTAVyckQikAAFWhvFZ+n2YIARl8Ox3IyJRK9P13jwyeXfn4OCxdHj9xYiidPmA\\u002fNIqqb2dWHTt6986dmoHatLcL333n8NYf11FNvgJ4VVcnRyDYv3QFRyh45vQJmGBBkOUx9Y+hgbg4PVC6vZnb9xft4Foe\\u002fMXs7srWPSTI0BACsubtxfOfmX5pd2r2pYKawnp+m0ApV9GZNAcPO+9Qj8gJoWPnxvaUdYBMwW+\\u002fXiktbRroLI1GfurpyfPmxyBDbRBGJBISkwITkwKzs2u\\u002f\\u002fvIMd4Af+YqKlq3fn3\\u002ft9Tk6Ba0\\u002fCrXqr5pz11pzhCppMMvz6YD5AUx3AIBMpbKm0sQKxasXz300aSreYUIQpH\\u002fmmmC5u7F7v20c5vzWll6fzgQCMqzeLwhfLDvmok2zFm2a1e\\u002fZq+cKHlv16697n\\u002fHwsjdyYNDDios5x47eHeisvT3zi69W+g5zl6rRo31+3\\u002fHYu28fys9v6LfB+XP5EyeGxCf4Dy9Ww\\u002fil8tgJzq1Itv9ousPV1pzN2dt2xL\\u002fmTLv3gdMkEspVKl82\\u002fPyBIAtkrqsIA\\u002fyce78tKG7U\\u002fFqBUNrA6ex56+vtMNwyWpDJmjQz4pmXZ2395CTegUAAw8B335zD+q3RDoC1Nf2779cMN7vqxmTSvvhqZVj4gGPB3357Tj7MlcWGgGLqM02ZkWz\\u002f72KeeyVkxeuhqySo\\u002fGTTrZ4GgXb2z40Z+8ixQ6XtbTjGCUGQIZhrYhHo70QmEXsKhJaUN8tkSg0XA+YVNvb+zI8a5WmICCG8zFkcO2dxLN5RQODG9dLq6taBzr7z7gJ3Dzutb06hkD76eOnjj27n8SQPn21rFZw4fnfZ8gSt768XHXK+CkODWfc+YUKtvQEAzdKOngYqtXqyr59IIT9UXPTOhIm4BGkK8m7XLE\\u002f57OHjT7w8c9r8GOPHA0F6Ya49WDQqObzXXGaVSp2WUaHhtTcfbJkQ66fPyCC8ffne0bnjPpbqUCUc0otd\\u002f94c6NTsOVGxcb463p\\u002fNZrzw4oyBzu7bm4H7Flh2VGsSQqwVt3S\\u002fLRHUAQDc6PcHr3\\u002fKylhz5MCfudkzAjTaxdxSqVSogCd5+H8KE+iGhCCtmWsPFgBgQlJgbkF9z9tDx+9OnRg25FUCofTyjfvbrdhY0+NifAwRHoQLlRLNSC1z87DLuFE2aaauNd\\u002fVGKZE72+jRCWZ8c+LkRUXcwbqvqJQSBsenaCXp6RMDAnZ79bvJHoeT3L5UtGcudF6eZB2SAhxpmv8qab0N\\u002fJ+d6DaXG3NoREpc92SAAARTs6\\u002fzYVbWIKl65OXrk\\u002fGOwoIMghz7cECAExJCSWT71dgLylvTk0fuhNr14EMRa8y7rOnR5JIZvyXAPVxN6OKyaJPmhlx43Kx7ndLq6tLb2jIbGzMbGz85fZt3W84cpw\\u002fmz\\u002fQqWnTR9nbM\\u002fX1oFWrEwc6deY0\\u002ftsUPhu4cLnXpDoJ93pbXjDL67uY53tmuEMQZNnM+Bs524Yxa2rEibO5PUe+3HouJNDF0YE10CXZeXUHj97peUujklcsijNokJCR3bhcHJfoHzvWf8+OG1KJgj6c+v79Gu\\u002ftTSQQAAByFRyt0BSGYampZQOdnTVbn5VgE5MCbG2turrED58qLW3iNHbqMtNLd1QC+Sn\\u002feU\\u002f5z8MxBgiCcGHenTfrVyf13iFHIJQ+8\\u002fKussqWfhtfvlHy5odH1L3mtz+yKnFY9d8hE6dSohk3yuISAwJD3BhMakZquY439Lezu1JdfbGy8mJlpRQmWBorL2vh86X9nnJwYIWGuunxWUQiIWlc4EBnMzOr9PgsCIIgzZlxDxYAwMGOuenJKZ9\\u002ff7bnSFu78Jktu8YlBEyfHO7uyrZm0Ts6RdW1bacv5BcUc3pfGxHusXJxvNFDhgwoO7NaJlXExPshCIhLDEi9XDxpxihdbuhube1ubQb7rpiau3cHLLY+Jl7\\u002fa0oSxgacPpXb76nbmdWLl4zR+xM10S7n32jLz+4qrxY18RQiFKhZJIYXw2mMXchct0QWGe5kDEEWzrwTLADArGkR1XXtB45m9RxBUfWNW+U3bg3We+HlYffRWwuIRPPuwDNZ1aKyG+3nN\\u002fi8YOTnpl4uVqnUC\\u002f9b702lkvQySggNV2lp80CnwgcuXqW1Qe5ZUjJgEXmD+rf2wr+1F1BM3ftgl0LYpRDm8aoONV7\\u002fIuqp7pLuEARZKrNPsAAAz22cxGLS\\u002ftyVph6gpGEfEWHuH7290IIHB8u47Tcr6xgUcotA9ExK\\u002fAhZ+6ZSqW\\u002fdKH1q84xxk0K63z675tfbNytSpoXjHdqIU1U1YPmroGBXvT+OzWY4OVm3tgoePiUSyZqbea5G3wsrgOmOYmoakRJrGzzKxseFbo9hWL2Ee5Jzq0Mh4ClE\\u002fyv856+E1wkI\\u002fI4HQRbLQn71PrIyMS7a++edV\\u002fuMA\\u002fZhzaKtXZ64dEGsZfdd8aWyicG+fg52J\\u002fJKUPUDSWdzp6CmpRMAMDbUmzDU7m86xaDs\\u002fLv2xw5FawgrcrbrMsM9qEfO7WqZVDl9bjTTmtZ9JCE56MalIphgGZlcruS28Po9hSDAwzBTzj087fpNsAAA1VWtxk+wxjqEvRm2JtkhgkZ8oAN1iWfKk1lfN0s7ONK2PF5VjO2As8cgCDJ3FpJgAQDCQty2fbWmooqbml5RUMxp4HQKBFKlCqXTyE6O1oF+zvGxvhPGBY3wXXFKG9omRPiml9SpVCiFbMC\\u002fCqlK8kLg+wCAb8veibUd50zT57zmft24VBQ71r8nuwIATJw+6vN3DsukShpdoxL\\u002fkF60tQkH6kq2s2NSqQb5V+fmZpt9t7bfUwNtC21QCECmOveznQCDSF3lNeXbsgMAgEoRB8cES4LKVGoVAICAIEySxXbnQxCOLC3bCPR3DvR3HrrdCEYkEAzad9XNieaKAAQA4ErzbFdwjZBgvfxe37KNSRNDTqS9bejnQn20twkHOmVrZ6hf5La2A965tXXAeHDhy7w3SCpU9rPJj3ZutGVdac2oFXOkqMyD4ZJkHzPDZTyTNNg8+tfzvmqUtgAAXGmOP8d+oK9IIAjqYWkJFmQiWmQcNaZGEKRJVj+VOh\\u002fvcCDj4fEHzBusrekGeqiNzYB37uwUGeih2mGS7oXaZwq8dhRq5Rel27O7inqOVIsaqkUNRxovLPaYvtB9KhEhPnxVp4LPkXK7X7vQHHQPA4Kgh8EEyzKdKSx3sGLkc1qmhj6wx5lMobyaV1Xa2BoX6GHQAKyIzL9rf+xStodZxzhRDd59BZkO+cA7ADIMtqKTTh\\u002fwznI5bjsSlgsbMzuKq0RNrbIuvlIsQxVytVKu1mc835f\\u002f1Tu76iFBZbvqTlxrvf1c4JoQVt\\u002fSGNdaMzFwbxzXg+Gix3ggCOoBEywLFO\\u002fjEe\\u002fjAQBYOSayz6lZY0IAAJOi\\u002fA0dgw3FzvhlGiBTIB94g14SsZ\\u002feFL0gUwa88yDxGE69hPt16f4ifm3vg0SEQCVSmCS6QNlP3Xkt3OksTO\\u002fIHaRBo7TlrfxvZ7pOWO01p2eiVZu88yjnYk+bUOsRvc80BBkOTLAgCNInFB1w5Mtwq3cHSd1USnSgUwbSIuvcdPcHkUoKAIizC57qHBvE8nSksRlEKgCgUsR5KusbvTzocOP5IdtgADvbfD21LWumy\\u002fhodmirvGNv\\u002fWmR6t4wLhEhjrK5P9E+n1ddLmwEAMxwHcMiGWo8F4JGCJhgQfrnxwz2YwbjHQWEj95bsPehQg2V66hUA96ZbPSFw3\\u002fXnOvOrtb5TN\\u002fgO7PPWVStn7+EFll7qbC6560nw3W55yw22bqQX36+JZWnfGBqv0glOdR4\\u002ftBDCdkYu1EsuIQQggwDJlgQBOkTZeBCDAN1JpULuDdbqxgkClcqeCp4ApUw7M8l5cDdVMavzJLLqwIAkBDiKu8pD5\\u002flyrv08pQ8XmnPayeq\\u002facRW7qXDY6yCVzoPu0o58KRxosqbLDhUQQgi9yn9T4SyfaLZOt\\u002fLyNIO2VlzY6O1unpFXPmROMdC6QNmGBB+idDxQcbPvegBwMAGqVlK7zephBoQ14FWQYabcD55iKxvN\\u002fjfIV0okuQL9PhZEM+qlZrsQe9eIA7AwCMXwVNisoBAGQCiUro59FXuTl6eUpZr+6rNd7zehdloBEpq7zmjnOI\\u002falyV7mwdqA7zHQdH8Ty1UswkN6dOJHj7Gx95kze7NlReMcCacmSC5pDOApgjp7kvHaS89oA5mi8Y4GMyt5+wCEngUBqoIcOcmc7O6aBHjoQV5odAECKyksEdX1OneTcutGWr5enNEru1VmgESmJ9tEPN\\u002fBiuH4e+crjvkut+ptNlewQ+7ivMbZYgLTT0sJPSPCPjfVVqfRQzgPCBezBgqCRTo1hyl6zo3TcvNLR0XqgU50dhipJ1THwnR0cjJ1gTXSK6Z4q\\u002fn7hn2u8pwUy3YkIoUHadqnlblZnaZi1d7moUaXzTKxWeUf3i2CWH7m\\u002frjIAAAKQuW6TJjmNPddyI639LkfayiDS\\u002fJle05zHjbWH\\u002fSImLTrGa8+e9M4u8RMbJ+IdC6QlmGBB0EiXVlOnxrDu+v45Tc0vJifqcjd7eyaJROx31jmfL5VI5AwGVZf796upacCJTU5ONnp\\u002f3OAWe4y\\u002f01ma3VXRIRf8UH6496kItt+nERtfzfu1VFCv41N+HP0uhmEAAMoA2VUPKxJ9iceMJR4zdHwiZEzxY\\u002fxGx\\u002fiQSHCUyYzBBAuCIDDe15tIIAAA5Dov9CMSCT6+DpUV3H7PNtR3Boe4Pnz8LKfQnsos6OJMcQ3R4qGNDZ0DnfL1c9TihrogE0ifRz11qunWJW52rbhFgSqZZLqfletEp5jZrgkIgoRZ++ieYMHVfxYPZlfmDiZYEDTS+TvYXamq6X4tVeqhznhggMtACVZZWfPDCdYYB58xDj4AgBU+cVo8rqNDNNAQIYNBcXOz1eKeOiIihAXuyQvck\\u002fs9+1zgwucCFxo3IsvRIO7bW+lphcN\\u002fYkiPqkTV\\u002fyv+BO8owB9jthMRfSa1MMGCDKJSlC1DxQCARmlZrN0svMOBBuNube1uPeDEKS2ER7ifPZvX76nCwsb5C\\u002fS87qGosHGgU8HBrobf2RwyqmP1fVcJbApNwSUSw8mt4EQGuBHgv10zBxMsSP9oRKt1Ph\\u002fhHcUwqNUCBCEjCCxdrR\\u002fx8QPuxXQnqxrDMESvvzkyM6sGOhU3ZsRVdUIxdSG\\u002fPJdXUiNubJK2ilQSuVpBJ1KZJCsWycqf6RlmHTDKJsiOYuypafpieenUw8rr2yL8XQFMsMwcTLCgkQ4Dqnbem3RqMstqFd6xWAh7e2ZAgHNlZT+jhHy+NDe3PibGW1\\u002fPUqnQ9FsVA52NG2NRdZ6OcS79XXu0520kO\\u002fjD8Ps7fqow1amma6earnYoeH0uFKukYpWUC9orRXXnW9KICCHZIW6xxzQvBtyIHYIMBc6hg0Y6vvB3FmO5UlWJoq14x2I5pk0fNdCps6f7Hz3Uzs20Cj6\\u002f\\u002fyJYnp72AQHOenyWqakW3R8brZc0vZTz6d+1Rx\\u002fOrh6GYurrbbc3537We9dnCIL0CyZY0EiHok10WgqDNlWmuIt3LJZj6rRRJFL\\u002fmxJeu1YySFWF4dq3N32gU7NmR+rrKaZJpBJ3V8Mq4le8nv81R9r\\u002fwoKBqDH1P7XHfqj4xzDRQdAwEBAC7v\\u002fT+4gsHCIcuToFkqqm9jEhXngHgjMMYAAANSZFELifj96w2YzJU8IunC94+BSKqndsv\\u002fbe+4t0f8qVy8Xl5S39nqJSSdNnROj+CBNXLWqUoYpPS36VoQNuFjS4q62Zvlae89wm6TcwCNKcP9PvzzHb8Y5C\\u002f2CCNUKp1djFrLIgL6eeCpMjFoM2qZP\\u002fsRoT2dv8b7jXVgs7strq8zubaoSdTRI+XyGVoSo1hjFIZDqJwqbQPKzYnlbsAGvHGHuPIBvHEfVXve6RcZcvFaFoPxt9XL9WemNi6YQUbUpe9eDxJD9tG3CEa9780ba2ll8pKo9Xsr\\u002fhtASV9T5oS7GJsw33Y3rZkFlMEkOKyjoV\\u002fGJB5d3OIgnaz3Dq37VHo9ghXox+6pNBuIgJcifotV4AhAukuxYwNNLsuXjXx8WORCLGh470HiwAAAZUyHC+bHTJJfurcw7X5tUIB6xv+TArEiXJ2XeGR8hkt0Br8ojoLfvh+\\u002fPHj2f3e4pOp\\u002fywbZ2fn5N2d1YoVC9v2VNcxBno5v\\u002fsetrOztISrD6T3B\\u002fmTLN\\u002f1GdJvH0kAvpJ5cUq6eHG88c4l7p7bXub4pT4fOBafcYKQSMezJFHqDAfl8ySehc7Ft6BmATNsyupSvl94fUJp378uuDqsLIrAIBYpbjIKXsl8\\u002fiXeVeGH6NZ2vjkRAeH\\u002fv+NSaWKlzfvKS1t0uK2Eon8jdf3D5RdAQAe35hiednVkOLtIn+MeTfBPqrf7AoAYEWiP+KzsN9E6kZ7lkBpqJ0iIWhkggnWCBUd6P70gqQ9F7MFYtnQrSEAAAAFnc1zL2zfVpwqRXUqd77cL1pPEZk6BoO65ZVZA42LCgTSFzft2r8vQ6XqZxhxIHl59U9s\\u002fCMvd8CtZsLDPRYuih1uqOYuxjbs1ZDHB9r1ubfJTmOnOPfdblKpVuXySgwTGgSNUDDBGqFu5FYdSy0AAAy01Avq4yKnbOXVv+tEw+u1elgo2znSbgQVH0pI8F\\u002f3SP87xgAAVCr099+uPrr+9xPHs0WiwXJ9DMOysqrffvPglpd2tzTzBmpma2v13gcL9VvI1PTRibRNAWtJiKYdsSs8Zz\\u002fcy1UqrNF3XBA0osFJ7iPUhGh\\u002fmUJFo8B\\u002fABq5xCl\\u002f\\u002ftYhdOAJi1YkSoSdmz2VwaYymCSKSCnvUkirBO01wg6F+oHtk0dO91WPR9aPr6\\u002fruHZtwA6Spqaurd+f\\u002f2nbxaBg15AQN3d3WxsbOpVGVilRsUTe0syvqW7Nz28QCofobaVQSB\\u002f8b\\u002fFAg5IWbKnHDNvhVGZ3pNqNsgks4Jf3PlgOEywI0iv4+9VU1FRw72ZW0emUtlbB6scnUAyf+sDsSkOlvNbNGUf7za7oRPIq\\u002f9GzPEMj7dz63SUUxdS5HZyb3JqrzRUFnc00ImmBt+XXDugDQcBb78xXoWhaavkgzVQqdXERZ5CZVYOjUEgff7J01CgP7S43X0SEMNU5abhXBbF8+yRYnQq+\\u002foKCIAgmWCZDKJAmJAd5+jhcPpuPqtSAgndAEAAAAKUafeX2sX4nXS31jXo5YpIjjTnI5USEEOvgGevg+UL4hDpRZxm\\u002fbYSsH+yDSCS8+96ib785e\\u002f5c35169YLFor3\\u002f4WI97sBjRqLYodbkwf4R9suD7tLniEgl0VNEEAQBABMsCBrcv5V3Snl9t9BBAHg1csqTIX1nCg\\u002fOm2nnzbTTX2hmhkQivPb6HD8\\u002fx+2\\u002fXx3WrPYh+fo5\\u002fu+jJW5utnq8pxmJYmtTTsyK1Hdrc6VaqVQrNZkmD0GQJuAkdwgakFSl\\u002fKXk5sPHX46YNNzsCuq2dFn8z78+GhCony0CSSTiI+uTf\\u002f3t0RGbXQEAfBjuWlxFJ\\u002fbTk6pQq3QOB4Kge8y7B0ulVqsxjEI0xjq4ev4vNV3fAQAC7d93Y60xwhMh3J1qKOqS9x03Ge3g8UTIsKe8QD38\\u002fZ1+\\u002fmXDhQsFu\\u002f69Nch6wMERiYRp00etWZs0klOrbt5WZr8o9d\\u002faz+wpLrPdHsU7EAjSJ\\u002fNIsPbnFGzPuMOXyZJ9vTeOjQt3cQIAqDFs2i9\\u002fOlgxDm5YZYQYKETnPi\\u002f07vrFIls7q9IiTpJuW4hA+nK4Ju\\u002fhgx+OnkUcYVUA9I5IJMyaFTV9esStWxXnzxVk3a7SfNDQ19dx8pTwadPCHZ2sDRqkWUAAYkO2gFWTcEMRyAKZQYJ1q6b+3bOXul+fLi47XVw2LThgfnjIjepaDl8wOdDPOGFQ\\u002f8urqMS+k0P1IjLWJzLWBwAwZ0mcIe4PDRdfIcvpaOxzMNrePZRtqAx7pCESCePHB48fHyyVKgoLGgsKGurrOho5nV2dYqlUqVCoKBQSnU62tqa7udm6uduGhLpGRno5OlpAPqE3\\u002fY70mZ11Pm\\u002fhHQIE6Z8ZJFj\\u002f3skFADydFB\\u002foaH+8oORGde3FssqLZZUAACKCrI2NNk4YVJJznxeQZUtvrX24NMMKvxhcgrFsdDplTLzfmHgjfVkyKXzhjzzB9w62X1kxFgMAWjs2yOVZLo5HyORgTS6nE6kGDtCAigWZu2u\\u002f6HPwo4iDBARWP4YsgRkkWPnNLWO83LdMHAcAmBcektfU8tut25l1jU4sq5cnJvvaG2oGRqPgLyJCt6OnUEku4L+RQQQQKUT77gZyVUun9IZKLfS0edxAMUA4KuxqfvhgopOP0QOBLJlUdgXDJFLZ9e4ESyK9BAAqU9zRMMEiE8zgM3wggczoV0J+\\u002fe8dtr\\u002f+OwQQYHYFWQwz+OG8+tzjvae8RLm5\\u002fLx0vhGeyxUdEymKAQBMSqgdfaI9YxIBoZMITL4sp1N6rUN6TawoAwBYUYJggmWRyvl9qzOwKXQPKzYesUAWi06bLFfk02kp3W8Z9KlyeRaNMiLmCZAJVFuKU\\u002ffr1LZjHfLm54O+xTckCNIjM0iwjLNI8GFSVV33C5GiRKQoqef\\u002fAgBQoNLclgfm1EuV9QBgYIDt6yHz1STpW9h6lK0rLpGMKG080eJ3\\u002f35\\u002fw\\u002fSpsYF4x2IMNqxNNqxNPW+d7P\\u002fCLxbc1EtKL7bsWevzhg3ZHu9YIEhvzCDB4gpF50srbtXWl7W2d4glKIbZ0Kh+9nbj\\u002fX1WRkfY0A00xxOLcN6pRDtV6i4lylOqu9rEZ2UqDgCATvZxYEwjE2zJRDaJwCYT7WCCZZG4UlGfIw40K1wiGVG+P5T69PxEi8+uhOLdnby3EMTKy6344bNiybG2zmcAAN4eDYg5fErrQoIK99V9M95xQRBrNN6xQJA+mfqP7k9pmdvSMlD1A0u428WSdrHkdn3jX7ez\\u002f1i5ONTZ0QBPRmyo93\\u002faBfLcRsGfJIINqhbJVc3OVvOtKBrNkIDMl1DZd2th1ojc5cbIPtk4C+8QjAPFMIXpfwIbGgawg\\u002fVb7SguU5yNUW0HgozJ1Cu5hzo7omo1nUyeGuT\\u002f+pQJPy6eu3XRnBcnJDkyrQAAHWLJi0dP9bsLrx6hanFJ28sYhrpbr3GwmqHG5MVtL6kxqUEfCuFLjWEqdd\\u002fKTCyyGa\\u002fYMnElddzk57f1vK3idMQ+8R360H8CyMLcaD3SJK1e4bWF0N9e6RBk1kz9+9OkQL+v5s+cHhxAJz+wQ9aG+Jj5O3Y18Pi1nbysusaxPp6Gi6G8432ZqgFBiK6sVUq0q018RqKsquj4ONjhE8M9FMKXur+sHdYXNRwMAygK06mRpVZcfIm7b4H7UypM2aW4t6bEmmxPhAsJIYtg6gkWAsCCUaEPH7eiUJ5KGvPOmUsAgGJuq+ESrFbxiVbxCQCAA2M6lehMJTrb0VM6pddbRAft6OMcrWYb6LkQvkgEAgFB+qRZIpUcr3ggyPIU8G6qMfRo48+9D74U\\u002fKMjVZvdFSHI1Jh6gjWIIEeH7hd8meF+7akb+X91v3Jnre1+4cV+plN6HQBQz9\\u002fuaDXT9IdZIe3QiGSJStH7iFAJEywI0pt57k\\u002fMc38C7ygMIqut3pnO8mKO9I0yRzgzTg6safcmxBhyogYhxvVgoP2HdvTxNrQx3YdsqKMdGNP87d4a7XrArP8CocE50ph9jnQ+tPEzBEHQw4JsnM409rM+FBpRzKMHq7CFe62yppTb1iQQ8qQyiUIhU6nkSpURHo0gRDfWKjfWAytcwp1+MsKjIXy5MFh1os7eR0p5fUuPQvpCICC9h2O7B2cRWP0EMkMqtXpHWXqjhLevOnulH6w9MXKZeoJV1d759pmL2Y1NvQ8SCQQ6mcSiUXnSvgvpIUhfAq0dM1vreh9pkvC75BJbKgOvkCyYvTVDqUI7+GJ7GysAAKedb2fNIBBgggWZn6N1+Wwq\\u002feWISa9nnYi29wixccI7IggfJp1gNfL4K\\u002f7ZJ5DJAQDJvt7zI0JHuTi5WrOsKBQAQAm3bcHOXXjHCFmscFuXhw\\u002feaW+Y5g5LoOmfI5sZ7On49f7rLy4dL5Eptp\\u002fMSInyxzsoCNJGTkfjkyFJAICJroF32+thgjVimXSC9UNqRnd29Xzy2BcmJPY5+3CZIgjSo373dT5UkwcTLAP57Kk5X+y5uvyDf2gU8vgI35eWjcc7IgjShlKNkglEAACZQFTC31MjmEknWLfrGgAAJALhyaQxD5\\u002fl8AVGjwgaQTys2P7WDlWC9t4HrzVXcKVCZzoLr6i0wxEIqto7AQDJvt4EU63m5e1s+\\u002fPmxXhHAUG68mM5lPK47gybMh432h6WnBi5TGIRXCmvdUdZxp6qu98WXJOj96eui5VKAACFRKSR+kkETxeXGS\\u002fEEe9Oe8OPxakP739s2RZ5R\\u002fQ5gmLYJ7kXcQlGF8XctnE+XmoMU6Io3rFAAACAgO7Kycp+z2L3NoogIgCW3DQ\\u002fy\\u002f2id1fdfSPrZJ2oK8nZD+9wINyYRA8WXyGd5Bboz7I\\u002fXleAYvc7VD1tbPhSmUShzGtqiXJ7YELM3uz886UVRo905Ipz8KwStPPkUjeGDd6xGM8S36gfi1N7J\\u002f0AgDMNxdPdg+d6hevrKancip\\u002fLrtaK2skE0gTnwPej5nePL+gXkUAw2b6rEYhAYAMAMEyJqjuJBLs+Z1VoMwCASLCBu8ibI3uq1R\\u002fjVynUKMUAP8iQGTGJBGsgs8OCClu4AIDnDp18Zlx8mIsTiUCo7ug8UViSWl0X7e5a1NIKv5Ebx932hi6F1N\\u002faAe9AjMqRxlzjH\\u002ftHeWaf469nnSQTiDM8QvTyFE8r27ci5oSxXTvkorWpO85wChZ4RuvlzpDJIpODul\\u002fI5ekM+pw+Z2XydAAAmRxm7LAg\\u002fYHZFWQSQ4QDeWRMTKKPFwCgVST68PyVFX\\u002fvW\\u002fLnnldPnEutrovzdP9j5eJQZ0e8Yxwp1BjmSLNqEPPwDsTYngsb7\\u002fRQxVE5qtqUfnhbcaoU7X+IZyBNEv4f5ZldDxYs9WE6RNi6ExGCE816jINvg7hzoMu1JlUqL1ZU5TQ16\\u002f3OkHbIJD8SyRsAwBNsxbAHNgyQydNl8psAAAZ9Bj7BQRCkDybdg0UhEv9YuWhfTsGJwpKK9g6ZUmVDpwU5OswJC1oaNYqAIDHurvlNLXiHOSKMcfQa4+iFdxQ4sKHQPhsz74m0fX32JVRj2PeF13dX3t0YPHayW5Avq+8oTw+BUpbTzslqr0\\u002fn1uR1NgEAprsH9y6mldNZv6MilSsVEBCkWcpf7hOn9z\\u002fF\\u002fLAQAMC0QFj4wHQgNqznO7peVSgLWtqWsq03U8ihakwqlV3hCb4EACORPJlWq4a+DQRBpgrBHvy1gYvM1rrMtjoHmlV+Z9N7MTMYJAreEUHQA\\u002f4szxx8brsrwzrExsmWymBT6ESEIFEpRCpFk4RfK+xsk4n6NL4253kPK3b3a7laNf7sF+9FzZ3rEQUAePnOAR+m\\u002faaQKYb5c0CmpaPrVaG4n2J+RKKzs8NuCllv8\\u002fwgCDI+k+jBSnDyTnDyBgCs9o\\u002fFOxYI6sejQQkqTP1F3uWBGjRLBM0SbeqGKFCVDFV6WdkDAAq6OOltVT5Me+0DhcyKve1XdPp0kXi3XJGjVnchCI1E9GHQp1kzn+ieBQ9BkPkyiR4syBwV8HN+qvzWjmL\\u002fdujHVqS+s5Qs0rnG0reyTgmUum7Q1LsHCwDwV9XNvypvIQCMtvcKtnaVq5WwBwuCIMjcwQQL0oZcLf+o+C2JSvxy8NvudE+8wzGeFqngy7wrJ+sLtf6xQQC4MfcFV4b1w6fa5aK3s498GL3Aha5xLQyUg6mqAAAINdnE16xAEASNKLomWFwuv66+AwAwJs4XgVV2Rozd9X+WCAqeD3jFheaGdyw4qBS0\\u002f1uRdbqhmKeQan6VD9Nunlf4Et+o3t1XvW2vuCFHVc+HTNb8npjsIkKbjMlTEUoiQKiaXwhBEAQZlK4JVtrN8sSxAXfu1MTEeFMoJjGjC4KMA8Wwu+312e2NhV0t5xpLep+yodDoRIo9jeFpZevNtA1lO8c7eT9c7qGPvK6Gt7KPuNJtfk9cr2FRUEx2EaFNw+Q3EEoCTLCgkYkjbSgWFFAJtC5l52yXBWQCGe+IIAiA3pPcW5t49dWtAIDYpECEMIy+KCKRMKz2kFkrExZf4p6tEVfJUKktxS6aHTfbdQGdyBj6SotDRJB4R+94R+8Oufh6S6VUpQQAEBDkzIynArSqyBpl63l6yov6DhOCLJxYJYqwiXahuWV23lQDFACYYEEm4f6kjcqSppjEAEyNKZWwNjrUv2ttl74r\\u002f6yAn2tDZgexQuVq+UXumc9K3heqRvTG27+W3OzOrgAAsz3DtMuutCXFZBcxZY4RnwhBEAQN7YFBPS36ouQyVdrN8soKbnTUSKxCOaJwZS0HG3YREOKTfpui2bEAADWG7q7\\u002f82b79b31fz\\u002fptwnvAPHBlQr3VGV3v0YAeD5svDGfjtDmAwAQMM2YD4X0q13ewZE2AwAi2eEI3HwQgiyFrsuOpkwJSx4XtGHDeDgBy+Jdb7uIYmiK45Tu7AoAQECIq7w22JDZ2V232+Wt+IaHl229doPGAHgybf9X+Ve0q4kFjUy1kvpRNmEYwFRq1dCtIQgyE\\u002fcTLLlMeetycUluA47RQKasSJAPAEiwG9f7IAkhRbPjAAB5\\u002fGwDPRcDAFWrDXRzHTWKeQdrcnsfqRd1\\u002fVZ6a\\u002frZX\\u002fZWGeovBLI8RIQA+650cacr80bblTJBMd6BQNB997udJs2JAgAkTYH7t0P9UGGqVhmXgBA8GH3HgruPcCSGSs2vVdU8cehY5eubDXR\\u002fXdhSGdsSl15trjjfWNq7ZIMUVb579wyJQFjmG41fdBA0IgSxQoNYoQCACY7DKHEyLEq1BACMTLAy0P0hiwQrE0IaEatEGMCsiEwS0ncs2IZkAwAQqPha3Pbf7Nwh24jkCi3ubBxWJMpU96BP4ubcnPfiB6NnWpNpvc9+kXe5Z\\u002fI7BA1EoVbc6cqpFFXjHYhBcFv4WRlVWRlVmNqMi1qnt36rVA+j6B0EAZhgQRpSqpUAAFJ\\u002fBWa6DyrU8uHe85f021tT04dsJpT3vTOqVmc1ctrFkuE+0XCoRNLagLhDUx\\u002ftnWPxFNL01lr8goLMQ5J9QpxtzBKP+RZZwKmyvGX0GF8Mw5Qqs1yf3imvUqllCY4vIIAgUrbgHQ6kkyaxIHzvtz7\\u002ffr6zJMsIj4Mz0yGNUAgUAIBK3U9\\u002fTPdBCmF4VS5fOXXueFHJT4vmAQD25OQP0vJWXX2fIzfr6k8Wl80ICpga6D+shxqaH8t+mV\\u002f0zrKMniP14i4c44EgU0AkEsx3nw+eoqZDXhZoPTuz7Ydgm\\u002fl4hwPpxM3K+t0xU95IP\\u002ftbUea6oNEUItGgj4MJFqQRBsmKgBBEKqEKU\\u002fUZJeQreQAAa5LG2+cBAAA4VlTyeHzs9KAAAMB7Fy5rfuGZ0vIuqVSBooEO9sN6onFQCA\\u002f8xJIJhv0BhiDIoHyYKVeb3\\u002fNnzRAqOGyKD97hQLpaGRCV3cY5UJm\\u002fszTrmfCxBn2WCSVYXYq2NnkjACCQFQ0X1JgaEkJyorq0yJoaJXU+Vg\\u002f0GzVKG8B\\u002fU901x6bTzpaWb4yPdbSyAgBMDvCL9\\u002fTot+Xt+sYrVfenpxS0cF+faNRaU5qTqpSnGx5Yx+TGGF7eCUEWRi5T3rxRVlneEjXaG+9YtEFAyGyKTzHvoAczCe9YIP34fOwsiVKxLf\\u002fWqoBoNpU29AXaMqEEq0lWE8qKrRDloZiKhFjgXARzF24d2SJryuy81TvBUmGqXN4dAECkzehh3e30o+s2Hjr28slz\\u002f6xcAgCYFui\\u002fLHJUvy0ZZHLvBCve0+O71Fu1XbxkHzw\\u002fr9UY1nu7QCmqTGup\\u002fqHoRr3o\\u002fpggnUge62SWv1QgSF8mTx8FABg3IRjvQLQXbDP\\u002fZP1TS3z34B0IpB8EBNk2YaERHmRCCRYAgIAQYd+VyUpxmnKt7eL1tsuhrPBI9mgAgBpD99X\\u002fzVfy4mzHOlAdh3U3ZxZzz+plGw4c6X5rS6cP1JJFfWB21yR\\u002f3wm+3kQCzusz\\u002fizP\\u002fLkkjUWmkRCCRKVok4keXiK1ISieToRfFSDIvCEI0cMqkUIYYrN2y6PGMFWvpQkUsmklDKYP\\u002fn1BmnKiuizzXLuv\\u002fu+fq77zZHhbk2wapfV8Jc+Z5rrS6xEtbsiiUveuXg4AOLp+tZ+d7UDNrGlU4oMzZHHPrgAAGAB8hYyvkA3UYKJrwKbwCcYMCYKMT4Wq08vryETi2CDL3C2tWnipVnQ93uFZvAPBQWZhXU9XfUFl05OLzHuQVIaqTtYWn68vL+ho6ZBJqESSF4s9wyvoqbAEOskg34RNKMFSquVFgttN0ho\\u002fZv9DRRDuJjpOdaG5Xmw5UyupbpZybCn2013mzHZZQCMO2P80uO5FHBEuzoO0SfHzKXvtJe3ujwsmmfp0SNITIYlEBP9EEIIMqkssFcsUzjYW27vjx5rqx5qKdxS4GRvuTSQSAAAKpanv48QViJytB\\u002ft3eLiq4O3M8wAAD6ZNnJOHWKUo7uSWdLXeaqnbP32NIcbOTCjBimaPBwCEW8fjHQg0mBBWeAgrHO8o8OdhxQ6wdmiWCGSokkokM0kUDyY70NpxnLPvRNcABomCd4AQZAx7U3ND3B2PZxUHujkwacOr1QKZOB83u7S8e\\u002fNfZQpTT7DO5ZetT44dpMFiv1EChXyuT4gnk919pJTXtvTcrtvchvSWuiQX\\u002fc+XRTDMjKvrWphWTld9JRcAEDs+GCHAuWgQhLMfPzqeMjPy9IHMNc9M8fIb3izDEeL7U2kvzkk+mJ6fHOLjZmeNdzjQSHQuv\\u002fxSUSUAQK5SPTExPtLTRfNr38k8v6s8583Rk54KT9B7YHAIw4RUFXFikoMwDFMqzbLkMQRZmEdfmvHZq\\u002ft8ApxhdjUIs60hClmImZFBX6+a\\u002ffHS6QgAwa4Ow7rWzcoaACBSDnsnEk2Y0BAhBMy85DEE6YtajX2\\u002f9\\u002frFzDKlCn1h5QQSkfDt7mv2bKuvX1zg6cw2WhhMFm3vtTeN9jhz9NLcZADA8qRIvAOBRrqtF24+NTmBShosq6kX8Q5XFdxp5TSKeXyFTKZSyVEVAMBAA3kwwYIgyOQQCAiRiLy7cXpZXes3u67SKKR3Hp9+4FLut7uvfrdlkXFiaGvh\\u002f\\u002fLZKW4zD1WiU+ZFL3sMrgmFIBOVXlnPZtDC3QdbL3WgMv\\u002ftzPNKNRpo4zDW2duFwWSSqbda6q5yqgwUFUywTIhMpky\\u002fUFhZzIkcG4B3LCNITWHD3cuFdCtqW1PX6tfmU2iwcpVJeHFlCgAgPtz796Ppk+ICJ8YG0Cikl749KhDLrK0MWHy5m1qtfu+5f1ZuTEmZFQkAkEkVhn4iBEHaEcrk+zPzv1k1Z5A29SLeW5nnVGr1l4mzlwfc73AVKGQwwRoRJs2PAQAkTse\\u002fSkW7vKNJ2gwAiGCHW3zpV2GXOGFWtGeQ6+V9t1AUBQAmWCaERCRY0Si+bnYAAHcnG7Uaa24XGCHBKitoZDCp3dkVAIBGh8tCIchE7bie1SYUv77\\u002fLABgeUJEvJ\\u002fnw22uc6pVanWUg2vv7AoA0CjmGy4wmGBB\\u002faiT1Eezowr5RSq1ikyACQdkbCiq\\u002fvFA6tU7Fe08sVKF\\u002fnQw7aeDad2nBOIBi7vqUWsz383TFHcThyCzUFPB3f7DxcLcehKJkJAc9PTLM23YDAM9a\\u002fOM5CHbSFRKAIATndnnYHpLvYGiAjDBggZCRAgW33cFmazj1wsPX8n79Nm5saGec176beHEiFlJYd2nPJzYRgjA3onV1sIzwoMgyPI0c7q2PPFn5GjvD79dJZModvx48X+v7f\\u002fm90dxDCmQ7QAAuNva2CmX2lHpAACxUvFGxtkWidBwD4UJFgRBJqe0jhsR4DY+xk8okYulig6eJMjLqIUSQiI8uRze3VsVsUmBAAC1Wk0wgQ2aIMgs7P8rjcGgvPP5cjKFCACwZjO2bPwj53Z1TLwfXiFNcPMNtXUq6WqdemJ7krOXWKXMa2+Sq9GXIpO\\u002fz08z0EPhRwbUD7lacbcrp1JkqKl\\u002fpub6oczTO67kXi\\u002fGOxDoHmc7VlktN6u4\\u002fut\\u002fr8xMDL1yp+L3o7cuZ5V\\u002f\\u002fvclicwY881JZOL7P649sPPGM0t+fH75T5dP5hrhoRBkGXLv1ETF+XZnVwCAoFA3BAGVZS04hkRCCPunr340JI5FppxvqCjoaEly8T45e8OjoXGGG6mx5EruElQhVskcqSO6uHCnRMqiUshEIt6BQNAw8EWy1344UVrLnRQX+PZj065nV\\u002f2w77pALBsT5vXJc3MpJPjvGYJM15LJX4iEfedKLlo19uktM3CJBy8WlWDdaiv\\u002fveJSpYhrTaanOIWpMXUBr2FP8ia848LT3XpOZm3jsxP0vwkANJKhanXPayIcO4MgqJf1C7YGhbmvfPSBuec2tlYOjiy8QjKoFllXnbgVADDGLojQq1S45czBymyv3Hz3n1g73w8il3bIRTsrr3QpxFvjNuAdF86kSpW\\u002fgx3eUUCW4Fpe1cQo\\u002f9OZJV\\u002fuvyqU3ttZwsORfeJ\\u002feM5dhUYgiVyZ8OY2vKMwP042zMvvP2GEB0WP8S0r4vgFOI+QTXUrhJwkh7CsznIVhlKQ+2mV5Xz1\\u002fKn8vCfDbmvchqkuESu8E72tHAEAPIUY77hwZkOn7bqTq+NNFApVZlZ1R4dIpUIlEoPs2QSZuK1HUk9nlgAAfjud8ddrK2MDPS59+dRTcxOXJEfgHRoEQaZl9eMT2luFH762P+tWZUlB4\\u002fWLRV++f1TAl+IdlwH1u+7eQhKsdrmwhM+Z4z6aTCACAM5wcsoETc40m8sthXiHhrMIN2eKzhOwKqtaUVR94nTOL9uvoqjljClDmttzNef5BeMAAEqVytfFDgOYHYvx1JyxJ9KL8A4NgiDT4uzK3vrXRjKZ+Pm7h199+q8\\u002ftl2iUEhUquWMmGnIQv7ANaJWAECQtSsAQKyS\\u002f1B27rGASWWCpmJeI96hWYKwUDcAQBLcwGcE+\\u002fmFxf\\u002fbdXHny8tpFDJfLCMgSG1Lp4ONlUQO95CBIKgvd0+7tz9bBgCoLG3+9qMTK9YnUy13FzI5qkxtK6wQNsXY+vc+biEJlkglAwBYkxkAgF8rLjJJ1DU+yV8Vn+QpJXiHhqdmgXDvnfzq9q7vrtxcGx\\u002ftyLTCOyLIXMUGeny+cTYAYP20OIFEtm5q7MpPdyMALE+Jwjs0E1LL7ZIqlKGeTngHAkGm4pv\\u002fHV+0eqyrhy3egRjQVJcYAMB4x77b3FlIgvXfWkisUthysC5ja9yG7rFCwsiuRe5qzdoyedyWyePwDgSyBI42TADAwnGjAACejuxzn24UyxTuDjY63vaH3y4fPnEXAODpbrfr942DNz51Lu+rH893vz741zNOprQoqZzTnlFa5+dqL5TKWXQq3uFAkElo5fK7F9ZhGEBG2C9kC5mD1d13xVdKvyw6keIcluAQAAAQKqU2FENtfgRBIxybSdc9uwIAuDjfu0lTC08kHmIJxZ3cuu4XFArJ0cGEsisAgBWNHBfocf5umdqCat9AkI4eeXLSL9+cWz37W24zD+9YjM1CerD8WE4AgO0Vl6tF3EMTtnQfrBJxA1guuMYFQdAQAv3uDaihqPrspYJlC+IGapmTX389raz7dUSYu6l9G3a3t2lo402PCbJh0Iz53LtVnMe2Hhi8TWKI96\\u002fPLjZOPBDU24IV8QtWxOMdBT4spAfLjsKMYHsV8xsf95\\u002fkTLMBAJTwOTWi1snO4XiHBkHQYEaFuTPolO7Xv\\u002f914\\u002fjpHJlM2aeNQCjbeyjzjQ8O93QOTUwONmqUGhBIZLnVzeNH+Rr5uVXN7UO2yapokMj7\\u002fq1CEGRQFtKDBQDwYzoV8Orvdta4M+xEKtn2yithNh4z3eAMXAgyaWQScebUUUdOZgMAFArVtz9f\\u002fOH3y57udna2VlQqWalUtXeI6hs7UfR+7XgnR9bMKX3nk+Lup1O3GFTK9nOZM2ODPR3ZRntuZXPHkG1G+7szqBa7hguCTJOFJFh14vaTnOyng6bdaiv7uOAImUCa6Bz2QsgsAmIhXXQQZMHWLh976Vqx4L\\u002fNy1QqdU1de01d\\u002fx0zBATZ\\u002fOx0CsXkPrveXD4Zl+dWaZBgTQg3dr8aBEEm9yGlHW8rhx1jn4pgez7uPwnvWCAIGh57O+aHby547f1DSiU6eEsCgmx6akpSvP\\u002fgzUYUTXqwxof7GSESCIJ6s5wOngi2J94hQBCkpdFR3j9\\u002fs9bHy36QNi7ONl98uHTxvNFGi8r0dQglPPEQO5B4OrB9nMy4ClErp+vOjbI7N8owNVyeCZkTC+nBgiDI3AX5O\\u002f\\u002f18+PpWVU3MyqKSps6OsViiZxGI9vaMMKC3RLifCeNDyESLec7oV5UNA09w328mY8PVpU0xU8KzU4rVypRysjbbgUyX\\u002fAfKwSZAb5I9sSX+x8+\\u002fvYj06IC3Iwfj4EgCEiK94cjgJorbWwdss206EAjRGJQRCIBMbWyHCPG0\\u002fFvxU2N3PjpSgDAm3O\\u002fcHC3e\\u002fm3J\\u002fAOyjzABAuCzIANk3bgf+vxjgIyOSUNQyRYzmxmjJ+7cYKBLI9SrmoobVrxyrzut1W5dYlz4Bi9pmB\\u002fOwRBGhF0iZUKFd5RQA8Ysgdr5uhgc+\\u002f6kUmV6ZeKSnLr8Q5kJKotblAp0YAobwBAa0MHv0MYEOODd1BmAyZYEARppLm+Y98vV\\u002fCOArpPqlDWt\\u002fEGbzMrNsQosRjQpHnRiVPD170wDU7AMr7K3Doqg+IR6AoAqMqtQwiIX4QX3kENbeYHO28UVuMdBRwihCBIA+0tfAdX9vx14xqq2xycrelW+t\\u002fMWKlCs+7WFJY0FZc1tbYLhUKZRCq3YlAd7Jl+Po6Tx4eMifUlk4h6f675KmtsG3zfQx8n21BPJ6PFA1mSdcGbW+vvLaGYafVIz\\u002fEFDhsJRMJZ0d84xWVOYIIFQdDQcm5VUKjklDlRh\\u002f+4MXl+jE+QPnf5FEsU+4\\u002fcPnE2r4sn7nOKL5DyBdKqmraLV4s1udXOHzcE+I2UlKJkqPFBC+i+gvCy8ZMVEqFs\\u002f9cnHd3tJq8aBwA4\\u002fvMFGoM6Y0MKgWAGo86bfj+OIMCWyYj1d39lUYqLLQ57w1tggpXeVP9G6vlWiXisq+fPU+fTSXCDCAgyXUWlTR99ebKZy8c7EPNTUNcyyFkEAfPiQ40WDGRhUpaOBQD8\\u002feGh+FnRsx6dCAA4vPXs6KkR3a9N39Yn5o8L82nuFH5+6OoHey\\u002fistm5Bc7B+j77Vp2AJ1UprzZUn6+twDscCLIEJBIRVakBAPzOvp1MusjOq3vh9T0wu9JOQW3zIGfHBnu729sYLRjI8oh44i4u3zvEHQCgUqJNVVzvULMpCkNAEDKR6OXIXjg2vIbbiUsMFtiDhTzw2gx6MiHI9IXF+nz7xoHqkiZuo94+quobO9755JhKpe59kMWkzZ4eMTrS28XZxopBEUsUzVxeTn792YsFPZsVPszO1srdle3uastmM\\u002fQVnonjS2SDz3BfmhSh+1MwoBLJbpCJ7jRysO53g8xLXQkHAOAV6g4A4FS0oCrUK8RsSn6oMUyuVDV1Cg7dLIgL8MAlBgtMsF6KHffa9XOtUlGSm9cMH7OvsAdBpsDZ3fbzv59EUTWJrLdp5j\\u002fvuCYWy3sfmZAU9Mbm2VYMSs8RRwB8vOwTx\\u002fhvWD3ui+\\u002fPXksr693+sbXJ4xMD3VzZNOqImwlQUDvY+KA9izExQg\\u002f1WiXybBLBUYlyKEQ3AgGHWSwQLn7a\\u002fPeJXy91v14fuqXn+NNj3gIAvH\\u002fgpaR5sfhEprEXt58gEBAnG2bKKL8X5o7DJQYLTLDGunreWAnrzEKQniEEhETQW3ZVUt6cnlXV+0jUKM8P31ww0PxZBp3y\\u002fuvz+YL9Ofn36yFdSytbtyLRLKbc6l3+oOODCxLCSfrYVkggPU8jhxAJLLmqhk6J1P2GkFmYvHKcX6T3hX9uiHjixS\\u002fMAgBcP5jRUtu24tV5AIDuslgm7scnF0wYhfMe55omWByRoJLfDgAY7+ZLMPe6ddDwlVRzH3tnl+btyWTijb9fMlg4kNm7frO8z5Hnn5w8eKpEICDPPzn58ef\\u002f6jlSXdt2\\u002fWbZpPEjca1cQd2ACRaCgMVJo\\u002fTyFAJCV6IcAiFIL3eDzEVoQkBoQsCZnVdj\\u002f5vVfnV\\u002felRKqLnMcDcRmiZYRZ3cyR7+qU01SjVKJVpgvxc0uJ2Hbw2rPZtFN1AkkGW4k1Pb+62vt0OQv\\u002fOQVwX4Ovl6O9TU3d\\u002fh+OLV4hGYYKkxbJAhwrHB3p4ObH09yoY+p1Ww1YH1pJ5uqAdkEuGZGWPxjsL8MGmUoRv9R6VEawrrFz0\\u002fAwCAqbHy7OqUpQkGC03Pzn3wON4hADCsIUISgQD7rkam0hruzZzhVcV9\\u002ffFpBgpmBGpu5X\\u002f528Xv3l2KdyD6VNfQ0fttaLCrhheGBbv1TrAKijn6DMtMVDZ3CKXygc6um6TP3eKo5EAMqIduZ0RkIvHZGYl4R2HhaosalHJVUKwfAKCuhCMVyoLjcB5xMztm3xf1\\u002fd2b32cPo3OlaMOLVuRhZPEQAGDn4fRhtV84JXJcDPxR1JurGeXe7nZ4R6FPUqlC8eC2hna2Vhpea2v7wDpBgVCqVKJk\\u002fU29NwvZVQOmlX7OdkkhPvp6kLPNawAAL\\u002fuf9XVDyFwERPucl\\u002f7b\\u002fdon3KPnNaQ5TRMsqUp5ob6iqIM71kWjfYiK67hrP9sz0NnxEb5bn1uo4aMhfJXVcNOyq4Zu9x9PF9sX1k40WDgjUVZeXUqCRa2HFUsUfY5QKZouA6SQ+35qyeTKkZZg5QycYK2ZNBqONECQKdA0wVrgFwYAmO5lcp\\u002fy49y9FWo1Ty4VyGU8uYwvl9UJeALFvc5zH2tbezqDTaWxqTQbKs2GSoMTyIZr55FhdF8RCMj7z86ij7w18wZlYYODAAAare+\\u002fEKFowBpXfYgebEkiEZhWNP2EZT4G6sFiW9HmjYHV2yHIJBgq27BmUBNCvXgiKU8k7RLJFErV0NdoZYyLxxiXB2qIvZV2YU9JXvfrnTMW+7MtamzFyIoqm1PvDqP76tFFY8MDNJ1MA41YTCuqNYsuEEp7jtT2mlY1uKratt5v7W2ZI63DhtPBb+WL+j21bFwU9aEePsgyiBWK8raO8rb2ZqGwTSRuFYlbRWK+TKZQoXJUJVehShQlEQg0MolKJFHJJDaN5sS0cmYxXVhMLzY7xMnB196OONJ+WnBlqB9FD0f2Ly8u6XkrkSsv3Cn7378XDfQ4vfj8lX2ZV0uTZ4x6+dN7HQZ1ldwPnv1HKlG8+vny2GST670zgm17bmjeODzA9dGFcGkPpJGIMPebmZU9b\\u002fOLG0ViOdOKOvhVAqGs8MFZ7aOjNJq0YEkG6r4iEQkrJ0QZORjIoCrbO27V1mfUNxRz25r4Amyo9goUVaAoAHIAQCPouwMVlUQKcrCP9XQf7+sd7+VBI8Fc3LCM9PfLoJJtrEx63X5Tfcf1M\\u002fkAgEvHste\\u002fOM3B2QYAcPHo3ZbGLgDAid23LCDBqq3gAgB8AodeDN\\u002ftxt3K3NJGDRvbs60+e2k+UR+1DaGRYEpKaO8ESyZT7tqf\\u002fvRjEwe\\u002faveBDPmDs+OTE83+B3O45sWHzYsPwzsKy6GQKVEV2vsInYnnoDMGQFZ947GikmtVNW0ifW79KVepClq4BS3cv7KyqSRSvKf7ooiw6UEBVJhpGQb8a70H6dVx2msHQ+Ths2aqtYln58CUiOQigZRpPXSyq1ZjP+9N1fDmZBLx883zHe2YusUIjSATk4N3\\u002fJva1MzrObLvyG0nR+vF8wYsMXD8TO7+o7d7Hwnyd05KCDBckJDJEgukm6d85Obv\\u002fMG+F3W81Z7PjnoG39\\u002fDOPdq0cvbn9LxntppE4l35+QdKyzh8AWGfpZcpUqtqUutqbOmUeeFhWwYM9rHlm3oh440MMG6x9XTbuKcqPTLxRNmRdg7W3cfnL44Nu1CoVSimL\\u002fG7GuupJ4rmDQv+ubFoknzojVpf+JqQV2Tptv6vvb41FGBZrPLOmQKiETCS09Pff2DQ9h\\u002fwx4YBrb+eun6zbIFs2OiRnnY\\u002f5ev8\\u002fiS\\u002fKLGY6dz7ubW9b4DmUR86dlpsDjfyGRlTf\\u002fi9Ov\\u002fW\\u002fXjhV2p09eO1+VWDu52U1Yn97yVarzeQo+aBcLtmXcO5BXKVYaarzwQgUy+OztvX07+glFhz49L8GTbGDkACwYTrPte\\u002f2pFnyNe\\u002fk5\\u002fXXwVl2D0burC0ZeOZ\\u002fM7RXaOQ+\\u002fYKpUpd2hcun3FzNFzU\\u002fSzLwc0oiTE+T2yMunvvQ\\u002f8S8staMgtaAAAkElEOp0ikyv7VMzqRkCQt1+ZEx4C0\\u002fqRy9bJ5rvL7+h+H6lI1lDW1PO2i9t36pJBSZWqH9LS\\u002f76To0TRoVsbDIphRwqKjheVPDpm9IvjE+H0LL2Af4kjhY2dVVebMDRGo006dxy+1cHTaOw\\u002fbpQXrHoFae2xtck0GnnHP6ko2rdWuFKFKnstM+zNztbq9RdnjR0Di9mOXEd\\u002fvnD8l4ttjR3OXg7LXpqtyx55sdMiO1t4PW8jJxivzsWN6tr3zl82woCghlC1ekfmnUvllZ\\u002fOnj7G0x3vcMweTLBGChRVE0nEhElD79pW3dix\\u002f1y2Jvf0drP75IV5g2\\u002fQC0GDW700IS7G57c\\u002fr\\u002ffZnbBfTCvqrKkR61Ym2mgwjxCyVCd+v\\u002fTvx0ee+\\u002faR4Fjf0qzqbVv+UanQeU9M0e5ufhE4LERF1epPL1\\u002f\\u002f526u8R89pNou3prdBzanjHsmMR7vWMwbTLBGipybFdOXxJJIQxe8\\u002fvrPSw93JzzM1dH6h7eWWuO63AayDJgaa+k1LmPFoNBpFL5AiqJqOoPCYtIc7JihQa6jwtzHjvGjwTK2I96ez08s2zxnysokAIBHoGtzbevuz49rnWAZX6dEuunYqdv1mq7RNj4MgG+v3yxva\\u002f9s9nS9Dxdyufz6ug4AQNwYXwtYQDYImGABAEBpXsPmVb88fDw+JfjDX9YbPx5DiJsQrEmzc2klOSVD\\u002f9g72DJ\\u002ffHu5k93Q07kgaHCZd6rf+eRYz0Sr6Aivd1+d62APV6RC\\u002feO3C7ta+cGxvj1HgmP9dn16rKOZZ+\\u002fKxi8uTTXy+Gv3HjKdYcFBnCouaxYI\\u002f1yxmE7W57eaygru2MSAO3dqlEqUQrHkJATPqkVqDPvn4t3P9l7BMQaoN5FEvm3P9SGbsVn0H99a5u4EF5tAuqqt73jv0+M92VXUKM+v\\u002frcUZlfQIORSBQAA611zEwMAACqDgk9Aw9HI46\\u002fZc9Assqtudxubnjx0XKbvtY1EImEkrP\\u002fFLXms43Z98M+FvKomAMC02KC4II8hLzEcv2CX7\\u002fc\\u002fK+gSC3gSIU+ScbU0L3MY+8NYjG17bgw5t53JoG59c6mPO9yACNKDbdsvy+TK7tcEAvLaizMt+xutueMIBZWdnQCA8V7eeP2CdPSwYztal92pjp1yb\\u002fFy6d1qRw87pg0Dl3g01yIUrd17qEkgxDuQ4cmoa3j+yMnfli2E2+wMFz6fZcV1rSs\\u002f3iX\\u002fb4PCH4+m\\u002ff36Slwi6UahkYMj7md4UoliBCZYtwvqjl\\u002fJH7wNnUr+5rVFQT5OxglJR\\u002fWSqm\\u002fK7q3ifiX4U0+GLwaw1\\u002fMel6ulAIDFHo+kOM7CNcCRrr1TlJVd2\\u002fM20M\\u002fZw80Wv3CgoRW1tk7x9Uutr1OqUSoRn18fCIKsem3+3\\u002f877OztEBzrW3an+siP5575cg0uwWhOgaLPHTlhRn1XvV2vrv3u+s1XJiYP3VQDMrnyZlp5RSU3KtrC97nC5yekQ3C\\u002fm2TcKJ\\u002f31k3DJQyoh0Sm+HT7hcHbWDNp37y2eJT57OXMkd6rS8ki2XgwfAAA7XJud3YFAAi1jsYpLuiemtoHNnhmsQy+YOJCQ\\u002fmT1450v57tHfLzhIWGfqLlIRIIuE9MXvjMNBKZ+O8nR9saO5w8HR7737IZj0zAN6QhvX\\u002f+cn4zF+8otPd7RtZoD7fJAXqojTJlSjgAYFxyUO+DKrX6KqfKk2kTYmseX+A1gWdvvBWN8vKylIXjYI1K\\u002fP2w6zq3fbCvVs72rO\\u002ffMLORwUZJbfeLKHZ89\\u002fZHHOm9I250Lyeq2WSKlopEemAOaGExp6mF5+bCNtwTp3sGTfMIvNhYAQA4W1da2tVqSZ\\u002fmI8rcjZPnbpyMdxSaOlFUeii\\u002fCO8odIIB8Nqp8xef2mBLN0iFFLFKIVIqWiQiS\\u002fqRNNIk95qWzj\\u002fPPbCJ2NhQ70PvPwKzK1Mw5OCgr7v97x+uMq\\u002fsCgDQ+F86FWs77t4RSc+RJDwigh7QZ0BQJlc+s2XXnkOZldWtYolC\\u002fcA0Zr35Mmm2B9MGAIAB8F1+miEeYcFkKuWFqsqc5qahm0L\\u002f4ctkn1y+hncUesCXyb68qukGtcN1urbUhkK72VzbJe+\\u002fvLA5MngPllqN\\u002fXPxzq8n0xW9tiuPDfL4+cXFhn40pKELN0sGORsR5PbNq4tYVmZW70qpVjZIagAA7nRvP+a9EhXV4jIAAJlATrQ3m+++FszRgTU6yjs77\\u002f4Ogzy+5Lc\\u002fr\\u002f\\u002f2Z\\u002f9LWREEMOgUKyuqs6N1UIBLZLjHuLEBZA1Ku\\u002fVmS6XvmLhk6fndIqX8fH35bW5DvLOnTn+MkWR+cCgAYLq\\u002fJWyw3SThVwnbAADjnPwNOmH\\u002fy6upnRI9Jw1+9najXJxCHB1drVnOLKYVhUwjkTAApEqlQCZvEghrOrsKW7g5nGapUqnH5x7OL1oRHRHtpv\\u002fu\\u002f3ohb3VQtBxV1Qg6bR0tpIi8YROsmpbO9\\u002f86X1jb0uc4A5YKNCWDdBSMi\\u002fH75MV5VDNc2FUvqUQxFQAgxXFm9xEUU9VLqgAAsbbjrEiwgpdJ2PLctGe27BJqtr0uhgGxRCGWKFrbhAXFnMMn7tpY05cuiFu9NKHPaOPgQmyddk5asv7yARmqejvz\\u002fNm5j5EI+unL31Z6lYQQY+w8t1ek\\u002fTp2NYkwvOQPMqZiXvMk16A0bpVBJ+xXtHcczCvU190iXV2WRoZPCvBzYWlUykSBohl1DYfziy6UV6rUQ5ePHhIGwDfXb\\u002f67aqnut+ojydX7p4L0NqnojdhJer85Xgz4ixNVq5\\u002fdeoTbZWZLUkegd5+e+e7TM\\u002fGOQs+6O6usSKzR\\u002f40P1kuqlWolAGCCo6X9Yc2Xp7vdz9+s\\u002ffjrU2UVfb+GaYIvkO78N\\u002fV6WtmX\\u002f1tqbzeM6lkJzl7\\u002fTF3x2JVDFfz2Q9UFKwOitHj6w54Nnrjx1r+7qjOPTHoaZlemj4gYvBrTb+lZehnqTvb1fnF84nC7jihE4gQ\\u002fnwl+Plyh6Ie09MP5RajOI+8ZdQ0FLdwIF2cd79PHBDffJFdvEoJnbU69M2CCRSQQNi1KfuePswCAxDDv5FG+Xx24ZrjHQVBv05wXTnNe2PuIr1XQ1pi9OIUD9UOlUl+5UXLucmFVTasu96msad3y9v6fvl7LtKJqflW8k2fhys26PPdhBAT5Y9wj+r0nZL44fMGpkjIdb2LPYLw\\u002ffdKskKChmw7MmcX8ZNa0FdERr546X93RqWNI2zPu\\u002fLBwjo43eZiFZVfA0EOEs+NDrudVJYR4LR4fcTV3xFWWgiBoIJl3qr\\u002f56QK3tZ+1q0Qi4eEdxFWqwb5719Z3\\u002fLEr7YWn8NyNTqySf1d8+XpLuUKNssjUPRMetybDHalNlwxVXWoqLeG3xDv4GOgRe3LyUd0G5iJdnX9ePN9ZswFBDe7mcnT96pdPnr1UodOv4wvllTypjE03s4m5xmfwuTVfPKH\\u002fPBeCILyhiraZmOqBj2kCfR6ZvVWTi\\u002fceyvz1wZnswQEuc6ZHjArzcHdl02j9z9FUKlEeX9LaLiwpa75wtajPqOKx0znrVoy1ZVsN8w+iN18WXhAp5SenPEcjkpulfJhdmbi5nqMAAFPdQgz3iNO6dV+N8XTfuXyRfvcBZFDIPy2e98bpC0cLi7W+CapWXyivXB4FiwAMQacEi9sqqKtvBwCMibXwPbEhCOoNlezrk10BApvEelOTa6\\u002fcKO2dXSEIeHbj5GUL4ob8CCGTiY4OLEcHVniI25L5sT\\u002f8dunIyez7IaHqjDs1s6YO9qGPAXCxofxcfXl2G6dNJkbVanuaVZSD60yvoLneoTpOx7nWUv574hoakQwAcKXDnTpHuhxOsy512wMc7Hcs03N21Y2AIJ\\u002fNmc6Xya5UVmt9k7Ol5VokWFU1bXfu1tDp5LZ24bpVSRa\\u002fL5ZOf7yKSm5igv+du3juiZ3V0nitoYYnl\\u002fG7\\u002f6eQ1fK7es4+fv6IA53BptJsaHQbCpVNpT8bnaCvFUMQNEJhElTYt6eKbPMlQnQZ8lKFQrX110u9j6xeOnb5wrjhhoAg4JnHJp6\\u002fXCiWKHoOFpc2DZJgVfE7Xrp5sqDjgX4vjpjPEfPP1JX+XJD+S8oiX2vti72pMQzA75nQfy6UV2p9LY1E+nnxPAbFUMvtiQjy9byZC\\u002f\\u002fcU8\\u002fjaXeH9LoGqVI53PxPKJQmJvh7edpfvFKEonpY1WjidM2KiEQC8tBsCWO6yan7KTdjoLO1gq5aQVfvI49HxJIIZrDpOgSZLJXoN0z9wC43JNZmAm2qJtdeu1nG40t63lIppLUrxmoXBoVCCg9xv51d03Oka+CtyvM6mh+5tJ+vuFcPIsDG3odliwCkWthZxe8AAJTy2had++fA9LVBbAft4pngHLCzPO2jmAVUIokrE9hSGBSChX9BhwZxp4Gj9bXPJMX72hl2X04WlfrxrKmP7D2k3eWoWp3X1DLWG9aQGwz8+QddHaJWTpdYKBOLZGKhTCyU9ez0zKltP7jjOoNFs2LSGEyaFYtqzWZ4+llOIX\\u002fcydFWKhH+fZoTDOWg4h29jxDpi4nMTRpenp1X3\\u002fttRLgHg679F54+2xdKpIp+m\\u002fEVsmeuH+3OrqIcXL9InB3Cduw5W9jZ8mLaySp+B08ue+bG0TNzHtWuKtIbETO\\u002fKrww+9KPKKZmUxh\\u002fJ2+w+BEQaCBylaqIq+XaWHsG4\\u002fH4WP3G069Eb8\\u002fpQQFa97TlNDXDBGtwOv38y+XKtFsVFZXc6Ejc9sR+KXbcS7HjdLnD0b9vHtzRf+VoTl3HH9+e733E3tl619U3dHkc1IMjPNIuvenOWuRA188m7ZDhYSreawC7X5aaQJtOYn+u+fXNLfzeb12crHWJpndnGABgoFztp4L0JrEAAOBvY79n2ior0gPNRtm57Jq6cuqJ7WKloorfcaiqYE1QjBbBsMi0\\u002f8XM1+JCyPIUtHCVKDp0u\\u002f6si42mkoyUmj+dFK91gpXLadZvMJZHp\\u002f+KUyaFAQCSkwL1FAyEm1pOZ1ktl8PlNXJ5HC6fJ5RI5UqpTCmTKxEEoVHJNCqJTqU42TPdHG3cnGy83exGBbo56LBiS6biWlPD3FmLO2VZKrWYRMBt8RekOVSyW61I73lLoE0n224b1seITP7Axh26LI5RqtDK6gc6CVz72yhaqlLurcjtfv1K9IQ+2dW9CxmsxX6j\\u002fi3LBgDsq8zTLsGCtMARCSq7OgAA4z18DF3z05gq27WvNTU\\u002f3IALG\\u002fuIcHEOcrQvb+vQ4tqazq6hGz3kyvVSO1tGSVlzcqLlZw7GSJNRtVokVfBE97\\u002f1yhSqDoGYSadSyfh3oT+2ZcZjW2bgHQUOOvmSK5nl2cX1uaWcLoFkkJZKFSoUAwBAffMDnxqujtZRwe4pYwKTon0pw\\u002fxP2SG7RUCoLEpIuySVQmAzKZb\\u002fw2buMLRBJbjfWUVkLCXZfDrczxBbG0bvtw0cbT6ju12+XsIXPLDFW3iI28PN7rZxhEo5AIBGJE1xH3ATvQRnr+4Eq6iTK1LKmeRh1CyFtFbUzp3s5Z\\u002fKqTXofjXG18DjD92oPyFODp5soy5BnRUSVN6WPnS7h3D4AgyAYSXF0ZFe3eNd8+eMiO8wBvkH\\u002fe6f5+pbeSKpXCRViGRyqbzvZpNZZQ3TXvsdAEAkEJh0CpNOZdIpVjTKmimxk6L9DRES1EOpRK\\u002fcLj+bWpxVWKdW67RtQnOboLlNcC6thE4jj48NWDYjZlSA\\u002fjcBhUwEKv4DYN2JOEJivUxkPqvFTVxdHvjlkV\\u002fY0NjU5eE27Pm8tfUdPzy4GpFGI4+J8Xm4ZW57U\\u002fcLfxt7CnHA7Wuc6fdqOaoxrFEs6D1JCzIoEoFAGN6vaTOgdYI12t3Y+xyP8fTQ7kIFiraJRE5M\\u002fRRBtUgGSbCyKzjNnRrV\\u002f0DVar5YxhffW9ozOdoSNmk3WQql6tjl\\u002fH9PZrV3ifR7Z6lMeeFmyYWbJVHB7uvmx4+L8RvyEgIgYxgKAFCodd23ATIOkvX7JOv3dbzJ+MTA3sWr1Bj2wecnvv5oGfvBnq1BYBi4eLXo+18u9i7QAACYMz3Sqr+tclql9\\u002f61F3Vyff7VaLoYXy4duhEEDaxZoOUmvOEuxl70M0qHJzYLYII1GMvpkoUGd\\u002fJawW8HbnYMvI5dL\\u002fLKOHlfHY2P8H55w2Qv18FKCrFpMYVtbwsVpVKV9ouZIbMTHenl5WFf33h\\u002fzkdFFffx5\\u002f96ZGXi1Ilh\\u002fWZI3TAM1Na3Z2XXnDib18Dpm5Q72DMfXdP\\u002fYpfu8cFhUeq2vQmkOalKdaG2oqijdaybRa1HEyv6X9A6JA8bnZZ9aMGKQrFj0Dsl2nyp0PqPOUIgmM57a0MmjsPlfb7j4p2i+qGb6g+ZRFw3b8zjS5Ie3lSuBwbUGIYSEEMV04NMU3Fp03Ov7FY\\u002f9MlDJBKC\\u002fJ29PO0c7FhUKglBELlCqZCrOrrEzVx+I6dTIJT1e0MrBuXbT1aEBPU\\u002fPP125vnd5TkAAFcGK9ZJo9GQTRFJwXCIENLBpF\\u002f\\u002faNRqlPDsxkcCHOz1Hs\\u002fgZu\\u002f4p6Jdm3nuvy1dMDlg6PGKEQv2YFm4k9cKvvnrilyhMvJzlSr0j6MZOaWNH22aaz\\u002fAYkMEEBCL2z4dGlJYiNsbm2d\\u002fsfVsn1LOKKouKW8uKR\\u002fe2m8XZ5uP3l4Y5O88UAMH2r3BRz9r+23jF2gRMAQNl0zZd+axhgyxN47hHirV9o85QsAEy2KhqPqH3dcPnMseuqnB5JQ0rn\\u002fr3y+2LAiHk9\\u002fNASrZr+Lf308QIXpRnK4N43LxdpXgs\\u002fuXk0dRHE7023LGlHAHe+aXP5xr4Wo5FxgAQKGQFs6J2bB6nBVjsFKl0Q73lhaWdHGHu+gJgrSj1HYfGCIeO7lpPZCF6rZMyuLB\\u002fgPLJJUpX\\u002friML7ZVbcOnnjTpwezixvwDgQyLbHR3rt+2\\u002fjs45O8PIY9IBLg6\\u002fTkhgkH\\u002fnz6uY2TBs+uAAAJzl4MEhkA0CmXXuVUDd4YgvRikPWqgxPIhj1lUHcSs+pvMyOwB8sCSeXKLV8eyS1txDuQe6Qy5ZYvj3y+ecHYKB+8YzEVYoF0ffJH4gEmFfXxxd5nI8da4AJbMpm4YvGYFYvH1NS1382tq65tq6lv7+gUSaVKqVShQlESkUihklhMmh2b4eRo7eVhF+DnHBnubjtwhVu+srVD3gAA8GWORgACAGCQyI8Ex\\u002f5alAEAeO\\u002f2hVEz1znRB1z3hAGAqtVwP3hIR1pnHgKZRp8J+tUm1nLxk5XBtqO2DDDBsjRyherVr47qK7tCEKCXVRByheqt70\\u002f88t6KYN8B58qMKEd2Xtcwu6JQSU7ug63HtAC+3g6+3lpusdwHV1YVwIyvEWejmJKE3OvcenbU2PP1ZTXCrkYRf\\u002fapP1+OHj\\u002fHO8Sacn8fQ7FSUdjZktpce6KmeOv4+TEO\\u002fRQshSDN2THo9TyeFhdqt5pPFwKZXOtuMycm3IFjMDDBsigYBt798dRdrcbjvN3sIoLcQnydvVxtne1ZdjZWVDKJTCaiqFqmUPFFUm67kMPlFVe3FJQ3Vda3Dff+Urnyla+P\\u002ffHRGke7kV43RSyQHv\\u002fzhoaNH31trounhSdY+kVAiMiDkx+sKbSdk5etubSvWSxol4nfzDj3VsY5NysbawpVpVbzFbKeWlkQpBeOTE3ruvVR0to2Pdio3dVab0pNQBAvW7ZeY7E0MMGyKH8cSU+9O7xZJq6O1gunRE1JCHJ3ZvfbgEgkWNEpVnSKm6NNTKjH3ImjAAAt7YKL6aWHL+Zx2zWqKNutvUv0+nfHt3+wikgc0UMwmndfxYwLWvDoeEPHMxL4WdudnvPo2xnnztWXYQBgAHDEfM5DAyO2VLo13CQH0pkXm63dhYUtXL0GMrTsxibtLnS3sdZ6qtkIARMsy3Ert2bnkVuat3dztHl6RfKUxGAt9lh1cbBeNy9+zZwxJ68V\\u002fLo\\u002fjSfUtFu7pKrlz2MZG5ckDfeJFkPz7isWm\\u002fHy16t02Q55BFKq5eXCdK6syssqos8pOyr9l5RFZby24zXFGdz6BhGPJ5chCLAm07xZ7FF2LsluPimufvB3BqQ7X7th7\\u002f7UzfgJ1pVKLVd+xLjDteFDgAmWhegSSD78+YyG86UQBKyaHff08mQyWaffJQQCsmBy5KT4oP\\u002f9cvZmTrWGV\\u002f11LHP8aP8ROxnr0ParGnZfbfpkmb2LUbd9tQDhNhMBAEGsxIEaBLMdX4tJMV5AkAlDMSytrg4A4Glj42erZUrUrxAnLQvVtoslpa1tWl8+XI08fkGzlildvLabGI4cI3qkxpJ8989VgUijX9t0KvmrVxZtWpOiY3bVw5pJ++qVRavnxGnYHkXVX+y8ODJ3EOho4R\\u002fdqVH31ZTFceNnRxk6HggayUra2nbn58lRFYOs576GUGdHsrZdoefKKvQbzCB25+Rr\\u002fUk8zsdLn6FYIphgWYLM\\u002fNqLt0o1aWlFp2x7Z7kmmzEPC4KATWtSVs6O1bB9STX36u1y\\u002fcZgFv759qxcOvTuXQGjPF74ZJkR4oGgkSy3uXmcl9dtDocr0vMmrRQiUetNlM+XVeo3mIEI5fKDeYXaXRvp6uLBhv3rQ4AJltlDUfXXf17WpCWJSPh884IwfxcDRbJpdUp8hLeGjX\\u002fdn4ZqW+zYTNWWNV88nDVkM1sH1nu\\u002fP0ahwQIzkBnYnPP1nBsvXG299w+7Vtw058YLi9JeVmEovoFpopbPy2hsXBcZFeWi\\u002f0\\u002fFRG8tO3gq2ztKuMNepq2F7Rl3+NqW3ZoXFqzfYCwSTLDM3tm04kYuT5OWz6wcHzfKgJ26BALy7tMzGbQhKmt3a2jpujLCOrF2fHoSG2pnCRKZ+M4vGxxd2UaJCIJ0UituKhfWAwACWfe+WZ1vSQcA+DE9SIgZrBWwplKn+Pn9m593q6Fe7zcf76vpt82H\\u002fXXH4Jtw1HR2\\u002fZGl5VNoJNKCUaH6jcciwQTLvKnV2F\\u002fHMjVpGRPqsWq2ptOktOZgy3xiqaYrBI9czDNoMCblzrWSuzeGHsbd9PHSsDhfI8QDQbo713ILAMAg0tzpjgAApVp1lZsFAAhmaZ9bGNMLCWOXhoW\\u002fMyElyVP\\u002f3zxHe7jZMejaXXuyuEzr6uqaQDHszTMX5CqVdpcvigizpWv5RxtRYIJl3s7fLOFo0H1FQJAt6ycbZ73\\u002foqlRttYaFdnLLW2sbuwwdDymQCFX\\u002ffzBkSGbLXx0wvTlCUaIB4J0p8LQa9w7AIAAlmf3rkSZHQVClQQAEMiC058BAUGmBWlZMlSJorvuGvD753fXb97VtvwVAUEeHTNav\\u002fFYKphgmbcjlzT6IZw5PizAy0jrfqkU0pJp0Ro2PnOjyJCxmIoDv1xurhsilZy0MPbJdxYYJx4I0l0hr7I7nfK2ulcP6Wb7vY8jHyu41xAAACwI134c7Z+7OV1Sg2ybc6a0\\u002fPeMoSeDDmRJZLjWVb5GGphgmbH65q7CCo2+hazSeH2fXsxI1vRjJS1byxp3ZqS5ruPgr0OsQkiaEfHy16sQAqwpCpmNzM57C9C8Ga4AABRT3+0qAQAQEIIHXcsFdBYmztNd65LuIrliW1qGXsMBAID0uoZXTp7TujQDnUzaPH7klokeLphgmbHT1zVaYRsd4mG07qtuHs7sIB+NPmHrmjo1GeI0az+\\u002ff1ghH2yuQ+yEkDd\\u002ffGSEbx8EmZ183r1yTV4MFwBAlahRrJICAFxpDmQCLGENAAAIAMujR2l9+Z6c\\u002fLounv7CAbdq6586dEyJar\\u002fA8+nEeEe4wbPG4I+BGTuvWe2r6Ukhho7kYbFhnuW1Gu0heiu3ZtmMGEPHg5fLR+\\u002fcuT7Yf6aIBP\\u002f3fnuUpKeirzjD5HhHABnPT7Fv9H4bxPI6PeEHvIIxWSuiIralZci0mk6uUqs\\u002fv3LjlyXz9RLJlcrqF46d1npiOwAg1NnxqbFj9BLMCAG\\u002fNJur6sYOTTZaRhAwMT7QCPH0ER2q6S4KRZXNBo0ERx1cwa8fHh2kQVic74d\\u002fbLSYklcYJsE7BAgyLWw6TZeKBpcqqs6V6qGw+67svGcPn9AluyISCJ\\u002fPnk4kwJxhGOBflrnKzK\\u002fVpFmAl5OGa\\u002fr0S\\u002fNByZJqY29uajQ\\u002fvHVAxB9wmmrClPDP\\u002fn2azqAaMyTDUhtwYTkEmaknEuKIOizh\\u002fvDiFa3LgQIAVGr1RxevfnjhCqrb9mSvpIwLc4ZT64YHJljmSsMEa3SYp4ED6Z+rgw2NqlHHTENLp0Q29O4xZufCwdu3rxQPdHbGioT3fnvUYvquumEoB+8QIMjkeNuyZ4dqX\\u002fe8XSz5+NI17a5tE4vX7Tn0z91crZ\\u002febWqg\\u002f8YEg5dRtDwwwTJLajWWV6bRL7MwP2dDB9MvBAFOdkxNWmIYqON0Gjoe49v744WBTq18bupLn68gmOCsdqRPwje8xBdTGWkPNQgyL5uSx+oyuHassORC+bB\\u002fuG7W1i34Y\\u002fedRl2\\u002f9njbsr+YM0PHm4xMpvcRD2mgrrlTJldq0tLI6wd7s7PRdLEJt1No0EhwoVT2s1QHISDPfLh4\\u002fSuzjR+PJhCE1fstph56kl+vxl0Y2qjviCDIEvja2S6LDNflDm+eudDI42vYWKVWf3kt9dF9R3QvB8+m03YsX2RNs6CZDEYEVxGapco6jbYCJRAQLzc7QwczEFtrTfdS0GS2vtnZlf4+3iEMH8HmgbeYBEObEaKrJpeqZRcBGFm7d0OQ5jYljz1eVCpVavTF+GECmfzF46f3rV1BJg6x4ri8reO10+eKWjRaxD04CpH465IFPrZs3W81MsEeLLNUoVmC5cBmkvAbh6KQNU3fuR0W2INljhCSX58jaoVGO10CANTSA\\u002foOB4IshxOT+WxSvC53yG\\u002fmfn41dZAGKIb9npG16K\\u002fdesmuiATC9wvmxHrAovzagwmWWapubNekmZM9a+hGBqN5giWUwPpJJgEhOCBE995H1JLdmlyolp5UK7INExQEWYjH4mO9desN+udOzvGikn5Plba2Lft771fX0hQ61BHtQUSQb+fPmhbkr\\u002futRjI4RGiWWjQbUyusaEpc\\u002fY2hg9GdXKF9dRZIvwjUZFSyv+etWnEXlewiMtYOcolacVfJf8vwoVkOuUK1\\u002fKntnbyh58fs\\u002fXmjhyvb8BFBxkAhEv83Y8r6fYd1uclbZy562Nj07liSqVTb0jJ23L6LqvUzRk9EkK\\u002fmzZwdEqSXu41ksAfLLLV1ifAOQZ9ggmU6iIx1fY6o+B+gop8B1t+KQkyCin5Qdj4CMFgBaxiOncvVJLtycbR2sIXbkliUJB+vRaPCdLmDAkWfPXKiZ8L7taqaWTv++S0jS1\\u002fZFYVI\\u002fGHR3HlhOOz\\u002fYXlgD5b5UShVApH2dedMEEywTAdCDiPQpqhlvXenVquEX6Pifwi0SQgpBBBsACYG6k61IletyAT3q7cjJNZmlfBbHII2KzK5cs\\u002fR20M2IyDIOy\\u002fNpllWpTQIAPDWlJTUmtp2sfbbHnRKpE8cOv7d\\u002fNlbU29dqqjSY2xWFMqvS+aP9caneqLl0UOCVdzcamfFcLHWqOgRpLu2LkvrLdDXdy9IL0g2XyqVszH0gQr7mLq199Dhw4jM54nMZ1Wi32Bv1uCOns3t5A39y3XNkvioME33m4LMCJtO+2TWtKcOHdflJpXtHfP++FdfIXVzYjK3L1sAy7Xrka4J1om8EgKCHLhb8OLkJFuGpsvyIV2IxBbVfWVJFHJVXXlLYxW3vorbUt\\u002fZ1SbobBUIeRK5TKmUq1C1mkwhkclECpXMZDNsbK1s7JlO7rbuPo7uvo5+YW7WpjEehBBsyXa7lF1PYKpaDa8gMjeRWC8BAAjkCLUiw4DBmTmZTLnnaNaQzUIDXB5fOc4I8UC4mBzgtzQy\\u002fFB+Ed6B3Bfh4vzr0vlOTNhRok+6JljFza2uNixPWxuFSg8rFyBNyJVwQM2ESESy3JsVeemVpTl11cUc1aA\\u002fCAqZUiFTioWyrnZhw0Nn3X0dw+N84yeHxaWEUOkUw8U8JITkT7E\\u002fqhJ9j0r2A2ywhB4hh5Ks3yFQEv97GwlggjWw3Udv8wRDdF\\u002fRaOT3tswhmmChf9P2+dN\\u002fXD92p+dteIL\\u002f18dfxjGewb07ddLdxqaazi68AwEAgFkhQV\\u002fOnUEjwSlDeqbrX+iU0IBbVXVWFIoD0yS+fI8ECgXMZfHX3sK7cSov\\u002fWJhyd0aFNXPECenpo1T03bh4G0KjTxuRsT89eNDYrz1cmdtEGxI1u8Tmc+rZRfUituYshiouzCMDwBAEGuE5I2Qowm06QTKA6V9SNZvkKzfwCliU9feKdp3\\u002fM6Qzd54boaHq60R4rEktaVNN07c7XlLIpOe\\u002fXQFjvEMiUEhf79g9tJ\\u002f9in1UVVBa0QC4ZWUcXCfQQPRNcEa4+0OAAh0tCcStN8tHBoW2IOFI6lEfu149uUjd4rv1mK67U4\\u002fCIVMefV49tXj2eFxvk++uyAo0stADxoSQrAnMlYRGavwCsCSbN+TNuQOVxuWJ05Jhgu4hu2fL05i6vs\\u002fj+vfnOcXbuoz2MKcnd6akvLhhSt4BeDEZG5dODvOw33oppBW9NAlONrTDWZXxqSEo7F4qC5pOvXvzWvHs6VGLItadKfmpYVbZ60a+9S7CykPLijD1FjvfwkUCuzeN2lVtW3nrgwx5yYlMegxOPVq+Cry69PP5vW8TZ4bs\\u002fTZaTjGo7m1o6NyOE0nikqN\\u002f+jxvt5fzZtpz2AY\\u002f9Ejhx4+lGF2ZWRk0hB7UUH6lXuz4uBvV7JTy3B5OoZhZ\\u002fakF9+tfX\\u002f74y6e93eWvHO7GsMwBEEAAMWFjes3puASHqShH\\u002f64qh60yzPQz+mdF2ch8NN0mDAM++Wt+9s0+Ud4vvzDehzjGa6PZ04ra20va9Nocw69oJJIr01MXhcXA\\u002f+tGRr81mt+qBpvQUNAEGAOP0NEgunO560uaXpz7S94RwFqy5pfW7Hti73PuXrb9xyMjffrngqtgIXETNuF68XZBfWDNHCwY37x1iIaFVa9GrYzf6eW3Knufu3h7\\u002fzJvk00Bp4LRIaLTib9umT+4r\\u002f3dkmlRnhcqLPjt\\u002fNmBTjYD90U0hlMsMwPjarpf7Xn16Ssmh1r0GAsnl+oW0SCf0GmPqv5aaetmffm2l+2nXqZaUMHAHj5OGTcrOg+JZcNMbMHwpFILP\\u002fpr2uDNLC1YXz\\u002f4TJHXHcONVNdrYI\\u002fP71XUMozwOXTgy\\u002fY2JtfoQEPts22RXPX7zusMmRFQDKR+Exi\\u002fDNJ8SQT\\u002fkJrYWCCZX6oGs+2kUj7294EGqalT04yhQQLAMBt7Pxqy+4Pd24EADi72Di72OAdETS033alDlJZ1JpJ++6DZd4esEdBG8d3XBULpACAoGjvj\\u002fY8Z21nftlVt0BH+1Anx4IW7tBNtRLp6vLZ7OlBjvCfmVHBBMv8MBk0DVtKZDDB0oMxk0J9glxry5uHeyGCINa2VnZO1mx7JoVGJlNIMqlCxJeIBdLOVoFYqE3B2NtXiq8ez560YLQW10LGV1TefOJ83kBnrRjUbz9Y5u\\u002fjaMyQLMmGtxZseGsB3lHoBAPgYF7hl1dT+TKDVJBmUMgvJieuHzOaCOf3GR1MsMyPox2TgCCDT5jtxhcaY1Df4iEIsuTJid+8snfIliQS0S\\u002fMPXS0d1CUl1eAs6e\\u002f00D1QjEMa6xuK8muzc+oTD2dq5APYxLVH5+fGjcjggJ3qTN5coXq0x\\u002fODvSjSqeRv35vSbC\\u002fs5GjgkxHWVv7e+cuZ3OaDHT\\u002fWSFBb09JcWaZa8eeqcntbLClMLyZmnYEIoar5QMZzrznfmvvEg3ZLC7c68e3lxkhHounUqGPjv+kvYXX71knN9uEqeGxE4IjEwPoDOpwby7oEp\\u002fZnX70j+sCjXeZfOHTZbNWJQ73QZCR\\u002fbDzysFT2f2eYlszvnxnUWigq5FDgkyEEkW33cz8LSPLQDux+tiyP5gxeZwPfpWKLZFIJd9dnfFUkKZLtmEPlllysWdpkmC1tAuMEMxIQCIRFz42fsenJ3sftHVkTV4YO352VHC0Tp9i1rZWK5+fOm1Z\\u002fOcv\\u002fFt4W6PJXif+SoMJlonLLWo4dLr\\u002f7MrN2eab95d5uLKNG5EFembix7Wl97t\\u002ffrn6jk+oG47xaKiwhfv66fPlbR2Ge4QNnTbG09RLrZoXrlTwacFpOonyRvbhV8Nn2FOH7heECZZZcnWyKawcekoQt0OoQtUk89nUrJXTVV\\u002fJBQDEjg9GTKy+2uzVSXt\\u002fvCgWyghEQsLksBkrEsZMDCXo7+\\u002fW3tn6iz3PbHv38Nm96UM2ri1vrilt8g0xg98lI9YPO6\\u002f2OzwQEuDy5TuLbW3Mu8BjS5ugrrEDADAm2oeA0+QeTlVr7+wKAJB6MtvEEyxDd1z1yGtqeffc5S\\u002fmTDfoU0YUCapwplu\\u002fFTFH80vM5lcv1FuQt5MmzZQqtKbRePXrdFdVxIlJDsIwTKk0uWr1dCvqsqenLHli0p\\u002fX337v98cSpoTrMbvqRiASnvtoSVRigCaNMy8V6\\u002ffpkH4JRf3MWU6I8f3hoxXmnl0BACqqW+MivdVqbPDdzQ0q9WTfDsLUE\\u002f13GZqI2i7e8n\\u002f3\\u002f3wr09DZVbcjBUX\\u002f3M01woNGjkZJ15WW0qstmhadhj1YZinET9OJsWU1rYGaZWPdFGoVhYDnvwoikYCY6mqXFc9OMfQjiETCWz+tf2raF7yOIYaA76aWrXx+qqHjgbR28Pcn8Q7BsIhEAgHXbuaHE6yGypba0iYfk+zZPVZY8v6FyxKFUUvWfXr5erCjQ4IXHCvUDwzDVGq15l22sAfLLIX4Omv4nzi3tHFYd15383euDM7cwpO1rdXCx4aeRFlV1AhXqEAjVlNNW3XRvQ83Evn+7mEPZ124kypVr5469+qpc0bOrgAAqFq96egpDh9+pOuHp5XddLewqa6hGrbXKMESSuTPf3Ho10M3fz108\\u002fkvDklh2Wi8MRlUL1e7odsBkJlfO6w7j3Xwf\\u002f72P9rEpA8ymTL9QmFJTh1eAZiIuevGMZhDVDuTiuWcmjbjxANBfcjkytTMysJSQ9UXGFLvRGry0oSe12knc\\u002fAIZ0AcvmDFrn3HCkvwCqBLKn3myAmpEu6mpQe32qreyD78RvbhDvnQi8yA5kOEiRE+a2bHAQB2n7mjfXSQ\\u002fiRG+9Y1dQ7ZrJ0nLqvhBvtqOqS4OXTGQk\\u002fcilhOmh8DAEicPgqvAEyEFYuWNCPi0uGswZs11bZ7+A1j\\u002fBeC9GXahFAAwPgEjeYLGkJarwRrxuqkO1eKOrl8AEB9eXN9ebNXkEnUv0iva3jh2Cme1CAVRDVXwm176+yF7+bPxjcMc+fLdDg1+YVhXQKHCM3VhFhNP9rOpg5vNrQvE9aVxt+oMX5Dtmlv4RshEggyNS31HZUFDd2v6UxaULR3zISQnrMmMtV9X27Bo\\u002fuP4J5ddTtVXLY9A3aOGBtMsMxVVLC79VCjSN3O3yxR4rfSB9LOqIShE6wOLkywoJGo9\\u002fhgdHIQiUxMmB7R71m8\\u002fJiW8e65S8ZZLaihr6+npdaM9NkXRgZXEZorAgGZEBdw6lrhkC15QumZG0ULJkcaISpIX9x9HMkUklIx2MwJmURutHggyHT07qOKnxYBAIidGEYiE1VKFABQV9bcUNHiGeiCS2wohr137tKBvKE\\u002fmTVnRaGsion8+06OEtX+q7IawzYfP3N4\\u002fSpvW7b+QuvHhxeu7MoecP\\u002fNwaVvesrByuyLmPSAPVhmbPGUKA1b\\u002fnUsE3ZimR2mDX3wBnK43AQaeVobOyvy7vXEIARk7IxIAACDRYtKDu5pg1cnlhrDXj91Xr\\u002fZ1aQAv7MbH3l90vj3pk3U8VZ8meyZwycMvZgxs354S9d7+NnbWVJ2BTRPsNILartXEaYX1BoyHmgYQv1dQv01+pbW0i7Yd\\u002fauoeOB9IvFHuKzRjmcLaIhyDL07r4KG+PHdmB1v06adf8LJy4JlhrD3jxz8XiR3hYMMqmUL+fO+H3pAldrFgBgZXTkyuiIIa8aXEV7x6unzhmuvkuXVFrZruUWQGO9PPUbDO40GiJkMajbXl9q6FAgLSydFv1R1TlNWu44lJ4SF6BhcQfIFLCGqvetVuvtczIvp+6VTbvs7Ji\\u002f\\u002fPm4nf3Qe2yNQCKxfNbaH\\u002fV4w3dfmj09JUyPNxwhUnvtn504835SlTgratsb+zA1BgCoLWlqrOJ6+Gu6elov3j9\\u002f5UhBkb7uFufp\\u002fvXcme421r0PvjdtUnlbRzZHp+oYF8orf7qZ8fy4sboF2L\\u002fb9Y1afyoleFtaQVQ4RGjepiWFuDvZaNJSoVS988NpqRwOKpkNvW\\u002fFMxClEv3xm3MMBuV\\u002fXyyD2RVkytqausp71cnr3Wtl62gdGnd\\u002faYiR1xL+npG1LzdfX3fbmBC7a\\u002fWyPtkVAIBMJG5bPNeJqesP6Q+p6ZcrNNpXfrh0mUdveRXnYYJl3sgk4jMrx2vYuKKu9YOfzqhh+W\\u002foQX\\u002f8dlUsln\\u002f38yPBpr1RLgSlnczp2cDAJ9TN1eeBmjLjZkf3vDbmKOH5soqvr6Xp5VZ0MvmnxfNenzSBOMBmHY5WVj8vnkchEvs9qyEMgJdPnqvqGLqS4nBdr6rR7sIAB3t7hkVNwAIwwTIvF7kHL7TsL+Bn9D44ZWzwqABNq+rduFP57g+nVCj+i4dhnmc6nnp+6t6jL\\u002fgFGHU8BYK0kNZrfDCpVzrVbdyc+0dqijmc6lYjhFTd0amvWU1OTOa+tcunBw1R4zDKzeXDGbruiypWKJ4+dFwo1+dK5LK29hahRiXOH5bs663HSEwETLDMBgYwf6twGpHhxQjsc2rz+slEjYeTrmSWb\\u002fniCE8g1XeAGlGh6iuZ5Zs+OXg+Dbe9I6Ae5aXNH717ZO3SbbMnfb58\\u002fvebnvzz3z9SeV1ivOOCoH50NPNK7tzvIEma2XcZtbOnvX\\u002fE\\u002fYnSRujEUqLoSyfO6GUjGn97uyPrV4U5a7Q3w9LI8LWjNV1FPpDaLt6WE2f1+F33mrbdVwCAyQFDV\\u002f4zO7AOltlAMVW7otmR6v5P7debAj\\u002frfSrM32XDwoSdh9M1vFVWYd26N\\u002f5++6mZY6N89B\\u002foAAormy\\u002fdKr1wq7RLIAEAzBw\\u002fIqb3SkSyzlZBB1fA7xCJhVKJSC4RyWQSuVymVMiU3f9\\u002f74X8v7dyVfeLwYtg6S73bu0bW\\u002fbS6OT4sf7WNoyOdlFJEWfPvzfnL4k16HMhSDtpp++PDzp52PXOpXokzYqq+q\\u002fIe+rJ7JUvzjRoSF9fv1nC1cOWoGHOTn+uWGzHGKIyS2\\u002fvTJ1Y1tae1cDR5bnXqmq+vX7zlYnJutykx\\u002fnSCu0uZFGpYzzd9RKDSYEJltkgIiQiIDZKq2SoRI2pCcgDXVaPLUrMzKstrGzW8G7tPPHmLw6Pi\\u002fF7bvUEX3d7A8QLAABKFZpXyrmVW309q7KpzfLLjgu6xKU5dZVFjY3VbY1VrY3VrVKx6dYCPXH0Loqqv9q6JjD43hAzhgFOY6fNUKsXIQgXvXukek9v723cnJh\\u002fvzzV\\u002fbq6sLGpps3N11B7fxVzW\\u002f\\u002fO0kMnWYiT4z+rltjQNNqZoweRQNi2aN7Cv3Y3C4S6PP23jKwwF6fZIUG63AQAwOELClq42l07wc+HRLDA8TSYYJmNu53XZGrpNOdlNaJiAPp26hIIyAfPz3n8nd180TDG\\u002fm7mVN\\u002fKrY6P8Fk8LSox0pdM1mniZDelEi2t4eaVcfLKOHeL66WWXgxTIpLlpJVnXSvJz6hsrtOyAAwu7lV56DWXFkGAhycs5NE\\u002fBoOy\\u002fau1AqGMJ5TyBVK+QMIXyvgCKV8o5QkkfIFUIJTBcr6G08nlF2dV97xNHCDB8g529fB3bqy695s+9WT2ihdmGCIeDIAPL1xFdR5f87Fl\\u002f7li8XCzq252DPovi+ev3LVfptKpt\\u002fuN0+f97OxCnBx0uclZbbuvgIWODwKYYJkRO6rzZe5hvrJDoe6\\u002fU8Tdyebr1xY9\\u002f\\u002fEB+XCGljAMZObXZubX0mnkhAifuFFeoX4uAV4OFLJG\\u002fzZkcmVzu6C5TVDX1FlZ31ZZ31bD6VAqLf\\u002fXjEqJZl4uungo6+71UpV5\\u002flqdOCXs5o2yNzbvWboiYebcaFs7K7wjMmkEBAkJGKKur0Sq4Auk3RlYdkH93mNZxoltJEg7nYP1Kvz2+uLvNbrKYAnWqeJSHetRAQDYdNofKxbrUr483MXp41lTXzmpUTXEgUiVqmeOnDi6fjWbrk2e1+10SZl2FxIRJMXfR+vn6p1IKi+sbaFRyNH+uq6qhgmW2fCzCvPyDSQiJAT0v3wXADAqwPWjTXPf+O64FiUopTLltayKa1kVAAACAXG0ZTrZsxxtmTQqmUohkUlElQpVqtQqFBVLFQKRjC+UdgkleE2Wx5FEJDv5z82jO6\\u002fzO7VcL2MiJk4Jk4jlf\\u002fx27Y\\u002ffr\\u002f2980bS+KDlqxNDwmClBu0x6BQGneLqbAMAUKvVMMHSo7STOVpcVVnQ0Fzb1qeag+7UGPZjWsbQ7QZFIhC2LZrnydaokOEgFoSHFrW0\\u002fqnbYGUjj\\u002f\\u002fCsVN\\u002frlwyUHmIwVW0dxRqOz441ttLuw48AxFI5LfLGhaPG6X7rfBPsE5xsg413CITiG+FLfNlOv9QfsqZarPCW9PaTiMKCSEP2WZ8rP+7T8\\u002f6+LdzqA61GNRqjNsh5HboNLRveVBUfeyP63t\\u002fvCgWyvCORT9mz4+ZPH3UpXMFp45np14rTbteunx14sZnJuMdFwQ9oKtNUJhZqd21aadylj0\\u002fXb\\u002fxnCouq+ns0vEmL6ck66u05uuTJ5S1td+qrdflJul1DZ9fufH2lBQtrj1SUKz1c+eHh2h9rSFcyqkYE+z586n099dOo2o2kiNQyJ69cTTGwQ0AkNPe9PvEJQwSBZhCmYZfKs9ui3tqlfeEXbXX2uWCtNbiRZ6JeAdl3mYmh3718kIadehsDNJceX7987O\\u002f2fHpSYvJrrrRaOS5C0f\\u002f+ufGr7aucXC03r87PS9H+1rMEGQIt07n9owPEogEa1urwf9HY1B6rjVESfftmXd0vMM4H+\\u002fHE\\u002fS2XJeIIFsXzHm48vtw\\u002fZWVfaxw2AV0UAzTegdGGok0I3iIul\\u002fGJ1OoWHQqeTjVXFPc\\u002fF6OTnk5OiXF7f58Mvx7sBCAAIB1L779u+bKSu\\u002fxFAL+UZm7xGjfbW8ve+XroyNwCM8QTu+69ev\\u002fjqosem5ZdKzPhidSvvrkZHEhJyrGAov+QeYr9dT98cGUhXGv\\u002fbRh8PaFGZWvLvy2+3VFfn1LfYeLl97WSudwmktbdSrNwKCQP58zXZuhuIGx6bRfl8xf\\u002fu8+HYtyvXPukr+DXYTLMMoOX66oahNpWTxvcoCfFYUydDvjkimUDtZWBIKu\\u002f4nwT2WeC5z9\\u002fJ3fiQjhMb+pP5afeiFoHt4RWYjwANd\\u002fP1\\u002f\\u002f4c9n7hTq1G8M7fj0xOHt13S8CYVGdnRh2zpZ2zmxWGyGFYtuxaLRrKg0OoVuRaXRKTQGhcag0OgU2n9vH035pKPFgLUtigoaQ8Pde3+IlBU3AQDs4XaEkCnhd4gK0u+vUBuoQENvYWP8rO2Ygv9mSaadyl767DR9xaP7noObxye5sPT\\u002fUxbi5PjZ7OkvHT+jy03kKtWzh08c3bBG86n3u7PztH6cqY0PdosP9mzpFNa2dPq46LSqGv8Ea5Zb7Cy3WADAZ8WH1vpMJBP0UCkA6ubAttr65tJdJ7O2H7xpCtvjmKPtnxw\\u002fsuO6Fhe6eNqFxfr6h3v4h7m5+To6uNggWs0eNZz33jiAACQk3M3RyRpTY+VlLRVlzV4+DimTQ\\u002fEODYLuu3UmV\\u002f3fxxeFSo6bHD7kJQQiIWHaqIv7781DTz2htwRLrlLpUo8AAOBrZ7suLkYvwTxsTmhwEbd1e4ZOI5gtQtGmo6f+Xb1Uk9pU1R2dWs\\u002f9YtNpE\\u002fx8tLvWcB6ZGgsAeHTGGN1vhX+C1a1R0lHAq423C9yQsZWAIK+ELAyz8cI7KEtAQJBH5sdPiA3YuutqRl4t3uHc42DL9HBm4x3F0M7vzxxudhUW65MyLyZ+UpgehyQMZNW6cWnXS4sLOWJRFYNBdXK23vBEyoIlcVQanL0HmZDe9UVjUkJ6z68aROLMqJ4Eqzy3jtvQ4eyphx\\u002fJtJo6qVKn2n5bJozTbqWehl5JSS7ltqXW6DST8k4j58MLVz+aOfSOh\\u002f\\u002fczdX6KUsiwoc1z8nsmEqC9Uf1xfW+U3ZWX\\u002fw65rFmadfO6kvfxDyGd1CWw8fd7rvXl9zKrdm2+3oNB7dimAgCYkI9l0yLTokL0HzzRLzUljf\\u002f\\u002fP5hDRsjBGTq4rglT0zyDhqiVJLpWLoyYenKBLyjgKDBCLrE+bfKe94+vMHzQEZPDKXQyIr\\u002fCh2nncxZ8uxU3eO5UK7lYsZuAQ72M0L6biarXwQE+W7B7MV\\u002f7a3n8XS5z77c\\u002fHAXp5XREYO06ZRID+cXaXd\\u002fBIBVMZHaXWuCrjdVCxQyAEBOe9OaoHs9lCaRYNWKWyuEze+Er\\u002fin5goAAHuoTDmkF0nRvolRvhl5NfvPZd8uqNXfFp9D8\\u002fd0mJ4UMn1cqIuDrutcjObn944o5BpNF\\u002fULc3\\u002f5q5V+YRa4lxYE4evWmVxUdW98kEAkjJ0+2O\\u002f73qh0yuiU0Izz9+ZLpZ7M1kuCpWPP0Pq4GCNMFLCh0X5dOn\\u002fpP3slCp062\\u002f538Wqgg32sx4C18f6+k6N1Eflxvt7etmwtIzMx1hTarqmrHj5uEgnWzqqLj\\u002fpNISDIUwEz38r7FwFgc8gCvIOyTAgCEqN9E6N9azmd59KKr2VV1DV1GuhZVAopOsQjKdp33Gh\\u002fdyddi+kZWfqFgoLMKk1aTpw\\u002fevOXKylUk\\u002fhRgiALk9Zr\\u002feCohABru2HMDU+cGdmTYJXl1LZyOp3cdZqzXNvF03q5HADAikJZOMpIExwDHey\\u002fmjPz+aMndfkerUTRTUdPHd2w2rm\\u002fKfkShVKX6e1rRg+9WMEIeMrWdnkjAMCfGTNIEW\\u002ftmMRvhY8i13S\\u002fmOAUPsFp6AmMkO583O2eXpH89IrkGk5H6t2q\\u002fDJOUVWzjjUdCAji5mQT6O0YHuAWFewW4udCMvlxwIEc2XlDk2bjZ0e99t0aROfVvP3TuY9RrSxBFakIwlCjLRTmJoBQ9RIXBBmHiC\\u002fJS7u\\u002fAUvS7OH9Sk6YHokQkJ4CWmkncxY\\u002fPfSkokHcaeDocvm0IH8ayXi\\u002fc6cHBzyTlPDzrUxdbtImFj975MTetSsoD02W+utONl+mZVFAV2vWJNPYf7BF+v\\u002f27jssimttAPiZ2d4bS+8dQUAUERV778YaNd1Uc1O9SW5uem76l8Q004t6ExNNrLFEjV0RFBUp0ntbdoFle5nZ+f7Ai7AiZXe2cn5PnvvMzs6ceZML7LunvKcqlpdeqbmKE2YqQnLBCLdIsCAXigiSRATdmPvZJO8sqZI1tXa2KFTN8s7Wdo1WbzQYMYPJbDRhgABUKoVGRRl0Ko\\u002fDFHBZAh5TIuQESAUBUn6wrzAiWOId1U3rymWFuQN3XwVH+j7zwZ2Oyq4AMNq9TzZBdFIY01FqFKbfTQAMATDBgjzJ+UP5PYvP3W6D59sRSLgj0iOL\\u002ftcVfWb\\u002fZTsTrGvNLfbcPi8+1p7bbfBkVub1VvmJiqqBL729a82ylw8fe29+ry0d1Ubj97l5Nrd5V1qqQ2f6DwmKUBy0xBsmWNBNgVJBoNTDxvIc4cKxwsFc9ujrdwxyQZNtjHp7EywI8mg9i7DHJIfaMMCXOSelO8EqvVwjb+qQBopsjqdcYfsKISqKjgsLsfl226AI8uHCOcu2bLdzY59dBcUj\\u002fHzv6VFd4vvcPJXBaFtrAiZzTZr3TG\\u002fvh6eO4ECQ4+SdHnhb+Njk0LSJDvw+qtMYzCa7KjJDkEfTqvRXz9z8TRxq99WNu+bcvIsgCNt2jO5WYUeClRoUwKK5oIOfx2B8tWwRl2HvV8F3jp++UFvfdSzXaH\\u002fItX0DonWjU9ynervZYipRXajXlTiicdiDBUHWygvqB7xm1oqxDo2htdHerWQhyKNx+Kz99Z\\u002fa2UhghPRQy2ZS4uk0GJR62\\u002fchHdLmM+SKlIg\\u002fXDj3kd\\u002f32jOpE7dYnthzYPe9a4IE\\u002fA9Pn7O5GBiLRrt3TJodgZBspHASACCeP84RjXttDxYBwF37f\\u002f+jtMiIY2+eO7GlwK4vLtDwoWhR6rUDd32PnhTn0DDqK1tJaQc37Md0\\u002f8VN50lpDYKGLZna9vWDAIAEPylZkdhgWnTkE1mZdjbSodc\\u002fumtfXkPT7oJimxtZnTpSyGLaGYmn8OYerOnhkS+ePPqfcydD+ILVI4bFiC9kv5b6getWcHhMRxdqL71Kwg6SFPo4Cn0cAIAK1tnfmuNU1St++D37yvUGlcYg4DLTEkMfWJ4ZNtCEm5Iq2Y9\\u002fXCgobVTrjCI+O31k6AMrxgd6WkEQx3k851cDbkb\\u002ft\\u002fK8VCX7c\\u002foGHm24fLaRTq7V2HN7uMj2uV+k2DBhXLGs9WjZoKrP3M51mfzu7b9bbF3gzKRS12eMticAz+K1CZbebK7rVFoIQo+ZR0r9YkTuvm8J5CZ06oFHAZywDc4gq3B5gco6xUMv\\u002faI33hhxaO\\u002fUHTtfkn2l6vu314YG3jbHKixr2vDGDvP\\u002flpgpOjSHThdnX6n+8b27\\u002fCQ8Z8TtCb7IuJNBufFH\\u002frm8Xa4NxtMptDp7bnfE7s5DggDwwYI5y7f+as9MMgCACccHvug27hkzypc7jPaS99ohwprOjkJ5677l6z6ftXB78bXDVXZtzwkNHwadacBrODyWQ2Noa+kczDww7\\u002fD1r2e7s6tuWr3pu539DWt+8fMZs9n6D71Srd+y6wLJ8UEQAAAAO6uiSzhssiKxGYdO\\u002f3LZIj7TNeVaBEzmw5kk7KDsQbw2wRrh47tj6eoEH+mM8Ki1iSkf5Z5zdUSQ93Bc7asux\\u002ffkEc7cych1LBbiUmHfg6H97E2uN5oLSvsu+ZhD3o7mMlnnxdyqi7lV3ZUqoeHMaOueMAAAFEFuLdTpEuEi4UeL5qGuqEG1YUIGjzG8SvF5bYK1t\\u002fz6zO0\\u002fxn798dRfvqdTKGXtivIOx25yfLV9xzflcw40vND1kgCWvfXPfFs+t0i5z6HPhcjFYA28lFqttGuwoH84btm\\u002f9azj2ncrKo3BcEv3VReN1qi\\u002fTalVRbvmdrNAWtvtmijTU0WZLG10uMVCmDHbx0Qgr2G0Y2jMTbKrLpMjw5+eNN7JDw0S8N1kbxxn8s4EK7ux7smjB1L8ArYuWL4xY+LfNZUAgEvNdu1yMKBKzSnMYqzV5pgsOgCADmtv1F0xWwxVmjMOfS5ELjZ34FnA6g671hP179Av2fJmpePady\\u002f9f5G+zbv9lF0m94s5hYKiDu6thIYDsx3JmSM8kjl2rnPLym+cMtGtskzn8M5J7l9fuRglEn8wbU7Xn8YIgWjejq1ynQM\\u002fFAEAUdzJbcbKIFYqHWUDANhUcRB7lMxQHMnNcuhzIXINptCzQtap6dRzBeTPxFJ1aLd9fJj0Zt0Wn8tkMWi3zsHqfqvPu3xEHBRFLH2N3Pn6wBnuQ1CnVr584ehleSODQp0eHPXK2OkcmnUFyP+WXPm2KFem04TzRRvTJs0IiXZJqC5nzzaCOEGYcNytMoz35s+qbm8vaVU44Vnjw0MXJDi2ro178s4erEpl+yi\\u002fwO4vniN8fFlUms0rSwcpVbzyoZjD84Pf7XqJAHRxyEcPxRxOFC5y6HMhcvkECCgD7VFNWIiCQWxWOFQEQXy4cbvKkd1j7gZFkPTksD7fGpcacbu7mAxaanxw33el3PauoTIazefOlBUXNpDVoBt67tyhU41VapNRodf+Vn7ti4JsqwuuyJteunCkVq004FhJh\\u002fzxk3vl+mH089kTw759mjXGgVfPOBOLRvvyjkUCpsPLdtAplNdn27UFpOfyzgTLiGE9J\\u002fFhFosRx4J4fBeGBHkKKpUSHh8w4GXZRwpIf\\u002fSW\\u002fzuYe9z2Cn4e6uHVE1lM654qLpvxwPL+6iI+tnYSnWb9gScSsO9ZmkFWYNNmJE7Iir3n\\u002fkl0unf29OMEcam1V\\u002fqY02K9djVH1uuMAcfyFc0Oj8wtsW75eRuSRpWKrEjIEiwUfLpkvqM3XX50\\u002fNhwkdChj3Bb3plgJUn9rsqauzusLjY3AADG+Ae5MCTIg8SP6rtPpafju\\u002fMGU5J08H794thvm\\u002f8msUFPEREs+e6ttdPGxQr5LAoFFQvYM8bHf\\u002ffWmpCA\\u002fsZqR0T7f\\u002f3m6qwx0QIei0JBJSLO3EkjvntrrVQ8jKrsDGhDzvaHzv+3658cebWrw\\u002fFsLKpdOwk2KDvJioRE48ND\\u002fznVgZNYIsSih8YNr9IMPXnnN7PH0jJW7\\u002f3t+RN\\u002fLYsb0abXv5N9aklsQoTQgYV0tZiiUn26QZfXZqzUY0oLwJkUnpAeGsoZmyhYyKDAeSGeJH1KwoH\\u002fDrC3DI5bvnlzz8tf39fPhOtBwsz45ld3HdpuPTozfEQES\\u002f7z9MKh3hUX4ffePxc7Ih7v8HnG6v4voCBIum9wdsvNMhnj\\u002fEOtrhnnF9LzJYtKS\\u002fEZuH\\u002fXK9m5wUuZvG1uPFmxkOmBsaOLWlr3F5O\\u002f2zGKIG\\u002fNnelWM8+czDt7sMYEBG1ZsLysXbFu3+8vnT42PSzq7cmzHPe4S21bt1WtPtv6WY3mvNoswwijhcB0WEeTLv+C\\u002fNtfqu9WGCsc93SIdGlZcYNZS5h9tPDH9w7Y+azqkqYnF388nLMryIXenzhvSlAkl8aQMNmrYpI3JFsPy6ZKA9\\u002fKnBXKEzIp1DiR9PPJi6UsjktCdblAvl3fk682ue\\u002fQ6tvzZo7w8yW92QcyRqeHDOuBI+\\u002fswQIATAgOnRC81jnP8mFEWwichjKD2WMCWEk8WgAAlg5TXaFynw5r0+PKv5peXxOxBfHSdNb70OjUGcvS920ZuL7Gzq+PK2Sdj7+5bDAJmZXWpo7tnx498nuuBbfYFCYE2SuEK\\u002fhp5or+r1kbN2pt3CjnxOPO\\u002fPk8FEFsXiyV39SCWywU1B0\\u002fBZhU6pfLFi396ed2nZ6sNuN9pU9nObvalrvx2gTLmcK5mTMCXozgZtHQXp+yKaLlv9WsV5mbO00NTbr8IDb8I+Uxltw36cB\\u002fz+GDSH1O7MkrzKlcfN+kWSvG8oQD74ah1xrzTpcc352Xc7y4n9SKxWZseHPZhxu3D5OS7hDk5qgoKuVyZGobK9mqjcacuobx4daDsG4ikM\\u002f7dMmCe379A7eQ8H2PQaV+tGgubRgPDnaBCRYpkFj+zFvP0lB2mmTNyZYPAQByQzlMsDxIQJhk\\u002froJg+nEAgDIm5Xfvb1v64cHE9LCY1NCoxODBWIOm8dicxlmM2bUm5UKtbxJWV8hKyuoryhswG7ZRM8KhYK+uPmeMZPjf\\u002f\\u002f6RE2Z+44sQNCwEizg25xgAQAOlZS7bYIFAMgIDX5x2qQ3j520v6mnssbH+Ejsb8fTwQTLsST0yK4Do0Xt2kigobr7mTnn\\u002fypQtCgHeb3JiOVnV+RnkzDf7sl3V42ZHA8ASMqIhAkWBLmJEX6+eQ1NNt9+sKT0xemTWDS7ViM6VFZkOItG1Ztt33Wxy6WGxgcyRsM9ENxxPNib0Ck3Fo1bCPfaKgEaEIfP+tdndw1YdJRcCIo8\\u002fubymctvLGwemRHlzKdDENSP5AB\\u002fe25XGYx\\u002fFLhvobvKtva1P++0P7sCAPxdXvnpGbhwB\\u002fZgkUduKKvVXlAYKzTmVgOuMlv0GGHELEZXxwXZbsSYiKfeW\\u002fXRP391zkQoKpWy8aM1kxfeHEoeOdY1CVZdfdu9678jCPDxB3emprjvoAZElgZN59H6iouy+qrO9matWouZEIDw6IwQriBR4jchIGx6SDSTMtw\\u002fL1IC7UqwAAA\\u002f5OatSklyw8lJ5Yq2u375vU1H2jb2X5y7kOjvOyNmWH9FHO6\\u002fMKToMNWeaPmgRV\\u002fU8ySKUKgIg0HhGnC3K+ALDd6MZek4Zvns3zsHM+HdHnwR5\\u002flP1qVl9dqxSyTlBUVIG6vlDn30rX7dkUMQYMG8VJhdeb1cWf0nV8+db6699TtEu0HXbtDlK5p\\u002fKb3KozPWxY16OClDyHD45ipuK1ws4jEYaqPtX5vrlZ1b864+MHY0iVHZr6RVcc+vv5O4hBAAQACwcf\\u002fhP+65M0oiJrFZzwITLHupzM27ah83WjQAgBDOmFj+TF9mHJcqpaFsAIDCWLGj5kFXxwjZZfaqDGmQ6N1\\u002fbFUrSft6ZyV5XPRzm9ZJ\\u002fPrYzWnk2CgnJ1j1De1HjhVFRfo++vBUsto8dr7klU\\u002f6rhn26uPzZmclkPWgTVtO7Dh4uc+3tn90X1jQ8P1bfyu1yfhKztHdlUUDXwqA2mT8suDCb+XX3hk\\u002fe3ZorKNjc08IAJnhIUdK7Zpn+cW5nIUj4ny57rLlwNnq2if2HLAna7wdrcn0yO97d927hsdgkN64R4BzsOx1UfFTV3Y1RnL3wuAP4vizRPSwruwKAGAhSBjPhlwubWLs10eez5yZRHrLfBHn0deWvvvzo31mVwCAkeMG28dOEFhe4+wzNdFy7UF7Qvr+x9O+Ut77b69ks+j2tAO5s3pN55ID2waZXXVrN+gePr5709WzDorK\\u002fc2MibazBbXR+PyBI25SfGVb3tX1O3Y7IrvqUtOhfGbfIZuLh3k62INlr0b9VQAAilDTJGtufVdtljk7IMgxRFLeK9\\u002fcn59dse2jQ0WXSNjWTSDmzl0zbsXD0\\u002fovUjr4ee41HR9gFpUvd2ll+6sC5mg6xc+2wF57eYltN0KeolmrWn34l0ZNH7MXfFncEJ5AyuIYcVyu11R1tusws9U1m66eM+L486MnOyVY9zI1OoKConYWizpbXft9Tt76DFcOFOIWy5vHTv58Od\\u002fRDzpZWb3p9PlnJk9w9IPcEEyw7GW26AEAFIRGRfroBa1QH3d6RJADpWRGp+z8R9X1piM7ci4cK5I1DHm\\u002fZ5EPb+S4qKmLR6dPTRjMEkVpgNAvWDzgg9r1J+S6QyP9t7FpUZXtb1xvfTwlYOdQY4OGAyOOPXh8l1V2hSLI6piUVbHJVlsNGnHsdGP114W5l1obep7\\u002fsuBCBF+0MibZGRG7EwGTmREafL6mbuBL+\\u002fXByTMRYuF0F80Bb+xUbfzz8KX6Ruc87svs3ER\\u002f39lxMc55nPuACZa9+LQAOa42W\\u002fQyw3U\\u002fZq+pJEXKfZXq064KbJgwWbCzrWU5iqpydUujrkODGfW4mYFSOVS6mMEN4\\u002fhEcaVpkvAUUSgDJe2nPTIh8JFXlz7y6tL6ytaSK7WVRQ2N1XJFc2eHQm00mExGDEUQOpPGYNIYbLpYyvMLFvsFi4MjfRNGhweG+Qz1cT+deWnAa8SsqWODb0yZihK\\u002fOuR\\u002fJQAAANcKG\\u002fbsvVxY1NCh1DEYVB8Jd2RS8JpV4wIChLY1CLmhD6+cKWzr1bPuw+J8M21pmrSPbeMYFOrM0JgZoTFbrue9kft3z7Gely8cTfcLjuAPu2ltS5IS7E+wLATx9L6DP65aNjo4kJSoBm9XQdGbx05qjCZnPvS5A39FiMWx0uFVfRQmWPaK5k2VG8oAAIcbXx4tucuHEY0iFKWpvkx1tE570Y81Qm4ogzOxHMGIm7dUndtSdVaLWU8g0OMmPW5SGDVlqpajAIBywECpk\\u002fziFgaPyvKNRQBpBfBConxDony7y1a5kAmXVXe836E7hRM6Nj0uXPiUiDW0EZyftp3dsu0cACAm2m9kUrBWayyvlB0+Uvjg\\u002fcNxJMhbVXS2\\u002fVB8qecZLo2xdebKEeL+9vpFALg3YTQVQV+6cKT7pBHH\\u002fp195JfZqx0Vq7takBD3\\u002fokzCq29S170Zuy+33Z9s3zxuLAQUgIbULtO\\u002f\\u002fLhY0fKSCiGPFQ6k\\u002fnRP\\u002fbtuvdOAXMYrUKFCZa9kkXL6rUXG3SXtVjbadmmnm8FsJLnB7+zr\\u002f7ZVkOJi6LzWs165WO5W6s1g11eZ7RgR5uLSlTNWb5euAAKsyivNq9EEWqE+AUqKpRr9xfKHkzy+07EmjTIFs5fqNiy7RyPy\\u002fzP63ckj7zx554giOoaBZ\\u002fPcljgkLN9nn8e6z1\\u002f6MUxU\\u002frPrrqtix91trnmcG1Z95nzzbXnm2vHB4SRHKV7o1Eoq1JHfnEux\\u002f6m9Gbzgzv3vDN\\u002f1oKEuIGvtoMJx7deurL5fK7j5rMPqE6pfHrvwe9WLkWR4VLjHa4itBcFoS0Ifn+S35P+rEQ6ykYRKosiDGanTfF\\u002fdknoJjrK9mclujpGb6PBDPdnf39rdoUiCJfKFNDZFKTvH+zloekkdl+5j4bOH0x4S5Lfj37c5RL2jHjpJg49ukb58eBb+G1HDgDgkYemdmdXAAAEQSIjpOSHC7lIu0H\\u002fZ02vL3vRAsmq2JTBt\\u002fDC6ClUtNcv13dFF8kJzqOsHZVCVrFQA4Y9vffgu8dPY2TsstynA9dLZ33z03snzrgwu+pyprr2\\u002f04NoyWosAeLBChCSRIuSRIu6fPdib6PT\\u002fR93LkReblPS44265XdL32Z\\u002fLURmROlsaEcCQ298VevzaipUMsKlA3Z8or8jnqMwGkoZVGwd+63rTSc5dDimdTuoqAInzGmWb3dQhjRvtZeWDGZsOKSJgRBpk6Od2ickGsdqCmx+hRfHZtCGUp3QjhfNCEg\\u002fFRjVfeZU41Vcr1WyuKQFqUnkHI5d41O\\u002fSE3j6wGv8\\u002fNO1td+\\u002fa8WckBNi7+vZUBw\\u002fYVlWzLu1LSqiCrTft9e+FSop\\u002fvfAf32LkJmGBBHsZowQ403lxaHMn1\\u002fWn8ej7NehhLwuBKGNwMn6j10ZM7zfojTYXtJo2I7p0fA2a83YA1nKmxrtCDWdR0ysAJllKpwzCLWMxhwcJXXq1nYtRlTtiQR8znhcf1bAcniFONVcujR9obnKfZMD5jV0GRUm8gq8FSuWLl1u0LE+MfnzAuTCS0p6maDuWO\\u002fIIdVws7DaSF12VqdKTaaLRz+eG\\u002fDh6Jkojjfb2\\u002fdxwmWJCHqVTLes5qfzhmyq3ZlRUBjbUizPXz0B2Higq4dEGk+EWr8zRUMJjbu5aGeeXgKdRTrqy+58twviiYO6ifkJ6yAsOtzmQ31w3DBIvPZDwxMfONoydIbBMniD2F1\\u002fcXlUyNjlyWnDglKsJqQLb\\u002fe680NB2vrDpeXlXZNuTyMYMxOTL886ULOg2GJT\\u002f+0qrR2NyO3ow9umv\\u002f7nvWCFlePuEdJliQh1EYe\\u002f1ih3KG17rfPolYWc3q7Wx6HA0V2nK7kI2iSIdSazSaGQwa2dENCzhu0epNOp1RozNptUaNzphf3ND\\u002fLQUlTWwWncNmcNh0DpvBZTPYbDqN6qhtgBs1KpWp1xScGIEtvzuBHD6HRteaby7yL2ofpuWU14xK\\u002fqOgqKilldxmcYI4Vl55rLySTaelBwelhwZHScQRYpGYzWLTaFQU1ZhMaoNRYzJ16A0VirZSuaK0VVGmUOhM1iVhSZQVEfbFHQvpFIqUw\\u002fls6fy1P++0Z9JYg7Lzyb0Hflh1x5BGqD0OTLAgD8NAe2UANVpFgsDZhWTcTbBgvVx78FrznUH8exnUQLOlXW28RkUFYcInBnM7g0GLjfEvKW0+fbZs5nS4JuOmdqW2pr5NqzNpdEatzqjRGrU6o0Zn1HWd0Ro1OlPXGYNhyJ9tew5f3XP4qtVJOo3alW91\\u002fy+XzWCzGdwbL29mY0nxQ\\u002fuxr1ZZ92pEC4dcku3GjQJJvqK5+2VlZzsBhmP\\u002fJwVFP140b\\u002fGPP+vNDslsdCbzqaqaU1U1jmh8SObEx3y0cG73vP60oMB\\u002fz5jy+hG7ymifr6l7\\u002f8SZf00b7EpnTwQTLMjDRPN6LSn\\u002fpvzkeGmMYKBRQu9GRYWpAX\\u002fUKjfVdX5mwuVUVMilJwTxHxh8C6uWj339rb2bvzoeEiyOj7tZy7u+oV0k5HC5w3Sv1r9OFm\\u002fecsqZTzSZMVMn1tE5QI0lFEVO\\u002ffHskFpu1Wutzvgw2UMLrvtGVq8bzRa8w6AT29qaR4sQi16ZOfVfB48MfKnHWpmS9OacGVa1FdalpVxratldWGxPyz\\u002fk5iX6+S5K9Nq1NTDBgjyMhMFNE4ddbq\\u002ftelmtka8+s\\u002fnphNkz\\u002fBOHT3mVW9EoomjJ6wC8btvtUybHF5c07fzj4mNPbI2PCwwMEGq0xsamjoaG9m+\\u002fvC+aO6g6SZA7U5ms5zuzaTauaeDQrBPuTpNheCZYAIDlyYnZtXX7iryw2CECwFOTxj82PqPPd9+YM71UriiW2TVC+u9DR6Mk4kR\\u002f7\\u002fwLA+tgQZ7n8biZPXOpZr3yucu\\u002fLT316faaCxqM5FUzw8djD097\\u002f+2V4zNjWmSdp86UFBc30qiUFXek+\\u002fnxXR0aRAITjlud4VBtnG\\u002fHpVpnZgZsWG9W8e68WZnOqsbuNEwq9ZMl82+XXXVdsPmOhXZWZjdg2GO79rXr9PY04rZgDxbkedLEYU\\u002fGz\\u002fr4+l89T9ZqFe8VHdhUcmS6\\u002f4jFwWljfSLgsrihSh8TkT4mwtVRQA5xa\\u002fcu0ddlg2Gx\\u002fVbvRKNQvly2aO0vO0mf8O4qoULh50sXJPgNUEkhSMD\\u002fePG89Tt299ykcqiaVOon9vy5ZfUyyqCXTHoKb\\u002fv3gYaJeyInbhqzxofBszpvxM0HG\\u002fMfzvlx8clPtlSdVZthhxYEAQAAk2LdX6XFbNzuV2O2vpFJHe7f1Tl0+vcrl0ZJvGHr6xkxUXvuWzNgdtUlKyLsyaxMO5+YU9fw9t9OnezoHDDBgjzVFL+EfVOeeiRmKpfaRx91nbbt4+t\\u002fzT3+4Relf8NxQwgSMqx\\u002fTXS2rn3T3ZJgCejDepVJFwmb\\u002fdtdq8YEB7k6ENuxaLQ3Zk\\u002f\\u002fctkiHmMI61oeHZ8xIybKzkdvzbu6q8CuKfNuCCZYkAdjU+mPxE77a\\u002frGZxPmhLD7+O6owQzfVpxccvLTEy3XnR8eBLkPP7Z1d2+r3sZakfLeCxJpKEXEhAkWAAAImMwtdy6bEx\\u002fj6kBsMTo4cP\\u002f96+4clTzUGxEAPlgwJ0IssjOAV\\u002f76+1qzV9VUG+79upAX4FAZd0VOWBc5PldRvbv+0vGW6yZLrym3CqP66bxfnoifeX+UN9dcgUh355L0O5d4yR4A0QLrbyDlyjYb2iEAqOzsdWMEXwRnO3ajUyifLJ6\\u002fWZrz+bkc3GH7N5NLwGT+c8rElakjbf7\\u002fkcugb75j4bKt2+0pdmrEsA279u2+d60Px0tWpMIEyy3Ud7wsV2+x4cZwySYx5w7S4\\u002fFECEAyfCIzfCJVZv3u+rztNRda9J09L\\u002fi05GgoRzLDHxbShNwUYSGuX629dLKkILeqXaZStmlMBjOLyxBKuCHRvvEpYenTEsJj\\u002fW1rXMxkB3B4zVp195kypdyGdho0nTqs14dogtg719jbDEWQxyeMy4oIf3b\\u002fodoOpavD6Q8FRVemJD2VNV7MtrcPMtpH8u68WU\\u002fsOWBPIy1qzT92\\u002f7ltzfLB7xHkzmCCBXkeo9F86myZXmdavHDUre\\u002fyaax7Iieujcj8o+7SZyXHek7A+qj48FS\\u002fBAriDb+6kJfJ+bv4h\\u002fcP1JVbD5GolTq1Uldf2Xr+r8If3j8Qlxr6xFvLIxNs2b1gvH\\u002fYH5WF3S8bNapqVUcEf2gjO2eaqq3OjPMPtSEYr5cS6L\\u002f\\u002f\\u002fnXvnziz\\u002fco13I5Fdo4zMzZq4+SJkeRNzJ8bH7s+o+W7nDx7GrnU0Pjm0ZOvz55GVlQuBD9pIM\\u002fTIlOFh0o4nP6mYVIRyqqwjF+zHuu50rBJr+yuUApBbsJkxN7asPW1B3+4Nbu6VW1Zi8TWymTTQ6KtzhyuLR1qI4dqynq+RACYHARLe\\u002fSNRaO9OmvagfV3T4uOdHUsN6EIMi8+dv\\u002f9d22+YxGJ2VWXjVOyxtldEuyXK\\u002fk78wsHvs7twR4syPOEhUoAALExA4+VBLNFz46Y868rO7vPFHc2pkvg5wHkLrRqwyv3f1ecV9N9xi9YnDUvOXlclFjKZ7LpaqWupqzl2oXK3OPFWrVhwbrxAjHXtmfNCIkWMphK480+3V\\u002fL8h9MHDv44ZhqVXt2S6+vKBn+oYEcWIq2P1ES8dfLF+fWNXxxPud8TZ0LIxEwmcuTE9ekJYcKhQ56BAVBPlk8f8lPPzer1ANffXuvHjkeI5WkBgYMfKkbgwkW5OUyfHqtH4aVsSC3sun5Hd3ZFZ1BvevpOUvuz6JSKT2viR8VNmdVhslgPvrHpQlzRtr8LDqFsi5u1OfXsrvP1KqVW0su3z9izCBbeOfSSaz3xO17E0bbHM+wMjY0eGxocFVb+8+X83cXXlcbjU57NAVFJ4aHLkpMmBUX7YSKZWI26\\u002fOlC+78745bNw8YPDOOb9j1555710i5HBJjczKYYLmFAMFTYs4yDG\\u002fHLUrM0o7h7ZilHbN0YHg7ZunALe2YRUkQw3ozCpvpe1dTHObbQkNu5fCvOWcPX+s6ZrBor3\\u002f3QEqm9SheNzqTNn+tvRUd1yeO\\u002fW\\u002fplZ6dWP93+XSaNDBVOvCkrm0lV47Ulfc8kyD2nR0Wa2dIw0qkRPzyzKkbp0w8UVn9d3nlqcqaToOjvvKx6bSJ4WFToiJmxEaJWE79u5cc4P\\u002fKzKkvHT5mTyOtGs2G3ft\\u002fXrOCRqEMfLVbggmWW6CiEipd0s8FKsPJita7nRaPOyMAMaQ9cE7IelXACuX0998ZgpzGbMK2fnS4++VT767sJ7sii5DBfCl92sazB7vP6DDzfcd+\\u002f3Lqkn7mqhMAbCu5\\u002fFpOr89LFEHezpwNCzTYgEWjzYuPnRcfixNEXn1jdm19YYussEWm0OrsbFnK5ST5+40ODhwTHJQc4OfC1GRV6shVqbb3tnoHmGBBHubpS9t9GNwlIWmJwqABM61LbdVflP7d\\u002fZJDZYyTOvwzDHIhDLN9VMLJju+53KG4MU9l3IzEKX0tiXWE5dEjzzbV7Km6WTW7w6i\\u002f8\\u002fD25TEj18ampkgDe\\u002f5SmS34maaarwpycmX1Vu08kTJh1CD6vYaD1jpFXUkjAGD0jGQEHULOSUGQrqHDrpfNKnWpXNHQqWpSqZpV6maVukNvMJjNBgwzYJjRjBEA0CgUGgVl0+giFlPIYkq5nCA+P1goCBcJ432lQpZdWy8PExYLceVandSHGxrs2O\\u002fbMMGCPIwa05+UXf+97qIPg5spjUkTh8Xw\\u002fCK4Ug71xqJCAhCtBnWhsuFwU8HfLUU9dyG9K2I8A4U\\u002f897MjHlGaUcAwNHfL3Yfr3zEqYvS350wt0WnudByc8I1AcDO8oKd5QVSFieMJ\\u002fJhsTGLRa7XVna2a8x9zBZaEjniydQJTgzZrVVcrcmYNyrvWIHZhNGZ1ns+Dl4AnxfAty64D5Hu2KliuULdoeTrdKb4WAfOo4cfNpCnUhg1+xuu7G+40vWSgqBcKoMAQIeZMKKPboxkUcj6mMnOjRFyNr3B9kLSzmQ2YWXXbvQJhUT7JaSFOfPpTAr1++nLNpzce7KxyuotuV5rtRPOrVbGJL8zfg4cHOyJQqWgQ+m7glyIQac1NikpFJRpRzY8GLAOFuR2GnWdp2WVp2WVlqFU58MJS6dZrzLr+8yuJkhjvhp7LxXx1MmS0CCpNHpXhzAoZdfqzaYby1ZGjnVBkSQOjf79jOVPpU4cUslsDo3+dubs9yfMpSAwmYA8FUEQVBqFTqNaLI4tAAsTLMjtXFe2TPCNIAjCbOkjVbo\\u002fatJoSfjgWwvlSN4ZteKLsXezqXTSQoTcVYfKMxKsxhpF93HMyGCXxEBBkKdSJ\\u002fy1+P4F4fEDpllsKu2ehLTjSx9cE5fqlOg8iVFnOr\\u002fvUnFOhasDgQaFyaDFRPoajOYER44PAjhECLknCoIit\\u002fmKPEEaM0Ea02pQ5bXXXOuor9e1N+mUSpPWYDHrelRkmOKXEM\\u002f3n+gbmyR0zacX5BLNrZ0DX+QGNJ0314uJpK6cdhMlkHw+ZbFcr\\u002f2rtiy7pa5MqWjWqvWYiYKiPBojmCtIFPtlBoROC47i0OBXlL5NXT0eADB+0WDLiTmH2izrMNUCAEI46UNaee31xqVH4riFQnF4BxNMsCCP5Mvkzw1MnhuY3H1GadLNPf6hHjdREHT\\u002f1KcDWULXRQfd6rZ\\u002f3zGctGnpSrVeo3Ne\\u002fUZ7aDpv9rRx+a6vzSZlcdbFj1oX76SVjJATyA3l4dzMeu0lC2GmIDA57sUJ2RWAQ4SQG9Lj5mNNpVfbGoZ0109VZ\\u002fW4CQAwLygFZlfuhkq97Z8aLXkpUVn1wHv5uYme0wuHtLAfggYPRSi3GwqAnAD2YEFuZ2FIEgBgRmDc4G\\u002fpMGl\\u002fq8npOs6WV7xfdPDuyAn+LIFD4oOGjkG\\u002f7Z8aEvucispbyGrK0bj8m\\u002fWKdCq4fRMEeSHYgwV5g\\u002fPyiu7vaQqj+pea7KWnPj0nL+\\u002f3Jsh5eGzG7d5qbbNrU9iecvJryGrK0Ti8m8OCKuUAZREgyAYYYaxSn23WFw98KeQYHtOD1ajrrFQpAAAT\\u002fSJR2OcJ9TY\\u002fKGVmQOIpWcl3FadLVc0AAD1ueuHKjoNTn+XRYGlj1\\u002fMRcW\\u002f31vUqcsb1FB2awvImUppyAt8gUfdxdUmzCyOBvFUsfzoAIJI30dWBDF8e04NV3NEywS\\u002fCcpul+xBER6kzA5J+nvjwVP+ErjNqs+FUa4lro\\u002fIoFoIwdv9DbtNSMZdG7bsIWVW9Qm8koTronyeKHF3VhkQ9SzN0VxyFIMibeEwPFgCAgqCe2Hf14F3f1FTL+3xr7oLUZ16Y7+R4vBsVodwVMeFEy40Nnlv0nrFo3x3oDKcIYEEACgDQm\\u002fIk\\u002fI0kNk6hoGGB4oq6Pn4RcNzy9\\u002fnSBVOT7GlfbzDvOJhnTwtOxhOyA8N8mmoVAIDCi9XtrSqxL9\\u002fVQUGQOzLiKgbFI387PCnB8lyP\\u002fGPG6HTrYs2\\u002f\\u002fnzeJcF4vWrNzU9xPs31C+A9CJs5GQFUAICF7B4sAMCIaP8+EywAwK4jV+1MsL7dcU6p9owSo93Gz076\\u002fZuTAAALbjn8a86aJ2a6OiIIcjsYYdhT96APIybT9yk21cfV4QyNxyRYetx8tLG0uKMlQ+rUTbtIIfXlh0dKrU7y+WyD3tTn9Z4OJ4hzsmoejZEiDnRmp6MBNx9tLvro+uHuM2liz\\u002ftpcRU6LUarP9Z1TBDkJytjRobtO17Q51slVbI\\u002fTxTanGOdu1y14+BlO0JzjXlrMv\\u002f49hRBEACAHV8fn7okLSBU4uqgIMjZMMJYrT7RoM1VGEsNeIfZoqOhXCE9JJA9JoY\\u002f+7pyr9rcpDY3teivrYrYQUU9aU6txyRYi0KTAAAzg4awdB9ylS1luVF8Hz1mdkJ2Va2Rrz33FY\\u002fKNOBmldlAgJuzcKb5j4jm+Tk6AK9BpQRzWQ6sej8uNZxOo5rMWJ\\u002fvfvzT8cSYgIjgIWcYOfk1L2\\u002f6c0jbVrqJgFDJxLnJZw7mAwCMevMbD\\u002f\\u002f0zn8fFkpuuxoAgrxPuerQRcU3OkzR86QR75TpO2X6wittW7pr0CeJVnpWdgU8aJI75EGSJYHnZNUBbCeNmuswk8yg6jTre2ZXU\\u002fwS\\u002fpOyzDkBQIPBZTMmj42+3bt6g\\u002fmRV369en0I1WXNGP79zvPPvrvLQMYceZd47PWlfBGn67imtPnZ5Z9fPlvWz\\u002fVmE6ZW6vq5AHIHmMWiMZsAAHrMrNBrPTH7dwrigvyzUy1vW2VXVtcQwAIA8GHGJYvXOC0ysnhMDxbkQcb4hIwQ+r+b\\u002f\\u002fczIycL6Y6dBcWk0ILYIrlBbSEIDo0RxBIlCYPmBiaPgoOD7mftovRj50tu93Gj1hr+8ebOuZNG3HvHuEDf\\u002forEKtX6o+dKfv3zUrNc5ZBAnUUo4T738Zo3Hv7RZMQAAE21in\\u002ff\\u002fU1CWti4GYmxySFCCZfOpGnVhpa6tuqS5tKrdUV51Q++uGj+2kxXBw71p1WnqVF1NGhUnUaDxmx6aGQ63MbxVvntPxd27Og6pqPckaJVodwJXKofilC0mKJRd+mS4luz5UaJOBOuwSx6GspxXby2gAkWRL5jjWUNWiUAgI72vTKfRAEs4YGpzzj6KRApYsN9p2fGHTtfersLcNzy54nCgyeLYiN80xJDIoJ9BDwmj8O0WAi9wdTarqlvbi8qbymqaMb72sFQLGB\\u002f8tKKu\\u002f65xZH\\u002fEiQbPSnurS0PvfbgD1r1jXru1y\\u002fXXr9c69qoIHsEcvmBXI9c9eY07caKvLbvuo75tKAFIZ\\u002f3nMAupHM0Zll3dgUAUJkbz7dumuz\\u002fb2cHah+YYEHkmxEUe7K5YnVUGpMCf8A81em\\u002fi2ur5SIxF8cti1ekk9Xs0\\u002fdOu1RQ1\\u002f+KPwtBlFTJSoZYgBRBwMsb5kaF+khEnLYOT6qNnjQ28pujz23b9NeRnRctA219TaM7\\u002fEsLBDlafvvPFqKrpCUyNeBVq+WBZov+bOsHXccIQLtGCStUR1LF9wjoDpwnSjpnz8Gqr2ydG\\u002f1PWUOHk58LOVmWfxTMrjzapOkjKstajv9VsGg5adkVAEAkYP\\u002fnmYVUB2xl\\u002f8x90zNSwgEAsWG+pDfuaGJf\\u002fpNvr\\u002fjp9Iv\\u002f+M+y8bOTwmL8hRIuhYLS6FS+iB0RHzBxTvL9z8\\u002fffPDZWSvGujpYCLKLEVdXa050HQey06TMBKsLLiq+1phbAAB0lJPl91zXSQJYrnfucmac9oMfgZBDUDywJCxk5bX3Vzmi2bQRIW8+teCVTw+YzeTsyoAiyIZ1k5fNTu16GR0uzb5aTUrLTiYNEM5bkzlvTeYLa7+qLW9Zcl\\u002fWwy8vdnVQEEQymaHgf91XIIxrvZOPTF94Xbm763isdEOMYG6O4ksj3gkAaNReAtb1jtwaTLAgCOrD9p\\u002fOXr5YRViIgGDRs\\u002f9eRG7jk8fGfPrSitc+PSCze6dnHof52hPzMlMjus\\u002fEeGAPVk+XTpXkZ1ew2IxVj013dSwQRD55j\\u002f2nxYxeK4txwnxG9m7XmGAAOy1esAAAxJc5ol6bDQDoMNWYLFq650x1d02CZTKav317v0+AYOl9k1wSAARB\\u002fTt6KP\\u002fFN5dFx\\u002foTjtngLyU+aNsH93y749zuo\\u002fnYQBOP+oQgYP6UpEfvzBIJ2D3Px4R51Jfc3giC+PGDgwAADMO\\u002ffG33qkenR44IdHVQEEQmHd7Wfcyl9ipVeKXtR6WpFgBARZhZfs8BgAAAeLTuXwFChynodI9JsFxTB+v5dV811sgnzU91ydMhCBrQa++t2rsj95+Pbc3NrnDQI7gcxtP3Tdv56QP33pHh5zOEVVd8LnPlvLTtH9\\u002f\\u002f4iOzrbIrAEBIoIjJoJEaqfNgZnzxvVnpUxIwM376QP6TSz8pvVrn6qAgiEwm\\u002fGa\\u002fNQ29Wcen3VhxreOXruPRPuv5tKCuYzp683fciHtSZRan9mAZ9ea9W84CANb+Y+b8NbCUCwS5r8Ag0bMvLVKr9OtXb\\u002f7t4LOOe5CfD\\u002f+hVRMfWjWxsk5x9XpDWU1rXVOHvEOtUhuMJgzHLQwGlc2kS4Sc0EBxZIjPmKSQEdEBKHrbSX4oghzf+oTjAnYoGp06a3n6rOXpF44Vvf7Qj5gZ3\\u002f3j6Rc+WefquCCIPH3N0CWA5bTs3a65WVJmQpJoRY+3enaie9LsXqcmWMWXa2rKWgAAYybFO\\u002fO5EAQNCWEhNj62lUanEBaCrFWEF1prInkSXxbvdhdEhfpEhXrYZq6OM2ZyPJVKwTC8Q27vNDUIcisM9GZ3tdmiZ1KEAIBr7dsVhlIAAIpQJ\\u002fm9gPQYXjNbblZ1YVBu+wfEDTk1wRo1IcbHX\\u002fDQ7A+c+VB3IG9V1VTJrU6qVDo6DS4ygNwRgiKbvr2P3DalTG4\\u002f2RUEANCqDaoOLQJAa5Nyz09nMAwHAESNCHJ1XBBEJg715ixJjbmZRwvoNDVcbvuh60yq+G4RI7Ln9Rpzc\\u002fcxm+pJG6K75gNe0aLsPuYKWByeh+3gOFRffXasz\\u002fNzF6Q6NxAIcpkoPuydGsC17Io3Hvmp5xnfINGKR6a6KBwIcghfVlL3sdxQEsAedUb2Lk6YAAAiRmSq2HpAvM14YxqogB5KRz1pN3TXJFgbV2\\u002fuPr5v47yVXv0X5NttD7k6BAiCPACLy+CLOBqVns1lBEVIx05JWHTPRK7Asbt5QpCT+bGSqAgTIwwAgCrNCRrKbtHnAwAQgE7yewFFeq1QaTOWa7HWruMAVqrTg7WLsxOskCjfQxXDbogQgiBoQKnjY37Le93VUUCQY1ERZqxgbrFyNwBAYShpN1Z2nU8Srbi1qvvV9m3dx\\u002fFCD6u765oyDRAEQRAEDU8jRXdSkRtTgyyEGQDApwWN9llvdVmR8o9q9Y1NdUI443wYsc4M0n4wwYIgCIIgyHl4tIDxvk9ZnZHri3VYG0YYdZiiVnP2SOPz2a2but5lUURZfi84P047IQThkDLN0GCYsHoz3ooTatzS9Y8Kt6hx4n8H\\u002fzu2WNS4RU2APjZuQwAFRTkUlEdB+BSUS0F5FJSPIl0HPArCu3GA8lCEx6LFIQhctwhBEORwBqxRZ64EAIhZE2Ffxq3ajOV7atd37YrTPxZVPDvwPR+m51V3gh+3rlTb\\u002fpzacM6eFgiA4xYVblEB0DjgxYmBpxnUcHseB0EQBA2GxnRdwpraYThrIcwownB1OO7FQuCnW94ZTHYVxp2Y6fuU1Y46noIKACAI0KnV02lUtsfuLwF5HLmxvVHfDABIEY5APKo4LwRB0GAgCMWzKo87TZX67zZjOQAAAej8kE81Zlmt9qzCUKrDFAQgmBQBl+obwB4dwZ3sw4xzdbC2owIA9EbT5j3n0+NDZo7xsBlkkOeq1taPFo3MVxZjFoyGwswegiBouIjmzwIA5Mg\\u002fj+LP9GelANaNM16GCgBQ602zxsTuPVcEE6xhqF5XX6QqYqCMDnPHwoCFzsx1KAiK9rUpFQRBkKezEHqF7pjGVCxkZrg6FncUzZ8VwsmkePW3ayoA4HqtrLlNpdYZXR0M5AJaXJsiTAlgBmS3ZVsGMSIOQRAEDciXsxAA4MOe4epA3JdnbSxoAyoAoFHeCdcSukSM73ZXh+AyJosptz2\\u002fWlufyIf9phAEQZC3uVGmAbdYKChcRzoclahLBDRBVw9WmiiNgcLVLhAEQRBkrxtJFcyuIAiCIAiCyALrYEEgtz2XT+VXaavSRGmujgWCIAiCvAGs5A5BEARBEEQyODIIQRAEQRBEsv8HDBJm8SOHpIAAAAAASUVORK5CYII=\",\"type\":\"image\"}],                        {\"template\":{\"data\":{\"histogram2dcontour\":[{\"type\":\"histogram2dcontour\",\"colorbar\":{\"outlinewidth\":0,\"ticks\":\"\"},\"colorscale\":[[0.0,\"#0d0887\"],[0.1111111111111111,\"#46039f\"],[0.2222222222222222,\"#7201a8\"],[0.3333333333333333,\"#9c179e\"],[0.4444444444444444,\"#bd3786\"],[0.5555555555555556,\"#d8576b\"],[0.6666666666666666,\"#ed7953\"],[0.7777777777777778,\"#fb9f3a\"],[0.8888888888888888,\"#fdca26\"],[1.0,\"#f0f921\"]]}],\"choropleth\":[{\"type\":\"choropleth\",\"colorbar\":{\"outlinewidth\":0,\"ticks\":\"\"}}],\"histogram2d\":[{\"type\":\"histogram2d\",\"colorbar\":{\"outlinewidth\":0,\"ticks\":\"\"},\"colorscale\":[[0.0,\"#0d0887\"],[0.1111111111111111,\"#46039f\"],[0.2222222222222222,\"#7201a8\"],[0.3333333333333333,\"#9c179e\"],[0.4444444444444444,\"#bd3786\"],[0.5555555555555556,\"#d8576b\"],[0.6666666666666666,\"#ed7953\"],[0.7777777777777778,\"#fb9f3a\"],[0.8888888888888888,\"#fdca26\"],[1.0,\"#f0f921\"]]}],\"heatmap\":[{\"type\":\"heatmap\",\"colorbar\":{\"outlinewidth\":0,\"ticks\":\"\"},\"colorscale\":[[0.0,\"#0d0887\"],[0.1111111111111111,\"#46039f\"],[0.2222222222222222,\"#7201a8\"],[0.3333333333333333,\"#9c179e\"],[0.4444444444444444,\"#bd3786\"],[0.5555555555555556,\"#d8576b\"],[0.6666666666666666,\"#ed7953\"],[0.7777777777777778,\"#fb9f3a\"],[0.8888888888888888,\"#fdca26\"],[1.0,\"#f0f921\"]]}],\"heatmapgl\":[{\"type\":\"heatmapgl\",\"colorbar\":{\"outlinewidth\":0,\"ticks\":\"\"},\"colorscale\":[[0.0,\"#0d0887\"],[0.1111111111111111,\"#46039f\"],[0.2222222222222222,\"#7201a8\"],[0.3333333333333333,\"#9c179e\"],[0.4444444444444444,\"#bd3786\"],[0.5555555555555556,\"#d8576b\"],[0.6666666666666666,\"#ed7953\"],[0.7777777777777778,\"#fb9f3a\"],[0.8888888888888888,\"#fdca26\"],[1.0,\"#f0f921\"]]}],\"contourcarpet\":[{\"type\":\"contourcarpet\",\"colorbar\":{\"outlinewidth\":0,\"ticks\":\"\"}}],\"contour\":[{\"type\":\"contour\",\"colorbar\":{\"outlinewidth\":0,\"ticks\":\"\"},\"colorscale\":[[0.0,\"#0d0887\"],[0.1111111111111111,\"#46039f\"],[0.2222222222222222,\"#7201a8\"],[0.3333333333333333,\"#9c179e\"],[0.4444444444444444,\"#bd3786\"],[0.5555555555555556,\"#d8576b\"],[0.6666666666666666,\"#ed7953\"],[0.7777777777777778,\"#fb9f3a\"],[0.8888888888888888,\"#fdca26\"],[1.0,\"#f0f921\"]]}],\"surface\":[{\"type\":\"surface\",\"colorbar\":{\"outlinewidth\":0,\"ticks\":\"\"},\"colorscale\":[[0.0,\"#0d0887\"],[0.1111111111111111,\"#46039f\"],[0.2222222222222222,\"#7201a8\"],[0.3333333333333333,\"#9c179e\"],[0.4444444444444444,\"#bd3786\"],[0.5555555555555556,\"#d8576b\"],[0.6666666666666666,\"#ed7953\"],[0.7777777777777778,\"#fb9f3a\"],[0.8888888888888888,\"#fdca26\"],[1.0,\"#f0f921\"]]}],\"mesh3d\":[{\"type\":\"mesh3d\",\"colorbar\":{\"outlinewidth\":0,\"ticks\":\"\"}}],\"scatter\":[{\"fillpattern\":{\"fillmode\":\"overlay\",\"size\":10,\"solidity\":0.2},\"type\":\"scatter\"}],\"parcoords\":[{\"type\":\"parcoords\",\"line\":{\"colorbar\":{\"outlinewidth\":0,\"ticks\":\"\"}}}],\"scatterpolargl\":[{\"type\":\"scatterpolargl\",\"marker\":{\"colorbar\":{\"outlinewidth\":0,\"ticks\":\"\"}}}],\"bar\":[{\"error_x\":{\"color\":\"#2a3f5f\"},\"error_y\":{\"color\":\"#2a3f5f\"},\"marker\":{\"line\":{\"color\":\"#E5ECF6\",\"width\":0.5},\"pattern\":{\"fillmode\":\"overlay\",\"size\":10,\"solidity\":0.2}},\"type\":\"bar\"}],\"scattergeo\":[{\"type\":\"scattergeo\",\"marker\":{\"colorbar\":{\"outlinewidth\":0,\"ticks\":\"\"}}}],\"scatterpolar\":[{\"type\":\"scatterpolar\",\"marker\":{\"colorbar\":{\"outlinewidth\":0,\"ticks\":\"\"}}}],\"histogram\":[{\"marker\":{\"pattern\":{\"fillmode\":\"overlay\",\"size\":10,\"solidity\":0.2}},\"type\":\"histogram\"}],\"scattergl\":[{\"type\":\"scattergl\",\"marker\":{\"colorbar\":{\"outlinewidth\":0,\"ticks\":\"\"}}}],\"scatter3d\":[{\"type\":\"scatter3d\",\"line\":{\"colorbar\":{\"outlinewidth\":0,\"ticks\":\"\"}},\"marker\":{\"colorbar\":{\"outlinewidth\":0,\"ticks\":\"\"}}}],\"scattermapbox\":[{\"type\":\"scattermapbox\",\"marker\":{\"colorbar\":{\"outlinewidth\":0,\"ticks\":\"\"}}}],\"scatterternary\":[{\"type\":\"scatterternary\",\"marker\":{\"colorbar\":{\"outlinewidth\":0,\"ticks\":\"\"}}}],\"scattercarpet\":[{\"type\":\"scattercarpet\",\"marker\":{\"colorbar\":{\"outlinewidth\":0,\"ticks\":\"\"}}}],\"carpet\":[{\"aaxis\":{\"endlinecolor\":\"#2a3f5f\",\"gridcolor\":\"white\",\"linecolor\":\"white\",\"minorgridcolor\":\"white\",\"startlinecolor\":\"#2a3f5f\"},\"baxis\":{\"endlinecolor\":\"#2a3f5f\",\"gridcolor\":\"white\",\"linecolor\":\"white\",\"minorgridcolor\":\"white\",\"startlinecolor\":\"#2a3f5f\"},\"type\":\"carpet\"}],\"table\":[{\"cells\":{\"fill\":{\"color\":\"#EBF0F8\"},\"line\":{\"color\":\"white\"}},\"header\":{\"fill\":{\"color\":\"#C8D4E3\"},\"line\":{\"color\":\"white\"}},\"type\":\"table\"}],\"barpolar\":[{\"marker\":{\"line\":{\"color\":\"#E5ECF6\",\"width\":0.5},\"pattern\":{\"fillmode\":\"overlay\",\"size\":10,\"solidity\":0.2}},\"type\":\"barpolar\"}],\"pie\":[{\"automargin\":true,\"type\":\"pie\"}]},\"layout\":{\"autotypenumbers\":\"strict\",\"colorway\":[\"#636efa\",\"#EF553B\",\"#00cc96\",\"#ab63fa\",\"#FFA15A\",\"#19d3f3\",\"#FF6692\",\"#B6E880\",\"#FF97FF\",\"#FECB52\"],\"font\":{\"color\":\"#2a3f5f\"},\"hovermode\":\"closest\",\"hoverlabel\":{\"align\":\"left\"},\"paper_bgcolor\":\"white\",\"plot_bgcolor\":\"#E5ECF6\",\"polar\":{\"bgcolor\":\"#E5ECF6\",\"angularaxis\":{\"gridcolor\":\"white\",\"linecolor\":\"white\",\"ticks\":\"\"},\"radialaxis\":{\"gridcolor\":\"white\",\"linecolor\":\"white\",\"ticks\":\"\"}},\"ternary\":{\"bgcolor\":\"#E5ECF6\",\"aaxis\":{\"gridcolor\":\"white\",\"linecolor\":\"white\",\"ticks\":\"\"},\"baxis\":{\"gridcolor\":\"white\",\"linecolor\":\"white\",\"ticks\":\"\"},\"caxis\":{\"gridcolor\":\"white\",\"linecolor\":\"white\",\"ticks\":\"\"}},\"coloraxis\":{\"colorbar\":{\"outlinewidth\":0,\"ticks\":\"\"}},\"colorscale\":{\"sequential\":[[0.0,\"#0d0887\"],[0.1111111111111111,\"#46039f\"],[0.2222222222222222,\"#7201a8\"],[0.3333333333333333,\"#9c179e\"],[0.4444444444444444,\"#bd3786\"],[0.5555555555555556,\"#d8576b\"],[0.6666666666666666,\"#ed7953\"],[0.7777777777777778,\"#fb9f3a\"],[0.8888888888888888,\"#fdca26\"],[1.0,\"#f0f921\"]],\"sequentialminus\":[[0.0,\"#0d0887\"],[0.1111111111111111,\"#46039f\"],[0.2222222222222222,\"#7201a8\"],[0.3333333333333333,\"#9c179e\"],[0.4444444444444444,\"#bd3786\"],[0.5555555555555556,\"#d8576b\"],[0.6666666666666666,\"#ed7953\"],[0.7777777777777778,\"#fb9f3a\"],[0.8888888888888888,\"#fdca26\"],[1.0,\"#f0f921\"]],\"diverging\":[[0,\"#8e0152\"],[0.1,\"#c51b7d\"],[0.2,\"#de77ae\"],[0.3,\"#f1b6da\"],[0.4,\"#fde0ef\"],[0.5,\"#f7f7f7\"],[0.6,\"#e6f5d0\"],[0.7,\"#b8e186\"],[0.8,\"#7fbc41\"],[0.9,\"#4d9221\"],[1,\"#276419\"]]},\"xaxis\":{\"gridcolor\":\"white\",\"linecolor\":\"white\",\"ticks\":\"\",\"title\":{\"standoff\":15},\"zerolinecolor\":\"white\",\"automargin\":true,\"zerolinewidth\":2},\"yaxis\":{\"gridcolor\":\"white\",\"linecolor\":\"white\",\"ticks\":\"\",\"title\":{\"standoff\":15},\"zerolinecolor\":\"white\",\"automargin\":true,\"zerolinewidth\":2},\"scene\":{\"xaxis\":{\"backgroundcolor\":\"#E5ECF6\",\"gridcolor\":\"white\",\"linecolor\":\"white\",\"showbackground\":true,\"ticks\":\"\",\"zerolinecolor\":\"white\",\"gridwidth\":2},\"yaxis\":{\"backgroundcolor\":\"#E5ECF6\",\"gridcolor\":\"white\",\"linecolor\":\"white\",\"showbackground\":true,\"ticks\":\"\",\"zerolinecolor\":\"white\",\"gridwidth\":2},\"zaxis\":{\"backgroundcolor\":\"#E5ECF6\",\"gridcolor\":\"white\",\"linecolor\":\"white\",\"showbackground\":true,\"ticks\":\"\",\"zerolinecolor\":\"white\",\"gridwidth\":2}},\"shapedefaults\":{\"line\":{\"color\":\"#2a3f5f\"}},\"annotationdefaults\":{\"arrowcolor\":\"#2a3f5f\",\"arrowhead\":0,\"arrowwidth\":1},\"geo\":{\"bgcolor\":\"white\",\"landcolor\":\"#E5ECF6\",\"subunitcolor\":\"white\",\"showland\":true,\"showlakes\":true,\"lakecolor\":\"white\"},\"title\":{\"x\":0.05},\"mapbox\":{\"style\":\"light\"}}},\"title\":{\"text\":\"Word Cloud of Unusual Characters\"}},                        {\"responsive\": true}                    ).then(function(){\n",
              "                            \n",
              "var gd = document.getElementById('c279bde6-39e4-406f-9464-1614667416cd');\n",
              "var x = new MutationObserver(function (mutations, observer) {{\n",
              "        var display = window.getComputedStyle(gd).display;\n",
              "        if (!display || display === 'none') {{\n",
              "            console.log([gd, 'removed!']);\n",
              "            Plotly.purge(gd);\n",
              "            observer.disconnect();\n",
              "        }}\n",
              "}});\n",
              "\n",
              "// Listen for the removal of the full notebook cells\n",
              "var notebookContainer = gd.closest('#notebook-container');\n",
              "if (notebookContainer) {{\n",
              "    x.observe(notebookContainer, {childList: true});\n",
              "}}\n",
              "\n",
              "// Listen for the clearing of the current output cell\n",
              "var outputEl = gd.closest('.output');\n",
              "if (outputEl) {{\n",
              "    x.observe(outputEl, {childList: true});\n",
              "}}\n",
              "\n",
              "                        })                };                            </script>        </div>\n",
              "</body>\n",
              "</html>"
            ]
          },
          "metadata": {}
        }
      ]
    },
    {
      "cell_type": "code",
      "source": [
        "pd.unique(unusual_chars)"
      ],
      "metadata": {
        "colab": {
          "base_uri": "https://localhost:8080/"
        },
        "id": "ZXgtAa50Sks7",
        "outputId": "6bbcdb7e-7a16-4eb9-dbcc-b3934a099451"
      },
      "execution_count": null,
      "outputs": [
        {
          "output_type": "execute_result",
          "data": {
            "text/plain": [
              "array(['%', 'ã', 'é', '-', '&', 'á', 'ş', 'ç', 'ğ', 'ı', 'Ş', 'Ö', '—',\n",
              "       'ï', 'ę', 'ł', 'ń', 'ó', 'ś', 'Ø', 'ø', '\\u200b', '–', '#', '_',\n",
              "       '’', 'แ', 'ผ', 'น', 'ร', '้', 'า', 'ย', 'เ', 'จ', 'ล', '่', 'ห',\n",
              "       '์', '¡', 'í', 'Ç', 'ü', 'É', 'þ', 'Ó', 'Á', 'ú', 'ð', 'ö', 'Þ',\n",
              "       'İ', 'Ò', 'ò', 'ū', 'Æ', 'Ü', 'ñ', '$', '“', '”', 'î', 'ą', 'ż',\n",
              "       'Ł', '/', '=', '・', 'ê', 'ô', 'â', 'ë', 'ä', 'ß', 'Í', '́', 'å',\n",
              "       '忍', '者', 'ハ', 'ッ', 'ト', 'リ', 'く', 'ん', 'è', 'æ', 'à', 'È', 'Ñ',\n",
              "       'À', '‘', '*', '´', '²', '海', '的', '儿', '子', 'Ō', '|', 'Ṣ', 'ọ',\n",
              "       'ẹ', 'ì', 'ù', 'Č', 'Ř', '반', '드', '시', '잡', '는', '다', '@', '마',\n",
              "       '녀', '사', '냥', '최', '강', '전', '미', '니', '특', '공', '대', '영', '웅',\n",
              "       '의', '탄', '생', '+', '„', '…', 'Ú', 'ň', 'ý', '️', '‑', 'û', 'š',\n",
              "       'č', 'ć', 'õ', '¿', 'Ź', '®', 'ơ', 'ā', 'ă', 'Ż', 'đ', 'ÿ', '~',\n",
              "       'Ś', 'ي', 'و', 'م', 'ا', 'ل', 'د', 'ن', 'ف', 'ع', 'ة', 'ق', 'ه',\n",
              "       'ر', 'ش', 'ت', 'ب', 'ك'], dtype=object)"
            ]
          },
          "metadata": {},
          "execution_count": 20
        }
      ]
    },
    {
      "cell_type": "markdown",
      "source": [
        "**Replacement**: preserve some unusual characters but replace others with their standard equivalents."
      ],
      "metadata": {
        "id": "sALDQTw8XGW7"
      }
    },
    {
      "cell_type": "code",
      "source": [
        "# Character mapping for non-standard English to standard English\n",
        "char_map = {\n",
        "    'é': 'e', 'è': 'e', 'ê': 'e', 'ë': 'e', 'ä': 'a', 'á': 'a', 'à': 'a', 'â': 'a',\n",
        "    'í': 'i', 'ì': 'i', 'î': 'i', 'ï': 'i', 'ı': 'i',\n",
        "    'ó': 'o', 'ò': 'o', 'ô': 'o', 'õ': 'o', 'ö': 'o', 'ø': 'o',\n",
        "    'ú': 'u', 'ù': 'u', 'û': 'u', 'ü': 'u', 'ū': 'u',\n",
        "    'ç': 'c', 'ć': 'c', 'č': 'c',\n",
        "    'ş': 's', 'ś': 's', 'š': 's',\n",
        "    'ñ': 'n', 'ń': 'n', 'ň': 'n',\n",
        "    'ý': 'y', 'ÿ': 'y',\n",
        "    'æ': 'ae', 'œ': 'oe',\n",
        "    'ß': 'ss',\n",
        "    'å': 'a',\n",
        "    'ą': 'a', 'ã': 'a',\n",
        "    'ę': 'e',\n",
        "    'ł': 'l', 'ľ': 'l',\n",
        "    'đ': 'd',\n",
        "    'þ': 'th', 'ð': 'th',\n",
        "    'ż': 'z', 'ź': 'z',\n",
        "    'ř': 'r',\n",
        "    'ō': 'o', 'ă': 'a', 'ā': 'a',\n",
        "    'Ç': 'C', 'É': 'E', 'Á': 'A', 'Ó': 'O', 'Í': 'I', 'Ú': 'U', 'Ñ': 'N', 'À': 'A',\n",
        "    'È': 'E', 'Ò': 'O', 'Ü': 'U', 'Ä': 'A', 'Ö': 'O', 'Å': 'A', 'Æ': 'AE', 'Ø': 'O',\n",
        "    'Ş': 'S', 'İ': 'I', 'Þ': 'TH', 'Ł': 'L', 'Ś': 'S', 'Ž': 'Z', 'Ź': 'Z', 'Ż': 'Z',\n",
        "    'Č': 'C', 'Ř': 'R', 'Ň': 'N', 'Ō': 'O'\n",
        "}\n",
        "\n",
        "def clean_and_replace(text):\n",
        "    # Handle non-string values (e.g., NaN)\n",
        "    if pd.isna(text):\n",
        "        return text\n",
        "    text = str(text)  # Convert to string\n",
        "    # Normalize Unicode characters (e.g., decompose é into e + combining mark)\n",
        "    normalized = unicodedata.normalize('NFKD', text)\n",
        "    # Replace mapped characters and keep only standard English letters, numbers, spaces, allowed punctuation, and - &\n",
        "    result = ''\n",
        "    for char in normalized:\n",
        "        # Get the mapped character or the original if not in map\n",
        "        mapped_char = char_map.get(char, char)\n",
        "        # Keep standard English letters (a-z, A-Z), numbers, spaces, allowed punctuation, -, and &\n",
        "        if (mapped_char.isalnum() and mapped_char.isascii()) or mapped_char in ' .,;:!?\\'\"()[]{} -&':\n",
        "            result += mapped_char\n",
        "    return result\n",
        "\n",
        "# Apply cleaning to all columns\n",
        "columns_to_clean = ['title', 'director', 'cast', 'country', 'date_added', 'rating', 'listed_in', 'description']\n",
        "for col in columns_to_clean:\n",
        "    df[col] = df[col].apply(clean_and_replace)"
      ],
      "metadata": {
        "id": "1IbjP87VcS0t"
      },
      "execution_count": null,
      "outputs": []
    },
    {
      "cell_type": "markdown",
      "source": [
        "check for unusual characters to verify"
      ],
      "metadata": {
        "id": "R8vSWd6veINj"
      }
    },
    {
      "cell_type": "code",
      "source": [
        "# Re-run your check for unusual characters to verify\n",
        "def check_unusual_chars(text):\n",
        "    if pd.isna(text):\n",
        "        return False\n",
        "    pattern = r\"[^a-zA-Z0-9\\s.,!?;:'\\\"()\\[\\]{}\\-&]\"  # Updated pattern to allow - and &\n",
        "    matches = re.findall(pattern, str(text))\n",
        "    return bool(matches)\n",
        "\n",
        "for col in df.columns:\n",
        "    unusual_chars_found = df[col].apply(check_unusual_chars).any()\n",
        "    if unusual_chars_found:\n",
        "        print(f\"Unusual characters still found in column: {col}\")\n",
        "    else:\n",
        "        print(f\"No unusual characters in column: {col}\")"
      ],
      "metadata": {
        "colab": {
          "base_uri": "https://localhost:8080/"
        },
        "id": "fPYak6BxdvUw",
        "outputId": "88163a4e-dace-49a2-ff7f-07ddbdb300d8"
      },
      "execution_count": null,
      "outputs": [
        {
          "output_type": "stream",
          "name": "stdout",
          "text": [
            "No unusual characters in column: show_id\n",
            "No unusual characters in column: type\n",
            "No unusual characters in column: title\n",
            "No unusual characters in column: director\n",
            "No unusual characters in column: cast\n",
            "No unusual characters in column: country\n",
            "No unusual characters in column: date_added\n",
            "No unusual characters in column: release_year\n",
            "No unusual characters in column: rating\n",
            "No unusual characters in column: duration\n",
            "No unusual characters in column: listed_in\n",
            "No unusual characters in column: description\n"
          ]
        }
      ]
    },
    {
      "cell_type": "code",
      "source": [
        "df['date_added'] = pd.to_datetime(df['date_added'], errors='coerce')"
      ],
      "metadata": {
        "id": "PFmP2Gt2gniX"
      },
      "execution_count": null,
      "outputs": []
    },
    {
      "cell_type": "code",
      "source": [
        "df['show_id'].head(3)"
      ],
      "metadata": {
        "colab": {
          "base_uri": "https://localhost:8080/",
          "height": 178
        },
        "id": "_fjqUqoIhrxg",
        "outputId": "99e36f7e-5331-4bd5-aa4c-f6605a5b3b0c"
      },
      "execution_count": null,
      "outputs": [
        {
          "output_type": "execute_result",
          "data": {
            "text/plain": [
              "0    s1\n",
              "1    s2\n",
              "2    s3\n",
              "Name: show_id, dtype: object"
            ],
            "text/html": [
              "<div>\n",
              "<style scoped>\n",
              "    .dataframe tbody tr th:only-of-type {\n",
              "        vertical-align: middle;\n",
              "    }\n",
              "\n",
              "    .dataframe tbody tr th {\n",
              "        vertical-align: top;\n",
              "    }\n",
              "\n",
              "    .dataframe thead th {\n",
              "        text-align: right;\n",
              "    }\n",
              "</style>\n",
              "<table border=\"1\" class=\"dataframe\">\n",
              "  <thead>\n",
              "    <tr style=\"text-align: right;\">\n",
              "      <th></th>\n",
              "      <th>show_id</th>\n",
              "    </tr>\n",
              "  </thead>\n",
              "  <tbody>\n",
              "    <tr>\n",
              "      <th>0</th>\n",
              "      <td>s1</td>\n",
              "    </tr>\n",
              "    <tr>\n",
              "      <th>1</th>\n",
              "      <td>s2</td>\n",
              "    </tr>\n",
              "    <tr>\n",
              "      <th>2</th>\n",
              "      <td>s3</td>\n",
              "    </tr>\n",
              "  </tbody>\n",
              "</table>\n",
              "</div><br><label><b>dtype:</b> object</label>"
            ]
          },
          "metadata": {},
          "execution_count": 24
        }
      ]
    },
    {
      "cell_type": "code",
      "source": [
        "# Remove \"s\" prefix and convert to integer\n",
        "df['show_id'] = df['show_id'].str.replace('s', '').astype(int)\n",
        "\n",
        "# Verify the changes\n",
        "print(df['show_id'].head())  # Check the first few values\n",
        "print(df['show_id'].dtype)   # Check the data type"
      ],
      "metadata": {
        "colab": {
          "base_uri": "https://localhost:8080/"
        },
        "id": "v48gKNnziLFu",
        "outputId": "2a19e9e3-1fe1-4a07-f35d-a6dec0fdcd1b"
      },
      "execution_count": null,
      "outputs": [
        {
          "output_type": "stream",
          "name": "stdout",
          "text": [
            "0    1\n",
            "1    2\n",
            "2    3\n",
            "3    4\n",
            "4    5\n",
            "Name: show_id, dtype: int64\n",
            "int64\n"
          ]
        }
      ]
    },
    {
      "cell_type": "markdown",
      "source": [
        "#### **Final standard format:** after Handled null values, missing values and unsual chars from all columns"
      ],
      "metadata": {
        "id": "qvnAF7ZGida9"
      }
    },
    {
      "cell_type": "code",
      "source": [
        "df.info()"
      ],
      "metadata": {
        "colab": {
          "base_uri": "https://localhost:8080/"
        },
        "id": "KSnSkcLEiLDf",
        "outputId": "d07ca585-1bea-4a70-f8b2-1a3aefeca3f1"
      },
      "execution_count": null,
      "outputs": [
        {
          "output_type": "stream",
          "name": "stdout",
          "text": [
            "<class 'pandas.core.frame.DataFrame'>\n",
            "RangeIndex: 7787 entries, 0 to 7786\n",
            "Data columns (total 12 columns):\n",
            " #   Column        Non-Null Count  Dtype         \n",
            "---  ------        --------------  -----         \n",
            " 0   show_id       7787 non-null   int64         \n",
            " 1   type          7787 non-null   object        \n",
            " 2   title         7787 non-null   object        \n",
            " 3   director      7787 non-null   object        \n",
            " 4   cast          7787 non-null   object        \n",
            " 5   country       7787 non-null   object        \n",
            " 6   date_added    7787 non-null   datetime64[ns]\n",
            " 7   release_year  7787 non-null   int64         \n",
            " 8   rating        7787 non-null   object        \n",
            " 9   duration      7787 non-null   object        \n",
            " 10  listed_in     7787 non-null   object        \n",
            " 11  description   7787 non-null   object        \n",
            "dtypes: datetime64[ns](1), int64(2), object(9)\n",
            "memory usage: 730.2+ KB\n"
          ]
        }
      ]
    },
    {
      "cell_type": "code",
      "source": [
        "df.shape"
      ],
      "metadata": {
        "colab": {
          "base_uri": "https://localhost:8080/"
        },
        "id": "P5zibG2TiLA4",
        "outputId": "ae5f4731-48ed-41bf-ae84-f584dbf426f9"
      },
      "execution_count": null,
      "outputs": [
        {
          "output_type": "execute_result",
          "data": {
            "text/plain": [
              "(7787, 12)"
            ]
          },
          "metadata": {},
          "execution_count": 27
        }
      ]
    },
    {
      "cell_type": "code",
      "source": [
        "round(df.describe(include='all'))"
      ],
      "metadata": {
        "colab": {
          "base_uri": "https://localhost:8080/",
          "height": 429
        },
        "id": "XVhiMuaAi4k5",
        "outputId": "0c4c1e5c-c9f6-45b5-a01e-b63a7100b8d9"
      },
      "execution_count": null,
      "outputs": [
        {
          "output_type": "execute_result",
          "data": {
            "text/plain": [
              "        show_id   type title       director           cast        country  \\\n",
              "count    7787.0   7787  7787           7787           7787           7787   \n",
              "unique      NaN      2  7778           4050           6832            682   \n",
              "top         NaN  Movie        Not available  Not available  United States   \n",
              "freq        NaN   5377     5           2389            718           2555   \n",
              "mean     3894.0    NaN   NaN            NaN            NaN            NaN   \n",
              "min         1.0    NaN   NaN            NaN            NaN            NaN   \n",
              "25%      1948.0    NaN   NaN            NaN            NaN            NaN   \n",
              "50%      3894.0    NaN   NaN            NaN            NaN            NaN   \n",
              "75%      5840.0    NaN   NaN            NaN            NaN            NaN   \n",
              "max      7787.0    NaN   NaN            NaN            NaN            NaN   \n",
              "std      2248.0    NaN   NaN            NaN            NaN            NaN   \n",
              "\n",
              "                           date_added  release_year rating  duration  \\\n",
              "count                            7787        7787.0   7787      7787   \n",
              "unique                            NaN           NaN     15       216   \n",
              "top                               NaN           NaN  TV-MA  1 Season   \n",
              "freq                              NaN           NaN   2863      1608   \n",
              "mean    2019-01-08 16:42:39.342493952        2014.0    NaN       NaN   \n",
              "min               2008-01-01 00:00:00        1925.0    NaN       NaN   \n",
              "25%               2018-02-16 00:00:00        2013.0    NaN       NaN   \n",
              "50%               2019-03-15 00:00:00        2017.0    NaN       NaN   \n",
              "75%               2020-01-17 12:00:00        2018.0    NaN       NaN   \n",
              "max               2021-01-16 00:00:00        2021.0    NaN       NaN   \n",
              "std                               NaN           9.0    NaN       NaN   \n",
              "\n",
              "            listed_in                                        description  \n",
              "count            7787                                               7787  \n",
              "unique            492                                               7769  \n",
              "top     Documentaries  Multiple women report their husbands as missin...  \n",
              "freq              334                                                  3  \n",
              "mean              NaN                                                NaN  \n",
              "min               NaN                                                NaN  \n",
              "25%               NaN                                                NaN  \n",
              "50%               NaN                                                NaN  \n",
              "75%               NaN                                                NaN  \n",
              "max               NaN                                                NaN  \n",
              "std               NaN                                                NaN  "
            ],
            "text/html": [
              "\n",
              "  <div id=\"df-4f6aa58f-05f7-49d2-82bb-7de4c21a6226\" class=\"colab-df-container\">\n",
              "    <div>\n",
              "<style scoped>\n",
              "    .dataframe tbody tr th:only-of-type {\n",
              "        vertical-align: middle;\n",
              "    }\n",
              "\n",
              "    .dataframe tbody tr th {\n",
              "        vertical-align: top;\n",
              "    }\n",
              "\n",
              "    .dataframe thead th {\n",
              "        text-align: right;\n",
              "    }\n",
              "</style>\n",
              "<table border=\"1\" class=\"dataframe\">\n",
              "  <thead>\n",
              "    <tr style=\"text-align: right;\">\n",
              "      <th></th>\n",
              "      <th>show_id</th>\n",
              "      <th>type</th>\n",
              "      <th>title</th>\n",
              "      <th>director</th>\n",
              "      <th>cast</th>\n",
              "      <th>country</th>\n",
              "      <th>date_added</th>\n",
              "      <th>release_year</th>\n",
              "      <th>rating</th>\n",
              "      <th>duration</th>\n",
              "      <th>listed_in</th>\n",
              "      <th>description</th>\n",
              "    </tr>\n",
              "  </thead>\n",
              "  <tbody>\n",
              "    <tr>\n",
              "      <th>count</th>\n",
              "      <td>7787.0</td>\n",
              "      <td>7787</td>\n",
              "      <td>7787</td>\n",
              "      <td>7787</td>\n",
              "      <td>7787</td>\n",
              "      <td>7787</td>\n",
              "      <td>7787</td>\n",
              "      <td>7787.0</td>\n",
              "      <td>7787</td>\n",
              "      <td>7787</td>\n",
              "      <td>7787</td>\n",
              "      <td>7787</td>\n",
              "    </tr>\n",
              "    <tr>\n",
              "      <th>unique</th>\n",
              "      <td>NaN</td>\n",
              "      <td>2</td>\n",
              "      <td>7778</td>\n",
              "      <td>4050</td>\n",
              "      <td>6832</td>\n",
              "      <td>682</td>\n",
              "      <td>NaN</td>\n",
              "      <td>NaN</td>\n",
              "      <td>15</td>\n",
              "      <td>216</td>\n",
              "      <td>492</td>\n",
              "      <td>7769</td>\n",
              "    </tr>\n",
              "    <tr>\n",
              "      <th>top</th>\n",
              "      <td>NaN</td>\n",
              "      <td>Movie</td>\n",
              "      <td></td>\n",
              "      <td>Not available</td>\n",
              "      <td>Not available</td>\n",
              "      <td>United States</td>\n",
              "      <td>NaN</td>\n",
              "      <td>NaN</td>\n",
              "      <td>TV-MA</td>\n",
              "      <td>1 Season</td>\n",
              "      <td>Documentaries</td>\n",
              "      <td>Multiple women report their husbands as missin...</td>\n",
              "    </tr>\n",
              "    <tr>\n",
              "      <th>freq</th>\n",
              "      <td>NaN</td>\n",
              "      <td>5377</td>\n",
              "      <td>5</td>\n",
              "      <td>2389</td>\n",
              "      <td>718</td>\n",
              "      <td>2555</td>\n",
              "      <td>NaN</td>\n",
              "      <td>NaN</td>\n",
              "      <td>2863</td>\n",
              "      <td>1608</td>\n",
              "      <td>334</td>\n",
              "      <td>3</td>\n",
              "    </tr>\n",
              "    <tr>\n",
              "      <th>mean</th>\n",
              "      <td>3894.0</td>\n",
              "      <td>NaN</td>\n",
              "      <td>NaN</td>\n",
              "      <td>NaN</td>\n",
              "      <td>NaN</td>\n",
              "      <td>NaN</td>\n",
              "      <td>2019-01-08 16:42:39.342493952</td>\n",
              "      <td>2014.0</td>\n",
              "      <td>NaN</td>\n",
              "      <td>NaN</td>\n",
              "      <td>NaN</td>\n",
              "      <td>NaN</td>\n",
              "    </tr>\n",
              "    <tr>\n",
              "      <th>min</th>\n",
              "      <td>1.0</td>\n",
              "      <td>NaN</td>\n",
              "      <td>NaN</td>\n",
              "      <td>NaN</td>\n",
              "      <td>NaN</td>\n",
              "      <td>NaN</td>\n",
              "      <td>2008-01-01 00:00:00</td>\n",
              "      <td>1925.0</td>\n",
              "      <td>NaN</td>\n",
              "      <td>NaN</td>\n",
              "      <td>NaN</td>\n",
              "      <td>NaN</td>\n",
              "    </tr>\n",
              "    <tr>\n",
              "      <th>25%</th>\n",
              "      <td>1948.0</td>\n",
              "      <td>NaN</td>\n",
              "      <td>NaN</td>\n",
              "      <td>NaN</td>\n",
              "      <td>NaN</td>\n",
              "      <td>NaN</td>\n",
              "      <td>2018-02-16 00:00:00</td>\n",
              "      <td>2013.0</td>\n",
              "      <td>NaN</td>\n",
              "      <td>NaN</td>\n",
              "      <td>NaN</td>\n",
              "      <td>NaN</td>\n",
              "    </tr>\n",
              "    <tr>\n",
              "      <th>50%</th>\n",
              "      <td>3894.0</td>\n",
              "      <td>NaN</td>\n",
              "      <td>NaN</td>\n",
              "      <td>NaN</td>\n",
              "      <td>NaN</td>\n",
              "      <td>NaN</td>\n",
              "      <td>2019-03-15 00:00:00</td>\n",
              "      <td>2017.0</td>\n",
              "      <td>NaN</td>\n",
              "      <td>NaN</td>\n",
              "      <td>NaN</td>\n",
              "      <td>NaN</td>\n",
              "    </tr>\n",
              "    <tr>\n",
              "      <th>75%</th>\n",
              "      <td>5840.0</td>\n",
              "      <td>NaN</td>\n",
              "      <td>NaN</td>\n",
              "      <td>NaN</td>\n",
              "      <td>NaN</td>\n",
              "      <td>NaN</td>\n",
              "      <td>2020-01-17 12:00:00</td>\n",
              "      <td>2018.0</td>\n",
              "      <td>NaN</td>\n",
              "      <td>NaN</td>\n",
              "      <td>NaN</td>\n",
              "      <td>NaN</td>\n",
              "    </tr>\n",
              "    <tr>\n",
              "      <th>max</th>\n",
              "      <td>7787.0</td>\n",
              "      <td>NaN</td>\n",
              "      <td>NaN</td>\n",
              "      <td>NaN</td>\n",
              "      <td>NaN</td>\n",
              "      <td>NaN</td>\n",
              "      <td>2021-01-16 00:00:00</td>\n",
              "      <td>2021.0</td>\n",
              "      <td>NaN</td>\n",
              "      <td>NaN</td>\n",
              "      <td>NaN</td>\n",
              "      <td>NaN</td>\n",
              "    </tr>\n",
              "    <tr>\n",
              "      <th>std</th>\n",
              "      <td>2248.0</td>\n",
              "      <td>NaN</td>\n",
              "      <td>NaN</td>\n",
              "      <td>NaN</td>\n",
              "      <td>NaN</td>\n",
              "      <td>NaN</td>\n",
              "      <td>NaN</td>\n",
              "      <td>9.0</td>\n",
              "      <td>NaN</td>\n",
              "      <td>NaN</td>\n",
              "      <td>NaN</td>\n",
              "      <td>NaN</td>\n",
              "    </tr>\n",
              "  </tbody>\n",
              "</table>\n",
              "</div>\n",
              "    <div class=\"colab-df-buttons\">\n",
              "\n",
              "  <div class=\"colab-df-container\">\n",
              "    <button class=\"colab-df-convert\" onclick=\"convertToInteractive('df-4f6aa58f-05f7-49d2-82bb-7de4c21a6226')\"\n",
              "            title=\"Convert this dataframe to an interactive table.\"\n",
              "            style=\"display:none;\">\n",
              "\n",
              "  <svg xmlns=\"http://www.w3.org/2000/svg\" height=\"24px\" viewBox=\"0 -960 960 960\">\n",
              "    <path d=\"M120-120v-720h720v720H120Zm60-500h600v-160H180v160Zm220 220h160v-160H400v160Zm0 220h160v-160H400v160ZM180-400h160v-160H180v160Zm440 0h160v-160H620v160ZM180-180h160v-160H180v160Zm440 0h160v-160H620v160Z\"/>\n",
              "  </svg>\n",
              "    </button>\n",
              "\n",
              "  <style>\n",
              "    .colab-df-container {\n",
              "      display:flex;\n",
              "      gap: 12px;\n",
              "    }\n",
              "\n",
              "    .colab-df-convert {\n",
              "      background-color: #E8F0FE;\n",
              "      border: none;\n",
              "      border-radius: 50%;\n",
              "      cursor: pointer;\n",
              "      display: none;\n",
              "      fill: #1967D2;\n",
              "      height: 32px;\n",
              "      padding: 0 0 0 0;\n",
              "      width: 32px;\n",
              "    }\n",
              "\n",
              "    .colab-df-convert:hover {\n",
              "      background-color: #E2EBFA;\n",
              "      box-shadow: 0px 1px 2px rgba(60, 64, 67, 0.3), 0px 1px 3px 1px rgba(60, 64, 67, 0.15);\n",
              "      fill: #174EA6;\n",
              "    }\n",
              "\n",
              "    .colab-df-buttons div {\n",
              "      margin-bottom: 4px;\n",
              "    }\n",
              "\n",
              "    [theme=dark] .colab-df-convert {\n",
              "      background-color: #3B4455;\n",
              "      fill: #D2E3FC;\n",
              "    }\n",
              "\n",
              "    [theme=dark] .colab-df-convert:hover {\n",
              "      background-color: #434B5C;\n",
              "      box-shadow: 0px 1px 3px 1px rgba(0, 0, 0, 0.15);\n",
              "      filter: drop-shadow(0px 1px 2px rgba(0, 0, 0, 0.3));\n",
              "      fill: #FFFFFF;\n",
              "    }\n",
              "  </style>\n",
              "\n",
              "    <script>\n",
              "      const buttonEl =\n",
              "        document.querySelector('#df-4f6aa58f-05f7-49d2-82bb-7de4c21a6226 button.colab-df-convert');\n",
              "      buttonEl.style.display =\n",
              "        google.colab.kernel.accessAllowed ? 'block' : 'none';\n",
              "\n",
              "      async function convertToInteractive(key) {\n",
              "        const element = document.querySelector('#df-4f6aa58f-05f7-49d2-82bb-7de4c21a6226');\n",
              "        const dataTable =\n",
              "          await google.colab.kernel.invokeFunction('convertToInteractive',\n",
              "                                                    [key], {});\n",
              "        if (!dataTable) return;\n",
              "\n",
              "        const docLinkHtml = 'Like what you see? Visit the ' +\n",
              "          '<a target=\"_blank\" href=https://colab.research.google.com/notebooks/data_table.ipynb>data table notebook</a>'\n",
              "          + ' to learn more about interactive tables.';\n",
              "        element.innerHTML = '';\n",
              "        dataTable['output_type'] = 'display_data';\n",
              "        await google.colab.output.renderOutput(dataTable, element);\n",
              "        const docLink = document.createElement('div');\n",
              "        docLink.innerHTML = docLinkHtml;\n",
              "        element.appendChild(docLink);\n",
              "      }\n",
              "    </script>\n",
              "  </div>\n",
              "\n",
              "\n",
              "    <div id=\"df-1ded5c4f-5757-49cb-8613-e7266f2aeda6\">\n",
              "      <button class=\"colab-df-quickchart\" onclick=\"quickchart('df-1ded5c4f-5757-49cb-8613-e7266f2aeda6')\"\n",
              "                title=\"Suggest charts\"\n",
              "                style=\"display:none;\">\n",
              "\n",
              "<svg xmlns=\"http://www.w3.org/2000/svg\" height=\"24px\"viewBox=\"0 0 24 24\"\n",
              "     width=\"24px\">\n",
              "    <g>\n",
              "        <path d=\"M19 3H5c-1.1 0-2 .9-2 2v14c0 1.1.9 2 2 2h14c1.1 0 2-.9 2-2V5c0-1.1-.9-2-2-2zM9 17H7v-7h2v7zm4 0h-2V7h2v10zm4 0h-2v-4h2v4z\"/>\n",
              "    </g>\n",
              "</svg>\n",
              "      </button>\n",
              "\n",
              "<style>\n",
              "  .colab-df-quickchart {\n",
              "      --bg-color: #E8F0FE;\n",
              "      --fill-color: #1967D2;\n",
              "      --hover-bg-color: #E2EBFA;\n",
              "      --hover-fill-color: #174EA6;\n",
              "      --disabled-fill-color: #AAA;\n",
              "      --disabled-bg-color: #DDD;\n",
              "  }\n",
              "\n",
              "  [theme=dark] .colab-df-quickchart {\n",
              "      --bg-color: #3B4455;\n",
              "      --fill-color: #D2E3FC;\n",
              "      --hover-bg-color: #434B5C;\n",
              "      --hover-fill-color: #FFFFFF;\n",
              "      --disabled-bg-color: #3B4455;\n",
              "      --disabled-fill-color: #666;\n",
              "  }\n",
              "\n",
              "  .colab-df-quickchart {\n",
              "    background-color: var(--bg-color);\n",
              "    border: none;\n",
              "    border-radius: 50%;\n",
              "    cursor: pointer;\n",
              "    display: none;\n",
              "    fill: var(--fill-color);\n",
              "    height: 32px;\n",
              "    padding: 0;\n",
              "    width: 32px;\n",
              "  }\n",
              "\n",
              "  .colab-df-quickchart:hover {\n",
              "    background-color: var(--hover-bg-color);\n",
              "    box-shadow: 0 1px 2px rgba(60, 64, 67, 0.3), 0 1px 3px 1px rgba(60, 64, 67, 0.15);\n",
              "    fill: var(--button-hover-fill-color);\n",
              "  }\n",
              "\n",
              "  .colab-df-quickchart-complete:disabled,\n",
              "  .colab-df-quickchart-complete:disabled:hover {\n",
              "    background-color: var(--disabled-bg-color);\n",
              "    fill: var(--disabled-fill-color);\n",
              "    box-shadow: none;\n",
              "  }\n",
              "\n",
              "  .colab-df-spinner {\n",
              "    border: 2px solid var(--fill-color);\n",
              "    border-color: transparent;\n",
              "    border-bottom-color: var(--fill-color);\n",
              "    animation:\n",
              "      spin 1s steps(1) infinite;\n",
              "  }\n",
              "\n",
              "  @keyframes spin {\n",
              "    0% {\n",
              "      border-color: transparent;\n",
              "      border-bottom-color: var(--fill-color);\n",
              "      border-left-color: var(--fill-color);\n",
              "    }\n",
              "    20% {\n",
              "      border-color: transparent;\n",
              "      border-left-color: var(--fill-color);\n",
              "      border-top-color: var(--fill-color);\n",
              "    }\n",
              "    30% {\n",
              "      border-color: transparent;\n",
              "      border-left-color: var(--fill-color);\n",
              "      border-top-color: var(--fill-color);\n",
              "      border-right-color: var(--fill-color);\n",
              "    }\n",
              "    40% {\n",
              "      border-color: transparent;\n",
              "      border-right-color: var(--fill-color);\n",
              "      border-top-color: var(--fill-color);\n",
              "    }\n",
              "    60% {\n",
              "      border-color: transparent;\n",
              "      border-right-color: var(--fill-color);\n",
              "    }\n",
              "    80% {\n",
              "      border-color: transparent;\n",
              "      border-right-color: var(--fill-color);\n",
              "      border-bottom-color: var(--fill-color);\n",
              "    }\n",
              "    90% {\n",
              "      border-color: transparent;\n",
              "      border-bottom-color: var(--fill-color);\n",
              "    }\n",
              "  }\n",
              "</style>\n",
              "\n",
              "      <script>\n",
              "        async function quickchart(key) {\n",
              "          const quickchartButtonEl =\n",
              "            document.querySelector('#' + key + ' button');\n",
              "          quickchartButtonEl.disabled = true;  // To prevent multiple clicks.\n",
              "          quickchartButtonEl.classList.add('colab-df-spinner');\n",
              "          try {\n",
              "            const charts = await google.colab.kernel.invokeFunction(\n",
              "                'suggestCharts', [key], {});\n",
              "          } catch (error) {\n",
              "            console.error('Error during call to suggestCharts:', error);\n",
              "          }\n",
              "          quickchartButtonEl.classList.remove('colab-df-spinner');\n",
              "          quickchartButtonEl.classList.add('colab-df-quickchart-complete');\n",
              "        }\n",
              "        (() => {\n",
              "          let quickchartButtonEl =\n",
              "            document.querySelector('#df-1ded5c4f-5757-49cb-8613-e7266f2aeda6 button');\n",
              "          quickchartButtonEl.style.display =\n",
              "            google.colab.kernel.accessAllowed ? 'block' : 'none';\n",
              "        })();\n",
              "      </script>\n",
              "    </div>\n",
              "\n",
              "    </div>\n",
              "  </div>\n"
            ],
            "application/vnd.google.colaboratory.intrinsic+json": {
              "type": "dataframe",
              "summary": "{\n  \"name\": \"round(df\",\n  \"rows\": 11,\n  \"fields\": [\n    {\n      \"column\": \"show_id\",\n      \"properties\": {\n        \"dtype\": \"number\",\n        \"std\": 2806.0742499849453,\n        \"min\": 1.0,\n        \"max\": 7787.0,\n        \"num_unique_values\": 6,\n        \"samples\": [\n          7787.0,\n          3894.0,\n          2248.0\n        ],\n        \"semantic_type\": \"\",\n        \"description\": \"\"\n      }\n    },\n    {\n      \"column\": \"type\",\n      \"properties\": {\n        \"dtype\": \"category\",\n        \"num_unique_values\": 4,\n        \"samples\": [\n          2,\n          \"5377\",\n          \"7787\"\n        ],\n        \"semantic_type\": \"\",\n        \"description\": \"\"\n      }\n    },\n    {\n      \"column\": \"title\",\n      \"properties\": {\n        \"dtype\": \"date\",\n        \"min\": \"1970-01-01 00:00:00.000000005\",\n        \"max\": \"1970-01-01 00:00:00.000007787\",\n        \"num_unique_values\": 4,\n        \"samples\": [\n          7778,\n          \"5\",\n          \"7787\"\n        ],\n        \"semantic_type\": \"\",\n        \"description\": \"\"\n      }\n    },\n    {\n      \"column\": \"director\",\n      \"properties\": {\n        \"dtype\": \"category\",\n        \"num_unique_values\": 4,\n        \"samples\": [\n          4050,\n          \"2389\",\n          \"7787\"\n        ],\n        \"semantic_type\": \"\",\n        \"description\": \"\"\n      }\n    },\n    {\n      \"column\": \"cast\",\n      \"properties\": {\n        \"dtype\": \"category\",\n        \"num_unique_values\": 4,\n        \"samples\": [\n          6832,\n          \"718\",\n          \"7787\"\n        ],\n        \"semantic_type\": \"\",\n        \"description\": \"\"\n      }\n    },\n    {\n      \"column\": \"country\",\n      \"properties\": {\n        \"dtype\": \"category\",\n        \"num_unique_values\": 4,\n        \"samples\": [\n          682,\n          \"2555\",\n          \"7787\"\n        ],\n        \"semantic_type\": \"\",\n        \"description\": \"\"\n      }\n    },\n    {\n      \"column\": \"date_added\",\n      \"properties\": {\n        \"dtype\": \"date\",\n        \"min\": \"1970-01-01 00:00:00.000007787\",\n        \"max\": \"2021-01-16 00:00:00\",\n        \"num_unique_values\": 7,\n        \"samples\": [\n          \"7787\",\n          \"2019-01-08 16:42:39.342493952\",\n          \"2020-01-17 12:00:00\"\n        ],\n        \"semantic_type\": \"\",\n        \"description\": \"\"\n      }\n    },\n    {\n      \"column\": \"release_year\",\n      \"properties\": {\n        \"dtype\": \"number\",\n        \"std\": 2256.78950217845,\n        \"min\": 9.0,\n        \"max\": 7787.0,\n        \"num_unique_values\": 8,\n        \"samples\": [\n          2014.0,\n          2018.0,\n          7787.0\n        ],\n        \"semantic_type\": \"\",\n        \"description\": \"\"\n      }\n    },\n    {\n      \"column\": \"rating\",\n      \"properties\": {\n        \"dtype\": \"category\",\n        \"num_unique_values\": 4,\n        \"samples\": [\n          15,\n          \"2863\",\n          \"7787\"\n        ],\n        \"semantic_type\": \"\",\n        \"description\": \"\"\n      }\n    },\n    {\n      \"column\": \"duration\",\n      \"properties\": {\n        \"dtype\": \"category\",\n        \"num_unique_values\": 4,\n        \"samples\": [\n          216,\n          \"1608\",\n          \"7787\"\n        ],\n        \"semantic_type\": \"\",\n        \"description\": \"\"\n      }\n    },\n    {\n      \"column\": \"listed_in\",\n      \"properties\": {\n        \"dtype\": \"category\",\n        \"num_unique_values\": 4,\n        \"samples\": [\n          492,\n          \"334\",\n          \"7787\"\n        ],\n        \"semantic_type\": \"\",\n        \"description\": \"\"\n      }\n    },\n    {\n      \"column\": \"description\",\n      \"properties\": {\n        \"dtype\": \"category\",\n        \"num_unique_values\": 4,\n        \"samples\": [\n          7769,\n          \"3\",\n          \"7787\"\n        ],\n        \"semantic_type\": \"\",\n        \"description\": \"\"\n      }\n    }\n  ]\n}"
            }
          },
          "metadata": {},
          "execution_count": 28
        }
      ]
    },
    {
      "cell_type": "markdown",
      "source": [
        "#### **Outlier checks**"
      ],
      "metadata": {
        "id": "-9jL0d4klaUp"
      }
    },
    {
      "cell_type": "code",
      "source": [
        "# Select numerical columns\n",
        "numerical_cols = ['show_id', 'release_year']\n",
        "\n",
        "# Create box plots for numerical columns\n",
        "for col in numerical_cols:\n",
        "    plt.figure(figsize=(8, 6))  # Adjust figure size if needed\n",
        "    sns.boxplot(x=df[col])\n",
        "    plt.title(f'Box Plot for {col}')\n",
        "    plt.show()"
      ],
      "metadata": {
        "colab": {
          "base_uri": "https://localhost:8080/",
          "height": 1000
        },
        "id": "JxZtLmajohvi",
        "outputId": "c7579da6-ed7c-4a53-f575-d0dc960d3c4e"
      },
      "execution_count": null,
      "outputs": [
        {
          "output_type": "display_data",
          "data": {
            "text/plain": [
              "<Figure size 800x600 with 1 Axes>"
            ],
            "image/png": "[encoded data removed]"
          },
          "metadata": {}
        },
        {
          "output_type": "display_data",
          "data": {
            "text/plain": [
              "<Figure size 800x600 with 1 Axes>"
            ],
            "image/png": "[encoded data removed]"
          },
          "metadata": {}
        }
      ]
    },
    {
      "cell_type": "markdown",
      "source": [
        "#### Visualization"
      ],
      "metadata": {
        "id": "W2G-1NGJNWDD"
      }
    },
    {
      "cell_type": "code",
      "source": [
        "# Visualize distribution of 'date_added'\n",
        "plt.figure(figsize=(10, 6))\n",
        "sns.histplot(df['date_added'], kde=True)\n",
        "plt.title('Distribution of date_added')\n",
        "plt.show()"
      ],
      "metadata": {
        "colab": {
          "base_uri": "https://localhost:8080/",
          "height": 573
        },
        "id": "_T2JvX3bpAeF",
        "outputId": "f421f62a-9140-46e7-aafe-4ca700ba9de6"
      },
      "execution_count": null,
      "outputs": [
        {
          "output_type": "display_data",
          "data": {
            "text/plain": [
              "<Figure size 1000x600 with 1 Axes>"
            ],
            "image/png": "[encoded data removed]"
          },
          "metadata": {}
        }
      ]
    },
    {
      "cell_type": "code",
      "source": [
        "# Check for infrequent values in categorical columns and visualize with Plotly Express\n",
        "for col in ['type', 'rating', 'duration']:  # Add other relevant columns\n",
        "    value_counts = df[col].value_counts()\n",
        "\n",
        "    # Create a list of random colors\n",
        "    num_colors = len(value_counts)\n",
        "    colors = [\"#\" + ''.join([random.choice('0123456789ABCDEF') for j in range(6)]) for i in range(num_colors)]\n",
        "\n",
        "    # Create a bar chart using Plotly Express with random colors and count numbers\n",
        "    fig = px.bar(x=value_counts.index, y=value_counts.values,\n",
        "                 labels={'x': col, 'y': 'Frequency'},\n",
        "                 title=f\"Value Counts for {col}\",\n",
        "                 color=value_counts.index, color_discrete_sequence=colors, text=value_counts.values)  # Added text for count numbers\n",
        "\n",
        "    # Customize the layout (optional)\n",
        "    fig.update_layout(xaxis_tickangle=-45, xaxis_title='Dataset Variables', yaxis_title='Count Distribution')\n",
        "    fig.update_traces(textposition='outside')  # Position count numbers outside the bars\n",
        "\n",
        "    # Show the plot\n",
        "    fig.show()"
      ],
      "metadata": {
        "colab": {
          "base_uri": "https://localhost:8080/",
          "height": 1000
        },
        "id": "oOTR4dMlppUP",
        "outputId": "9965b62c-ef48-4b41-9f52-a07969370321"
      },
      "execution_count": null,
      "outputs": [
        {
          "output_type": "display_data",
          "data": {
            "text/html": [
              "<html>\n",
              "<head><meta charset=\"utf-8\" /></head>\n",
              "<body>\n",
              "    <div>            <script src=\"https://cdnjs.cloudflare.com/ajax/libs/mathjax/2.7.5/MathJax.js?config=TeX-AMS-MML_SVG\"></script><script type=\"text/javascript\">if (window.MathJax && window.MathJax.Hub && window.MathJax.Hub.Config) {window.MathJax.Hub.Config({SVG: {font: \"STIX-Web\"}});}</script>                <script type=\"text/javascript\">window.PlotlyConfig = {MathJaxConfig: 'local'};</script>\n",
              "        <script charset=\"utf-8\" src=\"https://cdn.plot.ly/plotly-2.35.2.min.js\"></script>                <div id=\"e3050301-dc88-43b5-9dfd-9e10d31ae648\" class=\"plotly-graph-div\" style=\"height:525px; width:100%;\"></div>            <script type=\"text/javascript\">                                    window.PLOTLYENV=window.PLOTLYENV || {};                                    if (document.getElementById(\"e3050301-dc88-43b5-9dfd-9e10d31ae648\")) {                    Plotly.newPlot(                        \"e3050301-dc88-43b5-9dfd-9e10d31ae648\",                        [{\"alignmentgroup\":\"True\",\"hovertemplate\":\"color=Movie\\u003cbr\\u003etype=%{x}\\u003cbr\\u003eFrequency=%{y}\\u003cbr\\u003etext=%{text}\\u003cextra\\u003e\\u003c\\u002fextra\\u003e\",\"legendgroup\":\"Movie\",\"marker\":{\"color\":\"#A2200B\",\"pattern\":{\"shape\":\"\"}},\"name\":\"Movie\",\"offsetgroup\":\"Movie\",\"orientation\":\"v\",\"showlegend\":true,\"text\":[5377.0],\"textposition\":\"outside\",\"x\":[\"Movie\"],\"xaxis\":\"x\",\"y\":[5377],\"yaxis\":\"y\",\"type\":\"bar\"},{\"alignmentgroup\":\"True\",\"hovertemplate\":\"color=TV Show\\u003cbr\\u003etype=%{x}\\u003cbr\\u003eFrequency=%{y}\\u003cbr\\u003etext=%{text}\\u003cextra\\u003e\\u003c\\u002fextra\\u003e\",\"legendgroup\":\"TV Show\",\"marker\":{\"color\":\"#A12F68\",\"pattern\":{\"shape\":\"\"}},\"name\":\"TV Show\",\"offsetgroup\":\"TV Show\",\"orientation\":\"v\",\"showlegend\":true,\"text\":[2410.0],\"textposition\":\"outside\",\"x\":[\"TV Show\"],\"xaxis\":\"x\",\"y\":[2410],\"yaxis\":\"y\",\"type\":\"bar\"}],                        {\"template\":{\"data\":{\"histogram2dcontour\":[{\"type\":\"histogram2dcontour\",\"colorbar\":{\"outlinewidth\":0,\"ticks\":\"\"},\"colorscale\":[[0.0,\"#0d0887\"],[0.1111111111111111,\"#46039f\"],[0.2222222222222222,\"#7201a8\"],[0.3333333333333333,\"#9c179e\"],[0.4444444444444444,\"#bd3786\"],[0.5555555555555556,\"#d8576b\"],[0.6666666666666666,\"#ed7953\"],[0.7777777777777778,\"#fb9f3a\"],[0.8888888888888888,\"#fdca26\"],[1.0,\"#f0f921\"]]}],\"choropleth\":[{\"type\":\"choropleth\",\"colorbar\":{\"outlinewidth\":0,\"ticks\":\"\"}}],\"histogram2d\":[{\"type\":\"histogram2d\",\"colorbar\":{\"outlinewidth\":0,\"ticks\":\"\"},\"colorscale\":[[0.0,\"#0d0887\"],[0.1111111111111111,\"#46039f\"],[0.2222222222222222,\"#7201a8\"],[0.3333333333333333,\"#9c179e\"],[0.4444444444444444,\"#bd3786\"],[0.5555555555555556,\"#d8576b\"],[0.6666666666666666,\"#ed7953\"],[0.7777777777777778,\"#fb9f3a\"],[0.8888888888888888,\"#fdca26\"],[1.0,\"#f0f921\"]]}],\"heatmap\":[{\"type\":\"heatmap\",\"colorbar\":{\"outlinewidth\":0,\"ticks\":\"\"},\"colorscale\":[[0.0,\"#0d0887\"],[0.1111111111111111,\"#46039f\"],[0.2222222222222222,\"#7201a8\"],[0.3333333333333333,\"#9c179e\"],[0.4444444444444444,\"#bd3786\"],[0.5555555555555556,\"#d8576b\"],[0.6666666666666666,\"#ed7953\"],[0.7777777777777778,\"#fb9f3a\"],[0.8888888888888888,\"#fdca26\"],[1.0,\"#f0f921\"]]}],\"heatmapgl\":[{\"type\":\"heatmapgl\",\"colorbar\":{\"outlinewidth\":0,\"ticks\":\"\"},\"colorscale\":[[0.0,\"#0d0887\"],[0.1111111111111111,\"#46039f\"],[0.2222222222222222,\"#7201a8\"],[0.3333333333333333,\"#9c179e\"],[0.4444444444444444,\"#bd3786\"],[0.5555555555555556,\"#d8576b\"],[0.6666666666666666,\"#ed7953\"],[0.7777777777777778,\"#fb9f3a\"],[0.8888888888888888,\"#fdca26\"],[1.0,\"#f0f921\"]]}],\"contourcarpet\":[{\"type\":\"contourcarpet\",\"colorbar\":{\"outlinewidth\":0,\"ticks\":\"\"}}],\"contour\":[{\"type\":\"contour\",\"colorbar\":{\"outlinewidth\":0,\"ticks\":\"\"},\"colorscale\":[[0.0,\"#0d0887\"],[0.1111111111111111,\"#46039f\"],[0.2222222222222222,\"#7201a8\"],[0.3333333333333333,\"#9c179e\"],[0.4444444444444444,\"#bd3786\"],[0.5555555555555556,\"#d8576b\"],[0.6666666666666666,\"#ed7953\"],[0.7777777777777778,\"#fb9f3a\"],[0.8888888888888888,\"#fdca26\"],[1.0,\"#f0f921\"]]}],\"surface\":[{\"type\":\"surface\",\"colorbar\":{\"outlinewidth\":0,\"ticks\":\"\"},\"colorscale\":[[0.0,\"#0d0887\"],[0.1111111111111111,\"#46039f\"],[0.2222222222222222,\"#7201a8\"],[0.3333333333333333,\"#9c179e\"],[0.4444444444444444,\"#bd3786\"],[0.5555555555555556,\"#d8576b\"],[0.6666666666666666,\"#ed7953\"],[0.7777777777777778,\"#fb9f3a\"],[0.8888888888888888,\"#fdca26\"],[1.0,\"#f0f921\"]]}],\"mesh3d\":[{\"type\":\"mesh3d\",\"colorbar\":{\"outlinewidth\":0,\"ticks\":\"\"}}],\"scatter\":[{\"fillpattern\":{\"fillmode\":\"overlay\",\"size\":10,\"solidity\":0.2},\"type\":\"scatter\"}],\"parcoords\":[{\"type\":\"parcoords\",\"line\":{\"colorbar\":{\"outlinewidth\":0,\"ticks\":\"\"}}}],\"scatterpolargl\":[{\"type\":\"scatterpolargl\",\"marker\":{\"colorbar\":{\"outlinewidth\":0,\"ticks\":\"\"}}}],\"bar\":[{\"error_x\":{\"color\":\"#2a3f5f\"},\"error_y\":{\"color\":\"#2a3f5f\"},\"marker\":{\"line\":{\"color\":\"#E5ECF6\",\"width\":0.5},\"pattern\":{\"fillmode\":\"overlay\",\"size\":10,\"solidity\":0.2}},\"type\":\"bar\"}],\"scattergeo\":[{\"type\":\"scattergeo\",\"marker\":{\"colorbar\":{\"outlinewidth\":0,\"ticks\":\"\"}}}],\"scatterpolar\":[{\"type\":\"scatterpolar\",\"marker\":{\"colorbar\":{\"outlinewidth\":0,\"ticks\":\"\"}}}],\"histogram\":[{\"marker\":{\"pattern\":{\"fillmode\":\"overlay\",\"size\":10,\"solidity\":0.2}},\"type\":\"histogram\"}],\"scattergl\":[{\"type\":\"scattergl\",\"marker\":{\"colorbar\":{\"outlinewidth\":0,\"ticks\":\"\"}}}],\"scatter3d\":[{\"type\":\"scatter3d\",\"line\":{\"colorbar\":{\"outlinewidth\":0,\"ticks\":\"\"}},\"marker\":{\"colorbar\":{\"outlinewidth\":0,\"ticks\":\"\"}}}],\"scattermapbox\":[{\"type\":\"scattermapbox\",\"marker\":{\"colorbar\":{\"outlinewidth\":0,\"ticks\":\"\"}}}],\"scatterternary\":[{\"type\":\"scatterternary\",\"marker\":{\"colorbar\":{\"outlinewidth\":0,\"ticks\":\"\"}}}],\"scattercarpet\":[{\"type\":\"scattercarpet\",\"marker\":{\"colorbar\":{\"outlinewidth\":0,\"ticks\":\"\"}}}],\"carpet\":[{\"aaxis\":{\"endlinecolor\":\"#2a3f5f\",\"gridcolor\":\"white\",\"linecolor\":\"white\",\"minorgridcolor\":\"white\",\"startlinecolor\":\"#2a3f5f\"},\"baxis\":{\"endlinecolor\":\"#2a3f5f\",\"gridcolor\":\"white\",\"linecolor\":\"white\",\"minorgridcolor\":\"white\",\"startlinecolor\":\"#2a3f5f\"},\"type\":\"carpet\"}],\"table\":[{\"cells\":{\"fill\":{\"color\":\"#EBF0F8\"},\"line\":{\"color\":\"white\"}},\"header\":{\"fill\":{\"color\":\"#C8D4E3\"},\"line\":{\"color\":\"white\"}},\"type\":\"table\"}],\"barpolar\":[{\"marker\":{\"line\":{\"color\":\"#E5ECF6\",\"width\":0.5},\"pattern\":{\"fillmode\":\"overlay\",\"size\":10,\"solidity\":0.2}},\"type\":\"barpolar\"}],\"pie\":[{\"automargin\":true,\"type\":\"pie\"}]},\"layout\":{\"autotypenumbers\":\"strict\",\"colorway\":[\"#636efa\",\"#EF553B\",\"#00cc96\",\"#ab63fa\",\"#FFA15A\",\"#19d3f3\",\"#FF6692\",\"#B6E880\",\"#FF97FF\",\"#FECB52\"],\"font\":{\"color\":\"#2a3f5f\"},\"hovermode\":\"closest\",\"hoverlabel\":{\"align\":\"left\"},\"paper_bgcolor\":\"white\",\"plot_bgcolor\":\"#E5ECF6\",\"polar\":{\"bgcolor\":\"#E5ECF6\",\"angularaxis\":{\"gridcolor\":\"white\",\"linecolor\":\"white\",\"ticks\":\"\"},\"radialaxis\":{\"gridcolor\":\"white\",\"linecolor\":\"white\",\"ticks\":\"\"}},\"ternary\":{\"bgcolor\":\"#E5ECF6\",\"aaxis\":{\"gridcolor\":\"white\",\"linecolor\":\"white\",\"ticks\":\"\"},\"baxis\":{\"gridcolor\":\"white\",\"linecolor\":\"white\",\"ticks\":\"\"},\"caxis\":{\"gridcolor\":\"white\",\"linecolor\":\"white\",\"ticks\":\"\"}},\"coloraxis\":{\"colorbar\":{\"outlinewidth\":0,\"ticks\":\"\"}},\"colorscale\":{\"sequential\":[[0.0,\"#0d0887\"],[0.1111111111111111,\"#46039f\"],[0.2222222222222222,\"#7201a8\"],[0.3333333333333333,\"#9c179e\"],[0.4444444444444444,\"#bd3786\"],[0.5555555555555556,\"#d8576b\"],[0.6666666666666666,\"#ed7953\"],[0.7777777777777778,\"#fb9f3a\"],[0.8888888888888888,\"#fdca26\"],[1.0,\"#f0f921\"]],\"sequentialminus\":[[0.0,\"#0d0887\"],[0.1111111111111111,\"#46039f\"],[0.2222222222222222,\"#7201a8\"],[0.3333333333333333,\"#9c179e\"],[0.4444444444444444,\"#bd3786\"],[0.5555555555555556,\"#d8576b\"],[0.6666666666666666,\"#ed7953\"],[0.7777777777777778,\"#fb9f3a\"],[0.8888888888888888,\"#fdca26\"],[1.0,\"#f0f921\"]],\"diverging\":[[0,\"#8e0152\"],[0.1,\"#c51b7d\"],[0.2,\"#de77ae\"],[0.3,\"#f1b6da\"],[0.4,\"#fde0ef\"],[0.5,\"#f7f7f7\"],[0.6,\"#e6f5d0\"],[0.7,\"#b8e186\"],[0.8,\"#7fbc41\"],[0.9,\"#4d9221\"],[1,\"#276419\"]]},\"xaxis\":{\"gridcolor\":\"white\",\"linecolor\":\"white\",\"ticks\":\"\",\"title\":{\"standoff\":15},\"zerolinecolor\":\"white\",\"automargin\":true,\"zerolinewidth\":2},\"yaxis\":{\"gridcolor\":\"white\",\"linecolor\":\"white\",\"ticks\":\"\",\"title\":{\"standoff\":15},\"zerolinecolor\":\"white\",\"automargin\":true,\"zerolinewidth\":2},\"scene\":{\"xaxis\":{\"backgroundcolor\":\"#E5ECF6\",\"gridcolor\":\"white\",\"linecolor\":\"white\",\"showbackground\":true,\"ticks\":\"\",\"zerolinecolor\":\"white\",\"gridwidth\":2},\"yaxis\":{\"backgroundcolor\":\"#E5ECF6\",\"gridcolor\":\"white\",\"linecolor\":\"white\",\"showbackground\":true,\"ticks\":\"\",\"zerolinecolor\":\"white\",\"gridwidth\":2},\"zaxis\":{\"backgroundcolor\":\"#E5ECF6\",\"gridcolor\":\"white\",\"linecolor\":\"white\",\"showbackground\":true,\"ticks\":\"\",\"zerolinecolor\":\"white\",\"gridwidth\":2}},\"shapedefaults\":{\"line\":{\"color\":\"#2a3f5f\"}},\"annotationdefaults\":{\"arrowcolor\":\"#2a3f5f\",\"arrowhead\":0,\"arrowwidth\":1},\"geo\":{\"bgcolor\":\"white\",\"landcolor\":\"#E5ECF6\",\"subunitcolor\":\"white\",\"showland\":true,\"showlakes\":true,\"lakecolor\":\"white\"},\"title\":{\"x\":0.05},\"mapbox\":{\"style\":\"light\"}}},\"xaxis\":{\"anchor\":\"y\",\"domain\":[0.0,1.0],\"title\":{\"text\":\"Dataset Variables\"},\"tickangle\":-45},\"yaxis\":{\"anchor\":\"x\",\"domain\":[0.0,1.0],\"title\":{\"text\":\"Count Distribution\"}},\"legend\":{\"title\":{\"text\":\"color\"},\"tracegroupgap\":0},\"title\":{\"text\":\"Value Counts for type\"},\"barmode\":\"relative\"},                        {\"responsive\": true}                    ).then(function(){\n",
              "                            \n",
              "var gd = document.getElementById('e3050301-dc88-43b5-9dfd-9e10d31ae648');\n",
              "var x = new MutationObserver(function (mutations, observer) {{\n",
              "        var display = window.getComputedStyle(gd).display;\n",
              "        if (!display || display === 'none') {{\n",
              "            console.log([gd, 'removed!']);\n",
              "            Plotly.purge(gd);\n",
              "            observer.disconnect();\n",
              "        }}\n",
              "}});\n",
              "\n",
              "// Listen for the removal of the full notebook cells\n",
              "var notebookContainer = gd.closest('#notebook-container');\n",
              "if (notebookContainer) {{\n",
              "    x.observe(notebookContainer, {childList: true});\n",
              "}}\n",
              "\n",
              "// Listen for the clearing of the current output cell\n",
              "var outputEl = gd.closest('.output');\n",
              "if (outputEl) {{\n",
              "    x.observe(outputEl, {childList: true});\n",
              "}}\n",
              "\n",
              "                        })                };                            </script>        </div>\n",
              "</body>\n",
              "</html>"
            ]
          },
          "metadata": {}
        },
        {
          "output_type": "display_data",
          "data": {
            "text/html": [
              "<html>\n",
              "<head><meta charset=\"utf-8\" /></head>\n",
              "<body>\n",
              "    <div>            <script src=\"https://cdnjs.cloudflare.com/ajax/libs/mathjax/2.7.5/MathJax.js?config=TeX-AMS-MML_SVG\"></script><script type=\"text/javascript\">if (window.MathJax && window.MathJax.Hub && window.MathJax.Hub.Config) {window.MathJax.Hub.Config({SVG: {font: \"STIX-Web\"}});}</script>                <script type=\"text/javascript\">window.PlotlyConfig = {MathJaxConfig: 'local'};</script>\n",
              "        <script charset=\"utf-8\" src=\"https://cdn.plot.ly/plotly-2.35.2.min.js\"></script>                <div id=\"348e7c80-212a-4254-a1de-e7705c37303d\" class=\"plotly-graph-div\" style=\"height:525px; width:100%;\"></div>            <script type=\"text/javascript\">                                    window.PLOTLYENV=window.PLOTLYENV || {};                                    if (document.getElementById(\"348e7c80-212a-4254-a1de-e7705c37303d\")) {                    Plotly.newPlot(                        \"348e7c80-212a-4254-a1de-e7705c37303d\",                        [{\"alignmentgroup\":\"True\",\"hovertemplate\":\"color=TV-MA\\u003cbr\\u003erating=%{x}\\u003cbr\\u003eFrequency=%{y}\\u003cbr\\u003etext=%{text}\\u003cextra\\u003e\\u003c\\u002fextra\\u003e\",\"legendgroup\":\"TV-MA\",\"marker\":{\"color\":\"#C94353\",\"pattern\":{\"shape\":\"\"}},\"name\":\"TV-MA\",\"offsetgroup\":\"TV-MA\",\"orientation\":\"v\",\"showlegend\":true,\"text\":[2863.0],\"textposition\":\"outside\",\"x\":[\"TV-MA\"],\"xaxis\":\"x\",\"y\":[2863],\"yaxis\":\"y\",\"type\":\"bar\"},{\"alignmentgroup\":\"True\",\"hovertemplate\":\"color=TV-14\\u003cbr\\u003erating=%{x}\\u003cbr\\u003eFrequency=%{y}\\u003cbr\\u003etext=%{text}\\u003cextra\\u003e\\u003c\\u002fextra\\u003e\",\"legendgroup\":\"TV-14\",\"marker\":{\"color\":\"#416244\",\"pattern\":{\"shape\":\"\"}},\"name\":\"TV-14\",\"offsetgroup\":\"TV-14\",\"orientation\":\"v\",\"showlegend\":true,\"text\":[1931.0],\"textposition\":\"outside\",\"x\":[\"TV-14\"],\"xaxis\":\"x\",\"y\":[1931],\"yaxis\":\"y\",\"type\":\"bar\"},{\"alignmentgroup\":\"True\",\"hovertemplate\":\"color=TV-PG\\u003cbr\\u003erating=%{x}\\u003cbr\\u003eFrequency=%{y}\\u003cbr\\u003etext=%{text}\\u003cextra\\u003e\\u003c\\u002fextra\\u003e\",\"legendgroup\":\"TV-PG\",\"marker\":{\"color\":\"#7DA167\",\"pattern\":{\"shape\":\"\"}},\"name\":\"TV-PG\",\"offsetgroup\":\"TV-PG\",\"orientation\":\"v\",\"showlegend\":true,\"text\":[806.0],\"textposition\":\"outside\",\"x\":[\"TV-PG\"],\"xaxis\":\"x\",\"y\":[806],\"yaxis\":\"y\",\"type\":\"bar\"},{\"alignmentgroup\":\"True\",\"hovertemplate\":\"color=R\\u003cbr\\u003erating=%{x}\\u003cbr\\u003eFrequency=%{y}\\u003cbr\\u003etext=%{text}\\u003cextra\\u003e\\u003c\\u002fextra\\u003e\",\"legendgroup\":\"R\",\"marker\":{\"color\":\"#3C88EF\",\"pattern\":{\"shape\":\"\"}},\"name\":\"R\",\"offsetgroup\":\"R\",\"orientation\":\"v\",\"showlegend\":true,\"text\":[665.0],\"textposition\":\"outside\",\"x\":[\"R\"],\"xaxis\":\"x\",\"y\":[665],\"yaxis\":\"y\",\"type\":\"bar\"},{\"alignmentgroup\":\"True\",\"hovertemplate\":\"color=PG-13\\u003cbr\\u003erating=%{x}\\u003cbr\\u003eFrequency=%{y}\\u003cbr\\u003etext=%{text}\\u003cextra\\u003e\\u003c\\u002fextra\\u003e\",\"legendgroup\":\"PG-13\",\"marker\":{\"color\":\"#39F541\",\"pattern\":{\"shape\":\"\"}},\"name\":\"PG-13\",\"offsetgroup\":\"PG-13\",\"orientation\":\"v\",\"showlegend\":true,\"text\":[386.0],\"textposition\":\"outside\",\"x\":[\"PG-13\"],\"xaxis\":\"x\",\"y\":[386],\"yaxis\":\"y\",\"type\":\"bar\"},{\"alignmentgroup\":\"True\",\"hovertemplate\":\"color=TV-Y\\u003cbr\\u003erating=%{x}\\u003cbr\\u003eFrequency=%{y}\\u003cbr\\u003etext=%{text}\\u003cextra\\u003e\\u003c\\u002fextra\\u003e\",\"legendgroup\":\"TV-Y\",\"marker\":{\"color\":\"#F0C72E\",\"pattern\":{\"shape\":\"\"}},\"name\":\"TV-Y\",\"offsetgroup\":\"TV-Y\",\"orientation\":\"v\",\"showlegend\":true,\"text\":[280.0],\"textposition\":\"outside\",\"x\":[\"TV-Y\"],\"xaxis\":\"x\",\"y\":[280],\"yaxis\":\"y\",\"type\":\"bar\"},{\"alignmentgroup\":\"True\",\"hovertemplate\":\"color=TV-Y7\\u003cbr\\u003erating=%{x}\\u003cbr\\u003eFrequency=%{y}\\u003cbr\\u003etext=%{text}\\u003cextra\\u003e\\u003c\\u002fextra\\u003e\",\"legendgroup\":\"TV-Y7\",\"marker\":{\"color\":\"#AF4E50\",\"pattern\":{\"shape\":\"\"}},\"name\":\"TV-Y7\",\"offsetgroup\":\"TV-Y7\",\"orientation\":\"v\",\"showlegend\":true,\"text\":[271.0],\"textposition\":\"outside\",\"x\":[\"TV-Y7\"],\"xaxis\":\"x\",\"y\":[271],\"yaxis\":\"y\",\"type\":\"bar\"},{\"alignmentgroup\":\"True\",\"hovertemplate\":\"color=PG\\u003cbr\\u003erating=%{x}\\u003cbr\\u003eFrequency=%{y}\\u003cbr\\u003etext=%{text}\\u003cextra\\u003e\\u003c\\u002fextra\\u003e\",\"legendgroup\":\"PG\",\"marker\":{\"color\":\"#E9F246\",\"pattern\":{\"shape\":\"\"}},\"name\":\"PG\",\"offsetgroup\":\"PG\",\"orientation\":\"v\",\"showlegend\":true,\"text\":[247.0],\"textposition\":\"outside\",\"x\":[\"PG\"],\"xaxis\":\"x\",\"y\":[247],\"yaxis\":\"y\",\"type\":\"bar\"},{\"alignmentgroup\":\"True\",\"hovertemplate\":\"color=TV-G\\u003cbr\\u003erating=%{x}\\u003cbr\\u003eFrequency=%{y}\\u003cbr\\u003etext=%{text}\\u003cextra\\u003e\\u003c\\u002fextra\\u003e\",\"legendgroup\":\"TV-G\",\"marker\":{\"color\":\"#A3FE7D\",\"pattern\":{\"shape\":\"\"}},\"name\":\"TV-G\",\"offsetgroup\":\"TV-G\",\"orientation\":\"v\",\"showlegend\":true,\"text\":[194.0],\"textposition\":\"outside\",\"x\":[\"TV-G\"],\"xaxis\":\"x\",\"y\":[194],\"yaxis\":\"y\",\"type\":\"bar\"},{\"alignmentgroup\":\"True\",\"hovertemplate\":\"color=NR\\u003cbr\\u003erating=%{x}\\u003cbr\\u003eFrequency=%{y}\\u003cbr\\u003etext=%{text}\\u003cextra\\u003e\\u003c\\u002fextra\\u003e\",\"legendgroup\":\"NR\",\"marker\":{\"color\":\"#040BA8\",\"pattern\":{\"shape\":\"\"}},\"name\":\"NR\",\"offsetgroup\":\"NR\",\"orientation\":\"v\",\"showlegend\":true,\"text\":[84.0],\"textposition\":\"outside\",\"x\":[\"NR\"],\"xaxis\":\"x\",\"y\":[84],\"yaxis\":\"y\",\"type\":\"bar\"},{\"alignmentgroup\":\"True\",\"hovertemplate\":\"color=G\\u003cbr\\u003erating=%{x}\\u003cbr\\u003eFrequency=%{y}\\u003cbr\\u003etext=%{text}\\u003cextra\\u003e\\u003c\\u002fextra\\u003e\",\"legendgroup\":\"G\",\"marker\":{\"color\":\"#C68872\",\"pattern\":{\"shape\":\"\"}},\"name\":\"G\",\"offsetgroup\":\"G\",\"orientation\":\"v\",\"showlegend\":true,\"text\":[39.0],\"textposition\":\"outside\",\"x\":[\"G\"],\"xaxis\":\"x\",\"y\":[39],\"yaxis\":\"y\",\"type\":\"bar\"},{\"alignmentgroup\":\"True\",\"hovertemplate\":\"color=Not available\\u003cbr\\u003erating=%{x}\\u003cbr\\u003eFrequency=%{y}\\u003cbr\\u003etext=%{text}\\u003cextra\\u003e\\u003c\\u002fextra\\u003e\",\"legendgroup\":\"Not available\",\"marker\":{\"color\":\"#0AC4BA\",\"pattern\":{\"shape\":\"\"}},\"name\":\"Not available\",\"offsetgroup\":\"Not available\",\"orientation\":\"v\",\"showlegend\":true,\"text\":[7.0],\"textposition\":\"outside\",\"x\":[\"Not available\"],\"xaxis\":\"x\",\"y\":[7],\"yaxis\":\"y\",\"type\":\"bar\"},{\"alignmentgroup\":\"True\",\"hovertemplate\":\"color=TV-Y7-FV\\u003cbr\\u003erating=%{x}\\u003cbr\\u003eFrequency=%{y}\\u003cbr\\u003etext=%{text}\\u003cextra\\u003e\\u003c\\u002fextra\\u003e\",\"legendgroup\":\"TV-Y7-FV\",\"marker\":{\"color\":\"#DB539D\",\"pattern\":{\"shape\":\"\"}},\"name\":\"TV-Y7-FV\",\"offsetgroup\":\"TV-Y7-FV\",\"orientation\":\"v\",\"showlegend\":true,\"text\":[6.0],\"textposition\":\"outside\",\"x\":[\"TV-Y7-FV\"],\"xaxis\":\"x\",\"y\":[6],\"yaxis\":\"y\",\"type\":\"bar\"},{\"alignmentgroup\":\"True\",\"hovertemplate\":\"color=UR\\u003cbr\\u003erating=%{x}\\u003cbr\\u003eFrequency=%{y}\\u003cbr\\u003etext=%{text}\\u003cextra\\u003e\\u003c\\u002fextra\\u003e\",\"legendgroup\":\"UR\",\"marker\":{\"color\":\"#0D931E\",\"pattern\":{\"shape\":\"\"}},\"name\":\"UR\",\"offsetgroup\":\"UR\",\"orientation\":\"v\",\"showlegend\":true,\"text\":[5.0],\"textposition\":\"outside\",\"x\":[\"UR\"],\"xaxis\":\"x\",\"y\":[5],\"yaxis\":\"y\",\"type\":\"bar\"},{\"alignmentgroup\":\"True\",\"hovertemplate\":\"color=NC-17\\u003cbr\\u003erating=%{x}\\u003cbr\\u003eFrequency=%{y}\\u003cbr\\u003etext=%{text}\\u003cextra\\u003e\\u003c\\u002fextra\\u003e\",\"legendgroup\":\"NC-17\",\"marker\":{\"color\":\"#94CDF4\",\"pattern\":{\"shape\":\"\"}},\"name\":\"NC-17\",\"offsetgroup\":\"NC-17\",\"orientation\":\"v\",\"showlegend\":true,\"text\":[3.0],\"textposition\":\"outside\",\"x\":[\"NC-17\"],\"xaxis\":\"x\",\"y\":[3],\"yaxis\":\"y\",\"type\":\"bar\"}],                        {\"template\":{\"data\":{\"histogram2dcontour\":[{\"type\":\"histogram2dcontour\",\"colorbar\":{\"outlinewidth\":0,\"ticks\":\"\"},\"colorscale\":[[0.0,\"#0d0887\"],[0.1111111111111111,\"#46039f\"],[0.2222222222222222,\"#7201a8\"],[0.3333333333333333,\"#9c179e\"],[0.4444444444444444,\"#bd3786\"],[0.5555555555555556,\"#d8576b\"],[0.6666666666666666,\"#ed7953\"],[0.7777777777777778,\"#fb9f3a\"],[0.8888888888888888,\"#fdca26\"],[1.0,\"#f0f921\"]]}],\"choropleth\":[{\"type\":\"choropleth\",\"colorbar\":{\"outlinewidth\":0,\"ticks\":\"\"}}],\"histogram2d\":[{\"type\":\"histogram2d\",\"colorbar\":{\"outlinewidth\":0,\"ticks\":\"\"},\"colorscale\":[[0.0,\"#0d0887\"],[0.1111111111111111,\"#46039f\"],[0.2222222222222222,\"#7201a8\"],[0.3333333333333333,\"#9c179e\"],[0.4444444444444444,\"#bd3786\"],[0.5555555555555556,\"#d8576b\"],[0.6666666666666666,\"#ed7953\"],[0.7777777777777778,\"#fb9f3a\"],[0.8888888888888888,\"#fdca26\"],[1.0,\"#f0f921\"]]}],\"heatmap\":[{\"type\":\"heatmap\",\"colorbar\":{\"outlinewidth\":0,\"ticks\":\"\"},\"colorscale\":[[0.0,\"#0d0887\"],[0.1111111111111111,\"#46039f\"],[0.2222222222222222,\"#7201a8\"],[0.3333333333333333,\"#9c179e\"],[0.4444444444444444,\"#bd3786\"],[0.5555555555555556,\"#d8576b\"],[0.6666666666666666,\"#ed7953\"],[0.7777777777777778,\"#fb9f3a\"],[0.8888888888888888,\"#fdca26\"],[1.0,\"#f0f921\"]]}],\"heatmapgl\":[{\"type\":\"heatmapgl\",\"colorbar\":{\"outlinewidth\":0,\"ticks\":\"\"},\"colorscale\":[[0.0,\"#0d0887\"],[0.1111111111111111,\"#46039f\"],[0.2222222222222222,\"#7201a8\"],[0.3333333333333333,\"#9c179e\"],[0.4444444444444444,\"#bd3786\"],[0.5555555555555556,\"#d8576b\"],[0.6666666666666666,\"#ed7953\"],[0.7777777777777778,\"#fb9f3a\"],[0.8888888888888888,\"#fdca26\"],[1.0,\"#f0f921\"]]}],\"contourcarpet\":[{\"type\":\"contourcarpet\",\"colorbar\":{\"outlinewidth\":0,\"ticks\":\"\"}}],\"contour\":[{\"type\":\"contour\",\"colorbar\":{\"outlinewidth\":0,\"ticks\":\"\"},\"colorscale\":[[0.0,\"#0d0887\"],[0.1111111111111111,\"#46039f\"],[0.2222222222222222,\"#7201a8\"],[0.3333333333333333,\"#9c179e\"],[0.4444444444444444,\"#bd3786\"],[0.5555555555555556,\"#d8576b\"],[0.6666666666666666,\"#ed7953\"],[0.7777777777777778,\"#fb9f3a\"],[0.8888888888888888,\"#fdca26\"],[1.0,\"#f0f921\"]]}],\"surface\":[{\"type\":\"surface\",\"colorbar\":{\"outlinewidth\":0,\"ticks\":\"\"},\"colorscale\":[[0.0,\"#0d0887\"],[0.1111111111111111,\"#46039f\"],[0.2222222222222222,\"#7201a8\"],[0.3333333333333333,\"#9c179e\"],[0.4444444444444444,\"#bd3786\"],[0.5555555555555556,\"#d8576b\"],[0.6666666666666666,\"#ed7953\"],[0.7777777777777778,\"#fb9f3a\"],[0.8888888888888888,\"#fdca26\"],[1.0,\"#f0f921\"]]}],\"mesh3d\":[{\"type\":\"mesh3d\",\"colorbar\":{\"outlinewidth\":0,\"ticks\":\"\"}}],\"scatter\":[{\"fillpattern\":{\"fillmode\":\"overlay\",\"size\":10,\"solidity\":0.2},\"type\":\"scatter\"}],\"parcoords\":[{\"type\":\"parcoords\",\"line\":{\"colorbar\":{\"outlinewidth\":0,\"ticks\":\"\"}}}],\"scatterpolargl\":[{\"type\":\"scatterpolargl\",\"marker\":{\"colorbar\":{\"outlinewidth\":0,\"ticks\":\"\"}}}],\"bar\":[{\"error_x\":{\"color\":\"#2a3f5f\"},\"error_y\":{\"color\":\"#2a3f5f\"},\"marker\":{\"line\":{\"color\":\"#E5ECF6\",\"width\":0.5},\"pattern\":{\"fillmode\":\"overlay\",\"size\":10,\"solidity\":0.2}},\"type\":\"bar\"}],\"scattergeo\":[{\"type\":\"scattergeo\",\"marker\":{\"colorbar\":{\"outlinewidth\":0,\"ticks\":\"\"}}}],\"scatterpolar\":[{\"type\":\"scatterpolar\",\"marker\":{\"colorbar\":{\"outlinewidth\":0,\"ticks\":\"\"}}}],\"histogram\":[{\"marker\":{\"pattern\":{\"fillmode\":\"overlay\",\"size\":10,\"solidity\":0.2}},\"type\":\"histogram\"}],\"scattergl\":[{\"type\":\"scattergl\",\"marker\":{\"colorbar\":{\"outlinewidth\":0,\"ticks\":\"\"}}}],\"scatter3d\":[{\"type\":\"scatter3d\",\"line\":{\"colorbar\":{\"outlinewidth\":0,\"ticks\":\"\"}},\"marker\":{\"colorbar\":{\"outlinewidth\":0,\"ticks\":\"\"}}}],\"scattermapbox\":[{\"type\":\"scattermapbox\",\"marker\":{\"colorbar\":{\"outlinewidth\":0,\"ticks\":\"\"}}}],\"scatterternary\":[{\"type\":\"scatterternary\",\"marker\":{\"colorbar\":{\"outlinewidth\":0,\"ticks\":\"\"}}}],\"scattercarpet\":[{\"type\":\"scattercarpet\",\"marker\":{\"colorbar\":{\"outlinewidth\":0,\"ticks\":\"\"}}}],\"carpet\":[{\"aaxis\":{\"endlinecolor\":\"#2a3f5f\",\"gridcolor\":\"white\",\"linecolor\":\"white\",\"minorgridcolor\":\"white\",\"startlinecolor\":\"#2a3f5f\"},\"baxis\":{\"endlinecolor\":\"#2a3f5f\",\"gridcolor\":\"white\",\"linecolor\":\"white\",\"minorgridcolor\":\"white\",\"startlinecolor\":\"#2a3f5f\"},\"type\":\"carpet\"}],\"table\":[{\"cells\":{\"fill\":{\"color\":\"#EBF0F8\"},\"line\":{\"color\":\"white\"}},\"header\":{\"fill\":{\"color\":\"#C8D4E3\"},\"line\":{\"color\":\"white\"}},\"type\":\"table\"}],\"barpolar\":[{\"marker\":{\"line\":{\"color\":\"#E5ECF6\",\"width\":0.5},\"pattern\":{\"fillmode\":\"overlay\",\"size\":10,\"solidity\":0.2}},\"type\":\"barpolar\"}],\"pie\":[{\"automargin\":true,\"type\":\"pie\"}]},\"layout\":{\"autotypenumbers\":\"strict\",\"colorway\":[\"#636efa\",\"#EF553B\",\"#00cc96\",\"#ab63fa\",\"#FFA15A\",\"#19d3f3\",\"#FF6692\",\"#B6E880\",\"#FF97FF\",\"#FECB52\"],\"font\":{\"color\":\"#2a3f5f\"},\"hovermode\":\"closest\",\"hoverlabel\":{\"align\":\"left\"},\"paper_bgcolor\":\"white\",\"plot_bgcolor\":\"#E5ECF6\",\"polar\":{\"bgcolor\":\"#E5ECF6\",\"angularaxis\":{\"gridcolor\":\"white\",\"linecolor\":\"white\",\"ticks\":\"\"},\"radialaxis\":{\"gridcolor\":\"white\",\"linecolor\":\"white\",\"ticks\":\"\"}},\"ternary\":{\"bgcolor\":\"#E5ECF6\",\"aaxis\":{\"gridcolor\":\"white\",\"linecolor\":\"white\",\"ticks\":\"\"},\"baxis\":{\"gridcolor\":\"white\",\"linecolor\":\"white\",\"ticks\":\"\"},\"caxis\":{\"gridcolor\":\"white\",\"linecolor\":\"white\",\"ticks\":\"\"}},\"coloraxis\":{\"colorbar\":{\"outlinewidth\":0,\"ticks\":\"\"}},\"colorscale\":{\"sequential\":[[0.0,\"#0d0887\"],[0.1111111111111111,\"#46039f\"],[0.2222222222222222,\"#7201a8\"],[0.3333333333333333,\"#9c179e\"],[0.4444444444444444,\"#bd3786\"],[0.5555555555555556,\"#d8576b\"],[0.6666666666666666,\"#ed7953\"],[0.7777777777777778,\"#fb9f3a\"],[0.8888888888888888,\"#fdca26\"],[1.0,\"#f0f921\"]],\"sequentialminus\":[[0.0,\"#0d0887\"],[0.1111111111111111,\"#46039f\"],[0.2222222222222222,\"#7201a8\"],[0.3333333333333333,\"#9c179e\"],[0.4444444444444444,\"#bd3786\"],[0.5555555555555556,\"#d8576b\"],[0.6666666666666666,\"#ed7953\"],[0.7777777777777778,\"#fb9f3a\"],[0.8888888888888888,\"#fdca26\"],[1.0,\"#f0f921\"]],\"diverging\":[[0,\"#8e0152\"],[0.1,\"#c51b7d\"],[0.2,\"#de77ae\"],[0.3,\"#f1b6da\"],[0.4,\"#fde0ef\"],[0.5,\"#f7f7f7\"],[0.6,\"#e6f5d0\"],[0.7,\"#b8e186\"],[0.8,\"#7fbc41\"],[0.9,\"#4d9221\"],[1,\"#276419\"]]},\"xaxis\":{\"gridcolor\":\"white\",\"linecolor\":\"white\",\"ticks\":\"\",\"title\":{\"standoff\":15},\"zerolinecolor\":\"white\",\"automargin\":true,\"zerolinewidth\":2},\"yaxis\":{\"gridcolor\":\"white\",\"linecolor\":\"white\",\"ticks\":\"\",\"title\":{\"standoff\":15},\"zerolinecolor\":\"white\",\"automargin\":true,\"zerolinewidth\":2},\"scene\":{\"xaxis\":{\"backgroundcolor\":\"#E5ECF6\",\"gridcolor\":\"white\",\"linecolor\":\"white\",\"showbackground\":true,\"ticks\":\"\",\"zerolinecolor\":\"white\",\"gridwidth\":2},\"yaxis\":{\"backgroundcolor\":\"#E5ECF6\",\"gridcolor\":\"white\",\"linecolor\":\"white\",\"showbackground\":true,\"ticks\":\"\",\"zerolinecolor\":\"white\",\"gridwidth\":2},\"zaxis\":{\"backgroundcolor\":\"#E5ECF6\",\"gridcolor\":\"white\",\"linecolor\":\"white\",\"showbackground\":true,\"ticks\":\"\",\"zerolinecolor\":\"white\",\"gridwidth\":2}},\"shapedefaults\":{\"line\":{\"color\":\"#2a3f5f\"}},\"annotationdefaults\":{\"arrowcolor\":\"#2a3f5f\",\"arrowhead\":0,\"arrowwidth\":1},\"geo\":{\"bgcolor\":\"white\",\"landcolor\":\"#E5ECF6\",\"subunitcolor\":\"white\",\"showland\":true,\"showlakes\":true,\"lakecolor\":\"white\"},\"title\":{\"x\":0.05},\"mapbox\":{\"style\":\"light\"}}},\"xaxis\":{\"anchor\":\"y\",\"domain\":[0.0,1.0],\"title\":{\"text\":\"Dataset Variables\"},\"tickangle\":-45},\"yaxis\":{\"anchor\":\"x\",\"domain\":[0.0,1.0],\"title\":{\"text\":\"Count Distribution\"}},\"legend\":{\"title\":{\"text\":\"color\"},\"tracegroupgap\":0},\"title\":{\"text\":\"Value Counts for rating\"},\"barmode\":\"relative\"},                        {\"responsive\": true}                    ).then(function(){\n",
              "                            \n",
              "var gd = document.getElementById('348e7c80-212a-4254-a1de-e7705c37303d');\n",
              "var x = new MutationObserver(function (mutations, observer) {{\n",
              "        var display = window.getComputedStyle(gd).display;\n",
              "        if (!display || display === 'none') {{\n",
              "            console.log([gd, 'removed!']);\n",
              "            Plotly.purge(gd);\n",
              "            observer.disconnect();\n",
              "        }}\n",
              "}});\n",
              "\n",
              "// Listen for the removal of the full notebook cells\n",
              "var notebookContainer = gd.closest('#notebook-container');\n",
              "if (notebookContainer) {{\n",
              "    x.observe(notebookContainer, {childList: true});\n",
              "}}\n",
              "\n",
              "// Listen for the clearing of the current output cell\n",
              "var outputEl = gd.closest('.output');\n",
              "if (outputEl) {{\n",
              "    x.observe(outputEl, {childList: true});\n",
              "}}\n",
              "\n",
              "                        })                };                            </script>        </div>\n",
              "</body>\n",
              "</html>"
            ]
          },
          "metadata": {}
        },
        {
          "output_type": "display_data",
          "data": {
            "text/html": [
              "<html>\n",
              "<head><meta charset=\"utf-8\" /></head>\n",
              "<body>\n",
              "    <div>            <script src=\"https://cdnjs.cloudflare.com/ajax/libs/mathjax/2.7.5/MathJax.js?config=TeX-AMS-MML_SVG\"></script><script type=\"text/javascript\">if (window.MathJax && window.MathJax.Hub && window.MathJax.Hub.Config) {window.MathJax.Hub.Config({SVG: {font: \"STIX-Web\"}});}</script>                <script type=\"text/javascript\">window.PlotlyConfig = {MathJaxConfig: 'local'};</script>\n",
              "        <script charset=\"utf-8\" src=\"https://cdn.plot.ly/plotly-2.35.2.min.js\"></script>                <div id=\"50e50cfe-8674-4167-80f4-a181674b7773\" class=\"plotly-graph-div\" style=\"height:525px; width:100%;\"></div>            <script type=\"text/javascript\">                                    window.PLOTLYENV=window.PLOTLYENV || {};                                    if (document.getElementById(\"50e50cfe-8674-4167-80f4-a181674b7773\")) {                    Plotly.newPlot(                        \"50e50cfe-8674-4167-80f4-a181674b7773\",                        [{\"alignmentgroup\":\"True\",\"hovertemplate\":\"color=1 Season\\u003cbr\\u003eduration=%{x}\\u003cbr\\u003eFrequency=%{y}\\u003cbr\\u003etext=%{text}\\u003cextra\\u003e\\u003c\\u002fextra\\u003e\",\"legendgroup\":\"1 Season\",\"marker\":{\"color\":\"#DCB5FF\",\"pattern\":{\"shape\":\"\"}},\"name\":\"1 Season\",\"offsetgroup\":\"1 Season\",\"orientation\":\"v\",\"showlegend\":true,\"text\":[1608.0],\"textposition\":\"outside\",\"x\":[\"1 Season\"],\"xaxis\":\"x\",\"y\":[1608],\"yaxis\":\"y\",\"type\":\"bar\"},{\"alignmentgroup\":\"True\",\"hovertemplate\":\"color=2 Seasons\\u003cbr\\u003eduration=%{x}\\u003cbr\\u003eFrequency=%{y}\\u003cbr\\u003etext=%{text}\\u003cextra\\u003e\\u003c\\u002fextra\\u003e\",\"legendgroup\":\"2 Seasons\",\"marker\":{\"color\":\"#408490\",\"pattern\":{\"shape\":\"\"}},\"name\":\"2 Seasons\",\"offsetgroup\":\"2 Seasons\",\"orientation\":\"v\",\"showlegend\":true,\"text\":[382.0],\"textposition\":\"outside\",\"x\":[\"2 Seasons\"],\"xaxis\":\"x\",\"y\":[382],\"yaxis\":\"y\",\"type\":\"bar\"},{\"alignmentgroup\":\"True\",\"hovertemplate\":\"color=3 Seasons\\u003cbr\\u003eduration=%{x}\\u003cbr\\u003eFrequency=%{y}\\u003cbr\\u003etext=%{text}\\u003cextra\\u003e\\u003c\\u002fextra\\u003e\",\"legendgroup\":\"3 Seasons\",\"marker\":{\"color\":\"#951FDF\",\"pattern\":{\"shape\":\"\"}},\"name\":\"3 Seasons\",\"offsetgroup\":\"3 Seasons\",\"orientation\":\"v\",\"showlegend\":true,\"text\":[184.0],\"textposition\":\"outside\",\"x\":[\"3 Seasons\"],\"xaxis\":\"x\",\"y\":[184],\"yaxis\":\"y\",\"type\":\"bar\"},{\"alignmentgroup\":\"True\",\"hovertemplate\":\"color=90 min\\u003cbr\\u003eduration=%{x}\\u003cbr\\u003eFrequency=%{y}\\u003cbr\\u003etext=%{text}\\u003cextra\\u003e\\u003c\\u002fextra\\u003e\",\"legendgroup\":\"90 min\",\"marker\":{\"color\":\"#3B7F46\",\"pattern\":{\"shape\":\"\"}},\"name\":\"90 min\",\"offsetgroup\":\"90 min\",\"orientation\":\"v\",\"showlegend\":true,\"text\":[136.0],\"textposition\":\"outside\",\"x\":[\"90 min\"],\"xaxis\":\"x\",\"y\":[136],\"yaxis\":\"y\",\"type\":\"bar\"},{\"alignmentgroup\":\"True\",\"hovertemplate\":\"color=93 min\\u003cbr\\u003eduration=%{x}\\u003cbr\\u003eFrequency=%{y}\\u003cbr\\u003etext=%{text}\\u003cextra\\u003e\\u003c\\u002fextra\\u003e\",\"legendgroup\":\"93 min\",\"marker\":{\"color\":\"#55E61C\",\"pattern\":{\"shape\":\"\"}},\"name\":\"93 min\",\"offsetgroup\":\"93 min\",\"orientation\":\"v\",\"showlegend\":true,\"text\":[131.0],\"textposition\":\"outside\",\"x\":[\"93 min\"],\"xaxis\":\"x\",\"y\":[131],\"yaxis\":\"y\",\"type\":\"bar\"},{\"alignmentgroup\":\"True\",\"hovertemplate\":\"color=94 min\\u003cbr\\u003eduration=%{x}\\u003cbr\\u003eFrequency=%{y}\\u003cbr\\u003etext=%{text}\\u003cextra\\u003e\\u003c\\u002fextra\\u003e\",\"legendgroup\":\"94 min\",\"marker\":{\"color\":\"#0E2309\",\"pattern\":{\"shape\":\"\"}},\"name\":\"94 min\",\"offsetgroup\":\"94 min\",\"orientation\":\"v\",\"showlegend\":true,\"text\":[125.0],\"textposition\":\"outside\",\"x\":[\"94 min\"],\"xaxis\":\"x\",\"y\":[125],\"yaxis\":\"y\",\"type\":\"bar\"},{\"alignmentgroup\":\"True\",\"hovertemplate\":\"color=91 min\\u003cbr\\u003eduration=%{x}\\u003cbr\\u003eFrequency=%{y}\\u003cbr\\u003etext=%{text}\\u003cextra\\u003e\\u003c\\u002fextra\\u003e\",\"legendgroup\":\"91 min\",\"marker\":{\"color\":\"#A410FD\",\"pattern\":{\"shape\":\"\"}},\"name\":\"91 min\",\"offsetgroup\":\"91 min\",\"orientation\":\"v\",\"showlegend\":true,\"text\":[125.0],\"textposition\":\"outside\",\"x\":[\"91 min\"],\"xaxis\":\"x\",\"y\":[125],\"yaxis\":\"y\",\"type\":\"bar\"},{\"alignmentgroup\":\"True\",\"hovertemplate\":\"color=95 min\\u003cbr\\u003eduration=%{x}\\u003cbr\\u003eFrequency=%{y}\\u003cbr\\u003etext=%{text}\\u003cextra\\u003e\\u003c\\u002fextra\\u003e\",\"legendgroup\":\"95 min\",\"marker\":{\"color\":\"#18B828\",\"pattern\":{\"shape\":\"\"}},\"name\":\"95 min\",\"offsetgroup\":\"95 min\",\"orientation\":\"v\",\"showlegend\":true,\"text\":[119.0],\"textposition\":\"outside\",\"x\":[\"95 min\"],\"xaxis\":\"x\",\"y\":[119],\"yaxis\":\"y\",\"type\":\"bar\"},{\"alignmentgroup\":\"True\",\"hovertemplate\":\"color=92 min\\u003cbr\\u003eduration=%{x}\\u003cbr\\u003eFrequency=%{y}\\u003cbr\\u003etext=%{text}\\u003cextra\\u003e\\u003c\\u002fextra\\u003e\",\"legendgroup\":\"92 min\",\"marker\":{\"color\":\"#84C5CB\",\"pattern\":{\"shape\":\"\"}},\"name\":\"92 min\",\"offsetgroup\":\"92 min\",\"orientation\":\"v\",\"showlegend\":true,\"text\":[118.0],\"textposition\":\"outside\",\"x\":[\"92 min\"],\"xaxis\":\"x\",\"y\":[118],\"yaxis\":\"y\",\"type\":\"bar\"},{\"alignmentgroup\":\"True\",\"hovertemplate\":\"color=97 min\\u003cbr\\u003eduration=%{x}\\u003cbr\\u003eFrequency=%{y}\\u003cbr\\u003etext=%{text}\\u003cextra\\u003e\\u003c\\u002fextra\\u003e\",\"legendgroup\":\"97 min\",\"marker\":{\"color\":\"#DFB109\",\"pattern\":{\"shape\":\"\"}},\"name\":\"97 min\",\"offsetgroup\":\"97 min\",\"orientation\":\"v\",\"showlegend\":true,\"text\":[117.0],\"textposition\":\"outside\",\"x\":[\"97 min\"],\"xaxis\":\"x\",\"y\":[117],\"yaxis\":\"y\",\"type\":\"bar\"},{\"alignmentgroup\":\"True\",\"hovertemplate\":\"color=96 min\\u003cbr\\u003eduration=%{x}\\u003cbr\\u003eFrequency=%{y}\\u003cbr\\u003etext=%{text}\\u003cextra\\u003e\\u003c\\u002fextra\\u003e\",\"legendgroup\":\"96 min\",\"marker\":{\"color\":\"#54C136\",\"pattern\":{\"shape\":\"\"}},\"name\":\"96 min\",\"offsetgroup\":\"96 min\",\"orientation\":\"v\",\"showlegend\":true,\"text\":[115.0],\"textposition\":\"outside\",\"x\":[\"96 min\"],\"xaxis\":\"x\",\"y\":[115],\"yaxis\":\"y\",\"type\":\"bar\"},{\"alignmentgroup\":\"True\",\"hovertemplate\":\"color=98 min\\u003cbr\\u003eduration=%{x}\\u003cbr\\u003eFrequency=%{y}\\u003cbr\\u003etext=%{text}\\u003cextra\\u003e\\u003c\\u002fextra\\u003e\",\"legendgroup\":\"98 min\",\"marker\":{\"color\":\"#053C9C\",\"pattern\":{\"shape\":\"\"}},\"name\":\"98 min\",\"offsetgroup\":\"98 min\",\"orientation\":\"v\",\"showlegend\":true,\"text\":[106.0],\"textposition\":\"outside\",\"x\":[\"98 min\"],\"xaxis\":\"x\",\"y\":[106],\"yaxis\":\"y\",\"type\":\"bar\"},{\"alignmentgroup\":\"True\",\"hovertemplate\":\"color=103 min\\u003cbr\\u003eduration=%{x}\\u003cbr\\u003eFrequency=%{y}\\u003cbr\\u003etext=%{text}\\u003cextra\\u003e\\u003c\\u002fextra\\u003e\",\"legendgroup\":\"103 min\",\"marker\":{\"color\":\"#ADAB1A\",\"pattern\":{\"shape\":\"\"}},\"name\":\"103 min\",\"offsetgroup\":\"103 min\",\"orientation\":\"v\",\"showlegend\":true,\"text\":[101.0],\"textposition\":\"outside\",\"x\":[\"103 min\"],\"xaxis\":\"x\",\"y\":[101],\"yaxis\":\"y\",\"type\":\"bar\"},{\"alignmentgroup\":\"True\",\"hovertemplate\":\"color=99 min\\u003cbr\\u003eduration=%{x}\\u003cbr\\u003eFrequency=%{y}\\u003cbr\\u003etext=%{text}\\u003cextra\\u003e\\u003c\\u002fextra\\u003e\",\"legendgroup\":\"99 min\",\"marker\":{\"color\":\"#A5F852\",\"pattern\":{\"shape\":\"\"}},\"name\":\"99 min\",\"offsetgroup\":\"99 min\",\"orientation\":\"v\",\"showlegend\":true,\"text\":[101.0],\"textposition\":\"outside\",\"x\":[\"99 min\"],\"xaxis\":\"x\",\"y\":[101],\"yaxis\":\"y\",\"type\":\"bar\"},{\"alignmentgroup\":\"True\",\"hovertemplate\":\"color=88 min\\u003cbr\\u003eduration=%{x}\\u003cbr\\u003eFrequency=%{y}\\u003cbr\\u003etext=%{text}\\u003cextra\\u003e\\u003c\\u002fextra\\u003e\",\"legendgroup\":\"88 min\",\"marker\":{\"color\":\"#362D0B\",\"pattern\":{\"shape\":\"\"}},\"name\":\"88 min\",\"offsetgroup\":\"88 min\",\"orientation\":\"v\",\"showlegend\":true,\"text\":[101.0],\"textposition\":\"outside\",\"x\":[\"88 min\"],\"xaxis\":\"x\",\"y\":[101],\"yaxis\":\"y\",\"type\":\"bar\"},{\"alignmentgroup\":\"True\",\"hovertemplate\":\"color=102 min\\u003cbr\\u003eduration=%{x}\\u003cbr\\u003eFrequency=%{y}\\u003cbr\\u003etext=%{text}\\u003cextra\\u003e\\u003c\\u002fextra\\u003e\",\"legendgroup\":\"102 min\",\"marker\":{\"color\":\"#2BAEFB\",\"pattern\":{\"shape\":\"\"}},\"name\":\"102 min\",\"offsetgroup\":\"102 min\",\"orientation\":\"v\",\"showlegend\":true,\"text\":[98.0],\"textposition\":\"outside\",\"x\":[\"102 min\"],\"xaxis\":\"x\",\"y\":[98],\"yaxis\":\"y\",\"type\":\"bar\"},{\"alignmentgroup\":\"True\",\"hovertemplate\":\"color=100 min\\u003cbr\\u003eduration=%{x}\\u003cbr\\u003eFrequency=%{y}\\u003cbr\\u003etext=%{text}\\u003cextra\\u003e\\u003c\\u002fextra\\u003e\",\"legendgroup\":\"100 min\",\"marker\":{\"color\":\"#122C47\",\"pattern\":{\"shape\":\"\"}},\"name\":\"100 min\",\"offsetgroup\":\"100 min\",\"orientation\":\"v\",\"showlegend\":true,\"text\":[97.0],\"textposition\":\"outside\",\"x\":[\"100 min\"],\"xaxis\":\"x\",\"y\":[97],\"yaxis\":\"y\",\"type\":\"bar\"},{\"alignmentgroup\":\"True\",\"hovertemplate\":\"color=106 min\\u003cbr\\u003eduration=%{x}\\u003cbr\\u003eFrequency=%{y}\\u003cbr\\u003etext=%{text}\\u003cextra\\u003e\\u003c\\u002fextra\\u003e\",\"legendgroup\":\"106 min\",\"marker\":{\"color\":\"#D4F1EB\",\"pattern\":{\"shape\":\"\"}},\"name\":\"106 min\",\"offsetgroup\":\"106 min\",\"orientation\":\"v\",\"showlegend\":true,\"text\":[97.0],\"textposition\":\"outside\",\"x\":[\"106 min\"],\"xaxis\":\"x\",\"y\":[97],\"yaxis\":\"y\",\"type\":\"bar\"},{\"alignmentgroup\":\"True\",\"hovertemplate\":\"color=101 min\\u003cbr\\u003eduration=%{x}\\u003cbr\\u003eFrequency=%{y}\\u003cbr\\u003etext=%{text}\\u003cextra\\u003e\\u003c\\u002fextra\\u003e\",\"legendgroup\":\"101 min\",\"marker\":{\"color\":\"#51BB83\",\"pattern\":{\"shape\":\"\"}},\"name\":\"101 min\",\"offsetgroup\":\"101 min\",\"orientation\":\"v\",\"showlegend\":true,\"text\":[96.0],\"textposition\":\"outside\",\"x\":[\"101 min\"],\"xaxis\":\"x\",\"y\":[96],\"yaxis\":\"y\",\"type\":\"bar\"},{\"alignmentgroup\":\"True\",\"hovertemplate\":\"color=86 min\\u003cbr\\u003eduration=%{x}\\u003cbr\\u003eFrequency=%{y}\\u003cbr\\u003etext=%{text}\\u003cextra\\u003e\\u003c\\u002fextra\\u003e\",\"legendgroup\":\"86 min\",\"marker\":{\"color\":\"#2C284F\",\"pattern\":{\"shape\":\"\"}},\"name\":\"86 min\",\"offsetgroup\":\"86 min\",\"orientation\":\"v\",\"showlegend\":true,\"text\":[93.0],\"textposition\":\"outside\",\"x\":[\"86 min\"],\"xaxis\":\"x\",\"y\":[93],\"yaxis\":\"y\",\"type\":\"bar\"},{\"alignmentgroup\":\"True\",\"hovertemplate\":\"color=105 min\\u003cbr\\u003eduration=%{x}\\u003cbr\\u003eFrequency=%{y}\\u003cbr\\u003etext=%{text}\\u003cextra\\u003e\\u003c\\u002fextra\\u003e\",\"legendgroup\":\"105 min\",\"marker\":{\"color\":\"#15C2A2\",\"pattern\":{\"shape\":\"\"}},\"name\":\"105 min\",\"offsetgroup\":\"105 min\",\"orientation\":\"v\",\"showlegend\":true,\"text\":[91.0],\"textposition\":\"outside\",\"x\":[\"105 min\"],\"xaxis\":\"x\",\"y\":[91],\"yaxis\":\"y\",\"type\":\"bar\"},{\"alignmentgroup\":\"True\",\"hovertemplate\":\"color=104 min\\u003cbr\\u003eduration=%{x}\\u003cbr\\u003eFrequency=%{y}\\u003cbr\\u003etext=%{text}\\u003cextra\\u003e\\u003c\\u002fextra\\u003e\",\"legendgroup\":\"104 min\",\"marker\":{\"color\":\"#18919B\",\"pattern\":{\"shape\":\"\"}},\"name\":\"104 min\",\"offsetgroup\":\"104 min\",\"orientation\":\"v\",\"showlegend\":true,\"text\":[89.0],\"textposition\":\"outside\",\"x\":[\"104 min\"],\"xaxis\":\"x\",\"y\":[89],\"yaxis\":\"y\",\"type\":\"bar\"},{\"alignmentgroup\":\"True\",\"hovertemplate\":\"color=89 min\\u003cbr\\u003eduration=%{x}\\u003cbr\\u003eFrequency=%{y}\\u003cbr\\u003etext=%{text}\\u003cextra\\u003e\\u003c\\u002fextra\\u003e\",\"legendgroup\":\"89 min\",\"marker\":{\"color\":\"#7E6022\",\"pattern\":{\"shape\":\"\"}},\"name\":\"89 min\",\"offsetgroup\":\"89 min\",\"orientation\":\"v\",\"showlegend\":true,\"text\":[88.0],\"textposition\":\"outside\",\"x\":[\"89 min\"],\"xaxis\":\"x\",\"y\":[88],\"yaxis\":\"y\",\"type\":\"bar\"},{\"alignmentgroup\":\"True\",\"hovertemplate\":\"color=87 min\\u003cbr\\u003eduration=%{x}\\u003cbr\\u003eFrequency=%{y}\\u003cbr\\u003etext=%{text}\\u003cextra\\u003e\\u003c\\u002fextra\\u003e\",\"legendgroup\":\"87 min\",\"marker\":{\"color\":\"#E8492A\",\"pattern\":{\"shape\":\"\"}},\"name\":\"87 min\",\"offsetgroup\":\"87 min\",\"orientation\":\"v\",\"showlegend\":true,\"text\":[87.0],\"textposition\":\"outside\",\"x\":[\"87 min\"],\"xaxis\":\"x\",\"y\":[87],\"yaxis\":\"y\",\"type\":\"bar\"},{\"alignmentgroup\":\"True\",\"hovertemplate\":\"color=4 Seasons\\u003cbr\\u003eduration=%{x}\\u003cbr\\u003eFrequency=%{y}\\u003cbr\\u003etext=%{text}\\u003cextra\\u003e\\u003c\\u002fextra\\u003e\",\"legendgroup\":\"4 Seasons\",\"marker\":{\"color\":\"#18B829\",\"pattern\":{\"shape\":\"\"}},\"name\":\"4 Seasons\",\"offsetgroup\":\"4 Seasons\",\"orientation\":\"v\",\"showlegend\":true,\"text\":[87.0],\"textposition\":\"outside\",\"x\":[\"4 Seasons\"],\"xaxis\":\"x\",\"y\":[87],\"yaxis\":\"y\",\"type\":\"bar\"},{\"alignmentgroup\":\"True\",\"hovertemplate\":\"color=110 min\\u003cbr\\u003eduration=%{x}\\u003cbr\\u003eFrequency=%{y}\\u003cbr\\u003etext=%{text}\\u003cextra\\u003e\\u003c\\u002fextra\\u003e\",\"legendgroup\":\"110 min\",\"marker\":{\"color\":\"#A6E4AF\",\"pattern\":{\"shape\":\"\"}},\"name\":\"110 min\",\"offsetgroup\":\"110 min\",\"orientation\":\"v\",\"showlegend\":true,\"text\":[86.0],\"textposition\":\"outside\",\"x\":[\"110 min\"],\"xaxis\":\"x\",\"y\":[86],\"yaxis\":\"y\",\"type\":\"bar\"},{\"alignmentgroup\":\"True\",\"hovertemplate\":\"color=107 min\\u003cbr\\u003eduration=%{x}\\u003cbr\\u003eFrequency=%{y}\\u003cbr\\u003etext=%{text}\\u003cextra\\u003e\\u003c\\u002fextra\\u003e\",\"legendgroup\":\"107 min\",\"marker\":{\"color\":\"#235128\",\"pattern\":{\"shape\":\"\"}},\"name\":\"107 min\",\"offsetgroup\":\"107 min\",\"orientation\":\"v\",\"showlegend\":true,\"text\":[85.0],\"textposition\":\"outside\",\"x\":[\"107 min\"],\"xaxis\":\"x\",\"y\":[85],\"yaxis\":\"y\",\"type\":\"bar\"},{\"alignmentgroup\":\"True\",\"hovertemplate\":\"color=108 min\\u003cbr\\u003eduration=%{x}\\u003cbr\\u003eFrequency=%{y}\\u003cbr\\u003etext=%{text}\\u003cextra\\u003e\\u003c\\u002fextra\\u003e\",\"legendgroup\":\"108 min\",\"marker\":{\"color\":\"#104CF8\",\"pattern\":{\"shape\":\"\"}},\"name\":\"108 min\",\"offsetgroup\":\"108 min\",\"orientation\":\"v\",\"showlegend\":true,\"text\":[74.0],\"textposition\":\"outside\",\"x\":[\"108 min\"],\"xaxis\":\"x\",\"y\":[74],\"yaxis\":\"y\",\"type\":\"bar\"},{\"alignmentgroup\":\"True\",\"hovertemplate\":\"color=112 min\\u003cbr\\u003eduration=%{x}\\u003cbr\\u003eFrequency=%{y}\\u003cbr\\u003etext=%{text}\\u003cextra\\u003e\\u003c\\u002fextra\\u003e\",\"legendgroup\":\"112 min\",\"marker\":{\"color\":\"#68AAC8\",\"pattern\":{\"shape\":\"\"}},\"name\":\"112 min\",\"offsetgroup\":\"112 min\",\"orientation\":\"v\",\"showlegend\":true,\"text\":[65.0],\"textposition\":\"outside\",\"x\":[\"112 min\"],\"xaxis\":\"x\",\"y\":[65],\"yaxis\":\"y\",\"type\":\"bar\"},{\"alignmentgroup\":\"True\",\"hovertemplate\":\"color=116 min\\u003cbr\\u003eduration=%{x}\\u003cbr\\u003eFrequency=%{y}\\u003cbr\\u003etext=%{text}\\u003cextra\\u003e\\u003c\\u002fextra\\u003e\",\"legendgroup\":\"116 min\",\"marker\":{\"color\":\"#B30DB1\",\"pattern\":{\"shape\":\"\"}},\"name\":\"116 min\",\"offsetgroup\":\"116 min\",\"orientation\":\"v\",\"showlegend\":true,\"text\":[65.0],\"textposition\":\"outside\",\"x\":[\"116 min\"],\"xaxis\":\"x\",\"y\":[65],\"yaxis\":\"y\",\"type\":\"bar\"},{\"alignmentgroup\":\"True\",\"hovertemplate\":\"color=85 min\\u003cbr\\u003eduration=%{x}\\u003cbr\\u003eFrequency=%{y}\\u003cbr\\u003etext=%{text}\\u003cextra\\u003e\\u003c\\u002fextra\\u003e\",\"legendgroup\":\"85 min\",\"marker\":{\"color\":\"#21EB8B\",\"pattern\":{\"shape\":\"\"}},\"name\":\"85 min\",\"offsetgroup\":\"85 min\",\"orientation\":\"v\",\"showlegend\":true,\"text\":[63.0],\"textposition\":\"outside\",\"x\":[\"85 min\"],\"xaxis\":\"x\",\"y\":[63],\"yaxis\":\"y\",\"type\":\"bar\"},{\"alignmentgroup\":\"True\",\"hovertemplate\":\"color=109 min\\u003cbr\\u003eduration=%{x}\\u003cbr\\u003eFrequency=%{y}\\u003cbr\\u003etext=%{text}\\u003cextra\\u003e\\u003c\\u002fextra\\u003e\",\"legendgroup\":\"109 min\",\"marker\":{\"color\":\"#C04210\",\"pattern\":{\"shape\":\"\"}},\"name\":\"109 min\",\"offsetgroup\":\"109 min\",\"orientation\":\"v\",\"showlegend\":true,\"text\":[61.0],\"textposition\":\"outside\",\"x\":[\"109 min\"],\"xaxis\":\"x\",\"y\":[61],\"yaxis\":\"y\",\"type\":\"bar\"},{\"alignmentgroup\":\"True\",\"hovertemplate\":\"color=83 min\\u003cbr\\u003eduration=%{x}\\u003cbr\\u003eFrequency=%{y}\\u003cbr\\u003etext=%{text}\\u003cextra\\u003e\\u003c\\u002fextra\\u003e\",\"legendgroup\":\"83 min\",\"marker\":{\"color\":\"#2BF8A8\",\"pattern\":{\"shape\":\"\"}},\"name\":\"83 min\",\"offsetgroup\":\"83 min\",\"orientation\":\"v\",\"showlegend\":true,\"text\":[61.0],\"textposition\":\"outside\",\"x\":[\"83 min\"],\"xaxis\":\"x\",\"y\":[61],\"yaxis\":\"y\",\"type\":\"bar\"},{\"alignmentgroup\":\"True\",\"hovertemplate\":\"color=111 min\\u003cbr\\u003eduration=%{x}\\u003cbr\\u003eFrequency=%{y}\\u003cbr\\u003etext=%{text}\\u003cextra\\u003e\\u003c\\u002fextra\\u003e\",\"legendgroup\":\"111 min\",\"marker\":{\"color\":\"#226CD8\",\"pattern\":{\"shape\":\"\"}},\"name\":\"111 min\",\"offsetgroup\":\"111 min\",\"orientation\":\"v\",\"showlegend\":true,\"text\":[61.0],\"textposition\":\"outside\",\"x\":[\"111 min\"],\"xaxis\":\"x\",\"y\":[61],\"yaxis\":\"y\",\"type\":\"bar\"},{\"alignmentgroup\":\"True\",\"hovertemplate\":\"color=84 min\\u003cbr\\u003eduration=%{x}\\u003cbr\\u003eFrequency=%{y}\\u003cbr\\u003etext=%{text}\\u003cextra\\u003e\\u003c\\u002fextra\\u003e\",\"legendgroup\":\"84 min\",\"marker\":{\"color\":\"#98A779\",\"pattern\":{\"shape\":\"\"}},\"name\":\"84 min\",\"offsetgroup\":\"84 min\",\"orientation\":\"v\",\"showlegend\":true,\"text\":[60.0],\"textposition\":\"outside\",\"x\":[\"84 min\"],\"xaxis\":\"x\",\"y\":[60],\"yaxis\":\"y\",\"type\":\"bar\"},{\"alignmentgroup\":\"True\",\"hovertemplate\":\"color=81 min\\u003cbr\\u003eduration=%{x}\\u003cbr\\u003eFrequency=%{y}\\u003cbr\\u003etext=%{text}\\u003cextra\\u003e\\u003c\\u002fextra\\u003e\",\"legendgroup\":\"81 min\",\"marker\":{\"color\":\"#EA8366\",\"pattern\":{\"shape\":\"\"}},\"name\":\"81 min\",\"offsetgroup\":\"81 min\",\"orientation\":\"v\",\"showlegend\":true,\"text\":[58.0],\"textposition\":\"outside\",\"x\":[\"81 min\"],\"xaxis\":\"x\",\"y\":[58],\"yaxis\":\"y\",\"type\":\"bar\"},{\"alignmentgroup\":\"True\",\"hovertemplate\":\"color=5 Seasons\\u003cbr\\u003eduration=%{x}\\u003cbr\\u003eFrequency=%{y}\\u003cbr\\u003etext=%{text}\\u003cextra\\u003e\\u003c\\u002fextra\\u003e\",\"legendgroup\":\"5 Seasons\",\"marker\":{\"color\":\"#25C3C4\",\"pattern\":{\"shape\":\"\"}},\"name\":\"5 Seasons\",\"offsetgroup\":\"5 Seasons\",\"orientation\":\"v\",\"showlegend\":true,\"text\":[58.0],\"textposition\":\"outside\",\"x\":[\"5 Seasons\"],\"xaxis\":\"x\",\"y\":[58],\"yaxis\":\"y\",\"type\":\"bar\"},{\"alignmentgroup\":\"True\",\"hovertemplate\":\"color=117 min\\u003cbr\\u003eduration=%{x}\\u003cbr\\u003eFrequency=%{y}\\u003cbr\\u003etext=%{text}\\u003cextra\\u003e\\u003c\\u002fextra\\u003e\",\"legendgroup\":\"117 min\",\"marker\":{\"color\":\"#12C0BE\",\"pattern\":{\"shape\":\"\"}},\"name\":\"117 min\",\"offsetgroup\":\"117 min\",\"orientation\":\"v\",\"showlegend\":true,\"text\":[56.0],\"textposition\":\"outside\",\"x\":[\"117 min\"],\"xaxis\":\"x\",\"y\":[56],\"yaxis\":\"y\",\"type\":\"bar\"},{\"alignmentgroup\":\"True\",\"hovertemplate\":\"color=113 min\\u003cbr\\u003eduration=%{x}\\u003cbr\\u003eFrequency=%{y}\\u003cbr\\u003etext=%{text}\\u003cextra\\u003e\\u003c\\u002fextra\\u003e\",\"legendgroup\":\"113 min\",\"marker\":{\"color\":\"#812D29\",\"pattern\":{\"shape\":\"\"}},\"name\":\"113 min\",\"offsetgroup\":\"113 min\",\"orientation\":\"v\",\"showlegend\":true,\"text\":[54.0],\"textposition\":\"outside\",\"x\":[\"113 min\"],\"xaxis\":\"x\",\"y\":[54],\"yaxis\":\"y\",\"type\":\"bar\"},{\"alignmentgroup\":\"True\",\"hovertemplate\":\"color=119 min\\u003cbr\\u003eduration=%{x}\\u003cbr\\u003eFrequency=%{y}\\u003cbr\\u003etext=%{text}\\u003cextra\\u003e\\u003c\\u002fextra\\u003e\",\"legendgroup\":\"119 min\",\"marker\":{\"color\":\"#B0B4A5\",\"pattern\":{\"shape\":\"\"}},\"name\":\"119 min\",\"offsetgroup\":\"119 min\",\"orientation\":\"v\",\"showlegend\":true,\"text\":[54.0],\"textposition\":\"outside\",\"x\":[\"119 min\"],\"xaxis\":\"x\",\"y\":[54],\"yaxis\":\"y\",\"type\":\"bar\"},{\"alignmentgroup\":\"True\",\"hovertemplate\":\"color=118 min\\u003cbr\\u003eduration=%{x}\\u003cbr\\u003eFrequency=%{y}\\u003cbr\\u003etext=%{text}\\u003cextra\\u003e\\u003c\\u002fextra\\u003e\",\"legendgroup\":\"118 min\",\"marker\":{\"color\":\"#EA9327\",\"pattern\":{\"shape\":\"\"}},\"name\":\"118 min\",\"offsetgroup\":\"118 min\",\"orientation\":\"v\",\"showlegend\":true,\"text\":[51.0],\"textposition\":\"outside\",\"x\":[\"118 min\"],\"xaxis\":\"x\",\"y\":[51],\"yaxis\":\"y\",\"type\":\"bar\"},{\"alignmentgroup\":\"True\",\"hovertemplate\":\"color=82 min\\u003cbr\\u003eduration=%{x}\\u003cbr\\u003eFrequency=%{y}\\u003cbr\\u003etext=%{text}\\u003cextra\\u003e\\u003c\\u002fextra\\u003e\",\"legendgroup\":\"82 min\",\"marker\":{\"color\":\"#0BE45B\",\"pattern\":{\"shape\":\"\"}},\"name\":\"82 min\",\"offsetgroup\":\"82 min\",\"orientation\":\"v\",\"showlegend\":true,\"text\":[48.0],\"textposition\":\"outside\",\"x\":[\"82 min\"],\"xaxis\":\"x\",\"y\":[48],\"yaxis\":\"y\",\"type\":\"bar\"},{\"alignmentgroup\":\"True\",\"hovertemplate\":\"color=115 min\\u003cbr\\u003eduration=%{x}\\u003cbr\\u003eFrequency=%{y}\\u003cbr\\u003etext=%{text}\\u003cextra\\u003e\\u003c\\u002fextra\\u003e\",\"legendgroup\":\"115 min\",\"marker\":{\"color\":\"#BC0CEE\",\"pattern\":{\"shape\":\"\"}},\"name\":\"115 min\",\"offsetgroup\":\"115 min\",\"orientation\":\"v\",\"showlegend\":true,\"text\":[47.0],\"textposition\":\"outside\",\"x\":[\"115 min\"],\"xaxis\":\"x\",\"y\":[47],\"yaxis\":\"y\",\"type\":\"bar\"},{\"alignmentgroup\":\"True\",\"hovertemplate\":\"color=120 min\\u003cbr\\u003eduration=%{x}\\u003cbr\\u003eFrequency=%{y}\\u003cbr\\u003etext=%{text}\\u003cextra\\u003e\\u003c\\u002fextra\\u003e\",\"legendgroup\":\"120 min\",\"marker\":{\"color\":\"#DCCF5A\",\"pattern\":{\"shape\":\"\"}},\"name\":\"120 min\",\"offsetgroup\":\"120 min\",\"orientation\":\"v\",\"showlegend\":true,\"text\":[47.0],\"textposition\":\"outside\",\"x\":[\"120 min\"],\"xaxis\":\"x\",\"y\":[47],\"yaxis\":\"y\",\"type\":\"bar\"},{\"alignmentgroup\":\"True\",\"hovertemplate\":\"color=124 min\\u003cbr\\u003eduration=%{x}\\u003cbr\\u003eFrequency=%{y}\\u003cbr\\u003etext=%{text}\\u003cextra\\u003e\\u003c\\u002fextra\\u003e\",\"legendgroup\":\"124 min\",\"marker\":{\"color\":\"#9B8FE3\",\"pattern\":{\"shape\":\"\"}},\"name\":\"124 min\",\"offsetgroup\":\"124 min\",\"orientation\":\"v\",\"showlegend\":true,\"text\":[46.0],\"textposition\":\"outside\",\"x\":[\"124 min\"],\"xaxis\":\"x\",\"y\":[46],\"yaxis\":\"y\",\"type\":\"bar\"},{\"alignmentgroup\":\"True\",\"hovertemplate\":\"color=114 min\\u003cbr\\u003eduration=%{x}\\u003cbr\\u003eFrequency=%{y}\\u003cbr\\u003etext=%{text}\\u003cextra\\u003e\\u003c\\u002fextra\\u003e\",\"legendgroup\":\"114 min\",\"marker\":{\"color\":\"#B2B3DB\",\"pattern\":{\"shape\":\"\"}},\"name\":\"114 min\",\"offsetgroup\":\"114 min\",\"orientation\":\"v\",\"showlegend\":true,\"text\":[45.0],\"textposition\":\"outside\",\"x\":[\"114 min\"],\"xaxis\":\"x\",\"y\":[45],\"yaxis\":\"y\",\"type\":\"bar\"},{\"alignmentgroup\":\"True\",\"hovertemplate\":\"color=121 min\\u003cbr\\u003eduration=%{x}\\u003cbr\\u003eFrequency=%{y}\\u003cbr\\u003etext=%{text}\\u003cextra\\u003e\\u003c\\u002fextra\\u003e\",\"legendgroup\":\"121 min\",\"marker\":{\"color\":\"#127DC5\",\"pattern\":{\"shape\":\"\"}},\"name\":\"121 min\",\"offsetgroup\":\"121 min\",\"orientation\":\"v\",\"showlegend\":true,\"text\":[44.0],\"textposition\":\"outside\",\"x\":[\"121 min\"],\"xaxis\":\"x\",\"y\":[44],\"yaxis\":\"y\",\"type\":\"bar\"},{\"alignmentgroup\":\"True\",\"hovertemplate\":\"color=126 min\\u003cbr\\u003eduration=%{x}\\u003cbr\\u003eFrequency=%{y}\\u003cbr\\u003etext=%{text}\\u003cextra\\u003e\\u003c\\u002fextra\\u003e\",\"legendgroup\":\"126 min\",\"marker\":{\"color\":\"#DA59FD\",\"pattern\":{\"shape\":\"\"}},\"name\":\"126 min\",\"offsetgroup\":\"126 min\",\"orientation\":\"v\",\"showlegend\":true,\"text\":[40.0],\"textposition\":\"outside\",\"x\":[\"126 min\"],\"xaxis\":\"x\",\"y\":[40],\"yaxis\":\"y\",\"type\":\"bar\"},{\"alignmentgroup\":\"True\",\"hovertemplate\":\"color=78 min\\u003cbr\\u003eduration=%{x}\\u003cbr\\u003eFrequency=%{y}\\u003cbr\\u003etext=%{text}\\u003cextra\\u003e\\u003c\\u002fextra\\u003e\",\"legendgroup\":\"78 min\",\"marker\":{\"color\":\"#B90B6B\",\"pattern\":{\"shape\":\"\"}},\"name\":\"78 min\",\"offsetgroup\":\"78 min\",\"orientation\":\"v\",\"showlegend\":true,\"text\":[40.0],\"textposition\":\"outside\",\"x\":[\"78 min\"],\"xaxis\":\"x\",\"y\":[40],\"yaxis\":\"y\",\"type\":\"bar\"},{\"alignmentgroup\":\"True\",\"hovertemplate\":\"color=127 min\\u003cbr\\u003eduration=%{x}\\u003cbr\\u003eFrequency=%{y}\\u003cbr\\u003etext=%{text}\\u003cextra\\u003e\\u003c\\u002fextra\\u003e\",\"legendgroup\":\"127 min\",\"marker\":{\"color\":\"#40A163\",\"pattern\":{\"shape\":\"\"}},\"name\":\"127 min\",\"offsetgroup\":\"127 min\",\"orientation\":\"v\",\"showlegend\":true,\"text\":[40.0],\"textposition\":\"outside\",\"x\":[\"127 min\"],\"xaxis\":\"x\",\"y\":[40],\"yaxis\":\"y\",\"type\":\"bar\"},{\"alignmentgroup\":\"True\",\"hovertemplate\":\"color=80 min\\u003cbr\\u003eduration=%{x}\\u003cbr\\u003eFrequency=%{y}\\u003cbr\\u003etext=%{text}\\u003cextra\\u003e\\u003c\\u002fextra\\u003e\",\"legendgroup\":\"80 min\",\"marker\":{\"color\":\"#6CB16B\",\"pattern\":{\"shape\":\"\"}},\"name\":\"80 min\",\"offsetgroup\":\"80 min\",\"orientation\":\"v\",\"showlegend\":true,\"text\":[39.0],\"textposition\":\"outside\",\"x\":[\"80 min\"],\"xaxis\":\"x\",\"y\":[39],\"yaxis\":\"y\",\"type\":\"bar\"},{\"alignmentgroup\":\"True\",\"hovertemplate\":\"color=128 min\\u003cbr\\u003eduration=%{x}\\u003cbr\\u003eFrequency=%{y}\\u003cbr\\u003etext=%{text}\\u003cextra\\u003e\\u003c\\u002fextra\\u003e\",\"legendgroup\":\"128 min\",\"marker\":{\"color\":\"#5101A7\",\"pattern\":{\"shape\":\"\"}},\"name\":\"128 min\",\"offsetgroup\":\"128 min\",\"orientation\":\"v\",\"showlegend\":true,\"text\":[38.0],\"textposition\":\"outside\",\"x\":[\"128 min\"],\"xaxis\":\"x\",\"y\":[38],\"yaxis\":\"y\",\"type\":\"bar\"},{\"alignmentgroup\":\"True\",\"hovertemplate\":\"color=122 min\\u003cbr\\u003eduration=%{x}\\u003cbr\\u003eFrequency=%{y}\\u003cbr\\u003etext=%{text}\\u003cextra\\u003e\\u003c\\u002fextra\\u003e\",\"legendgroup\":\"122 min\",\"marker\":{\"color\":\"#A72721\",\"pattern\":{\"shape\":\"\"}},\"name\":\"122 min\",\"offsetgroup\":\"122 min\",\"orientation\":\"v\",\"showlegend\":true,\"text\":[38.0],\"textposition\":\"outside\",\"x\":[\"122 min\"],\"xaxis\":\"x\",\"y\":[38],\"yaxis\":\"y\",\"type\":\"bar\"},{\"alignmentgroup\":\"True\",\"hovertemplate\":\"color=130 min\\u003cbr\\u003eduration=%{x}\\u003cbr\\u003eFrequency=%{y}\\u003cbr\\u003etext=%{text}\\u003cextra\\u003e\\u003c\\u002fextra\\u003e\",\"legendgroup\":\"130 min\",\"marker\":{\"color\":\"#2985F3\",\"pattern\":{\"shape\":\"\"}},\"name\":\"130 min\",\"offsetgroup\":\"130 min\",\"orientation\":\"v\",\"showlegend\":true,\"text\":[38.0],\"textposition\":\"outside\",\"x\":[\"130 min\"],\"xaxis\":\"x\",\"y\":[38],\"yaxis\":\"y\",\"type\":\"bar\"},{\"alignmentgroup\":\"True\",\"hovertemplate\":\"color=137 min\\u003cbr\\u003eduration=%{x}\\u003cbr\\u003eFrequency=%{y}\\u003cbr\\u003etext=%{text}\\u003cextra\\u003e\\u003c\\u002fextra\\u003e\",\"legendgroup\":\"137 min\",\"marker\":{\"color\":\"#63C7F9\",\"pattern\":{\"shape\":\"\"}},\"name\":\"137 min\",\"offsetgroup\":\"137 min\",\"orientation\":\"v\",\"showlegend\":true,\"text\":[37.0],\"textposition\":\"outside\",\"x\":[\"137 min\"],\"xaxis\":\"x\",\"y\":[37],\"yaxis\":\"y\",\"type\":\"bar\"},{\"alignmentgroup\":\"True\",\"hovertemplate\":\"color=135 min\\u003cbr\\u003eduration=%{x}\\u003cbr\\u003eFrequency=%{y}\\u003cbr\\u003etext=%{text}\\u003cextra\\u003e\\u003c\\u002fextra\\u003e\",\"legendgroup\":\"135 min\",\"marker\":{\"color\":\"#2C477C\",\"pattern\":{\"shape\":\"\"}},\"name\":\"135 min\",\"offsetgroup\":\"135 min\",\"orientation\":\"v\",\"showlegend\":true,\"text\":[37.0],\"textposition\":\"outside\",\"x\":[\"135 min\"],\"xaxis\":\"x\",\"y\":[37],\"yaxis\":\"y\",\"type\":\"bar\"},{\"alignmentgroup\":\"True\",\"hovertemplate\":\"color=133 min\\u003cbr\\u003eduration=%{x}\\u003cbr\\u003eFrequency=%{y}\\u003cbr\\u003etext=%{text}\\u003cextra\\u003e\\u003c\\u002fextra\\u003e\",\"legendgroup\":\"133 min\",\"marker\":{\"color\":\"#6DEC08\",\"pattern\":{\"shape\":\"\"}},\"name\":\"133 min\",\"offsetgroup\":\"133 min\",\"orientation\":\"v\",\"showlegend\":true,\"text\":[36.0],\"textposition\":\"outside\",\"x\":[\"133 min\"],\"xaxis\":\"x\",\"y\":[36],\"yaxis\":\"y\",\"type\":\"bar\"},{\"alignmentgroup\":\"True\",\"hovertemplate\":\"color=123 min\\u003cbr\\u003eduration=%{x}\\u003cbr\\u003eFrequency=%{y}\\u003cbr\\u003etext=%{text}\\u003cextra\\u003e\\u003c\\u002fextra\\u003e\",\"legendgroup\":\"123 min\",\"marker\":{\"color\":\"#05AB9C\",\"pattern\":{\"shape\":\"\"}},\"name\":\"123 min\",\"offsetgroup\":\"123 min\",\"orientation\":\"v\",\"showlegend\":true,\"text\":[35.0],\"textposition\":\"outside\",\"x\":[\"123 min\"],\"xaxis\":\"x\",\"y\":[35],\"yaxis\":\"y\",\"type\":\"bar\"},{\"alignmentgroup\":\"True\",\"hovertemplate\":\"color=79 min\\u003cbr\\u003eduration=%{x}\\u003cbr\\u003eFrequency=%{y}\\u003cbr\\u003etext=%{text}\\u003cextra\\u003e\\u003c\\u002fextra\\u003e\",\"legendgroup\":\"79 min\",\"marker\":{\"color\":\"#D46A2A\",\"pattern\":{\"shape\":\"\"}},\"name\":\"79 min\",\"offsetgroup\":\"79 min\",\"orientation\":\"v\",\"showlegend\":true,\"text\":[34.0],\"textposition\":\"outside\",\"x\":[\"79 min\"],\"xaxis\":\"x\",\"y\":[34],\"yaxis\":\"y\",\"type\":\"bar\"},{\"alignmentgroup\":\"True\",\"hovertemplate\":\"color=132 min\\u003cbr\\u003eduration=%{x}\\u003cbr\\u003eFrequency=%{y}\\u003cbr\\u003etext=%{text}\\u003cextra\\u003e\\u003c\\u002fextra\\u003e\",\"legendgroup\":\"132 min\",\"marker\":{\"color\":\"#8533ED\",\"pattern\":{\"shape\":\"\"}},\"name\":\"132 min\",\"offsetgroup\":\"132 min\",\"orientation\":\"v\",\"showlegend\":true,\"text\":[33.0],\"textposition\":\"outside\",\"x\":[\"132 min\"],\"xaxis\":\"x\",\"y\":[33],\"yaxis\":\"y\",\"type\":\"bar\"},{\"alignmentgroup\":\"True\",\"hovertemplate\":\"color=75 min\\u003cbr\\u003eduration=%{x}\\u003cbr\\u003eFrequency=%{y}\\u003cbr\\u003etext=%{text}\\u003cextra\\u003e\\u003c\\u002fextra\\u003e\",\"legendgroup\":\"75 min\",\"marker\":{\"color\":\"#A5B98D\",\"pattern\":{\"shape\":\"\"}},\"name\":\"75 min\",\"offsetgroup\":\"75 min\",\"orientation\":\"v\",\"showlegend\":true,\"text\":[33.0],\"textposition\":\"outside\",\"x\":[\"75 min\"],\"xaxis\":\"x\",\"y\":[33],\"yaxis\":\"y\",\"type\":\"bar\"},{\"alignmentgroup\":\"True\",\"hovertemplate\":\"color=125 min\\u003cbr\\u003eduration=%{x}\\u003cbr\\u003eFrequency=%{y}\\u003cbr\\u003etext=%{text}\\u003cextra\\u003e\\u003c\\u002fextra\\u003e\",\"legendgroup\":\"125 min\",\"marker\":{\"color\":\"#82D23F\",\"pattern\":{\"shape\":\"\"}},\"name\":\"125 min\",\"offsetgroup\":\"125 min\",\"orientation\":\"v\",\"showlegend\":true,\"text\":[32.0],\"textposition\":\"outside\",\"x\":[\"125 min\"],\"xaxis\":\"x\",\"y\":[32],\"yaxis\":\"y\",\"type\":\"bar\"},{\"alignmentgroup\":\"True\",\"hovertemplate\":\"color=72 min\\u003cbr\\u003eduration=%{x}\\u003cbr\\u003eFrequency=%{y}\\u003cbr\\u003etext=%{text}\\u003cextra\\u003e\\u003c\\u002fextra\\u003e\",\"legendgroup\":\"72 min\",\"marker\":{\"color\":\"#138A3A\",\"pattern\":{\"shape\":\"\"}},\"name\":\"72 min\",\"offsetgroup\":\"72 min\",\"orientation\":\"v\",\"showlegend\":true,\"text\":[32.0],\"textposition\":\"outside\",\"x\":[\"72 min\"],\"xaxis\":\"x\",\"y\":[32],\"yaxis\":\"y\",\"type\":\"bar\"},{\"alignmentgroup\":\"True\",\"hovertemplate\":\"color=129 min\\u003cbr\\u003eduration=%{x}\\u003cbr\\u003eFrequency=%{y}\\u003cbr\\u003etext=%{text}\\u003cextra\\u003e\\u003c\\u002fextra\\u003e\",\"legendgroup\":\"129 min\",\"marker\":{\"color\":\"#01EF54\",\"pattern\":{\"shape\":\"\"}},\"name\":\"129 min\",\"offsetgroup\":\"129 min\",\"orientation\":\"v\",\"showlegend\":true,\"text\":[30.0],\"textposition\":\"outside\",\"x\":[\"129 min\"],\"xaxis\":\"x\",\"y\":[30],\"yaxis\":\"y\",\"type\":\"bar\"},{\"alignmentgroup\":\"True\",\"hovertemplate\":\"color=6 Seasons\\u003cbr\\u003eduration=%{x}\\u003cbr\\u003eFrequency=%{y}\\u003cbr\\u003etext=%{text}\\u003cextra\\u003e\\u003c\\u002fextra\\u003e\",\"legendgroup\":\"6 Seasons\",\"marker\":{\"color\":\"#8F1FCD\",\"pattern\":{\"shape\":\"\"}},\"name\":\"6 Seasons\",\"offsetgroup\":\"6 Seasons\",\"orientation\":\"v\",\"showlegend\":true,\"text\":[30.0],\"textposition\":\"outside\",\"x\":[\"6 Seasons\"],\"xaxis\":\"x\",\"y\":[30],\"yaxis\":\"y\",\"type\":\"bar\"},{\"alignmentgroup\":\"True\",\"hovertemplate\":\"color=74 min\\u003cbr\\u003eduration=%{x}\\u003cbr\\u003eFrequency=%{y}\\u003cbr\\u003etext=%{text}\\u003cextra\\u003e\\u003c\\u002fextra\\u003e\",\"legendgroup\":\"74 min\",\"marker\":{\"color\":\"#CF34D6\",\"pattern\":{\"shape\":\"\"}},\"name\":\"74 min\",\"offsetgroup\":\"74 min\",\"orientation\":\"v\",\"showlegend\":true,\"text\":[29.0],\"textposition\":\"outside\",\"x\":[\"74 min\"],\"xaxis\":\"x\",\"y\":[29],\"yaxis\":\"y\",\"type\":\"bar\"},{\"alignmentgroup\":\"True\",\"hovertemplate\":\"color=66 min\\u003cbr\\u003eduration=%{x}\\u003cbr\\u003eFrequency=%{y}\\u003cbr\\u003etext=%{text}\\u003cextra\\u003e\\u003c\\u002fextra\\u003e\",\"legendgroup\":\"66 min\",\"marker\":{\"color\":\"#C5A362\",\"pattern\":{\"shape\":\"\"}},\"name\":\"66 min\",\"offsetgroup\":\"66 min\",\"orientation\":\"v\",\"showlegend\":true,\"text\":[29.0],\"textposition\":\"outside\",\"x\":[\"66 min\"],\"xaxis\":\"x\",\"y\":[29],\"yaxis\":\"y\",\"type\":\"bar\"},{\"alignmentgroup\":\"True\",\"hovertemplate\":\"color=63 min\\u003cbr\\u003eduration=%{x}\\u003cbr\\u003eFrequency=%{y}\\u003cbr\\u003etext=%{text}\\u003cextra\\u003e\\u003c\\u002fextra\\u003e\",\"legendgroup\":\"63 min\",\"marker\":{\"color\":\"#AFD87B\",\"pattern\":{\"shape\":\"\"}},\"name\":\"63 min\",\"offsetgroup\":\"63 min\",\"orientation\":\"v\",\"showlegend\":true,\"text\":[29.0],\"textposition\":\"outside\",\"x\":[\"63 min\"],\"xaxis\":\"x\",\"y\":[29],\"yaxis\":\"y\",\"type\":\"bar\"},{\"alignmentgroup\":\"True\",\"hovertemplate\":\"color=131 min\\u003cbr\\u003eduration=%{x}\\u003cbr\\u003eFrequency=%{y}\\u003cbr\\u003etext=%{text}\\u003cextra\\u003e\\u003c\\u002fextra\\u003e\",\"legendgroup\":\"131 min\",\"marker\":{\"color\":\"#F4B0FE\",\"pattern\":{\"shape\":\"\"}},\"name\":\"131 min\",\"offsetgroup\":\"131 min\",\"orientation\":\"v\",\"showlegend\":true,\"text\":[28.0],\"textposition\":\"outside\",\"x\":[\"131 min\"],\"xaxis\":\"x\",\"y\":[28],\"yaxis\":\"y\",\"type\":\"bar\"},{\"alignmentgroup\":\"True\",\"hovertemplate\":\"color=61 min\\u003cbr\\u003eduration=%{x}\\u003cbr\\u003eFrequency=%{y}\\u003cbr\\u003etext=%{text}\\u003cextra\\u003e\\u003c\\u002fextra\\u003e\",\"legendgroup\":\"61 min\",\"marker\":{\"color\":\"#731CC0\",\"pattern\":{\"shape\":\"\"}},\"name\":\"61 min\",\"offsetgroup\":\"61 min\",\"orientation\":\"v\",\"showlegend\":true,\"text\":[28.0],\"textposition\":\"outside\",\"x\":[\"61 min\"],\"xaxis\":\"x\",\"y\":[28],\"yaxis\":\"y\",\"type\":\"bar\"},{\"alignmentgroup\":\"True\",\"hovertemplate\":\"color=77 min\\u003cbr\\u003eduration=%{x}\\u003cbr\\u003eFrequency=%{y}\\u003cbr\\u003etext=%{text}\\u003cextra\\u003e\\u003c\\u002fextra\\u003e\",\"legendgroup\":\"77 min\",\"marker\":{\"color\":\"#65FCF5\",\"pattern\":{\"shape\":\"\"}},\"name\":\"77 min\",\"offsetgroup\":\"77 min\",\"orientation\":\"v\",\"showlegend\":true,\"text\":[28.0],\"textposition\":\"outside\",\"x\":[\"77 min\"],\"xaxis\":\"x\",\"y\":[28],\"yaxis\":\"y\",\"type\":\"bar\"},{\"alignmentgroup\":\"True\",\"hovertemplate\":\"color=73 min\\u003cbr\\u003eduration=%{x}\\u003cbr\\u003eFrequency=%{y}\\u003cbr\\u003etext=%{text}\\u003cextra\\u003e\\u003c\\u002fextra\\u003e\",\"legendgroup\":\"73 min\",\"marker\":{\"color\":\"#B82D41\",\"pattern\":{\"shape\":\"\"}},\"name\":\"73 min\",\"offsetgroup\":\"73 min\",\"orientation\":\"v\",\"showlegend\":true,\"text\":[28.0],\"textposition\":\"outside\",\"x\":[\"73 min\"],\"xaxis\":\"x\",\"y\":[28],\"yaxis\":\"y\",\"type\":\"bar\"},{\"alignmentgroup\":\"True\",\"hovertemplate\":\"color=69 min\\u003cbr\\u003eduration=%{x}\\u003cbr\\u003eFrequency=%{y}\\u003cbr\\u003etext=%{text}\\u003cextra\\u003e\\u003c\\u002fextra\\u003e\",\"legendgroup\":\"69 min\",\"marker\":{\"color\":\"#02493A\",\"pattern\":{\"shape\":\"\"}},\"name\":\"69 min\",\"offsetgroup\":\"69 min\",\"orientation\":\"v\",\"showlegend\":true,\"text\":[27.0],\"textposition\":\"outside\",\"x\":[\"69 min\"],\"xaxis\":\"x\",\"y\":[27],\"yaxis\":\"y\",\"type\":\"bar\"},{\"alignmentgroup\":\"True\",\"hovertemplate\":\"color=60 min\\u003cbr\\u003eduration=%{x}\\u003cbr\\u003eFrequency=%{y}\\u003cbr\\u003etext=%{text}\\u003cextra\\u003e\\u003c\\u002fextra\\u003e\",\"legendgroup\":\"60 min\",\"marker\":{\"color\":\"#2FF1F8\",\"pattern\":{\"shape\":\"\"}},\"name\":\"60 min\",\"offsetgroup\":\"60 min\",\"orientation\":\"v\",\"showlegend\":true,\"text\":[26.0],\"textposition\":\"outside\",\"x\":[\"60 min\"],\"xaxis\":\"x\",\"y\":[26],\"yaxis\":\"y\",\"type\":\"bar\"},{\"alignmentgroup\":\"True\",\"hovertemplate\":\"color=71 min\\u003cbr\\u003eduration=%{x}\\u003cbr\\u003eFrequency=%{y}\\u003cbr\\u003etext=%{text}\\u003cextra\\u003e\\u003c\\u002fextra\\u003e\",\"legendgroup\":\"71 min\",\"marker\":{\"color\":\"#4B673E\",\"pattern\":{\"shape\":\"\"}},\"name\":\"71 min\",\"offsetgroup\":\"71 min\",\"orientation\":\"v\",\"showlegend\":true,\"text\":[26.0],\"textposition\":\"outside\",\"x\":[\"71 min\"],\"xaxis\":\"x\",\"y\":[26],\"yaxis\":\"y\",\"type\":\"bar\"},{\"alignmentgroup\":\"True\",\"hovertemplate\":\"color=53 min\\u003cbr\\u003eduration=%{x}\\u003cbr\\u003eFrequency=%{y}\\u003cbr\\u003etext=%{text}\\u003cextra\\u003e\\u003c\\u002fextra\\u003e\",\"legendgroup\":\"53 min\",\"marker\":{\"color\":\"#F2CCCC\",\"pattern\":{\"shape\":\"\"}},\"name\":\"53 min\",\"offsetgroup\":\"53 min\",\"orientation\":\"v\",\"showlegend\":true,\"text\":[24.0],\"textposition\":\"outside\",\"x\":[\"53 min\"],\"xaxis\":\"x\",\"y\":[24],\"yaxis\":\"y\",\"type\":\"bar\"},{\"alignmentgroup\":\"True\",\"hovertemplate\":\"color=59 min\\u003cbr\\u003eduration=%{x}\\u003cbr\\u003eFrequency=%{y}\\u003cbr\\u003etext=%{text}\\u003cextra\\u003e\\u003c\\u002fextra\\u003e\",\"legendgroup\":\"59 min\",\"marker\":{\"color\":\"#24AF64\",\"pattern\":{\"shape\":\"\"}},\"name\":\"59 min\",\"offsetgroup\":\"59 min\",\"orientation\":\"v\",\"showlegend\":true,\"text\":[24.0],\"textposition\":\"outside\",\"x\":[\"59 min\"],\"xaxis\":\"x\",\"y\":[24],\"yaxis\":\"y\",\"type\":\"bar\"},{\"alignmentgroup\":\"True\",\"hovertemplate\":\"color=76 min\\u003cbr\\u003eduration=%{x}\\u003cbr\\u003eFrequency=%{y}\\u003cbr\\u003etext=%{text}\\u003cextra\\u003e\\u003c\\u002fextra\\u003e\",\"legendgroup\":\"76 min\",\"marker\":{\"color\":\"#420C7B\",\"pattern\":{\"shape\":\"\"}},\"name\":\"76 min\",\"offsetgroup\":\"76 min\",\"orientation\":\"v\",\"showlegend\":true,\"text\":[24.0],\"textposition\":\"outside\",\"x\":[\"76 min\"],\"xaxis\":\"x\",\"y\":[24],\"yaxis\":\"y\",\"type\":\"bar\"},{\"alignmentgroup\":\"True\",\"hovertemplate\":\"color=54 min\\u003cbr\\u003eduration=%{x}\\u003cbr\\u003eFrequency=%{y}\\u003cbr\\u003etext=%{text}\\u003cextra\\u003e\\u003c\\u002fextra\\u003e\",\"legendgroup\":\"54 min\",\"marker\":{\"color\":\"#C9E377\",\"pattern\":{\"shape\":\"\"}},\"name\":\"54 min\",\"offsetgroup\":\"54 min\",\"orientation\":\"v\",\"showlegend\":true,\"text\":[23.0],\"textposition\":\"outside\",\"x\":[\"54 min\"],\"xaxis\":\"x\",\"y\":[23],\"yaxis\":\"y\",\"type\":\"bar\"},{\"alignmentgroup\":\"True\",\"hovertemplate\":\"color=62 min\\u003cbr\\u003eduration=%{x}\\u003cbr\\u003eFrequency=%{y}\\u003cbr\\u003etext=%{text}\\u003cextra\\u003e\\u003c\\u002fextra\\u003e\",\"legendgroup\":\"62 min\",\"marker\":{\"color\":\"#10AAAB\",\"pattern\":{\"shape\":\"\"}},\"name\":\"62 min\",\"offsetgroup\":\"62 min\",\"orientation\":\"v\",\"showlegend\":true,\"text\":[23.0],\"textposition\":\"outside\",\"x\":[\"62 min\"],\"xaxis\":\"x\",\"y\":[23],\"yaxis\":\"y\",\"type\":\"bar\"},{\"alignmentgroup\":\"True\",\"hovertemplate\":\"color=46 min\\u003cbr\\u003eduration=%{x}\\u003cbr\\u003eFrequency=%{y}\\u003cbr\\u003etext=%{text}\\u003cextra\\u003e\\u003c\\u002fextra\\u003e\",\"legendgroup\":\"46 min\",\"marker\":{\"color\":\"#C4F23B\",\"pattern\":{\"shape\":\"\"}},\"name\":\"46 min\",\"offsetgroup\":\"46 min\",\"orientation\":\"v\",\"showlegend\":true,\"text\":[23.0],\"textposition\":\"outside\",\"x\":[\"46 min\"],\"xaxis\":\"x\",\"y\":[23],\"yaxis\":\"y\",\"type\":\"bar\"},{\"alignmentgroup\":\"True\",\"hovertemplate\":\"color=24 min\\u003cbr\\u003eduration=%{x}\\u003cbr\\u003eFrequency=%{y}\\u003cbr\\u003etext=%{text}\\u003cextra\\u003e\\u003c\\u002fextra\\u003e\",\"legendgroup\":\"24 min\",\"marker\":{\"color\":\"#E86A4A\",\"pattern\":{\"shape\":\"\"}},\"name\":\"24 min\",\"offsetgroup\":\"24 min\",\"orientation\":\"v\",\"showlegend\":true,\"text\":[22.0],\"textposition\":\"outside\",\"x\":[\"24 min\"],\"xaxis\":\"x\",\"y\":[22],\"yaxis\":\"y\",\"type\":\"bar\"},{\"alignmentgroup\":\"True\",\"hovertemplate\":\"color=140 min\\u003cbr\\u003eduration=%{x}\\u003cbr\\u003eFrequency=%{y}\\u003cbr\\u003etext=%{text}\\u003cextra\\u003e\\u003c\\u002fextra\\u003e\",\"legendgroup\":\"140 min\",\"marker\":{\"color\":\"#7C1886\",\"pattern\":{\"shape\":\"\"}},\"name\":\"140 min\",\"offsetgroup\":\"140 min\",\"orientation\":\"v\",\"showlegend\":true,\"text\":[22.0],\"textposition\":\"outside\",\"x\":[\"140 min\"],\"xaxis\":\"x\",\"y\":[22],\"yaxis\":\"y\",\"type\":\"bar\"},{\"alignmentgroup\":\"True\",\"hovertemplate\":\"color=65 min\\u003cbr\\u003eduration=%{x}\\u003cbr\\u003eFrequency=%{y}\\u003cbr\\u003etext=%{text}\\u003cextra\\u003e\\u003c\\u002fextra\\u003e\",\"legendgroup\":\"65 min\",\"marker\":{\"color\":\"#52C656\",\"pattern\":{\"shape\":\"\"}},\"name\":\"65 min\",\"offsetgroup\":\"65 min\",\"orientation\":\"v\",\"showlegend\":true,\"text\":[22.0],\"textposition\":\"outside\",\"x\":[\"65 min\"],\"xaxis\":\"x\",\"y\":[22],\"yaxis\":\"y\",\"type\":\"bar\"},{\"alignmentgroup\":\"True\",\"hovertemplate\":\"color=70 min\\u003cbr\\u003eduration=%{x}\\u003cbr\\u003eFrequency=%{y}\\u003cbr\\u003etext=%{text}\\u003cextra\\u003e\\u003c\\u002fextra\\u003e\",\"legendgroup\":\"70 min\",\"marker\":{\"color\":\"#2B7CB4\",\"pattern\":{\"shape\":\"\"}},\"name\":\"70 min\",\"offsetgroup\":\"70 min\",\"orientation\":\"v\",\"showlegend\":true,\"text\":[22.0],\"textposition\":\"outside\",\"x\":[\"70 min\"],\"xaxis\":\"x\",\"y\":[22],\"yaxis\":\"y\",\"type\":\"bar\"},{\"alignmentgroup\":\"True\",\"hovertemplate\":\"color=134 min\\u003cbr\\u003eduration=%{x}\\u003cbr\\u003eFrequency=%{y}\\u003cbr\\u003etext=%{text}\\u003cextra\\u003e\\u003c\\u002fextra\\u003e\",\"legendgroup\":\"134 min\",\"marker\":{\"color\":\"#6E8956\",\"pattern\":{\"shape\":\"\"}},\"name\":\"134 min\",\"offsetgroup\":\"134 min\",\"orientation\":\"v\",\"showlegend\":true,\"text\":[21.0],\"textposition\":\"outside\",\"x\":[\"134 min\"],\"xaxis\":\"x\",\"y\":[21],\"yaxis\":\"y\",\"type\":\"bar\"},{\"alignmentgroup\":\"True\",\"hovertemplate\":\"color=58 min\\u003cbr\\u003eduration=%{x}\\u003cbr\\u003eFrequency=%{y}\\u003cbr\\u003etext=%{text}\\u003cextra\\u003e\\u003c\\u002fextra\\u003e\",\"legendgroup\":\"58 min\",\"marker\":{\"color\":\"#64C4DB\",\"pattern\":{\"shape\":\"\"}},\"name\":\"58 min\",\"offsetgroup\":\"58 min\",\"orientation\":\"v\",\"showlegend\":true,\"text\":[21.0],\"textposition\":\"outside\",\"x\":[\"58 min\"],\"xaxis\":\"x\",\"y\":[21],\"yaxis\":\"y\",\"type\":\"bar\"},{\"alignmentgroup\":\"True\",\"hovertemplate\":\"color=68 min\\u003cbr\\u003eduration=%{x}\\u003cbr\\u003eFrequency=%{y}\\u003cbr\\u003etext=%{text}\\u003cextra\\u003e\\u003c\\u002fextra\\u003e\",\"legendgroup\":\"68 min\",\"marker\":{\"color\":\"#10112E\",\"pattern\":{\"shape\":\"\"}},\"name\":\"68 min\",\"offsetgroup\":\"68 min\",\"orientation\":\"v\",\"showlegend\":true,\"text\":[20.0],\"textposition\":\"outside\",\"x\":[\"68 min\"],\"xaxis\":\"x\",\"y\":[20],\"yaxis\":\"y\",\"type\":\"bar\"},{\"alignmentgroup\":\"True\",\"hovertemplate\":\"color=7 Seasons\\u003cbr\\u003eduration=%{x}\\u003cbr\\u003eFrequency=%{y}\\u003cbr\\u003etext=%{text}\\u003cextra\\u003e\\u003c\\u002fextra\\u003e\",\"legendgroup\":\"7 Seasons\",\"marker\":{\"color\":\"#E7F90A\",\"pattern\":{\"shape\":\"\"}},\"name\":\"7 Seasons\",\"offsetgroup\":\"7 Seasons\",\"orientation\":\"v\",\"showlegend\":true,\"text\":[19.0],\"textposition\":\"outside\",\"x\":[\"7 Seasons\"],\"xaxis\":\"x\",\"y\":[19],\"yaxis\":\"y\",\"type\":\"bar\"},{\"alignmentgroup\":\"True\",\"hovertemplate\":\"color=67 min\\u003cbr\\u003eduration=%{x}\\u003cbr\\u003eFrequency=%{y}\\u003cbr\\u003etext=%{text}\\u003cextra\\u003e\\u003c\\u002fextra\\u003e\",\"legendgroup\":\"67 min\",\"marker\":{\"color\":\"#9ADA25\",\"pattern\":{\"shape\":\"\"}},\"name\":\"67 min\",\"offsetgroup\":\"67 min\",\"orientation\":\"v\",\"showlegend\":true,\"text\":[19.0],\"textposition\":\"outside\",\"x\":[\"67 min\"],\"xaxis\":\"x\",\"y\":[19],\"yaxis\":\"y\",\"type\":\"bar\"},{\"alignmentgroup\":\"True\",\"hovertemplate\":\"color=44 min\\u003cbr\\u003eduration=%{x}\\u003cbr\\u003eFrequency=%{y}\\u003cbr\\u003etext=%{text}\\u003cextra\\u003e\\u003c\\u002fextra\\u003e\",\"legendgroup\":\"44 min\",\"marker\":{\"color\":\"#04DDD5\",\"pattern\":{\"shape\":\"\"}},\"name\":\"44 min\",\"offsetgroup\":\"44 min\",\"orientation\":\"v\",\"showlegend\":true,\"text\":[19.0],\"textposition\":\"outside\",\"x\":[\"44 min\"],\"xaxis\":\"x\",\"y\":[19],\"yaxis\":\"y\",\"type\":\"bar\"},{\"alignmentgroup\":\"True\",\"hovertemplate\":\"color=52 min\\u003cbr\\u003eduration=%{x}\\u003cbr\\u003eFrequency=%{y}\\u003cbr\\u003etext=%{text}\\u003cextra\\u003e\\u003c\\u002fextra\\u003e\",\"legendgroup\":\"52 min\",\"marker\":{\"color\":\"#1F0BF2\",\"pattern\":{\"shape\":\"\"}},\"name\":\"52 min\",\"offsetgroup\":\"52 min\",\"orientation\":\"v\",\"showlegend\":true,\"text\":[19.0],\"textposition\":\"outside\",\"x\":[\"52 min\"],\"xaxis\":\"x\",\"y\":[19],\"yaxis\":\"y\",\"type\":\"bar\"},{\"alignmentgroup\":\"True\",\"hovertemplate\":\"color=148 min\\u003cbr\\u003eduration=%{x}\\u003cbr\\u003eFrequency=%{y}\\u003cbr\\u003etext=%{text}\\u003cextra\\u003e\\u003c\\u002fextra\\u003e\",\"legendgroup\":\"148 min\",\"marker\":{\"color\":\"#21A285\",\"pattern\":{\"shape\":\"\"}},\"name\":\"148 min\",\"offsetgroup\":\"148 min\",\"orientation\":\"v\",\"showlegend\":true,\"text\":[18.0],\"textposition\":\"outside\",\"x\":[\"148 min\"],\"xaxis\":\"x\",\"y\":[18],\"yaxis\":\"y\",\"type\":\"bar\"},{\"alignmentgroup\":\"True\",\"hovertemplate\":\"color=143 min\\u003cbr\\u003eduration=%{x}\\u003cbr\\u003eFrequency=%{y}\\u003cbr\\u003etext=%{text}\\u003cextra\\u003e\\u003c\\u002fextra\\u003e\",\"legendgroup\":\"143 min\",\"marker\":{\"color\":\"#BB27D4\",\"pattern\":{\"shape\":\"\"}},\"name\":\"143 min\",\"offsetgroup\":\"143 min\",\"orientation\":\"v\",\"showlegend\":true,\"text\":[18.0],\"textposition\":\"outside\",\"x\":[\"143 min\"],\"xaxis\":\"x\",\"y\":[18],\"yaxis\":\"y\",\"type\":\"bar\"},{\"alignmentgroup\":\"True\",\"hovertemplate\":\"color=141 min\\u003cbr\\u003eduration=%{x}\\u003cbr\\u003eFrequency=%{y}\\u003cbr\\u003etext=%{text}\\u003cextra\\u003e\\u003c\\u002fextra\\u003e\",\"legendgroup\":\"141 min\",\"marker\":{\"color\":\"#848094\",\"pattern\":{\"shape\":\"\"}},\"name\":\"141 min\",\"offsetgroup\":\"141 min\",\"orientation\":\"v\",\"showlegend\":true,\"text\":[18.0],\"textposition\":\"outside\",\"x\":[\"141 min\"],\"xaxis\":\"x\",\"y\":[18],\"yaxis\":\"y\",\"type\":\"bar\"},{\"alignmentgroup\":\"True\",\"hovertemplate\":\"color=136 min\\u003cbr\\u003eduration=%{x}\\u003cbr\\u003eFrequency=%{y}\\u003cbr\\u003etext=%{text}\\u003cextra\\u003e\\u003c\\u002fextra\\u003e\",\"legendgroup\":\"136 min\",\"marker\":{\"color\":\"#8074B9\",\"pattern\":{\"shape\":\"\"}},\"name\":\"136 min\",\"offsetgroup\":\"136 min\",\"orientation\":\"v\",\"showlegend\":true,\"text\":[18.0],\"textposition\":\"outside\",\"x\":[\"136 min\"],\"xaxis\":\"x\",\"y\":[18],\"yaxis\":\"y\",\"type\":\"bar\"},{\"alignmentgroup\":\"True\",\"hovertemplate\":\"color=8 Seasons\\u003cbr\\u003eduration=%{x}\\u003cbr\\u003eFrequency=%{y}\\u003cbr\\u003etext=%{text}\\u003cextra\\u003e\\u003c\\u002fextra\\u003e\",\"legendgroup\":\"8 Seasons\",\"marker\":{\"color\":\"#9320ED\",\"pattern\":{\"shape\":\"\"}},\"name\":\"8 Seasons\",\"offsetgroup\":\"8 Seasons\",\"orientation\":\"v\",\"showlegend\":true,\"text\":[18.0],\"textposition\":\"outside\",\"x\":[\"8 Seasons\"],\"xaxis\":\"x\",\"y\":[18],\"yaxis\":\"y\",\"type\":\"bar\"},{\"alignmentgroup\":\"True\",\"hovertemplate\":\"color=138 min\\u003cbr\\u003eduration=%{x}\\u003cbr\\u003eFrequency=%{y}\\u003cbr\\u003etext=%{text}\\u003cextra\\u003e\\u003c\\u002fextra\\u003e\",\"legendgroup\":\"138 min\",\"marker\":{\"color\":\"#07125D\",\"pattern\":{\"shape\":\"\"}},\"name\":\"138 min\",\"offsetgroup\":\"138 min\",\"orientation\":\"v\",\"showlegend\":true,\"text\":[17.0],\"textposition\":\"outside\",\"x\":[\"138 min\"],\"xaxis\":\"x\",\"y\":[17],\"yaxis\":\"y\",\"type\":\"bar\"},{\"alignmentgroup\":\"True\",\"hovertemplate\":\"color=139 min\\u003cbr\\u003eduration=%{x}\\u003cbr\\u003eFrequency=%{y}\\u003cbr\\u003etext=%{text}\\u003cextra\\u003e\\u003c\\u002fextra\\u003e\",\"legendgroup\":\"139 min\",\"marker\":{\"color\":\"#9BC73D\",\"pattern\":{\"shape\":\"\"}},\"name\":\"139 min\",\"offsetgroup\":\"139 min\",\"orientation\":\"v\",\"showlegend\":true,\"text\":[17.0],\"textposition\":\"outside\",\"x\":[\"139 min\"],\"xaxis\":\"x\",\"y\":[17],\"yaxis\":\"y\",\"type\":\"bar\"},{\"alignmentgroup\":\"True\",\"hovertemplate\":\"color=150 min\\u003cbr\\u003eduration=%{x}\\u003cbr\\u003eFrequency=%{y}\\u003cbr\\u003etext=%{text}\\u003cextra\\u003e\\u003c\\u002fextra\\u003e\",\"legendgroup\":\"150 min\",\"marker\":{\"color\":\"#0A5DDB\",\"pattern\":{\"shape\":\"\"}},\"name\":\"150 min\",\"offsetgroup\":\"150 min\",\"orientation\":\"v\",\"showlegend\":true,\"text\":[17.0],\"textposition\":\"outside\",\"x\":[\"150 min\"],\"xaxis\":\"x\",\"y\":[17],\"yaxis\":\"y\",\"type\":\"bar\"},{\"alignmentgroup\":\"True\",\"hovertemplate\":\"color=64 min\\u003cbr\\u003eduration=%{x}\\u003cbr\\u003eFrequency=%{y}\\u003cbr\\u003etext=%{text}\\u003cextra\\u003e\\u003c\\u002fextra\\u003e\",\"legendgroup\":\"64 min\",\"marker\":{\"color\":\"#111902\",\"pattern\":{\"shape\":\"\"}},\"name\":\"64 min\",\"offsetgroup\":\"64 min\",\"orientation\":\"v\",\"showlegend\":true,\"text\":[16.0],\"textposition\":\"outside\",\"x\":[\"64 min\"],\"xaxis\":\"x\",\"y\":[16],\"yaxis\":\"y\",\"type\":\"bar\"},{\"alignmentgroup\":\"True\",\"hovertemplate\":\"color=55 min\\u003cbr\\u003eduration=%{x}\\u003cbr\\u003eFrequency=%{y}\\u003cbr\\u003etext=%{text}\\u003cextra\\u003e\\u003c\\u002fextra\\u003e\",\"legendgroup\":\"55 min\",\"marker\":{\"color\":\"#C6EF18\",\"pattern\":{\"shape\":\"\"}},\"name\":\"55 min\",\"offsetgroup\":\"55 min\",\"orientation\":\"v\",\"showlegend\":true,\"text\":[15.0],\"textposition\":\"outside\",\"x\":[\"55 min\"],\"xaxis\":\"x\",\"y\":[15],\"yaxis\":\"y\",\"type\":\"bar\"},{\"alignmentgroup\":\"True\",\"hovertemplate\":\"color=22 min\\u003cbr\\u003eduration=%{x}\\u003cbr\\u003eFrequency=%{y}\\u003cbr\\u003etext=%{text}\\u003cextra\\u003e\\u003c\\u002fextra\\u003e\",\"legendgroup\":\"22 min\",\"marker\":{\"color\":\"#833BA0\",\"pattern\":{\"shape\":\"\"}},\"name\":\"22 min\",\"offsetgroup\":\"22 min\",\"orientation\":\"v\",\"showlegend\":true,\"text\":[15.0],\"textposition\":\"outside\",\"x\":[\"22 min\"],\"xaxis\":\"x\",\"y\":[15],\"yaxis\":\"y\",\"type\":\"bar\"},{\"alignmentgroup\":\"True\",\"hovertemplate\":\"color=151 min\\u003cbr\\u003eduration=%{x}\\u003cbr\\u003eFrequency=%{y}\\u003cbr\\u003etext=%{text}\\u003cextra\\u003e\\u003c\\u002fextra\\u003e\",\"legendgroup\":\"151 min\",\"marker\":{\"color\":\"#DE43B2\",\"pattern\":{\"shape\":\"\"}},\"name\":\"151 min\",\"offsetgroup\":\"151 min\",\"orientation\":\"v\",\"showlegend\":true,\"text\":[14.0],\"textposition\":\"outside\",\"x\":[\"151 min\"],\"xaxis\":\"x\",\"y\":[14],\"yaxis\":\"y\",\"type\":\"bar\"},{\"alignmentgroup\":\"True\",\"hovertemplate\":\"color=57 min\\u003cbr\\u003eduration=%{x}\\u003cbr\\u003eFrequency=%{y}\\u003cbr\\u003etext=%{text}\\u003cextra\\u003e\\u003c\\u002fextra\\u003e\",\"legendgroup\":\"57 min\",\"marker\":{\"color\":\"#90B406\",\"pattern\":{\"shape\":\"\"}},\"name\":\"57 min\",\"offsetgroup\":\"57 min\",\"orientation\":\"v\",\"showlegend\":true,\"text\":[14.0],\"textposition\":\"outside\",\"x\":[\"57 min\"],\"xaxis\":\"x\",\"y\":[14],\"yaxis\":\"y\",\"type\":\"bar\"},{\"alignmentgroup\":\"True\",\"hovertemplate\":\"color=149 min\\u003cbr\\u003eduration=%{x}\\u003cbr\\u003eFrequency=%{y}\\u003cbr\\u003etext=%{text}\\u003cextra\\u003e\\u003c\\u002fextra\\u003e\",\"legendgroup\":\"149 min\",\"marker\":{\"color\":\"#86E681\",\"pattern\":{\"shape\":\"\"}},\"name\":\"149 min\",\"offsetgroup\":\"149 min\",\"orientation\":\"v\",\"showlegend\":true,\"text\":[13.0],\"textposition\":\"outside\",\"x\":[\"149 min\"],\"xaxis\":\"x\",\"y\":[13],\"yaxis\":\"y\",\"type\":\"bar\"},{\"alignmentgroup\":\"True\",\"hovertemplate\":\"color=162 min\\u003cbr\\u003eduration=%{x}\\u003cbr\\u003eFrequency=%{y}\\u003cbr\\u003etext=%{text}\\u003cextra\\u003e\\u003c\\u002fextra\\u003e\",\"legendgroup\":\"162 min\",\"marker\":{\"color\":\"#BC53AA\",\"pattern\":{\"shape\":\"\"}},\"name\":\"162 min\",\"offsetgroup\":\"162 min\",\"orientation\":\"v\",\"showlegend\":true,\"text\":[13.0],\"textposition\":\"outside\",\"x\":[\"162 min\"],\"xaxis\":\"x\",\"y\":[13],\"yaxis\":\"y\",\"type\":\"bar\"},{\"alignmentgroup\":\"True\",\"hovertemplate\":\"color=40 min\\u003cbr\\u003eduration=%{x}\\u003cbr\\u003eFrequency=%{y}\\u003cbr\\u003etext=%{text}\\u003cextra\\u003e\\u003c\\u002fextra\\u003e\",\"legendgroup\":\"40 min\",\"marker\":{\"color\":\"#0CCC8B\",\"pattern\":{\"shape\":\"\"}},\"name\":\"40 min\",\"offsetgroup\":\"40 min\",\"orientation\":\"v\",\"showlegend\":true,\"text\":[13.0],\"textposition\":\"outside\",\"x\":[\"40 min\"],\"xaxis\":\"x\",\"y\":[13],\"yaxis\":\"y\",\"type\":\"bar\"},{\"alignmentgroup\":\"True\",\"hovertemplate\":\"color=146 min\\u003cbr\\u003eduration=%{x}\\u003cbr\\u003eFrequency=%{y}\\u003cbr\\u003etext=%{text}\\u003cextra\\u003e\\u003c\\u002fextra\\u003e\",\"legendgroup\":\"146 min\",\"marker\":{\"color\":\"#8EABA6\",\"pattern\":{\"shape\":\"\"}},\"name\":\"146 min\",\"offsetgroup\":\"146 min\",\"orientation\":\"v\",\"showlegend\":true,\"text\":[13.0],\"textposition\":\"outside\",\"x\":[\"146 min\"],\"xaxis\":\"x\",\"y\":[13],\"yaxis\":\"y\",\"type\":\"bar\"},{\"alignmentgroup\":\"True\",\"hovertemplate\":\"color=23 min\\u003cbr\\u003eduration=%{x}\\u003cbr\\u003eFrequency=%{y}\\u003cbr\\u003etext=%{text}\\u003cextra\\u003e\\u003c\\u002fextra\\u003e\",\"legendgroup\":\"23 min\",\"marker\":{\"color\":\"#E400A2\",\"pattern\":{\"shape\":\"\"}},\"name\":\"23 min\",\"offsetgroup\":\"23 min\",\"orientation\":\"v\",\"showlegend\":true,\"text\":[12.0],\"textposition\":\"outside\",\"x\":[\"23 min\"],\"xaxis\":\"x\",\"y\":[12],\"yaxis\":\"y\",\"type\":\"bar\"},{\"alignmentgroup\":\"True\",\"hovertemplate\":\"color=56 min\\u003cbr\\u003eduration=%{x}\\u003cbr\\u003eFrequency=%{y}\\u003cbr\\u003etext=%{text}\\u003cextra\\u003e\\u003c\\u002fextra\\u003e\",\"legendgroup\":\"56 min\",\"marker\":{\"color\":\"#3A98D9\",\"pattern\":{\"shape\":\"\"}},\"name\":\"56 min\",\"offsetgroup\":\"56 min\",\"orientation\":\"v\",\"showlegend\":true,\"text\":[12.0],\"textposition\":\"outside\",\"x\":[\"56 min\"],\"xaxis\":\"x\",\"y\":[12],\"yaxis\":\"y\",\"type\":\"bar\"},{\"alignmentgroup\":\"True\",\"hovertemplate\":\"color=145 min\\u003cbr\\u003eduration=%{x}\\u003cbr\\u003eFrequency=%{y}\\u003cbr\\u003etext=%{text}\\u003cextra\\u003e\\u003c\\u002fextra\\u003e\",\"legendgroup\":\"145 min\",\"marker\":{\"color\":\"#4361A0\",\"pattern\":{\"shape\":\"\"}},\"name\":\"145 min\",\"offsetgroup\":\"145 min\",\"orientation\":\"v\",\"showlegend\":true,\"text\":[12.0],\"textposition\":\"outside\",\"x\":[\"145 min\"],\"xaxis\":\"x\",\"y\":[12],\"yaxis\":\"y\",\"type\":\"bar\"},{\"alignmentgroup\":\"True\",\"hovertemplate\":\"color=154 min\\u003cbr\\u003eduration=%{x}\\u003cbr\\u003eFrequency=%{y}\\u003cbr\\u003etext=%{text}\\u003cextra\\u003e\\u003c\\u002fextra\\u003e\",\"legendgroup\":\"154 min\",\"marker\":{\"color\":\"#602D6B\",\"pattern\":{\"shape\":\"\"}},\"name\":\"154 min\",\"offsetgroup\":\"154 min\",\"orientation\":\"v\",\"showlegend\":true,\"text\":[12.0],\"textposition\":\"outside\",\"x\":[\"154 min\"],\"xaxis\":\"x\",\"y\":[12],\"yaxis\":\"y\",\"type\":\"bar\"},{\"alignmentgroup\":\"True\",\"hovertemplate\":\"color=158 min\\u003cbr\\u003eduration=%{x}\\u003cbr\\u003eFrequency=%{y}\\u003cbr\\u003etext=%{text}\\u003cextra\\u003e\\u003c\\u002fextra\\u003e\",\"legendgroup\":\"158 min\",\"marker\":{\"color\":\"#068EA3\",\"pattern\":{\"shape\":\"\"}},\"name\":\"158 min\",\"offsetgroup\":\"158 min\",\"orientation\":\"v\",\"showlegend\":true,\"text\":[11.0],\"textposition\":\"outside\",\"x\":[\"158 min\"],\"xaxis\":\"x\",\"y\":[11],\"yaxis\":\"y\",\"type\":\"bar\"},{\"alignmentgroup\":\"True\",\"hovertemplate\":\"color=163 min\\u003cbr\\u003eduration=%{x}\\u003cbr\\u003eFrequency=%{y}\\u003cbr\\u003etext=%{text}\\u003cextra\\u003e\\u003c\\u002fextra\\u003e\",\"legendgroup\":\"163 min\",\"marker\":{\"color\":\"#D3935C\",\"pattern\":{\"shape\":\"\"}},\"name\":\"163 min\",\"offsetgroup\":\"163 min\",\"orientation\":\"v\",\"showlegend\":true,\"text\":[11.0],\"textposition\":\"outside\",\"x\":[\"163 min\"],\"xaxis\":\"x\",\"y\":[11],\"yaxis\":\"y\",\"type\":\"bar\"},{\"alignmentgroup\":\"True\",\"hovertemplate\":\"color=153 min\\u003cbr\\u003eduration=%{x}\\u003cbr\\u003eFrequency=%{y}\\u003cbr\\u003etext=%{text}\\u003cextra\\u003e\\u003c\\u002fextra\\u003e\",\"legendgroup\":\"153 min\",\"marker\":{\"color\":\"#241E76\",\"pattern\":{\"shape\":\"\"}},\"name\":\"153 min\",\"offsetgroup\":\"153 min\",\"orientation\":\"v\",\"showlegend\":true,\"text\":[11.0],\"textposition\":\"outside\",\"x\":[\"153 min\"],\"xaxis\":\"x\",\"y\":[11],\"yaxis\":\"y\",\"type\":\"bar\"},{\"alignmentgroup\":\"True\",\"hovertemplate\":\"color=142 min\\u003cbr\\u003eduration=%{x}\\u003cbr\\u003eFrequency=%{y}\\u003cbr\\u003etext=%{text}\\u003cextra\\u003e\\u003c\\u002fextra\\u003e\",\"legendgroup\":\"142 min\",\"marker\":{\"color\":\"#5287BC\",\"pattern\":{\"shape\":\"\"}},\"name\":\"142 min\",\"offsetgroup\":\"142 min\",\"orientation\":\"v\",\"showlegend\":true,\"text\":[11.0],\"textposition\":\"outside\",\"x\":[\"142 min\"],\"xaxis\":\"x\",\"y\":[11],\"yaxis\":\"y\",\"type\":\"bar\"},{\"alignmentgroup\":\"True\",\"hovertemplate\":\"color=47 min\\u003cbr\\u003eduration=%{x}\\u003cbr\\u003eFrequency=%{y}\\u003cbr\\u003etext=%{text}\\u003cextra\\u003e\\u003c\\u002fextra\\u003e\",\"legendgroup\":\"47 min\",\"marker\":{\"color\":\"#8328E2\",\"pattern\":{\"shape\":\"\"}},\"name\":\"47 min\",\"offsetgroup\":\"47 min\",\"orientation\":\"v\",\"showlegend\":true,\"text\":[10.0],\"textposition\":\"outside\",\"x\":[\"47 min\"],\"xaxis\":\"x\",\"y\":[10],\"yaxis\":\"y\",\"type\":\"bar\"},{\"alignmentgroup\":\"True\",\"hovertemplate\":\"color=28 min\\u003cbr\\u003eduration=%{x}\\u003cbr\\u003eFrequency=%{y}\\u003cbr\\u003etext=%{text}\\u003cextra\\u003e\\u003c\\u002fextra\\u003e\",\"legendgroup\":\"28 min\",\"marker\":{\"color\":\"#D7E55A\",\"pattern\":{\"shape\":\"\"}},\"name\":\"28 min\",\"offsetgroup\":\"28 min\",\"orientation\":\"v\",\"showlegend\":true,\"text\":[10.0],\"textposition\":\"outside\",\"x\":[\"28 min\"],\"xaxis\":\"x\",\"y\":[10],\"yaxis\":\"y\",\"type\":\"bar\"},{\"alignmentgroup\":\"True\",\"hovertemplate\":\"color=29 min\\u003cbr\\u003eduration=%{x}\\u003cbr\\u003eFrequency=%{y}\\u003cbr\\u003etext=%{text}\\u003cextra\\u003e\\u003c\\u002fextra\\u003e\",\"legendgroup\":\"29 min\",\"marker\":{\"color\":\"#36CDA4\",\"pattern\":{\"shape\":\"\"}},\"name\":\"29 min\",\"offsetgroup\":\"29 min\",\"orientation\":\"v\",\"showlegend\":true,\"text\":[10.0],\"textposition\":\"outside\",\"x\":[\"29 min\"],\"xaxis\":\"x\",\"y\":[10],\"yaxis\":\"y\",\"type\":\"bar\"},{\"alignmentgroup\":\"True\",\"hovertemplate\":\"color=147 min\\u003cbr\\u003eduration=%{x}\\u003cbr\\u003eFrequency=%{y}\\u003cbr\\u003etext=%{text}\\u003cextra\\u003e\\u003c\\u002fextra\\u003e\",\"legendgroup\":\"147 min\",\"marker\":{\"color\":\"#DA7ED0\",\"pattern\":{\"shape\":\"\"}},\"name\":\"147 min\",\"offsetgroup\":\"147 min\",\"orientation\":\"v\",\"showlegend\":true,\"text\":[10.0],\"textposition\":\"outside\",\"x\":[\"147 min\"],\"xaxis\":\"x\",\"y\":[10],\"yaxis\":\"y\",\"type\":\"bar\"},{\"alignmentgroup\":\"True\",\"hovertemplate\":\"color=25 min\\u003cbr\\u003eduration=%{x}\\u003cbr\\u003eFrequency=%{y}\\u003cbr\\u003etext=%{text}\\u003cextra\\u003e\\u003c\\u002fextra\\u003e\",\"legendgroup\":\"25 min\",\"marker\":{\"color\":\"#F981D6\",\"pattern\":{\"shape\":\"\"}},\"name\":\"25 min\",\"offsetgroup\":\"25 min\",\"orientation\":\"v\",\"showlegend\":true,\"text\":[10.0],\"textposition\":\"outside\",\"x\":[\"25 min\"],\"xaxis\":\"x\",\"y\":[10],\"yaxis\":\"y\",\"type\":\"bar\"},{\"alignmentgroup\":\"True\",\"hovertemplate\":\"color=45 min\\u003cbr\\u003eduration=%{x}\\u003cbr\\u003eFrequency=%{y}\\u003cbr\\u003etext=%{text}\\u003cextra\\u003e\\u003c\\u002fextra\\u003e\",\"legendgroup\":\"45 min\",\"marker\":{\"color\":\"#3EA938\",\"pattern\":{\"shape\":\"\"}},\"name\":\"45 min\",\"offsetgroup\":\"45 min\",\"orientation\":\"v\",\"showlegend\":true,\"text\":[10.0],\"textposition\":\"outside\",\"x\":[\"45 min\"],\"xaxis\":\"x\",\"y\":[10],\"yaxis\":\"y\",\"type\":\"bar\"},{\"alignmentgroup\":\"True\",\"hovertemplate\":\"color=50 min\\u003cbr\\u003eduration=%{x}\\u003cbr\\u003eFrequency=%{y}\\u003cbr\\u003etext=%{text}\\u003cextra\\u003e\\u003c\\u002fextra\\u003e\",\"legendgroup\":\"50 min\",\"marker\":{\"color\":\"#F0C3AA\",\"pattern\":{\"shape\":\"\"}},\"name\":\"50 min\",\"offsetgroup\":\"50 min\",\"orientation\":\"v\",\"showlegend\":true,\"text\":[10.0],\"textposition\":\"outside\",\"x\":[\"50 min\"],\"xaxis\":\"x\",\"y\":[10],\"yaxis\":\"y\",\"type\":\"bar\"},{\"alignmentgroup\":\"True\",\"hovertemplate\":\"color=51 min\\u003cbr\\u003eduration=%{x}\\u003cbr\\u003eFrequency=%{y}\\u003cbr\\u003etext=%{text}\\u003cextra\\u003e\\u003c\\u002fextra\\u003e\",\"legendgroup\":\"51 min\",\"marker\":{\"color\":\"#10F3E7\",\"pattern\":{\"shape\":\"\"}},\"name\":\"51 min\",\"offsetgroup\":\"51 min\",\"orientation\":\"v\",\"showlegend\":true,\"text\":[10.0],\"textposition\":\"outside\",\"x\":[\"51 min\"],\"xaxis\":\"x\",\"y\":[10],\"yaxis\":\"y\",\"type\":\"bar\"},{\"alignmentgroup\":\"True\",\"hovertemplate\":\"color=156 min\\u003cbr\\u003eduration=%{x}\\u003cbr\\u003eFrequency=%{y}\\u003cbr\\u003etext=%{text}\\u003cextra\\u003e\\u003c\\u002fextra\\u003e\",\"legendgroup\":\"156 min\",\"marker\":{\"color\":\"#6E9007\",\"pattern\":{\"shape\":\"\"}},\"name\":\"156 min\",\"offsetgroup\":\"156 min\",\"orientation\":\"v\",\"showlegend\":true,\"text\":[9.0],\"textposition\":\"outside\",\"x\":[\"156 min\"],\"xaxis\":\"x\",\"y\":[9],\"yaxis\":\"y\",\"type\":\"bar\"},{\"alignmentgroup\":\"True\",\"hovertemplate\":\"color=161 min\\u003cbr\\u003eduration=%{x}\\u003cbr\\u003eFrequency=%{y}\\u003cbr\\u003etext=%{text}\\u003cextra\\u003e\\u003c\\u002fextra\\u003e\",\"legendgroup\":\"161 min\",\"marker\":{\"color\":\"#D0E381\",\"pattern\":{\"shape\":\"\"}},\"name\":\"161 min\",\"offsetgroup\":\"161 min\",\"orientation\":\"v\",\"showlegend\":true,\"text\":[9.0],\"textposition\":\"outside\",\"x\":[\"161 min\"],\"xaxis\":\"x\",\"y\":[9],\"yaxis\":\"y\",\"type\":\"bar\"},{\"alignmentgroup\":\"True\",\"hovertemplate\":\"color=155 min\\u003cbr\\u003eduration=%{x}\\u003cbr\\u003eFrequency=%{y}\\u003cbr\\u003etext=%{text}\\u003cextra\\u003e\\u003c\\u002fextra\\u003e\",\"legendgroup\":\"155 min\",\"marker\":{\"color\":\"#9025EE\",\"pattern\":{\"shape\":\"\"}},\"name\":\"155 min\",\"offsetgroup\":\"155 min\",\"orientation\":\"v\",\"showlegend\":true,\"text\":[9.0],\"textposition\":\"outside\",\"x\":[\"155 min\"],\"xaxis\":\"x\",\"y\":[9],\"yaxis\":\"y\",\"type\":\"bar\"},{\"alignmentgroup\":\"True\",\"hovertemplate\":\"color=144 min\\u003cbr\\u003eduration=%{x}\\u003cbr\\u003eFrequency=%{y}\\u003cbr\\u003etext=%{text}\\u003cextra\\u003e\\u003c\\u002fextra\\u003e\",\"legendgroup\":\"144 min\",\"marker\":{\"color\":\"#8F5E96\",\"pattern\":{\"shape\":\"\"}},\"name\":\"144 min\",\"offsetgroup\":\"144 min\",\"orientation\":\"v\",\"showlegend\":true,\"text\":[8.0],\"textposition\":\"outside\",\"x\":[\"144 min\"],\"xaxis\":\"x\",\"y\":[8],\"yaxis\":\"y\",\"type\":\"bar\"},{\"alignmentgroup\":\"True\",\"hovertemplate\":\"color=9 Seasons\\u003cbr\\u003eduration=%{x}\\u003cbr\\u003eFrequency=%{y}\\u003cbr\\u003etext=%{text}\\u003cextra\\u003e\\u003c\\u002fextra\\u003e\",\"legendgroup\":\"9 Seasons\",\"marker\":{\"color\":\"#8863F2\",\"pattern\":{\"shape\":\"\"}},\"name\":\"9 Seasons\",\"offsetgroup\":\"9 Seasons\",\"orientation\":\"v\",\"showlegend\":true,\"text\":[8.0],\"textposition\":\"outside\",\"x\":[\"9 Seasons\"],\"xaxis\":\"x\",\"y\":[8],\"yaxis\":\"y\",\"type\":\"bar\"},{\"alignmentgroup\":\"True\",\"hovertemplate\":\"color=49 min\\u003cbr\\u003eduration=%{x}\\u003cbr\\u003eFrequency=%{y}\\u003cbr\\u003etext=%{text}\\u003cextra\\u003e\\u003c\\u002fextra\\u003e\",\"legendgroup\":\"49 min\",\"marker\":{\"color\":\"#89A667\",\"pattern\":{\"shape\":\"\"}},\"name\":\"49 min\",\"offsetgroup\":\"49 min\",\"orientation\":\"v\",\"showlegend\":true,\"text\":[8.0],\"textposition\":\"outside\",\"x\":[\"49 min\"],\"xaxis\":\"x\",\"y\":[8],\"yaxis\":\"y\",\"type\":\"bar\"},{\"alignmentgroup\":\"True\",\"hovertemplate\":\"color=42 min\\u003cbr\\u003eduration=%{x}\\u003cbr\\u003eFrequency=%{y}\\u003cbr\\u003etext=%{text}\\u003cextra\\u003e\\u003c\\u002fextra\\u003e\",\"legendgroup\":\"42 min\",\"marker\":{\"color\":\"#A03C05\",\"pattern\":{\"shape\":\"\"}},\"name\":\"42 min\",\"offsetgroup\":\"42 min\",\"orientation\":\"v\",\"showlegend\":true,\"text\":[8.0],\"textposition\":\"outside\",\"x\":[\"42 min\"],\"xaxis\":\"x\",\"y\":[8],\"yaxis\":\"y\",\"type\":\"bar\"},{\"alignmentgroup\":\"True\",\"hovertemplate\":\"color=165 min\\u003cbr\\u003eduration=%{x}\\u003cbr\\u003eFrequency=%{y}\\u003cbr\\u003etext=%{text}\\u003cextra\\u003e\\u003c\\u002fextra\\u003e\",\"legendgroup\":\"165 min\",\"marker\":{\"color\":\"#82D8D4\",\"pattern\":{\"shape\":\"\"}},\"name\":\"165 min\",\"offsetgroup\":\"165 min\",\"orientation\":\"v\",\"showlegend\":true,\"text\":[8.0],\"textposition\":\"outside\",\"x\":[\"165 min\"],\"xaxis\":\"x\",\"y\":[8],\"yaxis\":\"y\",\"type\":\"bar\"},{\"alignmentgroup\":\"True\",\"hovertemplate\":\"color=48 min\\u003cbr\\u003eduration=%{x}\\u003cbr\\u003eFrequency=%{y}\\u003cbr\\u003etext=%{text}\\u003cextra\\u003e\\u003c\\u002fextra\\u003e\",\"legendgroup\":\"48 min\",\"marker\":{\"color\":\"#B6C3E5\",\"pattern\":{\"shape\":\"\"}},\"name\":\"48 min\",\"offsetgroup\":\"48 min\",\"orientation\":\"v\",\"showlegend\":true,\"text\":[7.0],\"textposition\":\"outside\",\"x\":[\"48 min\"],\"xaxis\":\"x\",\"y\":[7],\"yaxis\":\"y\",\"type\":\"bar\"},{\"alignmentgroup\":\"True\",\"hovertemplate\":\"color=166 min\\u003cbr\\u003eduration=%{x}\\u003cbr\\u003eFrequency=%{y}\\u003cbr\\u003etext=%{text}\\u003cextra\\u003e\\u003c\\u002fextra\\u003e\",\"legendgroup\":\"166 min\",\"marker\":{\"color\":\"#BFCCF5\",\"pattern\":{\"shape\":\"\"}},\"name\":\"166 min\",\"offsetgroup\":\"166 min\",\"orientation\":\"v\",\"showlegend\":true,\"text\":[7.0],\"textposition\":\"outside\",\"x\":[\"166 min\"],\"xaxis\":\"x\",\"y\":[7],\"yaxis\":\"y\",\"type\":\"bar\"},{\"alignmentgroup\":\"True\",\"hovertemplate\":\"color=168 min\\u003cbr\\u003eduration=%{x}\\u003cbr\\u003eFrequency=%{y}\\u003cbr\\u003etext=%{text}\\u003cextra\\u003e\\u003c\\u002fextra\\u003e\",\"legendgroup\":\"168 min\",\"marker\":{\"color\":\"#5CF78C\",\"pattern\":{\"shape\":\"\"}},\"name\":\"168 min\",\"offsetgroup\":\"168 min\",\"orientation\":\"v\",\"showlegend\":true,\"text\":[7.0],\"textposition\":\"outside\",\"x\":[\"168 min\"],\"xaxis\":\"x\",\"y\":[7],\"yaxis\":\"y\",\"type\":\"bar\"},{\"alignmentgroup\":\"True\",\"hovertemplate\":\"color=32 min\\u003cbr\\u003eduration=%{x}\\u003cbr\\u003eFrequency=%{y}\\u003cbr\\u003etext=%{text}\\u003cextra\\u003e\\u003c\\u002fextra\\u003e\",\"legendgroup\":\"32 min\",\"marker\":{\"color\":\"#817BAB\",\"pattern\":{\"shape\":\"\"}},\"name\":\"32 min\",\"offsetgroup\":\"32 min\",\"orientation\":\"v\",\"showlegend\":true,\"text\":[7.0],\"textposition\":\"outside\",\"x\":[\"32 min\"],\"xaxis\":\"x\",\"y\":[7],\"yaxis\":\"y\",\"type\":\"bar\"},{\"alignmentgroup\":\"True\",\"hovertemplate\":\"color=171 min\\u003cbr\\u003eduration=%{x}\\u003cbr\\u003eFrequency=%{y}\\u003cbr\\u003etext=%{text}\\u003cextra\\u003e\\u003c\\u002fextra\\u003e\",\"legendgroup\":\"171 min\",\"marker\":{\"color\":\"#EA9EF0\",\"pattern\":{\"shape\":\"\"}},\"name\":\"171 min\",\"offsetgroup\":\"171 min\",\"orientation\":\"v\",\"showlegend\":true,\"text\":[7.0],\"textposition\":\"outside\",\"x\":[\"171 min\"],\"xaxis\":\"x\",\"y\":[7],\"yaxis\":\"y\",\"type\":\"bar\"},{\"alignmentgroup\":\"True\",\"hovertemplate\":\"color=157 min\\u003cbr\\u003eduration=%{x}\\u003cbr\\u003eFrequency=%{y}\\u003cbr\\u003etext=%{text}\\u003cextra\\u003e\\u003c\\u002fextra\\u003e\",\"legendgroup\":\"157 min\",\"marker\":{\"color\":\"#489AB8\",\"pattern\":{\"shape\":\"\"}},\"name\":\"157 min\",\"offsetgroup\":\"157 min\",\"orientation\":\"v\",\"showlegend\":true,\"text\":[6.0],\"textposition\":\"outside\",\"x\":[\"157 min\"],\"xaxis\":\"x\",\"y\":[6],\"yaxis\":\"y\",\"type\":\"bar\"},{\"alignmentgroup\":\"True\",\"hovertemplate\":\"color=10 Seasons\\u003cbr\\u003eduration=%{x}\\u003cbr\\u003eFrequency=%{y}\\u003cbr\\u003etext=%{text}\\u003cextra\\u003e\\u003c\\u002fextra\\u003e\",\"legendgroup\":\"10 Seasons\",\"marker\":{\"color\":\"#E47093\",\"pattern\":{\"shape\":\"\"}},\"name\":\"10 Seasons\",\"offsetgroup\":\"10 Seasons\",\"orientation\":\"v\",\"showlegend\":true,\"text\":[6.0],\"textposition\":\"outside\",\"x\":[\"10 Seasons\"],\"xaxis\":\"x\",\"y\":[6],\"yaxis\":\"y\",\"type\":\"bar\"},{\"alignmentgroup\":\"True\",\"hovertemplate\":\"color=159 min\\u003cbr\\u003eduration=%{x}\\u003cbr\\u003eFrequency=%{y}\\u003cbr\\u003etext=%{text}\\u003cextra\\u003e\\u003c\\u002fextra\\u003e\",\"legendgroup\":\"159 min\",\"marker\":{\"color\":\"#F94E27\",\"pattern\":{\"shape\":\"\"}},\"name\":\"159 min\",\"offsetgroup\":\"159 min\",\"orientation\":\"v\",\"showlegend\":true,\"text\":[6.0],\"textposition\":\"outside\",\"x\":[\"159 min\"],\"xaxis\":\"x\",\"y\":[6],\"yaxis\":\"y\",\"type\":\"bar\"},{\"alignmentgroup\":\"True\",\"hovertemplate\":\"color=30 min\\u003cbr\\u003eduration=%{x}\\u003cbr\\u003eFrequency=%{y}\\u003cbr\\u003etext=%{text}\\u003cextra\\u003e\\u003c\\u002fextra\\u003e\",\"legendgroup\":\"30 min\",\"marker\":{\"color\":\"#92C064\",\"pattern\":{\"shape\":\"\"}},\"name\":\"30 min\",\"offsetgroup\":\"30 min\",\"orientation\":\"v\",\"showlegend\":true,\"text\":[6.0],\"textposition\":\"outside\",\"x\":[\"30 min\"],\"xaxis\":\"x\",\"y\":[6],\"yaxis\":\"y\",\"type\":\"bar\"},{\"alignmentgroup\":\"True\",\"hovertemplate\":\"color=26 min\\u003cbr\\u003eduration=%{x}\\u003cbr\\u003eFrequency=%{y}\\u003cbr\\u003etext=%{text}\\u003cextra\\u003e\\u003c\\u002fextra\\u003e\",\"legendgroup\":\"26 min\",\"marker\":{\"color\":\"#34C086\",\"pattern\":{\"shape\":\"\"}},\"name\":\"26 min\",\"offsetgroup\":\"26 min\",\"orientation\":\"v\",\"showlegend\":true,\"text\":[6.0],\"textposition\":\"outside\",\"x\":[\"26 min\"],\"xaxis\":\"x\",\"y\":[6],\"yaxis\":\"y\",\"type\":\"bar\"},{\"alignmentgroup\":\"True\",\"hovertemplate\":\"color=160 min\\u003cbr\\u003eduration=%{x}\\u003cbr\\u003eFrequency=%{y}\\u003cbr\\u003etext=%{text}\\u003cextra\\u003e\\u003c\\u002fextra\\u003e\",\"legendgroup\":\"160 min\",\"marker\":{\"color\":\"#DC997E\",\"pattern\":{\"shape\":\"\"}},\"name\":\"160 min\",\"offsetgroup\":\"160 min\",\"orientation\":\"v\",\"showlegend\":true,\"text\":[6.0],\"textposition\":\"outside\",\"x\":[\"160 min\"],\"xaxis\":\"x\",\"y\":[6],\"yaxis\":\"y\",\"type\":\"bar\"},{\"alignmentgroup\":\"True\",\"hovertemplate\":\"color=152 min\\u003cbr\\u003eduration=%{x}\\u003cbr\\u003eFrequency=%{y}\\u003cbr\\u003etext=%{text}\\u003cextra\\u003e\\u003c\\u002fextra\\u003e\",\"legendgroup\":\"152 min\",\"marker\":{\"color\":\"#001B66\",\"pattern\":{\"shape\":\"\"}},\"name\":\"152 min\",\"offsetgroup\":\"152 min\",\"orientation\":\"v\",\"showlegend\":true,\"text\":[5.0],\"textposition\":\"outside\",\"x\":[\"152 min\"],\"xaxis\":\"x\",\"y\":[5],\"yaxis\":\"y\",\"type\":\"bar\"},{\"alignmentgroup\":\"True\",\"hovertemplate\":\"color=173 min\\u003cbr\\u003eduration=%{x}\\u003cbr\\u003eFrequency=%{y}\\u003cbr\\u003etext=%{text}\\u003cextra\\u003e\\u003c\\u002fextra\\u003e\",\"legendgroup\":\"173 min\",\"marker\":{\"color\":\"#21A8F1\",\"pattern\":{\"shape\":\"\"}},\"name\":\"173 min\",\"offsetgroup\":\"173 min\",\"orientation\":\"v\",\"showlegend\":true,\"text\":[5.0],\"textposition\":\"outside\",\"x\":[\"173 min\"],\"xaxis\":\"x\",\"y\":[5],\"yaxis\":\"y\",\"type\":\"bar\"},{\"alignmentgroup\":\"True\",\"hovertemplate\":\"color=33 min\\u003cbr\\u003eduration=%{x}\\u003cbr\\u003eFrequency=%{y}\\u003cbr\\u003etext=%{text}\\u003cextra\\u003e\\u003c\\u002fextra\\u003e\",\"legendgroup\":\"33 min\",\"marker\":{\"color\":\"#F8079D\",\"pattern\":{\"shape\":\"\"}},\"name\":\"33 min\",\"offsetgroup\":\"33 min\",\"orientation\":\"v\",\"showlegend\":true,\"text\":[5.0],\"textposition\":\"outside\",\"x\":[\"33 min\"],\"xaxis\":\"x\",\"y\":[5],\"yaxis\":\"y\",\"type\":\"bar\"},{\"alignmentgroup\":\"True\",\"hovertemplate\":\"color=170 min\\u003cbr\\u003eduration=%{x}\\u003cbr\\u003eFrequency=%{y}\\u003cbr\\u003etext=%{text}\\u003cextra\\u003e\\u003c\\u002fextra\\u003e\",\"legendgroup\":\"170 min\",\"marker\":{\"color\":\"#DEB014\",\"pattern\":{\"shape\":\"\"}},\"name\":\"170 min\",\"offsetgroup\":\"170 min\",\"orientation\":\"v\",\"showlegend\":true,\"text\":[5.0],\"textposition\":\"outside\",\"x\":[\"170 min\"],\"xaxis\":\"x\",\"y\":[5],\"yaxis\":\"y\",\"type\":\"bar\"},{\"alignmentgroup\":\"True\",\"hovertemplate\":\"color=176 min\\u003cbr\\u003eduration=%{x}\\u003cbr\\u003eFrequency=%{y}\\u003cbr\\u003etext=%{text}\\u003cextra\\u003e\\u003c\\u002fextra\\u003e\",\"legendgroup\":\"176 min\",\"marker\":{\"color\":\"#72AA2C\",\"pattern\":{\"shape\":\"\"}},\"name\":\"176 min\",\"offsetgroup\":\"176 min\",\"orientation\":\"v\",\"showlegend\":true,\"text\":[5.0],\"textposition\":\"outside\",\"x\":[\"176 min\"],\"xaxis\":\"x\",\"y\":[5],\"yaxis\":\"y\",\"type\":\"bar\"},{\"alignmentgroup\":\"True\",\"hovertemplate\":\"color=185 min\\u003cbr\\u003eduration=%{x}\\u003cbr\\u003eFrequency=%{y}\\u003cbr\\u003etext=%{text}\\u003cextra\\u003e\\u003c\\u002fextra\\u003e\",\"legendgroup\":\"185 min\",\"marker\":{\"color\":\"#2C2E88\",\"pattern\":{\"shape\":\"\"}},\"name\":\"185 min\",\"offsetgroup\":\"185 min\",\"orientation\":\"v\",\"showlegend\":true,\"text\":[5.0],\"textposition\":\"outside\",\"x\":[\"185 min\"],\"xaxis\":\"x\",\"y\":[5],\"yaxis\":\"y\",\"type\":\"bar\"},{\"alignmentgroup\":\"True\",\"hovertemplate\":\"color=172 min\\u003cbr\\u003eduration=%{x}\\u003cbr\\u003eFrequency=%{y}\\u003cbr\\u003etext=%{text}\\u003cextra\\u003e\\u003c\\u002fextra\\u003e\",\"legendgroup\":\"172 min\",\"marker\":{\"color\":\"#817DA7\",\"pattern\":{\"shape\":\"\"}},\"name\":\"172 min\",\"offsetgroup\":\"172 min\",\"orientation\":\"v\",\"showlegend\":true,\"text\":[4.0],\"textposition\":\"outside\",\"x\":[\"172 min\"],\"xaxis\":\"x\",\"y\":[4],\"yaxis\":\"y\",\"type\":\"bar\"},{\"alignmentgroup\":\"True\",\"hovertemplate\":\"color=164 min\\u003cbr\\u003eduration=%{x}\\u003cbr\\u003eFrequency=%{y}\\u003cbr\\u003etext=%{text}\\u003cextra\\u003e\\u003c\\u002fextra\\u003e\",\"legendgroup\":\"164 min\",\"marker\":{\"color\":\"#E31935\",\"pattern\":{\"shape\":\"\"}},\"name\":\"164 min\",\"offsetgroup\":\"164 min\",\"orientation\":\"v\",\"showlegend\":true,\"text\":[4.0],\"textposition\":\"outside\",\"x\":[\"164 min\"],\"xaxis\":\"x\",\"y\":[4],\"yaxis\":\"y\",\"type\":\"bar\"},{\"alignmentgroup\":\"True\",\"hovertemplate\":\"color=177 min\\u003cbr\\u003eduration=%{x}\\u003cbr\\u003eFrequency=%{y}\\u003cbr\\u003etext=%{text}\\u003cextra\\u003e\\u003c\\u002fextra\\u003e\",\"legendgroup\":\"177 min\",\"marker\":{\"color\":\"#02BB83\",\"pattern\":{\"shape\":\"\"}},\"name\":\"177 min\",\"offsetgroup\":\"177 min\",\"orientation\":\"v\",\"showlegend\":true,\"text\":[4.0],\"textposition\":\"outside\",\"x\":[\"177 min\"],\"xaxis\":\"x\",\"y\":[4],\"yaxis\":\"y\",\"type\":\"bar\"},{\"alignmentgroup\":\"True\",\"hovertemplate\":\"color=38 min\\u003cbr\\u003eduration=%{x}\\u003cbr\\u003eFrequency=%{y}\\u003cbr\\u003etext=%{text}\\u003cextra\\u003e\\u003c\\u002fextra\\u003e\",\"legendgroup\":\"38 min\",\"marker\":{\"color\":\"#A2603E\",\"pattern\":{\"shape\":\"\"}},\"name\":\"38 min\",\"offsetgroup\":\"38 min\",\"orientation\":\"v\",\"showlegend\":true,\"text\":[4.0],\"textposition\":\"outside\",\"x\":[\"38 min\"],\"xaxis\":\"x\",\"y\":[4],\"yaxis\":\"y\",\"type\":\"bar\"},{\"alignmentgroup\":\"True\",\"hovertemplate\":\"color=11 Seasons\\u003cbr\\u003eduration=%{x}\\u003cbr\\u003eFrequency=%{y}\\u003cbr\\u003etext=%{text}\\u003cextra\\u003e\\u003c\\u002fextra\\u003e\",\"legendgroup\":\"11 Seasons\",\"marker\":{\"color\":\"#043BDC\",\"pattern\":{\"shape\":\"\"}},\"name\":\"11 Seasons\",\"offsetgroup\":\"11 Seasons\",\"orientation\":\"v\",\"showlegend\":true,\"text\":[3.0],\"textposition\":\"outside\",\"x\":[\"11 Seasons\"],\"xaxis\":\"x\",\"y\":[3],\"yaxis\":\"y\",\"type\":\"bar\"},{\"alignmentgroup\":\"True\",\"hovertemplate\":\"color=41 min\\u003cbr\\u003eduration=%{x}\\u003cbr\\u003eFrequency=%{y}\\u003cbr\\u003etext=%{text}\\u003cextra\\u003e\\u003c\\u002fextra\\u003e\",\"legendgroup\":\"41 min\",\"marker\":{\"color\":\"#98167F\",\"pattern\":{\"shape\":\"\"}},\"name\":\"41 min\",\"offsetgroup\":\"41 min\",\"orientation\":\"v\",\"showlegend\":true,\"text\":[3.0],\"textposition\":\"outside\",\"x\":[\"41 min\"],\"xaxis\":\"x\",\"y\":[3],\"yaxis\":\"y\",\"type\":\"bar\"},{\"alignmentgroup\":\"True\",\"hovertemplate\":\"color=17 min\\u003cbr\\u003eduration=%{x}\\u003cbr\\u003eFrequency=%{y}\\u003cbr\\u003etext=%{text}\\u003cextra\\u003e\\u003c\\u002fextra\\u003e\",\"legendgroup\":\"17 min\",\"marker\":{\"color\":\"#901D26\",\"pattern\":{\"shape\":\"\"}},\"name\":\"17 min\",\"offsetgroup\":\"17 min\",\"orientation\":\"v\",\"showlegend\":true,\"text\":[3.0],\"textposition\":\"outside\",\"x\":[\"17 min\"],\"xaxis\":\"x\",\"y\":[3],\"yaxis\":\"y\",\"type\":\"bar\"},{\"alignmentgroup\":\"True\",\"hovertemplate\":\"color=35 min\\u003cbr\\u003eduration=%{x}\\u003cbr\\u003eFrequency=%{y}\\u003cbr\\u003etext=%{text}\\u003cextra\\u003e\\u003c\\u002fextra\\u003e\",\"legendgroup\":\"35 min\",\"marker\":{\"color\":\"#2F0F5C\",\"pattern\":{\"shape\":\"\"}},\"name\":\"35 min\",\"offsetgroup\":\"35 min\",\"orientation\":\"v\",\"showlegend\":true,\"text\":[3.0],\"textposition\":\"outside\",\"x\":[\"35 min\"],\"xaxis\":\"x\",\"y\":[3],\"yaxis\":\"y\",\"type\":\"bar\"},{\"alignmentgroup\":\"True\",\"hovertemplate\":\"color=27 min\\u003cbr\\u003eduration=%{x}\\u003cbr\\u003eFrequency=%{y}\\u003cbr\\u003etext=%{text}\\u003cextra\\u003e\\u003c\\u002fextra\\u003e\",\"legendgroup\":\"27 min\",\"marker\":{\"color\":\"#F37D7D\",\"pattern\":{\"shape\":\"\"}},\"name\":\"27 min\",\"offsetgroup\":\"27 min\",\"orientation\":\"v\",\"showlegend\":true,\"text\":[3.0],\"textposition\":\"outside\",\"x\":[\"27 min\"],\"xaxis\":\"x\",\"y\":[3],\"yaxis\":\"y\",\"type\":\"bar\"},{\"alignmentgroup\":\"True\",\"hovertemplate\":\"color=14 min\\u003cbr\\u003eduration=%{x}\\u003cbr\\u003eFrequency=%{y}\\u003cbr\\u003etext=%{text}\\u003cextra\\u003e\\u003c\\u002fextra\\u003e\",\"legendgroup\":\"14 min\",\"marker\":{\"color\":\"#7820DF\",\"pattern\":{\"shape\":\"\"}},\"name\":\"14 min\",\"offsetgroup\":\"14 min\",\"orientation\":\"v\",\"showlegend\":true,\"text\":[3.0],\"textposition\":\"outside\",\"x\":[\"14 min\"],\"xaxis\":\"x\",\"y\":[3],\"yaxis\":\"y\",\"type\":\"bar\"},{\"alignmentgroup\":\"True\",\"hovertemplate\":\"color=20 min\\u003cbr\\u003eduration=%{x}\\u003cbr\\u003eFrequency=%{y}\\u003cbr\\u003etext=%{text}\\u003cextra\\u003e\\u003c\\u002fextra\\u003e\",\"legendgroup\":\"20 min\",\"marker\":{\"color\":\"#784E45\",\"pattern\":{\"shape\":\"\"}},\"name\":\"20 min\",\"offsetgroup\":\"20 min\",\"orientation\":\"v\",\"showlegend\":true,\"text\":[2.0],\"textposition\":\"outside\",\"x\":[\"20 min\"],\"xaxis\":\"x\",\"y\":[2],\"yaxis\":\"y\",\"type\":\"bar\"},{\"alignmentgroup\":\"True\",\"hovertemplate\":\"color=21 min\\u003cbr\\u003eduration=%{x}\\u003cbr\\u003eFrequency=%{y}\\u003cbr\\u003etext=%{text}\\u003cextra\\u003e\\u003c\\u002fextra\\u003e\",\"legendgroup\":\"21 min\",\"marker\":{\"color\":\"#AB24E6\",\"pattern\":{\"shape\":\"\"}},\"name\":\"21 min\",\"offsetgroup\":\"21 min\",\"orientation\":\"v\",\"showlegend\":true,\"text\":[2.0],\"textposition\":\"outside\",\"x\":[\"21 min\"],\"xaxis\":\"x\",\"y\":[2],\"yaxis\":\"y\",\"type\":\"bar\"},{\"alignmentgroup\":\"True\",\"hovertemplate\":\"color=37 min\\u003cbr\\u003eduration=%{x}\\u003cbr\\u003eFrequency=%{y}\\u003cbr\\u003etext=%{text}\\u003cextra\\u003e\\u003c\\u002fextra\\u003e\",\"legendgroup\":\"37 min\",\"marker\":{\"color\":\"#1DDCAF\",\"pattern\":{\"shape\":\"\"}},\"name\":\"37 min\",\"offsetgroup\":\"37 min\",\"orientation\":\"v\",\"showlegend\":true,\"text\":[2.0],\"textposition\":\"outside\",\"x\":[\"37 min\"],\"xaxis\":\"x\",\"y\":[2],\"yaxis\":\"y\",\"type\":\"bar\"},{\"alignmentgroup\":\"True\",\"hovertemplate\":\"color=181 min\\u003cbr\\u003eduration=%{x}\\u003cbr\\u003eFrequency=%{y}\\u003cbr\\u003etext=%{text}\\u003cextra\\u003e\\u003c\\u002fextra\\u003e\",\"legendgroup\":\"181 min\",\"marker\":{\"color\":\"#1394D2\",\"pattern\":{\"shape\":\"\"}},\"name\":\"181 min\",\"offsetgroup\":\"181 min\",\"orientation\":\"v\",\"showlegend\":true,\"text\":[2.0],\"textposition\":\"outside\",\"x\":[\"181 min\"],\"xaxis\":\"x\",\"y\":[2],\"yaxis\":\"y\",\"type\":\"bar\"},{\"alignmentgroup\":\"True\",\"hovertemplate\":\"color=15 min\\u003cbr\\u003eduration=%{x}\\u003cbr\\u003eFrequency=%{y}\\u003cbr\\u003etext=%{text}\\u003cextra\\u003e\\u003c\\u002fextra\\u003e\",\"legendgroup\":\"15 min\",\"marker\":{\"color\":\"#B69FCF\",\"pattern\":{\"shape\":\"\"}},\"name\":\"15 min\",\"offsetgroup\":\"15 min\",\"orientation\":\"v\",\"showlegend\":true,\"text\":[2.0],\"textposition\":\"outside\",\"x\":[\"15 min\"],\"xaxis\":\"x\",\"y\":[2],\"yaxis\":\"y\",\"type\":\"bar\"},{\"alignmentgroup\":\"True\",\"hovertemplate\":\"color=180 min\\u003cbr\\u003eduration=%{x}\\u003cbr\\u003eFrequency=%{y}\\u003cbr\\u003etext=%{text}\\u003cextra\\u003e\\u003c\\u002fextra\\u003e\",\"legendgroup\":\"180 min\",\"marker\":{\"color\":\"#560C73\",\"pattern\":{\"shape\":\"\"}},\"name\":\"180 min\",\"offsetgroup\":\"180 min\",\"orientation\":\"v\",\"showlegend\":true,\"text\":[2.0],\"textposition\":\"outside\",\"x\":[\"180 min\"],\"xaxis\":\"x\",\"y\":[2],\"yaxis\":\"y\",\"type\":\"bar\"},{\"alignmentgroup\":\"True\",\"hovertemplate\":\"color=174 min\\u003cbr\\u003eduration=%{x}\\u003cbr\\u003eFrequency=%{y}\\u003cbr\\u003etext=%{text}\\u003cextra\\u003e\\u003c\\u002fextra\\u003e\",\"legendgroup\":\"174 min\",\"marker\":{\"color\":\"#A21B85\",\"pattern\":{\"shape\":\"\"}},\"name\":\"174 min\",\"offsetgroup\":\"174 min\",\"orientation\":\"v\",\"showlegend\":true,\"text\":[2.0],\"textposition\":\"outside\",\"x\":[\"174 min\"],\"xaxis\":\"x\",\"y\":[2],\"yaxis\":\"y\",\"type\":\"bar\"},{\"alignmentgroup\":\"True\",\"hovertemplate\":\"color=34 min\\u003cbr\\u003eduration=%{x}\\u003cbr\\u003eFrequency=%{y}\\u003cbr\\u003etext=%{text}\\u003cextra\\u003e\\u003c\\u002fextra\\u003e\",\"legendgroup\":\"34 min\",\"marker\":{\"color\":\"#75AB34\",\"pattern\":{\"shape\":\"\"}},\"name\":\"34 min\",\"offsetgroup\":\"34 min\",\"orientation\":\"v\",\"showlegend\":true,\"text\":[2.0],\"textposition\":\"outside\",\"x\":[\"34 min\"],\"xaxis\":\"x\",\"y\":[2],\"yaxis\":\"y\",\"type\":\"bar\"},{\"alignmentgroup\":\"True\",\"hovertemplate\":\"color=195 min\\u003cbr\\u003eduration=%{x}\\u003cbr\\u003eFrequency=%{y}\\u003cbr\\u003etext=%{text}\\u003cextra\\u003e\\u003c\\u002fextra\\u003e\",\"legendgroup\":\"195 min\",\"marker\":{\"color\":\"#BBBC1E\",\"pattern\":{\"shape\":\"\"}},\"name\":\"195 min\",\"offsetgroup\":\"195 min\",\"orientation\":\"v\",\"showlegend\":true,\"text\":[2.0],\"textposition\":\"outside\",\"x\":[\"195 min\"],\"xaxis\":\"x\",\"y\":[2],\"yaxis\":\"y\",\"type\":\"bar\"},{\"alignmentgroup\":\"True\",\"hovertemplate\":\"color=19 min\\u003cbr\\u003eduration=%{x}\\u003cbr\\u003eFrequency=%{y}\\u003cbr\\u003etext=%{text}\\u003cextra\\u003e\\u003c\\u002fextra\\u003e\",\"legendgroup\":\"19 min\",\"marker\":{\"color\":\"#7A1A20\",\"pattern\":{\"shape\":\"\"}},\"name\":\"19 min\",\"offsetgroup\":\"19 min\",\"orientation\":\"v\",\"showlegend\":true,\"text\":[2.0],\"textposition\":\"outside\",\"x\":[\"19 min\"],\"xaxis\":\"x\",\"y\":[2],\"yaxis\":\"y\",\"type\":\"bar\"},{\"alignmentgroup\":\"True\",\"hovertemplate\":\"color=187 min\\u003cbr\\u003eduration=%{x}\\u003cbr\\u003eFrequency=%{y}\\u003cbr\\u003etext=%{text}\\u003cextra\\u003e\\u003c\\u002fextra\\u003e\",\"legendgroup\":\"187 min\",\"marker\":{\"color\":\"#556702\",\"pattern\":{\"shape\":\"\"}},\"name\":\"187 min\",\"offsetgroup\":\"187 min\",\"orientation\":\"v\",\"showlegend\":true,\"text\":[2.0],\"textposition\":\"outside\",\"x\":[\"187 min\"],\"xaxis\":\"x\",\"y\":[2],\"yaxis\":\"y\",\"type\":\"bar\"},{\"alignmentgroup\":\"True\",\"hovertemplate\":\"color=12 Seasons\\u003cbr\\u003eduration=%{x}\\u003cbr\\u003eFrequency=%{y}\\u003cbr\\u003etext=%{text}\\u003cextra\\u003e\\u003c\\u002fextra\\u003e\",\"legendgroup\":\"12 Seasons\",\"marker\":{\"color\":\"#9940CF\",\"pattern\":{\"shape\":\"\"}},\"name\":\"12 Seasons\",\"offsetgroup\":\"12 Seasons\",\"orientation\":\"v\",\"showlegend\":true,\"text\":[2.0],\"textposition\":\"outside\",\"x\":[\"12 Seasons\"],\"xaxis\":\"x\",\"y\":[2],\"yaxis\":\"y\",\"type\":\"bar\"},{\"alignmentgroup\":\"True\",\"hovertemplate\":\"color=13 Seasons\\u003cbr\\u003eduration=%{x}\\u003cbr\\u003eFrequency=%{y}\\u003cbr\\u003etext=%{text}\\u003cextra\\u003e\\u003c\\u002fextra\\u003e\",\"legendgroup\":\"13 Seasons\",\"marker\":{\"color\":\"#B4D56D\",\"pattern\":{\"shape\":\"\"}},\"name\":\"13 Seasons\",\"offsetgroup\":\"13 Seasons\",\"orientation\":\"v\",\"showlegend\":true,\"text\":[2.0],\"textposition\":\"outside\",\"x\":[\"13 Seasons\"],\"xaxis\":\"x\",\"y\":[2],\"yaxis\":\"y\",\"type\":\"bar\"},{\"alignmentgroup\":\"True\",\"hovertemplate\":\"color=179 min\\u003cbr\\u003eduration=%{x}\\u003cbr\\u003eFrequency=%{y}\\u003cbr\\u003etext=%{text}\\u003cextra\\u003e\\u003c\\u002fextra\\u003e\",\"legendgroup\":\"179 min\",\"marker\":{\"color\":\"#A78A0B\",\"pattern\":{\"shape\":\"\"}},\"name\":\"179 min\",\"offsetgroup\":\"179 min\",\"orientation\":\"v\",\"showlegend\":true,\"text\":[2.0],\"textposition\":\"outside\",\"x\":[\"179 min\"],\"xaxis\":\"x\",\"y\":[2],\"yaxis\":\"y\",\"type\":\"bar\"},{\"alignmentgroup\":\"True\",\"hovertemplate\":\"color=15 Seasons\\u003cbr\\u003eduration=%{x}\\u003cbr\\u003eFrequency=%{y}\\u003cbr\\u003etext=%{text}\\u003cextra\\u003e\\u003c\\u002fextra\\u003e\",\"legendgroup\":\"15 Seasons\",\"marker\":{\"color\":\"#3C7820\",\"pattern\":{\"shape\":\"\"}},\"name\":\"15 Seasons\",\"offsetgroup\":\"15 Seasons\",\"orientation\":\"v\",\"showlegend\":true,\"text\":[2.0],\"textposition\":\"outside\",\"x\":[\"15 Seasons\"],\"xaxis\":\"x\",\"y\":[2],\"yaxis\":\"y\",\"type\":\"bar\"},{\"alignmentgroup\":\"True\",\"hovertemplate\":\"color=31 min\\u003cbr\\u003eduration=%{x}\\u003cbr\\u003eFrequency=%{y}\\u003cbr\\u003etext=%{text}\\u003cextra\\u003e\\u003c\\u002fextra\\u003e\",\"legendgroup\":\"31 min\",\"marker\":{\"color\":\"#E88E0F\",\"pattern\":{\"shape\":\"\"}},\"name\":\"31 min\",\"offsetgroup\":\"31 min\",\"orientation\":\"v\",\"showlegend\":true,\"text\":[2.0],\"textposition\":\"outside\",\"x\":[\"31 min\"],\"xaxis\":\"x\",\"y\":[2],\"yaxis\":\"y\",\"type\":\"bar\"},{\"alignmentgroup\":\"True\",\"hovertemplate\":\"color=192 min\\u003cbr\\u003eduration=%{x}\\u003cbr\\u003eFrequency=%{y}\\u003cbr\\u003etext=%{text}\\u003cextra\\u003e\\u003c\\u002fextra\\u003e\",\"legendgroup\":\"192 min\",\"marker\":{\"color\":\"#241FA6\",\"pattern\":{\"shape\":\"\"}},\"name\":\"192 min\",\"offsetgroup\":\"192 min\",\"orientation\":\"v\",\"showlegend\":true,\"text\":[2.0],\"textposition\":\"outside\",\"x\":[\"192 min\"],\"xaxis\":\"x\",\"y\":[2],\"yaxis\":\"y\",\"type\":\"bar\"},{\"alignmentgroup\":\"True\",\"hovertemplate\":\"color=190 min\\u003cbr\\u003eduration=%{x}\\u003cbr\\u003eFrequency=%{y}\\u003cbr\\u003etext=%{text}\\u003cextra\\u003e\\u003c\\u002fextra\\u003e\",\"legendgroup\":\"190 min\",\"marker\":{\"color\":\"#6F2B61\",\"pattern\":{\"shape\":\"\"}},\"name\":\"190 min\",\"offsetgroup\":\"190 min\",\"orientation\":\"v\",\"showlegend\":true,\"text\":[2.0],\"textposition\":\"outside\",\"x\":[\"190 min\"],\"xaxis\":\"x\",\"y\":[2],\"yaxis\":\"y\",\"type\":\"bar\"},{\"alignmentgroup\":\"True\",\"hovertemplate\":\"color=11 min\\u003cbr\\u003eduration=%{x}\\u003cbr\\u003eFrequency=%{y}\\u003cbr\\u003etext=%{text}\\u003cextra\\u003e\\u003c\\u002fextra\\u003e\",\"legendgroup\":\"11 min\",\"marker\":{\"color\":\"#35B345\",\"pattern\":{\"shape\":\"\"}},\"name\":\"11 min\",\"offsetgroup\":\"11 min\",\"orientation\":\"v\",\"showlegend\":true,\"text\":[2.0],\"textposition\":\"outside\",\"x\":[\"11 min\"],\"xaxis\":\"x\",\"y\":[2],\"yaxis\":\"y\",\"type\":\"bar\"},{\"alignmentgroup\":\"True\",\"hovertemplate\":\"color=209 min\\u003cbr\\u003eduration=%{x}\\u003cbr\\u003eFrequency=%{y}\\u003cbr\\u003etext=%{text}\\u003cextra\\u003e\\u003c\\u002fextra\\u003e\",\"legendgroup\":\"209 min\",\"marker\":{\"color\":\"#FC929A\",\"pattern\":{\"shape\":\"\"}},\"name\":\"209 min\",\"offsetgroup\":\"209 min\",\"orientation\":\"v\",\"showlegend\":true,\"text\":[2.0],\"textposition\":\"outside\",\"x\":[\"209 min\"],\"xaxis\":\"x\",\"y\":[2],\"yaxis\":\"y\",\"type\":\"bar\"},{\"alignmentgroup\":\"True\",\"hovertemplate\":\"color=169 min\\u003cbr\\u003eduration=%{x}\\u003cbr\\u003eFrequency=%{y}\\u003cbr\\u003etext=%{text}\\u003cextra\\u003e\\u003c\\u002fextra\\u003e\",\"legendgroup\":\"169 min\",\"marker\":{\"color\":\"#D18E88\",\"pattern\":{\"shape\":\"\"}},\"name\":\"169 min\",\"offsetgroup\":\"169 min\",\"orientation\":\"v\",\"showlegend\":true,\"text\":[2.0],\"textposition\":\"outside\",\"x\":[\"169 min\"],\"xaxis\":\"x\",\"y\":[2],\"yaxis\":\"y\",\"type\":\"bar\"},{\"alignmentgroup\":\"True\",\"hovertemplate\":\"color=12 min\\u003cbr\\u003eduration=%{x}\\u003cbr\\u003eFrequency=%{y}\\u003cbr\\u003etext=%{text}\\u003cextra\\u003e\\u003c\\u002fextra\\u003e\",\"legendgroup\":\"12 min\",\"marker\":{\"color\":\"#1A4A2A\",\"pattern\":{\"shape\":\"\"}},\"name\":\"12 min\",\"offsetgroup\":\"12 min\",\"orientation\":\"v\",\"showlegend\":true,\"text\":[2.0],\"textposition\":\"outside\",\"x\":[\"12 min\"],\"xaxis\":\"x\",\"y\":[2],\"yaxis\":\"y\",\"type\":\"bar\"},{\"alignmentgroup\":\"True\",\"hovertemplate\":\"color=10 min\\u003cbr\\u003eduration=%{x}\\u003cbr\\u003eFrequency=%{y}\\u003cbr\\u003etext=%{text}\\u003cextra\\u003e\\u003c\\u002fextra\\u003e\",\"legendgroup\":\"10 min\",\"marker\":{\"color\":\"#CB6950\",\"pattern\":{\"shape\":\"\"}},\"name\":\"10 min\",\"offsetgroup\":\"10 min\",\"orientation\":\"v\",\"showlegend\":true,\"text\":[1.0],\"textposition\":\"outside\",\"x\":[\"10 min\"],\"xaxis\":\"x\",\"y\":[1],\"yaxis\":\"y\",\"type\":\"bar\"},{\"alignmentgroup\":\"True\",\"hovertemplate\":\"color=186 min\\u003cbr\\u003eduration=%{x}\\u003cbr\\u003eFrequency=%{y}\\u003cbr\\u003etext=%{text}\\u003cextra\\u003e\\u003c\\u002fextra\\u003e\",\"legendgroup\":\"186 min\",\"marker\":{\"color\":\"#19D6E6\",\"pattern\":{\"shape\":\"\"}},\"name\":\"186 min\",\"offsetgroup\":\"186 min\",\"orientation\":\"v\",\"showlegend\":true,\"text\":[1.0],\"textposition\":\"outside\",\"x\":[\"186 min\"],\"xaxis\":\"x\",\"y\":[1],\"yaxis\":\"y\",\"type\":\"bar\"},{\"alignmentgroup\":\"True\",\"hovertemplate\":\"color=312 min\\u003cbr\\u003eduration=%{x}\\u003cbr\\u003eFrequency=%{y}\\u003cbr\\u003etext=%{text}\\u003cextra\\u003e\\u003c\\u002fextra\\u003e\",\"legendgroup\":\"312 min\",\"marker\":{\"color\":\"#B79A78\",\"pattern\":{\"shape\":\"\"}},\"name\":\"312 min\",\"offsetgroup\":\"312 min\",\"orientation\":\"v\",\"showlegend\":true,\"text\":[1.0],\"textposition\":\"outside\",\"x\":[\"312 min\"],\"xaxis\":\"x\",\"y\":[1],\"yaxis\":\"y\",\"type\":\"bar\"},{\"alignmentgroup\":\"True\",\"hovertemplate\":\"color=214 min\\u003cbr\\u003eduration=%{x}\\u003cbr\\u003eFrequency=%{y}\\u003cbr\\u003etext=%{text}\\u003cextra\\u003e\\u003c\\u002fextra\\u003e\",\"legendgroup\":\"214 min\",\"marker\":{\"color\":\"#050F25\",\"pattern\":{\"shape\":\"\"}},\"name\":\"214 min\",\"offsetgroup\":\"214 min\",\"orientation\":\"v\",\"showlegend\":true,\"text\":[1.0],\"textposition\":\"outside\",\"x\":[\"214 min\"],\"xaxis\":\"x\",\"y\":[1],\"yaxis\":\"y\",\"type\":\"bar\"},{\"alignmentgroup\":\"True\",\"hovertemplate\":\"color=193 min\\u003cbr\\u003eduration=%{x}\\u003cbr\\u003eFrequency=%{y}\\u003cbr\\u003etext=%{text}\\u003cextra\\u003e\\u003c\\u002fextra\\u003e\",\"legendgroup\":\"193 min\",\"marker\":{\"color\":\"#C990C2\",\"pattern\":{\"shape\":\"\"}},\"name\":\"193 min\",\"offsetgroup\":\"193 min\",\"orientation\":\"v\",\"showlegend\":true,\"text\":[1.0],\"textposition\":\"outside\",\"x\":[\"193 min\"],\"xaxis\":\"x\",\"y\":[1],\"yaxis\":\"y\",\"type\":\"bar\"},{\"alignmentgroup\":\"True\",\"hovertemplate\":\"color=13 min\\u003cbr\\u003eduration=%{x}\\u003cbr\\u003eFrequency=%{y}\\u003cbr\\u003etext=%{text}\\u003cextra\\u003e\\u003c\\u002fextra\\u003e\",\"legendgroup\":\"13 min\",\"marker\":{\"color\":\"#1B5464\",\"pattern\":{\"shape\":\"\"}},\"name\":\"13 min\",\"offsetgroup\":\"13 min\",\"orientation\":\"v\",\"showlegend\":true,\"text\":[1.0],\"textposition\":\"outside\",\"x\":[\"13 min\"],\"xaxis\":\"x\",\"y\":[1],\"yaxis\":\"y\",\"type\":\"bar\"},{\"alignmentgroup\":\"True\",\"hovertemplate\":\"color=167 min\\u003cbr\\u003eduration=%{x}\\u003cbr\\u003eFrequency=%{y}\\u003cbr\\u003etext=%{text}\\u003cextra\\u003e\\u003c\\u002fextra\\u003e\",\"legendgroup\":\"167 min\",\"marker\":{\"color\":\"#A81DCC\",\"pattern\":{\"shape\":\"\"}},\"name\":\"167 min\",\"offsetgroup\":\"167 min\",\"orientation\":\"v\",\"showlegend\":true,\"text\":[1.0],\"textposition\":\"outside\",\"x\":[\"167 min\"],\"xaxis\":\"x\",\"y\":[1],\"yaxis\":\"y\",\"type\":\"bar\"},{\"alignmentgroup\":\"True\",\"hovertemplate\":\"color=200 min\\u003cbr\\u003eduration=%{x}\\u003cbr\\u003eFrequency=%{y}\\u003cbr\\u003etext=%{text}\\u003cextra\\u003e\\u003c\\u002fextra\\u003e\",\"legendgroup\":\"200 min\",\"marker\":{\"color\":\"#7B78EA\",\"pattern\":{\"shape\":\"\"}},\"name\":\"200 min\",\"offsetgroup\":\"200 min\",\"orientation\":\"v\",\"showlegend\":true,\"text\":[1.0],\"textposition\":\"outside\",\"x\":[\"200 min\"],\"xaxis\":\"x\",\"y\":[1],\"yaxis\":\"y\",\"type\":\"bar\"},{\"alignmentgroup\":\"True\",\"hovertemplate\":\"color=196 min\\u003cbr\\u003eduration=%{x}\\u003cbr\\u003eFrequency=%{y}\\u003cbr\\u003etext=%{text}\\u003cextra\\u003e\\u003c\\u002fextra\\u003e\",\"legendgroup\":\"196 min\",\"marker\":{\"color\":\"#765525\",\"pattern\":{\"shape\":\"\"}},\"name\":\"196 min\",\"offsetgroup\":\"196 min\",\"orientation\":\"v\",\"showlegend\":true,\"text\":[1.0],\"textposition\":\"outside\",\"x\":[\"196 min\"],\"xaxis\":\"x\",\"y\":[1],\"yaxis\":\"y\",\"type\":\"bar\"},{\"alignmentgroup\":\"True\",\"hovertemplate\":\"color=204 min\\u003cbr\\u003eduration=%{x}\\u003cbr\\u003eFrequency=%{y}\\u003cbr\\u003etext=%{text}\\u003cextra\\u003e\\u003c\\u002fextra\\u003e\",\"legendgroup\":\"204 min\",\"marker\":{\"color\":\"#F3D1C2\",\"pattern\":{\"shape\":\"\"}},\"name\":\"204 min\",\"offsetgroup\":\"204 min\",\"orientation\":\"v\",\"showlegend\":true,\"text\":[1.0],\"textposition\":\"outside\",\"x\":[\"204 min\"],\"xaxis\":\"x\",\"y\":[1],\"yaxis\":\"y\",\"type\":\"bar\"},{\"alignmentgroup\":\"True\",\"hovertemplate\":\"color=8 min\\u003cbr\\u003eduration=%{x}\\u003cbr\\u003eFrequency=%{y}\\u003cbr\\u003etext=%{text}\\u003cextra\\u003e\\u003c\\u002fextra\\u003e\",\"legendgroup\":\"8 min\",\"marker\":{\"color\":\"#9E9D2A\",\"pattern\":{\"shape\":\"\"}},\"name\":\"8 min\",\"offsetgroup\":\"8 min\",\"orientation\":\"v\",\"showlegend\":true,\"text\":[1.0],\"textposition\":\"outside\",\"x\":[\"8 min\"],\"xaxis\":\"x\",\"y\":[1],\"yaxis\":\"y\",\"type\":\"bar\"},{\"alignmentgroup\":\"True\",\"hovertemplate\":\"color=9 min\\u003cbr\\u003eduration=%{x}\\u003cbr\\u003eFrequency=%{y}\\u003cbr\\u003etext=%{text}\\u003cextra\\u003e\\u003c\\u002fextra\\u003e\",\"legendgroup\":\"9 min\",\"marker\":{\"color\":\"#05C494\",\"pattern\":{\"shape\":\"\"}},\"name\":\"9 min\",\"offsetgroup\":\"9 min\",\"orientation\":\"v\",\"showlegend\":true,\"text\":[1.0],\"textposition\":\"outside\",\"x\":[\"9 min\"],\"xaxis\":\"x\",\"y\":[1],\"yaxis\":\"y\",\"type\":\"bar\"},{\"alignmentgroup\":\"True\",\"hovertemplate\":\"color=43 min\\u003cbr\\u003eduration=%{x}\\u003cbr\\u003eFrequency=%{y}\\u003cbr\\u003etext=%{text}\\u003cextra\\u003e\\u003c\\u002fextra\\u003e\",\"legendgroup\":\"43 min\",\"marker\":{\"color\":\"#BA5241\",\"pattern\":{\"shape\":\"\"}},\"name\":\"43 min\",\"offsetgroup\":\"43 min\",\"orientation\":\"v\",\"showlegend\":true,\"text\":[1.0],\"textposition\":\"outside\",\"x\":[\"43 min\"],\"xaxis\":\"x\",\"y\":[1],\"yaxis\":\"y\",\"type\":\"bar\"},{\"alignmentgroup\":\"True\",\"hovertemplate\":\"color=16 Seasons\\u003cbr\\u003eduration=%{x}\\u003cbr\\u003eFrequency=%{y}\\u003cbr\\u003etext=%{text}\\u003cextra\\u003e\\u003c\\u002fextra\\u003e\",\"legendgroup\":\"16 Seasons\",\"marker\":{\"color\":\"#D416FE\",\"pattern\":{\"shape\":\"\"}},\"name\":\"16 Seasons\",\"offsetgroup\":\"16 Seasons\",\"orientation\":\"v\",\"showlegend\":true,\"text\":[1.0],\"textposition\":\"outside\",\"x\":[\"16 Seasons\"],\"xaxis\":\"x\",\"y\":[1],\"yaxis\":\"y\",\"type\":\"bar\"},{\"alignmentgroup\":\"True\",\"hovertemplate\":\"color=233 min\\u003cbr\\u003eduration=%{x}\\u003cbr\\u003eFrequency=%{y}\\u003cbr\\u003etext=%{text}\\u003cextra\\u003e\\u003c\\u002fextra\\u003e\",\"legendgroup\":\"233 min\",\"marker\":{\"color\":\"#DFA7C2\",\"pattern\":{\"shape\":\"\"}},\"name\":\"233 min\",\"offsetgroup\":\"233 min\",\"orientation\":\"v\",\"showlegend\":true,\"text\":[1.0],\"textposition\":\"outside\",\"x\":[\"233 min\"],\"xaxis\":\"x\",\"y\":[1],\"yaxis\":\"y\",\"type\":\"bar\"},{\"alignmentgroup\":\"True\",\"hovertemplate\":\"color=189 min\\u003cbr\\u003eduration=%{x}\\u003cbr\\u003eFrequency=%{y}\\u003cbr\\u003etext=%{text}\\u003cextra\\u003e\\u003c\\u002fextra\\u003e\",\"legendgroup\":\"189 min\",\"marker\":{\"color\":\"#A08562\",\"pattern\":{\"shape\":\"\"}},\"name\":\"189 min\",\"offsetgroup\":\"189 min\",\"orientation\":\"v\",\"showlegend\":true,\"text\":[1.0],\"textposition\":\"outside\",\"x\":[\"189 min\"],\"xaxis\":\"x\",\"y\":[1],\"yaxis\":\"y\",\"type\":\"bar\"},{\"alignmentgroup\":\"True\",\"hovertemplate\":\"color=224 min\\u003cbr\\u003eduration=%{x}\\u003cbr\\u003eFrequency=%{y}\\u003cbr\\u003etext=%{text}\\u003cextra\\u003e\\u003c\\u002fextra\\u003e\",\"legendgroup\":\"224 min\",\"marker\":{\"color\":\"#88CCC1\",\"pattern\":{\"shape\":\"\"}},\"name\":\"224 min\",\"offsetgroup\":\"224 min\",\"orientation\":\"v\",\"showlegend\":true,\"text\":[1.0],\"textposition\":\"outside\",\"x\":[\"224 min\"],\"xaxis\":\"x\",\"y\":[1],\"yaxis\":\"y\",\"type\":\"bar\"},{\"alignmentgroup\":\"True\",\"hovertemplate\":\"color=182 min\\u003cbr\\u003eduration=%{x}\\u003cbr\\u003eFrequency=%{y}\\u003cbr\\u003etext=%{text}\\u003cextra\\u003e\\u003c\\u002fextra\\u003e\",\"legendgroup\":\"182 min\",\"marker\":{\"color\":\"#A9E0A1\",\"pattern\":{\"shape\":\"\"}},\"name\":\"182 min\",\"offsetgroup\":\"182 min\",\"orientation\":\"v\",\"showlegend\":true,\"text\":[1.0],\"textposition\":\"outside\",\"x\":[\"182 min\"],\"xaxis\":\"x\",\"y\":[1],\"yaxis\":\"y\",\"type\":\"bar\"},{\"alignmentgroup\":\"True\",\"hovertemplate\":\"color=237 min\\u003cbr\\u003eduration=%{x}\\u003cbr\\u003eFrequency=%{y}\\u003cbr\\u003etext=%{text}\\u003cextra\\u003e\\u003c\\u002fextra\\u003e\",\"legendgroup\":\"237 min\",\"marker\":{\"color\":\"#498505\",\"pattern\":{\"shape\":\"\"}},\"name\":\"237 min\",\"offsetgroup\":\"237 min\",\"orientation\":\"v\",\"showlegend\":true,\"text\":[1.0],\"textposition\":\"outside\",\"x\":[\"237 min\"],\"xaxis\":\"x\",\"y\":[1],\"yaxis\":\"y\",\"type\":\"bar\"},{\"alignmentgroup\":\"True\",\"hovertemplate\":\"color=208 min\\u003cbr\\u003eduration=%{x}\\u003cbr\\u003eFrequency=%{y}\\u003cbr\\u003etext=%{text}\\u003cextra\\u003e\\u003c\\u002fextra\\u003e\",\"legendgroup\":\"208 min\",\"marker\":{\"color\":\"#3184A1\",\"pattern\":{\"shape\":\"\"}},\"name\":\"208 min\",\"offsetgroup\":\"208 min\",\"orientation\":\"v\",\"showlegend\":true,\"text\":[1.0],\"textposition\":\"outside\",\"x\":[\"208 min\"],\"xaxis\":\"x\",\"y\":[1],\"yaxis\":\"y\",\"type\":\"bar\"},{\"alignmentgroup\":\"True\",\"hovertemplate\":\"color=194 min\\u003cbr\\u003eduration=%{x}\\u003cbr\\u003eFrequency=%{y}\\u003cbr\\u003etext=%{text}\\u003cextra\\u003e\\u003c\\u002fextra\\u003e\",\"legendgroup\":\"194 min\",\"marker\":{\"color\":\"#2A5BEE\",\"pattern\":{\"shape\":\"\"}},\"name\":\"194 min\",\"offsetgroup\":\"194 min\",\"orientation\":\"v\",\"showlegend\":true,\"text\":[1.0],\"textposition\":\"outside\",\"x\":[\"194 min\"],\"xaxis\":\"x\",\"y\":[1],\"yaxis\":\"y\",\"type\":\"bar\"},{\"alignmentgroup\":\"True\",\"hovertemplate\":\"color=178 min\\u003cbr\\u003eduration=%{x}\\u003cbr\\u003eFrequency=%{y}\\u003cbr\\u003etext=%{text}\\u003cextra\\u003e\\u003c\\u002fextra\\u003e\",\"legendgroup\":\"178 min\",\"marker\":{\"color\":\"#880339\",\"pattern\":{\"shape\":\"\"}},\"name\":\"178 min\",\"offsetgroup\":\"178 min\",\"orientation\":\"v\",\"showlegend\":true,\"text\":[1.0],\"textposition\":\"outside\",\"x\":[\"178 min\"],\"xaxis\":\"x\",\"y\":[1],\"yaxis\":\"y\",\"type\":\"bar\"},{\"alignmentgroup\":\"True\",\"hovertemplate\":\"color=228 min\\u003cbr\\u003eduration=%{x}\\u003cbr\\u003eFrequency=%{y}\\u003cbr\\u003etext=%{text}\\u003cextra\\u003e\\u003c\\u002fextra\\u003e\",\"legendgroup\":\"228 min\",\"marker\":{\"color\":\"#EA1E13\",\"pattern\":{\"shape\":\"\"}},\"name\":\"228 min\",\"offsetgroup\":\"228 min\",\"orientation\":\"v\",\"showlegend\":true,\"text\":[1.0],\"textposition\":\"outside\",\"x\":[\"228 min\"],\"xaxis\":\"x\",\"y\":[1],\"yaxis\":\"y\",\"type\":\"bar\"},{\"alignmentgroup\":\"True\",\"hovertemplate\":\"color=3 min\\u003cbr\\u003eduration=%{x}\\u003cbr\\u003eFrequency=%{y}\\u003cbr\\u003etext=%{text}\\u003cextra\\u003e\\u003c\\u002fextra\\u003e\",\"legendgroup\":\"3 min\",\"marker\":{\"color\":\"#9209CF\",\"pattern\":{\"shape\":\"\"}},\"name\":\"3 min\",\"offsetgroup\":\"3 min\",\"orientation\":\"v\",\"showlegend\":true,\"text\":[1.0],\"textposition\":\"outside\",\"x\":[\"3 min\"],\"xaxis\":\"x\",\"y\":[1],\"yaxis\":\"y\",\"type\":\"bar\"},{\"alignmentgroup\":\"True\",\"hovertemplate\":\"color=16 min\\u003cbr\\u003eduration=%{x}\\u003cbr\\u003eFrequency=%{y}\\u003cbr\\u003etext=%{text}\\u003cextra\\u003e\\u003c\\u002fextra\\u003e\",\"legendgroup\":\"16 min\",\"marker\":{\"color\":\"#AE95C2\",\"pattern\":{\"shape\":\"\"}},\"name\":\"16 min\",\"offsetgroup\":\"16 min\",\"orientation\":\"v\",\"showlegend\":true,\"text\":[1.0],\"textposition\":\"outside\",\"x\":[\"16 min\"],\"xaxis\":\"x\",\"y\":[1],\"yaxis\":\"y\",\"type\":\"bar\"},{\"alignmentgroup\":\"True\",\"hovertemplate\":\"color=230 min\\u003cbr\\u003eduration=%{x}\\u003cbr\\u003eFrequency=%{y}\\u003cbr\\u003etext=%{text}\\u003cextra\\u003e\\u003c\\u002fextra\\u003e\",\"legendgroup\":\"230 min\",\"marker\":{\"color\":\"#C534E5\",\"pattern\":{\"shape\":\"\"}},\"name\":\"230 min\",\"offsetgroup\":\"230 min\",\"orientation\":\"v\",\"showlegend\":true,\"text\":[1.0],\"textposition\":\"outside\",\"x\":[\"230 min\"],\"xaxis\":\"x\",\"y\":[1],\"yaxis\":\"y\",\"type\":\"bar\"},{\"alignmentgroup\":\"True\",\"hovertemplate\":\"color=5 min\\u003cbr\\u003eduration=%{x}\\u003cbr\\u003eFrequency=%{y}\\u003cbr\\u003etext=%{text}\\u003cextra\\u003e\\u003c\\u002fextra\\u003e\",\"legendgroup\":\"5 min\",\"marker\":{\"color\":\"#FD8482\",\"pattern\":{\"shape\":\"\"}},\"name\":\"5 min\",\"offsetgroup\":\"5 min\",\"orientation\":\"v\",\"showlegend\":true,\"text\":[1.0],\"textposition\":\"outside\",\"x\":[\"5 min\"],\"xaxis\":\"x\",\"y\":[1],\"yaxis\":\"y\",\"type\":\"bar\"},{\"alignmentgroup\":\"True\",\"hovertemplate\":\"color=18 min\\u003cbr\\u003eduration=%{x}\\u003cbr\\u003eFrequency=%{y}\\u003cbr\\u003etext=%{text}\\u003cextra\\u003e\\u003c\\u002fextra\\u003e\",\"legendgroup\":\"18 min\",\"marker\":{\"color\":\"#DB20E1\",\"pattern\":{\"shape\":\"\"}},\"name\":\"18 min\",\"offsetgroup\":\"18 min\",\"orientation\":\"v\",\"showlegend\":true,\"text\":[1.0],\"textposition\":\"outside\",\"x\":[\"18 min\"],\"xaxis\":\"x\",\"y\":[1],\"yaxis\":\"y\",\"type\":\"bar\"},{\"alignmentgroup\":\"True\",\"hovertemplate\":\"color=205 min\\u003cbr\\u003eduration=%{x}\\u003cbr\\u003eFrequency=%{y}\\u003cbr\\u003etext=%{text}\\u003cextra\\u003e\\u003c\\u002fextra\\u003e\",\"legendgroup\":\"205 min\",\"marker\":{\"color\":\"#1AF7F9\",\"pattern\":{\"shape\":\"\"}},\"name\":\"205 min\",\"offsetgroup\":\"205 min\",\"orientation\":\"v\",\"showlegend\":true,\"text\":[1.0],\"textposition\":\"outside\",\"x\":[\"205 min\"],\"xaxis\":\"x\",\"y\":[1],\"yaxis\":\"y\",\"type\":\"bar\"},{\"alignmentgroup\":\"True\",\"hovertemplate\":\"color=36 min\\u003cbr\\u003eduration=%{x}\\u003cbr\\u003eFrequency=%{y}\\u003cbr\\u003etext=%{text}\\u003cextra\\u003e\\u003c\\u002fextra\\u003e\",\"legendgroup\":\"36 min\",\"marker\":{\"color\":\"#974B62\",\"pattern\":{\"shape\":\"\"}},\"name\":\"36 min\",\"offsetgroup\":\"36 min\",\"orientation\":\"v\",\"showlegend\":true,\"text\":[1.0],\"textposition\":\"outside\",\"x\":[\"36 min\"],\"xaxis\":\"x\",\"y\":[1],\"yaxis\":\"y\",\"type\":\"bar\"},{\"alignmentgroup\":\"True\",\"hovertemplate\":\"color=201 min\\u003cbr\\u003eduration=%{x}\\u003cbr\\u003eFrequency=%{y}\\u003cbr\\u003etext=%{text}\\u003cextra\\u003e\\u003c\\u002fextra\\u003e\",\"legendgroup\":\"201 min\",\"marker\":{\"color\":\"#00AEA9\",\"pattern\":{\"shape\":\"\"}},\"name\":\"201 min\",\"offsetgroup\":\"201 min\",\"orientation\":\"v\",\"showlegend\":true,\"text\":[1.0],\"textposition\":\"outside\",\"x\":[\"201 min\"],\"xaxis\":\"x\",\"y\":[1],\"yaxis\":\"y\",\"type\":\"bar\"},{\"alignmentgroup\":\"True\",\"hovertemplate\":\"color=253 min\\u003cbr\\u003eduration=%{x}\\u003cbr\\u003eFrequency=%{y}\\u003cbr\\u003etext=%{text}\\u003cextra\\u003e\\u003c\\u002fextra\\u003e\",\"legendgroup\":\"253 min\",\"marker\":{\"color\":\"#3A235A\",\"pattern\":{\"shape\":\"\"}},\"name\":\"253 min\",\"offsetgroup\":\"253 min\",\"orientation\":\"v\",\"showlegend\":true,\"text\":[1.0],\"textposition\":\"outside\",\"x\":[\"253 min\"],\"xaxis\":\"x\",\"y\":[1],\"yaxis\":\"y\",\"type\":\"bar\"},{\"alignmentgroup\":\"True\",\"hovertemplate\":\"color=203 min\\u003cbr\\u003eduration=%{x}\\u003cbr\\u003eFrequency=%{y}\\u003cbr\\u003etext=%{text}\\u003cextra\\u003e\\u003c\\u002fextra\\u003e\",\"legendgroup\":\"203 min\",\"marker\":{\"color\":\"#1E6CAF\",\"pattern\":{\"shape\":\"\"}},\"name\":\"203 min\",\"offsetgroup\":\"203 min\",\"orientation\":\"v\",\"showlegend\":true,\"text\":[1.0],\"textposition\":\"outside\",\"x\":[\"203 min\"],\"xaxis\":\"x\",\"y\":[1],\"yaxis\":\"y\",\"type\":\"bar\"},{\"alignmentgroup\":\"True\",\"hovertemplate\":\"color=191 min\\u003cbr\\u003eduration=%{x}\\u003cbr\\u003eFrequency=%{y}\\u003cbr\\u003etext=%{text}\\u003cextra\\u003e\\u003c\\u002fextra\\u003e\",\"legendgroup\":\"191 min\",\"marker\":{\"color\":\"#36103B\",\"pattern\":{\"shape\":\"\"}},\"name\":\"191 min\",\"offsetgroup\":\"191 min\",\"orientation\":\"v\",\"showlegend\":true,\"text\":[1.0],\"textposition\":\"outside\",\"x\":[\"191 min\"],\"xaxis\":\"x\",\"y\":[1],\"yaxis\":\"y\",\"type\":\"bar\"}],                        {\"template\":{\"data\":{\"histogram2dcontour\":[{\"type\":\"histogram2dcontour\",\"colorbar\":{\"outlinewidth\":0,\"ticks\":\"\"},\"colorscale\":[[0.0,\"#0d0887\"],[0.1111111111111111,\"#46039f\"],[0.2222222222222222,\"#7201a8\"],[0.3333333333333333,\"#9c179e\"],[0.4444444444444444,\"#bd3786\"],[0.5555555555555556,\"#d8576b\"],[0.6666666666666666,\"#ed7953\"],[0.7777777777777778,\"#fb9f3a\"],[0.8888888888888888,\"#fdca26\"],[1.0,\"#f0f921\"]]}],\"choropleth\":[{\"type\":\"choropleth\",\"colorbar\":{\"outlinewidth\":0,\"ticks\":\"\"}}],\"histogram2d\":[{\"type\":\"histogram2d\",\"colorbar\":{\"outlinewidth\":0,\"ticks\":\"\"},\"colorscale\":[[0.0,\"#0d0887\"],[0.1111111111111111,\"#46039f\"],[0.2222222222222222,\"#7201a8\"],[0.3333333333333333,\"#9c179e\"],[0.4444444444444444,\"#bd3786\"],[0.5555555555555556,\"#d8576b\"],[0.6666666666666666,\"#ed7953\"],[0.7777777777777778,\"#fb9f3a\"],[0.8888888888888888,\"#fdca26\"],[1.0,\"#f0f921\"]]}],\"heatmap\":[{\"type\":\"heatmap\",\"colorbar\":{\"outlinewidth\":0,\"ticks\":\"\"},\"colorscale\":[[0.0,\"#0d0887\"],[0.1111111111111111,\"#46039f\"],[0.2222222222222222,\"#7201a8\"],[0.3333333333333333,\"#9c179e\"],[0.4444444444444444,\"#bd3786\"],[0.5555555555555556,\"#d8576b\"],[0.6666666666666666,\"#ed7953\"],[0.7777777777777778,\"#fb9f3a\"],[0.8888888888888888,\"#fdca26\"],[1.0,\"#f0f921\"]]}],\"heatmapgl\":[{\"type\":\"heatmapgl\",\"colorbar\":{\"outlinewidth\":0,\"ticks\":\"\"},\"colorscale\":[[0.0,\"#0d0887\"],[0.1111111111111111,\"#46039f\"],[0.2222222222222222,\"#7201a8\"],[0.3333333333333333,\"#9c179e\"],[0.4444444444444444,\"#bd3786\"],[0.5555555555555556,\"#d8576b\"],[0.6666666666666666,\"#ed7953\"],[0.7777777777777778,\"#fb9f3a\"],[0.8888888888888888,\"#fdca26\"],[1.0,\"#f0f921\"]]}],\"contourcarpet\":[{\"type\":\"contourcarpet\",\"colorbar\":{\"outlinewidth\":0,\"ticks\":\"\"}}],\"contour\":[{\"type\":\"contour\",\"colorbar\":{\"outlinewidth\":0,\"ticks\":\"\"},\"colorscale\":[[0.0,\"#0d0887\"],[0.1111111111111111,\"#46039f\"],[0.2222222222222222,\"#7201a8\"],[0.3333333333333333,\"#9c179e\"],[0.4444444444444444,\"#bd3786\"],[0.5555555555555556,\"#d8576b\"],[0.6666666666666666,\"#ed7953\"],[0.7777777777777778,\"#fb9f3a\"],[0.8888888888888888,\"#fdca26\"],[1.0,\"#f0f921\"]]}],\"surface\":[{\"type\":\"surface\",\"colorbar\":{\"outlinewidth\":0,\"ticks\":\"\"},\"colorscale\":[[0.0,\"#0d0887\"],[0.1111111111111111,\"#46039f\"],[0.2222222222222222,\"#7201a8\"],[0.3333333333333333,\"#9c179e\"],[0.4444444444444444,\"#bd3786\"],[0.5555555555555556,\"#d8576b\"],[0.6666666666666666,\"#ed7953\"],[0.7777777777777778,\"#fb9f3a\"],[0.8888888888888888,\"#fdca26\"],[1.0,\"#f0f921\"]]}],\"mesh3d\":[{\"type\":\"mesh3d\",\"colorbar\":{\"outlinewidth\":0,\"ticks\":\"\"}}],\"scatter\":[{\"fillpattern\":{\"fillmode\":\"overlay\",\"size\":10,\"solidity\":0.2},\"type\":\"scatter\"}],\"parcoords\":[{\"type\":\"parcoords\",\"line\":{\"colorbar\":{\"outlinewidth\":0,\"ticks\":\"\"}}}],\"scatterpolargl\":[{\"type\":\"scatterpolargl\",\"marker\":{\"colorbar\":{\"outlinewidth\":0,\"ticks\":\"\"}}}],\"bar\":[{\"error_x\":{\"color\":\"#2a3f5f\"},\"error_y\":{\"color\":\"#2a3f5f\"},\"marker\":{\"line\":{\"color\":\"#E5ECF6\",\"width\":0.5},\"pattern\":{\"fillmode\":\"overlay\",\"size\":10,\"solidity\":0.2}},\"type\":\"bar\"}],\"scattergeo\":[{\"type\":\"scattergeo\",\"marker\":{\"colorbar\":{\"outlinewidth\":0,\"ticks\":\"\"}}}],\"scatterpolar\":[{\"type\":\"scatterpolar\",\"marker\":{\"colorbar\":{\"outlinewidth\":0,\"ticks\":\"\"}}}],\"histogram\":[{\"marker\":{\"pattern\":{\"fillmode\":\"overlay\",\"size\":10,\"solidity\":0.2}},\"type\":\"histogram\"}],\"scattergl\":[{\"type\":\"scattergl\",\"marker\":{\"colorbar\":{\"outlinewidth\":0,\"ticks\":\"\"}}}],\"scatter3d\":[{\"type\":\"scatter3d\",\"line\":{\"colorbar\":{\"outlinewidth\":0,\"ticks\":\"\"}},\"marker\":{\"colorbar\":{\"outlinewidth\":0,\"ticks\":\"\"}}}],\"scattermapbox\":[{\"type\":\"scattermapbox\",\"marker\":{\"colorbar\":{\"outlinewidth\":0,\"ticks\":\"\"}}}],\"scatterternary\":[{\"type\":\"scatterternary\",\"marker\":{\"colorbar\":{\"outlinewidth\":0,\"ticks\":\"\"}}}],\"scattercarpet\":[{\"type\":\"scattercarpet\",\"marker\":{\"colorbar\":{\"outlinewidth\":0,\"ticks\":\"\"}}}],\"carpet\":[{\"aaxis\":{\"endlinecolor\":\"#2a3f5f\",\"gridcolor\":\"white\",\"linecolor\":\"white\",\"minorgridcolor\":\"white\",\"startlinecolor\":\"#2a3f5f\"},\"baxis\":{\"endlinecolor\":\"#2a3f5f\",\"gridcolor\":\"white\",\"linecolor\":\"white\",\"minorgridcolor\":\"white\",\"startlinecolor\":\"#2a3f5f\"},\"type\":\"carpet\"}],\"table\":[{\"cells\":{\"fill\":{\"color\":\"#EBF0F8\"},\"line\":{\"color\":\"white\"}},\"header\":{\"fill\":{\"color\":\"#C8D4E3\"},\"line\":{\"color\":\"white\"}},\"type\":\"table\"}],\"barpolar\":[{\"marker\":{\"line\":{\"color\":\"#E5ECF6\",\"width\":0.5},\"pattern\":{\"fillmode\":\"overlay\",\"size\":10,\"solidity\":0.2}},\"type\":\"barpolar\"}],\"pie\":[{\"automargin\":true,\"type\":\"pie\"}]},\"layout\":{\"autotypenumbers\":\"strict\",\"colorway\":[\"#636efa\",\"#EF553B\",\"#00cc96\",\"#ab63fa\",\"#FFA15A\",\"#19d3f3\",\"#FF6692\",\"#B6E880\",\"#FF97FF\",\"#FECB52\"],\"font\":{\"color\":\"#2a3f5f\"},\"hovermode\":\"closest\",\"hoverlabel\":{\"align\":\"left\"},\"paper_bgcolor\":\"white\",\"plot_bgcolor\":\"#E5ECF6\",\"polar\":{\"bgcolor\":\"#E5ECF6\",\"angularaxis\":{\"gridcolor\":\"white\",\"linecolor\":\"white\",\"ticks\":\"\"},\"radialaxis\":{\"gridcolor\":\"white\",\"linecolor\":\"white\",\"ticks\":\"\"}},\"ternary\":{\"bgcolor\":\"#E5ECF6\",\"aaxis\":{\"gridcolor\":\"white\",\"linecolor\":\"white\",\"ticks\":\"\"},\"baxis\":{\"gridcolor\":\"white\",\"linecolor\":\"white\",\"ticks\":\"\"},\"caxis\":{\"gridcolor\":\"white\",\"linecolor\":\"white\",\"ticks\":\"\"}},\"coloraxis\":{\"colorbar\":{\"outlinewidth\":0,\"ticks\":\"\"}},\"colorscale\":{\"sequential\":[[0.0,\"#0d0887\"],[0.1111111111111111,\"#46039f\"],[0.2222222222222222,\"#7201a8\"],[0.3333333333333333,\"#9c179e\"],[0.4444444444444444,\"#bd3786\"],[0.5555555555555556,\"#d8576b\"],[0.6666666666666666,\"#ed7953\"],[0.7777777777777778,\"#fb9f3a\"],[0.8888888888888888,\"#fdca26\"],[1.0,\"#f0f921\"]],\"sequentialminus\":[[0.0,\"#0d0887\"],[0.1111111111111111,\"#46039f\"],[0.2222222222222222,\"#7201a8\"],[0.3333333333333333,\"#9c179e\"],[0.4444444444444444,\"#bd3786\"],[0.5555555555555556,\"#d8576b\"],[0.6666666666666666,\"#ed7953\"],[0.7777777777777778,\"#fb9f3a\"],[0.8888888888888888,\"#fdca26\"],[1.0,\"#f0f921\"]],\"diverging\":[[0,\"#8e0152\"],[0.1,\"#c51b7d\"],[0.2,\"#de77ae\"],[0.3,\"#f1b6da\"],[0.4,\"#fde0ef\"],[0.5,\"#f7f7f7\"],[0.6,\"#e6f5d0\"],[0.7,\"#b8e186\"],[0.8,\"#7fbc41\"],[0.9,\"#4d9221\"],[1,\"#276419\"]]},\"xaxis\":{\"gridcolor\":\"white\",\"linecolor\":\"white\",\"ticks\":\"\",\"title\":{\"standoff\":15},\"zerolinecolor\":\"white\",\"automargin\":true,\"zerolinewidth\":2},\"yaxis\":{\"gridcolor\":\"white\",\"linecolor\":\"white\",\"ticks\":\"\",\"title\":{\"standoff\":15},\"zerolinecolor\":\"white\",\"automargin\":true,\"zerolinewidth\":2},\"scene\":{\"xaxis\":{\"backgroundcolor\":\"#E5ECF6\",\"gridcolor\":\"white\",\"linecolor\":\"white\",\"showbackground\":true,\"ticks\":\"\",\"zerolinecolor\":\"white\",\"gridwidth\":2},\"yaxis\":{\"backgroundcolor\":\"#E5ECF6\",\"gridcolor\":\"white\",\"linecolor\":\"white\",\"showbackground\":true,\"ticks\":\"\",\"zerolinecolor\":\"white\",\"gridwidth\":2},\"zaxis\":{\"backgroundcolor\":\"#E5ECF6\",\"gridcolor\":\"white\",\"linecolor\":\"white\",\"showbackground\":true,\"ticks\":\"\",\"zerolinecolor\":\"white\",\"gridwidth\":2}},\"shapedefaults\":{\"line\":{\"color\":\"#2a3f5f\"}},\"annotationdefaults\":{\"arrowcolor\":\"#2a3f5f\",\"arrowhead\":0,\"arrowwidth\":1},\"geo\":{\"bgcolor\":\"white\",\"landcolor\":\"#E5ECF6\",\"subunitcolor\":\"white\",\"showland\":true,\"showlakes\":true,\"lakecolor\":\"white\"},\"title\":{\"x\":0.05},\"mapbox\":{\"style\":\"light\"}}},\"xaxis\":{\"anchor\":\"y\",\"domain\":[0.0,1.0],\"title\":{\"text\":\"Dataset Variables\"},\"tickangle\":-45},\"yaxis\":{\"anchor\":\"x\",\"domain\":[0.0,1.0],\"title\":{\"text\":\"Count Distribution\"}},\"legend\":{\"title\":{\"text\":\"color\"},\"tracegroupgap\":0},\"title\":{\"text\":\"Value Counts for duration\"},\"barmode\":\"relative\"},                        {\"responsive\": true}                    ).then(function(){\n",
              "                            \n",
              "var gd = document.getElementById('50e50cfe-8674-4167-80f4-a181674b7773');\n",
              "var x = new MutationObserver(function (mutations, observer) {{\n",
              "        var display = window.getComputedStyle(gd).display;\n",
              "        if (!display || display === 'none') {{\n",
              "            console.log([gd, 'removed!']);\n",
              "            Plotly.purge(gd);\n",
              "            observer.disconnect();\n",
              "        }}\n",
              "}});\n",
              "\n",
              "// Listen for the removal of the full notebook cells\n",
              "var notebookContainer = gd.closest('#notebook-container');\n",
              "if (notebookContainer) {{\n",
              "    x.observe(notebookContainer, {childList: true});\n",
              "}}\n",
              "\n",
              "// Listen for the clearing of the current output cell\n",
              "var outputEl = gd.closest('.output');\n",
              "if (outputEl) {{\n",
              "    x.observe(outputEl, {childList: true});\n",
              "}}\n",
              "\n",
              "                        })                };                            </script>        </div>\n",
              "</body>\n",
              "</html>"
            ]
          },
          "metadata": {}
        }
      ]
    },
    {
      "cell_type": "markdown",
      "source": [
        "There are higher count of Movies (5377) compared to TV Shows (2410), with TV-MA (2863) and TV-14 (1931) being the most common ratings, and most TV Shows having 1 season while movie durations vary widely, peaking around 90-100 minutes."
      ],
      "metadata": {
        "id": "li0kMLI_NN3I"
      }
    },
    {
      "cell_type": "markdown",
      "source": [
        "#### Understand the type content available in different **COUNTRIES**"
      ],
      "metadata": {
        "id": "xF3r_wtwQ61C"
      }
    },
    {
      "cell_type": "code",
      "source": [
        "# Group by country and type, then count titles\n",
        "content_by_country = df.groupby(['country', 'type']).size().reset_index(name='count')\n",
        "\n",
        "# Pivot the data to have separate columns for Movie and TV Show counts\n",
        "content_by_country = content_by_country.pivot(index='country', columns='type', values='count').fillna(0).reset_index()\n",
        "\n",
        "# Rename columns for clarity\n",
        "content_by_country.columns = ['country', 'Movie_Count', 'TV_Show_Count']\n",
        "\n",
        "# Now you can proceed with sorting and visualization\n",
        "top_15_countries = content_by_country.sort_values(by=['Movie_Count', 'TV_Show_Count'], ascending=False).head(15)\n",
        "\n",
        "# Create a bar chart using Plotly Express\n",
        "fig = px.bar(top_15_countries, x='country', y=['Movie_Count', 'TV_Show_Count'],\n",
        "             title='Content Type by Top 15 Countries', barmode='group',\n",
        "             labels={'country': 'Country', 'value': 'Count', 'variable': 'Content Type'},\n",
        "             text_auto=True,  # Display count numbers on bars\n",
        "             height=800)  # Increase bar height\n",
        "\n",
        "fig.update_traces(textfont_size=12, textangle=0, textposition='outside', cliponaxis=False)  # Adjust text properties\n",
        "fig.update_layout(xaxis_tickangle=-45) # Rotate x-axis labels for better visibility\n",
        "fig.show()"
      ],
      "metadata": {
        "colab": {
          "base_uri": "https://localhost:8080/",
          "height": 817
        },
        "id": "kbUKDWHo4Hb6",
        "outputId": "a7bb2f1e-5d51-48ab-8645-78a2c80615cd"
      },
      "execution_count": null,
      "outputs": [
        {
          "output_type": "display_data",
          "data": {
            "text/html": [
              "<html>\n",
              "<head><meta charset=\"utf-8\" /></head>\n",
              "<body>\n",
              "    <div>            <script src=\"https://cdnjs.cloudflare.com/ajax/libs/mathjax/2.7.5/MathJax.js?config=TeX-AMS-MML_SVG\"></script><script type=\"text/javascript\">if (window.MathJax && window.MathJax.Hub && window.MathJax.Hub.Config) {window.MathJax.Hub.Config({SVG: {font: \"STIX-Web\"}});}</script>                <script type=\"text/javascript\">window.PlotlyConfig = {MathJaxConfig: 'local'};</script>\n",
              "        <script charset=\"utf-8\" src=\"https://cdn.plot.ly/plotly-2.35.2.min.js\"></script>                <div id=\"c9bce793-d8b6-4cc2-83a2-dd4236fd1988\" class=\"plotly-graph-div\" style=\"height:800px; width:100%;\"></div>            <script type=\"text/javascript\">                                    window.PLOTLYENV=window.PLOTLYENV || {};                                    if (document.getElementById(\"c9bce793-d8b6-4cc2-83a2-dd4236fd1988\")) {                    Plotly.newPlot(                        \"c9bce793-d8b6-4cc2-83a2-dd4236fd1988\",                        [{\"alignmentgroup\":\"True\",\"hovertemplate\":\"Content Type=Movie_Count\\u003cbr\\u003eCountry=%{x}\\u003cbr\\u003eCount=%{y}\\u003cextra\\u003e\\u003c\\u002fextra\\u003e\",\"legendgroup\":\"Movie_Count\",\"marker\":{\"color\":\"#636efa\",\"pattern\":{\"shape\":\"\"}},\"name\":\"Movie_Count\",\"offsetgroup\":\"Movie_Count\",\"orientation\":\"v\",\"showlegend\":true,\"textposition\":\"outside\",\"texttemplate\":\"%{y}\",\"x\":[\"United States\",\"India\",\"Not available\",\"United Kingdom\",\"Canada\",\"Spain\",\"Egypt\",\"Turkey\",\"Philippines\",\"Japan\",\"France\",\"Indonesia\",\"Mexico\",\"Nigeria\",\"United Kingdom, United States\"],\"xaxis\":\"x\",\"y\":[1850.0,852.0,230.0,193.0,118.0,89.0,89.0,73.0,70.0,69.0,69.0,68.0,65.0,62.0,52.0],\"yaxis\":\"y\",\"type\":\"bar\",\"textfont\":{\"size\":12},\"cliponaxis\":false,\"textangle\":0},{\"alignmentgroup\":\"True\",\"hovertemplate\":\"Content Type=TV_Show_Count\\u003cbr\\u003eCountry=%{x}\\u003cbr\\u003eCount=%{y}\\u003cextra\\u003e\\u003c\\u002fextra\\u003e\",\"legendgroup\":\"TV_Show_Count\",\"marker\":{\"color\":\"#EF553B\",\"pattern\":{\"shape\":\"\"}},\"name\":\"TV_Show_Count\",\"offsetgroup\":\"TV_Show_Count\",\"orientation\":\"v\",\"showlegend\":true,\"textposition\":\"outside\",\"texttemplate\":\"%{y}\",\"x\":[\"United States\",\"India\",\"Not available\",\"United Kingdom\",\"Canada\",\"Spain\",\"Egypt\",\"Turkey\",\"Philippines\",\"Japan\",\"France\",\"Indonesia\",\"Mexico\",\"Nigeria\",\"United Kingdom, United States\"],\"xaxis\":\"x\",\"y\":[705.0,71.0,277.0,204.0,59.0,45.0,12.0,27.0,1.0,157.0,46.0,2.0,35.0,8.0,12.0],\"yaxis\":\"y\",\"type\":\"bar\",\"textfont\":{\"size\":12},\"cliponaxis\":false,\"textangle\":0}],                        {\"template\":{\"data\":{\"histogram2dcontour\":[{\"type\":\"histogram2dcontour\",\"colorbar\":{\"outlinewidth\":0,\"ticks\":\"\"},\"colorscale\":[[0.0,\"#0d0887\"],[0.1111111111111111,\"#46039f\"],[0.2222222222222222,\"#7201a8\"],[0.3333333333333333,\"#9c179e\"],[0.4444444444444444,\"#bd3786\"],[0.5555555555555556,\"#d8576b\"],[0.6666666666666666,\"#ed7953\"],[0.7777777777777778,\"#fb9f3a\"],[0.8888888888888888,\"#fdca26\"],[1.0,\"#f0f921\"]]}],\"choropleth\":[{\"type\":\"choropleth\",\"colorbar\":{\"outlinewidth\":0,\"ticks\":\"\"}}],\"histogram2d\":[{\"type\":\"histogram2d\",\"colorbar\":{\"outlinewidth\":0,\"ticks\":\"\"},\"colorscale\":[[0.0,\"#0d0887\"],[0.1111111111111111,\"#46039f\"],[0.2222222222222222,\"#7201a8\"],[0.3333333333333333,\"#9c179e\"],[0.4444444444444444,\"#bd3786\"],[0.5555555555555556,\"#d8576b\"],[0.6666666666666666,\"#ed7953\"],[0.7777777777777778,\"#fb9f3a\"],[0.8888888888888888,\"#fdca26\"],[1.0,\"#f0f921\"]]}],\"heatmap\":[{\"type\":\"heatmap\",\"colorbar\":{\"outlinewidth\":0,\"ticks\":\"\"},\"colorscale\":[[0.0,\"#0d0887\"],[0.1111111111111111,\"#46039f\"],[0.2222222222222222,\"#7201a8\"],[0.3333333333333333,\"#9c179e\"],[0.4444444444444444,\"#bd3786\"],[0.5555555555555556,\"#d8576b\"],[0.6666666666666666,\"#ed7953\"],[0.7777777777777778,\"#fb9f3a\"],[0.8888888888888888,\"#fdca26\"],[1.0,\"#f0f921\"]]}],\"heatmapgl\":[{\"type\":\"heatmapgl\",\"colorbar\":{\"outlinewidth\":0,\"ticks\":\"\"},\"colorscale\":[[0.0,\"#0d0887\"],[0.1111111111111111,\"#46039f\"],[0.2222222222222222,\"#7201a8\"],[0.3333333333333333,\"#9c179e\"],[0.4444444444444444,\"#bd3786\"],[0.5555555555555556,\"#d8576b\"],[0.6666666666666666,\"#ed7953\"],[0.7777777777777778,\"#fb9f3a\"],[0.8888888888888888,\"#fdca26\"],[1.0,\"#f0f921\"]]}],\"contourcarpet\":[{\"type\":\"contourcarpet\",\"colorbar\":{\"outlinewidth\":0,\"ticks\":\"\"}}],\"contour\":[{\"type\":\"contour\",\"colorbar\":{\"outlinewidth\":0,\"ticks\":\"\"},\"colorscale\":[[0.0,\"#0d0887\"],[0.1111111111111111,\"#46039f\"],[0.2222222222222222,\"#7201a8\"],[0.3333333333333333,\"#9c179e\"],[0.4444444444444444,\"#bd3786\"],[0.5555555555555556,\"#d8576b\"],[0.6666666666666666,\"#ed7953\"],[0.7777777777777778,\"#fb9f3a\"],[0.8888888888888888,\"#fdca26\"],[1.0,\"#f0f921\"]]}],\"surface\":[{\"type\":\"surface\",\"colorbar\":{\"outlinewidth\":0,\"ticks\":\"\"},\"colorscale\":[[0.0,\"#0d0887\"],[0.1111111111111111,\"#46039f\"],[0.2222222222222222,\"#7201a8\"],[0.3333333333333333,\"#9c179e\"],[0.4444444444444444,\"#bd3786\"],[0.5555555555555556,\"#d8576b\"],[0.6666666666666666,\"#ed7953\"],[0.7777777777777778,\"#fb9f3a\"],[0.8888888888888888,\"#fdca26\"],[1.0,\"#f0f921\"]]}],\"mesh3d\":[{\"type\":\"mesh3d\",\"colorbar\":{\"outlinewidth\":0,\"ticks\":\"\"}}],\"scatter\":[{\"fillpattern\":{\"fillmode\":\"overlay\",\"size\":10,\"solidity\":0.2},\"type\":\"scatter\"}],\"parcoords\":[{\"type\":\"parcoords\",\"line\":{\"colorbar\":{\"outlinewidth\":0,\"ticks\":\"\"}}}],\"scatterpolargl\":[{\"type\":\"scatterpolargl\",\"marker\":{\"colorbar\":{\"outlinewidth\":0,\"ticks\":\"\"}}}],\"bar\":[{\"error_x\":{\"color\":\"#2a3f5f\"},\"error_y\":{\"color\":\"#2a3f5f\"},\"marker\":{\"line\":{\"color\":\"#E5ECF6\",\"width\":0.5},\"pattern\":{\"fillmode\":\"overlay\",\"size\":10,\"solidity\":0.2}},\"type\":\"bar\"}],\"scattergeo\":[{\"type\":\"scattergeo\",\"marker\":{\"colorbar\":{\"outlinewidth\":0,\"ticks\":\"\"}}}],\"scatterpolar\":[{\"type\":\"scatterpolar\",\"marker\":{\"colorbar\":{\"outlinewidth\":0,\"ticks\":\"\"}}}],\"histogram\":[{\"marker\":{\"pattern\":{\"fillmode\":\"overlay\",\"size\":10,\"solidity\":0.2}},\"type\":\"histogram\"}],\"scattergl\":[{\"type\":\"scattergl\",\"marker\":{\"colorbar\":{\"outlinewidth\":0,\"ticks\":\"\"}}}],\"scatter3d\":[{\"type\":\"scatter3d\",\"line\":{\"colorbar\":{\"outlinewidth\":0,\"ticks\":\"\"}},\"marker\":{\"colorbar\":{\"outlinewidth\":0,\"ticks\":\"\"}}}],\"scattermapbox\":[{\"type\":\"scattermapbox\",\"marker\":{\"colorbar\":{\"outlinewidth\":0,\"ticks\":\"\"}}}],\"scatterternary\":[{\"type\":\"scatterternary\",\"marker\":{\"colorbar\":{\"outlinewidth\":0,\"ticks\":\"\"}}}],\"scattercarpet\":[{\"type\":\"scattercarpet\",\"marker\":{\"colorbar\":{\"outlinewidth\":0,\"ticks\":\"\"}}}],\"carpet\":[{\"aaxis\":{\"endlinecolor\":\"#2a3f5f\",\"gridcolor\":\"white\",\"linecolor\":\"white\",\"minorgridcolor\":\"white\",\"startlinecolor\":\"#2a3f5f\"},\"baxis\":{\"endlinecolor\":\"#2a3f5f\",\"gridcolor\":\"white\",\"linecolor\":\"white\",\"minorgridcolor\":\"white\",\"startlinecolor\":\"#2a3f5f\"},\"type\":\"carpet\"}],\"table\":[{\"cells\":{\"fill\":{\"color\":\"#EBF0F8\"},\"line\":{\"color\":\"white\"}},\"header\":{\"fill\":{\"color\":\"#C8D4E3\"},\"line\":{\"color\":\"white\"}},\"type\":\"table\"}],\"barpolar\":[{\"marker\":{\"line\":{\"color\":\"#E5ECF6\",\"width\":0.5},\"pattern\":{\"fillmode\":\"overlay\",\"size\":10,\"solidity\":0.2}},\"type\":\"barpolar\"}],\"pie\":[{\"automargin\":true,\"type\":\"pie\"}]},\"layout\":{\"autotypenumbers\":\"strict\",\"colorway\":[\"#636efa\",\"#EF553B\",\"#00cc96\",\"#ab63fa\",\"#FFA15A\",\"#19d3f3\",\"#FF6692\",\"#B6E880\",\"#FF97FF\",\"#FECB52\"],\"font\":{\"color\":\"#2a3f5f\"},\"hovermode\":\"closest\",\"hoverlabel\":{\"align\":\"left\"},\"paper_bgcolor\":\"white\",\"plot_bgcolor\":\"#E5ECF6\",\"polar\":{\"bgcolor\":\"#E5ECF6\",\"angularaxis\":{\"gridcolor\":\"white\",\"linecolor\":\"white\",\"ticks\":\"\"},\"radialaxis\":{\"gridcolor\":\"white\",\"linecolor\":\"white\",\"ticks\":\"\"}},\"ternary\":{\"bgcolor\":\"#E5ECF6\",\"aaxis\":{\"gridcolor\":\"white\",\"linecolor\":\"white\",\"ticks\":\"\"},\"baxis\":{\"gridcolor\":\"white\",\"linecolor\":\"white\",\"ticks\":\"\"},\"caxis\":{\"gridcolor\":\"white\",\"linecolor\":\"white\",\"ticks\":\"\"}},\"coloraxis\":{\"colorbar\":{\"outlinewidth\":0,\"ticks\":\"\"}},\"colorscale\":{\"sequential\":[[0.0,\"#0d0887\"],[0.1111111111111111,\"#46039f\"],[0.2222222222222222,\"#7201a8\"],[0.3333333333333333,\"#9c179e\"],[0.4444444444444444,\"#bd3786\"],[0.5555555555555556,\"#d8576b\"],[0.6666666666666666,\"#ed7953\"],[0.7777777777777778,\"#fb9f3a\"],[0.8888888888888888,\"#fdca26\"],[1.0,\"#f0f921\"]],\"sequentialminus\":[[0.0,\"#0d0887\"],[0.1111111111111111,\"#46039f\"],[0.2222222222222222,\"#7201a8\"],[0.3333333333333333,\"#9c179e\"],[0.4444444444444444,\"#bd3786\"],[0.5555555555555556,\"#d8576b\"],[0.6666666666666666,\"#ed7953\"],[0.7777777777777778,\"#fb9f3a\"],[0.8888888888888888,\"#fdca26\"],[1.0,\"#f0f921\"]],\"diverging\":[[0,\"#8e0152\"],[0.1,\"#c51b7d\"],[0.2,\"#de77ae\"],[0.3,\"#f1b6da\"],[0.4,\"#fde0ef\"],[0.5,\"#f7f7f7\"],[0.6,\"#e6f5d0\"],[0.7,\"#b8e186\"],[0.8,\"#7fbc41\"],[0.9,\"#4d9221\"],[1,\"#276419\"]]},\"xaxis\":{\"gridcolor\":\"white\",\"linecolor\":\"white\",\"ticks\":\"\",\"title\":{\"standoff\":15},\"zerolinecolor\":\"white\",\"automargin\":true,\"zerolinewidth\":2},\"yaxis\":{\"gridcolor\":\"white\",\"linecolor\":\"white\",\"ticks\":\"\",\"title\":{\"standoff\":15},\"zerolinecolor\":\"white\",\"automargin\":true,\"zerolinewidth\":2},\"scene\":{\"xaxis\":{\"backgroundcolor\":\"#E5ECF6\",\"gridcolor\":\"white\",\"linecolor\":\"white\",\"showbackground\":true,\"ticks\":\"\",\"zerolinecolor\":\"white\",\"gridwidth\":2},\"yaxis\":{\"backgroundcolor\":\"#E5ECF6\",\"gridcolor\":\"white\",\"linecolor\":\"white\",\"showbackground\":true,\"ticks\":\"\",\"zerolinecolor\":\"white\",\"gridwidth\":2},\"zaxis\":{\"backgroundcolor\":\"#E5ECF6\",\"gridcolor\":\"white\",\"linecolor\":\"white\",\"showbackground\":true,\"ticks\":\"\",\"zerolinecolor\":\"white\",\"gridwidth\":2}},\"shapedefaults\":{\"line\":{\"color\":\"#2a3f5f\"}},\"annotationdefaults\":{\"arrowcolor\":\"#2a3f5f\",\"arrowhead\":0,\"arrowwidth\":1},\"geo\":{\"bgcolor\":\"white\",\"landcolor\":\"#E5ECF6\",\"subunitcolor\":\"white\",\"showland\":true,\"showlakes\":true,\"lakecolor\":\"white\"},\"title\":{\"x\":0.05},\"mapbox\":{\"style\":\"light\"}}},\"xaxis\":{\"anchor\":\"y\",\"domain\":[0.0,1.0],\"title\":{\"text\":\"Country\"},\"tickangle\":-45},\"yaxis\":{\"anchor\":\"x\",\"domain\":[0.0,1.0],\"title\":{\"text\":\"Count\"}},\"legend\":{\"title\":{\"text\":\"Content Type\"},\"tracegroupgap\":0},\"title\":{\"text\":\"Content Type by Top 15 Countries\"},\"barmode\":\"group\",\"height\":800},                        {\"responsive\": true}                    ).then(function(){\n",
              "                            \n",
              "var gd = document.getElementById('c9bce793-d8b6-4cc2-83a2-dd4236fd1988');\n",
              "var x = new MutationObserver(function (mutations, observer) {{\n",
              "        var display = window.getComputedStyle(gd).display;\n",
              "        if (!display || display === 'none') {{\n",
              "            console.log([gd, 'removed!']);\n",
              "            Plotly.purge(gd);\n",
              "            observer.disconnect();\n",
              "        }}\n",
              "}});\n",
              "\n",
              "// Listen for the removal of the full notebook cells\n",
              "var notebookContainer = gd.closest('#notebook-container');\n",
              "if (notebookContainer) {{\n",
              "    x.observe(notebookContainer, {childList: true});\n",
              "}}\n",
              "\n",
              "// Listen for the clearing of the current output cell\n",
              "var outputEl = gd.closest('.output');\n",
              "if (outputEl) {{\n",
              "    x.observe(outputEl, {childList: true});\n",
              "}}\n",
              "\n",
              "                        })                };                            </script>        </div>\n",
              "</body>\n",
              "</html>"
            ]
          },
          "metadata": {}
        }
      ]
    },
    {
      "cell_type": "markdown",
      "source": [
        "The **United States** leads with the highest counts—approximately **1850 movies and 705 TV** shows—indicating its dominant contribution to Netflix's content library.\n",
        "\n",
        "**India** follows with a high movie count (**around 852**) but significantly fewer TV shows (**around 71**), suggesting a shift in content type distribution.\n",
        "\n",
        "**Other countries** like the United Kingdom, Canada, Spain, and others show varying levels of content production."
      ],
      "metadata": {
        "id": "r7u52IeLUwI6"
      }
    },
    {
      "cell_type": "code",
      "source": [
        "# Display the content type distribution for all countries\n",
        "content_by_country[['country', 'Movie_Count', 'TV_Show_Count']]"
      ],
      "metadata": {
        "colab": {
          "base_uri": "https://localhost:8080/",
          "height": 423
        },
        "id": "hRCKSvBXTtIq",
        "outputId": "b833464c-df46-4c86-9af8-955233aee006"
      },
      "execution_count": null,
      "outputs": [
        {
          "output_type": "execute_result",
          "data": {
            "text/plain": [
              "                                               country  Movie_Count  \\\n",
              "0                                            Argentina         34.0   \n",
              "1    Argentina, Brazil, France, Poland, Germany, De...          1.0   \n",
              "2                                     Argentina, Chile          1.0   \n",
              "3                               Argentina, Chile, Peru          1.0   \n",
              "4                                    Argentina, France          1.0   \n",
              "..                                                 ...          ...   \n",
              "677                                          Venezuela          1.0   \n",
              "678                                Venezuela, Colombia          1.0   \n",
              "679                                            Vietnam          5.0   \n",
              "680                                       West Germany          1.0   \n",
              "681                                           Zimbabwe          1.0   \n",
              "\n",
              "     TV_Show_Count  \n",
              "0             16.0  \n",
              "1              0.0  \n",
              "2              0.0  \n",
              "3              0.0  \n",
              "4              0.0  \n",
              "..             ...  \n",
              "677            0.0  \n",
              "678            0.0  \n",
              "679            0.0  \n",
              "680            0.0  \n",
              "681            0.0  \n",
              "\n",
              "[682 rows x 3 columns]"
            ],
            "text/html": [
              "\n",
              "  <div id=\"df-a3cdbfa9-1aad-4101-8e87-f135c3719136\" class=\"colab-df-container\">\n",
              "    <div>\n",
              "<style scoped>\n",
              "    .dataframe tbody tr th:only-of-type {\n",
              "        vertical-align: middle;\n",
              "    }\n",
              "\n",
              "    .dataframe tbody tr th {\n",
              "        vertical-align: top;\n",
              "    }\n",
              "\n",
              "    .dataframe thead th {\n",
              "        text-align: right;\n",
              "    }\n",
              "</style>\n",
              "<table border=\"1\" class=\"dataframe\">\n",
              "  <thead>\n",
              "    <tr style=\"text-align: right;\">\n",
              "      <th></th>\n",
              "      <th>country</th>\n",
              "      <th>Movie_Count</th>\n",
              "      <th>TV_Show_Count</th>\n",
              "    </tr>\n",
              "  </thead>\n",
              "  <tbody>\n",
              "    <tr>\n",
              "      <th>0</th>\n",
              "      <td>Argentina</td>\n",
              "      <td>34.0</td>\n",
              "      <td>16.0</td>\n",
              "    </tr>\n",
              "    <tr>\n",
              "      <th>1</th>\n",
              "      <td>Argentina, Brazil, France, Poland, Germany, De...</td>\n",
              "      <td>1.0</td>\n",
              "      <td>0.0</td>\n",
              "    </tr>\n",
              "    <tr>\n",
              "      <th>2</th>\n",
              "      <td>Argentina, Chile</td>\n",
              "      <td>1.0</td>\n",
              "      <td>0.0</td>\n",
              "    </tr>\n",
              "    <tr>\n",
              "      <th>3</th>\n",
              "      <td>Argentina, Chile, Peru</td>\n",
              "      <td>1.0</td>\n",
              "      <td>0.0</td>\n",
              "    </tr>\n",
              "    <tr>\n",
              "      <th>4</th>\n",
              "      <td>Argentina, France</td>\n",
              "      <td>1.0</td>\n",
              "      <td>0.0</td>\n",
              "    </tr>\n",
              "    <tr>\n",
              "      <th>...</th>\n",
              "      <td>...</td>\n",
              "      <td>...</td>\n",
              "      <td>...</td>\n",
              "    </tr>\n",
              "    <tr>\n",
              "      <th>677</th>\n",
              "      <td>Venezuela</td>\n",
              "      <td>1.0</td>\n",
              "      <td>0.0</td>\n",
              "    </tr>\n",
              "    <tr>\n",
              "      <th>678</th>\n",
              "      <td>Venezuela, Colombia</td>\n",
              "      <td>1.0</td>\n",
              "      <td>0.0</td>\n",
              "    </tr>\n",
              "    <tr>\n",
              "      <th>679</th>\n",
              "      <td>Vietnam</td>\n",
              "      <td>5.0</td>\n",
              "      <td>0.0</td>\n",
              "    </tr>\n",
              "    <tr>\n",
              "      <th>680</th>\n",
              "      <td>West Germany</td>\n",
              "      <td>1.0</td>\n",
              "      <td>0.0</td>\n",
              "    </tr>\n",
              "    <tr>\n",
              "      <th>681</th>\n",
              "      <td>Zimbabwe</td>\n",
              "      <td>1.0</td>\n",
              "      <td>0.0</td>\n",
              "    </tr>\n",
              "  </tbody>\n",
              "</table>\n",
              "<p>682 rows × 3 columns</p>\n",
              "</div>\n",
              "    <div class=\"colab-df-buttons\">\n",
              "\n",
              "  <div class=\"colab-df-container\">\n",
              "    <button class=\"colab-df-convert\" onclick=\"convertToInteractive('df-a3cdbfa9-1aad-4101-8e87-f135c3719136')\"\n",
              "            title=\"Convert this dataframe to an interactive table.\"\n",
              "            style=\"display:none;\">\n",
              "\n",
              "  <svg xmlns=\"http://www.w3.org/2000/svg\" height=\"24px\" viewBox=\"0 -960 960 960\">\n",
              "    <path d=\"M120-120v-720h720v720H120Zm60-500h600v-160H180v160Zm220 220h160v-160H400v160Zm0 220h160v-160H400v160ZM180-400h160v-160H180v160Zm440 0h160v-160H620v160ZM180-180h160v-160H180v160Zm440 0h160v-160H620v160Z\"/>\n",
              "  </svg>\n",
              "    </button>\n",
              "\n",
              "  <style>\n",
              "    .colab-df-container {\n",
              "      display:flex;\n",
              "      gap: 12px;\n",
              "    }\n",
              "\n",
              "    .colab-df-convert {\n",
              "      background-color: #E8F0FE;\n",
              "      border: none;\n",
              "      border-radius: 50%;\n",
              "      cursor: pointer;\n",
              "      display: none;\n",
              "      fill: #1967D2;\n",
              "      height: 32px;\n",
              "      padding: 0 0 0 0;\n",
              "      width: 32px;\n",
              "    }\n",
              "\n",
              "    .colab-df-convert:hover {\n",
              "      background-color: #E2EBFA;\n",
              "      box-shadow: 0px 1px 2px rgba(60, 64, 67, 0.3), 0px 1px 3px 1px rgba(60, 64, 67, 0.15);\n",
              "      fill: #174EA6;\n",
              "    }\n",
              "\n",
              "    .colab-df-buttons div {\n",
              "      margin-bottom: 4px;\n",
              "    }\n",
              "\n",
              "    [theme=dark] .colab-df-convert {\n",
              "      background-color: #3B4455;\n",
              "      fill: #D2E3FC;\n",
              "    }\n",
              "\n",
              "    [theme=dark] .colab-df-convert:hover {\n",
              "      background-color: #434B5C;\n",
              "      box-shadow: 0px 1px 3px 1px rgba(0, 0, 0, 0.15);\n",
              "      filter: drop-shadow(0px 1px 2px rgba(0, 0, 0, 0.3));\n",
              "      fill: #FFFFFF;\n",
              "    }\n",
              "  </style>\n",
              "\n",
              "    <script>\n",
              "      const buttonEl =\n",
              "        document.querySelector('#df-a3cdbfa9-1aad-4101-8e87-f135c3719136 button.colab-df-convert');\n",
              "      buttonEl.style.display =\n",
              "        google.colab.kernel.accessAllowed ? 'block' : 'none';\n",
              "\n",
              "      async function convertToInteractive(key) {\n",
              "        const element = document.querySelector('#df-a3cdbfa9-1aad-4101-8e87-f135c3719136');\n",
              "        const dataTable =\n",
              "          await google.colab.kernel.invokeFunction('convertToInteractive',\n",
              "                                                    [key], {});\n",
              "        if (!dataTable) return;\n",
              "\n",
              "        const docLinkHtml = 'Like what you see? Visit the ' +\n",
              "          '<a target=\"_blank\" href=https://colab.research.google.com/notebooks/data_table.ipynb>data table notebook</a>'\n",
              "          + ' to learn more about interactive tables.';\n",
              "        element.innerHTML = '';\n",
              "        dataTable['output_type'] = 'display_data';\n",
              "        await google.colab.output.renderOutput(dataTable, element);\n",
              "        const docLink = document.createElement('div');\n",
              "        docLink.innerHTML = docLinkHtml;\n",
              "        element.appendChild(docLink);\n",
              "      }\n",
              "    </script>\n",
              "  </div>\n",
              "\n",
              "\n",
              "    <div id=\"df-f06b2f90-f727-4698-8d24-8b2e83440f6d\">\n",
              "      <button class=\"colab-df-quickchart\" onclick=\"quickchart('df-f06b2f90-f727-4698-8d24-8b2e83440f6d')\"\n",
              "                title=\"Suggest charts\"\n",
              "                style=\"display:none;\">\n",
              "\n",
              "<svg xmlns=\"http://www.w3.org/2000/svg\" height=\"24px\"viewBox=\"0 0 24 24\"\n",
              "     width=\"24px\">\n",
              "    <g>\n",
              "        <path d=\"M19 3H5c-1.1 0-2 .9-2 2v14c0 1.1.9 2 2 2h14c1.1 0 2-.9 2-2V5c0-1.1-.9-2-2-2zM9 17H7v-7h2v7zm4 0h-2V7h2v10zm4 0h-2v-4h2v4z\"/>\n",
              "    </g>\n",
              "</svg>\n",
              "      </button>\n",
              "\n",
              "<style>\n",
              "  .colab-df-quickchart {\n",
              "      --bg-color: #E8F0FE;\n",
              "      --fill-color: #1967D2;\n",
              "      --hover-bg-color: #E2EBFA;\n",
              "      --hover-fill-color: #174EA6;\n",
              "      --disabled-fill-color: #AAA;\n",
              "      --disabled-bg-color: #DDD;\n",
              "  }\n",
              "\n",
              "  [theme=dark] .colab-df-quickchart {\n",
              "      --bg-color: #3B4455;\n",
              "      --fill-color: #D2E3FC;\n",
              "      --hover-bg-color: #434B5C;\n",
              "      --hover-fill-color: #FFFFFF;\n",
              "      --disabled-bg-color: #3B4455;\n",
              "      --disabled-fill-color: #666;\n",
              "  }\n",
              "\n",
              "  .colab-df-quickchart {\n",
              "    background-color: var(--bg-color);\n",
              "    border: none;\n",
              "    border-radius: 50%;\n",
              "    cursor: pointer;\n",
              "    display: none;\n",
              "    fill: var(--fill-color);\n",
              "    height: 32px;\n",
              "    padding: 0;\n",
              "    width: 32px;\n",
              "  }\n",
              "\n",
              "  .colab-df-quickchart:hover {\n",
              "    background-color: var(--hover-bg-color);\n",
              "    box-shadow: 0 1px 2px rgba(60, 64, 67, 0.3), 0 1px 3px 1px rgba(60, 64, 67, 0.15);\n",
              "    fill: var(--button-hover-fill-color);\n",
              "  }\n",
              "\n",
              "  .colab-df-quickchart-complete:disabled,\n",
              "  .colab-df-quickchart-complete:disabled:hover {\n",
              "    background-color: var(--disabled-bg-color);\n",
              "    fill: var(--disabled-fill-color);\n",
              "    box-shadow: none;\n",
              "  }\n",
              "\n",
              "  .colab-df-spinner {\n",
              "    border: 2px solid var(--fill-color);\n",
              "    border-color: transparent;\n",
              "    border-bottom-color: var(--fill-color);\n",
              "    animation:\n",
              "      spin 1s steps(1) infinite;\n",
              "  }\n",
              "\n",
              "  @keyframes spin {\n",
              "    0% {\n",
              "      border-color: transparent;\n",
              "      border-bottom-color: var(--fill-color);\n",
              "      border-left-color: var(--fill-color);\n",
              "    }\n",
              "    20% {\n",
              "      border-color: transparent;\n",
              "      border-left-color: var(--fill-color);\n",
              "      border-top-color: var(--fill-color);\n",
              "    }\n",
              "    30% {\n",
              "      border-color: transparent;\n",
              "      border-left-color: var(--fill-color);\n",
              "      border-top-color: var(--fill-color);\n",
              "      border-right-color: var(--fill-color);\n",
              "    }\n",
              "    40% {\n",
              "      border-color: transparent;\n",
              "      border-right-color: var(--fill-color);\n",
              "      border-top-color: var(--fill-color);\n",
              "    }\n",
              "    60% {\n",
              "      border-color: transparent;\n",
              "      border-right-color: var(--fill-color);\n",
              "    }\n",
              "    80% {\n",
              "      border-color: transparent;\n",
              "      border-right-color: var(--fill-color);\n",
              "      border-bottom-color: var(--fill-color);\n",
              "    }\n",
              "    90% {\n",
              "      border-color: transparent;\n",
              "      border-bottom-color: var(--fill-color);\n",
              "    }\n",
              "  }\n",
              "</style>\n",
              "\n",
              "      <script>\n",
              "        async function quickchart(key) {\n",
              "          const quickchartButtonEl =\n",
              "            document.querySelector('#' + key + ' button');\n",
              "          quickchartButtonEl.disabled = true;  // To prevent multiple clicks.\n",
              "          quickchartButtonEl.classList.add('colab-df-spinner');\n",
              "          try {\n",
              "            const charts = await google.colab.kernel.invokeFunction(\n",
              "                'suggestCharts', [key], {});\n",
              "          } catch (error) {\n",
              "            console.error('Error during call to suggestCharts:', error);\n",
              "          }\n",
              "          quickchartButtonEl.classList.remove('colab-df-spinner');\n",
              "          quickchartButtonEl.classList.add('colab-df-quickchart-complete');\n",
              "        }\n",
              "        (() => {\n",
              "          let quickchartButtonEl =\n",
              "            document.querySelector('#df-f06b2f90-f727-4698-8d24-8b2e83440f6d button');\n",
              "          quickchartButtonEl.style.display =\n",
              "            google.colab.kernel.accessAllowed ? 'block' : 'none';\n",
              "        })();\n",
              "      </script>\n",
              "    </div>\n",
              "\n",
              "    </div>\n",
              "  </div>\n"
            ],
            "application/vnd.google.colaboratory.intrinsic+json": {
              "type": "dataframe",
              "summary": "{\n  \"name\": \"content_by_country[['country', 'Movie_Count', 'TV_Show_Count']]\",\n  \"rows\": 682,\n  \"fields\": [\n    {\n      \"column\": \"country\",\n      \"properties\": {\n        \"dtype\": \"string\",\n        \"num_unique_values\": 682,\n        \"samples\": [\n          \"Japan, Canada\",\n          \"Finland, Sweden, Norway, Latvia, Germany\",\n          \"Germany, United States, Hong Kong, Singapore\"\n        ],\n        \"semantic_type\": \"\",\n        \"description\": \"\"\n      }\n    },\n    {\n      \"column\": \"Movie_Count\",\n      \"properties\": {\n        \"dtype\": \"number\",\n        \"std\": 79.29470532247775,\n        \"min\": 0.0,\n        \"max\": 1850.0,\n        \"num_unique_values\": 44,\n        \"samples\": [\n          35.0,\n          68.0,\n          28.0\n        ],\n        \"semantic_type\": \"\",\n        \"description\": \"\"\n      }\n    },\n    {\n      \"column\": \"TV_Show_Count\",\n      \"properties\": {\n        \"dtype\": \"number\",\n        \"std\": 31.610741040104042,\n        \"min\": 0.0,\n        \"max\": 705.0,\n        \"num_unique_values\": 32,\n        \"samples\": [\n          204.0,\n          71.0,\n          147.0\n        ],\n        \"semantic_type\": \"\",\n        \"description\": \"\"\n      }\n    }\n  ]\n}"
            }
          },
          "metadata": {},
          "execution_count": 35
        }
      ]
    },
    {
      "cell_type": "markdown",
      "source": [
        "#### **Genre Analysis** by Country"
      ],
      "metadata": {
        "id": "8xYuA6BmWVOB"
      }
    },
    {
      "cell_type": "code",
      "source": [
        "# Pre-process the genre (listed_in) column: split and explode it\n",
        "df_genres = df.copy()\n",
        "df_genres['listed_in'] = df_genres['listed_in'].astype(str).str.split(',')\n",
        "df_genres = df_genres.explode('listed_in')\n",
        "df_genres['listed_in'] = df_genres['listed_in'].str.strip()\n",
        "\n",
        "# Group by country and genre to get counts\n",
        "genre_by_country = df_genres.groupby(['country', 'listed_in']).size().reset_index(name='count')\n",
        "\n",
        "# Optionally focus on the top 15 countries (from previous analysis)\n",
        "top_country_list = top_15_countries['country'].tolist()\n",
        "genre_top = genre_by_country[genre_by_country['country'].isin(top_country_list)]\n",
        "\n",
        "# Visualize using a Treemap chart\n",
        "fig_treemap = px.treemap(\n",
        "    genre_top,\n",
        "    path=['country', 'listed_in'],  # Hierarchical levels: country -> genre\n",
        "    values='count',                  # Size of each rectangle corresponds to the count\n",
        "    title=\"Genre Distribution in Top Countries (Treemap)\"\n",
        ")\n",
        "fig_treemap.show()"
      ],
      "metadata": {
        "colab": {
          "base_uri": "https://localhost:8080/",
          "height": 542
        },
        "id": "vCD2HsLrWXA8",
        "outputId": "dee234a5-7c0f-4624-af48-4682c9f8546e"
      },
      "execution_count": null,
      "outputs": [
        {
          "output_type": "display_data",
          "data": {
            "text/html": [
              "<html>\n",
              "<head><meta charset=\"utf-8\" /></head>\n",
              "<body>\n",
              "    <div>            <script src=\"https://cdnjs.cloudflare.com/ajax/libs/mathjax/2.7.5/MathJax.js?config=TeX-AMS-MML_SVG\"></script><script type=\"text/javascript\">if (window.MathJax && window.MathJax.Hub && window.MathJax.Hub.Config) {window.MathJax.Hub.Config({SVG: {font: \"STIX-Web\"}});}</script>                <script type=\"text/javascript\">window.PlotlyConfig = {MathJaxConfig: 'local'};</script>\n",
              "        <script charset=\"utf-8\" src=\"https://cdn.plot.ly/plotly-2.35.2.min.js\"></script>                <div id=\"befe457f-afb0-4233-be3c-575ca59ff71d\" class=\"plotly-graph-div\" style=\"height:525px; width:100%;\"></div>            <script type=\"text/javascript\">                                    window.PLOTLYENV=window.PLOTLYENV || {};                                    if (document.getElementById(\"befe457f-afb0-4233-be3c-575ca59ff71d\")) {                    Plotly.newPlot(                        \"befe457f-afb0-4233-be3c-575ca59ff71d\",                        [{\"branchvalues\":\"total\",\"domain\":{\"x\":[0.0,1.0],\"y\":[0.0,1.0]},\"hovertemplate\":\"labels=%{label}\\u003cbr\\u003ecount=%{value}\\u003cbr\\u003eparent=%{parent}\\u003cbr\\u003eid=%{id}\\u003cextra\\u003e\\u003c\\u002fextra\\u003e\",\"ids\":[\"Canada\\u002fAction & Adventure\",\"Egypt\\u002fAction & Adventure\",\"France\\u002fAction & Adventure\",\"India\\u002fAction & Adventure\",\"Indonesia\\u002fAction & Adventure\",\"Japan\\u002fAction & Adventure\",\"Mexico\\u002fAction & Adventure\",\"Nigeria\\u002fAction & Adventure\",\"Not available\\u002fAction & Adventure\",\"Philippines\\u002fAction & Adventure\",\"Spain\\u002fAction & Adventure\",\"Turkey\\u002fAction & Adventure\",\"United Kingdom\\u002fAction & Adventure\",\"United Kingdom, United States\\u002fAction & Adventure\",\"United States\\u002fAction & Adventure\",\"Japan\\u002fAnime Features\",\"United States\\u002fAnime Features\",\"Japan\\u002fAnime Series\",\"Not available\\u002fAnime Series\",\"Spain\\u002fAnime Series\",\"United States\\u002fAnime Series\",\"India\\u002fBritish TV Shows\",\"Not available\\u002fBritish TV Shows\",\"United Kingdom\\u002fBritish TV Shows\",\"United Kingdom, United States\\u002fBritish TV Shows\",\"United States\\u002fBritish TV Shows\",\"Canada\\u002fChildren & Family Movies\",\"Egypt\\u002fChildren & Family Movies\",\"France\\u002fChildren & Family Movies\",\"India\\u002fChildren & Family Movies\",\"Indonesia\\u002fChildren & Family Movies\",\"Japan\\u002fChildren & Family Movies\",\"Mexico\\u002fChildren & Family Movies\",\"Not available\\u002fChildren & Family Movies\",\"Spain\\u002fChildren & Family Movies\",\"Turkey\\u002fChildren & Family Movies\",\"United Kingdom\\u002fChildren & Family Movies\",\"United Kingdom, United States\\u002fChildren & Family Movies\",\"United States\\u002fChildren & Family Movies\",\"Canada\\u002fClassic & Cult TV\",\"Mexico\\u002fClassic & Cult TV\",\"United Kingdom\\u002fClassic & Cult TV\",\"United Kingdom, United States\\u002fClassic & Cult TV\",\"United States\\u002fClassic & Cult TV\",\"Egypt\\u002fClassic Movies\",\"India\\u002fClassic Movies\",\"Japan\\u002fClassic Movies\",\"Mexico\\u002fClassic Movies\",\"United Kingdom\\u002fClassic Movies\",\"United Kingdom, United States\\u002fClassic Movies\",\"United States\\u002fClassic Movies\",\"Canada\\u002fComedies\",\"Egypt\\u002fComedies\",\"France\\u002fComedies\",\"India\\u002fComedies\",\"Indonesia\\u002fComedies\",\"Mexico\\u002fComedies\",\"Nigeria\\u002fComedies\",\"Not available\\u002fComedies\",\"Philippines\\u002fComedies\",\"Spain\\u002fComedies\",\"Turkey\\u002fComedies\",\"United Kingdom\\u002fComedies\",\"United Kingdom, United States\\u002fComedies\",\"United States\\u002fComedies\",\"Canada\\u002fCrime TV Shows\",\"Egypt\\u002fCrime TV Shows\",\"France\\u002fCrime TV Shows\",\"India\\u002fCrime TV Shows\",\"Japan\\u002fCrime TV Shows\",\"Mexico\\u002fCrime TV Shows\",\"Not available\\u002fCrime TV Shows\",\"Spain\\u002fCrime TV Shows\",\"Turkey\\u002fCrime TV Shows\",\"United Kingdom\\u002fCrime TV Shows\",\"United Kingdom, United States\\u002fCrime TV Shows\",\"United States\\u002fCrime TV Shows\",\"Canada\\u002fCult Movies\",\"India\\u002fCult Movies\",\"United Kingdom\\u002fCult Movies\",\"United Kingdom, United States\\u002fCult Movies\",\"United States\\u002fCult Movies\",\"Canada\\u002fDocumentaries\",\"France\\u002fDocumentaries\",\"India\\u002fDocumentaries\",\"Indonesia\\u002fDocumentaries\",\"Mexico\\u002fDocumentaries\",\"Nigeria\\u002fDocumentaries\",\"Not available\\u002fDocumentaries\",\"Spain\\u002fDocumentaries\",\"United Kingdom\\u002fDocumentaries\",\"United Kingdom, United States\\u002fDocumentaries\",\"United States\\u002fDocumentaries\",\"Canada\\u002fDocuseries\",\"France\\u002fDocuseries\",\"India\\u002fDocuseries\",\"Japan\\u002fDocuseries\",\"Mexico\\u002fDocuseries\",\"Not available\\u002fDocuseries\",\"Spain\\u002fDocuseries\",\"United Kingdom\\u002fDocuseries\",\"United Kingdom, United States\\u002fDocuseries\",\"United States\\u002fDocuseries\",\"Canada\\u002fDramas\",\"Egypt\\u002fDramas\",\"France\\u002fDramas\",\"India\\u002fDramas\",\"Indonesia\\u002fDramas\",\"Japan\\u002fDramas\",\"Mexico\\u002fDramas\",\"Nigeria\\u002fDramas\",\"Not available\\u002fDramas\",\"Philippines\\u002fDramas\",\"Spain\\u002fDramas\",\"Turkey\\u002fDramas\",\"United Kingdom\\u002fDramas\",\"United Kingdom, United States\\u002fDramas\",\"United States\\u002fDramas\",\"Canada\\u002fFaith & Spirituality\",\"India\\u002fFaith & Spirituality\",\"Indonesia\\u002fFaith & Spirituality\",\"Not available\\u002fFaith & Spirituality\",\"Spain\\u002fFaith & Spirituality\",\"United Kingdom, United States\\u002fFaith & Spirituality\",\"United States\\u002fFaith & Spirituality\",\"Canada\\u002fHorror Movies\",\"Egypt\\u002fHorror Movies\",\"India\\u002fHorror Movies\",\"Indonesia\\u002fHorror Movies\",\"Japan\\u002fHorror Movies\",\"Mexico\\u002fHorror Movies\",\"Nigeria\\u002fHorror Movies\",\"Not available\\u002fHorror Movies\",\"Philippines\\u002fHorror Movies\",\"Spain\\u002fHorror Movies\",\"Turkey\\u002fHorror Movies\",\"United Kingdom\\u002fHorror Movies\",\"United Kingdom, United States\\u002fHorror Movies\",\"United States\\u002fHorror Movies\",\"Canada\\u002fIndependent Movies\",\"Egypt\\u002fIndependent Movies\",\"France\\u002fIndependent Movies\",\"India\\u002fIndependent Movies\",\"Mexico\\u002fIndependent Movies\",\"Nigeria\\u002fIndependent Movies\",\"Not available\\u002fIndependent Movies\",\"Philippines\\u002fIndependent Movies\",\"Spain\\u002fIndependent Movies\",\"Turkey\\u002fIndependent Movies\",\"United Kingdom\\u002fIndependent Movies\",\"United Kingdom, United States\\u002fIndependent Movies\",\"United States\\u002fIndependent Movies\",\"Canada\\u002fInternational Movies\",\"Egypt\\u002fInternational Movies\",\"France\\u002fInternational Movies\",\"India\\u002fInternational Movies\",\"Indonesia\\u002fInternational Movies\",\"Japan\\u002fInternational Movies\",\"Mexico\\u002fInternational Movies\",\"Nigeria\\u002fInternational Movies\",\"Not available\\u002fInternational Movies\",\"Philippines\\u002fInternational Movies\",\"Spain\\u002fInternational Movies\",\"Turkey\\u002fInternational Movies\",\"United Kingdom\\u002fInternational Movies\",\"United Kingdom, United States\\u002fInternational Movies\",\"United States\\u002fInternational Movies\",\"Canada\\u002fInternational TV Shows\",\"Egypt\\u002fInternational TV Shows\",\"France\\u002fInternational TV Shows\",\"India\\u002fInternational TV Shows\",\"Indonesia\\u002fInternational TV Shows\",\"Japan\\u002fInternational TV Shows\",\"Mexico\\u002fInternational TV Shows\",\"Nigeria\\u002fInternational TV Shows\",\"Not available\\u002fInternational TV Shows\",\"Philippines\\u002fInternational TV Shows\",\"Spain\\u002fInternational TV Shows\",\"Turkey\\u002fInternational TV Shows\",\"United Kingdom\\u002fInternational TV Shows\",\"United Kingdom, United States\\u002fInternational TV Shows\",\"United States\\u002fInternational TV Shows\",\"Canada\\u002fKids' TV\",\"France\\u002fKids' TV\",\"India\\u002fKids' TV\",\"Japan\\u002fKids' TV\",\"Mexico\\u002fKids' TV\",\"Not available\\u002fKids' TV\",\"Spain\\u002fKids' TV\",\"United Kingdom\\u002fKids' TV\",\"United Kingdom, United States\\u002fKids' TV\",\"United States\\u002fKids' TV\",\"Canada\\u002fKorean TV Shows\",\"Not available\\u002fKorean TV Shows\",\"United States\\u002fKorean TV Shows\",\"Canada\\u002fLGBTQ Movies\",\"France\\u002fLGBTQ Movies\",\"India\\u002fLGBTQ Movies\",\"Mexico\\u002fLGBTQ Movies\",\"Not available\\u002fLGBTQ Movies\",\"Philippines\\u002fLGBTQ Movies\",\"Spain\\u002fLGBTQ Movies\",\"United Kingdom\\u002fLGBTQ Movies\",\"United States\\u002fLGBTQ Movies\",\"Canada\\u002fMovies\",\"Japan\\u002fMovies\",\"Not available\\u002fMovies\",\"Spain\\u002fMovies\",\"United Kingdom\\u002fMovies\",\"United States\\u002fMovies\",\"Canada\\u002fMusic & Musicals\",\"Egypt\\u002fMusic & Musicals\",\"France\\u002fMusic & Musicals\",\"India\\u002fMusic & Musicals\",\"Indonesia\\u002fMusic & Musicals\",\"Japan\\u002fMusic & Musicals\",\"Mexico\\u002fMusic & Musicals\",\"Nigeria\\u002fMusic & Musicals\",\"Not available\\u002fMusic & Musicals\",\"Philippines\\u002fMusic & Musicals\",\"Spain\\u002fMusic & Musicals\",\"Turkey\\u002fMusic & Musicals\",\"United Kingdom\\u002fMusic & Musicals\",\"United Kingdom, United States\\u002fMusic & Musicals\",\"United States\\u002fMusic & Musicals\",\"Canada\\u002fReality TV\",\"France\\u002fReality TV\",\"India\\u002fReality TV\",\"Japan\\u002fReality TV\",\"Not available\\u002fReality TV\",\"Spain\\u002fReality TV\",\"United Kingdom\\u002fReality TV\",\"United States\\u002fReality TV\",\"Canada\\u002fRomantic Movies\",\"Egypt\\u002fRomantic Movies\",\"France\\u002fRomantic Movies\",\"India\\u002fRomantic Movies\",\"Indonesia\\u002fRomantic Movies\",\"Japan\\u002fRomantic Movies\",\"Mexico\\u002fRomantic Movies\",\"Nigeria\\u002fRomantic Movies\",\"Not available\\u002fRomantic Movies\",\"Philippines\\u002fRomantic Movies\",\"Spain\\u002fRomantic Movies\",\"Turkey\\u002fRomantic Movies\",\"United Kingdom\\u002fRomantic Movies\",\"United Kingdom, United States\\u002fRomantic Movies\",\"United States\\u002fRomantic Movies\",\"Canada\\u002fRomantic TV Shows\",\"Egypt\\u002fRomantic TV Shows\",\"France\\u002fRomantic TV Shows\",\"India\\u002fRomantic TV Shows\",\"Indonesia\\u002fRomantic TV Shows\",\"Japan\\u002fRomantic TV Shows\",\"Mexico\\u002fRomantic TV Shows\",\"Nigeria\\u002fRomantic TV Shows\",\"Not available\\u002fRomantic TV Shows\",\"Spain\\u002fRomantic TV Shows\",\"Turkey\\u002fRomantic TV Shows\",\"United Kingdom\\u002fRomantic TV Shows\",\"United States\\u002fRomantic TV Shows\",\"Canada\\u002fSci-Fi & Fantasy\",\"France\\u002fSci-Fi & Fantasy\",\"India\\u002fSci-Fi & Fantasy\",\"Japan\\u002fSci-Fi & Fantasy\",\"Mexico\\u002fSci-Fi & Fantasy\",\"Not available\\u002fSci-Fi & Fantasy\",\"Spain\\u002fSci-Fi & Fantasy\",\"United Kingdom\\u002fSci-Fi & Fantasy\",\"United Kingdom, United States\\u002fSci-Fi & Fantasy\",\"United States\\u002fSci-Fi & Fantasy\",\"Canada\\u002fScience & Nature TV\",\"Not available\\u002fScience & Nature TV\",\"United Kingdom\\u002fScience & Nature TV\",\"United Kingdom, United States\\u002fScience & Nature TV\",\"United States\\u002fScience & Nature TV\",\"Mexico\\u002fSpanish-Language TV Shows\",\"Not available\\u002fSpanish-Language TV Shows\",\"Spain\\u002fSpanish-Language TV Shows\",\"United States\\u002fSpanish-Language TV Shows\",\"Canada\\u002fSports Movies\",\"Egypt\\u002fSports Movies\",\"France\\u002fSports Movies\",\"India\\u002fSports Movies\",\"Indonesia\\u002fSports Movies\",\"Mexico\\u002fSports Movies\",\"Not available\\u002fSports Movies\",\"Philippines\\u002fSports Movies\",\"Spain\\u002fSports Movies\",\"Turkey\\u002fSports Movies\",\"United Kingdom\\u002fSports Movies\",\"United States\\u002fSports Movies\",\"Canada\\u002fStand-Up Comedy\",\"France\\u002fStand-Up Comedy\",\"India\\u002fStand-Up Comedy\",\"Mexico\\u002fStand-Up Comedy\",\"Not available\\u002fStand-Up Comedy\",\"United Kingdom\\u002fStand-Up Comedy\",\"United States\\u002fStand-Up Comedy\",\"France\\u002fStand-Up Comedy & Talk Shows\",\"India\\u002fStand-Up Comedy & Talk Shows\",\"Japan\\u002fStand-Up Comedy & Talk Shows\",\"Mexico\\u002fStand-Up Comedy & Talk Shows\",\"Not available\\u002fStand-Up Comedy & Talk Shows\",\"United Kingdom\\u002fStand-Up Comedy & Talk Shows\",\"United States\\u002fStand-Up Comedy & Talk Shows\",\"Canada\\u002fTV Action & Adventure\",\"France\\u002fTV Action & Adventure\",\"India\\u002fTV Action & Adventure\",\"Japan\\u002fTV Action & Adventure\",\"Mexico\\u002fTV Action & Adventure\",\"Not available\\u002fTV Action & Adventure\",\"Spain\\u002fTV Action & Adventure\",\"Turkey\\u002fTV Action & Adventure\",\"United Kingdom\\u002fTV Action & Adventure\",\"United Kingdom, United States\\u002fTV Action & Adventure\",\"United States\\u002fTV Action & Adventure\",\"Canada\\u002fTV Comedies\",\"Egypt\\u002fTV Comedies\",\"France\\u002fTV Comedies\",\"India\\u002fTV Comedies\",\"Indonesia\\u002fTV Comedies\",\"Japan\\u002fTV Comedies\",\"Mexico\\u002fTV Comedies\",\"Nigeria\\u002fTV Comedies\",\"Not available\\u002fTV Comedies\",\"Spain\\u002fTV Comedies\",\"Turkey\\u002fTV Comedies\",\"United Kingdom\\u002fTV Comedies\",\"United Kingdom, United States\\u002fTV Comedies\",\"United States\\u002fTV Comedies\",\"Canada\\u002fTV Dramas\",\"Egypt\\u002fTV Dramas\",\"France\\u002fTV Dramas\",\"India\\u002fTV Dramas\",\"Indonesia\\u002fTV Dramas\",\"Japan\\u002fTV Dramas\",\"Mexico\\u002fTV Dramas\",\"Nigeria\\u002fTV Dramas\",\"Not available\\u002fTV Dramas\",\"Philippines\\u002fTV Dramas\",\"Spain\\u002fTV Dramas\",\"Turkey\\u002fTV Dramas\",\"United Kingdom\\u002fTV Dramas\",\"United Kingdom, United States\\u002fTV Dramas\",\"United States\\u002fTV Dramas\",\"Canada\\u002fTV Horror\",\"Egypt\\u002fTV Horror\",\"France\\u002fTV Horror\",\"India\\u002fTV Horror\",\"Japan\\u002fTV Horror\",\"Not available\\u002fTV Horror\",\"Turkey\\u002fTV Horror\",\"United Kingdom\\u002fTV Horror\",\"United States\\u002fTV Horror\",\"Canada\\u002fTV Mysteries\",\"Egypt\\u002fTV Mysteries\",\"France\\u002fTV Mysteries\",\"India\\u002fTV Mysteries\",\"Japan\\u002fTV Mysteries\",\"Not available\\u002fTV Mysteries\",\"Turkey\\u002fTV Mysteries\",\"United Kingdom\\u002fTV Mysteries\",\"United States\\u002fTV Mysteries\",\"Canada\\u002fTV Sci-Fi & Fantasy\",\"Egypt\\u002fTV Sci-Fi & Fantasy\",\"India\\u002fTV Sci-Fi & Fantasy\",\"Not available\\u002fTV Sci-Fi & Fantasy\",\"United Kingdom\\u002fTV Sci-Fi & Fantasy\",\"United Kingdom, United States\\u002fTV Sci-Fi & Fantasy\",\"United States\\u002fTV Sci-Fi & Fantasy\",\"India\\u002fTV Shows\",\"Japan\\u002fTV Shows\",\"Not available\\u002fTV Shows\",\"United States\\u002fTV Shows\",\"Canada\\u002fTV Thrillers\",\"France\\u002fTV Thrillers\",\"India\\u002fTV Thrillers\",\"Japan\\u002fTV Thrillers\",\"Not available\\u002fTV Thrillers\",\"Turkey\\u002fTV Thrillers\",\"United Kingdom\\u002fTV Thrillers\",\"United States\\u002fTV Thrillers\",\"Canada\\u002fTeen TV Shows\",\"India\\u002fTeen TV Shows\",\"Japan\\u002fTeen TV Shows\",\"Not available\\u002fTeen TV Shows\",\"Spain\\u002fTeen TV Shows\",\"Turkey\\u002fTeen TV Shows\",\"United States\\u002fTeen TV Shows\",\"Canada\\u002fThrillers\",\"Egypt\\u002fThrillers\",\"France\\u002fThrillers\",\"India\\u002fThrillers\",\"Japan\\u002fThrillers\",\"Mexico\\u002fThrillers\",\"Nigeria\\u002fThrillers\",\"Not available\\u002fThrillers\",\"Spain\\u002fThrillers\",\"Turkey\\u002fThrillers\",\"United Kingdom\\u002fThrillers\",\"United Kingdom, United States\\u002fThrillers\",\"United States\\u002fThrillers\",\"Canada\",\"Egypt\",\"France\",\"India\",\"Indonesia\",\"Japan\",\"Mexico\",\"Nigeria\",\"Not available\",\"Philippines\",\"Spain\",\"Turkey\",\"United Kingdom\",\"United Kingdom, United States\",\"United States\"],\"labels\":[\"Action & Adventure\",\"Action & Adventure\",\"Action & Adventure\",\"Action & Adventure\",\"Action & Adventure\",\"Action & Adventure\",\"Action & Adventure\",\"Action & Adventure\",\"Action & Adventure\",\"Action & Adventure\",\"Action & Adventure\",\"Action & Adventure\",\"Action & Adventure\",\"Action & Adventure\",\"Action & Adventure\",\"Anime Features\",\"Anime Features\",\"Anime Series\",\"Anime Series\",\"Anime Series\",\"Anime Series\",\"British TV Shows\",\"British TV Shows\",\"British TV Shows\",\"British TV Shows\",\"British TV Shows\",\"Children & Family Movies\",\"Children & Family Movies\",\"Children & Family Movies\",\"Children & Family Movies\",\"Children & Family Movies\",\"Children & Family Movies\",\"Children & Family Movies\",\"Children & Family Movies\",\"Children & Family Movies\",\"Children & Family Movies\",\"Children & Family Movies\",\"Children & Family Movies\",\"Children & Family Movies\",\"Classic & Cult TV\",\"Classic & Cult TV\",\"Classic & Cult TV\",\"Classic & Cult TV\",\"Classic & Cult TV\",\"Classic Movies\",\"Classic Movies\",\"Classic Movies\",\"Classic Movies\",\"Classic Movies\",\"Classic Movies\",\"Classic Movies\",\"Comedies\",\"Comedies\",\"Comedies\",\"Comedies\",\"Comedies\",\"Comedies\",\"Comedies\",\"Comedies\",\"Comedies\",\"Comedies\",\"Comedies\",\"Comedies\",\"Comedies\",\"Comedies\",\"Crime TV Shows\",\"Crime TV Shows\",\"Crime TV Shows\",\"Crime TV Shows\",\"Crime TV Shows\",\"Crime TV Shows\",\"Crime TV Shows\",\"Crime TV Shows\",\"Crime TV Shows\",\"Crime TV Shows\",\"Crime TV Shows\",\"Crime TV Shows\",\"Cult Movies\",\"Cult Movies\",\"Cult Movies\",\"Cult Movies\",\"Cult Movies\",\"Documentaries\",\"Documentaries\",\"Documentaries\",\"Documentaries\",\"Documentaries\",\"Documentaries\",\"Documentaries\",\"Documentaries\",\"Documentaries\",\"Documentaries\",\"Documentaries\",\"Docuseries\",\"Docuseries\",\"Docuseries\",\"Docuseries\",\"Docuseries\",\"Docuseries\",\"Docuseries\",\"Docuseries\",\"Docuseries\",\"Docuseries\",\"Dramas\",\"Dramas\",\"Dramas\",\"Dramas\",\"Dramas\",\"Dramas\",\"Dramas\",\"Dramas\",\"Dramas\",\"Dramas\",\"Dramas\",\"Dramas\",\"Dramas\",\"Dramas\",\"Dramas\",\"Faith & Spirituality\",\"Faith & Spirituality\",\"Faith & Spirituality\",\"Faith & Spirituality\",\"Faith & Spirituality\",\"Faith & Spirituality\",\"Faith & Spirituality\",\"Horror Movies\",\"Horror Movies\",\"Horror Movies\",\"Horror Movies\",\"Horror Movies\",\"Horror Movies\",\"Horror Movies\",\"Horror Movies\",\"Horror Movies\",\"Horror Movies\",\"Horror Movies\",\"Horror Movies\",\"Horror Movies\",\"Horror Movies\",\"Independent Movies\",\"Independent Movies\",\"Independent Movies\",\"Independent Movies\",\"Independent Movies\",\"Independent Movies\",\"Independent Movies\",\"Independent Movies\",\"Independent Movies\",\"Independent Movies\",\"Independent Movies\",\"Independent Movies\",\"Independent Movies\",\"International Movies\",\"International Movies\",\"International Movies\",\"International Movies\",\"International Movies\",\"International Movies\",\"International Movies\",\"International Movies\",\"International Movies\",\"International Movies\",\"International Movies\",\"International Movies\",\"International Movies\",\"International Movies\",\"International Movies\",\"International TV Shows\",\"International TV Shows\",\"International TV Shows\",\"International TV Shows\",\"International TV Shows\",\"International TV Shows\",\"International TV Shows\",\"International TV Shows\",\"International TV Shows\",\"International TV Shows\",\"International TV Shows\",\"International TV Shows\",\"International TV Shows\",\"International TV Shows\",\"International TV Shows\",\"Kids' TV\",\"Kids' TV\",\"Kids' TV\",\"Kids' TV\",\"Kids' TV\",\"Kids' TV\",\"Kids' TV\",\"Kids' TV\",\"Kids' TV\",\"Kids' TV\",\"Korean TV Shows\",\"Korean TV Shows\",\"Korean TV Shows\",\"LGBTQ Movies\",\"LGBTQ Movies\",\"LGBTQ Movies\",\"LGBTQ Movies\",\"LGBTQ Movies\",\"LGBTQ Movies\",\"LGBTQ Movies\",\"LGBTQ Movies\",\"LGBTQ Movies\",\"Movies\",\"Movies\",\"Movies\",\"Movies\",\"Movies\",\"Movies\",\"Music & Musicals\",\"Music & Musicals\",\"Music & Musicals\",\"Music & Musicals\",\"Music & Musicals\",\"Music & Musicals\",\"Music & Musicals\",\"Music & Musicals\",\"Music & Musicals\",\"Music & Musicals\",\"Music & Musicals\",\"Music & Musicals\",\"Music & Musicals\",\"Music & Musicals\",\"Music & Musicals\",\"Reality TV\",\"Reality TV\",\"Reality TV\",\"Reality TV\",\"Reality TV\",\"Reality TV\",\"Reality TV\",\"Reality TV\",\"Romantic Movies\",\"Romantic Movies\",\"Romantic Movies\",\"Romantic Movies\",\"Romantic Movies\",\"Romantic Movies\",\"Romantic Movies\",\"Romantic Movies\",\"Romantic Movies\",\"Romantic Movies\",\"Romantic Movies\",\"Romantic Movies\",\"Romantic Movies\",\"Romantic Movies\",\"Romantic Movies\",\"Romantic TV Shows\",\"Romantic TV Shows\",\"Romantic TV Shows\",\"Romantic TV Shows\",\"Romantic TV Shows\",\"Romantic TV Shows\",\"Romantic TV Shows\",\"Romantic TV Shows\",\"Romantic TV Shows\",\"Romantic TV Shows\",\"Romantic TV Shows\",\"Romantic TV Shows\",\"Romantic TV Shows\",\"Sci-Fi & Fantasy\",\"Sci-Fi & Fantasy\",\"Sci-Fi & Fantasy\",\"Sci-Fi & Fantasy\",\"Sci-Fi & Fantasy\",\"Sci-Fi & Fantasy\",\"Sci-Fi & Fantasy\",\"Sci-Fi & Fantasy\",\"Sci-Fi & Fantasy\",\"Sci-Fi & Fantasy\",\"Science & Nature TV\",\"Science & Nature TV\",\"Science & Nature TV\",\"Science & Nature TV\",\"Science & Nature TV\",\"Spanish-Language TV Shows\",\"Spanish-Language TV Shows\",\"Spanish-Language TV Shows\",\"Spanish-Language TV Shows\",\"Sports Movies\",\"Sports Movies\",\"Sports Movies\",\"Sports Movies\",\"Sports Movies\",\"Sports Movies\",\"Sports Movies\",\"Sports Movies\",\"Sports Movies\",\"Sports Movies\",\"Sports Movies\",\"Sports Movies\",\"Stand-Up Comedy\",\"Stand-Up Comedy\",\"Stand-Up Comedy\",\"Stand-Up Comedy\",\"Stand-Up Comedy\",\"Stand-Up Comedy\",\"Stand-Up Comedy\",\"Stand-Up Comedy & Talk Shows\",\"Stand-Up Comedy & Talk Shows\",\"Stand-Up Comedy & Talk Shows\",\"Stand-Up Comedy & Talk Shows\",\"Stand-Up Comedy & Talk Shows\",\"Stand-Up Comedy & Talk Shows\",\"Stand-Up Comedy & Talk Shows\",\"TV Action & Adventure\",\"TV Action & Adventure\",\"TV Action & Adventure\",\"TV Action & Adventure\",\"TV Action & Adventure\",\"TV Action & Adventure\",\"TV Action & Adventure\",\"TV Action & Adventure\",\"TV Action & Adventure\",\"TV Action & Adventure\",\"TV Action & Adventure\",\"TV Comedies\",\"TV Comedies\",\"TV Comedies\",\"TV Comedies\",\"TV Comedies\",\"TV Comedies\",\"TV Comedies\",\"TV Comedies\",\"TV Comedies\",\"TV Comedies\",\"TV Comedies\",\"TV Comedies\",\"TV Comedies\",\"TV Comedies\",\"TV Dramas\",\"TV Dramas\",\"TV Dramas\",\"TV Dramas\",\"TV Dramas\",\"TV Dramas\",\"TV Dramas\",\"TV Dramas\",\"TV Dramas\",\"TV Dramas\",\"TV Dramas\",\"TV Dramas\",\"TV Dramas\",\"TV Dramas\",\"TV Dramas\",\"TV Horror\",\"TV Horror\",\"TV Horror\",\"TV Horror\",\"TV Horror\",\"TV Horror\",\"TV Horror\",\"TV Horror\",\"TV Horror\",\"TV Mysteries\",\"TV Mysteries\",\"TV Mysteries\",\"TV Mysteries\",\"TV Mysteries\",\"TV Mysteries\",\"TV Mysteries\",\"TV Mysteries\",\"TV Mysteries\",\"TV Sci-Fi & Fantasy\",\"TV Sci-Fi & Fantasy\",\"TV Sci-Fi & Fantasy\",\"TV Sci-Fi & Fantasy\",\"TV Sci-Fi & Fantasy\",\"TV Sci-Fi & Fantasy\",\"TV Sci-Fi & Fantasy\",\"TV Shows\",\"TV Shows\",\"TV Shows\",\"TV Shows\",\"TV Thrillers\",\"TV Thrillers\",\"TV Thrillers\",\"TV Thrillers\",\"TV Thrillers\",\"TV Thrillers\",\"TV Thrillers\",\"TV Thrillers\",\"Teen TV Shows\",\"Teen TV Shows\",\"Teen TV Shows\",\"Teen TV Shows\",\"Teen TV Shows\",\"Teen TV Shows\",\"Teen TV Shows\",\"Thrillers\",\"Thrillers\",\"Thrillers\",\"Thrillers\",\"Thrillers\",\"Thrillers\",\"Thrillers\",\"Thrillers\",\"Thrillers\",\"Thrillers\",\"Thrillers\",\"Thrillers\",\"Thrillers\",\"Canada\",\"Egypt\",\"France\",\"India\",\"Indonesia\",\"Japan\",\"Mexico\",\"Nigeria\",\"Not available\",\"Philippines\",\"Spain\",\"Turkey\",\"United Kingdom\",\"United Kingdom, United States\",\"United States\"],\"name\":\"\",\"parents\":[\"Canada\",\"Egypt\",\"France\",\"India\",\"Indonesia\",\"Japan\",\"Mexico\",\"Nigeria\",\"Not available\",\"Philippines\",\"Spain\",\"Turkey\",\"United Kingdom\",\"United Kingdom, United States\",\"United States\",\"Japan\",\"United States\",\"Japan\",\"Not available\",\"Spain\",\"United States\",\"India\",\"Not available\",\"United Kingdom\",\"United Kingdom, United States\",\"United States\",\"Canada\",\"Egypt\",\"France\",\"India\",\"Indonesia\",\"Japan\",\"Mexico\",\"Not available\",\"Spain\",\"Turkey\",\"United Kingdom\",\"United Kingdom, United States\",\"United States\",\"Canada\",\"Mexico\",\"United Kingdom\",\"United Kingdom, United States\",\"United States\",\"Egypt\",\"India\",\"Japan\",\"Mexico\",\"United Kingdom\",\"United Kingdom, United States\",\"United States\",\"Canada\",\"Egypt\",\"France\",\"India\",\"Indonesia\",\"Mexico\",\"Nigeria\",\"Not available\",\"Philippines\",\"Spain\",\"Turkey\",\"United Kingdom\",\"United Kingdom, United States\",\"United States\",\"Canada\",\"Egypt\",\"France\",\"India\",\"Japan\",\"Mexico\",\"Not available\",\"Spain\",\"Turkey\",\"United Kingdom\",\"United Kingdom, United States\",\"United States\",\"Canada\",\"India\",\"United Kingdom\",\"United Kingdom, United States\",\"United States\",\"Canada\",\"France\",\"India\",\"Indonesia\",\"Mexico\",\"Nigeria\",\"Not available\",\"Spain\",\"United Kingdom\",\"United Kingdom, United States\",\"United States\",\"Canada\",\"France\",\"India\",\"Japan\",\"Mexico\",\"Not available\",\"Spain\",\"United Kingdom\",\"United Kingdom, United States\",\"United States\",\"Canada\",\"Egypt\",\"France\",\"India\",\"Indonesia\",\"Japan\",\"Mexico\",\"Nigeria\",\"Not available\",\"Philippines\",\"Spain\",\"Turkey\",\"United Kingdom\",\"United Kingdom, United States\",\"United States\",\"Canada\",\"India\",\"Indonesia\",\"Not available\",\"Spain\",\"United Kingdom, United States\",\"United States\",\"Canada\",\"Egypt\",\"India\",\"Indonesia\",\"Japan\",\"Mexico\",\"Nigeria\",\"Not available\",\"Philippines\",\"Spain\",\"Turkey\",\"United Kingdom\",\"United Kingdom, United States\",\"United States\",\"Canada\",\"Egypt\",\"France\",\"India\",\"Mexico\",\"Nigeria\",\"Not available\",\"Philippines\",\"Spain\",\"Turkey\",\"United Kingdom\",\"United Kingdom, United States\",\"United States\",\"Canada\",\"Egypt\",\"France\",\"India\",\"Indonesia\",\"Japan\",\"Mexico\",\"Nigeria\",\"Not available\",\"Philippines\",\"Spain\",\"Turkey\",\"United Kingdom\",\"United Kingdom, United States\",\"United States\",\"Canada\",\"Egypt\",\"France\",\"India\",\"Indonesia\",\"Japan\",\"Mexico\",\"Nigeria\",\"Not available\",\"Philippines\",\"Spain\",\"Turkey\",\"United Kingdom\",\"United Kingdom, United States\",\"United States\",\"Canada\",\"France\",\"India\",\"Japan\",\"Mexico\",\"Not available\",\"Spain\",\"United Kingdom\",\"United Kingdom, United States\",\"United States\",\"Canada\",\"Not available\",\"United States\",\"Canada\",\"France\",\"India\",\"Mexico\",\"Not available\",\"Philippines\",\"Spain\",\"United Kingdom\",\"United States\",\"Canada\",\"Japan\",\"Not available\",\"Spain\",\"United Kingdom\",\"United States\",\"Canada\",\"Egypt\",\"France\",\"India\",\"Indonesia\",\"Japan\",\"Mexico\",\"Nigeria\",\"Not available\",\"Philippines\",\"Spain\",\"Turkey\",\"United Kingdom\",\"United Kingdom, United States\",\"United States\",\"Canada\",\"France\",\"India\",\"Japan\",\"Not available\",\"Spain\",\"United Kingdom\",\"United States\",\"Canada\",\"Egypt\",\"France\",\"India\",\"Indonesia\",\"Japan\",\"Mexico\",\"Nigeria\",\"Not available\",\"Philippines\",\"Spain\",\"Turkey\",\"United Kingdom\",\"United Kingdom, United States\",\"United States\",\"Canada\",\"Egypt\",\"France\",\"India\",\"Indonesia\",\"Japan\",\"Mexico\",\"Nigeria\",\"Not available\",\"Spain\",\"Turkey\",\"United Kingdom\",\"United States\",\"Canada\",\"France\",\"India\",\"Japan\",\"Mexico\",\"Not available\",\"Spain\",\"United Kingdom\",\"United Kingdom, United States\",\"United States\",\"Canada\",\"Not available\",\"United Kingdom\",\"United Kingdom, United States\",\"United States\",\"Mexico\",\"Not available\",\"Spain\",\"United States\",\"Canada\",\"Egypt\",\"France\",\"India\",\"Indonesia\",\"Mexico\",\"Not available\",\"Philippines\",\"Spain\",\"Turkey\",\"United Kingdom\",\"United States\",\"Canada\",\"France\",\"India\",\"Mexico\",\"Not available\",\"United Kingdom\",\"United States\",\"France\",\"India\",\"Japan\",\"Mexico\",\"Not available\",\"United Kingdom\",\"United States\",\"Canada\",\"France\",\"India\",\"Japan\",\"Mexico\",\"Not available\",\"Spain\",\"Turkey\",\"United Kingdom\",\"United Kingdom, United States\",\"United States\",\"Canada\",\"Egypt\",\"France\",\"India\",\"Indonesia\",\"Japan\",\"Mexico\",\"Nigeria\",\"Not available\",\"Spain\",\"Turkey\",\"United Kingdom\",\"United Kingdom, United States\",\"United States\",\"Canada\",\"Egypt\",\"France\",\"India\",\"Indonesia\",\"Japan\",\"Mexico\",\"Nigeria\",\"Not available\",\"Philippines\",\"Spain\",\"Turkey\",\"United Kingdom\",\"United Kingdom, United States\",\"United States\",\"Canada\",\"Egypt\",\"France\",\"India\",\"Japan\",\"Not available\",\"Turkey\",\"United Kingdom\",\"United States\",\"Canada\",\"Egypt\",\"France\",\"India\",\"Japan\",\"Not available\",\"Turkey\",\"United Kingdom\",\"United States\",\"Canada\",\"Egypt\",\"India\",\"Not available\",\"United Kingdom\",\"United Kingdom, United States\",\"United States\",\"India\",\"Japan\",\"Not available\",\"United States\",\"Canada\",\"France\",\"India\",\"Japan\",\"Not available\",\"Turkey\",\"United Kingdom\",\"United States\",\"Canada\",\"India\",\"Japan\",\"Not available\",\"Spain\",\"Turkey\",\"United States\",\"Canada\",\"Egypt\",\"France\",\"India\",\"Japan\",\"Mexico\",\"Nigeria\",\"Not available\",\"Spain\",\"Turkey\",\"United Kingdom\",\"United Kingdom, United States\",\"United States\",\"\",\"\",\"\",\"\",\"\",\"\",\"\",\"\",\"\",\"\",\"\",\"\",\"\",\"\",\"\"],\"values\":[12,14,12,124,3,42,2,2,15,5,3,3,19,12,196,52,1,121,10,1,5,1,12,187,7,4,29,1,1,16,5,11,1,53,1,2,7,7,252,1,2,6,1,14,6,11,1,1,3,4,53,38,57,17,293,13,16,27,42,27,31,56,31,13,458,9,1,12,8,14,18,31,20,10,36,5,105,3,5,3,1,32,20,22,18,1,10,1,44,16,79,3,381,8,5,7,1,2,39,4,79,3,163,21,34,29,589,50,9,22,39,44,42,35,24,37,21,517,1,3,5,2,2,1,28,7,3,31,10,1,4,2,6,3,3,3,9,3,126,15,1,8,129,12,5,3,2,11,2,24,9,284,25,87,63,785,64,48,46,59,95,70,83,71,61,9,17,18,12,30,59,2,129,32,8,156,1,43,27,102,4,26,20,15,10,12,3,70,2,18,1,132,1,15,1,3,1,2,1,1,2,2,3,52,4,1,19,1,2,22,4,3,5,90,1,3,3,1,23,1,4,1,13,5,100,9,2,3,6,33,2,32,103,15,11,4,111,21,3,6,13,10,35,9,22,3,9,147,1,3,2,9,1,20,4,2,52,9,5,9,33,5,1,10,7,2,1,2,6,2,101,3,6,21,1,38,29,15,34,12,6,1,7,15,4,1,9,1,3,2,13,82,2,4,6,17,29,20,211,1,3,1,1,7,1,33,2,2,5,4,1,9,2,5,3,1,67,14,3,14,25,1,6,3,2,55,5,3,37,2,219,18,10,19,24,2,20,5,6,81,1,9,22,21,3,181,3,1,3,7,4,1,1,1,27,3,2,2,3,4,1,2,1,37,2,1,3,3,1,1,42,2,1,5,3,4,2,3,4,1,2,1,21,2,1,14,1,1,1,29,11,4,3,85,1,1,10,11,18,2,15,5,168,339,255,286,2496,183,540,245,177,1010,190,356,266,904,133,4523],\"type\":\"treemap\"}],                        {\"template\":{\"data\":{\"histogram2dcontour\":[{\"type\":\"histogram2dcontour\",\"colorbar\":{\"outlinewidth\":0,\"ticks\":\"\"},\"colorscale\":[[0.0,\"#0d0887\"],[0.1111111111111111,\"#46039f\"],[0.2222222222222222,\"#7201a8\"],[0.3333333333333333,\"#9c179e\"],[0.4444444444444444,\"#bd3786\"],[0.5555555555555556,\"#d8576b\"],[0.6666666666666666,\"#ed7953\"],[0.7777777777777778,\"#fb9f3a\"],[0.8888888888888888,\"#fdca26\"],[1.0,\"#f0f921\"]]}],\"choropleth\":[{\"type\":\"choropleth\",\"colorbar\":{\"outlinewidth\":0,\"ticks\":\"\"}}],\"histogram2d\":[{\"type\":\"histogram2d\",\"colorbar\":{\"outlinewidth\":0,\"ticks\":\"\"},\"colorscale\":[[0.0,\"#0d0887\"],[0.1111111111111111,\"#46039f\"],[0.2222222222222222,\"#7201a8\"],[0.3333333333333333,\"#9c179e\"],[0.4444444444444444,\"#bd3786\"],[0.5555555555555556,\"#d8576b\"],[0.6666666666666666,\"#ed7953\"],[0.7777777777777778,\"#fb9f3a\"],[0.8888888888888888,\"#fdca26\"],[1.0,\"#f0f921\"]]}],\"heatmap\":[{\"type\":\"heatmap\",\"colorbar\":{\"outlinewidth\":0,\"ticks\":\"\"},\"colorscale\":[[0.0,\"#0d0887\"],[0.1111111111111111,\"#46039f\"],[0.2222222222222222,\"#7201a8\"],[0.3333333333333333,\"#9c179e\"],[0.4444444444444444,\"#bd3786\"],[0.5555555555555556,\"#d8576b\"],[0.6666666666666666,\"#ed7953\"],[0.7777777777777778,\"#fb9f3a\"],[0.8888888888888888,\"#fdca26\"],[1.0,\"#f0f921\"]]}],\"heatmapgl\":[{\"type\":\"heatmapgl\",\"colorbar\":{\"outlinewidth\":0,\"ticks\":\"\"},\"colorscale\":[[0.0,\"#0d0887\"],[0.1111111111111111,\"#46039f\"],[0.2222222222222222,\"#7201a8\"],[0.3333333333333333,\"#9c179e\"],[0.4444444444444444,\"#bd3786\"],[0.5555555555555556,\"#d8576b\"],[0.6666666666666666,\"#ed7953\"],[0.7777777777777778,\"#fb9f3a\"],[0.8888888888888888,\"#fdca26\"],[1.0,\"#f0f921\"]]}],\"contourcarpet\":[{\"type\":\"contourcarpet\",\"colorbar\":{\"outlinewidth\":0,\"ticks\":\"\"}}],\"contour\":[{\"type\":\"contour\",\"colorbar\":{\"outlinewidth\":0,\"ticks\":\"\"},\"colorscale\":[[0.0,\"#0d0887\"],[0.1111111111111111,\"#46039f\"],[0.2222222222222222,\"#7201a8\"],[0.3333333333333333,\"#9c179e\"],[0.4444444444444444,\"#bd3786\"],[0.5555555555555556,\"#d8576b\"],[0.6666666666666666,\"#ed7953\"],[0.7777777777777778,\"#fb9f3a\"],[0.8888888888888888,\"#fdca26\"],[1.0,\"#f0f921\"]]}],\"surface\":[{\"type\":\"surface\",\"colorbar\":{\"outlinewidth\":0,\"ticks\":\"\"},\"colorscale\":[[0.0,\"#0d0887\"],[0.1111111111111111,\"#46039f\"],[0.2222222222222222,\"#7201a8\"],[0.3333333333333333,\"#9c179e\"],[0.4444444444444444,\"#bd3786\"],[0.5555555555555556,\"#d8576b\"],[0.6666666666666666,\"#ed7953\"],[0.7777777777777778,\"#fb9f3a\"],[0.8888888888888888,\"#fdca26\"],[1.0,\"#f0f921\"]]}],\"mesh3d\":[{\"type\":\"mesh3d\",\"colorbar\":{\"outlinewidth\":0,\"ticks\":\"\"}}],\"scatter\":[{\"fillpattern\":{\"fillmode\":\"overlay\",\"size\":10,\"solidity\":0.2},\"type\":\"scatter\"}],\"parcoords\":[{\"type\":\"parcoords\",\"line\":{\"colorbar\":{\"outlinewidth\":0,\"ticks\":\"\"}}}],\"scatterpolargl\":[{\"type\":\"scatterpolargl\",\"marker\":{\"colorbar\":{\"outlinewidth\":0,\"ticks\":\"\"}}}],\"bar\":[{\"error_x\":{\"color\":\"#2a3f5f\"},\"error_y\":{\"color\":\"#2a3f5f\"},\"marker\":{\"line\":{\"color\":\"#E5ECF6\",\"width\":0.5},\"pattern\":{\"fillmode\":\"overlay\",\"size\":10,\"solidity\":0.2}},\"type\":\"bar\"}],\"scattergeo\":[{\"type\":\"scattergeo\",\"marker\":{\"colorbar\":{\"outlinewidth\":0,\"ticks\":\"\"}}}],\"scatterpolar\":[{\"type\":\"scatterpolar\",\"marker\":{\"colorbar\":{\"outlinewidth\":0,\"ticks\":\"\"}}}],\"histogram\":[{\"marker\":{\"pattern\":{\"fillmode\":\"overlay\",\"size\":10,\"solidity\":0.2}},\"type\":\"histogram\"}],\"scattergl\":[{\"type\":\"scattergl\",\"marker\":{\"colorbar\":{\"outlinewidth\":0,\"ticks\":\"\"}}}],\"scatter3d\":[{\"type\":\"scatter3d\",\"line\":{\"colorbar\":{\"outlinewidth\":0,\"ticks\":\"\"}},\"marker\":{\"colorbar\":{\"outlinewidth\":0,\"ticks\":\"\"}}}],\"scattermapbox\":[{\"type\":\"scattermapbox\",\"marker\":{\"colorbar\":{\"outlinewidth\":0,\"ticks\":\"\"}}}],\"scatterternary\":[{\"type\":\"scatterternary\",\"marker\":{\"colorbar\":{\"outlinewidth\":0,\"ticks\":\"\"}}}],\"scattercarpet\":[{\"type\":\"scattercarpet\",\"marker\":{\"colorbar\":{\"outlinewidth\":0,\"ticks\":\"\"}}}],\"carpet\":[{\"aaxis\":{\"endlinecolor\":\"#2a3f5f\",\"gridcolor\":\"white\",\"linecolor\":\"white\",\"minorgridcolor\":\"white\",\"startlinecolor\":\"#2a3f5f\"},\"baxis\":{\"endlinecolor\":\"#2a3f5f\",\"gridcolor\":\"white\",\"linecolor\":\"white\",\"minorgridcolor\":\"white\",\"startlinecolor\":\"#2a3f5f\"},\"type\":\"carpet\"}],\"table\":[{\"cells\":{\"fill\":{\"color\":\"#EBF0F8\"},\"line\":{\"color\":\"white\"}},\"header\":{\"fill\":{\"color\":\"#C8D4E3\"},\"line\":{\"color\":\"white\"}},\"type\":\"table\"}],\"barpolar\":[{\"marker\":{\"line\":{\"color\":\"#E5ECF6\",\"width\":0.5},\"pattern\":{\"fillmode\":\"overlay\",\"size\":10,\"solidity\":0.2}},\"type\":\"barpolar\"}],\"pie\":[{\"automargin\":true,\"type\":\"pie\"}]},\"layout\":{\"autotypenumbers\":\"strict\",\"colorway\":[\"#636efa\",\"#EF553B\",\"#00cc96\",\"#ab63fa\",\"#FFA15A\",\"#19d3f3\",\"#FF6692\",\"#B6E880\",\"#FF97FF\",\"#FECB52\"],\"font\":{\"color\":\"#2a3f5f\"},\"hovermode\":\"closest\",\"hoverlabel\":{\"align\":\"left\"},\"paper_bgcolor\":\"white\",\"plot_bgcolor\":\"#E5ECF6\",\"polar\":{\"bgcolor\":\"#E5ECF6\",\"angularaxis\":{\"gridcolor\":\"white\",\"linecolor\":\"white\",\"ticks\":\"\"},\"radialaxis\":{\"gridcolor\":\"white\",\"linecolor\":\"white\",\"ticks\":\"\"}},\"ternary\":{\"bgcolor\":\"#E5ECF6\",\"aaxis\":{\"gridcolor\":\"white\",\"linecolor\":\"white\",\"ticks\":\"\"},\"baxis\":{\"gridcolor\":\"white\",\"linecolor\":\"white\",\"ticks\":\"\"},\"caxis\":{\"gridcolor\":\"white\",\"linecolor\":\"white\",\"ticks\":\"\"}},\"coloraxis\":{\"colorbar\":{\"outlinewidth\":0,\"ticks\":\"\"}},\"colorscale\":{\"sequential\":[[0.0,\"#0d0887\"],[0.1111111111111111,\"#46039f\"],[0.2222222222222222,\"#7201a8\"],[0.3333333333333333,\"#9c179e\"],[0.4444444444444444,\"#bd3786\"],[0.5555555555555556,\"#d8576b\"],[0.6666666666666666,\"#ed7953\"],[0.7777777777777778,\"#fb9f3a\"],[0.8888888888888888,\"#fdca26\"],[1.0,\"#f0f921\"]],\"sequentialminus\":[[0.0,\"#0d0887\"],[0.1111111111111111,\"#46039f\"],[0.2222222222222222,\"#7201a8\"],[0.3333333333333333,\"#9c179e\"],[0.4444444444444444,\"#bd3786\"],[0.5555555555555556,\"#d8576b\"],[0.6666666666666666,\"#ed7953\"],[0.7777777777777778,\"#fb9f3a\"],[0.8888888888888888,\"#fdca26\"],[1.0,\"#f0f921\"]],\"diverging\":[[0,\"#8e0152\"],[0.1,\"#c51b7d\"],[0.2,\"#de77ae\"],[0.3,\"#f1b6da\"],[0.4,\"#fde0ef\"],[0.5,\"#f7f7f7\"],[0.6,\"#e6f5d0\"],[0.7,\"#b8e186\"],[0.8,\"#7fbc41\"],[0.9,\"#4d9221\"],[1,\"#276419\"]]},\"xaxis\":{\"gridcolor\":\"white\",\"linecolor\":\"white\",\"ticks\":\"\",\"title\":{\"standoff\":15},\"zerolinecolor\":\"white\",\"automargin\":true,\"zerolinewidth\":2},\"yaxis\":{\"gridcolor\":\"white\",\"linecolor\":\"white\",\"ticks\":\"\",\"title\":{\"standoff\":15},\"zerolinecolor\":\"white\",\"automargin\":true,\"zerolinewidth\":2},\"scene\":{\"xaxis\":{\"backgroundcolor\":\"#E5ECF6\",\"gridcolor\":\"white\",\"linecolor\":\"white\",\"showbackground\":true,\"ticks\":\"\",\"zerolinecolor\":\"white\",\"gridwidth\":2},\"yaxis\":{\"backgroundcolor\":\"#E5ECF6\",\"gridcolor\":\"white\",\"linecolor\":\"white\",\"showbackground\":true,\"ticks\":\"\",\"zerolinecolor\":\"white\",\"gridwidth\":2},\"zaxis\":{\"backgroundcolor\":\"#E5ECF6\",\"gridcolor\":\"white\",\"linecolor\":\"white\",\"showbackground\":true,\"ticks\":\"\",\"zerolinecolor\":\"white\",\"gridwidth\":2}},\"shapedefaults\":{\"line\":{\"color\":\"#2a3f5f\"}},\"annotationdefaults\":{\"arrowcolor\":\"#2a3f5f\",\"arrowhead\":0,\"arrowwidth\":1},\"geo\":{\"bgcolor\":\"white\",\"landcolor\":\"#E5ECF6\",\"subunitcolor\":\"white\",\"showland\":true,\"showlakes\":true,\"lakecolor\":\"white\"},\"title\":{\"x\":0.05},\"mapbox\":{\"style\":\"light\"}}},\"legend\":{\"tracegroupgap\":0},\"title\":{\"text\":\"Genre Distribution in Top Countries (Treemap)\"}},                        {\"responsive\": true}                    ).then(function(){\n",
              "                            \n",
              "var gd = document.getElementById('befe457f-afb0-4233-be3c-575ca59ff71d');\n",
              "var x = new MutationObserver(function (mutations, observer) {{\n",
              "        var display = window.getComputedStyle(gd).display;\n",
              "        if (!display || display === 'none') {{\n",
              "            console.log([gd, 'removed!']);\n",
              "            Plotly.purge(gd);\n",
              "            observer.disconnect();\n",
              "        }}\n",
              "}});\n",
              "\n",
              "// Listen for the removal of the full notebook cells\n",
              "var notebookContainer = gd.closest('#notebook-container');\n",
              "if (notebookContainer) {{\n",
              "    x.observe(notebookContainer, {childList: true});\n",
              "}}\n",
              "\n",
              "// Listen for the clearing of the current output cell\n",
              "var outputEl = gd.closest('.output');\n",
              "if (outputEl) {{\n",
              "    x.observe(outputEl, {childList: true});\n",
              "}}\n",
              "\n",
              "                        })                };                            </script>        </div>\n",
              "</body>\n",
              "</html>"
            ]
          },
          "metadata": {}
        }
      ]
    },
    {
      "cell_type": "markdown",
      "source": [
        "**United States:** Dominates with a vast variety of genres, notably Dramas, Comedies, and Documentaries.\n",
        "\n",
        "**India:** Shows strong presence in International Movies and Dramas, along with notable counts in Comedies and Thrillers.\n",
        "\n",
        "**United Kingdom & Japan:** The UK displays a mix including Reality TV and Documentaries, while Japan has a prominent focus on Anime Series.\n",
        "\n",
        "**Cultural Differences:** The visualization clearly illustrates how genre preferences vary across regions, highlighting distinctive cultural tastes in content consumption."
      ],
      "metadata": {
        "id": "sktYZe0FYftA"
      }
    },
    {
      "cell_type": "markdown",
      "source": [
        "#### **Temporal Trends** by Country"
      ],
      "metadata": {
        "id": "p98vsDL0W5jS"
      }
    },
    {
      "cell_type": "code",
      "source": [
        "# Extract the year from the date_added column\n",
        "df['year_added'] = df['date_added'].dt.year\n",
        "\n",
        "# Group data by year_added and country, then count titles\n",
        "temporal_trends = df.groupby(['year_added', 'country']).size().reset_index(name='count')\n",
        "\n",
        "# Filter by top countries to reduce noise\n",
        "temporal_trends_top = temporal_trends[temporal_trends['country'].isin(top_country_list)]\n",
        "\n",
        "# Create an interactive line chart\n",
        "fig_trends = px.line(temporal_trends_top, x='year_added', y='count', color='country',\n",
        "                     title='Yearly Content Trends in Top Countries',\n",
        "                     labels={'year_added': 'Year Added', 'count': 'Number of Titles'})\n",
        "fig_trends.show()"
      ],
      "metadata": {
        "colab": {
          "base_uri": "https://localhost:8080/",
          "height": 542
        },
        "id": "f6DhFgakWXjv",
        "outputId": "d36edfe6-a1af-4ca5-9574-e74f193a6521"
      },
      "execution_count": null,
      "outputs": [
        {
          "output_type": "display_data",
          "data": {
            "text/html": [
              "<html>\n",
              "<head><meta charset=\"utf-8\" /></head>\n",
              "<body>\n",
              "    <div>            <script src=\"https://cdnjs.cloudflare.com/ajax/libs/mathjax/2.7.5/MathJax.js?config=TeX-AMS-MML_SVG\"></script><script type=\"text/javascript\">if (window.MathJax && window.MathJax.Hub && window.MathJax.Hub.Config) {window.MathJax.Hub.Config({SVG: {font: \"STIX-Web\"}});}</script>                <script type=\"text/javascript\">window.PlotlyConfig = {MathJaxConfig: 'local'};</script>\n",
              "        <script charset=\"utf-8\" src=\"https://cdn.plot.ly/plotly-2.35.2.min.js\"></script>                <div id=\"d8b8f6dc-44cf-4f75-9c82-7f69944468db\" class=\"plotly-graph-div\" style=\"height:525px; width:100%;\"></div>            <script type=\"text/javascript\">                                    window.PLOTLYENV=window.PLOTLYENV || {};                                    if (document.getElementById(\"d8b8f6dc-44cf-4f75-9c82-7f69944468db\")) {                    Plotly.newPlot(                        \"d8b8f6dc-44cf-4f75-9c82-7f69944468db\",                        [{\"hovertemplate\":\"country=United States\\u003cbr\\u003eYear Added=%{x}\\u003cbr\\u003eNumber of Titles=%{y}\\u003cextra\\u003e\\u003c\\u002fextra\\u003e\",\"legendgroup\":\"United States\",\"line\":{\"color\":\"#636efa\",\"dash\":\"solid\"},\"marker\":{\"symbol\":\"circle\"},\"mode\":\"lines\",\"name\":\"United States\",\"orientation\":\"v\",\"showlegend\":true,\"x\":[2008,2009,2010,2011,2012,2013,2014,2015,2016,2017,2018,2019,2020,2021],\"xaxis\":\"x\",\"y\":[2,1,1,12,2,7,15,46,152,361,455,768,678,55],\"yaxis\":\"y\",\"type\":\"scatter\"},{\"hovertemplate\":\"country=Canada\\u003cbr\\u003eYear Added=%{x}\\u003cbr\\u003eNumber of Titles=%{y}\\u003cextra\\u003e\\u003c\\u002fextra\\u003e\",\"legendgroup\":\"Canada\",\"line\":{\"color\":\"#EF553B\",\"dash\":\"solid\"},\"marker\":{\"symbol\":\"circle\"},\"mode\":\"lines\",\"name\":\"Canada\",\"orientation\":\"v\",\"showlegend\":true,\"x\":[2013,2014,2015,2016,2017,2018,2019,2020],\"xaxis\":\"x\",\"y\":[1,1,3,11,33,32,45,51],\"yaxis\":\"y\",\"type\":\"scatter\"},{\"hovertemplate\":\"country=United Kingdom, United States\\u003cbr\\u003eYear Added=%{x}\\u003cbr\\u003eNumber of Titles=%{y}\\u003cextra\\u003e\\u003c\\u002fextra\\u003e\",\"legendgroup\":\"United Kingdom, United States\",\"line\":{\"color\":\"#00cc96\",\"dash\":\"solid\"},\"marker\":{\"symbol\":\"circle\"},\"mode\":\"lines\",\"name\":\"United Kingdom, United States\",\"orientation\":\"v\",\"showlegend\":true,\"x\":[2014,2017,2018,2019,2020,2021],\"xaxis\":\"x\",\"y\":[1,7,16,19,20,1],\"yaxis\":\"y\",\"type\":\"scatter\"},{\"hovertemplate\":\"country=France\\u003cbr\\u003eYear Added=%{x}\\u003cbr\\u003eNumber of Titles=%{y}\\u003cextra\\u003e\\u003c\\u002fextra\\u003e\",\"legendgroup\":\"France\",\"line\":{\"color\":\"#ab63fa\",\"dash\":\"solid\"},\"marker\":{\"symbol\":\"circle\"},\"mode\":\"lines\",\"name\":\"France\",\"orientation\":\"v\",\"showlegend\":true,\"x\":[2015,2016,2017,2018,2019,2020,2021],\"xaxis\":\"x\",\"y\":[2,8,17,23,33,30,2],\"yaxis\":\"y\",\"type\":\"scatter\"},{\"hovertemplate\":\"country=Japan\\u003cbr\\u003eYear Added=%{x}\\u003cbr\\u003eNumber of Titles=%{y}\\u003cextra\\u003e\\u003c\\u002fextra\\u003e\",\"legendgroup\":\"Japan\",\"line\":{\"color\":\"#FFA15A\",\"dash\":\"solid\"},\"marker\":{\"symbol\":\"circle\"},\"mode\":\"lines\",\"name\":\"Japan\",\"orientation\":\"v\",\"showlegend\":true,\"x\":[2015,2016,2017,2018,2019,2020,2021],\"xaxis\":\"x\",\"y\":[1,17,35,38,65,69,1],\"yaxis\":\"y\",\"type\":\"scatter\"},{\"hovertemplate\":\"country=Mexico\\u003cbr\\u003eYear Added=%{x}\\u003cbr\\u003eNumber of Titles=%{y}\\u003cextra\\u003e\\u003c\\u002fextra\\u003e\",\"legendgroup\":\"Mexico\",\"line\":{\"color\":\"#19d3f3\",\"dash\":\"solid\"},\"marker\":{\"symbol\":\"circle\"},\"mode\":\"lines\",\"name\":\"Mexico\",\"orientation\":\"v\",\"showlegend\":true,\"x\":[2015,2016,2017,2018,2019,2020,2021],\"xaxis\":\"x\",\"y\":[1,8,28,17,26,19,1],\"yaxis\":\"y\",\"type\":\"scatter\"},{\"hovertemplate\":\"country=Nigeria\\u003cbr\\u003eYear Added=%{x}\\u003cbr\\u003eNumber of Titles=%{y}\\u003cextra\\u003e\\u003c\\u002fextra\\u003e\",\"legendgroup\":\"Nigeria\",\"line\":{\"color\":\"#FF6692\",\"dash\":\"solid\"},\"marker\":{\"symbol\":\"circle\"},\"mode\":\"lines\",\"name\":\"Nigeria\",\"orientation\":\"v\",\"showlegend\":true,\"x\":[2015,2016,2017,2018,2019,2020],\"xaxis\":\"x\",\"y\":[1,1,1,1,28,38],\"yaxis\":\"y\",\"type\":\"scatter\"},{\"hovertemplate\":\"country=Not available\\u003cbr\\u003eYear Added=%{x}\\u003cbr\\u003eNumber of Titles=%{y}\\u003cextra\\u003e\\u003c\\u002fextra\\u003e\",\"legendgroup\":\"Not available\",\"line\":{\"color\":\"#B6E880\",\"dash\":\"solid\"},\"marker\":{\"symbol\":\"circle\"},\"mode\":\"lines\",\"name\":\"Not available\",\"orientation\":\"v\",\"showlegend\":true,\"x\":[2015,2016,2017,2018,2019,2020,2021],\"xaxis\":\"x\",\"y\":[5,19,66,121,162,119,15],\"yaxis\":\"y\",\"type\":\"scatter\"},{\"hovertemplate\":\"country=United Kingdom\\u003cbr\\u003eYear Added=%{x}\\u003cbr\\u003eNumber of Titles=%{y}\\u003cextra\\u003e\\u003c\\u002fextra\\u003e\",\"legendgroup\":\"United Kingdom\",\"line\":{\"color\":\"#FF97FF\",\"dash\":\"solid\"},\"marker\":{\"symbol\":\"circle\"},\"mode\":\"lines\",\"name\":\"United Kingdom\",\"orientation\":\"v\",\"showlegend\":true,\"x\":[2015,2016,2017,2018,2019,2020,2021],\"xaxis\":\"x\",\"y\":[3,36,91,72,118,74,3],\"yaxis\":\"y\",\"type\":\"scatter\"},{\"hovertemplate\":\"country=India\\u003cbr\\u003eYear Added=%{x}\\u003cbr\\u003eNumber of Titles=%{y}\\u003cextra\\u003e\\u003c\\u002fextra\\u003e\",\"legendgroup\":\"India\",\"line\":{\"color\":\"#FECB52\",\"dash\":\"solid\"},\"marker\":{\"symbol\":\"circle\"},\"mode\":\"lines\",\"name\":\"India\",\"orientation\":\"v\",\"showlegend\":true,\"x\":[2016,2017,2018,2019,2020,2021],\"xaxis\":\"x\",\"y\":[11,142,340,226,192,12],\"yaxis\":\"y\",\"type\":\"scatter\"},{\"hovertemplate\":\"country=Spain\\u003cbr\\u003eYear Added=%{x}\\u003cbr\\u003eNumber of Titles=%{y}\\u003cextra\\u003e\\u003c\\u002fextra\\u003e\",\"legendgroup\":\"Spain\",\"line\":{\"color\":\"#636efa\",\"dash\":\"solid\"},\"marker\":{\"symbol\":\"circle\"},\"mode\":\"lines\",\"name\":\"Spain\",\"orientation\":\"v\",\"showlegend\":true,\"x\":[2016,2017,2018,2019,2020,2021],\"xaxis\":\"x\",\"y\":[11,21,29,44,28,1],\"yaxis\":\"y\",\"type\":\"scatter\"},{\"hovertemplate\":\"country=Turkey\\u003cbr\\u003eYear Added=%{x}\\u003cbr\\u003eNumber of Titles=%{y}\\u003cextra\\u003e\\u003c\\u002fextra\\u003e\",\"legendgroup\":\"Turkey\",\"line\":{\"color\":\"#EF553B\",\"dash\":\"solid\"},\"marker\":{\"symbol\":\"circle\"},\"mode\":\"lines\",\"name\":\"Turkey\",\"orientation\":\"v\",\"showlegend\":true,\"x\":[2016,2017,2018,2019,2020,2021],\"xaxis\":\"x\",\"y\":[3,44,5,22,25,1],\"yaxis\":\"y\",\"type\":\"scatter\"},{\"hovertemplate\":\"country=Indonesia\\u003cbr\\u003eYear Added=%{x}\\u003cbr\\u003eNumber of Titles=%{y}\\u003cextra\\u003e\\u003c\\u002fextra\\u003e\",\"legendgroup\":\"Indonesia\",\"line\":{\"color\":\"#00cc96\",\"dash\":\"solid\"},\"marker\":{\"symbol\":\"circle\"},\"mode\":\"lines\",\"name\":\"Indonesia\",\"orientation\":\"v\",\"showlegend\":true,\"x\":[2017,2018,2019,2020,2021],\"xaxis\":\"x\",\"y\":[2,24,16,26,2],\"yaxis\":\"y\",\"type\":\"scatter\"},{\"hovertemplate\":\"country=Egypt\\u003cbr\\u003eYear Added=%{x}\\u003cbr\\u003eNumber of Titles=%{y}\\u003cextra\\u003e\\u003c\\u002fextra\\u003e\",\"legendgroup\":\"Egypt\",\"line\":{\"color\":\"#ab63fa\",\"dash\":\"solid\"},\"marker\":{\"symbol\":\"circle\"},\"mode\":\"lines\",\"name\":\"Egypt\",\"orientation\":\"v\",\"showlegend\":true,\"x\":[2018,2019,2020],\"xaxis\":\"x\",\"y\":[1,53,47],\"yaxis\":\"y\",\"type\":\"scatter\"},{\"hovertemplate\":\"country=Philippines\\u003cbr\\u003eYear Added=%{x}\\u003cbr\\u003eNumber of Titles=%{y}\\u003cextra\\u003e\\u003c\\u002fextra\\u003e\",\"legendgroup\":\"Philippines\",\"line\":{\"color\":\"#FFA15A\",\"dash\":\"solid\"},\"marker\":{\"symbol\":\"circle\"},\"mode\":\"lines\",\"name\":\"Philippines\",\"orientation\":\"v\",\"showlegend\":true,\"x\":[2018,2019,2020],\"xaxis\":\"x\",\"y\":[4,37,30],\"yaxis\":\"y\",\"type\":\"scatter\"}],                        {\"template\":{\"data\":{\"histogram2dcontour\":[{\"type\":\"histogram2dcontour\",\"colorbar\":{\"outlinewidth\":0,\"ticks\":\"\"},\"colorscale\":[[0.0,\"#0d0887\"],[0.1111111111111111,\"#46039f\"],[0.2222222222222222,\"#7201a8\"],[0.3333333333333333,\"#9c179e\"],[0.4444444444444444,\"#bd3786\"],[0.5555555555555556,\"#d8576b\"],[0.6666666666666666,\"#ed7953\"],[0.7777777777777778,\"#fb9f3a\"],[0.8888888888888888,\"#fdca26\"],[1.0,\"#f0f921\"]]}],\"choropleth\":[{\"type\":\"choropleth\",\"colorbar\":{\"outlinewidth\":0,\"ticks\":\"\"}}],\"histogram2d\":[{\"type\":\"histogram2d\",\"colorbar\":{\"outlinewidth\":0,\"ticks\":\"\"},\"colorscale\":[[0.0,\"#0d0887\"],[0.1111111111111111,\"#46039f\"],[0.2222222222222222,\"#7201a8\"],[0.3333333333333333,\"#9c179e\"],[0.4444444444444444,\"#bd3786\"],[0.5555555555555556,\"#d8576b\"],[0.6666666666666666,\"#ed7953\"],[0.7777777777777778,\"#fb9f3a\"],[0.8888888888888888,\"#fdca26\"],[1.0,\"#f0f921\"]]}],\"heatmap\":[{\"type\":\"heatmap\",\"colorbar\":{\"outlinewidth\":0,\"ticks\":\"\"},\"colorscale\":[[0.0,\"#0d0887\"],[0.1111111111111111,\"#46039f\"],[0.2222222222222222,\"#7201a8\"],[0.3333333333333333,\"#9c179e\"],[0.4444444444444444,\"#bd3786\"],[0.5555555555555556,\"#d8576b\"],[0.6666666666666666,\"#ed7953\"],[0.7777777777777778,\"#fb9f3a\"],[0.8888888888888888,\"#fdca26\"],[1.0,\"#f0f921\"]]}],\"heatmapgl\":[{\"type\":\"heatmapgl\",\"colorbar\":{\"outlinewidth\":0,\"ticks\":\"\"},\"colorscale\":[[0.0,\"#0d0887\"],[0.1111111111111111,\"#46039f\"],[0.2222222222222222,\"#7201a8\"],[0.3333333333333333,\"#9c179e\"],[0.4444444444444444,\"#bd3786\"],[0.5555555555555556,\"#d8576b\"],[0.6666666666666666,\"#ed7953\"],[0.7777777777777778,\"#fb9f3a\"],[0.8888888888888888,\"#fdca26\"],[1.0,\"#f0f921\"]]}],\"contourcarpet\":[{\"type\":\"contourcarpet\",\"colorbar\":{\"outlinewidth\":0,\"ticks\":\"\"}}],\"contour\":[{\"type\":\"contour\",\"colorbar\":{\"outlinewidth\":0,\"ticks\":\"\"},\"colorscale\":[[0.0,\"#0d0887\"],[0.1111111111111111,\"#46039f\"],[0.2222222222222222,\"#7201a8\"],[0.3333333333333333,\"#9c179e\"],[0.4444444444444444,\"#bd3786\"],[0.5555555555555556,\"#d8576b\"],[0.6666666666666666,\"#ed7953\"],[0.7777777777777778,\"#fb9f3a\"],[0.8888888888888888,\"#fdca26\"],[1.0,\"#f0f921\"]]}],\"surface\":[{\"type\":\"surface\",\"colorbar\":{\"outlinewidth\":0,\"ticks\":\"\"},\"colorscale\":[[0.0,\"#0d0887\"],[0.1111111111111111,\"#46039f\"],[0.2222222222222222,\"#7201a8\"],[0.3333333333333333,\"#9c179e\"],[0.4444444444444444,\"#bd3786\"],[0.5555555555555556,\"#d8576b\"],[0.6666666666666666,\"#ed7953\"],[0.7777777777777778,\"#fb9f3a\"],[0.8888888888888888,\"#fdca26\"],[1.0,\"#f0f921\"]]}],\"mesh3d\":[{\"type\":\"mesh3d\",\"colorbar\":{\"outlinewidth\":0,\"ticks\":\"\"}}],\"scatter\":[{\"fillpattern\":{\"fillmode\":\"overlay\",\"size\":10,\"solidity\":0.2},\"type\":\"scatter\"}],\"parcoords\":[{\"type\":\"parcoords\",\"line\":{\"colorbar\":{\"outlinewidth\":0,\"ticks\":\"\"}}}],\"scatterpolargl\":[{\"type\":\"scatterpolargl\",\"marker\":{\"colorbar\":{\"outlinewidth\":0,\"ticks\":\"\"}}}],\"bar\":[{\"error_x\":{\"color\":\"#2a3f5f\"},\"error_y\":{\"color\":\"#2a3f5f\"},\"marker\":{\"line\":{\"color\":\"#E5ECF6\",\"width\":0.5},\"pattern\":{\"fillmode\":\"overlay\",\"size\":10,\"solidity\":0.2}},\"type\":\"bar\"}],\"scattergeo\":[{\"type\":\"scattergeo\",\"marker\":{\"colorbar\":{\"outlinewidth\":0,\"ticks\":\"\"}}}],\"scatterpolar\":[{\"type\":\"scatterpolar\",\"marker\":{\"colorbar\":{\"outlinewidth\":0,\"ticks\":\"\"}}}],\"histogram\":[{\"marker\":{\"pattern\":{\"fillmode\":\"overlay\",\"size\":10,\"solidity\":0.2}},\"type\":\"histogram\"}],\"scattergl\":[{\"type\":\"scattergl\",\"marker\":{\"colorbar\":{\"outlinewidth\":0,\"ticks\":\"\"}}}],\"scatter3d\":[{\"type\":\"scatter3d\",\"line\":{\"colorbar\":{\"outlinewidth\":0,\"ticks\":\"\"}},\"marker\":{\"colorbar\":{\"outlinewidth\":0,\"ticks\":\"\"}}}],\"scattermapbox\":[{\"type\":\"scattermapbox\",\"marker\":{\"colorbar\":{\"outlinewidth\":0,\"ticks\":\"\"}}}],\"scatterternary\":[{\"type\":\"scatterternary\",\"marker\":{\"colorbar\":{\"outlinewidth\":0,\"ticks\":\"\"}}}],\"scattercarpet\":[{\"type\":\"scattercarpet\",\"marker\":{\"colorbar\":{\"outlinewidth\":0,\"ticks\":\"\"}}}],\"carpet\":[{\"aaxis\":{\"endlinecolor\":\"#2a3f5f\",\"gridcolor\":\"white\",\"linecolor\":\"white\",\"minorgridcolor\":\"white\",\"startlinecolor\":\"#2a3f5f\"},\"baxis\":{\"endlinecolor\":\"#2a3f5f\",\"gridcolor\":\"white\",\"linecolor\":\"white\",\"minorgridcolor\":\"white\",\"startlinecolor\":\"#2a3f5f\"},\"type\":\"carpet\"}],\"table\":[{\"cells\":{\"fill\":{\"color\":\"#EBF0F8\"},\"line\":{\"color\":\"white\"}},\"header\":{\"fill\":{\"color\":\"#C8D4E3\"},\"line\":{\"color\":\"white\"}},\"type\":\"table\"}],\"barpolar\":[{\"marker\":{\"line\":{\"color\":\"#E5ECF6\",\"width\":0.5},\"pattern\":{\"fillmode\":\"overlay\",\"size\":10,\"solidity\":0.2}},\"type\":\"barpolar\"}],\"pie\":[{\"automargin\":true,\"type\":\"pie\"}]},\"layout\":{\"autotypenumbers\":\"strict\",\"colorway\":[\"#636efa\",\"#EF553B\",\"#00cc96\",\"#ab63fa\",\"#FFA15A\",\"#19d3f3\",\"#FF6692\",\"#B6E880\",\"#FF97FF\",\"#FECB52\"],\"font\":{\"color\":\"#2a3f5f\"},\"hovermode\":\"closest\",\"hoverlabel\":{\"align\":\"left\"},\"paper_bgcolor\":\"white\",\"plot_bgcolor\":\"#E5ECF6\",\"polar\":{\"bgcolor\":\"#E5ECF6\",\"angularaxis\":{\"gridcolor\":\"white\",\"linecolor\":\"white\",\"ticks\":\"\"},\"radialaxis\":{\"gridcolor\":\"white\",\"linecolor\":\"white\",\"ticks\":\"\"}},\"ternary\":{\"bgcolor\":\"#E5ECF6\",\"aaxis\":{\"gridcolor\":\"white\",\"linecolor\":\"white\",\"ticks\":\"\"},\"baxis\":{\"gridcolor\":\"white\",\"linecolor\":\"white\",\"ticks\":\"\"},\"caxis\":{\"gridcolor\":\"white\",\"linecolor\":\"white\",\"ticks\":\"\"}},\"coloraxis\":{\"colorbar\":{\"outlinewidth\":0,\"ticks\":\"\"}},\"colorscale\":{\"sequential\":[[0.0,\"#0d0887\"],[0.1111111111111111,\"#46039f\"],[0.2222222222222222,\"#7201a8\"],[0.3333333333333333,\"#9c179e\"],[0.4444444444444444,\"#bd3786\"],[0.5555555555555556,\"#d8576b\"],[0.6666666666666666,\"#ed7953\"],[0.7777777777777778,\"#fb9f3a\"],[0.8888888888888888,\"#fdca26\"],[1.0,\"#f0f921\"]],\"sequentialminus\":[[0.0,\"#0d0887\"],[0.1111111111111111,\"#46039f\"],[0.2222222222222222,\"#7201a8\"],[0.3333333333333333,\"#9c179e\"],[0.4444444444444444,\"#bd3786\"],[0.5555555555555556,\"#d8576b\"],[0.6666666666666666,\"#ed7953\"],[0.7777777777777778,\"#fb9f3a\"],[0.8888888888888888,\"#fdca26\"],[1.0,\"#f0f921\"]],\"diverging\":[[0,\"#8e0152\"],[0.1,\"#c51b7d\"],[0.2,\"#de77ae\"],[0.3,\"#f1b6da\"],[0.4,\"#fde0ef\"],[0.5,\"#f7f7f7\"],[0.6,\"#e6f5d0\"],[0.7,\"#b8e186\"],[0.8,\"#7fbc41\"],[0.9,\"#4d9221\"],[1,\"#276419\"]]},\"xaxis\":{\"gridcolor\":\"white\",\"linecolor\":\"white\",\"ticks\":\"\",\"title\":{\"standoff\":15},\"zerolinecolor\":\"white\",\"automargin\":true,\"zerolinewidth\":2},\"yaxis\":{\"gridcolor\":\"white\",\"linecolor\":\"white\",\"ticks\":\"\",\"title\":{\"standoff\":15},\"zerolinecolor\":\"white\",\"automargin\":true,\"zerolinewidth\":2},\"scene\":{\"xaxis\":{\"backgroundcolor\":\"#E5ECF6\",\"gridcolor\":\"white\",\"linecolor\":\"white\",\"showbackground\":true,\"ticks\":\"\",\"zerolinecolor\":\"white\",\"gridwidth\":2},\"yaxis\":{\"backgroundcolor\":\"#E5ECF6\",\"gridcolor\":\"white\",\"linecolor\":\"white\",\"showbackground\":true,\"ticks\":\"\",\"zerolinecolor\":\"white\",\"gridwidth\":2},\"zaxis\":{\"backgroundcolor\":\"#E5ECF6\",\"gridcolor\":\"white\",\"linecolor\":\"white\",\"showbackground\":true,\"ticks\":\"\",\"zerolinecolor\":\"white\",\"gridwidth\":2}},\"shapedefaults\":{\"line\":{\"color\":\"#2a3f5f\"}},\"annotationdefaults\":{\"arrowcolor\":\"#2a3f5f\",\"arrowhead\":0,\"arrowwidth\":1},\"geo\":{\"bgcolor\":\"white\",\"landcolor\":\"#E5ECF6\",\"subunitcolor\":\"white\",\"showland\":true,\"showlakes\":true,\"lakecolor\":\"white\"},\"title\":{\"x\":0.05},\"mapbox\":{\"style\":\"light\"}}},\"xaxis\":{\"anchor\":\"y\",\"domain\":[0.0,1.0],\"title\":{\"text\":\"Year Added\"}},\"yaxis\":{\"anchor\":\"x\",\"domain\":[0.0,1.0],\"title\":{\"text\":\"Number of Titles\"}},\"legend\":{\"title\":{\"text\":\"country\"},\"tracegroupgap\":0},\"title\":{\"text\":\"Yearly Content Trends in Top Countries\"}},                        {\"responsive\": true}                    ).then(function(){\n",
              "                            \n",
              "var gd = document.getElementById('d8b8f6dc-44cf-4f75-9c82-7f69944468db');\n",
              "var x = new MutationObserver(function (mutations, observer) {{\n",
              "        var display = window.getComputedStyle(gd).display;\n",
              "        if (!display || display === 'none') {{\n",
              "            console.log([gd, 'removed!']);\n",
              "            Plotly.purge(gd);\n",
              "            observer.disconnect();\n",
              "        }}\n",
              "}});\n",
              "\n",
              "// Listen for the removal of the full notebook cells\n",
              "var notebookContainer = gd.closest('#notebook-container');\n",
              "if (notebookContainer) {{\n",
              "    x.observe(notebookContainer, {childList: true});\n",
              "}}\n",
              "\n",
              "// Listen for the clearing of the current output cell\n",
              "var outputEl = gd.closest('.output');\n",
              "if (outputEl) {{\n",
              "    x.observe(outputEl, {childList: true});\n",
              "}}\n",
              "\n",
              "                        })                };                            </script>        </div>\n",
              "</body>\n",
              "</html>"
            ]
          },
          "metadata": {}
        }
      ]
    },
    {
      "cell_type": "markdown",
      "source": [
        "Netflix evolved from **2008 to 2020** across various countries. Notably, the United States experienced a sharp increase starting around 2016, peaking in 2018, and then a steep decline by 2020, while other countries show more gradual and modest fluctuations over the same period."
      ],
      "metadata": {
        "id": "FmzZ01ypZG_R"
      }
    },
    {
      "cell_type": "markdown",
      "source": [
        "#### Content **Rating Distribution** by Country"
      ],
      "metadata": {
        "id": "i-dSou0qXA9C"
      }
    },
    {
      "cell_type": "code",
      "source": [
        "# Group by country and rating; count how many titles fall in each rating category\n",
        "rating_by_country = df.groupby(['country', 'rating']).size().reset_index(name='count')\n",
        "\n",
        "# Filter for top countries only\n",
        "rating_by_country_top = rating_by_country[rating_by_country['country'].isin(top_country_list)]\n",
        "\n",
        "# Create a grouped bar chart\n",
        "fig_rating = px.bar(rating_by_country_top, x='country', y='count', color='rating',\n",
        "                    title='Content Rating Distribution in Top Countries',\n",
        "                    labels={'country': 'Country', 'count': 'Number of Titles', 'rating': 'Rating'})\n",
        "fig_rating.update_layout(xaxis_tickangle=-45)\n",
        "fig_rating.show()\n"
      ],
      "metadata": {
        "colab": {
          "base_uri": "https://localhost:8080/",
          "height": 542
        },
        "id": "fkwNuPG8W65z",
        "outputId": "63d7d8c7-6c8d-4479-bb68-629cbbea42b6"
      },
      "execution_count": null,
      "outputs": [
        {
          "output_type": "display_data",
          "data": {
            "text/html": [
              "<html>\n",
              "<head><meta charset=\"utf-8\" /></head>\n",
              "<body>\n",
              "    <div>            <script src=\"https://cdnjs.cloudflare.com/ajax/libs/mathjax/2.7.5/MathJax.js?config=TeX-AMS-MML_SVG\"></script><script type=\"text/javascript\">if (window.MathJax && window.MathJax.Hub && window.MathJax.Hub.Config) {window.MathJax.Hub.Config({SVG: {font: \"STIX-Web\"}});}</script>                <script type=\"text/javascript\">window.PlotlyConfig = {MathJaxConfig: 'local'};</script>\n",
              "        <script charset=\"utf-8\" src=\"https://cdn.plot.ly/plotly-2.35.2.min.js\"></script>                <div id=\"1cd4c656-9a65-4179-9062-cfd3944d39b3\" class=\"plotly-graph-div\" style=\"height:525px; width:100%;\"></div>            <script type=\"text/javascript\">                                    window.PLOTLYENV=window.PLOTLYENV || {};                                    if (document.getElementById(\"1cd4c656-9a65-4179-9062-cfd3944d39b3\")) {                    Plotly.newPlot(                        \"1cd4c656-9a65-4179-9062-cfd3944d39b3\",                        [{\"alignmentgroup\":\"True\",\"hovertemplate\":\"Rating=G\\u003cbr\\u003eCountry=%{x}\\u003cbr\\u003eNumber of Titles=%{y}\\u003cextra\\u003e\\u003c\\u002fextra\\u003e\",\"legendgroup\":\"G\",\"marker\":{\"color\":\"#636efa\",\"pattern\":{\"shape\":\"\"}},\"name\":\"G\",\"offsetgroup\":\"G\",\"orientation\":\"v\",\"showlegend\":true,\"textposition\":\"auto\",\"x\":[\"Canada\",\"United Kingdom, United States\",\"United States\"],\"xaxis\":\"x\",\"y\":[1,1,29],\"yaxis\":\"y\",\"type\":\"bar\"},{\"alignmentgroup\":\"True\",\"hovertemplate\":\"Rating=NC-17\\u003cbr\\u003eCountry=%{x}\\u003cbr\\u003eNumber of Titles=%{y}\\u003cextra\\u003e\\u003c\\u002fextra\\u003e\",\"legendgroup\":\"NC-17\",\"marker\":{\"color\":\"#EF553B\",\"pattern\":{\"shape\":\"\"}},\"name\":\"NC-17\",\"offsetgroup\":\"NC-17\",\"orientation\":\"v\",\"showlegend\":true,\"textposition\":\"auto\",\"x\":[\"Canada\",\"United States\"],\"xaxis\":\"x\",\"y\":[1,1],\"yaxis\":\"y\",\"type\":\"bar\"},{\"alignmentgroup\":\"True\",\"hovertemplate\":\"Rating=NR\\u003cbr\\u003eCountry=%{x}\\u003cbr\\u003eNumber of Titles=%{y}\\u003cextra\\u003e\\u003c\\u002fextra\\u003e\",\"legendgroup\":\"NR\",\"marker\":{\"color\":\"#00cc96\",\"pattern\":{\"shape\":\"\"}},\"name\":\"NR\",\"offsetgroup\":\"NR\",\"orientation\":\"v\",\"showlegend\":true,\"textposition\":\"auto\",\"x\":[\"Canada\",\"India\",\"Mexico\",\"Nigeria\",\"Spain\",\"Turkey\",\"United Kingdom\",\"United Kingdom, United States\",\"United States\"],\"xaxis\":\"x\",\"y\":[2,5,4,1,1,3,5,1,35],\"yaxis\":\"y\",\"type\":\"bar\"},{\"alignmentgroup\":\"True\",\"hovertemplate\":\"Rating=PG\\u003cbr\\u003eCountry=%{x}\\u003cbr\\u003eNumber of Titles=%{y}\\u003cextra\\u003e\\u003c\\u002fextra\\u003e\",\"legendgroup\":\"PG\",\"marker\":{\"color\":\"#ab63fa\",\"pattern\":{\"shape\":\"\"}},\"name\":\"PG\",\"offsetgroup\":\"PG\",\"orientation\":\"v\",\"showlegend\":true,\"textposition\":\"auto\",\"x\":[\"Canada\",\"France\",\"India\",\"Japan\",\"Not available\",\"Spain\",\"United Kingdom\",\"United Kingdom, United States\",\"United States\"],\"xaxis\":\"x\",\"y\":[8,1,3,5,3,1,2,6,144],\"yaxis\":\"y\",\"type\":\"bar\"},{\"alignmentgroup\":\"True\",\"hovertemplate\":\"Rating=PG-13\\u003cbr\\u003eCountry=%{x}\\u003cbr\\u003eNumber of Titles=%{y}\\u003cextra\\u003e\\u003c\\u002fextra\\u003e\",\"legendgroup\":\"PG-13\",\"marker\":{\"color\":\"#FFA15A\",\"pattern\":{\"shape\":\"\"}},\"name\":\"PG-13\",\"offsetgroup\":\"PG-13\",\"orientation\":\"v\",\"showlegend\":true,\"textposition\":\"auto\",\"x\":[\"Canada\",\"France\",\"India\",\"Japan\",\"Mexico\",\"Not available\",\"Spain\",\"United Kingdom\",\"United Kingdom, United States\",\"United States\"],\"xaxis\":\"x\",\"y\":[3,1,4,3,1,3,1,7,13,227],\"yaxis\":\"y\",\"type\":\"bar\"},{\"alignmentgroup\":\"True\",\"hovertemplate\":\"Rating=R\\u003cbr\\u003eCountry=%{x}\\u003cbr\\u003eNumber of Titles=%{y}\\u003cextra\\u003e\\u003c\\u002fextra\\u003e\",\"legendgroup\":\"R\",\"marker\":{\"color\":\"#19d3f3\",\"pattern\":{\"shape\":\"\"}},\"name\":\"R\",\"offsetgroup\":\"R\",\"orientation\":\"v\",\"showlegend\":true,\"textposition\":\"auto\",\"x\":[\"Canada\",\"France\",\"India\",\"Indonesia\",\"Mexico\",\"Not available\",\"Philippines\",\"Spain\",\"United Kingdom\",\"United Kingdom, United States\",\"United States\"],\"xaxis\":\"x\",\"y\":[16,2,2,2,4,2,1,2,31,20,364],\"yaxis\":\"y\",\"type\":\"bar\"},{\"alignmentgroup\":\"True\",\"hovertemplate\":\"Rating=TV-14\\u003cbr\\u003eCountry=%{x}\\u003cbr\\u003eNumber of Titles=%{y}\\u003cextra\\u003e\\u003c\\u002fextra\\u003e\",\"legendgroup\":\"TV-14\",\"marker\":{\"color\":\"#FF6692\",\"pattern\":{\"shape\":\"\"}},\"name\":\"TV-14\",\"offsetgroup\":\"TV-14\",\"orientation\":\"v\",\"showlegend\":true,\"textposition\":\"auto\",\"x\":[\"Canada\",\"Egypt\",\"France\",\"India\",\"Indonesia\",\"Japan\",\"Mexico\",\"Nigeria\",\"Not available\",\"Philippines\",\"Spain\",\"Turkey\",\"United Kingdom\",\"United Kingdom, United States\",\"United States\"],\"xaxis\":\"x\",\"y\":[23,69,18,520,31,77,13,33,136,34,12,36,68,4,378],\"yaxis\":\"y\",\"type\":\"bar\"},{\"alignmentgroup\":\"True\",\"hovertemplate\":\"Rating=TV-G\\u003cbr\\u003eCountry=%{x}\\u003cbr\\u003eNumber of Titles=%{y}\\u003cextra\\u003e\\u003c\\u002fextra\\u003e\",\"legendgroup\":\"TV-G\",\"marker\":{\"color\":\"#B6E880\",\"pattern\":{\"shape\":\"\"}},\"name\":\"TV-G\",\"offsetgroup\":\"TV-G\",\"orientation\":\"v\",\"showlegend\":true,\"textposition\":\"auto\",\"x\":[\"Canada\",\"France\",\"India\",\"Indonesia\",\"Japan\",\"Mexico\",\"Nigeria\",\"Not available\",\"Philippines\",\"Spain\",\"Turkey\",\"United Kingdom\",\"United States\"],\"xaxis\":\"x\",\"y\":[14,2,9,8,1,2,1,17,4,1,1,21,77],\"yaxis\":\"y\",\"type\":\"bar\"},{\"alignmentgroup\":\"True\",\"hovertemplate\":\"Rating=TV-MA\\u003cbr\\u003eCountry=%{x}\\u003cbr\\u003eNumber of Titles=%{y}\\u003cextra\\u003e\\u003c\\u002fextra\\u003e\",\"legendgroup\":\"TV-MA\",\"marker\":{\"color\":\"#FF97FF\",\"pattern\":{\"shape\":\"\"}},\"name\":\"TV-MA\",\"offsetgroup\":\"TV-MA\",\"orientation\":\"v\",\"showlegend\":true,\"textposition\":\"auto\",\"x\":[\"Canada\",\"Egypt\",\"France\",\"India\",\"Indonesia\",\"Japan\",\"Mexico\",\"Nigeria\",\"Not available\",\"Philippines\",\"Spain\",\"Turkey\",\"United Kingdom\",\"United Kingdom, United States\",\"United States\"],\"xaxis\":\"x\",\"y\":[60,28,75,228,13,82,69,29,159,24,109,50,168,15,880],\"yaxis\":\"y\",\"type\":\"bar\"},{\"alignmentgroup\":\"True\",\"hovertemplate\":\"Rating=TV-PG\\u003cbr\\u003eCountry=%{x}\\u003cbr\\u003eNumber of Titles=%{y}\\u003cextra\\u003e\\u003c\\u002fextra\\u003e\",\"legendgroup\":\"TV-PG\",\"marker\":{\"color\":\"#FECB52\",\"pattern\":{\"shape\":\"\"}},\"name\":\"TV-PG\",\"offsetgroup\":\"TV-PG\",\"orientation\":\"v\",\"showlegend\":true,\"textposition\":\"auto\",\"x\":[\"Canada\",\"Egypt\",\"France\",\"India\",\"Indonesia\",\"Japan\",\"Mexico\",\"Nigeria\",\"Not available\",\"Philippines\",\"Spain\",\"Turkey\",\"United Kingdom\",\"United Kingdom, United States\",\"United States\"],\"xaxis\":\"x\",\"y\":[22,4,3,133,16,39,5,6,65,8,5,10,74,3,241],\"yaxis\":\"y\",\"type\":\"bar\"},{\"alignmentgroup\":\"True\",\"hovertemplate\":\"Rating=TV-Y\\u003cbr\\u003eCountry=%{x}\\u003cbr\\u003eNumber of Titles=%{y}\\u003cextra\\u003e\\u003c\\u002fextra\\u003e\",\"legendgroup\":\"TV-Y\",\"marker\":{\"color\":\"#636efa\",\"pattern\":{\"shape\":\"\"}},\"name\":\"TV-Y\",\"offsetgroup\":\"TV-Y\",\"orientation\":\"v\",\"showlegend\":true,\"textposition\":\"auto\",\"x\":[\"Canada\",\"France\",\"India\",\"Japan\",\"Not available\",\"Spain\",\"United Kingdom\",\"United Kingdom, United States\",\"United States\"],\"xaxis\":\"x\",\"y\":[17,9,6,1,70,2,16,1,81],\"yaxis\":\"y\",\"type\":\"bar\"},{\"alignmentgroup\":\"True\",\"hovertemplate\":\"Rating=TV-Y7\\u003cbr\\u003eCountry=%{x}\\u003cbr\\u003eNumber of Titles=%{y}\\u003cextra\\u003e\\u003c\\u002fextra\\u003e\",\"legendgroup\":\"TV-Y7\",\"marker\":{\"color\":\"#EF553B\",\"pattern\":{\"shape\":\"\"}},\"name\":\"TV-Y7\",\"offsetgroup\":\"TV-Y7\",\"orientation\":\"v\",\"showlegend\":true,\"textposition\":\"auto\",\"x\":[\"Canada\",\"France\",\"India\",\"Japan\",\"Mexico\",\"Not available\",\"United Kingdom\",\"United States\"],\"xaxis\":\"x\",\"y\":[9,3,11,17,2,50,5,93],\"yaxis\":\"y\",\"type\":\"bar\"},{\"alignmentgroup\":\"True\",\"hovertemplate\":\"Rating=TV-Y7-FV\\u003cbr\\u003eCountry=%{x}\\u003cbr\\u003eNumber of Titles=%{y}\\u003cextra\\u003e\\u003c\\u002fextra\\u003e\",\"legendgroup\":\"TV-Y7-FV\",\"marker\":{\"color\":\"#00cc96\",\"pattern\":{\"shape\":\"\"}},\"name\":\"TV-Y7-FV\",\"offsetgroup\":\"TV-Y7-FV\",\"orientation\":\"v\",\"showlegend\":true,\"textposition\":\"auto\",\"x\":[\"Canada\",\"India\",\"Not available\",\"United States\"],\"xaxis\":\"x\",\"y\":[1,1,1,1],\"yaxis\":\"y\",\"type\":\"bar\"},{\"alignmentgroup\":\"True\",\"hovertemplate\":\"Rating=UR\\u003cbr\\u003eCountry=%{x}\\u003cbr\\u003eNumber of Titles=%{y}\\u003cextra\\u003e\\u003c\\u002fextra\\u003e\",\"legendgroup\":\"UR\",\"marker\":{\"color\":\"#ab63fa\",\"pattern\":{\"shape\":\"\"}},\"name\":\"UR\",\"offsetgroup\":\"UR\",\"orientation\":\"v\",\"showlegend\":true,\"textposition\":\"auto\",\"x\":[\"France\",\"India\",\"United States\"],\"xaxis\":\"x\",\"y\":[1,1,1],\"yaxis\":\"y\",\"type\":\"bar\"},{\"alignmentgroup\":\"True\",\"hovertemplate\":\"Rating=Not available\\u003cbr\\u003eCountry=%{x}\\u003cbr\\u003eNumber of Titles=%{y}\\u003cextra\\u003e\\u003c\\u002fextra\\u003e\",\"legendgroup\":\"Not available\",\"marker\":{\"color\":\"#FFA15A\",\"pattern\":{\"shape\":\"\"}},\"name\":\"Not available\",\"offsetgroup\":\"Not available\",\"orientation\":\"v\",\"showlegend\":true,\"textposition\":\"auto\",\"x\":[\"Japan\",\"Not available\",\"United States\"],\"xaxis\":\"x\",\"y\":[1,1,3],\"yaxis\":\"y\",\"type\":\"bar\"}],                        {\"template\":{\"data\":{\"histogram2dcontour\":[{\"type\":\"histogram2dcontour\",\"colorbar\":{\"outlinewidth\":0,\"ticks\":\"\"},\"colorscale\":[[0.0,\"#0d0887\"],[0.1111111111111111,\"#46039f\"],[0.2222222222222222,\"#7201a8\"],[0.3333333333333333,\"#9c179e\"],[0.4444444444444444,\"#bd3786\"],[0.5555555555555556,\"#d8576b\"],[0.6666666666666666,\"#ed7953\"],[0.7777777777777778,\"#fb9f3a\"],[0.8888888888888888,\"#fdca26\"],[1.0,\"#f0f921\"]]}],\"choropleth\":[{\"type\":\"choropleth\",\"colorbar\":{\"outlinewidth\":0,\"ticks\":\"\"}}],\"histogram2d\":[{\"type\":\"histogram2d\",\"colorbar\":{\"outlinewidth\":0,\"ticks\":\"\"},\"colorscale\":[[0.0,\"#0d0887\"],[0.1111111111111111,\"#46039f\"],[0.2222222222222222,\"#7201a8\"],[0.3333333333333333,\"#9c179e\"],[0.4444444444444444,\"#bd3786\"],[0.5555555555555556,\"#d8576b\"],[0.6666666666666666,\"#ed7953\"],[0.7777777777777778,\"#fb9f3a\"],[0.8888888888888888,\"#fdca26\"],[1.0,\"#f0f921\"]]}],\"heatmap\":[{\"type\":\"heatmap\",\"colorbar\":{\"outlinewidth\":0,\"ticks\":\"\"},\"colorscale\":[[0.0,\"#0d0887\"],[0.1111111111111111,\"#46039f\"],[0.2222222222222222,\"#7201a8\"],[0.3333333333333333,\"#9c179e\"],[0.4444444444444444,\"#bd3786\"],[0.5555555555555556,\"#d8576b\"],[0.6666666666666666,\"#ed7953\"],[0.7777777777777778,\"#fb9f3a\"],[0.8888888888888888,\"#fdca26\"],[1.0,\"#f0f921\"]]}],\"heatmapgl\":[{\"type\":\"heatmapgl\",\"colorbar\":{\"outlinewidth\":0,\"ticks\":\"\"},\"colorscale\":[[0.0,\"#0d0887\"],[0.1111111111111111,\"#46039f\"],[0.2222222222222222,\"#7201a8\"],[0.3333333333333333,\"#9c179e\"],[0.4444444444444444,\"#bd3786\"],[0.5555555555555556,\"#d8576b\"],[0.6666666666666666,\"#ed7953\"],[0.7777777777777778,\"#fb9f3a\"],[0.8888888888888888,\"#fdca26\"],[1.0,\"#f0f921\"]]}],\"contourcarpet\":[{\"type\":\"contourcarpet\",\"colorbar\":{\"outlinewidth\":0,\"ticks\":\"\"}}],\"contour\":[{\"type\":\"contour\",\"colorbar\":{\"outlinewidth\":0,\"ticks\":\"\"},\"colorscale\":[[0.0,\"#0d0887\"],[0.1111111111111111,\"#46039f\"],[0.2222222222222222,\"#7201a8\"],[0.3333333333333333,\"#9c179e\"],[0.4444444444444444,\"#bd3786\"],[0.5555555555555556,\"#d8576b\"],[0.6666666666666666,\"#ed7953\"],[0.7777777777777778,\"#fb9f3a\"],[0.8888888888888888,\"#fdca26\"],[1.0,\"#f0f921\"]]}],\"surface\":[{\"type\":\"surface\",\"colorbar\":{\"outlinewidth\":0,\"ticks\":\"\"},\"colorscale\":[[0.0,\"#0d0887\"],[0.1111111111111111,\"#46039f\"],[0.2222222222222222,\"#7201a8\"],[0.3333333333333333,\"#9c179e\"],[0.4444444444444444,\"#bd3786\"],[0.5555555555555556,\"#d8576b\"],[0.6666666666666666,\"#ed7953\"],[0.7777777777777778,\"#fb9f3a\"],[0.8888888888888888,\"#fdca26\"],[1.0,\"#f0f921\"]]}],\"mesh3d\":[{\"type\":\"mesh3d\",\"colorbar\":{\"outlinewidth\":0,\"ticks\":\"\"}}],\"scatter\":[{\"fillpattern\":{\"fillmode\":\"overlay\",\"size\":10,\"solidity\":0.2},\"type\":\"scatter\"}],\"parcoords\":[{\"type\":\"parcoords\",\"line\":{\"colorbar\":{\"outlinewidth\":0,\"ticks\":\"\"}}}],\"scatterpolargl\":[{\"type\":\"scatterpolargl\",\"marker\":{\"colorbar\":{\"outlinewidth\":0,\"ticks\":\"\"}}}],\"bar\":[{\"error_x\":{\"color\":\"#2a3f5f\"},\"error_y\":{\"color\":\"#2a3f5f\"},\"marker\":{\"line\":{\"color\":\"#E5ECF6\",\"width\":0.5},\"pattern\":{\"fillmode\":\"overlay\",\"size\":10,\"solidity\":0.2}},\"type\":\"bar\"}],\"scattergeo\":[{\"type\":\"scattergeo\",\"marker\":{\"colorbar\":{\"outlinewidth\":0,\"ticks\":\"\"}}}],\"scatterpolar\":[{\"type\":\"scatterpolar\",\"marker\":{\"colorbar\":{\"outlinewidth\":0,\"ticks\":\"\"}}}],\"histogram\":[{\"marker\":{\"pattern\":{\"fillmode\":\"overlay\",\"size\":10,\"solidity\":0.2}},\"type\":\"histogram\"}],\"scattergl\":[{\"type\":\"scattergl\",\"marker\":{\"colorbar\":{\"outlinewidth\":0,\"ticks\":\"\"}}}],\"scatter3d\":[{\"type\":\"scatter3d\",\"line\":{\"colorbar\":{\"outlinewidth\":0,\"ticks\":\"\"}},\"marker\":{\"colorbar\":{\"outlinewidth\":0,\"ticks\":\"\"}}}],\"scattermapbox\":[{\"type\":\"scattermapbox\",\"marker\":{\"colorbar\":{\"outlinewidth\":0,\"ticks\":\"\"}}}],\"scatterternary\":[{\"type\":\"scatterternary\",\"marker\":{\"colorbar\":{\"outlinewidth\":0,\"ticks\":\"\"}}}],\"scattercarpet\":[{\"type\":\"scattercarpet\",\"marker\":{\"colorbar\":{\"outlinewidth\":0,\"ticks\":\"\"}}}],\"carpet\":[{\"aaxis\":{\"endlinecolor\":\"#2a3f5f\",\"gridcolor\":\"white\",\"linecolor\":\"white\",\"minorgridcolor\":\"white\",\"startlinecolor\":\"#2a3f5f\"},\"baxis\":{\"endlinecolor\":\"#2a3f5f\",\"gridcolor\":\"white\",\"linecolor\":\"white\",\"minorgridcolor\":\"white\",\"startlinecolor\":\"#2a3f5f\"},\"type\":\"carpet\"}],\"table\":[{\"cells\":{\"fill\":{\"color\":\"#EBF0F8\"},\"line\":{\"color\":\"white\"}},\"header\":{\"fill\":{\"color\":\"#C8D4E3\"},\"line\":{\"color\":\"white\"}},\"type\":\"table\"}],\"barpolar\":[{\"marker\":{\"line\":{\"color\":\"#E5ECF6\",\"width\":0.5},\"pattern\":{\"fillmode\":\"overlay\",\"size\":10,\"solidity\":0.2}},\"type\":\"barpolar\"}],\"pie\":[{\"automargin\":true,\"type\":\"pie\"}]},\"layout\":{\"autotypenumbers\":\"strict\",\"colorway\":[\"#636efa\",\"#EF553B\",\"#00cc96\",\"#ab63fa\",\"#FFA15A\",\"#19d3f3\",\"#FF6692\",\"#B6E880\",\"#FF97FF\",\"#FECB52\"],\"font\":{\"color\":\"#2a3f5f\"},\"hovermode\":\"closest\",\"hoverlabel\":{\"align\":\"left\"},\"paper_bgcolor\":\"white\",\"plot_bgcolor\":\"#E5ECF6\",\"polar\":{\"bgcolor\":\"#E5ECF6\",\"angularaxis\":{\"gridcolor\":\"white\",\"linecolor\":\"white\",\"ticks\":\"\"},\"radialaxis\":{\"gridcolor\":\"white\",\"linecolor\":\"white\",\"ticks\":\"\"}},\"ternary\":{\"bgcolor\":\"#E5ECF6\",\"aaxis\":{\"gridcolor\":\"white\",\"linecolor\":\"white\",\"ticks\":\"\"},\"baxis\":{\"gridcolor\":\"white\",\"linecolor\":\"white\",\"ticks\":\"\"},\"caxis\":{\"gridcolor\":\"white\",\"linecolor\":\"white\",\"ticks\":\"\"}},\"coloraxis\":{\"colorbar\":{\"outlinewidth\":0,\"ticks\":\"\"}},\"colorscale\":{\"sequential\":[[0.0,\"#0d0887\"],[0.1111111111111111,\"#46039f\"],[0.2222222222222222,\"#7201a8\"],[0.3333333333333333,\"#9c179e\"],[0.4444444444444444,\"#bd3786\"],[0.5555555555555556,\"#d8576b\"],[0.6666666666666666,\"#ed7953\"],[0.7777777777777778,\"#fb9f3a\"],[0.8888888888888888,\"#fdca26\"],[1.0,\"#f0f921\"]],\"sequentialminus\":[[0.0,\"#0d0887\"],[0.1111111111111111,\"#46039f\"],[0.2222222222222222,\"#7201a8\"],[0.3333333333333333,\"#9c179e\"],[0.4444444444444444,\"#bd3786\"],[0.5555555555555556,\"#d8576b\"],[0.6666666666666666,\"#ed7953\"],[0.7777777777777778,\"#fb9f3a\"],[0.8888888888888888,\"#fdca26\"],[1.0,\"#f0f921\"]],\"diverging\":[[0,\"#8e0152\"],[0.1,\"#c51b7d\"],[0.2,\"#de77ae\"],[0.3,\"#f1b6da\"],[0.4,\"#fde0ef\"],[0.5,\"#f7f7f7\"],[0.6,\"#e6f5d0\"],[0.7,\"#b8e186\"],[0.8,\"#7fbc41\"],[0.9,\"#4d9221\"],[1,\"#276419\"]]},\"xaxis\":{\"gridcolor\":\"white\",\"linecolor\":\"white\",\"ticks\":\"\",\"title\":{\"standoff\":15},\"zerolinecolor\":\"white\",\"automargin\":true,\"zerolinewidth\":2},\"yaxis\":{\"gridcolor\":\"white\",\"linecolor\":\"white\",\"ticks\":\"\",\"title\":{\"standoff\":15},\"zerolinecolor\":\"white\",\"automargin\":true,\"zerolinewidth\":2},\"scene\":{\"xaxis\":{\"backgroundcolor\":\"#E5ECF6\",\"gridcolor\":\"white\",\"linecolor\":\"white\",\"showbackground\":true,\"ticks\":\"\",\"zerolinecolor\":\"white\",\"gridwidth\":2},\"yaxis\":{\"backgroundcolor\":\"#E5ECF6\",\"gridcolor\":\"white\",\"linecolor\":\"white\",\"showbackground\":true,\"ticks\":\"\",\"zerolinecolor\":\"white\",\"gridwidth\":2},\"zaxis\":{\"backgroundcolor\":\"#E5ECF6\",\"gridcolor\":\"white\",\"linecolor\":\"white\",\"showbackground\":true,\"ticks\":\"\",\"zerolinecolor\":\"white\",\"gridwidth\":2}},\"shapedefaults\":{\"line\":{\"color\":\"#2a3f5f\"}},\"annotationdefaults\":{\"arrowcolor\":\"#2a3f5f\",\"arrowhead\":0,\"arrowwidth\":1},\"geo\":{\"bgcolor\":\"white\",\"landcolor\":\"#E5ECF6\",\"subunitcolor\":\"white\",\"showland\":true,\"showlakes\":true,\"lakecolor\":\"white\"},\"title\":{\"x\":0.05},\"mapbox\":{\"style\":\"light\"}}},\"xaxis\":{\"anchor\":\"y\",\"domain\":[0.0,1.0],\"title\":{\"text\":\"Country\"},\"tickangle\":-45},\"yaxis\":{\"anchor\":\"x\",\"domain\":[0.0,1.0],\"title\":{\"text\":\"Number of Titles\"}},\"legend\":{\"title\":{\"text\":\"Rating\"},\"tracegroupgap\":0},\"title\":{\"text\":\"Content Rating Distribution in Top Countries\"},\"barmode\":\"relative\"},                        {\"responsive\": true}                    ).then(function(){\n",
              "                            \n",
              "var gd = document.getElementById('1cd4c656-9a65-4179-9062-cfd3944d39b3');\n",
              "var x = new MutationObserver(function (mutations, observer) {{\n",
              "        var display = window.getComputedStyle(gd).display;\n",
              "        if (!display || display === 'none') {{\n",
              "            console.log([gd, 'removed!']);\n",
              "            Plotly.purge(gd);\n",
              "            observer.disconnect();\n",
              "        }}\n",
              "}});\n",
              "\n",
              "// Listen for the removal of the full notebook cells\n",
              "var notebookContainer = gd.closest('#notebook-container');\n",
              "if (notebookContainer) {{\n",
              "    x.observe(notebookContainer, {childList: true});\n",
              "}}\n",
              "\n",
              "// Listen for the clearing of the current output cell\n",
              "var outputEl = gd.closest('.output');\n",
              "if (outputEl) {{\n",
              "    x.observe(outputEl, {childList: true});\n",
              "}}\n",
              "\n",
              "                        })                };                            </script>        </div>\n",
              "</body>\n",
              "</html>"
            ]
          },
          "metadata": {}
        }
      ]
    },
    {
      "cell_type": "markdown",
      "source": [
        "The **United States** leads with high counts—especially in ratings like **PG, TV-MA,** and **TV-14**—while India also shows significant numbers, particularly in **NR and TV-MA,** with other countries contributing comparatively fewer titles."
      ],
      "metadata": {
        "id": "vCR73GD_ZZR6"
      }
    },
    {
      "cell_type": "markdown",
      "source": [
        "#### If Netflix has been **increasingly focusing on TV** rather than movies in recent years"
      ],
      "metadata": {
        "id": "6nhDxRjRapAQ"
      }
    },
    {
      "cell_type": "code",
      "source": [
        "# Step 1: Group by 'year_added' and 'type' and count entries each year\n",
        "yearly_counts = df.groupby(['year_added', 'type']).size().reset_index(name='count')\n",
        "\n",
        "# Step 2: Pivot the data so that we have separate columns for Movies and TV Shows\n",
        "yearly_pivot = yearly_counts.pivot(index='year_added', columns='type', values='count').fillna(0).reset_index()\n",
        "# Display the first few rows to check if the pivot operation worked as expected\n",
        "print(yearly_pivot.head())\n",
        "\n",
        "# Step 3: Plot yearly counts of Movies and TV Shows using a line chart\n",
        "fig_line = px.line(\n",
        "    yearly_pivot,\n",
        "    x='year_added',\n",
        "    y=['Movie', 'TV Show'],\n",
        "    markers=True,\n",
        "    title=\"Yearly Content Trends: Movies vs TV Shows on Netflix\",\n",
        "    labels={'year_added': 'Year Added', 'value': 'Count', 'variable': 'Content Type'}\n",
        ")\n",
        "fig_line.show()\n",
        "\n",
        "# Step 4: Calculate the percentage of TV Shows each year for an alternative perspective\n",
        "yearly_pivot['Total'] = yearly_pivot['Movie'] + yearly_pivot['TV Show']\n",
        "yearly_pivot['TV_Show_Percentage'] = (yearly_pivot['TV Show'] / yearly_pivot['Total']) * 100\n",
        "\n",
        "# Plot the percentage of TV Shows over the years\n",
        "fig_percentage = px.line(\n",
        "    yearly_pivot,\n",
        "    x='year_added',\n",
        "    y='TV_Show_Percentage',\n",
        "    markers=True,\n",
        "    title=\"Yearly Percentage of TV Shows Added to Netflix\",\n",
        "    labels={'year_added': 'Year Added', 'TV_Show_Percentage': 'TV Show Percentage (%)'}\n",
        ")\n",
        "fig_percentage.show()\n"
      ],
      "metadata": {
        "colab": {
          "base_uri": "https://localhost:8080/",
          "height": 1000
        },
        "id": "Ch4wmxaTaETk",
        "outputId": "8ddc7d68-3ddf-4651-cd0c-984c05157899"
      },
      "execution_count": null,
      "outputs": [
        {
          "output_type": "stream",
          "name": "stdout",
          "text": [
            "type  year_added  Movie  TV Show\n",
            "0           2008    1.0      1.0\n",
            "1           2009    2.0      0.0\n",
            "2           2010    1.0      0.0\n",
            "3           2011   13.0      0.0\n",
            "4           2012    3.0      0.0\n"
          ]
        },
        {
          "output_type": "display_data",
          "data": {
            "text/html": [
              "<html>\n",
              "<head><meta charset=\"utf-8\" /></head>\n",
              "<body>\n",
              "    <div>            <script src=\"https://cdnjs.cloudflare.com/ajax/libs/mathjax/2.7.5/MathJax.js?config=TeX-AMS-MML_SVG\"></script><script type=\"text/javascript\">if (window.MathJax && window.MathJax.Hub && window.MathJax.Hub.Config) {window.MathJax.Hub.Config({SVG: {font: \"STIX-Web\"}});}</script>                <script type=\"text/javascript\">window.PlotlyConfig = {MathJaxConfig: 'local'};</script>\n",
              "        <script charset=\"utf-8\" src=\"https://cdn.plot.ly/plotly-2.35.2.min.js\"></script>                <div id=\"98680c66-7bb6-4816-b277-20db772b210a\" class=\"plotly-graph-div\" style=\"height:525px; width:100%;\"></div>            <script type=\"text/javascript\">                                    window.PLOTLYENV=window.PLOTLYENV || {};                                    if (document.getElementById(\"98680c66-7bb6-4816-b277-20db772b210a\")) {                    Plotly.newPlot(                        \"98680c66-7bb6-4816-b277-20db772b210a\",                        [{\"hovertemplate\":\"Content Type=Movie\\u003cbr\\u003eYear Added=%{x}\\u003cbr\\u003eCount=%{y}\\u003cextra\\u003e\\u003c\\u002fextra\\u003e\",\"legendgroup\":\"Movie\",\"line\":{\"color\":\"#636efa\",\"dash\":\"solid\"},\"marker\":{\"symbol\":\"circle\"},\"mode\":\"lines+markers\",\"name\":\"Movie\",\"orientation\":\"v\",\"showlegend\":true,\"x\":[2008,2009,2010,2011,2012,2013,2014,2015,2016,2017,2018,2019,2020,2021],\"xaxis\":\"x\",\"y\":[1.0,2.0,1.0,13.0,3.0,6.0,19.0,58.0,258.0,864.0,1255.0,1497.0,1312.0,88.0],\"yaxis\":\"y\",\"type\":\"scatter\"},{\"hovertemplate\":\"Content Type=TV Show\\u003cbr\\u003eYear Added=%{x}\\u003cbr\\u003eCount=%{y}\\u003cextra\\u003e\\u003c\\u002fextra\\u003e\",\"legendgroup\":\"TV Show\",\"line\":{\"color\":\"#EF553B\",\"dash\":\"solid\"},\"marker\":{\"symbol\":\"circle\"},\"mode\":\"lines+markers\",\"name\":\"TV Show\",\"orientation\":\"v\",\"showlegend\":true,\"x\":[2008,2009,2010,2011,2012,2013,2014,2015,2016,2017,2018,2019,2020,2021],\"xaxis\":\"x\",\"y\":[1.0,0.0,0.0,0.0,0.0,4.0,5.0,21.0,174.0,337.0,406.0,737.0,696.0,29.0],\"yaxis\":\"y\",\"type\":\"scatter\"}],                        {\"template\":{\"data\":{\"histogram2dcontour\":[{\"type\":\"histogram2dcontour\",\"colorbar\":{\"outlinewidth\":0,\"ticks\":\"\"},\"colorscale\":[[0.0,\"#0d0887\"],[0.1111111111111111,\"#46039f\"],[0.2222222222222222,\"#7201a8\"],[0.3333333333333333,\"#9c179e\"],[0.4444444444444444,\"#bd3786\"],[0.5555555555555556,\"#d8576b\"],[0.6666666666666666,\"#ed7953\"],[0.7777777777777778,\"#fb9f3a\"],[0.8888888888888888,\"#fdca26\"],[1.0,\"#f0f921\"]]}],\"choropleth\":[{\"type\":\"choropleth\",\"colorbar\":{\"outlinewidth\":0,\"ticks\":\"\"}}],\"histogram2d\":[{\"type\":\"histogram2d\",\"colorbar\":{\"outlinewidth\":0,\"ticks\":\"\"},\"colorscale\":[[0.0,\"#0d0887\"],[0.1111111111111111,\"#46039f\"],[0.2222222222222222,\"#7201a8\"],[0.3333333333333333,\"#9c179e\"],[0.4444444444444444,\"#bd3786\"],[0.5555555555555556,\"#d8576b\"],[0.6666666666666666,\"#ed7953\"],[0.7777777777777778,\"#fb9f3a\"],[0.8888888888888888,\"#fdca26\"],[1.0,\"#f0f921\"]]}],\"heatmap\":[{\"type\":\"heatmap\",\"colorbar\":{\"outlinewidth\":0,\"ticks\":\"\"},\"colorscale\":[[0.0,\"#0d0887\"],[0.1111111111111111,\"#46039f\"],[0.2222222222222222,\"#7201a8\"],[0.3333333333333333,\"#9c179e\"],[0.4444444444444444,\"#bd3786\"],[0.5555555555555556,\"#d8576b\"],[0.6666666666666666,\"#ed7953\"],[0.7777777777777778,\"#fb9f3a\"],[0.8888888888888888,\"#fdca26\"],[1.0,\"#f0f921\"]]}],\"heatmapgl\":[{\"type\":\"heatmapgl\",\"colorbar\":{\"outlinewidth\":0,\"ticks\":\"\"},\"colorscale\":[[0.0,\"#0d0887\"],[0.1111111111111111,\"#46039f\"],[0.2222222222222222,\"#7201a8\"],[0.3333333333333333,\"#9c179e\"],[0.4444444444444444,\"#bd3786\"],[0.5555555555555556,\"#d8576b\"],[0.6666666666666666,\"#ed7953\"],[0.7777777777777778,\"#fb9f3a\"],[0.8888888888888888,\"#fdca26\"],[1.0,\"#f0f921\"]]}],\"contourcarpet\":[{\"type\":\"contourcarpet\",\"colorbar\":{\"outlinewidth\":0,\"ticks\":\"\"}}],\"contour\":[{\"type\":\"contour\",\"colorbar\":{\"outlinewidth\":0,\"ticks\":\"\"},\"colorscale\":[[0.0,\"#0d0887\"],[0.1111111111111111,\"#46039f\"],[0.2222222222222222,\"#7201a8\"],[0.3333333333333333,\"#9c179e\"],[0.4444444444444444,\"#bd3786\"],[0.5555555555555556,\"#d8576b\"],[0.6666666666666666,\"#ed7953\"],[0.7777777777777778,\"#fb9f3a\"],[0.8888888888888888,\"#fdca26\"],[1.0,\"#f0f921\"]]}],\"surface\":[{\"type\":\"surface\",\"colorbar\":{\"outlinewidth\":0,\"ticks\":\"\"},\"colorscale\":[[0.0,\"#0d0887\"],[0.1111111111111111,\"#46039f\"],[0.2222222222222222,\"#7201a8\"],[0.3333333333333333,\"#9c179e\"],[0.4444444444444444,\"#bd3786\"],[0.5555555555555556,\"#d8576b\"],[0.6666666666666666,\"#ed7953\"],[0.7777777777777778,\"#fb9f3a\"],[0.8888888888888888,\"#fdca26\"],[1.0,\"#f0f921\"]]}],\"mesh3d\":[{\"type\":\"mesh3d\",\"colorbar\":{\"outlinewidth\":0,\"ticks\":\"\"}}],\"scatter\":[{\"fillpattern\":{\"fillmode\":\"overlay\",\"size\":10,\"solidity\":0.2},\"type\":\"scatter\"}],\"parcoords\":[{\"type\":\"parcoords\",\"line\":{\"colorbar\":{\"outlinewidth\":0,\"ticks\":\"\"}}}],\"scatterpolargl\":[{\"type\":\"scatterpolargl\",\"marker\":{\"colorbar\":{\"outlinewidth\":0,\"ticks\":\"\"}}}],\"bar\":[{\"error_x\":{\"color\":\"#2a3f5f\"},\"error_y\":{\"color\":\"#2a3f5f\"},\"marker\":{\"line\":{\"color\":\"#E5ECF6\",\"width\":0.5},\"pattern\":{\"fillmode\":\"overlay\",\"size\":10,\"solidity\":0.2}},\"type\":\"bar\"}],\"scattergeo\":[{\"type\":\"scattergeo\",\"marker\":{\"colorbar\":{\"outlinewidth\":0,\"ticks\":\"\"}}}],\"scatterpolar\":[{\"type\":\"scatterpolar\",\"marker\":{\"colorbar\":{\"outlinewidth\":0,\"ticks\":\"\"}}}],\"histogram\":[{\"marker\":{\"pattern\":{\"fillmode\":\"overlay\",\"size\":10,\"solidity\":0.2}},\"type\":\"histogram\"}],\"scattergl\":[{\"type\":\"scattergl\",\"marker\":{\"colorbar\":{\"outlinewidth\":0,\"ticks\":\"\"}}}],\"scatter3d\":[{\"type\":\"scatter3d\",\"line\":{\"colorbar\":{\"outlinewidth\":0,\"ticks\":\"\"}},\"marker\":{\"colorbar\":{\"outlinewidth\":0,\"ticks\":\"\"}}}],\"scattermapbox\":[{\"type\":\"scattermapbox\",\"marker\":{\"colorbar\":{\"outlinewidth\":0,\"ticks\":\"\"}}}],\"scatterternary\":[{\"type\":\"scatterternary\",\"marker\":{\"colorbar\":{\"outlinewidth\":0,\"ticks\":\"\"}}}],\"scattercarpet\":[{\"type\":\"scattercarpet\",\"marker\":{\"colorbar\":{\"outlinewidth\":0,\"ticks\":\"\"}}}],\"carpet\":[{\"aaxis\":{\"endlinecolor\":\"#2a3f5f\",\"gridcolor\":\"white\",\"linecolor\":\"white\",\"minorgridcolor\":\"white\",\"startlinecolor\":\"#2a3f5f\"},\"baxis\":{\"endlinecolor\":\"#2a3f5f\",\"gridcolor\":\"white\",\"linecolor\":\"white\",\"minorgridcolor\":\"white\",\"startlinecolor\":\"#2a3f5f\"},\"type\":\"carpet\"}],\"table\":[{\"cells\":{\"fill\":{\"color\":\"#EBF0F8\"},\"line\":{\"color\":\"white\"}},\"header\":{\"fill\":{\"color\":\"#C8D4E3\"},\"line\":{\"color\":\"white\"}},\"type\":\"table\"}],\"barpolar\":[{\"marker\":{\"line\":{\"color\":\"#E5ECF6\",\"width\":0.5},\"pattern\":{\"fillmode\":\"overlay\",\"size\":10,\"solidity\":0.2}},\"type\":\"barpolar\"}],\"pie\":[{\"automargin\":true,\"type\":\"pie\"}]},\"layout\":{\"autotypenumbers\":\"strict\",\"colorway\":[\"#636efa\",\"#EF553B\",\"#00cc96\",\"#ab63fa\",\"#FFA15A\",\"#19d3f3\",\"#FF6692\",\"#B6E880\",\"#FF97FF\",\"#FECB52\"],\"font\":{\"color\":\"#2a3f5f\"},\"hovermode\":\"closest\",\"hoverlabel\":{\"align\":\"left\"},\"paper_bgcolor\":\"white\",\"plot_bgcolor\":\"#E5ECF6\",\"polar\":{\"bgcolor\":\"#E5ECF6\",\"angularaxis\":{\"gridcolor\":\"white\",\"linecolor\":\"white\",\"ticks\":\"\"},\"radialaxis\":{\"gridcolor\":\"white\",\"linecolor\":\"white\",\"ticks\":\"\"}},\"ternary\":{\"bgcolor\":\"#E5ECF6\",\"aaxis\":{\"gridcolor\":\"white\",\"linecolor\":\"white\",\"ticks\":\"\"},\"baxis\":{\"gridcolor\":\"white\",\"linecolor\":\"white\",\"ticks\":\"\"},\"caxis\":{\"gridcolor\":\"white\",\"linecolor\":\"white\",\"ticks\":\"\"}},\"coloraxis\":{\"colorbar\":{\"outlinewidth\":0,\"ticks\":\"\"}},\"colorscale\":{\"sequential\":[[0.0,\"#0d0887\"],[0.1111111111111111,\"#46039f\"],[0.2222222222222222,\"#7201a8\"],[0.3333333333333333,\"#9c179e\"],[0.4444444444444444,\"#bd3786\"],[0.5555555555555556,\"#d8576b\"],[0.6666666666666666,\"#ed7953\"],[0.7777777777777778,\"#fb9f3a\"],[0.8888888888888888,\"#fdca26\"],[1.0,\"#f0f921\"]],\"sequentialminus\":[[0.0,\"#0d0887\"],[0.1111111111111111,\"#46039f\"],[0.2222222222222222,\"#7201a8\"],[0.3333333333333333,\"#9c179e\"],[0.4444444444444444,\"#bd3786\"],[0.5555555555555556,\"#d8576b\"],[0.6666666666666666,\"#ed7953\"],[0.7777777777777778,\"#fb9f3a\"],[0.8888888888888888,\"#fdca26\"],[1.0,\"#f0f921\"]],\"diverging\":[[0,\"#8e0152\"],[0.1,\"#c51b7d\"],[0.2,\"#de77ae\"],[0.3,\"#f1b6da\"],[0.4,\"#fde0ef\"],[0.5,\"#f7f7f7\"],[0.6,\"#e6f5d0\"],[0.7,\"#b8e186\"],[0.8,\"#7fbc41\"],[0.9,\"#4d9221\"],[1,\"#276419\"]]},\"xaxis\":{\"gridcolor\":\"white\",\"linecolor\":\"white\",\"ticks\":\"\",\"title\":{\"standoff\":15},\"zerolinecolor\":\"white\",\"automargin\":true,\"zerolinewidth\":2},\"yaxis\":{\"gridcolor\":\"white\",\"linecolor\":\"white\",\"ticks\":\"\",\"title\":{\"standoff\":15},\"zerolinecolor\":\"white\",\"automargin\":true,\"zerolinewidth\":2},\"scene\":{\"xaxis\":{\"backgroundcolor\":\"#E5ECF6\",\"gridcolor\":\"white\",\"linecolor\":\"white\",\"showbackground\":true,\"ticks\":\"\",\"zerolinecolor\":\"white\",\"gridwidth\":2},\"yaxis\":{\"backgroundcolor\":\"#E5ECF6\",\"gridcolor\":\"white\",\"linecolor\":\"white\",\"showbackground\":true,\"ticks\":\"\",\"zerolinecolor\":\"white\",\"gridwidth\":2},\"zaxis\":{\"backgroundcolor\":\"#E5ECF6\",\"gridcolor\":\"white\",\"linecolor\":\"white\",\"showbackground\":true,\"ticks\":\"\",\"zerolinecolor\":\"white\",\"gridwidth\":2}},\"shapedefaults\":{\"line\":{\"color\":\"#2a3f5f\"}},\"annotationdefaults\":{\"arrowcolor\":\"#2a3f5f\",\"arrowhead\":0,\"arrowwidth\":1},\"geo\":{\"bgcolor\":\"white\",\"landcolor\":\"#E5ECF6\",\"subunitcolor\":\"white\",\"showland\":true,\"showlakes\":true,\"lakecolor\":\"white\"},\"title\":{\"x\":0.05},\"mapbox\":{\"style\":\"light\"}}},\"xaxis\":{\"anchor\":\"y\",\"domain\":[0.0,1.0],\"title\":{\"text\":\"Year Added\"}},\"yaxis\":{\"anchor\":\"x\",\"domain\":[0.0,1.0],\"title\":{\"text\":\"Count\"}},\"legend\":{\"title\":{\"text\":\"Content Type\"},\"tracegroupgap\":0},\"title\":{\"text\":\"Yearly Content Trends: Movies vs TV Shows on Netflix\"}},                        {\"responsive\": true}                    ).then(function(){\n",
              "                            \n",
              "var gd = document.getElementById('98680c66-7bb6-4816-b277-20db772b210a');\n",
              "var x = new MutationObserver(function (mutations, observer) {{\n",
              "        var display = window.getComputedStyle(gd).display;\n",
              "        if (!display || display === 'none') {{\n",
              "            console.log([gd, 'removed!']);\n",
              "            Plotly.purge(gd);\n",
              "            observer.disconnect();\n",
              "        }}\n",
              "}});\n",
              "\n",
              "// Listen for the removal of the full notebook cells\n",
              "var notebookContainer = gd.closest('#notebook-container');\n",
              "if (notebookContainer) {{\n",
              "    x.observe(notebookContainer, {childList: true});\n",
              "}}\n",
              "\n",
              "// Listen for the clearing of the current output cell\n",
              "var outputEl = gd.closest('.output');\n",
              "if (outputEl) {{\n",
              "    x.observe(outputEl, {childList: true});\n",
              "}}\n",
              "\n",
              "                        })                };                            </script>        </div>\n",
              "</body>\n",
              "</html>"
            ]
          },
          "metadata": {}
        },
        {
          "output_type": "display_data",
          "data": {
            "text/html": [
              "<html>\n",
              "<head><meta charset=\"utf-8\" /></head>\n",
              "<body>\n",
              "    <div>            <script src=\"https://cdnjs.cloudflare.com/ajax/libs/mathjax/2.7.5/MathJax.js?config=TeX-AMS-MML_SVG\"></script><script type=\"text/javascript\">if (window.MathJax && window.MathJax.Hub && window.MathJax.Hub.Config) {window.MathJax.Hub.Config({SVG: {font: \"STIX-Web\"}});}</script>                <script type=\"text/javascript\">window.PlotlyConfig = {MathJaxConfig: 'local'};</script>\n",
              "        <script charset=\"utf-8\" src=\"https://cdn.plot.ly/plotly-2.35.2.min.js\"></script>                <div id=\"dcd0881e-1f9e-4aad-ad58-fbd0d5f8340e\" class=\"plotly-graph-div\" style=\"height:525px; width:100%;\"></div>            <script type=\"text/javascript\">                                    window.PLOTLYENV=window.PLOTLYENV || {};                                    if (document.getElementById(\"dcd0881e-1f9e-4aad-ad58-fbd0d5f8340e\")) {                    Plotly.newPlot(                        \"dcd0881e-1f9e-4aad-ad58-fbd0d5f8340e\",                        [{\"hovertemplate\":\"Year Added=%{x}\\u003cbr\\u003eTV Show Percentage (%)=%{y}\\u003cextra\\u003e\\u003c\\u002fextra\\u003e\",\"legendgroup\":\"\",\"line\":{\"color\":\"#636efa\",\"dash\":\"solid\"},\"marker\":{\"symbol\":\"circle\"},\"mode\":\"lines+markers\",\"name\":\"\",\"orientation\":\"v\",\"showlegend\":false,\"x\":[2008,2009,2010,2011,2012,2013,2014,2015,2016,2017,2018,2019,2020,2021],\"xaxis\":\"x\",\"y\":[50.0,0.0,0.0,0.0,0.0,40.0,20.833333333333336,26.582278481012654,40.27777777777778,28.059950041631975,24.44310656231186,32.99015219337511,34.66135458167331,24.786324786324787],\"yaxis\":\"y\",\"type\":\"scatter\"}],                        {\"template\":{\"data\":{\"histogram2dcontour\":[{\"type\":\"histogram2dcontour\",\"colorbar\":{\"outlinewidth\":0,\"ticks\":\"\"},\"colorscale\":[[0.0,\"#0d0887\"],[0.1111111111111111,\"#46039f\"],[0.2222222222222222,\"#7201a8\"],[0.3333333333333333,\"#9c179e\"],[0.4444444444444444,\"#bd3786\"],[0.5555555555555556,\"#d8576b\"],[0.6666666666666666,\"#ed7953\"],[0.7777777777777778,\"#fb9f3a\"],[0.8888888888888888,\"#fdca26\"],[1.0,\"#f0f921\"]]}],\"choropleth\":[{\"type\":\"choropleth\",\"colorbar\":{\"outlinewidth\":0,\"ticks\":\"\"}}],\"histogram2d\":[{\"type\":\"histogram2d\",\"colorbar\":{\"outlinewidth\":0,\"ticks\":\"\"},\"colorscale\":[[0.0,\"#0d0887\"],[0.1111111111111111,\"#46039f\"],[0.2222222222222222,\"#7201a8\"],[0.3333333333333333,\"#9c179e\"],[0.4444444444444444,\"#bd3786\"],[0.5555555555555556,\"#d8576b\"],[0.6666666666666666,\"#ed7953\"],[0.7777777777777778,\"#fb9f3a\"],[0.8888888888888888,\"#fdca26\"],[1.0,\"#f0f921\"]]}],\"heatmap\":[{\"type\":\"heatmap\",\"colorbar\":{\"outlinewidth\":0,\"ticks\":\"\"},\"colorscale\":[[0.0,\"#0d0887\"],[0.1111111111111111,\"#46039f\"],[0.2222222222222222,\"#7201a8\"],[0.3333333333333333,\"#9c179e\"],[0.4444444444444444,\"#bd3786\"],[0.5555555555555556,\"#d8576b\"],[0.6666666666666666,\"#ed7953\"],[0.7777777777777778,\"#fb9f3a\"],[0.8888888888888888,\"#fdca26\"],[1.0,\"#f0f921\"]]}],\"heatmapgl\":[{\"type\":\"heatmapgl\",\"colorbar\":{\"outlinewidth\":0,\"ticks\":\"\"},\"colorscale\":[[0.0,\"#0d0887\"],[0.1111111111111111,\"#46039f\"],[0.2222222222222222,\"#7201a8\"],[0.3333333333333333,\"#9c179e\"],[0.4444444444444444,\"#bd3786\"],[0.5555555555555556,\"#d8576b\"],[0.6666666666666666,\"#ed7953\"],[0.7777777777777778,\"#fb9f3a\"],[0.8888888888888888,\"#fdca26\"],[1.0,\"#f0f921\"]]}],\"contourcarpet\":[{\"type\":\"contourcarpet\",\"colorbar\":{\"outlinewidth\":0,\"ticks\":\"\"}}],\"contour\":[{\"type\":\"contour\",\"colorbar\":{\"outlinewidth\":0,\"ticks\":\"\"},\"colorscale\":[[0.0,\"#0d0887\"],[0.1111111111111111,\"#46039f\"],[0.2222222222222222,\"#7201a8\"],[0.3333333333333333,\"#9c179e\"],[0.4444444444444444,\"#bd3786\"],[0.5555555555555556,\"#d8576b\"],[0.6666666666666666,\"#ed7953\"],[0.7777777777777778,\"#fb9f3a\"],[0.8888888888888888,\"#fdca26\"],[1.0,\"#f0f921\"]]}],\"surface\":[{\"type\":\"surface\",\"colorbar\":{\"outlinewidth\":0,\"ticks\":\"\"},\"colorscale\":[[0.0,\"#0d0887\"],[0.1111111111111111,\"#46039f\"],[0.2222222222222222,\"#7201a8\"],[0.3333333333333333,\"#9c179e\"],[0.4444444444444444,\"#bd3786\"],[0.5555555555555556,\"#d8576b\"],[0.6666666666666666,\"#ed7953\"],[0.7777777777777778,\"#fb9f3a\"],[0.8888888888888888,\"#fdca26\"],[1.0,\"#f0f921\"]]}],\"mesh3d\":[{\"type\":\"mesh3d\",\"colorbar\":{\"outlinewidth\":0,\"ticks\":\"\"}}],\"scatter\":[{\"fillpattern\":{\"fillmode\":\"overlay\",\"size\":10,\"solidity\":0.2},\"type\":\"scatter\"}],\"parcoords\":[{\"type\":\"parcoords\",\"line\":{\"colorbar\":{\"outlinewidth\":0,\"ticks\":\"\"}}}],\"scatterpolargl\":[{\"type\":\"scatterpolargl\",\"marker\":{\"colorbar\":{\"outlinewidth\":0,\"ticks\":\"\"}}}],\"bar\":[{\"error_x\":{\"color\":\"#2a3f5f\"},\"error_y\":{\"color\":\"#2a3f5f\"},\"marker\":{\"line\":{\"color\":\"#E5ECF6\",\"width\":0.5},\"pattern\":{\"fillmode\":\"overlay\",\"size\":10,\"solidity\":0.2}},\"type\":\"bar\"}],\"scattergeo\":[{\"type\":\"scattergeo\",\"marker\":{\"colorbar\":{\"outlinewidth\":0,\"ticks\":\"\"}}}],\"scatterpolar\":[{\"type\":\"scatterpolar\",\"marker\":{\"colorbar\":{\"outlinewidth\":0,\"ticks\":\"\"}}}],\"histogram\":[{\"marker\":{\"pattern\":{\"fillmode\":\"overlay\",\"size\":10,\"solidity\":0.2}},\"type\":\"histogram\"}],\"scattergl\":[{\"type\":\"scattergl\",\"marker\":{\"colorbar\":{\"outlinewidth\":0,\"ticks\":\"\"}}}],\"scatter3d\":[{\"type\":\"scatter3d\",\"line\":{\"colorbar\":{\"outlinewidth\":0,\"ticks\":\"\"}},\"marker\":{\"colorbar\":{\"outlinewidth\":0,\"ticks\":\"\"}}}],\"scattermapbox\":[{\"type\":\"scattermapbox\",\"marker\":{\"colorbar\":{\"outlinewidth\":0,\"ticks\":\"\"}}}],\"scatterternary\":[{\"type\":\"scatterternary\",\"marker\":{\"colorbar\":{\"outlinewidth\":0,\"ticks\":\"\"}}}],\"scattercarpet\":[{\"type\":\"scattercarpet\",\"marker\":{\"colorbar\":{\"outlinewidth\":0,\"ticks\":\"\"}}}],\"carpet\":[{\"aaxis\":{\"endlinecolor\":\"#2a3f5f\",\"gridcolor\":\"white\",\"linecolor\":\"white\",\"minorgridcolor\":\"white\",\"startlinecolor\":\"#2a3f5f\"},\"baxis\":{\"endlinecolor\":\"#2a3f5f\",\"gridcolor\":\"white\",\"linecolor\":\"white\",\"minorgridcolor\":\"white\",\"startlinecolor\":\"#2a3f5f\"},\"type\":\"carpet\"}],\"table\":[{\"cells\":{\"fill\":{\"color\":\"#EBF0F8\"},\"line\":{\"color\":\"white\"}},\"header\":{\"fill\":{\"color\":\"#C8D4E3\"},\"line\":{\"color\":\"white\"}},\"type\":\"table\"}],\"barpolar\":[{\"marker\":{\"line\":{\"color\":\"#E5ECF6\",\"width\":0.5},\"pattern\":{\"fillmode\":\"overlay\",\"size\":10,\"solidity\":0.2}},\"type\":\"barpolar\"}],\"pie\":[{\"automargin\":true,\"type\":\"pie\"}]},\"layout\":{\"autotypenumbers\":\"strict\",\"colorway\":[\"#636efa\",\"#EF553B\",\"#00cc96\",\"#ab63fa\",\"#FFA15A\",\"#19d3f3\",\"#FF6692\",\"#B6E880\",\"#FF97FF\",\"#FECB52\"],\"font\":{\"color\":\"#2a3f5f\"},\"hovermode\":\"closest\",\"hoverlabel\":{\"align\":\"left\"},\"paper_bgcolor\":\"white\",\"plot_bgcolor\":\"#E5ECF6\",\"polar\":{\"bgcolor\":\"#E5ECF6\",\"angularaxis\":{\"gridcolor\":\"white\",\"linecolor\":\"white\",\"ticks\":\"\"},\"radialaxis\":{\"gridcolor\":\"white\",\"linecolor\":\"white\",\"ticks\":\"\"}},\"ternary\":{\"bgcolor\":\"#E5ECF6\",\"aaxis\":{\"gridcolor\":\"white\",\"linecolor\":\"white\",\"ticks\":\"\"},\"baxis\":{\"gridcolor\":\"white\",\"linecolor\":\"white\",\"ticks\":\"\"},\"caxis\":{\"gridcolor\":\"white\",\"linecolor\":\"white\",\"ticks\":\"\"}},\"coloraxis\":{\"colorbar\":{\"outlinewidth\":0,\"ticks\":\"\"}},\"colorscale\":{\"sequential\":[[0.0,\"#0d0887\"],[0.1111111111111111,\"#46039f\"],[0.2222222222222222,\"#7201a8\"],[0.3333333333333333,\"#9c179e\"],[0.4444444444444444,\"#bd3786\"],[0.5555555555555556,\"#d8576b\"],[0.6666666666666666,\"#ed7953\"],[0.7777777777777778,\"#fb9f3a\"],[0.8888888888888888,\"#fdca26\"],[1.0,\"#f0f921\"]],\"sequentialminus\":[[0.0,\"#0d0887\"],[0.1111111111111111,\"#46039f\"],[0.2222222222222222,\"#7201a8\"],[0.3333333333333333,\"#9c179e\"],[0.4444444444444444,\"#bd3786\"],[0.5555555555555556,\"#d8576b\"],[0.6666666666666666,\"#ed7953\"],[0.7777777777777778,\"#fb9f3a\"],[0.8888888888888888,\"#fdca26\"],[1.0,\"#f0f921\"]],\"diverging\":[[0,\"#8e0152\"],[0.1,\"#c51b7d\"],[0.2,\"#de77ae\"],[0.3,\"#f1b6da\"],[0.4,\"#fde0ef\"],[0.5,\"#f7f7f7\"],[0.6,\"#e6f5d0\"],[0.7,\"#b8e186\"],[0.8,\"#7fbc41\"],[0.9,\"#4d9221\"],[1,\"#276419\"]]},\"xaxis\":{\"gridcolor\":\"white\",\"linecolor\":\"white\",\"ticks\":\"\",\"title\":{\"standoff\":15},\"zerolinecolor\":\"white\",\"automargin\":true,\"zerolinewidth\":2},\"yaxis\":{\"gridcolor\":\"white\",\"linecolor\":\"white\",\"ticks\":\"\",\"title\":{\"standoff\":15},\"zerolinecolor\":\"white\",\"automargin\":true,\"zerolinewidth\":2},\"scene\":{\"xaxis\":{\"backgroundcolor\":\"#E5ECF6\",\"gridcolor\":\"white\",\"linecolor\":\"white\",\"showbackground\":true,\"ticks\":\"\",\"zerolinecolor\":\"white\",\"gridwidth\":2},\"yaxis\":{\"backgroundcolor\":\"#E5ECF6\",\"gridcolor\":\"white\",\"linecolor\":\"white\",\"showbackground\":true,\"ticks\":\"\",\"zerolinecolor\":\"white\",\"gridwidth\":2},\"zaxis\":{\"backgroundcolor\":\"#E5ECF6\",\"gridcolor\":\"white\",\"linecolor\":\"white\",\"showbackground\":true,\"ticks\":\"\",\"zerolinecolor\":\"white\",\"gridwidth\":2}},\"shapedefaults\":{\"line\":{\"color\":\"#2a3f5f\"}},\"annotationdefaults\":{\"arrowcolor\":\"#2a3f5f\",\"arrowhead\":0,\"arrowwidth\":1},\"geo\":{\"bgcolor\":\"white\",\"landcolor\":\"#E5ECF6\",\"subunitcolor\":\"white\",\"showland\":true,\"showlakes\":true,\"lakecolor\":\"white\"},\"title\":{\"x\":0.05},\"mapbox\":{\"style\":\"light\"}}},\"xaxis\":{\"anchor\":\"y\",\"domain\":[0.0,1.0],\"title\":{\"text\":\"Year Added\"}},\"yaxis\":{\"anchor\":\"x\",\"domain\":[0.0,1.0],\"title\":{\"text\":\"TV Show Percentage (%)\"}},\"legend\":{\"tracegroupgap\":0},\"title\":{\"text\":\"Yearly Percentage of TV Shows Added to Netflix\"}},                        {\"responsive\": true}                    ).then(function(){\n",
              "                            \n",
              "var gd = document.getElementById('dcd0881e-1f9e-4aad-ad58-fbd0d5f8340e');\n",
              "var x = new MutationObserver(function (mutations, observer) {{\n",
              "        var display = window.getComputedStyle(gd).display;\n",
              "        if (!display || display === 'none') {{\n",
              "            console.log([gd, 'removed!']);\n",
              "            Plotly.purge(gd);\n",
              "            observer.disconnect();\n",
              "        }}\n",
              "}});\n",
              "\n",
              "// Listen for the removal of the full notebook cells\n",
              "var notebookContainer = gd.closest('#notebook-container');\n",
              "if (notebookContainer) {{\n",
              "    x.observe(notebookContainer, {childList: true});\n",
              "}}\n",
              "\n",
              "// Listen for the clearing of the current output cell\n",
              "var outputEl = gd.closest('.output');\n",
              "if (outputEl) {{\n",
              "    x.observe(outputEl, {childList: true});\n",
              "}}\n",
              "\n",
              "                        })                };                            </script>        </div>\n",
              "</body>\n",
              "</html>"
            ]
          },
          "metadata": {}
        }
      ]
    },
    {
      "cell_type": "markdown",
      "source": [
        "Between 2008 and 2020, Netflix's content acquisition strategy shows distinct trends for movies and TV shows. Movies experienced a **dramatic surge** starting around **2015**, reaching a peak of approximately **1500 titles** in 2018 before a sharp **decline in 2020**. In contrast, TV shows—though lower in overall counts with a **peak around 400** in 2019—became increasingly significant over time. The percentage-based analysis reveals that TV show additions were minimal before 2010, then saw a sharp rise starting around 2013, **peaking near 40% in 2014**, and fluctuating through 2020, highlighting the evolving emphasis on TV content in Netflix's portfolio."
      ],
      "metadata": {
        "id": "HltNguCubi7w"
      }
    },
    {
      "cell_type": "markdown",
      "source": [
        "# **Final Summary Conclusion for Netflix Content Analysis Project**\n",
        "\n",
        "**Content Evolution and Strategic Shift:**\n",
        "Netflix has undergone a notable shift in its content strategy, with a marked increase in TV shows and a decline in movies. From 2008 to 2020, TV show additions nearly tripled, peaking at around 737 titles in 2019, while movies peaked at 1497 in 2018 before dropping sharply by over 2000 titles by 2020. The percentage of TV shows added rose significantly after 2010, peaking near 40% in 2014, indicating a strategic pivot towards TV content, likely to cater to evolving viewer preferences for serialized storytelling.\n",
        "Regional Content Variability:\n",
        "\n",
        "The United States dominates Netflix's content library with the highest title count (over 1800), followed by India (852 titles). Other countries like the United Kingdom, Canada, and Japan have significantly fewer titles. Content type distribution shows the U.S. and India favoring movies over TV shows, while countries like Japan and the Philippines have a more balanced mix. Ratings also vary regionally, with the U.S. and India having a high proportion of TV-MA and NR content, reflecting diverse audience preferences and regulatory environments.\n",
        "Content Characteristics:\n",
        "\n",
        "**Ratings Distribution:** TV-MA (2863 titles) and TV-14 (1931 titles) are the most common ratings, indicating a focus on mature and teen audiences. Less common ratings like NC-17 and UR suggest a limited emphasis on niche or highly restricted content.\n",
        "\n",
        "**Duration Trends:** Most movies have durations around 90-100 minutes, while TV shows predominantly have 1-2 seasons, reflecting a preference for shorter, binge-worthy series.\n",
        "\n",
        "**Genre Distribution:** Dramas, comedies, and international movies dominate, particularly in the U.S. and India. Genres like documentaries and kids' TV are also significant, showing Netflix's effort to cater to a broad audience.\n",
        "Insights for Business Strategy:\n",
        "\n",
        "The shift towards TV shows aligns with Netflix's broader strategy to retain subscribers through long-form, engaging content that encourages prolonged viewing. However, the sharp decline in movies suggests a need to balance its portfolio to maintain appeal for movie-focused audiences.\n",
        "\n",
        "Regional analysis highlights opportunities for tailored content strategies. For instance, increasing movie offerings in regions like the U.S. and India, while expanding TV show libraries in markets like Japan, could enhance viewer satisfaction.\n",
        "\n",
        "Clustering based on textual features (though optional in this analysis) could further uncover latent themes, aiding in content categorization and personalized recommendations, which are critical for user engagement.\n",
        "\n",
        "In conclusion, Netflix's content strategy has evolved to **prioritize TV shows**, reflecting changing viewer habits, but the** decline in movies** calls for a reassessment to maintain a diverse library. Regional differences underscore the importance of localized content strategies, and understanding content characteristics can guide future investments to optimize Netflix's global appeal and subscriber retention."
      ],
      "metadata": {
        "id": "o74Tb7co2n1f"
      }
    }
  ]
}