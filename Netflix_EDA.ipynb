{
  "nbformat": 4,
  "nbformat_minor": 0,
  "metadata": {
    "colab": {
      "provenance": []
    },
    "kernelspec": {
      "name": "python3",
      "display_name": "Python 3"
    },
    "language_info": {
      "name": "python"
    }
  },
  "cells": [
    {
      "cell_type": "markdown",
      "source": [
        "# **Project Name** - NETFLIX EDA"
      ],
      "metadata": {
        "id": "viui27WSmUQ1"
      }
    },
    {
      "cell_type": "markdown",
      "source": [
        "**Project Type** - EDA\n",
        "\n",
        "**Contribution** - Individual"
      ],
      "metadata": {
        "id": "OPPV5Z3onmGA"
      }
    },
    {
      "cell_type": "markdown",
      "source": [
        "# **Project Summary:**"
      ],
      "metadata": {
        "id": "QwcORdFhm6tR"
      }
    },
    {
      "cell_type": "markdown",
      "source": [
        "This project centers on clustering Netflix movies and TV shows using unsupervised machine learning techniques on Microsoft Azure. The dataset, sourced from Flixable and covering content as of 2019, includes both TV shows and movies available on Netflix. An exciting aspect of the project is its intent to enrich the Netflix data by integrating external sources—like IMDB ratings and Rotten Tomatoes—to derive deeper insights into content categorization and audience reception."
      ],
      "metadata": {
        "id": "3Zgrm8M-oEQ-"
      }
    },
    {
      "cell_type": "markdown",
      "source": [
        "# **Problem Statement**"
      ],
      "metadata": {
        "id": "0vmNVbMBwftH"
      }
    },
    {
      "cell_type": "markdown",
      "source": [
        "The dataset reveals a notable shift in Netflix's content strategy: while the number of TV shows has nearly tripled since 2010, the number of movies has decreased by over 2000 titles. This raises several critical issues:\n",
        "\n",
        "**Content Evolution:** What are the implications of a growing TV show library versus a shrinking movie offering?\n",
        "\n",
        "**Regional Variability:** How does the type of content differ across countries?\n",
        "\n",
        "**Feature Clustering:** (optional) Can unsupervised learning techniques effectively group similar content based on text-based features, and what insights might this clustering yield?"
      ],
      "metadata": {
        "id": "_6OGEU0iwpqm"
      }
    },
    {
      "cell_type": "markdown",
      "source": [
        "# **Business Objective**"
      ],
      "metadata": {
        "id": "WDYp_upSxeOv"
      }
    },
    {
      "cell_type": "markdown",
      "source": [
        "1) **Exploratory Data Analysis:** Dive deep into the dataset to identify structural patterns, trends, and anomalies within Netflix's content offerings.\n",
        "\n",
        "2) **Regional Content Analysis:** Determine what types of content are available in different countries to inform tailored content strategies and regional engagements.\n",
        "\n",
        "3) **Content Strategy Evaluation:** Analyze whether Netflix is consciously pivoting towards TV shows over movies and to what extent this evolution aligns with its broader business strategy.\n",
        "\n",
        "4) **Clustering for Insights: (optional)** Implement clustering algorithms to group similar content based on textual features. This will help in categorizing content effectively, uncovering latent themes, and possibly guiding decisions on future content investments."
      ],
      "metadata": {
        "id": "2rsG-LPvxjuH"
      }
    },
    {
      "cell_type": "markdown",
      "source": [
        "# **Let's Dive!!**"
      ],
      "metadata": {
        "id": "3dsA_5tnDgID"
      }
    },
    {
      "cell_type": "markdown",
      "source": [
        "### Checking Data"
      ],
      "metadata": {
        "id": "2Q3M9TuYDtqM"
      }
    },
    {
      "cell_type": "code",
      "source": [
        "# Required modules\n",
        "import pandas as pd\n",
        "import numpy as np\n",
        "import seaborn as sns\n",
        "import matplotlib.pyplot as plt\n",
        "import plotly.express as px\n",
        "import random\n",
        "import re\n",
        "import collections\n",
        "import unicodedata\n",
        "from wordcloud import WordCloud\n",
        "import plotly.graph_objects as go\n",
        "import io\n",
        "import base64\n",
        "import warnings\n",
        "warnings.filterwarnings('ignore')\n",
        "sns.set(style='whitegrid', palette='muted', color_codes=True)"
      ],
      "metadata": {
        "id": "YT3ISlvCnyap"
      },
      "execution_count": 1,
      "outputs": []
    },
    {
      "cell_type": "markdown",
      "source": [
        "### Initial data looks"
      ],
      "metadata": {
        "id": "OLr5Z0ChDyyw"
      }
    },
    {
      "cell_type": "code",
      "source": [
        "df = pd.read_csv(\"/content/drive/MyDrive/Netflix/NETFLIX MOVIES AND TV SHOWS CLUSTERING.csv\")"
      ],
      "metadata": {
        "id": "LdEFCK7ToBrZ"
      },
      "execution_count": 2,
      "outputs": []
    },
    {
      "cell_type": "code",
      "source": [
        "df.head(3)"
      ],
      "metadata": {
        "colab": {
          "base_uri": "https://localhost:8080/",
          "height": 247
        },
        "id": "ULOIYjgPoCxC",
        "outputId": "e60fff5e-3059-4cf2-e942-02f382bccd32"
      },
      "execution_count": 3,
      "outputs": [
        {
          "output_type": "execute_result",
          "data": {
            "text/plain": [
              "  show_id     type  title           director  \\\n",
              "0      s1  TV Show     3%                NaN   \n",
              "1      s2    Movie   7:19  Jorge Michel Grau   \n",
              "2      s3    Movie  23:59       Gilbert Chan   \n",
              "\n",
              "                                                cast    country  \\\n",
              "0  João Miguel, Bianca Comparato, Michel Gomes, R...     Brazil   \n",
              "1  Demián Bichir, Héctor Bonilla, Oscar Serrano, ...     Mexico   \n",
              "2  Tedd Chan, Stella Chung, Henley Hii, Lawrence ...  Singapore   \n",
              "\n",
              "          date_added  release_year rating   duration  \\\n",
              "0    August 14, 2020          2020  TV-MA  4 Seasons   \n",
              "1  December 23, 2016          2016  TV-MA     93 min   \n",
              "2  December 20, 2018          2011      R     78 min   \n",
              "\n",
              "                                           listed_in  \\\n",
              "0  International TV Shows, TV Dramas, TV Sci-Fi &...   \n",
              "1                       Dramas, International Movies   \n",
              "2                Horror Movies, International Movies   \n",
              "\n",
              "                                         description  \n",
              "0  In a future where the elite inhabit an island ...  \n",
              "1  After a devastating earthquake hits Mexico Cit...  \n",
              "2  When an army recruit is found dead, his fellow...  "
            ],
            "text/html": [
              "\n",
              "  <div id=\"df-df3a4c72-32f3-406c-a2c1-4c00e4d787ed\" class=\"colab-df-container\">\n",
              "    <div>\n",
              "<style scoped>\n",
              "    .dataframe tbody tr th:only-of-type {\n",
              "        vertical-align: middle;\n",
              "    }\n",
              "\n",
              "    .dataframe tbody tr th {\n",
              "        vertical-align: top;\n",
              "    }\n",
              "\n",
              "    .dataframe thead th {\n",
              "        text-align: right;\n",
              "    }\n",
              "</style>\n",
              "<table border=\"1\" class=\"dataframe\">\n",
              "  <thead>\n",
              "    <tr style=\"text-align: right;\">\n",
              "      <th></th>\n",
              "      <th>show_id</th>\n",
              "      <th>type</th>\n",
              "      <th>title</th>\n",
              "      <th>director</th>\n",
              "      <th>cast</th>\n",
              "      <th>country</th>\n",
              "      <th>date_added</th>\n",
              "      <th>release_year</th>\n",
              "      <th>rating</th>\n",
              "      <th>duration</th>\n",
              "      <th>listed_in</th>\n",
              "      <th>description</th>\n",
              "    </tr>\n",
              "  </thead>\n",
              "  <tbody>\n",
              "    <tr>\n",
              "      <th>0</th>\n",
              "      <td>s1</td>\n",
              "      <td>TV Show</td>\n",
              "      <td>3%</td>\n",
              "      <td>NaN</td>\n",
              "      <td>João Miguel, Bianca Comparato, Michel Gomes, R...</td>\n",
              "      <td>Brazil</td>\n",
              "      <td>August 14, 2020</td>\n",
              "      <td>2020</td>\n",
              "      <td>TV-MA</td>\n",
              "      <td>4 Seasons</td>\n",
              "      <td>International TV Shows, TV Dramas, TV Sci-Fi &amp;...</td>\n",
              "      <td>In a future where the elite inhabit an island ...</td>\n",
              "    </tr>\n",
              "    <tr>\n",
              "      <th>1</th>\n",
              "      <td>s2</td>\n",
              "      <td>Movie</td>\n",
              "      <td>7:19</td>\n",
              "      <td>Jorge Michel Grau</td>\n",
              "      <td>Demián Bichir, Héctor Bonilla, Oscar Serrano, ...</td>\n",
              "      <td>Mexico</td>\n",
              "      <td>December 23, 2016</td>\n",
              "      <td>2016</td>\n",
              "      <td>TV-MA</td>\n",
              "      <td>93 min</td>\n",
              "      <td>Dramas, International Movies</td>\n",
              "      <td>After a devastating earthquake hits Mexico Cit...</td>\n",
              "    </tr>\n",
              "    <tr>\n",
              "      <th>2</th>\n",
              "      <td>s3</td>\n",
              "      <td>Movie</td>\n",
              "      <td>23:59</td>\n",
              "      <td>Gilbert Chan</td>\n",
              "      <td>Tedd Chan, Stella Chung, Henley Hii, Lawrence ...</td>\n",
              "      <td>Singapore</td>\n",
              "      <td>December 20, 2018</td>\n",
              "      <td>2011</td>\n",
              "      <td>R</td>\n",
              "      <td>78 min</td>\n",
              "      <td>Horror Movies, International Movies</td>\n",
              "      <td>When an army recruit is found dead, his fellow...</td>\n",
              "    </tr>\n",
              "  </tbody>\n",
              "</table>\n",
              "</div>\n",
              "    <div class=\"colab-df-buttons\">\n",
              "\n",
              "  <div class=\"colab-df-container\">\n",
              "    <button class=\"colab-df-convert\" onclick=\"convertToInteractive('df-df3a4c72-32f3-406c-a2c1-4c00e4d787ed')\"\n",
              "            title=\"Convert this dataframe to an interactive table.\"\n",
              "            style=\"display:none;\">\n",
              "\n",
              "  <svg xmlns=\"http://www.w3.org/2000/svg\" height=\"24px\" viewBox=\"0 -960 960 960\">\n",
              "    <path d=\"M120-120v-720h720v720H120Zm60-500h600v-160H180v160Zm220 220h160v-160H400v160Zm0 220h160v-160H400v160ZM180-400h160v-160H180v160Zm440 0h160v-160H620v160ZM180-180h160v-160H180v160Zm440 0h160v-160H620v160Z\"/>\n",
              "  </svg>\n",
              "    </button>\n",
              "\n",
              "  <style>\n",
              "    .colab-df-container {\n",
              "      display:flex;\n",
              "      gap: 12px;\n",
              "    }\n",
              "\n",
              "    .colab-df-convert {\n",
              "      background-color: #E8F0FE;\n",
              "      border: none;\n",
              "      border-radius: 50%;\n",
              "      cursor: pointer;\n",
              "      display: none;\n",
              "      fill: #1967D2;\n",
              "      height: 32px;\n",
              "      padding: 0 0 0 0;\n",
              "      width: 32px;\n",
              "    }\n",
              "\n",
              "    .colab-df-convert:hover {\n",
              "      background-color: #E2EBFA;\n",
              "      box-shadow: 0px 1px 2px rgba(60, 64, 67, 0.3), 0px 1px 3px 1px rgba(60, 64, 67, 0.15);\n",
              "      fill: #174EA6;\n",
              "    }\n",
              "\n",
              "    .colab-df-buttons div {\n",
              "      margin-bottom: 4px;\n",
              "    }\n",
              "\n",
              "    [theme=dark] .colab-df-convert {\n",
              "      background-color: #3B4455;\n",
              "      fill: #D2E3FC;\n",
              "    }\n",
              "\n",
              "    [theme=dark] .colab-df-convert:hover {\n",
              "      background-color: #434B5C;\n",
              "      box-shadow: 0px 1px 3px 1px rgba(0, 0, 0, 0.15);\n",
              "      filter: drop-shadow(0px 1px 2px rgba(0, 0, 0, 0.3));\n",
              "      fill: #FFFFFF;\n",
              "    }\n",
              "  </style>\n",
              "\n",
              "    <script>\n",
              "      const buttonEl =\n",
              "        document.querySelector('#df-df3a4c72-32f3-406c-a2c1-4c00e4d787ed button.colab-df-convert');\n",
              "      buttonEl.style.display =\n",
              "        google.colab.kernel.accessAllowed ? 'block' : 'none';\n",
              "\n",
              "      async function convertToInteractive(key) {\n",
              "        const element = document.querySelector('#df-df3a4c72-32f3-406c-a2c1-4c00e4d787ed');\n",
              "        const dataTable =\n",
              "          await google.colab.kernel.invokeFunction('convertToInteractive',\n",
              "                                                    [key], {});\n",
              "        if (!dataTable) return;\n",
              "\n",
              "        const docLinkHtml = 'Like what you see? Visit the ' +\n",
              "          '<a target=\"_blank\" href=https://colab.research.google.com/notebooks/data_table.ipynb>data table notebook</a>'\n",
              "          + ' to learn more about interactive tables.';\n",
              "        element.innerHTML = '';\n",
              "        dataTable['output_type'] = 'display_data';\n",
              "        await google.colab.output.renderOutput(dataTable, element);\n",
              "        const docLink = document.createElement('div');\n",
              "        docLink.innerHTML = docLinkHtml;\n",
              "        element.appendChild(docLink);\n",
              "      }\n",
              "    </script>\n",
              "  </div>\n",
              "\n",
              "\n",
              "    <div id=\"df-0b4eb793-5c6b-4a5f-a6db-dd9b0550d5f9\">\n",
              "      <button class=\"colab-df-quickchart\" onclick=\"quickchart('df-0b4eb793-5c6b-4a5f-a6db-dd9b0550d5f9')\"\n",
              "                title=\"Suggest charts\"\n",
              "                style=\"display:none;\">\n",
              "\n",
              "<svg xmlns=\"http://www.w3.org/2000/svg\" height=\"24px\"viewBox=\"0 0 24 24\"\n",
              "     width=\"24px\">\n",
              "    <g>\n",
              "        <path d=\"M19 3H5c-1.1 0-2 .9-2 2v14c0 1.1.9 2 2 2h14c1.1 0 2-.9 2-2V5c0-1.1-.9-2-2-2zM9 17H7v-7h2v7zm4 0h-2V7h2v10zm4 0h-2v-4h2v4z\"/>\n",
              "    </g>\n",
              "</svg>\n",
              "      </button>\n",
              "\n",
              "<style>\n",
              "  .colab-df-quickchart {\n",
              "      --bg-color: #E8F0FE;\n",
              "      --fill-color: #1967D2;\n",
              "      --hover-bg-color: #E2EBFA;\n",
              "      --hover-fill-color: #174EA6;\n",
              "      --disabled-fill-color: #AAA;\n",
              "      --disabled-bg-color: #DDD;\n",
              "  }\n",
              "\n",
              "  [theme=dark] .colab-df-quickchart {\n",
              "      --bg-color: #3B4455;\n",
              "      --fill-color: #D2E3FC;\n",
              "      --hover-bg-color: #434B5C;\n",
              "      --hover-fill-color: #FFFFFF;\n",
              "      --disabled-bg-color: #3B4455;\n",
              "      --disabled-fill-color: #666;\n",
              "  }\n",
              "\n",
              "  .colab-df-quickchart {\n",
              "    background-color: var(--bg-color);\n",
              "    border: none;\n",
              "    border-radius: 50%;\n",
              "    cursor: pointer;\n",
              "    display: none;\n",
              "    fill: var(--fill-color);\n",
              "    height: 32px;\n",
              "    padding: 0;\n",
              "    width: 32px;\n",
              "  }\n",
              "\n",
              "  .colab-df-quickchart:hover {\n",
              "    background-color: var(--hover-bg-color);\n",
              "    box-shadow: 0 1px 2px rgba(60, 64, 67, 0.3), 0 1px 3px 1px rgba(60, 64, 67, 0.15);\n",
              "    fill: var(--button-hover-fill-color);\n",
              "  }\n",
              "\n",
              "  .colab-df-quickchart-complete:disabled,\n",
              "  .colab-df-quickchart-complete:disabled:hover {\n",
              "    background-color: var(--disabled-bg-color);\n",
              "    fill: var(--disabled-fill-color);\n",
              "    box-shadow: none;\n",
              "  }\n",
              "\n",
              "  .colab-df-spinner {\n",
              "    border: 2px solid var(--fill-color);\n",
              "    border-color: transparent;\n",
              "    border-bottom-color: var(--fill-color);\n",
              "    animation:\n",
              "      spin 1s steps(1) infinite;\n",
              "  }\n",
              "\n",
              "  @keyframes spin {\n",
              "    0% {\n",
              "      border-color: transparent;\n",
              "      border-bottom-color: var(--fill-color);\n",
              "      border-left-color: var(--fill-color);\n",
              "    }\n",
              "    20% {\n",
              "      border-color: transparent;\n",
              "      border-left-color: var(--fill-color);\n",
              "      border-top-color: var(--fill-color);\n",
              "    }\n",
              "    30% {\n",
              "      border-color: transparent;\n",
              "      border-left-color: var(--fill-color);\n",
              "      border-top-color: var(--fill-color);\n",
              "      border-right-color: var(--fill-color);\n",
              "    }\n",
              "    40% {\n",
              "      border-color: transparent;\n",
              "      border-right-color: var(--fill-color);\n",
              "      border-top-color: var(--fill-color);\n",
              "    }\n",
              "    60% {\n",
              "      border-color: transparent;\n",
              "      border-right-color: var(--fill-color);\n",
              "    }\n",
              "    80% {\n",
              "      border-color: transparent;\n",
              "      border-right-color: var(--fill-color);\n",
              "      border-bottom-color: var(--fill-color);\n",
              "    }\n",
              "    90% {\n",
              "      border-color: transparent;\n",
              "      border-bottom-color: var(--fill-color);\n",
              "    }\n",
              "  }\n",
              "</style>\n",
              "\n",
              "      <script>\n",
              "        async function quickchart(key) {\n",
              "          const quickchartButtonEl =\n",
              "            document.querySelector('#' + key + ' button');\n",
              "          quickchartButtonEl.disabled = true;  // To prevent multiple clicks.\n",
              "          quickchartButtonEl.classList.add('colab-df-spinner');\n",
              "          try {\n",
              "            const charts = await google.colab.kernel.invokeFunction(\n",
              "                'suggestCharts', [key], {});\n",
              "          } catch (error) {\n",
              "            console.error('Error during call to suggestCharts:', error);\n",
              "          }\n",
              "          quickchartButtonEl.classList.remove('colab-df-spinner');\n",
              "          quickchartButtonEl.classList.add('colab-df-quickchart-complete');\n",
              "        }\n",
              "        (() => {\n",
              "          let quickchartButtonEl =\n",
              "            document.querySelector('#df-0b4eb793-5c6b-4a5f-a6db-dd9b0550d5f9 button');\n",
              "          quickchartButtonEl.style.display =\n",
              "            google.colab.kernel.accessAllowed ? 'block' : 'none';\n",
              "        })();\n",
              "      </script>\n",
              "    </div>\n",
              "\n",
              "    </div>\n",
              "  </div>\n"
            ],
            "application/vnd.google.colaboratory.intrinsic+json": {
              "type": "dataframe",
              "variable_name": "df",
              "summary": "{\n  \"name\": \"df\",\n  \"rows\": 7787,\n  \"fields\": [\n    {\n      \"column\": \"show_id\",\n      \"properties\": {\n        \"dtype\": \"string\",\n        \"num_unique_values\": 7787,\n        \"samples\": [\n          \"s7325\",\n          \"s4695\",\n          \"s1323\"\n        ],\n        \"semantic_type\": \"\",\n        \"description\": \"\"\n      }\n    },\n    {\n      \"column\": \"type\",\n      \"properties\": {\n        \"dtype\": \"category\",\n        \"num_unique_values\": 2,\n        \"samples\": [\n          \"Movie\",\n          \"TV Show\"\n        ],\n        \"semantic_type\": \"\",\n        \"description\": \"\"\n      }\n    },\n    {\n      \"column\": \"title\",\n      \"properties\": {\n        \"dtype\": \"string\",\n        \"num_unique_values\": 7787,\n        \"samples\": [\n          \"Unchained: The Untold Story of Freestyle Motocross\",\n          \"Our Idiot Brother\"\n        ],\n        \"semantic_type\": \"\",\n        \"description\": \"\"\n      }\n    },\n    {\n      \"column\": \"director\",\n      \"properties\": {\n        \"dtype\": \"string\",\n        \"num_unique_values\": 4049,\n        \"samples\": [\n          \"Olivia Milch\",\n          \"Francisco Macri\"\n        ],\n        \"semantic_type\": \"\",\n        \"description\": \"\"\n      }\n    },\n    {\n      \"column\": \"cast\",\n      \"properties\": {\n        \"dtype\": \"string\",\n        \"num_unique_values\": 6831,\n        \"samples\": [\n          \"Nicola Lambo, Evan Boymel, John P. Fowler, Erica Duke, Ezra James Colbert\",\n          \"Jodie Whittaker, Warwick Davis, Jim Broadbent, Stephen Graham, Nonso Anozie, Rafe Spall, Ewen Bremner, Matt King\"\n        ],\n        \"semantic_type\": \"\",\n        \"description\": \"\"\n      }\n    },\n    {\n      \"column\": \"country\",\n      \"properties\": {\n        \"dtype\": \"category\",\n        \"num_unique_values\": 681,\n        \"samples\": [\n          \"Romania, United Kingdom\",\n          \"United States, United Arab Emirates\"\n        ],\n        \"semantic_type\": \"\",\n        \"description\": \"\"\n      }\n    },\n    {\n      \"column\": \"date_added\",\n      \"properties\": {\n        \"dtype\": \"category\",\n        \"num_unique_values\": 1565,\n        \"samples\": [\n          \"April 18, 2017\",\n          \"February 27, 2020\"\n        ],\n        \"semantic_type\": \"\",\n        \"description\": \"\"\n      }\n    },\n    {\n      \"column\": \"release_year\",\n      \"properties\": {\n        \"dtype\": \"number\",\n        \"std\": 8,\n        \"min\": 1925,\n        \"max\": 2021,\n        \"num_unique_values\": 73,\n        \"samples\": [\n          2008,\n          1969\n        ],\n        \"semantic_type\": \"\",\n        \"description\": \"\"\n      }\n    },\n    {\n      \"column\": \"rating\",\n      \"properties\": {\n        \"dtype\": \"category\",\n        \"num_unique_values\": 14,\n        \"samples\": [\n          \"PG\",\n          \"NC-17\"\n        ],\n        \"semantic_type\": \"\",\n        \"description\": \"\"\n      }\n    },\n    {\n      \"column\": \"duration\",\n      \"properties\": {\n        \"dtype\": \"category\",\n        \"num_unique_values\": 216,\n        \"samples\": [\n          \"230 min\",\n          \"253 min\"\n        ],\n        \"semantic_type\": \"\",\n        \"description\": \"\"\n      }\n    },\n    {\n      \"column\": \"listed_in\",\n      \"properties\": {\n        \"dtype\": \"category\",\n        \"num_unique_values\": 492,\n        \"samples\": [\n          \"Children & Family Movies, Dramas\",\n          \"Dramas, LGBTQ Movies\"\n        ],\n        \"semantic_type\": \"\",\n        \"description\": \"\"\n      }\n    },\n    {\n      \"column\": \"description\",\n      \"properties\": {\n        \"dtype\": \"string\",\n        \"num_unique_values\": 7769,\n        \"samples\": [\n          \"A middle-aged actress is cast in a film adaptation of the play that made her famous 20 years earlier, but in a much less glamorous role.\",\n          \"The life of a high-flying law student takes a drastic turn when a bout of misfortune changes his status in society for good.\"\n        ],\n        \"semantic_type\": \"\",\n        \"description\": \"\"\n      }\n    }\n  ]\n}"
            }
          },
          "metadata": {},
          "execution_count": 3
        }
      ]
    },
    {
      "cell_type": "markdown",
      "source": [
        "### Dataset Rows & Columns count"
      ],
      "metadata": {
        "id": "Kj6NVu18D-lq"
      }
    },
    {
      "cell_type": "code",
      "source": [
        "# Dataset Rows & Columns count\n",
        "print('Number of Rows =', df.shape[0])\n",
        "print('Number of Columns =',df.shape[1])"
      ],
      "metadata": {
        "colab": {
          "base_uri": "https://localhost:8080/"
        },
        "id": "EtDzK6wNpAWk",
        "outputId": "3f6bf0ac-2da8-4258-b473-8c09346acf18"
      },
      "execution_count": 4,
      "outputs": [
        {
          "output_type": "stream",
          "name": "stdout",
          "text": [
            "Number of Rows = 7787\n",
            "Number of Columns = 12\n"
          ]
        }
      ]
    },
    {
      "cell_type": "markdown",
      "source": [
        "### Dataset information"
      ],
      "metadata": {
        "id": "0rg_HLt0ESBz"
      }
    },
    {
      "cell_type": "code",
      "source": [
        "df.info()"
      ],
      "metadata": {
        "colab": {
          "base_uri": "https://localhost:8080/"
        },
        "id": "WI2GSuZhpOmm",
        "outputId": "3f13aabd-74b1-4d09-fc39-adbcbe419541"
      },
      "execution_count": 5,
      "outputs": [
        {
          "output_type": "stream",
          "name": "stdout",
          "text": [
            "<class 'pandas.core.frame.DataFrame'>\n",
            "RangeIndex: 7787 entries, 0 to 7786\n",
            "Data columns (total 12 columns):\n",
            " #   Column        Non-Null Count  Dtype \n",
            "---  ------        --------------  ----- \n",
            " 0   show_id       7787 non-null   object\n",
            " 1   type          7787 non-null   object\n",
            " 2   title         7787 non-null   object\n",
            " 3   director      5398 non-null   object\n",
            " 4   cast          7069 non-null   object\n",
            " 5   country       7280 non-null   object\n",
            " 6   date_added    7777 non-null   object\n",
            " 7   release_year  7787 non-null   int64 \n",
            " 8   rating        7780 non-null   object\n",
            " 9   duration      7787 non-null   object\n",
            " 10  listed_in     7787 non-null   object\n",
            " 11  description   7787 non-null   object\n",
            "dtypes: int64(1), object(11)\n",
            "memory usage: 730.2+ KB\n"
          ]
        }
      ]
    },
    {
      "cell_type": "markdown",
      "source": [
        "## **Understanding Your Variables**"
      ],
      "metadata": {
        "id": "3K-ttyb1Gxat"
      }
    },
    {
      "cell_type": "code",
      "source": [
        "# checking columns\n",
        "df.columns"
      ],
      "metadata": {
        "colab": {
          "base_uri": "https://localhost:8080/"
        },
        "id": "QpsZF48LpOcK",
        "outputId": "54b0475f-3216-4c10-8e3f-723e5ab0ff6c"
      },
      "execution_count": 6,
      "outputs": [
        {
          "output_type": "execute_result",
          "data": {
            "text/plain": [
              "Index(['show_id', 'type', 'title', 'director', 'cast', 'country', 'date_added',\n",
              "       'release_year', 'rating', 'duration', 'listed_in', 'description'],\n",
              "      dtype='object')"
            ]
          },
          "metadata": {},
          "execution_count": 6
        }
      ]
    },
    {
      "cell_type": "markdown",
      "source": [
        "#### Dataset Summary Statistics (Rounded)"
      ],
      "metadata": {
        "id": "6bkvHpRFE1L8"
      }
    },
    {
      "cell_type": "code",
      "source": [
        "round(df.describe(include='all'))"
      ],
      "metadata": {
        "colab": {
          "base_uri": "https://localhost:8080/",
          "height": 429
        },
        "id": "29c5TNSOpOhi",
        "outputId": "7af4e87e-d146-467b-c8f5-b736b5f69ac9"
      },
      "execution_count": 7,
      "outputs": [
        {
          "output_type": "execute_result",
          "data": {
            "text/plain": [
              "       show_id   type                                    title  \\\n",
              "count     7787   7787                                     7787   \n",
              "unique    7787      2                                     7787   \n",
              "top      s7787  Movie  ZZ TOP: THAT LITTLE OL' BAND FROM TEXAS   \n",
              "freq         1   5377                                        1   \n",
              "mean       NaN    NaN                                      NaN   \n",
              "std        NaN    NaN                                      NaN   \n",
              "min        NaN    NaN                                      NaN   \n",
              "25%        NaN    NaN                                      NaN   \n",
              "50%        NaN    NaN                                      NaN   \n",
              "75%        NaN    NaN                                      NaN   \n",
              "max        NaN    NaN                                      NaN   \n",
              "\n",
              "                      director                cast        country  \\\n",
              "count                     5398                7069           7280   \n",
              "unique                    4049                6831            681   \n",
              "top     Raúl Campos, Jan Suter  David Attenborough  United States   \n",
              "freq                        18                  18           2555   \n",
              "mean                       NaN                 NaN            NaN   \n",
              "std                        NaN                 NaN            NaN   \n",
              "min                        NaN                 NaN            NaN   \n",
              "25%                        NaN                 NaN            NaN   \n",
              "50%                        NaN                 NaN            NaN   \n",
              "75%                        NaN                 NaN            NaN   \n",
              "max                        NaN                 NaN            NaN   \n",
              "\n",
              "             date_added  release_year rating  duration      listed_in  \\\n",
              "count              7777        7787.0   7780      7787           7787   \n",
              "unique             1565           NaN     14       216            492   \n",
              "top     January 1, 2020           NaN  TV-MA  1 Season  Documentaries   \n",
              "freq                118           NaN   2863      1608            334   \n",
              "mean                NaN        2014.0    NaN       NaN            NaN   \n",
              "std                 NaN           9.0    NaN       NaN            NaN   \n",
              "min                 NaN        1925.0    NaN       NaN            NaN   \n",
              "25%                 NaN        2013.0    NaN       NaN            NaN   \n",
              "50%                 NaN        2017.0    NaN       NaN            NaN   \n",
              "75%                 NaN        2018.0    NaN       NaN            NaN   \n",
              "max                 NaN        2021.0    NaN       NaN            NaN   \n",
              "\n",
              "                                              description  \n",
              "count                                                7787  \n",
              "unique                                               7769  \n",
              "top     Multiple women report their husbands as missin...  \n",
              "freq                                                    3  \n",
              "mean                                                  NaN  \n",
              "std                                                   NaN  \n",
              "min                                                   NaN  \n",
              "25%                                                   NaN  \n",
              "50%                                                   NaN  \n",
              "75%                                                   NaN  \n",
              "max                                                   NaN  "
            ],
            "text/html": [
              "\n",
              "  <div id=\"df-94f6cb39-421a-4532-8652-1d0ad2ba8630\" class=\"colab-df-container\">\n",
              "    <div>\n",
              "<style scoped>\n",
              "    .dataframe tbody tr th:only-of-type {\n",
              "        vertical-align: middle;\n",
              "    }\n",
              "\n",
              "    .dataframe tbody tr th {\n",
              "        vertical-align: top;\n",
              "    }\n",
              "\n",
              "    .dataframe thead th {\n",
              "        text-align: right;\n",
              "    }\n",
              "</style>\n",
              "<table border=\"1\" class=\"dataframe\">\n",
              "  <thead>\n",
              "    <tr style=\"text-align: right;\">\n",
              "      <th></th>\n",
              "      <th>show_id</th>\n",
              "      <th>type</th>\n",
              "      <th>title</th>\n",
              "      <th>director</th>\n",
              "      <th>cast</th>\n",
              "      <th>country</th>\n",
              "      <th>date_added</th>\n",
              "      <th>release_year</th>\n",
              "      <th>rating</th>\n",
              "      <th>duration</th>\n",
              "      <th>listed_in</th>\n",
              "      <th>description</th>\n",
              "    </tr>\n",
              "  </thead>\n",
              "  <tbody>\n",
              "    <tr>\n",
              "      <th>count</th>\n",
              "      <td>7787</td>\n",
              "      <td>7787</td>\n",
              "      <td>7787</td>\n",
              "      <td>5398</td>\n",
              "      <td>7069</td>\n",
              "      <td>7280</td>\n",
              "      <td>7777</td>\n",
              "      <td>7787.0</td>\n",
              "      <td>7780</td>\n",
              "      <td>7787</td>\n",
              "      <td>7787</td>\n",
              "      <td>7787</td>\n",
              "    </tr>\n",
              "    <tr>\n",
              "      <th>unique</th>\n",
              "      <td>7787</td>\n",
              "      <td>2</td>\n",
              "      <td>7787</td>\n",
              "      <td>4049</td>\n",
              "      <td>6831</td>\n",
              "      <td>681</td>\n",
              "      <td>1565</td>\n",
              "      <td>NaN</td>\n",
              "      <td>14</td>\n",
              "      <td>216</td>\n",
              "      <td>492</td>\n",
              "      <td>7769</td>\n",
              "    </tr>\n",
              "    <tr>\n",
              "      <th>top</th>\n",
              "      <td>s7787</td>\n",
              "      <td>Movie</td>\n",
              "      <td>ZZ TOP: THAT LITTLE OL' BAND FROM TEXAS</td>\n",
              "      <td>Raúl Campos, Jan Suter</td>\n",
              "      <td>David Attenborough</td>\n",
              "      <td>United States</td>\n",
              "      <td>January 1, 2020</td>\n",
              "      <td>NaN</td>\n",
              "      <td>TV-MA</td>\n",
              "      <td>1 Season</td>\n",
              "      <td>Documentaries</td>\n",
              "      <td>Multiple women report their husbands as missin...</td>\n",
              "    </tr>\n",
              "    <tr>\n",
              "      <th>freq</th>\n",
              "      <td>1</td>\n",
              "      <td>5377</td>\n",
              "      <td>1</td>\n",
              "      <td>18</td>\n",
              "      <td>18</td>\n",
              "      <td>2555</td>\n",
              "      <td>118</td>\n",
              "      <td>NaN</td>\n",
              "      <td>2863</td>\n",
              "      <td>1608</td>\n",
              "      <td>334</td>\n",
              "      <td>3</td>\n",
              "    </tr>\n",
              "    <tr>\n",
              "      <th>mean</th>\n",
              "      <td>NaN</td>\n",
              "      <td>NaN</td>\n",
              "      <td>NaN</td>\n",
              "      <td>NaN</td>\n",
              "      <td>NaN</td>\n",
              "      <td>NaN</td>\n",
              "      <td>NaN</td>\n",
              "      <td>2014.0</td>\n",
              "      <td>NaN</td>\n",
              "      <td>NaN</td>\n",
              "      <td>NaN</td>\n",
              "      <td>NaN</td>\n",
              "    </tr>\n",
              "    <tr>\n",
              "      <th>std</th>\n",
              "      <td>NaN</td>\n",
              "      <td>NaN</td>\n",
              "      <td>NaN</td>\n",
              "      <td>NaN</td>\n",
              "      <td>NaN</td>\n",
              "      <td>NaN</td>\n",
              "      <td>NaN</td>\n",
              "      <td>9.0</td>\n",
              "      <td>NaN</td>\n",
              "      <td>NaN</td>\n",
              "      <td>NaN</td>\n",
              "      <td>NaN</td>\n",
              "    </tr>\n",
              "    <tr>\n",
              "      <th>min</th>\n",
              "      <td>NaN</td>\n",
              "      <td>NaN</td>\n",
              "      <td>NaN</td>\n",
              "      <td>NaN</td>\n",
              "      <td>NaN</td>\n",
              "      <td>NaN</td>\n",
              "      <td>NaN</td>\n",
              "      <td>1925.0</td>\n",
              "      <td>NaN</td>\n",
              "      <td>NaN</td>\n",
              "      <td>NaN</td>\n",
              "      <td>NaN</td>\n",
              "    </tr>\n",
              "    <tr>\n",
              "      <th>25%</th>\n",
              "      <td>NaN</td>\n",
              "      <td>NaN</td>\n",
              "      <td>NaN</td>\n",
              "      <td>NaN</td>\n",
              "      <td>NaN</td>\n",
              "      <td>NaN</td>\n",
              "      <td>NaN</td>\n",
              "      <td>2013.0</td>\n",
              "      <td>NaN</td>\n",
              "      <td>NaN</td>\n",
              "      <td>NaN</td>\n",
              "      <td>NaN</td>\n",
              "    </tr>\n",
              "    <tr>\n",
              "      <th>50%</th>\n",
              "      <td>NaN</td>\n",
              "      <td>NaN</td>\n",
              "      <td>NaN</td>\n",
              "      <td>NaN</td>\n",
              "      <td>NaN</td>\n",
              "      <td>NaN</td>\n",
              "      <td>NaN</td>\n",
              "      <td>2017.0</td>\n",
              "      <td>NaN</td>\n",
              "      <td>NaN</td>\n",
              "      <td>NaN</td>\n",
              "      <td>NaN</td>\n",
              "    </tr>\n",
              "    <tr>\n",
              "      <th>75%</th>\n",
              "      <td>NaN</td>\n",
              "      <td>NaN</td>\n",
              "      <td>NaN</td>\n",
              "      <td>NaN</td>\n",
              "      <td>NaN</td>\n",
              "      <td>NaN</td>\n",
              "      <td>NaN</td>\n",
              "      <td>2018.0</td>\n",
              "      <td>NaN</td>\n",
              "      <td>NaN</td>\n",
              "      <td>NaN</td>\n",
              "      <td>NaN</td>\n",
              "    </tr>\n",
              "    <tr>\n",
              "      <th>max</th>\n",
              "      <td>NaN</td>\n",
              "      <td>NaN</td>\n",
              "      <td>NaN</td>\n",
              "      <td>NaN</td>\n",
              "      <td>NaN</td>\n",
              "      <td>NaN</td>\n",
              "      <td>NaN</td>\n",
              "      <td>2021.0</td>\n",
              "      <td>NaN</td>\n",
              "      <td>NaN</td>\n",
              "      <td>NaN</td>\n",
              "      <td>NaN</td>\n",
              "    </tr>\n",
              "  </tbody>\n",
              "</table>\n",
              "</div>\n",
              "    <div class=\"colab-df-buttons\">\n",
              "\n",
              "  <div class=\"colab-df-container\">\n",
              "    <button class=\"colab-df-convert\" onclick=\"convertToInteractive('df-94f6cb39-421a-4532-8652-1d0ad2ba8630')\"\n",
              "            title=\"Convert this dataframe to an interactive table.\"\n",
              "            style=\"display:none;\">\n",
              "\n",
              "  <svg xmlns=\"http://www.w3.org/2000/svg\" height=\"24px\" viewBox=\"0 -960 960 960\">\n",
              "    <path d=\"M120-120v-720h720v720H120Zm60-500h600v-160H180v160Zm220 220h160v-160H400v160Zm0 220h160v-160H400v160ZM180-400h160v-160H180v160Zm440 0h160v-160H620v160ZM180-180h160v-160H180v160Zm440 0h160v-160H620v160Z\"/>\n",
              "  </svg>\n",
              "    </button>\n",
              "\n",
              "  <style>\n",
              "    .colab-df-container {\n",
              "      display:flex;\n",
              "      gap: 12px;\n",
              "    }\n",
              "\n",
              "    .colab-df-convert {\n",
              "      background-color: #E8F0FE;\n",
              "      border: none;\n",
              "      border-radius: 50%;\n",
              "      cursor: pointer;\n",
              "      display: none;\n",
              "      fill: #1967D2;\n",
              "      height: 32px;\n",
              "      padding: 0 0 0 0;\n",
              "      width: 32px;\n",
              "    }\n",
              "\n",
              "    .colab-df-convert:hover {\n",
              "      background-color: #E2EBFA;\n",
              "      box-shadow: 0px 1px 2px rgba(60, 64, 67, 0.3), 0px 1px 3px 1px rgba(60, 64, 67, 0.15);\n",
              "      fill: #174EA6;\n",
              "    }\n",
              "\n",
              "    .colab-df-buttons div {\n",
              "      margin-bottom: 4px;\n",
              "    }\n",
              "\n",
              "    [theme=dark] .colab-df-convert {\n",
              "      background-color: #3B4455;\n",
              "      fill: #D2E3FC;\n",
              "    }\n",
              "\n",
              "    [theme=dark] .colab-df-convert:hover {\n",
              "      background-color: #434B5C;\n",
              "      box-shadow: 0px 1px 3px 1px rgba(0, 0, 0, 0.15);\n",
              "      filter: drop-shadow(0px 1px 2px rgba(0, 0, 0, 0.3));\n",
              "      fill: #FFFFFF;\n",
              "    }\n",
              "  </style>\n",
              "\n",
              "    <script>\n",
              "      const buttonEl =\n",
              "        document.querySelector('#df-94f6cb39-421a-4532-8652-1d0ad2ba8630 button.colab-df-convert');\n",
              "      buttonEl.style.display =\n",
              "        google.colab.kernel.accessAllowed ? 'block' : 'none';\n",
              "\n",
              "      async function convertToInteractive(key) {\n",
              "        const element = document.querySelector('#df-94f6cb39-421a-4532-8652-1d0ad2ba8630');\n",
              "        const dataTable =\n",
              "          await google.colab.kernel.invokeFunction('convertToInteractive',\n",
              "                                                    [key], {});\n",
              "        if (!dataTable) return;\n",
              "\n",
              "        const docLinkHtml = 'Like what you see? Visit the ' +\n",
              "          '<a target=\"_blank\" href=https://colab.research.google.com/notebooks/data_table.ipynb>data table notebook</a>'\n",
              "          + ' to learn more about interactive tables.';\n",
              "        element.innerHTML = '';\n",
              "        dataTable['output_type'] = 'display_data';\n",
              "        await google.colab.output.renderOutput(dataTable, element);\n",
              "        const docLink = document.createElement('div');\n",
              "        docLink.innerHTML = docLinkHtml;\n",
              "        element.appendChild(docLink);\n",
              "      }\n",
              "    </script>\n",
              "  </div>\n",
              "\n",
              "\n",
              "    <div id=\"df-6b78a9dc-7b6d-413f-a99e-ad91c8b55b90\">\n",
              "      <button class=\"colab-df-quickchart\" onclick=\"quickchart('df-6b78a9dc-7b6d-413f-a99e-ad91c8b55b90')\"\n",
              "                title=\"Suggest charts\"\n",
              "                style=\"display:none;\">\n",
              "\n",
              "<svg xmlns=\"http://www.w3.org/2000/svg\" height=\"24px\"viewBox=\"0 0 24 24\"\n",
              "     width=\"24px\">\n",
              "    <g>\n",
              "        <path d=\"M19 3H5c-1.1 0-2 .9-2 2v14c0 1.1.9 2 2 2h14c1.1 0 2-.9 2-2V5c0-1.1-.9-2-2-2zM9 17H7v-7h2v7zm4 0h-2V7h2v10zm4 0h-2v-4h2v4z\"/>\n",
              "    </g>\n",
              "</svg>\n",
              "      </button>\n",
              "\n",
              "<style>\n",
              "  .colab-df-quickchart {\n",
              "      --bg-color: #E8F0FE;\n",
              "      --fill-color: #1967D2;\n",
              "      --hover-bg-color: #E2EBFA;\n",
              "      --hover-fill-color: #174EA6;\n",
              "      --disabled-fill-color: #AAA;\n",
              "      --disabled-bg-color: #DDD;\n",
              "  }\n",
              "\n",
              "  [theme=dark] .colab-df-quickchart {\n",
              "      --bg-color: #3B4455;\n",
              "      --fill-color: #D2E3FC;\n",
              "      --hover-bg-color: #434B5C;\n",
              "      --hover-fill-color: #FFFFFF;\n",
              "      --disabled-bg-color: #3B4455;\n",
              "      --disabled-fill-color: #666;\n",
              "  }\n",
              "\n",
              "  .colab-df-quickchart {\n",
              "    background-color: var(--bg-color);\n",
              "    border: none;\n",
              "    border-radius: 50%;\n",
              "    cursor: pointer;\n",
              "    display: none;\n",
              "    fill: var(--fill-color);\n",
              "    height: 32px;\n",
              "    padding: 0;\n",
              "    width: 32px;\n",
              "  }\n",
              "\n",
              "  .colab-df-quickchart:hover {\n",
              "    background-color: var(--hover-bg-color);\n",
              "    box-shadow: 0 1px 2px rgba(60, 64, 67, 0.3), 0 1px 3px 1px rgba(60, 64, 67, 0.15);\n",
              "    fill: var(--button-hover-fill-color);\n",
              "  }\n",
              "\n",
              "  .colab-df-quickchart-complete:disabled,\n",
              "  .colab-df-quickchart-complete:disabled:hover {\n",
              "    background-color: var(--disabled-bg-color);\n",
              "    fill: var(--disabled-fill-color);\n",
              "    box-shadow: none;\n",
              "  }\n",
              "\n",
              "  .colab-df-spinner {\n",
              "    border: 2px solid var(--fill-color);\n",
              "    border-color: transparent;\n",
              "    border-bottom-color: var(--fill-color);\n",
              "    animation:\n",
              "      spin 1s steps(1) infinite;\n",
              "  }\n",
              "\n",
              "  @keyframes spin {\n",
              "    0% {\n",
              "      border-color: transparent;\n",
              "      border-bottom-color: var(--fill-color);\n",
              "      border-left-color: var(--fill-color);\n",
              "    }\n",
              "    20% {\n",
              "      border-color: transparent;\n",
              "      border-left-color: var(--fill-color);\n",
              "      border-top-color: var(--fill-color);\n",
              "    }\n",
              "    30% {\n",
              "      border-color: transparent;\n",
              "      border-left-color: var(--fill-color);\n",
              "      border-top-color: var(--fill-color);\n",
              "      border-right-color: var(--fill-color);\n",
              "    }\n",
              "    40% {\n",
              "      border-color: transparent;\n",
              "      border-right-color: var(--fill-color);\n",
              "      border-top-color: var(--fill-color);\n",
              "    }\n",
              "    60% {\n",
              "      border-color: transparent;\n",
              "      border-right-color: var(--fill-color);\n",
              "    }\n",
              "    80% {\n",
              "      border-color: transparent;\n",
              "      border-right-color: var(--fill-color);\n",
              "      border-bottom-color: var(--fill-color);\n",
              "    }\n",
              "    90% {\n",
              "      border-color: transparent;\n",
              "      border-bottom-color: var(--fill-color);\n",
              "    }\n",
              "  }\n",
              "</style>\n",
              "\n",
              "      <script>\n",
              "        async function quickchart(key) {\n",
              "          const quickchartButtonEl =\n",
              "            document.querySelector('#' + key + ' button');\n",
              "          quickchartButtonEl.disabled = true;  // To prevent multiple clicks.\n",
              "          quickchartButtonEl.classList.add('colab-df-spinner');\n",
              "          try {\n",
              "            const charts = await google.colab.kernel.invokeFunction(\n",
              "                'suggestCharts', [key], {});\n",
              "          } catch (error) {\n",
              "            console.error('Error during call to suggestCharts:', error);\n",
              "          }\n",
              "          quickchartButtonEl.classList.remove('colab-df-spinner');\n",
              "          quickchartButtonEl.classList.add('colab-df-quickchart-complete');\n",
              "        }\n",
              "        (() => {\n",
              "          let quickchartButtonEl =\n",
              "            document.querySelector('#df-6b78a9dc-7b6d-413f-a99e-ad91c8b55b90 button');\n",
              "          quickchartButtonEl.style.display =\n",
              "            google.colab.kernel.accessAllowed ? 'block' : 'none';\n",
              "        })();\n",
              "      </script>\n",
              "    </div>\n",
              "\n",
              "    </div>\n",
              "  </div>\n"
            ],
            "application/vnd.google.colaboratory.intrinsic+json": {
              "type": "dataframe",
              "summary": "{\n  \"name\": \"round(df\",\n  \"rows\": 11,\n  \"fields\": [\n    {\n      \"column\": \"show_id\",\n      \"properties\": {\n        \"dtype\": \"category\",\n        \"num_unique_values\": 3,\n        \"samples\": [\n          \"7787\",\n          \"s7787\",\n          \"1\"\n        ],\n        \"semantic_type\": \"\",\n        \"description\": \"\"\n      }\n    },\n    {\n      \"column\": \"type\",\n      \"properties\": {\n        \"dtype\": \"category\",\n        \"num_unique_values\": 4,\n        \"samples\": [\n          2,\n          \"5377\",\n          \"7787\"\n        ],\n        \"semantic_type\": \"\",\n        \"description\": \"\"\n      }\n    },\n    {\n      \"column\": \"title\",\n      \"properties\": {\n        \"dtype\": \"category\",\n        \"num_unique_values\": 3,\n        \"samples\": [\n          \"7787\",\n          \"ZZ TOP: THAT LITTLE OL' BAND FROM TEXAS\",\n          \"1\"\n        ],\n        \"semantic_type\": \"\",\n        \"description\": \"\"\n      }\n    },\n    {\n      \"column\": \"director\",\n      \"properties\": {\n        \"dtype\": \"category\",\n        \"num_unique_values\": 4,\n        \"samples\": [\n          4049,\n          \"18\",\n          \"5398\"\n        ],\n        \"semantic_type\": \"\",\n        \"description\": \"\"\n      }\n    },\n    {\n      \"column\": \"cast\",\n      \"properties\": {\n        \"dtype\": \"category\",\n        \"num_unique_values\": 4,\n        \"samples\": [\n          6831,\n          \"18\",\n          \"7069\"\n        ],\n        \"semantic_type\": \"\",\n        \"description\": \"\"\n      }\n    },\n    {\n      \"column\": \"country\",\n      \"properties\": {\n        \"dtype\": \"category\",\n        \"num_unique_values\": 4,\n        \"samples\": [\n          681,\n          \"2555\",\n          \"7280\"\n        ],\n        \"semantic_type\": \"\",\n        \"description\": \"\"\n      }\n    },\n    {\n      \"column\": \"date_added\",\n      \"properties\": {\n        \"dtype\": \"date\",\n        \"min\": \"1970-01-01 00:00:00.000000118\",\n        \"max\": \"2020-01-01 00:00:00\",\n        \"num_unique_values\": 4,\n        \"samples\": [\n          1565,\n          \"118\",\n          \"7777\"\n        ],\n        \"semantic_type\": \"\",\n        \"description\": \"\"\n      }\n    },\n    {\n      \"column\": \"release_year\",\n      \"properties\": {\n        \"dtype\": \"number\",\n        \"std\": 2256.78950217845,\n        \"min\": 9.0,\n        \"max\": 7787.0,\n        \"num_unique_values\": 8,\n        \"samples\": [\n          2014.0,\n          2017.0,\n          7787.0\n        ],\n        \"semantic_type\": \"\",\n        \"description\": \"\"\n      }\n    },\n    {\n      \"column\": \"rating\",\n      \"properties\": {\n        \"dtype\": \"category\",\n        \"num_unique_values\": 4,\n        \"samples\": [\n          14,\n          \"2863\",\n          \"7780\"\n        ],\n        \"semantic_type\": \"\",\n        \"description\": \"\"\n      }\n    },\n    {\n      \"column\": \"duration\",\n      \"properties\": {\n        \"dtype\": \"category\",\n        \"num_unique_values\": 4,\n        \"samples\": [\n          216,\n          \"1608\",\n          \"7787\"\n        ],\n        \"semantic_type\": \"\",\n        \"description\": \"\"\n      }\n    },\n    {\n      \"column\": \"listed_in\",\n      \"properties\": {\n        \"dtype\": \"category\",\n        \"num_unique_values\": 4,\n        \"samples\": [\n          492,\n          \"334\",\n          \"7787\"\n        ],\n        \"semantic_type\": \"\",\n        \"description\": \"\"\n      }\n    },\n    {\n      \"column\": \"description\",\n      \"properties\": {\n        \"dtype\": \"category\",\n        \"num_unique_values\": 4,\n        \"samples\": [\n          7769,\n          \"3\",\n          \"7787\"\n        ],\n        \"semantic_type\": \"\",\n        \"description\": \"\"\n      }\n    }\n  ]\n}"
            }
          },
          "metadata": {},
          "execution_count": 7
        }
      ]
    },
    {
      "cell_type": "markdown",
      "source": [
        "The **output shows** that the Netflix dataset contains 7787 unique titles—with movies dominating over TV shows—and highlights modern content (median release year around 2017) with significant diversity in fields like director, cast, and genres, though some attributes have missing data."
      ],
      "metadata": {
        "id": "Q3WqCT0KGo6U"
      }
    },
    {
      "cell_type": "markdown",
      "source": [
        "**show_id:** A unique identifier for each Netflix title.\n",
        "\n",
        "**type:** Indicates whether the title is a Movie or a TV Show.\n",
        "\n",
        "**title:** The name of the Netflix title.\n",
        "\n",
        "**director:** The director(s) associated with the title.\n",
        "\n",
        "**cast:** The main cast members featured in the title.\n",
        "\n",
        "**country:** The country or countries where the title was produced.\n",
        "\n",
        "**date_added:** The date when the title was added to Netflix.\n",
        "\n",
        "**release_year:** The year the title was originally released.\n",
        "\n",
        "**rating:** The content rating assigned to the title (e.g., TV-MA, PG).\n",
        "\n",
        "**duration:** The runtime for movies (in minutes) or the number of seasons for TV shows.\n",
        "\n",
        "**listed_in:** The genres or categories under which the title is classified.\n",
        "\n",
        "**description:** A brief synopsis of the title's content."
      ],
      "metadata": {
        "id": "QTLNo6l9Hw2R"
      }
    },
    {
      "cell_type": "markdown",
      "source": [
        "#### Check Unique Values for each variable."
      ],
      "metadata": {
        "id": "zOArhBrGIgnA"
      }
    },
    {
      "cell_type": "code",
      "source": [
        "print('Unique Values in dataset:\\n')\n",
        "print(df.nunique())"
      ],
      "metadata": {
        "colab": {
          "base_uri": "https://localhost:8080/"
        },
        "id": "Ll9GCjDrIidm",
        "outputId": "74d3e09b-18f9-49e1-a281-e6016bea6340"
      },
      "execution_count": 8,
      "outputs": [
        {
          "output_type": "stream",
          "name": "stdout",
          "text": [
            "Unique Values in dataset:\n",
            "\n",
            "show_id         7787\n",
            "type               2\n",
            "title           7787\n",
            "director        4049\n",
            "cast            6831\n",
            "country          681\n",
            "date_added      1565\n",
            "release_year      73\n",
            "rating            14\n",
            "duration         216\n",
            "listed_in        492\n",
            "description     7769\n",
            "dtype: int64\n"
          ]
        }
      ]
    },
    {
      "cell_type": "markdown",
      "source": [
        "#### Checking Missing Values/Null Values"
      ],
      "metadata": {
        "id": "5VRJVCWhJTwL"
      }
    },
    {
      "cell_type": "code",
      "source": [
        "# Missing Values/Null Values Count\n",
        "print('Number of missing values in dataset =', df.isnull().sum().sum())"
      ],
      "metadata": {
        "colab": {
          "base_uri": "https://localhost:8080/"
        },
        "id": "ol730IOKJAIR",
        "outputId": "fec6fefb-76cf-47fa-cb5c-06a82be55e15"
      },
      "execution_count": 9,
      "outputs": [
        {
          "output_type": "stream",
          "name": "stdout",
          "text": [
            "Number of missing values in dataset = 3631\n"
          ]
        }
      ]
    },
    {
      "cell_type": "code",
      "source": [
        "# Calculate missing values for each column\n",
        "missing_values = df.isnull().sum()\n",
        "\n",
        "# Create a DataFrame for visualization\n",
        "missing_df = pd.DataFrame({'Column names': missing_values.index, 'Missing Values': missing_values.values})\n",
        "\n",
        "# Create a list of random colors\n",
        "num_colors = len(missing_df)\n",
        "colors = [\"#\" + ''.join([random.choice('0123456789ABCDEF') for j in range(6)]) for i in range(num_colors)]\n",
        "\n",
        "# Create a bar chart using Plotly Express with random colors and count numbers\n",
        "fig = px.bar(missing_df, x='Column names', y='Missing Values', title='Missing Values in Dataset',\n",
        "             color='Column names', color_discrete_sequence=colors, text='Missing Values')  # Added text for count numbers\n",
        "\n",
        "# Customize the layout (optional)\n",
        "fig.update_layout(xaxis_tickangle=-45, xaxis_title='Dataset Variables', yaxis_title='Number of Missing Values')\n",
        "fig.update_traces(textposition='outside')  # Position count numbers outside the bars\n",
        "\n",
        "# Show the plot\n",
        "fig.show()"
      ],
      "metadata": {
        "colab": {
          "base_uri": "https://localhost:8080/",
          "height": 542
        },
        "id": "t3nHYzC1JXkf",
        "outputId": "54f37718-3b06-444c-ef78-9f90ffc39b0a"
      },
      "execution_count": 10,
      "outputs": [
        {
          "output_type": "display_data",
          "data": {
            "text/html": [
              "<html>\n",
              "<head><meta charset=\"utf-8\" /></head>\n",
              "<body>\n",
              "    <div>            <script src=\"https://cdnjs.cloudflare.com/ajax/libs/mathjax/2.7.5/MathJax.js?config=TeX-AMS-MML_SVG\"></script><script type=\"text/javascript\">if (window.MathJax && window.MathJax.Hub && window.MathJax.Hub.Config) {window.MathJax.Hub.Config({SVG: {font: \"STIX-Web\"}});}</script>                <script type=\"text/javascript\">window.PlotlyConfig = {MathJaxConfig: 'local'};</script>\n",
              "        <script charset=\"utf-8\" src=\"https://cdn.plot.ly/plotly-2.35.2.min.js\"></script>                <div id=\"083d8aa6-a9cd-4bfd-bf3b-a0586ff51f11\" class=\"plotly-graph-div\" style=\"height:525px; width:100%;\"></div>            <script type=\"text/javascript\">                                    window.PLOTLYENV=window.PLOTLYENV || {};                                    if (document.getElementById(\"083d8aa6-a9cd-4bfd-bf3b-a0586ff51f11\")) {                    Plotly.newPlot(                        \"083d8aa6-a9cd-4bfd-bf3b-a0586ff51f11\",                        [{\"alignmentgroup\":\"True\",\"hovertemplate\":\"Column names=%{x}\\u003cbr\\u003eMissing Values=%{text}\\u003cextra\\u003e\\u003c\\u002fextra\\u003e\",\"legendgroup\":\"show_id\",\"marker\":{\"color\":\"#1E27BA\",\"pattern\":{\"shape\":\"\"}},\"name\":\"show_id\",\"offsetgroup\":\"show_id\",\"orientation\":\"v\",\"showlegend\":true,\"text\":[0.0],\"textposition\":\"outside\",\"x\":[\"show_id\"],\"xaxis\":\"x\",\"y\":[0],\"yaxis\":\"y\",\"type\":\"bar\"},{\"alignmentgroup\":\"True\",\"hovertemplate\":\"Column names=%{x}\\u003cbr\\u003eMissing Values=%{text}\\u003cextra\\u003e\\u003c\\u002fextra\\u003e\",\"legendgroup\":\"type\",\"marker\":{\"color\":\"#E37949\",\"pattern\":{\"shape\":\"\"}},\"name\":\"type\",\"offsetgroup\":\"type\",\"orientation\":\"v\",\"showlegend\":true,\"text\":[0.0],\"textposition\":\"outside\",\"x\":[\"type\"],\"xaxis\":\"x\",\"y\":[0],\"yaxis\":\"y\",\"type\":\"bar\"},{\"alignmentgroup\":\"True\",\"hovertemplate\":\"Column names=%{x}\\u003cbr\\u003eMissing Values=%{text}\\u003cextra\\u003e\\u003c\\u002fextra\\u003e\",\"legendgroup\":\"title\",\"marker\":{\"color\":\"#C3CE63\",\"pattern\":{\"shape\":\"\"}},\"name\":\"title\",\"offsetgroup\":\"title\",\"orientation\":\"v\",\"showlegend\":true,\"text\":[0.0],\"textposition\":\"outside\",\"x\":[\"title\"],\"xaxis\":\"x\",\"y\":[0],\"yaxis\":\"y\",\"type\":\"bar\"},{\"alignmentgroup\":\"True\",\"hovertemplate\":\"Column names=%{x}\\u003cbr\\u003eMissing Values=%{text}\\u003cextra\\u003e\\u003c\\u002fextra\\u003e\",\"legendgroup\":\"director\",\"marker\":{\"color\":\"#9B406D\",\"pattern\":{\"shape\":\"\"}},\"name\":\"director\",\"offsetgroup\":\"director\",\"orientation\":\"v\",\"showlegend\":true,\"text\":[2389.0],\"textposition\":\"outside\",\"x\":[\"director\"],\"xaxis\":\"x\",\"y\":[2389],\"yaxis\":\"y\",\"type\":\"bar\"},{\"alignmentgroup\":\"True\",\"hovertemplate\":\"Column names=%{x}\\u003cbr\\u003eMissing Values=%{text}\\u003cextra\\u003e\\u003c\\u002fextra\\u003e\",\"legendgroup\":\"cast\",\"marker\":{\"color\":\"#9B0D61\",\"pattern\":{\"shape\":\"\"}},\"name\":\"cast\",\"offsetgroup\":\"cast\",\"orientation\":\"v\",\"showlegend\":true,\"text\":[718.0],\"textposition\":\"outside\",\"x\":[\"cast\"],\"xaxis\":\"x\",\"y\":[718],\"yaxis\":\"y\",\"type\":\"bar\"},{\"alignmentgroup\":\"True\",\"hovertemplate\":\"Column names=%{x}\\u003cbr\\u003eMissing Values=%{text}\\u003cextra\\u003e\\u003c\\u002fextra\\u003e\",\"legendgroup\":\"country\",\"marker\":{\"color\":\"#E0BDB4\",\"pattern\":{\"shape\":\"\"}},\"name\":\"country\",\"offsetgroup\":\"country\",\"orientation\":\"v\",\"showlegend\":true,\"text\":[507.0],\"textposition\":\"outside\",\"x\":[\"country\"],\"xaxis\":\"x\",\"y\":[507],\"yaxis\":\"y\",\"type\":\"bar\"},{\"alignmentgroup\":\"True\",\"hovertemplate\":\"Column names=%{x}\\u003cbr\\u003eMissing Values=%{text}\\u003cextra\\u003e\\u003c\\u002fextra\\u003e\",\"legendgroup\":\"date_added\",\"marker\":{\"color\":\"#35D7A1\",\"pattern\":{\"shape\":\"\"}},\"name\":\"date_added\",\"offsetgroup\":\"date_added\",\"orientation\":\"v\",\"showlegend\":true,\"text\":[10.0],\"textposition\":\"outside\",\"x\":[\"date_added\"],\"xaxis\":\"x\",\"y\":[10],\"yaxis\":\"y\",\"type\":\"bar\"},{\"alignmentgroup\":\"True\",\"hovertemplate\":\"Column names=%{x}\\u003cbr\\u003eMissing Values=%{text}\\u003cextra\\u003e\\u003c\\u002fextra\\u003e\",\"legendgroup\":\"release_year\",\"marker\":{\"color\":\"#0D9C04\",\"pattern\":{\"shape\":\"\"}},\"name\":\"release_year\",\"offsetgroup\":\"release_year\",\"orientation\":\"v\",\"showlegend\":true,\"text\":[0.0],\"textposition\":\"outside\",\"x\":[\"release_year\"],\"xaxis\":\"x\",\"y\":[0],\"yaxis\":\"y\",\"type\":\"bar\"},{\"alignmentgroup\":\"True\",\"hovertemplate\":\"Column names=%{x}\\u003cbr\\u003eMissing Values=%{text}\\u003cextra\\u003e\\u003c\\u002fextra\\u003e\",\"legendgroup\":\"rating\",\"marker\":{\"color\":\"#3ECF85\",\"pattern\":{\"shape\":\"\"}},\"name\":\"rating\",\"offsetgroup\":\"rating\",\"orientation\":\"v\",\"showlegend\":true,\"text\":[7.0],\"textposition\":\"outside\",\"x\":[\"rating\"],\"xaxis\":\"x\",\"y\":[7],\"yaxis\":\"y\",\"type\":\"bar\"},{\"alignmentgroup\":\"True\",\"hovertemplate\":\"Column names=%{x}\\u003cbr\\u003eMissing Values=%{text}\\u003cextra\\u003e\\u003c\\u002fextra\\u003e\",\"legendgroup\":\"duration\",\"marker\":{\"color\":\"#551ABF\",\"pattern\":{\"shape\":\"\"}},\"name\":\"duration\",\"offsetgroup\":\"duration\",\"orientation\":\"v\",\"showlegend\":true,\"text\":[0.0],\"textposition\":\"outside\",\"x\":[\"duration\"],\"xaxis\":\"x\",\"y\":[0],\"yaxis\":\"y\",\"type\":\"bar\"},{\"alignmentgroup\":\"True\",\"hovertemplate\":\"Column names=%{x}\\u003cbr\\u003eMissing Values=%{text}\\u003cextra\\u003e\\u003c\\u002fextra\\u003e\",\"legendgroup\":\"listed_in\",\"marker\":{\"color\":\"#8CAA0B\",\"pattern\":{\"shape\":\"\"}},\"name\":\"listed_in\",\"offsetgroup\":\"listed_in\",\"orientation\":\"v\",\"showlegend\":true,\"text\":[0.0],\"textposition\":\"outside\",\"x\":[\"listed_in\"],\"xaxis\":\"x\",\"y\":[0],\"yaxis\":\"y\",\"type\":\"bar\"},{\"alignmentgroup\":\"True\",\"hovertemplate\":\"Column names=%{x}\\u003cbr\\u003eMissing Values=%{text}\\u003cextra\\u003e\\u003c\\u002fextra\\u003e\",\"legendgroup\":\"description\",\"marker\":{\"color\":\"#D7C23B\",\"pattern\":{\"shape\":\"\"}},\"name\":\"description\",\"offsetgroup\":\"description\",\"orientation\":\"v\",\"showlegend\":true,\"text\":[0.0],\"textposition\":\"outside\",\"x\":[\"description\"],\"xaxis\":\"x\",\"y\":[0],\"yaxis\":\"y\",\"type\":\"bar\"}],                        {\"template\":{\"data\":{\"histogram2dcontour\":[{\"type\":\"histogram2dcontour\",\"colorbar\":{\"outlinewidth\":0,\"ticks\":\"\"},\"colorscale\":[[0.0,\"#0d0887\"],[0.1111111111111111,\"#46039f\"],[0.2222222222222222,\"#7201a8\"],[0.3333333333333333,\"#9c179e\"],[0.4444444444444444,\"#bd3786\"],[0.5555555555555556,\"#d8576b\"],[0.6666666666666666,\"#ed7953\"],[0.7777777777777778,\"#fb9f3a\"],[0.8888888888888888,\"#fdca26\"],[1.0,\"#f0f921\"]]}],\"choropleth\":[{\"type\":\"choropleth\",\"colorbar\":{\"outlinewidth\":0,\"ticks\":\"\"}}],\"histogram2d\":[{\"type\":\"histogram2d\",\"colorbar\":{\"outlinewidth\":0,\"ticks\":\"\"},\"colorscale\":[[0.0,\"#0d0887\"],[0.1111111111111111,\"#46039f\"],[0.2222222222222222,\"#7201a8\"],[0.3333333333333333,\"#9c179e\"],[0.4444444444444444,\"#bd3786\"],[0.5555555555555556,\"#d8576b\"],[0.6666666666666666,\"#ed7953\"],[0.7777777777777778,\"#fb9f3a\"],[0.8888888888888888,\"#fdca26\"],[1.0,\"#f0f921\"]]}],\"heatmap\":[{\"type\":\"heatmap\",\"colorbar\":{\"outlinewidth\":0,\"ticks\":\"\"},\"colorscale\":[[0.0,\"#0d0887\"],[0.1111111111111111,\"#46039f\"],[0.2222222222222222,\"#7201a8\"],[0.3333333333333333,\"#9c179e\"],[0.4444444444444444,\"#bd3786\"],[0.5555555555555556,\"#d8576b\"],[0.6666666666666666,\"#ed7953\"],[0.7777777777777778,\"#fb9f3a\"],[0.8888888888888888,\"#fdca26\"],[1.0,\"#f0f921\"]]}],\"heatmapgl\":[{\"type\":\"heatmapgl\",\"colorbar\":{\"outlinewidth\":0,\"ticks\":\"\"},\"colorscale\":[[0.0,\"#0d0887\"],[0.1111111111111111,\"#46039f\"],[0.2222222222222222,\"#7201a8\"],[0.3333333333333333,\"#9c179e\"],[0.4444444444444444,\"#bd3786\"],[0.5555555555555556,\"#d8576b\"],[0.6666666666666666,\"#ed7953\"],[0.7777777777777778,\"#fb9f3a\"],[0.8888888888888888,\"#fdca26\"],[1.0,\"#f0f921\"]]}],\"contourcarpet\":[{\"type\":\"contourcarpet\",\"colorbar\":{\"outlinewidth\":0,\"ticks\":\"\"}}],\"contour\":[{\"type\":\"contour\",\"colorbar\":{\"outlinewidth\":0,\"ticks\":\"\"},\"colorscale\":[[0.0,\"#0d0887\"],[0.1111111111111111,\"#46039f\"],[0.2222222222222222,\"#7201a8\"],[0.3333333333333333,\"#9c179e\"],[0.4444444444444444,\"#bd3786\"],[0.5555555555555556,\"#d8576b\"],[0.6666666666666666,\"#ed7953\"],[0.7777777777777778,\"#fb9f3a\"],[0.8888888888888888,\"#fdca26\"],[1.0,\"#f0f921\"]]}],\"surface\":[{\"type\":\"surface\",\"colorbar\":{\"outlinewidth\":0,\"ticks\":\"\"},\"colorscale\":[[0.0,\"#0d0887\"],[0.1111111111111111,\"#46039f\"],[0.2222222222222222,\"#7201a8\"],[0.3333333333333333,\"#9c179e\"],[0.4444444444444444,\"#bd3786\"],[0.5555555555555556,\"#d8576b\"],[0.6666666666666666,\"#ed7953\"],[0.7777777777777778,\"#fb9f3a\"],[0.8888888888888888,\"#fdca26\"],[1.0,\"#f0f921\"]]}],\"mesh3d\":[{\"type\":\"mesh3d\",\"colorbar\":{\"outlinewidth\":0,\"ticks\":\"\"}}],\"scatter\":[{\"fillpattern\":{\"fillmode\":\"overlay\",\"size\":10,\"solidity\":0.2},\"type\":\"scatter\"}],\"parcoords\":[{\"type\":\"parcoords\",\"line\":{\"colorbar\":{\"outlinewidth\":0,\"ticks\":\"\"}}}],\"scatterpolargl\":[{\"type\":\"scatterpolargl\",\"marker\":{\"colorbar\":{\"outlinewidth\":0,\"ticks\":\"\"}}}],\"bar\":[{\"error_x\":{\"color\":\"#2a3f5f\"},\"error_y\":{\"color\":\"#2a3f5f\"},\"marker\":{\"line\":{\"color\":\"#E5ECF6\",\"width\":0.5},\"pattern\":{\"fillmode\":\"overlay\",\"size\":10,\"solidity\":0.2}},\"type\":\"bar\"}],\"scattergeo\":[{\"type\":\"scattergeo\",\"marker\":{\"colorbar\":{\"outlinewidth\":0,\"ticks\":\"\"}}}],\"scatterpolar\":[{\"type\":\"scatterpolar\",\"marker\":{\"colorbar\":{\"outlinewidth\":0,\"ticks\":\"\"}}}],\"histogram\":[{\"marker\":{\"pattern\":{\"fillmode\":\"overlay\",\"size\":10,\"solidity\":0.2}},\"type\":\"histogram\"}],\"scattergl\":[{\"type\":\"scattergl\",\"marker\":{\"colorbar\":{\"outlinewidth\":0,\"ticks\":\"\"}}}],\"scatter3d\":[{\"type\":\"scatter3d\",\"line\":{\"colorbar\":{\"outlinewidth\":0,\"ticks\":\"\"}},\"marker\":{\"colorbar\":{\"outlinewidth\":0,\"ticks\":\"\"}}}],\"scattermapbox\":[{\"type\":\"scattermapbox\",\"marker\":{\"colorbar\":{\"outlinewidth\":0,\"ticks\":\"\"}}}],\"scatterternary\":[{\"type\":\"scatterternary\",\"marker\":{\"colorbar\":{\"outlinewidth\":0,\"ticks\":\"\"}}}],\"scattercarpet\":[{\"type\":\"scattercarpet\",\"marker\":{\"colorbar\":{\"outlinewidth\":0,\"ticks\":\"\"}}}],\"carpet\":[{\"aaxis\":{\"endlinecolor\":\"#2a3f5f\",\"gridcolor\":\"white\",\"linecolor\":\"white\",\"minorgridcolor\":\"white\",\"startlinecolor\":\"#2a3f5f\"},\"baxis\":{\"endlinecolor\":\"#2a3f5f\",\"gridcolor\":\"white\",\"linecolor\":\"white\",\"minorgridcolor\":\"white\",\"startlinecolor\":\"#2a3f5f\"},\"type\":\"carpet\"}],\"table\":[{\"cells\":{\"fill\":{\"color\":\"#EBF0F8\"},\"line\":{\"color\":\"white\"}},\"header\":{\"fill\":{\"color\":\"#C8D4E3\"},\"line\":{\"color\":\"white\"}},\"type\":\"table\"}],\"barpolar\":[{\"marker\":{\"line\":{\"color\":\"#E5ECF6\",\"width\":0.5},\"pattern\":{\"fillmode\":\"overlay\",\"size\":10,\"solidity\":0.2}},\"type\":\"barpolar\"}],\"pie\":[{\"automargin\":true,\"type\":\"pie\"}]},\"layout\":{\"autotypenumbers\":\"strict\",\"colorway\":[\"#636efa\",\"#EF553B\",\"#00cc96\",\"#ab63fa\",\"#FFA15A\",\"#19d3f3\",\"#FF6692\",\"#B6E880\",\"#FF97FF\",\"#FECB52\"],\"font\":{\"color\":\"#2a3f5f\"},\"hovermode\":\"closest\",\"hoverlabel\":{\"align\":\"left\"},\"paper_bgcolor\":\"white\",\"plot_bgcolor\":\"#E5ECF6\",\"polar\":{\"bgcolor\":\"#E5ECF6\",\"angularaxis\":{\"gridcolor\":\"white\",\"linecolor\":\"white\",\"ticks\":\"\"},\"radialaxis\":{\"gridcolor\":\"white\",\"linecolor\":\"white\",\"ticks\":\"\"}},\"ternary\":{\"bgcolor\":\"#E5ECF6\",\"aaxis\":{\"gridcolor\":\"white\",\"linecolor\":\"white\",\"ticks\":\"\"},\"baxis\":{\"gridcolor\":\"white\",\"linecolor\":\"white\",\"ticks\":\"\"},\"caxis\":{\"gridcolor\":\"white\",\"linecolor\":\"white\",\"ticks\":\"\"}},\"coloraxis\":{\"colorbar\":{\"outlinewidth\":0,\"ticks\":\"\"}},\"colorscale\":{\"sequential\":[[0.0,\"#0d0887\"],[0.1111111111111111,\"#46039f\"],[0.2222222222222222,\"#7201a8\"],[0.3333333333333333,\"#9c179e\"],[0.4444444444444444,\"#bd3786\"],[0.5555555555555556,\"#d8576b\"],[0.6666666666666666,\"#ed7953\"],[0.7777777777777778,\"#fb9f3a\"],[0.8888888888888888,\"#fdca26\"],[1.0,\"#f0f921\"]],\"sequentialminus\":[[0.0,\"#0d0887\"],[0.1111111111111111,\"#46039f\"],[0.2222222222222222,\"#7201a8\"],[0.3333333333333333,\"#9c179e\"],[0.4444444444444444,\"#bd3786\"],[0.5555555555555556,\"#d8576b\"],[0.6666666666666666,\"#ed7953\"],[0.7777777777777778,\"#fb9f3a\"],[0.8888888888888888,\"#fdca26\"],[1.0,\"#f0f921\"]],\"diverging\":[[0,\"#8e0152\"],[0.1,\"#c51b7d\"],[0.2,\"#de77ae\"],[0.3,\"#f1b6da\"],[0.4,\"#fde0ef\"],[0.5,\"#f7f7f7\"],[0.6,\"#e6f5d0\"],[0.7,\"#b8e186\"],[0.8,\"#7fbc41\"],[0.9,\"#4d9221\"],[1,\"#276419\"]]},\"xaxis\":{\"gridcolor\":\"white\",\"linecolor\":\"white\",\"ticks\":\"\",\"title\":{\"standoff\":15},\"zerolinecolor\":\"white\",\"automargin\":true,\"zerolinewidth\":2},\"yaxis\":{\"gridcolor\":\"white\",\"linecolor\":\"white\",\"ticks\":\"\",\"title\":{\"standoff\":15},\"zerolinecolor\":\"white\",\"automargin\":true,\"zerolinewidth\":2},\"scene\":{\"xaxis\":{\"backgroundcolor\":\"#E5ECF6\",\"gridcolor\":\"white\",\"linecolor\":\"white\",\"showbackground\":true,\"ticks\":\"\",\"zerolinecolor\":\"white\",\"gridwidth\":2},\"yaxis\":{\"backgroundcolor\":\"#E5ECF6\",\"gridcolor\":\"white\",\"linecolor\":\"white\",\"showbackground\":true,\"ticks\":\"\",\"zerolinecolor\":\"white\",\"gridwidth\":2},\"zaxis\":{\"backgroundcolor\":\"#E5ECF6\",\"gridcolor\":\"white\",\"linecolor\":\"white\",\"showbackground\":true,\"ticks\":\"\",\"zerolinecolor\":\"white\",\"gridwidth\":2}},\"shapedefaults\":{\"line\":{\"color\":\"#2a3f5f\"}},\"annotationdefaults\":{\"arrowcolor\":\"#2a3f5f\",\"arrowhead\":0,\"arrowwidth\":1},\"geo\":{\"bgcolor\":\"white\",\"landcolor\":\"#E5ECF6\",\"subunitcolor\":\"white\",\"showland\":true,\"showlakes\":true,\"lakecolor\":\"white\"},\"title\":{\"x\":0.05},\"mapbox\":{\"style\":\"light\"}}},\"xaxis\":{\"anchor\":\"y\",\"domain\":[0.0,1.0],\"title\":{\"text\":\"Dataset Variables\"},\"categoryorder\":\"array\",\"categoryarray\":[\"show_id\",\"type\",\"title\",\"director\",\"cast\",\"country\",\"date_added\",\"release_year\",\"rating\",\"duration\",\"listed_in\",\"description\"],\"tickangle\":-45},\"yaxis\":{\"anchor\":\"x\",\"domain\":[0.0,1.0],\"title\":{\"text\":\"Number of Missing Values\"}},\"legend\":{\"title\":{\"text\":\"Column names\"},\"tracegroupgap\":0},\"title\":{\"text\":\"Missing Values in Dataset\"},\"barmode\":\"relative\"},                        {\"responsive\": true}                    ).then(function(){\n",
              "                            \n",
              "var gd = document.getElementById('083d8aa6-a9cd-4bfd-bf3b-a0586ff51f11');\n",
              "var x = new MutationObserver(function (mutations, observer) {{\n",
              "        var display = window.getComputedStyle(gd).display;\n",
              "        if (!display || display === 'none') {{\n",
              "            console.log([gd, 'removed!']);\n",
              "            Plotly.purge(gd);\n",
              "            observer.disconnect();\n",
              "        }}\n",
              "}});\n",
              "\n",
              "// Listen for the removal of the full notebook cells\n",
              "var notebookContainer = gd.closest('#notebook-container');\n",
              "if (notebookContainer) {{\n",
              "    x.observe(notebookContainer, {childList: true});\n",
              "}}\n",
              "\n",
              "// Listen for the clearing of the current output cell\n",
              "var outputEl = gd.closest('.output');\n",
              "if (outputEl) {{\n",
              "    x.observe(outputEl, {childList: true});\n",
              "}}\n",
              "\n",
              "                        })                };                            </script>        </div>\n",
              "</body>\n",
              "</html>"
            ]
          },
          "metadata": {}
        }
      ]
    },
    {
      "cell_type": "code",
      "source": [
        "# If missing values are represented as something other than null\n",
        "# replace them with \"not_available\" or appropriate placeholder\n",
        "df[['type', 'title', 'director', 'cast', 'country',\n",
        "    'rating', 'duration', 'listed_in', 'description']] = df[['type', 'title', 'director', 'cast', 'country',\n",
        "    'rating', 'duration', 'listed_in', 'description']].fillna('Not available')\n"
      ],
      "metadata": {
        "id": "uWNdPnYsJQmN"
      },
      "execution_count": 11,
      "outputs": []
    },
    {
      "cell_type": "markdown",
      "source": [
        "checking again the missing values"
      ],
      "metadata": {
        "id": "P2Ja4XWRO2yy"
      }
    },
    {
      "cell_type": "code",
      "source": [
        "print(df.isnull().sum())"
      ],
      "metadata": {
        "colab": {
          "base_uri": "https://localhost:8080/"
        },
        "id": "l8CIfZXpNnFI",
        "outputId": "a8722c14-8c6f-4a03-8e4f-af29e30c0a6a"
      },
      "execution_count": 12,
      "outputs": [
        {
          "output_type": "stream",
          "name": "stdout",
          "text": [
            "show_id          0\n",
            "type             0\n",
            "title            0\n",
            "director         0\n",
            "cast             0\n",
            "country          0\n",
            "date_added      10\n",
            "release_year     0\n",
            "rating           0\n",
            "duration         0\n",
            "listed_in        0\n",
            "description      0\n",
            "dtype: int64\n"
          ]
        }
      ]
    },
    {
      "cell_type": "markdown",
      "source": [
        "Date format in correct way"
      ],
      "metadata": {
        "id": "VtH_3d3wO5-U"
      }
    },
    {
      "cell_type": "code",
      "source": [
        "df['date_added'] = pd.to_datetime(df['date_added'], errors='coerce')"
      ],
      "metadata": {
        "id": "B2paocgbK3dQ"
      },
      "execution_count": 13,
      "outputs": []
    },
    {
      "cell_type": "code",
      "source": [
        "print(df.isnull().sum())"
      ],
      "metadata": {
        "colab": {
          "base_uri": "https://localhost:8080/"
        },
        "id": "qUKNtVd2K3Ba",
        "outputId": "5ef9841b-9fbe-47ae-c8fc-23c64ba8d636"
      },
      "execution_count": 14,
      "outputs": [
        {
          "output_type": "stream",
          "name": "stdout",
          "text": [
            "show_id          0\n",
            "type             0\n",
            "title            0\n",
            "director         0\n",
            "cast             0\n",
            "country          0\n",
            "date_added      98\n",
            "release_year     0\n",
            "rating           0\n",
            "duration         0\n",
            "listed_in        0\n",
            "description      0\n",
            "dtype: int64\n"
          ]
        }
      ]
    },
    {
      "cell_type": "markdown",
      "source": [
        "Date column filling with median"
      ],
      "metadata": {
        "id": "MvrkH6g4PC__"
      }
    },
    {
      "cell_type": "code",
      "source": [
        "df['date_added'] = df['date_added'].fillna(df['date_added'].median())"
      ],
      "metadata": {
        "id": "8BY8gQW5K2ur"
      },
      "execution_count": 15,
      "outputs": []
    },
    {
      "cell_type": "markdown",
      "source": [
        "checking again for all null values"
      ],
      "metadata": {
        "id": "XxgHCy2xPI5T"
      }
    },
    {
      "cell_type": "code",
      "source": [
        "# Calculate missing values for each column\n",
        "missing_values = df.isnull().sum()\n",
        "\n",
        "# Create a DataFrame for visualization\n",
        "missing_df = pd.DataFrame({'Column names': missing_values.index, 'Missing Values': missing_values.values})\n",
        "\n",
        "# Create a list of random colors\n",
        "num_colors = len(missing_df)\n",
        "colors = [\"#\" + ''.join([random.choice('0123456789ABCDEF') for j in range(6)]) for i in range(num_colors)]\n",
        "\n",
        "# Create a bar chart using Plotly Express with random colors and count numbers\n",
        "fig = px.bar(missing_df, x='Column names', y='Missing Values', title='Missing Values in Dataset',\n",
        "             color='Column names', color_discrete_sequence=colors, text='Missing Values')  # Added text for count numbers\n",
        "\n",
        "# Customize the layout (optional)\n",
        "fig.update_layout(xaxis_tickangle=-45, xaxis_title='Dataset Variables', yaxis_title='Number of Missing Values')\n",
        "fig.update_traces(textposition='outside')  # Position count numbers outside the bars\n",
        "\n",
        "# Show the plot\n",
        "fig.show()"
      ],
      "metadata": {
        "colab": {
          "base_uri": "https://localhost:8080/",
          "height": 542
        },
        "id": "8jUPSMgpOn5i",
        "outputId": "f174207b-0937-452c-a0ed-aa330cd7e0e5"
      },
      "execution_count": 16,
      "outputs": [
        {
          "output_type": "display_data",
          "data": {
            "text/html": [
              "<html>\n",
              "<head><meta charset=\"utf-8\" /></head>\n",
              "<body>\n",
              "    <div>            <script src=\"https://cdnjs.cloudflare.com/ajax/libs/mathjax/2.7.5/MathJax.js?config=TeX-AMS-MML_SVG\"></script><script type=\"text/javascript\">if (window.MathJax && window.MathJax.Hub && window.MathJax.Hub.Config) {window.MathJax.Hub.Config({SVG: {font: \"STIX-Web\"}});}</script>                <script type=\"text/javascript\">window.PlotlyConfig = {MathJaxConfig: 'local'};</script>\n",
              "        <script charset=\"utf-8\" src=\"https://cdn.plot.ly/plotly-2.35.2.min.js\"></script>                <div id=\"85a135ad-9f47-4748-864f-72711809e70a\" class=\"plotly-graph-div\" style=\"height:525px; width:100%;\"></div>            <script type=\"text/javascript\">                                    window.PLOTLYENV=window.PLOTLYENV || {};                                    if (document.getElementById(\"85a135ad-9f47-4748-864f-72711809e70a\")) {                    Plotly.newPlot(                        \"85a135ad-9f47-4748-864f-72711809e70a\",                        [{\"alignmentgroup\":\"True\",\"hovertemplate\":\"Column names=%{x}\\u003cbr\\u003eMissing Values=%{text}\\u003cextra\\u003e\\u003c\\u002fextra\\u003e\",\"legendgroup\":\"show_id\",\"marker\":{\"color\":\"#CFF382\",\"pattern\":{\"shape\":\"\"}},\"name\":\"show_id\",\"offsetgroup\":\"show_id\",\"orientation\":\"v\",\"showlegend\":true,\"text\":[0.0],\"textposition\":\"outside\",\"x\":[\"show_id\"],\"xaxis\":\"x\",\"y\":[0],\"yaxis\":\"y\",\"type\":\"bar\"},{\"alignmentgroup\":\"True\",\"hovertemplate\":\"Column names=%{x}\\u003cbr\\u003eMissing Values=%{text}\\u003cextra\\u003e\\u003c\\u002fextra\\u003e\",\"legendgroup\":\"type\",\"marker\":{\"color\":\"#20A7D5\",\"pattern\":{\"shape\":\"\"}},\"name\":\"type\",\"offsetgroup\":\"type\",\"orientation\":\"v\",\"showlegend\":true,\"text\":[0.0],\"textposition\":\"outside\",\"x\":[\"type\"],\"xaxis\":\"x\",\"y\":[0],\"yaxis\":\"y\",\"type\":\"bar\"},{\"alignmentgroup\":\"True\",\"hovertemplate\":\"Column names=%{x}\\u003cbr\\u003eMissing Values=%{text}\\u003cextra\\u003e\\u003c\\u002fextra\\u003e\",\"legendgroup\":\"title\",\"marker\":{\"color\":\"#2041FA\",\"pattern\":{\"shape\":\"\"}},\"name\":\"title\",\"offsetgroup\":\"title\",\"orientation\":\"v\",\"showlegend\":true,\"text\":[0.0],\"textposition\":\"outside\",\"x\":[\"title\"],\"xaxis\":\"x\",\"y\":[0],\"yaxis\":\"y\",\"type\":\"bar\"},{\"alignmentgroup\":\"True\",\"hovertemplate\":\"Column names=%{x}\\u003cbr\\u003eMissing Values=%{text}\\u003cextra\\u003e\\u003c\\u002fextra\\u003e\",\"legendgroup\":\"director\",\"marker\":{\"color\":\"#6CE829\",\"pattern\":{\"shape\":\"\"}},\"name\":\"director\",\"offsetgroup\":\"director\",\"orientation\":\"v\",\"showlegend\":true,\"text\":[0.0],\"textposition\":\"outside\",\"x\":[\"director\"],\"xaxis\":\"x\",\"y\":[0],\"yaxis\":\"y\",\"type\":\"bar\"},{\"alignmentgroup\":\"True\",\"hovertemplate\":\"Column names=%{x}\\u003cbr\\u003eMissing Values=%{text}\\u003cextra\\u003e\\u003c\\u002fextra\\u003e\",\"legendgroup\":\"cast\",\"marker\":{\"color\":\"#CCB6F2\",\"pattern\":{\"shape\":\"\"}},\"name\":\"cast\",\"offsetgroup\":\"cast\",\"orientation\":\"v\",\"showlegend\":true,\"text\":[0.0],\"textposition\":\"outside\",\"x\":[\"cast\"],\"xaxis\":\"x\",\"y\":[0],\"yaxis\":\"y\",\"type\":\"bar\"},{\"alignmentgroup\":\"True\",\"hovertemplate\":\"Column names=%{x}\\u003cbr\\u003eMissing Values=%{text}\\u003cextra\\u003e\\u003c\\u002fextra\\u003e\",\"legendgroup\":\"country\",\"marker\":{\"color\":\"#771DF0\",\"pattern\":{\"shape\":\"\"}},\"name\":\"country\",\"offsetgroup\":\"country\",\"orientation\":\"v\",\"showlegend\":true,\"text\":[0.0],\"textposition\":\"outside\",\"x\":[\"country\"],\"xaxis\":\"x\",\"y\":[0],\"yaxis\":\"y\",\"type\":\"bar\"},{\"alignmentgroup\":\"True\",\"hovertemplate\":\"Column names=%{x}\\u003cbr\\u003eMissing Values=%{text}\\u003cextra\\u003e\\u003c\\u002fextra\\u003e\",\"legendgroup\":\"date_added\",\"marker\":{\"color\":\"#71BB20\",\"pattern\":{\"shape\":\"\"}},\"name\":\"date_added\",\"offsetgroup\":\"date_added\",\"orientation\":\"v\",\"showlegend\":true,\"text\":[0.0],\"textposition\":\"outside\",\"x\":[\"date_added\"],\"xaxis\":\"x\",\"y\":[0],\"yaxis\":\"y\",\"type\":\"bar\"},{\"alignmentgroup\":\"True\",\"hovertemplate\":\"Column names=%{x}\\u003cbr\\u003eMissing Values=%{text}\\u003cextra\\u003e\\u003c\\u002fextra\\u003e\",\"legendgroup\":\"release_year\",\"marker\":{\"color\":\"#2B65BE\",\"pattern\":{\"shape\":\"\"}},\"name\":\"release_year\",\"offsetgroup\":\"release_year\",\"orientation\":\"v\",\"showlegend\":true,\"text\":[0.0],\"textposition\":\"outside\",\"x\":[\"release_year\"],\"xaxis\":\"x\",\"y\":[0],\"yaxis\":\"y\",\"type\":\"bar\"},{\"alignmentgroup\":\"True\",\"hovertemplate\":\"Column names=%{x}\\u003cbr\\u003eMissing Values=%{text}\\u003cextra\\u003e\\u003c\\u002fextra\\u003e\",\"legendgroup\":\"rating\",\"marker\":{\"color\":\"#A05708\",\"pattern\":{\"shape\":\"\"}},\"name\":\"rating\",\"offsetgroup\":\"rating\",\"orientation\":\"v\",\"showlegend\":true,\"text\":[0.0],\"textposition\":\"outside\",\"x\":[\"rating\"],\"xaxis\":\"x\",\"y\":[0],\"yaxis\":\"y\",\"type\":\"bar\"},{\"alignmentgroup\":\"True\",\"hovertemplate\":\"Column names=%{x}\\u003cbr\\u003eMissing Values=%{text}\\u003cextra\\u003e\\u003c\\u002fextra\\u003e\",\"legendgroup\":\"duration\",\"marker\":{\"color\":\"#AEEF41\",\"pattern\":{\"shape\":\"\"}},\"name\":\"duration\",\"offsetgroup\":\"duration\",\"orientation\":\"v\",\"showlegend\":true,\"text\":[0.0],\"textposition\":\"outside\",\"x\":[\"duration\"],\"xaxis\":\"x\",\"y\":[0],\"yaxis\":\"y\",\"type\":\"bar\"},{\"alignmentgroup\":\"True\",\"hovertemplate\":\"Column names=%{x}\\u003cbr\\u003eMissing Values=%{text}\\u003cextra\\u003e\\u003c\\u002fextra\\u003e\",\"legendgroup\":\"listed_in\",\"marker\":{\"color\":\"#A67571\",\"pattern\":{\"shape\":\"\"}},\"name\":\"listed_in\",\"offsetgroup\":\"listed_in\",\"orientation\":\"v\",\"showlegend\":true,\"text\":[0.0],\"textposition\":\"outside\",\"x\":[\"listed_in\"],\"xaxis\":\"x\",\"y\":[0],\"yaxis\":\"y\",\"type\":\"bar\"},{\"alignmentgroup\":\"True\",\"hovertemplate\":\"Column names=%{x}\\u003cbr\\u003eMissing Values=%{text}\\u003cextra\\u003e\\u003c\\u002fextra\\u003e\",\"legendgroup\":\"description\",\"marker\":{\"color\":\"#120B6E\",\"pattern\":{\"shape\":\"\"}},\"name\":\"description\",\"offsetgroup\":\"description\",\"orientation\":\"v\",\"showlegend\":true,\"text\":[0.0],\"textposition\":\"outside\",\"x\":[\"description\"],\"xaxis\":\"x\",\"y\":[0],\"yaxis\":\"y\",\"type\":\"bar\"}],                        {\"template\":{\"data\":{\"histogram2dcontour\":[{\"type\":\"histogram2dcontour\",\"colorbar\":{\"outlinewidth\":0,\"ticks\":\"\"},\"colorscale\":[[0.0,\"#0d0887\"],[0.1111111111111111,\"#46039f\"],[0.2222222222222222,\"#7201a8\"],[0.3333333333333333,\"#9c179e\"],[0.4444444444444444,\"#bd3786\"],[0.5555555555555556,\"#d8576b\"],[0.6666666666666666,\"#ed7953\"],[0.7777777777777778,\"#fb9f3a\"],[0.8888888888888888,\"#fdca26\"],[1.0,\"#f0f921\"]]}],\"choropleth\":[{\"type\":\"choropleth\",\"colorbar\":{\"outlinewidth\":0,\"ticks\":\"\"}}],\"histogram2d\":[{\"type\":\"histogram2d\",\"colorbar\":{\"outlinewidth\":0,\"ticks\":\"\"},\"colorscale\":[[0.0,\"#0d0887\"],[0.1111111111111111,\"#46039f\"],[0.2222222222222222,\"#7201a8\"],[0.3333333333333333,\"#9c179e\"],[0.4444444444444444,\"#bd3786\"],[0.5555555555555556,\"#d8576b\"],[0.6666666666666666,\"#ed7953\"],[0.7777777777777778,\"#fb9f3a\"],[0.8888888888888888,\"#fdca26\"],[1.0,\"#f0f921\"]]}],\"heatmap\":[{\"type\":\"heatmap\",\"colorbar\":{\"outlinewidth\":0,\"ticks\":\"\"},\"colorscale\":[[0.0,\"#0d0887\"],[0.1111111111111111,\"#46039f\"],[0.2222222222222222,\"#7201a8\"],[0.3333333333333333,\"#9c179e\"],[0.4444444444444444,\"#bd3786\"],[0.5555555555555556,\"#d8576b\"],[0.6666666666666666,\"#ed7953\"],[0.7777777777777778,\"#fb9f3a\"],[0.8888888888888888,\"#fdca26\"],[1.0,\"#f0f921\"]]}],\"heatmapgl\":[{\"type\":\"heatmapgl\",\"colorbar\":{\"outlinewidth\":0,\"ticks\":\"\"},\"colorscale\":[[0.0,\"#0d0887\"],[0.1111111111111111,\"#46039f\"],[0.2222222222222222,\"#7201a8\"],[0.3333333333333333,\"#9c179e\"],[0.4444444444444444,\"#bd3786\"],[0.5555555555555556,\"#d8576b\"],[0.6666666666666666,\"#ed7953\"],[0.7777777777777778,\"#fb9f3a\"],[0.8888888888888888,\"#fdca26\"],[1.0,\"#f0f921\"]]}],\"contourcarpet\":[{\"type\":\"contourcarpet\",\"colorbar\":{\"outlinewidth\":0,\"ticks\":\"\"}}],\"contour\":[{\"type\":\"contour\",\"colorbar\":{\"outlinewidth\":0,\"ticks\":\"\"},\"colorscale\":[[0.0,\"#0d0887\"],[0.1111111111111111,\"#46039f\"],[0.2222222222222222,\"#7201a8\"],[0.3333333333333333,\"#9c179e\"],[0.4444444444444444,\"#bd3786\"],[0.5555555555555556,\"#d8576b\"],[0.6666666666666666,\"#ed7953\"],[0.7777777777777778,\"#fb9f3a\"],[0.8888888888888888,\"#fdca26\"],[1.0,\"#f0f921\"]]}],\"surface\":[{\"type\":\"surface\",\"colorbar\":{\"outlinewidth\":0,\"ticks\":\"\"},\"colorscale\":[[0.0,\"#0d0887\"],[0.1111111111111111,\"#46039f\"],[0.2222222222222222,\"#7201a8\"],[0.3333333333333333,\"#9c179e\"],[0.4444444444444444,\"#bd3786\"],[0.5555555555555556,\"#d8576b\"],[0.6666666666666666,\"#ed7953\"],[0.7777777777777778,\"#fb9f3a\"],[0.8888888888888888,\"#fdca26\"],[1.0,\"#f0f921\"]]}],\"mesh3d\":[{\"type\":\"mesh3d\",\"colorbar\":{\"outlinewidth\":0,\"ticks\":\"\"}}],\"scatter\":[{\"fillpattern\":{\"fillmode\":\"overlay\",\"size\":10,\"solidity\":0.2},\"type\":\"scatter\"}],\"parcoords\":[{\"type\":\"parcoords\",\"line\":{\"colorbar\":{\"outlinewidth\":0,\"ticks\":\"\"}}}],\"scatterpolargl\":[{\"type\":\"scatterpolargl\",\"marker\":{\"colorbar\":{\"outlinewidth\":0,\"ticks\":\"\"}}}],\"bar\":[{\"error_x\":{\"color\":\"#2a3f5f\"},\"error_y\":{\"color\":\"#2a3f5f\"},\"marker\":{\"line\":{\"color\":\"#E5ECF6\",\"width\":0.5},\"pattern\":{\"fillmode\":\"overlay\",\"size\":10,\"solidity\":0.2}},\"type\":\"bar\"}],\"scattergeo\":[{\"type\":\"scattergeo\",\"marker\":{\"colorbar\":{\"outlinewidth\":0,\"ticks\":\"\"}}}],\"scatterpolar\":[{\"type\":\"scatterpolar\",\"marker\":{\"colorbar\":{\"outlinewidth\":0,\"ticks\":\"\"}}}],\"histogram\":[{\"marker\":{\"pattern\":{\"fillmode\":\"overlay\",\"size\":10,\"solidity\":0.2}},\"type\":\"histogram\"}],\"scattergl\":[{\"type\":\"scattergl\",\"marker\":{\"colorbar\":{\"outlinewidth\":0,\"ticks\":\"\"}}}],\"scatter3d\":[{\"type\":\"scatter3d\",\"line\":{\"colorbar\":{\"outlinewidth\":0,\"ticks\":\"\"}},\"marker\":{\"colorbar\":{\"outlinewidth\":0,\"ticks\":\"\"}}}],\"scattermapbox\":[{\"type\":\"scattermapbox\",\"marker\":{\"colorbar\":{\"outlinewidth\":0,\"ticks\":\"\"}}}],\"scatterternary\":[{\"type\":\"scatterternary\",\"marker\":{\"colorbar\":{\"outlinewidth\":0,\"ticks\":\"\"}}}],\"scattercarpet\":[{\"type\":\"scattercarpet\",\"marker\":{\"colorbar\":{\"outlinewidth\":0,\"ticks\":\"\"}}}],\"carpet\":[{\"aaxis\":{\"endlinecolor\":\"#2a3f5f\",\"gridcolor\":\"white\",\"linecolor\":\"white\",\"minorgridcolor\":\"white\",\"startlinecolor\":\"#2a3f5f\"},\"baxis\":{\"endlinecolor\":\"#2a3f5f\",\"gridcolor\":\"white\",\"linecolor\":\"white\",\"minorgridcolor\":\"white\",\"startlinecolor\":\"#2a3f5f\"},\"type\":\"carpet\"}],\"table\":[{\"cells\":{\"fill\":{\"color\":\"#EBF0F8\"},\"line\":{\"color\":\"white\"}},\"header\":{\"fill\":{\"color\":\"#C8D4E3\"},\"line\":{\"color\":\"white\"}},\"type\":\"table\"}],\"barpolar\":[{\"marker\":{\"line\":{\"color\":\"#E5ECF6\",\"width\":0.5},\"pattern\":{\"fillmode\":\"overlay\",\"size\":10,\"solidity\":0.2}},\"type\":\"barpolar\"}],\"pie\":[{\"automargin\":true,\"type\":\"pie\"}]},\"layout\":{\"autotypenumbers\":\"strict\",\"colorway\":[\"#636efa\",\"#EF553B\",\"#00cc96\",\"#ab63fa\",\"#FFA15A\",\"#19d3f3\",\"#FF6692\",\"#B6E880\",\"#FF97FF\",\"#FECB52\"],\"font\":{\"color\":\"#2a3f5f\"},\"hovermode\":\"closest\",\"hoverlabel\":{\"align\":\"left\"},\"paper_bgcolor\":\"white\",\"plot_bgcolor\":\"#E5ECF6\",\"polar\":{\"bgcolor\":\"#E5ECF6\",\"angularaxis\":{\"gridcolor\":\"white\",\"linecolor\":\"white\",\"ticks\":\"\"},\"radialaxis\":{\"gridcolor\":\"white\",\"linecolor\":\"white\",\"ticks\":\"\"}},\"ternary\":{\"bgcolor\":\"#E5ECF6\",\"aaxis\":{\"gridcolor\":\"white\",\"linecolor\":\"white\",\"ticks\":\"\"},\"baxis\":{\"gridcolor\":\"white\",\"linecolor\":\"white\",\"ticks\":\"\"},\"caxis\":{\"gridcolor\":\"white\",\"linecolor\":\"white\",\"ticks\":\"\"}},\"coloraxis\":{\"colorbar\":{\"outlinewidth\":0,\"ticks\":\"\"}},\"colorscale\":{\"sequential\":[[0.0,\"#0d0887\"],[0.1111111111111111,\"#46039f\"],[0.2222222222222222,\"#7201a8\"],[0.3333333333333333,\"#9c179e\"],[0.4444444444444444,\"#bd3786\"],[0.5555555555555556,\"#d8576b\"],[0.6666666666666666,\"#ed7953\"],[0.7777777777777778,\"#fb9f3a\"],[0.8888888888888888,\"#fdca26\"],[1.0,\"#f0f921\"]],\"sequentialminus\":[[0.0,\"#0d0887\"],[0.1111111111111111,\"#46039f\"],[0.2222222222222222,\"#7201a8\"],[0.3333333333333333,\"#9c179e\"],[0.4444444444444444,\"#bd3786\"],[0.5555555555555556,\"#d8576b\"],[0.6666666666666666,\"#ed7953\"],[0.7777777777777778,\"#fb9f3a\"],[0.8888888888888888,\"#fdca26\"],[1.0,\"#f0f921\"]],\"diverging\":[[0,\"#8e0152\"],[0.1,\"#c51b7d\"],[0.2,\"#de77ae\"],[0.3,\"#f1b6da\"],[0.4,\"#fde0ef\"],[0.5,\"#f7f7f7\"],[0.6,\"#e6f5d0\"],[0.7,\"#b8e186\"],[0.8,\"#7fbc41\"],[0.9,\"#4d9221\"],[1,\"#276419\"]]},\"xaxis\":{\"gridcolor\":\"white\",\"linecolor\":\"white\",\"ticks\":\"\",\"title\":{\"standoff\":15},\"zerolinecolor\":\"white\",\"automargin\":true,\"zerolinewidth\":2},\"yaxis\":{\"gridcolor\":\"white\",\"linecolor\":\"white\",\"ticks\":\"\",\"title\":{\"standoff\":15},\"zerolinecolor\":\"white\",\"automargin\":true,\"zerolinewidth\":2},\"scene\":{\"xaxis\":{\"backgroundcolor\":\"#E5ECF6\",\"gridcolor\":\"white\",\"linecolor\":\"white\",\"showbackground\":true,\"ticks\":\"\",\"zerolinecolor\":\"white\",\"gridwidth\":2},\"yaxis\":{\"backgroundcolor\":\"#E5ECF6\",\"gridcolor\":\"white\",\"linecolor\":\"white\",\"showbackground\":true,\"ticks\":\"\",\"zerolinecolor\":\"white\",\"gridwidth\":2},\"zaxis\":{\"backgroundcolor\":\"#E5ECF6\",\"gridcolor\":\"white\",\"linecolor\":\"white\",\"showbackground\":true,\"ticks\":\"\",\"zerolinecolor\":\"white\",\"gridwidth\":2}},\"shapedefaults\":{\"line\":{\"color\":\"#2a3f5f\"}},\"annotationdefaults\":{\"arrowcolor\":\"#2a3f5f\",\"arrowhead\":0,\"arrowwidth\":1},\"geo\":{\"bgcolor\":\"white\",\"landcolor\":\"#E5ECF6\",\"subunitcolor\":\"white\",\"showland\":true,\"showlakes\":true,\"lakecolor\":\"white\"},\"title\":{\"x\":0.05},\"mapbox\":{\"style\":\"light\"}}},\"xaxis\":{\"anchor\":\"y\",\"domain\":[0.0,1.0],\"title\":{\"text\":\"Dataset Variables\"},\"categoryorder\":\"array\",\"categoryarray\":[\"show_id\",\"type\",\"title\",\"director\",\"cast\",\"country\",\"date_added\",\"release_year\",\"rating\",\"duration\",\"listed_in\",\"description\"],\"tickangle\":-45},\"yaxis\":{\"anchor\":\"x\",\"domain\":[0.0,1.0],\"title\":{\"text\":\"Number of Missing Values\"}},\"legend\":{\"title\":{\"text\":\"Column names\"},\"tracegroupgap\":0},\"title\":{\"text\":\"Missing Values in Dataset\"},\"barmode\":\"relative\"},                        {\"responsive\": true}                    ).then(function(){\n",
              "                            \n",
              "var gd = document.getElementById('85a135ad-9f47-4748-864f-72711809e70a');\n",
              "var x = new MutationObserver(function (mutations, observer) {{\n",
              "        var display = window.getComputedStyle(gd).display;\n",
              "        if (!display || display === 'none') {{\n",
              "            console.log([gd, 'removed!']);\n",
              "            Plotly.purge(gd);\n",
              "            observer.disconnect();\n",
              "        }}\n",
              "}});\n",
              "\n",
              "// Listen for the removal of the full notebook cells\n",
              "var notebookContainer = gd.closest('#notebook-container');\n",
              "if (notebookContainer) {{\n",
              "    x.observe(notebookContainer, {childList: true});\n",
              "}}\n",
              "\n",
              "// Listen for the clearing of the current output cell\n",
              "var outputEl = gd.closest('.output');\n",
              "if (outputEl) {{\n",
              "    x.observe(outputEl, {childList: true});\n",
              "}}\n",
              "\n",
              "                        })                };                            </script>        </div>\n",
              "</body>\n",
              "</html>"
            ]
          },
          "metadata": {}
        }
      ]
    },
    {
      "cell_type": "markdown",
      "source": [
        "#### Check for Unusual Characters in all Columns"
      ],
      "metadata": {
        "id": "O76P1iZ9P7Rs"
      }
    },
    {
      "cell_type": "code",
      "source": [
        "# Function to check for unusual characters\n",
        "def check_unusual_chars(text):\n",
        "    # Define a pattern for allowed characters (alphanumeric, spaces, and common punctuation)\n",
        "    pattern = r\"[^a-zA-Z0-9\\s.,!?;:'\\\"()\\[\\]{}]\"\n",
        "    # Find all matches for the pattern\n",
        "    matches = re.findall(pattern, str(text))  # Convert to string to handle non-string values\n",
        "    # Return True if any unusual characters are found, otherwise False\n",
        "    return bool(matches)\n",
        "\n",
        "# Apply the function to all columns\n",
        "for col in df.columns:\n",
        "    unusual_chars_found = df[col].apply(check_unusual_chars).any()\n",
        "    if unusual_chars_found:\n",
        "        print(f\"Unusual characters found in column: {col}\")"
      ],
      "metadata": {
        "colab": {
          "base_uri": "https://localhost:8080/"
        },
        "id": "2gWjgliSOn2I",
        "outputId": "98b4e43c-4e2a-42bd-a888-b5f061187d34"
      },
      "execution_count": 17,
      "outputs": [
        {
          "output_type": "stream",
          "name": "stdout",
          "text": [
            "Unusual characters found in column: title\n",
            "Unusual characters found in column: director\n",
            "Unusual characters found in column: cast\n",
            "Unusual characters found in column: date_added\n",
            "Unusual characters found in column: rating\n",
            "Unusual characters found in column: listed_in\n",
            "Unusual characters found in column: description\n"
          ]
        }
      ]
    },
    {
      "cell_type": "code",
      "source": [
        "# Combine text from all relevant columns\n",
        "all_text = ' '.join(df['title'] + ' ' + df['description'] + ' ' + df['director'] + ' ' + df['cast'] + ' ' + df['listed_in'] + ' ' + df['country'])\n",
        "\n",
        "# Find all unusual characters\n",
        "unusual_chars = re.findall(r\"[^a-zA-Z0-9\\s.,!?;:'\\\"()\\[\\]{}]\", all_text)\n",
        "\n",
        "# Count the frequency of each unusual character\n",
        "char_counts = collections.Counter(unusual_chars)\n",
        "\n",
        "# Create a bar chart with Plotly Express\n",
        "fig = px.bar(x=list(char_counts.keys()), y=list(char_counts.values()),\n",
        "             labels={'x': 'Unusual Characters', 'y': 'Frequency'},\n",
        "             title=\"Frequency of Unusual Characters\")\n",
        "fig.show()"
      ],
      "metadata": {
        "colab": {
          "base_uri": "https://localhost:8080/",
          "height": 542
        },
        "id": "FEWRjboYPOWV",
        "outputId": "b2fb988d-c172-49de-a1cf-43f8660b9abe"
      },
      "execution_count": 18,
      "outputs": [
        {
          "output_type": "display_data",
          "data": {
            "text/html": [
              "<html>\n",
              "<head><meta charset=\"utf-8\" /></head>\n",
              "<body>\n",
              "    <div>            <script src=\"https://cdnjs.cloudflare.com/ajax/libs/mathjax/2.7.5/MathJax.js?config=TeX-AMS-MML_SVG\"></script><script type=\"text/javascript\">if (window.MathJax && window.MathJax.Hub && window.MathJax.Hub.Config) {window.MathJax.Hub.Config({SVG: {font: \"STIX-Web\"}});}</script>                <script type=\"text/javascript\">window.PlotlyConfig = {MathJaxConfig: 'local'};</script>\n",
              "        <script charset=\"utf-8\" src=\"https://cdn.plot.ly/plotly-2.35.2.min.js\"></script>                <div id=\"c531cd57-0c8e-4f30-afcf-108b77512af6\" class=\"plotly-graph-div\" style=\"height:525px; width:100%;\"></div>            <script type=\"text/javascript\">                                    window.PLOTLYENV=window.PLOTLYENV || {};                                    if (document.getElementById(\"c531cd57-0c8e-4f30-afcf-108b77512af6\")) {                    Plotly.newPlot(                        \"c531cd57-0c8e-4f30-afcf-108b77512af6\",                        [{\"alignmentgroup\":\"True\",\"hovertemplate\":\"Unusual Characters=%{x}\\u003cbr\\u003eFrequency=%{y}\\u003cextra\\u003e\\u003c\\u002fextra\\u003e\",\"legendgroup\":\"\",\"marker\":{\"color\":\"#636efa\",\"pattern\":{\"shape\":\"\"}},\"name\":\"\",\"offsetgroup\":\"\",\"orientation\":\"v\",\"showlegend\":false,\"textposition\":\"auto\",\"x\":[\"%\",\"ã\",\"é\",\"-\",\"&\",\"á\",\"ş\",\"ç\",\"ğ\",\"ı\",\"Ş\",\"Ö\",\"—\",\"ï\",\"ę\",\"ł\",\"ń\",\"ó\",\"ś\",\"Ø\",\"ø\",\"​\",\"–\",\"#\",\"_\",\"’\",\"แ\",\"ผ\",\"น\",\"ร\",\"้\",\"า\",\"ย\",\"เ\",\"จ\",\"ล\",\"่\",\"ห\",\"์\",\"¡\",\"í\",\"Ç\",\"ü\",\"É\",\"þ\",\"Ó\",\"Á\",\"ú\",\"ð\",\"ö\",\"Þ\",\"İ\",\"Ò\",\"ò\",\"ū\",\"Æ\",\"Ü\",\"ñ\",\"$\",\"“\",\"”\",\"î\",\"ą\",\"ż\",\"Ł\",\"\\u002f\",\"=\",\"・\",\"ê\",\"ô\",\"â\",\"ë\",\"ä\",\"ß\",\"Í\",\"́\",\"å\",\"忍\",\"者\",\"ハ\",\"ッ\",\"ト\",\"リ\",\"く\",\"ん\",\"è\",\"æ\",\"à\",\"È\",\"Ñ\",\"À\",\"‘\",\"*\",\"´\",\"²\",\"海\",\"的\",\"儿\",\"子\",\"Ō\",\"|\",\"Ṣ\",\"ọ\",\"ẹ\",\"ì\",\"ù\",\"Č\",\"Ř\",\"반\",\"드\",\"시\",\"잡\",\"는\",\"다\",\"@\",\"마\",\"녀\",\"사\",\"냥\",\"최\",\"강\",\"전\",\"미\",\"니\",\"특\",\"공\",\"대\",\"영\",\"웅\",\"의\",\"탄\",\"생\",\"+\",\"„\",\"…\",\"Ú\",\"ň\",\"ý\",\"️\",\"‑\",\"û\",\"š\",\"č\",\"ć\",\"õ\",\"¿\",\"Ź\",\"®\",\"ơ\",\"ā\",\"ă\",\"Ż\",\"đ\",\"ÿ\",\"~\",\"Ś\",\"ي\",\"و\",\"م\",\"ا\",\"ل\",\"د\",\"ن\",\"ف\",\"ع\",\"ة\",\"ق\",\"ه\",\"ر\",\"ش\",\"ت\",\"ب\",\"ك\"],\"xaxis\":\"x\",\"y\":[5,32,863,6774,2406,649,92,174,141,260,38,86,183,43,8,68,21,355,14,8,54,9,600,11,4,428,1,1,2,1,3,3,2,2,1,1,1,1,1,1,540,50,348,19,3,14,80,118,8,135,5,55,2,7,2,1,23,173,31,24,29,14,5,8,6,25,1,18,9,30,4,45,32,3,2,5,32,1,1,1,1,1,1,1,1,42,8,18,2,1,6,3,29,1,2,1,1,1,1,1,1,1,1,1,2,2,3,1,1,1,1,1,1,1,2,1,1,2,1,1,1,1,1,1,1,1,1,1,1,1,1,1,3,1,3,5,1,2,2,3,2,3,4,16,1,1,1,1,1,1,2,2,1,1,2,1,2,2,2,6,3,2,1,2,1,2,1,1,2,1,1,2,2],\"yaxis\":\"y\",\"type\":\"bar\"}],                        {\"template\":{\"data\":{\"histogram2dcontour\":[{\"type\":\"histogram2dcontour\",\"colorbar\":{\"outlinewidth\":0,\"ticks\":\"\"},\"colorscale\":[[0.0,\"#0d0887\"],[0.1111111111111111,\"#46039f\"],[0.2222222222222222,\"#7201a8\"],[0.3333333333333333,\"#9c179e\"],[0.4444444444444444,\"#bd3786\"],[0.5555555555555556,\"#d8576b\"],[0.6666666666666666,\"#ed7953\"],[0.7777777777777778,\"#fb9f3a\"],[0.8888888888888888,\"#fdca26\"],[1.0,\"#f0f921\"]]}],\"choropleth\":[{\"type\":\"choropleth\",\"colorbar\":{\"outlinewidth\":0,\"ticks\":\"\"}}],\"histogram2d\":[{\"type\":\"histogram2d\",\"colorbar\":{\"outlinewidth\":0,\"ticks\":\"\"},\"colorscale\":[[0.0,\"#0d0887\"],[0.1111111111111111,\"#46039f\"],[0.2222222222222222,\"#7201a8\"],[0.3333333333333333,\"#9c179e\"],[0.4444444444444444,\"#bd3786\"],[0.5555555555555556,\"#d8576b\"],[0.6666666666666666,\"#ed7953\"],[0.7777777777777778,\"#fb9f3a\"],[0.8888888888888888,\"#fdca26\"],[1.0,\"#f0f921\"]]}],\"heatmap\":[{\"type\":\"heatmap\",\"colorbar\":{\"outlinewidth\":0,\"ticks\":\"\"},\"colorscale\":[[0.0,\"#0d0887\"],[0.1111111111111111,\"#46039f\"],[0.2222222222222222,\"#7201a8\"],[0.3333333333333333,\"#9c179e\"],[0.4444444444444444,\"#bd3786\"],[0.5555555555555556,\"#d8576b\"],[0.6666666666666666,\"#ed7953\"],[0.7777777777777778,\"#fb9f3a\"],[0.8888888888888888,\"#fdca26\"],[1.0,\"#f0f921\"]]}],\"heatmapgl\":[{\"type\":\"heatmapgl\",\"colorbar\":{\"outlinewidth\":0,\"ticks\":\"\"},\"colorscale\":[[0.0,\"#0d0887\"],[0.1111111111111111,\"#46039f\"],[0.2222222222222222,\"#7201a8\"],[0.3333333333333333,\"#9c179e\"],[0.4444444444444444,\"#bd3786\"],[0.5555555555555556,\"#d8576b\"],[0.6666666666666666,\"#ed7953\"],[0.7777777777777778,\"#fb9f3a\"],[0.8888888888888888,\"#fdca26\"],[1.0,\"#f0f921\"]]}],\"contourcarpet\":[{\"type\":\"contourcarpet\",\"colorbar\":{\"outlinewidth\":0,\"ticks\":\"\"}}],\"contour\":[{\"type\":\"contour\",\"colorbar\":{\"outlinewidth\":0,\"ticks\":\"\"},\"colorscale\":[[0.0,\"#0d0887\"],[0.1111111111111111,\"#46039f\"],[0.2222222222222222,\"#7201a8\"],[0.3333333333333333,\"#9c179e\"],[0.4444444444444444,\"#bd3786\"],[0.5555555555555556,\"#d8576b\"],[0.6666666666666666,\"#ed7953\"],[0.7777777777777778,\"#fb9f3a\"],[0.8888888888888888,\"#fdca26\"],[1.0,\"#f0f921\"]]}],\"surface\":[{\"type\":\"surface\",\"colorbar\":{\"outlinewidth\":0,\"ticks\":\"\"},\"colorscale\":[[0.0,\"#0d0887\"],[0.1111111111111111,\"#46039f\"],[0.2222222222222222,\"#7201a8\"],[0.3333333333333333,\"#9c179e\"],[0.4444444444444444,\"#bd3786\"],[0.5555555555555556,\"#d8576b\"],[0.6666666666666666,\"#ed7953\"],[0.7777777777777778,\"#fb9f3a\"],[0.8888888888888888,\"#fdca26\"],[1.0,\"#f0f921\"]]}],\"mesh3d\":[{\"type\":\"mesh3d\",\"colorbar\":{\"outlinewidth\":0,\"ticks\":\"\"}}],\"scatter\":[{\"fillpattern\":{\"fillmode\":\"overlay\",\"size\":10,\"solidity\":0.2},\"type\":\"scatter\"}],\"parcoords\":[{\"type\":\"parcoords\",\"line\":{\"colorbar\":{\"outlinewidth\":0,\"ticks\":\"\"}}}],\"scatterpolargl\":[{\"type\":\"scatterpolargl\",\"marker\":{\"colorbar\":{\"outlinewidth\":0,\"ticks\":\"\"}}}],\"bar\":[{\"error_x\":{\"color\":\"#2a3f5f\"},\"error_y\":{\"color\":\"#2a3f5f\"},\"marker\":{\"line\":{\"color\":\"#E5ECF6\",\"width\":0.5},\"pattern\":{\"fillmode\":\"overlay\",\"size\":10,\"solidity\":0.2}},\"type\":\"bar\"}],\"scattergeo\":[{\"type\":\"scattergeo\",\"marker\":{\"colorbar\":{\"outlinewidth\":0,\"ticks\":\"\"}}}],\"scatterpolar\":[{\"type\":\"scatterpolar\",\"marker\":{\"colorbar\":{\"outlinewidth\":0,\"ticks\":\"\"}}}],\"histogram\":[{\"marker\":{\"pattern\":{\"fillmode\":\"overlay\",\"size\":10,\"solidity\":0.2}},\"type\":\"histogram\"}],\"scattergl\":[{\"type\":\"scattergl\",\"marker\":{\"colorbar\":{\"outlinewidth\":0,\"ticks\":\"\"}}}],\"scatter3d\":[{\"type\":\"scatter3d\",\"line\":{\"colorbar\":{\"outlinewidth\":0,\"ticks\":\"\"}},\"marker\":{\"colorbar\":{\"outlinewidth\":0,\"ticks\":\"\"}}}],\"scattermapbox\":[{\"type\":\"scattermapbox\",\"marker\":{\"colorbar\":{\"outlinewidth\":0,\"ticks\":\"\"}}}],\"scatterternary\":[{\"type\":\"scatterternary\",\"marker\":{\"colorbar\":{\"outlinewidth\":0,\"ticks\":\"\"}}}],\"scattercarpet\":[{\"type\":\"scattercarpet\",\"marker\":{\"colorbar\":{\"outlinewidth\":0,\"ticks\":\"\"}}}],\"carpet\":[{\"aaxis\":{\"endlinecolor\":\"#2a3f5f\",\"gridcolor\":\"white\",\"linecolor\":\"white\",\"minorgridcolor\":\"white\",\"startlinecolor\":\"#2a3f5f\"},\"baxis\":{\"endlinecolor\":\"#2a3f5f\",\"gridcolor\":\"white\",\"linecolor\":\"white\",\"minorgridcolor\":\"white\",\"startlinecolor\":\"#2a3f5f\"},\"type\":\"carpet\"}],\"table\":[{\"cells\":{\"fill\":{\"color\":\"#EBF0F8\"},\"line\":{\"color\":\"white\"}},\"header\":{\"fill\":{\"color\":\"#C8D4E3\"},\"line\":{\"color\":\"white\"}},\"type\":\"table\"}],\"barpolar\":[{\"marker\":{\"line\":{\"color\":\"#E5ECF6\",\"width\":0.5},\"pattern\":{\"fillmode\":\"overlay\",\"size\":10,\"solidity\":0.2}},\"type\":\"barpolar\"}],\"pie\":[{\"automargin\":true,\"type\":\"pie\"}]},\"layout\":{\"autotypenumbers\":\"strict\",\"colorway\":[\"#636efa\",\"#EF553B\",\"#00cc96\",\"#ab63fa\",\"#FFA15A\",\"#19d3f3\",\"#FF6692\",\"#B6E880\",\"#FF97FF\",\"#FECB52\"],\"font\":{\"color\":\"#2a3f5f\"},\"hovermode\":\"closest\",\"hoverlabel\":{\"align\":\"left\"},\"paper_bgcolor\":\"white\",\"plot_bgcolor\":\"#E5ECF6\",\"polar\":{\"bgcolor\":\"#E5ECF6\",\"angularaxis\":{\"gridcolor\":\"white\",\"linecolor\":\"white\",\"ticks\":\"\"},\"radialaxis\":{\"gridcolor\":\"white\",\"linecolor\":\"white\",\"ticks\":\"\"}},\"ternary\":{\"bgcolor\":\"#E5ECF6\",\"aaxis\":{\"gridcolor\":\"white\",\"linecolor\":\"white\",\"ticks\":\"\"},\"baxis\":{\"gridcolor\":\"white\",\"linecolor\":\"white\",\"ticks\":\"\"},\"caxis\":{\"gridcolor\":\"white\",\"linecolor\":\"white\",\"ticks\":\"\"}},\"coloraxis\":{\"colorbar\":{\"outlinewidth\":0,\"ticks\":\"\"}},\"colorscale\":{\"sequential\":[[0.0,\"#0d0887\"],[0.1111111111111111,\"#46039f\"],[0.2222222222222222,\"#7201a8\"],[0.3333333333333333,\"#9c179e\"],[0.4444444444444444,\"#bd3786\"],[0.5555555555555556,\"#d8576b\"],[0.6666666666666666,\"#ed7953\"],[0.7777777777777778,\"#fb9f3a\"],[0.8888888888888888,\"#fdca26\"],[1.0,\"#f0f921\"]],\"sequentialminus\":[[0.0,\"#0d0887\"],[0.1111111111111111,\"#46039f\"],[0.2222222222222222,\"#7201a8\"],[0.3333333333333333,\"#9c179e\"],[0.4444444444444444,\"#bd3786\"],[0.5555555555555556,\"#d8576b\"],[0.6666666666666666,\"#ed7953\"],[0.7777777777777778,\"#fb9f3a\"],[0.8888888888888888,\"#fdca26\"],[1.0,\"#f0f921\"]],\"diverging\":[[0,\"#8e0152\"],[0.1,\"#c51b7d\"],[0.2,\"#de77ae\"],[0.3,\"#f1b6da\"],[0.4,\"#fde0ef\"],[0.5,\"#f7f7f7\"],[0.6,\"#e6f5d0\"],[0.7,\"#b8e186\"],[0.8,\"#7fbc41\"],[0.9,\"#4d9221\"],[1,\"#276419\"]]},\"xaxis\":{\"gridcolor\":\"white\",\"linecolor\":\"white\",\"ticks\":\"\",\"title\":{\"standoff\":15},\"zerolinecolor\":\"white\",\"automargin\":true,\"zerolinewidth\":2},\"yaxis\":{\"gridcolor\":\"white\",\"linecolor\":\"white\",\"ticks\":\"\",\"title\":{\"standoff\":15},\"zerolinecolor\":\"white\",\"automargin\":true,\"zerolinewidth\":2},\"scene\":{\"xaxis\":{\"backgroundcolor\":\"#E5ECF6\",\"gridcolor\":\"white\",\"linecolor\":\"white\",\"showbackground\":true,\"ticks\":\"\",\"zerolinecolor\":\"white\",\"gridwidth\":2},\"yaxis\":{\"backgroundcolor\":\"#E5ECF6\",\"gridcolor\":\"white\",\"linecolor\":\"white\",\"showbackground\":true,\"ticks\":\"\",\"zerolinecolor\":\"white\",\"gridwidth\":2},\"zaxis\":{\"backgroundcolor\":\"#E5ECF6\",\"gridcolor\":\"white\",\"linecolor\":\"white\",\"showbackground\":true,\"ticks\":\"\",\"zerolinecolor\":\"white\",\"gridwidth\":2}},\"shapedefaults\":{\"line\":{\"color\":\"#2a3f5f\"}},\"annotationdefaults\":{\"arrowcolor\":\"#2a3f5f\",\"arrowhead\":0,\"arrowwidth\":1},\"geo\":{\"bgcolor\":\"white\",\"landcolor\":\"#E5ECF6\",\"subunitcolor\":\"white\",\"showland\":true,\"showlakes\":true,\"lakecolor\":\"white\"},\"title\":{\"x\":0.05},\"mapbox\":{\"style\":\"light\"}}},\"xaxis\":{\"anchor\":\"y\",\"domain\":[0.0,1.0],\"title\":{\"text\":\"Unusual Characters\"}},\"yaxis\":{\"anchor\":\"x\",\"domain\":[0.0,1.0],\"title\":{\"text\":\"Frequency\"}},\"legend\":{\"tracegroupgap\":0},\"title\":{\"text\":\"Frequency of Unusual Characters\"},\"barmode\":\"relative\"},                        {\"responsive\": true}                    ).then(function(){\n",
              "                            \n",
              "var gd = document.getElementById('c531cd57-0c8e-4f30-afcf-108b77512af6');\n",
              "var x = new MutationObserver(function (mutations, observer) {{\n",
              "        var display = window.getComputedStyle(gd).display;\n",
              "        if (!display || display === 'none') {{\n",
              "            console.log([gd, 'removed!']);\n",
              "            Plotly.purge(gd);\n",
              "            observer.disconnect();\n",
              "        }}\n",
              "}});\n",
              "\n",
              "// Listen for the removal of the full notebook cells\n",
              "var notebookContainer = gd.closest('#notebook-container');\n",
              "if (notebookContainer) {{\n",
              "    x.observe(notebookContainer, {childList: true});\n",
              "}}\n",
              "\n",
              "// Listen for the clearing of the current output cell\n",
              "var outputEl = gd.closest('.output');\n",
              "if (outputEl) {{\n",
              "    x.observe(outputEl, {childList: true});\n",
              "}}\n",
              "\n",
              "                        })                };                            </script>        </div>\n",
              "</body>\n",
              "</html>"
            ]
          },
          "metadata": {}
        }
      ]
    },
    {
      "cell_type": "code",
      "source": [
        "# Create a word cloud from the unusual characters\n",
        "wordcloud = WordCloud(width=800, height=400, background_color='white').generate_from_frequencies(char_counts)\n",
        "\n",
        "# Convert the word cloud image to bytes\n",
        "img_bytes = io.BytesIO()\n",
        "wordcloud.to_image().save(img_bytes, format='PNG')\n",
        "img_bytes.seek(0)\n",
        "\n",
        "# Encode the image bytes as base64\n",
        "encoded_image = base64.b64encode(img_bytes.read()).decode('ascii')\n",
        "\n",
        "# Display the word cloud using Plotly's Image object with the encoded image\n",
        "fig = go.Figure(data=[go.Image(source='data:image/png;base64,' + encoded_image)]) # Modified line\n",
        "fig.update_layout(title=\"Word Cloud of Unusual Characters\")\n",
        "fig.show()"
      ],
      "metadata": {
        "colab": {
          "base_uri": "https://localhost:8080/",
          "height": 542
        },
        "id": "Cbr7wFUwPOSR",
        "outputId": "e9bf5793-1558-4d5f-d92b-370451ac9a3f"
      },
      "execution_count": 19,
      "outputs": [
        {
          "output_type": "display_data",
          "data": {
            "text/html": [
              "<html>\n",
              "<head><meta charset=\"utf-8\" /></head>\n",
              "<body>\n",
              "    <div>            <script src=\"https://cdnjs.cloudflare.com/ajax/libs/mathjax/2.7.5/MathJax.js?config=TeX-AMS-MML_SVG\"></script><script type=\"text/javascript\">if (window.MathJax && window.MathJax.Hub && window.MathJax.Hub.Config) {window.MathJax.Hub.Config({SVG: {font: \"STIX-Web\"}});}</script>                <script type=\"text/javascript\">window.PlotlyConfig = {MathJaxConfig: 'local'};</script>\n",
              "        <script charset=\"utf-8\" src=\"https://cdn.plot.ly/plotly-2.35.2.min.js\"></script>                <div id=\"5f86fab9-bcb2-416a-a269-b8a0a33b7fa4\" class=\"plotly-graph-div\" style=\"height:525px; width:100%;\"></div>            <script type=\"text/javascript\">                                    window.PLOTLYENV=window.PLOTLYENV || {};                                    if (document.getElementById(\"5f86fab9-bcb2-416a-a269-b8a0a33b7fa4\")) {                    Plotly.newPlot(                        \"5f86fab9-bcb2-416a-a269-b8a0a33b7fa4\",                        [{\"source\":\"data:image\\u002fpng;base64,iVBORw0KGgoAAAANSUhEUgAAAyAAAAGQCAIAAADZR5NjAADOSUlEQVR4nOzddXhTVxsA8HPjntTdlVKlpRR3hrtvY7CxMd+YuzH3IfONsQ3G2BjuTnEpLXV3tzTu9\\u002fsjfKWUtI3fpH1\\u002fz549yc29575Am7w58h4Mx3EEAAAAAACsh0J0AAAAAMDApcXxD86f2ldSqNZqXxsxlkwirTt3yoPF\\u002fmn6vGC+gOjogPkw6MECAAAACPTBhdMj\\u002fYNym5s2ZVxiUKgfjZ28JfsGnULZPGM+0aEB80EPFgD9Wa1IVNrWhhAaFRREwjCiwwEAGPD6iHEIoVH+QV9dPT81NOKe0AgmhbrqwE6hUiGgM4iODpiJRHQAAAAbymtqGhkYqMNxtVZLdCwAgN5QSCQOlRbh4oYQCuDztTheKxYRHRQwH\\u002fRgAdDPkUkk6LsCwGFpdLqPL549XFbcKJWoddpPLqV\\u002fcild\\u002f5JQoSA2NtAncbuE68Ix+BIkWAAAAABh\\u002fs7P\\u002fjM3c+OUWcP9Aodt+W5ZTPy8yBj9S0F8F2JjA71TylRPjXw7LCHo8S\\u002fvd\\u002fPp\\u002fo8FCRYA\\u002fZlcrTlWUpLb1DTM35\\u002foWAAABuQ0Nw7x8p0UHCZSKiUqVbNMGuPuSXRQltLgah1+x7QEGskpJ5Mp5ar0\\u002f65cO5ZdfKNc2CSSSxRsHtM\\u002f0idp\\u002fOBJ947a\\u002f9PJ+vKm+vKmnPOFW\\u002fK\\u002fZLDpXa+FVYTAOTy9cKNN21\\u002f\\u002f75M2bR8AAAxaf+3iz1nXvrtnzr8FOTjCD5UWP5o0NMrN43xN5WsjxrKpNKIDNMfRhr886H6dT0sl2QsDniAwHvMc+zN981v\\u002ftNa3G3wVwzCEIVyHI4QeXLd4yQuzup0APVjAORTn1hIdAgAAWN\\u002f9sYnnaiofPrRramjEp+OnTgoO\\u002f\\u002fDCmQ6lfIR\\u002fEJVEJjo6M\\u002fGpbkkuYzqfqnRONpkMx\\u002fEfX97234bDvZ+DcIQQikgKWbR2xt0nQIIFAAAAEMaFwdwxd2nn05nhUTPDowiMxyqUOkWz8va3YrFGSFws5tjxxf7O7IrDZ81\\u002fZtqw6UlegW5kMrm1vj3jRM5v7\\u002f4rE8n1J0g6pAqpksVjdmsEEiwAAAAAWFMEN0GsFnY+DWUPJi4Wk5XdrNry7k79Y59Qzy+Ov9F1AjuLx2ysau3MrhBC9WVNm577\\u002fcWf13RrBxIsMKAx2fSIwX6RcTABHPQfKp1Gi+sMvsQkO+WEHuB0fBhBRIdgvh1f7NdqtAghDMNe+\\u002f2JbssD5RLFN0\\u002f+qn+MkTD9HKwTf51f\\u002fsocv3DvrmdCggUI9vHz21e\\u002fOM3dm9\\u002f7aatfnG5qyyqlWi5TKWSqprr2ytKmxtp2\\u002fW9CpxVPT166ZjxGghpRoD+okDb+WHL0eluJRNPjfJfzkz+xZ0gAOB2JUHr2vyv6x4njYiKTQ7ud8OtbO5qqWhBCbD5rzSfLv3z0Z4QQrsP3\\u002fXD80c\\u002fu63omJFjAOnCkEctPiuQH5apstbZBp5NiGJVE4tDIAXRqJJueymVMoJDd777wzMGsjPPFz324MG3CoF7aX\\u002fDgaAsjFAllF0\\u002fkHd15Le9Gpf7IHxuOa9Ta+5+ebGHLANhZk6LDk3HHd5JqWcvDVzbJNEqiQgKgf8i9UKTvvkIIpc0Y0u3VvEvF+344rn\\u002f88IdLp9w\\u002f5ufXtovaJAihjJM53U6GBAtYgVx1s6ZtrUJd2PUgjmt0WrlG2yxTZbRLt2OIHOC2kc\\u002fqvpAVISTukL37xO\\u002f3Pz15+WMTbBckT8C6Z0HKPQtSTh\\u002fIWv\\u002f2LrlUieP4tu9OIgy7\\u002f6lJtrsvAFZ3\\u002f8UvXx+8eIzn7Xktv5WdkGmUrjTOytCJUTw\\u002fFpney+UAgJ4UXC3tfBwaH9j1JbVS8+WjP+tHQhLGxkxdNQ7DsOjUsCuHsxBCVfl10g4Zm8\\u002fqPB8SLGApuSq7rGmRDpfqn1LI7jRKMAlj6nRStbZWrW38\\u002f4kYm57WSzt\\u002frD9WV9n67PvzKRTbrkweNyPB00fw2kO\\u002fKBVqhNBf352MTw1NGNa9HxgAhyXRKF7N+v3R8Kn3h4zXH8loL0UIfZBwf7wgmMjIAHBy7Y0dnY89A9y6vrT1w13VhXUIITqLtvbbhzAMQwh5h9yqCovjeFuDEBIsYE217S\\u002frsysmLd7X5QMWLanrqxpdm1RxQSQ\\u002fhBCZQvbovakTezJkEsVrXy+3dY4VMyRo8cNj\\u002f9hwHOnrnXy8f9Oup216RwCsaJxn3JmmnO9LDpNJ5OVBYxBCbUoJj8qC7AoAC4nbpZ2PmZzb1efLblbt+PKA\\u002fvEDby\\u002f0Cb2VV7G5t6sz6McKO5GMvCWOtEL5WbHyBkKGF6eAgUmpLpGrbiKEyCReiMe2btkVQohCcuWzZga4bQpwW29MgxdP5H347DaNRtv3qZaZv2o0g3lrRVVZQX3OtXJb3xEAa\\u002fkg4b5fhj0Vyw\\u002faVHTrHZ9NYcAKQQAsp++X6kan1X356M\\u002f6uVlRKWHzn5x6+6Uua6e6XWtsglUv2oIjnQ6X93JJUW7tPclv6\\u002f8rzq9DCOE4Pnf0h\\u002foju\\u002f66ZOS9gP3pcI0WV5txoVJzKy9h04eTSQIzWggI7d6tdfFE3oa3d5nRlEkYTFp86u1hwQvH82x9R\\u002ftorGq5eiTr6pGsbksm7QnX4Z+\\u002ftOPF5d8\\u002fv\\u002fTbfVsvEhVG\\u002fxbF8\\u002ftu6GOvxizUP43hBzQrO9pUkt6vAgD0juvK7nwsl9xakPvv1weLb5QjhChU8nPfr+669lwuvb1ol+ty+1pk\\u002fBAhhx7fJjvixVneyzmlRQ36By6unPAoH4RQXXWbXHZrVcvQERFG3gvYTmHH3pttW1U6sR8rNc51uRs9EiGEI92\\u002fFcuYZJdZgT9a0LaZH+ff73320D9Xt2483t56+7Ph6H\\u002fXfQLdlq4Zb0E8fYtKCLhypkD\\u002fuPBmtU3vZTelmRXDpiddP5atVmloDCohMVSXNTXVtX+27dGm2vb3n\\u002fpj1r3DCQmj3yNh2Ey\\u002fofrH9waPvdRSuKFo\\u002f5uDl5AMfQW3kfLW9qtVNTfrGiva2us6xB1yhUKj0eE4i0pl0qgCBt1fwPcX8MM9XJP8fSM83OwZGwBmcPe9XfWqsbLZO9ijtqThj\\u002ff\\u002f0x9Z9vKc4MF31E1srGzpfOziLej6krEJFo+ewqbFVLZ\\u002fFCh4ntJDR0Vp4a0Ea9TEGH1+15lyhUR4+Qe5GbwK2E2d7Nr5xk\\u002f1j8vEx8vEx4M4Y8J4U2qklyXq+kD2SDPapFOC9Q+kyis6XEbCWL2ebgCJTJqxdNiE2Un\\u002f\\u002fnxm5+Z0\\u002fcRzhNDv3xyzdYLF7\\u002fJto66q1ab3sicyhUxscS+lQs3hMeRS5Rev7HjinXkERjJwJLmEvj540Qe5\\u002f1RJm2f5DQ3leLMpjLt\\u002fCEI53gYuNl27TL7jRvbOrLyKNsP74IqVSrFS2SSWFDXf\\u002fs1i02jDQwKmREdMiAjlMWCdI3BEMWmRnY8Lr5fHjxn01WO\\u002fqBRqhFDwYP+lL3ZfCF92s0r\\u002fwD\\u002fSh8O\\u002f4xPQ2ASrTX5cqalGCGFYj8P8JYX1+gfjpsbpH5QW3Doy\\u002fv9HAIHyhP8ihBJcVwjoIaWiwzXSy5WSs5WSswghDJEGCeab0SadGkGnhCg15VqdsKbt+QDXrzHMnPdNJot2\\u002f9OT71k49MvX\\u002f826VIr0+2jaGJN1+4dZ0mXfA2AVzfVClVLjH2yg+Bmwuvsuflkja8ERXiCqKRDV9HSa5YVG5Wr1jxeu\\u002fnrpulytMfVaqUp1vLD0eGHpkiFx66ZDbRTgiGLSIugsmlKmQgil77zM4jCyzxUghDAS9tz3qym0O7KmkqzK5ppbXyHiR0d3a8rYOViuzEkMSkiwy+vkHrooVCqNft5VaKR3bOKt0hE5mVUIIRqNMnVuspE3ArbTosj3ZiYmuz8Sxp08xe+LWYE\\u002fBnFG00gcAS14ou8HfFpg300Y4i14Xf+gQ7avuGGSULYLx01+59Xz9BV89OtDT7w1p2vqYzv9MqlSyJQX9l7Lv1xMdCAoMNxr6WMTXlv1c\\u002fn\\u002fv3oB2ymXNKp1Nl8aklPfOPunPzelXzYju+pqcSJ85QYOis6iTbl\\u002fjP5xUUb5dy\\u002f+qX88\\u002f8mpUSlh3U7++9O9nY9nrO5ex9GEMg0C5mgM9bh4vjCnVqPWIoTmLbtV60ij1hbl1iKExk+L5wtMHjkCVrco5F+sS0rtwYiZ6PuR5c3ymFN9BG\\u002fXC99DCFdqyqtbn6onvydgzXNhL2BQTd7gE8OwmcvSUkZH7dpyzvLYelf+\\u002f0FthBD3ro3QndSEpSMRQiNmpxAdCNJotMPGD5JJlEd3XlvzmoECs8CKjk9YZ\\u002fNbFJau3XVQqbEotUIIRXt5xPl6WSUkAGxh4bPTj\\u002f5xVt+JpVFpEEI+oZ4PvL2w22l7vj3auanO0HsSwhODu51gQoLVS3aFEMrJrEQI8QWszvHBorw6lUqDEJq7dJjxdwG2Q8ZsNeXZnfswi5ZYJ3xTrspBCGm0zS3iH1vEPzKog924D7iwFvYysmyQt7\\u002fLY6\\u002fb9iNZrdJ0znBHCPHuXP0BLLf9u5M5V8sVMtXqV2YQHUv\\u002fZ+saDceLSp\\u002f6d5+254F7No0W5+vlymK5sBhsGk2iVAnl8pKWtorWdpX2jq61xYmxNg0VAAt5B3s88eUK\\u002fSaDnUcKrpYERPmy+SyJUFp0rfzQb6cvH7yhf1XgwXvu+9V3t4PZYaYL4SRSJYVCYtCJWVHlOGSa5grJ6TrptTZVqVzTjiMdncTl0wL92WlR\\u002fNl0Ms\\u002fgVS1tkuVP\\u002f\\u002frqE1PHD480eEJXYsXJNsk2seJ411FCKtnHx+VdPtPk3ZptavsPp7Z8fbTz6fhZiS99uoTAeABwWIVNLYs3\\u002f2VwWJBJpSwdkjB1UES8rxeZZGDOiVany6ptOF9edaq4LKe+kUGhnHv2EZjhbtC11opHL\\u002f92b8jwtYPusfW9mpVtNfIGhFCiYBCGYGlnd6U3K58Y\\u002fqYxxW5cvPjv\\u002ffd85JCQu1\\u002fq\\u002fwmWVqv7YMOh5LjAGRMH9Kh\\u002fZutvmW2bdbjhWRoMsstU\\u002fy9d6QZKabz79YHoMO8ls0yYRafRtXXI9rRJtinU+Z0HPXnPePFfNDVsG9n\\u002f16Vv39\\u002fb9Zfn6XfnTVucSmBIzkUsV67dsj8hyAchlFVZv37VbNaA\\u002fwLTX6m12vm\\u002fbCtsarn7pQUJg58bP9KDY2zvb2WbsKi5ZXJUuFUD7CeaFeKXMv5+J2Hu+oLjM\\u002f0SxnsPsuntrrRlJbvEZQnz4vhRVBL88t5Bq9E+PertkqzKPs8cPmvI41+s6LajTqf+v1XO3\\u002fuuTx03+NrNyjah1FUwcIeBXBkROlxLITH8WEM9mfFcqg+O4x2qyoKOXTJNq0LbfrL+zQXB27C71j28\\u002fazJ4zsUkqsbZ5UbZ5VEkd7Q8aFclY0QahJ9w6IN4TInWufPY5bmho7sK2UH\\u002fr6cl3HHbw6NQR0+MYaoqJzUqOjgleOSEUK\\u002fnb5OdCzAhv68lnl3doUh9MLE0Q8PN22qX5CrIMhVYLXI+hcPBnfziNUIoS+Sl9rnjmSMhGHGLnQbUE7\\u002fc0mfXWEk7LMjrzVVt17an1F8o6K1vl2nw\\u002fluXA9\\u002f18RxMaPmDY1IMtBx1an\\u002fJ1hNLeLlc4fSqOScwroxwwZusdNA9oix3m8GccZSSIyuxwe7LN5duVKsrhOpahpkN3xYt3qqCksbn3hz+\\u002fFtz+ifllW1rFj725kdz5HJJvxCchijwxj7qloeFsmPIYRaJD+anWA9eM\\u002fn5l2op1ZppCK5XKYy+OrUhUMFbhxL2gegX5Kr1d+fv3r38efGjzQ1uwK921V1fXPpOYVWRSNRHo0cP9M\\u002fkeiIBq6Jy0YihH58eduEpSPiRkV3HjFV\\u002f0+wcIQjhBRKDZ3W\\u002f\\u002f+wvcLCeAbG9akkVrzrffoCpK3K4s4EC0e4VmeFfScxRPEWvKlPsGRK87s66m1WCNQvyP3+p6Akj03UdohKW9oQQqNCg6CEtzPan1vYLutezWSIv+\\u002fqEUMJiacfS3YLGe89SEBjlUmaV5z\\u002f0dYJllKnutKWVSatjuUN3H6HXkxcNnLYtEQqzaLB0\\u002f6fcwxLCvnuj7MyuerpVbYtC+68XOi3ansotWJbtE+nhCBEQkinwxU4rsZstpjRDG6evLe\\u002fXcFxqhoNZSWN1y+VMVm0lkbR8odG0xz4m0N+Q\\u002fP4iJBzZZVqrZZOcdw4QU\\u002f+yzKwR+c70yaQIV22tgpJ85ay8ziOYxgSqxVaXEe25fjdaPehCKFU1wTb3cLZcSyeU9T\\u002f3\\u002fJGJIcOSww2aWBroKGTbo2O4cjSCjcGabTNCOkQQmQS16Gyq2HjBz33wYK7CzS0Kq4zyJ5sagAhUfVJ3CFPGxUREOx+4lC2VqNDtq\\u002fJiiMklMvpFAqLavI\\u002fH5lEMrg7PXB8HQpFZk1dt4OJfj7RXt03aAcWEqpkL1zf\\u002fveYx0M4Hm1K6fhjHxMdEbCC\\u002fp9gIYQgu+rUoiiskV5oU5ZINI1KbYdaJ9fiSo1OaUGTOOpriW+L5Bf9AzY9zYIbWY2nr2DIiIhZ9w4PjfYxeAKPFlEh+idC8JCdA7MEjvAP8jaM9kgd4Za8rWqPF919qs84azUuU6m+OHd+eGDgjKjbpTrOFVSI5UqEUFZl\\u002feLh8da6F3Aclyqq7y58tThpQC\\u002fHthGpRokwzIPBRQjtqLxCdDjAOgZEggUQQkJVxbnGT5rk2V0PkjAyGWPQyFyltqPb+SQMQ13eWvXlPO7uiqhpexHHFTzmNDZjOIXk2u1VtbaxWbSxVbJZ\\u002f9SNY6AUm5GeWWfOVomdqFQyi8Pg8pl+IR4uvc5n1+GaYuEWuaauQrQzmLfAkpvaWbJL3A+l27aU\\u002f+vJcJ8Ybs6UzJ6IlcqZUVH\\u002f5OR0JlhcJv3nR\\u002fv+y5Gr1ccLS\\u002fMamoYF+fd5MnA0OfVNdx9MC4Z\\u002fSuvzY7ksCUqdf3oDm0KfHZAUwOr+XmpdYnVHvaImkmvyThvAJJBgDQhidf3+qkdVOglCyI+VGsa7x50RxaZ4UkkshFCbsnh35apul7gK2GqNtrO2RV1jh6uARSJ1T7B0uKxDtlco240QopJ96NRQMsbHMKoWl6g0VUp1Cfp\\u002fmubJe5rDMP9Tf+pCO02qrZbso5H5Ma5PZTS\\u002f6aqK49H6Lq\\u002fqCFRaVYOiBcdxpU4VxgnyZxnunDNPTmNTjahDpDS5p3NWbDRCaFJU9w28gFMouqs6g4DJ8BfwCQmm33s+ZurzMVP1j1eFjbbdjXS4LkN4yZ8ZjCMcSozaFCRYA8KN1l\\u002f02VWi26ohbt1HvnSG9mZ2d+VEhHh+8+upx1eMkSvUm\\u002f+5OGqogfKAXedUqbX1aq2BbX3JJIGP4HUX9jKL\\u002fgz20q64GSFYhRDyZo1pVWQ6ZoJ1+liuixunMLd2xNgo\\u002fZF6RXO5tOqj+JdblG2fFnwfz48e5pZkrdtVdQiNKGgM+pu6DlG3I4N9YA9Bp3em+YgXw1eDa5wlu\\u002fp510UdjkcEeIwf6mQLHiHBGhAaZDcQQiSMkuB6392vStQNdx9ECL333Kwvfz6+4tnf6HTqiOTQx1eMvfscf9cvBKw5EsUFhTpbpanV6FpxXI5wRCKxKGRvJjWGwxjLZ00nYU5T4lX3\\u002f3WOJETV4WqiwzEgITk4ITkYITRz\\u002fu3y+sFs\\u002f\\u002fdin9c\\u002fmOI95u\\u002fqfVZMsB5MTtbqdKtTTKjmD\\u002fqBJom02xEPNouQSIAVBbJCbwqvjfSYQHQgRsFxNGRQQH554+Awb6JjMRkkWAOCGpcjhMgYlYwZ2AKsTHzC4FUBvi5fvbWo95YxROEyJnAZt39XNbrWwrqRCJHDvfaSMOer3smhBYtUhSyKT4eqyJXhNHO3z7Vc3VlzqFHR7E53S3aJrZbV18jqrThQaHCbOdC\\u002fiRXdB4U5sIeg8wvjRAWwgnfXbpvps4hFcfS3aLVGU93QHuzj8sr6fb++s5zocEwDCdaAwKX6KLUitU7erMjzYNyxJ0xBx+4KyWkr3qtJ9I0Ol3jxnnPG7AohFMSdn9H0Rr30FI50UcyHiQ7HKDkdRd8U\\u002fTrOc\\u002fjqkKUijWRb5W6EUIG41LozsUC\\u002fVN8mKq9vQwilxdxRDFaH45q7Sg1z6ZBgOb3sjoxWZRNCiExyggSAQiFTKOT88kaJXKnT4XfPA3ZkTvD3CywXwp3YoihECJ2oey3B9QE3RgQJkTtUVSXio7XSy56MwS3KIqsMh2l0re2SbQihpo71SnWpr8uHZJKTTYmlk12H+3yrw1UkzPYFpqxkb91RP6b34+H36ydV+DA8X8z6QKjuPoEGgLsVVDWPiQ+5mFep0Whp1NufCLq7CjQghKC+aD8Qxx+i0qloJOd4fzuYnidVqFbPG36jsBbH+64K5FAgwRoQYgSLaqWX62TXZZqWi01fdH3Ji5kwxe\\u002fTwzVrmxUGSjabikJyi\\u002fa92i79p7HjU6FsD0KkALcNljdrf06UXSGEauWNMbyIzimrwWx\\u002fOommw62w0xEYCMgk0t0bGVFIJBKGdUuzJErDu3kC5+Is2RVCyM+L\\u002f+uey01tYrnSEWfE9g4SrAGBjFGn+H1Z2LGnVHS0XVWuxZU0EteVHhrCnRjJn4khkidzsFUSLIQQmeTizn1Eq+toEn0jVV60Spugd2qdmtTli50W16l0ag+6G4EhgX6AQaXIVHd8qolNL9UxoMhkqoqK5vKK5qZmcVurpKVV0tYmEYsVKrVGpdKqVBq1WkuhkOh0Ko1GptOoXC7DzY3j7s71cOf6+grCQj0DAtycaxTM1pKi\\u002fL94zodCNvAdwPFBgjVQkDDyIMH8QQLD5TqHeTwzzOMZa91Lq2vXp1Zkkou12gS9CGEHFEvKO6va5ItKEELR3FCi4wJOQKFSn8osLaxuSonsXkHUg8OubBN2PXL3xs+gsrLlekZFZlZVSUljY1OHoZHVO6jVWrVaq39c34BQ8R2v0miUkGD32NiAoSkhCfGBdDp8RiMahUx0CGbC8D5\\u002fHAAwjlR5pbr1CYSRNZoG\\u002fbaGAa7fCNjOVAzdSRWIS9\\u002fJ+XKsR9pYzzSRWvxH5a5obthTESuJjgs4t\\u002fv\\u002f+OdyZU3XI7587umnzN+Pod\\u002fAcXQzu+rY8dzLl0tb2yQ2uguNRkmID5gyOW70qEhH3tMd9AQSLGA1MtWNiub7dDopmezCpCW4cVZxGQZKZwFbyO4o+Ktqb7mkmkVhjHQfel\\u002fQPBrJgfbVBs7o3cMnt17L6nbw8nOPurCYhMTjCFrbJHv33Th6LKexsfv2YrbD4TAmTohZMH+ovx+MCTgTSLAAAAAY8G9m7mv7j3Y7+O2i2QNz76OmZtH2vy8fPJSlUhnY+sIOSCRsyqTY++8b6eMjICQAYCpIsAAAABhQI+yYsPHXbgcnRoZ9t3g2IfEQRalU\\u002f\\u002fb7uZ3\\u002fXdNotETHgshk0sIFQ1euGA3TsxwfVGcGAABggL+AH+bu2u3g6eKyRrGtZh05oCtXy1Y99PPfOy47QnaFENJqdX\\u002fvuPzwml9uZlcTHQvoAyRYAAAADJsbN6jbES2Of3TsDCHB2JlWq9uw6dgrr+1osON0KyPV1LavfX7r1r\\u002f6Tx2cernwfHPx+eZigxVuu1FraiSKUxLFKYQcutofJFj9X0F70095l7cW3fgi84xSS8zsAQCAM5qfMJhO6T4UdTCv6EBuISHx2I2wQ\\u002fbCS9t37b5OdCA9wnH0y69n3v9wr1LZH97V8zvq09zDdDiuxu\\u002foKSy8WnJhz9Vz\\u002f11urmntPKhQ57AZoxHCcWtsQGI7kGD1f0KVYoJ\\u002f+L2RSWF8Ny1U9wYAGM2Dw16enHD38Vf2HT1aUGL\\u002feOyjvkH42BNbsm5WER1I306eynvx5e0KhUPnGUYiY92riVYX1NYWN9QW17fUtp3cmt71JQxRHH\\u002fbHEiwAAAA9Ojx0akeHHa3g0qN5umd+zelX5arTes+qesQb7583ZELltY3CNc+v82eVRgslJNb89qb\\u002f\\u002faPfqxummtam6paqgtrqwpqOC4crWNMgzMeLEMAAADQIz6D8dGsKY9s391tcowOx785c2Hb9ayH0pInRIYGu\\u002fZYokmkUGbW1l+tqr1YXnWzrgEhNCUqwjGLaTU3i5974a+mJifbKD0zs\\u002fLt9\\u002f77cN0i591mR6FVn2zILxDVp7iFdB5MHB\\u002fb3iD0i\\u002fDGdTiDTSf\\u002fv6S7DpeL5YcVqhw2fQRB8RoFyjT0f5caqzyY7DCe2+7ynCkBkSyK02zzCQBwEJsvZ\\u002fQ+t92Hx43ydHdhMQVMJpmEyVRqqUpV2yGqbBM2S6TdTj715EN+Ap4t4zWHWq19eu2fhYX1RAdipmVL0x5+aBzRUYDboAdrQNhfke\\u002fOYGe11k0JiCQ6FgD6lXaVlENhUEnOul2akVYNG6LV6T49kd7TCfUicb1IbM+QrO7r9UecN7tCCG3\\u002f+1LsYP\\u002fhaeFEBwJugR4sAAAw3422yqut5Y9EjCM6EHs4UlD8+v5jIoXSwnYcsAfr+IncDz\\u002feR3QUluJyGb9vXsPnO+Lw6wAEk9wBAMB8cq06hONBdBR2ck90xP5HVsyKjbZkpg+GkLWnCuE7Kp\\u002f7Kn\\u002fKV\\u002flTjtZ\\u002fYcb1Yoni2+9OWDUkYojFih9\\u002fPkV0FOAW6MECAADz5Qprv8w\\u002f8svwB4kOxK5KWlr\\u002fvJp1IK+wQ64w\\u002fqpgV8HMwdHzE2L8BXwrBpPZvudUw6b\\u002fP8PmB34QxE4xqYUvvjx04FD3ba0tFBjgFhnpHRri4enJc3fnMpk0Op2C40ipVIvFiqYmUU1NW2FRQ15+rXWLLGAY2vDNiphBvlZsE5gHEiwAAPFw4VO44gjRUfSI5PoXoiX39Opjl7d8N+wBe8bjILQ4fr2q9kZNXW5D0+H84q4v8RkMJo3ixmIFuPADXQSDvDxSg\\u002fzvLvdguXp5\\u002fj+Vz2txTZxgeoe6oUqawSTz7w3ZxKV6GtlCRUXLQ4\\u002f8bK1Pwuhon2n3xKcNC\\u002ffw4BpzvlqtvZFZefjIzXPnizQa69QpTEwM+vKzZVZpClgCJrkDAAAwBxnDUoP8U4P8W6WyMyUVcrUaIUTCsP1r7g93d7NDAGJ1096ad7S4Jt5lxkTvpzU61Z6at6ukGbur31oa\\u002fBWVZNRUpL+2X7RKdpWSHLLygdGmdh1RqeTUoaGpQ0NbWsRbfj936MhNnc7SaDIzKwuLGqIivS1sB1gI5mABAICZGuQd6wuOlUtaNhQcb1E69xo6S\\u002fxw\\u002fqo+u0IITYuJtE92hRDaV7tOrhGO8Fg50fsZhDAKiT434P3BgntalGUnGjYY00JDY8fJ0\\u002fkWhiEQsN5+c+6nHy+xZGDO3Z37\\u002fHPTNn6zIjDACn972\\u002f++ZHkjwEIwRAgAIJ5TDxEOcI1iyaRNm5UaDUIIQ+jAoyvslmBZ7qefT\\u002f9lWS4SFeWz7p357u5GDQgaQy5XffjxvvMXivs+tWdkMmnnjqd4PFhOSCTowQIAAGC+TemX9dkVQghH6NG\\u002f935+8pyz1MQ6ZVn3VXxcwFefL7didoUQYjJp770zf8rkWEsa0Wp16eeLrBUSMA\\u002fMwQIAAGCmGmHHv5k5XY9UtQt\\u002fvHD1j6s3Xp08dumQeFsH0Kgozm4\\u002fUCO7KdG0IIQ4FPdA9pAk17kuNP8+r83Lq22wYM\\u002fBoCD3jz5YxGBQzW6hJxiGvfTCDLFYcfGS+TtqnzlTMGOagY26gd1ADxYAAAAzubCY6xfOXJwUJ2Ayuh6XqzVvHTzxz525l3XhSHe68btt5U9mCw+2q2rUOoVap2hX1WS17\\u002f297OGrrX\\u002f32YIlfTx0OuW9t+czmbbaeYxEwl57ZZavr8DsFm5kVlq3AAQwFSRYAAAAzMSm0SZFhr0\\u002fY1L6Mw+\\u002fPXUCj0Hv+uqnJ9I7J79b3cmGDTfadiGEu9IDx3s9vjDw0wWBH4\\u002f1elRA89Xh2nNNv1xu2dZ7C9nZ1Wbf\\u002fd7lIwICXM2+3BhsNv35tdPMvlyr1RUU1FkxHmAqSLAAcEoidWOF5GqF5CqOYJ0KIB6dQrk3JeGfVcu65lgdcsWlCvOTmF5USq\\u002ffbD+AEApiJ98X8l2i69wAdmIge8gQ1\\u002fn3h\\u002fzgx4pDCF1s3tKo6HGquEqlKSpuNO\\u002fuAgFr8cJU8641SVJi0KiR5m8gm5sPCRaRIMEC4JY2ZWl2+18FHbuvt\\u002fykxVVEh9OHZkVpIHsIjnAtDqMAwFGEuLksTLxjdnZVu\\u002fmTnHpxvfUfhBAJo0zxfZ6M3TELikKiT\\u002fF5HkMYjvCrLdt7aqGwqEGj0Zp393lzkmk0O81gvnf5CLOvzcurtWIkwFQwyR2AW5RaUSB7BJ8WVCo6osO1ZOvulmYDJIyMIYeP0jgYaxViTCU6ip5RQomOwGnQyOSuT6lk63+N1+iU1bKbCKEAVjyH4n73CQKary9rcK0sp0J6VYdrSJiBT7rKyhazA5g0cbDZ15oqKtI7JNijvKLZjGura9qsHg8wHiRYAAAHQBvST1LFgU2uVh\\u002fMu2PmuC+fZ\\u002fW7tKoqdbgGIeTBCO\\u002fpHA96WK0sR61TtKmq3OkG8uP6eqF5dw8N9fTxEZh3rXnGjo02L8FqbOzAcYTBrxZBrPDdQqRuKpdcK5dcg7kgANiNGleUii\\u002fUyy0tQm0tWp3uak1ti1RGdCDATnR3FqmWqzXHC0uX\\u002fPZ3Vbuw8yCTShkWFGD1Wyu0olvtk3vcNJpJufWSXCMyeEKduQlW7GA\\u002f8y40W3ycmX+HarW2rU1i3WCA8azQg9WoKA3jpFZIM7S4moLZas2qA+o2\\u002fWVA\\u002fdkB4aJ5ExBCYVzz52dY1\\u002fmKqn35hfdEhk+KCCM6FmAPv13O+O7cFS6DTiFhUpW6RSK9+xv2A6lDmFSbjpP0+K3+9iYlPXTgNDcbTrz6FBFh7z3+Ii24Y1OzyM2NY8VggPGs86Pfn+aCGK9Cch1HuP4PXivPH+VxP9ERAUuViU8wKa7N8vxAzhiiY3EmBwuK2uVylVYb4Tx7pAAL4Qh1KBQdCkVPJ4wND3lyTJotbs0kC\\u002fQPZNoeZ9DL\\u002f\\u002f8Sk2x4jFImN3Mhi7dXj91mNsJi0QR8lrDDnO5hubl\\u002fTGA5mINlkWD2EBJGRghpYCWX8\\u002fNhJfmwkhBC0fy5RMfiZLIbGl8eN5roKICj4NBpa0YMXT08hUyyyUJ1N3owBaNrcGWzosdC502KEoQQBaO70gyPrykVGvPu7k5Eh5DAxcwES6k0848JLGeFBEutUxSLLzYqSgLYNt8VwaG40QNLJVf0j9W6Hr\\u002fGAdDvpQb4f5V+oaJdOCo4iOhYgJ34C3jh7m71IrFCraZTKWwaLUDAD\\u002fdwGxESOC48hEWz\\u002fgYyncgYJZiTUiI+XyO7KVY3c6ke3U4Qqur00xODOEMMLiFECCmUZn4rpttgb5w+mb0hDxRzJ5AVEqwY\\u002fniEUAR3uOVNORce1ZNH9SQ6CgCINz4sZExIkI26K4Bjuic64p7oCKLuPtRtaan4gg7XHq3\\u002ffG7A+11LYWl0yqP1nyOEI4SluC3uqQWzi2AR8nOO68xcQ6bV6qwbCTAeDBECAKwAsitgT97MqDSP+y42\\u002f1ElvfFH2ZoEl9nu9GCEULOyLKt9r1BVhxBKdlvoy+yxYBWVSu7ppd5JpAoPD65515rN7I4oW+xFDYwECRYAAADnk+Z+PwlRLrb83q6qOd34bdeXMISluC0Z5bmql8vNzjwkYgImhLS2Sc27kMWC5e2EgQQLAAAGNI1Wt+rp3yprWt99cfb4UVFEh2OCVPdl4dyRme17KqUZEnULhmEcinsAOzHBZZY7PaT3awV8Vl2d0IybmjfZ3BISiUIiMTOrc3OFGg2EcdAE62BOIYVEmhJD2AA\\u002fAAAMED\\u002f8flYsVUwdP\\u002fjLH47FDvLzcKqySa70wAneT5lzobmZR2lp02j7pqHFJWZuSo1hmK+vi3WDAcZz0GkTSrVGoYbFpQAAYFsXr5WdPl\\u002f49bolrz4zfeLoQW99uofoiOzE19ztboqKG6waSN9ycmrMu9Dbm2\\u002f2VDNgOYfrwSpoaP7kyNlmsRRhaFdm3sv3jIn27r4EFwAAgFUMTwn95+c1+sfPPjKR2GDsKSDA1bwLC4vsnWBduNRjua\\u002feDY6x964+oCuHS7CivT02P7Bg141cMok0O2EQ0eEAAEB\\u002f1twq+eH3M5eul8sVqrAgjweXj0pL7mP2Uv8QGmpmkZ32dmlpWVOYuZebqr5BWFRUb961CfHW3wgSGM9BhwiD3V2C3ARERwEAAP2ZSKJ44pWtuYX1j68a++6Ls329Ba+s23k5o5zouOwhPMyLQjFz+OxseqF1g+nF3n03cDNrYKEhQ4KtGQowkcP1YOklBfgSHQJwRCqt9lRV2fmaqoLW5mpxh1illKvVdAqFTaW5M1mhAtcIF7dUX\\u002f9kb1862UF\\u002ftgFwHDt2X21ulfz57UN+3gKE0MjU8PLqll+2nhs2pP93YlGp5MhI77y8WjOuPZteuOoBe+wNJZUqDx7MMu\\u002fa6GgfH2+BVcMBpoEPIeAcFBrNj1lXf8y8KlF137tUplbL1OpmmTS\\u002ftVl\\u002fhE6mTAwOXRA1eEJQ2IDbhBwAo13JrAgL9vD7\\u002f8cwhqH4Qf57j2SqVBoarf9\\u002fOgxJCjIvwaqsbCkpbQwP87J6SN1s\\u002f\\u002fuS2NwCDRPHx1g3GGCq\\u002fv8rBPqBWrFoxf5\\u002fS4VtRp6v1GoOlhbltTRNCAqzaWAAODVhh7yhqWPMnM+6HZfKlAMhwRqaHPLn1gvmXbvzv2svvzjDuvF0U1PT9s\\u002fOq+ZdS6dTJk2MtW48wFT9\\u002f1cIODuxSrl4z\\u002fZasajbcRKGsak0CokkVik1OgP7bS2LSYDuKwB6weMyeFzGEw+O73acw2EQEo+dxcb6C\\u002fgs8wqHnjiZ9\\u002fBD41xd2VaPSk+nwz\\u002f9\\u002fKBKZWa5oimT4\\u002fh8pnVDAqZyxATrfEt6g6Lei+E1yn0s0bEA4n16Ob1rduXN5jwYnzwuMCRE4EIl3Zqj2iKXFbQ2ZzU1nKkuz2io0+h0VBJ5UVSP25ABABBCqUkhew5nhgW587gD8cMYw7CRIyMPHMw041qNRrt77\\u002fUHV46xdlC3\\u002fLL5TE6umeWvMAxbtGCodeMBZsBws9cn2Mal1gscCsefFVgsLqCSqImCZKIjAkRSajXJv33bOe8qwsXt33nL+PTevl4LlYoDJYUtctkzKcPtEiMAzkokUax5\\u002fg8ajbJwVrKXB7dDJM8vqudyGKuWjSQ6NDu5mV397HNbzbuWxaJv\\u002ff1RW3QUnT5TsO6D3WZ\\u002fOE+flvDCc9OsGhEwh8P1YFXLKrlUXpWsUq6VIYQgwRrgCttaus5qfyZleO\\u002fZFUJIQGfcOzjB4Ev1baKyhjaE0PBBQSQMxg\\u002fBQMfjML7\\u002f7L5f\\u002fzr\\u002f2\\u002fYLbUIpj8MIC\\u002fFcOjeF6LjsJy42wNdXYN6mhDKZ8vc\\u002fzz31xGTrhnQjs\\u002fLDj\\u002feZnV3R6dRVK+2xwhH0yeESLAzDamTVc\\u002fzmX2m7qNAqiQ4HEKxZdsce8sF8i\\u002fbVKqhpHhMbcjG\\u002fUq3R0qkO98MPgP3xecy1ayatXTOJ6ECIgWFoxrTEn345bd7l+\\u002fbfmD8vxc96+\\u002f1l3Kh4\\u002fc2dGo3W7BbuXT4cNnh2EA5XaBTHcQ6Fc7rpRIuyxZ3uTnQ4gGAMMrXr0zJhu4UNkkkkDPquAAD\\u002fN2N6Ap1u5tctjUb3\\u002fQ8nrRXJxUslr73xr1KpNruF8DCvZUvSrBUPsJDDfYn3oHt6MDzD2BFaXMum2GqBBnAWUW53JNnfXLswJjBY0NcoIQAAGInHY06aGGveVHeE0PkLxWfOFowdE21hGLv3ZmzcdEynM39WNJlMevGF6WSyw\\u002fWbDFgO9y8x1nNCq7JlX93uU03HiI7FsHpF1enmfRdbjx1u+FuDm\\u002f9VAxjDnclK9fHvfFoqbJvxz+\\u002f7Swt1Zs1QUKjUp26W3qwwc2MvAEC\\u002ftHTJMBLJ\\u002fI7t9RuPicVmlgNFCGk0ug2bjq3fcNSS7AohtPrBsRHhNq99CozncKsIHV+pJI9L5XvS\\u002fa63p8fyh9JJxvamtKpaGuT1CKEYfiyGYJTKWFfqa5bu+btbRhUicHkgNmlB1GAujU5UYACAfuODj\\u002faeOJln9uWTJ8W++vJMMy5sa5O+u25Xdo6ZFRk6jRwRse7dBRY2AqzL4Xqw+rFqWeUgXowO6TQ6M2vHDUypPv6vpHUvNlMubH\\u002fn3MmhW7579viB8zVV8C3BkeEIb1dJq6QtxeL6YnF9lbRFqJLiCP7RgAN54P5RlgyuHTuec+58kalXXb9e8chjv1qeXfn5uti6rDwwg8PNwerfSBiZBEmt6R5JHBrCd3n97LGmOxcVKjSa3cX5u4vzQ\\u002fguy2Lilw6K59GhQ8shtCrFF1uKr7WVFonqK6XNal33VVFUEjmA5R7B9U52DU3ziPBmCIgIE4Bb\\u002fP1dp02N338g0+wWPv38YFiYp5H7K2s0ul9\\u002fO\\u002fv3jkuWjyHxeMyPPlw8QIrvOxcYIjSZ2UOEmcLriYLk3I7sSG40lUTt+wJwJ6la\\u002fVPm1V9uXherDNfv4NLoK+OSHkkcatNxw9yO2uXp3\\u002ff06mjPqI2p99nu7o7vWmvp1opzF1uKdbiB\\u002fYsMwhA2xDVkcdDwcV4xMHoOiNLaKrl\\u002f5Q8Khfkza6OifDZ8fR+FQu79tPKK5o8\\u002fPVBc3GD2jTpRqeQvPlsWO9i\\u002f71OB3UFvijkyhRcvth4rkeSYdJVKp8oUXi+Vltgoqn6PTaU+O3TExfvXvDFiXBBPcPcJYpVyw\\u002fVLE\\u002f\\u002f69Wg5\\u002fCUToEra8vjVXx6\\u002f+sv55kLjsyuEEI7w621lL9\\u002fYet\\u002f5jTnCattFCEAv3Nw49y0fYUkLhYX13\\u002f94qpcTdDr8r78vPfr4b1bJrshk0puvz4HsymFBDxZwSjhCF2qqtuffPFJerNIaKMr3ctrox5KG2eLW1bK292\\u002fubVfJhCqpUCVT3jmjbsD2YO2tuf5p3h6VxfMLSRj2UNiE1eEToCsL2J9arX1w9c+1dRbV23v1lVmTJxrYCLW0rOnzLw4WFlkhtUIIkUjYG6\\u002fNGTfW0vIQwHYgwQLOrUOp2J6fvSX7Rp1E1O2l7+6ZPS000tYByDSqI3XZ79zcrX86MBOsTUVHtpSdsWKDU30T34lbSMKgi50YWlyF43fkyhQSi6hg7Ox6RsWLL2+3pIW7h+2USs3vf57b8c8VrdaEnt1ekEjYqy\\u002fPmjghxiqtARuBBAv0Bxqdblte1meXz3WdnuXP5Z9e\\u002fhCFZPMP6ZMN+WuvbdM\\u002fHoAJ1k8lJ34qOdHTqywKPYTt4ULjsCl0FoWuw3GZVinTKFuVkkpps1yr6unC2f7Jb8TCsnNiZLd+x6MFdz5tlF9N9XyLuHDs7eNP9x89ZtoMkG4EfNamjSv0E94vXS7dsPFYfYPQKrEhhKhU8puvzxk10ubfHu1Po9OdKS335\\u002fOjPPvDPi6wihD0BxQSaUVs0rjA0IW7tnWuNKwRd1ytrxnuF0hsbM6rVSnO66hFCMXw\\u002fdzoXIPnnG7MvTu7omDkoW5hE71jU93De1keiCO8Xi683FJ8sjH3Wmup9s5pW3trrsfwA+YHpFr6xwCmY1E8g7jTOp9qdDICg7G\\u002fxx+dePVaeXu7tO9TeyDskL32xr9vvjZ785b08xeKrRgbi0V7\\u002f90FiYlBVmzTcUhVKolS1SiWQIIFgGMJ5PHfGDH+6eP7O4\\u002fcbG6EBMs86U0Fr2X9pdSqEUIMMvXDxGWjPLrP9hCp5R\\u002fl7u52cLzX4Cejpgaw3Pq8BYYwX6bLvIDUeQGpVdKWDUWHzzTeUelxfeGh0Z7RHnSeRX8SYDo1LhepKjqfKrRtxMVCAB6P+cJz015\\u002f819LGqmsbFm95ldrhaTn5sb58P1F\\u002fbhc+6H8Im8u90JFVbyvt4BpQuEJtU71ZeEaiUbY55lro751pfmYH6IpYIoD6FdG+t+RTomU5u9fMcB9V3xUn10hhBRa9abCI3ef83v52XbV7W\\u002f5JAx7OWbOJ0n3GpNddRPIdv8s6b6XYmaTumzFLdMot5Rac2rXAPfRi3\\u002fPTXn3i9d2dh6pLGlaec\\u002fnS0Z\\u002feP38Hb0s3qxhCm1r538ezCF2D5Zgw9PCp02NJzqKO0RFen+\\u002faWU\\u002fzq4QQtXtHePCQ5L8fMrbTFtncKXtsDHZlYDqwaG4mBmc6SDBAv2KTH1HDRsXBpOoSJxdtay169Maefc+DKVW\\u002fV\\u002fV5a5HnoueuSDQopWbCwPTnh80q+uRfbXXZT3P0wLGq6tqPXPwpkKuOrYno6WxQ3\\u002fw6K7rDTXtHW3SPVsvdj1ZQIvwZCZ3\\u002fY+IkAn25OOT\\u002fP1diY7ilrFjor\\u002f+8j43Nw7RgdhWWnDg9xeuXKmqGeTlYfxVap3yXPOuPk\\u002fDELYw4Fma0aUrLQcJFnBopi7B6FYBK5hvvy8r\\u002fYzHnZOu3O+ag3WuuUCiud1BmOAStCgozfL7LgwcluQa0vlUrlWdayqwvFmAdeka7CyB0XkQimLcjcmkvfn6nD6rhtoamUxa8\\u002fD4t9+cS6f3\\u002fyk9o0ODHk5LeXPKeAbFhD\\u002fs5dZDxnRfjfFcEMS267pLSLCAQ3vk8O7XzhzLaqo3JtO6VFf9xdVznU\\u002fZVNrogP45FdQO7g0e3fXp\\u002fSGju51wtbW069P7QkZb5UMaQ9iKkDu2nrzeVmZ5s8AnwHXc9Hg6gzp57hA3r1vT2qbMG+Ll58JzYc2+zwrJcf8TEe71+GMTCQzAzY3z5efLlyy2SUk\\u002fx0Q2cd23Sqc419J395UfM3yC51JzgzJT\\u002f8+IgVMTKZXHyku25WV5sNhjAoJTffyj3dzDXdzYVJr+BByhBok4q6lhX0nBobIiXZeyIw8npNDJ8BNupgWBw6J4vjfayxFCSS4hsYKAbicUiuo6HzPJtOHuVls0nuoWzqbQpZpbFTeKutwIWOKVz5Z0OxIY5rnl6AuEBOMs5s4ekpdXe\\u002fxErv1vPTQl5NWXZwkEA6UCmXnONe+SaroXQeyGRmIsCniOhNm7MxI+fhyORKlSa7UIIRKG8U1ZRtG\\u002fNcukOwtzdxbeepujkEgcKg1HSKpWaXQGavcN8fJ9MpmwL+U6HP+j7HyNrP31uFl9n+2oYgUBd+dVnerkt2ehBrHdaSSrvZlQSeQgtkdeR83\\u002fbyS0VssAmOH5tVPLyprKypvtdkcajfLI6nHz5qZgMHLbK7G67VzLnj5Pm+v\\u002fhBvdTisHu4IEy7b2Zxf8l5lX2NgsVapCPVynxkQsTYnnMXpLm5b8\\u002fFdpSxtCKNBVcPSpVfaK1MlodDphzysExwaGfDtlth1KjBpUKW15K3NXZnsVQuge39gUt5A+LzGDVKN44tpGP5bbB\\u002fHE\\u002fJB0nYDVU5Uss7nRb0\\u002fmlWpgKSggEp1OXffegsef3NLRIbfD7cLDvF5\\u002fdVZQUH8oBGVrxxu3qXXK3s8Z57k4jj\\u002fKPvF0A3OwbEWh0TyyddcL\\u002fx26UFbZKpUpNJq8+qYvT5yf8PUvP567YrDTBSHUJJaUtdxarhXowrdjvA7q8aTUYb49dqLcLYTvsn7SzC0zFrCpVNtF1Yv8jtpFZ7\\u002fVZ1cIoW8KjtnoRmwK46shazpU0sP1V3s6p7yo4d\\u002ff0g\\u002fsuLJlwzGV0tJdArvpugeEFbuv9ChdOvM1puwbDYAt+HgL3nlrHoVi209MCoX8wIpR3258ALIrYzQoKm60n+z9nMH84RO87D31qhP0YNnKS\\u002f8dPltScfdxiVL15Ynze7Ly3589OSnAt9uru7PyOz+2wjxMLibU\\u002f4wNDBkbGNIglVyuq77RWF\\u002fZIawRd7Qp5AqNWtqlIsPkkPDBbp7jg0ISPAnoB+6qRSnpfDzKM\\u002fKd+Lm2u5cLjbsx5cleThB3yIeNjQ4I8Ti5P9Nam6B1YlJoYvWtL\\u002fStSrF1G29T3f5rZJKJyZX7k4Ks6meXf3\\u002f38dSxUe99u8L+8Tij4CCPsFBPa23VfLfoaJ8Xn58eEmxCeYIB7mDdr3ivC819mKEL\\u002fJ8hcIUsJFg2cbqo7Gh+b9sjlLa03bt5x7KU+KfHj+icaFXfIf75\\u002fLXOc5IDu6dfA5Y3mzMnYtCciEGdR9oU8lF\\u002f\\u002fihTqykk0unlD\\u002flzHau3j02hvxgzbV6gDasH\\u002fVud\\u002fl\\u002f1uSaF0JvpsjRw\\u002fEw\\u002fe68z8mLwOxOsrvOxLIcjvEZ2u+yWJ8Ox\\u002fnHBQIPj6ODhrB9\\u002fOiUW22S0msmkrVwxasH8oSQSTLkyVpbwTLk0u5cTuFTX+4Jeo5LodgvpbpBg2cQP53octemkw\\u002fGtV7P2ZRcuGxo\\u002fKiyoVihaf+qiSHHrF5hCIqUGmzA0NtD8mHlVX1N0TsQgYrOrMknzLyVnux4Z7hH2Tvw8b6YNo9pVc35z2ZFno+ZF8wLzOiq\\u002fKdylwbVz\\u002fUdY8RYyreq30tMZbWUIoWTX0JVh45hkWtcTgtjuJeJb3+ZblOK8jpoYvr9Vbp0rrOnaJRbK6c+lq+0jNMr7m+2PidqlIqFMJJRfPp2feRmKXxilrLz5q28O5+bW2qj9sWOin3hsoru7lWcx9m8KrfRw\\u002fW+9nMCm8FeFvMujEjwKBAmW9VW1C29U315YHu7h9tiYYR4c9pWK6r+u3WyV3rFtqkih+CH9yg\\u002fpV7o1Mj4y1KSdmAaUNrns95wb+sfp1RXvnjv5cGKKL8feO9bpcN1vZee\\u002fKzyp0t2e3pTiFvz9sJW2vvXv5ceXBY2f7J2MEApgedTL234vP2bdBOvL\\u002fP17a271p94UVrWqJG\\u002fEzu96QqJL8ImGnM6ne2quWSvB2lV9x69DimuoVZodyGgMalTc7X8dhUwJCVafNBrt73+c\\u002f+vvS1YfXtfz93N55ql7kpODbdF4\\u002f3as8c9eKosyyZyVIe940K3zdmQJmORufRfLqjof+wl42x5cPCM2KjXY\\u002f8lxw48\\u002f8+DjY4ZRyX1U48AQWj0yxcZhOrEz1RWdPelNMunm7IxJ2zefqSq3Zwxlkub7z\\u002f\\u002f0Tf7RrtkVQohJtnmPtFAlaVeJo3m3Ozij+QFtKnGL0kAxmDOHsw\\u002fsuGLGp2m3+unpd5VTH+M5qOvkhj01V7OFVchi19vK9tdmdD4lY6RxXnYtvgwAQqiouGHNY7\\u002f9ue2CjbIrhBCXy4yPh2EKk1XLiq62GtgaVY9BZq0MecebEWzHiHoEPVjWd6O6vvPxsxNGdi3KwKRSnx4\\u002fYnps1Ot7jmbV9jhZctnQhAR\\u002fgidrO7J5kTEzwqKOVZRsyric19KEEJKp1U8d33\\u002fu3kd4dHuMuGtx3WOXtzTIO+xwr7spdRrUbRMhHCGEGHdNBo8fGhI\\u002fNAQhNGNxqql36ZY4qnTqbif4MF1S3EI767nrcPzFjD\\u002fXp6yK5Jn\\u002fo5sjrH7lxrauE1fHew22eg0IK5JpxN+Vvn338QX+jwSzo+0fD7CcrTuuOuUX1H319eGXXpxh07v0M2qd6r+a9T3NbaeRGCuC3\\u002fJlhtk5qp5AgmV9nXUWmFTqlEHhd58Q7uH210NL\\u002f7ySufH0RZGiew2PGbFRr08dZ+sgnR2NTJ4RFnVPSMTjR\\u002ffq9x8UKZXHK0vnR9qjt4OMkZ6OnvzajX8RQsM9wsd4Rn6Se9AO99XzZPBdaJyCjqqhrreKp+eLqjwZAg7FmjtbxwkCL7YUdT5NcDGw6dDqsAldN8xpU0nWXPnxqahpc\\u002f1TSJhpveMaXPtP5aXvi4\\u002fJu2ztTMHIj0RMMj12+2FRuM9HfUl0FMBqamrb3\\u002f9gT1GxrZYKdnP4aHZEhPe8uQNxL23zHGv8o0VpeD4cm8K7L+gNf1aEnUPqBSRY1lcrvDVSkxTgQ+9hx0oShq0YljQ3IWb7tayDOUXlre0cOm2wj+ei5LjJ0QZyMsfU1CFZ9OkfQqli5tBBH9w71f4BUEik1QkpnRs810usXCygFzP8Ek43FAzzCFsYmHKyId\\u002f4C+vbRGUNbQih4YOCSGbVacYQdl\\u002fwpF\\u002fLDnszXaJ5gfmiqn+qzj4ZOceMpnrxUszs93P+y2qvRAgluAS9FGOg\\u002fSTXkGm+iYfqMjuPSDXKj3N3b6+8MNc\\u002fZbzXYB9m35ttV8taTzbk7Km52nXloN6qsHHBbFi1Duzk2PGcr9cflctVfZ9qPd9+fyIkxCMxIdCeN3VSFdLcSy0HDL7kQvNaGfK2K82xRn4gwbK+A088gOM4Qqin7KoTj0F\\u002fZFTqI6NMHr5xBBKF8skfdzNp1Nmpg\\u002f84fT3E03X1ZAL+ICXttz+V+XYZH+z0WXL3nd2MUVDTPCY25GJ+pVqjpVPN\\u002fAVcEDCKgpE2lx1tUgi9GC4Ph0+f7mvlv3w\\u002flut3qat1uA4h1Et31Isxs\\u002fM7aiukd+wiUiFp+rrg4NcFBwNYbiEczxCOpwuNwyLTmBQaQkimUcq1qhaluFzSVCZprO9hJ5wRHpEPhY235h8JgB4oleovvz5y7HhO36dam1are3fdru83rfTygnIkfThY94vBwUE\\u002fZvj9wW+wKQ73FwgJlvUNhNV\\u002fKo320e\\u002f+E7CZ366Z585jJ4X4vrP9GJtBWzY60W4xyDXqg6VFH1w43XlkqA\\u002fxy0aMQSaRMIv3GJvjP2KOVZcNGtTnSB+Hwvg6ZeVjV34ymCdVy1qrZa1nm0zo4dNLdg39MHG5qeOMAHRqVRSwqB5Mct8L9RsaO956+7+S0kY7RGVQR4f8zbf\\u002f2\\u002fDNfXQ61NTtjVwruftgBDdpaeBLNJIjfuxCggXMQaOQ\\u002f1y7rPPphPjwCfH2GNksFbbN\\u002fvcPHp0hV6s7lIqu32XuCYmIcoX9JQjgy3T5cdiaFzP+KBDV9X22Eab6Jr4+eB4dCrgDcxV17GZRPMslx+JcVtDJvXVs3MisfHfdbpHIHpsM9qKktPGzLw698dpsYsNwcM9H\\u002f0h0CKaBBAuYI7e6cfkX2zqfvrFo4qKR8fa5tVR9xyY5epNDwr+cON0+AVhIoVKfullaUNOUEuEc\\u002fW3G8GLwf0579PviY39VnNdasHUgj8p8NnrGTL8hVowN9G86bY1WU4IQotLHdBYeEqvrIvlztbhKpK726DnB2n8g85sNR229WtBIJ0\\u002flhYd5Ll2SRnQgwGogwbIfrU53uaL6fGlVfkNTRauwQ65QqNVsOo3PZAiYjBgfr5Qgv2HB\\u002fp5cDtGR9i3Y0+Xrh2YLpfJT2aVncu1XsZBBpgTw+I1SiQ7HuTR6AJef4OU9O3zQUB8\\u002fhFBjY0dVZStCKGVoiOVjcDYyLSUaITQ+3lEWElsLjUR5OmrabL\\u002fkX8tOH6\\u002fP1uBaky7nUZkLAtPuDR7Fo1pzLSTo97TqXCpjolpxFsfVGHZrFqYPKzm7bYtc25bs\\u002fnhPF27549yW38\\u002fZK0yj\\u002fPTLmbAwr6EpIUQHAqwDEizr+PXC9U+P3d4vZXhI4OYVCzqfqrXaPy5nbrmU0SjuPoQsUihFCmV1e0d2XePf12+SSaQZsVEPjxwa4enQOz2z6bTxcWEIIZFMac8Ey4\\u002fLS7\\u002f34Z5eLSluTBsefu1auVqtpdHgZ5sAwRzP9+IXPxc943hD9sWWosz2CrG6t+3bPBn8FLfQ0R6DRntG00jwTwbMQ0F3TtfzZQ3DEe7NTCJjBha+6HT4V18fPnAoy4oRsFi0WTOTdv53TaMx7atFVziOv\\u002f\\u002fBnm83PeDn2\\u002ffyW0us33B0996Mvs8zZOeOp1xc2NaNp7+CdzSbyGto6nxc3NT69I595a1G7Yar1en23sw\\u002fkF2wduIoKOZuBjKZZF7tA2BFAhp7YWDawsA0hFC9XFgta2lRiiVqhUqnwTCMTqLwqCxPBi+I7eFCg3dqYBO+rFTM0FYlOI5\\u002f8un+YydyrXiv4Wnhzzw9xdOD5+vj8tU3hy1pSixRvPn2zk3rVzCZtL7PNlfmTTM3XQgMcIPsyniQYNlEh1xRKxT5CXhXK2vWbNstU3WfM9Q7LY5\\u002ffjy9pLn147n32ChCYBVaXCfRKIWq2\\u002ftLKnXqFqWES6HDHG09H6bAhykgOgrQb+G4XK04olXnUGjDux7vKbv67PODVsyuWCz6009OnjI5Vv901szE4pKG\\u002fQcyLWmzoqLlo0\\u002f2v\\u002fv2fBt9VezokFdWtph3bWIi1OsyASRYtpLX0CRXqx\\u002f7a4+p2VWn3Vl5g7w9HkiDCb\\u002fGUijV588VFRc3JtjsXeD1zJ1V0laJWiHWKCRqZdey43pXWsomHvsEIUTGSFwqg02hcygMDoV+X+iICd6DbBQVAL1ob5U01rZLJQqZWCkVKyRieefelLUVLTt+OcvmMNhcBotNZ3MZXAErMNSZirvSmHMRQlSGUd9Fv15\\u002f5PDRbGvdOi4u4LWXZ3arX\\u002fX0k5PLK5pzcw1XGzfSufNFf2w9v+K+kZYFaFjWzSrc8E4zfUtMMLCjA+gJJFi2cqG0auPpixLlHR\\u002fAHhz2uMiQGB9PNzaLz2RIlKomseRaZe3Z4gqxsvueOQihz46ljwwLCvdw6PlYjmPixMEIoZGjIm13i+utFT0VxuxGi+uEKlln59YEH8iuADF2bTm\\u002f45ezBl+qrWz99cs79s118+JtPfmyXeKyt7\\u002f+vrRvf6a1Wlu8aNgjq8eRSN17mSgU8rtvzV\\u002fz+ObWVgNFm4y35ff08DDPEcOtv\\u002fHL1WvlZl8LFedNAgmWrfx17Y4ZlP4C\\u002fiv3jJ0YHXZ3p++ylASRQvnjuSu\\u002fnL\\u002fW7XuFRqf79cL1D+dMsWmoAADQv51NL\\u002fz5l9NWaYrBoL72yqxRI3v8Iufqyn7vnfnPPrdVrbZkwjv68ON9mzY8EBRo5S\\u002fYV66W9n2SIUFB7gIBy7rB9G+QYNnDxKiwLxdO72XnHB6D\\u002fsKk0WHurq\\u002fuOdrtpf3ZBS9MHu3KgrXrDuHwxOeJDgEA0zz43D0PPjegZ3NWVbd+9Ml+s8fFunJz43z4\\u002fqKIcK\\u002feTxsU7fvs0\\u002fd89oVFe8DLZKo33\\u002fr3u00r2WyrbQJWVt7c3Gzmnq0pyVauH6HQSj\\u002fIu8+KDS4MeDZBMNaKDVoIdqKwudHhwV8vmtHnvoQIoXmJgxckDe52UKXVni+ttE1oAADQI5mqoKBpxdWqmGvV8aUtazU6o5ZCOxqNRvv+B3uVSjPnwnYVFOj23cYH+syu9KZNjZ8729IZtDW17e9\\u002fuBe3Sm6IEELo8mUzu68QQiOG22O7jv4EEizbYtNoH86ZQiWTjTz\\u002fibFpd1cZyKy2zg4kVnQuv+JQRuE\\u002f529eK61BCF0qqvrn\\u002fM1DGYXpeeXWeysAABBGqanKa1xEQrQoz5\\u002fC3L6QqG4WNa0hOihz\\u002fPTLGavsMxgR7vXVl\\u002fe6u3ONv+SJxyfFxwVYeN\\u002fLV0p\\u002f\\u002fvWMhY10OpteYN6FbDY9LtbSP0u\\u002flFNQW11n+LsHDBHa1qNjUj04JlQN8eXzhgb5X66o7nows6bB2nFZ6qmfdut0tzOp41nFx7OK9Y8zvnyGDHv0AuDk6jq+JWOccI9vSRgNIUQhu+Q1LOpQnOczbLK0zUaKSxp3\\u002fnfV8nbCQj0\\u002f\\u002f2wZl2PajsJkMumdt+c9+thvTc0iS+7+1\\u002fZLEeHe48ZGW9IIQqihsaOwyMxPk9ShoRQKvLEbEBLosXP\\u002f9RWLh9\\u002f9EiRYNkQmkRYmxZp6VYK\\u002fT7cEq+mu+u+Eu\\u002fHls0SHAACwIZHiEo+Rps+uEEJsWjxCmEyV60QJFo6j9RuPdv0qaB5\\u002fP5dPP15ianalJ+Cz1r07\\u002f+m1fyqVGkti+OSzA4EBrqGhnpY0cvasmd1XCKHhaf1hfBBHOhy\\u002fPVhMMlTo3yTNreKvfzzBoFPXfXngyQfHuQju6E+BBMuGRoYGupg+OT3Mw7XbEZHCQAUHAACwHbWuvUW6u0W6u+tBldYKY212c\\u002fJUnoX1qBBCPB7zk4+WWFK+PCLC+7m10z76eJ8lYSiV6jff\\u002fu+7TQ\\u002fweOYveDp5Kt+8C0kkbFhqf9g+tU1+Hsdx\\u002fU61QkVmmMtTFjYol6vdXTlr10wy+CokWDY0Isycmmw8RvecWqnRKDUaY6bJAwCAVVBIfAFjtC\\u002f\\u002fjs2SKeTuX\\u002f8cFo7jv\\u002f9p6V7OFArpnbfm+fgILGxn8sTBxcUN\\u002f+60aLCyvkH47rrdn32y9O7iW8aoqGgpKjZzfDApKYjLNacDzwG5MUdiGBkhpMW7l4k2T31jR\\u002fqlYhIJG5navZMPPrNtKMrL3Yyr2DQDW1ApNVrCE6xNL\\u002fy576eTZlz40o8PT1hiYHwaAOCweIwRUmUmixbtpGuhTpzMq65us7CR1Q+OtVZpzUcfmVBW1pxxo8KSRm5kVn73w8knHptoxrVHjplfwn7ShO7L262CTmY9Gv6ZXCOWasUyjUimFcm0YplGJNWIZVqRTCOSacVa3KKh1W7Y1LBm+Wn9Y51ObpU2cRzX6nQ4biDrhQTLhiI9zUmwzJDXMEeqygp1+8qNPQ8hJFcX5NRPJWH0If65GAb\\u002fxGCga5KlF7Z\\u002fJ1FXkDCqF2t0vPvbJAx2iuyDH\\u002f\\u002fJnPpZRc2PenKWU0g8paZOKD8Z5PomheRCdGhG+XvHZQtbSE4OXrRwmFWCQQiRSNhbb8x59PHfGho7LGln539XIyO8Jk8ybXavTocfP27mDox0OmX0qCjzru0dhjA\\u002fZh9Tu5Q6uT7TkmpE5dLsc827jWz84N4bYRFeGo0uPNKbTr\\u002f1Ocig+DIovpbEfDdfb8G4EYb\\u002ffpzyq4lTIGGYG9seRW\\u002fl6gKpKgshxKYl6I80S\\u002f5GCLFogyG7AgAhxKIGxLm\\u002fNjUofazfPy3yq7WSQ0RH5AToFP\\u002fBPrswRC1teTa\\u002fcVm18FMSRidhVh4nalZIVp37PWnvh9OObbzQVNbt1c9zjg8\\u002f8OnwA59+nnPcpGbz8mpLy5osCYzJpL30\\u002fAzrbrfM4zHXvbeATrc0uf\\u002fiq8OmLga8cLG4tc3MxVLD08JZLAPjKvZBJzFdaF5+zPBI7pBgtgkdaWkjIw7vy2xrlfzy7QnbhYcQupZZse7LA+u+PNAulHZ7CRIsWzE40mcLzZLtCCEyicOghiCEcFzVKt2FEGLTEu0TAAAOjkMNFtBjMYzMoHi6MVNkmuq+rwEIMSjBER6bkgMyY7x3kklcH\\u002f6jJMzKW0r8VHTuUnO5QquukLS+deOOaeCZbTW\\u002fFJ8XquRClfyX4vM3202Yrr7vQKaFgT24crSHhwklr4wUFur50gvTLWxEpdK89c7O9vbuH+e92L0nw+zbTZpok\\u002fFBW2tuEg0fHTl6XLSLG0ej0dnoLoH+rlu\\u002fW\\u002f3mczPefG5GtyWECBIs22Fb\\u002fDXFGDiuaZXuRgixaXEIYQihdvkxjU6Ibi2r7p8aFO2XWgsvtRbqoKqp08poK1187tOJJ9944cZmhdYKVbZ70aa4caXhyTM1i87WLm6SpeO4rd5t+6uy1pe8uasYFHNW7fSuWnq7QmOdTKjt8k\\u002fT9SWEUJXE2AlVKpXmjAX1CBBCAQGu8+amWNJCL8aPG7R0SZqFjTQ3i995b5eReUNVdavZc794PGbq0FDzriVW1CDfxvqOn789ER7pTVQFLxhCshUa2R5\\u002ft2LlJX06xaTeGgNulx3WP2DSLK1K1819r8yZtGykqFUsapN0tEpErRJRq7ijVSJqE4vapKJWsbhdqrFgc1PjFYnqRnoMutJapMG1NBgGdU6\\u002flh2vlbcihC62FJxtypnik2SjG+lw5aX6R+M93vTnzEQIXW98wUY3spvvsi9tuHnho+FT54TGIIQePrnzelPt9qnLIwW2mvSp0tRht6oH4\\u002fovctYSyLm9LNGPJehaoziI49rTmb27dr1cobAoZX9w5RjzVuoZ6eGHxpaWNl69Vm5JI9k5NRs2HV37zNQ+z9y1+7rZd5k6JY5CMXYnEkcza34ysQHAh5NzE8pvjS4zqZEIIRxpOhRnEEIYIjMpVv7awXfn8nvdJuLa8ew3Fnxl3Zv2hIyRMOvOjwAEsuU\\u002fpRZXaXEFmxqEEBIqc5rlF\\u002fWPndep2jKZRn22rlyfYJ2sKdXieEZzre0SLD\\u002fB2oq2d6vbP43x\\u002fodOseZ+KQ9HjCzqaMxsq\\u002fFict9OmNH1pXgXv9WRI\\u002f+pyEAILQ5OjnfxM7LN9HNFloQUFOQ+ZrSVv512g2HYG6\\u002fPeeyJ3+rqhJa0s29\\u002fZkS498wZib2cI+yQHT5y07z2MQzNmmWrbz4DASRYzk2kuKh\\u002fwKCGI4RkqlytToQQolMCMYywaYkA9OmhsMkf5v7TqhQnu4aN9bThJA8qiRvjtvZqw9MIYa6MpDDBSq1OYbvb2cF4v9Cc1oYxviH6pxP8w6431Q7xMDb\\u002fMIM39wFv7gO2aNmdwdk8akVPrz4\\u002feNLzgw2XcOzFNct6hhbMS7HDdzcuh\\u002fH+uwufePp3udyiakzrNx4LDnaPHezf0wn\\u002f7bpmdhH55CEhfr7OsWjUMUGC5dxifQ53fcqmJQwNrCAoFvtR6NRnm3KLxHVDXPpDceGBKckl9J9RL9vnXmH8lWH8lQghpbblRtMbCR7v2Oe+NvJYXNpjcbcn8fw0YQGBwTiamtp2s5fLIYRYLJqpFRDMFhzs\\u002fspLM955b5clU0k1Gu077+36ftNKg7tQy+WqPXvNn94+Z\\u002fYQ8yMDMMkdOKMp3oljPAevDptMI8E3BGCCKvFuF0Yck+JNdCDm2F6cFfnn50nb1xt8dV95fvCWT4K3fKIZ2FP4s7MtWiI6ckRkZ80kOxg9KureZSMsbKStTfrmO\\u002f+pDc1\\u002f3fnfNbHYzP5aTw9e\\u002f9h\\u002f0FRFosbNJRf+rri2Pv+kUmdRmVP4fAIADBTujKE3ml9vU9xI8\\u002fkRc7avl1qdTqXVUjBrFrZ2EAUdjSfqC663VlVIWtuVMrVOwyTTvFm8KJ7XaK\\u002fwKX4xTLKxi7ILCustiWTc2GiEULOyrVZejxBKEMRgVp3Uf7dVK0eXljVdvFRiSSOFhfVffn345RfvmMQmlSp3\\u002fHvF7Dbnzhli05n+DqtDJR\\u002fnHRnCcd9XfVOr01nyPgEJFgBgoHBhJEwI2E90FOC2m+21n2Yfvd5a1e24RKMsETWXiJoP1OR8cPPQQxEjH4wYQSX1vZytorLF7GAoFFJSYhBCqFxanewSlyXM0+g0VJJtC+5gGPbaK7Mef2qLhRv7HDmaHR7utWDe7eoSO\\u002f69IpGY2X3F5TBmz4LxQUtBggX6G61WRyZ3\\u002f9Kh0Wjrq9oCQj0ICQn8Unrs1zITinEfn7COSYZVGv3cd4VnN+af7rOanVit\\u002fDrv5PH6gg3Dlngzeb2fXGlBgjVokB+DcSudImMkkr3WKbPZ9HXvLnj8yd9lMqUl7Xz\\u002fw8mwEI\\u002fExCCEUGub5B9Luq\\u002fmJhNYvb3fcLJOcgD6NDPujefv\\u002fb7lzg2\\u002fWhtFj8y0UwkJAECfPs4+sj7vlPG1gnPa6+4\\u002fu7lBLurlHLFYIRKZv4NvVCRhk\\u002fMCA9xef3WWhRmdVqt79\\u002f3d+r0Of\\u002fn1rNnFwBgMateeMGA26MEChmW2l6698a0rjftj6nNutD6+NToanQ5\\u002fYt6GFz9ZnDI6kuhYAEIIDXWLUONasVomUsvFarlII6uVtUk0tz4L\\u002fVluLjQOj8riUVhcKpNHZRozGASc187KG1tKLnU9Qsawsd6RswPigzhuLjRWk0JcLGr6r\\u002fJG19HDGpnw6ct\\u002fbx3zYE8\\u002fHi2tYkuiCg\\u002fz0j9Q6VRX2rLKpdWDefZ7AxmeFv7AitG\\u002fbUm3pJGODvlbb\\u002f\\u002f39FOTjxzNNruRmTMSeTwr74nkXA7V5rjROdnttRN9LKqIBgkWMECt03xdtJNFpn8Q\\u002f5CzZFc\\u002ffnIAIfTIyzMQQi9\\u002ftvTc0Zx3n\\u002fxj4arR9z81iXTXiCGws3hBcLwguOuRz\\u002fL\\u002f211zWf\\u002f408RVQWwYvR0oGuXij27eUV\\u002fGk8HdkLakaylRLyY3zsV3flDioZrc1zP2yP+\\u002fmVJ2e92PReeeiB5rsOW2VhO257ubv9+tmk+j3IcihFJdEyxpzQz33zuypKTx3HmLCqWWlDY+\\u002f+JfuLm1H+h0ypJFwywJwNkNdQ8e6h6MEFoSbGk3HnzwAAN+Ljsk1SjWJz8ZzbNm1Wabqqtqrats1T\\u002fGMLTwwdGf\\u002fPbw8T03Xnnwl7Zmi77XAgCsaGPBaanmdnVNPo25fexDPRVqn+Y\\u002f+Lvhy7tOh\\u002fqxML1Rbvg3uk1oUYLlboPdnU2CYeiVl2YGBVlakd9gyQYjzZ+X4ubGsTAAoAcJFjDgsfBZ\\u002f4x8K4zjS3QgJnhn04p3vr2jJHRMUuCmXU\\u002fRGdQn52\\u002fIvFRKVGAAgE6tSumeqqyuR95Pmu3D4vdyyTCP4NURIzufqnTazSUXDJ6psKwquouAbcnlVsFi0da9u4DDYRBydy6XsXzpcEJu3S\\u002fBECG4Q6G4envlqXxRVZtKzKEwvRguaW6D5viNENCc8jsNT8B67\\u002fsHdvx0ZsM7u4mOBQCA9ldnq3W3+1fiXHwn+fY9zeWRqNF\\u002flV8Tq28VHdhdlfX84El3z8RSqcwvEoZhGJXqEDP\\u002f\\u002fP1c3nh19qtv\\u002fGP2MJ\\u002fZ7r93JJtNt\\u002fNN+zHowQK33WgveeLa+qtthYP5wTN902L5wc1K4Z+Vx51rW+W3Ntwn6NLFjWHYkkfGffzb6lnL03q5CgBgB8fq8rs+XRFm1G8lm0KbGRDX+bRDJT\\u002fXZKBPWqUyf2iMRnOI7EovNTX0oVVj7HxTby8+7I1jXdCDBW7bXXNei+u+THoskntr61Ac4bWyFj6V+J5z4w2fGHP3wdjk4NjkYLvHAgC4TaZRZbbVdD6lkEgTjei+0pvoE\\u002fVX2dXOp2cbisd7W3OJnyXzlmxh+bLhxSWNZ84W2O2Oqx8a5yB9eP0G9GCB23CEI3THxhAYwvxZsLwLAOLpR8RUOsN5gFyjRgiRMYyMOe67eq6wXttlq8R4Fz\\u002fj98BJdgskd+lKv9Zaefc5NAu2EdTpcEfLsV5+cUZoqKd97pU8JHjC+EH2udfA4bi\\u002fisD+xnsmIoReyPxxa8WJdhWsvAPAgfDpDISQRqdrUxqopVkvEyOE+DSGIw\\u002fnF3Q0dH2a7BZk\\u002fLUMMjWUe\\u002fvLXrm4RaHtXkiTTrNoTEZqWSF1q2MwqOvenc\\u002fl2nzCO5VKfubpe2x9lwEIEixw23ivxOejF2EI\\u002fVx2cNH5997O3lIg6r5HGACAEBH8W6v3LzcY+K283FiNEIp2tVOHh3mqpHdstxfEcTXp8mCOW+djLY5XSrpv3kdnWLRvYGNjb2XiCeHjLXjrjbm23nT53uUjOmuAASuCBAvcYaZv2vYRb6yNWhDC9jnbfPPxa+t\\u002fLD1AdFCOolYsOlNVfqaq3Pj9PQCwlhC+ayBXgBDalH1Rpb1jMOtyY\\u002fXF+kqE0OSACEJiM1Kd7I4NrPxZpn2o+9y5EWG1tL3bCQwLhggRQg0NQksut5HkIcGPPDzedu37+7suWwILgGwCJrlbx4Mjkh8ckWyVplKD\\u002fQveXmuVpszDINNm+42Y7TfiRnvJx\\u002fl\\u002f\\u002fVV5MtU1OtEljMCQHERuS9OEoND0mgq1Tksnw+8OsCsMoUdjh7128UhOa+Oyo389HT8iysVDodWcrin7IjMdR8ifw18cEdd3Q8RpU95RCLT38ld3c2fcUSymRSnpdoKFG7yUlzePHWPR1ig2snhhanFxw4mTeVZvGcOwF56bBnPbbQQ+JECPklzCHwyZ+nH+9lxRBSRYehQSiYQceZYL6M+WRybmtDZuK8q83lT7wPF\\u002fur7kyeT8NH4+m0IjKjZjiP5fyErP1Gg5lDtKNAlV3eeieXpatK9XXn6dJZfb1AvPTa+qai0uabRus0sWD4uPc5rtOpwODBGC23I6ynVd1vgghPJF1QghZ9mOEIB+78Ph9\\u002fwyceHkgHAPJptCInGo9Fg3r2cSRh6d89Agx56AhRDqNi2dYfQSQj3mnQmZXNO9bruHO8+Son35BXVara7v84hAp1PWvbtAwGdZsc2wUM8HV462YoOgG+jBAre9fnMzhtAgXqAnw0WH64rENUXimiC213hPe2966pjkGvXR8pLclsY0P\\u002fjOBwgz0T9sor9T9ihrdHekLwwTx9kpd1agUOPdqypQKCQ3N05Li5kroKVSZWZWVfKQYPMutzVPT95bb8598eXtVskCaTTK66\\u002fOplBgcNCGIMECt90bNOFsc3auqPJKWyGLTPdkCB4MnTrPfxSd7NDjDnYzJ2IQQmhKSDjRgYC+ffTSjjOHb3Y+HZwU9MWWhwmMB1jOmMUl3l58sxMshNDZ9AKHTbAQQokJgY+tmbDx2+OWN\\u002fXgytHBwZbuKg16BwkWuG1x4LjFgeOIjgIAS1WUNJ49mt35lEIlP\\u002fHaLALjAXoU0h1dUHKtutu0qt4pdHeMMFIxA70v4eFeObk1dx830qnTBY+tmciwrNyDTQ1NCaXTqUpl9xpgprqZXbNo4TCn2gXN+cAcLABAf\\u002fP7xuO47nZvx8qnJoVGeRMYD9DrVrddqTVtb2aF5o6sgmlojvygaB8zAuskkSgOd0nNHU1lVevaF7Zanl0hhC5cLN7ye7rl7YBeQIIFAOhXivPqLpy8vaPw6MmDF8JMXsfAp91RRkGqMa1yuuzOOfICmoGiDNFRvmYE1tU\\u002f\\u002f17RaBxrzxy9ioqWtc9vbWuT9n2qcf7Yev78hWJrtQbuBgkWAKD\\u002fwHH824\\u002f2dz4Ni\\u002fZ5\\u002fv0FBMYDunKl37FtfLe6o31qkN9xvsedZbH0\\u002fP1d2WwThh3vVl8v\\u002fG\\u002f3dUtasIWysqbnXtgmFMqs2CaOo48+2VdZ1WrFNkFXkGABAPqPA\\u002f9czc+6tZOMf7D7hz+sZDBhiYaj8GUJuj6tlQlNurxbQhbANrDTDoahIUnBpgbWzR9\\u002fnm9t7V7FlEDXrpc\\u002f89xWYYc1sys9mUz15lv\\u002fSqWOtQljvwEJFgCgn2hvkWz++qj+cUCIx8c\\u002fPch3Yfd+CbCnoDtTogqJaX0nNV32xiFjWKChBAshNGqkpfsFSaXKTz474CAbYu3ec\\u002f2V13bYLgeqqW1\\u002f\\u002f8O9uIP8afsXSLAAAP3E7m0XpRIFQigy1u+LLQ+7e0GBXMcSzb9jqUFGqwl7yQtV8q4JWTjPs6cyWmlp4WSypR9t166X\\u002f\\u002fPvZQsbsZBWq\\u002ftmw9H1G4\\u002fpdLbNfi5fKf1181mb3mJggjINAIB+YtXTk1c9PZnoKECPYgTeVBJZrbs1hfxme61cq2YaV8\\u002f9Wktl1ywjxS2opzO5HEZCfGDGjQpLQkUI\\u002ffDTaX9\\u002f1xHDidk\\u002fu6Gx46NP9mdnV9vndlv\\u002fuhgR4T1mdJR9bjdAQIIFALC5m8KKiy2FIrVMrJGL1DKxWl4ju90b8VLmZlcal0tl8qgsHoXJpbLuDxlHMVTlaIB79pe9CpWms3ZRUV3L7lcf4DItmtNtTwwyNck14EpLhf6pRqc7UVcwM8CoDapP1hd2fTrGq7d6v1Mmx1qeYOE4vu6DvZ99siR2sL+FTZnq8NHsjZuOy2R2nRr1yWcHAgJcQ4I97HnT\\u002fg0SLACAzV1tLf69\\u002fGRPr9bIWrvmWwihpUGjKWRIsAz4ZvVsOvXW+\\u002fZrfxwiNhgzTPKN7kywEEJ\\u002flF42JsESquQHa3M6n7rQWCM8e9ssaML4QT\\u002f8dKq93dKKBkql+qVX\\u002fv5w3cLExB47zKxL2CH78qvD584X2ed2Xcnlqjff3vndppVcDsP+d++XIMECfWiobGlv7JCKZFKRXCqSyzrknY\\u002f1D7oeMdjC54\\u002f98u2LW1k8JpvHYvEYbP0DLuP\\u002fT1lsHpPFZbJ5TBaPGTTIj0KFT1Zgjkfnb6goaex8+v3Op4IjvAiMB9xthn\\u002fc5znHVF1GCU\\u002fUF0z0ie79qh+L0rtWJZ0flNStKHw3FAp55ozEP\\u002f48b3nACoX61Tf+efH5GRPGD7K8tV6o1dr\\u002fdl37c9sFAtf01dUJ3\\u002f9gz8cfLrZkz+z+oaFFVFHbhhBKjQ8imfu3AQkW6MPXT\\u002f2WeSbPkhZ0Wp2kQybpkCHU96KhX2987BvqaWTLap38h6IZlsQ2MLEp7qvCd9jzjg+FTX4ozLazo2orW7pmVwihs0dzIMGyNYmmQaOTC2ghRp7vSmfNC0r8u\\u002fx2oak3MvYOnuDrzexxRcKl5vItJZc6nzLI1FURw\\u002fu80exZSX9tv2SVkqFKpeb9D\\u002fcUFdWvfmgchWKTlWGnTuf\\u002f9PPphkbTCoPZwtVr5T\\u002f9cuaR1eOIDoRgRRVNI5NCL2dXajRaGtXMTAlWEToBkVqx4szWL7NPf5l9esWZrTKNiuiIAHA4Z4\\u002fmdDuSftcRYEVqnVSmaSFj1OKOvSfrXirq2K3SGVU76vHosV23IBSq5MvO\\u002fJIrrDd48sGanMcu\\u002ftV1m+fHo8e40fuuvuHmypk3N9mYeIy0498rjz6+ubDQcJzmUSo1Bw5lrV7z67oP9jhCdqW3\\u002fe9Lp07n931ef0cmk8zuu9KDHiznMMY7bHVUGkLo58JLfZ4MwAB0dzpVXd5cUdIYHA6dWDaCZbR+N9T9maEez+C4Nl+4Y3fFUj\\u002f28ATXBznU3jYE9GRwX42f+nrGns4jDXLRktM\\u002fT\\u002fCJmh0QH8hx5VOZzQpxkahpZ2VGRusdy+iS3QIfjBhhZHz33zviyNFsUQ9TF8xQVt78xNO\\u002fT5wweMX9I\\u002f18XSxpqqa2\\u002feChrAMHM8VihbXC0xueFi6RKi1cfvjp5wcDA93CjB5MAAZBggUAcHp1Va1lhQ36xxQKuXNgKP1oDiRYNkIlsUZ5vanRyUtEB6ql6Xxa8PSAnzCMdLV5\\u002fTifD3q\\u002fdn5QYrGo6beSi51HtLjuWF3+sbreOk5COG7fDFtMxowdeOFwGCtXjFq\\u002f8ZiR5xtDp8OPHc85cTJ3eFr41Hvih6WGGT9oqNPhubk1Fy+XXrxYbKMNalJTQ995a55YrFjz+GZLitErleq33v7vu00P8HgGNnwcCBRK9dlrJYUVTUNizF9DCgkWAMDpde2+mjgr8ciuW1N80o\\u002fl3v\\u002f4RIKCGhDE6loyRh\\u002frvY6E3SpnFcQZb8yFL8dN4dEYG\\u002fNP64yrIT7ELWD9sCXGDA52NWtm0qEj2cXFDSZd1SedDj9\\u002fofj8hWImkxYX558QFxgY6Obv7yrgs5hMKplMkslUEqlCJlOJRPLKypbSsuby8qbyiha53IYTPIamhLz39nwqlezqyn7nzXlrX9iq0ejMbq2+Qfje+3s+\\u002fXgJiTQQJ7xPGTkIITQmpbdqIH2CBAv04eO9LxAdAgB9SD+W2\\u002fn4nnnJV88VtTWLEUJVpU1VpU2BYQ490lEqvtihrvdmRvkyBxMdi8lc6OEu9Ds+hEK4k4y89rGoMSM8Qj\\u002fNOdptHLAbPo25JnL0ivBhxvdddSKTSW++NvuRxzYrFGpTrzWGXK66cqXsypUyWzRukrFjol9\\u002fdRaFcmsJ9uDBfo8\\u002fNmn9hqOWtJlxo+KHn049tmaCNQIciCDBAgA4t4ba9pL8Ov1jJpseGeuXlBZ2Yl+m\\u002fsjZozn3Pea4nxASdQub4upC95drOlQ6OY3Ux4jMMz\\u002fv7Vpo1Obx2ViCq\\u002f\\u002fWMQ\\u002fmCxuO1effaK2ukLQKVTK1Tssk07xZvBi+zyiv8Mm+g3raFccY\\u002fv6uTz0x+bMvDloxbEczY1rCc2undqutMHf2kIKCuqPHLFrq8c+\\u002fVyLCvSZNdL7U3xFAguUczjaUilQKhFBmW+3ysCFEhwOAA+k6PpiYGkqhkNPGRncmWOmOnWBVyjIoGC2KOe6c8CiDzHGjB\\u002fdy8tcPzbZXXHY1SOA9SODd93nmmjY1\\u002fkZm5fETuX2f6mwwDK1aOea+5YYn\\u002fq99Zmp5eXPxneVLTPXFV4eCAt0iImz4D2SQDtcqdXKlVqbQyRRaqUIrq5T2UTCoSlZAIzEZZBadxGKQWQwSi05mkTHC8hxIsJwAj8r4fey9REcBgIPqmmANGxuFEEoeEdE51b2ytKmqrDkwFDYAcRRy2S6hcK2H50kKJdRuN33phemtrZIbmZV2u6Md0OmUV16aOXZMj2Va6XTKu+\\u002fMX\\u002fPYZkvWKiqVmjff+e\\u002f7b1cK+CyzG+kk0QibldUKrUyhlSl0MqVW+v8H3Z+qdCbHfKX18JXWw90OUjAqnczqzLru+P\\u002f\\u002fkzD900BWHwVvTQUJFgDAiTXVCYtya\\u002fWPMRKWNm4QQojFoSekhl6\\u002fUKw\\u002ffu5YzvI1Rs28tj8youhwLUJIphUSHYudMFnzdLhEKHzR3X2n3W5KoZDXvbtg7QvbrD7hnSi+voJ33poXHtbHIllvL\\u002f4br8155bUduHGLCQxqahK9t273Z58sJZMtrZ2ZKTx9pH6LhY2YRIOrNZoOqaaPMmMkjPRurJV\\u002fIKHQKADAiXWtLxqTEChwvbXKbOTEGIPnOBpf1uAc4eGzjT+K1BaN4zgXNvt+e2ZXeiwW7ZMPFwcFutn5vrYwckTED9+u6jO70huaErJq5WgL75iZVfXt9ycsbGSggQQLAODEznWZwztiwu3d4oZPGIT9f3l5RXFjTYWDzgfnUb0WBn060vPBhYGf9j4Bqz9pb3+qvi4Yx80v1GQegYC1\\u002fpv742LNr2xEOAaDuvaZe9a9u4DNpvd99v\\u002fdu2zEyBERFt561+7rR45mW9jIgAIJFgDAWTU3dBTm1HY+HTHhdq+VixsnJiGw86kjb5uDIYzAebj2h+NqpeIYmRKikFuzBKiRuBzG558u62XekiOLHez\\u002f0w8PzpqZZOqFGIZefXmmv7+rhQF89c0R624W1L9BggUAcFbpx3I7Z5YER3j5BNzx+eEso4QDjVJ5GsP4LOY8uXwfIQFQqeS33piz8oHRls8oshsul\\u002fH82qnffHWf2Vv0sFj0de\\u002fMZzJploShUmneeve\\u002f9napJY0MHE7z4wUAAN10HR\\u002fsmk7dOjLp9pHyooZa22xOAkylkO9nMMbR6WOVylP2HyXUwzBsxX0j139tfr5iN2QyadbMpC2bH5kxPdGyrYdRUJD7Sy9MtzCe5mbxO+\\u002ftsqRG\\u002fMABCRYAwCm1Nonys25XAO86Pqjn5esSFn1712FHHiUcOHBcrVAcoTPGU2nxGMZVKI4TGMygaN+ffnhw7uwhDrsbzKiRkb\\u002f89NDaZ+6xSokEhNDYMdGLFw2zsJHsnJqN3xIwvOt0BtDAPwCgPznXZXzQ01fQNZfqNHJiTGnBrSkj6Udzlq4ea7\\u002f4gCFK5Rkcl9PpoxDCGIzxcvl+JnMugfEwGNSnn5oyZ07yjz+duniphMBIusIwbOyYqPuWjwgNtf4uT4+sHldU3JBpWUmwvftuREZ4T5+WYOqFo9znjnKfa8mtnQj0YAEAnFLXaVUjxg8yeM7ISbe3+CgtqK+DUUIbEKnbjD9ZIT+A4+r6usi6Wl+Z7B+l4iSOEz+hJyjQ7YN1C7\\u002f6YvmQpGBiI+FyGYsXpv7x25q33phri+wKIUQiYW+9McfTg2dhO1+vP5r3\\u002fy2qgEHO1INVKa3fXnUou6NEopFyqex4fuSywGn+rD4KgZRIqrdXHc4XlUk1Mj6VmyiIWh403YvRH0qhADBgtTWL87KqOp\\u002fePT6oFxTm6R\\u002fs3lmjIf1ozhLoxLKq620niiWZyS4TI7iJfZ6M42qF4jCP\\u002fw6TOQ0hhOOa5qbJCsUJJtMhtgBKiA9M+DSwqrp1z96Mo8dypFKl3W5NJpOSk4MnTRg8elQUnW7zz2UBn\\u002fXOW\\u002fOeee5PtVprdiMajfbtd\\u002f\\u002f7\\u002ftuVbq4cK8bWn2CWVHe1pwpp3YtZXyi0qq4HWWTGl0kv+jF7TPMLROWvZa9X6zRdD\\u002fKonG+SXnKnO\\u002frcRtAntU7+Q9EMoqNwPmyK+6rwHURHYZG9f1369qP9pl4VPsh349+P2yKegalD3SrTiHyYIeXSXF9mKL2vnaqVipNtbau8vG+SSHz9kfa2R3GkdXX9yfbBmkahUF+6XHrhYvHlK6WW7DPTOyaTljwkOG1Y2MgRkXx+H397VnfgYOYXX3XfWMZUMTF+X3+xnEIhWyWkfsZperD+qNjXLbtCCMm0iq2VB16KXtXTVb9V7OmWXSGERGrJ39VHnghfav0oAQB2kX7MnI17S\\u002fLr6qvbulVzAGYrlWRRMJoPM6RIlMEic70Ygb2fL5fvo9PHdWZXCCEma2572+M4LsMw60zithYGgzpubPS4sdE6HZ6dU33jRmVhUUNRcYPlFQrcXDmRkd6xg\\u002f3j4vyjo3wITE1mTE+cMT2RqLt3U98mKmtoQwgNHxREsnC1pMNwjgRLh+uyhEUGX8poz+\\u002fpKoVWlddRZupVAAAH194qycmoMO\\u002fa9GM5ix8cY9VwgLEELl91O8JgTPXxNfwu7SBIJCwhPjAh\\u002flbu2NQsKitrbmjsaGoS6f8TieQKpVql1ChVGqVSjeOISiVTKGQmk8rnMXk8pqsrx8uL5+Mt8PdzCQ315PHs3VPlFApqmsfEhlzMr1RrtHSqc2QmfXKOP4ZYI1Pqundf6Uk1coVWySAb2DSgTdWBI8MDoK1KoRXDAwDY0\\u002fkTebju1q82iUTi8Bi9n69SahTyW28g6UchwbIaMnZrp2qpVkR0LHbi6cGzfHo4MIhMImH9pe9KzzkSrL7+yg2\\u002f3stVWJ9NAjPpEK6+\\u002fQwzYbcsAIx0rsv6wXHT4l76aFHv52dfr3hx1c\\u002f6x8V5dQ217d5+MAXTCgJZ0TtrNtYryttVTXa+tUihHL\\u002fhF7HSqHnof9y\\u002faFiQE+8\\u002fCJyUcyRYXCqbQabdPQcLIcSlsBhkw7X\\u002fXel8EkbS4QYKzsIMdxvRKM8iXIcwEkJIq8qgc58jOiLQ33S0S29eq+h8OuKuAu53G5wUyBOwREKZ\\u002fum5YzkLV462UXgDigvN86HQd3W41v57Kf52OcPI7IpOofjxubaOB1hIoVKfullaUNOUEtF\\u002fUmHnqIOFISxRYHhvziGuPb690km0wbwww1e5GK6aAyxHYYyh0MdR6OPI1MF9nw2Aic6fyNPpbn1rotEpKSMj+ryERCING3v7DQT2JbQiQnaqFimUW67cMPLk5yeM9Bfw+z4PEGpaSvT4+LDHpg\\u002fvNxOwkLP0YCGE7g+emSksVGjv+MrCpjCXB\\u002fa2s9LKkDmv3vxGpVN3PcinchcHTrFJlAMeiRKhUZzQP8Zxuc1vh1FT3R+w9V36HxrJsVZsmaTrjjdD0sIZxm1eO3z8oGN7MvSPi3JqG+vavRx+EzrQE+O7r0aEBD6QOsSYM1WaGqWmBCHEZYxxlq4H4OAIS7DWn71IIZGG+Pv+cOHqT0vnUkh9\\u002fEAHsny+SHz+r8pD2R3FEo1MX2h0edB0X6ZHL1dFcoM+TVj7V9XhPFGpTCPnUzmJguh7g2a40QTW\\u002fMOA\\u002fyOR\\u002fUhkP7vdjoxRIMEaUERC2c2r5Z1PjRkf1EseEU6jU1XKW9+10o\\u002fmLlw5yvrxAdszvvuKz2R8MvseI+fbytW5POZEsfwsjqsxmDwKrIGCEGrukHjw7V2J9cnRaau2\\u002fff71Rt7V9\\u002fXZ3alF8jyeXnQg6beKIwT8EbMw6YHCABwOBdO5mm1t8YHSSRS2jjDMwfuRmdQhwwPu3S6QP80\\u002fWgOJFhO6pdL143svnpv+kQvrgkfbRiiYBj0XQGroSCEKpraxQpVqJddi++RMGzLvQu6HhGrG9tUVQihQHYKrPIDANwt\\u002fejt+qKxyUE8gQljncPHD+pMsApzaprqhZ4+AuuGB2ytUSz57fJ1Y86cGx8zbVCkreMBoBcUhNDQiAA731WqUn1+6tzp4nKVVsul0\\u002f9euYTPYDQpSkI4aVXSazpcTcaMmlcBABg4JCJ51pXbRSlH9rD\\u002fYE\\u002fSxkVjJKyzgNa5Y7nzV4y0ZnzA9r4+fUGu7r45x90Ge3u+N32iSS3rdPIO+RG5KodDH25udADcgZg5WB8dPytRqg6ueYBJpdSJxHzGrTqBJIwMPbQAAIMunMzXaG7vTTt8gmlrgfku7JiEwNwblfqnZ4\\u002fmQILlXIqaWnbdzOvzNHc269vFsxkU0z7dXNhzEUJ85j3mxQbA3YjJZk4Vlz06YiiTSkEI+fKgQgkAoG9d1w9GxPiaMcA3oktOVphd09zQYZXAgH18cuKsDje8OUcnKpm8ceEsH\\u002fhYAQghhKoL6+6h3zuFtjzrTN+pudURk2DhOH53RXwNriwVn6+XE\\u002fC3AABwcFKJ4sbl0s6nI0wcH9QbPv52goXjuHk7RgNCnC2tSC+t7PO0d6dNHBLga4d4gFPY8fk+HMenr56QMNacdwwLYXhfXwhs4ZV9R9Va7YczJ9MplEaxxIXFpJEJ21EcAACAI1NqNDN++KOqXdj7aQ+kJr0+ZZw9AurZxuIdYzyGHKg\\u002fd1\\u002fQtACWF7HBDHA1RfUPJ74UFOP\\u002f1am3mdw+diy1BWISLLFS+fHxs+fLKjU4LmAytt63iM8k4A8PAADA8W04e3HD2Uu9nzM7NvrTOVNJRO8WLNXIH772wSzf0csCYToXwdYt\\u002faY4o+zrs++6egsICYCYBAsAAAAwRlW7cMYPfyg1vS0enBwVvn7BDLJxJRUBsA\\u002fH2irnbPP1zwp+M\\u002fjSc1ErxnsOtdaNfirbubf2tMGXvkt+wx\\u002f6dQEAwDG8d\\u002fhU79nV6LCgr+dPd4Tsqlkp\\u002fK7k3yZluxbXTvAcuiigx1IRp9MLK6paXFzYWq1u\\u002fiyjNvMBTsexEiwAAACg0+7s\\u002fLOlFb2ckBrkv2nRbKoDzOLV4bq3c35YEjh5rMcQhJBCq+rl5HGjo15\\u002fL69DLN\\u002fw6XJ7BTiA5Jwr2PPdsdwLhcJmEZ1Jc\\u002fNxiR0ZteSl2T4hnvYMAxIsAAAAjqhJLPngyOleThgS4PvjkrmmlryykUJxFYvC0GdXCCEGuY9y2R+8Nc\\u002f2QQ1Ef6zb+ce6nQih8MTg2JFRUpG8NLPi6B9nH3x\\u002fqZ0jcYifSwAAcGRCVXOTsgYhFMFNhI287OaNA8c7FIqeXp0QEfr1ghkOkl0hhJqV7T4MdyNP\\u002fvPvS9duVOA47usjePnZaTYNbEC5dCDjj3U7OS7sd\\u002f99Pm70rb1KcR1ekVfDc7P3nsuO8qMJAAAOq05RFs1NKZZkaXENBaMSHc6AsDMr93RJeU+vLkqMfW\\u002fGJDLRawa7cqXxmpVCI08+ciLnrZdnRYR59Vk6FZhkxxf7EUKPfHxvZ3aFEMJIWEisvbcEREQVGgUAAOdCwsjQd2VPm9Iv9\\u002fTSoyNTP5g52aGyK4RQNC+4UdGa0X5rQ3Edruvl5PffnLdzb8Yzr2y\\u002ffLWsl9OASVQKdcHlYoyEjV2URnQsCEEPFgAAWEgsVz67dX9CoA9CKKuqfsOK2Swa9HJZSq3V3n2QhGFvTBl339BEu4fTNwpGfnvww9+X7vy5bA8ZI832GzPZa1hPJ\\u002fv6CF5ZO00kVqxY88vubU\\u002fYM85+TNjcoVFrXb0FTI5DVNaEBAsAAPqg1qnyRJfr5eWhnFiDJ4yKDF41JhkhtPnsdfuG1m+lP\\u002fMw0SGYLJjt83H8k32epsPxZ1\\u002feTqWScRyfNyvJDoENELgORwg5TkczJFgAANCHBMFohFAMr8cOCQCMR8KwTV\\u002fcS3QU\\u002fZDAg0cik4RNIqVMSWfRiQ4H5mABAAAAwPnRWfSIISE6re7c7qtEx4IQJFgAAAAA6B8Wrp2BEPr+xT8Lr5V2PV5TVC8RyuwcDAwRAgAAAKA\\u002fGLswreBKyc6vDz498q2ooWE+IZ5SkayupLGmuP67qx9xBEH2DAYSLAAAsNS5ogqxQokQyqqqX5IWT3Q4AAxcaz69L3lS\\u002fP4fjuVfKSm5Uc7gMNx9Xec\\u002fM90r0NgysNYCCRYAAFiEy6T\\u002fsnoB0VEAAG5JmRKfMoX47zmQYAEAAHAISo2muLm1rLW9tKWtul3YIpU1iaUdCoVCrVFqNDocp5HJVDKZTiHzmQwXFtOVxfTj84JcBSGuLoO8PQVMh6h+BIAeJFgAAECwhsqWbke8g+w9nEEUiVJ1saLqUkV1Zm19fkOzRtdbAXSFRqPQaMRK1CI1MGE52NUlOcB3fETo6LBgJhU+3QDB4EcQAAAIdvyf7tvC3PfCDOMvL5fWXW8rYJLpzUrh8qApNJIT1JFvEEkO5RceLyzNqKnX9ppUGa+irb2irX1nVi6DQpkcHX7\\u002f0MREPx+rtAyAGSDBAgAAgpmUTt1NrJYNcxscwPI60XhN2+sWeISTqdT7cgp2Z+dnVNfabpdjhUazL6dgX05BcoDfa5PHxvl62exW\\u002fVCZsE2mVsd6wF+apSDBAgAAYHMFjc1br2ftyymQqdR2u+n16tqFv25bMiT+tSljGRT4vOtbQWtzek1lhIubSKnk0Ykvhu7U4AcOAACADV0sr\\u002frp4rVzZZWE3B1HaHvGzYyauu8Xz\\u002fYX8AmJwYmwqbRhvv5bsm8kesHoqqWgkjsAAABbKWhsfmDrTqKyq05FTS33\\u002fv5PVbuQ2DAcXwCP36FUzgiLEtBhSaalIMECAACnd6b5xoG685nCYqID6S7ayyM1yJ\\u002foKBBCqF4kfmDrzg6FguhAHFqHUnG9oXZCUCjRgdjErqqnvy0cf6TubfvcDhIsAABwbvGC8PuCps7wHfl81DIm2eHmzawenkJ0CLfUCkUv7j5MdBQO7Ysr55UazYbrlyo6hETHYmUtypJ6eTZCKE4w3z53hDlYAAAAbGhseEikh1tRc6upF2IIubCYHhy2G5vFoFBoFLJMpRYplCKFslkiFSuVZgRzuqR8X07BrNhoUy\\u002fUaHUXSiqpFPLwsEAz7uss3hs9kegQbOVm+38IIXd6mC8rwT53hAQLAACADWEIPTQ85eW9R\\u002fo8k0IiDfL2SPLzjfP1CvdwC3Vz7aleKI5QeWvbjZr6y5U1h\\u002fKKlBqN8fF8djJ9cnS4qYsK22VyiVLlzeCYdBVwEAptR7HoBEIozsVO3VcIEiwAgDFySuofeu8voqNAFzY\\u002fSybDxAbnMys2+qvT5xtEEoOv+vK5+vLraUEBLJpRVVIxhELdXEPdXBckDH510pjtGTd\\u002fu3KjXSY35toGkWTPzfwlQ+JM+AMgtPVS5iAfj10ZeRFe7lyGw43Dgt7lCvdrcRWDzIvg2a+LDhIsAAAAtkUhkR5IHfLJ8bNdD3pw2LNio6cNikzw87akcRcW87FRwxYkDF676+DVqlpjLvnj6g1TEyydDp8yOFIoU4jkSkiwnIsO1+YK9yCEYvgzKZj9\\u002fu0gwQIDXXZOTexgPwzDiA4EgP5s6ZC4b9Mvi5VKMoaNjwhdmBQ7NjyEbL3fO08u5\\u002ff7F71z6MTfGdl9nlzU3FrY1BLladqGj\\u002f3gTUKtE19ueMGVEY8QalPcTPP+ikJiER2UzZVL0iWaZgyRYgVz7HnfAZpgaXRaokMAjqK0pDFmkC+Z3Nt7Z05Wdeb18ikzEjy9oFAhAOZg02iPjEgRyhX3DU304\\u002fNscQsyhr0zdUJlm\\u002fBSRXWfJ58sKjUpwXrunlEIoSWp8ebH5xi8WCMjBCsQQsXC34mOxU5utu9CCIVyR3Gonva87wCdzaDGTZgRCUBsQoCrG0fUYdQMDwCAQWtGpr48aYyNsis9Mom0fsFMN3bfvTKE1z4F9tGiLKmX30QIxbkssPOtB2iCpdSqiA4BOJPcm9WiDnlgsGkDCv0JhiESCSP8PxjJBX0SMBkrU5P6PC2vodl2u00Dx3G7OgPT3r2PA3SIUKSREh0CcCa4Dnd149TXtgeFeBAdCwHKqlqYVOrF39YSHQhhqqQXjta+zKF4zQv6hU6GYWJHtzwl4YcLVyXK3r5IS1Wqitb2EDcXu0UF7E+hFf2\\u002fOoO9u6\\u002fQgO3BEqkMrxYGwKDYxMApMxIGZnbV0Cxyc2Ez6FSxdIDuMaLRKS42fUMnc6f4fQrZlVPg0umTo8L7PK0Stibs7\\u002fKE+\\u002fTVGSLtWJ2h0wBNsBqVJtcUBv1VXFwAiTRAfxGMcfJikUajO325WKUaoEtDLjVvRAifFfCdK71\\u002fbtDWL6UE+vV5ToNIbIdIHE2j7Hxe26a8tk2NsvNEx2JbONLlCPcihGL4M8kYzf4BONYQIYZ6nGChw3XWuotILZFqYLYyuCUszK7rSpzO9HGDD53JFYpkbi5somMhxiivF4gOAZhsaGDfO0w3iQfcXBEqiTvK9weio7CTMnG6RNOEIVKsi12rM3RyrASLjJF7esmKKVGppMZaTQHQ7wl4zNZ2aVyUL9GBEKBOlpHdvr1ZkafWydgUzyDOmCS3B2ikAZpoOpdgVwGNTFZpe+t2larUdosH2J9+ensodzSHQsy3aMcaGaGTe9wkQaa1WoJVKK6wVlMA9HtarY5CJo1MCSM6EHvLE\\u002f53sOaZaulFFsXdh5WkxuXZ7X\\u002ftqVot17YTHRowCp\\u002fJ6P0Ek3YwBM6lRVmqr84Qb8fNB7txrB4sNpnZ00vNSqG17pLRnm+tpgDo967erJwxIZYywHYA7FBVX2reQMLIE33WBXFGI4R0uPZ80+eFHfsvNH050Wcd0QGCvvEZjGZJb4OAkGD1Y9ntOxFC7vRwH7tXZ+jkWG+arvQeV+iUiKuscos2VQf0YAFgvLSkkACfAbeUPU\\u002f4nw7XDOLP1WdXCCESRh7p+RyL4lYuPi1W1xnTSJ1MeK6x5FxjiQ6HiksE6LMHC\\u002f5d+iuFVlQsOokQiiOu+wo5WoLlRhNQepiGVSmrU1ijOujxxktWnC8PgCPrUDf+Vfkm0VE4pRrZZYRQOO+ergdJGDWYMwYhVCk5Z0wj+R0Nwz1DdQhXw95cRCCToCztAJXXsV+DKxlkPiHVGTo5VoJFxkj+LMPbqmtxXXpLhoXtK7TKPbWnLWwEAGeR33HejR5AdBTOR4urRapaDJHc6N1rKbnSwxFCbcpSI5siYyRSz4ujgeMTCWVS8QCtAOekcKTLEe5BCMUIiKnO0Mmx5mAhhCK5QRXSWoMvHapLn+yVZknjf1YeEKmhxCgYKMqlN6K4I4iOwvkotSIc6ZhkFxLWfdkNk+yKEJJr24iICxCgvVlMpZHZ3D5GG4HjwBBpRejfREeBkKP1YCGEEgVRPb1ULKk61njJ7JavtuXshe4rMJAsC1o3xHUa0VE4Hy2uQgjdnV0hhCgkGkJIozOqS0OuVZ+oL8hsr7ZueMCecq+VUyg91g\\u002fqB3BtrVZ5Wqs8jRBMnrEyh+vBGuIyiEaiqnSGy5P8WPpvNDc4oIdhxF5ktOd\\u002fkr8ZRzClEQDQBwpGRwjpcAPvQhqdCiFEIRnVnzHTPw4hNNEn2qrRDSwSpapZIm0US9pkMrFCJVWpJEqVVKVWajQKjUah1tzxQK1RaDRKza3HvRfBMkbGuSI3L76nX39e5KFT55AZE7XKdISrEUYnOpx+xeESLDaFmeYWf7b5usFXFVrlS1lfvR7zcCy\\u002f732m9DS4dkfVkb+rj8DcdgCAMehkLoZICm2HDld368eSa1vR\\u002fwcKgdW1y+RZdQ259U3lrW1lre3lre1SlRXWNplNLJS1NYsObBVOX5aG9ecp8xQEMwVtwOESLITQAv9J6c0ZPfU2STSyN7I3TPBMXRI41Yvh1ks7IrXkTPP13bUnmxQwYQIAgBBCtWJRibAVITTaP5iEGf5QIWFUPi1AqKpsVZZ4MAZ1fUk\\u002fvd31rsnvwGwSpepCedWZkvLLlTVVDrb78tiZie3NYhqD2q+zK2ArjphghXL8R3kkpTf3uGZQi+uONV463ng5jOMfJ4gMYvlwqWwOhanDcblW2aoU1sqbCsUVReIKraFeKwGNuy72yacyPrLlHwIA4IhyW5omBIWm11SodVo6ucc3QH\\u002f2MKGqskR0pGuCpcPVFZKzCKEgzih7xNqvqbXaU8Xl\\u002f2Xlni2t0Ogcd3jBxYNLdAi2heMKreKIVp1Lpg0nOpb+xhETLITQmrCFWcKi3lf84QgvkVSXSEybQIohbG3k\\u002fcFsX1car00lsixMAIDzoZBIPfVddRrEn5cn\\u002fC+\\u002fY7cvK0WfTulw7fmmL2Wa1lDuRC7Vxy6R9k8SpWrrtczNlzPaZFbbAA2YjcKcgxAiM+7p80xgKgdNsPhU7iuDHnwre5MGt3KBvjVhC4e4DEIIhbD921R51m0cANA\\u002f8Gn+aR5PXWj66ljdq270CCbFtU1ZItO08mmBIzzXEh2ds9LqdL9dufFt+mWxUkl0LADYnIMmWAihOH7ES4NWfVbwm1pnne2iMIQ9GDp3hu8Y\\u002fdMQjt\\u002f1dkiwABhY5Br10fKS3JbGNN8+SrDGCOYLaEE32\\u002f9qVuS3qyo4FK941+VJriuoJLZ9Qu1nsusaX913pKi5lehAgHO70V7+2JUfez9nmFvENykP2ieeXjhugoUQGu6W8H7ck58VbGlRWrp9PYfCeiH6gWSXmM4joWx\\u002fC9sEADidORGDEEJTQoyape7LSvZlJds4ogFh2\\u002fWsD46eUVtcNwGAckljn+dcbyuTa1VMMpFl3JGDJ1gIoRhe2MYhr26tPHCo\\u002fpx5w4UYwiZ5DXsgZDafesdcxRC2n5ViBAAA0KOPj5\\u002f99ZLhyjvGY1Ao3jyOB4ftweEImAwuncZh0NlUKpNGZdGoLCqVSaWyaLf+z6JSmTTqxI2\\u002fNoph647+ptSIBCvRJZjw7Ao5foKFEGJTmI+ELZznP\\u002fFw\\u002fflTTVeaje7N4lJY471Sp\\u002fuM9mN63v2qH8uTTqIpdUQWWQEAgP7to2NnN182J7vyF\\u002fCTA3xjvD0GeXkGuQq8eVyolAAQQmVGJFgjPRyiuq8TJFh6HnSX+4Nn3h88s0Jal9tRUiqtqZM3tSo7xBqpUqvS4jo6mcYk011oPH+mVxDbJ54fGckNImE97gWEIezfkV\\u002fY848AAAADyj+ZOaZmV0P8fWcMjhoXHhLgwrdRVMCplUua+jxnhEePe+7Zk9MkWJ2C2b7BbF+iowAAANCboubW9w6fMvJkEobNjY95KC05wqO38tFggGtTSYQqae\\u002fn+LHcgtge9omnd86XYAEAAHB87x0+qdQYtQZ8kJfHx7PvGeTlEB+KwJGVihv6PGekY3RfIUiwAAAAWN3xwtIrlTXGnDlzcNRHs6bQKfBh5FiutVTlCusRQvOCEnhUo3Y3t4NCUV2f50zwirNDJMaAn2kArGlHyc3fCq5TSaTPRsyIFLivu3bCl8V7KGYo0XEBYFdGTr2aNijy87nT+iysbx7D29kCZ1Yo7iPB8mTwE1yC7BNMnyDBAsCaPs44fWbumjN15d\\u002fnXHp5yLjj1cVHZ68mOigA7KqkpfVqVW2fp4W4uXw8e4qNsiuEkFJtnSLVA1OKe2CKeyDRUXRX1FcP1mTveAw5ynrTHhfZAQDMgCGEI1z\\u002f5Xlj9oXVMam97CgMQL90oqjMmNPeumc8k0q1XRhytdp2jQP7k2tV1bKW3s+Z4pNol1iMAm\\u002f9AFjTa8njlx79i4JhTyeM+uDaibeGTiQ6IqeX014\\u002f\\u002f+TPxp9PI5Fz5r1mu3hAn86VVvR5Tpyv18hQGw7lSJQqFRSO71+KxfU6vLeB3yC2RxTPgYoMQIIFgDUtCItbEBaHEHr5wqFHY9OoJDLRETm9DflnTDrfhc6yUSTASDn1fVcqWpAw2KYx1HWIbNo+sL8+Z7hP9kmwTyRGgiFCAKyvQtx+rbmGTaFN37951oHfMlv6XvkCDMpprz9VX2zSJeuGzLBRMMAYDSKJVNX3DhmjQ4NtGkZpa5tN2wf2l9tR3curGMKm+w6xWzDGgAQLAOv7Juvck3Ejvso69\\u002f3Yea8mj\\u002f866xzRETmrjflnTTp\\u002faeiQcd4RNgoGGKNG2NHnOVw63daF2m\\u002fW9l0wCTiXXGFvCVaqW7gv08VuwRgDEiwArKykozWvrWlOSIx+KQve66QB0ItcYf3J+iLjzw\\u002fmuL4aN8V28QBjSIzovrLDNjhXqoyqwgWchUgt632G+9yAVLsFYySYg9WHCmntDWEBk0xvUbYvDphKI9lwzQtwQO0q4ScF65cGzhdrJJdbr1fLasUaCYYwDoUTyPJLdRsy0i2125aXX2WmP50wkoRhLw0Z++iZXRhC76ZOJip+p7Yxz4TuKzKGfTZ0LpMCv6EEkxmRYHHpNJvG0CiW5NT1vSUwcCK9jw+60jijPQfZLRgj9cMES6XU\\u002fLn+6JmDNyUd8ohYv0denRk6yPxlBRKNbKhrrD\\u002fT63TTVR2us2KcoJvGxo7KqlaE0NCUEMxmpXFMxSQzw7mhnxSsRwi50VwjuKFsMgshJNVKa2R135b8eqTh5CvRz3Ao7M5LNo2dq38wJSBySkAkEVH3B1lttSdM6b56PHp0gquf7eIBVmTrX\\u002fA92fnQb9zP5PQ6PjjDL5mCOdyKon6YYP340b4D2y7FDg1JGhF+Zn\\u002fWC8u\\u002f\\u002f37\\u002fWk8\\u002fxxqaBXcrLmkcnhZ+7Xq5Wq2l0RzlJ5NBppMQiUfl+jC8KqTVwezAGT6TKNit8MqklV8UbtpWtfOR0BXExtn\\u002ffJJ93PiTE1z9Hh802nbBAOMxjCht1SFX2C4ArU639VqW7doHhOilBwtD2Fx\\u002fR9wto7\\u002fNwdJqdUd2XI0dGvLZ1kef\\u002fWDh858slkuVB7ZfIjouYBQymeQ4fVedrrdnzveb8c7glx4Kvfdw\\u002ffGXb76X3ZGnfymUHTTff+bVthvERtj\\u002fHK8rvNZSZeTJHgzOxrRFZKy\\u002fvZs5KQ6t7+E\\u002foS0TrO0Z2fUise3aB\\u002fanw\\u002fFcYY9vCKlu4X4sN4QQri7QSn\\u002fSyrZqxF8gXNnT+XK1Zs\\u002fN\\u002fG22z8IdpZ\\u002fAWlobRRqNNiouQP80KiEAIdRQ3U5oUMC5STRSPpWPEBrtnpbikvhP9Z5PCtYnuySuCF7sRnNlkZkaHHbksCYtjn+ec9LIk6kk8sa0RV5Mrk1DcigtyrJKyXUqiSnRtKS6L6dgtp3PZCpfft\\u002f\\u002fFo1iSYdCwWdYfwvhdpn8mzMXrN4sIFaZpFGs6TEpXxY8Sv8Ax4Uk+gSMEqaV70aoxzKzdR2icA\\u002fXshabJwZ2+s43es+mk7UldriRqyeXQiFXFN9aoFuYVY0Q8glwtaTNc83XDzecu9lRaIX4QM+USs2580V5eX1vYWZnASz\\u002fE01n9FkUk8xYEbzko7g3RWrx85lv7ak9dLrpfCDLn+gY+5V\\u002fym+UifvYEKPTe0nTk9wG1t+\\u002fQisO4abFu8x0oQXguMMVK\\u002ffmccmkPj5ZdDhuzGaFpsIRennvEZt2jwFCZLaX9\\u002fRSMNtzmLtplVnC3F0H+3jNiou2OK4+9LceLAqFPGVhysHtl9946Bd3b\\u002f6Z\\u002fVkMJm360mFGXq7DcbXu9hsWnUyJ5UfE8iMQQlO9R9kkYvB\\u002fEyfEIIRGjXS4WeEL\\u002fWd9Vrjx5ZvvjXZPC2YHsClshKPZflN31uzbXr0LIbQ4YA7RMfYfMo3K+NLtD4SnLghOtGU4wGQUEinK0z2voY9i7scLSydFhln31l+eOn+6pMdPYuC8soSVPb20NHik4+zu3I39EqzVZ3ZgCLky2KmeAW8MmeTD4tnoRmtem8Vk09MP3cy\\u002fURUZ77\\u002f65ZnGz3BPr67U4bh+d\\u002feM+rq1w0bYKEjgRBIFsa9EP729atff1bu7vRTBDfVn+v5bsy+WPyiCE0pEdH1obBLp12amJAeTHG9+293W551pVkiMOXO4Z8gr8VD1yhEl+vn0mWDtyc5\\u002fcvQwf4HVCmJ9f\\u002f7KD+evWKs14FB66sHiU1nTfJLsHIzx7Jdg\\u002fThm0Vjf0Dqp6J1rR165fGDL+GVGXiiUyFkMGo1i7ApMGoO6+uUZq182c7uMMQFB+v5tpQYm1oBb4vgxcXExQnVHrbxeqpEhhNgUdgDTl0flIoRm+kzxZXoTHaNhxaWNw1PDrmZUaBxpbWZPikXNW0qM+owM5bqvH7aA7Awp4wA0Jjx42\\u002fU+ZhBrdboPj57ZtHi25f+Eaq32vSOn\\u002fs7Itrgl4Ijq5O3NCsM7S84LGEYn37FqVafYj0juuDoLMYj\\u002f9mW\\u002fN1wShlFJ5CCuy6KwhA8yThh\\u002fYU2T8NzN8kfn2qMzKdzF9URFmf6xXKO2wx2BExFQ+QKqgS\\u002fcDptd6ZHJJKfou0IIvZt5SGtEtTk\\u002fluC30ffyaUw7hNQ7LY6n11YghAK5\\u002fFC+RXM9TVIkOs0iuzQoCsO5jtjLPio0iEOnSZR9VBw9XlT6+Yn0FydaVF+jsKnlxT2HCxqbLWkEOLKeuq8oGHlh4PCuR0i0NERLQwghdK\\u002ft4+qb\\u002fRIsHY4rtZoaace2khtpXoFGXtXULvZy5S6ZmFTR0OYp4LAYva2XaW3sOHck58aF4vLCBmGrRKfVcflM\\u002f1DPlNFR05amcvmsPm\\u002fnx+X5cW01dgkA6MWequwrzT3OtOjkyeD+PuY+b6ZD\\u002fJ7mtzX9WXBjUUScPSvI+7MS\\u002fFkJCKF4NNNuNzUJjUyeFx\\u002fzx9XMPs\\u002f86eK1RrHknWkTOabXdq\\u002frEG86d+m\\u002fzFwt7EbVr033HeJouzgbyX4J1iNn\\u002fyFjmCeTO9Ev4sXEcUZedTmvik6lTEmN+vPotelpg8L83Hs6c9umE9s2Htdq7\\u002fj6294iaW+RZF8p2\\u002fVb+ge\\u002fPmRJSXfb02iV6RjZl0SJIjoS0H8oFOpzF4uLSxoT4wMsbw3HUUZOVWFpo1SuRD18qD283JzlIGK18lMjKou60FlbxtwXwHaUusEZTXWjfIOvNFR7sTg+7AFUKqJPD6Qmbbt+U6vruz9yb07B1araB1KTFiQM5jP7LtwgVanSSyv3ZuefKi7rJbVi0ajvTJ3w8t4jkHwBotgvwfp57OIJfuG2az9skK9Wq2MwaUkjIwYnB3v5u+A6vLqs+cC2i23NYmGr5MNntv546HkS2UGrEWpVNzCSB66tw8l+GMYhOhzQT0waH4MQGjXctGXMBimU6hfW7czM620PXQwzM8H6JPt4n3PbuVT65lH3hnF7\\u002fJZlf5Wi9hqp6NWUscE8R8n5HESgi2B5crwxnVgIoXqR+OPjZ786fSHJ3yfe1zvG28OVxeLQaRw6TaXVKdTqFqmsvkNc2tqWU9eY29Ck1vZRnIJMIq1fMHNMWPDPF68VNbda4c8DgOkcfdIrhUzS6HQIoXaxvPczU8dHv\\u002fjZ0hFTBjOYd3Q1z1s56vHZXzdUt9VWtGRfLU9Is\\u002fLCYGvRKo6QqNEYxsU1ZRg1nuhwAOhu2+6rmXk1bBZtypgYTzfuj9vS05JCI8M8G5pEGdlVzW2SB5eMWDTDnJ78801lO8ozej+HSaH+NHJZjMCxprvx6IxJrp5\\u002f5N+YEBA20jeI6HAcyzNjRxwrLGkQGbUmFCGk1GguVVRfquhtyzkjfTBj0piwYITQ0CB\\u002fSLCsq7GypaqgFiGUMjkeIznH5E6i2CnBSp\\u002fzhHkXJoT7vbv5SFFVU32L4UUEnTAMmzDHwHJNJpu+ZM34b97YiRAqyat12AQLYUxcW4coEfADCxyKSKLgcRgIobOXi0kk7NsPlocFuSOEfvvnYnJ84NLZKQghhUL98bdHtu+9NmlUNJdjWnluqUb1+vX9vZ\\u002fDpzF\\u002fGrks0fH2cn4m0RHnmDsIHoP+9bwZ9\\u002f7xjzEDhdZCwrC3po6fnzBY\\u002f3RooD\\u002fsS2hdpZnlw2YMuX7splqloTHsN\\u002fXQGTnoeFknX3fedy8sfGL+qO9eWNjLBKzeBUfe+tYr6eijG4xQOJkxXas4ZLsbFDa0bD53\\u002fe8rN785fgGKUIA+qdXarbuuLHjkB\\u002f3T2gZhRIinPrtCCNFpFKns1m5fDAb1pcemUKnkn7efN\\u002fUuH908Vifr6OUEHyZv+7iVDphdgT4NCfD9cOZku31ppJBIX8ydtjw5ofPI0ED4sbE+MoWM9VWsHyDHHyJECJEwjGR0ESyD2Lxby7m7TYF3NCRKOEI2jLBDrhgbFRLq4bovM1+rg6mfoDd\\u002f77u+bfeV1nbphJG3Vl2o1FpWl\\u002fF3LofR3HZ79IfFpMWE+2Tmmja+0+fgYDjP49dRyx1kzSAww7z4GI1O99bBE7bux3JhMb+YO21U6B0DtR4cdrCrS0UbbEcLCOAECZZJinNqr57OLyuob6oTioUyuUypUqiVSiforaFxX0AI0QUbiQ4EAIQQ2rD5FEJoxsS4lx+\\u002fVa\\u002fPhc9qaLo9Uu\\u002ftycsprOt6CZNJFUt63MHeoH1VOb28OsTN\\u002f4cRy\\u002fg0628JDGxErqkTq8oRQh6s4dj\\u002fR0gWJcb68rjP7jrYYbNdAocF+X8xd5on18DyoKFBfpBgWZFCprqw52pJZkXC2BiiYzFKQ7OoorYNIZSaEGTnioD9J8GqLm36+vV\\u002f8zLuqKNDJpPoTBqHyxAJZUQFBoAzYjKoTz84YdakuM4jUWFe56+W1jd2+HjxEULx0X6bd1w8cCJ7xsQ4hFCHSJ6RXe3pblqpgl76Ucf7RHwzbCGD3H\\u002feowaCDmWBF2tss\\u002fwCjqsxjN55fGRo0ME1K94+eOJ4Ual17+jCYj45Ou3elISePjtTA\\u002f3\\u002fudFbHg9MMmHZSITQiDlDiQ7EWEUVTSOHhF65WanRaGlUu76f9JM3r4aatrVLvpWK5AihIaMiJ8xOioj18\\u002fARMNl0hFBZft0Tc74hOkbgNGqlohJhC0JotG+Is9RAt7o\\u002f16\\u002fycr9jYG7MsIjzV0tPnC+4b\\u002f4whNC08bF\\u002f\\u002fnflo01H9hy96ebCvllQ2yGSTx5t2gb1n6TM\\u002fiRltjXjBkTDMLLB2b0eHPa3i2dfqqj+5szF69W1lt\\u002fIlcVcMiT+4eEpvRcpTQ3yt\\u002fxewKmRySSMiHfyfpJg\\u002fbn+uD67Wv7kpPufntztVY3Goade2dOh7CJ3DutmTcPEGBvWJHN2uW2NE\\u002fzD0uvK1TotfaD2oHTLrhBCk0ZFq9XaqeNujQv4evFfWDPps++P5RXX64+EB3s8tHSkXaMEziYtOCAtOKCgsfnfzNwTxaW1wj6Wh9\\u002fNnc1KDQqYFRs1LjyEbMRUax8e10\\u002fAM+NGzi6jpu6ZnQc0Ot3nc6aO\\u002fP\\u002fUtL+u3\\u002fzsZLo3l\\u002fvzsnm+fCiNa1v95MMj+0opQohCIS95ZNzdrzbVwgA8QgilhvinhvgjhJakQp2tPlAwEgkN0L6rntBplLn3JHQ9MmNiXFJs4OUb5XKFOjjAbVhiMNlRC\\u002fkC+9DiigbpyQ5VgTszpZfTor083rhn3Bv3jCtrbcusqc9raK5oa28QiVukMrlao9JoMAxjUCkMCoVJo3qw2X4Cnh+fF+rmkuTvG+QqMDWqU08+ZP4fyWltu5bVKJYghH6\\u002fmtmZYP144apEqSpRtu7PLXhkhNMM81lCoVSfvVpSVN40ZLC9+zL7SYIll6oQQlQa2WBZjjMHoA4KADbh68WfNzWR6CiAo\\u002fDjTEcIebMn\\u002fK+9+45vqnobAH5u9myTNt17t3S3tIVSWijIkCWgICCIivCKiIpbcA9U5KcooiIgojJkKUv2KIWWMrpnOtOdNG2zd\\u002fL+ESylTdu0zc75fvwjvTnJfdQ2ee455z6PnuMDnZ0CnZ0WxA49EhqunkWxh64Ukb7P2rxpaREAgPQkMyza2MjlprsPHQAgEcsrC1l9njp9IDf7XLE5goKslUSpON\\u002fIvMdpGXooBEFGtrsqo4p3uufHBuF1oaLNjPFYi6WJsW5UijOZtCL5QQnuNalJFDwumOE8OxI2vTU6RGMTfciP7Lq2+6szAABnV4cnX8gMGuOJxqCbajmXT9y7e70qPM63urRZqVA9sXrSs6\\u002fPNHewEARB0GCy2jYzCKHO+DBnfPDe6kcmur0V5jhb+9Suqom9f4Qgi2UjS4TzVky4e72qIKeay+b\\u002f8NHfvZ+KGhvw0c6V767cVVlkgBZXEARBkLGJlBwW94ZUxdMW06rknRIq2+k4fxouwNyhQZC+bCTBwuIwn+557szBW1dO5Dcw2+VSBcWR6B\\u002fqnjErdvrjSQgKiYj3gwkWBEGQVZjp\\u002fT8AgFDZzpUyL7S8o9RI6gRXChVNao0KAFDQ+TtbWupCCGcQIhj4UHMHC0G62cgSoQViN3JZlS0AgMTMKNhyHIIgaGR61gTVGiVP0Xi0foUnKVEDNB3SCoVavCr0urkDtFxlbeyTJRU361htAqFAKqMRCb5OtLRAv8Xx0S4Usj7vUNvROfPH3y6\\u002f9JwXDbarGjYbmcGyQNWFDSkz4u5dLoEtxyFoEDWCjtKuVpaoiyXqYgm7OmViiUouUSrEKjkCEBIGS0BjSRicO9HBm0zzIdECqYx4Z28Xgo6mKJDNyOPscCaEOuNDHHE+PQdRCIaOCwAABFGnhjnO1gB1t6zebCFaNpFc\\u002fuG\\u002fl08Ul\\u002feeQekQiTtE4nuNLb\\u002fcvP1yRuqz4xLNFp99gAmWEaExKDh3BUH9dchE55rKczn1dzpYXJlokJE8uYoHpACAOgG393EvEm0sw+cRz\\u002fAM92C7LQZrw5rEeSXdh9UaJQYhAACq+edkagEd50\\u002fD+feMQQCKjg80W4gWrFsifebPo6VtbO2PRCwmiOFMxGI6ROJ6bpcGAIlC+cXFrBaeYNP0SWaN1MbBDyYIgkxErladbSr7h1V8k12rGt3mhGZxdzOr+x9WMQmDm+IRujw4Oc7Jy1BxQma3wG+vSqPoktVyZczr7V+KlJziroMSZaf22eKug13yWgY+3IUQ0XuKC9J668Q5bXZFIxI2Tps0KzIM81\\u002fJ+za+cMvl6ydLKgAA+27nx3i5z40aur2VVKn84kKWuwNlZUqCUSO3MXAPlrFcOZyLJ+JqiliLN8yCS4SQnZOplIfq7u2svMmWCox0ikSGz5qwCZPcQ4z0\\u002fpC59OzBkqkE3fL6k41r3YhRao2qU1at0ijgHqw+zpRVvXLsNACAiMUeeXZJiItz\\u002fzEvHTl1roIJAPBwoF5a9yxm4I5D2j1YDAo52sPt41lTXKlwaX4Y4AyWsUx+YhwAIHU2zPche3e4Pv\\u002fb0qscqdCoZ7nb0bi64+AE18D342YEUHV8qUBWioJ1x6KIAAA8mupGjAYAhDrM0u5575TXmjs6i7Mn9672wcqUBJ3ZFQBgfcZ4bYLVyhdcra6bGhqkc5hEodyXlw8AWJc+bkli3wZr7JZuVi0bAJCYGgI3w+gEEywIgoyFJeradPdULqfeZGe8wa6dffHn1WGp6yIy0HbTDMS2PRlwuPePY2gL6Hh\\u002fAAAKwQy3RkNbY2ddZWt7S3dHa3cnRyiTyuVShUKhwuIweAKWQMTRXSjObo6uHjT\\u002fUHcPXyer6yfTxhcWtdwvcz8nasBa7SEuzi4UMkcoAgDcqm8cKMHKb2qpYnMBAOlB\\u002fv2frS5vSZkUfu8GU6FQ4fAwl9AB\\u002fkeBIMgoDtfnf1JwVqpSmvi8CrXqh\\u002fLrtztY3yQvgDcb2p5U11eHNb65oeP2tco71yorihpFfIn+LySS8aHR3olpoYlpIYERnsMM0zzuNjZrH2g3tg8y0o1K0SZYrC7eQGNSA3zdqZSZP\\u002f420AA0Gt7INRiYYEEQZGAqjXpz0YV91XlmjCGP0\\u002fDYpV92jF8UCze\\u002f2yWpRH71ZMHZw7dHXGJaIpIV5tYU5tbs+fpf7wCXaY+PnfpYIp1h0Sk7q6tb+0CiUIZ9+o0+L+mWDJ10tgkebJ10IOKpePyIorM7MMGCIMiQxEr5Czl\\u002f5bDrzB0I4EiFT1\\u002f\\u002f4+fUJ1Nc\\u002fMwdC2Q6cqni5P7cw79c5XUOVgFkWJrqOHu2\\u002fPvH9xdnPZnyxPMZdAbVUO9sWN0S2XBfolCphxyzdO9fPY9fy0xbPSEJACCTKm5eKqspb41JgsUydIN3EUIQZDASpeK5G\\u002fvvdLDMHcgDBDRm+\\u002fhF6W66d5lANuZOVuV37x\\u002fjtA647DV6RBJu5YYZc5aNt8DVsc\\u002fOX\\u002f0tLx8AQMJhY7089HlJoDP9gxmZRo7LTsEEC4Igw5CqlKtvHDDUlnYEAEN9NhEx2P0ZT0fS9Pq+gayUXKrY\\u002ftHfF47dNc3pxsT7vbttmbObZTWQ2X4997trOQAAL5rDlXXPmTsceweXCCEIMgANAK\\u002feOjqy7CqQykhw9o6keQRQnT2IDs4EMgGNxaHQKo1aolR0yyUtYh5L1FXc1XKP21TJax\\u002fu+0uUijU3Dh3NfM6NaKErO9AocVp5H7+4r7q02WRnLMtveGnBd5u+Xz4mwYIWoD0d7v+GswUiuUqFQ6PNG4+dgzNYEAQZwPflWd+XXRvWS7xItCcDE2Z6j\\u002fEl0\\u002fV\\u002fVbOYd7qxdH\\u002ftnRbx8JaBoumef01+Bo0MWFMRslItDdw3l\\u002f\\u002fMbeeb\\u002ftQ4POaDH59OmGAp5W2bu\\u002fmTt+\\u002fWPt67bGFqgK9547FzMMGCIGi0rrVVr75xQP+PEm8ybUPk5Ee9I1EjrTOk0miO1udvLb3SJRPr\\u002f6qXItJfGpMxsjNClqmlgfvmUz9z2WbIrrRweMzHO5+JHWcpm\\u002fzm7\\u002fpT2ycnPch\\u002f15L55g7HrsEEC4KgUeHKRDPO\\u002f8iT61VhCAHgmZBxG6IycSgDLF7w5JI3bv9ztY2p53g0gjqS+SzcjGUzRALpq4t+aKzl6Dne1ZPm5c\\u002fw8HWmOVMc6WQCCYfFYTBYtFKhVMhVYqGU3y3uZAtaWdymOk4nR9+2ThQH4ndH13n4WkT\\u002fgAuV1S8ePql9\\u002fHpm2urUpEEGd4olTiSiSeKyRzDBgiBoVDbkHT\\u002fVWKLPSCIGuy1loWHbBWoA+LLowh5mrp7jo+geRzNXWdzdX3aD3yWi0kiGqpD+wZq9eVcrBh9DZ1BSMsckTwqPiPOlOQ+jihWXzS\\u002fPb7h9rTL3cjm\\u002fa4iKD\\u002f6h7t8fewmDtYg9T6\\u002f9\\u002fa+2nTMAYEpo0NPJ8Qk+nj37sXhSaTWHe6uh6VJVDZ1ItMBZLrGyjYBmoBCr3yMOEywLVcG\\u002f3+7AGUd2IcCdudAQtuy9dPRCAZVMOPjVSmca2WTnvd5e81z2fn1GUrD4vWlPxTgZpSL25qLzvzJv6Tl4W8rCmd5jjBEGNKSZYW\\u002fHpgS99uUiFw\\u002fHUb7VuSO3v914dJABYTE+i1ZPSsmMQKNHtfFOqVDlXCo7vPMqc9BN9MvWTX3qpamjOZGhSJXKdYdPZtXU9xxBo1A0IgGNQgllMrFc0XN8YpDf7iULzBDioNolt53wY7Ao032OGQlMsCxUzMn3tQ\\u002fm+sR9GmeUPwCuTJjNZhZ1NXFlQrFKTkbjvEj0GLpPqksQBUswxhkhI2F3ChZu2K1QqL54Ze6kJNPtt1Vp1DPO\\u002f9gg7BxyJAaF2j1h6XjXAKNFolmVvf8GW6\\u002fWv\\u002f4Up3+nvQB3u5vFzLC3AQBkKmHt+\\u002fMy58aP+H26ucJVM7YO1PqG5kxZ+\\u002f68iTOiR\\u002fz+Ol09VfjTZycGql+KwaJ3ntlgIQuFao3mpxt5v9y8I5LLBxqDQpAVSfHvTrO4XYl1\\u002fBMBDnPNHYUBWP0UnM1rFA397TVcAoV0R+Xlg\\u002fV5Ko2OGr5ENG6Bb8ILYZMdsHBt3jpsP5ClUKhWPpZiyuwKAPB3Q5E+2RUA4PWoKcbLrgAAaAT5Mmnu9HM7RMoBv0561As7zzaVz\\u002fKJNF480OBEAumWNw7lXipb\\u002f8kCisNIPmeO7Lo2UHYVEe\\u002f7wY6nHZ0MP\\u002f8xaXZs3Pigj1\\u002fcV56vo5SuUqE6+NOVVz9\\u002f3ODnHQEUgqxNS1mWGPtPSfnNWlYlp6NTJJGrVGQc1p1KCXZxTvL1nhwS6OloicsjcjVfpZGiEau\\u002fzoczWBaqZwaLgadcnvamAd+ZIxWszt1bIxhiW6grweHbpCVRNNjHzdIVM1ue\\u002f\\u002fDAU7OT1i1JN+V5VRrN9HM\\u002fsERdQ45MdvH7PX2FCbY9\\u002fcq8tbnovD4jkxi+f2Y8bex4oP60M1g9PP2cP9jxtG+w67DehNcpejrzC5lE0f+pqKSAz3Y\\u002fh8Mbce5ALlO+t2pPUZ6O6VI0GvXrpbdGv\\u002fpp50o6dwY7Pk5AO5k7kNGyjknyNg4\\u002ft6A+t6BebX\\u002fpYIdMKFU99DkiVyv5ColmRGWulWrV2lu\\u002fD5ldAQDYUv7qnL3lvNYRnAUypegQz9w\\u002fXzNxdgUAONlYrE92hUKQ92Knm2ZT+ZLARGe8XvMWtztYTL6+t55BxtPSwH1l0Q85l8qG9arLJ\\u002fJ1ZleunvQPd6wwanYF\\u002fqt95e6t4+tfpVJfPnHPqGe3B+G0p\\u002fBomrmjMADrWCKsqmdPSAjMK2pQKlU4rHXEbECNos4gqsuF1rLTzUUFnaxuuRgAgEGhXfCUZEZgpntEhluYnvWE9tRkV\\u002f63fX5IQqXs1TsHjmS8SMHA3ulQXwdq9epJMs83JszRzdjBaBHQmKVBY\\u002fWsd3q8ofDNaIvYkmyxNBpNWVnLrds1RUWNXK6wq1sslyuIRBydRvb1dY6I8ByXEhTg7zLKs0hEsk9e\\u002fP2p9VOXrp2i50su\\u002fq07iXn184XkES04DheJgt+w+fE3l+\\u002fs\\u002f9TVkwWL10w2QQw2DIMimTsEw7CaZAWNRhnqzl6rc7mt\\u002fO38I0z+Qx1ClGpVq4T3T2P+P435EY4e70bPjqX7DP4+CrXqj9qcPgcpGHwM3ccRR+yUiSr5bdrsrUeLuPunyiuvR84wyL8IZEB\\u002fnr7z\\u002ff4BM4k3n526YEqs8c5eL+Tmc5v0GflsSIrxwuhvrk+UngnW5VYmTLAGkZNbvXPX1YaGjj7HBQKpQCBlNXKzb1T9sutqRLjnhldnBAUOb42vD41G8\\u002fu2C5xW3vqP5g\\u002fZQZnbzq8tb+l\\u002fPCEtJG588GjCGJbo5MDkSeH9i0TUM9s72ngMd8eKRjadQnKjD6MwhG0o7PztbscvAIDxrq9F0CyuBoQpWU2CZRvaJDw3ogMChpcp\\u002flB5efAB5bzWZ2\\u002fu+Tx+4XTPqEGGXW2v6JM\\u002fLQlI2TBmOh51\\u002f9dAoVb921z8RclpoVLWM+ZQfd6zwROd9Ft5gUwMg0aRiTrmF\\u002fE44\\u002f5pH60v1GdYEsPXZNNXWn4UpzE097LuoadpawUdLFHXsLr02Am5XLn5y1PXsoaoL6VVV89xHk5xqUGc\\u002fStPIpK9sWXx4FUVivJqdB6fuyzVIGHob+7yVJ1VuIpv10lc8QiCHKsuXjs3lUaxr7uFSJj7k5pkDMO8kZiddSRYUpki63Z1VR07IdLb3LGMyrSLW\\u002fEoTLyz3yMeY+b6xPdkNqOnUKveuneYhMFNdA0daMw9bkPvHyNpXm9HPdo728Oi0HN94iJpXsuzd\\u002fbkWDK18njjveeCJxoqVMiAxkb6fvvWQtOf96R+lUVn+wyW8RtJiou\\u002fPgkWAOBaW\\u002fXyoMHqXNshkUj2zsbDJaUPpifd3RwzMsLjYn2dnChEApYvkNbVcwoLWTm51SKRbN7cBJqjwRZ0rp0ulEkU725bih34CqGisLH\\u002fQRIFPzYjzFBh6CkhNYTiQBT2u5mxqqhRGOrg4UT1YjjKlSoTR2V2PQlWzwO7ZR0J1rS0CABAepLppn+NR6ZW5nJqcjk1vzCzNkbPznAz2IeCWqP5oODvY5PW0XC6P+\\u002fKeA\\u002fNq8\\u002f2itE5lxZEdXknevbG\\u002fAcV\\u002fM42F9tJgpWdw9z08XHt44y0sI82zjNvPMbQwREwXEZ1bzaTz9Gn0TICwDSv8NGcaGSSGL6\\u002f6lfYvbCzGSZYfWzZeqYnu8LhMM88PXHhgiQM5qEppTERnrNmxspkyvMXiiemGTityb1c9uELv33008qBqqK31PddtQQARCb6j7Ka6AggKCQ6KaD\\u002fDv0WFnfeooTc8gYyAcdwsLu5fzJMsP5jHXcR2qQ2Ce\\u002fl2\\u002fsP1OlbfhoAEEx1XeCbsCok\\u002fcWwzOWBqSmMQDwa23tAh0y4kzngBpRWyUNfilH0AacDZ3vH+JEflMur5LdxZUL947ReaeNDJoy7n8dn3aisqbPBG82uXhzeHVv9ZbfrXqPpI5zmruc9fYYVrveiZHGXjq089uz0mYKs65Xax3g8dvNnTyxelNInu+qBx2PmzI6n0YY3fRWdHDjkmHvZzC1vHtKodd8o3crSUXrNP9R9WGEYin+YjvO2srgJIV7jIvwemxCFGmpLmQ0o7fqrkndCpGRrfyRhGAAABKCImPvr7yIlu5J3orjrgNlCNBPrmMGyGR\\u002fEzsvl1FxoLdXWm1BrNF+WnvElO01wHaI+ZDIj4I3ImWEOff+YeQrJbmbWbzU3e6o2\\u002fNOYvz58KuHhxEtLqJD2\\u002ftGdOGCxFgQgT\\u002fgnfV16tudIfidrqodddBd569WZq9fva2vnaTRg7x\\u002fZn7xnO5s0r10qy75WAQD44K2\\u002flqyYEB45wiJn2e16FUxPYfiN7P1HyYtMI6KxEpWO2\\u002fj7qBdwRUo5GYMzQVSWT6FQ7dl7vefHN16bGR9n+P+DX\\u002f2+ujiv9s\\u002ftlwpvDZamZ50pojlRXnhPRzlvga76oh4+5qmfrrNYA79bDACIC\\u002fK0h+wKAFDNP8uVVQEAnPAhPuRUH0oqBiHg0GS2pKRJlNMoutkpqwEA0PGB0fQl5g7WpOAMlkkt9E3ckrho57iVPQmQWqP5pPhkn4rqCvVDy\\u002fbTPCN3jnu6f3YFAHDEEjeMmb4xZnbPEYFCmtVepfPsfYpc0wdYSdRKdXloQbbCbgpiOTgQP\\u002ftgAZmEAwBcv8ksLNGx4cNKZUwZs\\u002fHjBa9vnIsgSGDICPeeqzSaOx06ylj3F22ctoNDQgBwIzroM1IDQK1Ax3qTfbpwsaTrv5bGqeNDMicb64IqOjnwi33Pf73\\u002f\\u002f6LGDlbc\\u002f8QfN\\u002ffvuNT\\u002fuFQs63+QTDVP1W8SRcctJlKJHABgJ9kVAICvuL+m3CljFnb+doq1RqmRipXc041rCzt\\u002f12ZXAAC+vBmMqHyj9YIzWGaQzAh4IXTyN+X3S063iLvPtZQ86hXTM+Amp7rnsSOW+FHsY6hB+6Yt8ku62FqWy7n\\u002fe1zQxZrmqaMNSO\\u002fapAhAcINusQ+iujhiiTzF\\u002fYvFepEdfQ8FBbh8\\u002fuHCNzcdlsmV33x\\u002fftcPzwy0SmJ2uUX145Zt7XOQiMde2bN+oJf8+vOVZSvTcCO9zbBO0KHP5BAAIMxxVLfuj4YLgVwv5OozslXMj6abJxG0NOfOF\\u002fc8XvrkOGOfLjLRf8ufa3Iulf269WxjDVvnmN+3XehfHEup1NHgC2vk4qID0blRTC5Tmj4S89FM89oqU3VLVTyZiidV8eqEl4WKNgCAA87bj5JBQDviUY4EtAMeTdMAzXBvordqFvq1MSybFn030+X\\u002fLh8exmYms1vgl9i712w2m9n72bPNDz7pHvNNIOtR53OR34O9uiXdg7V818KidG8g7YEAxI\\u002fy4CbbPvu3bF5stM+WzxaRSbh6FvfcRb3umDMLDBrlSCH2\\u002fYc64G3h927XOTgQQ8I9RnzGCl770IMAQCNIIMVsN2nrX1Wkxc5+sQeiUKgqKu\\u002fPUvv5Oo8ZY6IeWeOnjPnp5CvrP16gf+tAAlHH\\u002fgedhd1NQOd5jV1K3sIgbsRoX8rEUMfZ0U7L\\u002fKgZYiUHj6YiACVSsIOo06LpS0MdZ\\u002flSJroRoxGbSDn0Z1e\\u002fBxbEEUv0pzBqBPev24q6HqrZyBQ8+A5LctarRW6i84PdEmwp3xAxAi8Srajr\\u002fgKZnWxy7y0myvv00VfMHcUQhlWmQSiUnjp+d9OnoyrroGeC5UKgYlBm+zDFo\\u002fX9ZGsVG+aPxdpVVLYqFPd3JsTEDFGy2LBQaNTMxckTZ0bv\\u002fd\\u002fZM4fyBtrb3oNAxImFfVcJBTyxzsHGxvtvUbU3IslOW18o1OJrrR+pNaoIxwU8RVOd4NLV1g\\u002fm+u3CWH\\u002fb5pGxnXRSrdIxb2zJ3AgPtol0yh\\u002f6K2VLBT2PvUh6FUKk48g9VbX4D29mHzEG\\u002fsHN\\u002fIZ6T8iMDv1+s5Mr3Pzh8c\\u002feP1Zwr35kb1LF0+vOSg+SXrugjET\\u002fCnMC+IsNAACgufnBrXmhoSOf4BwxigNx3Yfztx1ZFxo9RLFDuq4iI60svVaEDa61Qcd5aQaqvGp1brK\\u002fFihaUAg6nPZYrNNyAEC3vD6X\\u002fa254zIbK57BaqhoObn7av618tb6DgDA1pd+2\\u002fPJcQ9\\u002fl8iUoPTHxgbH+Jo7wCH0XqSTPLz9vHchdQpW34shIgYnkysBAGKljk2gI9B7GkCm37YbyJI990Lm6N9EzzW1fG5T6NFPRn86Y5Oq7Gq7zIAEggeJphPdbKWbQiK9vjm09sjurD++v6iQ6\\u002f5f4+HjVFPWt74Gs2TofRHGUFms4yYYL397rGBewz9fwz8PAPCjpJMwLiSMizd5fJMop4p3youUFEDVt9GkLRltgtUs5tUIOgAAaa6BevYbNoijOy7s+fh4n1mrLja\\u002fi80vy6s5\\u002fP35LSdfjxpn0YVJZeoHHx9U7EMzqBQMvqenjVAhc9NvelX0X16F1rUjXlsYYlh613pQqq1sgnBkNBpwI5eZdaOqtLylq0ukUqlpNFJ4qEf6hNDJGeGm\\u002fA23WO0SwdCDrIcUXjkAAAAQCB8kWBSKORd0UGjUotWTxk8Z8+2mo021OqZLvXS1l64sapSI5USSSStuiPgSZrGOxM4nyGy3d5iLBqhLuw9pH0fQ7m9CiHVa0STKAQAUdf7pT51sbxuwwOgTrPLutskeIdnttQq1Sv99D6N083TBrg+OAgCIZPz0ZRMKrlfUl7fMXTXZ2d2RWci6c6nUK8jVwrMrAACn1zogA\\u002f\\u002fQlLIDltCTYLVIuoKoQ9fD5UgFPcUddFZyF6vk\\u002fQ8OTtMrJzPjfhqTYTVyP91yuor5UJeVdja\\u002fnc2\\u002fll3556HcjzbN8\\u002fHSUfbGfshUSp5cRxUi6wUTrPt6XX9ZwoWET5Dr1gMv6HwqIl7H6oRCrrz+b9G0hWONHNdDrp4uVOrqhBOZ6G\\u002fKMCwBAlCzfXZW8U82CK+7E+O0B92I0X6UdHdiXARtvh1mV8AgS4RoBIWY9g\\u002fyyA\\u002fnAQA4Anbb+Xd8Qt03LfquvrwlLME\\u002f84kUAIBMIu\\u002fusPSLbIlK3iB6sHgfQ39oV6k70ZElur8lIq+jbpD2gj3udj7oMyhRytlSvivhoU0wTeKu3j\\u002f2qbylU+\\u002fvHn3uZLRqFVWtb2w83HMd7+fj7OVJRxDQ2NzFauQCAGrrOS+++sd3W5b6+9nj\\u002fL9W792BtkE1\\u002fJldm0TpVc9JJDLMHgMjiUz0RxBE0+9\\u002f3LFfrz8yPxExVfUppVJ1dM\\u002f1\\u002fscxGLQdJlgAABSCDnd8LNzxsd4Hp3h+bqZwLIJV7sGqL2sGAIxJDvLR1R4BT8S5mamqr\\u002f5ONhYoe1UTnez+UMu2aJp3Xked9vFx1r01oZMoQ+U3f9Xn9TwWKmXv3Du6Y9zy3lt9bz5cCUKlUUtUciJ6sBn13t+mpEFHWjuBUPrBZ\\u002f9os6uIMI83XpkR2GsZoqq6\\u002fdOvTrEauXyB9P3P\\u002ftm1\\u002fekRF5EyuDulrOlrdvQ\\u002fvv6pjFkTddRCGyV4r4OtIpMffMLwBBY9SUlxIEYm+pfcqetzvIHZfubQrVlLjF7BS+vvvTd07qxPTA818UolZLFGO2snUSkutlQWcJuGHmo4aCwaACCXWuXcvkAh\\u002faM2Z0uvLjRBVJd0t4fmqOKcHsyB8xWS9wuOqwedcDpQd+sOt773kdvcuv\\u002fL3cf6b5KsSdz1W83NPq9qFHWBQdUJHxQXZRBG1R7Ywv1xMLedzQcA+Po4\\u002f2\\u002fz4sCHN3mEBrtt\\u002fXwRiYgDALAauWcvWFBZLKVKzRNK+v8jG2CD8CjJ4JZwG+Xm9qBxVm2t7rKflmPS7Didx3d9eaaeqVcZkVGqLGr87dtzOp96ZH6iCQKArMJoL8Tn+EQBAKZ6Grih+uBC4\\u002fzuXS0vv1NbksOMGj9EFz+LMufytiZxV+\\u002flORwK83n8432K26a6BDvjKT2lpy62lj2Xs\\u002ffNyJkRjn1vnxYopL8ws36rudH\\u002fXHe59XOvfB\\u002fu4O6II+Z3svrvNSnobAh1GLBfilAhLec9uFUnWI99YFZKKlOcOluofbxqxUQiUcfVpwuDOm1K5N+n8gEAp84VzZ0VZ8oIdVo2a+yyWYbcccJu6WbVsgEAiakhA62zwATLVoX1Ks1QWWnpfbEyZsXs3nJG0m8pUyqRb3p295d\\u002frPYy5jp+XWXr+8\\u002f\\u002fqlTo2H3l7u00bopd9GyF9GGV+86eeGk6giAateadx7f9+M4hHtdqamA2iLi9sytHLHFHylP90yYsCv2E30PfnXe59Yuzfpx\\u002fdfsHhX9\\u002fV3FxJ\\u002fPa16Vn\\u002fy9339QLX++tye7dA2e8S5Av+f4KqVqjLuO15HBqdO7kPca6pxm4M9SZ5qLeoYZQR9i6zvKVlrVoN53gcZjxKUEDDYuNvr9Prrq6XSQe9h0Dlq+mvCV+fLBGrVHo+ubQ6n3rK2RLqFSCl+f9kntFxY3cTov+UKU4EGcv1b0UyGXzNyzace8GU+ezo5d9rvi1J3\\u002fUtnPub8naTDTaKr9VIWOwyl+FuPTwDd+twBNxSrnyxK4r1UUsAEBxDtPy97b3IGPwSwPGHZu0LpkRqHPAiqAJ\\u002fUuM1gjYx1n3djGztldc2ld78yanWvLwvYFoBPVKxLQvEx4fpNBiJM0Lg0IDAMp4LX\\u002fU5ugc0yUX\\u002fcy81vtIisuAmYe1K6u8P1Hn6+OM1dVZTIvxX\\u002fFAtUbTzrbN\\u002fipoNGrwPcJy1YC5F2Tt0tLub1RQqzWnzxSaN5ghLXw2neyguyUUv1u88dnd2zYd5bINWaa\\u002flcX9\\u002fOU\\u002fP1v\\u002fp2SA66ugMZ5THksw4Bkhazf0EqFC2SRXMgEAZEKG5SRkU58cH5MW9te2s5f+uqVtrn729+yLB3MmLUxe\\u002fuYcVx8LvZd+WcA4TxItzMEj3sl38G6AFAz+i4THn7m5p\\u002fde+CG9FD5FOx\\u002f2TdKSDXcO9p+4csASN8cv\\u002fLzktLYz9Nel5zplolUh6b1vEmSJuK\\u002ff\\u002fat3FYkACiOYarOVXTo775fRZ9a0T5r5lT4v6V2V0a4M2cISsl5zZsX\\u002fdfiW9ua8Awdzp2ZGenrSzBzTwBydyKvefHTbpqMDDTh7+PblE\\u002fmZ8xJmPJ4UFjvy5j8ataYor\\u002fbckdtZZ4pUA\\u002fcLwWDQGzY\\u002fAaevoN503Ozah1BylkycKpZeI+HTEMTi7tWXimVvL\\u002fi28u6DO0rwRNzrP6xMm2MLVxJ5HbWv3Dko1OPWLQQga0Iz1oY9KNVdI+BsKf33Jqe650gyI\\u002fC9mDl+ZOeTTYUb8x98MOHR2AQnXw8iDYUgDULu3c76PlVJXxsz\\u002femgCYb4F7JEn205feFy6bBesvXzxYnxfkOPsypXThUSiNjq8pbFz08aqFttDrvu6et\\u002f6PNupq7dMlLjXQP2pC0zdxSW4qNP\\u002fr6WVaF9HBjg8vVXS2g0HUX1LIRGo3n\\u002f+V\\u002fvXK8acqSzm8PYiWER8b4hUd7e\\u002fgwcQUe76N7EQllTHYdZ0lR6t+FudhVfV8PBPla\\u002fM3v+yjR9Q4fsg14JFoU4QyS9QsKnWmCCBQDYtOi7u1fKnn1vfneH4PjPlzRqDQaL\\u002fv7Su\\u002f4RJmoIb1R1wo6tZWez2gf7EPEhO70TNSvNVcd+f45UwBS0YxC0H8W5p\\u002fuhUq2afXlbi6RbnwA8SbQTk9fj9G7uZnX+t\\u002f38idMFAAAXBjV6jF6\\u002fM8uXpAbYZTeMfG7T4qu\\u002f6jPynZhHngkx0Q3zkKF0d4ufWfULj3e\\u002fTIOXJ\\u002f2V9dMTB67qpFCopFIFlWq2yu9CvuTlx7e36GoIOBAEQegMCt2F6kAjEcl4DAaNxqCUCpVSoRIJpPxucSdHoE9G1dsjCxI3bH5imLFDts92vjWdPWhPrJ8eGOXz9Yu\\u002fKhWqk7uvvvS1LVyYBlAY25OfKuluutBalsOpqRNwejYa03CkOCffmZ7R0zwjdbbHAQC4EKgu\\u002fSosYFDoTTFz1t76fcizoxHUhzHzbDi7AgDQHe9fo\\u002ft4O73\\u002fzlzzBmPhCHp3axAqbfA+AJtHo5HefXvuex8clcuVAIDmlq433j44ZozXhPEhYWHuNBoZj8eIRLLW1u6aWnZ5RUtJSfPa\\u002f8ucMzveXAFTHIgf\\u002fbzyreU7Ozn6bsDVaDSdHIH+44eU+kjk+k8WGOrdIFsy9MelWiMRSs5K5SUkfKoJAhqlKYtSftp4SNgtbqiw9DuNhyWK5h1F8341AgAAxEq5UCklonF9OhgOS5pryKsR074pPz\\u002fIGBSCfBz32Djb3d6uFRHuqX1QU8vWaIB1rGyZhEAhK+pqJqKxCc73t7A44PT9lRMpLLoaODSQpLEBX32xeON7R3rquZeVNZeVmaeVsj68A1y++mPNW8t3GnZLu57SZ8a8ufVJuPUK0mnoXwsH0nwKcQbD8XXLXB\\u002fsQ61SawuQYgfYRGIDSBicK8FhNNmV1jPBaV8lLqLjyDqfDaAw9k1YNcc7bpRnsXxx0T4EAhYAwONLbt2uMXc4FoSvkOSw6xiEB40y3QgOejaq67atloV2JSbaZ++e52c9GofSo+0MBmP++x68\\u002fBnbjqwLixn5TvYRQBBk2bqpb3+zBGZX0ECsLwtprmmvym+YMDu+\\u002f0ZFjUbz+5cntQlWeGKAOaKzMjM8oya7h19oKc3rqG0Wd0tUcic82ZvklOkePtY5wBJ6vpoAgYCdPyfhwOFbAIBvd1z8IdjN2Yky0GCNBqhUagzGLj5SzzaXj3Px\\u002f67syqcJc7WLgxgUioGn6NORsEVsm5Us7ISzE+W1V2csfyr11q3a23dqm5o7u7vFAoEUhUKIRByDQfX2ooeHeSQnBQYGWsT9xc5uDlv+XLPrqzMn\\u002f8zRqI3eX9LZzeHlTxYmZZi0wjZkdYbe5G5pim5UvfXY\\u002f3AEbMyEsNA4Pxdv+olfrtSVNcdnRHSxefXlLQAAGoO6I+s9uovDkO8GQQAAoUj2fy\\u002fva2ruAgDQ6eTnVqRNmhhO6dWdTSyRM6vb79yrv3S1fNNbs8f8t6po23Yzc\\u002fzI9Bvs2k2xM9H\\u002fZduLruwp6Bx6wciP4nRh+otGDhAykdfeOJBf0LBw\\u002ftgX1041dyxDqChgfff+8TqjFaNHo1EzF6c889oMEsUKlnQg87K+GSztrLVcqrhzqeTOpQdd4fKvlWsf+IV7vr1zFcyuIP1RyPjNHy587d1DbI6gq0v09bZzW7875+riQKEQVEqVQCiz8MLWxiNRKV0IFHSvuUxvMl2fBKtFzFOq1RiUXUz12ba827X5BQ1EIm7ZUivYhhse5\\u002fvDP+uzz5Uc2HHZsGkWBoueNDtu6dpMD19nA74tZMOsL8GKGh\\u002fy1T8bbp4uqLhX197AFfLECrkSAODuy4iZEDpuZuy46TGDV6OGoP58vJ1+2b5y6\\u002ffnrt+o0miARgPa2fz2fttmHRyIvWe2bN54F\\u002f9WMa9W0BFIvV+WIoLmdqpx6HbXCrWKyWdH0NyNHCBkXBoN2LX7GgBAqVR9t\\u002f380iXjg4MsvWsWgiATZ0RPnBFdUcA6f+zOjfOlwy270EdghOeUefFT5iU4OunesQpBOlnfEmF\\u002f2jpYb+x4JvOJFHPHAlm9uvqOi1fLCopYrW08gUAKEEChELw8aCHBbmPj\\u002fZMTAwZpp2MPcjn1K7KGLvABAPg8cc7j\\u002fnF6vq1MpcxpaoxguDgRiDKVioLT0XIbMj2FQnXpcum1rMq82zUaDcBg0Nu+WRZhVUvkGrWGWdp87wazqriprqK1vblryG89DBbtF+IWFOEZmeifODHU2RWuh0AjYX0zWBBkVAH+jOdXpps7CssVSfNAwMBNwnu508HSP8Eq43BUavWfxYUCufzl5PGjCBAyJCwWPWN6zIzpMTdzmJveP6pUqo4eu73p3XnmjmsYEBQSGu0dGu2t\\u002fVEmUXS08zraebxOkUyikMsUKqUag0XjCVg8EefkSmW4OTq7OcB7A6HRGyLB+iIr60ZDw9GlS3Fou75qhyBIi4rFB1AZtYKOIUdebx9GzYt4dw8AwJQAGy+6Zr2SkwIxGJRSqe7p3Wml8ESslz\\u002fDyy47MUAmNliCVdPZmVVXv2fBfAvPrj79a725Q4AgO5LhHqRPgsWRCku7WyNpHiYICTIGkUjG40kQBLSz+ceO31Eq1QCA4GBL34NlUTpkTRKV0IcUbu5AIDMYLMEKcnI68\\u002fQKk4UCQZBVmOIR9ivzlj4j\\u002f24oggmW9covaHj\\u002fw2O9j7i5OS5ZDFtMDkMZ78Y4BmzAZSLNAn51FxcAMNHH3xLqOMJlZgiChieR4euII+oz8kRjiUKtMnY8kJGQSDhHRyIKhVAphIhwz5VPT9z50zN0OryTTi8ylfhS+752ad1t7hlzx2IvSjvYE7z91EBjIR87cJM7BEHDg0aQRzzDjtQXDDmySyY+3lC4KCDB+EFBhpcQ73\\u002f8yMvmjsJa4dGkKW4rfq9\\u002fb4LLwsFHrsz9ul7UpvOpWZ7Jb0QsMkJ0NguDQqGA+eeutOwrwTq6J+v3bedjkoM+\\u002fuUZAIBapX73mV2VhY2r3p41awmc94YgfS0JTNQnwQIA\\u002fFiRPd8vFouy6H2cEGReL4bMHesU2ufg\\u002foYrZgkGMhT7WiLMPlsskyhuX6sQC6UAgK4OQWFujVQiv3l+6MKJEAT1iKZ7RtP1KobULObpuWELguyWK4EWQHHv848jlmTuuKyMRKk4X1d9r73F3IHcZ18JVtqMaDwRm5QRTqIQAAB0BjV2XBCeiE2dFmXu0CDIyjwVNFbPkd+XX6sTcI0aDARB0LyQiGkBwa8mTcCjLWJ1ziKCMJmFz6YvfPZBDUkUGvXFvtVmjAeCrNdsn6jt5dcbRV1DjpSplK\\u002fkHTuYsZKIwZogMAiyBDKV+EbHkU5Zyw3O0SG3YUE2yb5msCAIMhQsCv1aVKaeg8u72167fVxt\\u002fY25IEhPeDQp023Fy2G7YXZlt2CCBUHQCD3qPSbOyUvPwRdbKl\\u002fNO6ZUq40akj5gngdBkAnY0RIht52Xfa4k\\u002fyazrrKtmytUq9RUR6J3oOvYiWEzn0ymOsLthBA0bJtiZyy++qtKo1fa9G9TGU8u+V\\u002fyAie8Gf7clGr1hZaKA7V3F\\u002fjFPuYXY\\u002foAhtTG4Tc0cQEASXEWUSYRgqDRsJcEa\\u002f8Pl\\u002fZvv6hSPfQ10NUh7OoQFufVHt97\\u002fbM9zwVGWFOLeMg2qZo1yhoAAIJPs4oJ5hgnz7Xhad+XZ+k5\\u002fia7bs7FnzePnZvuZrq2gwWdzacbS041lnJlIgCAZWZXAABmLTt1bGBeYb1SqcJh7eXDGYJslb38DQdFeKpUagIRFz8hJDLR382brlFrGms5p\\u002ffndHIE3Vzh5y\\u002f\\u002fufPf11CwgzpkVhpFOUKYrJFlA40CIHhzh6OXtRHp19trCjqb9RzPkQpXZe+f7BHyRtSUYAcXI0WlUKvudLCutlVfaKloEnUb6SwGh0aj4NwVBNkGe0mwkieHv7HlydRpkQQirvfx+SvT1s79tq2xs7m+o\\u002fh2Xew4011VQ9AA0MBiKhHrA40gW5PnL7y8u1su0f9VV1qZV1uZE9wClwaOTXcPxhmiEqlcrSrpar3LZd3taMzl1IuV8tG\\u002fJwRB0MiYOcHqknM4siYAQAg1DjHmlwqCIJnz4vsfJ5Lxi9dM3rbpKACguqwZJlgQNAI+ZPrOCUtWZO2TqpT6v0oDQHZ7bXZ7LQmDS3MLHO8SEE33DHN01bOGjUSlaBZ1N4t5tYKOCh67ktdezefILaMH2chI5Yrrt6qr6trjo3zMHQsEQaNl5gSrRVoXQU1kCgtVGiUGMU+NHP9Qd+0DIW8Y198QZBwSjfQiUJYBXIq5IxmeOCevb1IWrsv5SzX8e\\u002fTESvn55orzzRUAADSCuBKoHiQHVwKViMER0BgsCq1UqxRqtUKtEipl3XJJt1zSKRN1ysRG+Pcwp0cmRgAAJqYEmzsQCIIMwPxLhCgEbdS5qyGRHYjaB322wEOQ6SGEOQAAAKaaOY4RmeIR+sXYeW\\u002ffOaHnTYU6qTSaVgm\\u002fVcI3YGAQBEGmZ\\u002f4Ey5SYJc23r5bXVrSyW7oF3WKJWCaXKmSyYSxqQBA0iHm+0XQc8aXcIxKVwtyxQH1JlC0CeR0AwIU0HrGGe1QhyKqZOcFSqGWl\\u002fLwWSV0gxbjdABtr2N9uPFJ2r6H3QTQahSfiKFQCv9vW1hogyFzS3YP3pS9fc\\u002fOg7S3hWTuerMKNlMGR3NRoFIiV3KNqJ9jS7jphW5+DPIXYIDd\\u002fQOZi5gQrjjYRABDpkGzUs7Q1db66eIeILwEAJKSFZs6ND4nycvGgEcl4AEBtecuL87YZNQAIsiuxTl4np655\\u002ffbfOew6c8cCPQRB0FZRX83e\\u002fMA8ofP4LE\\u002fjfjlCRmUXS4R\\u002ffHdRm10tXTd1+fpH+jyrVMKtVxBkYC4Eyq9py36purmt7KoltMeBIIu1d9zr5g4BMgq7uJQpzqsBAGAw6MWrJ\\u002fV\\u002flt3cZeqAIMgOoBBkTdiEk1PXmLJo+5BcCVQ\\u002fspO5ozAPlUbaJrrcJSs0dyAQZBfsYgZLIpIDALA4NI6goxLEtdPw4waCjCWIytiVtvRaW\\u002fWXxRer+RxzhYEAkOzitzRw7DSvcDRiFxeW\\u002fXlRHgUAuJMzzR0IBFmK0nsNJ\\u002fbnvPP1k8Z4c7tIsNx96AKeWCKWVxaywmJ9ez91+kBu9rlicwUGQXYiwz043T34elv13upbN9prh10paxRCHV3n+ETN9onyIjma8LQQBNk7u0iw0h+NZZY0AwA+efH3J1\\u002fIDBrjicagm2o5l0\\u002fcu3u9KjzOt7q0Wamw4gLQEGT5EADS3YPT3YNrBB3\\u002fsIrPN1fUCjqMdC4CGjOW4TvJPWSyR4gPmW6ks0AQZAM62vmb3zjU3tSVkBq84iVD1iC0iwRr3ooJd69XFeRUc9n8Hz76u\\u002fdTUWMDPtq58t2VuyqLGs0UHQTZlyAqY0Pk5A2Rk6v5nEutVfe4jYWdzaOs6YBCEB8yPdzRLc7JK8HZJ5ruiUEZfh2Q3dLFquEAABInhCAoa+oXCUHQQEQC6de\\u002fPQ8AePnJHyfPjvUJMFgHertIsLA4zKd7njtz8NaVE\\u002fkNzHa5VEFxJPqHumfMip3+eBKCQiLi\\u002fWCCZT9auvk1HZ0AgAlBfigEfk2aTbCDS7DD\\u002fc+yJlF3SXdro6irRcxrEnW3SQRChUyqUkhUCplKoQEAi0JjUWgCCuOAI9JwRDqO6EKkeJFo3iSaL4Ue7OBCRBu911ZNWUvy5Ih72UyFQoXD28WHJwTZPG9\\u002fhvZ6yS\\u002fErZXVCROsYUOjUXOWjZ+zbLzOZ9dsnLNm4xwThwSZS1kbZ3JoQHZNg0KlwmPs5U\\u002fAwnmTad5kmrmjGBoajYJzVxBkS1g1bLVKjSBIPbN98aoMA74z\\u002fHaB7BEahYJzVxAEQRDVkbT5jUOcVl7SxFDvAIYB3xkmWBAEQXqRShQ5F0ury1pikgPNHQsEQYbBcHeAZRogyDCkCsXFipryVnayv7e5Y4GsyeQ5cQCA8VMjzR0IBEFWANFoTFmSBoIgCIIgyPbZaUVjCIIgCIIg44EJFgRBEARBkIH9P6\\u002fkrFRacHQqAAAAAElFTkSuQmCC\",\"type\":\"image\"}],                        {\"template\":{\"data\":{\"histogram2dcontour\":[{\"type\":\"histogram2dcontour\",\"colorbar\":{\"outlinewidth\":0,\"ticks\":\"\"},\"colorscale\":[[0.0,\"#0d0887\"],[0.1111111111111111,\"#46039f\"],[0.2222222222222222,\"#7201a8\"],[0.3333333333333333,\"#9c179e\"],[0.4444444444444444,\"#bd3786\"],[0.5555555555555556,\"#d8576b\"],[0.6666666666666666,\"#ed7953\"],[0.7777777777777778,\"#fb9f3a\"],[0.8888888888888888,\"#fdca26\"],[1.0,\"#f0f921\"]]}],\"choropleth\":[{\"type\":\"choropleth\",\"colorbar\":{\"outlinewidth\":0,\"ticks\":\"\"}}],\"histogram2d\":[{\"type\":\"histogram2d\",\"colorbar\":{\"outlinewidth\":0,\"ticks\":\"\"},\"colorscale\":[[0.0,\"#0d0887\"],[0.1111111111111111,\"#46039f\"],[0.2222222222222222,\"#7201a8\"],[0.3333333333333333,\"#9c179e\"],[0.4444444444444444,\"#bd3786\"],[0.5555555555555556,\"#d8576b\"],[0.6666666666666666,\"#ed7953\"],[0.7777777777777778,\"#fb9f3a\"],[0.8888888888888888,\"#fdca26\"],[1.0,\"#f0f921\"]]}],\"heatmap\":[{\"type\":\"heatmap\",\"colorbar\":{\"outlinewidth\":0,\"ticks\":\"\"},\"colorscale\":[[0.0,\"#0d0887\"],[0.1111111111111111,\"#46039f\"],[0.2222222222222222,\"#7201a8\"],[0.3333333333333333,\"#9c179e\"],[0.4444444444444444,\"#bd3786\"],[0.5555555555555556,\"#d8576b\"],[0.6666666666666666,\"#ed7953\"],[0.7777777777777778,\"#fb9f3a\"],[0.8888888888888888,\"#fdca26\"],[1.0,\"#f0f921\"]]}],\"heatmapgl\":[{\"type\":\"heatmapgl\",\"colorbar\":{\"outlinewidth\":0,\"ticks\":\"\"},\"colorscale\":[[0.0,\"#0d0887\"],[0.1111111111111111,\"#46039f\"],[0.2222222222222222,\"#7201a8\"],[0.3333333333333333,\"#9c179e\"],[0.4444444444444444,\"#bd3786\"],[0.5555555555555556,\"#d8576b\"],[0.6666666666666666,\"#ed7953\"],[0.7777777777777778,\"#fb9f3a\"],[0.8888888888888888,\"#fdca26\"],[1.0,\"#f0f921\"]]}],\"contourcarpet\":[{\"type\":\"contourcarpet\",\"colorbar\":{\"outlinewidth\":0,\"ticks\":\"\"}}],\"contour\":[{\"type\":\"contour\",\"colorbar\":{\"outlinewidth\":0,\"ticks\":\"\"},\"colorscale\":[[0.0,\"#0d0887\"],[0.1111111111111111,\"#46039f\"],[0.2222222222222222,\"#7201a8\"],[0.3333333333333333,\"#9c179e\"],[0.4444444444444444,\"#bd3786\"],[0.5555555555555556,\"#d8576b\"],[0.6666666666666666,\"#ed7953\"],[0.7777777777777778,\"#fb9f3a\"],[0.8888888888888888,\"#fdca26\"],[1.0,\"#f0f921\"]]}],\"surface\":[{\"type\":\"surface\",\"colorbar\":{\"outlinewidth\":0,\"ticks\":\"\"},\"colorscale\":[[0.0,\"#0d0887\"],[0.1111111111111111,\"#46039f\"],[0.2222222222222222,\"#7201a8\"],[0.3333333333333333,\"#9c179e\"],[0.4444444444444444,\"#bd3786\"],[0.5555555555555556,\"#d8576b\"],[0.6666666666666666,\"#ed7953\"],[0.7777777777777778,\"#fb9f3a\"],[0.8888888888888888,\"#fdca26\"],[1.0,\"#f0f921\"]]}],\"mesh3d\":[{\"type\":\"mesh3d\",\"colorbar\":{\"outlinewidth\":0,\"ticks\":\"\"}}],\"scatter\":[{\"fillpattern\":{\"fillmode\":\"overlay\",\"size\":10,\"solidity\":0.2},\"type\":\"scatter\"}],\"parcoords\":[{\"type\":\"parcoords\",\"line\":{\"colorbar\":{\"outlinewidth\":0,\"ticks\":\"\"}}}],\"scatterpolargl\":[{\"type\":\"scatterpolargl\",\"marker\":{\"colorbar\":{\"outlinewidth\":0,\"ticks\":\"\"}}}],\"bar\":[{\"error_x\":{\"color\":\"#2a3f5f\"},\"error_y\":{\"color\":\"#2a3f5f\"},\"marker\":{\"line\":{\"color\":\"#E5ECF6\",\"width\":0.5},\"pattern\":{\"fillmode\":\"overlay\",\"size\":10,\"solidity\":0.2}},\"type\":\"bar\"}],\"scattergeo\":[{\"type\":\"scattergeo\",\"marker\":{\"colorbar\":{\"outlinewidth\":0,\"ticks\":\"\"}}}],\"scatterpolar\":[{\"type\":\"scatterpolar\",\"marker\":{\"colorbar\":{\"outlinewidth\":0,\"ticks\":\"\"}}}],\"histogram\":[{\"marker\":{\"pattern\":{\"fillmode\":\"overlay\",\"size\":10,\"solidity\":0.2}},\"type\":\"histogram\"}],\"scattergl\":[{\"type\":\"scattergl\",\"marker\":{\"colorbar\":{\"outlinewidth\":0,\"ticks\":\"\"}}}],\"scatter3d\":[{\"type\":\"scatter3d\",\"line\":{\"colorbar\":{\"outlinewidth\":0,\"ticks\":\"\"}},\"marker\":{\"colorbar\":{\"outlinewidth\":0,\"ticks\":\"\"}}}],\"scattermapbox\":[{\"type\":\"scattermapbox\",\"marker\":{\"colorbar\":{\"outlinewidth\":0,\"ticks\":\"\"}}}],\"scatterternary\":[{\"type\":\"scatterternary\",\"marker\":{\"colorbar\":{\"outlinewidth\":0,\"ticks\":\"\"}}}],\"scattercarpet\":[{\"type\":\"scattercarpet\",\"marker\":{\"colorbar\":{\"outlinewidth\":0,\"ticks\":\"\"}}}],\"carpet\":[{\"aaxis\":{\"endlinecolor\":\"#2a3f5f\",\"gridcolor\":\"white\",\"linecolor\":\"white\",\"minorgridcolor\":\"white\",\"startlinecolor\":\"#2a3f5f\"},\"baxis\":{\"endlinecolor\":\"#2a3f5f\",\"gridcolor\":\"white\",\"linecolor\":\"white\",\"minorgridcolor\":\"white\",\"startlinecolor\":\"#2a3f5f\"},\"type\":\"carpet\"}],\"table\":[{\"cells\":{\"fill\":{\"color\":\"#EBF0F8\"},\"line\":{\"color\":\"white\"}},\"header\":{\"fill\":{\"color\":\"#C8D4E3\"},\"line\":{\"color\":\"white\"}},\"type\":\"table\"}],\"barpolar\":[{\"marker\":{\"line\":{\"color\":\"#E5ECF6\",\"width\":0.5},\"pattern\":{\"fillmode\":\"overlay\",\"size\":10,\"solidity\":0.2}},\"type\":\"barpolar\"}],\"pie\":[{\"automargin\":true,\"type\":\"pie\"}]},\"layout\":{\"autotypenumbers\":\"strict\",\"colorway\":[\"#636efa\",\"#EF553B\",\"#00cc96\",\"#ab63fa\",\"#FFA15A\",\"#19d3f3\",\"#FF6692\",\"#B6E880\",\"#FF97FF\",\"#FECB52\"],\"font\":{\"color\":\"#2a3f5f\"},\"hovermode\":\"closest\",\"hoverlabel\":{\"align\":\"left\"},\"paper_bgcolor\":\"white\",\"plot_bgcolor\":\"#E5ECF6\",\"polar\":{\"bgcolor\":\"#E5ECF6\",\"angularaxis\":{\"gridcolor\":\"white\",\"linecolor\":\"white\",\"ticks\":\"\"},\"radialaxis\":{\"gridcolor\":\"white\",\"linecolor\":\"white\",\"ticks\":\"\"}},\"ternary\":{\"bgcolor\":\"#E5ECF6\",\"aaxis\":{\"gridcolor\":\"white\",\"linecolor\":\"white\",\"ticks\":\"\"},\"baxis\":{\"gridcolor\":\"white\",\"linecolor\":\"white\",\"ticks\":\"\"},\"caxis\":{\"gridcolor\":\"white\",\"linecolor\":\"white\",\"ticks\":\"\"}},\"coloraxis\":{\"colorbar\":{\"outlinewidth\":0,\"ticks\":\"\"}},\"colorscale\":{\"sequential\":[[0.0,\"#0d0887\"],[0.1111111111111111,\"#46039f\"],[0.2222222222222222,\"#7201a8\"],[0.3333333333333333,\"#9c179e\"],[0.4444444444444444,\"#bd3786\"],[0.5555555555555556,\"#d8576b\"],[0.6666666666666666,\"#ed7953\"],[0.7777777777777778,\"#fb9f3a\"],[0.8888888888888888,\"#fdca26\"],[1.0,\"#f0f921\"]],\"sequentialminus\":[[0.0,\"#0d0887\"],[0.1111111111111111,\"#46039f\"],[0.2222222222222222,\"#7201a8\"],[0.3333333333333333,\"#9c179e\"],[0.4444444444444444,\"#bd3786\"],[0.5555555555555556,\"#d8576b\"],[0.6666666666666666,\"#ed7953\"],[0.7777777777777778,\"#fb9f3a\"],[0.8888888888888888,\"#fdca26\"],[1.0,\"#f0f921\"]],\"diverging\":[[0,\"#8e0152\"],[0.1,\"#c51b7d\"],[0.2,\"#de77ae\"],[0.3,\"#f1b6da\"],[0.4,\"#fde0ef\"],[0.5,\"#f7f7f7\"],[0.6,\"#e6f5d0\"],[0.7,\"#b8e186\"],[0.8,\"#7fbc41\"],[0.9,\"#4d9221\"],[1,\"#276419\"]]},\"xaxis\":{\"gridcolor\":\"white\",\"linecolor\":\"white\",\"ticks\":\"\",\"title\":{\"standoff\":15},\"zerolinecolor\":\"white\",\"automargin\":true,\"zerolinewidth\":2},\"yaxis\":{\"gridcolor\":\"white\",\"linecolor\":\"white\",\"ticks\":\"\",\"title\":{\"standoff\":15},\"zerolinecolor\":\"white\",\"automargin\":true,\"zerolinewidth\":2},\"scene\":{\"xaxis\":{\"backgroundcolor\":\"#E5ECF6\",\"gridcolor\":\"white\",\"linecolor\":\"white\",\"showbackground\":true,\"ticks\":\"\",\"zerolinecolor\":\"white\",\"gridwidth\":2},\"yaxis\":{\"backgroundcolor\":\"#E5ECF6\",\"gridcolor\":\"white\",\"linecolor\":\"white\",\"showbackground\":true,\"ticks\":\"\",\"zerolinecolor\":\"white\",\"gridwidth\":2},\"zaxis\":{\"backgroundcolor\":\"#E5ECF6\",\"gridcolor\":\"white\",\"linecolor\":\"white\",\"showbackground\":true,\"ticks\":\"\",\"zerolinecolor\":\"white\",\"gridwidth\":2}},\"shapedefaults\":{\"line\":{\"color\":\"#2a3f5f\"}},\"annotationdefaults\":{\"arrowcolor\":\"#2a3f5f\",\"arrowhead\":0,\"arrowwidth\":1},\"geo\":{\"bgcolor\":\"white\",\"landcolor\":\"#E5ECF6\",\"subunitcolor\":\"white\",\"showland\":true,\"showlakes\":true,\"lakecolor\":\"white\"},\"title\":{\"x\":0.05},\"mapbox\":{\"style\":\"light\"}}},\"title\":{\"text\":\"Word Cloud of Unusual Characters\"}},                        {\"responsive\": true}                    ).then(function(){\n",
              "                            \n",
              "var gd = document.getElementById('5f86fab9-bcb2-416a-a269-b8a0a33b7fa4');\n",
              "var x = new MutationObserver(function (mutations, observer) {{\n",
              "        var display = window.getComputedStyle(gd).display;\n",
              "        if (!display || display === 'none') {{\n",
              "            console.log([gd, 'removed!']);\n",
              "            Plotly.purge(gd);\n",
              "            observer.disconnect();\n",
              "        }}\n",
              "}});\n",
              "\n",
              "// Listen for the removal of the full notebook cells\n",
              "var notebookContainer = gd.closest('#notebook-container');\n",
              "if (notebookContainer) {{\n",
              "    x.observe(notebookContainer, {childList: true});\n",
              "}}\n",
              "\n",
              "// Listen for the clearing of the current output cell\n",
              "var outputEl = gd.closest('.output');\n",
              "if (outputEl) {{\n",
              "    x.observe(outputEl, {childList: true});\n",
              "}}\n",
              "\n",
              "                        })                };                            </script>        </div>\n",
              "</body>\n",
              "</html>"
            ]
          },
          "metadata": {}
        }
      ]
    },
    {
      "cell_type": "code",
      "source": [
        "pd.unique(unusual_chars)"
      ],
      "metadata": {
        "colab": {
          "base_uri": "https://localhost:8080/"
        },
        "id": "ZXgtAa50Sks7",
        "outputId": "b61d5d3e-dbda-4dfb-c75d-7a5b716a3e33"
      },
      "execution_count": 20,
      "outputs": [
        {
          "output_type": "execute_result",
          "data": {
            "text/plain": [
              "array(['%', 'ã', 'é', '-', '&', 'á', 'ş', 'ç', 'ğ', 'ı', 'Ş', 'Ö', '—',\n",
              "       'ï', 'ę', 'ł', 'ń', 'ó', 'ś', 'Ø', 'ø', '\\u200b', '–', '#', '_',\n",
              "       '’', 'แ', 'ผ', 'น', 'ร', '้', 'า', 'ย', 'เ', 'จ', 'ล', '่', 'ห',\n",
              "       '์', '¡', 'í', 'Ç', 'ü', 'É', 'þ', 'Ó', 'Á', 'ú', 'ð', 'ö', 'Þ',\n",
              "       'İ', 'Ò', 'ò', 'ū', 'Æ', 'Ü', 'ñ', '$', '“', '”', 'î', 'ą', 'ż',\n",
              "       'Ł', '/', '=', '・', 'ê', 'ô', 'â', 'ë', 'ä', 'ß', 'Í', '́', 'å',\n",
              "       '忍', '者', 'ハ', 'ッ', 'ト', 'リ', 'く', 'ん', 'è', 'æ', 'à', 'È', 'Ñ',\n",
              "       'À', '‘', '*', '´', '²', '海', '的', '儿', '子', 'Ō', '|', 'Ṣ', 'ọ',\n",
              "       'ẹ', 'ì', 'ù', 'Č', 'Ř', '반', '드', '시', '잡', '는', '다', '@', '마',\n",
              "       '녀', '사', '냥', '최', '강', '전', '미', '니', '특', '공', '대', '영', '웅',\n",
              "       '의', '탄', '생', '+', '„', '…', 'Ú', 'ň', 'ý', '️', '‑', 'û', 'š',\n",
              "       'č', 'ć', 'õ', '¿', 'Ź', '®', 'ơ', 'ā', 'ă', 'Ż', 'đ', 'ÿ', '~',\n",
              "       'Ś', 'ي', 'و', 'م', 'ا', 'ل', 'د', 'ن', 'ف', 'ع', 'ة', 'ق', 'ه',\n",
              "       'ر', 'ش', 'ت', 'ب', 'ك'], dtype=object)"
            ]
          },
          "metadata": {},
          "execution_count": 20
        }
      ]
    },
    {
      "cell_type": "markdown",
      "source": [
        "**Replacement**: preserve some unusual characters but replace others with their standard equivalents."
      ],
      "metadata": {
        "id": "sALDQTw8XGW7"
      }
    },
    {
      "cell_type": "code",
      "source": [
        "# Character mapping for non-standard English to standard English\n",
        "char_map = {\n",
        "    'é': 'e', 'è': 'e', 'ê': 'e', 'ë': 'e', 'ä': 'a', 'á': 'a', 'à': 'a', 'â': 'a',\n",
        "    'í': 'i', 'ì': 'i', 'î': 'i', 'ï': 'i', 'ı': 'i',\n",
        "    'ó': 'o', 'ò': 'o', 'ô': 'o', 'õ': 'o', 'ö': 'o', 'ø': 'o',\n",
        "    'ú': 'u', 'ù': 'u', 'û': 'u', 'ü': 'u', 'ū': 'u',\n",
        "    'ç': 'c', 'ć': 'c', 'č': 'c',\n",
        "    'ş': 's', 'ś': 's', 'š': 's',\n",
        "    'ñ': 'n', 'ń': 'n', 'ň': 'n',\n",
        "    'ý': 'y', 'ÿ': 'y',\n",
        "    'æ': 'ae', 'œ': 'oe',\n",
        "    'ß': 'ss',\n",
        "    'å': 'a',\n",
        "    'ą': 'a', 'ã': 'a',\n",
        "    'ę': 'e',\n",
        "    'ł': 'l', 'ľ': 'l',\n",
        "    'đ': 'd',\n",
        "    'þ': 'th', 'ð': 'th',\n",
        "    'ż': 'z', 'ź': 'z',\n",
        "    'ř': 'r',\n",
        "    'ō': 'o', 'ă': 'a', 'ā': 'a',\n",
        "    'Ç': 'C', 'É': 'E', 'Á': 'A', 'Ó': 'O', 'Í': 'I', 'Ú': 'U', 'Ñ': 'N', 'À': 'A',\n",
        "    'È': 'E', 'Ò': 'O', 'Ü': 'U', 'Ä': 'A', 'Ö': 'O', 'Å': 'A', 'Æ': 'AE', 'Ø': 'O',\n",
        "    'Ş': 'S', 'İ': 'I', 'Þ': 'TH', 'Ł': 'L', 'Ś': 'S', 'Ž': 'Z', 'Ź': 'Z', 'Ż': 'Z',\n",
        "    'Č': 'C', 'Ř': 'R', 'Ň': 'N', 'Ō': 'O'\n",
        "}\n",
        "\n",
        "def clean_and_replace(text):\n",
        "    # Handle non-string values (e.g., NaN)\n",
        "    if pd.isna(text):\n",
        "        return text\n",
        "    text = str(text)  # Convert to string\n",
        "    # Normalize Unicode characters (e.g., decompose é into e + combining mark)\n",
        "    normalized = unicodedata.normalize('NFKD', text)\n",
        "    # Replace mapped characters and keep only standard English letters, numbers, spaces, allowed punctuation, and - &\n",
        "    result = ''\n",
        "    for char in normalized:\n",
        "        # Get the mapped character or the original if not in map\n",
        "        mapped_char = char_map.get(char, char)\n",
        "        # Keep standard English letters (a-z, A-Z), numbers, spaces, allowed punctuation, -, and &\n",
        "        if (mapped_char.isalnum() and mapped_char.isascii()) or mapped_char in ' .,;:!?\\'\"()[]{} -&':\n",
        "            result += mapped_char\n",
        "    return result\n",
        "\n",
        "# Apply cleaning to all columns\n",
        "columns_to_clean = ['title', 'director', 'cast', 'country', 'date_added', 'rating', 'listed_in', 'description']\n",
        "for col in columns_to_clean:\n",
        "    df[col] = df[col].apply(clean_and_replace)"
      ],
      "metadata": {
        "id": "1IbjP87VcS0t"
      },
      "execution_count": 21,
      "outputs": []
    },
    {
      "cell_type": "markdown",
      "source": [
        "check for unusual characters to verify"
      ],
      "metadata": {
        "id": "R8vSWd6veINj"
      }
    },
    {
      "cell_type": "code",
      "source": [
        "# Re-run your check for unusual characters to verify\n",
        "def check_unusual_chars(text):\n",
        "    if pd.isna(text):\n",
        "        return False\n",
        "    pattern = r\"[^a-zA-Z0-9\\s.,!?;:'\\\"()\\[\\]{}\\-&]\"  # Updated pattern to allow - and &\n",
        "    matches = re.findall(pattern, str(text))\n",
        "    return bool(matches)\n",
        "\n",
        "for col in df.columns:\n",
        "    unusual_chars_found = df[col].apply(check_unusual_chars).any()\n",
        "    if unusual_chars_found:\n",
        "        print(f\"Unusual characters still found in column: {col}\")\n",
        "    else:\n",
        "        print(f\"No unusual characters in column: {col}\")"
      ],
      "metadata": {
        "colab": {
          "base_uri": "https://localhost:8080/"
        },
        "id": "fPYak6BxdvUw",
        "outputId": "4693e110-ee7f-44c2-aaa4-486b943f7bfa"
      },
      "execution_count": 22,
      "outputs": [
        {
          "output_type": "stream",
          "name": "stdout",
          "text": [
            "No unusual characters in column: show_id\n",
            "No unusual characters in column: type\n",
            "No unusual characters in column: title\n",
            "No unusual characters in column: director\n",
            "No unusual characters in column: cast\n",
            "No unusual characters in column: country\n",
            "No unusual characters in column: date_added\n",
            "No unusual characters in column: release_year\n",
            "No unusual characters in column: rating\n",
            "No unusual characters in column: duration\n",
            "No unusual characters in column: listed_in\n",
            "No unusual characters in column: description\n"
          ]
        }
      ]
    },
    {
      "cell_type": "code",
      "source": [
        "df['date_added'] = pd.to_datetime(df['date_added'], errors='coerce')"
      ],
      "metadata": {
        "id": "PFmP2Gt2gniX"
      },
      "execution_count": 23,
      "outputs": []
    },
    {
      "cell_type": "code",
      "source": [
        "df['show_id'].head(3)"
      ],
      "metadata": {
        "colab": {
          "base_uri": "https://localhost:8080/",
          "height": 178
        },
        "id": "_fjqUqoIhrxg",
        "outputId": "59a545f6-a14b-4965-d7fa-66ea0ec617f5"
      },
      "execution_count": 24,
      "outputs": [
        {
          "output_type": "execute_result",
          "data": {
            "text/plain": [
              "0    s1\n",
              "1    s2\n",
              "2    s3\n",
              "Name: show_id, dtype: object"
            ],
            "text/html": [
              "<div>\n",
              "<style scoped>\n",
              "    .dataframe tbody tr th:only-of-type {\n",
              "        vertical-align: middle;\n",
              "    }\n",
              "\n",
              "    .dataframe tbody tr th {\n",
              "        vertical-align: top;\n",
              "    }\n",
              "\n",
              "    .dataframe thead th {\n",
              "        text-align: right;\n",
              "    }\n",
              "</style>\n",
              "<table border=\"1\" class=\"dataframe\">\n",
              "  <thead>\n",
              "    <tr style=\"text-align: right;\">\n",
              "      <th></th>\n",
              "      <th>show_id</th>\n",
              "    </tr>\n",
              "  </thead>\n",
              "  <tbody>\n",
              "    <tr>\n",
              "      <th>0</th>\n",
              "      <td>s1</td>\n",
              "    </tr>\n",
              "    <tr>\n",
              "      <th>1</th>\n",
              "      <td>s2</td>\n",
              "    </tr>\n",
              "    <tr>\n",
              "      <th>2</th>\n",
              "      <td>s3</td>\n",
              "    </tr>\n",
              "  </tbody>\n",
              "</table>\n",
              "</div><br><label><b>dtype:</b> object</label>"
            ]
          },
          "metadata": {},
          "execution_count": 24
        }
      ]
    },
    {
      "cell_type": "code",
      "source": [
        "# Remove \"s\" prefix and convert to integer\n",
        "df['show_id'] = df['show_id'].str.replace('s', '').astype(int)\n",
        "\n",
        "# Verify the changes\n",
        "print(df['show_id'].head())  # Check the first few values\n",
        "print(df['show_id'].dtype)   # Check the data type"
      ],
      "metadata": {
        "colab": {
          "base_uri": "https://localhost:8080/"
        },
        "id": "v48gKNnziLFu",
        "outputId": "5562fdb3-4ca5-4d79-e29e-9b9c67fcb324"
      },
      "execution_count": 25,
      "outputs": [
        {
          "output_type": "stream",
          "name": "stdout",
          "text": [
            "0    1\n",
            "1    2\n",
            "2    3\n",
            "3    4\n",
            "4    5\n",
            "Name: show_id, dtype: int64\n",
            "int64\n"
          ]
        }
      ]
    },
    {
      "cell_type": "markdown",
      "source": [
        "#### **Final standard format:** after Handled null values, missing values and unsual chars from all columns"
      ],
      "metadata": {
        "id": "qvnAF7ZGida9"
      }
    },
    {
      "cell_type": "code",
      "source": [
        "df.info()"
      ],
      "metadata": {
        "colab": {
          "base_uri": "https://localhost:8080/"
        },
        "id": "KSnSkcLEiLDf",
        "outputId": "9a1a6947-67c8-4492-acd4-96a6cc147115"
      },
      "execution_count": 26,
      "outputs": [
        {
          "output_type": "stream",
          "name": "stdout",
          "text": [
            "<class 'pandas.core.frame.DataFrame'>\n",
            "RangeIndex: 7787 entries, 0 to 7786\n",
            "Data columns (total 12 columns):\n",
            " #   Column        Non-Null Count  Dtype         \n",
            "---  ------        --------------  -----         \n",
            " 0   show_id       7787 non-null   int64         \n",
            " 1   type          7787 non-null   object        \n",
            " 2   title         7787 non-null   object        \n",
            " 3   director      7787 non-null   object        \n",
            " 4   cast          7787 non-null   object        \n",
            " 5   country       7787 non-null   object        \n",
            " 6   date_added    7787 non-null   datetime64[ns]\n",
            " 7   release_year  7787 non-null   int64         \n",
            " 8   rating        7787 non-null   object        \n",
            " 9   duration      7787 non-null   object        \n",
            " 10  listed_in     7787 non-null   object        \n",
            " 11  description   7787 non-null   object        \n",
            "dtypes: datetime64[ns](1), int64(2), object(9)\n",
            "memory usage: 730.2+ KB\n"
          ]
        }
      ]
    },
    {
      "cell_type": "code",
      "source": [
        "df.shape"
      ],
      "metadata": {
        "colab": {
          "base_uri": "https://localhost:8080/"
        },
        "id": "P5zibG2TiLA4",
        "outputId": "12126792-cf91-433c-e78a-6d950f8c3ef6"
      },
      "execution_count": 27,
      "outputs": [
        {
          "output_type": "execute_result",
          "data": {
            "text/plain": [
              "(7787, 12)"
            ]
          },
          "metadata": {},
          "execution_count": 27
        }
      ]
    },
    {
      "cell_type": "code",
      "source": [
        "round(df.describe(include='all'))"
      ],
      "metadata": {
        "colab": {
          "base_uri": "https://localhost:8080/",
          "height": 429
        },
        "id": "XVhiMuaAi4k5",
        "outputId": "807a8db0-af63-4a6e-9ebb-565ac1b269df"
      },
      "execution_count": 28,
      "outputs": [
        {
          "output_type": "execute_result",
          "data": {
            "text/plain": [
              "        show_id   type title       director           cast        country  \\\n",
              "count    7787.0   7787  7787           7787           7787           7787   \n",
              "unique      NaN      2  7778           4050           6832            682   \n",
              "top         NaN  Movie        Not available  Not available  United States   \n",
              "freq        NaN   5377     5           2389            718           2555   \n",
              "mean     3894.0    NaN   NaN            NaN            NaN            NaN   \n",
              "min         1.0    NaN   NaN            NaN            NaN            NaN   \n",
              "25%      1948.0    NaN   NaN            NaN            NaN            NaN   \n",
              "50%      3894.0    NaN   NaN            NaN            NaN            NaN   \n",
              "75%      5840.0    NaN   NaN            NaN            NaN            NaN   \n",
              "max      7787.0    NaN   NaN            NaN            NaN            NaN   \n",
              "std      2248.0    NaN   NaN            NaN            NaN            NaN   \n",
              "\n",
              "                           date_added  release_year rating  duration  \\\n",
              "count                            7787        7787.0   7787      7787   \n",
              "unique                            NaN           NaN     15       216   \n",
              "top                               NaN           NaN  TV-MA  1 Season   \n",
              "freq                              NaN           NaN   2863      1608   \n",
              "mean    2019-01-08 16:42:39.342493952        2014.0    NaN       NaN   \n",
              "min               2008-01-01 00:00:00        1925.0    NaN       NaN   \n",
              "25%               2018-02-16 00:00:00        2013.0    NaN       NaN   \n",
              "50%               2019-03-15 00:00:00        2017.0    NaN       NaN   \n",
              "75%               2020-01-17 12:00:00        2018.0    NaN       NaN   \n",
              "max               2021-01-16 00:00:00        2021.0    NaN       NaN   \n",
              "std                               NaN           9.0    NaN       NaN   \n",
              "\n",
              "            listed_in                                        description  \n",
              "count            7787                                               7787  \n",
              "unique            492                                               7769  \n",
              "top     Documentaries  Multiple women report their husbands as missin...  \n",
              "freq              334                                                  3  \n",
              "mean              NaN                                                NaN  \n",
              "min               NaN                                                NaN  \n",
              "25%               NaN                                                NaN  \n",
              "50%               NaN                                                NaN  \n",
              "75%               NaN                                                NaN  \n",
              "max               NaN                                                NaN  \n",
              "std               NaN                                                NaN  "
            ],
            "text/html": [
              "\n",
              "  <div id=\"df-074e0e52-c36f-47bb-aefb-205d616f4166\" class=\"colab-df-container\">\n",
              "    <div>\n",
              "<style scoped>\n",
              "    .dataframe tbody tr th:only-of-type {\n",
              "        vertical-align: middle;\n",
              "    }\n",
              "\n",
              "    .dataframe tbody tr th {\n",
              "        vertical-align: top;\n",
              "    }\n",
              "\n",
              "    .dataframe thead th {\n",
              "        text-align: right;\n",
              "    }\n",
              "</style>\n",
              "<table border=\"1\" class=\"dataframe\">\n",
              "  <thead>\n",
              "    <tr style=\"text-align: right;\">\n",
              "      <th></th>\n",
              "      <th>show_id</th>\n",
              "      <th>type</th>\n",
              "      <th>title</th>\n",
              "      <th>director</th>\n",
              "      <th>cast</th>\n",
              "      <th>country</th>\n",
              "      <th>date_added</th>\n",
              "      <th>release_year</th>\n",
              "      <th>rating</th>\n",
              "      <th>duration</th>\n",
              "      <th>listed_in</th>\n",
              "      <th>description</th>\n",
              "    </tr>\n",
              "  </thead>\n",
              "  <tbody>\n",
              "    <tr>\n",
              "      <th>count</th>\n",
              "      <td>7787.0</td>\n",
              "      <td>7787</td>\n",
              "      <td>7787</td>\n",
              "      <td>7787</td>\n",
              "      <td>7787</td>\n",
              "      <td>7787</td>\n",
              "      <td>7787</td>\n",
              "      <td>7787.0</td>\n",
              "      <td>7787</td>\n",
              "      <td>7787</td>\n",
              "      <td>7787</td>\n",
              "      <td>7787</td>\n",
              "    </tr>\n",
              "    <tr>\n",
              "      <th>unique</th>\n",
              "      <td>NaN</td>\n",
              "      <td>2</td>\n",
              "      <td>7778</td>\n",
              "      <td>4050</td>\n",
              "      <td>6832</td>\n",
              "      <td>682</td>\n",
              "      <td>NaN</td>\n",
              "      <td>NaN</td>\n",
              "      <td>15</td>\n",
              "      <td>216</td>\n",
              "      <td>492</td>\n",
              "      <td>7769</td>\n",
              "    </tr>\n",
              "    <tr>\n",
              "      <th>top</th>\n",
              "      <td>NaN</td>\n",
              "      <td>Movie</td>\n",
              "      <td></td>\n",
              "      <td>Not available</td>\n",
              "      <td>Not available</td>\n",
              "      <td>United States</td>\n",
              "      <td>NaN</td>\n",
              "      <td>NaN</td>\n",
              "      <td>TV-MA</td>\n",
              "      <td>1 Season</td>\n",
              "      <td>Documentaries</td>\n",
              "      <td>Multiple women report their husbands as missin...</td>\n",
              "    </tr>\n",
              "    <tr>\n",
              "      <th>freq</th>\n",
              "      <td>NaN</td>\n",
              "      <td>5377</td>\n",
              "      <td>5</td>\n",
              "      <td>2389</td>\n",
              "      <td>718</td>\n",
              "      <td>2555</td>\n",
              "      <td>NaN</td>\n",
              "      <td>NaN</td>\n",
              "      <td>2863</td>\n",
              "      <td>1608</td>\n",
              "      <td>334</td>\n",
              "      <td>3</td>\n",
              "    </tr>\n",
              "    <tr>\n",
              "      <th>mean</th>\n",
              "      <td>3894.0</td>\n",
              "      <td>NaN</td>\n",
              "      <td>NaN</td>\n",
              "      <td>NaN</td>\n",
              "      <td>NaN</td>\n",
              "      <td>NaN</td>\n",
              "      <td>2019-01-08 16:42:39.342493952</td>\n",
              "      <td>2014.0</td>\n",
              "      <td>NaN</td>\n",
              "      <td>NaN</td>\n",
              "      <td>NaN</td>\n",
              "      <td>NaN</td>\n",
              "    </tr>\n",
              "    <tr>\n",
              "      <th>min</th>\n",
              "      <td>1.0</td>\n",
              "      <td>NaN</td>\n",
              "      <td>NaN</td>\n",
              "      <td>NaN</td>\n",
              "      <td>NaN</td>\n",
              "      <td>NaN</td>\n",
              "      <td>2008-01-01 00:00:00</td>\n",
              "      <td>1925.0</td>\n",
              "      <td>NaN</td>\n",
              "      <td>NaN</td>\n",
              "      <td>NaN</td>\n",
              "      <td>NaN</td>\n",
              "    </tr>\n",
              "    <tr>\n",
              "      <th>25%</th>\n",
              "      <td>1948.0</td>\n",
              "      <td>NaN</td>\n",
              "      <td>NaN</td>\n",
              "      <td>NaN</td>\n",
              "      <td>NaN</td>\n",
              "      <td>NaN</td>\n",
              "      <td>2018-02-16 00:00:00</td>\n",
              "      <td>2013.0</td>\n",
              "      <td>NaN</td>\n",
              "      <td>NaN</td>\n",
              "      <td>NaN</td>\n",
              "      <td>NaN</td>\n",
              "    </tr>\n",
              "    <tr>\n",
              "      <th>50%</th>\n",
              "      <td>3894.0</td>\n",
              "      <td>NaN</td>\n",
              "      <td>NaN</td>\n",
              "      <td>NaN</td>\n",
              "      <td>NaN</td>\n",
              "      <td>NaN</td>\n",
              "      <td>2019-03-15 00:00:00</td>\n",
              "      <td>2017.0</td>\n",
              "      <td>NaN</td>\n",
              "      <td>NaN</td>\n",
              "      <td>NaN</td>\n",
              "      <td>NaN</td>\n",
              "    </tr>\n",
              "    <tr>\n",
              "      <th>75%</th>\n",
              "      <td>5840.0</td>\n",
              "      <td>NaN</td>\n",
              "      <td>NaN</td>\n",
              "      <td>NaN</td>\n",
              "      <td>NaN</td>\n",
              "      <td>NaN</td>\n",
              "      <td>2020-01-17 12:00:00</td>\n",
              "      <td>2018.0</td>\n",
              "      <td>NaN</td>\n",
              "      <td>NaN</td>\n",
              "      <td>NaN</td>\n",
              "      <td>NaN</td>\n",
              "    </tr>\n",
              "    <tr>\n",
              "      <th>max</th>\n",
              "      <td>7787.0</td>\n",
              "      <td>NaN</td>\n",
              "      <td>NaN</td>\n",
              "      <td>NaN</td>\n",
              "      <td>NaN</td>\n",
              "      <td>NaN</td>\n",
              "      <td>2021-01-16 00:00:00</td>\n",
              "      <td>2021.0</td>\n",
              "      <td>NaN</td>\n",
              "      <td>NaN</td>\n",
              "      <td>NaN</td>\n",
              "      <td>NaN</td>\n",
              "    </tr>\n",
              "    <tr>\n",
              "      <th>std</th>\n",
              "      <td>2248.0</td>\n",
              "      <td>NaN</td>\n",
              "      <td>NaN</td>\n",
              "      <td>NaN</td>\n",
              "      <td>NaN</td>\n",
              "      <td>NaN</td>\n",
              "      <td>NaN</td>\n",
              "      <td>9.0</td>\n",
              "      <td>NaN</td>\n",
              "      <td>NaN</td>\n",
              "      <td>NaN</td>\n",
              "      <td>NaN</td>\n",
              "    </tr>\n",
              "  </tbody>\n",
              "</table>\n",
              "</div>\n",
              "    <div class=\"colab-df-buttons\">\n",
              "\n",
              "  <div class=\"colab-df-container\">\n",
              "    <button class=\"colab-df-convert\" onclick=\"convertToInteractive('df-074e0e52-c36f-47bb-aefb-205d616f4166')\"\n",
              "            title=\"Convert this dataframe to an interactive table.\"\n",
              "            style=\"display:none;\">\n",
              "\n",
              "  <svg xmlns=\"http://www.w3.org/2000/svg\" height=\"24px\" viewBox=\"0 -960 960 960\">\n",
              "    <path d=\"M120-120v-720h720v720H120Zm60-500h600v-160H180v160Zm220 220h160v-160H400v160Zm0 220h160v-160H400v160ZM180-400h160v-160H180v160Zm440 0h160v-160H620v160ZM180-180h160v-160H180v160Zm440 0h160v-160H620v160Z\"/>\n",
              "  </svg>\n",
              "    </button>\n",
              "\n",
              "  <style>\n",
              "    .colab-df-container {\n",
              "      display:flex;\n",
              "      gap: 12px;\n",
              "    }\n",
              "\n",
              "    .colab-df-convert {\n",
              "      background-color: #E8F0FE;\n",
              "      border: none;\n",
              "      border-radius: 50%;\n",
              "      cursor: pointer;\n",
              "      display: none;\n",
              "      fill: #1967D2;\n",
              "      height: 32px;\n",
              "      padding: 0 0 0 0;\n",
              "      width: 32px;\n",
              "    }\n",
              "\n",
              "    .colab-df-convert:hover {\n",
              "      background-color: #E2EBFA;\n",
              "      box-shadow: 0px 1px 2px rgba(60, 64, 67, 0.3), 0px 1px 3px 1px rgba(60, 64, 67, 0.15);\n",
              "      fill: #174EA6;\n",
              "    }\n",
              "\n",
              "    .colab-df-buttons div {\n",
              "      margin-bottom: 4px;\n",
              "    }\n",
              "\n",
              "    [theme=dark] .colab-df-convert {\n",
              "      background-color: #3B4455;\n",
              "      fill: #D2E3FC;\n",
              "    }\n",
              "\n",
              "    [theme=dark] .colab-df-convert:hover {\n",
              "      background-color: #434B5C;\n",
              "      box-shadow: 0px 1px 3px 1px rgba(0, 0, 0, 0.15);\n",
              "      filter: drop-shadow(0px 1px 2px rgba(0, 0, 0, 0.3));\n",
              "      fill: #FFFFFF;\n",
              "    }\n",
              "  </style>\n",
              "\n",
              "    <script>\n",
              "      const buttonEl =\n",
              "        document.querySelector('#df-074e0e52-c36f-47bb-aefb-205d616f4166 button.colab-df-convert');\n",
              "      buttonEl.style.display =\n",
              "        google.colab.kernel.accessAllowed ? 'block' : 'none';\n",
              "\n",
              "      async function convertToInteractive(key) {\n",
              "        const element = document.querySelector('#df-074e0e52-c36f-47bb-aefb-205d616f4166');\n",
              "        const dataTable =\n",
              "          await google.colab.kernel.invokeFunction('convertToInteractive',\n",
              "                                                    [key], {});\n",
              "        if (!dataTable) return;\n",
              "\n",
              "        const docLinkHtml = 'Like what you see? Visit the ' +\n",
              "          '<a target=\"_blank\" href=https://colab.research.google.com/notebooks/data_table.ipynb>data table notebook</a>'\n",
              "          + ' to learn more about interactive tables.';\n",
              "        element.innerHTML = '';\n",
              "        dataTable['output_type'] = 'display_data';\n",
              "        await google.colab.output.renderOutput(dataTable, element);\n",
              "        const docLink = document.createElement('div');\n",
              "        docLink.innerHTML = docLinkHtml;\n",
              "        element.appendChild(docLink);\n",
              "      }\n",
              "    </script>\n",
              "  </div>\n",
              "\n",
              "\n",
              "    <div id=\"df-24ad03ba-c4a8-400d-8006-17dddfb0578e\">\n",
              "      <button class=\"colab-df-quickchart\" onclick=\"quickchart('df-24ad03ba-c4a8-400d-8006-17dddfb0578e')\"\n",
              "                title=\"Suggest charts\"\n",
              "                style=\"display:none;\">\n",
              "\n",
              "<svg xmlns=\"http://www.w3.org/2000/svg\" height=\"24px\"viewBox=\"0 0 24 24\"\n",
              "     width=\"24px\">\n",
              "    <g>\n",
              "        <path d=\"M19 3H5c-1.1 0-2 .9-2 2v14c0 1.1.9 2 2 2h14c1.1 0 2-.9 2-2V5c0-1.1-.9-2-2-2zM9 17H7v-7h2v7zm4 0h-2V7h2v10zm4 0h-2v-4h2v4z\"/>\n",
              "    </g>\n",
              "</svg>\n",
              "      </button>\n",
              "\n",
              "<style>\n",
              "  .colab-df-quickchart {\n",
              "      --bg-color: #E8F0FE;\n",
              "      --fill-color: #1967D2;\n",
              "      --hover-bg-color: #E2EBFA;\n",
              "      --hover-fill-color: #174EA6;\n",
              "      --disabled-fill-color: #AAA;\n",
              "      --disabled-bg-color: #DDD;\n",
              "  }\n",
              "\n",
              "  [theme=dark] .colab-df-quickchart {\n",
              "      --bg-color: #3B4455;\n",
              "      --fill-color: #D2E3FC;\n",
              "      --hover-bg-color: #434B5C;\n",
              "      --hover-fill-color: #FFFFFF;\n",
              "      --disabled-bg-color: #3B4455;\n",
              "      --disabled-fill-color: #666;\n",
              "  }\n",
              "\n",
              "  .colab-df-quickchart {\n",
              "    background-color: var(--bg-color);\n",
              "    border: none;\n",
              "    border-radius: 50%;\n",
              "    cursor: pointer;\n",
              "    display: none;\n",
              "    fill: var(--fill-color);\n",
              "    height: 32px;\n",
              "    padding: 0;\n",
              "    width: 32px;\n",
              "  }\n",
              "\n",
              "  .colab-df-quickchart:hover {\n",
              "    background-color: var(--hover-bg-color);\n",
              "    box-shadow: 0 1px 2px rgba(60, 64, 67, 0.3), 0 1px 3px 1px rgba(60, 64, 67, 0.15);\n",
              "    fill: var(--button-hover-fill-color);\n",
              "  }\n",
              "\n",
              "  .colab-df-quickchart-complete:disabled,\n",
              "  .colab-df-quickchart-complete:disabled:hover {\n",
              "    background-color: var(--disabled-bg-color);\n",
              "    fill: var(--disabled-fill-color);\n",
              "    box-shadow: none;\n",
              "  }\n",
              "\n",
              "  .colab-df-spinner {\n",
              "    border: 2px solid var(--fill-color);\n",
              "    border-color: transparent;\n",
              "    border-bottom-color: var(--fill-color);\n",
              "    animation:\n",
              "      spin 1s steps(1) infinite;\n",
              "  }\n",
              "\n",
              "  @keyframes spin {\n",
              "    0% {\n",
              "      border-color: transparent;\n",
              "      border-bottom-color: var(--fill-color);\n",
              "      border-left-color: var(--fill-color);\n",
              "    }\n",
              "    20% {\n",
              "      border-color: transparent;\n",
              "      border-left-color: var(--fill-color);\n",
              "      border-top-color: var(--fill-color);\n",
              "    }\n",
              "    30% {\n",
              "      border-color: transparent;\n",
              "      border-left-color: var(--fill-color);\n",
              "      border-top-color: var(--fill-color);\n",
              "      border-right-color: var(--fill-color);\n",
              "    }\n",
              "    40% {\n",
              "      border-color: transparent;\n",
              "      border-right-color: var(--fill-color);\n",
              "      border-top-color: var(--fill-color);\n",
              "    }\n",
              "    60% {\n",
              "      border-color: transparent;\n",
              "      border-right-color: var(--fill-color);\n",
              "    }\n",
              "    80% {\n",
              "      border-color: transparent;\n",
              "      border-right-color: var(--fill-color);\n",
              "      border-bottom-color: var(--fill-color);\n",
              "    }\n",
              "    90% {\n",
              "      border-color: transparent;\n",
              "      border-bottom-color: var(--fill-color);\n",
              "    }\n",
              "  }\n",
              "</style>\n",
              "\n",
              "      <script>\n",
              "        async function quickchart(key) {\n",
              "          const quickchartButtonEl =\n",
              "            document.querySelector('#' + key + ' button');\n",
              "          quickchartButtonEl.disabled = true;  // To prevent multiple clicks.\n",
              "          quickchartButtonEl.classList.add('colab-df-spinner');\n",
              "          try {\n",
              "            const charts = await google.colab.kernel.invokeFunction(\n",
              "                'suggestCharts', [key], {});\n",
              "          } catch (error) {\n",
              "            console.error('Error during call to suggestCharts:', error);\n",
              "          }\n",
              "          quickchartButtonEl.classList.remove('colab-df-spinner');\n",
              "          quickchartButtonEl.classList.add('colab-df-quickchart-complete');\n",
              "        }\n",
              "        (() => {\n",
              "          let quickchartButtonEl =\n",
              "            document.querySelector('#df-24ad03ba-c4a8-400d-8006-17dddfb0578e button');\n",
              "          quickchartButtonEl.style.display =\n",
              "            google.colab.kernel.accessAllowed ? 'block' : 'none';\n",
              "        })();\n",
              "      </script>\n",
              "    </div>\n",
              "\n",
              "    </div>\n",
              "  </div>\n"
            ],
            "application/vnd.google.colaboratory.intrinsic+json": {
              "type": "dataframe",
              "summary": "{\n  \"name\": \"round(df\",\n  \"rows\": 11,\n  \"fields\": [\n    {\n      \"column\": \"show_id\",\n      \"properties\": {\n        \"dtype\": \"number\",\n        \"std\": 2806.0742499849453,\n        \"min\": 1.0,\n        \"max\": 7787.0,\n        \"num_unique_values\": 6,\n        \"samples\": [\n          7787.0,\n          3894.0,\n          2248.0\n        ],\n        \"semantic_type\": \"\",\n        \"description\": \"\"\n      }\n    },\n    {\n      \"column\": \"type\",\n      \"properties\": {\n        \"dtype\": \"category\",\n        \"num_unique_values\": 4,\n        \"samples\": [\n          2,\n          \"5377\",\n          \"7787\"\n        ],\n        \"semantic_type\": \"\",\n        \"description\": \"\"\n      }\n    },\n    {\n      \"column\": \"title\",\n      \"properties\": {\n        \"dtype\": \"date\",\n        \"min\": \"1970-01-01 00:00:00.000000005\",\n        \"max\": \"1970-01-01 00:00:00.000007787\",\n        \"num_unique_values\": 4,\n        \"samples\": [\n          7778,\n          \"5\",\n          \"7787\"\n        ],\n        \"semantic_type\": \"\",\n        \"description\": \"\"\n      }\n    },\n    {\n      \"column\": \"director\",\n      \"properties\": {\n        \"dtype\": \"category\",\n        \"num_unique_values\": 4,\n        \"samples\": [\n          4050,\n          \"2389\",\n          \"7787\"\n        ],\n        \"semantic_type\": \"\",\n        \"description\": \"\"\n      }\n    },\n    {\n      \"column\": \"cast\",\n      \"properties\": {\n        \"dtype\": \"category\",\n        \"num_unique_values\": 4,\n        \"samples\": [\n          6832,\n          \"718\",\n          \"7787\"\n        ],\n        \"semantic_type\": \"\",\n        \"description\": \"\"\n      }\n    },\n    {\n      \"column\": \"country\",\n      \"properties\": {\n        \"dtype\": \"category\",\n        \"num_unique_values\": 4,\n        \"samples\": [\n          682,\n          \"2555\",\n          \"7787\"\n        ],\n        \"semantic_type\": \"\",\n        \"description\": \"\"\n      }\n    },\n    {\n      \"column\": \"date_added\",\n      \"properties\": {\n        \"dtype\": \"date\",\n        \"min\": \"1970-01-01 00:00:00.000007787\",\n        \"max\": \"2021-01-16 00:00:00\",\n        \"num_unique_values\": 7,\n        \"samples\": [\n          \"7787\",\n          \"2019-01-08 16:42:39.342493952\",\n          \"2020-01-17 12:00:00\"\n        ],\n        \"semantic_type\": \"\",\n        \"description\": \"\"\n      }\n    },\n    {\n      \"column\": \"release_year\",\n      \"properties\": {\n        \"dtype\": \"number\",\n        \"std\": 2256.78950217845,\n        \"min\": 9.0,\n        \"max\": 7787.0,\n        \"num_unique_values\": 8,\n        \"samples\": [\n          2014.0,\n          2018.0,\n          7787.0\n        ],\n        \"semantic_type\": \"\",\n        \"description\": \"\"\n      }\n    },\n    {\n      \"column\": \"rating\",\n      \"properties\": {\n        \"dtype\": \"category\",\n        \"num_unique_values\": 4,\n        \"samples\": [\n          15,\n          \"2863\",\n          \"7787\"\n        ],\n        \"semantic_type\": \"\",\n        \"description\": \"\"\n      }\n    },\n    {\n      \"column\": \"duration\",\n      \"properties\": {\n        \"dtype\": \"category\",\n        \"num_unique_values\": 4,\n        \"samples\": [\n          216,\n          \"1608\",\n          \"7787\"\n        ],\n        \"semantic_type\": \"\",\n        \"description\": \"\"\n      }\n    },\n    {\n      \"column\": \"listed_in\",\n      \"properties\": {\n        \"dtype\": \"category\",\n        \"num_unique_values\": 4,\n        \"samples\": [\n          492,\n          \"334\",\n          \"7787\"\n        ],\n        \"semantic_type\": \"\",\n        \"description\": \"\"\n      }\n    },\n    {\n      \"column\": \"description\",\n      \"properties\": {\n        \"dtype\": \"category\",\n        \"num_unique_values\": 4,\n        \"samples\": [\n          7769,\n          \"3\",\n          \"7787\"\n        ],\n        \"semantic_type\": \"\",\n        \"description\": \"\"\n      }\n    }\n  ]\n}"
            }
          },
          "metadata": {},
          "execution_count": 28
        }
      ]
    },
    {
      "cell_type": "markdown",
      "source": [
        "#### **Outlier checks**"
      ],
      "metadata": {
        "id": "-9jL0d4klaUp"
      }
    },
    {
      "cell_type": "code",
      "source": [
        "# Select numerical columns\n",
        "numerical_cols = ['show_id', 'release_year']\n",
        "\n",
        "# Create box plots for numerical columns\n",
        "for col in numerical_cols:\n",
        "    plt.figure(figsize=(8, 6))  # Adjust figure size if needed\n",
        "    sns.boxplot(x=df[col])\n",
        "    plt.title(f'Box Plot for {col}')\n",
        "    plt.show()"
      ],
      "metadata": {
        "colab": {
          "base_uri": "https://localhost:8080/",
          "height": 1000
        },
        "id": "JxZtLmajohvi",
        "outputId": "2a88fbc1-85d0-40ff-ea20-1b2aa6de7414"
      },
      "execution_count": 29,
      "outputs": [
        {
          "output_type": "display_data",
          "data": {
            "text/plain": [
              "<Figure size 800x600 with 1 Axes>"
            ],
            "image/png": "[encoded data removed]"
          },
          "metadata": {}
        },
        {
          "output_type": "display_data",
          "data": {
            "text/plain": [
              "<Figure size 800x600 with 1 Axes>"
            ],
            "image/png": "[encoded data removed]"
          },
          "metadata": {}
        }
      ]
    },
    {
      "cell_type": "markdown",
      "source": [
        "#### Visualization"
      ],
      "metadata": {
        "id": "W2G-1NGJNWDD"
      }
    },
    {
      "cell_type": "code",
      "source": [
        "# Visualize distribution of 'date_added'\n",
        "plt.figure(figsize=(10, 6))\n",
        "sns.histplot(df['date_added'], kde=True)\n",
        "plt.title('Distribution of date_added')\n",
        "plt.show()"
      ],
      "metadata": {
        "colab": {
          "base_uri": "https://localhost:8080/",
          "height": 573
        },
        "id": "_T2JvX3bpAeF",
        "outputId": "2bfb2e15-f8c8-48a0-a9dd-fea0dd9ced8f"
      },
      "execution_count": 30,
      "outputs": [
        {
          "output_type": "display_data",
          "data": {
            "text/plain": [
              "<Figure size 1000x600 with 1 Axes>"
            ],
            "image/png": "[encoded data removed]"
          },
          "metadata": {}
        }
      ]
    },
    {
      "cell_type": "code",
      "source": [
        "# Check for infrequent values in categorical columns and visualize with Plotly Express\n",
        "for col in ['type', 'rating', 'duration']:  # Add other relevant columns\n",
        "    value_counts = df[col].value_counts()\n",
        "\n",
        "    # Create a list of random colors\n",
        "    num_colors = len(value_counts)\n",
        "    colors = [\"#\" + ''.join([random.choice('0123456789ABCDEF') for j in range(6)]) for i in range(num_colors)]\n",
        "\n",
        "    # Create a bar chart using Plotly Express with random colors and count numbers\n",
        "    fig = px.bar(x=value_counts.index, y=value_counts.values,\n",
        "                 labels={'x': col, 'y': 'Frequency'},\n",
        "                 title=f\"Value Counts for {col}\",\n",
        "                 color=value_counts.index, color_discrete_sequence=colors, text=value_counts.values)  # Added text for count numbers\n",
        "\n",
        "    # Customize the layout (optional)\n",
        "    fig.update_layout(xaxis_tickangle=-45, xaxis_title='Dataset Variables', yaxis_title='Count Distribution')\n",
        "    fig.update_traces(textposition='outside')  # Position count numbers outside the bars\n",
        "\n",
        "    # Show the plot\n",
        "    fig.show()"
      ],
      "metadata": {
        "colab": {
          "base_uri": "https://localhost:8080/",
          "height": 1000
        },
        "id": "oOTR4dMlppUP",
        "outputId": "a3878166-4f74-47cc-cec5-c7c8d881fcb2"
      },
      "execution_count": 31,
      "outputs": [
        {
          "output_type": "display_data",
          "data": {
            "text/html": [
              "<html>\n",
              "<head><meta charset=\"utf-8\" /></head>\n",
              "<body>\n",
              "    <div>            <script src=\"https://cdnjs.cloudflare.com/ajax/libs/mathjax/2.7.5/MathJax.js?config=TeX-AMS-MML_SVG\"></script><script type=\"text/javascript\">if (window.MathJax && window.MathJax.Hub && window.MathJax.Hub.Config) {window.MathJax.Hub.Config({SVG: {font: \"STIX-Web\"}});}</script>                <script type=\"text/javascript\">window.PlotlyConfig = {MathJaxConfig: 'local'};</script>\n",
              "        <script charset=\"utf-8\" src=\"https://cdn.plot.ly/plotly-2.35.2.min.js\"></script>                <div id=\"96b740e5-0bf8-43b5-a1ba-c7e43d3623d0\" class=\"plotly-graph-div\" style=\"height:525px; width:100%;\"></div>            <script type=\"text/javascript\">                                    window.PLOTLYENV=window.PLOTLYENV || {};                                    if (document.getElementById(\"96b740e5-0bf8-43b5-a1ba-c7e43d3623d0\")) {                    Plotly.newPlot(                        \"96b740e5-0bf8-43b5-a1ba-c7e43d3623d0\",                        [{\"alignmentgroup\":\"True\",\"hovertemplate\":\"color=Movie\\u003cbr\\u003etype=%{x}\\u003cbr\\u003eFrequency=%{y}\\u003cbr\\u003etext=%{text}\\u003cextra\\u003e\\u003c\\u002fextra\\u003e\",\"legendgroup\":\"Movie\",\"marker\":{\"color\":\"#E85647\",\"pattern\":{\"shape\":\"\"}},\"name\":\"Movie\",\"offsetgroup\":\"Movie\",\"orientation\":\"v\",\"showlegend\":true,\"text\":[5377.0],\"textposition\":\"outside\",\"x\":[\"Movie\"],\"xaxis\":\"x\",\"y\":[5377],\"yaxis\":\"y\",\"type\":\"bar\"},{\"alignmentgroup\":\"True\",\"hovertemplate\":\"color=TV Show\\u003cbr\\u003etype=%{x}\\u003cbr\\u003eFrequency=%{y}\\u003cbr\\u003etext=%{text}\\u003cextra\\u003e\\u003c\\u002fextra\\u003e\",\"legendgroup\":\"TV Show\",\"marker\":{\"color\":\"#C03782\",\"pattern\":{\"shape\":\"\"}},\"name\":\"TV Show\",\"offsetgroup\":\"TV Show\",\"orientation\":\"v\",\"showlegend\":true,\"text\":[2410.0],\"textposition\":\"outside\",\"x\":[\"TV Show\"],\"xaxis\":\"x\",\"y\":[2410],\"yaxis\":\"y\",\"type\":\"bar\"}],                        {\"template\":{\"data\":{\"histogram2dcontour\":[{\"type\":\"histogram2dcontour\",\"colorbar\":{\"outlinewidth\":0,\"ticks\":\"\"},\"colorscale\":[[0.0,\"#0d0887\"],[0.1111111111111111,\"#46039f\"],[0.2222222222222222,\"#7201a8\"],[0.3333333333333333,\"#9c179e\"],[0.4444444444444444,\"#bd3786\"],[0.5555555555555556,\"#d8576b\"],[0.6666666666666666,\"#ed7953\"],[0.7777777777777778,\"#fb9f3a\"],[0.8888888888888888,\"#fdca26\"],[1.0,\"#f0f921\"]]}],\"choropleth\":[{\"type\":\"choropleth\",\"colorbar\":{\"outlinewidth\":0,\"ticks\":\"\"}}],\"histogram2d\":[{\"type\":\"histogram2d\",\"colorbar\":{\"outlinewidth\":0,\"ticks\":\"\"},\"colorscale\":[[0.0,\"#0d0887\"],[0.1111111111111111,\"#46039f\"],[0.2222222222222222,\"#7201a8\"],[0.3333333333333333,\"#9c179e\"],[0.4444444444444444,\"#bd3786\"],[0.5555555555555556,\"#d8576b\"],[0.6666666666666666,\"#ed7953\"],[0.7777777777777778,\"#fb9f3a\"],[0.8888888888888888,\"#fdca26\"],[1.0,\"#f0f921\"]]}],\"heatmap\":[{\"type\":\"heatmap\",\"colorbar\":{\"outlinewidth\":0,\"ticks\":\"\"},\"colorscale\":[[0.0,\"#0d0887\"],[0.1111111111111111,\"#46039f\"],[0.2222222222222222,\"#7201a8\"],[0.3333333333333333,\"#9c179e\"],[0.4444444444444444,\"#bd3786\"],[0.5555555555555556,\"#d8576b\"],[0.6666666666666666,\"#ed7953\"],[0.7777777777777778,\"#fb9f3a\"],[0.8888888888888888,\"#fdca26\"],[1.0,\"#f0f921\"]]}],\"heatmapgl\":[{\"type\":\"heatmapgl\",\"colorbar\":{\"outlinewidth\":0,\"ticks\":\"\"},\"colorscale\":[[0.0,\"#0d0887\"],[0.1111111111111111,\"#46039f\"],[0.2222222222222222,\"#7201a8\"],[0.3333333333333333,\"#9c179e\"],[0.4444444444444444,\"#bd3786\"],[0.5555555555555556,\"#d8576b\"],[0.6666666666666666,\"#ed7953\"],[0.7777777777777778,\"#fb9f3a\"],[0.8888888888888888,\"#fdca26\"],[1.0,\"#f0f921\"]]}],\"contourcarpet\":[{\"type\":\"contourcarpet\",\"colorbar\":{\"outlinewidth\":0,\"ticks\":\"\"}}],\"contour\":[{\"type\":\"contour\",\"colorbar\":{\"outlinewidth\":0,\"ticks\":\"\"},\"colorscale\":[[0.0,\"#0d0887\"],[0.1111111111111111,\"#46039f\"],[0.2222222222222222,\"#7201a8\"],[0.3333333333333333,\"#9c179e\"],[0.4444444444444444,\"#bd3786\"],[0.5555555555555556,\"#d8576b\"],[0.6666666666666666,\"#ed7953\"],[0.7777777777777778,\"#fb9f3a\"],[0.8888888888888888,\"#fdca26\"],[1.0,\"#f0f921\"]]}],\"surface\":[{\"type\":\"surface\",\"colorbar\":{\"outlinewidth\":0,\"ticks\":\"\"},\"colorscale\":[[0.0,\"#0d0887\"],[0.1111111111111111,\"#46039f\"],[0.2222222222222222,\"#7201a8\"],[0.3333333333333333,\"#9c179e\"],[0.4444444444444444,\"#bd3786\"],[0.5555555555555556,\"#d8576b\"],[0.6666666666666666,\"#ed7953\"],[0.7777777777777778,\"#fb9f3a\"],[0.8888888888888888,\"#fdca26\"],[1.0,\"#f0f921\"]]}],\"mesh3d\":[{\"type\":\"mesh3d\",\"colorbar\":{\"outlinewidth\":0,\"ticks\":\"\"}}],\"scatter\":[{\"fillpattern\":{\"fillmode\":\"overlay\",\"size\":10,\"solidity\":0.2},\"type\":\"scatter\"}],\"parcoords\":[{\"type\":\"parcoords\",\"line\":{\"colorbar\":{\"outlinewidth\":0,\"ticks\":\"\"}}}],\"scatterpolargl\":[{\"type\":\"scatterpolargl\",\"marker\":{\"colorbar\":{\"outlinewidth\":0,\"ticks\":\"\"}}}],\"bar\":[{\"error_x\":{\"color\":\"#2a3f5f\"},\"error_y\":{\"color\":\"#2a3f5f\"},\"marker\":{\"line\":{\"color\":\"#E5ECF6\",\"width\":0.5},\"pattern\":{\"fillmode\":\"overlay\",\"size\":10,\"solidity\":0.2}},\"type\":\"bar\"}],\"scattergeo\":[{\"type\":\"scattergeo\",\"marker\":{\"colorbar\":{\"outlinewidth\":0,\"ticks\":\"\"}}}],\"scatterpolar\":[{\"type\":\"scatterpolar\",\"marker\":{\"colorbar\":{\"outlinewidth\":0,\"ticks\":\"\"}}}],\"histogram\":[{\"marker\":{\"pattern\":{\"fillmode\":\"overlay\",\"size\":10,\"solidity\":0.2}},\"type\":\"histogram\"}],\"scattergl\":[{\"type\":\"scattergl\",\"marker\":{\"colorbar\":{\"outlinewidth\":0,\"ticks\":\"\"}}}],\"scatter3d\":[{\"type\":\"scatter3d\",\"line\":{\"colorbar\":{\"outlinewidth\":0,\"ticks\":\"\"}},\"marker\":{\"colorbar\":{\"outlinewidth\":0,\"ticks\":\"\"}}}],\"scattermapbox\":[{\"type\":\"scattermapbox\",\"marker\":{\"colorbar\":{\"outlinewidth\":0,\"ticks\":\"\"}}}],\"scatterternary\":[{\"type\":\"scatterternary\",\"marker\":{\"colorbar\":{\"outlinewidth\":0,\"ticks\":\"\"}}}],\"scattercarpet\":[{\"type\":\"scattercarpet\",\"marker\":{\"colorbar\":{\"outlinewidth\":0,\"ticks\":\"\"}}}],\"carpet\":[{\"aaxis\":{\"endlinecolor\":\"#2a3f5f\",\"gridcolor\":\"white\",\"linecolor\":\"white\",\"minorgridcolor\":\"white\",\"startlinecolor\":\"#2a3f5f\"},\"baxis\":{\"endlinecolor\":\"#2a3f5f\",\"gridcolor\":\"white\",\"linecolor\":\"white\",\"minorgridcolor\":\"white\",\"startlinecolor\":\"#2a3f5f\"},\"type\":\"carpet\"}],\"table\":[{\"cells\":{\"fill\":{\"color\":\"#EBF0F8\"},\"line\":{\"color\":\"white\"}},\"header\":{\"fill\":{\"color\":\"#C8D4E3\"},\"line\":{\"color\":\"white\"}},\"type\":\"table\"}],\"barpolar\":[{\"marker\":{\"line\":{\"color\":\"#E5ECF6\",\"width\":0.5},\"pattern\":{\"fillmode\":\"overlay\",\"size\":10,\"solidity\":0.2}},\"type\":\"barpolar\"}],\"pie\":[{\"automargin\":true,\"type\":\"pie\"}]},\"layout\":{\"autotypenumbers\":\"strict\",\"colorway\":[\"#636efa\",\"#EF553B\",\"#00cc96\",\"#ab63fa\",\"#FFA15A\",\"#19d3f3\",\"#FF6692\",\"#B6E880\",\"#FF97FF\",\"#FECB52\"],\"font\":{\"color\":\"#2a3f5f\"},\"hovermode\":\"closest\",\"hoverlabel\":{\"align\":\"left\"},\"paper_bgcolor\":\"white\",\"plot_bgcolor\":\"#E5ECF6\",\"polar\":{\"bgcolor\":\"#E5ECF6\",\"angularaxis\":{\"gridcolor\":\"white\",\"linecolor\":\"white\",\"ticks\":\"\"},\"radialaxis\":{\"gridcolor\":\"white\",\"linecolor\":\"white\",\"ticks\":\"\"}},\"ternary\":{\"bgcolor\":\"#E5ECF6\",\"aaxis\":{\"gridcolor\":\"white\",\"linecolor\":\"white\",\"ticks\":\"\"},\"baxis\":{\"gridcolor\":\"white\",\"linecolor\":\"white\",\"ticks\":\"\"},\"caxis\":{\"gridcolor\":\"white\",\"linecolor\":\"white\",\"ticks\":\"\"}},\"coloraxis\":{\"colorbar\":{\"outlinewidth\":0,\"ticks\":\"\"}},\"colorscale\":{\"sequential\":[[0.0,\"#0d0887\"],[0.1111111111111111,\"#46039f\"],[0.2222222222222222,\"#7201a8\"],[0.3333333333333333,\"#9c179e\"],[0.4444444444444444,\"#bd3786\"],[0.5555555555555556,\"#d8576b\"],[0.6666666666666666,\"#ed7953\"],[0.7777777777777778,\"#fb9f3a\"],[0.8888888888888888,\"#fdca26\"],[1.0,\"#f0f921\"]],\"sequentialminus\":[[0.0,\"#0d0887\"],[0.1111111111111111,\"#46039f\"],[0.2222222222222222,\"#7201a8\"],[0.3333333333333333,\"#9c179e\"],[0.4444444444444444,\"#bd3786\"],[0.5555555555555556,\"#d8576b\"],[0.6666666666666666,\"#ed7953\"],[0.7777777777777778,\"#fb9f3a\"],[0.8888888888888888,\"#fdca26\"],[1.0,\"#f0f921\"]],\"diverging\":[[0,\"#8e0152\"],[0.1,\"#c51b7d\"],[0.2,\"#de77ae\"],[0.3,\"#f1b6da\"],[0.4,\"#fde0ef\"],[0.5,\"#f7f7f7\"],[0.6,\"#e6f5d0\"],[0.7,\"#b8e186\"],[0.8,\"#7fbc41\"],[0.9,\"#4d9221\"],[1,\"#276419\"]]},\"xaxis\":{\"gridcolor\":\"white\",\"linecolor\":\"white\",\"ticks\":\"\",\"title\":{\"standoff\":15},\"zerolinecolor\":\"white\",\"automargin\":true,\"zerolinewidth\":2},\"yaxis\":{\"gridcolor\":\"white\",\"linecolor\":\"white\",\"ticks\":\"\",\"title\":{\"standoff\":15},\"zerolinecolor\":\"white\",\"automargin\":true,\"zerolinewidth\":2},\"scene\":{\"xaxis\":{\"backgroundcolor\":\"#E5ECF6\",\"gridcolor\":\"white\",\"linecolor\":\"white\",\"showbackground\":true,\"ticks\":\"\",\"zerolinecolor\":\"white\",\"gridwidth\":2},\"yaxis\":{\"backgroundcolor\":\"#E5ECF6\",\"gridcolor\":\"white\",\"linecolor\":\"white\",\"showbackground\":true,\"ticks\":\"\",\"zerolinecolor\":\"white\",\"gridwidth\":2},\"zaxis\":{\"backgroundcolor\":\"#E5ECF6\",\"gridcolor\":\"white\",\"linecolor\":\"white\",\"showbackground\":true,\"ticks\":\"\",\"zerolinecolor\":\"white\",\"gridwidth\":2}},\"shapedefaults\":{\"line\":{\"color\":\"#2a3f5f\"}},\"annotationdefaults\":{\"arrowcolor\":\"#2a3f5f\",\"arrowhead\":0,\"arrowwidth\":1},\"geo\":{\"bgcolor\":\"white\",\"landcolor\":\"#E5ECF6\",\"subunitcolor\":\"white\",\"showland\":true,\"showlakes\":true,\"lakecolor\":\"white\"},\"title\":{\"x\":0.05},\"mapbox\":{\"style\":\"light\"}}},\"xaxis\":{\"anchor\":\"y\",\"domain\":[0.0,1.0],\"title\":{\"text\":\"Dataset Variables\"},\"tickangle\":-45},\"yaxis\":{\"anchor\":\"x\",\"domain\":[0.0,1.0],\"title\":{\"text\":\"Count Distribution\"}},\"legend\":{\"title\":{\"text\":\"color\"},\"tracegroupgap\":0},\"title\":{\"text\":\"Value Counts for type\"},\"barmode\":\"relative\"},                        {\"responsive\": true}                    ).then(function(){\n",
              "                            \n",
              "var gd = document.getElementById('96b740e5-0bf8-43b5-a1ba-c7e43d3623d0');\n",
              "var x = new MutationObserver(function (mutations, observer) {{\n",
              "        var display = window.getComputedStyle(gd).display;\n",
              "        if (!display || display === 'none') {{\n",
              "            console.log([gd, 'removed!']);\n",
              "            Plotly.purge(gd);\n",
              "            observer.disconnect();\n",
              "        }}\n",
              "}});\n",
              "\n",
              "// Listen for the removal of the full notebook cells\n",
              "var notebookContainer = gd.closest('#notebook-container');\n",
              "if (notebookContainer) {{\n",
              "    x.observe(notebookContainer, {childList: true});\n",
              "}}\n",
              "\n",
              "// Listen for the clearing of the current output cell\n",
              "var outputEl = gd.closest('.output');\n",
              "if (outputEl) {{\n",
              "    x.observe(outputEl, {childList: true});\n",
              "}}\n",
              "\n",
              "                        })                };                            </script>        </div>\n",
              "</body>\n",
              "</html>"
            ]
          },
          "metadata": {}
        },
        {
          "output_type": "display_data",
          "data": {
            "text/html": [
              "<html>\n",
              "<head><meta charset=\"utf-8\" /></head>\n",
              "<body>\n",
              "    <div>            <script src=\"https://cdnjs.cloudflare.com/ajax/libs/mathjax/2.7.5/MathJax.js?config=TeX-AMS-MML_SVG\"></script><script type=\"text/javascript\">if (window.MathJax && window.MathJax.Hub && window.MathJax.Hub.Config) {window.MathJax.Hub.Config({SVG: {font: \"STIX-Web\"}});}</script>                <script type=\"text/javascript\">window.PlotlyConfig = {MathJaxConfig: 'local'};</script>\n",
              "        <script charset=\"utf-8\" src=\"https://cdn.plot.ly/plotly-2.35.2.min.js\"></script>                <div id=\"d391281e-e88e-4ed6-b894-d63f90bb5cce\" class=\"plotly-graph-div\" style=\"height:525px; width:100%;\"></div>            <script type=\"text/javascript\">                                    window.PLOTLYENV=window.PLOTLYENV || {};                                    if (document.getElementById(\"d391281e-e88e-4ed6-b894-d63f90bb5cce\")) {                    Plotly.newPlot(                        \"d391281e-e88e-4ed6-b894-d63f90bb5cce\",                        [{\"alignmentgroup\":\"True\",\"hovertemplate\":\"color=TV-MA\\u003cbr\\u003erating=%{x}\\u003cbr\\u003eFrequency=%{y}\\u003cbr\\u003etext=%{text}\\u003cextra\\u003e\\u003c\\u002fextra\\u003e\",\"legendgroup\":\"TV-MA\",\"marker\":{\"color\":\"#8E7D7E\",\"pattern\":{\"shape\":\"\"}},\"name\":\"TV-MA\",\"offsetgroup\":\"TV-MA\",\"orientation\":\"v\",\"showlegend\":true,\"text\":[2863.0],\"textposition\":\"outside\",\"x\":[\"TV-MA\"],\"xaxis\":\"x\",\"y\":[2863],\"yaxis\":\"y\",\"type\":\"bar\"},{\"alignmentgroup\":\"True\",\"hovertemplate\":\"color=TV-14\\u003cbr\\u003erating=%{x}\\u003cbr\\u003eFrequency=%{y}\\u003cbr\\u003etext=%{text}\\u003cextra\\u003e\\u003c\\u002fextra\\u003e\",\"legendgroup\":\"TV-14\",\"marker\":{\"color\":\"#648EBC\",\"pattern\":{\"shape\":\"\"}},\"name\":\"TV-14\",\"offsetgroup\":\"TV-14\",\"orientation\":\"v\",\"showlegend\":true,\"text\":[1931.0],\"textposition\":\"outside\",\"x\":[\"TV-14\"],\"xaxis\":\"x\",\"y\":[1931],\"yaxis\":\"y\",\"type\":\"bar\"},{\"alignmentgroup\":\"True\",\"hovertemplate\":\"color=TV-PG\\u003cbr\\u003erating=%{x}\\u003cbr\\u003eFrequency=%{y}\\u003cbr\\u003etext=%{text}\\u003cextra\\u003e\\u003c\\u002fextra\\u003e\",\"legendgroup\":\"TV-PG\",\"marker\":{\"color\":\"#180CF9\",\"pattern\":{\"shape\":\"\"}},\"name\":\"TV-PG\",\"offsetgroup\":\"TV-PG\",\"orientation\":\"v\",\"showlegend\":true,\"text\":[806.0],\"textposition\":\"outside\",\"x\":[\"TV-PG\"],\"xaxis\":\"x\",\"y\":[806],\"yaxis\":\"y\",\"type\":\"bar\"},{\"alignmentgroup\":\"True\",\"hovertemplate\":\"color=R\\u003cbr\\u003erating=%{x}\\u003cbr\\u003eFrequency=%{y}\\u003cbr\\u003etext=%{text}\\u003cextra\\u003e\\u003c\\u002fextra\\u003e\",\"legendgroup\":\"R\",\"marker\":{\"color\":\"#EC35ED\",\"pattern\":{\"shape\":\"\"}},\"name\":\"R\",\"offsetgroup\":\"R\",\"orientation\":\"v\",\"showlegend\":true,\"text\":[665.0],\"textposition\":\"outside\",\"x\":[\"R\"],\"xaxis\":\"x\",\"y\":[665],\"yaxis\":\"y\",\"type\":\"bar\"},{\"alignmentgroup\":\"True\",\"hovertemplate\":\"color=PG-13\\u003cbr\\u003erating=%{x}\\u003cbr\\u003eFrequency=%{y}\\u003cbr\\u003etext=%{text}\\u003cextra\\u003e\\u003c\\u002fextra\\u003e\",\"legendgroup\":\"PG-13\",\"marker\":{\"color\":\"#76A83D\",\"pattern\":{\"shape\":\"\"}},\"name\":\"PG-13\",\"offsetgroup\":\"PG-13\",\"orientation\":\"v\",\"showlegend\":true,\"text\":[386.0],\"textposition\":\"outside\",\"x\":[\"PG-13\"],\"xaxis\":\"x\",\"y\":[386],\"yaxis\":\"y\",\"type\":\"bar\"},{\"alignmentgroup\":\"True\",\"hovertemplate\":\"color=TV-Y\\u003cbr\\u003erating=%{x}\\u003cbr\\u003eFrequency=%{y}\\u003cbr\\u003etext=%{text}\\u003cextra\\u003e\\u003c\\u002fextra\\u003e\",\"legendgroup\":\"TV-Y\",\"marker\":{\"color\":\"#9D4E06\",\"pattern\":{\"shape\":\"\"}},\"name\":\"TV-Y\",\"offsetgroup\":\"TV-Y\",\"orientation\":\"v\",\"showlegend\":true,\"text\":[280.0],\"textposition\":\"outside\",\"x\":[\"TV-Y\"],\"xaxis\":\"x\",\"y\":[280],\"yaxis\":\"y\",\"type\":\"bar\"},{\"alignmentgroup\":\"True\",\"hovertemplate\":\"color=TV-Y7\\u003cbr\\u003erating=%{x}\\u003cbr\\u003eFrequency=%{y}\\u003cbr\\u003etext=%{text}\\u003cextra\\u003e\\u003c\\u002fextra\\u003e\",\"legendgroup\":\"TV-Y7\",\"marker\":{\"color\":\"#DF32DD\",\"pattern\":{\"shape\":\"\"}},\"name\":\"TV-Y7\",\"offsetgroup\":\"TV-Y7\",\"orientation\":\"v\",\"showlegend\":true,\"text\":[271.0],\"textposition\":\"outside\",\"x\":[\"TV-Y7\"],\"xaxis\":\"x\",\"y\":[271],\"yaxis\":\"y\",\"type\":\"bar\"},{\"alignmentgroup\":\"True\",\"hovertemplate\":\"color=PG\\u003cbr\\u003erating=%{x}\\u003cbr\\u003eFrequency=%{y}\\u003cbr\\u003etext=%{text}\\u003cextra\\u003e\\u003c\\u002fextra\\u003e\",\"legendgroup\":\"PG\",\"marker\":{\"color\":\"#0C18A6\",\"pattern\":{\"shape\":\"\"}},\"name\":\"PG\",\"offsetgroup\":\"PG\",\"orientation\":\"v\",\"showlegend\":true,\"text\":[247.0],\"textposition\":\"outside\",\"x\":[\"PG\"],\"xaxis\":\"x\",\"y\":[247],\"yaxis\":\"y\",\"type\":\"bar\"},{\"alignmentgroup\":\"True\",\"hovertemplate\":\"color=TV-G\\u003cbr\\u003erating=%{x}\\u003cbr\\u003eFrequency=%{y}\\u003cbr\\u003etext=%{text}\\u003cextra\\u003e\\u003c\\u002fextra\\u003e\",\"legendgroup\":\"TV-G\",\"marker\":{\"color\":\"#68EBC7\",\"pattern\":{\"shape\":\"\"}},\"name\":\"TV-G\",\"offsetgroup\":\"TV-G\",\"orientation\":\"v\",\"showlegend\":true,\"text\":[194.0],\"textposition\":\"outside\",\"x\":[\"TV-G\"],\"xaxis\":\"x\",\"y\":[194],\"yaxis\":\"y\",\"type\":\"bar\"},{\"alignmentgroup\":\"True\",\"hovertemplate\":\"color=NR\\u003cbr\\u003erating=%{x}\\u003cbr\\u003eFrequency=%{y}\\u003cbr\\u003etext=%{text}\\u003cextra\\u003e\\u003c\\u002fextra\\u003e\",\"legendgroup\":\"NR\",\"marker\":{\"color\":\"#2FD224\",\"pattern\":{\"shape\":\"\"}},\"name\":\"NR\",\"offsetgroup\":\"NR\",\"orientation\":\"v\",\"showlegend\":true,\"text\":[84.0],\"textposition\":\"outside\",\"x\":[\"NR\"],\"xaxis\":\"x\",\"y\":[84],\"yaxis\":\"y\",\"type\":\"bar\"},{\"alignmentgroup\":\"True\",\"hovertemplate\":\"color=G\\u003cbr\\u003erating=%{x}\\u003cbr\\u003eFrequency=%{y}\\u003cbr\\u003etext=%{text}\\u003cextra\\u003e\\u003c\\u002fextra\\u003e\",\"legendgroup\":\"G\",\"marker\":{\"color\":\"#12B0D7\",\"pattern\":{\"shape\":\"\"}},\"name\":\"G\",\"offsetgroup\":\"G\",\"orientation\":\"v\",\"showlegend\":true,\"text\":[39.0],\"textposition\":\"outside\",\"x\":[\"G\"],\"xaxis\":\"x\",\"y\":[39],\"yaxis\":\"y\",\"type\":\"bar\"},{\"alignmentgroup\":\"True\",\"hovertemplate\":\"color=Not available\\u003cbr\\u003erating=%{x}\\u003cbr\\u003eFrequency=%{y}\\u003cbr\\u003etext=%{text}\\u003cextra\\u003e\\u003c\\u002fextra\\u003e\",\"legendgroup\":\"Not available\",\"marker\":{\"color\":\"#6DF246\",\"pattern\":{\"shape\":\"\"}},\"name\":\"Not available\",\"offsetgroup\":\"Not available\",\"orientation\":\"v\",\"showlegend\":true,\"text\":[7.0],\"textposition\":\"outside\",\"x\":[\"Not available\"],\"xaxis\":\"x\",\"y\":[7],\"yaxis\":\"y\",\"type\":\"bar\"},{\"alignmentgroup\":\"True\",\"hovertemplate\":\"color=TV-Y7-FV\\u003cbr\\u003erating=%{x}\\u003cbr\\u003eFrequency=%{y}\\u003cbr\\u003etext=%{text}\\u003cextra\\u003e\\u003c\\u002fextra\\u003e\",\"legendgroup\":\"TV-Y7-FV\",\"marker\":{\"color\":\"#97393A\",\"pattern\":{\"shape\":\"\"}},\"name\":\"TV-Y7-FV\",\"offsetgroup\":\"TV-Y7-FV\",\"orientation\":\"v\",\"showlegend\":true,\"text\":[6.0],\"textposition\":\"outside\",\"x\":[\"TV-Y7-FV\"],\"xaxis\":\"x\",\"y\":[6],\"yaxis\":\"y\",\"type\":\"bar\"},{\"alignmentgroup\":\"True\",\"hovertemplate\":\"color=UR\\u003cbr\\u003erating=%{x}\\u003cbr\\u003eFrequency=%{y}\\u003cbr\\u003etext=%{text}\\u003cextra\\u003e\\u003c\\u002fextra\\u003e\",\"legendgroup\":\"UR\",\"marker\":{\"color\":\"#E50ECA\",\"pattern\":{\"shape\":\"\"}},\"name\":\"UR\",\"offsetgroup\":\"UR\",\"orientation\":\"v\",\"showlegend\":true,\"text\":[5.0],\"textposition\":\"outside\",\"x\":[\"UR\"],\"xaxis\":\"x\",\"y\":[5],\"yaxis\":\"y\",\"type\":\"bar\"},{\"alignmentgroup\":\"True\",\"hovertemplate\":\"color=NC-17\\u003cbr\\u003erating=%{x}\\u003cbr\\u003eFrequency=%{y}\\u003cbr\\u003etext=%{text}\\u003cextra\\u003e\\u003c\\u002fextra\\u003e\",\"legendgroup\":\"NC-17\",\"marker\":{\"color\":\"#5272F3\",\"pattern\":{\"shape\":\"\"}},\"name\":\"NC-17\",\"offsetgroup\":\"NC-17\",\"orientation\":\"v\",\"showlegend\":true,\"text\":[3.0],\"textposition\":\"outside\",\"x\":[\"NC-17\"],\"xaxis\":\"x\",\"y\":[3],\"yaxis\":\"y\",\"type\":\"bar\"}],                        {\"template\":{\"data\":{\"histogram2dcontour\":[{\"type\":\"histogram2dcontour\",\"colorbar\":{\"outlinewidth\":0,\"ticks\":\"\"},\"colorscale\":[[0.0,\"#0d0887\"],[0.1111111111111111,\"#46039f\"],[0.2222222222222222,\"#7201a8\"],[0.3333333333333333,\"#9c179e\"],[0.4444444444444444,\"#bd3786\"],[0.5555555555555556,\"#d8576b\"],[0.6666666666666666,\"#ed7953\"],[0.7777777777777778,\"#fb9f3a\"],[0.8888888888888888,\"#fdca26\"],[1.0,\"#f0f921\"]]}],\"choropleth\":[{\"type\":\"choropleth\",\"colorbar\":{\"outlinewidth\":0,\"ticks\":\"\"}}],\"histogram2d\":[{\"type\":\"histogram2d\",\"colorbar\":{\"outlinewidth\":0,\"ticks\":\"\"},\"colorscale\":[[0.0,\"#0d0887\"],[0.1111111111111111,\"#46039f\"],[0.2222222222222222,\"#7201a8\"],[0.3333333333333333,\"#9c179e\"],[0.4444444444444444,\"#bd3786\"],[0.5555555555555556,\"#d8576b\"],[0.6666666666666666,\"#ed7953\"],[0.7777777777777778,\"#fb9f3a\"],[0.8888888888888888,\"#fdca26\"],[1.0,\"#f0f921\"]]}],\"heatmap\":[{\"type\":\"heatmap\",\"colorbar\":{\"outlinewidth\":0,\"ticks\":\"\"},\"colorscale\":[[0.0,\"#0d0887\"],[0.1111111111111111,\"#46039f\"],[0.2222222222222222,\"#7201a8\"],[0.3333333333333333,\"#9c179e\"],[0.4444444444444444,\"#bd3786\"],[0.5555555555555556,\"#d8576b\"],[0.6666666666666666,\"#ed7953\"],[0.7777777777777778,\"#fb9f3a\"],[0.8888888888888888,\"#fdca26\"],[1.0,\"#f0f921\"]]}],\"heatmapgl\":[{\"type\":\"heatmapgl\",\"colorbar\":{\"outlinewidth\":0,\"ticks\":\"\"},\"colorscale\":[[0.0,\"#0d0887\"],[0.1111111111111111,\"#46039f\"],[0.2222222222222222,\"#7201a8\"],[0.3333333333333333,\"#9c179e\"],[0.4444444444444444,\"#bd3786\"],[0.5555555555555556,\"#d8576b\"],[0.6666666666666666,\"#ed7953\"],[0.7777777777777778,\"#fb9f3a\"],[0.8888888888888888,\"#fdca26\"],[1.0,\"#f0f921\"]]}],\"contourcarpet\":[{\"type\":\"contourcarpet\",\"colorbar\":{\"outlinewidth\":0,\"ticks\":\"\"}}],\"contour\":[{\"type\":\"contour\",\"colorbar\":{\"outlinewidth\":0,\"ticks\":\"\"},\"colorscale\":[[0.0,\"#0d0887\"],[0.1111111111111111,\"#46039f\"],[0.2222222222222222,\"#7201a8\"],[0.3333333333333333,\"#9c179e\"],[0.4444444444444444,\"#bd3786\"],[0.5555555555555556,\"#d8576b\"],[0.6666666666666666,\"#ed7953\"],[0.7777777777777778,\"#fb9f3a\"],[0.8888888888888888,\"#fdca26\"],[1.0,\"#f0f921\"]]}],\"surface\":[{\"type\":\"surface\",\"colorbar\":{\"outlinewidth\":0,\"ticks\":\"\"},\"colorscale\":[[0.0,\"#0d0887\"],[0.1111111111111111,\"#46039f\"],[0.2222222222222222,\"#7201a8\"],[0.3333333333333333,\"#9c179e\"],[0.4444444444444444,\"#bd3786\"],[0.5555555555555556,\"#d8576b\"],[0.6666666666666666,\"#ed7953\"],[0.7777777777777778,\"#fb9f3a\"],[0.8888888888888888,\"#fdca26\"],[1.0,\"#f0f921\"]]}],\"mesh3d\":[{\"type\":\"mesh3d\",\"colorbar\":{\"outlinewidth\":0,\"ticks\":\"\"}}],\"scatter\":[{\"fillpattern\":{\"fillmode\":\"overlay\",\"size\":10,\"solidity\":0.2},\"type\":\"scatter\"}],\"parcoords\":[{\"type\":\"parcoords\",\"line\":{\"colorbar\":{\"outlinewidth\":0,\"ticks\":\"\"}}}],\"scatterpolargl\":[{\"type\":\"scatterpolargl\",\"marker\":{\"colorbar\":{\"outlinewidth\":0,\"ticks\":\"\"}}}],\"bar\":[{\"error_x\":{\"color\":\"#2a3f5f\"},\"error_y\":{\"color\":\"#2a3f5f\"},\"marker\":{\"line\":{\"color\":\"#E5ECF6\",\"width\":0.5},\"pattern\":{\"fillmode\":\"overlay\",\"size\":10,\"solidity\":0.2}},\"type\":\"bar\"}],\"scattergeo\":[{\"type\":\"scattergeo\",\"marker\":{\"colorbar\":{\"outlinewidth\":0,\"ticks\":\"\"}}}],\"scatterpolar\":[{\"type\":\"scatterpolar\",\"marker\":{\"colorbar\":{\"outlinewidth\":0,\"ticks\":\"\"}}}],\"histogram\":[{\"marker\":{\"pattern\":{\"fillmode\":\"overlay\",\"size\":10,\"solidity\":0.2}},\"type\":\"histogram\"}],\"scattergl\":[{\"type\":\"scattergl\",\"marker\":{\"colorbar\":{\"outlinewidth\":0,\"ticks\":\"\"}}}],\"scatter3d\":[{\"type\":\"scatter3d\",\"line\":{\"colorbar\":{\"outlinewidth\":0,\"ticks\":\"\"}},\"marker\":{\"colorbar\":{\"outlinewidth\":0,\"ticks\":\"\"}}}],\"scattermapbox\":[{\"type\":\"scattermapbox\",\"marker\":{\"colorbar\":{\"outlinewidth\":0,\"ticks\":\"\"}}}],\"scatterternary\":[{\"type\":\"scatterternary\",\"marker\":{\"colorbar\":{\"outlinewidth\":0,\"ticks\":\"\"}}}],\"scattercarpet\":[{\"type\":\"scattercarpet\",\"marker\":{\"colorbar\":{\"outlinewidth\":0,\"ticks\":\"\"}}}],\"carpet\":[{\"aaxis\":{\"endlinecolor\":\"#2a3f5f\",\"gridcolor\":\"white\",\"linecolor\":\"white\",\"minorgridcolor\":\"white\",\"startlinecolor\":\"#2a3f5f\"},\"baxis\":{\"endlinecolor\":\"#2a3f5f\",\"gridcolor\":\"white\",\"linecolor\":\"white\",\"minorgridcolor\":\"white\",\"startlinecolor\":\"#2a3f5f\"},\"type\":\"carpet\"}],\"table\":[{\"cells\":{\"fill\":{\"color\":\"#EBF0F8\"},\"line\":{\"color\":\"white\"}},\"header\":{\"fill\":{\"color\":\"#C8D4E3\"},\"line\":{\"color\":\"white\"}},\"type\":\"table\"}],\"barpolar\":[{\"marker\":{\"line\":{\"color\":\"#E5ECF6\",\"width\":0.5},\"pattern\":{\"fillmode\":\"overlay\",\"size\":10,\"solidity\":0.2}},\"type\":\"barpolar\"}],\"pie\":[{\"automargin\":true,\"type\":\"pie\"}]},\"layout\":{\"autotypenumbers\":\"strict\",\"colorway\":[\"#636efa\",\"#EF553B\",\"#00cc96\",\"#ab63fa\",\"#FFA15A\",\"#19d3f3\",\"#FF6692\",\"#B6E880\",\"#FF97FF\",\"#FECB52\"],\"font\":{\"color\":\"#2a3f5f\"},\"hovermode\":\"closest\",\"hoverlabel\":{\"align\":\"left\"},\"paper_bgcolor\":\"white\",\"plot_bgcolor\":\"#E5ECF6\",\"polar\":{\"bgcolor\":\"#E5ECF6\",\"angularaxis\":{\"gridcolor\":\"white\",\"linecolor\":\"white\",\"ticks\":\"\"},\"radialaxis\":{\"gridcolor\":\"white\",\"linecolor\":\"white\",\"ticks\":\"\"}},\"ternary\":{\"bgcolor\":\"#E5ECF6\",\"aaxis\":{\"gridcolor\":\"white\",\"linecolor\":\"white\",\"ticks\":\"\"},\"baxis\":{\"gridcolor\":\"white\",\"linecolor\":\"white\",\"ticks\":\"\"},\"caxis\":{\"gridcolor\":\"white\",\"linecolor\":\"white\",\"ticks\":\"\"}},\"coloraxis\":{\"colorbar\":{\"outlinewidth\":0,\"ticks\":\"\"}},\"colorscale\":{\"sequential\":[[0.0,\"#0d0887\"],[0.1111111111111111,\"#46039f\"],[0.2222222222222222,\"#7201a8\"],[0.3333333333333333,\"#9c179e\"],[0.4444444444444444,\"#bd3786\"],[0.5555555555555556,\"#d8576b\"],[0.6666666666666666,\"#ed7953\"],[0.7777777777777778,\"#fb9f3a\"],[0.8888888888888888,\"#fdca26\"],[1.0,\"#f0f921\"]],\"sequentialminus\":[[0.0,\"#0d0887\"],[0.1111111111111111,\"#46039f\"],[0.2222222222222222,\"#7201a8\"],[0.3333333333333333,\"#9c179e\"],[0.4444444444444444,\"#bd3786\"],[0.5555555555555556,\"#d8576b\"],[0.6666666666666666,\"#ed7953\"],[0.7777777777777778,\"#fb9f3a\"],[0.8888888888888888,\"#fdca26\"],[1.0,\"#f0f921\"]],\"diverging\":[[0,\"#8e0152\"],[0.1,\"#c51b7d\"],[0.2,\"#de77ae\"],[0.3,\"#f1b6da\"],[0.4,\"#fde0ef\"],[0.5,\"#f7f7f7\"],[0.6,\"#e6f5d0\"],[0.7,\"#b8e186\"],[0.8,\"#7fbc41\"],[0.9,\"#4d9221\"],[1,\"#276419\"]]},\"xaxis\":{\"gridcolor\":\"white\",\"linecolor\":\"white\",\"ticks\":\"\",\"title\":{\"standoff\":15},\"zerolinecolor\":\"white\",\"automargin\":true,\"zerolinewidth\":2},\"yaxis\":{\"gridcolor\":\"white\",\"linecolor\":\"white\",\"ticks\":\"\",\"title\":{\"standoff\":15},\"zerolinecolor\":\"white\",\"automargin\":true,\"zerolinewidth\":2},\"scene\":{\"xaxis\":{\"backgroundcolor\":\"#E5ECF6\",\"gridcolor\":\"white\",\"linecolor\":\"white\",\"showbackground\":true,\"ticks\":\"\",\"zerolinecolor\":\"white\",\"gridwidth\":2},\"yaxis\":{\"backgroundcolor\":\"#E5ECF6\",\"gridcolor\":\"white\",\"linecolor\":\"white\",\"showbackground\":true,\"ticks\":\"\",\"zerolinecolor\":\"white\",\"gridwidth\":2},\"zaxis\":{\"backgroundcolor\":\"#E5ECF6\",\"gridcolor\":\"white\",\"linecolor\":\"white\",\"showbackground\":true,\"ticks\":\"\",\"zerolinecolor\":\"white\",\"gridwidth\":2}},\"shapedefaults\":{\"line\":{\"color\":\"#2a3f5f\"}},\"annotationdefaults\":{\"arrowcolor\":\"#2a3f5f\",\"arrowhead\":0,\"arrowwidth\":1},\"geo\":{\"bgcolor\":\"white\",\"landcolor\":\"#E5ECF6\",\"subunitcolor\":\"white\",\"showland\":true,\"showlakes\":true,\"lakecolor\":\"white\"},\"title\":{\"x\":0.05},\"mapbox\":{\"style\":\"light\"}}},\"xaxis\":{\"anchor\":\"y\",\"domain\":[0.0,1.0],\"title\":{\"text\":\"Dataset Variables\"},\"tickangle\":-45},\"yaxis\":{\"anchor\":\"x\",\"domain\":[0.0,1.0],\"title\":{\"text\":\"Count Distribution\"}},\"legend\":{\"title\":{\"text\":\"color\"},\"tracegroupgap\":0},\"title\":{\"text\":\"Value Counts for rating\"},\"barmode\":\"relative\"},                        {\"responsive\": true}                    ).then(function(){\n",
              "                            \n",
              "var gd = document.getElementById('d391281e-e88e-4ed6-b894-d63f90bb5cce');\n",
              "var x = new MutationObserver(function (mutations, observer) {{\n",
              "        var display = window.getComputedStyle(gd).display;\n",
              "        if (!display || display === 'none') {{\n",
              "            console.log([gd, 'removed!']);\n",
              "            Plotly.purge(gd);\n",
              "            observer.disconnect();\n",
              "        }}\n",
              "}});\n",
              "\n",
              "// Listen for the removal of the full notebook cells\n",
              "var notebookContainer = gd.closest('#notebook-container');\n",
              "if (notebookContainer) {{\n",
              "    x.observe(notebookContainer, {childList: true});\n",
              "}}\n",
              "\n",
              "// Listen for the clearing of the current output cell\n",
              "var outputEl = gd.closest('.output');\n",
              "if (outputEl) {{\n",
              "    x.observe(outputEl, {childList: true});\n",
              "}}\n",
              "\n",
              "                        })                };                            </script>        </div>\n",
              "</body>\n",
              "</html>"
            ]
          },
          "metadata": {}
        },
        {
          "output_type": "display_data",
          "data": {
            "text/html": [
              "<html>\n",
              "<head><meta charset=\"utf-8\" /></head>\n",
              "<body>\n",
              "    <div>            <script src=\"https://cdnjs.cloudflare.com/ajax/libs/mathjax/2.7.5/MathJax.js?config=TeX-AMS-MML_SVG\"></script><script type=\"text/javascript\">if (window.MathJax && window.MathJax.Hub && window.MathJax.Hub.Config) {window.MathJax.Hub.Config({SVG: {font: \"STIX-Web\"}});}</script>                <script type=\"text/javascript\">window.PlotlyConfig = {MathJaxConfig: 'local'};</script>\n",
              "        <script charset=\"utf-8\" src=\"https://cdn.plot.ly/plotly-2.35.2.min.js\"></script>                <div id=\"49d7d548-7e40-41e0-a6a0-810ccdf074b4\" class=\"plotly-graph-div\" style=\"height:525px; width:100%;\"></div>            <script type=\"text/javascript\">                                    window.PLOTLYENV=window.PLOTLYENV || {};                                    if (document.getElementById(\"49d7d548-7e40-41e0-a6a0-810ccdf074b4\")) {                    Plotly.newPlot(                        \"49d7d548-7e40-41e0-a6a0-810ccdf074b4\",                        [{\"alignmentgroup\":\"True\",\"hovertemplate\":\"color=1 Season\\u003cbr\\u003eduration=%{x}\\u003cbr\\u003eFrequency=%{y}\\u003cbr\\u003etext=%{text}\\u003cextra\\u003e\\u003c\\u002fextra\\u003e\",\"legendgroup\":\"1 Season\",\"marker\":{\"color\":\"#52E095\",\"pattern\":{\"shape\":\"\"}},\"name\":\"1 Season\",\"offsetgroup\":\"1 Season\",\"orientation\":\"v\",\"showlegend\":true,\"text\":[1608.0],\"textposition\":\"outside\",\"x\":[\"1 Season\"],\"xaxis\":\"x\",\"y\":[1608],\"yaxis\":\"y\",\"type\":\"bar\"},{\"alignmentgroup\":\"True\",\"hovertemplate\":\"color=2 Seasons\\u003cbr\\u003eduration=%{x}\\u003cbr\\u003eFrequency=%{y}\\u003cbr\\u003etext=%{text}\\u003cextra\\u003e\\u003c\\u002fextra\\u003e\",\"legendgroup\":\"2 Seasons\",\"marker\":{\"color\":\"#D064A5\",\"pattern\":{\"shape\":\"\"}},\"name\":\"2 Seasons\",\"offsetgroup\":\"2 Seasons\",\"orientation\":\"v\",\"showlegend\":true,\"text\":[382.0],\"textposition\":\"outside\",\"x\":[\"2 Seasons\"],\"xaxis\":\"x\",\"y\":[382],\"yaxis\":\"y\",\"type\":\"bar\"},{\"alignmentgroup\":\"True\",\"hovertemplate\":\"color=3 Seasons\\u003cbr\\u003eduration=%{x}\\u003cbr\\u003eFrequency=%{y}\\u003cbr\\u003etext=%{text}\\u003cextra\\u003e\\u003c\\u002fextra\\u003e\",\"legendgroup\":\"3 Seasons\",\"marker\":{\"color\":\"#ADAFE2\",\"pattern\":{\"shape\":\"\"}},\"name\":\"3 Seasons\",\"offsetgroup\":\"3 Seasons\",\"orientation\":\"v\",\"showlegend\":true,\"text\":[184.0],\"textposition\":\"outside\",\"x\":[\"3 Seasons\"],\"xaxis\":\"x\",\"y\":[184],\"yaxis\":\"y\",\"type\":\"bar\"},{\"alignmentgroup\":\"True\",\"hovertemplate\":\"color=90 min\\u003cbr\\u003eduration=%{x}\\u003cbr\\u003eFrequency=%{y}\\u003cbr\\u003etext=%{text}\\u003cextra\\u003e\\u003c\\u002fextra\\u003e\",\"legendgroup\":\"90 min\",\"marker\":{\"color\":\"#61348C\",\"pattern\":{\"shape\":\"\"}},\"name\":\"90 min\",\"offsetgroup\":\"90 min\",\"orientation\":\"v\",\"showlegend\":true,\"text\":[136.0],\"textposition\":\"outside\",\"x\":[\"90 min\"],\"xaxis\":\"x\",\"y\":[136],\"yaxis\":\"y\",\"type\":\"bar\"},{\"alignmentgroup\":\"True\",\"hovertemplate\":\"color=93 min\\u003cbr\\u003eduration=%{x}\\u003cbr\\u003eFrequency=%{y}\\u003cbr\\u003etext=%{text}\\u003cextra\\u003e\\u003c\\u002fextra\\u003e\",\"legendgroup\":\"93 min\",\"marker\":{\"color\":\"#41E9A2\",\"pattern\":{\"shape\":\"\"}},\"name\":\"93 min\",\"offsetgroup\":\"93 min\",\"orientation\":\"v\",\"showlegend\":true,\"text\":[131.0],\"textposition\":\"outside\",\"x\":[\"93 min\"],\"xaxis\":\"x\",\"y\":[131],\"yaxis\":\"y\",\"type\":\"bar\"},{\"alignmentgroup\":\"True\",\"hovertemplate\":\"color=94 min\\u003cbr\\u003eduration=%{x}\\u003cbr\\u003eFrequency=%{y}\\u003cbr\\u003etext=%{text}\\u003cextra\\u003e\\u003c\\u002fextra\\u003e\",\"legendgroup\":\"94 min\",\"marker\":{\"color\":\"#29C32B\",\"pattern\":{\"shape\":\"\"}},\"name\":\"94 min\",\"offsetgroup\":\"94 min\",\"orientation\":\"v\",\"showlegend\":true,\"text\":[125.0],\"textposition\":\"outside\",\"x\":[\"94 min\"],\"xaxis\":\"x\",\"y\":[125],\"yaxis\":\"y\",\"type\":\"bar\"},{\"alignmentgroup\":\"True\",\"hovertemplate\":\"color=91 min\\u003cbr\\u003eduration=%{x}\\u003cbr\\u003eFrequency=%{y}\\u003cbr\\u003etext=%{text}\\u003cextra\\u003e\\u003c\\u002fextra\\u003e\",\"legendgroup\":\"91 min\",\"marker\":{\"color\":\"#AC0026\",\"pattern\":{\"shape\":\"\"}},\"name\":\"91 min\",\"offsetgroup\":\"91 min\",\"orientation\":\"v\",\"showlegend\":true,\"text\":[125.0],\"textposition\":\"outside\",\"x\":[\"91 min\"],\"xaxis\":\"x\",\"y\":[125],\"yaxis\":\"y\",\"type\":\"bar\"},{\"alignmentgroup\":\"True\",\"hovertemplate\":\"color=95 min\\u003cbr\\u003eduration=%{x}\\u003cbr\\u003eFrequency=%{y}\\u003cbr\\u003etext=%{text}\\u003cextra\\u003e\\u003c\\u002fextra\\u003e\",\"legendgroup\":\"95 min\",\"marker\":{\"color\":\"#B99773\",\"pattern\":{\"shape\":\"\"}},\"name\":\"95 min\",\"offsetgroup\":\"95 min\",\"orientation\":\"v\",\"showlegend\":true,\"text\":[119.0],\"textposition\":\"outside\",\"x\":[\"95 min\"],\"xaxis\":\"x\",\"y\":[119],\"yaxis\":\"y\",\"type\":\"bar\"},{\"alignmentgroup\":\"True\",\"hovertemplate\":\"color=92 min\\u003cbr\\u003eduration=%{x}\\u003cbr\\u003eFrequency=%{y}\\u003cbr\\u003etext=%{text}\\u003cextra\\u003e\\u003c\\u002fextra\\u003e\",\"legendgroup\":\"92 min\",\"marker\":{\"color\":\"#0F9D35\",\"pattern\":{\"shape\":\"\"}},\"name\":\"92 min\",\"offsetgroup\":\"92 min\",\"orientation\":\"v\",\"showlegend\":true,\"text\":[118.0],\"textposition\":\"outside\",\"x\":[\"92 min\"],\"xaxis\":\"x\",\"y\":[118],\"yaxis\":\"y\",\"type\":\"bar\"},{\"alignmentgroup\":\"True\",\"hovertemplate\":\"color=97 min\\u003cbr\\u003eduration=%{x}\\u003cbr\\u003eFrequency=%{y}\\u003cbr\\u003etext=%{text}\\u003cextra\\u003e\\u003c\\u002fextra\\u003e\",\"legendgroup\":\"97 min\",\"marker\":{\"color\":\"#70D107\",\"pattern\":{\"shape\":\"\"}},\"name\":\"97 min\",\"offsetgroup\":\"97 min\",\"orientation\":\"v\",\"showlegend\":true,\"text\":[117.0],\"textposition\":\"outside\",\"x\":[\"97 min\"],\"xaxis\":\"x\",\"y\":[117],\"yaxis\":\"y\",\"type\":\"bar\"},{\"alignmentgroup\":\"True\",\"hovertemplate\":\"color=96 min\\u003cbr\\u003eduration=%{x}\\u003cbr\\u003eFrequency=%{y}\\u003cbr\\u003etext=%{text}\\u003cextra\\u003e\\u003c\\u002fextra\\u003e\",\"legendgroup\":\"96 min\",\"marker\":{\"color\":\"#4E00CE\",\"pattern\":{\"shape\":\"\"}},\"name\":\"96 min\",\"offsetgroup\":\"96 min\",\"orientation\":\"v\",\"showlegend\":true,\"text\":[115.0],\"textposition\":\"outside\",\"x\":[\"96 min\"],\"xaxis\":\"x\",\"y\":[115],\"yaxis\":\"y\",\"type\":\"bar\"},{\"alignmentgroup\":\"True\",\"hovertemplate\":\"color=98 min\\u003cbr\\u003eduration=%{x}\\u003cbr\\u003eFrequency=%{y}\\u003cbr\\u003etext=%{text}\\u003cextra\\u003e\\u003c\\u002fextra\\u003e\",\"legendgroup\":\"98 min\",\"marker\":{\"color\":\"#130697\",\"pattern\":{\"shape\":\"\"}},\"name\":\"98 min\",\"offsetgroup\":\"98 min\",\"orientation\":\"v\",\"showlegend\":true,\"text\":[106.0],\"textposition\":\"outside\",\"x\":[\"98 min\"],\"xaxis\":\"x\",\"y\":[106],\"yaxis\":\"y\",\"type\":\"bar\"},{\"alignmentgroup\":\"True\",\"hovertemplate\":\"color=103 min\\u003cbr\\u003eduration=%{x}\\u003cbr\\u003eFrequency=%{y}\\u003cbr\\u003etext=%{text}\\u003cextra\\u003e\\u003c\\u002fextra\\u003e\",\"legendgroup\":\"103 min\",\"marker\":{\"color\":\"#AF37D8\",\"pattern\":{\"shape\":\"\"}},\"name\":\"103 min\",\"offsetgroup\":\"103 min\",\"orientation\":\"v\",\"showlegend\":true,\"text\":[101.0],\"textposition\":\"outside\",\"x\":[\"103 min\"],\"xaxis\":\"x\",\"y\":[101],\"yaxis\":\"y\",\"type\":\"bar\"},{\"alignmentgroup\":\"True\",\"hovertemplate\":\"color=99 min\\u003cbr\\u003eduration=%{x}\\u003cbr\\u003eFrequency=%{y}\\u003cbr\\u003etext=%{text}\\u003cextra\\u003e\\u003c\\u002fextra\\u003e\",\"legendgroup\":\"99 min\",\"marker\":{\"color\":\"#02323C\",\"pattern\":{\"shape\":\"\"}},\"name\":\"99 min\",\"offsetgroup\":\"99 min\",\"orientation\":\"v\",\"showlegend\":true,\"text\":[101.0],\"textposition\":\"outside\",\"x\":[\"99 min\"],\"xaxis\":\"x\",\"y\":[101],\"yaxis\":\"y\",\"type\":\"bar\"},{\"alignmentgroup\":\"True\",\"hovertemplate\":\"color=88 min\\u003cbr\\u003eduration=%{x}\\u003cbr\\u003eFrequency=%{y}\\u003cbr\\u003etext=%{text}\\u003cextra\\u003e\\u003c\\u002fextra\\u003e\",\"legendgroup\":\"88 min\",\"marker\":{\"color\":\"#850DAB\",\"pattern\":{\"shape\":\"\"}},\"name\":\"88 min\",\"offsetgroup\":\"88 min\",\"orientation\":\"v\",\"showlegend\":true,\"text\":[101.0],\"textposition\":\"outside\",\"x\":[\"88 min\"],\"xaxis\":\"x\",\"y\":[101],\"yaxis\":\"y\",\"type\":\"bar\"},{\"alignmentgroup\":\"True\",\"hovertemplate\":\"color=102 min\\u003cbr\\u003eduration=%{x}\\u003cbr\\u003eFrequency=%{y}\\u003cbr\\u003etext=%{text}\\u003cextra\\u003e\\u003c\\u002fextra\\u003e\",\"legendgroup\":\"102 min\",\"marker\":{\"color\":\"#44AA10\",\"pattern\":{\"shape\":\"\"}},\"name\":\"102 min\",\"offsetgroup\":\"102 min\",\"orientation\":\"v\",\"showlegend\":true,\"text\":[98.0],\"textposition\":\"outside\",\"x\":[\"102 min\"],\"xaxis\":\"x\",\"y\":[98],\"yaxis\":\"y\",\"type\":\"bar\"},{\"alignmentgroup\":\"True\",\"hovertemplate\":\"color=100 min\\u003cbr\\u003eduration=%{x}\\u003cbr\\u003eFrequency=%{y}\\u003cbr\\u003etext=%{text}\\u003cextra\\u003e\\u003c\\u002fextra\\u003e\",\"legendgroup\":\"100 min\",\"marker\":{\"color\":\"#D44CEC\",\"pattern\":{\"shape\":\"\"}},\"name\":\"100 min\",\"offsetgroup\":\"100 min\",\"orientation\":\"v\",\"showlegend\":true,\"text\":[97.0],\"textposition\":\"outside\",\"x\":[\"100 min\"],\"xaxis\":\"x\",\"y\":[97],\"yaxis\":\"y\",\"type\":\"bar\"},{\"alignmentgroup\":\"True\",\"hovertemplate\":\"color=106 min\\u003cbr\\u003eduration=%{x}\\u003cbr\\u003eFrequency=%{y}\\u003cbr\\u003etext=%{text}\\u003cextra\\u003e\\u003c\\u002fextra\\u003e\",\"legendgroup\":\"106 min\",\"marker\":{\"color\":\"#7B372B\",\"pattern\":{\"shape\":\"\"}},\"name\":\"106 min\",\"offsetgroup\":\"106 min\",\"orientation\":\"v\",\"showlegend\":true,\"text\":[97.0],\"textposition\":\"outside\",\"x\":[\"106 min\"],\"xaxis\":\"x\",\"y\":[97],\"yaxis\":\"y\",\"type\":\"bar\"},{\"alignmentgroup\":\"True\",\"hovertemplate\":\"color=101 min\\u003cbr\\u003eduration=%{x}\\u003cbr\\u003eFrequency=%{y}\\u003cbr\\u003etext=%{text}\\u003cextra\\u003e\\u003c\\u002fextra\\u003e\",\"legendgroup\":\"101 min\",\"marker\":{\"color\":\"#7FEC9E\",\"pattern\":{\"shape\":\"\"}},\"name\":\"101 min\",\"offsetgroup\":\"101 min\",\"orientation\":\"v\",\"showlegend\":true,\"text\":[96.0],\"textposition\":\"outside\",\"x\":[\"101 min\"],\"xaxis\":\"x\",\"y\":[96],\"yaxis\":\"y\",\"type\":\"bar\"},{\"alignmentgroup\":\"True\",\"hovertemplate\":\"color=86 min\\u003cbr\\u003eduration=%{x}\\u003cbr\\u003eFrequency=%{y}\\u003cbr\\u003etext=%{text}\\u003cextra\\u003e\\u003c\\u002fextra\\u003e\",\"legendgroup\":\"86 min\",\"marker\":{\"color\":\"#D4D692\",\"pattern\":{\"shape\":\"\"}},\"name\":\"86 min\",\"offsetgroup\":\"86 min\",\"orientation\":\"v\",\"showlegend\":true,\"text\":[93.0],\"textposition\":\"outside\",\"x\":[\"86 min\"],\"xaxis\":\"x\",\"y\":[93],\"yaxis\":\"y\",\"type\":\"bar\"},{\"alignmentgroup\":\"True\",\"hovertemplate\":\"color=105 min\\u003cbr\\u003eduration=%{x}\\u003cbr\\u003eFrequency=%{y}\\u003cbr\\u003etext=%{text}\\u003cextra\\u003e\\u003c\\u002fextra\\u003e\",\"legendgroup\":\"105 min\",\"marker\":{\"color\":\"#A000C8\",\"pattern\":{\"shape\":\"\"}},\"name\":\"105 min\",\"offsetgroup\":\"105 min\",\"orientation\":\"v\",\"showlegend\":true,\"text\":[91.0],\"textposition\":\"outside\",\"x\":[\"105 min\"],\"xaxis\":\"x\",\"y\":[91],\"yaxis\":\"y\",\"type\":\"bar\"},{\"alignmentgroup\":\"True\",\"hovertemplate\":\"color=104 min\\u003cbr\\u003eduration=%{x}\\u003cbr\\u003eFrequency=%{y}\\u003cbr\\u003etext=%{text}\\u003cextra\\u003e\\u003c\\u002fextra\\u003e\",\"legendgroup\":\"104 min\",\"marker\":{\"color\":\"#E1AD04\",\"pattern\":{\"shape\":\"\"}},\"name\":\"104 min\",\"offsetgroup\":\"104 min\",\"orientation\":\"v\",\"showlegend\":true,\"text\":[89.0],\"textposition\":\"outside\",\"x\":[\"104 min\"],\"xaxis\":\"x\",\"y\":[89],\"yaxis\":\"y\",\"type\":\"bar\"},{\"alignmentgroup\":\"True\",\"hovertemplate\":\"color=89 min\\u003cbr\\u003eduration=%{x}\\u003cbr\\u003eFrequency=%{y}\\u003cbr\\u003etext=%{text}\\u003cextra\\u003e\\u003c\\u002fextra\\u003e\",\"legendgroup\":\"89 min\",\"marker\":{\"color\":\"#30EAAA\",\"pattern\":{\"shape\":\"\"}},\"name\":\"89 min\",\"offsetgroup\":\"89 min\",\"orientation\":\"v\",\"showlegend\":true,\"text\":[88.0],\"textposition\":\"outside\",\"x\":[\"89 min\"],\"xaxis\":\"x\",\"y\":[88],\"yaxis\":\"y\",\"type\":\"bar\"},{\"alignmentgroup\":\"True\",\"hovertemplate\":\"color=87 min\\u003cbr\\u003eduration=%{x}\\u003cbr\\u003eFrequency=%{y}\\u003cbr\\u003etext=%{text}\\u003cextra\\u003e\\u003c\\u002fextra\\u003e\",\"legendgroup\":\"87 min\",\"marker\":{\"color\":\"#6FCA5E\",\"pattern\":{\"shape\":\"\"}},\"name\":\"87 min\",\"offsetgroup\":\"87 min\",\"orientation\":\"v\",\"showlegend\":true,\"text\":[87.0],\"textposition\":\"outside\",\"x\":[\"87 min\"],\"xaxis\":\"x\",\"y\":[87],\"yaxis\":\"y\",\"type\":\"bar\"},{\"alignmentgroup\":\"True\",\"hovertemplate\":\"color=4 Seasons\\u003cbr\\u003eduration=%{x}\\u003cbr\\u003eFrequency=%{y}\\u003cbr\\u003etext=%{text}\\u003cextra\\u003e\\u003c\\u002fextra\\u003e\",\"legendgroup\":\"4 Seasons\",\"marker\":{\"color\":\"#DCE4D2\",\"pattern\":{\"shape\":\"\"}},\"name\":\"4 Seasons\",\"offsetgroup\":\"4 Seasons\",\"orientation\":\"v\",\"showlegend\":true,\"text\":[87.0],\"textposition\":\"outside\",\"x\":[\"4 Seasons\"],\"xaxis\":\"x\",\"y\":[87],\"yaxis\":\"y\",\"type\":\"bar\"},{\"alignmentgroup\":\"True\",\"hovertemplate\":\"color=110 min\\u003cbr\\u003eduration=%{x}\\u003cbr\\u003eFrequency=%{y}\\u003cbr\\u003etext=%{text}\\u003cextra\\u003e\\u003c\\u002fextra\\u003e\",\"legendgroup\":\"110 min\",\"marker\":{\"color\":\"#1100E1\",\"pattern\":{\"shape\":\"\"}},\"name\":\"110 min\",\"offsetgroup\":\"110 min\",\"orientation\":\"v\",\"showlegend\":true,\"text\":[86.0],\"textposition\":\"outside\",\"x\":[\"110 min\"],\"xaxis\":\"x\",\"y\":[86],\"yaxis\":\"y\",\"type\":\"bar\"},{\"alignmentgroup\":\"True\",\"hovertemplate\":\"color=107 min\\u003cbr\\u003eduration=%{x}\\u003cbr\\u003eFrequency=%{y}\\u003cbr\\u003etext=%{text}\\u003cextra\\u003e\\u003c\\u002fextra\\u003e\",\"legendgroup\":\"107 min\",\"marker\":{\"color\":\"#500B59\",\"pattern\":{\"shape\":\"\"}},\"name\":\"107 min\",\"offsetgroup\":\"107 min\",\"orientation\":\"v\",\"showlegend\":true,\"text\":[85.0],\"textposition\":\"outside\",\"x\":[\"107 min\"],\"xaxis\":\"x\",\"y\":[85],\"yaxis\":\"y\",\"type\":\"bar\"},{\"alignmentgroup\":\"True\",\"hovertemplate\":\"color=108 min\\u003cbr\\u003eduration=%{x}\\u003cbr\\u003eFrequency=%{y}\\u003cbr\\u003etext=%{text}\\u003cextra\\u003e\\u003c\\u002fextra\\u003e\",\"legendgroup\":\"108 min\",\"marker\":{\"color\":\"#C18A84\",\"pattern\":{\"shape\":\"\"}},\"name\":\"108 min\",\"offsetgroup\":\"108 min\",\"orientation\":\"v\",\"showlegend\":true,\"text\":[74.0],\"textposition\":\"outside\",\"x\":[\"108 min\"],\"xaxis\":\"x\",\"y\":[74],\"yaxis\":\"y\",\"type\":\"bar\"},{\"alignmentgroup\":\"True\",\"hovertemplate\":\"color=112 min\\u003cbr\\u003eduration=%{x}\\u003cbr\\u003eFrequency=%{y}\\u003cbr\\u003etext=%{text}\\u003cextra\\u003e\\u003c\\u002fextra\\u003e\",\"legendgroup\":\"112 min\",\"marker\":{\"color\":\"#DB1322\",\"pattern\":{\"shape\":\"\"}},\"name\":\"112 min\",\"offsetgroup\":\"112 min\",\"orientation\":\"v\",\"showlegend\":true,\"text\":[65.0],\"textposition\":\"outside\",\"x\":[\"112 min\"],\"xaxis\":\"x\",\"y\":[65],\"yaxis\":\"y\",\"type\":\"bar\"},{\"alignmentgroup\":\"True\",\"hovertemplate\":\"color=116 min\\u003cbr\\u003eduration=%{x}\\u003cbr\\u003eFrequency=%{y}\\u003cbr\\u003etext=%{text}\\u003cextra\\u003e\\u003c\\u002fextra\\u003e\",\"legendgroup\":\"116 min\",\"marker\":{\"color\":\"#2ACFA6\",\"pattern\":{\"shape\":\"\"}},\"name\":\"116 min\",\"offsetgroup\":\"116 min\",\"orientation\":\"v\",\"showlegend\":true,\"text\":[65.0],\"textposition\":\"outside\",\"x\":[\"116 min\"],\"xaxis\":\"x\",\"y\":[65],\"yaxis\":\"y\",\"type\":\"bar\"},{\"alignmentgroup\":\"True\",\"hovertemplate\":\"color=85 min\\u003cbr\\u003eduration=%{x}\\u003cbr\\u003eFrequency=%{y}\\u003cbr\\u003etext=%{text}\\u003cextra\\u003e\\u003c\\u002fextra\\u003e\",\"legendgroup\":\"85 min\",\"marker\":{\"color\":\"#CDEA32\",\"pattern\":{\"shape\":\"\"}},\"name\":\"85 min\",\"offsetgroup\":\"85 min\",\"orientation\":\"v\",\"showlegend\":true,\"text\":[63.0],\"textposition\":\"outside\",\"x\":[\"85 min\"],\"xaxis\":\"x\",\"y\":[63],\"yaxis\":\"y\",\"type\":\"bar\"},{\"alignmentgroup\":\"True\",\"hovertemplate\":\"color=109 min\\u003cbr\\u003eduration=%{x}\\u003cbr\\u003eFrequency=%{y}\\u003cbr\\u003etext=%{text}\\u003cextra\\u003e\\u003c\\u002fextra\\u003e\",\"legendgroup\":\"109 min\",\"marker\":{\"color\":\"#17F22A\",\"pattern\":{\"shape\":\"\"}},\"name\":\"109 min\",\"offsetgroup\":\"109 min\",\"orientation\":\"v\",\"showlegend\":true,\"text\":[61.0],\"textposition\":\"outside\",\"x\":[\"109 min\"],\"xaxis\":\"x\",\"y\":[61],\"yaxis\":\"y\",\"type\":\"bar\"},{\"alignmentgroup\":\"True\",\"hovertemplate\":\"color=83 min\\u003cbr\\u003eduration=%{x}\\u003cbr\\u003eFrequency=%{y}\\u003cbr\\u003etext=%{text}\\u003cextra\\u003e\\u003c\\u002fextra\\u003e\",\"legendgroup\":\"83 min\",\"marker\":{\"color\":\"#AA9B91\",\"pattern\":{\"shape\":\"\"}},\"name\":\"83 min\",\"offsetgroup\":\"83 min\",\"orientation\":\"v\",\"showlegend\":true,\"text\":[61.0],\"textposition\":\"outside\",\"x\":[\"83 min\"],\"xaxis\":\"x\",\"y\":[61],\"yaxis\":\"y\",\"type\":\"bar\"},{\"alignmentgroup\":\"True\",\"hovertemplate\":\"color=111 min\\u003cbr\\u003eduration=%{x}\\u003cbr\\u003eFrequency=%{y}\\u003cbr\\u003etext=%{text}\\u003cextra\\u003e\\u003c\\u002fextra\\u003e\",\"legendgroup\":\"111 min\",\"marker\":{\"color\":\"#7B2E79\",\"pattern\":{\"shape\":\"\"}},\"name\":\"111 min\",\"offsetgroup\":\"111 min\",\"orientation\":\"v\",\"showlegend\":true,\"text\":[61.0],\"textposition\":\"outside\",\"x\":[\"111 min\"],\"xaxis\":\"x\",\"y\":[61],\"yaxis\":\"y\",\"type\":\"bar\"},{\"alignmentgroup\":\"True\",\"hovertemplate\":\"color=84 min\\u003cbr\\u003eduration=%{x}\\u003cbr\\u003eFrequency=%{y}\\u003cbr\\u003etext=%{text}\\u003cextra\\u003e\\u003c\\u002fextra\\u003e\",\"legendgroup\":\"84 min\",\"marker\":{\"color\":\"#D5C634\",\"pattern\":{\"shape\":\"\"}},\"name\":\"84 min\",\"offsetgroup\":\"84 min\",\"orientation\":\"v\",\"showlegend\":true,\"text\":[60.0],\"textposition\":\"outside\",\"x\":[\"84 min\"],\"xaxis\":\"x\",\"y\":[60],\"yaxis\":\"y\",\"type\":\"bar\"},{\"alignmentgroup\":\"True\",\"hovertemplate\":\"color=81 min\\u003cbr\\u003eduration=%{x}\\u003cbr\\u003eFrequency=%{y}\\u003cbr\\u003etext=%{text}\\u003cextra\\u003e\\u003c\\u002fextra\\u003e\",\"legendgroup\":\"81 min\",\"marker\":{\"color\":\"#28A066\",\"pattern\":{\"shape\":\"\"}},\"name\":\"81 min\",\"offsetgroup\":\"81 min\",\"orientation\":\"v\",\"showlegend\":true,\"text\":[58.0],\"textposition\":\"outside\",\"x\":[\"81 min\"],\"xaxis\":\"x\",\"y\":[58],\"yaxis\":\"y\",\"type\":\"bar\"},{\"alignmentgroup\":\"True\",\"hovertemplate\":\"color=5 Seasons\\u003cbr\\u003eduration=%{x}\\u003cbr\\u003eFrequency=%{y}\\u003cbr\\u003etext=%{text}\\u003cextra\\u003e\\u003c\\u002fextra\\u003e\",\"legendgroup\":\"5 Seasons\",\"marker\":{\"color\":\"#F394E8\",\"pattern\":{\"shape\":\"\"}},\"name\":\"5 Seasons\",\"offsetgroup\":\"5 Seasons\",\"orientation\":\"v\",\"showlegend\":true,\"text\":[58.0],\"textposition\":\"outside\",\"x\":[\"5 Seasons\"],\"xaxis\":\"x\",\"y\":[58],\"yaxis\":\"y\",\"type\":\"bar\"},{\"alignmentgroup\":\"True\",\"hovertemplate\":\"color=117 min\\u003cbr\\u003eduration=%{x}\\u003cbr\\u003eFrequency=%{y}\\u003cbr\\u003etext=%{text}\\u003cextra\\u003e\\u003c\\u002fextra\\u003e\",\"legendgroup\":\"117 min\",\"marker\":{\"color\":\"#441E97\",\"pattern\":{\"shape\":\"\"}},\"name\":\"117 min\",\"offsetgroup\":\"117 min\",\"orientation\":\"v\",\"showlegend\":true,\"text\":[56.0],\"textposition\":\"outside\",\"x\":[\"117 min\"],\"xaxis\":\"x\",\"y\":[56],\"yaxis\":\"y\",\"type\":\"bar\"},{\"alignmentgroup\":\"True\",\"hovertemplate\":\"color=113 min\\u003cbr\\u003eduration=%{x}\\u003cbr\\u003eFrequency=%{y}\\u003cbr\\u003etext=%{text}\\u003cextra\\u003e\\u003c\\u002fextra\\u003e\",\"legendgroup\":\"113 min\",\"marker\":{\"color\":\"#A52375\",\"pattern\":{\"shape\":\"\"}},\"name\":\"113 min\",\"offsetgroup\":\"113 min\",\"orientation\":\"v\",\"showlegend\":true,\"text\":[54.0],\"textposition\":\"outside\",\"x\":[\"113 min\"],\"xaxis\":\"x\",\"y\":[54],\"yaxis\":\"y\",\"type\":\"bar\"},{\"alignmentgroup\":\"True\",\"hovertemplate\":\"color=119 min\\u003cbr\\u003eduration=%{x}\\u003cbr\\u003eFrequency=%{y}\\u003cbr\\u003etext=%{text}\\u003cextra\\u003e\\u003c\\u002fextra\\u003e\",\"legendgroup\":\"119 min\",\"marker\":{\"color\":\"#686495\",\"pattern\":{\"shape\":\"\"}},\"name\":\"119 min\",\"offsetgroup\":\"119 min\",\"orientation\":\"v\",\"showlegend\":true,\"text\":[54.0],\"textposition\":\"outside\",\"x\":[\"119 min\"],\"xaxis\":\"x\",\"y\":[54],\"yaxis\":\"y\",\"type\":\"bar\"},{\"alignmentgroup\":\"True\",\"hovertemplate\":\"color=118 min\\u003cbr\\u003eduration=%{x}\\u003cbr\\u003eFrequency=%{y}\\u003cbr\\u003etext=%{text}\\u003cextra\\u003e\\u003c\\u002fextra\\u003e\",\"legendgroup\":\"118 min\",\"marker\":{\"color\":\"#D4BF59\",\"pattern\":{\"shape\":\"\"}},\"name\":\"118 min\",\"offsetgroup\":\"118 min\",\"orientation\":\"v\",\"showlegend\":true,\"text\":[51.0],\"textposition\":\"outside\",\"x\":[\"118 min\"],\"xaxis\":\"x\",\"y\":[51],\"yaxis\":\"y\",\"type\":\"bar\"},{\"alignmentgroup\":\"True\",\"hovertemplate\":\"color=82 min\\u003cbr\\u003eduration=%{x}\\u003cbr\\u003eFrequency=%{y}\\u003cbr\\u003etext=%{text}\\u003cextra\\u003e\\u003c\\u002fextra\\u003e\",\"legendgroup\":\"82 min\",\"marker\":{\"color\":\"#48F91A\",\"pattern\":{\"shape\":\"\"}},\"name\":\"82 min\",\"offsetgroup\":\"82 min\",\"orientation\":\"v\",\"showlegend\":true,\"text\":[48.0],\"textposition\":\"outside\",\"x\":[\"82 min\"],\"xaxis\":\"x\",\"y\":[48],\"yaxis\":\"y\",\"type\":\"bar\"},{\"alignmentgroup\":\"True\",\"hovertemplate\":\"color=115 min\\u003cbr\\u003eduration=%{x}\\u003cbr\\u003eFrequency=%{y}\\u003cbr\\u003etext=%{text}\\u003cextra\\u003e\\u003c\\u002fextra\\u003e\",\"legendgroup\":\"115 min\",\"marker\":{\"color\":\"#FB6C6F\",\"pattern\":{\"shape\":\"\"}},\"name\":\"115 min\",\"offsetgroup\":\"115 min\",\"orientation\":\"v\",\"showlegend\":true,\"text\":[47.0],\"textposition\":\"outside\",\"x\":[\"115 min\"],\"xaxis\":\"x\",\"y\":[47],\"yaxis\":\"y\",\"type\":\"bar\"},{\"alignmentgroup\":\"True\",\"hovertemplate\":\"color=120 min\\u003cbr\\u003eduration=%{x}\\u003cbr\\u003eFrequency=%{y}\\u003cbr\\u003etext=%{text}\\u003cextra\\u003e\\u003c\\u002fextra\\u003e\",\"legendgroup\":\"120 min\",\"marker\":{\"color\":\"#A47873\",\"pattern\":{\"shape\":\"\"}},\"name\":\"120 min\",\"offsetgroup\":\"120 min\",\"orientation\":\"v\",\"showlegend\":true,\"text\":[47.0],\"textposition\":\"outside\",\"x\":[\"120 min\"],\"xaxis\":\"x\",\"y\":[47],\"yaxis\":\"y\",\"type\":\"bar\"},{\"alignmentgroup\":\"True\",\"hovertemplate\":\"color=124 min\\u003cbr\\u003eduration=%{x}\\u003cbr\\u003eFrequency=%{y}\\u003cbr\\u003etext=%{text}\\u003cextra\\u003e\\u003c\\u002fextra\\u003e\",\"legendgroup\":\"124 min\",\"marker\":{\"color\":\"#BBD943\",\"pattern\":{\"shape\":\"\"}},\"name\":\"124 min\",\"offsetgroup\":\"124 min\",\"orientation\":\"v\",\"showlegend\":true,\"text\":[46.0],\"textposition\":\"outside\",\"x\":[\"124 min\"],\"xaxis\":\"x\",\"y\":[46],\"yaxis\":\"y\",\"type\":\"bar\"},{\"alignmentgroup\":\"True\",\"hovertemplate\":\"color=114 min\\u003cbr\\u003eduration=%{x}\\u003cbr\\u003eFrequency=%{y}\\u003cbr\\u003etext=%{text}\\u003cextra\\u003e\\u003c\\u002fextra\\u003e\",\"legendgroup\":\"114 min\",\"marker\":{\"color\":\"#C9B5BF\",\"pattern\":{\"shape\":\"\"}},\"name\":\"114 min\",\"offsetgroup\":\"114 min\",\"orientation\":\"v\",\"showlegend\":true,\"text\":[45.0],\"textposition\":\"outside\",\"x\":[\"114 min\"],\"xaxis\":\"x\",\"y\":[45],\"yaxis\":\"y\",\"type\":\"bar\"},{\"alignmentgroup\":\"True\",\"hovertemplate\":\"color=121 min\\u003cbr\\u003eduration=%{x}\\u003cbr\\u003eFrequency=%{y}\\u003cbr\\u003etext=%{text}\\u003cextra\\u003e\\u003c\\u002fextra\\u003e\",\"legendgroup\":\"121 min\",\"marker\":{\"color\":\"#A085D6\",\"pattern\":{\"shape\":\"\"}},\"name\":\"121 min\",\"offsetgroup\":\"121 min\",\"orientation\":\"v\",\"showlegend\":true,\"text\":[44.0],\"textposition\":\"outside\",\"x\":[\"121 min\"],\"xaxis\":\"x\",\"y\":[44],\"yaxis\":\"y\",\"type\":\"bar\"},{\"alignmentgroup\":\"True\",\"hovertemplate\":\"color=126 min\\u003cbr\\u003eduration=%{x}\\u003cbr\\u003eFrequency=%{y}\\u003cbr\\u003etext=%{text}\\u003cextra\\u003e\\u003c\\u002fextra\\u003e\",\"legendgroup\":\"126 min\",\"marker\":{\"color\":\"#E43B2A\",\"pattern\":{\"shape\":\"\"}},\"name\":\"126 min\",\"offsetgroup\":\"126 min\",\"orientation\":\"v\",\"showlegend\":true,\"text\":[40.0],\"textposition\":\"outside\",\"x\":[\"126 min\"],\"xaxis\":\"x\",\"y\":[40],\"yaxis\":\"y\",\"type\":\"bar\"},{\"alignmentgroup\":\"True\",\"hovertemplate\":\"color=78 min\\u003cbr\\u003eduration=%{x}\\u003cbr\\u003eFrequency=%{y}\\u003cbr\\u003etext=%{text}\\u003cextra\\u003e\\u003c\\u002fextra\\u003e\",\"legendgroup\":\"78 min\",\"marker\":{\"color\":\"#3AE85E\",\"pattern\":{\"shape\":\"\"}},\"name\":\"78 min\",\"offsetgroup\":\"78 min\",\"orientation\":\"v\",\"showlegend\":true,\"text\":[40.0],\"textposition\":\"outside\",\"x\":[\"78 min\"],\"xaxis\":\"x\",\"y\":[40],\"yaxis\":\"y\",\"type\":\"bar\"},{\"alignmentgroup\":\"True\",\"hovertemplate\":\"color=127 min\\u003cbr\\u003eduration=%{x}\\u003cbr\\u003eFrequency=%{y}\\u003cbr\\u003etext=%{text}\\u003cextra\\u003e\\u003c\\u002fextra\\u003e\",\"legendgroup\":\"127 min\",\"marker\":{\"color\":\"#36E937\",\"pattern\":{\"shape\":\"\"}},\"name\":\"127 min\",\"offsetgroup\":\"127 min\",\"orientation\":\"v\",\"showlegend\":true,\"text\":[40.0],\"textposition\":\"outside\",\"x\":[\"127 min\"],\"xaxis\":\"x\",\"y\":[40],\"yaxis\":\"y\",\"type\":\"bar\"},{\"alignmentgroup\":\"True\",\"hovertemplate\":\"color=80 min\\u003cbr\\u003eduration=%{x}\\u003cbr\\u003eFrequency=%{y}\\u003cbr\\u003etext=%{text}\\u003cextra\\u003e\\u003c\\u002fextra\\u003e\",\"legendgroup\":\"80 min\",\"marker\":{\"color\":\"#32A02F\",\"pattern\":{\"shape\":\"\"}},\"name\":\"80 min\",\"offsetgroup\":\"80 min\",\"orientation\":\"v\",\"showlegend\":true,\"text\":[39.0],\"textposition\":\"outside\",\"x\":[\"80 min\"],\"xaxis\":\"x\",\"y\":[39],\"yaxis\":\"y\",\"type\":\"bar\"},{\"alignmentgroup\":\"True\",\"hovertemplate\":\"color=128 min\\u003cbr\\u003eduration=%{x}\\u003cbr\\u003eFrequency=%{y}\\u003cbr\\u003etext=%{text}\\u003cextra\\u003e\\u003c\\u002fextra\\u003e\",\"legendgroup\":\"128 min\",\"marker\":{\"color\":\"#35B123\",\"pattern\":{\"shape\":\"\"}},\"name\":\"128 min\",\"offsetgroup\":\"128 min\",\"orientation\":\"v\",\"showlegend\":true,\"text\":[38.0],\"textposition\":\"outside\",\"x\":[\"128 min\"],\"xaxis\":\"x\",\"y\":[38],\"yaxis\":\"y\",\"type\":\"bar\"},{\"alignmentgroup\":\"True\",\"hovertemplate\":\"color=122 min\\u003cbr\\u003eduration=%{x}\\u003cbr\\u003eFrequency=%{y}\\u003cbr\\u003etext=%{text}\\u003cextra\\u003e\\u003c\\u002fextra\\u003e\",\"legendgroup\":\"122 min\",\"marker\":{\"color\":\"#BDE2A8\",\"pattern\":{\"shape\":\"\"}},\"name\":\"122 min\",\"offsetgroup\":\"122 min\",\"orientation\":\"v\",\"showlegend\":true,\"text\":[38.0],\"textposition\":\"outside\",\"x\":[\"122 min\"],\"xaxis\":\"x\",\"y\":[38],\"yaxis\":\"y\",\"type\":\"bar\"},{\"alignmentgroup\":\"True\",\"hovertemplate\":\"color=130 min\\u003cbr\\u003eduration=%{x}\\u003cbr\\u003eFrequency=%{y}\\u003cbr\\u003etext=%{text}\\u003cextra\\u003e\\u003c\\u002fextra\\u003e\",\"legendgroup\":\"130 min\",\"marker\":{\"color\":\"#733CC3\",\"pattern\":{\"shape\":\"\"}},\"name\":\"130 min\",\"offsetgroup\":\"130 min\",\"orientation\":\"v\",\"showlegend\":true,\"text\":[38.0],\"textposition\":\"outside\",\"x\":[\"130 min\"],\"xaxis\":\"x\",\"y\":[38],\"yaxis\":\"y\",\"type\":\"bar\"},{\"alignmentgroup\":\"True\",\"hovertemplate\":\"color=137 min\\u003cbr\\u003eduration=%{x}\\u003cbr\\u003eFrequency=%{y}\\u003cbr\\u003etext=%{text}\\u003cextra\\u003e\\u003c\\u002fextra\\u003e\",\"legendgroup\":\"137 min\",\"marker\":{\"color\":\"#B23441\",\"pattern\":{\"shape\":\"\"}},\"name\":\"137 min\",\"offsetgroup\":\"137 min\",\"orientation\":\"v\",\"showlegend\":true,\"text\":[37.0],\"textposition\":\"outside\",\"x\":[\"137 min\"],\"xaxis\":\"x\",\"y\":[37],\"yaxis\":\"y\",\"type\":\"bar\"},{\"alignmentgroup\":\"True\",\"hovertemplate\":\"color=135 min\\u003cbr\\u003eduration=%{x}\\u003cbr\\u003eFrequency=%{y}\\u003cbr\\u003etext=%{text}\\u003cextra\\u003e\\u003c\\u002fextra\\u003e\",\"legendgroup\":\"135 min\",\"marker\":{\"color\":\"#2DCF71\",\"pattern\":{\"shape\":\"\"}},\"name\":\"135 min\",\"offsetgroup\":\"135 min\",\"orientation\":\"v\",\"showlegend\":true,\"text\":[37.0],\"textposition\":\"outside\",\"x\":[\"135 min\"],\"xaxis\":\"x\",\"y\":[37],\"yaxis\":\"y\",\"type\":\"bar\"},{\"alignmentgroup\":\"True\",\"hovertemplate\":\"color=133 min\\u003cbr\\u003eduration=%{x}\\u003cbr\\u003eFrequency=%{y}\\u003cbr\\u003etext=%{text}\\u003cextra\\u003e\\u003c\\u002fextra\\u003e\",\"legendgroup\":\"133 min\",\"marker\":{\"color\":\"#A5BDD9\",\"pattern\":{\"shape\":\"\"}},\"name\":\"133 min\",\"offsetgroup\":\"133 min\",\"orientation\":\"v\",\"showlegend\":true,\"text\":[36.0],\"textposition\":\"outside\",\"x\":[\"133 min\"],\"xaxis\":\"x\",\"y\":[36],\"yaxis\":\"y\",\"type\":\"bar\"},{\"alignmentgroup\":\"True\",\"hovertemplate\":\"color=123 min\\u003cbr\\u003eduration=%{x}\\u003cbr\\u003eFrequency=%{y}\\u003cbr\\u003etext=%{text}\\u003cextra\\u003e\\u003c\\u002fextra\\u003e\",\"legendgroup\":\"123 min\",\"marker\":{\"color\":\"#42AF1B\",\"pattern\":{\"shape\":\"\"}},\"name\":\"123 min\",\"offsetgroup\":\"123 min\",\"orientation\":\"v\",\"showlegend\":true,\"text\":[35.0],\"textposition\":\"outside\",\"x\":[\"123 min\"],\"xaxis\":\"x\",\"y\":[35],\"yaxis\":\"y\",\"type\":\"bar\"},{\"alignmentgroup\":\"True\",\"hovertemplate\":\"color=79 min\\u003cbr\\u003eduration=%{x}\\u003cbr\\u003eFrequency=%{y}\\u003cbr\\u003etext=%{text}\\u003cextra\\u003e\\u003c\\u002fextra\\u003e\",\"legendgroup\":\"79 min\",\"marker\":{\"color\":\"#46B36A\",\"pattern\":{\"shape\":\"\"}},\"name\":\"79 min\",\"offsetgroup\":\"79 min\",\"orientation\":\"v\",\"showlegend\":true,\"text\":[34.0],\"textposition\":\"outside\",\"x\":[\"79 min\"],\"xaxis\":\"x\",\"y\":[34],\"yaxis\":\"y\",\"type\":\"bar\"},{\"alignmentgroup\":\"True\",\"hovertemplate\":\"color=132 min\\u003cbr\\u003eduration=%{x}\\u003cbr\\u003eFrequency=%{y}\\u003cbr\\u003etext=%{text}\\u003cextra\\u003e\\u003c\\u002fextra\\u003e\",\"legendgroup\":\"132 min\",\"marker\":{\"color\":\"#A7917C\",\"pattern\":{\"shape\":\"\"}},\"name\":\"132 min\",\"offsetgroup\":\"132 min\",\"orientation\":\"v\",\"showlegend\":true,\"text\":[33.0],\"textposition\":\"outside\",\"x\":[\"132 min\"],\"xaxis\":\"x\",\"y\":[33],\"yaxis\":\"y\",\"type\":\"bar\"},{\"alignmentgroup\":\"True\",\"hovertemplate\":\"color=75 min\\u003cbr\\u003eduration=%{x}\\u003cbr\\u003eFrequency=%{y}\\u003cbr\\u003etext=%{text}\\u003cextra\\u003e\\u003c\\u002fextra\\u003e\",\"legendgroup\":\"75 min\",\"marker\":{\"color\":\"#1E467D\",\"pattern\":{\"shape\":\"\"}},\"name\":\"75 min\",\"offsetgroup\":\"75 min\",\"orientation\":\"v\",\"showlegend\":true,\"text\":[33.0],\"textposition\":\"outside\",\"x\":[\"75 min\"],\"xaxis\":\"x\",\"y\":[33],\"yaxis\":\"y\",\"type\":\"bar\"},{\"alignmentgroup\":\"True\",\"hovertemplate\":\"color=125 min\\u003cbr\\u003eduration=%{x}\\u003cbr\\u003eFrequency=%{y}\\u003cbr\\u003etext=%{text}\\u003cextra\\u003e\\u003c\\u002fextra\\u003e\",\"legendgroup\":\"125 min\",\"marker\":{\"color\":\"#69D4A6\",\"pattern\":{\"shape\":\"\"}},\"name\":\"125 min\",\"offsetgroup\":\"125 min\",\"orientation\":\"v\",\"showlegend\":true,\"text\":[32.0],\"textposition\":\"outside\",\"x\":[\"125 min\"],\"xaxis\":\"x\",\"y\":[32],\"yaxis\":\"y\",\"type\":\"bar\"},{\"alignmentgroup\":\"True\",\"hovertemplate\":\"color=72 min\\u003cbr\\u003eduration=%{x}\\u003cbr\\u003eFrequency=%{y}\\u003cbr\\u003etext=%{text}\\u003cextra\\u003e\\u003c\\u002fextra\\u003e\",\"legendgroup\":\"72 min\",\"marker\":{\"color\":\"#8FEBB1\",\"pattern\":{\"shape\":\"\"}},\"name\":\"72 min\",\"offsetgroup\":\"72 min\",\"orientation\":\"v\",\"showlegend\":true,\"text\":[32.0],\"textposition\":\"outside\",\"x\":[\"72 min\"],\"xaxis\":\"x\",\"y\":[32],\"yaxis\":\"y\",\"type\":\"bar\"},{\"alignmentgroup\":\"True\",\"hovertemplate\":\"color=129 min\\u003cbr\\u003eduration=%{x}\\u003cbr\\u003eFrequency=%{y}\\u003cbr\\u003etext=%{text}\\u003cextra\\u003e\\u003c\\u002fextra\\u003e\",\"legendgroup\":\"129 min\",\"marker\":{\"color\":\"#881908\",\"pattern\":{\"shape\":\"\"}},\"name\":\"129 min\",\"offsetgroup\":\"129 min\",\"orientation\":\"v\",\"showlegend\":true,\"text\":[30.0],\"textposition\":\"outside\",\"x\":[\"129 min\"],\"xaxis\":\"x\",\"y\":[30],\"yaxis\":\"y\",\"type\":\"bar\"},{\"alignmentgroup\":\"True\",\"hovertemplate\":\"color=6 Seasons\\u003cbr\\u003eduration=%{x}\\u003cbr\\u003eFrequency=%{y}\\u003cbr\\u003etext=%{text}\\u003cextra\\u003e\\u003c\\u002fextra\\u003e\",\"legendgroup\":\"6 Seasons\",\"marker\":{\"color\":\"#E275A9\",\"pattern\":{\"shape\":\"\"}},\"name\":\"6 Seasons\",\"offsetgroup\":\"6 Seasons\",\"orientation\":\"v\",\"showlegend\":true,\"text\":[30.0],\"textposition\":\"outside\",\"x\":[\"6 Seasons\"],\"xaxis\":\"x\",\"y\":[30],\"yaxis\":\"y\",\"type\":\"bar\"},{\"alignmentgroup\":\"True\",\"hovertemplate\":\"color=74 min\\u003cbr\\u003eduration=%{x}\\u003cbr\\u003eFrequency=%{y}\\u003cbr\\u003etext=%{text}\\u003cextra\\u003e\\u003c\\u002fextra\\u003e\",\"legendgroup\":\"74 min\",\"marker\":{\"color\":\"#EB3805\",\"pattern\":{\"shape\":\"\"}},\"name\":\"74 min\",\"offsetgroup\":\"74 min\",\"orientation\":\"v\",\"showlegend\":true,\"text\":[29.0],\"textposition\":\"outside\",\"x\":[\"74 min\"],\"xaxis\":\"x\",\"y\":[29],\"yaxis\":\"y\",\"type\":\"bar\"},{\"alignmentgroup\":\"True\",\"hovertemplate\":\"color=66 min\\u003cbr\\u003eduration=%{x}\\u003cbr\\u003eFrequency=%{y}\\u003cbr\\u003etext=%{text}\\u003cextra\\u003e\\u003c\\u002fextra\\u003e\",\"legendgroup\":\"66 min\",\"marker\":{\"color\":\"#C626C3\",\"pattern\":{\"shape\":\"\"}},\"name\":\"66 min\",\"offsetgroup\":\"66 min\",\"orientation\":\"v\",\"showlegend\":true,\"text\":[29.0],\"textposition\":\"outside\",\"x\":[\"66 min\"],\"xaxis\":\"x\",\"y\":[29],\"yaxis\":\"y\",\"type\":\"bar\"},{\"alignmentgroup\":\"True\",\"hovertemplate\":\"color=63 min\\u003cbr\\u003eduration=%{x}\\u003cbr\\u003eFrequency=%{y}\\u003cbr\\u003etext=%{text}\\u003cextra\\u003e\\u003c\\u002fextra\\u003e\",\"legendgroup\":\"63 min\",\"marker\":{\"color\":\"#816D04\",\"pattern\":{\"shape\":\"\"}},\"name\":\"63 min\",\"offsetgroup\":\"63 min\",\"orientation\":\"v\",\"showlegend\":true,\"text\":[29.0],\"textposition\":\"outside\",\"x\":[\"63 min\"],\"xaxis\":\"x\",\"y\":[29],\"yaxis\":\"y\",\"type\":\"bar\"},{\"alignmentgroup\":\"True\",\"hovertemplate\":\"color=131 min\\u003cbr\\u003eduration=%{x}\\u003cbr\\u003eFrequency=%{y}\\u003cbr\\u003etext=%{text}\\u003cextra\\u003e\\u003c\\u002fextra\\u003e\",\"legendgroup\":\"131 min\",\"marker\":{\"color\":\"#D56301\",\"pattern\":{\"shape\":\"\"}},\"name\":\"131 min\",\"offsetgroup\":\"131 min\",\"orientation\":\"v\",\"showlegend\":true,\"text\":[28.0],\"textposition\":\"outside\",\"x\":[\"131 min\"],\"xaxis\":\"x\",\"y\":[28],\"yaxis\":\"y\",\"type\":\"bar\"},{\"alignmentgroup\":\"True\",\"hovertemplate\":\"color=61 min\\u003cbr\\u003eduration=%{x}\\u003cbr\\u003eFrequency=%{y}\\u003cbr\\u003etext=%{text}\\u003cextra\\u003e\\u003c\\u002fextra\\u003e\",\"legendgroup\":\"61 min\",\"marker\":{\"color\":\"#B75FE0\",\"pattern\":{\"shape\":\"\"}},\"name\":\"61 min\",\"offsetgroup\":\"61 min\",\"orientation\":\"v\",\"showlegend\":true,\"text\":[28.0],\"textposition\":\"outside\",\"x\":[\"61 min\"],\"xaxis\":\"x\",\"y\":[28],\"yaxis\":\"y\",\"type\":\"bar\"},{\"alignmentgroup\":\"True\",\"hovertemplate\":\"color=77 min\\u003cbr\\u003eduration=%{x}\\u003cbr\\u003eFrequency=%{y}\\u003cbr\\u003etext=%{text}\\u003cextra\\u003e\\u003c\\u002fextra\\u003e\",\"legendgroup\":\"77 min\",\"marker\":{\"color\":\"#3DCFB8\",\"pattern\":{\"shape\":\"\"}},\"name\":\"77 min\",\"offsetgroup\":\"77 min\",\"orientation\":\"v\",\"showlegend\":true,\"text\":[28.0],\"textposition\":\"outside\",\"x\":[\"77 min\"],\"xaxis\":\"x\",\"y\":[28],\"yaxis\":\"y\",\"type\":\"bar\"},{\"alignmentgroup\":\"True\",\"hovertemplate\":\"color=73 min\\u003cbr\\u003eduration=%{x}\\u003cbr\\u003eFrequency=%{y}\\u003cbr\\u003etext=%{text}\\u003cextra\\u003e\\u003c\\u002fextra\\u003e\",\"legendgroup\":\"73 min\",\"marker\":{\"color\":\"#8F604F\",\"pattern\":{\"shape\":\"\"}},\"name\":\"73 min\",\"offsetgroup\":\"73 min\",\"orientation\":\"v\",\"showlegend\":true,\"text\":[28.0],\"textposition\":\"outside\",\"x\":[\"73 min\"],\"xaxis\":\"x\",\"y\":[28],\"yaxis\":\"y\",\"type\":\"bar\"},{\"alignmentgroup\":\"True\",\"hovertemplate\":\"color=69 min\\u003cbr\\u003eduration=%{x}\\u003cbr\\u003eFrequency=%{y}\\u003cbr\\u003etext=%{text}\\u003cextra\\u003e\\u003c\\u002fextra\\u003e\",\"legendgroup\":\"69 min\",\"marker\":{\"color\":\"#E4E946\",\"pattern\":{\"shape\":\"\"}},\"name\":\"69 min\",\"offsetgroup\":\"69 min\",\"orientation\":\"v\",\"showlegend\":true,\"text\":[27.0],\"textposition\":\"outside\",\"x\":[\"69 min\"],\"xaxis\":\"x\",\"y\":[27],\"yaxis\":\"y\",\"type\":\"bar\"},{\"alignmentgroup\":\"True\",\"hovertemplate\":\"color=60 min\\u003cbr\\u003eduration=%{x}\\u003cbr\\u003eFrequency=%{y}\\u003cbr\\u003etext=%{text}\\u003cextra\\u003e\\u003c\\u002fextra\\u003e\",\"legendgroup\":\"60 min\",\"marker\":{\"color\":\"#9E9CF4\",\"pattern\":{\"shape\":\"\"}},\"name\":\"60 min\",\"offsetgroup\":\"60 min\",\"orientation\":\"v\",\"showlegend\":true,\"text\":[26.0],\"textposition\":\"outside\",\"x\":[\"60 min\"],\"xaxis\":\"x\",\"y\":[26],\"yaxis\":\"y\",\"type\":\"bar\"},{\"alignmentgroup\":\"True\",\"hovertemplate\":\"color=71 min\\u003cbr\\u003eduration=%{x}\\u003cbr\\u003eFrequency=%{y}\\u003cbr\\u003etext=%{text}\\u003cextra\\u003e\\u003c\\u002fextra\\u003e\",\"legendgroup\":\"71 min\",\"marker\":{\"color\":\"#5DA968\",\"pattern\":{\"shape\":\"\"}},\"name\":\"71 min\",\"offsetgroup\":\"71 min\",\"orientation\":\"v\",\"showlegend\":true,\"text\":[26.0],\"textposition\":\"outside\",\"x\":[\"71 min\"],\"xaxis\":\"x\",\"y\":[26],\"yaxis\":\"y\",\"type\":\"bar\"},{\"alignmentgroup\":\"True\",\"hovertemplate\":\"color=53 min\\u003cbr\\u003eduration=%{x}\\u003cbr\\u003eFrequency=%{y}\\u003cbr\\u003etext=%{text}\\u003cextra\\u003e\\u003c\\u002fextra\\u003e\",\"legendgroup\":\"53 min\",\"marker\":{\"color\":\"#F56E65\",\"pattern\":{\"shape\":\"\"}},\"name\":\"53 min\",\"offsetgroup\":\"53 min\",\"orientation\":\"v\",\"showlegend\":true,\"text\":[24.0],\"textposition\":\"outside\",\"x\":[\"53 min\"],\"xaxis\":\"x\",\"y\":[24],\"yaxis\":\"y\",\"type\":\"bar\"},{\"alignmentgroup\":\"True\",\"hovertemplate\":\"color=59 min\\u003cbr\\u003eduration=%{x}\\u003cbr\\u003eFrequency=%{y}\\u003cbr\\u003etext=%{text}\\u003cextra\\u003e\\u003c\\u002fextra\\u003e\",\"legendgroup\":\"59 min\",\"marker\":{\"color\":\"#3712B5\",\"pattern\":{\"shape\":\"\"}},\"name\":\"59 min\",\"offsetgroup\":\"59 min\",\"orientation\":\"v\",\"showlegend\":true,\"text\":[24.0],\"textposition\":\"outside\",\"x\":[\"59 min\"],\"xaxis\":\"x\",\"y\":[24],\"yaxis\":\"y\",\"type\":\"bar\"},{\"alignmentgroup\":\"True\",\"hovertemplate\":\"color=76 min\\u003cbr\\u003eduration=%{x}\\u003cbr\\u003eFrequency=%{y}\\u003cbr\\u003etext=%{text}\\u003cextra\\u003e\\u003c\\u002fextra\\u003e\",\"legendgroup\":\"76 min\",\"marker\":{\"color\":\"#F36260\",\"pattern\":{\"shape\":\"\"}},\"name\":\"76 min\",\"offsetgroup\":\"76 min\",\"orientation\":\"v\",\"showlegend\":true,\"text\":[24.0],\"textposition\":\"outside\",\"x\":[\"76 min\"],\"xaxis\":\"x\",\"y\":[24],\"yaxis\":\"y\",\"type\":\"bar\"},{\"alignmentgroup\":\"True\",\"hovertemplate\":\"color=54 min\\u003cbr\\u003eduration=%{x}\\u003cbr\\u003eFrequency=%{y}\\u003cbr\\u003etext=%{text}\\u003cextra\\u003e\\u003c\\u002fextra\\u003e\",\"legendgroup\":\"54 min\",\"marker\":{\"color\":\"#6656B9\",\"pattern\":{\"shape\":\"\"}},\"name\":\"54 min\",\"offsetgroup\":\"54 min\",\"orientation\":\"v\",\"showlegend\":true,\"text\":[23.0],\"textposition\":\"outside\",\"x\":[\"54 min\"],\"xaxis\":\"x\",\"y\":[23],\"yaxis\":\"y\",\"type\":\"bar\"},{\"alignmentgroup\":\"True\",\"hovertemplate\":\"color=62 min\\u003cbr\\u003eduration=%{x}\\u003cbr\\u003eFrequency=%{y}\\u003cbr\\u003etext=%{text}\\u003cextra\\u003e\\u003c\\u002fextra\\u003e\",\"legendgroup\":\"62 min\",\"marker\":{\"color\":\"#48521F\",\"pattern\":{\"shape\":\"\"}},\"name\":\"62 min\",\"offsetgroup\":\"62 min\",\"orientation\":\"v\",\"showlegend\":true,\"text\":[23.0],\"textposition\":\"outside\",\"x\":[\"62 min\"],\"xaxis\":\"x\",\"y\":[23],\"yaxis\":\"y\",\"type\":\"bar\"},{\"alignmentgroup\":\"True\",\"hovertemplate\":\"color=46 min\\u003cbr\\u003eduration=%{x}\\u003cbr\\u003eFrequency=%{y}\\u003cbr\\u003etext=%{text}\\u003cextra\\u003e\\u003c\\u002fextra\\u003e\",\"legendgroup\":\"46 min\",\"marker\":{\"color\":\"#F4838C\",\"pattern\":{\"shape\":\"\"}},\"name\":\"46 min\",\"offsetgroup\":\"46 min\",\"orientation\":\"v\",\"showlegend\":true,\"text\":[23.0],\"textposition\":\"outside\",\"x\":[\"46 min\"],\"xaxis\":\"x\",\"y\":[23],\"yaxis\":\"y\",\"type\":\"bar\"},{\"alignmentgroup\":\"True\",\"hovertemplate\":\"color=24 min\\u003cbr\\u003eduration=%{x}\\u003cbr\\u003eFrequency=%{y}\\u003cbr\\u003etext=%{text}\\u003cextra\\u003e\\u003c\\u002fextra\\u003e\",\"legendgroup\":\"24 min\",\"marker\":{\"color\":\"#8E0DDA\",\"pattern\":{\"shape\":\"\"}},\"name\":\"24 min\",\"offsetgroup\":\"24 min\",\"orientation\":\"v\",\"showlegend\":true,\"text\":[22.0],\"textposition\":\"outside\",\"x\":[\"24 min\"],\"xaxis\":\"x\",\"y\":[22],\"yaxis\":\"y\",\"type\":\"bar\"},{\"alignmentgroup\":\"True\",\"hovertemplate\":\"color=140 min\\u003cbr\\u003eduration=%{x}\\u003cbr\\u003eFrequency=%{y}\\u003cbr\\u003etext=%{text}\\u003cextra\\u003e\\u003c\\u002fextra\\u003e\",\"legendgroup\":\"140 min\",\"marker\":{\"color\":\"#380240\",\"pattern\":{\"shape\":\"\"}},\"name\":\"140 min\",\"offsetgroup\":\"140 min\",\"orientation\":\"v\",\"showlegend\":true,\"text\":[22.0],\"textposition\":\"outside\",\"x\":[\"140 min\"],\"xaxis\":\"x\",\"y\":[22],\"yaxis\":\"y\",\"type\":\"bar\"},{\"alignmentgroup\":\"True\",\"hovertemplate\":\"color=65 min\\u003cbr\\u003eduration=%{x}\\u003cbr\\u003eFrequency=%{y}\\u003cbr\\u003etext=%{text}\\u003cextra\\u003e\\u003c\\u002fextra\\u003e\",\"legendgroup\":\"65 min\",\"marker\":{\"color\":\"#5261C3\",\"pattern\":{\"shape\":\"\"}},\"name\":\"65 min\",\"offsetgroup\":\"65 min\",\"orientation\":\"v\",\"showlegend\":true,\"text\":[22.0],\"textposition\":\"outside\",\"x\":[\"65 min\"],\"xaxis\":\"x\",\"y\":[22],\"yaxis\":\"y\",\"type\":\"bar\"},{\"alignmentgroup\":\"True\",\"hovertemplate\":\"color=70 min\\u003cbr\\u003eduration=%{x}\\u003cbr\\u003eFrequency=%{y}\\u003cbr\\u003etext=%{text}\\u003cextra\\u003e\\u003c\\u002fextra\\u003e\",\"legendgroup\":\"70 min\",\"marker\":{\"color\":\"#815BCE\",\"pattern\":{\"shape\":\"\"}},\"name\":\"70 min\",\"offsetgroup\":\"70 min\",\"orientation\":\"v\",\"showlegend\":true,\"text\":[22.0],\"textposition\":\"outside\",\"x\":[\"70 min\"],\"xaxis\":\"x\",\"y\":[22],\"yaxis\":\"y\",\"type\":\"bar\"},{\"alignmentgroup\":\"True\",\"hovertemplate\":\"color=134 min\\u003cbr\\u003eduration=%{x}\\u003cbr\\u003eFrequency=%{y}\\u003cbr\\u003etext=%{text}\\u003cextra\\u003e\\u003c\\u002fextra\\u003e\",\"legendgroup\":\"134 min\",\"marker\":{\"color\":\"#F7D076\",\"pattern\":{\"shape\":\"\"}},\"name\":\"134 min\",\"offsetgroup\":\"134 min\",\"orientation\":\"v\",\"showlegend\":true,\"text\":[21.0],\"textposition\":\"outside\",\"x\":[\"134 min\"],\"xaxis\":\"x\",\"y\":[21],\"yaxis\":\"y\",\"type\":\"bar\"},{\"alignmentgroup\":\"True\",\"hovertemplate\":\"color=58 min\\u003cbr\\u003eduration=%{x}\\u003cbr\\u003eFrequency=%{y}\\u003cbr\\u003etext=%{text}\\u003cextra\\u003e\\u003c\\u002fextra\\u003e\",\"legendgroup\":\"58 min\",\"marker\":{\"color\":\"#D2F4F6\",\"pattern\":{\"shape\":\"\"}},\"name\":\"58 min\",\"offsetgroup\":\"58 min\",\"orientation\":\"v\",\"showlegend\":true,\"text\":[21.0],\"textposition\":\"outside\",\"x\":[\"58 min\"],\"xaxis\":\"x\",\"y\":[21],\"yaxis\":\"y\",\"type\":\"bar\"},{\"alignmentgroup\":\"True\",\"hovertemplate\":\"color=68 min\\u003cbr\\u003eduration=%{x}\\u003cbr\\u003eFrequency=%{y}\\u003cbr\\u003etext=%{text}\\u003cextra\\u003e\\u003c\\u002fextra\\u003e\",\"legendgroup\":\"68 min\",\"marker\":{\"color\":\"#8C98D8\",\"pattern\":{\"shape\":\"\"}},\"name\":\"68 min\",\"offsetgroup\":\"68 min\",\"orientation\":\"v\",\"showlegend\":true,\"text\":[20.0],\"textposition\":\"outside\",\"x\":[\"68 min\"],\"xaxis\":\"x\",\"y\":[20],\"yaxis\":\"y\",\"type\":\"bar\"},{\"alignmentgroup\":\"True\",\"hovertemplate\":\"color=7 Seasons\\u003cbr\\u003eduration=%{x}\\u003cbr\\u003eFrequency=%{y}\\u003cbr\\u003etext=%{text}\\u003cextra\\u003e\\u003c\\u002fextra\\u003e\",\"legendgroup\":\"7 Seasons\",\"marker\":{\"color\":\"#48A91F\",\"pattern\":{\"shape\":\"\"}},\"name\":\"7 Seasons\",\"offsetgroup\":\"7 Seasons\",\"orientation\":\"v\",\"showlegend\":true,\"text\":[19.0],\"textposition\":\"outside\",\"x\":[\"7 Seasons\"],\"xaxis\":\"x\",\"y\":[19],\"yaxis\":\"y\",\"type\":\"bar\"},{\"alignmentgroup\":\"True\",\"hovertemplate\":\"color=67 min\\u003cbr\\u003eduration=%{x}\\u003cbr\\u003eFrequency=%{y}\\u003cbr\\u003etext=%{text}\\u003cextra\\u003e\\u003c\\u002fextra\\u003e\",\"legendgroup\":\"67 min\",\"marker\":{\"color\":\"#56D761\",\"pattern\":{\"shape\":\"\"}},\"name\":\"67 min\",\"offsetgroup\":\"67 min\",\"orientation\":\"v\",\"showlegend\":true,\"text\":[19.0],\"textposition\":\"outside\",\"x\":[\"67 min\"],\"xaxis\":\"x\",\"y\":[19],\"yaxis\":\"y\",\"type\":\"bar\"},{\"alignmentgroup\":\"True\",\"hovertemplate\":\"color=44 min\\u003cbr\\u003eduration=%{x}\\u003cbr\\u003eFrequency=%{y}\\u003cbr\\u003etext=%{text}\\u003cextra\\u003e\\u003c\\u002fextra\\u003e\",\"legendgroup\":\"44 min\",\"marker\":{\"color\":\"#E0BA20\",\"pattern\":{\"shape\":\"\"}},\"name\":\"44 min\",\"offsetgroup\":\"44 min\",\"orientation\":\"v\",\"showlegend\":true,\"text\":[19.0],\"textposition\":\"outside\",\"x\":[\"44 min\"],\"xaxis\":\"x\",\"y\":[19],\"yaxis\":\"y\",\"type\":\"bar\"},{\"alignmentgroup\":\"True\",\"hovertemplate\":\"color=52 min\\u003cbr\\u003eduration=%{x}\\u003cbr\\u003eFrequency=%{y}\\u003cbr\\u003etext=%{text}\\u003cextra\\u003e\\u003c\\u002fextra\\u003e\",\"legendgroup\":\"52 min\",\"marker\":{\"color\":\"#A1DF23\",\"pattern\":{\"shape\":\"\"}},\"name\":\"52 min\",\"offsetgroup\":\"52 min\",\"orientation\":\"v\",\"showlegend\":true,\"text\":[19.0],\"textposition\":\"outside\",\"x\":[\"52 min\"],\"xaxis\":\"x\",\"y\":[19],\"yaxis\":\"y\",\"type\":\"bar\"},{\"alignmentgroup\":\"True\",\"hovertemplate\":\"color=148 min\\u003cbr\\u003eduration=%{x}\\u003cbr\\u003eFrequency=%{y}\\u003cbr\\u003etext=%{text}\\u003cextra\\u003e\\u003c\\u002fextra\\u003e\",\"legendgroup\":\"148 min\",\"marker\":{\"color\":\"#D442A6\",\"pattern\":{\"shape\":\"\"}},\"name\":\"148 min\",\"offsetgroup\":\"148 min\",\"orientation\":\"v\",\"showlegend\":true,\"text\":[18.0],\"textposition\":\"outside\",\"x\":[\"148 min\"],\"xaxis\":\"x\",\"y\":[18],\"yaxis\":\"y\",\"type\":\"bar\"},{\"alignmentgroup\":\"True\",\"hovertemplate\":\"color=143 min\\u003cbr\\u003eduration=%{x}\\u003cbr\\u003eFrequency=%{y}\\u003cbr\\u003etext=%{text}\\u003cextra\\u003e\\u003c\\u002fextra\\u003e\",\"legendgroup\":\"143 min\",\"marker\":{\"color\":\"#C97465\",\"pattern\":{\"shape\":\"\"}},\"name\":\"143 min\",\"offsetgroup\":\"143 min\",\"orientation\":\"v\",\"showlegend\":true,\"text\":[18.0],\"textposition\":\"outside\",\"x\":[\"143 min\"],\"xaxis\":\"x\",\"y\":[18],\"yaxis\":\"y\",\"type\":\"bar\"},{\"alignmentgroup\":\"True\",\"hovertemplate\":\"color=141 min\\u003cbr\\u003eduration=%{x}\\u003cbr\\u003eFrequency=%{y}\\u003cbr\\u003etext=%{text}\\u003cextra\\u003e\\u003c\\u002fextra\\u003e\",\"legendgroup\":\"141 min\",\"marker\":{\"color\":\"#5E8248\",\"pattern\":{\"shape\":\"\"}},\"name\":\"141 min\",\"offsetgroup\":\"141 min\",\"orientation\":\"v\",\"showlegend\":true,\"text\":[18.0],\"textposition\":\"outside\",\"x\":[\"141 min\"],\"xaxis\":\"x\",\"y\":[18],\"yaxis\":\"y\",\"type\":\"bar\"},{\"alignmentgroup\":\"True\",\"hovertemplate\":\"color=136 min\\u003cbr\\u003eduration=%{x}\\u003cbr\\u003eFrequency=%{y}\\u003cbr\\u003etext=%{text}\\u003cextra\\u003e\\u003c\\u002fextra\\u003e\",\"legendgroup\":\"136 min\",\"marker\":{\"color\":\"#5B7EB2\",\"pattern\":{\"shape\":\"\"}},\"name\":\"136 min\",\"offsetgroup\":\"136 min\",\"orientation\":\"v\",\"showlegend\":true,\"text\":[18.0],\"textposition\":\"outside\",\"x\":[\"136 min\"],\"xaxis\":\"x\",\"y\":[18],\"yaxis\":\"y\",\"type\":\"bar\"},{\"alignmentgroup\":\"True\",\"hovertemplate\":\"color=8 Seasons\\u003cbr\\u003eduration=%{x}\\u003cbr\\u003eFrequency=%{y}\\u003cbr\\u003etext=%{text}\\u003cextra\\u003e\\u003c\\u002fextra\\u003e\",\"legendgroup\":\"8 Seasons\",\"marker\":{\"color\":\"#C7BEDB\",\"pattern\":{\"shape\":\"\"}},\"name\":\"8 Seasons\",\"offsetgroup\":\"8 Seasons\",\"orientation\":\"v\",\"showlegend\":true,\"text\":[18.0],\"textposition\":\"outside\",\"x\":[\"8 Seasons\"],\"xaxis\":\"x\",\"y\":[18],\"yaxis\":\"y\",\"type\":\"bar\"},{\"alignmentgroup\":\"True\",\"hovertemplate\":\"color=138 min\\u003cbr\\u003eduration=%{x}\\u003cbr\\u003eFrequency=%{y}\\u003cbr\\u003etext=%{text}\\u003cextra\\u003e\\u003c\\u002fextra\\u003e\",\"legendgroup\":\"138 min\",\"marker\":{\"color\":\"#D040D5\",\"pattern\":{\"shape\":\"\"}},\"name\":\"138 min\",\"offsetgroup\":\"138 min\",\"orientation\":\"v\",\"showlegend\":true,\"text\":[17.0],\"textposition\":\"outside\",\"x\":[\"138 min\"],\"xaxis\":\"x\",\"y\":[17],\"yaxis\":\"y\",\"type\":\"bar\"},{\"alignmentgroup\":\"True\",\"hovertemplate\":\"color=139 min\\u003cbr\\u003eduration=%{x}\\u003cbr\\u003eFrequency=%{y}\\u003cbr\\u003etext=%{text}\\u003cextra\\u003e\\u003c\\u002fextra\\u003e\",\"legendgroup\":\"139 min\",\"marker\":{\"color\":\"#1A5E1E\",\"pattern\":{\"shape\":\"\"}},\"name\":\"139 min\",\"offsetgroup\":\"139 min\",\"orientation\":\"v\",\"showlegend\":true,\"text\":[17.0],\"textposition\":\"outside\",\"x\":[\"139 min\"],\"xaxis\":\"x\",\"y\":[17],\"yaxis\":\"y\",\"type\":\"bar\"},{\"alignmentgroup\":\"True\",\"hovertemplate\":\"color=150 min\\u003cbr\\u003eduration=%{x}\\u003cbr\\u003eFrequency=%{y}\\u003cbr\\u003etext=%{text}\\u003cextra\\u003e\\u003c\\u002fextra\\u003e\",\"legendgroup\":\"150 min\",\"marker\":{\"color\":\"#4DC373\",\"pattern\":{\"shape\":\"\"}},\"name\":\"150 min\",\"offsetgroup\":\"150 min\",\"orientation\":\"v\",\"showlegend\":true,\"text\":[17.0],\"textposition\":\"outside\",\"x\":[\"150 min\"],\"xaxis\":\"x\",\"y\":[17],\"yaxis\":\"y\",\"type\":\"bar\"},{\"alignmentgroup\":\"True\",\"hovertemplate\":\"color=64 min\\u003cbr\\u003eduration=%{x}\\u003cbr\\u003eFrequency=%{y}\\u003cbr\\u003etext=%{text}\\u003cextra\\u003e\\u003c\\u002fextra\\u003e\",\"legendgroup\":\"64 min\",\"marker\":{\"color\":\"#41FB43\",\"pattern\":{\"shape\":\"\"}},\"name\":\"64 min\",\"offsetgroup\":\"64 min\",\"orientation\":\"v\",\"showlegend\":true,\"text\":[16.0],\"textposition\":\"outside\",\"x\":[\"64 min\"],\"xaxis\":\"x\",\"y\":[16],\"yaxis\":\"y\",\"type\":\"bar\"},{\"alignmentgroup\":\"True\",\"hovertemplate\":\"color=55 min\\u003cbr\\u003eduration=%{x}\\u003cbr\\u003eFrequency=%{y}\\u003cbr\\u003etext=%{text}\\u003cextra\\u003e\\u003c\\u002fextra\\u003e\",\"legendgroup\":\"55 min\",\"marker\":{\"color\":\"#49A66F\",\"pattern\":{\"shape\":\"\"}},\"name\":\"55 min\",\"offsetgroup\":\"55 min\",\"orientation\":\"v\",\"showlegend\":true,\"text\":[15.0],\"textposition\":\"outside\",\"x\":[\"55 min\"],\"xaxis\":\"x\",\"y\":[15],\"yaxis\":\"y\",\"type\":\"bar\"},{\"alignmentgroup\":\"True\",\"hovertemplate\":\"color=22 min\\u003cbr\\u003eduration=%{x}\\u003cbr\\u003eFrequency=%{y}\\u003cbr\\u003etext=%{text}\\u003cextra\\u003e\\u003c\\u002fextra\\u003e\",\"legendgroup\":\"22 min\",\"marker\":{\"color\":\"#14B973\",\"pattern\":{\"shape\":\"\"}},\"name\":\"22 min\",\"offsetgroup\":\"22 min\",\"orientation\":\"v\",\"showlegend\":true,\"text\":[15.0],\"textposition\":\"outside\",\"x\":[\"22 min\"],\"xaxis\":\"x\",\"y\":[15],\"yaxis\":\"y\",\"type\":\"bar\"},{\"alignmentgroup\":\"True\",\"hovertemplate\":\"color=151 min\\u003cbr\\u003eduration=%{x}\\u003cbr\\u003eFrequency=%{y}\\u003cbr\\u003etext=%{text}\\u003cextra\\u003e\\u003c\\u002fextra\\u003e\",\"legendgroup\":\"151 min\",\"marker\":{\"color\":\"#3575B5\",\"pattern\":{\"shape\":\"\"}},\"name\":\"151 min\",\"offsetgroup\":\"151 min\",\"orientation\":\"v\",\"showlegend\":true,\"text\":[14.0],\"textposition\":\"outside\",\"x\":[\"151 min\"],\"xaxis\":\"x\",\"y\":[14],\"yaxis\":\"y\",\"type\":\"bar\"},{\"alignmentgroup\":\"True\",\"hovertemplate\":\"color=57 min\\u003cbr\\u003eduration=%{x}\\u003cbr\\u003eFrequency=%{y}\\u003cbr\\u003etext=%{text}\\u003cextra\\u003e\\u003c\\u002fextra\\u003e\",\"legendgroup\":\"57 min\",\"marker\":{\"color\":\"#3A89F6\",\"pattern\":{\"shape\":\"\"}},\"name\":\"57 min\",\"offsetgroup\":\"57 min\",\"orientation\":\"v\",\"showlegend\":true,\"text\":[14.0],\"textposition\":\"outside\",\"x\":[\"57 min\"],\"xaxis\":\"x\",\"y\":[14],\"yaxis\":\"y\",\"type\":\"bar\"},{\"alignmentgroup\":\"True\",\"hovertemplate\":\"color=149 min\\u003cbr\\u003eduration=%{x}\\u003cbr\\u003eFrequency=%{y}\\u003cbr\\u003etext=%{text}\\u003cextra\\u003e\\u003c\\u002fextra\\u003e\",\"legendgroup\":\"149 min\",\"marker\":{\"color\":\"#642601\",\"pattern\":{\"shape\":\"\"}},\"name\":\"149 min\",\"offsetgroup\":\"149 min\",\"orientation\":\"v\",\"showlegend\":true,\"text\":[13.0],\"textposition\":\"outside\",\"x\":[\"149 min\"],\"xaxis\":\"x\",\"y\":[13],\"yaxis\":\"y\",\"type\":\"bar\"},{\"alignmentgroup\":\"True\",\"hovertemplate\":\"color=162 min\\u003cbr\\u003eduration=%{x}\\u003cbr\\u003eFrequency=%{y}\\u003cbr\\u003etext=%{text}\\u003cextra\\u003e\\u003c\\u002fextra\\u003e\",\"legendgroup\":\"162 min\",\"marker\":{\"color\":\"#7151D8\",\"pattern\":{\"shape\":\"\"}},\"name\":\"162 min\",\"offsetgroup\":\"162 min\",\"orientation\":\"v\",\"showlegend\":true,\"text\":[13.0],\"textposition\":\"outside\",\"x\":[\"162 min\"],\"xaxis\":\"x\",\"y\":[13],\"yaxis\":\"y\",\"type\":\"bar\"},{\"alignmentgroup\":\"True\",\"hovertemplate\":\"color=40 min\\u003cbr\\u003eduration=%{x}\\u003cbr\\u003eFrequency=%{y}\\u003cbr\\u003etext=%{text}\\u003cextra\\u003e\\u003c\\u002fextra\\u003e\",\"legendgroup\":\"40 min\",\"marker\":{\"color\":\"#4C6333\",\"pattern\":{\"shape\":\"\"}},\"name\":\"40 min\",\"offsetgroup\":\"40 min\",\"orientation\":\"v\",\"showlegend\":true,\"text\":[13.0],\"textposition\":\"outside\",\"x\":[\"40 min\"],\"xaxis\":\"x\",\"y\":[13],\"yaxis\":\"y\",\"type\":\"bar\"},{\"alignmentgroup\":\"True\",\"hovertemplate\":\"color=146 min\\u003cbr\\u003eduration=%{x}\\u003cbr\\u003eFrequency=%{y}\\u003cbr\\u003etext=%{text}\\u003cextra\\u003e\\u003c\\u002fextra\\u003e\",\"legendgroup\":\"146 min\",\"marker\":{\"color\":\"#B155DE\",\"pattern\":{\"shape\":\"\"}},\"name\":\"146 min\",\"offsetgroup\":\"146 min\",\"orientation\":\"v\",\"showlegend\":true,\"text\":[13.0],\"textposition\":\"outside\",\"x\":[\"146 min\"],\"xaxis\":\"x\",\"y\":[13],\"yaxis\":\"y\",\"type\":\"bar\"},{\"alignmentgroup\":\"True\",\"hovertemplate\":\"color=23 min\\u003cbr\\u003eduration=%{x}\\u003cbr\\u003eFrequency=%{y}\\u003cbr\\u003etext=%{text}\\u003cextra\\u003e\\u003c\\u002fextra\\u003e\",\"legendgroup\":\"23 min\",\"marker\":{\"color\":\"#81FAD7\",\"pattern\":{\"shape\":\"\"}},\"name\":\"23 min\",\"offsetgroup\":\"23 min\",\"orientation\":\"v\",\"showlegend\":true,\"text\":[12.0],\"textposition\":\"outside\",\"x\":[\"23 min\"],\"xaxis\":\"x\",\"y\":[12],\"yaxis\":\"y\",\"type\":\"bar\"},{\"alignmentgroup\":\"True\",\"hovertemplate\":\"color=56 min\\u003cbr\\u003eduration=%{x}\\u003cbr\\u003eFrequency=%{y}\\u003cbr\\u003etext=%{text}\\u003cextra\\u003e\\u003c\\u002fextra\\u003e\",\"legendgroup\":\"56 min\",\"marker\":{\"color\":\"#1AC119\",\"pattern\":{\"shape\":\"\"}},\"name\":\"56 min\",\"offsetgroup\":\"56 min\",\"orientation\":\"v\",\"showlegend\":true,\"text\":[12.0],\"textposition\":\"outside\",\"x\":[\"56 min\"],\"xaxis\":\"x\",\"y\":[12],\"yaxis\":\"y\",\"type\":\"bar\"},{\"alignmentgroup\":\"True\",\"hovertemplate\":\"color=145 min\\u003cbr\\u003eduration=%{x}\\u003cbr\\u003eFrequency=%{y}\\u003cbr\\u003etext=%{text}\\u003cextra\\u003e\\u003c\\u002fextra\\u003e\",\"legendgroup\":\"145 min\",\"marker\":{\"color\":\"#25B885\",\"pattern\":{\"shape\":\"\"}},\"name\":\"145 min\",\"offsetgroup\":\"145 min\",\"orientation\":\"v\",\"showlegend\":true,\"text\":[12.0],\"textposition\":\"outside\",\"x\":[\"145 min\"],\"xaxis\":\"x\",\"y\":[12],\"yaxis\":\"y\",\"type\":\"bar\"},{\"alignmentgroup\":\"True\",\"hovertemplate\":\"color=154 min\\u003cbr\\u003eduration=%{x}\\u003cbr\\u003eFrequency=%{y}\\u003cbr\\u003etext=%{text}\\u003cextra\\u003e\\u003c\\u002fextra\\u003e\",\"legendgroup\":\"154 min\",\"marker\":{\"color\":\"#B63F49\",\"pattern\":{\"shape\":\"\"}},\"name\":\"154 min\",\"offsetgroup\":\"154 min\",\"orientation\":\"v\",\"showlegend\":true,\"text\":[12.0],\"textposition\":\"outside\",\"x\":[\"154 min\"],\"xaxis\":\"x\",\"y\":[12],\"yaxis\":\"y\",\"type\":\"bar\"},{\"alignmentgroup\":\"True\",\"hovertemplate\":\"color=158 min\\u003cbr\\u003eduration=%{x}\\u003cbr\\u003eFrequency=%{y}\\u003cbr\\u003etext=%{text}\\u003cextra\\u003e\\u003c\\u002fextra\\u003e\",\"legendgroup\":\"158 min\",\"marker\":{\"color\":\"#4CB30B\",\"pattern\":{\"shape\":\"\"}},\"name\":\"158 min\",\"offsetgroup\":\"158 min\",\"orientation\":\"v\",\"showlegend\":true,\"text\":[11.0],\"textposition\":\"outside\",\"x\":[\"158 min\"],\"xaxis\":\"x\",\"y\":[11],\"yaxis\":\"y\",\"type\":\"bar\"},{\"alignmentgroup\":\"True\",\"hovertemplate\":\"color=163 min\\u003cbr\\u003eduration=%{x}\\u003cbr\\u003eFrequency=%{y}\\u003cbr\\u003etext=%{text}\\u003cextra\\u003e\\u003c\\u002fextra\\u003e\",\"legendgroup\":\"163 min\",\"marker\":{\"color\":\"#2B1FDA\",\"pattern\":{\"shape\":\"\"}},\"name\":\"163 min\",\"offsetgroup\":\"163 min\",\"orientation\":\"v\",\"showlegend\":true,\"text\":[11.0],\"textposition\":\"outside\",\"x\":[\"163 min\"],\"xaxis\":\"x\",\"y\":[11],\"yaxis\":\"y\",\"type\":\"bar\"},{\"alignmentgroup\":\"True\",\"hovertemplate\":\"color=153 min\\u003cbr\\u003eduration=%{x}\\u003cbr\\u003eFrequency=%{y}\\u003cbr\\u003etext=%{text}\\u003cextra\\u003e\\u003c\\u002fextra\\u003e\",\"legendgroup\":\"153 min\",\"marker\":{\"color\":\"#2AE514\",\"pattern\":{\"shape\":\"\"}},\"name\":\"153 min\",\"offsetgroup\":\"153 min\",\"orientation\":\"v\",\"showlegend\":true,\"text\":[11.0],\"textposition\":\"outside\",\"x\":[\"153 min\"],\"xaxis\":\"x\",\"y\":[11],\"yaxis\":\"y\",\"type\":\"bar\"},{\"alignmentgroup\":\"True\",\"hovertemplate\":\"color=142 min\\u003cbr\\u003eduration=%{x}\\u003cbr\\u003eFrequency=%{y}\\u003cbr\\u003etext=%{text}\\u003cextra\\u003e\\u003c\\u002fextra\\u003e\",\"legendgroup\":\"142 min\",\"marker\":{\"color\":\"#A0FFE0\",\"pattern\":{\"shape\":\"\"}},\"name\":\"142 min\",\"offsetgroup\":\"142 min\",\"orientation\":\"v\",\"showlegend\":true,\"text\":[11.0],\"textposition\":\"outside\",\"x\":[\"142 min\"],\"xaxis\":\"x\",\"y\":[11],\"yaxis\":\"y\",\"type\":\"bar\"},{\"alignmentgroup\":\"True\",\"hovertemplate\":\"color=47 min\\u003cbr\\u003eduration=%{x}\\u003cbr\\u003eFrequency=%{y}\\u003cbr\\u003etext=%{text}\\u003cextra\\u003e\\u003c\\u002fextra\\u003e\",\"legendgroup\":\"47 min\",\"marker\":{\"color\":\"#231DC8\",\"pattern\":{\"shape\":\"\"}},\"name\":\"47 min\",\"offsetgroup\":\"47 min\",\"orientation\":\"v\",\"showlegend\":true,\"text\":[10.0],\"textposition\":\"outside\",\"x\":[\"47 min\"],\"xaxis\":\"x\",\"y\":[10],\"yaxis\":\"y\",\"type\":\"bar\"},{\"alignmentgroup\":\"True\",\"hovertemplate\":\"color=28 min\\u003cbr\\u003eduration=%{x}\\u003cbr\\u003eFrequency=%{y}\\u003cbr\\u003etext=%{text}\\u003cextra\\u003e\\u003c\\u002fextra\\u003e\",\"legendgroup\":\"28 min\",\"marker\":{\"color\":\"#60FE61\",\"pattern\":{\"shape\":\"\"}},\"name\":\"28 min\",\"offsetgroup\":\"28 min\",\"orientation\":\"v\",\"showlegend\":true,\"text\":[10.0],\"textposition\":\"outside\",\"x\":[\"28 min\"],\"xaxis\":\"x\",\"y\":[10],\"yaxis\":\"y\",\"type\":\"bar\"},{\"alignmentgroup\":\"True\",\"hovertemplate\":\"color=29 min\\u003cbr\\u003eduration=%{x}\\u003cbr\\u003eFrequency=%{y}\\u003cbr\\u003etext=%{text}\\u003cextra\\u003e\\u003c\\u002fextra\\u003e\",\"legendgroup\":\"29 min\",\"marker\":{\"color\":\"#BB2935\",\"pattern\":{\"shape\":\"\"}},\"name\":\"29 min\",\"offsetgroup\":\"29 min\",\"orientation\":\"v\",\"showlegend\":true,\"text\":[10.0],\"textposition\":\"outside\",\"x\":[\"29 min\"],\"xaxis\":\"x\",\"y\":[10],\"yaxis\":\"y\",\"type\":\"bar\"},{\"alignmentgroup\":\"True\",\"hovertemplate\":\"color=147 min\\u003cbr\\u003eduration=%{x}\\u003cbr\\u003eFrequency=%{y}\\u003cbr\\u003etext=%{text}\\u003cextra\\u003e\\u003c\\u002fextra\\u003e\",\"legendgroup\":\"147 min\",\"marker\":{\"color\":\"#99BB86\",\"pattern\":{\"shape\":\"\"}},\"name\":\"147 min\",\"offsetgroup\":\"147 min\",\"orientation\":\"v\",\"showlegend\":true,\"text\":[10.0],\"textposition\":\"outside\",\"x\":[\"147 min\"],\"xaxis\":\"x\",\"y\":[10],\"yaxis\":\"y\",\"type\":\"bar\"},{\"alignmentgroup\":\"True\",\"hovertemplate\":\"color=25 min\\u003cbr\\u003eduration=%{x}\\u003cbr\\u003eFrequency=%{y}\\u003cbr\\u003etext=%{text}\\u003cextra\\u003e\\u003c\\u002fextra\\u003e\",\"legendgroup\":\"25 min\",\"marker\":{\"color\":\"#FAEB58\",\"pattern\":{\"shape\":\"\"}},\"name\":\"25 min\",\"offsetgroup\":\"25 min\",\"orientation\":\"v\",\"showlegend\":true,\"text\":[10.0],\"textposition\":\"outside\",\"x\":[\"25 min\"],\"xaxis\":\"x\",\"y\":[10],\"yaxis\":\"y\",\"type\":\"bar\"},{\"alignmentgroup\":\"True\",\"hovertemplate\":\"color=45 min\\u003cbr\\u003eduration=%{x}\\u003cbr\\u003eFrequency=%{y}\\u003cbr\\u003etext=%{text}\\u003cextra\\u003e\\u003c\\u002fextra\\u003e\",\"legendgroup\":\"45 min\",\"marker\":{\"color\":\"#C9B342\",\"pattern\":{\"shape\":\"\"}},\"name\":\"45 min\",\"offsetgroup\":\"45 min\",\"orientation\":\"v\",\"showlegend\":true,\"text\":[10.0],\"textposition\":\"outside\",\"x\":[\"45 min\"],\"xaxis\":\"x\",\"y\":[10],\"yaxis\":\"y\",\"type\":\"bar\"},{\"alignmentgroup\":\"True\",\"hovertemplate\":\"color=50 min\\u003cbr\\u003eduration=%{x}\\u003cbr\\u003eFrequency=%{y}\\u003cbr\\u003etext=%{text}\\u003cextra\\u003e\\u003c\\u002fextra\\u003e\",\"legendgroup\":\"50 min\",\"marker\":{\"color\":\"#FCEA02\",\"pattern\":{\"shape\":\"\"}},\"name\":\"50 min\",\"offsetgroup\":\"50 min\",\"orientation\":\"v\",\"showlegend\":true,\"text\":[10.0],\"textposition\":\"outside\",\"x\":[\"50 min\"],\"xaxis\":\"x\",\"y\":[10],\"yaxis\":\"y\",\"type\":\"bar\"},{\"alignmentgroup\":\"True\",\"hovertemplate\":\"color=51 min\\u003cbr\\u003eduration=%{x}\\u003cbr\\u003eFrequency=%{y}\\u003cbr\\u003etext=%{text}\\u003cextra\\u003e\\u003c\\u002fextra\\u003e\",\"legendgroup\":\"51 min\",\"marker\":{\"color\":\"#97CAB4\",\"pattern\":{\"shape\":\"\"}},\"name\":\"51 min\",\"offsetgroup\":\"51 min\",\"orientation\":\"v\",\"showlegend\":true,\"text\":[10.0],\"textposition\":\"outside\",\"x\":[\"51 min\"],\"xaxis\":\"x\",\"y\":[10],\"yaxis\":\"y\",\"type\":\"bar\"},{\"alignmentgroup\":\"True\",\"hovertemplate\":\"color=156 min\\u003cbr\\u003eduration=%{x}\\u003cbr\\u003eFrequency=%{y}\\u003cbr\\u003etext=%{text}\\u003cextra\\u003e\\u003c\\u002fextra\\u003e\",\"legendgroup\":\"156 min\",\"marker\":{\"color\":\"#AC8AAE\",\"pattern\":{\"shape\":\"\"}},\"name\":\"156 min\",\"offsetgroup\":\"156 min\",\"orientation\":\"v\",\"showlegend\":true,\"text\":[9.0],\"textposition\":\"outside\",\"x\":[\"156 min\"],\"xaxis\":\"x\",\"y\":[9],\"yaxis\":\"y\",\"type\":\"bar\"},{\"alignmentgroup\":\"True\",\"hovertemplate\":\"color=161 min\\u003cbr\\u003eduration=%{x}\\u003cbr\\u003eFrequency=%{y}\\u003cbr\\u003etext=%{text}\\u003cextra\\u003e\\u003c\\u002fextra\\u003e\",\"legendgroup\":\"161 min\",\"marker\":{\"color\":\"#D6B307\",\"pattern\":{\"shape\":\"\"}},\"name\":\"161 min\",\"offsetgroup\":\"161 min\",\"orientation\":\"v\",\"showlegend\":true,\"text\":[9.0],\"textposition\":\"outside\",\"x\":[\"161 min\"],\"xaxis\":\"x\",\"y\":[9],\"yaxis\":\"y\",\"type\":\"bar\"},{\"alignmentgroup\":\"True\",\"hovertemplate\":\"color=155 min\\u003cbr\\u003eduration=%{x}\\u003cbr\\u003eFrequency=%{y}\\u003cbr\\u003etext=%{text}\\u003cextra\\u003e\\u003c\\u002fextra\\u003e\",\"legendgroup\":\"155 min\",\"marker\":{\"color\":\"#AC71C8\",\"pattern\":{\"shape\":\"\"}},\"name\":\"155 min\",\"offsetgroup\":\"155 min\",\"orientation\":\"v\",\"showlegend\":true,\"text\":[9.0],\"textposition\":\"outside\",\"x\":[\"155 min\"],\"xaxis\":\"x\",\"y\":[9],\"yaxis\":\"y\",\"type\":\"bar\"},{\"alignmentgroup\":\"True\",\"hovertemplate\":\"color=144 min\\u003cbr\\u003eduration=%{x}\\u003cbr\\u003eFrequency=%{y}\\u003cbr\\u003etext=%{text}\\u003cextra\\u003e\\u003c\\u002fextra\\u003e\",\"legendgroup\":\"144 min\",\"marker\":{\"color\":\"#FB86E0\",\"pattern\":{\"shape\":\"\"}},\"name\":\"144 min\",\"offsetgroup\":\"144 min\",\"orientation\":\"v\",\"showlegend\":true,\"text\":[8.0],\"textposition\":\"outside\",\"x\":[\"144 min\"],\"xaxis\":\"x\",\"y\":[8],\"yaxis\":\"y\",\"type\":\"bar\"},{\"alignmentgroup\":\"True\",\"hovertemplate\":\"color=9 Seasons\\u003cbr\\u003eduration=%{x}\\u003cbr\\u003eFrequency=%{y}\\u003cbr\\u003etext=%{text}\\u003cextra\\u003e\\u003c\\u002fextra\\u003e\",\"legendgroup\":\"9 Seasons\",\"marker\":{\"color\":\"#3ADBB3\",\"pattern\":{\"shape\":\"\"}},\"name\":\"9 Seasons\",\"offsetgroup\":\"9 Seasons\",\"orientation\":\"v\",\"showlegend\":true,\"text\":[8.0],\"textposition\":\"outside\",\"x\":[\"9 Seasons\"],\"xaxis\":\"x\",\"y\":[8],\"yaxis\":\"y\",\"type\":\"bar\"},{\"alignmentgroup\":\"True\",\"hovertemplate\":\"color=49 min\\u003cbr\\u003eduration=%{x}\\u003cbr\\u003eFrequency=%{y}\\u003cbr\\u003etext=%{text}\\u003cextra\\u003e\\u003c\\u002fextra\\u003e\",\"legendgroup\":\"49 min\",\"marker\":{\"color\":\"#BF8B76\",\"pattern\":{\"shape\":\"\"}},\"name\":\"49 min\",\"offsetgroup\":\"49 min\",\"orientation\":\"v\",\"showlegend\":true,\"text\":[8.0],\"textposition\":\"outside\",\"x\":[\"49 min\"],\"xaxis\":\"x\",\"y\":[8],\"yaxis\":\"y\",\"type\":\"bar\"},{\"alignmentgroup\":\"True\",\"hovertemplate\":\"color=42 min\\u003cbr\\u003eduration=%{x}\\u003cbr\\u003eFrequency=%{y}\\u003cbr\\u003etext=%{text}\\u003cextra\\u003e\\u003c\\u002fextra\\u003e\",\"legendgroup\":\"42 min\",\"marker\":{\"color\":\"#E8A1C9\",\"pattern\":{\"shape\":\"\"}},\"name\":\"42 min\",\"offsetgroup\":\"42 min\",\"orientation\":\"v\",\"showlegend\":true,\"text\":[8.0],\"textposition\":\"outside\",\"x\":[\"42 min\"],\"xaxis\":\"x\",\"y\":[8],\"yaxis\":\"y\",\"type\":\"bar\"},{\"alignmentgroup\":\"True\",\"hovertemplate\":\"color=165 min\\u003cbr\\u003eduration=%{x}\\u003cbr\\u003eFrequency=%{y}\\u003cbr\\u003etext=%{text}\\u003cextra\\u003e\\u003c\\u002fextra\\u003e\",\"legendgroup\":\"165 min\",\"marker\":{\"color\":\"#02BA53\",\"pattern\":{\"shape\":\"\"}},\"name\":\"165 min\",\"offsetgroup\":\"165 min\",\"orientation\":\"v\",\"showlegend\":true,\"text\":[8.0],\"textposition\":\"outside\",\"x\":[\"165 min\"],\"xaxis\":\"x\",\"y\":[8],\"yaxis\":\"y\",\"type\":\"bar\"},{\"alignmentgroup\":\"True\",\"hovertemplate\":\"color=48 min\\u003cbr\\u003eduration=%{x}\\u003cbr\\u003eFrequency=%{y}\\u003cbr\\u003etext=%{text}\\u003cextra\\u003e\\u003c\\u002fextra\\u003e\",\"legendgroup\":\"48 min\",\"marker\":{\"color\":\"#F0A0C3\",\"pattern\":{\"shape\":\"\"}},\"name\":\"48 min\",\"offsetgroup\":\"48 min\",\"orientation\":\"v\",\"showlegend\":true,\"text\":[7.0],\"textposition\":\"outside\",\"x\":[\"48 min\"],\"xaxis\":\"x\",\"y\":[7],\"yaxis\":\"y\",\"type\":\"bar\"},{\"alignmentgroup\":\"True\",\"hovertemplate\":\"color=166 min\\u003cbr\\u003eduration=%{x}\\u003cbr\\u003eFrequency=%{y}\\u003cbr\\u003etext=%{text}\\u003cextra\\u003e\\u003c\\u002fextra\\u003e\",\"legendgroup\":\"166 min\",\"marker\":{\"color\":\"#2B0498\",\"pattern\":{\"shape\":\"\"}},\"name\":\"166 min\",\"offsetgroup\":\"166 min\",\"orientation\":\"v\",\"showlegend\":true,\"text\":[7.0],\"textposition\":\"outside\",\"x\":[\"166 min\"],\"xaxis\":\"x\",\"y\":[7],\"yaxis\":\"y\",\"type\":\"bar\"},{\"alignmentgroup\":\"True\",\"hovertemplate\":\"color=168 min\\u003cbr\\u003eduration=%{x}\\u003cbr\\u003eFrequency=%{y}\\u003cbr\\u003etext=%{text}\\u003cextra\\u003e\\u003c\\u002fextra\\u003e\",\"legendgroup\":\"168 min\",\"marker\":{\"color\":\"#3F860B\",\"pattern\":{\"shape\":\"\"}},\"name\":\"168 min\",\"offsetgroup\":\"168 min\",\"orientation\":\"v\",\"showlegend\":true,\"text\":[7.0],\"textposition\":\"outside\",\"x\":[\"168 min\"],\"xaxis\":\"x\",\"y\":[7],\"yaxis\":\"y\",\"type\":\"bar\"},{\"alignmentgroup\":\"True\",\"hovertemplate\":\"color=32 min\\u003cbr\\u003eduration=%{x}\\u003cbr\\u003eFrequency=%{y}\\u003cbr\\u003etext=%{text}\\u003cextra\\u003e\\u003c\\u002fextra\\u003e\",\"legendgroup\":\"32 min\",\"marker\":{\"color\":\"#946BCC\",\"pattern\":{\"shape\":\"\"}},\"name\":\"32 min\",\"offsetgroup\":\"32 min\",\"orientation\":\"v\",\"showlegend\":true,\"text\":[7.0],\"textposition\":\"outside\",\"x\":[\"32 min\"],\"xaxis\":\"x\",\"y\":[7],\"yaxis\":\"y\",\"type\":\"bar\"},{\"alignmentgroup\":\"True\",\"hovertemplate\":\"color=171 min\\u003cbr\\u003eduration=%{x}\\u003cbr\\u003eFrequency=%{y}\\u003cbr\\u003etext=%{text}\\u003cextra\\u003e\\u003c\\u002fextra\\u003e\",\"legendgroup\":\"171 min\",\"marker\":{\"color\":\"#FBE7B6\",\"pattern\":{\"shape\":\"\"}},\"name\":\"171 min\",\"offsetgroup\":\"171 min\",\"orientation\":\"v\",\"showlegend\":true,\"text\":[7.0],\"textposition\":\"outside\",\"x\":[\"171 min\"],\"xaxis\":\"x\",\"y\":[7],\"yaxis\":\"y\",\"type\":\"bar\"},{\"alignmentgroup\":\"True\",\"hovertemplate\":\"color=157 min\\u003cbr\\u003eduration=%{x}\\u003cbr\\u003eFrequency=%{y}\\u003cbr\\u003etext=%{text}\\u003cextra\\u003e\\u003c\\u002fextra\\u003e\",\"legendgroup\":\"157 min\",\"marker\":{\"color\":\"#B009D9\",\"pattern\":{\"shape\":\"\"}},\"name\":\"157 min\",\"offsetgroup\":\"157 min\",\"orientation\":\"v\",\"showlegend\":true,\"text\":[6.0],\"textposition\":\"outside\",\"x\":[\"157 min\"],\"xaxis\":\"x\",\"y\":[6],\"yaxis\":\"y\",\"type\":\"bar\"},{\"alignmentgroup\":\"True\",\"hovertemplate\":\"color=10 Seasons\\u003cbr\\u003eduration=%{x}\\u003cbr\\u003eFrequency=%{y}\\u003cbr\\u003etext=%{text}\\u003cextra\\u003e\\u003c\\u002fextra\\u003e\",\"legendgroup\":\"10 Seasons\",\"marker\":{\"color\":\"#7A51BE\",\"pattern\":{\"shape\":\"\"}},\"name\":\"10 Seasons\",\"offsetgroup\":\"10 Seasons\",\"orientation\":\"v\",\"showlegend\":true,\"text\":[6.0],\"textposition\":\"outside\",\"x\":[\"10 Seasons\"],\"xaxis\":\"x\",\"y\":[6],\"yaxis\":\"y\",\"type\":\"bar\"},{\"alignmentgroup\":\"True\",\"hovertemplate\":\"color=159 min\\u003cbr\\u003eduration=%{x}\\u003cbr\\u003eFrequency=%{y}\\u003cbr\\u003etext=%{text}\\u003cextra\\u003e\\u003c\\u002fextra\\u003e\",\"legendgroup\":\"159 min\",\"marker\":{\"color\":\"#878F39\",\"pattern\":{\"shape\":\"\"}},\"name\":\"159 min\",\"offsetgroup\":\"159 min\",\"orientation\":\"v\",\"showlegend\":true,\"text\":[6.0],\"textposition\":\"outside\",\"x\":[\"159 min\"],\"xaxis\":\"x\",\"y\":[6],\"yaxis\":\"y\",\"type\":\"bar\"},{\"alignmentgroup\":\"True\",\"hovertemplate\":\"color=30 min\\u003cbr\\u003eduration=%{x}\\u003cbr\\u003eFrequency=%{y}\\u003cbr\\u003etext=%{text}\\u003cextra\\u003e\\u003c\\u002fextra\\u003e\",\"legendgroup\":\"30 min\",\"marker\":{\"color\":\"#DCC88C\",\"pattern\":{\"shape\":\"\"}},\"name\":\"30 min\",\"offsetgroup\":\"30 min\",\"orientation\":\"v\",\"showlegend\":true,\"text\":[6.0],\"textposition\":\"outside\",\"x\":[\"30 min\"],\"xaxis\":\"x\",\"y\":[6],\"yaxis\":\"y\",\"type\":\"bar\"},{\"alignmentgroup\":\"True\",\"hovertemplate\":\"color=26 min\\u003cbr\\u003eduration=%{x}\\u003cbr\\u003eFrequency=%{y}\\u003cbr\\u003etext=%{text}\\u003cextra\\u003e\\u003c\\u002fextra\\u003e\",\"legendgroup\":\"26 min\",\"marker\":{\"color\":\"#A8CDA6\",\"pattern\":{\"shape\":\"\"}},\"name\":\"26 min\",\"offsetgroup\":\"26 min\",\"orientation\":\"v\",\"showlegend\":true,\"text\":[6.0],\"textposition\":\"outside\",\"x\":[\"26 min\"],\"xaxis\":\"x\",\"y\":[6],\"yaxis\":\"y\",\"type\":\"bar\"},{\"alignmentgroup\":\"True\",\"hovertemplate\":\"color=160 min\\u003cbr\\u003eduration=%{x}\\u003cbr\\u003eFrequency=%{y}\\u003cbr\\u003etext=%{text}\\u003cextra\\u003e\\u003c\\u002fextra\\u003e\",\"legendgroup\":\"160 min\",\"marker\":{\"color\":\"#FA38D9\",\"pattern\":{\"shape\":\"\"}},\"name\":\"160 min\",\"offsetgroup\":\"160 min\",\"orientation\":\"v\",\"showlegend\":true,\"text\":[6.0],\"textposition\":\"outside\",\"x\":[\"160 min\"],\"xaxis\":\"x\",\"y\":[6],\"yaxis\":\"y\",\"type\":\"bar\"},{\"alignmentgroup\":\"True\",\"hovertemplate\":\"color=152 min\\u003cbr\\u003eduration=%{x}\\u003cbr\\u003eFrequency=%{y}\\u003cbr\\u003etext=%{text}\\u003cextra\\u003e\\u003c\\u002fextra\\u003e\",\"legendgroup\":\"152 min\",\"marker\":{\"color\":\"#CEC19F\",\"pattern\":{\"shape\":\"\"}},\"name\":\"152 min\",\"offsetgroup\":\"152 min\",\"orientation\":\"v\",\"showlegend\":true,\"text\":[5.0],\"textposition\":\"outside\",\"x\":[\"152 min\"],\"xaxis\":\"x\",\"y\":[5],\"yaxis\":\"y\",\"type\":\"bar\"},{\"alignmentgroup\":\"True\",\"hovertemplate\":\"color=173 min\\u003cbr\\u003eduration=%{x}\\u003cbr\\u003eFrequency=%{y}\\u003cbr\\u003etext=%{text}\\u003cextra\\u003e\\u003c\\u002fextra\\u003e\",\"legendgroup\":\"173 min\",\"marker\":{\"color\":\"#6AD70C\",\"pattern\":{\"shape\":\"\"}},\"name\":\"173 min\",\"offsetgroup\":\"173 min\",\"orientation\":\"v\",\"showlegend\":true,\"text\":[5.0],\"textposition\":\"outside\",\"x\":[\"173 min\"],\"xaxis\":\"x\",\"y\":[5],\"yaxis\":\"y\",\"type\":\"bar\"},{\"alignmentgroup\":\"True\",\"hovertemplate\":\"color=33 min\\u003cbr\\u003eduration=%{x}\\u003cbr\\u003eFrequency=%{y}\\u003cbr\\u003etext=%{text}\\u003cextra\\u003e\\u003c\\u002fextra\\u003e\",\"legendgroup\":\"33 min\",\"marker\":{\"color\":\"#1E9A78\",\"pattern\":{\"shape\":\"\"}},\"name\":\"33 min\",\"offsetgroup\":\"33 min\",\"orientation\":\"v\",\"showlegend\":true,\"text\":[5.0],\"textposition\":\"outside\",\"x\":[\"33 min\"],\"xaxis\":\"x\",\"y\":[5],\"yaxis\":\"y\",\"type\":\"bar\"},{\"alignmentgroup\":\"True\",\"hovertemplate\":\"color=170 min\\u003cbr\\u003eduration=%{x}\\u003cbr\\u003eFrequency=%{y}\\u003cbr\\u003etext=%{text}\\u003cextra\\u003e\\u003c\\u002fextra\\u003e\",\"legendgroup\":\"170 min\",\"marker\":{\"color\":\"#B72AFA\",\"pattern\":{\"shape\":\"\"}},\"name\":\"170 min\",\"offsetgroup\":\"170 min\",\"orientation\":\"v\",\"showlegend\":true,\"text\":[5.0],\"textposition\":\"outside\",\"x\":[\"170 min\"],\"xaxis\":\"x\",\"y\":[5],\"yaxis\":\"y\",\"type\":\"bar\"},{\"alignmentgroup\":\"True\",\"hovertemplate\":\"color=176 min\\u003cbr\\u003eduration=%{x}\\u003cbr\\u003eFrequency=%{y}\\u003cbr\\u003etext=%{text}\\u003cextra\\u003e\\u003c\\u002fextra\\u003e\",\"legendgroup\":\"176 min\",\"marker\":{\"color\":\"#73DA30\",\"pattern\":{\"shape\":\"\"}},\"name\":\"176 min\",\"offsetgroup\":\"176 min\",\"orientation\":\"v\",\"showlegend\":true,\"text\":[5.0],\"textposition\":\"outside\",\"x\":[\"176 min\"],\"xaxis\":\"x\",\"y\":[5],\"yaxis\":\"y\",\"type\":\"bar\"},{\"alignmentgroup\":\"True\",\"hovertemplate\":\"color=185 min\\u003cbr\\u003eduration=%{x}\\u003cbr\\u003eFrequency=%{y}\\u003cbr\\u003etext=%{text}\\u003cextra\\u003e\\u003c\\u002fextra\\u003e\",\"legendgroup\":\"185 min\",\"marker\":{\"color\":\"#5F9A69\",\"pattern\":{\"shape\":\"\"}},\"name\":\"185 min\",\"offsetgroup\":\"185 min\",\"orientation\":\"v\",\"showlegend\":true,\"text\":[5.0],\"textposition\":\"outside\",\"x\":[\"185 min\"],\"xaxis\":\"x\",\"y\":[5],\"yaxis\":\"y\",\"type\":\"bar\"},{\"alignmentgroup\":\"True\",\"hovertemplate\":\"color=172 min\\u003cbr\\u003eduration=%{x}\\u003cbr\\u003eFrequency=%{y}\\u003cbr\\u003etext=%{text}\\u003cextra\\u003e\\u003c\\u002fextra\\u003e\",\"legendgroup\":\"172 min\",\"marker\":{\"color\":\"#150531\",\"pattern\":{\"shape\":\"\"}},\"name\":\"172 min\",\"offsetgroup\":\"172 min\",\"orientation\":\"v\",\"showlegend\":true,\"text\":[4.0],\"textposition\":\"outside\",\"x\":[\"172 min\"],\"xaxis\":\"x\",\"y\":[4],\"yaxis\":\"y\",\"type\":\"bar\"},{\"alignmentgroup\":\"True\",\"hovertemplate\":\"color=164 min\\u003cbr\\u003eduration=%{x}\\u003cbr\\u003eFrequency=%{y}\\u003cbr\\u003etext=%{text}\\u003cextra\\u003e\\u003c\\u002fextra\\u003e\",\"legendgroup\":\"164 min\",\"marker\":{\"color\":\"#072FBE\",\"pattern\":{\"shape\":\"\"}},\"name\":\"164 min\",\"offsetgroup\":\"164 min\",\"orientation\":\"v\",\"showlegend\":true,\"text\":[4.0],\"textposition\":\"outside\",\"x\":[\"164 min\"],\"xaxis\":\"x\",\"y\":[4],\"yaxis\":\"y\",\"type\":\"bar\"},{\"alignmentgroup\":\"True\",\"hovertemplate\":\"color=177 min\\u003cbr\\u003eduration=%{x}\\u003cbr\\u003eFrequency=%{y}\\u003cbr\\u003etext=%{text}\\u003cextra\\u003e\\u003c\\u002fextra\\u003e\",\"legendgroup\":\"177 min\",\"marker\":{\"color\":\"#632D57\",\"pattern\":{\"shape\":\"\"}},\"name\":\"177 min\",\"offsetgroup\":\"177 min\",\"orientation\":\"v\",\"showlegend\":true,\"text\":[4.0],\"textposition\":\"outside\",\"x\":[\"177 min\"],\"xaxis\":\"x\",\"y\":[4],\"yaxis\":\"y\",\"type\":\"bar\"},{\"alignmentgroup\":\"True\",\"hovertemplate\":\"color=38 min\\u003cbr\\u003eduration=%{x}\\u003cbr\\u003eFrequency=%{y}\\u003cbr\\u003etext=%{text}\\u003cextra\\u003e\\u003c\\u002fextra\\u003e\",\"legendgroup\":\"38 min\",\"marker\":{\"color\":\"#5F67A8\",\"pattern\":{\"shape\":\"\"}},\"name\":\"38 min\",\"offsetgroup\":\"38 min\",\"orientation\":\"v\",\"showlegend\":true,\"text\":[4.0],\"textposition\":\"outside\",\"x\":[\"38 min\"],\"xaxis\":\"x\",\"y\":[4],\"yaxis\":\"y\",\"type\":\"bar\"},{\"alignmentgroup\":\"True\",\"hovertemplate\":\"color=11 Seasons\\u003cbr\\u003eduration=%{x}\\u003cbr\\u003eFrequency=%{y}\\u003cbr\\u003etext=%{text}\\u003cextra\\u003e\\u003c\\u002fextra\\u003e\",\"legendgroup\":\"11 Seasons\",\"marker\":{\"color\":\"#C0CF8A\",\"pattern\":{\"shape\":\"\"}},\"name\":\"11 Seasons\",\"offsetgroup\":\"11 Seasons\",\"orientation\":\"v\",\"showlegend\":true,\"text\":[3.0],\"textposition\":\"outside\",\"x\":[\"11 Seasons\"],\"xaxis\":\"x\",\"y\":[3],\"yaxis\":\"y\",\"type\":\"bar\"},{\"alignmentgroup\":\"True\",\"hovertemplate\":\"color=41 min\\u003cbr\\u003eduration=%{x}\\u003cbr\\u003eFrequency=%{y}\\u003cbr\\u003etext=%{text}\\u003cextra\\u003e\\u003c\\u002fextra\\u003e\",\"legendgroup\":\"41 min\",\"marker\":{\"color\":\"#D1BA00\",\"pattern\":{\"shape\":\"\"}},\"name\":\"41 min\",\"offsetgroup\":\"41 min\",\"orientation\":\"v\",\"showlegend\":true,\"text\":[3.0],\"textposition\":\"outside\",\"x\":[\"41 min\"],\"xaxis\":\"x\",\"y\":[3],\"yaxis\":\"y\",\"type\":\"bar\"},{\"alignmentgroup\":\"True\",\"hovertemplate\":\"color=17 min\\u003cbr\\u003eduration=%{x}\\u003cbr\\u003eFrequency=%{y}\\u003cbr\\u003etext=%{text}\\u003cextra\\u003e\\u003c\\u002fextra\\u003e\",\"legendgroup\":\"17 min\",\"marker\":{\"color\":\"#75D0CA\",\"pattern\":{\"shape\":\"\"}},\"name\":\"17 min\",\"offsetgroup\":\"17 min\",\"orientation\":\"v\",\"showlegend\":true,\"text\":[3.0],\"textposition\":\"outside\",\"x\":[\"17 min\"],\"xaxis\":\"x\",\"y\":[3],\"yaxis\":\"y\",\"type\":\"bar\"},{\"alignmentgroup\":\"True\",\"hovertemplate\":\"color=35 min\\u003cbr\\u003eduration=%{x}\\u003cbr\\u003eFrequency=%{y}\\u003cbr\\u003etext=%{text}\\u003cextra\\u003e\\u003c\\u002fextra\\u003e\",\"legendgroup\":\"35 min\",\"marker\":{\"color\":\"#4BD304\",\"pattern\":{\"shape\":\"\"}},\"name\":\"35 min\",\"offsetgroup\":\"35 min\",\"orientation\":\"v\",\"showlegend\":true,\"text\":[3.0],\"textposition\":\"outside\",\"x\":[\"35 min\"],\"xaxis\":\"x\",\"y\":[3],\"yaxis\":\"y\",\"type\":\"bar\"},{\"alignmentgroup\":\"True\",\"hovertemplate\":\"color=27 min\\u003cbr\\u003eduration=%{x}\\u003cbr\\u003eFrequency=%{y}\\u003cbr\\u003etext=%{text}\\u003cextra\\u003e\\u003c\\u002fextra\\u003e\",\"legendgroup\":\"27 min\",\"marker\":{\"color\":\"#D0199B\",\"pattern\":{\"shape\":\"\"}},\"name\":\"27 min\",\"offsetgroup\":\"27 min\",\"orientation\":\"v\",\"showlegend\":true,\"text\":[3.0],\"textposition\":\"outside\",\"x\":[\"27 min\"],\"xaxis\":\"x\",\"y\":[3],\"yaxis\":\"y\",\"type\":\"bar\"},{\"alignmentgroup\":\"True\",\"hovertemplate\":\"color=14 min\\u003cbr\\u003eduration=%{x}\\u003cbr\\u003eFrequency=%{y}\\u003cbr\\u003etext=%{text}\\u003cextra\\u003e\\u003c\\u002fextra\\u003e\",\"legendgroup\":\"14 min\",\"marker\":{\"color\":\"#D3E1AD\",\"pattern\":{\"shape\":\"\"}},\"name\":\"14 min\",\"offsetgroup\":\"14 min\",\"orientation\":\"v\",\"showlegend\":true,\"text\":[3.0],\"textposition\":\"outside\",\"x\":[\"14 min\"],\"xaxis\":\"x\",\"y\":[3],\"yaxis\":\"y\",\"type\":\"bar\"},{\"alignmentgroup\":\"True\",\"hovertemplate\":\"color=20 min\\u003cbr\\u003eduration=%{x}\\u003cbr\\u003eFrequency=%{y}\\u003cbr\\u003etext=%{text}\\u003cextra\\u003e\\u003c\\u002fextra\\u003e\",\"legendgroup\":\"20 min\",\"marker\":{\"color\":\"#E2C012\",\"pattern\":{\"shape\":\"\"}},\"name\":\"20 min\",\"offsetgroup\":\"20 min\",\"orientation\":\"v\",\"showlegend\":true,\"text\":[2.0],\"textposition\":\"outside\",\"x\":[\"20 min\"],\"xaxis\":\"x\",\"y\":[2],\"yaxis\":\"y\",\"type\":\"bar\"},{\"alignmentgroup\":\"True\",\"hovertemplate\":\"color=21 min\\u003cbr\\u003eduration=%{x}\\u003cbr\\u003eFrequency=%{y}\\u003cbr\\u003etext=%{text}\\u003cextra\\u003e\\u003c\\u002fextra\\u003e\",\"legendgroup\":\"21 min\",\"marker\":{\"color\":\"#E2C0DE\",\"pattern\":{\"shape\":\"\"}},\"name\":\"21 min\",\"offsetgroup\":\"21 min\",\"orientation\":\"v\",\"showlegend\":true,\"text\":[2.0],\"textposition\":\"outside\",\"x\":[\"21 min\"],\"xaxis\":\"x\",\"y\":[2],\"yaxis\":\"y\",\"type\":\"bar\"},{\"alignmentgroup\":\"True\",\"hovertemplate\":\"color=37 min\\u003cbr\\u003eduration=%{x}\\u003cbr\\u003eFrequency=%{y}\\u003cbr\\u003etext=%{text}\\u003cextra\\u003e\\u003c\\u002fextra\\u003e\",\"legendgroup\":\"37 min\",\"marker\":{\"color\":\"#ABAAE3\",\"pattern\":{\"shape\":\"\"}},\"name\":\"37 min\",\"offsetgroup\":\"37 min\",\"orientation\":\"v\",\"showlegend\":true,\"text\":[2.0],\"textposition\":\"outside\",\"x\":[\"37 min\"],\"xaxis\":\"x\",\"y\":[2],\"yaxis\":\"y\",\"type\":\"bar\"},{\"alignmentgroup\":\"True\",\"hovertemplate\":\"color=181 min\\u003cbr\\u003eduration=%{x}\\u003cbr\\u003eFrequency=%{y}\\u003cbr\\u003etext=%{text}\\u003cextra\\u003e\\u003c\\u002fextra\\u003e\",\"legendgroup\":\"181 min\",\"marker\":{\"color\":\"#31C081\",\"pattern\":{\"shape\":\"\"}},\"name\":\"181 min\",\"offsetgroup\":\"181 min\",\"orientation\":\"v\",\"showlegend\":true,\"text\":[2.0],\"textposition\":\"outside\",\"x\":[\"181 min\"],\"xaxis\":\"x\",\"y\":[2],\"yaxis\":\"y\",\"type\":\"bar\"},{\"alignmentgroup\":\"True\",\"hovertemplate\":\"color=15 min\\u003cbr\\u003eduration=%{x}\\u003cbr\\u003eFrequency=%{y}\\u003cbr\\u003etext=%{text}\\u003cextra\\u003e\\u003c\\u002fextra\\u003e\",\"legendgroup\":\"15 min\",\"marker\":{\"color\":\"#162911\",\"pattern\":{\"shape\":\"\"}},\"name\":\"15 min\",\"offsetgroup\":\"15 min\",\"orientation\":\"v\",\"showlegend\":true,\"text\":[2.0],\"textposition\":\"outside\",\"x\":[\"15 min\"],\"xaxis\":\"x\",\"y\":[2],\"yaxis\":\"y\",\"type\":\"bar\"},{\"alignmentgroup\":\"True\",\"hovertemplate\":\"color=180 min\\u003cbr\\u003eduration=%{x}\\u003cbr\\u003eFrequency=%{y}\\u003cbr\\u003etext=%{text}\\u003cextra\\u003e\\u003c\\u002fextra\\u003e\",\"legendgroup\":\"180 min\",\"marker\":{\"color\":\"#E3975A\",\"pattern\":{\"shape\":\"\"}},\"name\":\"180 min\",\"offsetgroup\":\"180 min\",\"orientation\":\"v\",\"showlegend\":true,\"text\":[2.0],\"textposition\":\"outside\",\"x\":[\"180 min\"],\"xaxis\":\"x\",\"y\":[2],\"yaxis\":\"y\",\"type\":\"bar\"},{\"alignmentgroup\":\"True\",\"hovertemplate\":\"color=174 min\\u003cbr\\u003eduration=%{x}\\u003cbr\\u003eFrequency=%{y}\\u003cbr\\u003etext=%{text}\\u003cextra\\u003e\\u003c\\u002fextra\\u003e\",\"legendgroup\":\"174 min\",\"marker\":{\"color\":\"#D3E799\",\"pattern\":{\"shape\":\"\"}},\"name\":\"174 min\",\"offsetgroup\":\"174 min\",\"orientation\":\"v\",\"showlegend\":true,\"text\":[2.0],\"textposition\":\"outside\",\"x\":[\"174 min\"],\"xaxis\":\"x\",\"y\":[2],\"yaxis\":\"y\",\"type\":\"bar\"},{\"alignmentgroup\":\"True\",\"hovertemplate\":\"color=34 min\\u003cbr\\u003eduration=%{x}\\u003cbr\\u003eFrequency=%{y}\\u003cbr\\u003etext=%{text}\\u003cextra\\u003e\\u003c\\u002fextra\\u003e\",\"legendgroup\":\"34 min\",\"marker\":{\"color\":\"#409973\",\"pattern\":{\"shape\":\"\"}},\"name\":\"34 min\",\"offsetgroup\":\"34 min\",\"orientation\":\"v\",\"showlegend\":true,\"text\":[2.0],\"textposition\":\"outside\",\"x\":[\"34 min\"],\"xaxis\":\"x\",\"y\":[2],\"yaxis\":\"y\",\"type\":\"bar\"},{\"alignmentgroup\":\"True\",\"hovertemplate\":\"color=195 min\\u003cbr\\u003eduration=%{x}\\u003cbr\\u003eFrequency=%{y}\\u003cbr\\u003etext=%{text}\\u003cextra\\u003e\\u003c\\u002fextra\\u003e\",\"legendgroup\":\"195 min\",\"marker\":{\"color\":\"#FEEE8E\",\"pattern\":{\"shape\":\"\"}},\"name\":\"195 min\",\"offsetgroup\":\"195 min\",\"orientation\":\"v\",\"showlegend\":true,\"text\":[2.0],\"textposition\":\"outside\",\"x\":[\"195 min\"],\"xaxis\":\"x\",\"y\":[2],\"yaxis\":\"y\",\"type\":\"bar\"},{\"alignmentgroup\":\"True\",\"hovertemplate\":\"color=19 min\\u003cbr\\u003eduration=%{x}\\u003cbr\\u003eFrequency=%{y}\\u003cbr\\u003etext=%{text}\\u003cextra\\u003e\\u003c\\u002fextra\\u003e\",\"legendgroup\":\"19 min\",\"marker\":{\"color\":\"#0FBE9C\",\"pattern\":{\"shape\":\"\"}},\"name\":\"19 min\",\"offsetgroup\":\"19 min\",\"orientation\":\"v\",\"showlegend\":true,\"text\":[2.0],\"textposition\":\"outside\",\"x\":[\"19 min\"],\"xaxis\":\"x\",\"y\":[2],\"yaxis\":\"y\",\"type\":\"bar\"},{\"alignmentgroup\":\"True\",\"hovertemplate\":\"color=187 min\\u003cbr\\u003eduration=%{x}\\u003cbr\\u003eFrequency=%{y}\\u003cbr\\u003etext=%{text}\\u003cextra\\u003e\\u003c\\u002fextra\\u003e\",\"legendgroup\":\"187 min\",\"marker\":{\"color\":\"#7F205A\",\"pattern\":{\"shape\":\"\"}},\"name\":\"187 min\",\"offsetgroup\":\"187 min\",\"orientation\":\"v\",\"showlegend\":true,\"text\":[2.0],\"textposition\":\"outside\",\"x\":[\"187 min\"],\"xaxis\":\"x\",\"y\":[2],\"yaxis\":\"y\",\"type\":\"bar\"},{\"alignmentgroup\":\"True\",\"hovertemplate\":\"color=12 Seasons\\u003cbr\\u003eduration=%{x}\\u003cbr\\u003eFrequency=%{y}\\u003cbr\\u003etext=%{text}\\u003cextra\\u003e\\u003c\\u002fextra\\u003e\",\"legendgroup\":\"12 Seasons\",\"marker\":{\"color\":\"#F13290\",\"pattern\":{\"shape\":\"\"}},\"name\":\"12 Seasons\",\"offsetgroup\":\"12 Seasons\",\"orientation\":\"v\",\"showlegend\":true,\"text\":[2.0],\"textposition\":\"outside\",\"x\":[\"12 Seasons\"],\"xaxis\":\"x\",\"y\":[2],\"yaxis\":\"y\",\"type\":\"bar\"},{\"alignmentgroup\":\"True\",\"hovertemplate\":\"color=13 Seasons\\u003cbr\\u003eduration=%{x}\\u003cbr\\u003eFrequency=%{y}\\u003cbr\\u003etext=%{text}\\u003cextra\\u003e\\u003c\\u002fextra\\u003e\",\"legendgroup\":\"13 Seasons\",\"marker\":{\"color\":\"#F06A8B\",\"pattern\":{\"shape\":\"\"}},\"name\":\"13 Seasons\",\"offsetgroup\":\"13 Seasons\",\"orientation\":\"v\",\"showlegend\":true,\"text\":[2.0],\"textposition\":\"outside\",\"x\":[\"13 Seasons\"],\"xaxis\":\"x\",\"y\":[2],\"yaxis\":\"y\",\"type\":\"bar\"},{\"alignmentgroup\":\"True\",\"hovertemplate\":\"color=179 min\\u003cbr\\u003eduration=%{x}\\u003cbr\\u003eFrequency=%{y}\\u003cbr\\u003etext=%{text}\\u003cextra\\u003e\\u003c\\u002fextra\\u003e\",\"legendgroup\":\"179 min\",\"marker\":{\"color\":\"#F65D5A\",\"pattern\":{\"shape\":\"\"}},\"name\":\"179 min\",\"offsetgroup\":\"179 min\",\"orientation\":\"v\",\"showlegend\":true,\"text\":[2.0],\"textposition\":\"outside\",\"x\":[\"179 min\"],\"xaxis\":\"x\",\"y\":[2],\"yaxis\":\"y\",\"type\":\"bar\"},{\"alignmentgroup\":\"True\",\"hovertemplate\":\"color=15 Seasons\\u003cbr\\u003eduration=%{x}\\u003cbr\\u003eFrequency=%{y}\\u003cbr\\u003etext=%{text}\\u003cextra\\u003e\\u003c\\u002fextra\\u003e\",\"legendgroup\":\"15 Seasons\",\"marker\":{\"color\":\"#2CEEEE\",\"pattern\":{\"shape\":\"\"}},\"name\":\"15 Seasons\",\"offsetgroup\":\"15 Seasons\",\"orientation\":\"v\",\"showlegend\":true,\"text\":[2.0],\"textposition\":\"outside\",\"x\":[\"15 Seasons\"],\"xaxis\":\"x\",\"y\":[2],\"yaxis\":\"y\",\"type\":\"bar\"},{\"alignmentgroup\":\"True\",\"hovertemplate\":\"color=31 min\\u003cbr\\u003eduration=%{x}\\u003cbr\\u003eFrequency=%{y}\\u003cbr\\u003etext=%{text}\\u003cextra\\u003e\\u003c\\u002fextra\\u003e\",\"legendgroup\":\"31 min\",\"marker\":{\"color\":\"#083843\",\"pattern\":{\"shape\":\"\"}},\"name\":\"31 min\",\"offsetgroup\":\"31 min\",\"orientation\":\"v\",\"showlegend\":true,\"text\":[2.0],\"textposition\":\"outside\",\"x\":[\"31 min\"],\"xaxis\":\"x\",\"y\":[2],\"yaxis\":\"y\",\"type\":\"bar\"},{\"alignmentgroup\":\"True\",\"hovertemplate\":\"color=192 min\\u003cbr\\u003eduration=%{x}\\u003cbr\\u003eFrequency=%{y}\\u003cbr\\u003etext=%{text}\\u003cextra\\u003e\\u003c\\u002fextra\\u003e\",\"legendgroup\":\"192 min\",\"marker\":{\"color\":\"#739F96\",\"pattern\":{\"shape\":\"\"}},\"name\":\"192 min\",\"offsetgroup\":\"192 min\",\"orientation\":\"v\",\"showlegend\":true,\"text\":[2.0],\"textposition\":\"outside\",\"x\":[\"192 min\"],\"xaxis\":\"x\",\"y\":[2],\"yaxis\":\"y\",\"type\":\"bar\"},{\"alignmentgroup\":\"True\",\"hovertemplate\":\"color=190 min\\u003cbr\\u003eduration=%{x}\\u003cbr\\u003eFrequency=%{y}\\u003cbr\\u003etext=%{text}\\u003cextra\\u003e\\u003c\\u002fextra\\u003e\",\"legendgroup\":\"190 min\",\"marker\":{\"color\":\"#9A04DB\",\"pattern\":{\"shape\":\"\"}},\"name\":\"190 min\",\"offsetgroup\":\"190 min\",\"orientation\":\"v\",\"showlegend\":true,\"text\":[2.0],\"textposition\":\"outside\",\"x\":[\"190 min\"],\"xaxis\":\"x\",\"y\":[2],\"yaxis\":\"y\",\"type\":\"bar\"},{\"alignmentgroup\":\"True\",\"hovertemplate\":\"color=11 min\\u003cbr\\u003eduration=%{x}\\u003cbr\\u003eFrequency=%{y}\\u003cbr\\u003etext=%{text}\\u003cextra\\u003e\\u003c\\u002fextra\\u003e\",\"legendgroup\":\"11 min\",\"marker\":{\"color\":\"#3C99E4\",\"pattern\":{\"shape\":\"\"}},\"name\":\"11 min\",\"offsetgroup\":\"11 min\",\"orientation\":\"v\",\"showlegend\":true,\"text\":[2.0],\"textposition\":\"outside\",\"x\":[\"11 min\"],\"xaxis\":\"x\",\"y\":[2],\"yaxis\":\"y\",\"type\":\"bar\"},{\"alignmentgroup\":\"True\",\"hovertemplate\":\"color=209 min\\u003cbr\\u003eduration=%{x}\\u003cbr\\u003eFrequency=%{y}\\u003cbr\\u003etext=%{text}\\u003cextra\\u003e\\u003c\\u002fextra\\u003e\",\"legendgroup\":\"209 min\",\"marker\":{\"color\":\"#6336AE\",\"pattern\":{\"shape\":\"\"}},\"name\":\"209 min\",\"offsetgroup\":\"209 min\",\"orientation\":\"v\",\"showlegend\":true,\"text\":[2.0],\"textposition\":\"outside\",\"x\":[\"209 min\"],\"xaxis\":\"x\",\"y\":[2],\"yaxis\":\"y\",\"type\":\"bar\"},{\"alignmentgroup\":\"True\",\"hovertemplate\":\"color=169 min\\u003cbr\\u003eduration=%{x}\\u003cbr\\u003eFrequency=%{y}\\u003cbr\\u003etext=%{text}\\u003cextra\\u003e\\u003c\\u002fextra\\u003e\",\"legendgroup\":\"169 min\",\"marker\":{\"color\":\"#A891A7\",\"pattern\":{\"shape\":\"\"}},\"name\":\"169 min\",\"offsetgroup\":\"169 min\",\"orientation\":\"v\",\"showlegend\":true,\"text\":[2.0],\"textposition\":\"outside\",\"x\":[\"169 min\"],\"xaxis\":\"x\",\"y\":[2],\"yaxis\":\"y\",\"type\":\"bar\"},{\"alignmentgroup\":\"True\",\"hovertemplate\":\"color=12 min\\u003cbr\\u003eduration=%{x}\\u003cbr\\u003eFrequency=%{y}\\u003cbr\\u003etext=%{text}\\u003cextra\\u003e\\u003c\\u002fextra\\u003e\",\"legendgroup\":\"12 min\",\"marker\":{\"color\":\"#E6A688\",\"pattern\":{\"shape\":\"\"}},\"name\":\"12 min\",\"offsetgroup\":\"12 min\",\"orientation\":\"v\",\"showlegend\":true,\"text\":[2.0],\"textposition\":\"outside\",\"x\":[\"12 min\"],\"xaxis\":\"x\",\"y\":[2],\"yaxis\":\"y\",\"type\":\"bar\"},{\"alignmentgroup\":\"True\",\"hovertemplate\":\"color=10 min\\u003cbr\\u003eduration=%{x}\\u003cbr\\u003eFrequency=%{y}\\u003cbr\\u003etext=%{text}\\u003cextra\\u003e\\u003c\\u002fextra\\u003e\",\"legendgroup\":\"10 min\",\"marker\":{\"color\":\"#816B6C\",\"pattern\":{\"shape\":\"\"}},\"name\":\"10 min\",\"offsetgroup\":\"10 min\",\"orientation\":\"v\",\"showlegend\":true,\"text\":[1.0],\"textposition\":\"outside\",\"x\":[\"10 min\"],\"xaxis\":\"x\",\"y\":[1],\"yaxis\":\"y\",\"type\":\"bar\"},{\"alignmentgroup\":\"True\",\"hovertemplate\":\"color=186 min\\u003cbr\\u003eduration=%{x}\\u003cbr\\u003eFrequency=%{y}\\u003cbr\\u003etext=%{text}\\u003cextra\\u003e\\u003c\\u002fextra\\u003e\",\"legendgroup\":\"186 min\",\"marker\":{\"color\":\"#DD4890\",\"pattern\":{\"shape\":\"\"}},\"name\":\"186 min\",\"offsetgroup\":\"186 min\",\"orientation\":\"v\",\"showlegend\":true,\"text\":[1.0],\"textposition\":\"outside\",\"x\":[\"186 min\"],\"xaxis\":\"x\",\"y\":[1],\"yaxis\":\"y\",\"type\":\"bar\"},{\"alignmentgroup\":\"True\",\"hovertemplate\":\"color=312 min\\u003cbr\\u003eduration=%{x}\\u003cbr\\u003eFrequency=%{y}\\u003cbr\\u003etext=%{text}\\u003cextra\\u003e\\u003c\\u002fextra\\u003e\",\"legendgroup\":\"312 min\",\"marker\":{\"color\":\"#EBE8AA\",\"pattern\":{\"shape\":\"\"}},\"name\":\"312 min\",\"offsetgroup\":\"312 min\",\"orientation\":\"v\",\"showlegend\":true,\"text\":[1.0],\"textposition\":\"outside\",\"x\":[\"312 min\"],\"xaxis\":\"x\",\"y\":[1],\"yaxis\":\"y\",\"type\":\"bar\"},{\"alignmentgroup\":\"True\",\"hovertemplate\":\"color=214 min\\u003cbr\\u003eduration=%{x}\\u003cbr\\u003eFrequency=%{y}\\u003cbr\\u003etext=%{text}\\u003cextra\\u003e\\u003c\\u002fextra\\u003e\",\"legendgroup\":\"214 min\",\"marker\":{\"color\":\"#1A215C\",\"pattern\":{\"shape\":\"\"}},\"name\":\"214 min\",\"offsetgroup\":\"214 min\",\"orientation\":\"v\",\"showlegend\":true,\"text\":[1.0],\"textposition\":\"outside\",\"x\":[\"214 min\"],\"xaxis\":\"x\",\"y\":[1],\"yaxis\":\"y\",\"type\":\"bar\"},{\"alignmentgroup\":\"True\",\"hovertemplate\":\"color=193 min\\u003cbr\\u003eduration=%{x}\\u003cbr\\u003eFrequency=%{y}\\u003cbr\\u003etext=%{text}\\u003cextra\\u003e\\u003c\\u002fextra\\u003e\",\"legendgroup\":\"193 min\",\"marker\":{\"color\":\"#165F35\",\"pattern\":{\"shape\":\"\"}},\"name\":\"193 min\",\"offsetgroup\":\"193 min\",\"orientation\":\"v\",\"showlegend\":true,\"text\":[1.0],\"textposition\":\"outside\",\"x\":[\"193 min\"],\"xaxis\":\"x\",\"y\":[1],\"yaxis\":\"y\",\"type\":\"bar\"},{\"alignmentgroup\":\"True\",\"hovertemplate\":\"color=13 min\\u003cbr\\u003eduration=%{x}\\u003cbr\\u003eFrequency=%{y}\\u003cbr\\u003etext=%{text}\\u003cextra\\u003e\\u003c\\u002fextra\\u003e\",\"legendgroup\":\"13 min\",\"marker\":{\"color\":\"#140EF1\",\"pattern\":{\"shape\":\"\"}},\"name\":\"13 min\",\"offsetgroup\":\"13 min\",\"orientation\":\"v\",\"showlegend\":true,\"text\":[1.0],\"textposition\":\"outside\",\"x\":[\"13 min\"],\"xaxis\":\"x\",\"y\":[1],\"yaxis\":\"y\",\"type\":\"bar\"},{\"alignmentgroup\":\"True\",\"hovertemplate\":\"color=167 min\\u003cbr\\u003eduration=%{x}\\u003cbr\\u003eFrequency=%{y}\\u003cbr\\u003etext=%{text}\\u003cextra\\u003e\\u003c\\u002fextra\\u003e\",\"legendgroup\":\"167 min\",\"marker\":{\"color\":\"#2BB6BC\",\"pattern\":{\"shape\":\"\"}},\"name\":\"167 min\",\"offsetgroup\":\"167 min\",\"orientation\":\"v\",\"showlegend\":true,\"text\":[1.0],\"textposition\":\"outside\",\"x\":[\"167 min\"],\"xaxis\":\"x\",\"y\":[1],\"yaxis\":\"y\",\"type\":\"bar\"},{\"alignmentgroup\":\"True\",\"hovertemplate\":\"color=200 min\\u003cbr\\u003eduration=%{x}\\u003cbr\\u003eFrequency=%{y}\\u003cbr\\u003etext=%{text}\\u003cextra\\u003e\\u003c\\u002fextra\\u003e\",\"legendgroup\":\"200 min\",\"marker\":{\"color\":\"#4A3654\",\"pattern\":{\"shape\":\"\"}},\"name\":\"200 min\",\"offsetgroup\":\"200 min\",\"orientation\":\"v\",\"showlegend\":true,\"text\":[1.0],\"textposition\":\"outside\",\"x\":[\"200 min\"],\"xaxis\":\"x\",\"y\":[1],\"yaxis\":\"y\",\"type\":\"bar\"},{\"alignmentgroup\":\"True\",\"hovertemplate\":\"color=196 min\\u003cbr\\u003eduration=%{x}\\u003cbr\\u003eFrequency=%{y}\\u003cbr\\u003etext=%{text}\\u003cextra\\u003e\\u003c\\u002fextra\\u003e\",\"legendgroup\":\"196 min\",\"marker\":{\"color\":\"#435930\",\"pattern\":{\"shape\":\"\"}},\"name\":\"196 min\",\"offsetgroup\":\"196 min\",\"orientation\":\"v\",\"showlegend\":true,\"text\":[1.0],\"textposition\":\"outside\",\"x\":[\"196 min\"],\"xaxis\":\"x\",\"y\":[1],\"yaxis\":\"y\",\"type\":\"bar\"},{\"alignmentgroup\":\"True\",\"hovertemplate\":\"color=204 min\\u003cbr\\u003eduration=%{x}\\u003cbr\\u003eFrequency=%{y}\\u003cbr\\u003etext=%{text}\\u003cextra\\u003e\\u003c\\u002fextra\\u003e\",\"legendgroup\":\"204 min\",\"marker\":{\"color\":\"#A370B9\",\"pattern\":{\"shape\":\"\"}},\"name\":\"204 min\",\"offsetgroup\":\"204 min\",\"orientation\":\"v\",\"showlegend\":true,\"text\":[1.0],\"textposition\":\"outside\",\"x\":[\"204 min\"],\"xaxis\":\"x\",\"y\":[1],\"yaxis\":\"y\",\"type\":\"bar\"},{\"alignmentgroup\":\"True\",\"hovertemplate\":\"color=8 min\\u003cbr\\u003eduration=%{x}\\u003cbr\\u003eFrequency=%{y}\\u003cbr\\u003etext=%{text}\\u003cextra\\u003e\\u003c\\u002fextra\\u003e\",\"legendgroup\":\"8 min\",\"marker\":{\"color\":\"#98A727\",\"pattern\":{\"shape\":\"\"}},\"name\":\"8 min\",\"offsetgroup\":\"8 min\",\"orientation\":\"v\",\"showlegend\":true,\"text\":[1.0],\"textposition\":\"outside\",\"x\":[\"8 min\"],\"xaxis\":\"x\",\"y\":[1],\"yaxis\":\"y\",\"type\":\"bar\"},{\"alignmentgroup\":\"True\",\"hovertemplate\":\"color=9 min\\u003cbr\\u003eduration=%{x}\\u003cbr\\u003eFrequency=%{y}\\u003cbr\\u003etext=%{text}\\u003cextra\\u003e\\u003c\\u002fextra\\u003e\",\"legendgroup\":\"9 min\",\"marker\":{\"color\":\"#02963C\",\"pattern\":{\"shape\":\"\"}},\"name\":\"9 min\",\"offsetgroup\":\"9 min\",\"orientation\":\"v\",\"showlegend\":true,\"text\":[1.0],\"textposition\":\"outside\",\"x\":[\"9 min\"],\"xaxis\":\"x\",\"y\":[1],\"yaxis\":\"y\",\"type\":\"bar\"},{\"alignmentgroup\":\"True\",\"hovertemplate\":\"color=43 min\\u003cbr\\u003eduration=%{x}\\u003cbr\\u003eFrequency=%{y}\\u003cbr\\u003etext=%{text}\\u003cextra\\u003e\\u003c\\u002fextra\\u003e\",\"legendgroup\":\"43 min\",\"marker\":{\"color\":\"#1C3CE5\",\"pattern\":{\"shape\":\"\"}},\"name\":\"43 min\",\"offsetgroup\":\"43 min\",\"orientation\":\"v\",\"showlegend\":true,\"text\":[1.0],\"textposition\":\"outside\",\"x\":[\"43 min\"],\"xaxis\":\"x\",\"y\":[1],\"yaxis\":\"y\",\"type\":\"bar\"},{\"alignmentgroup\":\"True\",\"hovertemplate\":\"color=16 Seasons\\u003cbr\\u003eduration=%{x}\\u003cbr\\u003eFrequency=%{y}\\u003cbr\\u003etext=%{text}\\u003cextra\\u003e\\u003c\\u002fextra\\u003e\",\"legendgroup\":\"16 Seasons\",\"marker\":{\"color\":\"#D26E22\",\"pattern\":{\"shape\":\"\"}},\"name\":\"16 Seasons\",\"offsetgroup\":\"16 Seasons\",\"orientation\":\"v\",\"showlegend\":true,\"text\":[1.0],\"textposition\":\"outside\",\"x\":[\"16 Seasons\"],\"xaxis\":\"x\",\"y\":[1],\"yaxis\":\"y\",\"type\":\"bar\"},{\"alignmentgroup\":\"True\",\"hovertemplate\":\"color=233 min\\u003cbr\\u003eduration=%{x}\\u003cbr\\u003eFrequency=%{y}\\u003cbr\\u003etext=%{text}\\u003cextra\\u003e\\u003c\\u002fextra\\u003e\",\"legendgroup\":\"233 min\",\"marker\":{\"color\":\"#FAF2D6\",\"pattern\":{\"shape\":\"\"}},\"name\":\"233 min\",\"offsetgroup\":\"233 min\",\"orientation\":\"v\",\"showlegend\":true,\"text\":[1.0],\"textposition\":\"outside\",\"x\":[\"233 min\"],\"xaxis\":\"x\",\"y\":[1],\"yaxis\":\"y\",\"type\":\"bar\"},{\"alignmentgroup\":\"True\",\"hovertemplate\":\"color=189 min\\u003cbr\\u003eduration=%{x}\\u003cbr\\u003eFrequency=%{y}\\u003cbr\\u003etext=%{text}\\u003cextra\\u003e\\u003c\\u002fextra\\u003e\",\"legendgroup\":\"189 min\",\"marker\":{\"color\":\"#0D849E\",\"pattern\":{\"shape\":\"\"}},\"name\":\"189 min\",\"offsetgroup\":\"189 min\",\"orientation\":\"v\",\"showlegend\":true,\"text\":[1.0],\"textposition\":\"outside\",\"x\":[\"189 min\"],\"xaxis\":\"x\",\"y\":[1],\"yaxis\":\"y\",\"type\":\"bar\"},{\"alignmentgroup\":\"True\",\"hovertemplate\":\"color=224 min\\u003cbr\\u003eduration=%{x}\\u003cbr\\u003eFrequency=%{y}\\u003cbr\\u003etext=%{text}\\u003cextra\\u003e\\u003c\\u002fextra\\u003e\",\"legendgroup\":\"224 min\",\"marker\":{\"color\":\"#1BC85B\",\"pattern\":{\"shape\":\"\"}},\"name\":\"224 min\",\"offsetgroup\":\"224 min\",\"orientation\":\"v\",\"showlegend\":true,\"text\":[1.0],\"textposition\":\"outside\",\"x\":[\"224 min\"],\"xaxis\":\"x\",\"y\":[1],\"yaxis\":\"y\",\"type\":\"bar\"},{\"alignmentgroup\":\"True\",\"hovertemplate\":\"color=182 min\\u003cbr\\u003eduration=%{x}\\u003cbr\\u003eFrequency=%{y}\\u003cbr\\u003etext=%{text}\\u003cextra\\u003e\\u003c\\u002fextra\\u003e\",\"legendgroup\":\"182 min\",\"marker\":{\"color\":\"#F63E78\",\"pattern\":{\"shape\":\"\"}},\"name\":\"182 min\",\"offsetgroup\":\"182 min\",\"orientation\":\"v\",\"showlegend\":true,\"text\":[1.0],\"textposition\":\"outside\",\"x\":[\"182 min\"],\"xaxis\":\"x\",\"y\":[1],\"yaxis\":\"y\",\"type\":\"bar\"},{\"alignmentgroup\":\"True\",\"hovertemplate\":\"color=237 min\\u003cbr\\u003eduration=%{x}\\u003cbr\\u003eFrequency=%{y}\\u003cbr\\u003etext=%{text}\\u003cextra\\u003e\\u003c\\u002fextra\\u003e\",\"legendgroup\":\"237 min\",\"marker\":{\"color\":\"#0EE8C5\",\"pattern\":{\"shape\":\"\"}},\"name\":\"237 min\",\"offsetgroup\":\"237 min\",\"orientation\":\"v\",\"showlegend\":true,\"text\":[1.0],\"textposition\":\"outside\",\"x\":[\"237 min\"],\"xaxis\":\"x\",\"y\":[1],\"yaxis\":\"y\",\"type\":\"bar\"},{\"alignmentgroup\":\"True\",\"hovertemplate\":\"color=208 min\\u003cbr\\u003eduration=%{x}\\u003cbr\\u003eFrequency=%{y}\\u003cbr\\u003etext=%{text}\\u003cextra\\u003e\\u003c\\u002fextra\\u003e\",\"legendgroup\":\"208 min\",\"marker\":{\"color\":\"#FB5C98\",\"pattern\":{\"shape\":\"\"}},\"name\":\"208 min\",\"offsetgroup\":\"208 min\",\"orientation\":\"v\",\"showlegend\":true,\"text\":[1.0],\"textposition\":\"outside\",\"x\":[\"208 min\"],\"xaxis\":\"x\",\"y\":[1],\"yaxis\":\"y\",\"type\":\"bar\"},{\"alignmentgroup\":\"True\",\"hovertemplate\":\"color=194 min\\u003cbr\\u003eduration=%{x}\\u003cbr\\u003eFrequency=%{y}\\u003cbr\\u003etext=%{text}\\u003cextra\\u003e\\u003c\\u002fextra\\u003e\",\"legendgroup\":\"194 min\",\"marker\":{\"color\":\"#B1A668\",\"pattern\":{\"shape\":\"\"}},\"name\":\"194 min\",\"offsetgroup\":\"194 min\",\"orientation\":\"v\",\"showlegend\":true,\"text\":[1.0],\"textposition\":\"outside\",\"x\":[\"194 min\"],\"xaxis\":\"x\",\"y\":[1],\"yaxis\":\"y\",\"type\":\"bar\"},{\"alignmentgroup\":\"True\",\"hovertemplate\":\"color=178 min\\u003cbr\\u003eduration=%{x}\\u003cbr\\u003eFrequency=%{y}\\u003cbr\\u003etext=%{text}\\u003cextra\\u003e\\u003c\\u002fextra\\u003e\",\"legendgroup\":\"178 min\",\"marker\":{\"color\":\"#1A85B1\",\"pattern\":{\"shape\":\"\"}},\"name\":\"178 min\",\"offsetgroup\":\"178 min\",\"orientation\":\"v\",\"showlegend\":true,\"text\":[1.0],\"textposition\":\"outside\",\"x\":[\"178 min\"],\"xaxis\":\"x\",\"y\":[1],\"yaxis\":\"y\",\"type\":\"bar\"},{\"alignmentgroup\":\"True\",\"hovertemplate\":\"color=228 min\\u003cbr\\u003eduration=%{x}\\u003cbr\\u003eFrequency=%{y}\\u003cbr\\u003etext=%{text}\\u003cextra\\u003e\\u003c\\u002fextra\\u003e\",\"legendgroup\":\"228 min\",\"marker\":{\"color\":\"#2A0E53\",\"pattern\":{\"shape\":\"\"}},\"name\":\"228 min\",\"offsetgroup\":\"228 min\",\"orientation\":\"v\",\"showlegend\":true,\"text\":[1.0],\"textposition\":\"outside\",\"x\":[\"228 min\"],\"xaxis\":\"x\",\"y\":[1],\"yaxis\":\"y\",\"type\":\"bar\"},{\"alignmentgroup\":\"True\",\"hovertemplate\":\"color=3 min\\u003cbr\\u003eduration=%{x}\\u003cbr\\u003eFrequency=%{y}\\u003cbr\\u003etext=%{text}\\u003cextra\\u003e\\u003c\\u002fextra\\u003e\",\"legendgroup\":\"3 min\",\"marker\":{\"color\":\"#E104A2\",\"pattern\":{\"shape\":\"\"}},\"name\":\"3 min\",\"offsetgroup\":\"3 min\",\"orientation\":\"v\",\"showlegend\":true,\"text\":[1.0],\"textposition\":\"outside\",\"x\":[\"3 min\"],\"xaxis\":\"x\",\"y\":[1],\"yaxis\":\"y\",\"type\":\"bar\"},{\"alignmentgroup\":\"True\",\"hovertemplate\":\"color=16 min\\u003cbr\\u003eduration=%{x}\\u003cbr\\u003eFrequency=%{y}\\u003cbr\\u003etext=%{text}\\u003cextra\\u003e\\u003c\\u002fextra\\u003e\",\"legendgroup\":\"16 min\",\"marker\":{\"color\":\"#1D048E\",\"pattern\":{\"shape\":\"\"}},\"name\":\"16 min\",\"offsetgroup\":\"16 min\",\"orientation\":\"v\",\"showlegend\":true,\"text\":[1.0],\"textposition\":\"outside\",\"x\":[\"16 min\"],\"xaxis\":\"x\",\"y\":[1],\"yaxis\":\"y\",\"type\":\"bar\"},{\"alignmentgroup\":\"True\",\"hovertemplate\":\"color=230 min\\u003cbr\\u003eduration=%{x}\\u003cbr\\u003eFrequency=%{y}\\u003cbr\\u003etext=%{text}\\u003cextra\\u003e\\u003c\\u002fextra\\u003e\",\"legendgroup\":\"230 min\",\"marker\":{\"color\":\"#DF2EFF\",\"pattern\":{\"shape\":\"\"}},\"name\":\"230 min\",\"offsetgroup\":\"230 min\",\"orientation\":\"v\",\"showlegend\":true,\"text\":[1.0],\"textposition\":\"outside\",\"x\":[\"230 min\"],\"xaxis\":\"x\",\"y\":[1],\"yaxis\":\"y\",\"type\":\"bar\"},{\"alignmentgroup\":\"True\",\"hovertemplate\":\"color=5 min\\u003cbr\\u003eduration=%{x}\\u003cbr\\u003eFrequency=%{y}\\u003cbr\\u003etext=%{text}\\u003cextra\\u003e\\u003c\\u002fextra\\u003e\",\"legendgroup\":\"5 min\",\"marker\":{\"color\":\"#C7A753\",\"pattern\":{\"shape\":\"\"}},\"name\":\"5 min\",\"offsetgroup\":\"5 min\",\"orientation\":\"v\",\"showlegend\":true,\"text\":[1.0],\"textposition\":\"outside\",\"x\":[\"5 min\"],\"xaxis\":\"x\",\"y\":[1],\"yaxis\":\"y\",\"type\":\"bar\"},{\"alignmentgroup\":\"True\",\"hovertemplate\":\"color=18 min\\u003cbr\\u003eduration=%{x}\\u003cbr\\u003eFrequency=%{y}\\u003cbr\\u003etext=%{text}\\u003cextra\\u003e\\u003c\\u002fextra\\u003e\",\"legendgroup\":\"18 min\",\"marker\":{\"color\":\"#194182\",\"pattern\":{\"shape\":\"\"}},\"name\":\"18 min\",\"offsetgroup\":\"18 min\",\"orientation\":\"v\",\"showlegend\":true,\"text\":[1.0],\"textposition\":\"outside\",\"x\":[\"18 min\"],\"xaxis\":\"x\",\"y\":[1],\"yaxis\":\"y\",\"type\":\"bar\"},{\"alignmentgroup\":\"True\",\"hovertemplate\":\"color=205 min\\u003cbr\\u003eduration=%{x}\\u003cbr\\u003eFrequency=%{y}\\u003cbr\\u003etext=%{text}\\u003cextra\\u003e\\u003c\\u002fextra\\u003e\",\"legendgroup\":\"205 min\",\"marker\":{\"color\":\"#89AE14\",\"pattern\":{\"shape\":\"\"}},\"name\":\"205 min\",\"offsetgroup\":\"205 min\",\"orientation\":\"v\",\"showlegend\":true,\"text\":[1.0],\"textposition\":\"outside\",\"x\":[\"205 min\"],\"xaxis\":\"x\",\"y\":[1],\"yaxis\":\"y\",\"type\":\"bar\"},{\"alignmentgroup\":\"True\",\"hovertemplate\":\"color=36 min\\u003cbr\\u003eduration=%{x}\\u003cbr\\u003eFrequency=%{y}\\u003cbr\\u003etext=%{text}\\u003cextra\\u003e\\u003c\\u002fextra\\u003e\",\"legendgroup\":\"36 min\",\"marker\":{\"color\":\"#14D02F\",\"pattern\":{\"shape\":\"\"}},\"name\":\"36 min\",\"offsetgroup\":\"36 min\",\"orientation\":\"v\",\"showlegend\":true,\"text\":[1.0],\"textposition\":\"outside\",\"x\":[\"36 min\"],\"xaxis\":\"x\",\"y\":[1],\"yaxis\":\"y\",\"type\":\"bar\"},{\"alignmentgroup\":\"True\",\"hovertemplate\":\"color=201 min\\u003cbr\\u003eduration=%{x}\\u003cbr\\u003eFrequency=%{y}\\u003cbr\\u003etext=%{text}\\u003cextra\\u003e\\u003c\\u002fextra\\u003e\",\"legendgroup\":\"201 min\",\"marker\":{\"color\":\"#A56073\",\"pattern\":{\"shape\":\"\"}},\"name\":\"201 min\",\"offsetgroup\":\"201 min\",\"orientation\":\"v\",\"showlegend\":true,\"text\":[1.0],\"textposition\":\"outside\",\"x\":[\"201 min\"],\"xaxis\":\"x\",\"y\":[1],\"yaxis\":\"y\",\"type\":\"bar\"},{\"alignmentgroup\":\"True\",\"hovertemplate\":\"color=253 min\\u003cbr\\u003eduration=%{x}\\u003cbr\\u003eFrequency=%{y}\\u003cbr\\u003etext=%{text}\\u003cextra\\u003e\\u003c\\u002fextra\\u003e\",\"legendgroup\":\"253 min\",\"marker\":{\"color\":\"#46B701\",\"pattern\":{\"shape\":\"\"}},\"name\":\"253 min\",\"offsetgroup\":\"253 min\",\"orientation\":\"v\",\"showlegend\":true,\"text\":[1.0],\"textposition\":\"outside\",\"x\":[\"253 min\"],\"xaxis\":\"x\",\"y\":[1],\"yaxis\":\"y\",\"type\":\"bar\"},{\"alignmentgroup\":\"True\",\"hovertemplate\":\"color=203 min\\u003cbr\\u003eduration=%{x}\\u003cbr\\u003eFrequency=%{y}\\u003cbr\\u003etext=%{text}\\u003cextra\\u003e\\u003c\\u002fextra\\u003e\",\"legendgroup\":\"203 min\",\"marker\":{\"color\":\"#60F841\",\"pattern\":{\"shape\":\"\"}},\"name\":\"203 min\",\"offsetgroup\":\"203 min\",\"orientation\":\"v\",\"showlegend\":true,\"text\":[1.0],\"textposition\":\"outside\",\"x\":[\"203 min\"],\"xaxis\":\"x\",\"y\":[1],\"yaxis\":\"y\",\"type\":\"bar\"},{\"alignmentgroup\":\"True\",\"hovertemplate\":\"color=191 min\\u003cbr\\u003eduration=%{x}\\u003cbr\\u003eFrequency=%{y}\\u003cbr\\u003etext=%{text}\\u003cextra\\u003e\\u003c\\u002fextra\\u003e\",\"legendgroup\":\"191 min\",\"marker\":{\"color\":\"#53B2FA\",\"pattern\":{\"shape\":\"\"}},\"name\":\"191 min\",\"offsetgroup\":\"191 min\",\"orientation\":\"v\",\"showlegend\":true,\"text\":[1.0],\"textposition\":\"outside\",\"x\":[\"191 min\"],\"xaxis\":\"x\",\"y\":[1],\"yaxis\":\"y\",\"type\":\"bar\"}],                        {\"template\":{\"data\":{\"histogram2dcontour\":[{\"type\":\"histogram2dcontour\",\"colorbar\":{\"outlinewidth\":0,\"ticks\":\"\"},\"colorscale\":[[0.0,\"#0d0887\"],[0.1111111111111111,\"#46039f\"],[0.2222222222222222,\"#7201a8\"],[0.3333333333333333,\"#9c179e\"],[0.4444444444444444,\"#bd3786\"],[0.5555555555555556,\"#d8576b\"],[0.6666666666666666,\"#ed7953\"],[0.7777777777777778,\"#fb9f3a\"],[0.8888888888888888,\"#fdca26\"],[1.0,\"#f0f921\"]]}],\"choropleth\":[{\"type\":\"choropleth\",\"colorbar\":{\"outlinewidth\":0,\"ticks\":\"\"}}],\"histogram2d\":[{\"type\":\"histogram2d\",\"colorbar\":{\"outlinewidth\":0,\"ticks\":\"\"},\"colorscale\":[[0.0,\"#0d0887\"],[0.1111111111111111,\"#46039f\"],[0.2222222222222222,\"#7201a8\"],[0.3333333333333333,\"#9c179e\"],[0.4444444444444444,\"#bd3786\"],[0.5555555555555556,\"#d8576b\"],[0.6666666666666666,\"#ed7953\"],[0.7777777777777778,\"#fb9f3a\"],[0.8888888888888888,\"#fdca26\"],[1.0,\"#f0f921\"]]}],\"heatmap\":[{\"type\":\"heatmap\",\"colorbar\":{\"outlinewidth\":0,\"ticks\":\"\"},\"colorscale\":[[0.0,\"#0d0887\"],[0.1111111111111111,\"#46039f\"],[0.2222222222222222,\"#7201a8\"],[0.3333333333333333,\"#9c179e\"],[0.4444444444444444,\"#bd3786\"],[0.5555555555555556,\"#d8576b\"],[0.6666666666666666,\"#ed7953\"],[0.7777777777777778,\"#fb9f3a\"],[0.8888888888888888,\"#fdca26\"],[1.0,\"#f0f921\"]]}],\"heatmapgl\":[{\"type\":\"heatmapgl\",\"colorbar\":{\"outlinewidth\":0,\"ticks\":\"\"},\"colorscale\":[[0.0,\"#0d0887\"],[0.1111111111111111,\"#46039f\"],[0.2222222222222222,\"#7201a8\"],[0.3333333333333333,\"#9c179e\"],[0.4444444444444444,\"#bd3786\"],[0.5555555555555556,\"#d8576b\"],[0.6666666666666666,\"#ed7953\"],[0.7777777777777778,\"#fb9f3a\"],[0.8888888888888888,\"#fdca26\"],[1.0,\"#f0f921\"]]}],\"contourcarpet\":[{\"type\":\"contourcarpet\",\"colorbar\":{\"outlinewidth\":0,\"ticks\":\"\"}}],\"contour\":[{\"type\":\"contour\",\"colorbar\":{\"outlinewidth\":0,\"ticks\":\"\"},\"colorscale\":[[0.0,\"#0d0887\"],[0.1111111111111111,\"#46039f\"],[0.2222222222222222,\"#7201a8\"],[0.3333333333333333,\"#9c179e\"],[0.4444444444444444,\"#bd3786\"],[0.5555555555555556,\"#d8576b\"],[0.6666666666666666,\"#ed7953\"],[0.7777777777777778,\"#fb9f3a\"],[0.8888888888888888,\"#fdca26\"],[1.0,\"#f0f921\"]]}],\"surface\":[{\"type\":\"surface\",\"colorbar\":{\"outlinewidth\":0,\"ticks\":\"\"},\"colorscale\":[[0.0,\"#0d0887\"],[0.1111111111111111,\"#46039f\"],[0.2222222222222222,\"#7201a8\"],[0.3333333333333333,\"#9c179e\"],[0.4444444444444444,\"#bd3786\"],[0.5555555555555556,\"#d8576b\"],[0.6666666666666666,\"#ed7953\"],[0.7777777777777778,\"#fb9f3a\"],[0.8888888888888888,\"#fdca26\"],[1.0,\"#f0f921\"]]}],\"mesh3d\":[{\"type\":\"mesh3d\",\"colorbar\":{\"outlinewidth\":0,\"ticks\":\"\"}}],\"scatter\":[{\"fillpattern\":{\"fillmode\":\"overlay\",\"size\":10,\"solidity\":0.2},\"type\":\"scatter\"}],\"parcoords\":[{\"type\":\"parcoords\",\"line\":{\"colorbar\":{\"outlinewidth\":0,\"ticks\":\"\"}}}],\"scatterpolargl\":[{\"type\":\"scatterpolargl\",\"marker\":{\"colorbar\":{\"outlinewidth\":0,\"ticks\":\"\"}}}],\"bar\":[{\"error_x\":{\"color\":\"#2a3f5f\"},\"error_y\":{\"color\":\"#2a3f5f\"},\"marker\":{\"line\":{\"color\":\"#E5ECF6\",\"width\":0.5},\"pattern\":{\"fillmode\":\"overlay\",\"size\":10,\"solidity\":0.2}},\"type\":\"bar\"}],\"scattergeo\":[{\"type\":\"scattergeo\",\"marker\":{\"colorbar\":{\"outlinewidth\":0,\"ticks\":\"\"}}}],\"scatterpolar\":[{\"type\":\"scatterpolar\",\"marker\":{\"colorbar\":{\"outlinewidth\":0,\"ticks\":\"\"}}}],\"histogram\":[{\"marker\":{\"pattern\":{\"fillmode\":\"overlay\",\"size\":10,\"solidity\":0.2}},\"type\":\"histogram\"}],\"scattergl\":[{\"type\":\"scattergl\",\"marker\":{\"colorbar\":{\"outlinewidth\":0,\"ticks\":\"\"}}}],\"scatter3d\":[{\"type\":\"scatter3d\",\"line\":{\"colorbar\":{\"outlinewidth\":0,\"ticks\":\"\"}},\"marker\":{\"colorbar\":{\"outlinewidth\":0,\"ticks\":\"\"}}}],\"scattermapbox\":[{\"type\":\"scattermapbox\",\"marker\":{\"colorbar\":{\"outlinewidth\":0,\"ticks\":\"\"}}}],\"scatterternary\":[{\"type\":\"scatterternary\",\"marker\":{\"colorbar\":{\"outlinewidth\":0,\"ticks\":\"\"}}}],\"scattercarpet\":[{\"type\":\"scattercarpet\",\"marker\":{\"colorbar\":{\"outlinewidth\":0,\"ticks\":\"\"}}}],\"carpet\":[{\"aaxis\":{\"endlinecolor\":\"#2a3f5f\",\"gridcolor\":\"white\",\"linecolor\":\"white\",\"minorgridcolor\":\"white\",\"startlinecolor\":\"#2a3f5f\"},\"baxis\":{\"endlinecolor\":\"#2a3f5f\",\"gridcolor\":\"white\",\"linecolor\":\"white\",\"minorgridcolor\":\"white\",\"startlinecolor\":\"#2a3f5f\"},\"type\":\"carpet\"}],\"table\":[{\"cells\":{\"fill\":{\"color\":\"#EBF0F8\"},\"line\":{\"color\":\"white\"}},\"header\":{\"fill\":{\"color\":\"#C8D4E3\"},\"line\":{\"color\":\"white\"}},\"type\":\"table\"}],\"barpolar\":[{\"marker\":{\"line\":{\"color\":\"#E5ECF6\",\"width\":0.5},\"pattern\":{\"fillmode\":\"overlay\",\"size\":10,\"solidity\":0.2}},\"type\":\"barpolar\"}],\"pie\":[{\"automargin\":true,\"type\":\"pie\"}]},\"layout\":{\"autotypenumbers\":\"strict\",\"colorway\":[\"#636efa\",\"#EF553B\",\"#00cc96\",\"#ab63fa\",\"#FFA15A\",\"#19d3f3\",\"#FF6692\",\"#B6E880\",\"#FF97FF\",\"#FECB52\"],\"font\":{\"color\":\"#2a3f5f\"},\"hovermode\":\"closest\",\"hoverlabel\":{\"align\":\"left\"},\"paper_bgcolor\":\"white\",\"plot_bgcolor\":\"#E5ECF6\",\"polar\":{\"bgcolor\":\"#E5ECF6\",\"angularaxis\":{\"gridcolor\":\"white\",\"linecolor\":\"white\",\"ticks\":\"\"},\"radialaxis\":{\"gridcolor\":\"white\",\"linecolor\":\"white\",\"ticks\":\"\"}},\"ternary\":{\"bgcolor\":\"#E5ECF6\",\"aaxis\":{\"gridcolor\":\"white\",\"linecolor\":\"white\",\"ticks\":\"\"},\"baxis\":{\"gridcolor\":\"white\",\"linecolor\":\"white\",\"ticks\":\"\"},\"caxis\":{\"gridcolor\":\"white\",\"linecolor\":\"white\",\"ticks\":\"\"}},\"coloraxis\":{\"colorbar\":{\"outlinewidth\":0,\"ticks\":\"\"}},\"colorscale\":{\"sequential\":[[0.0,\"#0d0887\"],[0.1111111111111111,\"#46039f\"],[0.2222222222222222,\"#7201a8\"],[0.3333333333333333,\"#9c179e\"],[0.4444444444444444,\"#bd3786\"],[0.5555555555555556,\"#d8576b\"],[0.6666666666666666,\"#ed7953\"],[0.7777777777777778,\"#fb9f3a\"],[0.8888888888888888,\"#fdca26\"],[1.0,\"#f0f921\"]],\"sequentialminus\":[[0.0,\"#0d0887\"],[0.1111111111111111,\"#46039f\"],[0.2222222222222222,\"#7201a8\"],[0.3333333333333333,\"#9c179e\"],[0.4444444444444444,\"#bd3786\"],[0.5555555555555556,\"#d8576b\"],[0.6666666666666666,\"#ed7953\"],[0.7777777777777778,\"#fb9f3a\"],[0.8888888888888888,\"#fdca26\"],[1.0,\"#f0f921\"]],\"diverging\":[[0,\"#8e0152\"],[0.1,\"#c51b7d\"],[0.2,\"#de77ae\"],[0.3,\"#f1b6da\"],[0.4,\"#fde0ef\"],[0.5,\"#f7f7f7\"],[0.6,\"#e6f5d0\"],[0.7,\"#b8e186\"],[0.8,\"#7fbc41\"],[0.9,\"#4d9221\"],[1,\"#276419\"]]},\"xaxis\":{\"gridcolor\":\"white\",\"linecolor\":\"white\",\"ticks\":\"\",\"title\":{\"standoff\":15},\"zerolinecolor\":\"white\",\"automargin\":true,\"zerolinewidth\":2},\"yaxis\":{\"gridcolor\":\"white\",\"linecolor\":\"white\",\"ticks\":\"\",\"title\":{\"standoff\":15},\"zerolinecolor\":\"white\",\"automargin\":true,\"zerolinewidth\":2},\"scene\":{\"xaxis\":{\"backgroundcolor\":\"#E5ECF6\",\"gridcolor\":\"white\",\"linecolor\":\"white\",\"showbackground\":true,\"ticks\":\"\",\"zerolinecolor\":\"white\",\"gridwidth\":2},\"yaxis\":{\"backgroundcolor\":\"#E5ECF6\",\"gridcolor\":\"white\",\"linecolor\":\"white\",\"showbackground\":true,\"ticks\":\"\",\"zerolinecolor\":\"white\",\"gridwidth\":2},\"zaxis\":{\"backgroundcolor\":\"#E5ECF6\",\"gridcolor\":\"white\",\"linecolor\":\"white\",\"showbackground\":true,\"ticks\":\"\",\"zerolinecolor\":\"white\",\"gridwidth\":2}},\"shapedefaults\":{\"line\":{\"color\":\"#2a3f5f\"}},\"annotationdefaults\":{\"arrowcolor\":\"#2a3f5f\",\"arrowhead\":0,\"arrowwidth\":1},\"geo\":{\"bgcolor\":\"white\",\"landcolor\":\"#E5ECF6\",\"subunitcolor\":\"white\",\"showland\":true,\"showlakes\":true,\"lakecolor\":\"white\"},\"title\":{\"x\":0.05},\"mapbox\":{\"style\":\"light\"}}},\"xaxis\":{\"anchor\":\"y\",\"domain\":[0.0,1.0],\"title\":{\"text\":\"Dataset Variables\"},\"tickangle\":-45},\"yaxis\":{\"anchor\":\"x\",\"domain\":[0.0,1.0],\"title\":{\"text\":\"Count Distribution\"}},\"legend\":{\"title\":{\"text\":\"color\"},\"tracegroupgap\":0},\"title\":{\"text\":\"Value Counts for duration\"},\"barmode\":\"relative\"},                        {\"responsive\": true}                    ).then(function(){\n",
              "                            \n",
              "var gd = document.getElementById('49d7d548-7e40-41e0-a6a0-810ccdf074b4');\n",
              "var x = new MutationObserver(function (mutations, observer) {{\n",
              "        var display = window.getComputedStyle(gd).display;\n",
              "        if (!display || display === 'none') {{\n",
              "            console.log([gd, 'removed!']);\n",
              "            Plotly.purge(gd);\n",
              "            observer.disconnect();\n",
              "        }}\n",
              "}});\n",
              "\n",
              "// Listen for the removal of the full notebook cells\n",
              "var notebookContainer = gd.closest('#notebook-container');\n",
              "if (notebookContainer) {{\n",
              "    x.observe(notebookContainer, {childList: true});\n",
              "}}\n",
              "\n",
              "// Listen for the clearing of the current output cell\n",
              "var outputEl = gd.closest('.output');\n",
              "if (outputEl) {{\n",
              "    x.observe(outputEl, {childList: true});\n",
              "}}\n",
              "\n",
              "                        })                };                            </script>        </div>\n",
              "</body>\n",
              "</html>"
            ]
          },
          "metadata": {}
        }
      ]
    },
    {
      "cell_type": "markdown",
      "source": [
        "There are higher count of Movies (5377) compared to TV Shows (2410), with TV-MA (2863) and TV-14 (1931) being the most common ratings, and most TV Shows having 1 season while movie durations vary widely, peaking around 90-100 minutes."
      ],
      "metadata": {
        "id": "li0kMLI_NN3I"
      }
    },
    {
      "cell_type": "markdown",
      "source": [
        "#### Understand the type content available in different **COUNTRIES**"
      ],
      "metadata": {
        "id": "xF3r_wtwQ61C"
      }
    },
    {
      "cell_type": "code",
      "source": [
        "# Group by country and type, then count titles\n",
        "content_by_country = df.groupby(['country', 'type']).size().reset_index(name='count')\n",
        "\n",
        "# Pivot the data to have separate columns for Movie and TV Show counts\n",
        "content_by_country = content_by_country.pivot(index='country', columns='type', values='count').fillna(0).reset_index()\n",
        "\n",
        "# Rename columns for clarity\n",
        "content_by_country.columns = ['country', 'Movie_Count', 'TV_Show_Count']\n",
        "\n",
        "# Now you can proceed with sorting and visualization\n",
        "top_15_countries = content_by_country.sort_values(by=['Movie_Count', 'TV_Show_Count'], ascending=False).head(15)\n",
        "\n",
        "# Create a bar chart using Plotly Express\n",
        "fig = px.bar(top_15_countries, x='country', y=['Movie_Count', 'TV_Show_Count'],\n",
        "             title='Content Type by Top 15 Countries', barmode='group',\n",
        "             labels={'country': 'Country', 'value': 'Count', 'variable': 'Content Type'},\n",
        "             text_auto=True,  # Display count numbers on bars\n",
        "             height=800)  # Increase bar height\n",
        "\n",
        "fig.update_traces(textfont_size=12, textangle=0, textposition='outside', cliponaxis=False)  # Adjust text properties\n",
        "fig.update_layout(xaxis_tickangle=-45) # Rotate x-axis labels for better visibility\n",
        "fig.show()"
      ],
      "metadata": {
        "colab": {
          "base_uri": "https://localhost:8080/",
          "height": 817
        },
        "id": "kbUKDWHo4Hb6",
        "outputId": "9a6dc5c1-4910-4c80-9ab0-bfc98ae0c8e7"
      },
      "execution_count": 32,
      "outputs": [
        {
          "output_type": "display_data",
          "data": {
            "text/html": [
              "<html>\n",
              "<head><meta charset=\"utf-8\" /></head>\n",
              "<body>\n",
              "    <div>            <script src=\"https://cdnjs.cloudflare.com/ajax/libs/mathjax/2.7.5/MathJax.js?config=TeX-AMS-MML_SVG\"></script><script type=\"text/javascript\">if (window.MathJax && window.MathJax.Hub && window.MathJax.Hub.Config) {window.MathJax.Hub.Config({SVG: {font: \"STIX-Web\"}});}</script>                <script type=\"text/javascript\">window.PlotlyConfig = {MathJaxConfig: 'local'};</script>\n",
              "        <script charset=\"utf-8\" src=\"https://cdn.plot.ly/plotly-2.35.2.min.js\"></script>                <div id=\"1f42f92f-cd45-447f-ae7c-a1012668903c\" class=\"plotly-graph-div\" style=\"height:800px; width:100%;\"></div>            <script type=\"text/javascript\">                                    window.PLOTLYENV=window.PLOTLYENV || {};                                    if (document.getElementById(\"1f42f92f-cd45-447f-ae7c-a1012668903c\")) {                    Plotly.newPlot(                        \"1f42f92f-cd45-447f-ae7c-a1012668903c\",                        [{\"alignmentgroup\":\"True\",\"hovertemplate\":\"Content Type=Movie_Count\\u003cbr\\u003eCountry=%{x}\\u003cbr\\u003eCount=%{y}\\u003cextra\\u003e\\u003c\\u002fextra\\u003e\",\"legendgroup\":\"Movie_Count\",\"marker\":{\"color\":\"#636efa\",\"pattern\":{\"shape\":\"\"}},\"name\":\"Movie_Count\",\"offsetgroup\":\"Movie_Count\",\"orientation\":\"v\",\"showlegend\":true,\"textposition\":\"outside\",\"texttemplate\":\"%{y}\",\"x\":[\"United States\",\"India\",\"Not available\",\"United Kingdom\",\"Canada\",\"Spain\",\"Egypt\",\"Turkey\",\"Philippines\",\"Japan\",\"France\",\"Indonesia\",\"Mexico\",\"Nigeria\",\"United Kingdom, United States\"],\"xaxis\":\"x\",\"y\":[1850.0,852.0,230.0,193.0,118.0,89.0,89.0,73.0,70.0,69.0,69.0,68.0,65.0,62.0,52.0],\"yaxis\":\"y\",\"type\":\"bar\",\"textfont\":{\"size\":12},\"cliponaxis\":false,\"textangle\":0},{\"alignmentgroup\":\"True\",\"hovertemplate\":\"Content Type=TV_Show_Count\\u003cbr\\u003eCountry=%{x}\\u003cbr\\u003eCount=%{y}\\u003cextra\\u003e\\u003c\\u002fextra\\u003e\",\"legendgroup\":\"TV_Show_Count\",\"marker\":{\"color\":\"#EF553B\",\"pattern\":{\"shape\":\"\"}},\"name\":\"TV_Show_Count\",\"offsetgroup\":\"TV_Show_Count\",\"orientation\":\"v\",\"showlegend\":true,\"textposition\":\"outside\",\"texttemplate\":\"%{y}\",\"x\":[\"United States\",\"India\",\"Not available\",\"United Kingdom\",\"Canada\",\"Spain\",\"Egypt\",\"Turkey\",\"Philippines\",\"Japan\",\"France\",\"Indonesia\",\"Mexico\",\"Nigeria\",\"United Kingdom, United States\"],\"xaxis\":\"x\",\"y\":[705.0,71.0,277.0,204.0,59.0,45.0,12.0,27.0,1.0,157.0,46.0,2.0,35.0,8.0,12.0],\"yaxis\":\"y\",\"type\":\"bar\",\"textfont\":{\"size\":12},\"cliponaxis\":false,\"textangle\":0}],                        {\"template\":{\"data\":{\"histogram2dcontour\":[{\"type\":\"histogram2dcontour\",\"colorbar\":{\"outlinewidth\":0,\"ticks\":\"\"},\"colorscale\":[[0.0,\"#0d0887\"],[0.1111111111111111,\"#46039f\"],[0.2222222222222222,\"#7201a8\"],[0.3333333333333333,\"#9c179e\"],[0.4444444444444444,\"#bd3786\"],[0.5555555555555556,\"#d8576b\"],[0.6666666666666666,\"#ed7953\"],[0.7777777777777778,\"#fb9f3a\"],[0.8888888888888888,\"#fdca26\"],[1.0,\"#f0f921\"]]}],\"choropleth\":[{\"type\":\"choropleth\",\"colorbar\":{\"outlinewidth\":0,\"ticks\":\"\"}}],\"histogram2d\":[{\"type\":\"histogram2d\",\"colorbar\":{\"outlinewidth\":0,\"ticks\":\"\"},\"colorscale\":[[0.0,\"#0d0887\"],[0.1111111111111111,\"#46039f\"],[0.2222222222222222,\"#7201a8\"],[0.3333333333333333,\"#9c179e\"],[0.4444444444444444,\"#bd3786\"],[0.5555555555555556,\"#d8576b\"],[0.6666666666666666,\"#ed7953\"],[0.7777777777777778,\"#fb9f3a\"],[0.8888888888888888,\"#fdca26\"],[1.0,\"#f0f921\"]]}],\"heatmap\":[{\"type\":\"heatmap\",\"colorbar\":{\"outlinewidth\":0,\"ticks\":\"\"},\"colorscale\":[[0.0,\"#0d0887\"],[0.1111111111111111,\"#46039f\"],[0.2222222222222222,\"#7201a8\"],[0.3333333333333333,\"#9c179e\"],[0.4444444444444444,\"#bd3786\"],[0.5555555555555556,\"#d8576b\"],[0.6666666666666666,\"#ed7953\"],[0.7777777777777778,\"#fb9f3a\"],[0.8888888888888888,\"#fdca26\"],[1.0,\"#f0f921\"]]}],\"heatmapgl\":[{\"type\":\"heatmapgl\",\"colorbar\":{\"outlinewidth\":0,\"ticks\":\"\"},\"colorscale\":[[0.0,\"#0d0887\"],[0.1111111111111111,\"#46039f\"],[0.2222222222222222,\"#7201a8\"],[0.3333333333333333,\"#9c179e\"],[0.4444444444444444,\"#bd3786\"],[0.5555555555555556,\"#d8576b\"],[0.6666666666666666,\"#ed7953\"],[0.7777777777777778,\"#fb9f3a\"],[0.8888888888888888,\"#fdca26\"],[1.0,\"#f0f921\"]]}],\"contourcarpet\":[{\"type\":\"contourcarpet\",\"colorbar\":{\"outlinewidth\":0,\"ticks\":\"\"}}],\"contour\":[{\"type\":\"contour\",\"colorbar\":{\"outlinewidth\":0,\"ticks\":\"\"},\"colorscale\":[[0.0,\"#0d0887\"],[0.1111111111111111,\"#46039f\"],[0.2222222222222222,\"#7201a8\"],[0.3333333333333333,\"#9c179e\"],[0.4444444444444444,\"#bd3786\"],[0.5555555555555556,\"#d8576b\"],[0.6666666666666666,\"#ed7953\"],[0.7777777777777778,\"#fb9f3a\"],[0.8888888888888888,\"#fdca26\"],[1.0,\"#f0f921\"]]}],\"surface\":[{\"type\":\"surface\",\"colorbar\":{\"outlinewidth\":0,\"ticks\":\"\"},\"colorscale\":[[0.0,\"#0d0887\"],[0.1111111111111111,\"#46039f\"],[0.2222222222222222,\"#7201a8\"],[0.3333333333333333,\"#9c179e\"],[0.4444444444444444,\"#bd3786\"],[0.5555555555555556,\"#d8576b\"],[0.6666666666666666,\"#ed7953\"],[0.7777777777777778,\"#fb9f3a\"],[0.8888888888888888,\"#fdca26\"],[1.0,\"#f0f921\"]]}],\"mesh3d\":[{\"type\":\"mesh3d\",\"colorbar\":{\"outlinewidth\":0,\"ticks\":\"\"}}],\"scatter\":[{\"fillpattern\":{\"fillmode\":\"overlay\",\"size\":10,\"solidity\":0.2},\"type\":\"scatter\"}],\"parcoords\":[{\"type\":\"parcoords\",\"line\":{\"colorbar\":{\"outlinewidth\":0,\"ticks\":\"\"}}}],\"scatterpolargl\":[{\"type\":\"scatterpolargl\",\"marker\":{\"colorbar\":{\"outlinewidth\":0,\"ticks\":\"\"}}}],\"bar\":[{\"error_x\":{\"color\":\"#2a3f5f\"},\"error_y\":{\"color\":\"#2a3f5f\"},\"marker\":{\"line\":{\"color\":\"#E5ECF6\",\"width\":0.5},\"pattern\":{\"fillmode\":\"overlay\",\"size\":10,\"solidity\":0.2}},\"type\":\"bar\"}],\"scattergeo\":[{\"type\":\"scattergeo\",\"marker\":{\"colorbar\":{\"outlinewidth\":0,\"ticks\":\"\"}}}],\"scatterpolar\":[{\"type\":\"scatterpolar\",\"marker\":{\"colorbar\":{\"outlinewidth\":0,\"ticks\":\"\"}}}],\"histogram\":[{\"marker\":{\"pattern\":{\"fillmode\":\"overlay\",\"size\":10,\"solidity\":0.2}},\"type\":\"histogram\"}],\"scattergl\":[{\"type\":\"scattergl\",\"marker\":{\"colorbar\":{\"outlinewidth\":0,\"ticks\":\"\"}}}],\"scatter3d\":[{\"type\":\"scatter3d\",\"line\":{\"colorbar\":{\"outlinewidth\":0,\"ticks\":\"\"}},\"marker\":{\"colorbar\":{\"outlinewidth\":0,\"ticks\":\"\"}}}],\"scattermapbox\":[{\"type\":\"scattermapbox\",\"marker\":{\"colorbar\":{\"outlinewidth\":0,\"ticks\":\"\"}}}],\"scatterternary\":[{\"type\":\"scatterternary\",\"marker\":{\"colorbar\":{\"outlinewidth\":0,\"ticks\":\"\"}}}],\"scattercarpet\":[{\"type\":\"scattercarpet\",\"marker\":{\"colorbar\":{\"outlinewidth\":0,\"ticks\":\"\"}}}],\"carpet\":[{\"aaxis\":{\"endlinecolor\":\"#2a3f5f\",\"gridcolor\":\"white\",\"linecolor\":\"white\",\"minorgridcolor\":\"white\",\"startlinecolor\":\"#2a3f5f\"},\"baxis\":{\"endlinecolor\":\"#2a3f5f\",\"gridcolor\":\"white\",\"linecolor\":\"white\",\"minorgridcolor\":\"white\",\"startlinecolor\":\"#2a3f5f\"},\"type\":\"carpet\"}],\"table\":[{\"cells\":{\"fill\":{\"color\":\"#EBF0F8\"},\"line\":{\"color\":\"white\"}},\"header\":{\"fill\":{\"color\":\"#C8D4E3\"},\"line\":{\"color\":\"white\"}},\"type\":\"table\"}],\"barpolar\":[{\"marker\":{\"line\":{\"color\":\"#E5ECF6\",\"width\":0.5},\"pattern\":{\"fillmode\":\"overlay\",\"size\":10,\"solidity\":0.2}},\"type\":\"barpolar\"}],\"pie\":[{\"automargin\":true,\"type\":\"pie\"}]},\"layout\":{\"autotypenumbers\":\"strict\",\"colorway\":[\"#636efa\",\"#EF553B\",\"#00cc96\",\"#ab63fa\",\"#FFA15A\",\"#19d3f3\",\"#FF6692\",\"#B6E880\",\"#FF97FF\",\"#FECB52\"],\"font\":{\"color\":\"#2a3f5f\"},\"hovermode\":\"closest\",\"hoverlabel\":{\"align\":\"left\"},\"paper_bgcolor\":\"white\",\"plot_bgcolor\":\"#E5ECF6\",\"polar\":{\"bgcolor\":\"#E5ECF6\",\"angularaxis\":{\"gridcolor\":\"white\",\"linecolor\":\"white\",\"ticks\":\"\"},\"radialaxis\":{\"gridcolor\":\"white\",\"linecolor\":\"white\",\"ticks\":\"\"}},\"ternary\":{\"bgcolor\":\"#E5ECF6\",\"aaxis\":{\"gridcolor\":\"white\",\"linecolor\":\"white\",\"ticks\":\"\"},\"baxis\":{\"gridcolor\":\"white\",\"linecolor\":\"white\",\"ticks\":\"\"},\"caxis\":{\"gridcolor\":\"white\",\"linecolor\":\"white\",\"ticks\":\"\"}},\"coloraxis\":{\"colorbar\":{\"outlinewidth\":0,\"ticks\":\"\"}},\"colorscale\":{\"sequential\":[[0.0,\"#0d0887\"],[0.1111111111111111,\"#46039f\"],[0.2222222222222222,\"#7201a8\"],[0.3333333333333333,\"#9c179e\"],[0.4444444444444444,\"#bd3786\"],[0.5555555555555556,\"#d8576b\"],[0.6666666666666666,\"#ed7953\"],[0.7777777777777778,\"#fb9f3a\"],[0.8888888888888888,\"#fdca26\"],[1.0,\"#f0f921\"]],\"sequentialminus\":[[0.0,\"#0d0887\"],[0.1111111111111111,\"#46039f\"],[0.2222222222222222,\"#7201a8\"],[0.3333333333333333,\"#9c179e\"],[0.4444444444444444,\"#bd3786\"],[0.5555555555555556,\"#d8576b\"],[0.6666666666666666,\"#ed7953\"],[0.7777777777777778,\"#fb9f3a\"],[0.8888888888888888,\"#fdca26\"],[1.0,\"#f0f921\"]],\"diverging\":[[0,\"#8e0152\"],[0.1,\"#c51b7d\"],[0.2,\"#de77ae\"],[0.3,\"#f1b6da\"],[0.4,\"#fde0ef\"],[0.5,\"#f7f7f7\"],[0.6,\"#e6f5d0\"],[0.7,\"#b8e186\"],[0.8,\"#7fbc41\"],[0.9,\"#4d9221\"],[1,\"#276419\"]]},\"xaxis\":{\"gridcolor\":\"white\",\"linecolor\":\"white\",\"ticks\":\"\",\"title\":{\"standoff\":15},\"zerolinecolor\":\"white\",\"automargin\":true,\"zerolinewidth\":2},\"yaxis\":{\"gridcolor\":\"white\",\"linecolor\":\"white\",\"ticks\":\"\",\"title\":{\"standoff\":15},\"zerolinecolor\":\"white\",\"automargin\":true,\"zerolinewidth\":2},\"scene\":{\"xaxis\":{\"backgroundcolor\":\"#E5ECF6\",\"gridcolor\":\"white\",\"linecolor\":\"white\",\"showbackground\":true,\"ticks\":\"\",\"zerolinecolor\":\"white\",\"gridwidth\":2},\"yaxis\":{\"backgroundcolor\":\"#E5ECF6\",\"gridcolor\":\"white\",\"linecolor\":\"white\",\"showbackground\":true,\"ticks\":\"\",\"zerolinecolor\":\"white\",\"gridwidth\":2},\"zaxis\":{\"backgroundcolor\":\"#E5ECF6\",\"gridcolor\":\"white\",\"linecolor\":\"white\",\"showbackground\":true,\"ticks\":\"\",\"zerolinecolor\":\"white\",\"gridwidth\":2}},\"shapedefaults\":{\"line\":{\"color\":\"#2a3f5f\"}},\"annotationdefaults\":{\"arrowcolor\":\"#2a3f5f\",\"arrowhead\":0,\"arrowwidth\":1},\"geo\":{\"bgcolor\":\"white\",\"landcolor\":\"#E5ECF6\",\"subunitcolor\":\"white\",\"showland\":true,\"showlakes\":true,\"lakecolor\":\"white\"},\"title\":{\"x\":0.05},\"mapbox\":{\"style\":\"light\"}}},\"xaxis\":{\"anchor\":\"y\",\"domain\":[0.0,1.0],\"title\":{\"text\":\"Country\"},\"tickangle\":-45},\"yaxis\":{\"anchor\":\"x\",\"domain\":[0.0,1.0],\"title\":{\"text\":\"Count\"}},\"legend\":{\"title\":{\"text\":\"Content Type\"},\"tracegroupgap\":0},\"title\":{\"text\":\"Content Type by Top 15 Countries\"},\"barmode\":\"group\",\"height\":800},                        {\"responsive\": true}                    ).then(function(){\n",
              "                            \n",
              "var gd = document.getElementById('1f42f92f-cd45-447f-ae7c-a1012668903c');\n",
              "var x = new MutationObserver(function (mutations, observer) {{\n",
              "        var display = window.getComputedStyle(gd).display;\n",
              "        if (!display || display === 'none') {{\n",
              "            console.log([gd, 'removed!']);\n",
              "            Plotly.purge(gd);\n",
              "            observer.disconnect();\n",
              "        }}\n",
              "}});\n",
              "\n",
              "// Listen for the removal of the full notebook cells\n",
              "var notebookContainer = gd.closest('#notebook-container');\n",
              "if (notebookContainer) {{\n",
              "    x.observe(notebookContainer, {childList: true});\n",
              "}}\n",
              "\n",
              "// Listen for the clearing of the current output cell\n",
              "var outputEl = gd.closest('.output');\n",
              "if (outputEl) {{\n",
              "    x.observe(outputEl, {childList: true});\n",
              "}}\n",
              "\n",
              "                        })                };                            </script>        </div>\n",
              "</body>\n",
              "</html>"
            ]
          },
          "metadata": {}
        }
      ]
    },
    {
      "cell_type": "markdown",
      "source": [
        "The **United States** leads with the highest counts—approximately **1850 movies and 705 TV** shows—indicating its dominant contribution to Netflix's content library.\n",
        "\n",
        "**India** follows with a high movie count (**around 852**) but significantly fewer TV shows (**around 71**), suggesting a shift in content type distribution.\n",
        "\n",
        "**Other countries** like the United Kingdom, Canada, Spain, and others show varying levels of content production."
      ],
      "metadata": {
        "id": "r7u52IeLUwI6"
      }
    },
    {
      "cell_type": "code",
      "source": [
        "# Display the content type distribution for all countries\n",
        "content_by_country[['country', 'Movie_Count', 'TV_Show_Count']]"
      ],
      "metadata": {
        "colab": {
          "base_uri": "https://localhost:8080/",
          "height": 423
        },
        "id": "hRCKSvBXTtIq",
        "outputId": "314b229f-e71a-4900-8e66-70f3426c0b43"
      },
      "execution_count": 33,
      "outputs": [
        {
          "output_type": "execute_result",
          "data": {
            "text/plain": [
              "                                               country  Movie_Count  \\\n",
              "0                                            Argentina         34.0   \n",
              "1    Argentina, Brazil, France, Poland, Germany, De...          1.0   \n",
              "2                                     Argentina, Chile          1.0   \n",
              "3                               Argentina, Chile, Peru          1.0   \n",
              "4                                    Argentina, France          1.0   \n",
              "..                                                 ...          ...   \n",
              "677                                          Venezuela          1.0   \n",
              "678                                Venezuela, Colombia          1.0   \n",
              "679                                            Vietnam          5.0   \n",
              "680                                       West Germany          1.0   \n",
              "681                                           Zimbabwe          1.0   \n",
              "\n",
              "     TV_Show_Count  \n",
              "0             16.0  \n",
              "1              0.0  \n",
              "2              0.0  \n",
              "3              0.0  \n",
              "4              0.0  \n",
              "..             ...  \n",
              "677            0.0  \n",
              "678            0.0  \n",
              "679            0.0  \n",
              "680            0.0  \n",
              "681            0.0  \n",
              "\n",
              "[682 rows x 3 columns]"
            ],
            "text/html": [
              "\n",
              "  <div id=\"df-f8d863b8-be6c-488f-b2e5-6a104f20475c\" class=\"colab-df-container\">\n",
              "    <div>\n",
              "<style scoped>\n",
              "    .dataframe tbody tr th:only-of-type {\n",
              "        vertical-align: middle;\n",
              "    }\n",
              "\n",
              "    .dataframe tbody tr th {\n",
              "        vertical-align: top;\n",
              "    }\n",
              "\n",
              "    .dataframe thead th {\n",
              "        text-align: right;\n",
              "    }\n",
              "</style>\n",
              "<table border=\"1\" class=\"dataframe\">\n",
              "  <thead>\n",
              "    <tr style=\"text-align: right;\">\n",
              "      <th></th>\n",
              "      <th>country</th>\n",
              "      <th>Movie_Count</th>\n",
              "      <th>TV_Show_Count</th>\n",
              "    </tr>\n",
              "  </thead>\n",
              "  <tbody>\n",
              "    <tr>\n",
              "      <th>0</th>\n",
              "      <td>Argentina</td>\n",
              "      <td>34.0</td>\n",
              "      <td>16.0</td>\n",
              "    </tr>\n",
              "    <tr>\n",
              "      <th>1</th>\n",
              "      <td>Argentina, Brazil, France, Poland, Germany, De...</td>\n",
              "      <td>1.0</td>\n",
              "      <td>0.0</td>\n",
              "    </tr>\n",
              "    <tr>\n",
              "      <th>2</th>\n",
              "      <td>Argentina, Chile</td>\n",
              "      <td>1.0</td>\n",
              "      <td>0.0</td>\n",
              "    </tr>\n",
              "    <tr>\n",
              "      <th>3</th>\n",
              "      <td>Argentina, Chile, Peru</td>\n",
              "      <td>1.0</td>\n",
              "      <td>0.0</td>\n",
              "    </tr>\n",
              "    <tr>\n",
              "      <th>4</th>\n",
              "      <td>Argentina, France</td>\n",
              "      <td>1.0</td>\n",
              "      <td>0.0</td>\n",
              "    </tr>\n",
              "    <tr>\n",
              "      <th>...</th>\n",
              "      <td>...</td>\n",
              "      <td>...</td>\n",
              "      <td>...</td>\n",
              "    </tr>\n",
              "    <tr>\n",
              "      <th>677</th>\n",
              "      <td>Venezuela</td>\n",
              "      <td>1.0</td>\n",
              "      <td>0.0</td>\n",
              "    </tr>\n",
              "    <tr>\n",
              "      <th>678</th>\n",
              "      <td>Venezuela, Colombia</td>\n",
              "      <td>1.0</td>\n",
              "      <td>0.0</td>\n",
              "    </tr>\n",
              "    <tr>\n",
              "      <th>679</th>\n",
              "      <td>Vietnam</td>\n",
              "      <td>5.0</td>\n",
              "      <td>0.0</td>\n",
              "    </tr>\n",
              "    <tr>\n",
              "      <th>680</th>\n",
              "      <td>West Germany</td>\n",
              "      <td>1.0</td>\n",
              "      <td>0.0</td>\n",
              "    </tr>\n",
              "    <tr>\n",
              "      <th>681</th>\n",
              "      <td>Zimbabwe</td>\n",
              "      <td>1.0</td>\n",
              "      <td>0.0</td>\n",
              "    </tr>\n",
              "  </tbody>\n",
              "</table>\n",
              "<p>682 rows × 3 columns</p>\n",
              "</div>\n",
              "    <div class=\"colab-df-buttons\">\n",
              "\n",
              "  <div class=\"colab-df-container\">\n",
              "    <button class=\"colab-df-convert\" onclick=\"convertToInteractive('df-f8d863b8-be6c-488f-b2e5-6a104f20475c')\"\n",
              "            title=\"Convert this dataframe to an interactive table.\"\n",
              "            style=\"display:none;\">\n",
              "\n",
              "  <svg xmlns=\"http://www.w3.org/2000/svg\" height=\"24px\" viewBox=\"0 -960 960 960\">\n",
              "    <path d=\"M120-120v-720h720v720H120Zm60-500h600v-160H180v160Zm220 220h160v-160H400v160Zm0 220h160v-160H400v160ZM180-400h160v-160H180v160Zm440 0h160v-160H620v160ZM180-180h160v-160H180v160Zm440 0h160v-160H620v160Z\"/>\n",
              "  </svg>\n",
              "    </button>\n",
              "\n",
              "  <style>\n",
              "    .colab-df-container {\n",
              "      display:flex;\n",
              "      gap: 12px;\n",
              "    }\n",
              "\n",
              "    .colab-df-convert {\n",
              "      background-color: #E8F0FE;\n",
              "      border: none;\n",
              "      border-radius: 50%;\n",
              "      cursor: pointer;\n",
              "      display: none;\n",
              "      fill: #1967D2;\n",
              "      height: 32px;\n",
              "      padding: 0 0 0 0;\n",
              "      width: 32px;\n",
              "    }\n",
              "\n",
              "    .colab-df-convert:hover {\n",
              "      background-color: #E2EBFA;\n",
              "      box-shadow: 0px 1px 2px rgba(60, 64, 67, 0.3), 0px 1px 3px 1px rgba(60, 64, 67, 0.15);\n",
              "      fill: #174EA6;\n",
              "    }\n",
              "\n",
              "    .colab-df-buttons div {\n",
              "      margin-bottom: 4px;\n",
              "    }\n",
              "\n",
              "    [theme=dark] .colab-df-convert {\n",
              "      background-color: #3B4455;\n",
              "      fill: #D2E3FC;\n",
              "    }\n",
              "\n",
              "    [theme=dark] .colab-df-convert:hover {\n",
              "      background-color: #434B5C;\n",
              "      box-shadow: 0px 1px 3px 1px rgba(0, 0, 0, 0.15);\n",
              "      filter: drop-shadow(0px 1px 2px rgba(0, 0, 0, 0.3));\n",
              "      fill: #FFFFFF;\n",
              "    }\n",
              "  </style>\n",
              "\n",
              "    <script>\n",
              "      const buttonEl =\n",
              "        document.querySelector('#df-f8d863b8-be6c-488f-b2e5-6a104f20475c button.colab-df-convert');\n",
              "      buttonEl.style.display =\n",
              "        google.colab.kernel.accessAllowed ? 'block' : 'none';\n",
              "\n",
              "      async function convertToInteractive(key) {\n",
              "        const element = document.querySelector('#df-f8d863b8-be6c-488f-b2e5-6a104f20475c');\n",
              "        const dataTable =\n",
              "          await google.colab.kernel.invokeFunction('convertToInteractive',\n",
              "                                                    [key], {});\n",
              "        if (!dataTable) return;\n",
              "\n",
              "        const docLinkHtml = 'Like what you see? Visit the ' +\n",
              "          '<a target=\"_blank\" href=https://colab.research.google.com/notebooks/data_table.ipynb>data table notebook</a>'\n",
              "          + ' to learn more about interactive tables.';\n",
              "        element.innerHTML = '';\n",
              "        dataTable['output_type'] = 'display_data';\n",
              "        await google.colab.output.renderOutput(dataTable, element);\n",
              "        const docLink = document.createElement('div');\n",
              "        docLink.innerHTML = docLinkHtml;\n",
              "        element.appendChild(docLink);\n",
              "      }\n",
              "    </script>\n",
              "  </div>\n",
              "\n",
              "\n",
              "    <div id=\"df-aaef8c01-35aa-4002-9776-0169dc6ce399\">\n",
              "      <button class=\"colab-df-quickchart\" onclick=\"quickchart('df-aaef8c01-35aa-4002-9776-0169dc6ce399')\"\n",
              "                title=\"Suggest charts\"\n",
              "                style=\"display:none;\">\n",
              "\n",
              "<svg xmlns=\"http://www.w3.org/2000/svg\" height=\"24px\"viewBox=\"0 0 24 24\"\n",
              "     width=\"24px\">\n",
              "    <g>\n",
              "        <path d=\"M19 3H5c-1.1 0-2 .9-2 2v14c0 1.1.9 2 2 2h14c1.1 0 2-.9 2-2V5c0-1.1-.9-2-2-2zM9 17H7v-7h2v7zm4 0h-2V7h2v10zm4 0h-2v-4h2v4z\"/>\n",
              "    </g>\n",
              "</svg>\n",
              "      </button>\n",
              "\n",
              "<style>\n",
              "  .colab-df-quickchart {\n",
              "      --bg-color: #E8F0FE;\n",
              "      --fill-color: #1967D2;\n",
              "      --hover-bg-color: #E2EBFA;\n",
              "      --hover-fill-color: #174EA6;\n",
              "      --disabled-fill-color: #AAA;\n",
              "      --disabled-bg-color: #DDD;\n",
              "  }\n",
              "\n",
              "  [theme=dark] .colab-df-quickchart {\n",
              "      --bg-color: #3B4455;\n",
              "      --fill-color: #D2E3FC;\n",
              "      --hover-bg-color: #434B5C;\n",
              "      --hover-fill-color: #FFFFFF;\n",
              "      --disabled-bg-color: #3B4455;\n",
              "      --disabled-fill-color: #666;\n",
              "  }\n",
              "\n",
              "  .colab-df-quickchart {\n",
              "    background-color: var(--bg-color);\n",
              "    border: none;\n",
              "    border-radius: 50%;\n",
              "    cursor: pointer;\n",
              "    display: none;\n",
              "    fill: var(--fill-color);\n",
              "    height: 32px;\n",
              "    padding: 0;\n",
              "    width: 32px;\n",
              "  }\n",
              "\n",
              "  .colab-df-quickchart:hover {\n",
              "    background-color: var(--hover-bg-color);\n",
              "    box-shadow: 0 1px 2px rgba(60, 64, 67, 0.3), 0 1px 3px 1px rgba(60, 64, 67, 0.15);\n",
              "    fill: var(--button-hover-fill-color);\n",
              "  }\n",
              "\n",
              "  .colab-df-quickchart-complete:disabled,\n",
              "  .colab-df-quickchart-complete:disabled:hover {\n",
              "    background-color: var(--disabled-bg-color);\n",
              "    fill: var(--disabled-fill-color);\n",
              "    box-shadow: none;\n",
              "  }\n",
              "\n",
              "  .colab-df-spinner {\n",
              "    border: 2px solid var(--fill-color);\n",
              "    border-color: transparent;\n",
              "    border-bottom-color: var(--fill-color);\n",
              "    animation:\n",
              "      spin 1s steps(1) infinite;\n",
              "  }\n",
              "\n",
              "  @keyframes spin {\n",
              "    0% {\n",
              "      border-color: transparent;\n",
              "      border-bottom-color: var(--fill-color);\n",
              "      border-left-color: var(--fill-color);\n",
              "    }\n",
              "    20% {\n",
              "      border-color: transparent;\n",
              "      border-left-color: var(--fill-color);\n",
              "      border-top-color: var(--fill-color);\n",
              "    }\n",
              "    30% {\n",
              "      border-color: transparent;\n",
              "      border-left-color: var(--fill-color);\n",
              "      border-top-color: var(--fill-color);\n",
              "      border-right-color: var(--fill-color);\n",
              "    }\n",
              "    40% {\n",
              "      border-color: transparent;\n",
              "      border-right-color: var(--fill-color);\n",
              "      border-top-color: var(--fill-color);\n",
              "    }\n",
              "    60% {\n",
              "      border-color: transparent;\n",
              "      border-right-color: var(--fill-color);\n",
              "    }\n",
              "    80% {\n",
              "      border-color: transparent;\n",
              "      border-right-color: var(--fill-color);\n",
              "      border-bottom-color: var(--fill-color);\n",
              "    }\n",
              "    90% {\n",
              "      border-color: transparent;\n",
              "      border-bottom-color: var(--fill-color);\n",
              "    }\n",
              "  }\n",
              "</style>\n",
              "\n",
              "      <script>\n",
              "        async function quickchart(key) {\n",
              "          const quickchartButtonEl =\n",
              "            document.querySelector('#' + key + ' button');\n",
              "          quickchartButtonEl.disabled = true;  // To prevent multiple clicks.\n",
              "          quickchartButtonEl.classList.add('colab-df-spinner');\n",
              "          try {\n",
              "            const charts = await google.colab.kernel.invokeFunction(\n",
              "                'suggestCharts', [key], {});\n",
              "          } catch (error) {\n",
              "            console.error('Error during call to suggestCharts:', error);\n",
              "          }\n",
              "          quickchartButtonEl.classList.remove('colab-df-spinner');\n",
              "          quickchartButtonEl.classList.add('colab-df-quickchart-complete');\n",
              "        }\n",
              "        (() => {\n",
              "          let quickchartButtonEl =\n",
              "            document.querySelector('#df-aaef8c01-35aa-4002-9776-0169dc6ce399 button');\n",
              "          quickchartButtonEl.style.display =\n",
              "            google.colab.kernel.accessAllowed ? 'block' : 'none';\n",
              "        })();\n",
              "      </script>\n",
              "    </div>\n",
              "\n",
              "    </div>\n",
              "  </div>\n"
            ],
            "application/vnd.google.colaboratory.intrinsic+json": {
              "type": "dataframe",
              "summary": "{\n  \"name\": \"content_by_country[['country', 'Movie_Count', 'TV_Show_Count']]\",\n  \"rows\": 682,\n  \"fields\": [\n    {\n      \"column\": \"country\",\n      \"properties\": {\n        \"dtype\": \"string\",\n        \"num_unique_values\": 682,\n        \"samples\": [\n          \"Japan, Canada\",\n          \"Finland, Sweden, Norway, Latvia, Germany\",\n          \"Germany, United States, Hong Kong, Singapore\"\n        ],\n        \"semantic_type\": \"\",\n        \"description\": \"\"\n      }\n    },\n    {\n      \"column\": \"Movie_Count\",\n      \"properties\": {\n        \"dtype\": \"number\",\n        \"std\": 79.29470532247775,\n        \"min\": 0.0,\n        \"max\": 1850.0,\n        \"num_unique_values\": 44,\n        \"samples\": [\n          35.0,\n          68.0,\n          28.0\n        ],\n        \"semantic_type\": \"\",\n        \"description\": \"\"\n      }\n    },\n    {\n      \"column\": \"TV_Show_Count\",\n      \"properties\": {\n        \"dtype\": \"number\",\n        \"std\": 31.610741040104042,\n        \"min\": 0.0,\n        \"max\": 705.0,\n        \"num_unique_values\": 32,\n        \"samples\": [\n          204.0,\n          71.0,\n          147.0\n        ],\n        \"semantic_type\": \"\",\n        \"description\": \"\"\n      }\n    }\n  ]\n}"
            }
          },
          "metadata": {},
          "execution_count": 33
        }
      ]
    },
    {
      "cell_type": "markdown",
      "source": [
        "#### **Genre Analysis** by Country"
      ],
      "metadata": {
        "id": "8xYuA6BmWVOB"
      }
    },
    {
      "cell_type": "code",
      "source": [
        "# Pre-process the genre (listed_in) column: split and explode it\n",
        "df_genres = df.copy()\n",
        "df_genres['listed_in'] = df_genres['listed_in'].astype(str).str.split(',')\n",
        "df_genres = df_genres.explode('listed_in')\n",
        "df_genres['listed_in'] = df_genres['listed_in'].str.strip()\n",
        "\n",
        "# Group by country and genre to get counts\n",
        "genre_by_country = df_genres.groupby(['country', 'listed_in']).size().reset_index(name='count')\n",
        "\n",
        "# Optionally focus on the top 15 countries (from previous analysis)\n",
        "top_country_list = top_15_countries['country'].tolist()\n",
        "genre_top = genre_by_country[genre_by_country['country'].isin(top_country_list)]\n",
        "\n",
        "# Visualize using a Treemap chart\n",
        "fig_treemap = px.treemap(\n",
        "    genre_top,\n",
        "    path=['country', 'listed_in'],  # Hierarchical levels: country -> genre\n",
        "    values='count',                  # Size of each rectangle corresponds to the count\n",
        "    title=\"Genre Distribution in Top Countries (Treemap)\"\n",
        ")\n",
        "fig_treemap.show()"
      ],
      "metadata": {
        "colab": {
          "base_uri": "https://localhost:8080/",
          "height": 542
        },
        "id": "vCD2HsLrWXA8",
        "outputId": "1cecf321-703d-4245-906f-a478793bf845"
      },
      "execution_count": 34,
      "outputs": [
        {
          "output_type": "display_data",
          "data": {
            "text/html": [
              "<html>\n",
              "<head><meta charset=\"utf-8\" /></head>\n",
              "<body>\n",
              "    <div>            <script src=\"https://cdnjs.cloudflare.com/ajax/libs/mathjax/2.7.5/MathJax.js?config=TeX-AMS-MML_SVG\"></script><script type=\"text/javascript\">if (window.MathJax && window.MathJax.Hub && window.MathJax.Hub.Config) {window.MathJax.Hub.Config({SVG: {font: \"STIX-Web\"}});}</script>                <script type=\"text/javascript\">window.PlotlyConfig = {MathJaxConfig: 'local'};</script>\n",
              "        <script charset=\"utf-8\" src=\"https://cdn.plot.ly/plotly-2.35.2.min.js\"></script>                <div id=\"b5461603-a0b0-4bb6-8db4-a324b8999d5f\" class=\"plotly-graph-div\" style=\"height:525px; width:100%;\"></div>            <script type=\"text/javascript\">                                    window.PLOTLYENV=window.PLOTLYENV || {};                                    if (document.getElementById(\"b5461603-a0b0-4bb6-8db4-a324b8999d5f\")) {                    Plotly.newPlot(                        \"b5461603-a0b0-4bb6-8db4-a324b8999d5f\",                        [{\"branchvalues\":\"total\",\"domain\":{\"x\":[0.0,1.0],\"y\":[0.0,1.0]},\"hovertemplate\":\"labels=%{label}\\u003cbr\\u003ecount=%{value}\\u003cbr\\u003eparent=%{parent}\\u003cbr\\u003eid=%{id}\\u003cextra\\u003e\\u003c\\u002fextra\\u003e\",\"ids\":[\"Canada\\u002fAction & Adventure\",\"Egypt\\u002fAction & Adventure\",\"France\\u002fAction & Adventure\",\"India\\u002fAction & Adventure\",\"Indonesia\\u002fAction & Adventure\",\"Japan\\u002fAction & Adventure\",\"Mexico\\u002fAction & Adventure\",\"Nigeria\\u002fAction & Adventure\",\"Not available\\u002fAction & Adventure\",\"Philippines\\u002fAction & Adventure\",\"Spain\\u002fAction & Adventure\",\"Turkey\\u002fAction & Adventure\",\"United Kingdom\\u002fAction & Adventure\",\"United Kingdom, United States\\u002fAction & Adventure\",\"United States\\u002fAction & Adventure\",\"Japan\\u002fAnime Features\",\"United States\\u002fAnime Features\",\"Japan\\u002fAnime Series\",\"Not available\\u002fAnime Series\",\"Spain\\u002fAnime Series\",\"United States\\u002fAnime Series\",\"India\\u002fBritish TV Shows\",\"Not available\\u002fBritish TV Shows\",\"United Kingdom\\u002fBritish TV Shows\",\"United Kingdom, United States\\u002fBritish TV Shows\",\"United States\\u002fBritish TV Shows\",\"Canada\\u002fChildren & Family Movies\",\"Egypt\\u002fChildren & Family Movies\",\"France\\u002fChildren & Family Movies\",\"India\\u002fChildren & Family Movies\",\"Indonesia\\u002fChildren & Family Movies\",\"Japan\\u002fChildren & Family Movies\",\"Mexico\\u002fChildren & Family Movies\",\"Not available\\u002fChildren & Family Movies\",\"Spain\\u002fChildren & Family Movies\",\"Turkey\\u002fChildren & Family Movies\",\"United Kingdom\\u002fChildren & Family Movies\",\"United Kingdom, United States\\u002fChildren & Family Movies\",\"United States\\u002fChildren & Family Movies\",\"Canada\\u002fClassic & Cult TV\",\"Mexico\\u002fClassic & Cult TV\",\"United Kingdom\\u002fClassic & Cult TV\",\"United Kingdom, United States\\u002fClassic & Cult TV\",\"United States\\u002fClassic & Cult TV\",\"Egypt\\u002fClassic Movies\",\"India\\u002fClassic Movies\",\"Japan\\u002fClassic Movies\",\"Mexico\\u002fClassic Movies\",\"United Kingdom\\u002fClassic Movies\",\"United Kingdom, United States\\u002fClassic Movies\",\"United States\\u002fClassic Movies\",\"Canada\\u002fComedies\",\"Egypt\\u002fComedies\",\"France\\u002fComedies\",\"India\\u002fComedies\",\"Indonesia\\u002fComedies\",\"Mexico\\u002fComedies\",\"Nigeria\\u002fComedies\",\"Not available\\u002fComedies\",\"Philippines\\u002fComedies\",\"Spain\\u002fComedies\",\"Turkey\\u002fComedies\",\"United Kingdom\\u002fComedies\",\"United Kingdom, United States\\u002fComedies\",\"United States\\u002fComedies\",\"Canada\\u002fCrime TV Shows\",\"Egypt\\u002fCrime TV Shows\",\"France\\u002fCrime TV Shows\",\"India\\u002fCrime TV Shows\",\"Japan\\u002fCrime TV Shows\",\"Mexico\\u002fCrime TV Shows\",\"Not available\\u002fCrime TV Shows\",\"Spain\\u002fCrime TV Shows\",\"Turkey\\u002fCrime TV Shows\",\"United Kingdom\\u002fCrime TV Shows\",\"United Kingdom, United States\\u002fCrime TV Shows\",\"United States\\u002fCrime TV Shows\",\"Canada\\u002fCult Movies\",\"India\\u002fCult Movies\",\"United Kingdom\\u002fCult Movies\",\"United Kingdom, United States\\u002fCult Movies\",\"United States\\u002fCult Movies\",\"Canada\\u002fDocumentaries\",\"France\\u002fDocumentaries\",\"India\\u002fDocumentaries\",\"Indonesia\\u002fDocumentaries\",\"Mexico\\u002fDocumentaries\",\"Nigeria\\u002fDocumentaries\",\"Not available\\u002fDocumentaries\",\"Spain\\u002fDocumentaries\",\"United Kingdom\\u002fDocumentaries\",\"United Kingdom, United States\\u002fDocumentaries\",\"United States\\u002fDocumentaries\",\"Canada\\u002fDocuseries\",\"France\\u002fDocuseries\",\"India\\u002fDocuseries\",\"Japan\\u002fDocuseries\",\"Mexico\\u002fDocuseries\",\"Not available\\u002fDocuseries\",\"Spain\\u002fDocuseries\",\"United Kingdom\\u002fDocuseries\",\"United Kingdom, United States\\u002fDocuseries\",\"United States\\u002fDocuseries\",\"Canada\\u002fDramas\",\"Egypt\\u002fDramas\",\"France\\u002fDramas\",\"India\\u002fDramas\",\"Indonesia\\u002fDramas\",\"Japan\\u002fDramas\",\"Mexico\\u002fDramas\",\"Nigeria\\u002fDramas\",\"Not available\\u002fDramas\",\"Philippines\\u002fDramas\",\"Spain\\u002fDramas\",\"Turkey\\u002fDramas\",\"United Kingdom\\u002fDramas\",\"United Kingdom, United States\\u002fDramas\",\"United States\\u002fDramas\",\"Canada\\u002fFaith & Spirituality\",\"India\\u002fFaith & Spirituality\",\"Indonesia\\u002fFaith & Spirituality\",\"Not available\\u002fFaith & Spirituality\",\"Spain\\u002fFaith & Spirituality\",\"United Kingdom, United States\\u002fFaith & Spirituality\",\"United States\\u002fFaith & Spirituality\",\"Canada\\u002fHorror Movies\",\"Egypt\\u002fHorror Movies\",\"India\\u002fHorror Movies\",\"Indonesia\\u002fHorror Movies\",\"Japan\\u002fHorror Movies\",\"Mexico\\u002fHorror Movies\",\"Nigeria\\u002fHorror Movies\",\"Not available\\u002fHorror Movies\",\"Philippines\\u002fHorror Movies\",\"Spain\\u002fHorror Movies\",\"Turkey\\u002fHorror Movies\",\"United Kingdom\\u002fHorror Movies\",\"United Kingdom, United States\\u002fHorror Movies\",\"United States\\u002fHorror Movies\",\"Canada\\u002fIndependent Movies\",\"Egypt\\u002fIndependent Movies\",\"France\\u002fIndependent Movies\",\"India\\u002fIndependent Movies\",\"Mexico\\u002fIndependent Movies\",\"Nigeria\\u002fIndependent Movies\",\"Not available\\u002fIndependent Movies\",\"Philippines\\u002fIndependent Movies\",\"Spain\\u002fIndependent Movies\",\"Turkey\\u002fIndependent Movies\",\"United Kingdom\\u002fIndependent Movies\",\"United Kingdom, United States\\u002fIndependent Movies\",\"United States\\u002fIndependent Movies\",\"Canada\\u002fInternational Movies\",\"Egypt\\u002fInternational Movies\",\"France\\u002fInternational Movies\",\"India\\u002fInternational Movies\",\"Indonesia\\u002fInternational Movies\",\"Japan\\u002fInternational Movies\",\"Mexico\\u002fInternational Movies\",\"Nigeria\\u002fInternational Movies\",\"Not available\\u002fInternational Movies\",\"Philippines\\u002fInternational Movies\",\"Spain\\u002fInternational Movies\",\"Turkey\\u002fInternational Movies\",\"United Kingdom\\u002fInternational Movies\",\"United Kingdom, United States\\u002fInternational Movies\",\"United States\\u002fInternational Movies\",\"Canada\\u002fInternational TV Shows\",\"Egypt\\u002fInternational TV Shows\",\"France\\u002fInternational TV Shows\",\"India\\u002fInternational TV Shows\",\"Indonesia\\u002fInternational TV Shows\",\"Japan\\u002fInternational TV Shows\",\"Mexico\\u002fInternational TV Shows\",\"Nigeria\\u002fInternational TV Shows\",\"Not available\\u002fInternational TV Shows\",\"Philippines\\u002fInternational TV Shows\",\"Spain\\u002fInternational TV Shows\",\"Turkey\\u002fInternational TV Shows\",\"United Kingdom\\u002fInternational TV Shows\",\"United Kingdom, United States\\u002fInternational TV Shows\",\"United States\\u002fInternational TV Shows\",\"Canada\\u002fKids' TV\",\"France\\u002fKids' TV\",\"India\\u002fKids' TV\",\"Japan\\u002fKids' TV\",\"Mexico\\u002fKids' TV\",\"Not available\\u002fKids' TV\",\"Spain\\u002fKids' TV\",\"United Kingdom\\u002fKids' TV\",\"United Kingdom, United States\\u002fKids' TV\",\"United States\\u002fKids' TV\",\"Canada\\u002fKorean TV Shows\",\"Not available\\u002fKorean TV Shows\",\"United States\\u002fKorean TV Shows\",\"Canada\\u002fLGBTQ Movies\",\"France\\u002fLGBTQ Movies\",\"India\\u002fLGBTQ Movies\",\"Mexico\\u002fLGBTQ Movies\",\"Not available\\u002fLGBTQ Movies\",\"Philippines\\u002fLGBTQ Movies\",\"Spain\\u002fLGBTQ Movies\",\"United Kingdom\\u002fLGBTQ Movies\",\"United States\\u002fLGBTQ Movies\",\"Canada\\u002fMovies\",\"Japan\\u002fMovies\",\"Not available\\u002fMovies\",\"Spain\\u002fMovies\",\"United Kingdom\\u002fMovies\",\"United States\\u002fMovies\",\"Canada\\u002fMusic & Musicals\",\"Egypt\\u002fMusic & Musicals\",\"France\\u002fMusic & Musicals\",\"India\\u002fMusic & Musicals\",\"Indonesia\\u002fMusic & Musicals\",\"Japan\\u002fMusic & Musicals\",\"Mexico\\u002fMusic & Musicals\",\"Nigeria\\u002fMusic & Musicals\",\"Not available\\u002fMusic & Musicals\",\"Philippines\\u002fMusic & Musicals\",\"Spain\\u002fMusic & Musicals\",\"Turkey\\u002fMusic & Musicals\",\"United Kingdom\\u002fMusic & Musicals\",\"United Kingdom, United States\\u002fMusic & Musicals\",\"United States\\u002fMusic & Musicals\",\"Canada\\u002fReality TV\",\"France\\u002fReality TV\",\"India\\u002fReality TV\",\"Japan\\u002fReality TV\",\"Not available\\u002fReality TV\",\"Spain\\u002fReality TV\",\"United Kingdom\\u002fReality TV\",\"United States\\u002fReality TV\",\"Canada\\u002fRomantic Movies\",\"Egypt\\u002fRomantic Movies\",\"France\\u002fRomantic Movies\",\"India\\u002fRomantic Movies\",\"Indonesia\\u002fRomantic Movies\",\"Japan\\u002fRomantic Movies\",\"Mexico\\u002fRomantic Movies\",\"Nigeria\\u002fRomantic Movies\",\"Not available\\u002fRomantic Movies\",\"Philippines\\u002fRomantic Movies\",\"Spain\\u002fRomantic Movies\",\"Turkey\\u002fRomantic Movies\",\"United Kingdom\\u002fRomantic Movies\",\"United Kingdom, United States\\u002fRomantic Movies\",\"United States\\u002fRomantic Movies\",\"Canada\\u002fRomantic TV Shows\",\"Egypt\\u002fRomantic TV Shows\",\"France\\u002fRomantic TV Shows\",\"India\\u002fRomantic TV Shows\",\"Indonesia\\u002fRomantic TV Shows\",\"Japan\\u002fRomantic TV Shows\",\"Mexico\\u002fRomantic TV Shows\",\"Nigeria\\u002fRomantic TV Shows\",\"Not available\\u002fRomantic TV Shows\",\"Spain\\u002fRomantic TV Shows\",\"Turkey\\u002fRomantic TV Shows\",\"United Kingdom\\u002fRomantic TV Shows\",\"United States\\u002fRomantic TV Shows\",\"Canada\\u002fSci-Fi & Fantasy\",\"France\\u002fSci-Fi & Fantasy\",\"India\\u002fSci-Fi & Fantasy\",\"Japan\\u002fSci-Fi & Fantasy\",\"Mexico\\u002fSci-Fi & Fantasy\",\"Not available\\u002fSci-Fi & Fantasy\",\"Spain\\u002fSci-Fi & Fantasy\",\"United Kingdom\\u002fSci-Fi & Fantasy\",\"United Kingdom, United States\\u002fSci-Fi & Fantasy\",\"United States\\u002fSci-Fi & Fantasy\",\"Canada\\u002fScience & Nature TV\",\"Not available\\u002fScience & Nature TV\",\"United Kingdom\\u002fScience & Nature TV\",\"United Kingdom, United States\\u002fScience & Nature TV\",\"United States\\u002fScience & Nature TV\",\"Mexico\\u002fSpanish-Language TV Shows\",\"Not available\\u002fSpanish-Language TV Shows\",\"Spain\\u002fSpanish-Language TV Shows\",\"United States\\u002fSpanish-Language TV Shows\",\"Canada\\u002fSports Movies\",\"Egypt\\u002fSports Movies\",\"France\\u002fSports Movies\",\"India\\u002fSports Movies\",\"Indonesia\\u002fSports Movies\",\"Mexico\\u002fSports Movies\",\"Not available\\u002fSports Movies\",\"Philippines\\u002fSports Movies\",\"Spain\\u002fSports Movies\",\"Turkey\\u002fSports Movies\",\"United Kingdom\\u002fSports Movies\",\"United States\\u002fSports Movies\",\"Canada\\u002fStand-Up Comedy\",\"France\\u002fStand-Up Comedy\",\"India\\u002fStand-Up Comedy\",\"Mexico\\u002fStand-Up Comedy\",\"Not available\\u002fStand-Up Comedy\",\"United Kingdom\\u002fStand-Up Comedy\",\"United States\\u002fStand-Up Comedy\",\"France\\u002fStand-Up Comedy & Talk Shows\",\"India\\u002fStand-Up Comedy & Talk Shows\",\"Japan\\u002fStand-Up Comedy & Talk Shows\",\"Mexico\\u002fStand-Up Comedy & Talk Shows\",\"Not available\\u002fStand-Up Comedy & Talk Shows\",\"United Kingdom\\u002fStand-Up Comedy & Talk Shows\",\"United States\\u002fStand-Up Comedy & Talk Shows\",\"Canada\\u002fTV Action & Adventure\",\"France\\u002fTV Action & Adventure\",\"India\\u002fTV Action & Adventure\",\"Japan\\u002fTV Action & Adventure\",\"Mexico\\u002fTV Action & Adventure\",\"Not available\\u002fTV Action & Adventure\",\"Spain\\u002fTV Action & Adventure\",\"Turkey\\u002fTV Action & Adventure\",\"United Kingdom\\u002fTV Action & Adventure\",\"United Kingdom, United States\\u002fTV Action & Adventure\",\"United States\\u002fTV Action & Adventure\",\"Canada\\u002fTV Comedies\",\"Egypt\\u002fTV Comedies\",\"France\\u002fTV Comedies\",\"India\\u002fTV Comedies\",\"Indonesia\\u002fTV Comedies\",\"Japan\\u002fTV Comedies\",\"Mexico\\u002fTV Comedies\",\"Nigeria\\u002fTV Comedies\",\"Not available\\u002fTV Comedies\",\"Spain\\u002fTV Comedies\",\"Turkey\\u002fTV Comedies\",\"United Kingdom\\u002fTV Comedies\",\"United Kingdom, United States\\u002fTV Comedies\",\"United States\\u002fTV Comedies\",\"Canada\\u002fTV Dramas\",\"Egypt\\u002fTV Dramas\",\"France\\u002fTV Dramas\",\"India\\u002fTV Dramas\",\"Indonesia\\u002fTV Dramas\",\"Japan\\u002fTV Dramas\",\"Mexico\\u002fTV Dramas\",\"Nigeria\\u002fTV Dramas\",\"Not available\\u002fTV Dramas\",\"Philippines\\u002fTV Dramas\",\"Spain\\u002fTV Dramas\",\"Turkey\\u002fTV Dramas\",\"United Kingdom\\u002fTV Dramas\",\"United Kingdom, United States\\u002fTV Dramas\",\"United States\\u002fTV Dramas\",\"Canada\\u002fTV Horror\",\"Egypt\\u002fTV Horror\",\"France\\u002fTV Horror\",\"India\\u002fTV Horror\",\"Japan\\u002fTV Horror\",\"Not available\\u002fTV Horror\",\"Turkey\\u002fTV Horror\",\"United Kingdom\\u002fTV Horror\",\"United States\\u002fTV Horror\",\"Canada\\u002fTV Mysteries\",\"Egypt\\u002fTV Mysteries\",\"France\\u002fTV Mysteries\",\"India\\u002fTV Mysteries\",\"Japan\\u002fTV Mysteries\",\"Not available\\u002fTV Mysteries\",\"Turkey\\u002fTV Mysteries\",\"United Kingdom\\u002fTV Mysteries\",\"United States\\u002fTV Mysteries\",\"Canada\\u002fTV Sci-Fi & Fantasy\",\"Egypt\\u002fTV Sci-Fi & Fantasy\",\"India\\u002fTV Sci-Fi & Fantasy\",\"Not available\\u002fTV Sci-Fi & Fantasy\",\"United Kingdom\\u002fTV Sci-Fi & Fantasy\",\"United Kingdom, United States\\u002fTV Sci-Fi & Fantasy\",\"United States\\u002fTV Sci-Fi & Fantasy\",\"India\\u002fTV Shows\",\"Japan\\u002fTV Shows\",\"Not available\\u002fTV Shows\",\"United States\\u002fTV Shows\",\"Canada\\u002fTV Thrillers\",\"France\\u002fTV Thrillers\",\"India\\u002fTV Thrillers\",\"Japan\\u002fTV Thrillers\",\"Not available\\u002fTV Thrillers\",\"Turkey\\u002fTV Thrillers\",\"United Kingdom\\u002fTV Thrillers\",\"United States\\u002fTV Thrillers\",\"Canada\\u002fTeen TV Shows\",\"India\\u002fTeen TV Shows\",\"Japan\\u002fTeen TV Shows\",\"Not available\\u002fTeen TV Shows\",\"Spain\\u002fTeen TV Shows\",\"Turkey\\u002fTeen TV Shows\",\"United States\\u002fTeen TV Shows\",\"Canada\\u002fThrillers\",\"Egypt\\u002fThrillers\",\"France\\u002fThrillers\",\"India\\u002fThrillers\",\"Japan\\u002fThrillers\",\"Mexico\\u002fThrillers\",\"Nigeria\\u002fThrillers\",\"Not available\\u002fThrillers\",\"Spain\\u002fThrillers\",\"Turkey\\u002fThrillers\",\"United Kingdom\\u002fThrillers\",\"United Kingdom, United States\\u002fThrillers\",\"United States\\u002fThrillers\",\"Canada\",\"Egypt\",\"France\",\"India\",\"Indonesia\",\"Japan\",\"Mexico\",\"Nigeria\",\"Not available\",\"Philippines\",\"Spain\",\"Turkey\",\"United Kingdom\",\"United Kingdom, United States\",\"United States\"],\"labels\":[\"Action & Adventure\",\"Action & Adventure\",\"Action & Adventure\",\"Action & Adventure\",\"Action & Adventure\",\"Action & Adventure\",\"Action & Adventure\",\"Action & Adventure\",\"Action & Adventure\",\"Action & Adventure\",\"Action & Adventure\",\"Action & Adventure\",\"Action & Adventure\",\"Action & Adventure\",\"Action & Adventure\",\"Anime Features\",\"Anime Features\",\"Anime Series\",\"Anime Series\",\"Anime Series\",\"Anime Series\",\"British TV Shows\",\"British TV Shows\",\"British TV Shows\",\"British TV Shows\",\"British TV Shows\",\"Children & Family Movies\",\"Children & Family Movies\",\"Children & Family Movies\",\"Children & Family Movies\",\"Children & Family Movies\",\"Children & Family Movies\",\"Children & Family Movies\",\"Children & Family Movies\",\"Children & Family Movies\",\"Children & Family Movies\",\"Children & Family Movies\",\"Children & Family Movies\",\"Children & Family Movies\",\"Classic & Cult TV\",\"Classic & Cult TV\",\"Classic & Cult TV\",\"Classic & Cult TV\",\"Classic & Cult TV\",\"Classic Movies\",\"Classic Movies\",\"Classic Movies\",\"Classic Movies\",\"Classic Movies\",\"Classic Movies\",\"Classic Movies\",\"Comedies\",\"Comedies\",\"Comedies\",\"Comedies\",\"Comedies\",\"Comedies\",\"Comedies\",\"Comedies\",\"Comedies\",\"Comedies\",\"Comedies\",\"Comedies\",\"Comedies\",\"Comedies\",\"Crime TV Shows\",\"Crime TV Shows\",\"Crime TV Shows\",\"Crime TV Shows\",\"Crime TV Shows\",\"Crime TV Shows\",\"Crime TV Shows\",\"Crime TV Shows\",\"Crime TV Shows\",\"Crime TV Shows\",\"Crime TV Shows\",\"Crime TV Shows\",\"Cult Movies\",\"Cult Movies\",\"Cult Movies\",\"Cult Movies\",\"Cult Movies\",\"Documentaries\",\"Documentaries\",\"Documentaries\",\"Documentaries\",\"Documentaries\",\"Documentaries\",\"Documentaries\",\"Documentaries\",\"Documentaries\",\"Documentaries\",\"Documentaries\",\"Docuseries\",\"Docuseries\",\"Docuseries\",\"Docuseries\",\"Docuseries\",\"Docuseries\",\"Docuseries\",\"Docuseries\",\"Docuseries\",\"Docuseries\",\"Dramas\",\"Dramas\",\"Dramas\",\"Dramas\",\"Dramas\",\"Dramas\",\"Dramas\",\"Dramas\",\"Dramas\",\"Dramas\",\"Dramas\",\"Dramas\",\"Dramas\",\"Dramas\",\"Dramas\",\"Faith & Spirituality\",\"Faith & Spirituality\",\"Faith & Spirituality\",\"Faith & Spirituality\",\"Faith & Spirituality\",\"Faith & Spirituality\",\"Faith & Spirituality\",\"Horror Movies\",\"Horror Movies\",\"Horror Movies\",\"Horror Movies\",\"Horror Movies\",\"Horror Movies\",\"Horror Movies\",\"Horror Movies\",\"Horror Movies\",\"Horror Movies\",\"Horror Movies\",\"Horror Movies\",\"Horror Movies\",\"Horror Movies\",\"Independent Movies\",\"Independent Movies\",\"Independent Movies\",\"Independent Movies\",\"Independent Movies\",\"Independent Movies\",\"Independent Movies\",\"Independent Movies\",\"Independent Movies\",\"Independent Movies\",\"Independent Movies\",\"Independent Movies\",\"Independent Movies\",\"International Movies\",\"International Movies\",\"International Movies\",\"International Movies\",\"International Movies\",\"International Movies\",\"International Movies\",\"International Movies\",\"International Movies\",\"International Movies\",\"International Movies\",\"International Movies\",\"International Movies\",\"International Movies\",\"International Movies\",\"International TV Shows\",\"International TV Shows\",\"International TV Shows\",\"International TV Shows\",\"International TV Shows\",\"International TV Shows\",\"International TV Shows\",\"International TV Shows\",\"International TV Shows\",\"International TV Shows\",\"International TV Shows\",\"International TV Shows\",\"International TV Shows\",\"International TV Shows\",\"International TV Shows\",\"Kids' TV\",\"Kids' TV\",\"Kids' TV\",\"Kids' TV\",\"Kids' TV\",\"Kids' TV\",\"Kids' TV\",\"Kids' TV\",\"Kids' TV\",\"Kids' TV\",\"Korean TV Shows\",\"Korean TV Shows\",\"Korean TV Shows\",\"LGBTQ Movies\",\"LGBTQ Movies\",\"LGBTQ Movies\",\"LGBTQ Movies\",\"LGBTQ Movies\",\"LGBTQ Movies\",\"LGBTQ Movies\",\"LGBTQ Movies\",\"LGBTQ Movies\",\"Movies\",\"Movies\",\"Movies\",\"Movies\",\"Movies\",\"Movies\",\"Music & Musicals\",\"Music & Musicals\",\"Music & Musicals\",\"Music & Musicals\",\"Music & Musicals\",\"Music & Musicals\",\"Music & Musicals\",\"Music & Musicals\",\"Music & Musicals\",\"Music & Musicals\",\"Music & Musicals\",\"Music & Musicals\",\"Music & Musicals\",\"Music & Musicals\",\"Music & Musicals\",\"Reality TV\",\"Reality TV\",\"Reality TV\",\"Reality TV\",\"Reality TV\",\"Reality TV\",\"Reality TV\",\"Reality TV\",\"Romantic Movies\",\"Romantic Movies\",\"Romantic Movies\",\"Romantic Movies\",\"Romantic Movies\",\"Romantic Movies\",\"Romantic Movies\",\"Romantic Movies\",\"Romantic Movies\",\"Romantic Movies\",\"Romantic Movies\",\"Romantic Movies\",\"Romantic Movies\",\"Romantic Movies\",\"Romantic Movies\",\"Romantic TV Shows\",\"Romantic TV Shows\",\"Romantic TV Shows\",\"Romantic TV Shows\",\"Romantic TV Shows\",\"Romantic TV Shows\",\"Romantic TV Shows\",\"Romantic TV Shows\",\"Romantic TV Shows\",\"Romantic TV Shows\",\"Romantic TV Shows\",\"Romantic TV Shows\",\"Romantic TV Shows\",\"Sci-Fi & Fantasy\",\"Sci-Fi & Fantasy\",\"Sci-Fi & Fantasy\",\"Sci-Fi & Fantasy\",\"Sci-Fi & Fantasy\",\"Sci-Fi & Fantasy\",\"Sci-Fi & Fantasy\",\"Sci-Fi & Fantasy\",\"Sci-Fi & Fantasy\",\"Sci-Fi & Fantasy\",\"Science & Nature TV\",\"Science & Nature TV\",\"Science & Nature TV\",\"Science & Nature TV\",\"Science & Nature TV\",\"Spanish-Language TV Shows\",\"Spanish-Language TV Shows\",\"Spanish-Language TV Shows\",\"Spanish-Language TV Shows\",\"Sports Movies\",\"Sports Movies\",\"Sports Movies\",\"Sports Movies\",\"Sports Movies\",\"Sports Movies\",\"Sports Movies\",\"Sports Movies\",\"Sports Movies\",\"Sports Movies\",\"Sports Movies\",\"Sports Movies\",\"Stand-Up Comedy\",\"Stand-Up Comedy\",\"Stand-Up Comedy\",\"Stand-Up Comedy\",\"Stand-Up Comedy\",\"Stand-Up Comedy\",\"Stand-Up Comedy\",\"Stand-Up Comedy & Talk Shows\",\"Stand-Up Comedy & Talk Shows\",\"Stand-Up Comedy & Talk Shows\",\"Stand-Up Comedy & Talk Shows\",\"Stand-Up Comedy & Talk Shows\",\"Stand-Up Comedy & Talk Shows\",\"Stand-Up Comedy & Talk Shows\",\"TV Action & Adventure\",\"TV Action & Adventure\",\"TV Action & Adventure\",\"TV Action & Adventure\",\"TV Action & Adventure\",\"TV Action & Adventure\",\"TV Action & Adventure\",\"TV Action & Adventure\",\"TV Action & Adventure\",\"TV Action & Adventure\",\"TV Action & Adventure\",\"TV Comedies\",\"TV Comedies\",\"TV Comedies\",\"TV Comedies\",\"TV Comedies\",\"TV Comedies\",\"TV Comedies\",\"TV Comedies\",\"TV Comedies\",\"TV Comedies\",\"TV Comedies\",\"TV Comedies\",\"TV Comedies\",\"TV Comedies\",\"TV Dramas\",\"TV Dramas\",\"TV Dramas\",\"TV Dramas\",\"TV Dramas\",\"TV Dramas\",\"TV Dramas\",\"TV Dramas\",\"TV Dramas\",\"TV Dramas\",\"TV Dramas\",\"TV Dramas\",\"TV Dramas\",\"TV Dramas\",\"TV Dramas\",\"TV Horror\",\"TV Horror\",\"TV Horror\",\"TV Horror\",\"TV Horror\",\"TV Horror\",\"TV Horror\",\"TV Horror\",\"TV Horror\",\"TV Mysteries\",\"TV Mysteries\",\"TV Mysteries\",\"TV Mysteries\",\"TV Mysteries\",\"TV Mysteries\",\"TV Mysteries\",\"TV Mysteries\",\"TV Mysteries\",\"TV Sci-Fi & Fantasy\",\"TV Sci-Fi & Fantasy\",\"TV Sci-Fi & Fantasy\",\"TV Sci-Fi & Fantasy\",\"TV Sci-Fi & Fantasy\",\"TV Sci-Fi & Fantasy\",\"TV Sci-Fi & Fantasy\",\"TV Shows\",\"TV Shows\",\"TV Shows\",\"TV Shows\",\"TV Thrillers\",\"TV Thrillers\",\"TV Thrillers\",\"TV Thrillers\",\"TV Thrillers\",\"TV Thrillers\",\"TV Thrillers\",\"TV Thrillers\",\"Teen TV Shows\",\"Teen TV Shows\",\"Teen TV Shows\",\"Teen TV Shows\",\"Teen TV Shows\",\"Teen TV Shows\",\"Teen TV Shows\",\"Thrillers\",\"Thrillers\",\"Thrillers\",\"Thrillers\",\"Thrillers\",\"Thrillers\",\"Thrillers\",\"Thrillers\",\"Thrillers\",\"Thrillers\",\"Thrillers\",\"Thrillers\",\"Thrillers\",\"Canada\",\"Egypt\",\"France\",\"India\",\"Indonesia\",\"Japan\",\"Mexico\",\"Nigeria\",\"Not available\",\"Philippines\",\"Spain\",\"Turkey\",\"United Kingdom\",\"United Kingdom, United States\",\"United States\"],\"name\":\"\",\"parents\":[\"Canada\",\"Egypt\",\"France\",\"India\",\"Indonesia\",\"Japan\",\"Mexico\",\"Nigeria\",\"Not available\",\"Philippines\",\"Spain\",\"Turkey\",\"United Kingdom\",\"United Kingdom, United States\",\"United States\",\"Japan\",\"United States\",\"Japan\",\"Not available\",\"Spain\",\"United States\",\"India\",\"Not available\",\"United Kingdom\",\"United Kingdom, United States\",\"United States\",\"Canada\",\"Egypt\",\"France\",\"India\",\"Indonesia\",\"Japan\",\"Mexico\",\"Not available\",\"Spain\",\"Turkey\",\"United Kingdom\",\"United Kingdom, United States\",\"United States\",\"Canada\",\"Mexico\",\"United Kingdom\",\"United Kingdom, United States\",\"United States\",\"Egypt\",\"India\",\"Japan\",\"Mexico\",\"United Kingdom\",\"United Kingdom, United States\",\"United States\",\"Canada\",\"Egypt\",\"France\",\"India\",\"Indonesia\",\"Mexico\",\"Nigeria\",\"Not available\",\"Philippines\",\"Spain\",\"Turkey\",\"United Kingdom\",\"United Kingdom, United States\",\"United States\",\"Canada\",\"Egypt\",\"France\",\"India\",\"Japan\",\"Mexico\",\"Not available\",\"Spain\",\"Turkey\",\"United Kingdom\",\"United Kingdom, United States\",\"United States\",\"Canada\",\"India\",\"United Kingdom\",\"United Kingdom, United States\",\"United States\",\"Canada\",\"France\",\"India\",\"Indonesia\",\"Mexico\",\"Nigeria\",\"Not available\",\"Spain\",\"United Kingdom\",\"United Kingdom, United States\",\"United States\",\"Canada\",\"France\",\"India\",\"Japan\",\"Mexico\",\"Not available\",\"Spain\",\"United Kingdom\",\"United Kingdom, United States\",\"United States\",\"Canada\",\"Egypt\",\"France\",\"India\",\"Indonesia\",\"Japan\",\"Mexico\",\"Nigeria\",\"Not available\",\"Philippines\",\"Spain\",\"Turkey\",\"United Kingdom\",\"United Kingdom, United States\",\"United States\",\"Canada\",\"India\",\"Indonesia\",\"Not available\",\"Spain\",\"United Kingdom, United States\",\"United States\",\"Canada\",\"Egypt\",\"India\",\"Indonesia\",\"Japan\",\"Mexico\",\"Nigeria\",\"Not available\",\"Philippines\",\"Spain\",\"Turkey\",\"United Kingdom\",\"United Kingdom, United States\",\"United States\",\"Canada\",\"Egypt\",\"France\",\"India\",\"Mexico\",\"Nigeria\",\"Not available\",\"Philippines\",\"Spain\",\"Turkey\",\"United Kingdom\",\"United Kingdom, United States\",\"United States\",\"Canada\",\"Egypt\",\"France\",\"India\",\"Indonesia\",\"Japan\",\"Mexico\",\"Nigeria\",\"Not available\",\"Philippines\",\"Spain\",\"Turkey\",\"United Kingdom\",\"United Kingdom, United States\",\"United States\",\"Canada\",\"Egypt\",\"France\",\"India\",\"Indonesia\",\"Japan\",\"Mexico\",\"Nigeria\",\"Not available\",\"Philippines\",\"Spain\",\"Turkey\",\"United Kingdom\",\"United Kingdom, United States\",\"United States\",\"Canada\",\"France\",\"India\",\"Japan\",\"Mexico\",\"Not available\",\"Spain\",\"United Kingdom\",\"United Kingdom, United States\",\"United States\",\"Canada\",\"Not available\",\"United States\",\"Canada\",\"France\",\"India\",\"Mexico\",\"Not available\",\"Philippines\",\"Spain\",\"United Kingdom\",\"United States\",\"Canada\",\"Japan\",\"Not available\",\"Spain\",\"United Kingdom\",\"United States\",\"Canada\",\"Egypt\",\"France\",\"India\",\"Indonesia\",\"Japan\",\"Mexico\",\"Nigeria\",\"Not available\",\"Philippines\",\"Spain\",\"Turkey\",\"United Kingdom\",\"United Kingdom, United States\",\"United States\",\"Canada\",\"France\",\"India\",\"Japan\",\"Not available\",\"Spain\",\"United Kingdom\",\"United States\",\"Canada\",\"Egypt\",\"France\",\"India\",\"Indonesia\",\"Japan\",\"Mexico\",\"Nigeria\",\"Not available\",\"Philippines\",\"Spain\",\"Turkey\",\"United Kingdom\",\"United Kingdom, United States\",\"United States\",\"Canada\",\"Egypt\",\"France\",\"India\",\"Indonesia\",\"Japan\",\"Mexico\",\"Nigeria\",\"Not available\",\"Spain\",\"Turkey\",\"United Kingdom\",\"United States\",\"Canada\",\"France\",\"India\",\"Japan\",\"Mexico\",\"Not available\",\"Spain\",\"United Kingdom\",\"United Kingdom, United States\",\"United States\",\"Canada\",\"Not available\",\"United Kingdom\",\"United Kingdom, United States\",\"United States\",\"Mexico\",\"Not available\",\"Spain\",\"United States\",\"Canada\",\"Egypt\",\"France\",\"India\",\"Indonesia\",\"Mexico\",\"Not available\",\"Philippines\",\"Spain\",\"Turkey\",\"United Kingdom\",\"United States\",\"Canada\",\"France\",\"India\",\"Mexico\",\"Not available\",\"United Kingdom\",\"United States\",\"France\",\"India\",\"Japan\",\"Mexico\",\"Not available\",\"United Kingdom\",\"United States\",\"Canada\",\"France\",\"India\",\"Japan\",\"Mexico\",\"Not available\",\"Spain\",\"Turkey\",\"United Kingdom\",\"United Kingdom, United States\",\"United States\",\"Canada\",\"Egypt\",\"France\",\"India\",\"Indonesia\",\"Japan\",\"Mexico\",\"Nigeria\",\"Not available\",\"Spain\",\"Turkey\",\"United Kingdom\",\"United Kingdom, United States\",\"United States\",\"Canada\",\"Egypt\",\"France\",\"India\",\"Indonesia\",\"Japan\",\"Mexico\",\"Nigeria\",\"Not available\",\"Philippines\",\"Spain\",\"Turkey\",\"United Kingdom\",\"United Kingdom, United States\",\"United States\",\"Canada\",\"Egypt\",\"France\",\"India\",\"Japan\",\"Not available\",\"Turkey\",\"United Kingdom\",\"United States\",\"Canada\",\"Egypt\",\"France\",\"India\",\"Japan\",\"Not available\",\"Turkey\",\"United Kingdom\",\"United States\",\"Canada\",\"Egypt\",\"India\",\"Not available\",\"United Kingdom\",\"United Kingdom, United States\",\"United States\",\"India\",\"Japan\",\"Not available\",\"United States\",\"Canada\",\"France\",\"India\",\"Japan\",\"Not available\",\"Turkey\",\"United Kingdom\",\"United States\",\"Canada\",\"India\",\"Japan\",\"Not available\",\"Spain\",\"Turkey\",\"United States\",\"Canada\",\"Egypt\",\"France\",\"India\",\"Japan\",\"Mexico\",\"Nigeria\",\"Not available\",\"Spain\",\"Turkey\",\"United Kingdom\",\"United Kingdom, United States\",\"United States\",\"\",\"\",\"\",\"\",\"\",\"\",\"\",\"\",\"\",\"\",\"\",\"\",\"\",\"\",\"\"],\"values\":[12,14,12,124,3,42,2,2,15,5,3,3,19,12,196,52,1,121,10,1,5,1,12,187,7,4,29,1,1,16,5,11,1,53,1,2,7,7,252,1,2,6,1,14,6,11,1,1,3,4,53,38,57,17,293,13,16,27,42,27,31,56,31,13,458,9,1,12,8,14,18,31,20,10,36,5,105,3,5,3,1,32,20,22,18,1,10,1,44,16,79,3,381,8,5,7,1,2,39,4,79,3,163,21,34,29,589,50,9,22,39,44,42,35,24,37,21,517,1,3,5,2,2,1,28,7,3,31,10,1,4,2,6,3,3,3,9,3,126,15,1,8,129,12,5,3,2,11,2,24,9,284,25,87,63,785,64,48,46,59,95,70,83,71,61,9,17,18,12,30,59,2,129,32,8,156,1,43,27,102,4,26,20,15,10,12,3,70,2,18,1,132,1,15,1,3,1,2,1,1,2,2,3,52,4,1,19,1,2,22,4,3,5,90,1,3,3,1,23,1,4,1,13,5,100,9,2,3,6,33,2,32,103,15,11,4,111,21,3,6,13,10,35,9,22,3,9,147,1,3,2,9,1,20,4,2,52,9,5,9,33,5,1,10,7,2,1,2,6,2,101,3,6,21,1,38,29,15,34,12,6,1,7,15,4,1,9,1,3,2,13,82,2,4,6,17,29,20,211,1,3,1,1,7,1,33,2,2,5,4,1,9,2,5,3,1,67,14,3,14,25,1,6,3,2,55,5,3,37,2,219,18,10,19,24,2,20,5,6,81,1,9,22,21,3,181,3,1,3,7,4,1,1,1,27,3,2,2,3,4,1,2,1,37,2,1,3,3,1,1,42,2,1,5,3,4,2,3,4,1,2,1,21,2,1,14,1,1,1,29,11,4,3,85,1,1,10,11,18,2,15,5,168,339,255,286,2496,183,540,245,177,1010,190,356,266,904,133,4523],\"type\":\"treemap\"}],                        {\"template\":{\"data\":{\"histogram2dcontour\":[{\"type\":\"histogram2dcontour\",\"colorbar\":{\"outlinewidth\":0,\"ticks\":\"\"},\"colorscale\":[[0.0,\"#0d0887\"],[0.1111111111111111,\"#46039f\"],[0.2222222222222222,\"#7201a8\"],[0.3333333333333333,\"#9c179e\"],[0.4444444444444444,\"#bd3786\"],[0.5555555555555556,\"#d8576b\"],[0.6666666666666666,\"#ed7953\"],[0.7777777777777778,\"#fb9f3a\"],[0.8888888888888888,\"#fdca26\"],[1.0,\"#f0f921\"]]}],\"choropleth\":[{\"type\":\"choropleth\",\"colorbar\":{\"outlinewidth\":0,\"ticks\":\"\"}}],\"histogram2d\":[{\"type\":\"histogram2d\",\"colorbar\":{\"outlinewidth\":0,\"ticks\":\"\"},\"colorscale\":[[0.0,\"#0d0887\"],[0.1111111111111111,\"#46039f\"],[0.2222222222222222,\"#7201a8\"],[0.3333333333333333,\"#9c179e\"],[0.4444444444444444,\"#bd3786\"],[0.5555555555555556,\"#d8576b\"],[0.6666666666666666,\"#ed7953\"],[0.7777777777777778,\"#fb9f3a\"],[0.8888888888888888,\"#fdca26\"],[1.0,\"#f0f921\"]]}],\"heatmap\":[{\"type\":\"heatmap\",\"colorbar\":{\"outlinewidth\":0,\"ticks\":\"\"},\"colorscale\":[[0.0,\"#0d0887\"],[0.1111111111111111,\"#46039f\"],[0.2222222222222222,\"#7201a8\"],[0.3333333333333333,\"#9c179e\"],[0.4444444444444444,\"#bd3786\"],[0.5555555555555556,\"#d8576b\"],[0.6666666666666666,\"#ed7953\"],[0.7777777777777778,\"#fb9f3a\"],[0.8888888888888888,\"#fdca26\"],[1.0,\"#f0f921\"]]}],\"heatmapgl\":[{\"type\":\"heatmapgl\",\"colorbar\":{\"outlinewidth\":0,\"ticks\":\"\"},\"colorscale\":[[0.0,\"#0d0887\"],[0.1111111111111111,\"#46039f\"],[0.2222222222222222,\"#7201a8\"],[0.3333333333333333,\"#9c179e\"],[0.4444444444444444,\"#bd3786\"],[0.5555555555555556,\"#d8576b\"],[0.6666666666666666,\"#ed7953\"],[0.7777777777777778,\"#fb9f3a\"],[0.8888888888888888,\"#fdca26\"],[1.0,\"#f0f921\"]]}],\"contourcarpet\":[{\"type\":\"contourcarpet\",\"colorbar\":{\"outlinewidth\":0,\"ticks\":\"\"}}],\"contour\":[{\"type\":\"contour\",\"colorbar\":{\"outlinewidth\":0,\"ticks\":\"\"},\"colorscale\":[[0.0,\"#0d0887\"],[0.1111111111111111,\"#46039f\"],[0.2222222222222222,\"#7201a8\"],[0.3333333333333333,\"#9c179e\"],[0.4444444444444444,\"#bd3786\"],[0.5555555555555556,\"#d8576b\"],[0.6666666666666666,\"#ed7953\"],[0.7777777777777778,\"#fb9f3a\"],[0.8888888888888888,\"#fdca26\"],[1.0,\"#f0f921\"]]}],\"surface\":[{\"type\":\"surface\",\"colorbar\":{\"outlinewidth\":0,\"ticks\":\"\"},\"colorscale\":[[0.0,\"#0d0887\"],[0.1111111111111111,\"#46039f\"],[0.2222222222222222,\"#7201a8\"],[0.3333333333333333,\"#9c179e\"],[0.4444444444444444,\"#bd3786\"],[0.5555555555555556,\"#d8576b\"],[0.6666666666666666,\"#ed7953\"],[0.7777777777777778,\"#fb9f3a\"],[0.8888888888888888,\"#fdca26\"],[1.0,\"#f0f921\"]]}],\"mesh3d\":[{\"type\":\"mesh3d\",\"colorbar\":{\"outlinewidth\":0,\"ticks\":\"\"}}],\"scatter\":[{\"fillpattern\":{\"fillmode\":\"overlay\",\"size\":10,\"solidity\":0.2},\"type\":\"scatter\"}],\"parcoords\":[{\"type\":\"parcoords\",\"line\":{\"colorbar\":{\"outlinewidth\":0,\"ticks\":\"\"}}}],\"scatterpolargl\":[{\"type\":\"scatterpolargl\",\"marker\":{\"colorbar\":{\"outlinewidth\":0,\"ticks\":\"\"}}}],\"bar\":[{\"error_x\":{\"color\":\"#2a3f5f\"},\"error_y\":{\"color\":\"#2a3f5f\"},\"marker\":{\"line\":{\"color\":\"#E5ECF6\",\"width\":0.5},\"pattern\":{\"fillmode\":\"overlay\",\"size\":10,\"solidity\":0.2}},\"type\":\"bar\"}],\"scattergeo\":[{\"type\":\"scattergeo\",\"marker\":{\"colorbar\":{\"outlinewidth\":0,\"ticks\":\"\"}}}],\"scatterpolar\":[{\"type\":\"scatterpolar\",\"marker\":{\"colorbar\":{\"outlinewidth\":0,\"ticks\":\"\"}}}],\"histogram\":[{\"marker\":{\"pattern\":{\"fillmode\":\"overlay\",\"size\":10,\"solidity\":0.2}},\"type\":\"histogram\"}],\"scattergl\":[{\"type\":\"scattergl\",\"marker\":{\"colorbar\":{\"outlinewidth\":0,\"ticks\":\"\"}}}],\"scatter3d\":[{\"type\":\"scatter3d\",\"line\":{\"colorbar\":{\"outlinewidth\":0,\"ticks\":\"\"}},\"marker\":{\"colorbar\":{\"outlinewidth\":0,\"ticks\":\"\"}}}],\"scattermapbox\":[{\"type\":\"scattermapbox\",\"marker\":{\"colorbar\":{\"outlinewidth\":0,\"ticks\":\"\"}}}],\"scatterternary\":[{\"type\":\"scatterternary\",\"marker\":{\"colorbar\":{\"outlinewidth\":0,\"ticks\":\"\"}}}],\"scattercarpet\":[{\"type\":\"scattercarpet\",\"marker\":{\"colorbar\":{\"outlinewidth\":0,\"ticks\":\"\"}}}],\"carpet\":[{\"aaxis\":{\"endlinecolor\":\"#2a3f5f\",\"gridcolor\":\"white\",\"linecolor\":\"white\",\"minorgridcolor\":\"white\",\"startlinecolor\":\"#2a3f5f\"},\"baxis\":{\"endlinecolor\":\"#2a3f5f\",\"gridcolor\":\"white\",\"linecolor\":\"white\",\"minorgridcolor\":\"white\",\"startlinecolor\":\"#2a3f5f\"},\"type\":\"carpet\"}],\"table\":[{\"cells\":{\"fill\":{\"color\":\"#EBF0F8\"},\"line\":{\"color\":\"white\"}},\"header\":{\"fill\":{\"color\":\"#C8D4E3\"},\"line\":{\"color\":\"white\"}},\"type\":\"table\"}],\"barpolar\":[{\"marker\":{\"line\":{\"color\":\"#E5ECF6\",\"width\":0.5},\"pattern\":{\"fillmode\":\"overlay\",\"size\":10,\"solidity\":0.2}},\"type\":\"barpolar\"}],\"pie\":[{\"automargin\":true,\"type\":\"pie\"}]},\"layout\":{\"autotypenumbers\":\"strict\",\"colorway\":[\"#636efa\",\"#EF553B\",\"#00cc96\",\"#ab63fa\",\"#FFA15A\",\"#19d3f3\",\"#FF6692\",\"#B6E880\",\"#FF97FF\",\"#FECB52\"],\"font\":{\"color\":\"#2a3f5f\"},\"hovermode\":\"closest\",\"hoverlabel\":{\"align\":\"left\"},\"paper_bgcolor\":\"white\",\"plot_bgcolor\":\"#E5ECF6\",\"polar\":{\"bgcolor\":\"#E5ECF6\",\"angularaxis\":{\"gridcolor\":\"white\",\"linecolor\":\"white\",\"ticks\":\"\"},\"radialaxis\":{\"gridcolor\":\"white\",\"linecolor\":\"white\",\"ticks\":\"\"}},\"ternary\":{\"bgcolor\":\"#E5ECF6\",\"aaxis\":{\"gridcolor\":\"white\",\"linecolor\":\"white\",\"ticks\":\"\"},\"baxis\":{\"gridcolor\":\"white\",\"linecolor\":\"white\",\"ticks\":\"\"},\"caxis\":{\"gridcolor\":\"white\",\"linecolor\":\"white\",\"ticks\":\"\"}},\"coloraxis\":{\"colorbar\":{\"outlinewidth\":0,\"ticks\":\"\"}},\"colorscale\":{\"sequential\":[[0.0,\"#0d0887\"],[0.1111111111111111,\"#46039f\"],[0.2222222222222222,\"#7201a8\"],[0.3333333333333333,\"#9c179e\"],[0.4444444444444444,\"#bd3786\"],[0.5555555555555556,\"#d8576b\"],[0.6666666666666666,\"#ed7953\"],[0.7777777777777778,\"#fb9f3a\"],[0.8888888888888888,\"#fdca26\"],[1.0,\"#f0f921\"]],\"sequentialminus\":[[0.0,\"#0d0887\"],[0.1111111111111111,\"#46039f\"],[0.2222222222222222,\"#7201a8\"],[0.3333333333333333,\"#9c179e\"],[0.4444444444444444,\"#bd3786\"],[0.5555555555555556,\"#d8576b\"],[0.6666666666666666,\"#ed7953\"],[0.7777777777777778,\"#fb9f3a\"],[0.8888888888888888,\"#fdca26\"],[1.0,\"#f0f921\"]],\"diverging\":[[0,\"#8e0152\"],[0.1,\"#c51b7d\"],[0.2,\"#de77ae\"],[0.3,\"#f1b6da\"],[0.4,\"#fde0ef\"],[0.5,\"#f7f7f7\"],[0.6,\"#e6f5d0\"],[0.7,\"#b8e186\"],[0.8,\"#7fbc41\"],[0.9,\"#4d9221\"],[1,\"#276419\"]]},\"xaxis\":{\"gridcolor\":\"white\",\"linecolor\":\"white\",\"ticks\":\"\",\"title\":{\"standoff\":15},\"zerolinecolor\":\"white\",\"automargin\":true,\"zerolinewidth\":2},\"yaxis\":{\"gridcolor\":\"white\",\"linecolor\":\"white\",\"ticks\":\"\",\"title\":{\"standoff\":15},\"zerolinecolor\":\"white\",\"automargin\":true,\"zerolinewidth\":2},\"scene\":{\"xaxis\":{\"backgroundcolor\":\"#E5ECF6\",\"gridcolor\":\"white\",\"linecolor\":\"white\",\"showbackground\":true,\"ticks\":\"\",\"zerolinecolor\":\"white\",\"gridwidth\":2},\"yaxis\":{\"backgroundcolor\":\"#E5ECF6\",\"gridcolor\":\"white\",\"linecolor\":\"white\",\"showbackground\":true,\"ticks\":\"\",\"zerolinecolor\":\"white\",\"gridwidth\":2},\"zaxis\":{\"backgroundcolor\":\"#E5ECF6\",\"gridcolor\":\"white\",\"linecolor\":\"white\",\"showbackground\":true,\"ticks\":\"\",\"zerolinecolor\":\"white\",\"gridwidth\":2}},\"shapedefaults\":{\"line\":{\"color\":\"#2a3f5f\"}},\"annotationdefaults\":{\"arrowcolor\":\"#2a3f5f\",\"arrowhead\":0,\"arrowwidth\":1},\"geo\":{\"bgcolor\":\"white\",\"landcolor\":\"#E5ECF6\",\"subunitcolor\":\"white\",\"showland\":true,\"showlakes\":true,\"lakecolor\":\"white\"},\"title\":{\"x\":0.05},\"mapbox\":{\"style\":\"light\"}}},\"legend\":{\"tracegroupgap\":0},\"title\":{\"text\":\"Genre Distribution in Top Countries (Treemap)\"}},                        {\"responsive\": true}                    ).then(function(){\n",
              "                            \n",
              "var gd = document.getElementById('b5461603-a0b0-4bb6-8db4-a324b8999d5f');\n",
              "var x = new MutationObserver(function (mutations, observer) {{\n",
              "        var display = window.getComputedStyle(gd).display;\n",
              "        if (!display || display === 'none') {{\n",
              "            console.log([gd, 'removed!']);\n",
              "            Plotly.purge(gd);\n",
              "            observer.disconnect();\n",
              "        }}\n",
              "}});\n",
              "\n",
              "// Listen for the removal of the full notebook cells\n",
              "var notebookContainer = gd.closest('#notebook-container');\n",
              "if (notebookContainer) {{\n",
              "    x.observe(notebookContainer, {childList: true});\n",
              "}}\n",
              "\n",
              "// Listen for the clearing of the current output cell\n",
              "var outputEl = gd.closest('.output');\n",
              "if (outputEl) {{\n",
              "    x.observe(outputEl, {childList: true});\n",
              "}}\n",
              "\n",
              "                        })                };                            </script>        </div>\n",
              "</body>\n",
              "</html>"
            ]
          },
          "metadata": {}
        }
      ]
    },
    {
      "cell_type": "markdown",
      "source": [
        "**United States:** Dominates with a vast variety of genres, notably Dramas, Comedies, and Documentaries.\n",
        "\n",
        "**India:** Shows strong presence in International Movies and Dramas, along with notable counts in Comedies and Thrillers.\n",
        "\n",
        "**United Kingdom & Japan:** The UK displays a mix including Reality TV and Documentaries, while Japan has a prominent focus on Anime Series.\n",
        "\n",
        "**Cultural Differences:** The visualization clearly illustrates how genre preferences vary across regions, highlighting distinctive cultural tastes in content consumption."
      ],
      "metadata": {
        "id": "sktYZe0FYftA"
      }
    },
    {
      "cell_type": "markdown",
      "source": [
        "#### **Temporal Trends** by Country"
      ],
      "metadata": {
        "id": "p98vsDL0W5jS"
      }
    },
    {
      "cell_type": "code",
      "source": [
        "# Extract the year from the date_added column\n",
        "df['year_added'] = df['date_added'].dt.year\n",
        "\n",
        "# Group data by year_added and country, then count titles\n",
        "temporal_trends = df.groupby(['year_added', 'country']).size().reset_index(name='count')\n",
        "\n",
        "# Filter by top countries to reduce noise\n",
        "temporal_trends_top = temporal_trends[temporal_trends['country'].isin(top_country_list)]\n",
        "\n",
        "# Create an interactive line chart\n",
        "fig_trends = px.line(temporal_trends_top, x='year_added', y='count', color='country',\n",
        "                     title='Yearly Content Trends in Top Countries',\n",
        "                     labels={'year_added': 'Year Added', 'count': 'Number of Titles'})\n",
        "fig_trends.show()"
      ],
      "metadata": {
        "colab": {
          "base_uri": "https://localhost:8080/",
          "height": 542
        },
        "id": "f6DhFgakWXjv",
        "outputId": "b9353187-bce6-4b8b-8c0a-94787760bcbc"
      },
      "execution_count": 35,
      "outputs": [
        {
          "output_type": "display_data",
          "data": {
            "text/html": [
              "<html>\n",
              "<head><meta charset=\"utf-8\" /></head>\n",
              "<body>\n",
              "    <div>            <script src=\"https://cdnjs.cloudflare.com/ajax/libs/mathjax/2.7.5/MathJax.js?config=TeX-AMS-MML_SVG\"></script><script type=\"text/javascript\">if (window.MathJax && window.MathJax.Hub && window.MathJax.Hub.Config) {window.MathJax.Hub.Config({SVG: {font: \"STIX-Web\"}});}</script>                <script type=\"text/javascript\">window.PlotlyConfig = {MathJaxConfig: 'local'};</script>\n",
              "        <script charset=\"utf-8\" src=\"https://cdn.plot.ly/plotly-2.35.2.min.js\"></script>                <div id=\"030bc4a4-f409-476e-8dfd-6582203d48d8\" class=\"plotly-graph-div\" style=\"height:525px; width:100%;\"></div>            <script type=\"text/javascript\">                                    window.PLOTLYENV=window.PLOTLYENV || {};                                    if (document.getElementById(\"030bc4a4-f409-476e-8dfd-6582203d48d8\")) {                    Plotly.newPlot(                        \"030bc4a4-f409-476e-8dfd-6582203d48d8\",                        [{\"hovertemplate\":\"country=United States\\u003cbr\\u003eYear Added=%{x}\\u003cbr\\u003eNumber of Titles=%{y}\\u003cextra\\u003e\\u003c\\u002fextra\\u003e\",\"legendgroup\":\"United States\",\"line\":{\"color\":\"#636efa\",\"dash\":\"solid\"},\"marker\":{\"symbol\":\"circle\"},\"mode\":\"lines\",\"name\":\"United States\",\"orientation\":\"v\",\"showlegend\":true,\"x\":[2008,2009,2010,2011,2012,2013,2014,2015,2016,2017,2018,2019,2020,2021],\"xaxis\":\"x\",\"y\":[2,1,1,12,2,7,15,46,152,361,455,768,678,55],\"yaxis\":\"y\",\"type\":\"scatter\"},{\"hovertemplate\":\"country=Canada\\u003cbr\\u003eYear Added=%{x}\\u003cbr\\u003eNumber of Titles=%{y}\\u003cextra\\u003e\\u003c\\u002fextra\\u003e\",\"legendgroup\":\"Canada\",\"line\":{\"color\":\"#EF553B\",\"dash\":\"solid\"},\"marker\":{\"symbol\":\"circle\"},\"mode\":\"lines\",\"name\":\"Canada\",\"orientation\":\"v\",\"showlegend\":true,\"x\":[2013,2014,2015,2016,2017,2018,2019,2020],\"xaxis\":\"x\",\"y\":[1,1,3,11,33,32,45,51],\"yaxis\":\"y\",\"type\":\"scatter\"},{\"hovertemplate\":\"country=United Kingdom, United States\\u003cbr\\u003eYear Added=%{x}\\u003cbr\\u003eNumber of Titles=%{y}\\u003cextra\\u003e\\u003c\\u002fextra\\u003e\",\"legendgroup\":\"United Kingdom, United States\",\"line\":{\"color\":\"#00cc96\",\"dash\":\"solid\"},\"marker\":{\"symbol\":\"circle\"},\"mode\":\"lines\",\"name\":\"United Kingdom, United States\",\"orientation\":\"v\",\"showlegend\":true,\"x\":[2014,2017,2018,2019,2020,2021],\"xaxis\":\"x\",\"y\":[1,7,16,19,20,1],\"yaxis\":\"y\",\"type\":\"scatter\"},{\"hovertemplate\":\"country=France\\u003cbr\\u003eYear Added=%{x}\\u003cbr\\u003eNumber of Titles=%{y}\\u003cextra\\u003e\\u003c\\u002fextra\\u003e\",\"legendgroup\":\"France\",\"line\":{\"color\":\"#ab63fa\",\"dash\":\"solid\"},\"marker\":{\"symbol\":\"circle\"},\"mode\":\"lines\",\"name\":\"France\",\"orientation\":\"v\",\"showlegend\":true,\"x\":[2015,2016,2017,2018,2019,2020,2021],\"xaxis\":\"x\",\"y\":[2,8,17,23,33,30,2],\"yaxis\":\"y\",\"type\":\"scatter\"},{\"hovertemplate\":\"country=Japan\\u003cbr\\u003eYear Added=%{x}\\u003cbr\\u003eNumber of Titles=%{y}\\u003cextra\\u003e\\u003c\\u002fextra\\u003e\",\"legendgroup\":\"Japan\",\"line\":{\"color\":\"#FFA15A\",\"dash\":\"solid\"},\"marker\":{\"symbol\":\"circle\"},\"mode\":\"lines\",\"name\":\"Japan\",\"orientation\":\"v\",\"showlegend\":true,\"x\":[2015,2016,2017,2018,2019,2020,2021],\"xaxis\":\"x\",\"y\":[1,17,35,38,65,69,1],\"yaxis\":\"y\",\"type\":\"scatter\"},{\"hovertemplate\":\"country=Mexico\\u003cbr\\u003eYear Added=%{x}\\u003cbr\\u003eNumber of Titles=%{y}\\u003cextra\\u003e\\u003c\\u002fextra\\u003e\",\"legendgroup\":\"Mexico\",\"line\":{\"color\":\"#19d3f3\",\"dash\":\"solid\"},\"marker\":{\"symbol\":\"circle\"},\"mode\":\"lines\",\"name\":\"Mexico\",\"orientation\":\"v\",\"showlegend\":true,\"x\":[2015,2016,2017,2018,2019,2020,2021],\"xaxis\":\"x\",\"y\":[1,8,28,17,26,19,1],\"yaxis\":\"y\",\"type\":\"scatter\"},{\"hovertemplate\":\"country=Nigeria\\u003cbr\\u003eYear Added=%{x}\\u003cbr\\u003eNumber of Titles=%{y}\\u003cextra\\u003e\\u003c\\u002fextra\\u003e\",\"legendgroup\":\"Nigeria\",\"line\":{\"color\":\"#FF6692\",\"dash\":\"solid\"},\"marker\":{\"symbol\":\"circle\"},\"mode\":\"lines\",\"name\":\"Nigeria\",\"orientation\":\"v\",\"showlegend\":true,\"x\":[2015,2016,2017,2018,2019,2020],\"xaxis\":\"x\",\"y\":[1,1,1,1,28,38],\"yaxis\":\"y\",\"type\":\"scatter\"},{\"hovertemplate\":\"country=Not available\\u003cbr\\u003eYear Added=%{x}\\u003cbr\\u003eNumber of Titles=%{y}\\u003cextra\\u003e\\u003c\\u002fextra\\u003e\",\"legendgroup\":\"Not available\",\"line\":{\"color\":\"#B6E880\",\"dash\":\"solid\"},\"marker\":{\"symbol\":\"circle\"},\"mode\":\"lines\",\"name\":\"Not available\",\"orientation\":\"v\",\"showlegend\":true,\"x\":[2015,2016,2017,2018,2019,2020,2021],\"xaxis\":\"x\",\"y\":[5,19,66,121,162,119,15],\"yaxis\":\"y\",\"type\":\"scatter\"},{\"hovertemplate\":\"country=United Kingdom\\u003cbr\\u003eYear Added=%{x}\\u003cbr\\u003eNumber of Titles=%{y}\\u003cextra\\u003e\\u003c\\u002fextra\\u003e\",\"legendgroup\":\"United Kingdom\",\"line\":{\"color\":\"#FF97FF\",\"dash\":\"solid\"},\"marker\":{\"symbol\":\"circle\"},\"mode\":\"lines\",\"name\":\"United Kingdom\",\"orientation\":\"v\",\"showlegend\":true,\"x\":[2015,2016,2017,2018,2019,2020,2021],\"xaxis\":\"x\",\"y\":[3,36,91,72,118,74,3],\"yaxis\":\"y\",\"type\":\"scatter\"},{\"hovertemplate\":\"country=India\\u003cbr\\u003eYear Added=%{x}\\u003cbr\\u003eNumber of Titles=%{y}\\u003cextra\\u003e\\u003c\\u002fextra\\u003e\",\"legendgroup\":\"India\",\"line\":{\"color\":\"#FECB52\",\"dash\":\"solid\"},\"marker\":{\"symbol\":\"circle\"},\"mode\":\"lines\",\"name\":\"India\",\"orientation\":\"v\",\"showlegend\":true,\"x\":[2016,2017,2018,2019,2020,2021],\"xaxis\":\"x\",\"y\":[11,142,340,226,192,12],\"yaxis\":\"y\",\"type\":\"scatter\"},{\"hovertemplate\":\"country=Spain\\u003cbr\\u003eYear Added=%{x}\\u003cbr\\u003eNumber of Titles=%{y}\\u003cextra\\u003e\\u003c\\u002fextra\\u003e\",\"legendgroup\":\"Spain\",\"line\":{\"color\":\"#636efa\",\"dash\":\"solid\"},\"marker\":{\"symbol\":\"circle\"},\"mode\":\"lines\",\"name\":\"Spain\",\"orientation\":\"v\",\"showlegend\":true,\"x\":[2016,2017,2018,2019,2020,2021],\"xaxis\":\"x\",\"y\":[11,21,29,44,28,1],\"yaxis\":\"y\",\"type\":\"scatter\"},{\"hovertemplate\":\"country=Turkey\\u003cbr\\u003eYear Added=%{x}\\u003cbr\\u003eNumber of Titles=%{y}\\u003cextra\\u003e\\u003c\\u002fextra\\u003e\",\"legendgroup\":\"Turkey\",\"line\":{\"color\":\"#EF553B\",\"dash\":\"solid\"},\"marker\":{\"symbol\":\"circle\"},\"mode\":\"lines\",\"name\":\"Turkey\",\"orientation\":\"v\",\"showlegend\":true,\"x\":[2016,2017,2018,2019,2020,2021],\"xaxis\":\"x\",\"y\":[3,44,5,22,25,1],\"yaxis\":\"y\",\"type\":\"scatter\"},{\"hovertemplate\":\"country=Indonesia\\u003cbr\\u003eYear Added=%{x}\\u003cbr\\u003eNumber of Titles=%{y}\\u003cextra\\u003e\\u003c\\u002fextra\\u003e\",\"legendgroup\":\"Indonesia\",\"line\":{\"color\":\"#00cc96\",\"dash\":\"solid\"},\"marker\":{\"symbol\":\"circle\"},\"mode\":\"lines\",\"name\":\"Indonesia\",\"orientation\":\"v\",\"showlegend\":true,\"x\":[2017,2018,2019,2020,2021],\"xaxis\":\"x\",\"y\":[2,24,16,26,2],\"yaxis\":\"y\",\"type\":\"scatter\"},{\"hovertemplate\":\"country=Egypt\\u003cbr\\u003eYear Added=%{x}\\u003cbr\\u003eNumber of Titles=%{y}\\u003cextra\\u003e\\u003c\\u002fextra\\u003e\",\"legendgroup\":\"Egypt\",\"line\":{\"color\":\"#ab63fa\",\"dash\":\"solid\"},\"marker\":{\"symbol\":\"circle\"},\"mode\":\"lines\",\"name\":\"Egypt\",\"orientation\":\"v\",\"showlegend\":true,\"x\":[2018,2019,2020],\"xaxis\":\"x\",\"y\":[1,53,47],\"yaxis\":\"y\",\"type\":\"scatter\"},{\"hovertemplate\":\"country=Philippines\\u003cbr\\u003eYear Added=%{x}\\u003cbr\\u003eNumber of Titles=%{y}\\u003cextra\\u003e\\u003c\\u002fextra\\u003e\",\"legendgroup\":\"Philippines\",\"line\":{\"color\":\"#FFA15A\",\"dash\":\"solid\"},\"marker\":{\"symbol\":\"circle\"},\"mode\":\"lines\",\"name\":\"Philippines\",\"orientation\":\"v\",\"showlegend\":true,\"x\":[2018,2019,2020],\"xaxis\":\"x\",\"y\":[4,37,30],\"yaxis\":\"y\",\"type\":\"scatter\"}],                        {\"template\":{\"data\":{\"histogram2dcontour\":[{\"type\":\"histogram2dcontour\",\"colorbar\":{\"outlinewidth\":0,\"ticks\":\"\"},\"colorscale\":[[0.0,\"#0d0887\"],[0.1111111111111111,\"#46039f\"],[0.2222222222222222,\"#7201a8\"],[0.3333333333333333,\"#9c179e\"],[0.4444444444444444,\"#bd3786\"],[0.5555555555555556,\"#d8576b\"],[0.6666666666666666,\"#ed7953\"],[0.7777777777777778,\"#fb9f3a\"],[0.8888888888888888,\"#fdca26\"],[1.0,\"#f0f921\"]]}],\"choropleth\":[{\"type\":\"choropleth\",\"colorbar\":{\"outlinewidth\":0,\"ticks\":\"\"}}],\"histogram2d\":[{\"type\":\"histogram2d\",\"colorbar\":{\"outlinewidth\":0,\"ticks\":\"\"},\"colorscale\":[[0.0,\"#0d0887\"],[0.1111111111111111,\"#46039f\"],[0.2222222222222222,\"#7201a8\"],[0.3333333333333333,\"#9c179e\"],[0.4444444444444444,\"#bd3786\"],[0.5555555555555556,\"#d8576b\"],[0.6666666666666666,\"#ed7953\"],[0.7777777777777778,\"#fb9f3a\"],[0.8888888888888888,\"#fdca26\"],[1.0,\"#f0f921\"]]}],\"heatmap\":[{\"type\":\"heatmap\",\"colorbar\":{\"outlinewidth\":0,\"ticks\":\"\"},\"colorscale\":[[0.0,\"#0d0887\"],[0.1111111111111111,\"#46039f\"],[0.2222222222222222,\"#7201a8\"],[0.3333333333333333,\"#9c179e\"],[0.4444444444444444,\"#bd3786\"],[0.5555555555555556,\"#d8576b\"],[0.6666666666666666,\"#ed7953\"],[0.7777777777777778,\"#fb9f3a\"],[0.8888888888888888,\"#fdca26\"],[1.0,\"#f0f921\"]]}],\"heatmapgl\":[{\"type\":\"heatmapgl\",\"colorbar\":{\"outlinewidth\":0,\"ticks\":\"\"},\"colorscale\":[[0.0,\"#0d0887\"],[0.1111111111111111,\"#46039f\"],[0.2222222222222222,\"#7201a8\"],[0.3333333333333333,\"#9c179e\"],[0.4444444444444444,\"#bd3786\"],[0.5555555555555556,\"#d8576b\"],[0.6666666666666666,\"#ed7953\"],[0.7777777777777778,\"#fb9f3a\"],[0.8888888888888888,\"#fdca26\"],[1.0,\"#f0f921\"]]}],\"contourcarpet\":[{\"type\":\"contourcarpet\",\"colorbar\":{\"outlinewidth\":0,\"ticks\":\"\"}}],\"contour\":[{\"type\":\"contour\",\"colorbar\":{\"outlinewidth\":0,\"ticks\":\"\"},\"colorscale\":[[0.0,\"#0d0887\"],[0.1111111111111111,\"#46039f\"],[0.2222222222222222,\"#7201a8\"],[0.3333333333333333,\"#9c179e\"],[0.4444444444444444,\"#bd3786\"],[0.5555555555555556,\"#d8576b\"],[0.6666666666666666,\"#ed7953\"],[0.7777777777777778,\"#fb9f3a\"],[0.8888888888888888,\"#fdca26\"],[1.0,\"#f0f921\"]]}],\"surface\":[{\"type\":\"surface\",\"colorbar\":{\"outlinewidth\":0,\"ticks\":\"\"},\"colorscale\":[[0.0,\"#0d0887\"],[0.1111111111111111,\"#46039f\"],[0.2222222222222222,\"#7201a8\"],[0.3333333333333333,\"#9c179e\"],[0.4444444444444444,\"#bd3786\"],[0.5555555555555556,\"#d8576b\"],[0.6666666666666666,\"#ed7953\"],[0.7777777777777778,\"#fb9f3a\"],[0.8888888888888888,\"#fdca26\"],[1.0,\"#f0f921\"]]}],\"mesh3d\":[{\"type\":\"mesh3d\",\"colorbar\":{\"outlinewidth\":0,\"ticks\":\"\"}}],\"scatter\":[{\"fillpattern\":{\"fillmode\":\"overlay\",\"size\":10,\"solidity\":0.2},\"type\":\"scatter\"}],\"parcoords\":[{\"type\":\"parcoords\",\"line\":{\"colorbar\":{\"outlinewidth\":0,\"ticks\":\"\"}}}],\"scatterpolargl\":[{\"type\":\"scatterpolargl\",\"marker\":{\"colorbar\":{\"outlinewidth\":0,\"ticks\":\"\"}}}],\"bar\":[{\"error_x\":{\"color\":\"#2a3f5f\"},\"error_y\":{\"color\":\"#2a3f5f\"},\"marker\":{\"line\":{\"color\":\"#E5ECF6\",\"width\":0.5},\"pattern\":{\"fillmode\":\"overlay\",\"size\":10,\"solidity\":0.2}},\"type\":\"bar\"}],\"scattergeo\":[{\"type\":\"scattergeo\",\"marker\":{\"colorbar\":{\"outlinewidth\":0,\"ticks\":\"\"}}}],\"scatterpolar\":[{\"type\":\"scatterpolar\",\"marker\":{\"colorbar\":{\"outlinewidth\":0,\"ticks\":\"\"}}}],\"histogram\":[{\"marker\":{\"pattern\":{\"fillmode\":\"overlay\",\"size\":10,\"solidity\":0.2}},\"type\":\"histogram\"}],\"scattergl\":[{\"type\":\"scattergl\",\"marker\":{\"colorbar\":{\"outlinewidth\":0,\"ticks\":\"\"}}}],\"scatter3d\":[{\"type\":\"scatter3d\",\"line\":{\"colorbar\":{\"outlinewidth\":0,\"ticks\":\"\"}},\"marker\":{\"colorbar\":{\"outlinewidth\":0,\"ticks\":\"\"}}}],\"scattermapbox\":[{\"type\":\"scattermapbox\",\"marker\":{\"colorbar\":{\"outlinewidth\":0,\"ticks\":\"\"}}}],\"scatterternary\":[{\"type\":\"scatterternary\",\"marker\":{\"colorbar\":{\"outlinewidth\":0,\"ticks\":\"\"}}}],\"scattercarpet\":[{\"type\":\"scattercarpet\",\"marker\":{\"colorbar\":{\"outlinewidth\":0,\"ticks\":\"\"}}}],\"carpet\":[{\"aaxis\":{\"endlinecolor\":\"#2a3f5f\",\"gridcolor\":\"white\",\"linecolor\":\"white\",\"minorgridcolor\":\"white\",\"startlinecolor\":\"#2a3f5f\"},\"baxis\":{\"endlinecolor\":\"#2a3f5f\",\"gridcolor\":\"white\",\"linecolor\":\"white\",\"minorgridcolor\":\"white\",\"startlinecolor\":\"#2a3f5f\"},\"type\":\"carpet\"}],\"table\":[{\"cells\":{\"fill\":{\"color\":\"#EBF0F8\"},\"line\":{\"color\":\"white\"}},\"header\":{\"fill\":{\"color\":\"#C8D4E3\"},\"line\":{\"color\":\"white\"}},\"type\":\"table\"}],\"barpolar\":[{\"marker\":{\"line\":{\"color\":\"#E5ECF6\",\"width\":0.5},\"pattern\":{\"fillmode\":\"overlay\",\"size\":10,\"solidity\":0.2}},\"type\":\"barpolar\"}],\"pie\":[{\"automargin\":true,\"type\":\"pie\"}]},\"layout\":{\"autotypenumbers\":\"strict\",\"colorway\":[\"#636efa\",\"#EF553B\",\"#00cc96\",\"#ab63fa\",\"#FFA15A\",\"#19d3f3\",\"#FF6692\",\"#B6E880\",\"#FF97FF\",\"#FECB52\"],\"font\":{\"color\":\"#2a3f5f\"},\"hovermode\":\"closest\",\"hoverlabel\":{\"align\":\"left\"},\"paper_bgcolor\":\"white\",\"plot_bgcolor\":\"#E5ECF6\",\"polar\":{\"bgcolor\":\"#E5ECF6\",\"angularaxis\":{\"gridcolor\":\"white\",\"linecolor\":\"white\",\"ticks\":\"\"},\"radialaxis\":{\"gridcolor\":\"white\",\"linecolor\":\"white\",\"ticks\":\"\"}},\"ternary\":{\"bgcolor\":\"#E5ECF6\",\"aaxis\":{\"gridcolor\":\"white\",\"linecolor\":\"white\",\"ticks\":\"\"},\"baxis\":{\"gridcolor\":\"white\",\"linecolor\":\"white\",\"ticks\":\"\"},\"caxis\":{\"gridcolor\":\"white\",\"linecolor\":\"white\",\"ticks\":\"\"}},\"coloraxis\":{\"colorbar\":{\"outlinewidth\":0,\"ticks\":\"\"}},\"colorscale\":{\"sequential\":[[0.0,\"#0d0887\"],[0.1111111111111111,\"#46039f\"],[0.2222222222222222,\"#7201a8\"],[0.3333333333333333,\"#9c179e\"],[0.4444444444444444,\"#bd3786\"],[0.5555555555555556,\"#d8576b\"],[0.6666666666666666,\"#ed7953\"],[0.7777777777777778,\"#fb9f3a\"],[0.8888888888888888,\"#fdca26\"],[1.0,\"#f0f921\"]],\"sequentialminus\":[[0.0,\"#0d0887\"],[0.1111111111111111,\"#46039f\"],[0.2222222222222222,\"#7201a8\"],[0.3333333333333333,\"#9c179e\"],[0.4444444444444444,\"#bd3786\"],[0.5555555555555556,\"#d8576b\"],[0.6666666666666666,\"#ed7953\"],[0.7777777777777778,\"#fb9f3a\"],[0.8888888888888888,\"#fdca26\"],[1.0,\"#f0f921\"]],\"diverging\":[[0,\"#8e0152\"],[0.1,\"#c51b7d\"],[0.2,\"#de77ae\"],[0.3,\"#f1b6da\"],[0.4,\"#fde0ef\"],[0.5,\"#f7f7f7\"],[0.6,\"#e6f5d0\"],[0.7,\"#b8e186\"],[0.8,\"#7fbc41\"],[0.9,\"#4d9221\"],[1,\"#276419\"]]},\"xaxis\":{\"gridcolor\":\"white\",\"linecolor\":\"white\",\"ticks\":\"\",\"title\":{\"standoff\":15},\"zerolinecolor\":\"white\",\"automargin\":true,\"zerolinewidth\":2},\"yaxis\":{\"gridcolor\":\"white\",\"linecolor\":\"white\",\"ticks\":\"\",\"title\":{\"standoff\":15},\"zerolinecolor\":\"white\",\"automargin\":true,\"zerolinewidth\":2},\"scene\":{\"xaxis\":{\"backgroundcolor\":\"#E5ECF6\",\"gridcolor\":\"white\",\"linecolor\":\"white\",\"showbackground\":true,\"ticks\":\"\",\"zerolinecolor\":\"white\",\"gridwidth\":2},\"yaxis\":{\"backgroundcolor\":\"#E5ECF6\",\"gridcolor\":\"white\",\"linecolor\":\"white\",\"showbackground\":true,\"ticks\":\"\",\"zerolinecolor\":\"white\",\"gridwidth\":2},\"zaxis\":{\"backgroundcolor\":\"#E5ECF6\",\"gridcolor\":\"white\",\"linecolor\":\"white\",\"showbackground\":true,\"ticks\":\"\",\"zerolinecolor\":\"white\",\"gridwidth\":2}},\"shapedefaults\":{\"line\":{\"color\":\"#2a3f5f\"}},\"annotationdefaults\":{\"arrowcolor\":\"#2a3f5f\",\"arrowhead\":0,\"arrowwidth\":1},\"geo\":{\"bgcolor\":\"white\",\"landcolor\":\"#E5ECF6\",\"subunitcolor\":\"white\",\"showland\":true,\"showlakes\":true,\"lakecolor\":\"white\"},\"title\":{\"x\":0.05},\"mapbox\":{\"style\":\"light\"}}},\"xaxis\":{\"anchor\":\"y\",\"domain\":[0.0,1.0],\"title\":{\"text\":\"Year Added\"}},\"yaxis\":{\"anchor\":\"x\",\"domain\":[0.0,1.0],\"title\":{\"text\":\"Number of Titles\"}},\"legend\":{\"title\":{\"text\":\"country\"},\"tracegroupgap\":0},\"title\":{\"text\":\"Yearly Content Trends in Top Countries\"}},                        {\"responsive\": true}                    ).then(function(){\n",
              "                            \n",
              "var gd = document.getElementById('030bc4a4-f409-476e-8dfd-6582203d48d8');\n",
              "var x = new MutationObserver(function (mutations, observer) {{\n",
              "        var display = window.getComputedStyle(gd).display;\n",
              "        if (!display || display === 'none') {{\n",
              "            console.log([gd, 'removed!']);\n",
              "            Plotly.purge(gd);\n",
              "            observer.disconnect();\n",
              "        }}\n",
              "}});\n",
              "\n",
              "// Listen for the removal of the full notebook cells\n",
              "var notebookContainer = gd.closest('#notebook-container');\n",
              "if (notebookContainer) {{\n",
              "    x.observe(notebookContainer, {childList: true});\n",
              "}}\n",
              "\n",
              "// Listen for the clearing of the current output cell\n",
              "var outputEl = gd.closest('.output');\n",
              "if (outputEl) {{\n",
              "    x.observe(outputEl, {childList: true});\n",
              "}}\n",
              "\n",
              "                        })                };                            </script>        </div>\n",
              "</body>\n",
              "</html>"
            ]
          },
          "metadata": {}
        }
      ]
    },
    {
      "cell_type": "markdown",
      "source": [
        "Netflix evolved from **2008 to 2020** across various countries. Notably, the United States experienced a sharp increase starting around 2016, peaking in 2018, and then a steep decline by 2020, while other countries show more gradual and modest fluctuations over the same period."
      ],
      "metadata": {
        "id": "FmzZ01ypZG_R"
      }
    },
    {
      "cell_type": "markdown",
      "source": [
        "#### Content **Rating Distribution** by Country"
      ],
      "metadata": {
        "id": "i-dSou0qXA9C"
      }
    },
    {
      "cell_type": "code",
      "source": [
        "# Group by country and rating; count how many titles fall in each rating category\n",
        "rating_by_country = df.groupby(['country', 'rating']).size().reset_index(name='count')\n",
        "\n",
        "# Filter for top countries only\n",
        "rating_by_country_top = rating_by_country[rating_by_country['country'].isin(top_country_list)]\n",
        "\n",
        "# Create a grouped bar chart\n",
        "fig_rating = px.bar(rating_by_country_top, x='country', y='count', color='rating',\n",
        "                    title='Content Rating Distribution in Top Countries',\n",
        "                    labels={'country': 'Country', 'count': 'Number of Titles', 'rating': 'Rating'})\n",
        "fig_rating.update_layout(xaxis_tickangle=-45)\n",
        "fig_rating.show()\n"
      ],
      "metadata": {
        "colab": {
          "base_uri": "https://localhost:8080/",
          "height": 542
        },
        "id": "fkwNuPG8W65z",
        "outputId": "b96c1b9f-081f-40f4-ec57-087e9956544d"
      },
      "execution_count": 36,
      "outputs": [
        {
          "output_type": "display_data",
          "data": {
            "text/html": [
              "<html>\n",
              "<head><meta charset=\"utf-8\" /></head>\n",
              "<body>\n",
              "    <div>            <script src=\"https://cdnjs.cloudflare.com/ajax/libs/mathjax/2.7.5/MathJax.js?config=TeX-AMS-MML_SVG\"></script><script type=\"text/javascript\">if (window.MathJax && window.MathJax.Hub && window.MathJax.Hub.Config) {window.MathJax.Hub.Config({SVG: {font: \"STIX-Web\"}});}</script>                <script type=\"text/javascript\">window.PlotlyConfig = {MathJaxConfig: 'local'};</script>\n",
              "        <script charset=\"utf-8\" src=\"https://cdn.plot.ly/plotly-2.35.2.min.js\"></script>                <div id=\"219a0499-0173-45d0-9391-e81f1fc59b45\" class=\"plotly-graph-div\" style=\"height:525px; width:100%;\"></div>            <script type=\"text/javascript\">                                    window.PLOTLYENV=window.PLOTLYENV || {};                                    if (document.getElementById(\"219a0499-0173-45d0-9391-e81f1fc59b45\")) {                    Plotly.newPlot(                        \"219a0499-0173-45d0-9391-e81f1fc59b45\",                        [{\"alignmentgroup\":\"True\",\"hovertemplate\":\"Rating=G\\u003cbr\\u003eCountry=%{x}\\u003cbr\\u003eNumber of Titles=%{y}\\u003cextra\\u003e\\u003c\\u002fextra\\u003e\",\"legendgroup\":\"G\",\"marker\":{\"color\":\"#636efa\",\"pattern\":{\"shape\":\"\"}},\"name\":\"G\",\"offsetgroup\":\"G\",\"orientation\":\"v\",\"showlegend\":true,\"textposition\":\"auto\",\"x\":[\"Canada\",\"United Kingdom, United States\",\"United States\"],\"xaxis\":\"x\",\"y\":[1,1,29],\"yaxis\":\"y\",\"type\":\"bar\"},{\"alignmentgroup\":\"True\",\"hovertemplate\":\"Rating=NC-17\\u003cbr\\u003eCountry=%{x}\\u003cbr\\u003eNumber of Titles=%{y}\\u003cextra\\u003e\\u003c\\u002fextra\\u003e\",\"legendgroup\":\"NC-17\",\"marker\":{\"color\":\"#EF553B\",\"pattern\":{\"shape\":\"\"}},\"name\":\"NC-17\",\"offsetgroup\":\"NC-17\",\"orientation\":\"v\",\"showlegend\":true,\"textposition\":\"auto\",\"x\":[\"Canada\",\"United States\"],\"xaxis\":\"x\",\"y\":[1,1],\"yaxis\":\"y\",\"type\":\"bar\"},{\"alignmentgroup\":\"True\",\"hovertemplate\":\"Rating=NR\\u003cbr\\u003eCountry=%{x}\\u003cbr\\u003eNumber of Titles=%{y}\\u003cextra\\u003e\\u003c\\u002fextra\\u003e\",\"legendgroup\":\"NR\",\"marker\":{\"color\":\"#00cc96\",\"pattern\":{\"shape\":\"\"}},\"name\":\"NR\",\"offsetgroup\":\"NR\",\"orientation\":\"v\",\"showlegend\":true,\"textposition\":\"auto\",\"x\":[\"Canada\",\"India\",\"Mexico\",\"Nigeria\",\"Spain\",\"Turkey\",\"United Kingdom\",\"United Kingdom, United States\",\"United States\"],\"xaxis\":\"x\",\"y\":[2,5,4,1,1,3,5,1,35],\"yaxis\":\"y\",\"type\":\"bar\"},{\"alignmentgroup\":\"True\",\"hovertemplate\":\"Rating=PG\\u003cbr\\u003eCountry=%{x}\\u003cbr\\u003eNumber of Titles=%{y}\\u003cextra\\u003e\\u003c\\u002fextra\\u003e\",\"legendgroup\":\"PG\",\"marker\":{\"color\":\"#ab63fa\",\"pattern\":{\"shape\":\"\"}},\"name\":\"PG\",\"offsetgroup\":\"PG\",\"orientation\":\"v\",\"showlegend\":true,\"textposition\":\"auto\",\"x\":[\"Canada\",\"France\",\"India\",\"Japan\",\"Not available\",\"Spain\",\"United Kingdom\",\"United Kingdom, United States\",\"United States\"],\"xaxis\":\"x\",\"y\":[8,1,3,5,3,1,2,6,144],\"yaxis\":\"y\",\"type\":\"bar\"},{\"alignmentgroup\":\"True\",\"hovertemplate\":\"Rating=PG-13\\u003cbr\\u003eCountry=%{x}\\u003cbr\\u003eNumber of Titles=%{y}\\u003cextra\\u003e\\u003c\\u002fextra\\u003e\",\"legendgroup\":\"PG-13\",\"marker\":{\"color\":\"#FFA15A\",\"pattern\":{\"shape\":\"\"}},\"name\":\"PG-13\",\"offsetgroup\":\"PG-13\",\"orientation\":\"v\",\"showlegend\":true,\"textposition\":\"auto\",\"x\":[\"Canada\",\"France\",\"India\",\"Japan\",\"Mexico\",\"Not available\",\"Spain\",\"United Kingdom\",\"United Kingdom, United States\",\"United States\"],\"xaxis\":\"x\",\"y\":[3,1,4,3,1,3,1,7,13,227],\"yaxis\":\"y\",\"type\":\"bar\"},{\"alignmentgroup\":\"True\",\"hovertemplate\":\"Rating=R\\u003cbr\\u003eCountry=%{x}\\u003cbr\\u003eNumber of Titles=%{y}\\u003cextra\\u003e\\u003c\\u002fextra\\u003e\",\"legendgroup\":\"R\",\"marker\":{\"color\":\"#19d3f3\",\"pattern\":{\"shape\":\"\"}},\"name\":\"R\",\"offsetgroup\":\"R\",\"orientation\":\"v\",\"showlegend\":true,\"textposition\":\"auto\",\"x\":[\"Canada\",\"France\",\"India\",\"Indonesia\",\"Mexico\",\"Not available\",\"Philippines\",\"Spain\",\"United Kingdom\",\"United Kingdom, United States\",\"United States\"],\"xaxis\":\"x\",\"y\":[16,2,2,2,4,2,1,2,31,20,364],\"yaxis\":\"y\",\"type\":\"bar\"},{\"alignmentgroup\":\"True\",\"hovertemplate\":\"Rating=TV-14\\u003cbr\\u003eCountry=%{x}\\u003cbr\\u003eNumber of Titles=%{y}\\u003cextra\\u003e\\u003c\\u002fextra\\u003e\",\"legendgroup\":\"TV-14\",\"marker\":{\"color\":\"#FF6692\",\"pattern\":{\"shape\":\"\"}},\"name\":\"TV-14\",\"offsetgroup\":\"TV-14\",\"orientation\":\"v\",\"showlegend\":true,\"textposition\":\"auto\",\"x\":[\"Canada\",\"Egypt\",\"France\",\"India\",\"Indonesia\",\"Japan\",\"Mexico\",\"Nigeria\",\"Not available\",\"Philippines\",\"Spain\",\"Turkey\",\"United Kingdom\",\"United Kingdom, United States\",\"United States\"],\"xaxis\":\"x\",\"y\":[23,69,18,520,31,77,13,33,136,34,12,36,68,4,378],\"yaxis\":\"y\",\"type\":\"bar\"},{\"alignmentgroup\":\"True\",\"hovertemplate\":\"Rating=TV-G\\u003cbr\\u003eCountry=%{x}\\u003cbr\\u003eNumber of Titles=%{y}\\u003cextra\\u003e\\u003c\\u002fextra\\u003e\",\"legendgroup\":\"TV-G\",\"marker\":{\"color\":\"#B6E880\",\"pattern\":{\"shape\":\"\"}},\"name\":\"TV-G\",\"offsetgroup\":\"TV-G\",\"orientation\":\"v\",\"showlegend\":true,\"textposition\":\"auto\",\"x\":[\"Canada\",\"France\",\"India\",\"Indonesia\",\"Japan\",\"Mexico\",\"Nigeria\",\"Not available\",\"Philippines\",\"Spain\",\"Turkey\",\"United Kingdom\",\"United States\"],\"xaxis\":\"x\",\"y\":[14,2,9,8,1,2,1,17,4,1,1,21,77],\"yaxis\":\"y\",\"type\":\"bar\"},{\"alignmentgroup\":\"True\",\"hovertemplate\":\"Rating=TV-MA\\u003cbr\\u003eCountry=%{x}\\u003cbr\\u003eNumber of Titles=%{y}\\u003cextra\\u003e\\u003c\\u002fextra\\u003e\",\"legendgroup\":\"TV-MA\",\"marker\":{\"color\":\"#FF97FF\",\"pattern\":{\"shape\":\"\"}},\"name\":\"TV-MA\",\"offsetgroup\":\"TV-MA\",\"orientation\":\"v\",\"showlegend\":true,\"textposition\":\"auto\",\"x\":[\"Canada\",\"Egypt\",\"France\",\"India\",\"Indonesia\",\"Japan\",\"Mexico\",\"Nigeria\",\"Not available\",\"Philippines\",\"Spain\",\"Turkey\",\"United Kingdom\",\"United Kingdom, United States\",\"United States\"],\"xaxis\":\"x\",\"y\":[60,28,75,228,13,82,69,29,159,24,109,50,168,15,880],\"yaxis\":\"y\",\"type\":\"bar\"},{\"alignmentgroup\":\"True\",\"hovertemplate\":\"Rating=TV-PG\\u003cbr\\u003eCountry=%{x}\\u003cbr\\u003eNumber of Titles=%{y}\\u003cextra\\u003e\\u003c\\u002fextra\\u003e\",\"legendgroup\":\"TV-PG\",\"marker\":{\"color\":\"#FECB52\",\"pattern\":{\"shape\":\"\"}},\"name\":\"TV-PG\",\"offsetgroup\":\"TV-PG\",\"orientation\":\"v\",\"showlegend\":true,\"textposition\":\"auto\",\"x\":[\"Canada\",\"Egypt\",\"France\",\"India\",\"Indonesia\",\"Japan\",\"Mexico\",\"Nigeria\",\"Not available\",\"Philippines\",\"Spain\",\"Turkey\",\"United Kingdom\",\"United Kingdom, United States\",\"United States\"],\"xaxis\":\"x\",\"y\":[22,4,3,133,16,39,5,6,65,8,5,10,74,3,241],\"yaxis\":\"y\",\"type\":\"bar\"},{\"alignmentgroup\":\"True\",\"hovertemplate\":\"Rating=TV-Y\\u003cbr\\u003eCountry=%{x}\\u003cbr\\u003eNumber of Titles=%{y}\\u003cextra\\u003e\\u003c\\u002fextra\\u003e\",\"legendgroup\":\"TV-Y\",\"marker\":{\"color\":\"#636efa\",\"pattern\":{\"shape\":\"\"}},\"name\":\"TV-Y\",\"offsetgroup\":\"TV-Y\",\"orientation\":\"v\",\"showlegend\":true,\"textposition\":\"auto\",\"x\":[\"Canada\",\"France\",\"India\",\"Japan\",\"Not available\",\"Spain\",\"United Kingdom\",\"United Kingdom, United States\",\"United States\"],\"xaxis\":\"x\",\"y\":[17,9,6,1,70,2,16,1,81],\"yaxis\":\"y\",\"type\":\"bar\"},{\"alignmentgroup\":\"True\",\"hovertemplate\":\"Rating=TV-Y7\\u003cbr\\u003eCountry=%{x}\\u003cbr\\u003eNumber of Titles=%{y}\\u003cextra\\u003e\\u003c\\u002fextra\\u003e\",\"legendgroup\":\"TV-Y7\",\"marker\":{\"color\":\"#EF553B\",\"pattern\":{\"shape\":\"\"}},\"name\":\"TV-Y7\",\"offsetgroup\":\"TV-Y7\",\"orientation\":\"v\",\"showlegend\":true,\"textposition\":\"auto\",\"x\":[\"Canada\",\"France\",\"India\",\"Japan\",\"Mexico\",\"Not available\",\"United Kingdom\",\"United States\"],\"xaxis\":\"x\",\"y\":[9,3,11,17,2,50,5,93],\"yaxis\":\"y\",\"type\":\"bar\"},{\"alignmentgroup\":\"True\",\"hovertemplate\":\"Rating=TV-Y7-FV\\u003cbr\\u003eCountry=%{x}\\u003cbr\\u003eNumber of Titles=%{y}\\u003cextra\\u003e\\u003c\\u002fextra\\u003e\",\"legendgroup\":\"TV-Y7-FV\",\"marker\":{\"color\":\"#00cc96\",\"pattern\":{\"shape\":\"\"}},\"name\":\"TV-Y7-FV\",\"offsetgroup\":\"TV-Y7-FV\",\"orientation\":\"v\",\"showlegend\":true,\"textposition\":\"auto\",\"x\":[\"Canada\",\"India\",\"Not available\",\"United States\"],\"xaxis\":\"x\",\"y\":[1,1,1,1],\"yaxis\":\"y\",\"type\":\"bar\"},{\"alignmentgroup\":\"True\",\"hovertemplate\":\"Rating=UR\\u003cbr\\u003eCountry=%{x}\\u003cbr\\u003eNumber of Titles=%{y}\\u003cextra\\u003e\\u003c\\u002fextra\\u003e\",\"legendgroup\":\"UR\",\"marker\":{\"color\":\"#ab63fa\",\"pattern\":{\"shape\":\"\"}},\"name\":\"UR\",\"offsetgroup\":\"UR\",\"orientation\":\"v\",\"showlegend\":true,\"textposition\":\"auto\",\"x\":[\"France\",\"India\",\"United States\"],\"xaxis\":\"x\",\"y\":[1,1,1],\"yaxis\":\"y\",\"type\":\"bar\"},{\"alignmentgroup\":\"True\",\"hovertemplate\":\"Rating=Not available\\u003cbr\\u003eCountry=%{x}\\u003cbr\\u003eNumber of Titles=%{y}\\u003cextra\\u003e\\u003c\\u002fextra\\u003e\",\"legendgroup\":\"Not available\",\"marker\":{\"color\":\"#FFA15A\",\"pattern\":{\"shape\":\"\"}},\"name\":\"Not available\",\"offsetgroup\":\"Not available\",\"orientation\":\"v\",\"showlegend\":true,\"textposition\":\"auto\",\"x\":[\"Japan\",\"Not available\",\"United States\"],\"xaxis\":\"x\",\"y\":[1,1,3],\"yaxis\":\"y\",\"type\":\"bar\"}],                        {\"template\":{\"data\":{\"histogram2dcontour\":[{\"type\":\"histogram2dcontour\",\"colorbar\":{\"outlinewidth\":0,\"ticks\":\"\"},\"colorscale\":[[0.0,\"#0d0887\"],[0.1111111111111111,\"#46039f\"],[0.2222222222222222,\"#7201a8\"],[0.3333333333333333,\"#9c179e\"],[0.4444444444444444,\"#bd3786\"],[0.5555555555555556,\"#d8576b\"],[0.6666666666666666,\"#ed7953\"],[0.7777777777777778,\"#fb9f3a\"],[0.8888888888888888,\"#fdca26\"],[1.0,\"#f0f921\"]]}],\"choropleth\":[{\"type\":\"choropleth\",\"colorbar\":{\"outlinewidth\":0,\"ticks\":\"\"}}],\"histogram2d\":[{\"type\":\"histogram2d\",\"colorbar\":{\"outlinewidth\":0,\"ticks\":\"\"},\"colorscale\":[[0.0,\"#0d0887\"],[0.1111111111111111,\"#46039f\"],[0.2222222222222222,\"#7201a8\"],[0.3333333333333333,\"#9c179e\"],[0.4444444444444444,\"#bd3786\"],[0.5555555555555556,\"#d8576b\"],[0.6666666666666666,\"#ed7953\"],[0.7777777777777778,\"#fb9f3a\"],[0.8888888888888888,\"#fdca26\"],[1.0,\"#f0f921\"]]}],\"heatmap\":[{\"type\":\"heatmap\",\"colorbar\":{\"outlinewidth\":0,\"ticks\":\"\"},\"colorscale\":[[0.0,\"#0d0887\"],[0.1111111111111111,\"#46039f\"],[0.2222222222222222,\"#7201a8\"],[0.3333333333333333,\"#9c179e\"],[0.4444444444444444,\"#bd3786\"],[0.5555555555555556,\"#d8576b\"],[0.6666666666666666,\"#ed7953\"],[0.7777777777777778,\"#fb9f3a\"],[0.8888888888888888,\"#fdca26\"],[1.0,\"#f0f921\"]]}],\"heatmapgl\":[{\"type\":\"heatmapgl\",\"colorbar\":{\"outlinewidth\":0,\"ticks\":\"\"},\"colorscale\":[[0.0,\"#0d0887\"],[0.1111111111111111,\"#46039f\"],[0.2222222222222222,\"#7201a8\"],[0.3333333333333333,\"#9c179e\"],[0.4444444444444444,\"#bd3786\"],[0.5555555555555556,\"#d8576b\"],[0.6666666666666666,\"#ed7953\"],[0.7777777777777778,\"#fb9f3a\"],[0.8888888888888888,\"#fdca26\"],[1.0,\"#f0f921\"]]}],\"contourcarpet\":[{\"type\":\"contourcarpet\",\"colorbar\":{\"outlinewidth\":0,\"ticks\":\"\"}}],\"contour\":[{\"type\":\"contour\",\"colorbar\":{\"outlinewidth\":0,\"ticks\":\"\"},\"colorscale\":[[0.0,\"#0d0887\"],[0.1111111111111111,\"#46039f\"],[0.2222222222222222,\"#7201a8\"],[0.3333333333333333,\"#9c179e\"],[0.4444444444444444,\"#bd3786\"],[0.5555555555555556,\"#d8576b\"],[0.6666666666666666,\"#ed7953\"],[0.7777777777777778,\"#fb9f3a\"],[0.8888888888888888,\"#fdca26\"],[1.0,\"#f0f921\"]]}],\"surface\":[{\"type\":\"surface\",\"colorbar\":{\"outlinewidth\":0,\"ticks\":\"\"},\"colorscale\":[[0.0,\"#0d0887\"],[0.1111111111111111,\"#46039f\"],[0.2222222222222222,\"#7201a8\"],[0.3333333333333333,\"#9c179e\"],[0.4444444444444444,\"#bd3786\"],[0.5555555555555556,\"#d8576b\"],[0.6666666666666666,\"#ed7953\"],[0.7777777777777778,\"#fb9f3a\"],[0.8888888888888888,\"#fdca26\"],[1.0,\"#f0f921\"]]}],\"mesh3d\":[{\"type\":\"mesh3d\",\"colorbar\":{\"outlinewidth\":0,\"ticks\":\"\"}}],\"scatter\":[{\"fillpattern\":{\"fillmode\":\"overlay\",\"size\":10,\"solidity\":0.2},\"type\":\"scatter\"}],\"parcoords\":[{\"type\":\"parcoords\",\"line\":{\"colorbar\":{\"outlinewidth\":0,\"ticks\":\"\"}}}],\"scatterpolargl\":[{\"type\":\"scatterpolargl\",\"marker\":{\"colorbar\":{\"outlinewidth\":0,\"ticks\":\"\"}}}],\"bar\":[{\"error_x\":{\"color\":\"#2a3f5f\"},\"error_y\":{\"color\":\"#2a3f5f\"},\"marker\":{\"line\":{\"color\":\"#E5ECF6\",\"width\":0.5},\"pattern\":{\"fillmode\":\"overlay\",\"size\":10,\"solidity\":0.2}},\"type\":\"bar\"}],\"scattergeo\":[{\"type\":\"scattergeo\",\"marker\":{\"colorbar\":{\"outlinewidth\":0,\"ticks\":\"\"}}}],\"scatterpolar\":[{\"type\":\"scatterpolar\",\"marker\":{\"colorbar\":{\"outlinewidth\":0,\"ticks\":\"\"}}}],\"histogram\":[{\"marker\":{\"pattern\":{\"fillmode\":\"overlay\",\"size\":10,\"solidity\":0.2}},\"type\":\"histogram\"}],\"scattergl\":[{\"type\":\"scattergl\",\"marker\":{\"colorbar\":{\"outlinewidth\":0,\"ticks\":\"\"}}}],\"scatter3d\":[{\"type\":\"scatter3d\",\"line\":{\"colorbar\":{\"outlinewidth\":0,\"ticks\":\"\"}},\"marker\":{\"colorbar\":{\"outlinewidth\":0,\"ticks\":\"\"}}}],\"scattermapbox\":[{\"type\":\"scattermapbox\",\"marker\":{\"colorbar\":{\"outlinewidth\":0,\"ticks\":\"\"}}}],\"scatterternary\":[{\"type\":\"scatterternary\",\"marker\":{\"colorbar\":{\"outlinewidth\":0,\"ticks\":\"\"}}}],\"scattercarpet\":[{\"type\":\"scattercarpet\",\"marker\":{\"colorbar\":{\"outlinewidth\":0,\"ticks\":\"\"}}}],\"carpet\":[{\"aaxis\":{\"endlinecolor\":\"#2a3f5f\",\"gridcolor\":\"white\",\"linecolor\":\"white\",\"minorgridcolor\":\"white\",\"startlinecolor\":\"#2a3f5f\"},\"baxis\":{\"endlinecolor\":\"#2a3f5f\",\"gridcolor\":\"white\",\"linecolor\":\"white\",\"minorgridcolor\":\"white\",\"startlinecolor\":\"#2a3f5f\"},\"type\":\"carpet\"}],\"table\":[{\"cells\":{\"fill\":{\"color\":\"#EBF0F8\"},\"line\":{\"color\":\"white\"}},\"header\":{\"fill\":{\"color\":\"#C8D4E3\"},\"line\":{\"color\":\"white\"}},\"type\":\"table\"}],\"barpolar\":[{\"marker\":{\"line\":{\"color\":\"#E5ECF6\",\"width\":0.5},\"pattern\":{\"fillmode\":\"overlay\",\"size\":10,\"solidity\":0.2}},\"type\":\"barpolar\"}],\"pie\":[{\"automargin\":true,\"type\":\"pie\"}]},\"layout\":{\"autotypenumbers\":\"strict\",\"colorway\":[\"#636efa\",\"#EF553B\",\"#00cc96\",\"#ab63fa\",\"#FFA15A\",\"#19d3f3\",\"#FF6692\",\"#B6E880\",\"#FF97FF\",\"#FECB52\"],\"font\":{\"color\":\"#2a3f5f\"},\"hovermode\":\"closest\",\"hoverlabel\":{\"align\":\"left\"},\"paper_bgcolor\":\"white\",\"plot_bgcolor\":\"#E5ECF6\",\"polar\":{\"bgcolor\":\"#E5ECF6\",\"angularaxis\":{\"gridcolor\":\"white\",\"linecolor\":\"white\",\"ticks\":\"\"},\"radialaxis\":{\"gridcolor\":\"white\",\"linecolor\":\"white\",\"ticks\":\"\"}},\"ternary\":{\"bgcolor\":\"#E5ECF6\",\"aaxis\":{\"gridcolor\":\"white\",\"linecolor\":\"white\",\"ticks\":\"\"},\"baxis\":{\"gridcolor\":\"white\",\"linecolor\":\"white\",\"ticks\":\"\"},\"caxis\":{\"gridcolor\":\"white\",\"linecolor\":\"white\",\"ticks\":\"\"}},\"coloraxis\":{\"colorbar\":{\"outlinewidth\":0,\"ticks\":\"\"}},\"colorscale\":{\"sequential\":[[0.0,\"#0d0887\"],[0.1111111111111111,\"#46039f\"],[0.2222222222222222,\"#7201a8\"],[0.3333333333333333,\"#9c179e\"],[0.4444444444444444,\"#bd3786\"],[0.5555555555555556,\"#d8576b\"],[0.6666666666666666,\"#ed7953\"],[0.7777777777777778,\"#fb9f3a\"],[0.8888888888888888,\"#fdca26\"],[1.0,\"#f0f921\"]],\"sequentialminus\":[[0.0,\"#0d0887\"],[0.1111111111111111,\"#46039f\"],[0.2222222222222222,\"#7201a8\"],[0.3333333333333333,\"#9c179e\"],[0.4444444444444444,\"#bd3786\"],[0.5555555555555556,\"#d8576b\"],[0.6666666666666666,\"#ed7953\"],[0.7777777777777778,\"#fb9f3a\"],[0.8888888888888888,\"#fdca26\"],[1.0,\"#f0f921\"]],\"diverging\":[[0,\"#8e0152\"],[0.1,\"#c51b7d\"],[0.2,\"#de77ae\"],[0.3,\"#f1b6da\"],[0.4,\"#fde0ef\"],[0.5,\"#f7f7f7\"],[0.6,\"#e6f5d0\"],[0.7,\"#b8e186\"],[0.8,\"#7fbc41\"],[0.9,\"#4d9221\"],[1,\"#276419\"]]},\"xaxis\":{\"gridcolor\":\"white\",\"linecolor\":\"white\",\"ticks\":\"\",\"title\":{\"standoff\":15},\"zerolinecolor\":\"white\",\"automargin\":true,\"zerolinewidth\":2},\"yaxis\":{\"gridcolor\":\"white\",\"linecolor\":\"white\",\"ticks\":\"\",\"title\":{\"standoff\":15},\"zerolinecolor\":\"white\",\"automargin\":true,\"zerolinewidth\":2},\"scene\":{\"xaxis\":{\"backgroundcolor\":\"#E5ECF6\",\"gridcolor\":\"white\",\"linecolor\":\"white\",\"showbackground\":true,\"ticks\":\"\",\"zerolinecolor\":\"white\",\"gridwidth\":2},\"yaxis\":{\"backgroundcolor\":\"#E5ECF6\",\"gridcolor\":\"white\",\"linecolor\":\"white\",\"showbackground\":true,\"ticks\":\"\",\"zerolinecolor\":\"white\",\"gridwidth\":2},\"zaxis\":{\"backgroundcolor\":\"#E5ECF6\",\"gridcolor\":\"white\",\"linecolor\":\"white\",\"showbackground\":true,\"ticks\":\"\",\"zerolinecolor\":\"white\",\"gridwidth\":2}},\"shapedefaults\":{\"line\":{\"color\":\"#2a3f5f\"}},\"annotationdefaults\":{\"arrowcolor\":\"#2a3f5f\",\"arrowhead\":0,\"arrowwidth\":1},\"geo\":{\"bgcolor\":\"white\",\"landcolor\":\"#E5ECF6\",\"subunitcolor\":\"white\",\"showland\":true,\"showlakes\":true,\"lakecolor\":\"white\"},\"title\":{\"x\":0.05},\"mapbox\":{\"style\":\"light\"}}},\"xaxis\":{\"anchor\":\"y\",\"domain\":[0.0,1.0],\"title\":{\"text\":\"Country\"},\"tickangle\":-45},\"yaxis\":{\"anchor\":\"x\",\"domain\":[0.0,1.0],\"title\":{\"text\":\"Number of Titles\"}},\"legend\":{\"title\":{\"text\":\"Rating\"},\"tracegroupgap\":0},\"title\":{\"text\":\"Content Rating Distribution in Top Countries\"},\"barmode\":\"relative\"},                        {\"responsive\": true}                    ).then(function(){\n",
              "                            \n",
              "var gd = document.getElementById('219a0499-0173-45d0-9391-e81f1fc59b45');\n",
              "var x = new MutationObserver(function (mutations, observer) {{\n",
              "        var display = window.getComputedStyle(gd).display;\n",
              "        if (!display || display === 'none') {{\n",
              "            console.log([gd, 'removed!']);\n",
              "            Plotly.purge(gd);\n",
              "            observer.disconnect();\n",
              "        }}\n",
              "}});\n",
              "\n",
              "// Listen for the removal of the full notebook cells\n",
              "var notebookContainer = gd.closest('#notebook-container');\n",
              "if (notebookContainer) {{\n",
              "    x.observe(notebookContainer, {childList: true});\n",
              "}}\n",
              "\n",
              "// Listen for the clearing of the current output cell\n",
              "var outputEl = gd.closest('.output');\n",
              "if (outputEl) {{\n",
              "    x.observe(outputEl, {childList: true});\n",
              "}}\n",
              "\n",
              "                        })                };                            </script>        </div>\n",
              "</body>\n",
              "</html>"
            ]
          },
          "metadata": {}
        }
      ]
    },
    {
      "cell_type": "markdown",
      "source": [
        "The **United States** leads with high counts—especially in ratings like **PG, TV-MA,** and **TV-14**—while India also shows significant numbers, particularly in **NR and TV-MA,** with other countries contributing comparatively fewer titles."
      ],
      "metadata": {
        "id": "vCR73GD_ZZR6"
      }
    },
    {
      "cell_type": "markdown",
      "source": [
        "#### If Netflix has been **increasingly focusing on TV** rather than movies in recent years"
      ],
      "metadata": {
        "id": "6nhDxRjRapAQ"
      }
    },
    {
      "cell_type": "code",
      "source": [
        "# Step 1: Group by 'year_added' and 'type' and count entries each year\n",
        "yearly_counts = df.groupby(['year_added', 'type']).size().reset_index(name='count')\n",
        "\n",
        "# Step 2: Pivot the data so that we have separate columns for Movies and TV Shows\n",
        "yearly_pivot = yearly_counts.pivot(index='year_added', columns='type', values='count').fillna(0).reset_index()\n",
        "# Display the first few rows to check if the pivot operation worked as expected\n",
        "print(yearly_pivot.head())\n",
        "\n",
        "# Step 3: Plot yearly counts of Movies and TV Shows using a line chart\n",
        "fig_line = px.line(\n",
        "    yearly_pivot,\n",
        "    x='year_added',\n",
        "    y=['Movie', 'TV Show'],\n",
        "    markers=True,\n",
        "    title=\"Yearly Content Trends: Movies vs TV Shows on Netflix\",\n",
        "    labels={'year_added': 'Year Added', 'value': 'Count', 'variable': 'Content Type'}\n",
        ")\n",
        "fig_line.show()\n",
        "\n",
        "# Step 4: Calculate the percentage of TV Shows each year for an alternative perspective\n",
        "yearly_pivot['Total'] = yearly_pivot['Movie'] + yearly_pivot['TV Show']\n",
        "yearly_pivot['TV_Show_Percentage'] = (yearly_pivot['TV Show'] / yearly_pivot['Total']) * 100\n",
        "\n",
        "# Plot the percentage of TV Shows over the years\n",
        "fig_percentage = px.line(\n",
        "    yearly_pivot,\n",
        "    x='year_added',\n",
        "    y='TV_Show_Percentage',\n",
        "    markers=True,\n",
        "    title=\"Yearly Percentage of TV Shows Added to Netflix\",\n",
        "    labels={'year_added': 'Year Added', 'TV_Show_Percentage': 'TV Show Percentage (%)'}\n",
        ")\n",
        "fig_percentage.show()\n"
      ],
      "metadata": {
        "colab": {
          "base_uri": "https://localhost:8080/",
          "height": 1000
        },
        "id": "Ch4wmxaTaETk",
        "outputId": "c5b5b4df-2794-4e3b-824d-044c1076b34e"
      },
      "execution_count": 37,
      "outputs": [
        {
          "output_type": "stream",
          "name": "stdout",
          "text": [
            "type  year_added  Movie  TV Show\n",
            "0           2008    1.0      1.0\n",
            "1           2009    2.0      0.0\n",
            "2           2010    1.0      0.0\n",
            "3           2011   13.0      0.0\n",
            "4           2012    3.0      0.0\n"
          ]
        },
        {
          "output_type": "display_data",
          "data": {
            "text/html": [
              "<html>\n",
              "<head><meta charset=\"utf-8\" /></head>\n",
              "<body>\n",
              "    <div>            <script src=\"https://cdnjs.cloudflare.com/ajax/libs/mathjax/2.7.5/MathJax.js?config=TeX-AMS-MML_SVG\"></script><script type=\"text/javascript\">if (window.MathJax && window.MathJax.Hub && window.MathJax.Hub.Config) {window.MathJax.Hub.Config({SVG: {font: \"STIX-Web\"}});}</script>                <script type=\"text/javascript\">window.PlotlyConfig = {MathJaxConfig: 'local'};</script>\n",
              "        <script charset=\"utf-8\" src=\"https://cdn.plot.ly/plotly-2.35.2.min.js\"></script>                <div id=\"54dd42e3-5b94-4a21-bc7e-0c07de004e3c\" class=\"plotly-graph-div\" style=\"height:525px; width:100%;\"></div>            <script type=\"text/javascript\">                                    window.PLOTLYENV=window.PLOTLYENV || {};                                    if (document.getElementById(\"54dd42e3-5b94-4a21-bc7e-0c07de004e3c\")) {                    Plotly.newPlot(                        \"54dd42e3-5b94-4a21-bc7e-0c07de004e3c\",                        [{\"hovertemplate\":\"Content Type=Movie\\u003cbr\\u003eYear Added=%{x}\\u003cbr\\u003eCount=%{y}\\u003cextra\\u003e\\u003c\\u002fextra\\u003e\",\"legendgroup\":\"Movie\",\"line\":{\"color\":\"#636efa\",\"dash\":\"solid\"},\"marker\":{\"symbol\":\"circle\"},\"mode\":\"lines+markers\",\"name\":\"Movie\",\"orientation\":\"v\",\"showlegend\":true,\"x\":[2008,2009,2010,2011,2012,2013,2014,2015,2016,2017,2018,2019,2020,2021],\"xaxis\":\"x\",\"y\":[1.0,2.0,1.0,13.0,3.0,6.0,19.0,58.0,258.0,864.0,1255.0,1497.0,1312.0,88.0],\"yaxis\":\"y\",\"type\":\"scatter\"},{\"hovertemplate\":\"Content Type=TV Show\\u003cbr\\u003eYear Added=%{x}\\u003cbr\\u003eCount=%{y}\\u003cextra\\u003e\\u003c\\u002fextra\\u003e\",\"legendgroup\":\"TV Show\",\"line\":{\"color\":\"#EF553B\",\"dash\":\"solid\"},\"marker\":{\"symbol\":\"circle\"},\"mode\":\"lines+markers\",\"name\":\"TV Show\",\"orientation\":\"v\",\"showlegend\":true,\"x\":[2008,2009,2010,2011,2012,2013,2014,2015,2016,2017,2018,2019,2020,2021],\"xaxis\":\"x\",\"y\":[1.0,0.0,0.0,0.0,0.0,4.0,5.0,21.0,174.0,337.0,406.0,737.0,696.0,29.0],\"yaxis\":\"y\",\"type\":\"scatter\"}],                        {\"template\":{\"data\":{\"histogram2dcontour\":[{\"type\":\"histogram2dcontour\",\"colorbar\":{\"outlinewidth\":0,\"ticks\":\"\"},\"colorscale\":[[0.0,\"#0d0887\"],[0.1111111111111111,\"#46039f\"],[0.2222222222222222,\"#7201a8\"],[0.3333333333333333,\"#9c179e\"],[0.4444444444444444,\"#bd3786\"],[0.5555555555555556,\"#d8576b\"],[0.6666666666666666,\"#ed7953\"],[0.7777777777777778,\"#fb9f3a\"],[0.8888888888888888,\"#fdca26\"],[1.0,\"#f0f921\"]]}],\"choropleth\":[{\"type\":\"choropleth\",\"colorbar\":{\"outlinewidth\":0,\"ticks\":\"\"}}],\"histogram2d\":[{\"type\":\"histogram2d\",\"colorbar\":{\"outlinewidth\":0,\"ticks\":\"\"},\"colorscale\":[[0.0,\"#0d0887\"],[0.1111111111111111,\"#46039f\"],[0.2222222222222222,\"#7201a8\"],[0.3333333333333333,\"#9c179e\"],[0.4444444444444444,\"#bd3786\"],[0.5555555555555556,\"#d8576b\"],[0.6666666666666666,\"#ed7953\"],[0.7777777777777778,\"#fb9f3a\"],[0.8888888888888888,\"#fdca26\"],[1.0,\"#f0f921\"]]}],\"heatmap\":[{\"type\":\"heatmap\",\"colorbar\":{\"outlinewidth\":0,\"ticks\":\"\"},\"colorscale\":[[0.0,\"#0d0887\"],[0.1111111111111111,\"#46039f\"],[0.2222222222222222,\"#7201a8\"],[0.3333333333333333,\"#9c179e\"],[0.4444444444444444,\"#bd3786\"],[0.5555555555555556,\"#d8576b\"],[0.6666666666666666,\"#ed7953\"],[0.7777777777777778,\"#fb9f3a\"],[0.8888888888888888,\"#fdca26\"],[1.0,\"#f0f921\"]]}],\"heatmapgl\":[{\"type\":\"heatmapgl\",\"colorbar\":{\"outlinewidth\":0,\"ticks\":\"\"},\"colorscale\":[[0.0,\"#0d0887\"],[0.1111111111111111,\"#46039f\"],[0.2222222222222222,\"#7201a8\"],[0.3333333333333333,\"#9c179e\"],[0.4444444444444444,\"#bd3786\"],[0.5555555555555556,\"#d8576b\"],[0.6666666666666666,\"#ed7953\"],[0.7777777777777778,\"#fb9f3a\"],[0.8888888888888888,\"#fdca26\"],[1.0,\"#f0f921\"]]}],\"contourcarpet\":[{\"type\":\"contourcarpet\",\"colorbar\":{\"outlinewidth\":0,\"ticks\":\"\"}}],\"contour\":[{\"type\":\"contour\",\"colorbar\":{\"outlinewidth\":0,\"ticks\":\"\"},\"colorscale\":[[0.0,\"#0d0887\"],[0.1111111111111111,\"#46039f\"],[0.2222222222222222,\"#7201a8\"],[0.3333333333333333,\"#9c179e\"],[0.4444444444444444,\"#bd3786\"],[0.5555555555555556,\"#d8576b\"],[0.6666666666666666,\"#ed7953\"],[0.7777777777777778,\"#fb9f3a\"],[0.8888888888888888,\"#fdca26\"],[1.0,\"#f0f921\"]]}],\"surface\":[{\"type\":\"surface\",\"colorbar\":{\"outlinewidth\":0,\"ticks\":\"\"},\"colorscale\":[[0.0,\"#0d0887\"],[0.1111111111111111,\"#46039f\"],[0.2222222222222222,\"#7201a8\"],[0.3333333333333333,\"#9c179e\"],[0.4444444444444444,\"#bd3786\"],[0.5555555555555556,\"#d8576b\"],[0.6666666666666666,\"#ed7953\"],[0.7777777777777778,\"#fb9f3a\"],[0.8888888888888888,\"#fdca26\"],[1.0,\"#f0f921\"]]}],\"mesh3d\":[{\"type\":\"mesh3d\",\"colorbar\":{\"outlinewidth\":0,\"ticks\":\"\"}}],\"scatter\":[{\"fillpattern\":{\"fillmode\":\"overlay\",\"size\":10,\"solidity\":0.2},\"type\":\"scatter\"}],\"parcoords\":[{\"type\":\"parcoords\",\"line\":{\"colorbar\":{\"outlinewidth\":0,\"ticks\":\"\"}}}],\"scatterpolargl\":[{\"type\":\"scatterpolargl\",\"marker\":{\"colorbar\":{\"outlinewidth\":0,\"ticks\":\"\"}}}],\"bar\":[{\"error_x\":{\"color\":\"#2a3f5f\"},\"error_y\":{\"color\":\"#2a3f5f\"},\"marker\":{\"line\":{\"color\":\"#E5ECF6\",\"width\":0.5},\"pattern\":{\"fillmode\":\"overlay\",\"size\":10,\"solidity\":0.2}},\"type\":\"bar\"}],\"scattergeo\":[{\"type\":\"scattergeo\",\"marker\":{\"colorbar\":{\"outlinewidth\":0,\"ticks\":\"\"}}}],\"scatterpolar\":[{\"type\":\"scatterpolar\",\"marker\":{\"colorbar\":{\"outlinewidth\":0,\"ticks\":\"\"}}}],\"histogram\":[{\"marker\":{\"pattern\":{\"fillmode\":\"overlay\",\"size\":10,\"solidity\":0.2}},\"type\":\"histogram\"}],\"scattergl\":[{\"type\":\"scattergl\",\"marker\":{\"colorbar\":{\"outlinewidth\":0,\"ticks\":\"\"}}}],\"scatter3d\":[{\"type\":\"scatter3d\",\"line\":{\"colorbar\":{\"outlinewidth\":0,\"ticks\":\"\"}},\"marker\":{\"colorbar\":{\"outlinewidth\":0,\"ticks\":\"\"}}}],\"scattermapbox\":[{\"type\":\"scattermapbox\",\"marker\":{\"colorbar\":{\"outlinewidth\":0,\"ticks\":\"\"}}}],\"scatterternary\":[{\"type\":\"scatterternary\",\"marker\":{\"colorbar\":{\"outlinewidth\":0,\"ticks\":\"\"}}}],\"scattercarpet\":[{\"type\":\"scattercarpet\",\"marker\":{\"colorbar\":{\"outlinewidth\":0,\"ticks\":\"\"}}}],\"carpet\":[{\"aaxis\":{\"endlinecolor\":\"#2a3f5f\",\"gridcolor\":\"white\",\"linecolor\":\"white\",\"minorgridcolor\":\"white\",\"startlinecolor\":\"#2a3f5f\"},\"baxis\":{\"endlinecolor\":\"#2a3f5f\",\"gridcolor\":\"white\",\"linecolor\":\"white\",\"minorgridcolor\":\"white\",\"startlinecolor\":\"#2a3f5f\"},\"type\":\"carpet\"}],\"table\":[{\"cells\":{\"fill\":{\"color\":\"#EBF0F8\"},\"line\":{\"color\":\"white\"}},\"header\":{\"fill\":{\"color\":\"#C8D4E3\"},\"line\":{\"color\":\"white\"}},\"type\":\"table\"}],\"barpolar\":[{\"marker\":{\"line\":{\"color\":\"#E5ECF6\",\"width\":0.5},\"pattern\":{\"fillmode\":\"overlay\",\"size\":10,\"solidity\":0.2}},\"type\":\"barpolar\"}],\"pie\":[{\"automargin\":true,\"type\":\"pie\"}]},\"layout\":{\"autotypenumbers\":\"strict\",\"colorway\":[\"#636efa\",\"#EF553B\",\"#00cc96\",\"#ab63fa\",\"#FFA15A\",\"#19d3f3\",\"#FF6692\",\"#B6E880\",\"#FF97FF\",\"#FECB52\"],\"font\":{\"color\":\"#2a3f5f\"},\"hovermode\":\"closest\",\"hoverlabel\":{\"align\":\"left\"},\"paper_bgcolor\":\"white\",\"plot_bgcolor\":\"#E5ECF6\",\"polar\":{\"bgcolor\":\"#E5ECF6\",\"angularaxis\":{\"gridcolor\":\"white\",\"linecolor\":\"white\",\"ticks\":\"\"},\"radialaxis\":{\"gridcolor\":\"white\",\"linecolor\":\"white\",\"ticks\":\"\"}},\"ternary\":{\"bgcolor\":\"#E5ECF6\",\"aaxis\":{\"gridcolor\":\"white\",\"linecolor\":\"white\",\"ticks\":\"\"},\"baxis\":{\"gridcolor\":\"white\",\"linecolor\":\"white\",\"ticks\":\"\"},\"caxis\":{\"gridcolor\":\"white\",\"linecolor\":\"white\",\"ticks\":\"\"}},\"coloraxis\":{\"colorbar\":{\"outlinewidth\":0,\"ticks\":\"\"}},\"colorscale\":{\"sequential\":[[0.0,\"#0d0887\"],[0.1111111111111111,\"#46039f\"],[0.2222222222222222,\"#7201a8\"],[0.3333333333333333,\"#9c179e\"],[0.4444444444444444,\"#bd3786\"],[0.5555555555555556,\"#d8576b\"],[0.6666666666666666,\"#ed7953\"],[0.7777777777777778,\"#fb9f3a\"],[0.8888888888888888,\"#fdca26\"],[1.0,\"#f0f921\"]],\"sequentialminus\":[[0.0,\"#0d0887\"],[0.1111111111111111,\"#46039f\"],[0.2222222222222222,\"#7201a8\"],[0.3333333333333333,\"#9c179e\"],[0.4444444444444444,\"#bd3786\"],[0.5555555555555556,\"#d8576b\"],[0.6666666666666666,\"#ed7953\"],[0.7777777777777778,\"#fb9f3a\"],[0.8888888888888888,\"#fdca26\"],[1.0,\"#f0f921\"]],\"diverging\":[[0,\"#8e0152\"],[0.1,\"#c51b7d\"],[0.2,\"#de77ae\"],[0.3,\"#f1b6da\"],[0.4,\"#fde0ef\"],[0.5,\"#f7f7f7\"],[0.6,\"#e6f5d0\"],[0.7,\"#b8e186\"],[0.8,\"#7fbc41\"],[0.9,\"#4d9221\"],[1,\"#276419\"]]},\"xaxis\":{\"gridcolor\":\"white\",\"linecolor\":\"white\",\"ticks\":\"\",\"title\":{\"standoff\":15},\"zerolinecolor\":\"white\",\"automargin\":true,\"zerolinewidth\":2},\"yaxis\":{\"gridcolor\":\"white\",\"linecolor\":\"white\",\"ticks\":\"\",\"title\":{\"standoff\":15},\"zerolinecolor\":\"white\",\"automargin\":true,\"zerolinewidth\":2},\"scene\":{\"xaxis\":{\"backgroundcolor\":\"#E5ECF6\",\"gridcolor\":\"white\",\"linecolor\":\"white\",\"showbackground\":true,\"ticks\":\"\",\"zerolinecolor\":\"white\",\"gridwidth\":2},\"yaxis\":{\"backgroundcolor\":\"#E5ECF6\",\"gridcolor\":\"white\",\"linecolor\":\"white\",\"showbackground\":true,\"ticks\":\"\",\"zerolinecolor\":\"white\",\"gridwidth\":2},\"zaxis\":{\"backgroundcolor\":\"#E5ECF6\",\"gridcolor\":\"white\",\"linecolor\":\"white\",\"showbackground\":true,\"ticks\":\"\",\"zerolinecolor\":\"white\",\"gridwidth\":2}},\"shapedefaults\":{\"line\":{\"color\":\"#2a3f5f\"}},\"annotationdefaults\":{\"arrowcolor\":\"#2a3f5f\",\"arrowhead\":0,\"arrowwidth\":1},\"geo\":{\"bgcolor\":\"white\",\"landcolor\":\"#E5ECF6\",\"subunitcolor\":\"white\",\"showland\":true,\"showlakes\":true,\"lakecolor\":\"white\"},\"title\":{\"x\":0.05},\"mapbox\":{\"style\":\"light\"}}},\"xaxis\":{\"anchor\":\"y\",\"domain\":[0.0,1.0],\"title\":{\"text\":\"Year Added\"}},\"yaxis\":{\"anchor\":\"x\",\"domain\":[0.0,1.0],\"title\":{\"text\":\"Count\"}},\"legend\":{\"title\":{\"text\":\"Content Type\"},\"tracegroupgap\":0},\"title\":{\"text\":\"Yearly Content Trends: Movies vs TV Shows on Netflix\"}},                        {\"responsive\": true}                    ).then(function(){\n",
              "                            \n",
              "var gd = document.getElementById('54dd42e3-5b94-4a21-bc7e-0c07de004e3c');\n",
              "var x = new MutationObserver(function (mutations, observer) {{\n",
              "        var display = window.getComputedStyle(gd).display;\n",
              "        if (!display || display === 'none') {{\n",
              "            console.log([gd, 'removed!']);\n",
              "            Plotly.purge(gd);\n",
              "            observer.disconnect();\n",
              "        }}\n",
              "}});\n",
              "\n",
              "// Listen for the removal of the full notebook cells\n",
              "var notebookContainer = gd.closest('#notebook-container');\n",
              "if (notebookContainer) {{\n",
              "    x.observe(notebookContainer, {childList: true});\n",
              "}}\n",
              "\n",
              "// Listen for the clearing of the current output cell\n",
              "var outputEl = gd.closest('.output');\n",
              "if (outputEl) {{\n",
              "    x.observe(outputEl, {childList: true});\n",
              "}}\n",
              "\n",
              "                        })                };                            </script>        </div>\n",
              "</body>\n",
              "</html>"
            ]
          },
          "metadata": {}
        },
        {
          "output_type": "display_data",
          "data": {
            "text/html": [
              "<html>\n",
              "<head><meta charset=\"utf-8\" /></head>\n",
              "<body>\n",
              "    <div>            <script src=\"https://cdnjs.cloudflare.com/ajax/libs/mathjax/2.7.5/MathJax.js?config=TeX-AMS-MML_SVG\"></script><script type=\"text/javascript\">if (window.MathJax && window.MathJax.Hub && window.MathJax.Hub.Config) {window.MathJax.Hub.Config({SVG: {font: \"STIX-Web\"}});}</script>                <script type=\"text/javascript\">window.PlotlyConfig = {MathJaxConfig: 'local'};</script>\n",
              "        <script charset=\"utf-8\" src=\"https://cdn.plot.ly/plotly-2.35.2.min.js\"></script>                <div id=\"60912773-0c76-4f81-b49a-cd791937d45e\" class=\"plotly-graph-div\" style=\"height:525px; width:100%;\"></div>            <script type=\"text/javascript\">                                    window.PLOTLYENV=window.PLOTLYENV || {};                                    if (document.getElementById(\"60912773-0c76-4f81-b49a-cd791937d45e\")) {                    Plotly.newPlot(                        \"60912773-0c76-4f81-b49a-cd791937d45e\",                        [{\"hovertemplate\":\"Year Added=%{x}\\u003cbr\\u003eTV Show Percentage (%)=%{y}\\u003cextra\\u003e\\u003c\\u002fextra\\u003e\",\"legendgroup\":\"\",\"line\":{\"color\":\"#636efa\",\"dash\":\"solid\"},\"marker\":{\"symbol\":\"circle\"},\"mode\":\"lines+markers\",\"name\":\"\",\"orientation\":\"v\",\"showlegend\":false,\"x\":[2008,2009,2010,2011,2012,2013,2014,2015,2016,2017,2018,2019,2020,2021],\"xaxis\":\"x\",\"y\":[50.0,0.0,0.0,0.0,0.0,40.0,20.833333333333336,26.582278481012654,40.27777777777778,28.059950041631975,24.44310656231186,32.99015219337511,34.66135458167331,24.786324786324787],\"yaxis\":\"y\",\"type\":\"scatter\"}],                        {\"template\":{\"data\":{\"histogram2dcontour\":[{\"type\":\"histogram2dcontour\",\"colorbar\":{\"outlinewidth\":0,\"ticks\":\"\"},\"colorscale\":[[0.0,\"#0d0887\"],[0.1111111111111111,\"#46039f\"],[0.2222222222222222,\"#7201a8\"],[0.3333333333333333,\"#9c179e\"],[0.4444444444444444,\"#bd3786\"],[0.5555555555555556,\"#d8576b\"],[0.6666666666666666,\"#ed7953\"],[0.7777777777777778,\"#fb9f3a\"],[0.8888888888888888,\"#fdca26\"],[1.0,\"#f0f921\"]]}],\"choropleth\":[{\"type\":\"choropleth\",\"colorbar\":{\"outlinewidth\":0,\"ticks\":\"\"}}],\"histogram2d\":[{\"type\":\"histogram2d\",\"colorbar\":{\"outlinewidth\":0,\"ticks\":\"\"},\"colorscale\":[[0.0,\"#0d0887\"],[0.1111111111111111,\"#46039f\"],[0.2222222222222222,\"#7201a8\"],[0.3333333333333333,\"#9c179e\"],[0.4444444444444444,\"#bd3786\"],[0.5555555555555556,\"#d8576b\"],[0.6666666666666666,\"#ed7953\"],[0.7777777777777778,\"#fb9f3a\"],[0.8888888888888888,\"#fdca26\"],[1.0,\"#f0f921\"]]}],\"heatmap\":[{\"type\":\"heatmap\",\"colorbar\":{\"outlinewidth\":0,\"ticks\":\"\"},\"colorscale\":[[0.0,\"#0d0887\"],[0.1111111111111111,\"#46039f\"],[0.2222222222222222,\"#7201a8\"],[0.3333333333333333,\"#9c179e\"],[0.4444444444444444,\"#bd3786\"],[0.5555555555555556,\"#d8576b\"],[0.6666666666666666,\"#ed7953\"],[0.7777777777777778,\"#fb9f3a\"],[0.8888888888888888,\"#fdca26\"],[1.0,\"#f0f921\"]]}],\"heatmapgl\":[{\"type\":\"heatmapgl\",\"colorbar\":{\"outlinewidth\":0,\"ticks\":\"\"},\"colorscale\":[[0.0,\"#0d0887\"],[0.1111111111111111,\"#46039f\"],[0.2222222222222222,\"#7201a8\"],[0.3333333333333333,\"#9c179e\"],[0.4444444444444444,\"#bd3786\"],[0.5555555555555556,\"#d8576b\"],[0.6666666666666666,\"#ed7953\"],[0.7777777777777778,\"#fb9f3a\"],[0.8888888888888888,\"#fdca26\"],[1.0,\"#f0f921\"]]}],\"contourcarpet\":[{\"type\":\"contourcarpet\",\"colorbar\":{\"outlinewidth\":0,\"ticks\":\"\"}}],\"contour\":[{\"type\":\"contour\",\"colorbar\":{\"outlinewidth\":0,\"ticks\":\"\"},\"colorscale\":[[0.0,\"#0d0887\"],[0.1111111111111111,\"#46039f\"],[0.2222222222222222,\"#7201a8\"],[0.3333333333333333,\"#9c179e\"],[0.4444444444444444,\"#bd3786\"],[0.5555555555555556,\"#d8576b\"],[0.6666666666666666,\"#ed7953\"],[0.7777777777777778,\"#fb9f3a\"],[0.8888888888888888,\"#fdca26\"],[1.0,\"#f0f921\"]]}],\"surface\":[{\"type\":\"surface\",\"colorbar\":{\"outlinewidth\":0,\"ticks\":\"\"},\"colorscale\":[[0.0,\"#0d0887\"],[0.1111111111111111,\"#46039f\"],[0.2222222222222222,\"#7201a8\"],[0.3333333333333333,\"#9c179e\"],[0.4444444444444444,\"#bd3786\"],[0.5555555555555556,\"#d8576b\"],[0.6666666666666666,\"#ed7953\"],[0.7777777777777778,\"#fb9f3a\"],[0.8888888888888888,\"#fdca26\"],[1.0,\"#f0f921\"]]}],\"mesh3d\":[{\"type\":\"mesh3d\",\"colorbar\":{\"outlinewidth\":0,\"ticks\":\"\"}}],\"scatter\":[{\"fillpattern\":{\"fillmode\":\"overlay\",\"size\":10,\"solidity\":0.2},\"type\":\"scatter\"}],\"parcoords\":[{\"type\":\"parcoords\",\"line\":{\"colorbar\":{\"outlinewidth\":0,\"ticks\":\"\"}}}],\"scatterpolargl\":[{\"type\":\"scatterpolargl\",\"marker\":{\"colorbar\":{\"outlinewidth\":0,\"ticks\":\"\"}}}],\"bar\":[{\"error_x\":{\"color\":\"#2a3f5f\"},\"error_y\":{\"color\":\"#2a3f5f\"},\"marker\":{\"line\":{\"color\":\"#E5ECF6\",\"width\":0.5},\"pattern\":{\"fillmode\":\"overlay\",\"size\":10,\"solidity\":0.2}},\"type\":\"bar\"}],\"scattergeo\":[{\"type\":\"scattergeo\",\"marker\":{\"colorbar\":{\"outlinewidth\":0,\"ticks\":\"\"}}}],\"scatterpolar\":[{\"type\":\"scatterpolar\",\"marker\":{\"colorbar\":{\"outlinewidth\":0,\"ticks\":\"\"}}}],\"histogram\":[{\"marker\":{\"pattern\":{\"fillmode\":\"overlay\",\"size\":10,\"solidity\":0.2}},\"type\":\"histogram\"}],\"scattergl\":[{\"type\":\"scattergl\",\"marker\":{\"colorbar\":{\"outlinewidth\":0,\"ticks\":\"\"}}}],\"scatter3d\":[{\"type\":\"scatter3d\",\"line\":{\"colorbar\":{\"outlinewidth\":0,\"ticks\":\"\"}},\"marker\":{\"colorbar\":{\"outlinewidth\":0,\"ticks\":\"\"}}}],\"scattermapbox\":[{\"type\":\"scattermapbox\",\"marker\":{\"colorbar\":{\"outlinewidth\":0,\"ticks\":\"\"}}}],\"scatterternary\":[{\"type\":\"scatterternary\",\"marker\":{\"colorbar\":{\"outlinewidth\":0,\"ticks\":\"\"}}}],\"scattercarpet\":[{\"type\":\"scattercarpet\",\"marker\":{\"colorbar\":{\"outlinewidth\":0,\"ticks\":\"\"}}}],\"carpet\":[{\"aaxis\":{\"endlinecolor\":\"#2a3f5f\",\"gridcolor\":\"white\",\"linecolor\":\"white\",\"minorgridcolor\":\"white\",\"startlinecolor\":\"#2a3f5f\"},\"baxis\":{\"endlinecolor\":\"#2a3f5f\",\"gridcolor\":\"white\",\"linecolor\":\"white\",\"minorgridcolor\":\"white\",\"startlinecolor\":\"#2a3f5f\"},\"type\":\"carpet\"}],\"table\":[{\"cells\":{\"fill\":{\"color\":\"#EBF0F8\"},\"line\":{\"color\":\"white\"}},\"header\":{\"fill\":{\"color\":\"#C8D4E3\"},\"line\":{\"color\":\"white\"}},\"type\":\"table\"}],\"barpolar\":[{\"marker\":{\"line\":{\"color\":\"#E5ECF6\",\"width\":0.5},\"pattern\":{\"fillmode\":\"overlay\",\"size\":10,\"solidity\":0.2}},\"type\":\"barpolar\"}],\"pie\":[{\"automargin\":true,\"type\":\"pie\"}]},\"layout\":{\"autotypenumbers\":\"strict\",\"colorway\":[\"#636efa\",\"#EF553B\",\"#00cc96\",\"#ab63fa\",\"#FFA15A\",\"#19d3f3\",\"#FF6692\",\"#B6E880\",\"#FF97FF\",\"#FECB52\"],\"font\":{\"color\":\"#2a3f5f\"},\"hovermode\":\"closest\",\"hoverlabel\":{\"align\":\"left\"},\"paper_bgcolor\":\"white\",\"plot_bgcolor\":\"#E5ECF6\",\"polar\":{\"bgcolor\":\"#E5ECF6\",\"angularaxis\":{\"gridcolor\":\"white\",\"linecolor\":\"white\",\"ticks\":\"\"},\"radialaxis\":{\"gridcolor\":\"white\",\"linecolor\":\"white\",\"ticks\":\"\"}},\"ternary\":{\"bgcolor\":\"#E5ECF6\",\"aaxis\":{\"gridcolor\":\"white\",\"linecolor\":\"white\",\"ticks\":\"\"},\"baxis\":{\"gridcolor\":\"white\",\"linecolor\":\"white\",\"ticks\":\"\"},\"caxis\":{\"gridcolor\":\"white\",\"linecolor\":\"white\",\"ticks\":\"\"}},\"coloraxis\":{\"colorbar\":{\"outlinewidth\":0,\"ticks\":\"\"}},\"colorscale\":{\"sequential\":[[0.0,\"#0d0887\"],[0.1111111111111111,\"#46039f\"],[0.2222222222222222,\"#7201a8\"],[0.3333333333333333,\"#9c179e\"],[0.4444444444444444,\"#bd3786\"],[0.5555555555555556,\"#d8576b\"],[0.6666666666666666,\"#ed7953\"],[0.7777777777777778,\"#fb9f3a\"],[0.8888888888888888,\"#fdca26\"],[1.0,\"#f0f921\"]],\"sequentialminus\":[[0.0,\"#0d0887\"],[0.1111111111111111,\"#46039f\"],[0.2222222222222222,\"#7201a8\"],[0.3333333333333333,\"#9c179e\"],[0.4444444444444444,\"#bd3786\"],[0.5555555555555556,\"#d8576b\"],[0.6666666666666666,\"#ed7953\"],[0.7777777777777778,\"#fb9f3a\"],[0.8888888888888888,\"#fdca26\"],[1.0,\"#f0f921\"]],\"diverging\":[[0,\"#8e0152\"],[0.1,\"#c51b7d\"],[0.2,\"#de77ae\"],[0.3,\"#f1b6da\"],[0.4,\"#fde0ef\"],[0.5,\"#f7f7f7\"],[0.6,\"#e6f5d0\"],[0.7,\"#b8e186\"],[0.8,\"#7fbc41\"],[0.9,\"#4d9221\"],[1,\"#276419\"]]},\"xaxis\":{\"gridcolor\":\"white\",\"linecolor\":\"white\",\"ticks\":\"\",\"title\":{\"standoff\":15},\"zerolinecolor\":\"white\",\"automargin\":true,\"zerolinewidth\":2},\"yaxis\":{\"gridcolor\":\"white\",\"linecolor\":\"white\",\"ticks\":\"\",\"title\":{\"standoff\":15},\"zerolinecolor\":\"white\",\"automargin\":true,\"zerolinewidth\":2},\"scene\":{\"xaxis\":{\"backgroundcolor\":\"#E5ECF6\",\"gridcolor\":\"white\",\"linecolor\":\"white\",\"showbackground\":true,\"ticks\":\"\",\"zerolinecolor\":\"white\",\"gridwidth\":2},\"yaxis\":{\"backgroundcolor\":\"#E5ECF6\",\"gridcolor\":\"white\",\"linecolor\":\"white\",\"showbackground\":true,\"ticks\":\"\",\"zerolinecolor\":\"white\",\"gridwidth\":2},\"zaxis\":{\"backgroundcolor\":\"#E5ECF6\",\"gridcolor\":\"white\",\"linecolor\":\"white\",\"showbackground\":true,\"ticks\":\"\",\"zerolinecolor\":\"white\",\"gridwidth\":2}},\"shapedefaults\":{\"line\":{\"color\":\"#2a3f5f\"}},\"annotationdefaults\":{\"arrowcolor\":\"#2a3f5f\",\"arrowhead\":0,\"arrowwidth\":1},\"geo\":{\"bgcolor\":\"white\",\"landcolor\":\"#E5ECF6\",\"subunitcolor\":\"white\",\"showland\":true,\"showlakes\":true,\"lakecolor\":\"white\"},\"title\":{\"x\":0.05},\"mapbox\":{\"style\":\"light\"}}},\"xaxis\":{\"anchor\":\"y\",\"domain\":[0.0,1.0],\"title\":{\"text\":\"Year Added\"}},\"yaxis\":{\"anchor\":\"x\",\"domain\":[0.0,1.0],\"title\":{\"text\":\"TV Show Percentage (%)\"}},\"legend\":{\"tracegroupgap\":0},\"title\":{\"text\":\"Yearly Percentage of TV Shows Added to Netflix\"}},                        {\"responsive\": true}                    ).then(function(){\n",
              "                            \n",
              "var gd = document.getElementById('60912773-0c76-4f81-b49a-cd791937d45e');\n",
              "var x = new MutationObserver(function (mutations, observer) {{\n",
              "        var display = window.getComputedStyle(gd).display;\n",
              "        if (!display || display === 'none') {{\n",
              "            console.log([gd, 'removed!']);\n",
              "            Plotly.purge(gd);\n",
              "            observer.disconnect();\n",
              "        }}\n",
              "}});\n",
              "\n",
              "// Listen for the removal of the full notebook cells\n",
              "var notebookContainer = gd.closest('#notebook-container');\n",
              "if (notebookContainer) {{\n",
              "    x.observe(notebookContainer, {childList: true});\n",
              "}}\n",
              "\n",
              "// Listen for the clearing of the current output cell\n",
              "var outputEl = gd.closest('.output');\n",
              "if (outputEl) {{\n",
              "    x.observe(outputEl, {childList: true});\n",
              "}}\n",
              "\n",
              "                        })                };                            </script>        </div>\n",
              "</body>\n",
              "</html>"
            ]
          },
          "metadata": {}
        }
      ]
    },
    {
      "cell_type": "markdown",
      "source": [
        "Between 2008 and 2020, Netflix's content acquisition strategy shows distinct trends for movies and TV shows. Movies experienced a **dramatic surge** starting around **2015**, reaching a peak of approximately **1500 titles** in 2018 before a sharp **decline in 2020**. In contrast, TV shows—though lower in overall counts with a **peak around 400** in 2019—became increasingly significant over time. The percentage-based analysis reveals that TV show additions were minimal before 2010, then saw a sharp rise starting around 2013, **peaking near 40% in 2014**, and fluctuating through 2020, highlighting the evolving emphasis on TV content in Netflix's portfolio."
      ],
      "metadata": {
        "id": "HltNguCubi7w"
      }
    },
    {
      "cell_type": "markdown",
      "source": [
        "# **Final Summary Conclusion for Netflix Content Analysis Project**\n",
        "\n",
        "**Content Evolution and Strategic Shift:**\n",
        "Netflix has undergone a notable shift in its content strategy, with a marked increase in TV shows and a decline in movies. From 2008 to 2020, TV show additions nearly tripled, peaking at around 737 titles in 2019, while movies peaked at 1497 in 2018 before dropping sharply by over 2000 titles by 2020. The percentage of TV shows added rose significantly after 2010, peaking near 40% in 2014, indicating a strategic pivot towards TV content, likely to cater to evolving viewer preferences for serialized storytelling.\n",
        "Regional Content Variability:\n",
        "\n",
        "The United States dominates Netflix's content library with the highest title count (over 1800), followed by India (852 titles). Other countries like the United Kingdom, Canada, and Japan have significantly fewer titles. Content type distribution shows the U.S. and India favoring movies over TV shows, while countries like Japan and the Philippines have a more balanced mix. Ratings also vary regionally, with the U.S. and India having a high proportion of TV-MA and NR content, reflecting diverse audience preferences and regulatory environments.\n",
        "Content Characteristics:\n",
        "\n",
        "**Ratings Distribution:** TV-MA (2863 titles) and TV-14 (1931 titles) are the most common ratings, indicating a focus on mature and teen audiences. Less common ratings like NC-17 and UR suggest a limited emphasis on niche or highly restricted content.\n",
        "\n",
        "**Duration Trends:** Most movies have durations around 90-100 minutes, while TV shows predominantly have 1-2 seasons, reflecting a preference for shorter, binge-worthy series.\n",
        "\n",
        "**Genre Distribution:** Dramas, comedies, and international movies dominate, particularly in the U.S. and India. Genres like documentaries and kids' TV are also significant, showing Netflix's effort to cater to a broad audience.\n",
        "Insights for Business Strategy:\n",
        "\n",
        "The shift towards TV shows aligns with Netflix's broader strategy to retain subscribers through long-form, engaging content that encourages prolonged viewing. However, the sharp decline in movies suggests a need to balance its portfolio to maintain appeal for movie-focused audiences.\n",
        "\n",
        "Regional analysis highlights opportunities for tailored content strategies. For instance, increasing movie offerings in regions like the U.S. and India, while expanding TV show libraries in markets like Japan, could enhance viewer satisfaction.\n",
        "\n",
        "Clustering based on textual features (though optional in this analysis) could further uncover latent themes, aiding in content categorization and personalized recommendations, which are critical for user engagement.\n",
        "\n",
        "In conclusion, Netflix's content strategy has evolved to **prioritize TV shows**, reflecting changing viewer habits, but the** decline in movies** calls for a reassessment to maintain a diverse library. Regional differences underscore the importance of localized content strategies, and understanding content characteristics can guide future investments to optimize Netflix's global appeal and subscriber retention."
      ],
      "metadata": {
        "id": "o74Tb7co2n1f"
      }
    }
  ]
}