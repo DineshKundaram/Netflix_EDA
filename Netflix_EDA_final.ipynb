{
  "cells": [
    {
      "cell_type": "markdown",
      "metadata": {
        "id": "viui27WSmUQ1"
      },
      "source": [
        "# **Project Name** - NETFLIX EDA"
      ]
    },
    {
      "cell_type": "markdown",
      "metadata": {
        "id": "OPPV5Z3onmGA"
      },
      "source": [
        "**Project Type** - EDA\n",
        "\n",
        "**Contribution** - Individual"
      ]
    },
    {
      "cell_type": "markdown",
      "metadata": {
        "id": "QwcORdFhm6tR"
      },
      "source": [
        "# **Project Summary:**"
      ]
    },
    {
      "cell_type": "markdown",
      "metadata": {
        "id": "3Zgrm8M-oEQ-"
      },
      "source": [
        "This project centers on clustering Netflix movies and TV shows using unsupervised machine learning techniques on Microsoft Azure. The dataset, sourced from Flixable and covering content as of 2019, includes both TV shows and movies available on Netflix. An exciting aspect of the project is its intent to enrich the Netflix data by integrating external sources—like IMDB ratings and Rotten Tomatoes—to derive deeper insights into content categorization and audience reception."
      ]
    },
    {
      "cell_type": "markdown",
      "metadata": {
        "id": "0vmNVbMBwftH"
      },
      "source": [
        "# **Problem Statement**"
      ]
    },
    {
      "cell_type": "markdown",
      "metadata": {
        "id": "_6OGEU0iwpqm"
      },
      "source": [
        "The dataset reveals a notable shift in Netflix's content strategy: while the number of TV shows has nearly tripled since 2010, the number of movies has decreased by over 2000 titles. This raises several critical issues:\n",
        "\n",
        "**Content Evolution:** What are the implications of a growing TV show library versus a shrinking movie offering?\n",
        "\n",
        "**Regional Variability:** How does the type of content differ across countries?\n",
        "\n",
        "**Feature Clustering:** (optional) Can unsupervised learning techniques effectively group similar content based on text-based features, and what insights might this clustering yield?"
      ]
    },
    {
      "cell_type": "markdown",
      "metadata": {
        "id": "WDYp_upSxeOv"
      },
      "source": [
        "# **Business Objective**"
      ]
    },
    {
      "cell_type": "markdown",
      "metadata": {
        "id": "2rsG-LPvxjuH"
      },
      "source": [
        "1) **Exploratory Data Analysis:** Dive deep into the dataset to identify structural patterns, trends, and anomalies within Netflix's content offerings.\n",
        "\n",
        "2) **Regional Content Analysis:** Determine what types of content are available in different countries to inform tailored content strategies and regional engagements.\n",
        "\n",
        "3) **Content Strategy Evaluation:** Analyze whether Netflix is consciously pivoting towards TV shows over movies and to what extent this evolution aligns with its broader business strategy.\n",
        "\n",
        "4) **Clustering for Insights: (optional)** Implement clustering algorithms to group similar content based on textual features. This will help in categorizing content effectively, uncovering latent themes, and possibly guiding decisions on future content investments."
      ]
    },
    {
      "cell_type": "markdown",
      "metadata": {
        "id": "3dsA_5tnDgID"
      },
      "source": [
        "# **Let's Dive!!**"
      ]
    },
    {
      "cell_type": "markdown",
      "metadata": {
        "id": "2Q3M9TuYDtqM"
      },
      "source": [
        "### Checking Data"
      ]
    },
    {
      "cell_type": "code",
      "execution_count": 1,
      "metadata": {
        "id": "YT3ISlvCnyap"
      },
      "outputs": [],
      "source": [
        "# Required modules\n",
        "import pandas as pd\n",
        "import numpy as np\n",
        "import seaborn as sns\n",
        "import matplotlib.pyplot as plt\n",
        "import plotly.express as px\n",
        "import random\n",
        "import re\n",
        "import collections\n",
        "import unicodedata\n",
        "from wordcloud import WordCloud\n",
        "import plotly.graph_objects as go\n",
        "import io\n",
        "import base64\n",
        "import warnings\n",
        "warnings.filterwarnings('ignore')\n",
        "sns.set(style='whitegrid', palette='muted', color_codes=True)"
      ]
    },
    {
      "cell_type": "markdown",
      "metadata": {
        "id": "OLr5Z0ChDyyw"
      },
      "source": [
        "### Initial data looks"
      ]
    },
    {
      "cell_type": "code",
      "execution_count": 2,
      "metadata": {
        "id": "LdEFCK7ToBrZ"
      },
      "outputs": [],
      "source": [
        "df = pd.read_csv(\"D:/Projects/Labmentix/BA/Netflix/NETFLIX MOVIES AND TV SHOWS CLUSTERING.csv\")"
      ]
    },
    {
      "cell_type": "code",
      "execution_count": 3,
      "metadata": {
        "colab": {
          "base_uri": "https://localhost:8080/",
          "height": 247
        },
        "id": "ULOIYjgPoCxC",
        "outputId": "b1fce7e2-82e8-4de3-de6a-47e8ee3545d0"
      },
      "outputs": [
        {
          "data": {
            "text/html": [
              "<div>\n",
              "<style scoped>\n",
              "    .dataframe tbody tr th:only-of-type {\n",
              "        vertical-align: middle;\n",
              "    }\n",
              "\n",
              "    .dataframe tbody tr th {\n",
              "        vertical-align: top;\n",
              "    }\n",
              "\n",
              "    .dataframe thead th {\n",
              "        text-align: right;\n",
              "    }\n",
              "</style>\n",
              "<table border=\"1\" class=\"dataframe\">\n",
              "  <thead>\n",
              "    <tr style=\"text-align: right;\">\n",
              "      <th></th>\n",
              "      <th>show_id</th>\n",
              "      <th>type</th>\n",
              "      <th>title</th>\n",
              "      <th>director</th>\n",
              "      <th>cast</th>\n",
              "      <th>country</th>\n",
              "      <th>date_added</th>\n",
              "      <th>release_year</th>\n",
              "      <th>rating</th>\n",
              "      <th>duration</th>\n",
              "      <th>listed_in</th>\n",
              "      <th>description</th>\n",
              "    </tr>\n",
              "  </thead>\n",
              "  <tbody>\n",
              "    <tr>\n",
              "      <th>0</th>\n",
              "      <td>s1</td>\n",
              "      <td>TV Show</td>\n",
              "      <td>3%</td>\n",
              "      <td>NaN</td>\n",
              "      <td>João Miguel, Bianca Comparato, Michel Gomes, R...</td>\n",
              "      <td>Brazil</td>\n",
              "      <td>August 14, 2020</td>\n",
              "      <td>2020</td>\n",
              "      <td>TV-MA</td>\n",
              "      <td>4 Seasons</td>\n",
              "      <td>International TV Shows, TV Dramas, TV Sci-Fi &amp;...</td>\n",
              "      <td>In a future where the elite inhabit an island ...</td>\n",
              "    </tr>\n",
              "    <tr>\n",
              "      <th>1</th>\n",
              "      <td>s2</td>\n",
              "      <td>Movie</td>\n",
              "      <td>7:19</td>\n",
              "      <td>Jorge Michel Grau</td>\n",
              "      <td>Demián Bichir, Héctor Bonilla, Oscar Serrano, ...</td>\n",
              "      <td>Mexico</td>\n",
              "      <td>December 23, 2016</td>\n",
              "      <td>2016</td>\n",
              "      <td>TV-MA</td>\n",
              "      <td>93 min</td>\n",
              "      <td>Dramas, International Movies</td>\n",
              "      <td>After a devastating earthquake hits Mexico Cit...</td>\n",
              "    </tr>\n",
              "    <tr>\n",
              "      <th>2</th>\n",
              "      <td>s3</td>\n",
              "      <td>Movie</td>\n",
              "      <td>23:59</td>\n",
              "      <td>Gilbert Chan</td>\n",
              "      <td>Tedd Chan, Stella Chung, Henley Hii, Lawrence ...</td>\n",
              "      <td>Singapore</td>\n",
              "      <td>December 20, 2018</td>\n",
              "      <td>2011</td>\n",
              "      <td>R</td>\n",
              "      <td>78 min</td>\n",
              "      <td>Horror Movies, International Movies</td>\n",
              "      <td>When an army recruit is found dead, his fellow...</td>\n",
              "    </tr>\n",
              "  </tbody>\n",
              "</table>\n",
              "</div>"
            ],
            "text/plain": [
              "  show_id     type  title           director  \\\n",
              "0      s1  TV Show     3%                NaN   \n",
              "1      s2    Movie   7:19  Jorge Michel Grau   \n",
              "2      s3    Movie  23:59       Gilbert Chan   \n",
              "\n",
              "                                                cast    country  \\\n",
              "0  João Miguel, Bianca Comparato, Michel Gomes, R...     Brazil   \n",
              "1  Demián Bichir, Héctor Bonilla, Oscar Serrano, ...     Mexico   \n",
              "2  Tedd Chan, Stella Chung, Henley Hii, Lawrence ...  Singapore   \n",
              "\n",
              "          date_added  release_year rating   duration  \\\n",
              "0    August 14, 2020          2020  TV-MA  4 Seasons   \n",
              "1  December 23, 2016          2016  TV-MA     93 min   \n",
              "2  December 20, 2018          2011      R     78 min   \n",
              "\n",
              "                                           listed_in  \\\n",
              "0  International TV Shows, TV Dramas, TV Sci-Fi &...   \n",
              "1                       Dramas, International Movies   \n",
              "2                Horror Movies, International Movies   \n",
              "\n",
              "                                         description  \n",
              "0  In a future where the elite inhabit an island ...  \n",
              "1  After a devastating earthquake hits Mexico Cit...  \n",
              "2  When an army recruit is found dead, his fellow...  "
            ]
          },
          "execution_count": 3,
          "metadata": {},
          "output_type": "execute_result"
        }
      ],
      "source": [
        "df.head(3)"
      ]
    },
    {
      "cell_type": "markdown",
      "metadata": {
        "id": "Kj6NVu18D-lq"
      },
      "source": [
        "### Dataset Rows & Columns count"
      ]
    },
    {
      "cell_type": "code",
      "execution_count": 4,
      "metadata": {
        "colab": {
          "base_uri": "https://localhost:8080/"
        },
        "id": "EtDzK6wNpAWk",
        "outputId": "baf7a5f5-095a-448c-fc09-c094332659b4"
      },
      "outputs": [
        {
          "name": "stdout",
          "output_type": "stream",
          "text": [
            "Number of Rows = 7787\n",
            "Number of Columns = 12\n"
          ]
        }
      ],
      "source": [
        "# Dataset Rows & Columns count\n",
        "print('Number of Rows =', df.shape[0])\n",
        "print('Number of Columns =',df.shape[1])"
      ]
    },
    {
      "cell_type": "markdown",
      "metadata": {
        "id": "0rg_HLt0ESBz"
      },
      "source": [
        "### Dataset information"
      ]
    },
    {
      "cell_type": "code",
      "execution_count": 5,
      "metadata": {
        "colab": {
          "base_uri": "https://localhost:8080/"
        },
        "id": "WI2GSuZhpOmm",
        "outputId": "6d16a306-0d38-4437-e5cf-4384d514604d"
      },
      "outputs": [
        {
          "name": "stdout",
          "output_type": "stream",
          "text": [
            "<class 'pandas.core.frame.DataFrame'>\n",
            "RangeIndex: 7787 entries, 0 to 7786\n",
            "Data columns (total 12 columns):\n",
            " #   Column        Non-Null Count  Dtype \n",
            "---  ------        --------------  ----- \n",
            " 0   show_id       7787 non-null   object\n",
            " 1   type          7787 non-null   object\n",
            " 2   title         7787 non-null   object\n",
            " 3   director      5398 non-null   object\n",
            " 4   cast          7069 non-null   object\n",
            " 5   country       7280 non-null   object\n",
            " 6   date_added    7777 non-null   object\n",
            " 7   release_year  7787 non-null   int64 \n",
            " 8   rating        7780 non-null   object\n",
            " 9   duration      7787 non-null   object\n",
            " 10  listed_in     7787 non-null   object\n",
            " 11  description   7787 non-null   object\n",
            "dtypes: int64(1), object(11)\n",
            "memory usage: 730.2+ KB\n"
          ]
        }
      ],
      "source": [
        "df.info()"
      ]
    },
    {
      "cell_type": "markdown",
      "metadata": {
        "id": "3K-ttyb1Gxat"
      },
      "source": [
        "## **Understanding Your Variables**"
      ]
    },
    {
      "cell_type": "code",
      "execution_count": 6,
      "metadata": {
        "colab": {
          "base_uri": "https://localhost:8080/"
        },
        "id": "QpsZF48LpOcK",
        "outputId": "ceb354de-db3c-4dbb-d757-462a664c4c25"
      },
      "outputs": [
        {
          "data": {
            "text/plain": [
              "Index(['show_id', 'type', 'title', 'director', 'cast', 'country', 'date_added',\n",
              "       'release_year', 'rating', 'duration', 'listed_in', 'description'],\n",
              "      dtype='object')"
            ]
          },
          "execution_count": 6,
          "metadata": {},
          "output_type": "execute_result"
        }
      ],
      "source": [
        "# checking columns\n",
        "df.columns"
      ]
    },
    {
      "cell_type": "markdown",
      "metadata": {
        "id": "6bkvHpRFE1L8"
      },
      "source": [
        "#### Dataset Summary Statistics (Rounded)"
      ]
    },
    {
      "cell_type": "code",
      "execution_count": 7,
      "metadata": {
        "colab": {
          "base_uri": "https://localhost:8080/",
          "height": 429
        },
        "id": "29c5TNSOpOhi",
        "outputId": "80bd4efd-c17f-4418-aa03-0bd7e873cb72"
      },
      "outputs": [
        {
          "data": {
            "text/html": [
              "<div>\n",
              "<style scoped>\n",
              "    .dataframe tbody tr th:only-of-type {\n",
              "        vertical-align: middle;\n",
              "    }\n",
              "\n",
              "    .dataframe tbody tr th {\n",
              "        vertical-align: top;\n",
              "    }\n",
              "\n",
              "    .dataframe thead th {\n",
              "        text-align: right;\n",
              "    }\n",
              "</style>\n",
              "<table border=\"1\" class=\"dataframe\">\n",
              "  <thead>\n",
              "    <tr style=\"text-align: right;\">\n",
              "      <th></th>\n",
              "      <th>show_id</th>\n",
              "      <th>type</th>\n",
              "      <th>title</th>\n",
              "      <th>director</th>\n",
              "      <th>cast</th>\n",
              "      <th>country</th>\n",
              "      <th>date_added</th>\n",
              "      <th>release_year</th>\n",
              "      <th>rating</th>\n",
              "      <th>duration</th>\n",
              "      <th>listed_in</th>\n",
              "      <th>description</th>\n",
              "    </tr>\n",
              "  </thead>\n",
              "  <tbody>\n",
              "    <tr>\n",
              "      <th>count</th>\n",
              "      <td>7787</td>\n",
              "      <td>7787</td>\n",
              "      <td>7787</td>\n",
              "      <td>5398</td>\n",
              "      <td>7069</td>\n",
              "      <td>7280</td>\n",
              "      <td>7777</td>\n",
              "      <td>7787.0</td>\n",
              "      <td>7780</td>\n",
              "      <td>7787</td>\n",
              "      <td>7787</td>\n",
              "      <td>7787</td>\n",
              "    </tr>\n",
              "    <tr>\n",
              "      <th>unique</th>\n",
              "      <td>7787</td>\n",
              "      <td>2</td>\n",
              "      <td>7787</td>\n",
              "      <td>4049</td>\n",
              "      <td>6831</td>\n",
              "      <td>681</td>\n",
              "      <td>1565</td>\n",
              "      <td>NaN</td>\n",
              "      <td>14</td>\n",
              "      <td>216</td>\n",
              "      <td>492</td>\n",
              "      <td>7769</td>\n",
              "    </tr>\n",
              "    <tr>\n",
              "      <th>top</th>\n",
              "      <td>s1</td>\n",
              "      <td>Movie</td>\n",
              "      <td>3%</td>\n",
              "      <td>Raúl Campos, Jan Suter</td>\n",
              "      <td>David Attenborough</td>\n",
              "      <td>United States</td>\n",
              "      <td>January 1, 2020</td>\n",
              "      <td>NaN</td>\n",
              "      <td>TV-MA</td>\n",
              "      <td>1 Season</td>\n",
              "      <td>Documentaries</td>\n",
              "      <td>Multiple women report their husbands as missin...</td>\n",
              "    </tr>\n",
              "    <tr>\n",
              "      <th>freq</th>\n",
              "      <td>1</td>\n",
              "      <td>5377</td>\n",
              "      <td>1</td>\n",
              "      <td>18</td>\n",
              "      <td>18</td>\n",
              "      <td>2555</td>\n",
              "      <td>118</td>\n",
              "      <td>NaN</td>\n",
              "      <td>2863</td>\n",
              "      <td>1608</td>\n",
              "      <td>334</td>\n",
              "      <td>3</td>\n",
              "    </tr>\n",
              "    <tr>\n",
              "      <th>mean</th>\n",
              "      <td>NaN</td>\n",
              "      <td>NaN</td>\n",
              "      <td>NaN</td>\n",
              "      <td>NaN</td>\n",
              "      <td>NaN</td>\n",
              "      <td>NaN</td>\n",
              "      <td>NaN</td>\n",
              "      <td>2014.0</td>\n",
              "      <td>NaN</td>\n",
              "      <td>NaN</td>\n",
              "      <td>NaN</td>\n",
              "      <td>NaN</td>\n",
              "    </tr>\n",
              "    <tr>\n",
              "      <th>std</th>\n",
              "      <td>NaN</td>\n",
              "      <td>NaN</td>\n",
              "      <td>NaN</td>\n",
              "      <td>NaN</td>\n",
              "      <td>NaN</td>\n",
              "      <td>NaN</td>\n",
              "      <td>NaN</td>\n",
              "      <td>9.0</td>\n",
              "      <td>NaN</td>\n",
              "      <td>NaN</td>\n",
              "      <td>NaN</td>\n",
              "      <td>NaN</td>\n",
              "    </tr>\n",
              "    <tr>\n",
              "      <th>min</th>\n",
              "      <td>NaN</td>\n",
              "      <td>NaN</td>\n",
              "      <td>NaN</td>\n",
              "      <td>NaN</td>\n",
              "      <td>NaN</td>\n",
              "      <td>NaN</td>\n",
              "      <td>NaN</td>\n",
              "      <td>1925.0</td>\n",
              "      <td>NaN</td>\n",
              "      <td>NaN</td>\n",
              "      <td>NaN</td>\n",
              "      <td>NaN</td>\n",
              "    </tr>\n",
              "    <tr>\n",
              "      <th>25%</th>\n",
              "      <td>NaN</td>\n",
              "      <td>NaN</td>\n",
              "      <td>NaN</td>\n",
              "      <td>NaN</td>\n",
              "      <td>NaN</td>\n",
              "      <td>NaN</td>\n",
              "      <td>NaN</td>\n",
              "      <td>2013.0</td>\n",
              "      <td>NaN</td>\n",
              "      <td>NaN</td>\n",
              "      <td>NaN</td>\n",
              "      <td>NaN</td>\n",
              "    </tr>\n",
              "    <tr>\n",
              "      <th>50%</th>\n",
              "      <td>NaN</td>\n",
              "      <td>NaN</td>\n",
              "      <td>NaN</td>\n",
              "      <td>NaN</td>\n",
              "      <td>NaN</td>\n",
              "      <td>NaN</td>\n",
              "      <td>NaN</td>\n",
              "      <td>2017.0</td>\n",
              "      <td>NaN</td>\n",
              "      <td>NaN</td>\n",
              "      <td>NaN</td>\n",
              "      <td>NaN</td>\n",
              "    </tr>\n",
              "    <tr>\n",
              "      <th>75%</th>\n",
              "      <td>NaN</td>\n",
              "      <td>NaN</td>\n",
              "      <td>NaN</td>\n",
              "      <td>NaN</td>\n",
              "      <td>NaN</td>\n",
              "      <td>NaN</td>\n",
              "      <td>NaN</td>\n",
              "      <td>2018.0</td>\n",
              "      <td>NaN</td>\n",
              "      <td>NaN</td>\n",
              "      <td>NaN</td>\n",
              "      <td>NaN</td>\n",
              "    </tr>\n",
              "    <tr>\n",
              "      <th>max</th>\n",
              "      <td>NaN</td>\n",
              "      <td>NaN</td>\n",
              "      <td>NaN</td>\n",
              "      <td>NaN</td>\n",
              "      <td>NaN</td>\n",
              "      <td>NaN</td>\n",
              "      <td>NaN</td>\n",
              "      <td>2021.0</td>\n",
              "      <td>NaN</td>\n",
              "      <td>NaN</td>\n",
              "      <td>NaN</td>\n",
              "      <td>NaN</td>\n",
              "    </tr>\n",
              "  </tbody>\n",
              "</table>\n",
              "</div>"
            ],
            "text/plain": [
              "       show_id   type title                director                cast  \\\n",
              "count     7787   7787  7787                    5398                7069   \n",
              "unique    7787      2  7787                    4049                6831   \n",
              "top         s1  Movie    3%  Raúl Campos, Jan Suter  David Attenborough   \n",
              "freq         1   5377     1                      18                  18   \n",
              "mean       NaN    NaN   NaN                     NaN                 NaN   \n",
              "std        NaN    NaN   NaN                     NaN                 NaN   \n",
              "min        NaN    NaN   NaN                     NaN                 NaN   \n",
              "25%        NaN    NaN   NaN                     NaN                 NaN   \n",
              "50%        NaN    NaN   NaN                     NaN                 NaN   \n",
              "75%        NaN    NaN   NaN                     NaN                 NaN   \n",
              "max        NaN    NaN   NaN                     NaN                 NaN   \n",
              "\n",
              "              country       date_added  release_year rating  duration  \\\n",
              "count            7280             7777        7787.0   7780      7787   \n",
              "unique            681             1565           NaN     14       216   \n",
              "top     United States  January 1, 2020           NaN  TV-MA  1 Season   \n",
              "freq             2555              118           NaN   2863      1608   \n",
              "mean              NaN              NaN        2014.0    NaN       NaN   \n",
              "std               NaN              NaN           9.0    NaN       NaN   \n",
              "min               NaN              NaN        1925.0    NaN       NaN   \n",
              "25%               NaN              NaN        2013.0    NaN       NaN   \n",
              "50%               NaN              NaN        2017.0    NaN       NaN   \n",
              "75%               NaN              NaN        2018.0    NaN       NaN   \n",
              "max               NaN              NaN        2021.0    NaN       NaN   \n",
              "\n",
              "            listed_in                                        description  \n",
              "count            7787                                               7787  \n",
              "unique            492                                               7769  \n",
              "top     Documentaries  Multiple women report their husbands as missin...  \n",
              "freq              334                                                  3  \n",
              "mean              NaN                                                NaN  \n",
              "std               NaN                                                NaN  \n",
              "min               NaN                                                NaN  \n",
              "25%               NaN                                                NaN  \n",
              "50%               NaN                                                NaN  \n",
              "75%               NaN                                                NaN  \n",
              "max               NaN                                                NaN  "
            ]
          },
          "execution_count": 7,
          "metadata": {},
          "output_type": "execute_result"
        }
      ],
      "source": [
        "round(df.describe(include='all'))"
      ]
    },
    {
      "cell_type": "markdown",
      "metadata": {
        "id": "Q3WqCT0KGo6U"
      },
      "source": [
        "The **output shows** that the Netflix dataset contains 7787 unique titles—with movies dominating over TV shows—and highlights modern content (median release year around 2017) with significant diversity in fields like director, cast, and genres, though some attributes have missing data."
      ]
    },
    {
      "cell_type": "markdown",
      "metadata": {
        "id": "QTLNo6l9Hw2R"
      },
      "source": [
        "**show_id:** A unique identifier for each Netflix title.\n",
        "\n",
        "**type:** Indicates whether the title is a Movie or a TV Show.\n",
        "\n",
        "**title:** The name of the Netflix title.\n",
        "\n",
        "**director:** The director(s) associated with the title.\n",
        "\n",
        "**cast:** The main cast members featured in the title.\n",
        "\n",
        "**country:** The country or countries where the title was produced.\n",
        "\n",
        "**date_added:** The date when the title was added to Netflix.\n",
        "\n",
        "**release_year:** The year the title was originally released.\n",
        "\n",
        "**rating:** The content rating assigned to the title (e.g., TV-MA, PG).\n",
        "\n",
        "**duration:** The runtime for movies (in minutes) or the number of seasons for TV shows.\n",
        "\n",
        "**listed_in:** The genres or categories under which the title is classified.\n",
        "\n",
        "**description:** A brief synopsis of the title's content."
      ]
    },
    {
      "cell_type": "markdown",
      "metadata": {
        "id": "zOArhBrGIgnA"
      },
      "source": [
        "#### Check Unique Values for each variable."
      ]
    },
    {
      "cell_type": "code",
      "execution_count": 8,
      "metadata": {
        "colab": {
          "base_uri": "https://localhost:8080/"
        },
        "id": "Ll9GCjDrIidm",
        "outputId": "043cc5b7-5558-4757-c4ed-bdb96ddbfb60"
      },
      "outputs": [
        {
          "name": "stdout",
          "output_type": "stream",
          "text": [
            "Unique Values in dataset:\n",
            "\n",
            "show_id         7787\n",
            "type               2\n",
            "title           7787\n",
            "director        4049\n",
            "cast            6831\n",
            "country          681\n",
            "date_added      1565\n",
            "release_year      73\n",
            "rating            14\n",
            "duration         216\n",
            "listed_in        492\n",
            "description     7769\n",
            "dtype: int64\n"
          ]
        }
      ],
      "source": [
        "print('Unique Values in dataset:\\n')\n",
        "print(df.nunique())"
      ]
    },
    {
      "cell_type": "markdown",
      "metadata": {
        "id": "5VRJVCWhJTwL"
      },
      "source": [
        "#### Checking Missing Values/Null Values"
      ]
    },
    {
      "cell_type": "code",
      "execution_count": 9,
      "metadata": {
        "colab": {
          "base_uri": "https://localhost:8080/"
        },
        "id": "ol730IOKJAIR",
        "outputId": "6a624d01-f96f-439d-b3da-352b1e622e40"
      },
      "outputs": [
        {
          "name": "stdout",
          "output_type": "stream",
          "text": [
            "Number of missing values in dataset = 3631\n"
          ]
        }
      ],
      "source": [
        "# Missing Values/Null Values Count\n",
        "print('Number of missing values in dataset =', df.isnull().sum().sum())"
      ]
    },
    {
      "cell_type": "code",
      "execution_count": 10,
      "metadata": {
        "colab": {
          "base_uri": "https://localhost:8080/",
          "height": 542
        },
        "id": "t3nHYzC1JXkf",
        "outputId": "874e7448-9401-4b51-c15a-255748252afa"
      },
      "outputs": [
        {
          "data": {
            "application/vnd.plotly.v1+json": {
              "config": {
                "plotlyServerURL": "https://plot.ly"
              },
              "data": [
                {
                  "hovertemplate": "Column names=%{x}<br>Missing Values=%{text}<extra></extra>",
                  "legendgroup": "show_id",
                  "marker": {
                    "color": "#22C5EE",
                    "pattern": {
                      "shape": ""
                    }
                  },
                  "name": "show_id",
                  "orientation": "v",
                  "showlegend": true,
                  "text": {
                    "bdata": "AAAAAAAAAAA=",
                    "dtype": "f8"
                  },
                  "textposition": "outside",
                  "type": "bar",
                  "x": [
                    "show_id"
                  ],
                  "xaxis": "x",
                  "y": {
                    "bdata": "AA==",
                    "dtype": "i1"
                  },
                  "yaxis": "y"
                },
                {
                  "hovertemplate": "Column names=%{x}<br>Missing Values=%{text}<extra></extra>",
                  "legendgroup": "type",
                  "marker": {
                    "color": "#BA32B9",
                    "pattern": {
                      "shape": ""
                    }
                  },
                  "name": "type",
                  "orientation": "v",
                  "showlegend": true,
                  "text": {
                    "bdata": "AAAAAAAAAAA=",
                    "dtype": "f8"
                  },
                  "textposition": "outside",
                  "type": "bar",
                  "x": [
                    "type"
                  ],
                  "xaxis": "x",
                  "y": {
                    "bdata": "AA==",
                    "dtype": "i1"
                  },
                  "yaxis": "y"
                },
                {
                  "hovertemplate": "Column names=%{x}<br>Missing Values=%{text}<extra></extra>",
                  "legendgroup": "title",
                  "marker": {
                    "color": "#702E7E",
                    "pattern": {
                      "shape": ""
                    }
                  },
                  "name": "title",
                  "orientation": "v",
                  "showlegend": true,
                  "text": {
                    "bdata": "AAAAAAAAAAA=",
                    "dtype": "f8"
                  },
                  "textposition": "outside",
                  "type": "bar",
                  "x": [
                    "title"
                  ],
                  "xaxis": "x",
                  "y": {
                    "bdata": "AA==",
                    "dtype": "i1"
                  },
                  "yaxis": "y"
                },
                {
                  "hovertemplate": "Column names=%{x}<br>Missing Values=%{text}<extra></extra>",
                  "legendgroup": "director",
                  "marker": {
                    "color": "#67F7A3",
                    "pattern": {
                      "shape": ""
                    }
                  },
                  "name": "director",
                  "orientation": "v",
                  "showlegend": true,
                  "text": {
                    "bdata": "AAAAAACqokA=",
                    "dtype": "f8"
                  },
                  "textposition": "outside",
                  "type": "bar",
                  "x": [
                    "director"
                  ],
                  "xaxis": "x",
                  "y": {
                    "bdata": "VQk=",
                    "dtype": "i2"
                  },
                  "yaxis": "y"
                },
                {
                  "hovertemplate": "Column names=%{x}<br>Missing Values=%{text}<extra></extra>",
                  "legendgroup": "cast",
                  "marker": {
                    "color": "#F77013",
                    "pattern": {
                      "shape": ""
                    }
                  },
                  "name": "cast",
                  "orientation": "v",
                  "showlegend": true,
                  "text": {
                    "bdata": "AAAAAABwhkA=",
                    "dtype": "f8"
                  },
                  "textposition": "outside",
                  "type": "bar",
                  "x": [
                    "cast"
                  ],
                  "xaxis": "x",
                  "y": {
                    "bdata": "zgI=",
                    "dtype": "i2"
                  },
                  "yaxis": "y"
                },
                {
                  "hovertemplate": "Column names=%{x}<br>Missing Values=%{text}<extra></extra>",
                  "legendgroup": "country",
                  "marker": {
                    "color": "#8FDC01",
                    "pattern": {
                      "shape": ""
                    }
                  },
                  "name": "country",
                  "orientation": "v",
                  "showlegend": true,
                  "text": {
                    "bdata": "AAAAAACwf0A=",
                    "dtype": "f8"
                  },
                  "textposition": "outside",
                  "type": "bar",
                  "x": [
                    "country"
                  ],
                  "xaxis": "x",
                  "y": {
                    "bdata": "+wE=",
                    "dtype": "i2"
                  },
                  "yaxis": "y"
                },
                {
                  "hovertemplate": "Column names=%{x}<br>Missing Values=%{text}<extra></extra>",
                  "legendgroup": "date_added",
                  "marker": {
                    "color": "#961D41",
                    "pattern": {
                      "shape": ""
                    }
                  },
                  "name": "date_added",
                  "orientation": "v",
                  "showlegend": true,
                  "text": {
                    "bdata": "AAAAAAAAJEA=",
                    "dtype": "f8"
                  },
                  "textposition": "outside",
                  "type": "bar",
                  "x": [
                    "date_added"
                  ],
                  "xaxis": "x",
                  "y": {
                    "bdata": "Cg==",
                    "dtype": "i1"
                  },
                  "yaxis": "y"
                },
                {
                  "hovertemplate": "Column names=%{x}<br>Missing Values=%{text}<extra></extra>",
                  "legendgroup": "release_year",
                  "marker": {
                    "color": "#8C58E5",
                    "pattern": {
                      "shape": ""
                    }
                  },
                  "name": "release_year",
                  "orientation": "v",
                  "showlegend": true,
                  "text": {
                    "bdata": "AAAAAAAAAAA=",
                    "dtype": "f8"
                  },
                  "textposition": "outside",
                  "type": "bar",
                  "x": [
                    "release_year"
                  ],
                  "xaxis": "x",
                  "y": {
                    "bdata": "AA==",
                    "dtype": "i1"
                  },
                  "yaxis": "y"
                },
                {
                  "hovertemplate": "Column names=%{x}<br>Missing Values=%{text}<extra></extra>",
                  "legendgroup": "rating",
                  "marker": {
                    "color": "#72AF21",
                    "pattern": {
                      "shape": ""
                    }
                  },
                  "name": "rating",
                  "orientation": "v",
                  "showlegend": true,
                  "text": {
                    "bdata": "AAAAAAAAHEA=",
                    "dtype": "f8"
                  },
                  "textposition": "outside",
                  "type": "bar",
                  "x": [
                    "rating"
                  ],
                  "xaxis": "x",
                  "y": {
                    "bdata": "Bw==",
                    "dtype": "i1"
                  },
                  "yaxis": "y"
                },
                {
                  "hovertemplate": "Column names=%{x}<br>Missing Values=%{text}<extra></extra>",
                  "legendgroup": "duration",
                  "marker": {
                    "color": "#2F0D80",
                    "pattern": {
                      "shape": ""
                    }
                  },
                  "name": "duration",
                  "orientation": "v",
                  "showlegend": true,
                  "text": {
                    "bdata": "AAAAAAAAAAA=",
                    "dtype": "f8"
                  },
                  "textposition": "outside",
                  "type": "bar",
                  "x": [
                    "duration"
                  ],
                  "xaxis": "x",
                  "y": {
                    "bdata": "AA==",
                    "dtype": "i1"
                  },
                  "yaxis": "y"
                },
                {
                  "hovertemplate": "Column names=%{x}<br>Missing Values=%{text}<extra></extra>",
                  "legendgroup": "listed_in",
                  "marker": {
                    "color": "#A28E16",
                    "pattern": {
                      "shape": ""
                    }
                  },
                  "name": "listed_in",
                  "orientation": "v",
                  "showlegend": true,
                  "text": {
                    "bdata": "AAAAAAAAAAA=",
                    "dtype": "f8"
                  },
                  "textposition": "outside",
                  "type": "bar",
                  "x": [
                    "listed_in"
                  ],
                  "xaxis": "x",
                  "y": {
                    "bdata": "AA==",
                    "dtype": "i1"
                  },
                  "yaxis": "y"
                },
                {
                  "hovertemplate": "Column names=%{x}<br>Missing Values=%{text}<extra></extra>",
                  "legendgroup": "description",
                  "marker": {
                    "color": "#B7834A",
                    "pattern": {
                      "shape": ""
                    }
                  },
                  "name": "description",
                  "orientation": "v",
                  "showlegend": true,
                  "text": {
                    "bdata": "AAAAAAAAAAA=",
                    "dtype": "f8"
                  },
                  "textposition": "outside",
                  "type": "bar",
                  "x": [
                    "description"
                  ],
                  "xaxis": "x",
                  "y": {
                    "bdata": "AA==",
                    "dtype": "i1"
                  },
                  "yaxis": "y"
                }
              ],
              "layout": {
                "barmode": "relative",
                "legend": {
                  "title": {
                    "text": "Column names"
                  },
                  "tracegroupgap": 0
                },
                "template": {
                  "data": {
                    "bar": [
                      {
                        "error_x": {
                          "color": "#2a3f5f"
                        },
                        "error_y": {
                          "color": "#2a3f5f"
                        },
                        "marker": {
                          "line": {
                            "color": "#E5ECF6",
                            "width": 0.5
                          },
                          "pattern": {
                            "fillmode": "overlay",
                            "size": 10,
                            "solidity": 0.2
                          }
                        },
                        "type": "bar"
                      }
                    ],
                    "barpolar": [
                      {
                        "marker": {
                          "line": {
                            "color": "#E5ECF6",
                            "width": 0.5
                          },
                          "pattern": {
                            "fillmode": "overlay",
                            "size": 10,
                            "solidity": 0.2
                          }
                        },
                        "type": "barpolar"
                      }
                    ],
                    "carpet": [
                      {
                        "aaxis": {
                          "endlinecolor": "#2a3f5f",
                          "gridcolor": "white",
                          "linecolor": "white",
                          "minorgridcolor": "white",
                          "startlinecolor": "#2a3f5f"
                        },
                        "baxis": {
                          "endlinecolor": "#2a3f5f",
                          "gridcolor": "white",
                          "linecolor": "white",
                          "minorgridcolor": "white",
                          "startlinecolor": "#2a3f5f"
                        },
                        "type": "carpet"
                      }
                    ],
                    "choropleth": [
                      {
                        "colorbar": {
                          "outlinewidth": 0,
                          "ticks": ""
                        },
                        "type": "choropleth"
                      }
                    ],
                    "contour": [
                      {
                        "colorbar": {
                          "outlinewidth": 0,
                          "ticks": ""
                        },
                        "colorscale": [
                          [
                            0,
                            "#0d0887"
                          ],
                          [
                            0.1111111111111111,
                            "#46039f"
                          ],
                          [
                            0.2222222222222222,
                            "#7201a8"
                          ],
                          [
                            0.3333333333333333,
                            "#9c179e"
                          ],
                          [
                            0.4444444444444444,
                            "#bd3786"
                          ],
                          [
                            0.5555555555555556,
                            "#d8576b"
                          ],
                          [
                            0.6666666666666666,
                            "#ed7953"
                          ],
                          [
                            0.7777777777777778,
                            "#fb9f3a"
                          ],
                          [
                            0.8888888888888888,
                            "#fdca26"
                          ],
                          [
                            1,
                            "#f0f921"
                          ]
                        ],
                        "type": "contour"
                      }
                    ],
                    "contourcarpet": [
                      {
                        "colorbar": {
                          "outlinewidth": 0,
                          "ticks": ""
                        },
                        "type": "contourcarpet"
                      }
                    ],
                    "heatmap": [
                      {
                        "colorbar": {
                          "outlinewidth": 0,
                          "ticks": ""
                        },
                        "colorscale": [
                          [
                            0,
                            "#0d0887"
                          ],
                          [
                            0.1111111111111111,
                            "#46039f"
                          ],
                          [
                            0.2222222222222222,
                            "#7201a8"
                          ],
                          [
                            0.3333333333333333,
                            "#9c179e"
                          ],
                          [
                            0.4444444444444444,
                            "#bd3786"
                          ],
                          [
                            0.5555555555555556,
                            "#d8576b"
                          ],
                          [
                            0.6666666666666666,
                            "#ed7953"
                          ],
                          [
                            0.7777777777777778,
                            "#fb9f3a"
                          ],
                          [
                            0.8888888888888888,
                            "#fdca26"
                          ],
                          [
                            1,
                            "#f0f921"
                          ]
                        ],
                        "type": "heatmap"
                      }
                    ],
                    "histogram": [
                      {
                        "marker": {
                          "pattern": {
                            "fillmode": "overlay",
                            "size": 10,
                            "solidity": 0.2
                          }
                        },
                        "type": "histogram"
                      }
                    ],
                    "histogram2d": [
                      {
                        "colorbar": {
                          "outlinewidth": 0,
                          "ticks": ""
                        },
                        "colorscale": [
                          [
                            0,
                            "#0d0887"
                          ],
                          [
                            0.1111111111111111,
                            "#46039f"
                          ],
                          [
                            0.2222222222222222,
                            "#7201a8"
                          ],
                          [
                            0.3333333333333333,
                            "#9c179e"
                          ],
                          [
                            0.4444444444444444,
                            "#bd3786"
                          ],
                          [
                            0.5555555555555556,
                            "#d8576b"
                          ],
                          [
                            0.6666666666666666,
                            "#ed7953"
                          ],
                          [
                            0.7777777777777778,
                            "#fb9f3a"
                          ],
                          [
                            0.8888888888888888,
                            "#fdca26"
                          ],
                          [
                            1,
                            "#f0f921"
                          ]
                        ],
                        "type": "histogram2d"
                      }
                    ],
                    "histogram2dcontour": [
                      {
                        "colorbar": {
                          "outlinewidth": 0,
                          "ticks": ""
                        },
                        "colorscale": [
                          [
                            0,
                            "#0d0887"
                          ],
                          [
                            0.1111111111111111,
                            "#46039f"
                          ],
                          [
                            0.2222222222222222,
                            "#7201a8"
                          ],
                          [
                            0.3333333333333333,
                            "#9c179e"
                          ],
                          [
                            0.4444444444444444,
                            "#bd3786"
                          ],
                          [
                            0.5555555555555556,
                            "#d8576b"
                          ],
                          [
                            0.6666666666666666,
                            "#ed7953"
                          ],
                          [
                            0.7777777777777778,
                            "#fb9f3a"
                          ],
                          [
                            0.8888888888888888,
                            "#fdca26"
                          ],
                          [
                            1,
                            "#f0f921"
                          ]
                        ],
                        "type": "histogram2dcontour"
                      }
                    ],
                    "mesh3d": [
                      {
                        "colorbar": {
                          "outlinewidth": 0,
                          "ticks": ""
                        },
                        "type": "mesh3d"
                      }
                    ],
                    "parcoords": [
                      {
                        "line": {
                          "colorbar": {
                            "outlinewidth": 0,
                            "ticks": ""
                          }
                        },
                        "type": "parcoords"
                      }
                    ],
                    "pie": [
                      {
                        "automargin": true,
                        "type": "pie"
                      }
                    ],
                    "scatter": [
                      {
                        "fillpattern": {
                          "fillmode": "overlay",
                          "size": 10,
                          "solidity": 0.2
                        },
                        "type": "scatter"
                      }
                    ],
                    "scatter3d": [
                      {
                        "line": {
                          "colorbar": {
                            "outlinewidth": 0,
                            "ticks": ""
                          }
                        },
                        "marker": {
                          "colorbar": {
                            "outlinewidth": 0,
                            "ticks": ""
                          }
                        },
                        "type": "scatter3d"
                      }
                    ],
                    "scattercarpet": [
                      {
                        "marker": {
                          "colorbar": {
                            "outlinewidth": 0,
                            "ticks": ""
                          }
                        },
                        "type": "scattercarpet"
                      }
                    ],
                    "scattergeo": [
                      {
                        "marker": {
                          "colorbar": {
                            "outlinewidth": 0,
                            "ticks": ""
                          }
                        },
                        "type": "scattergeo"
                      }
                    ],
                    "scattergl": [
                      {
                        "marker": {
                          "colorbar": {
                            "outlinewidth": 0,
                            "ticks": ""
                          }
                        },
                        "type": "scattergl"
                      }
                    ],
                    "scattermap": [
                      {
                        "marker": {
                          "colorbar": {
                            "outlinewidth": 0,
                            "ticks": ""
                          }
                        },
                        "type": "scattermap"
                      }
                    ],
                    "scattermapbox": [
                      {
                        "marker": {
                          "colorbar": {
                            "outlinewidth": 0,
                            "ticks": ""
                          }
                        },
                        "type": "scattermapbox"
                      }
                    ],
                    "scatterpolar": [
                      {
                        "marker": {
                          "colorbar": {
                            "outlinewidth": 0,
                            "ticks": ""
                          }
                        },
                        "type": "scatterpolar"
                      }
                    ],
                    "scatterpolargl": [
                      {
                        "marker": {
                          "colorbar": {
                            "outlinewidth": 0,
                            "ticks": ""
                          }
                        },
                        "type": "scatterpolargl"
                      }
                    ],
                    "scatterternary": [
                      {
                        "marker": {
                          "colorbar": {
                            "outlinewidth": 0,
                            "ticks": ""
                          }
                        },
                        "type": "scatterternary"
                      }
                    ],
                    "surface": [
                      {
                        "colorbar": {
                          "outlinewidth": 0,
                          "ticks": ""
                        },
                        "colorscale": [
                          [
                            0,
                            "#0d0887"
                          ],
                          [
                            0.1111111111111111,
                            "#46039f"
                          ],
                          [
                            0.2222222222222222,
                            "#7201a8"
                          ],
                          [
                            0.3333333333333333,
                            "#9c179e"
                          ],
                          [
                            0.4444444444444444,
                            "#bd3786"
                          ],
                          [
                            0.5555555555555556,
                            "#d8576b"
                          ],
                          [
                            0.6666666666666666,
                            "#ed7953"
                          ],
                          [
                            0.7777777777777778,
                            "#fb9f3a"
                          ],
                          [
                            0.8888888888888888,
                            "#fdca26"
                          ],
                          [
                            1,
                            "#f0f921"
                          ]
                        ],
                        "type": "surface"
                      }
                    ],
                    "table": [
                      {
                        "cells": {
                          "fill": {
                            "color": "#EBF0F8"
                          },
                          "line": {
                            "color": "white"
                          }
                        },
                        "header": {
                          "fill": {
                            "color": "#C8D4E3"
                          },
                          "line": {
                            "color": "white"
                          }
                        },
                        "type": "table"
                      }
                    ]
                  },
                  "layout": {
                    "annotationdefaults": {
                      "arrowcolor": "#2a3f5f",
                      "arrowhead": 0,
                      "arrowwidth": 1
                    },
                    "autotypenumbers": "strict",
                    "coloraxis": {
                      "colorbar": {
                        "outlinewidth": 0,
                        "ticks": ""
                      }
                    },
                    "colorscale": {
                      "diverging": [
                        [
                          0,
                          "#8e0152"
                        ],
                        [
                          0.1,
                          "#c51b7d"
                        ],
                        [
                          0.2,
                          "#de77ae"
                        ],
                        [
                          0.3,
                          "#f1b6da"
                        ],
                        [
                          0.4,
                          "#fde0ef"
                        ],
                        [
                          0.5,
                          "#f7f7f7"
                        ],
                        [
                          0.6,
                          "#e6f5d0"
                        ],
                        [
                          0.7,
                          "#b8e186"
                        ],
                        [
                          0.8,
                          "#7fbc41"
                        ],
                        [
                          0.9,
                          "#4d9221"
                        ],
                        [
                          1,
                          "#276419"
                        ]
                      ],
                      "sequential": [
                        [
                          0,
                          "#0d0887"
                        ],
                        [
                          0.1111111111111111,
                          "#46039f"
                        ],
                        [
                          0.2222222222222222,
                          "#7201a8"
                        ],
                        [
                          0.3333333333333333,
                          "#9c179e"
                        ],
                        [
                          0.4444444444444444,
                          "#bd3786"
                        ],
                        [
                          0.5555555555555556,
                          "#d8576b"
                        ],
                        [
                          0.6666666666666666,
                          "#ed7953"
                        ],
                        [
                          0.7777777777777778,
                          "#fb9f3a"
                        ],
                        [
                          0.8888888888888888,
                          "#fdca26"
                        ],
                        [
                          1,
                          "#f0f921"
                        ]
                      ],
                      "sequentialminus": [
                        [
                          0,
                          "#0d0887"
                        ],
                        [
                          0.1111111111111111,
                          "#46039f"
                        ],
                        [
                          0.2222222222222222,
                          "#7201a8"
                        ],
                        [
                          0.3333333333333333,
                          "#9c179e"
                        ],
                        [
                          0.4444444444444444,
                          "#bd3786"
                        ],
                        [
                          0.5555555555555556,
                          "#d8576b"
                        ],
                        [
                          0.6666666666666666,
                          "#ed7953"
                        ],
                        [
                          0.7777777777777778,
                          "#fb9f3a"
                        ],
                        [
                          0.8888888888888888,
                          "#fdca26"
                        ],
                        [
                          1,
                          "#f0f921"
                        ]
                      ]
                    },
                    "colorway": [
                      "#636efa",
                      "#EF553B",
                      "#00cc96",
                      "#ab63fa",
                      "#FFA15A",
                      "#19d3f3",
                      "#FF6692",
                      "#B6E880",
                      "#FF97FF",
                      "#FECB52"
                    ],
                    "font": {
                      "color": "#2a3f5f"
                    },
                    "geo": {
                      "bgcolor": "white",
                      "lakecolor": "white",
                      "landcolor": "#E5ECF6",
                      "showlakes": true,
                      "showland": true,
                      "subunitcolor": "white"
                    },
                    "hoverlabel": {
                      "align": "left"
                    },
                    "hovermode": "closest",
                    "mapbox": {
                      "style": "light"
                    },
                    "paper_bgcolor": "white",
                    "plot_bgcolor": "#E5ECF6",
                    "polar": {
                      "angularaxis": {
                        "gridcolor": "white",
                        "linecolor": "white",
                        "ticks": ""
                      },
                      "bgcolor": "#E5ECF6",
                      "radialaxis": {
                        "gridcolor": "white",
                        "linecolor": "white",
                        "ticks": ""
                      }
                    },
                    "scene": {
                      "xaxis": {
                        "backgroundcolor": "#E5ECF6",
                        "gridcolor": "white",
                        "gridwidth": 2,
                        "linecolor": "white",
                        "showbackground": true,
                        "ticks": "",
                        "zerolinecolor": "white"
                      },
                      "yaxis": {
                        "backgroundcolor": "#E5ECF6",
                        "gridcolor": "white",
                        "gridwidth": 2,
                        "linecolor": "white",
                        "showbackground": true,
                        "ticks": "",
                        "zerolinecolor": "white"
                      },
                      "zaxis": {
                        "backgroundcolor": "#E5ECF6",
                        "gridcolor": "white",
                        "gridwidth": 2,
                        "linecolor": "white",
                        "showbackground": true,
                        "ticks": "",
                        "zerolinecolor": "white"
                      }
                    },
                    "shapedefaults": {
                      "line": {
                        "color": "#2a3f5f"
                      }
                    },
                    "ternary": {
                      "aaxis": {
                        "gridcolor": "white",
                        "linecolor": "white",
                        "ticks": ""
                      },
                      "baxis": {
                        "gridcolor": "white",
                        "linecolor": "white",
                        "ticks": ""
                      },
                      "bgcolor": "#E5ECF6",
                      "caxis": {
                        "gridcolor": "white",
                        "linecolor": "white",
                        "ticks": ""
                      }
                    },
                    "title": {
                      "x": 0.05
                    },
                    "xaxis": {
                      "automargin": true,
                      "gridcolor": "white",
                      "linecolor": "white",
                      "ticks": "",
                      "title": {
                        "standoff": 15
                      },
                      "zerolinecolor": "white",
                      "zerolinewidth": 2
                    },
                    "yaxis": {
                      "automargin": true,
                      "gridcolor": "white",
                      "linecolor": "white",
                      "ticks": "",
                      "title": {
                        "standoff": 15
                      },
                      "zerolinecolor": "white",
                      "zerolinewidth": 2
                    }
                  }
                },
                "title": {
                  "text": "Missing Values in Dataset"
                },
                "xaxis": {
                  "anchor": "y",
                  "categoryarray": [
                    "show_id",
                    "type",
                    "title",
                    "director",
                    "cast",
                    "country",
                    "date_added",
                    "release_year",
                    "rating",
                    "duration",
                    "listed_in",
                    "description"
                  ],
                  "categoryorder": "array",
                  "domain": [
                    0,
                    1
                  ],
                  "tickangle": -45,
                  "title": {
                    "text": "Dataset Variables"
                  }
                },
                "yaxis": {
                  "anchor": "x",
                  "domain": [
                    0,
                    1
                  ],
                  "title": {
                    "text": "Number of Missing Values"
                  }
                }
              }
            }
          },
          "metadata": {},
          "output_type": "display_data"
        }
      ],
      "source": [
        "# Calculate missing values for each column\n",
        "missing_values = df.isnull().sum()\n",
        "\n",
        "# Create a DataFrame for visualization\n",
        "missing_df = pd.DataFrame({'Column names': missing_values.index, 'Missing Values': missing_values.values})\n",
        "\n",
        "# Create a list of random colors\n",
        "num_colors = len(missing_df)\n",
        "colors = [\"#\" + ''.join([random.choice('0123456789ABCDEF') for j in range(6)]) for i in range(num_colors)]\n",
        "\n",
        "# Create a bar chart using Plotly Express with random colors and count numbers\n",
        "fig = px.bar(missing_df, x='Column names', y='Missing Values', title='Missing Values in Dataset',\n",
        "             color='Column names', color_discrete_sequence=colors, text='Missing Values')  # Added text for count numbers\n",
        "\n",
        "# Customize the layout (optional)\n",
        "fig.update_layout(xaxis_tickangle=-45, xaxis_title='Dataset Variables', yaxis_title='Number of Missing Values')\n",
        "fig.update_traces(textposition='outside')  # Position count numbers outside the bars\n",
        "\n",
        "# Show the plot\n",
        "fig.show()"
      ]
    },
    {
      "cell_type": "code",
      "execution_count": 11,
      "metadata": {
        "id": "uWNdPnYsJQmN"
      },
      "outputs": [],
      "source": [
        "# If missing values are represented as something other than null\n",
        "# replace them with \"not_available\" or appropriate placeholder\n",
        "df[['type', 'title', 'director', 'cast', 'country',\n",
        "    'rating', 'duration', 'listed_in', 'description']] = df[['type', 'title', 'director', 'cast', 'country',\n",
        "    'rating', 'duration', 'listed_in', 'description']].fillna('Not available')\n"
      ]
    },
    {
      "cell_type": "markdown",
      "metadata": {
        "id": "P2Ja4XWRO2yy"
      },
      "source": [
        "checking again the missing values"
      ]
    },
    {
      "cell_type": "code",
      "execution_count": 12,
      "metadata": {
        "colab": {
          "base_uri": "https://localhost:8080/"
        },
        "id": "l8CIfZXpNnFI",
        "outputId": "152be1f4-f036-4370-f70a-4256394022c4"
      },
      "outputs": [
        {
          "name": "stdout",
          "output_type": "stream",
          "text": [
            "show_id          0\n",
            "type             0\n",
            "title            0\n",
            "director         0\n",
            "cast             0\n",
            "country          0\n",
            "date_added      10\n",
            "release_year     0\n",
            "rating           0\n",
            "duration         0\n",
            "listed_in        0\n",
            "description      0\n",
            "dtype: int64\n"
          ]
        }
      ],
      "source": [
        "print(df.isnull().sum())"
      ]
    },
    {
      "cell_type": "markdown",
      "metadata": {
        "id": "VtH_3d3wO5-U"
      },
      "source": [
        "Date format in correct way"
      ]
    },
    {
      "cell_type": "code",
      "execution_count": 13,
      "metadata": {
        "id": "B2paocgbK3dQ"
      },
      "outputs": [],
      "source": [
        "df['date_added'] = pd.to_datetime(df['date_added'], errors='coerce')"
      ]
    },
    {
      "cell_type": "code",
      "execution_count": 14,
      "metadata": {
        "colab": {
          "base_uri": "https://localhost:8080/"
        },
        "id": "qUKNtVd2K3Ba",
        "outputId": "7301721e-c99f-4a5f-d212-2d95d24d9fbe"
      },
      "outputs": [
        {
          "name": "stdout",
          "output_type": "stream",
          "text": [
            "show_id          0\n",
            "type             0\n",
            "title            0\n",
            "director         0\n",
            "cast             0\n",
            "country          0\n",
            "date_added      98\n",
            "release_year     0\n",
            "rating           0\n",
            "duration         0\n",
            "listed_in        0\n",
            "description      0\n",
            "dtype: int64\n"
          ]
        }
      ],
      "source": [
        "print(df.isnull().sum())"
      ]
    },
    {
      "cell_type": "markdown",
      "metadata": {
        "id": "MvrkH6g4PC__"
      },
      "source": [
        "Date column filling with median"
      ]
    },
    {
      "cell_type": "code",
      "execution_count": 15,
      "metadata": {
        "id": "8BY8gQW5K2ur"
      },
      "outputs": [],
      "source": [
        "df['date_added'] = df['date_added'].fillna(df['date_added'].median())"
      ]
    },
    {
      "cell_type": "markdown",
      "metadata": {
        "id": "XxgHCy2xPI5T"
      },
      "source": [
        "checking again for all null values"
      ]
    },
    {
      "cell_type": "code",
      "execution_count": 16,
      "metadata": {
        "colab": {
          "base_uri": "https://localhost:8080/",
          "height": 542
        },
        "id": "8jUPSMgpOn5i",
        "outputId": "c76c509b-9677-4efa-eafb-2f59c00bcd4f"
      },
      "outputs": [
        {
          "data": {
            "application/vnd.plotly.v1+json": {
              "config": {
                "plotlyServerURL": "https://plot.ly"
              },
              "data": [
                {
                  "hovertemplate": "Column names=%{x}<br>Missing Values=%{text}<extra></extra>",
                  "legendgroup": "show_id",
                  "marker": {
                    "color": "#759250",
                    "pattern": {
                      "shape": ""
                    }
                  },
                  "name": "show_id",
                  "orientation": "v",
                  "showlegend": true,
                  "text": {
                    "bdata": "AAAAAAAAAAA=",
                    "dtype": "f8"
                  },
                  "textposition": "outside",
                  "type": "bar",
                  "x": [
                    "show_id"
                  ],
                  "xaxis": "x",
                  "y": {
                    "bdata": "AA==",
                    "dtype": "i1"
                  },
                  "yaxis": "y"
                },
                {
                  "hovertemplate": "Column names=%{x}<br>Missing Values=%{text}<extra></extra>",
                  "legendgroup": "type",
                  "marker": {
                    "color": "#A9A108",
                    "pattern": {
                      "shape": ""
                    }
                  },
                  "name": "type",
                  "orientation": "v",
                  "showlegend": true,
                  "text": {
                    "bdata": "AAAAAAAAAAA=",
                    "dtype": "f8"
                  },
                  "textposition": "outside",
                  "type": "bar",
                  "x": [
                    "type"
                  ],
                  "xaxis": "x",
                  "y": {
                    "bdata": "AA==",
                    "dtype": "i1"
                  },
                  "yaxis": "y"
                },
                {
                  "hovertemplate": "Column names=%{x}<br>Missing Values=%{text}<extra></extra>",
                  "legendgroup": "title",
                  "marker": {
                    "color": "#932450",
                    "pattern": {
                      "shape": ""
                    }
                  },
                  "name": "title",
                  "orientation": "v",
                  "showlegend": true,
                  "text": {
                    "bdata": "AAAAAAAAAAA=",
                    "dtype": "f8"
                  },
                  "textposition": "outside",
                  "type": "bar",
                  "x": [
                    "title"
                  ],
                  "xaxis": "x",
                  "y": {
                    "bdata": "AA==",
                    "dtype": "i1"
                  },
                  "yaxis": "y"
                },
                {
                  "hovertemplate": "Column names=%{x}<br>Missing Values=%{text}<extra></extra>",
                  "legendgroup": "director",
                  "marker": {
                    "color": "#CEF257",
                    "pattern": {
                      "shape": ""
                    }
                  },
                  "name": "director",
                  "orientation": "v",
                  "showlegend": true,
                  "text": {
                    "bdata": "AAAAAAAAAAA=",
                    "dtype": "f8"
                  },
                  "textposition": "outside",
                  "type": "bar",
                  "x": [
                    "director"
                  ],
                  "xaxis": "x",
                  "y": {
                    "bdata": "AA==",
                    "dtype": "i1"
                  },
                  "yaxis": "y"
                },
                {
                  "hovertemplate": "Column names=%{x}<br>Missing Values=%{text}<extra></extra>",
                  "legendgroup": "cast",
                  "marker": {
                    "color": "#DB49F8",
                    "pattern": {
                      "shape": ""
                    }
                  },
                  "name": "cast",
                  "orientation": "v",
                  "showlegend": true,
                  "text": {
                    "bdata": "AAAAAAAAAAA=",
                    "dtype": "f8"
                  },
                  "textposition": "outside",
                  "type": "bar",
                  "x": [
                    "cast"
                  ],
                  "xaxis": "x",
                  "y": {
                    "bdata": "AA==",
                    "dtype": "i1"
                  },
                  "yaxis": "y"
                },
                {
                  "hovertemplate": "Column names=%{x}<br>Missing Values=%{text}<extra></extra>",
                  "legendgroup": "country",
                  "marker": {
                    "color": "#BB1674",
                    "pattern": {
                      "shape": ""
                    }
                  },
                  "name": "country",
                  "orientation": "v",
                  "showlegend": true,
                  "text": {
                    "bdata": "AAAAAAAAAAA=",
                    "dtype": "f8"
                  },
                  "textposition": "outside",
                  "type": "bar",
                  "x": [
                    "country"
                  ],
                  "xaxis": "x",
                  "y": {
                    "bdata": "AA==",
                    "dtype": "i1"
                  },
                  "yaxis": "y"
                },
                {
                  "hovertemplate": "Column names=%{x}<br>Missing Values=%{text}<extra></extra>",
                  "legendgroup": "date_added",
                  "marker": {
                    "color": "#4FD5EF",
                    "pattern": {
                      "shape": ""
                    }
                  },
                  "name": "date_added",
                  "orientation": "v",
                  "showlegend": true,
                  "text": {
                    "bdata": "AAAAAAAAAAA=",
                    "dtype": "f8"
                  },
                  "textposition": "outside",
                  "type": "bar",
                  "x": [
                    "date_added"
                  ],
                  "xaxis": "x",
                  "y": {
                    "bdata": "AA==",
                    "dtype": "i1"
                  },
                  "yaxis": "y"
                },
                {
                  "hovertemplate": "Column names=%{x}<br>Missing Values=%{text}<extra></extra>",
                  "legendgroup": "release_year",
                  "marker": {
                    "color": "#590DB0",
                    "pattern": {
                      "shape": ""
                    }
                  },
                  "name": "release_year",
                  "orientation": "v",
                  "showlegend": true,
                  "text": {
                    "bdata": "AAAAAAAAAAA=",
                    "dtype": "f8"
                  },
                  "textposition": "outside",
                  "type": "bar",
                  "x": [
                    "release_year"
                  ],
                  "xaxis": "x",
                  "y": {
                    "bdata": "AA==",
                    "dtype": "i1"
                  },
                  "yaxis": "y"
                },
                {
                  "hovertemplate": "Column names=%{x}<br>Missing Values=%{text}<extra></extra>",
                  "legendgroup": "rating",
                  "marker": {
                    "color": "#F4D707",
                    "pattern": {
                      "shape": ""
                    }
                  },
                  "name": "rating",
                  "orientation": "v",
                  "showlegend": true,
                  "text": {
                    "bdata": "AAAAAAAAAAA=",
                    "dtype": "f8"
                  },
                  "textposition": "outside",
                  "type": "bar",
                  "x": [
                    "rating"
                  ],
                  "xaxis": "x",
                  "y": {
                    "bdata": "AA==",
                    "dtype": "i1"
                  },
                  "yaxis": "y"
                },
                {
                  "hovertemplate": "Column names=%{x}<br>Missing Values=%{text}<extra></extra>",
                  "legendgroup": "duration",
                  "marker": {
                    "color": "#3E964F",
                    "pattern": {
                      "shape": ""
                    }
                  },
                  "name": "duration",
                  "orientation": "v",
                  "showlegend": true,
                  "text": {
                    "bdata": "AAAAAAAAAAA=",
                    "dtype": "f8"
                  },
                  "textposition": "outside",
                  "type": "bar",
                  "x": [
                    "duration"
                  ],
                  "xaxis": "x",
                  "y": {
                    "bdata": "AA==",
                    "dtype": "i1"
                  },
                  "yaxis": "y"
                },
                {
                  "hovertemplate": "Column names=%{x}<br>Missing Values=%{text}<extra></extra>",
                  "legendgroup": "listed_in",
                  "marker": {
                    "color": "#93A674",
                    "pattern": {
                      "shape": ""
                    }
                  },
                  "name": "listed_in",
                  "orientation": "v",
                  "showlegend": true,
                  "text": {
                    "bdata": "AAAAAAAAAAA=",
                    "dtype": "f8"
                  },
                  "textposition": "outside",
                  "type": "bar",
                  "x": [
                    "listed_in"
                  ],
                  "xaxis": "x",
                  "y": {
                    "bdata": "AA==",
                    "dtype": "i1"
                  },
                  "yaxis": "y"
                },
                {
                  "hovertemplate": "Column names=%{x}<br>Missing Values=%{text}<extra></extra>",
                  "legendgroup": "description",
                  "marker": {
                    "color": "#954947",
                    "pattern": {
                      "shape": ""
                    }
                  },
                  "name": "description",
                  "orientation": "v",
                  "showlegend": true,
                  "text": {
                    "bdata": "AAAAAAAAAAA=",
                    "dtype": "f8"
                  },
                  "textposition": "outside",
                  "type": "bar",
                  "x": [
                    "description"
                  ],
                  "xaxis": "x",
                  "y": {
                    "bdata": "AA==",
                    "dtype": "i1"
                  },
                  "yaxis": "y"
                }
              ],
              "layout": {
                "barmode": "relative",
                "legend": {
                  "title": {
                    "text": "Column names"
                  },
                  "tracegroupgap": 0
                },
                "template": {
                  "data": {
                    "bar": [
                      {
                        "error_x": {
                          "color": "#2a3f5f"
                        },
                        "error_y": {
                          "color": "#2a3f5f"
                        },
                        "marker": {
                          "line": {
                            "color": "#E5ECF6",
                            "width": 0.5
                          },
                          "pattern": {
                            "fillmode": "overlay",
                            "size": 10,
                            "solidity": 0.2
                          }
                        },
                        "type": "bar"
                      }
                    ],
                    "barpolar": [
                      {
                        "marker": {
                          "line": {
                            "color": "#E5ECF6",
                            "width": 0.5
                          },
                          "pattern": {
                            "fillmode": "overlay",
                            "size": 10,
                            "solidity": 0.2
                          }
                        },
                        "type": "barpolar"
                      }
                    ],
                    "carpet": [
                      {
                        "aaxis": {
                          "endlinecolor": "#2a3f5f",
                          "gridcolor": "white",
                          "linecolor": "white",
                          "minorgridcolor": "white",
                          "startlinecolor": "#2a3f5f"
                        },
                        "baxis": {
                          "endlinecolor": "#2a3f5f",
                          "gridcolor": "white",
                          "linecolor": "white",
                          "minorgridcolor": "white",
                          "startlinecolor": "#2a3f5f"
                        },
                        "type": "carpet"
                      }
                    ],
                    "choropleth": [
                      {
                        "colorbar": {
                          "outlinewidth": 0,
                          "ticks": ""
                        },
                        "type": "choropleth"
                      }
                    ],
                    "contour": [
                      {
                        "colorbar": {
                          "outlinewidth": 0,
                          "ticks": ""
                        },
                        "colorscale": [
                          [
                            0,
                            "#0d0887"
                          ],
                          [
                            0.1111111111111111,
                            "#46039f"
                          ],
                          [
                            0.2222222222222222,
                            "#7201a8"
                          ],
                          [
                            0.3333333333333333,
                            "#9c179e"
                          ],
                          [
                            0.4444444444444444,
                            "#bd3786"
                          ],
                          [
                            0.5555555555555556,
                            "#d8576b"
                          ],
                          [
                            0.6666666666666666,
                            "#ed7953"
                          ],
                          [
                            0.7777777777777778,
                            "#fb9f3a"
                          ],
                          [
                            0.8888888888888888,
                            "#fdca26"
                          ],
                          [
                            1,
                            "#f0f921"
                          ]
                        ],
                        "type": "contour"
                      }
                    ],
                    "contourcarpet": [
                      {
                        "colorbar": {
                          "outlinewidth": 0,
                          "ticks": ""
                        },
                        "type": "contourcarpet"
                      }
                    ],
                    "heatmap": [
                      {
                        "colorbar": {
                          "outlinewidth": 0,
                          "ticks": ""
                        },
                        "colorscale": [
                          [
                            0,
                            "#0d0887"
                          ],
                          [
                            0.1111111111111111,
                            "#46039f"
                          ],
                          [
                            0.2222222222222222,
                            "#7201a8"
                          ],
                          [
                            0.3333333333333333,
                            "#9c179e"
                          ],
                          [
                            0.4444444444444444,
                            "#bd3786"
                          ],
                          [
                            0.5555555555555556,
                            "#d8576b"
                          ],
                          [
                            0.6666666666666666,
                            "#ed7953"
                          ],
                          [
                            0.7777777777777778,
                            "#fb9f3a"
                          ],
                          [
                            0.8888888888888888,
                            "#fdca26"
                          ],
                          [
                            1,
                            "#f0f921"
                          ]
                        ],
                        "type": "heatmap"
                      }
                    ],
                    "histogram": [
                      {
                        "marker": {
                          "pattern": {
                            "fillmode": "overlay",
                            "size": 10,
                            "solidity": 0.2
                          }
                        },
                        "type": "histogram"
                      }
                    ],
                    "histogram2d": [
                      {
                        "colorbar": {
                          "outlinewidth": 0,
                          "ticks": ""
                        },
                        "colorscale": [
                          [
                            0,
                            "#0d0887"
                          ],
                          [
                            0.1111111111111111,
                            "#46039f"
                          ],
                          [
                            0.2222222222222222,
                            "#7201a8"
                          ],
                          [
                            0.3333333333333333,
                            "#9c179e"
                          ],
                          [
                            0.4444444444444444,
                            "#bd3786"
                          ],
                          [
                            0.5555555555555556,
                            "#d8576b"
                          ],
                          [
                            0.6666666666666666,
                            "#ed7953"
                          ],
                          [
                            0.7777777777777778,
                            "#fb9f3a"
                          ],
                          [
                            0.8888888888888888,
                            "#fdca26"
                          ],
                          [
                            1,
                            "#f0f921"
                          ]
                        ],
                        "type": "histogram2d"
                      }
                    ],
                    "histogram2dcontour": [
                      {
                        "colorbar": {
                          "outlinewidth": 0,
                          "ticks": ""
                        },
                        "colorscale": [
                          [
                            0,
                            "#0d0887"
                          ],
                          [
                            0.1111111111111111,
                            "#46039f"
                          ],
                          [
                            0.2222222222222222,
                            "#7201a8"
                          ],
                          [
                            0.3333333333333333,
                            "#9c179e"
                          ],
                          [
                            0.4444444444444444,
                            "#bd3786"
                          ],
                          [
                            0.5555555555555556,
                            "#d8576b"
                          ],
                          [
                            0.6666666666666666,
                            "#ed7953"
                          ],
                          [
                            0.7777777777777778,
                            "#fb9f3a"
                          ],
                          [
                            0.8888888888888888,
                            "#fdca26"
                          ],
                          [
                            1,
                            "#f0f921"
                          ]
                        ],
                        "type": "histogram2dcontour"
                      }
                    ],
                    "mesh3d": [
                      {
                        "colorbar": {
                          "outlinewidth": 0,
                          "ticks": ""
                        },
                        "type": "mesh3d"
                      }
                    ],
                    "parcoords": [
                      {
                        "line": {
                          "colorbar": {
                            "outlinewidth": 0,
                            "ticks": ""
                          }
                        },
                        "type": "parcoords"
                      }
                    ],
                    "pie": [
                      {
                        "automargin": true,
                        "type": "pie"
                      }
                    ],
                    "scatter": [
                      {
                        "fillpattern": {
                          "fillmode": "overlay",
                          "size": 10,
                          "solidity": 0.2
                        },
                        "type": "scatter"
                      }
                    ],
                    "scatter3d": [
                      {
                        "line": {
                          "colorbar": {
                            "outlinewidth": 0,
                            "ticks": ""
                          }
                        },
                        "marker": {
                          "colorbar": {
                            "outlinewidth": 0,
                            "ticks": ""
                          }
                        },
                        "type": "scatter3d"
                      }
                    ],
                    "scattercarpet": [
                      {
                        "marker": {
                          "colorbar": {
                            "outlinewidth": 0,
                            "ticks": ""
                          }
                        },
                        "type": "scattercarpet"
                      }
                    ],
                    "scattergeo": [
                      {
                        "marker": {
                          "colorbar": {
                            "outlinewidth": 0,
                            "ticks": ""
                          }
                        },
                        "type": "scattergeo"
                      }
                    ],
                    "scattergl": [
                      {
                        "marker": {
                          "colorbar": {
                            "outlinewidth": 0,
                            "ticks": ""
                          }
                        },
                        "type": "scattergl"
                      }
                    ],
                    "scattermap": [
                      {
                        "marker": {
                          "colorbar": {
                            "outlinewidth": 0,
                            "ticks": ""
                          }
                        },
                        "type": "scattermap"
                      }
                    ],
                    "scattermapbox": [
                      {
                        "marker": {
                          "colorbar": {
                            "outlinewidth": 0,
                            "ticks": ""
                          }
                        },
                        "type": "scattermapbox"
                      }
                    ],
                    "scatterpolar": [
                      {
                        "marker": {
                          "colorbar": {
                            "outlinewidth": 0,
                            "ticks": ""
                          }
                        },
                        "type": "scatterpolar"
                      }
                    ],
                    "scatterpolargl": [
                      {
                        "marker": {
                          "colorbar": {
                            "outlinewidth": 0,
                            "ticks": ""
                          }
                        },
                        "type": "scatterpolargl"
                      }
                    ],
                    "scatterternary": [
                      {
                        "marker": {
                          "colorbar": {
                            "outlinewidth": 0,
                            "ticks": ""
                          }
                        },
                        "type": "scatterternary"
                      }
                    ],
                    "surface": [
                      {
                        "colorbar": {
                          "outlinewidth": 0,
                          "ticks": ""
                        },
                        "colorscale": [
                          [
                            0,
                            "#0d0887"
                          ],
                          [
                            0.1111111111111111,
                            "#46039f"
                          ],
                          [
                            0.2222222222222222,
                            "#7201a8"
                          ],
                          [
                            0.3333333333333333,
                            "#9c179e"
                          ],
                          [
                            0.4444444444444444,
                            "#bd3786"
                          ],
                          [
                            0.5555555555555556,
                            "#d8576b"
                          ],
                          [
                            0.6666666666666666,
                            "#ed7953"
                          ],
                          [
                            0.7777777777777778,
                            "#fb9f3a"
                          ],
                          [
                            0.8888888888888888,
                            "#fdca26"
                          ],
                          [
                            1,
                            "#f0f921"
                          ]
                        ],
                        "type": "surface"
                      }
                    ],
                    "table": [
                      {
                        "cells": {
                          "fill": {
                            "color": "#EBF0F8"
                          },
                          "line": {
                            "color": "white"
                          }
                        },
                        "header": {
                          "fill": {
                            "color": "#C8D4E3"
                          },
                          "line": {
                            "color": "white"
                          }
                        },
                        "type": "table"
                      }
                    ]
                  },
                  "layout": {
                    "annotationdefaults": {
                      "arrowcolor": "#2a3f5f",
                      "arrowhead": 0,
                      "arrowwidth": 1
                    },
                    "autotypenumbers": "strict",
                    "coloraxis": {
                      "colorbar": {
                        "outlinewidth": 0,
                        "ticks": ""
                      }
                    },
                    "colorscale": {
                      "diverging": [
                        [
                          0,
                          "#8e0152"
                        ],
                        [
                          0.1,
                          "#c51b7d"
                        ],
                        [
                          0.2,
                          "#de77ae"
                        ],
                        [
                          0.3,
                          "#f1b6da"
                        ],
                        [
                          0.4,
                          "#fde0ef"
                        ],
                        [
                          0.5,
                          "#f7f7f7"
                        ],
                        [
                          0.6,
                          "#e6f5d0"
                        ],
                        [
                          0.7,
                          "#b8e186"
                        ],
                        [
                          0.8,
                          "#7fbc41"
                        ],
                        [
                          0.9,
                          "#4d9221"
                        ],
                        [
                          1,
                          "#276419"
                        ]
                      ],
                      "sequential": [
                        [
                          0,
                          "#0d0887"
                        ],
                        [
                          0.1111111111111111,
                          "#46039f"
                        ],
                        [
                          0.2222222222222222,
                          "#7201a8"
                        ],
                        [
                          0.3333333333333333,
                          "#9c179e"
                        ],
                        [
                          0.4444444444444444,
                          "#bd3786"
                        ],
                        [
                          0.5555555555555556,
                          "#d8576b"
                        ],
                        [
                          0.6666666666666666,
                          "#ed7953"
                        ],
                        [
                          0.7777777777777778,
                          "#fb9f3a"
                        ],
                        [
                          0.8888888888888888,
                          "#fdca26"
                        ],
                        [
                          1,
                          "#f0f921"
                        ]
                      ],
                      "sequentialminus": [
                        [
                          0,
                          "#0d0887"
                        ],
                        [
                          0.1111111111111111,
                          "#46039f"
                        ],
                        [
                          0.2222222222222222,
                          "#7201a8"
                        ],
                        [
                          0.3333333333333333,
                          "#9c179e"
                        ],
                        [
                          0.4444444444444444,
                          "#bd3786"
                        ],
                        [
                          0.5555555555555556,
                          "#d8576b"
                        ],
                        [
                          0.6666666666666666,
                          "#ed7953"
                        ],
                        [
                          0.7777777777777778,
                          "#fb9f3a"
                        ],
                        [
                          0.8888888888888888,
                          "#fdca26"
                        ],
                        [
                          1,
                          "#f0f921"
                        ]
                      ]
                    },
                    "colorway": [
                      "#636efa",
                      "#EF553B",
                      "#00cc96",
                      "#ab63fa",
                      "#FFA15A",
                      "#19d3f3",
                      "#FF6692",
                      "#B6E880",
                      "#FF97FF",
                      "#FECB52"
                    ],
                    "font": {
                      "color": "#2a3f5f"
                    },
                    "geo": {
                      "bgcolor": "white",
                      "lakecolor": "white",
                      "landcolor": "#E5ECF6",
                      "showlakes": true,
                      "showland": true,
                      "subunitcolor": "white"
                    },
                    "hoverlabel": {
                      "align": "left"
                    },
                    "hovermode": "closest",
                    "mapbox": {
                      "style": "light"
                    },
                    "paper_bgcolor": "white",
                    "plot_bgcolor": "#E5ECF6",
                    "polar": {
                      "angularaxis": {
                        "gridcolor": "white",
                        "linecolor": "white",
                        "ticks": ""
                      },
                      "bgcolor": "#E5ECF6",
                      "radialaxis": {
                        "gridcolor": "white",
                        "linecolor": "white",
                        "ticks": ""
                      }
                    },
                    "scene": {
                      "xaxis": {
                        "backgroundcolor": "#E5ECF6",
                        "gridcolor": "white",
                        "gridwidth": 2,
                        "linecolor": "white",
                        "showbackground": true,
                        "ticks": "",
                        "zerolinecolor": "white"
                      },
                      "yaxis": {
                        "backgroundcolor": "#E5ECF6",
                        "gridcolor": "white",
                        "gridwidth": 2,
                        "linecolor": "white",
                        "showbackground": true,
                        "ticks": "",
                        "zerolinecolor": "white"
                      },
                      "zaxis": {
                        "backgroundcolor": "#E5ECF6",
                        "gridcolor": "white",
                        "gridwidth": 2,
                        "linecolor": "white",
                        "showbackground": true,
                        "ticks": "",
                        "zerolinecolor": "white"
                      }
                    },
                    "shapedefaults": {
                      "line": {
                        "color": "#2a3f5f"
                      }
                    },
                    "ternary": {
                      "aaxis": {
                        "gridcolor": "white",
                        "linecolor": "white",
                        "ticks": ""
                      },
                      "baxis": {
                        "gridcolor": "white",
                        "linecolor": "white",
                        "ticks": ""
                      },
                      "bgcolor": "#E5ECF6",
                      "caxis": {
                        "gridcolor": "white",
                        "linecolor": "white",
                        "ticks": ""
                      }
                    },
                    "title": {
                      "x": 0.05
                    },
                    "xaxis": {
                      "automargin": true,
                      "gridcolor": "white",
                      "linecolor": "white",
                      "ticks": "",
                      "title": {
                        "standoff": 15
                      },
                      "zerolinecolor": "white",
                      "zerolinewidth": 2
                    },
                    "yaxis": {
                      "automargin": true,
                      "gridcolor": "white",
                      "linecolor": "white",
                      "ticks": "",
                      "title": {
                        "standoff": 15
                      },
                      "zerolinecolor": "white",
                      "zerolinewidth": 2
                    }
                  }
                },
                "title": {
                  "text": "Missing Values in Dataset"
                },
                "xaxis": {
                  "anchor": "y",
                  "categoryarray": [
                    "show_id",
                    "type",
                    "title",
                    "director",
                    "cast",
                    "country",
                    "date_added",
                    "release_year",
                    "rating",
                    "duration",
                    "listed_in",
                    "description"
                  ],
                  "categoryorder": "array",
                  "domain": [
                    0,
                    1
                  ],
                  "tickangle": -45,
                  "title": {
                    "text": "Dataset Variables"
                  }
                },
                "yaxis": {
                  "anchor": "x",
                  "domain": [
                    0,
                    1
                  ],
                  "title": {
                    "text": "Number of Missing Values"
                  }
                }
              }
            }
          },
          "metadata": {},
          "output_type": "display_data"
        }
      ],
      "source": [
        "# Calculate missing values for each column\n",
        "missing_values = df.isnull().sum()\n",
        "\n",
        "# Create a DataFrame for visualization\n",
        "missing_df = pd.DataFrame({'Column names': missing_values.index, 'Missing Values': missing_values.values})\n",
        "\n",
        "# Create a list of random colors\n",
        "num_colors = len(missing_df)\n",
        "colors = [\"#\" + ''.join([random.choice('0123456789ABCDEF') for j in range(6)]) for i in range(num_colors)]\n",
        "\n",
        "# Create a bar chart using Plotly Express with random colors and count numbers\n",
        "fig = px.bar(missing_df, x='Column names', y='Missing Values', title='Missing Values in Dataset',\n",
        "             color='Column names', color_discrete_sequence=colors, text='Missing Values')  # Added text for count numbers\n",
        "\n",
        "# Customize the layout (optional)\n",
        "fig.update_layout(xaxis_tickangle=-45, xaxis_title='Dataset Variables', yaxis_title='Number of Missing Values')\n",
        "fig.update_traces(textposition='outside')  # Position count numbers outside the bars\n",
        "\n",
        "# Show the plot\n",
        "fig.show()"
      ]
    },
    {
      "cell_type": "markdown",
      "metadata": {
        "id": "O76P1iZ9P7Rs"
      },
      "source": [
        "#### Check for Unusual Characters in all Columns"
      ]
    },
    {
      "cell_type": "code",
      "execution_count": 17,
      "metadata": {
        "colab": {
          "base_uri": "https://localhost:8080/"
        },
        "id": "2gWjgliSOn2I",
        "outputId": "710ee6e8-f466-4a57-fda6-1a371a29a1a1"
      },
      "outputs": [
        {
          "name": "stdout",
          "output_type": "stream",
          "text": [
            "Unusual characters found in column: title\n",
            "Unusual characters found in column: director\n",
            "Unusual characters found in column: cast\n",
            "Unusual characters found in column: date_added\n",
            "Unusual characters found in column: rating\n",
            "Unusual characters found in column: listed_in\n",
            "Unusual characters found in column: description\n"
          ]
        }
      ],
      "source": [
        "# Function to check for unusual characters\n",
        "def check_unusual_chars(text):\n",
        "    # Define a pattern for allowed characters (alphanumeric, spaces, and common punctuation)\n",
        "    pattern = r\"[^a-zA-Z0-9\\s.,!?;:'\\\"()\\[\\]{}]\"\n",
        "    # Find all matches for the pattern\n",
        "    matches = re.findall(pattern, str(text))  # Convert to string to handle non-string values\n",
        "    # Return True if any unusual characters are found, otherwise False\n",
        "    return bool(matches)\n",
        "\n",
        "# Apply the function to all columns\n",
        "for col in df.columns:\n",
        "    unusual_chars_found = df[col].apply(check_unusual_chars).any()\n",
        "    if unusual_chars_found:\n",
        "        print(f\"Unusual characters found in column: {col}\")"
      ]
    },
    {
      "cell_type": "code",
      "execution_count": 18,
      "metadata": {
        "colab": {
          "base_uri": "https://localhost:8080/",
          "height": 542
        },
        "id": "FEWRjboYPOWV",
        "outputId": "5529a33a-60f2-45d5-f1b2-50f644e629e3"
      },
      "outputs": [
        {
          "data": {
            "application/vnd.plotly.v1+json": {
              "config": {
                "plotlyServerURL": "https://plot.ly"
              },
              "data": [
                {
                  "hovertemplate": "Unusual Characters=%{x}<br>Frequency=%{y}<extra></extra>",
                  "legendgroup": "",
                  "marker": {
                    "color": "#636efa",
                    "pattern": {
                      "shape": ""
                    }
                  },
                  "name": "",
                  "orientation": "v",
                  "showlegend": false,
                  "textposition": "auto",
                  "type": "bar",
                  "x": [
                    "%",
                    "ã",
                    "é",
                    "-",
                    "&",
                    "á",
                    "ş",
                    "ç",
                    "ğ",
                    "ı",
                    "Ş",
                    "Ö",
                    "—",
                    "ï",
                    "ę",
                    "ł",
                    "ń",
                    "ó",
                    "ś",
                    "Ø",
                    "ø",
                    "​",
                    "–",
                    "#",
                    "_",
                    "’",
                    "แ",
                    "ผ",
                    "น",
                    "ร",
                    "้",
                    "า",
                    "ย",
                    "เ",
                    "จ",
                    "ล",
                    "่",
                    "ห",
                    "์",
                    "¡",
                    "í",
                    "Ç",
                    "ü",
                    "É",
                    "þ",
                    "Ó",
                    "Á",
                    "ú",
                    "ð",
                    "ö",
                    "Þ",
                    "İ",
                    "Ò",
                    "ò",
                    "ū",
                    "Æ",
                    "Ü",
                    "ñ",
                    "$",
                    "“",
                    "”",
                    "î",
                    "ą",
                    "ż",
                    "Ł",
                    "/",
                    "=",
                    "・",
                    "ê",
                    "ô",
                    "â",
                    "ë",
                    "ä",
                    "ß",
                    "Í",
                    "́",
                    "å",
                    "忍",
                    "者",
                    "ハ",
                    "ッ",
                    "ト",
                    "リ",
                    "く",
                    "ん",
                    "è",
                    "æ",
                    "à",
                    "È",
                    "Ñ",
                    "À",
                    "‘",
                    "*",
                    "´",
                    "²",
                    "海",
                    "的",
                    "儿",
                    "子",
                    "Ō",
                    "|",
                    "Ṣ",
                    "ọ",
                    "ẹ",
                    "ì",
                    "ù",
                    "Č",
                    "Ř",
                    "반",
                    "드",
                    "시",
                    "잡",
                    "는",
                    "다",
                    "@",
                    "마",
                    "녀",
                    "사",
                    "냥",
                    "최",
                    "강",
                    "전",
                    "미",
                    "니",
                    "특",
                    "공",
                    "대",
                    "영",
                    "웅",
                    "의",
                    "탄",
                    "생",
                    "+",
                    "„",
                    "…",
                    "Ú",
                    "ň",
                    "ý",
                    "️",
                    "‑",
                    "û",
                    "š",
                    "č",
                    "ć",
                    "õ",
                    "¿",
                    "Ź",
                    "®",
                    "ơ",
                    "ā",
                    "ă",
                    "Ż",
                    "đ",
                    "ÿ",
                    "~",
                    "Ś",
                    "ي",
                    "و",
                    "م",
                    "ا",
                    "ل",
                    "د",
                    "ن",
                    "ف",
                    "ع",
                    "ة",
                    "ق",
                    "ه",
                    "ر",
                    "ش",
                    "ت",
                    "ب",
                    "ك"
                  ],
                  "xaxis": "x",
                  "y": {
                    "bdata": "BQAgAF8DdhpmCYkCXACuAI0ABAEmAFYAtwArAAgARAAVAGMBDgAIADYACQBYAgsABACsAQEAAQACAAEAAwADAAIAAgABAAEAAQABAAEAAQAcAjIAXAETAAMADgBQAHYACACHAAUANwACAAcAAgABABcArQAfABgAHQAOAAUACAAGABkAAQASAAkAHgAEAC0AIAADAAIABQAgAAEAAQABAAEAAQABAAEAAQAqAAgAEgACAAEABgADAB0AAQACAAEAAQABAAEAAQABAAEAAQABAAIAAgADAAEAAQABAAEAAQABAAEAAgABAAEAAgABAAEAAQABAAEAAQABAAEAAQABAAEAAQABAAEAAwABAAMABQABAAIAAgADAAIAAwAEABAAAQABAAEAAQABAAEAAgACAAEAAQACAAEAAgACAAIABgADAAIAAQACAAEAAgABAAEAAgABAAEAAgACAA==",
                    "dtype": "i2"
                  },
                  "yaxis": "y"
                }
              ],
              "layout": {
                "barmode": "relative",
                "legend": {
                  "tracegroupgap": 0
                },
                "template": {
                  "data": {
                    "bar": [
                      {
                        "error_x": {
                          "color": "#2a3f5f"
                        },
                        "error_y": {
                          "color": "#2a3f5f"
                        },
                        "marker": {
                          "line": {
                            "color": "#E5ECF6",
                            "width": 0.5
                          },
                          "pattern": {
                            "fillmode": "overlay",
                            "size": 10,
                            "solidity": 0.2
                          }
                        },
                        "type": "bar"
                      }
                    ],
                    "barpolar": [
                      {
                        "marker": {
                          "line": {
                            "color": "#E5ECF6",
                            "width": 0.5
                          },
                          "pattern": {
                            "fillmode": "overlay",
                            "size": 10,
                            "solidity": 0.2
                          }
                        },
                        "type": "barpolar"
                      }
                    ],
                    "carpet": [
                      {
                        "aaxis": {
                          "endlinecolor": "#2a3f5f",
                          "gridcolor": "white",
                          "linecolor": "white",
                          "minorgridcolor": "white",
                          "startlinecolor": "#2a3f5f"
                        },
                        "baxis": {
                          "endlinecolor": "#2a3f5f",
                          "gridcolor": "white",
                          "linecolor": "white",
                          "minorgridcolor": "white",
                          "startlinecolor": "#2a3f5f"
                        },
                        "type": "carpet"
                      }
                    ],
                    "choropleth": [
                      {
                        "colorbar": {
                          "outlinewidth": 0,
                          "ticks": ""
                        },
                        "type": "choropleth"
                      }
                    ],
                    "contour": [
                      {
                        "colorbar": {
                          "outlinewidth": 0,
                          "ticks": ""
                        },
                        "colorscale": [
                          [
                            0,
                            "#0d0887"
                          ],
                          [
                            0.1111111111111111,
                            "#46039f"
                          ],
                          [
                            0.2222222222222222,
                            "#7201a8"
                          ],
                          [
                            0.3333333333333333,
                            "#9c179e"
                          ],
                          [
                            0.4444444444444444,
                            "#bd3786"
                          ],
                          [
                            0.5555555555555556,
                            "#d8576b"
                          ],
                          [
                            0.6666666666666666,
                            "#ed7953"
                          ],
                          [
                            0.7777777777777778,
                            "#fb9f3a"
                          ],
                          [
                            0.8888888888888888,
                            "#fdca26"
                          ],
                          [
                            1,
                            "#f0f921"
                          ]
                        ],
                        "type": "contour"
                      }
                    ],
                    "contourcarpet": [
                      {
                        "colorbar": {
                          "outlinewidth": 0,
                          "ticks": ""
                        },
                        "type": "contourcarpet"
                      }
                    ],
                    "heatmap": [
                      {
                        "colorbar": {
                          "outlinewidth": 0,
                          "ticks": ""
                        },
                        "colorscale": [
                          [
                            0,
                            "#0d0887"
                          ],
                          [
                            0.1111111111111111,
                            "#46039f"
                          ],
                          [
                            0.2222222222222222,
                            "#7201a8"
                          ],
                          [
                            0.3333333333333333,
                            "#9c179e"
                          ],
                          [
                            0.4444444444444444,
                            "#bd3786"
                          ],
                          [
                            0.5555555555555556,
                            "#d8576b"
                          ],
                          [
                            0.6666666666666666,
                            "#ed7953"
                          ],
                          [
                            0.7777777777777778,
                            "#fb9f3a"
                          ],
                          [
                            0.8888888888888888,
                            "#fdca26"
                          ],
                          [
                            1,
                            "#f0f921"
                          ]
                        ],
                        "type": "heatmap"
                      }
                    ],
                    "histogram": [
                      {
                        "marker": {
                          "pattern": {
                            "fillmode": "overlay",
                            "size": 10,
                            "solidity": 0.2
                          }
                        },
                        "type": "histogram"
                      }
                    ],
                    "histogram2d": [
                      {
                        "colorbar": {
                          "outlinewidth": 0,
                          "ticks": ""
                        },
                        "colorscale": [
                          [
                            0,
                            "#0d0887"
                          ],
                          [
                            0.1111111111111111,
                            "#46039f"
                          ],
                          [
                            0.2222222222222222,
                            "#7201a8"
                          ],
                          [
                            0.3333333333333333,
                            "#9c179e"
                          ],
                          [
                            0.4444444444444444,
                            "#bd3786"
                          ],
                          [
                            0.5555555555555556,
                            "#d8576b"
                          ],
                          [
                            0.6666666666666666,
                            "#ed7953"
                          ],
                          [
                            0.7777777777777778,
                            "#fb9f3a"
                          ],
                          [
                            0.8888888888888888,
                            "#fdca26"
                          ],
                          [
                            1,
                            "#f0f921"
                          ]
                        ],
                        "type": "histogram2d"
                      }
                    ],
                    "histogram2dcontour": [
                      {
                        "colorbar": {
                          "outlinewidth": 0,
                          "ticks": ""
                        },
                        "colorscale": [
                          [
                            0,
                            "#0d0887"
                          ],
                          [
                            0.1111111111111111,
                            "#46039f"
                          ],
                          [
                            0.2222222222222222,
                            "#7201a8"
                          ],
                          [
                            0.3333333333333333,
                            "#9c179e"
                          ],
                          [
                            0.4444444444444444,
                            "#bd3786"
                          ],
                          [
                            0.5555555555555556,
                            "#d8576b"
                          ],
                          [
                            0.6666666666666666,
                            "#ed7953"
                          ],
                          [
                            0.7777777777777778,
                            "#fb9f3a"
                          ],
                          [
                            0.8888888888888888,
                            "#fdca26"
                          ],
                          [
                            1,
                            "#f0f921"
                          ]
                        ],
                        "type": "histogram2dcontour"
                      }
                    ],
                    "mesh3d": [
                      {
                        "colorbar": {
                          "outlinewidth": 0,
                          "ticks": ""
                        },
                        "type": "mesh3d"
                      }
                    ],
                    "parcoords": [
                      {
                        "line": {
                          "colorbar": {
                            "outlinewidth": 0,
                            "ticks": ""
                          }
                        },
                        "type": "parcoords"
                      }
                    ],
                    "pie": [
                      {
                        "automargin": true,
                        "type": "pie"
                      }
                    ],
                    "scatter": [
                      {
                        "fillpattern": {
                          "fillmode": "overlay",
                          "size": 10,
                          "solidity": 0.2
                        },
                        "type": "scatter"
                      }
                    ],
                    "scatter3d": [
                      {
                        "line": {
                          "colorbar": {
                            "outlinewidth": 0,
                            "ticks": ""
                          }
                        },
                        "marker": {
                          "colorbar": {
                            "outlinewidth": 0,
                            "ticks": ""
                          }
                        },
                        "type": "scatter3d"
                      }
                    ],
                    "scattercarpet": [
                      {
                        "marker": {
                          "colorbar": {
                            "outlinewidth": 0,
                            "ticks": ""
                          }
                        },
                        "type": "scattercarpet"
                      }
                    ],
                    "scattergeo": [
                      {
                        "marker": {
                          "colorbar": {
                            "outlinewidth": 0,
                            "ticks": ""
                          }
                        },
                        "type": "scattergeo"
                      }
                    ],
                    "scattergl": [
                      {
                        "marker": {
                          "colorbar": {
                            "outlinewidth": 0,
                            "ticks": ""
                          }
                        },
                        "type": "scattergl"
                      }
                    ],
                    "scattermap": [
                      {
                        "marker": {
                          "colorbar": {
                            "outlinewidth": 0,
                            "ticks": ""
                          }
                        },
                        "type": "scattermap"
                      }
                    ],
                    "scattermapbox": [
                      {
                        "marker": {
                          "colorbar": {
                            "outlinewidth": 0,
                            "ticks": ""
                          }
                        },
                        "type": "scattermapbox"
                      }
                    ],
                    "scatterpolar": [
                      {
                        "marker": {
                          "colorbar": {
                            "outlinewidth": 0,
                            "ticks": ""
                          }
                        },
                        "type": "scatterpolar"
                      }
                    ],
                    "scatterpolargl": [
                      {
                        "marker": {
                          "colorbar": {
                            "outlinewidth": 0,
                            "ticks": ""
                          }
                        },
                        "type": "scatterpolargl"
                      }
                    ],
                    "scatterternary": [
                      {
                        "marker": {
                          "colorbar": {
                            "outlinewidth": 0,
                            "ticks": ""
                          }
                        },
                        "type": "scatterternary"
                      }
                    ],
                    "surface": [
                      {
                        "colorbar": {
                          "outlinewidth": 0,
                          "ticks": ""
                        },
                        "colorscale": [
                          [
                            0,
                            "#0d0887"
                          ],
                          [
                            0.1111111111111111,
                            "#46039f"
                          ],
                          [
                            0.2222222222222222,
                            "#7201a8"
                          ],
                          [
                            0.3333333333333333,
                            "#9c179e"
                          ],
                          [
                            0.4444444444444444,
                            "#bd3786"
                          ],
                          [
                            0.5555555555555556,
                            "#d8576b"
                          ],
                          [
                            0.6666666666666666,
                            "#ed7953"
                          ],
                          [
                            0.7777777777777778,
                            "#fb9f3a"
                          ],
                          [
                            0.8888888888888888,
                            "#fdca26"
                          ],
                          [
                            1,
                            "#f0f921"
                          ]
                        ],
                        "type": "surface"
                      }
                    ],
                    "table": [
                      {
                        "cells": {
                          "fill": {
                            "color": "#EBF0F8"
                          },
                          "line": {
                            "color": "white"
                          }
                        },
                        "header": {
                          "fill": {
                            "color": "#C8D4E3"
                          },
                          "line": {
                            "color": "white"
                          }
                        },
                        "type": "table"
                      }
                    ]
                  },
                  "layout": {
                    "annotationdefaults": {
                      "arrowcolor": "#2a3f5f",
                      "arrowhead": 0,
                      "arrowwidth": 1
                    },
                    "autotypenumbers": "strict",
                    "coloraxis": {
                      "colorbar": {
                        "outlinewidth": 0,
                        "ticks": ""
                      }
                    },
                    "colorscale": {
                      "diverging": [
                        [
                          0,
                          "#8e0152"
                        ],
                        [
                          0.1,
                          "#c51b7d"
                        ],
                        [
                          0.2,
                          "#de77ae"
                        ],
                        [
                          0.3,
                          "#f1b6da"
                        ],
                        [
                          0.4,
                          "#fde0ef"
                        ],
                        [
                          0.5,
                          "#f7f7f7"
                        ],
                        [
                          0.6,
                          "#e6f5d0"
                        ],
                        [
                          0.7,
                          "#b8e186"
                        ],
                        [
                          0.8,
                          "#7fbc41"
                        ],
                        [
                          0.9,
                          "#4d9221"
                        ],
                        [
                          1,
                          "#276419"
                        ]
                      ],
                      "sequential": [
                        [
                          0,
                          "#0d0887"
                        ],
                        [
                          0.1111111111111111,
                          "#46039f"
                        ],
                        [
                          0.2222222222222222,
                          "#7201a8"
                        ],
                        [
                          0.3333333333333333,
                          "#9c179e"
                        ],
                        [
                          0.4444444444444444,
                          "#bd3786"
                        ],
                        [
                          0.5555555555555556,
                          "#d8576b"
                        ],
                        [
                          0.6666666666666666,
                          "#ed7953"
                        ],
                        [
                          0.7777777777777778,
                          "#fb9f3a"
                        ],
                        [
                          0.8888888888888888,
                          "#fdca26"
                        ],
                        [
                          1,
                          "#f0f921"
                        ]
                      ],
                      "sequentialminus": [
                        [
                          0,
                          "#0d0887"
                        ],
                        [
                          0.1111111111111111,
                          "#46039f"
                        ],
                        [
                          0.2222222222222222,
                          "#7201a8"
                        ],
                        [
                          0.3333333333333333,
                          "#9c179e"
                        ],
                        [
                          0.4444444444444444,
                          "#bd3786"
                        ],
                        [
                          0.5555555555555556,
                          "#d8576b"
                        ],
                        [
                          0.6666666666666666,
                          "#ed7953"
                        ],
                        [
                          0.7777777777777778,
                          "#fb9f3a"
                        ],
                        [
                          0.8888888888888888,
                          "#fdca26"
                        ],
                        [
                          1,
                          "#f0f921"
                        ]
                      ]
                    },
                    "colorway": [
                      "#636efa",
                      "#EF553B",
                      "#00cc96",
                      "#ab63fa",
                      "#FFA15A",
                      "#19d3f3",
                      "#FF6692",
                      "#B6E880",
                      "#FF97FF",
                      "#FECB52"
                    ],
                    "font": {
                      "color": "#2a3f5f"
                    },
                    "geo": {
                      "bgcolor": "white",
                      "lakecolor": "white",
                      "landcolor": "#E5ECF6",
                      "showlakes": true,
                      "showland": true,
                      "subunitcolor": "white"
                    },
                    "hoverlabel": {
                      "align": "left"
                    },
                    "hovermode": "closest",
                    "mapbox": {
                      "style": "light"
                    },
                    "paper_bgcolor": "white",
                    "plot_bgcolor": "#E5ECF6",
                    "polar": {
                      "angularaxis": {
                        "gridcolor": "white",
                        "linecolor": "white",
                        "ticks": ""
                      },
                      "bgcolor": "#E5ECF6",
                      "radialaxis": {
                        "gridcolor": "white",
                        "linecolor": "white",
                        "ticks": ""
                      }
                    },
                    "scene": {
                      "xaxis": {
                        "backgroundcolor": "#E5ECF6",
                        "gridcolor": "white",
                        "gridwidth": 2,
                        "linecolor": "white",
                        "showbackground": true,
                        "ticks": "",
                        "zerolinecolor": "white"
                      },
                      "yaxis": {
                        "backgroundcolor": "#E5ECF6",
                        "gridcolor": "white",
                        "gridwidth": 2,
                        "linecolor": "white",
                        "showbackground": true,
                        "ticks": "",
                        "zerolinecolor": "white"
                      },
                      "zaxis": {
                        "backgroundcolor": "#E5ECF6",
                        "gridcolor": "white",
                        "gridwidth": 2,
                        "linecolor": "white",
                        "showbackground": true,
                        "ticks": "",
                        "zerolinecolor": "white"
                      }
                    },
                    "shapedefaults": {
                      "line": {
                        "color": "#2a3f5f"
                      }
                    },
                    "ternary": {
                      "aaxis": {
                        "gridcolor": "white",
                        "linecolor": "white",
                        "ticks": ""
                      },
                      "baxis": {
                        "gridcolor": "white",
                        "linecolor": "white",
                        "ticks": ""
                      },
                      "bgcolor": "#E5ECF6",
                      "caxis": {
                        "gridcolor": "white",
                        "linecolor": "white",
                        "ticks": ""
                      }
                    },
                    "title": {
                      "x": 0.05
                    },
                    "xaxis": {
                      "automargin": true,
                      "gridcolor": "white",
                      "linecolor": "white",
                      "ticks": "",
                      "title": {
                        "standoff": 15
                      },
                      "zerolinecolor": "white",
                      "zerolinewidth": 2
                    },
                    "yaxis": {
                      "automargin": true,
                      "gridcolor": "white",
                      "linecolor": "white",
                      "ticks": "",
                      "title": {
                        "standoff": 15
                      },
                      "zerolinecolor": "white",
                      "zerolinewidth": 2
                    }
                  }
                },
                "title": {
                  "text": "Frequency of Unusual Characters"
                },
                "xaxis": {
                  "anchor": "y",
                  "domain": [
                    0,
                    1
                  ],
                  "title": {
                    "text": "Unusual Characters"
                  }
                },
                "yaxis": {
                  "anchor": "x",
                  "domain": [
                    0,
                    1
                  ],
                  "title": {
                    "text": "Frequency"
                  }
                }
              }
            }
          },
          "metadata": {},
          "output_type": "display_data"
        }
      ],
      "source": [
        "# Combine text from all relevant columns\n",
        "all_text = ' '.join(df['title'] + ' ' + df['description'] + ' ' + df['director'] + ' ' + df['cast'] + ' ' + df['listed_in'] + ' ' + df['country'])\n",
        "\n",
        "# Find all unusual characters\n",
        "unusual_chars = re.findall(r\"[^a-zA-Z0-9\\s.,!?;:'\\\"()\\[\\]{}]\", all_text)\n",
        "\n",
        "# Count the frequency of each unusual character\n",
        "char_counts = collections.Counter(unusual_chars)\n",
        "\n",
        "# Create a bar chart with Plotly Express\n",
        "fig = px.bar(x=list(char_counts.keys()), y=list(char_counts.values()),\n",
        "             labels={'x': 'Unusual Characters', 'y': 'Frequency'},\n",
        "             title=\"Frequency of Unusual Characters\")\n",
        "fig.show()"
      ]
    },
    {
      "cell_type": "code",
      "execution_count": 19,
      "metadata": {
        "colab": {
          "base_uri": "https://localhost:8080/",
          "height": 542
        },
        "id": "Cbr7wFUwPOSR",
        "outputId": "49601931-a6f9-4147-c395-5b2e43c7ac4c"
      },
      "outputs": [
        {
          "data": {
            "application/vnd.plotly.v1+json": {
              "config": {
                "plotlyServerURL": "https://plot.ly"
              },
              "data": [
                {
                  "source": "data:image/png;base64,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",
                  "type": "image"
                }
              ],
              "layout": {
                "template": {
                  "data": {
                    "bar": [
                      {
                        "error_x": {
                          "color": "#2a3f5f"
                        },
                        "error_y": {
                          "color": "#2a3f5f"
                        },
                        "marker": {
                          "line": {
                            "color": "#E5ECF6",
                            "width": 0.5
                          },
                          "pattern": {
                            "fillmode": "overlay",
                            "size": 10,
                            "solidity": 0.2
                          }
                        },
                        "type": "bar"
                      }
                    ],
                    "barpolar": [
                      {
                        "marker": {
                          "line": {
                            "color": "#E5ECF6",
                            "width": 0.5
                          },
                          "pattern": {
                            "fillmode": "overlay",
                            "size": 10,
                            "solidity": 0.2
                          }
                        },
                        "type": "barpolar"
                      }
                    ],
                    "carpet": [
                      {
                        "aaxis": {
                          "endlinecolor": "#2a3f5f",
                          "gridcolor": "white",
                          "linecolor": "white",
                          "minorgridcolor": "white",
                          "startlinecolor": "#2a3f5f"
                        },
                        "baxis": {
                          "endlinecolor": "#2a3f5f",
                          "gridcolor": "white",
                          "linecolor": "white",
                          "minorgridcolor": "white",
                          "startlinecolor": "#2a3f5f"
                        },
                        "type": "carpet"
                      }
                    ],
                    "choropleth": [
                      {
                        "colorbar": {
                          "outlinewidth": 0,
                          "ticks": ""
                        },
                        "type": "choropleth"
                      }
                    ],
                    "contour": [
                      {
                        "colorbar": {
                          "outlinewidth": 0,
                          "ticks": ""
                        },
                        "colorscale": [
                          [
                            0,
                            "#0d0887"
                          ],
                          [
                            0.1111111111111111,
                            "#46039f"
                          ],
                          [
                            0.2222222222222222,
                            "#7201a8"
                          ],
                          [
                            0.3333333333333333,
                            "#9c179e"
                          ],
                          [
                            0.4444444444444444,
                            "#bd3786"
                          ],
                          [
                            0.5555555555555556,
                            "#d8576b"
                          ],
                          [
                            0.6666666666666666,
                            "#ed7953"
                          ],
                          [
                            0.7777777777777778,
                            "#fb9f3a"
                          ],
                          [
                            0.8888888888888888,
                            "#fdca26"
                          ],
                          [
                            1,
                            "#f0f921"
                          ]
                        ],
                        "type": "contour"
                      }
                    ],
                    "contourcarpet": [
                      {
                        "colorbar": {
                          "outlinewidth": 0,
                          "ticks": ""
                        },
                        "type": "contourcarpet"
                      }
                    ],
                    "heatmap": [
                      {
                        "colorbar": {
                          "outlinewidth": 0,
                          "ticks": ""
                        },
                        "colorscale": [
                          [
                            0,
                            "#0d0887"
                          ],
                          [
                            0.1111111111111111,
                            "#46039f"
                          ],
                          [
                            0.2222222222222222,
                            "#7201a8"
                          ],
                          [
                            0.3333333333333333,
                            "#9c179e"
                          ],
                          [
                            0.4444444444444444,
                            "#bd3786"
                          ],
                          [
                            0.5555555555555556,
                            "#d8576b"
                          ],
                          [
                            0.6666666666666666,
                            "#ed7953"
                          ],
                          [
                            0.7777777777777778,
                            "#fb9f3a"
                          ],
                          [
                            0.8888888888888888,
                            "#fdca26"
                          ],
                          [
                            1,
                            "#f0f921"
                          ]
                        ],
                        "type": "heatmap"
                      }
                    ],
                    "histogram": [
                      {
                        "marker": {
                          "pattern": {
                            "fillmode": "overlay",
                            "size": 10,
                            "solidity": 0.2
                          }
                        },
                        "type": "histogram"
                      }
                    ],
                    "histogram2d": [
                      {
                        "colorbar": {
                          "outlinewidth": 0,
                          "ticks": ""
                        },
                        "colorscale": [
                          [
                            0,
                            "#0d0887"
                          ],
                          [
                            0.1111111111111111,
                            "#46039f"
                          ],
                          [
                            0.2222222222222222,
                            "#7201a8"
                          ],
                          [
                            0.3333333333333333,
                            "#9c179e"
                          ],
                          [
                            0.4444444444444444,
                            "#bd3786"
                          ],
                          [
                            0.5555555555555556,
                            "#d8576b"
                          ],
                          [
                            0.6666666666666666,
                            "#ed7953"
                          ],
                          [
                            0.7777777777777778,
                            "#fb9f3a"
                          ],
                          [
                            0.8888888888888888,
                            "#fdca26"
                          ],
                          [
                            1,
                            "#f0f921"
                          ]
                        ],
                        "type": "histogram2d"
                      }
                    ],
                    "histogram2dcontour": [
                      {
                        "colorbar": {
                          "outlinewidth": 0,
                          "ticks": ""
                        },
                        "colorscale": [
                          [
                            0,
                            "#0d0887"
                          ],
                          [
                            0.1111111111111111,
                            "#46039f"
                          ],
                          [
                            0.2222222222222222,
                            "#7201a8"
                          ],
                          [
                            0.3333333333333333,
                            "#9c179e"
                          ],
                          [
                            0.4444444444444444,
                            "#bd3786"
                          ],
                          [
                            0.5555555555555556,
                            "#d8576b"
                          ],
                          [
                            0.6666666666666666,
                            "#ed7953"
                          ],
                          [
                            0.7777777777777778,
                            "#fb9f3a"
                          ],
                          [
                            0.8888888888888888,
                            "#fdca26"
                          ],
                          [
                            1,
                            "#f0f921"
                          ]
                        ],
                        "type": "histogram2dcontour"
                      }
                    ],
                    "mesh3d": [
                      {
                        "colorbar": {
                          "outlinewidth": 0,
                          "ticks": ""
                        },
                        "type": "mesh3d"
                      }
                    ],
                    "parcoords": [
                      {
                        "line": {
                          "colorbar": {
                            "outlinewidth": 0,
                            "ticks": ""
                          }
                        },
                        "type": "parcoords"
                      }
                    ],
                    "pie": [
                      {
                        "automargin": true,
                        "type": "pie"
                      }
                    ],
                    "scatter": [
                      {
                        "fillpattern": {
                          "fillmode": "overlay",
                          "size": 10,
                          "solidity": 0.2
                        },
                        "type": "scatter"
                      }
                    ],
                    "scatter3d": [
                      {
                        "line": {
                          "colorbar": {
                            "outlinewidth": 0,
                            "ticks": ""
                          }
                        },
                        "marker": {
                          "colorbar": {
                            "outlinewidth": 0,
                            "ticks": ""
                          }
                        },
                        "type": "scatter3d"
                      }
                    ],
                    "scattercarpet": [
                      {
                        "marker": {
                          "colorbar": {
                            "outlinewidth": 0,
                            "ticks": ""
                          }
                        },
                        "type": "scattercarpet"
                      }
                    ],
                    "scattergeo": [
                      {
                        "marker": {
                          "colorbar": {
                            "outlinewidth": 0,
                            "ticks": ""
                          }
                        },
                        "type": "scattergeo"
                      }
                    ],
                    "scattergl": [
                      {
                        "marker": {
                          "colorbar": {
                            "outlinewidth": 0,
                            "ticks": ""
                          }
                        },
                        "type": "scattergl"
                      }
                    ],
                    "scattermap": [
                      {
                        "marker": {
                          "colorbar": {
                            "outlinewidth": 0,
                            "ticks": ""
                          }
                        },
                        "type": "scattermap"
                      }
                    ],
                    "scattermapbox": [
                      {
                        "marker": {
                          "colorbar": {
                            "outlinewidth": 0,
                            "ticks": ""
                          }
                        },
                        "type": "scattermapbox"
                      }
                    ],
                    "scatterpolar": [
                      {
                        "marker": {
                          "colorbar": {
                            "outlinewidth": 0,
                            "ticks": ""
                          }
                        },
                        "type": "scatterpolar"
                      }
                    ],
                    "scatterpolargl": [
                      {
                        "marker": {
                          "colorbar": {
                            "outlinewidth": 0,
                            "ticks": ""
                          }
                        },
                        "type": "scatterpolargl"
                      }
                    ],
                    "scatterternary": [
                      {
                        "marker": {
                          "colorbar": {
                            "outlinewidth": 0,
                            "ticks": ""
                          }
                        },
                        "type": "scatterternary"
                      }
                    ],
                    "surface": [
                      {
                        "colorbar": {
                          "outlinewidth": 0,
                          "ticks": ""
                        },
                        "colorscale": [
                          [
                            0,
                            "#0d0887"
                          ],
                          [
                            0.1111111111111111,
                            "#46039f"
                          ],
                          [
                            0.2222222222222222,
                            "#7201a8"
                          ],
                          [
                            0.3333333333333333,
                            "#9c179e"
                          ],
                          [
                            0.4444444444444444,
                            "#bd3786"
                          ],
                          [
                            0.5555555555555556,
                            "#d8576b"
                          ],
                          [
                            0.6666666666666666,
                            "#ed7953"
                          ],
                          [
                            0.7777777777777778,
                            "#fb9f3a"
                          ],
                          [
                            0.8888888888888888,
                            "#fdca26"
                          ],
                          [
                            1,
                            "#f0f921"
                          ]
                        ],
                        "type": "surface"
                      }
                    ],
                    "table": [
                      {
                        "cells": {
                          "fill": {
                            "color": "#EBF0F8"
                          },
                          "line": {
                            "color": "white"
                          }
                        },
                        "header": {
                          "fill": {
                            "color": "#C8D4E3"
                          },
                          "line": {
                            "color": "white"
                          }
                        },
                        "type": "table"
                      }
                    ]
                  },
                  "layout": {
                    "annotationdefaults": {
                      "arrowcolor": "#2a3f5f",
                      "arrowhead": 0,
                      "arrowwidth": 1
                    },
                    "autotypenumbers": "strict",
                    "coloraxis": {
                      "colorbar": {
                        "outlinewidth": 0,
                        "ticks": ""
                      }
                    },
                    "colorscale": {
                      "diverging": [
                        [
                          0,
                          "#8e0152"
                        ],
                        [
                          0.1,
                          "#c51b7d"
                        ],
                        [
                          0.2,
                          "#de77ae"
                        ],
                        [
                          0.3,
                          "#f1b6da"
                        ],
                        [
                          0.4,
                          "#fde0ef"
                        ],
                        [
                          0.5,
                          "#f7f7f7"
                        ],
                        [
                          0.6,
                          "#e6f5d0"
                        ],
                        [
                          0.7,
                          "#b8e186"
                        ],
                        [
                          0.8,
                          "#7fbc41"
                        ],
                        [
                          0.9,
                          "#4d9221"
                        ],
                        [
                          1,
                          "#276419"
                        ]
                      ],
                      "sequential": [
                        [
                          0,
                          "#0d0887"
                        ],
                        [
                          0.1111111111111111,
                          "#46039f"
                        ],
                        [
                          0.2222222222222222,
                          "#7201a8"
                        ],
                        [
                          0.3333333333333333,
                          "#9c179e"
                        ],
                        [
                          0.4444444444444444,
                          "#bd3786"
                        ],
                        [
                          0.5555555555555556,
                          "#d8576b"
                        ],
                        [
                          0.6666666666666666,
                          "#ed7953"
                        ],
                        [
                          0.7777777777777778,
                          "#fb9f3a"
                        ],
                        [
                          0.8888888888888888,
                          "#fdca26"
                        ],
                        [
                          1,
                          "#f0f921"
                        ]
                      ],
                      "sequentialminus": [
                        [
                          0,
                          "#0d0887"
                        ],
                        [
                          0.1111111111111111,
                          "#46039f"
                        ],
                        [
                          0.2222222222222222,
                          "#7201a8"
                        ],
                        [
                          0.3333333333333333,
                          "#9c179e"
                        ],
                        [
                          0.4444444444444444,
                          "#bd3786"
                        ],
                        [
                          0.5555555555555556,
                          "#d8576b"
                        ],
                        [
                          0.6666666666666666,
                          "#ed7953"
                        ],
                        [
                          0.7777777777777778,
                          "#fb9f3a"
                        ],
                        [
                          0.8888888888888888,
                          "#fdca26"
                        ],
                        [
                          1,
                          "#f0f921"
                        ]
                      ]
                    },
                    "colorway": [
                      "#636efa",
                      "#EF553B",
                      "#00cc96",
                      "#ab63fa",
                      "#FFA15A",
                      "#19d3f3",
                      "#FF6692",
                      "#B6E880",
                      "#FF97FF",
                      "#FECB52"
                    ],
                    "font": {
                      "color": "#2a3f5f"
                    },
                    "geo": {
                      "bgcolor": "white",
                      "lakecolor": "white",
                      "landcolor": "#E5ECF6",
                      "showlakes": true,
                      "showland": true,
                      "subunitcolor": "white"
                    },
                    "hoverlabel": {
                      "align": "left"
                    },
                    "hovermode": "closest",
                    "mapbox": {
                      "style": "light"
                    },
                    "paper_bgcolor": "white",
                    "plot_bgcolor": "#E5ECF6",
                    "polar": {
                      "angularaxis": {
                        "gridcolor": "white",
                        "linecolor": "white",
                        "ticks": ""
                      },
                      "bgcolor": "#E5ECF6",
                      "radialaxis": {
                        "gridcolor": "white",
                        "linecolor": "white",
                        "ticks": ""
                      }
                    },
                    "scene": {
                      "xaxis": {
                        "backgroundcolor": "#E5ECF6",
                        "gridcolor": "white",
                        "gridwidth": 2,
                        "linecolor": "white",
                        "showbackground": true,
                        "ticks": "",
                        "zerolinecolor": "white"
                      },
                      "yaxis": {
                        "backgroundcolor": "#E5ECF6",
                        "gridcolor": "white",
                        "gridwidth": 2,
                        "linecolor": "white",
                        "showbackground": true,
                        "ticks": "",
                        "zerolinecolor": "white"
                      },
                      "zaxis": {
                        "backgroundcolor": "#E5ECF6",
                        "gridcolor": "white",
                        "gridwidth": 2,
                        "linecolor": "white",
                        "showbackground": true,
                        "ticks": "",
                        "zerolinecolor": "white"
                      }
                    },
                    "shapedefaults": {
                      "line": {
                        "color": "#2a3f5f"
                      }
                    },
                    "ternary": {
                      "aaxis": {
                        "gridcolor": "white",
                        "linecolor": "white",
                        "ticks": ""
                      },
                      "baxis": {
                        "gridcolor": "white",
                        "linecolor": "white",
                        "ticks": ""
                      },
                      "bgcolor": "#E5ECF6",
                      "caxis": {
                        "gridcolor": "white",
                        "linecolor": "white",
                        "ticks": ""
                      }
                    },
                    "title": {
                      "x": 0.05
                    },
                    "xaxis": {
                      "automargin": true,
                      "gridcolor": "white",
                      "linecolor": "white",
                      "ticks": "",
                      "title": {
                        "standoff": 15
                      },
                      "zerolinecolor": "white",
                      "zerolinewidth": 2
                    },
                    "yaxis": {
                      "automargin": true,
                      "gridcolor": "white",
                      "linecolor": "white",
                      "ticks": "",
                      "title": {
                        "standoff": 15
                      },
                      "zerolinecolor": "white",
                      "zerolinewidth": 2
                    }
                  }
                },
                "title": {
                  "text": "Word Cloud of Unusual Characters"
                }
              }
            }
          },
          "metadata": {},
          "output_type": "display_data"
        }
      ],
      "source": [
        "# Create a word cloud from the unusual characters\n",
        "wordcloud = WordCloud(width=800, height=400, background_color='white').generate_from_frequencies(char_counts)\n",
        "\n",
        "# Convert the word cloud image to bytes\n",
        "img_bytes = io.BytesIO()\n",
        "wordcloud.to_image().save(img_bytes, format='PNG')\n",
        "img_bytes.seek(0)\n",
        "\n",
        "# Encode the image bytes as base64\n",
        "encoded_image = base64.b64encode(img_bytes.read()).decode('ascii')\n",
        "\n",
        "# Display the word cloud using Plotly's Image object with the encoded image\n",
        "fig = go.Figure(data=[go.Image(source='data:image/png;base64,' + encoded_image)]) # Modified line\n",
        "fig.update_layout(title=\"Word Cloud of Unusual Characters\")\n",
        "fig.show()"
      ]
    },
    {
      "cell_type": "code",
      "execution_count": 20,
      "metadata": {
        "colab": {
          "base_uri": "https://localhost:8080/"
        },
        "id": "ZXgtAa50Sks7",
        "outputId": "6bbcdb7e-7a16-4eb9-dbcc-b3934a099451"
      },
      "outputs": [
        {
          "data": {
            "text/plain": [
              "array(['%', 'ã', 'é', '-', '&', 'á', 'ş', 'ç', 'ğ', 'ı', 'Ş', 'Ö', '—',\n",
              "       'ï', 'ę', 'ł', 'ń', 'ó', 'ś', 'Ø', 'ø', '\\u200b', '–', '#', '_',\n",
              "       '’', 'แ', 'ผ', 'น', 'ร', '้', 'า', 'ย', 'เ', 'จ', 'ล', '่', 'ห',\n",
              "       '์', '¡', 'í', 'Ç', 'ü', 'É', 'þ', 'Ó', 'Á', 'ú', 'ð', 'ö', 'Þ',\n",
              "       'İ', 'Ò', 'ò', 'ū', 'Æ', 'Ü', 'ñ', '$', '“', '”', 'î', 'ą', 'ż',\n",
              "       'Ł', '/', '=', '・', 'ê', 'ô', 'â', 'ë', 'ä', 'ß', 'Í', '́', 'å',\n",
              "       '忍', '者', 'ハ', 'ッ', 'ト', 'リ', 'く', 'ん', 'è', 'æ', 'à', 'È', 'Ñ',\n",
              "       'À', '‘', '*', '´', '²', '海', '的', '儿', '子', 'Ō', '|', 'Ṣ', 'ọ',\n",
              "       'ẹ', 'ì', 'ù', 'Č', 'Ř', '반', '드', '시', '잡', '는', '다', '@', '마',\n",
              "       '녀', '사', '냥', '최', '강', '전', '미', '니', '특', '공', '대', '영', '웅',\n",
              "       '의', '탄', '생', '+', '„', '…', 'Ú', 'ň', 'ý', '️', '‑', 'û', 'š',\n",
              "       'č', 'ć', 'õ', '¿', 'Ź', '®', 'ơ', 'ā', 'ă', 'Ż', 'đ', 'ÿ', '~',\n",
              "       'Ś', 'ي', 'و', 'م', 'ا', 'ل', 'د', 'ن', 'ف', 'ع', 'ة', 'ق', 'ه',\n",
              "       'ر', 'ش', 'ت', 'ب', 'ك'], dtype=object)"
            ]
          },
          "execution_count": 20,
          "metadata": {},
          "output_type": "execute_result"
        }
      ],
      "source": [
        "pd.unique(unusual_chars)"
      ]
    },
    {
      "cell_type": "markdown",
      "metadata": {
        "id": "sALDQTw8XGW7"
      },
      "source": [
        "**Replacement**: preserve some unusual characters but replace others with their standard equivalents."
      ]
    },
    {
      "cell_type": "code",
      "execution_count": 21,
      "metadata": {
        "id": "1IbjP87VcS0t"
      },
      "outputs": [],
      "source": [
        "# Character mapping for non-standard English to standard English\n",
        "char_map = {\n",
        "    'é': 'e', 'è': 'e', 'ê': 'e', 'ë': 'e', 'ä': 'a', 'á': 'a', 'à': 'a', 'â': 'a',\n",
        "    'í': 'i', 'ì': 'i', 'î': 'i', 'ï': 'i', 'ı': 'i',\n",
        "    'ó': 'o', 'ò': 'o', 'ô': 'o', 'õ': 'o', 'ö': 'o', 'ø': 'o',\n",
        "    'ú': 'u', 'ù': 'u', 'û': 'u', 'ü': 'u', 'ū': 'u',\n",
        "    'ç': 'c', 'ć': 'c', 'č': 'c',\n",
        "    'ş': 's', 'ś': 's', 'š': 's',\n",
        "    'ñ': 'n', 'ń': 'n', 'ň': 'n',\n",
        "    'ý': 'y', 'ÿ': 'y',\n",
        "    'æ': 'ae', 'œ': 'oe',\n",
        "    'ß': 'ss',\n",
        "    'å': 'a',\n",
        "    'ą': 'a', 'ã': 'a',\n",
        "    'ę': 'e',\n",
        "    'ł': 'l', 'ľ': 'l',\n",
        "    'đ': 'd',\n",
        "    'þ': 'th', 'ð': 'th',\n",
        "    'ż': 'z', 'ź': 'z',\n",
        "    'ř': 'r',\n",
        "    'ō': 'o', 'ă': 'a', 'ā': 'a',\n",
        "    'Ç': 'C', 'É': 'E', 'Á': 'A', 'Ó': 'O', 'Í': 'I', 'Ú': 'U', 'Ñ': 'N', 'À': 'A',\n",
        "    'È': 'E', 'Ò': 'O', 'Ü': 'U', 'Ä': 'A', 'Ö': 'O', 'Å': 'A', 'Æ': 'AE', 'Ø': 'O',\n",
        "    'Ş': 'S', 'İ': 'I', 'Þ': 'TH', 'Ł': 'L', 'Ś': 'S', 'Ž': 'Z', 'Ź': 'Z', 'Ż': 'Z',\n",
        "    'Č': 'C', 'Ř': 'R', 'Ň': 'N', 'Ō': 'O'\n",
        "}\n",
        "\n",
        "def clean_and_replace(text):\n",
        "    # Handle non-string values (e.g., NaN)\n",
        "    if pd.isna(text):\n",
        "        return text\n",
        "    text = str(text)  # Convert to string\n",
        "    # Normalize Unicode characters (e.g., decompose é into e + combining mark)\n",
        "    normalized = unicodedata.normalize('NFKD', text)\n",
        "    # Replace mapped characters and keep only standard English letters, numbers, spaces, allowed punctuation, and - &\n",
        "    result = ''\n",
        "    for char in normalized:\n",
        "        # Get the mapped character or the original if not in map\n",
        "        mapped_char = char_map.get(char, char)\n",
        "        # Keep standard English letters (a-z, A-Z), numbers, spaces, allowed punctuation, -, and &\n",
        "        if (mapped_char.isalnum() and mapped_char.isascii()) or mapped_char in ' .,;:!?\\'\"()[]{} -&':\n",
        "            result += mapped_char\n",
        "    return result\n",
        "\n",
        "# Apply cleaning to all columns\n",
        "columns_to_clean = ['title', 'director', 'cast', 'country', 'date_added', 'rating', 'listed_in', 'description']\n",
        "for col in columns_to_clean:\n",
        "    df[col] = df[col].apply(clean_and_replace)"
      ]
    },
    {
      "cell_type": "markdown",
      "metadata": {
        "id": "R8vSWd6veINj"
      },
      "source": [
        "check for unusual characters to verify"
      ]
    },
    {
      "cell_type": "code",
      "execution_count": 22,
      "metadata": {
        "colab": {
          "base_uri": "https://localhost:8080/"
        },
        "id": "fPYak6BxdvUw",
        "outputId": "88163a4e-dace-49a2-ff7f-07ddbdb300d8"
      },
      "outputs": [
        {
          "name": "stdout",
          "output_type": "stream",
          "text": [
            "No unusual characters in column: show_id\n",
            "No unusual characters in column: type\n",
            "No unusual characters in column: title\n",
            "No unusual characters in column: director\n",
            "No unusual characters in column: cast\n",
            "No unusual characters in column: country\n",
            "No unusual characters in column: date_added\n",
            "No unusual characters in column: release_year\n",
            "No unusual characters in column: rating\n",
            "No unusual characters in column: duration\n",
            "No unusual characters in column: listed_in\n",
            "No unusual characters in column: description\n"
          ]
        }
      ],
      "source": [
        "# Re-run your check for unusual characters to verify\n",
        "def check_unusual_chars(text):\n",
        "    if pd.isna(text):\n",
        "        return False\n",
        "    pattern = r\"[^a-zA-Z0-9\\s.,!?;:'\\\"()\\[\\]{}\\-&]\"  # Updated pattern to allow - and &\n",
        "    matches = re.findall(pattern, str(text))\n",
        "    return bool(matches)\n",
        "\n",
        "for col in df.columns:\n",
        "    unusual_chars_found = df[col].apply(check_unusual_chars).any()\n",
        "    if unusual_chars_found:\n",
        "        print(f\"Unusual characters still found in column: {col}\")\n",
        "    else:\n",
        "        print(f\"No unusual characters in column: {col}\")"
      ]
    },
    {
      "cell_type": "code",
      "execution_count": 23,
      "metadata": {
        "id": "PFmP2Gt2gniX"
      },
      "outputs": [],
      "source": [
        "df['date_added'] = pd.to_datetime(df['date_added'], errors='coerce')"
      ]
    },
    {
      "cell_type": "code",
      "execution_count": 24,
      "metadata": {
        "colab": {
          "base_uri": "https://localhost:8080/",
          "height": 178
        },
        "id": "_fjqUqoIhrxg",
        "outputId": "99e36f7e-5331-4bd5-aa4c-f6605a5b3b0c"
      },
      "outputs": [
        {
          "data": {
            "text/plain": [
              "0    s1\n",
              "1    s2\n",
              "2    s3\n",
              "Name: show_id, dtype: object"
            ]
          },
          "execution_count": 24,
          "metadata": {},
          "output_type": "execute_result"
        }
      ],
      "source": [
        "df['show_id'].head(3)"
      ]
    },
    {
      "cell_type": "code",
      "execution_count": 25,
      "metadata": {
        "colab": {
          "base_uri": "https://localhost:8080/"
        },
        "id": "v48gKNnziLFu",
        "outputId": "2a19e9e3-1fe1-4a07-f35d-a6dec0fdcd1b"
      },
      "outputs": [
        {
          "name": "stdout",
          "output_type": "stream",
          "text": [
            "0    1\n",
            "1    2\n",
            "2    3\n",
            "3    4\n",
            "4    5\n",
            "Name: show_id, dtype: int32\n",
            "int32\n"
          ]
        }
      ],
      "source": [
        "# Remove \"s\" prefix and convert to integer\n",
        "df['show_id'] = df['show_id'].str.replace('s', '').astype(int)\n",
        "\n",
        "# Verify the changes\n",
        "print(df['show_id'].head())  # Check the first few values\n",
        "print(df['show_id'].dtype)   # Check the data type"
      ]
    },
    {
      "cell_type": "markdown",
      "metadata": {
        "id": "qvnAF7ZGida9"
      },
      "source": [
        "#### **Final standard format:** after Handled null values, missing values and unsual chars from all columns"
      ]
    },
    {
      "cell_type": "code",
      "execution_count": 26,
      "metadata": {
        "colab": {
          "base_uri": "https://localhost:8080/"
        },
        "id": "KSnSkcLEiLDf",
        "outputId": "d07ca585-1bea-4a70-f8b2-1a3aefeca3f1"
      },
      "outputs": [
        {
          "name": "stdout",
          "output_type": "stream",
          "text": [
            "<class 'pandas.core.frame.DataFrame'>\n",
            "RangeIndex: 7787 entries, 0 to 7786\n",
            "Data columns (total 12 columns):\n",
            " #   Column        Non-Null Count  Dtype         \n",
            "---  ------        --------------  -----         \n",
            " 0   show_id       7787 non-null   int32         \n",
            " 1   type          7787 non-null   object        \n",
            " 2   title         7787 non-null   object        \n",
            " 3   director      7787 non-null   object        \n",
            " 4   cast          7787 non-null   object        \n",
            " 5   country       7787 non-null   object        \n",
            " 6   date_added    7787 non-null   datetime64[ns]\n",
            " 7   release_year  7787 non-null   int64         \n",
            " 8   rating        7787 non-null   object        \n",
            " 9   duration      7787 non-null   object        \n",
            " 10  listed_in     7787 non-null   object        \n",
            " 11  description   7787 non-null   object        \n",
            "dtypes: datetime64[ns](1), int32(1), int64(1), object(9)\n",
            "memory usage: 699.7+ KB\n"
          ]
        }
      ],
      "source": [
        "df.info()"
      ]
    },
    {
      "cell_type": "code",
      "execution_count": 27,
      "metadata": {
        "colab": {
          "base_uri": "https://localhost:8080/"
        },
        "id": "P5zibG2TiLA4",
        "outputId": "ae5f4731-48ed-41bf-ae84-f584dbf426f9"
      },
      "outputs": [
        {
          "data": {
            "text/plain": [
              "(7787, 12)"
            ]
          },
          "execution_count": 27,
          "metadata": {},
          "output_type": "execute_result"
        }
      ],
      "source": [
        "df.shape"
      ]
    },
    {
      "cell_type": "code",
      "execution_count": 28,
      "metadata": {
        "colab": {
          "base_uri": "https://localhost:8080/",
          "height": 429
        },
        "id": "XVhiMuaAi4k5",
        "outputId": "0c4c1e5c-c9f6-45b5-a01e-b63a7100b8d9"
      },
      "outputs": [
        {
          "data": {
            "text/html": [
              "<div>\n",
              "<style scoped>\n",
              "    .dataframe tbody tr th:only-of-type {\n",
              "        vertical-align: middle;\n",
              "    }\n",
              "\n",
              "    .dataframe tbody tr th {\n",
              "        vertical-align: top;\n",
              "    }\n",
              "\n",
              "    .dataframe thead th {\n",
              "        text-align: right;\n",
              "    }\n",
              "</style>\n",
              "<table border=\"1\" class=\"dataframe\">\n",
              "  <thead>\n",
              "    <tr style=\"text-align: right;\">\n",
              "      <th></th>\n",
              "      <th>show_id</th>\n",
              "      <th>type</th>\n",
              "      <th>title</th>\n",
              "      <th>director</th>\n",
              "      <th>cast</th>\n",
              "      <th>country</th>\n",
              "      <th>date_added</th>\n",
              "      <th>release_year</th>\n",
              "      <th>rating</th>\n",
              "      <th>duration</th>\n",
              "      <th>listed_in</th>\n",
              "      <th>description</th>\n",
              "    </tr>\n",
              "  </thead>\n",
              "  <tbody>\n",
              "    <tr>\n",
              "      <th>count</th>\n",
              "      <td>7787.0</td>\n",
              "      <td>7787</td>\n",
              "      <td>7787</td>\n",
              "      <td>7787</td>\n",
              "      <td>7787</td>\n",
              "      <td>7787</td>\n",
              "      <td>7787</td>\n",
              "      <td>7787.0</td>\n",
              "      <td>7787</td>\n",
              "      <td>7787</td>\n",
              "      <td>7787</td>\n",
              "      <td>7787</td>\n",
              "    </tr>\n",
              "    <tr>\n",
              "      <th>unique</th>\n",
              "      <td>NaN</td>\n",
              "      <td>2</td>\n",
              "      <td>7778</td>\n",
              "      <td>4050</td>\n",
              "      <td>6832</td>\n",
              "      <td>682</td>\n",
              "      <td>NaN</td>\n",
              "      <td>NaN</td>\n",
              "      <td>15</td>\n",
              "      <td>216</td>\n",
              "      <td>492</td>\n",
              "      <td>7769</td>\n",
              "    </tr>\n",
              "    <tr>\n",
              "      <th>top</th>\n",
              "      <td>NaN</td>\n",
              "      <td>Movie</td>\n",
              "      <td></td>\n",
              "      <td>Not available</td>\n",
              "      <td>Not available</td>\n",
              "      <td>United States</td>\n",
              "      <td>NaN</td>\n",
              "      <td>NaN</td>\n",
              "      <td>TV-MA</td>\n",
              "      <td>1 Season</td>\n",
              "      <td>Documentaries</td>\n",
              "      <td>Multiple women report their husbands as missin...</td>\n",
              "    </tr>\n",
              "    <tr>\n",
              "      <th>freq</th>\n",
              "      <td>NaN</td>\n",
              "      <td>5377</td>\n",
              "      <td>5</td>\n",
              "      <td>2389</td>\n",
              "      <td>718</td>\n",
              "      <td>2555</td>\n",
              "      <td>NaN</td>\n",
              "      <td>NaN</td>\n",
              "      <td>2863</td>\n",
              "      <td>1608</td>\n",
              "      <td>334</td>\n",
              "      <td>3</td>\n",
              "    </tr>\n",
              "    <tr>\n",
              "      <th>mean</th>\n",
              "      <td>3894.0</td>\n",
              "      <td>NaN</td>\n",
              "      <td>NaN</td>\n",
              "      <td>NaN</td>\n",
              "      <td>NaN</td>\n",
              "      <td>NaN</td>\n",
              "      <td>2019-01-08 16:42:39.342493952</td>\n",
              "      <td>2014.0</td>\n",
              "      <td>NaN</td>\n",
              "      <td>NaN</td>\n",
              "      <td>NaN</td>\n",
              "      <td>NaN</td>\n",
              "    </tr>\n",
              "    <tr>\n",
              "      <th>min</th>\n",
              "      <td>1.0</td>\n",
              "      <td>NaN</td>\n",
              "      <td>NaN</td>\n",
              "      <td>NaN</td>\n",
              "      <td>NaN</td>\n",
              "      <td>NaN</td>\n",
              "      <td>2008-01-01 00:00:00</td>\n",
              "      <td>1925.0</td>\n",
              "      <td>NaN</td>\n",
              "      <td>NaN</td>\n",
              "      <td>NaN</td>\n",
              "      <td>NaN</td>\n",
              "    </tr>\n",
              "    <tr>\n",
              "      <th>25%</th>\n",
              "      <td>1948.0</td>\n",
              "      <td>NaN</td>\n",
              "      <td>NaN</td>\n",
              "      <td>NaN</td>\n",
              "      <td>NaN</td>\n",
              "      <td>NaN</td>\n",
              "      <td>2018-02-16 00:00:00</td>\n",
              "      <td>2013.0</td>\n",
              "      <td>NaN</td>\n",
              "      <td>NaN</td>\n",
              "      <td>NaN</td>\n",
              "      <td>NaN</td>\n",
              "    </tr>\n",
              "    <tr>\n",
              "      <th>50%</th>\n",
              "      <td>3894.0</td>\n",
              "      <td>NaN</td>\n",
              "      <td>NaN</td>\n",
              "      <td>NaN</td>\n",
              "      <td>NaN</td>\n",
              "      <td>NaN</td>\n",
              "      <td>2019-03-15 00:00:00</td>\n",
              "      <td>2017.0</td>\n",
              "      <td>NaN</td>\n",
              "      <td>NaN</td>\n",
              "      <td>NaN</td>\n",
              "      <td>NaN</td>\n",
              "    </tr>\n",
              "    <tr>\n",
              "      <th>75%</th>\n",
              "      <td>5840.0</td>\n",
              "      <td>NaN</td>\n",
              "      <td>NaN</td>\n",
              "      <td>NaN</td>\n",
              "      <td>NaN</td>\n",
              "      <td>NaN</td>\n",
              "      <td>2020-01-17 12:00:00</td>\n",
              "      <td>2018.0</td>\n",
              "      <td>NaN</td>\n",
              "      <td>NaN</td>\n",
              "      <td>NaN</td>\n",
              "      <td>NaN</td>\n",
              "    </tr>\n",
              "    <tr>\n",
              "      <th>max</th>\n",
              "      <td>7787.0</td>\n",
              "      <td>NaN</td>\n",
              "      <td>NaN</td>\n",
              "      <td>NaN</td>\n",
              "      <td>NaN</td>\n",
              "      <td>NaN</td>\n",
              "      <td>2021-01-16 00:00:00</td>\n",
              "      <td>2021.0</td>\n",
              "      <td>NaN</td>\n",
              "      <td>NaN</td>\n",
              "      <td>NaN</td>\n",
              "      <td>NaN</td>\n",
              "    </tr>\n",
              "    <tr>\n",
              "      <th>std</th>\n",
              "      <td>2248.0</td>\n",
              "      <td>NaN</td>\n",
              "      <td>NaN</td>\n",
              "      <td>NaN</td>\n",
              "      <td>NaN</td>\n",
              "      <td>NaN</td>\n",
              "      <td>NaN</td>\n",
              "      <td>9.0</td>\n",
              "      <td>NaN</td>\n",
              "      <td>NaN</td>\n",
              "      <td>NaN</td>\n",
              "      <td>NaN</td>\n",
              "    </tr>\n",
              "  </tbody>\n",
              "</table>\n",
              "</div>"
            ],
            "text/plain": [
              "        show_id   type title       director           cast        country  \\\n",
              "count    7787.0   7787  7787           7787           7787           7787   \n",
              "unique      NaN      2  7778           4050           6832            682   \n",
              "top         NaN  Movie        Not available  Not available  United States   \n",
              "freq        NaN   5377     5           2389            718           2555   \n",
              "mean     3894.0    NaN   NaN            NaN            NaN            NaN   \n",
              "min         1.0    NaN   NaN            NaN            NaN            NaN   \n",
              "25%      1948.0    NaN   NaN            NaN            NaN            NaN   \n",
              "50%      3894.0    NaN   NaN            NaN            NaN            NaN   \n",
              "75%      5840.0    NaN   NaN            NaN            NaN            NaN   \n",
              "max      7787.0    NaN   NaN            NaN            NaN            NaN   \n",
              "std      2248.0    NaN   NaN            NaN            NaN            NaN   \n",
              "\n",
              "                           date_added  release_year rating  duration  \\\n",
              "count                            7787        7787.0   7787      7787   \n",
              "unique                            NaN           NaN     15       216   \n",
              "top                               NaN           NaN  TV-MA  1 Season   \n",
              "freq                              NaN           NaN   2863      1608   \n",
              "mean    2019-01-08 16:42:39.342493952        2014.0    NaN       NaN   \n",
              "min               2008-01-01 00:00:00        1925.0    NaN       NaN   \n",
              "25%               2018-02-16 00:00:00        2013.0    NaN       NaN   \n",
              "50%               2019-03-15 00:00:00        2017.0    NaN       NaN   \n",
              "75%               2020-01-17 12:00:00        2018.0    NaN       NaN   \n",
              "max               2021-01-16 00:00:00        2021.0    NaN       NaN   \n",
              "std                               NaN           9.0    NaN       NaN   \n",
              "\n",
              "            listed_in                                        description  \n",
              "count            7787                                               7787  \n",
              "unique            492                                               7769  \n",
              "top     Documentaries  Multiple women report their husbands as missin...  \n",
              "freq              334                                                  3  \n",
              "mean              NaN                                                NaN  \n",
              "min               NaN                                                NaN  \n",
              "25%               NaN                                                NaN  \n",
              "50%               NaN                                                NaN  \n",
              "75%               NaN                                                NaN  \n",
              "max               NaN                                                NaN  \n",
              "std               NaN                                                NaN  "
            ]
          },
          "execution_count": 28,
          "metadata": {},
          "output_type": "execute_result"
        }
      ],
      "source": [
        "round(df.describe(include='all'))"
      ]
    },
    {
      "cell_type": "markdown",
      "metadata": {
        "id": "-9jL0d4klaUp"
      },
      "source": [
        "#### **Outlier checks**"
      ]
    },
    {
      "cell_type": "code",
      "execution_count": 29,
      "metadata": {
        "colab": {
          "base_uri": "https://localhost:8080/",
          "height": 1000
        },
        "id": "JxZtLmajohvi",
        "outputId": "c7579da6-ed7c-4a53-f575-d0dc960d3c4e"
      },
      "outputs": [
        {
          "data": {
            "image/png": "[encoded data removed]",
            "text/plain": [
              "<Figure size 800x600 with 1 Axes>"
            ]
          },
          "metadata": {},
          "output_type": "display_data"
        },
        {
          "data": {
            "image/png": "[encoded data removed]",
            "text/plain": [
              "<Figure size 800x600 with 1 Axes>"
            ]
          },
          "metadata": {},
          "output_type": "display_data"
        }
      ],
      "source": [
        "# Select numerical columns\n",
        "numerical_cols = ['show_id', 'release_year']\n",
        "\n",
        "# Create box plots for numerical columns\n",
        "for col in numerical_cols:\n",
        "    plt.figure(figsize=(8, 6))  # Adjust figure size if needed\n",
        "    sns.boxplot(x=df[col])\n",
        "    plt.title(f'Box Plot for {col}')\n",
        "    plt.show()"
      ]
    },
    {
      "cell_type": "markdown",
      "metadata": {
        "id": "W2G-1NGJNWDD"
      },
      "source": [
        "#### Visualization"
      ]
    },
    {
      "cell_type": "code",
      "execution_count": 30,
      "metadata": {
        "colab": {
          "base_uri": "https://localhost:8080/",
          "height": 573
        },
        "id": "_T2JvX3bpAeF",
        "outputId": "f421f62a-9140-46e7-aafe-4ca700ba9de6"
      },
      "outputs": [
        {
          "data": {
            "image/png": "[encoded data removed]",
            "text/plain": [
              "<Figure size 1000x600 with 1 Axes>"
            ]
          },
          "metadata": {},
          "output_type": "display_data"
        }
      ],
      "source": [
        "# Visualize distribution of 'date_added'\n",
        "plt.figure(figsize=(10, 6))\n",
        "sns.histplot(df['date_added'], kde=True)\n",
        "plt.title('Distribution of date_added')\n",
        "plt.show()"
      ]
    },
    {
      "cell_type": "code",
      "execution_count": 31,
      "metadata": {
        "colab": {
          "base_uri": "https://localhost:8080/",
          "height": 1000
        },
        "id": "oOTR4dMlppUP",
        "outputId": "9965b62c-ef48-4b41-9f52-a07969370321"
      },
      "outputs": [
        {
          "data": {
            "application/vnd.plotly.v1+json": {
              "config": {
                "plotlyServerURL": "https://plot.ly"
              },
              "data": [
                {
                  "hovertemplate": "color=Movie<br>type=%{x}<br>Frequency=%{y}<br>text=%{text}<extra></extra>",
                  "legendgroup": "Movie",
                  "marker": {
                    "color": "#F8EC46",
                    "pattern": {
                      "shape": ""
                    }
                  },
                  "name": "Movie",
                  "orientation": "v",
                  "showlegend": true,
                  "text": {
                    "bdata": "AAAAAAABtUA=",
                    "dtype": "f8"
                  },
                  "textposition": "outside",
                  "type": "bar",
                  "x": [
                    "Movie"
                  ],
                  "xaxis": "x",
                  "y": {
                    "bdata": "ARU=",
                    "dtype": "i2"
                  },
                  "yaxis": "y"
                },
                {
                  "hovertemplate": "color=TV Show<br>type=%{x}<br>Frequency=%{y}<br>text=%{text}<extra></extra>",
                  "legendgroup": "TV Show",
                  "marker": {
                    "color": "#DF06BD",
                    "pattern": {
                      "shape": ""
                    }
                  },
                  "name": "TV Show",
                  "orientation": "v",
                  "showlegend": true,
                  "text": {
                    "bdata": "AAAAAADUokA=",
                    "dtype": "f8"
                  },
                  "textposition": "outside",
                  "type": "bar",
                  "x": [
                    "TV Show"
                  ],
                  "xaxis": "x",
                  "y": {
                    "bdata": "agk=",
                    "dtype": "i2"
                  },
                  "yaxis": "y"
                }
              ],
              "layout": {
                "barmode": "relative",
                "legend": {
                  "title": {
                    "text": "color"
                  },
                  "tracegroupgap": 0
                },
                "template": {
                  "data": {
                    "bar": [
                      {
                        "error_x": {
                          "color": "#2a3f5f"
                        },
                        "error_y": {
                          "color": "#2a3f5f"
                        },
                        "marker": {
                          "line": {
                            "color": "#E5ECF6",
                            "width": 0.5
                          },
                          "pattern": {
                            "fillmode": "overlay",
                            "size": 10,
                            "solidity": 0.2
                          }
                        },
                        "type": "bar"
                      }
                    ],
                    "barpolar": [
                      {
                        "marker": {
                          "line": {
                            "color": "#E5ECF6",
                            "width": 0.5
                          },
                          "pattern": {
                            "fillmode": "overlay",
                            "size": 10,
                            "solidity": 0.2
                          }
                        },
                        "type": "barpolar"
                      }
                    ],
                    "carpet": [
                      {
                        "aaxis": {
                          "endlinecolor": "#2a3f5f",
                          "gridcolor": "white",
                          "linecolor": "white",
                          "minorgridcolor": "white",
                          "startlinecolor": "#2a3f5f"
                        },
                        "baxis": {
                          "endlinecolor": "#2a3f5f",
                          "gridcolor": "white",
                          "linecolor": "white",
                          "minorgridcolor": "white",
                          "startlinecolor": "#2a3f5f"
                        },
                        "type": "carpet"
                      }
                    ],
                    "choropleth": [
                      {
                        "colorbar": {
                          "outlinewidth": 0,
                          "ticks": ""
                        },
                        "type": "choropleth"
                      }
                    ],
                    "contour": [
                      {
                        "colorbar": {
                          "outlinewidth": 0,
                          "ticks": ""
                        },
                        "colorscale": [
                          [
                            0,
                            "#0d0887"
                          ],
                          [
                            0.1111111111111111,
                            "#46039f"
                          ],
                          [
                            0.2222222222222222,
                            "#7201a8"
                          ],
                          [
                            0.3333333333333333,
                            "#9c179e"
                          ],
                          [
                            0.4444444444444444,
                            "#bd3786"
                          ],
                          [
                            0.5555555555555556,
                            "#d8576b"
                          ],
                          [
                            0.6666666666666666,
                            "#ed7953"
                          ],
                          [
                            0.7777777777777778,
                            "#fb9f3a"
                          ],
                          [
                            0.8888888888888888,
                            "#fdca26"
                          ],
                          [
                            1,
                            "#f0f921"
                          ]
                        ],
                        "type": "contour"
                      }
                    ],
                    "contourcarpet": [
                      {
                        "colorbar": {
                          "outlinewidth": 0,
                          "ticks": ""
                        },
                        "type": "contourcarpet"
                      }
                    ],
                    "heatmap": [
                      {
                        "colorbar": {
                          "outlinewidth": 0,
                          "ticks": ""
                        },
                        "colorscale": [
                          [
                            0,
                            "#0d0887"
                          ],
                          [
                            0.1111111111111111,
                            "#46039f"
                          ],
                          [
                            0.2222222222222222,
                            "#7201a8"
                          ],
                          [
                            0.3333333333333333,
                            "#9c179e"
                          ],
                          [
                            0.4444444444444444,
                            "#bd3786"
                          ],
                          [
                            0.5555555555555556,
                            "#d8576b"
                          ],
                          [
                            0.6666666666666666,
                            "#ed7953"
                          ],
                          [
                            0.7777777777777778,
                            "#fb9f3a"
                          ],
                          [
                            0.8888888888888888,
                            "#fdca26"
                          ],
                          [
                            1,
                            "#f0f921"
                          ]
                        ],
                        "type": "heatmap"
                      }
                    ],
                    "histogram": [
                      {
                        "marker": {
                          "pattern": {
                            "fillmode": "overlay",
                            "size": 10,
                            "solidity": 0.2
                          }
                        },
                        "type": "histogram"
                      }
                    ],
                    "histogram2d": [
                      {
                        "colorbar": {
                          "outlinewidth": 0,
                          "ticks": ""
                        },
                        "colorscale": [
                          [
                            0,
                            "#0d0887"
                          ],
                          [
                            0.1111111111111111,
                            "#46039f"
                          ],
                          [
                            0.2222222222222222,
                            "#7201a8"
                          ],
                          [
                            0.3333333333333333,
                            "#9c179e"
                          ],
                          [
                            0.4444444444444444,
                            "#bd3786"
                          ],
                          [
                            0.5555555555555556,
                            "#d8576b"
                          ],
                          [
                            0.6666666666666666,
                            "#ed7953"
                          ],
                          [
                            0.7777777777777778,
                            "#fb9f3a"
                          ],
                          [
                            0.8888888888888888,
                            "#fdca26"
                          ],
                          [
                            1,
                            "#f0f921"
                          ]
                        ],
                        "type": "histogram2d"
                      }
                    ],
                    "histogram2dcontour": [
                      {
                        "colorbar": {
                          "outlinewidth": 0,
                          "ticks": ""
                        },
                        "colorscale": [
                          [
                            0,
                            "#0d0887"
                          ],
                          [
                            0.1111111111111111,
                            "#46039f"
                          ],
                          [
                            0.2222222222222222,
                            "#7201a8"
                          ],
                          [
                            0.3333333333333333,
                            "#9c179e"
                          ],
                          [
                            0.4444444444444444,
                            "#bd3786"
                          ],
                          [
                            0.5555555555555556,
                            "#d8576b"
                          ],
                          [
                            0.6666666666666666,
                            "#ed7953"
                          ],
                          [
                            0.7777777777777778,
                            "#fb9f3a"
                          ],
                          [
                            0.8888888888888888,
                            "#fdca26"
                          ],
                          [
                            1,
                            "#f0f921"
                          ]
                        ],
                        "type": "histogram2dcontour"
                      }
                    ],
                    "mesh3d": [
                      {
                        "colorbar": {
                          "outlinewidth": 0,
                          "ticks": ""
                        },
                        "type": "mesh3d"
                      }
                    ],
                    "parcoords": [
                      {
                        "line": {
                          "colorbar": {
                            "outlinewidth": 0,
                            "ticks": ""
                          }
                        },
                        "type": "parcoords"
                      }
                    ],
                    "pie": [
                      {
                        "automargin": true,
                        "type": "pie"
                      }
                    ],
                    "scatter": [
                      {
                        "fillpattern": {
                          "fillmode": "overlay",
                          "size": 10,
                          "solidity": 0.2
                        },
                        "type": "scatter"
                      }
                    ],
                    "scatter3d": [
                      {
                        "line": {
                          "colorbar": {
                            "outlinewidth": 0,
                            "ticks": ""
                          }
                        },
                        "marker": {
                          "colorbar": {
                            "outlinewidth": 0,
                            "ticks": ""
                          }
                        },
                        "type": "scatter3d"
                      }
                    ],
                    "scattercarpet": [
                      {
                        "marker": {
                          "colorbar": {
                            "outlinewidth": 0,
                            "ticks": ""
                          }
                        },
                        "type": "scattercarpet"
                      }
                    ],
                    "scattergeo": [
                      {
                        "marker": {
                          "colorbar": {
                            "outlinewidth": 0,
                            "ticks": ""
                          }
                        },
                        "type": "scattergeo"
                      }
                    ],
                    "scattergl": [
                      {
                        "marker": {
                          "colorbar": {
                            "outlinewidth": 0,
                            "ticks": ""
                          }
                        },
                        "type": "scattergl"
                      }
                    ],
                    "scattermap": [
                      {
                        "marker": {
                          "colorbar": {
                            "outlinewidth": 0,
                            "ticks": ""
                          }
                        },
                        "type": "scattermap"
                      }
                    ],
                    "scattermapbox": [
                      {
                        "marker": {
                          "colorbar": {
                            "outlinewidth": 0,
                            "ticks": ""
                          }
                        },
                        "type": "scattermapbox"
                      }
                    ],
                    "scatterpolar": [
                      {
                        "marker": {
                          "colorbar": {
                            "outlinewidth": 0,
                            "ticks": ""
                          }
                        },
                        "type": "scatterpolar"
                      }
                    ],
                    "scatterpolargl": [
                      {
                        "marker": {
                          "colorbar": {
                            "outlinewidth": 0,
                            "ticks": ""
                          }
                        },
                        "type": "scatterpolargl"
                      }
                    ],
                    "scatterternary": [
                      {
                        "marker": {
                          "colorbar": {
                            "outlinewidth": 0,
                            "ticks": ""
                          }
                        },
                        "type": "scatterternary"
                      }
                    ],
                    "surface": [
                      {
                        "colorbar": {
                          "outlinewidth": 0,
                          "ticks": ""
                        },
                        "colorscale": [
                          [
                            0,
                            "#0d0887"
                          ],
                          [
                            0.1111111111111111,
                            "#46039f"
                          ],
                          [
                            0.2222222222222222,
                            "#7201a8"
                          ],
                          [
                            0.3333333333333333,
                            "#9c179e"
                          ],
                          [
                            0.4444444444444444,
                            "#bd3786"
                          ],
                          [
                            0.5555555555555556,
                            "#d8576b"
                          ],
                          [
                            0.6666666666666666,
                            "#ed7953"
                          ],
                          [
                            0.7777777777777778,
                            "#fb9f3a"
                          ],
                          [
                            0.8888888888888888,
                            "#fdca26"
                          ],
                          [
                            1,
                            "#f0f921"
                          ]
                        ],
                        "type": "surface"
                      }
                    ],
                    "table": [
                      {
                        "cells": {
                          "fill": {
                            "color": "#EBF0F8"
                          },
                          "line": {
                            "color": "white"
                          }
                        },
                        "header": {
                          "fill": {
                            "color": "#C8D4E3"
                          },
                          "line": {
                            "color": "white"
                          }
                        },
                        "type": "table"
                      }
                    ]
                  },
                  "layout": {
                    "annotationdefaults": {
                      "arrowcolor": "#2a3f5f",
                      "arrowhead": 0,
                      "arrowwidth": 1
                    },
                    "autotypenumbers": "strict",
                    "coloraxis": {
                      "colorbar": {
                        "outlinewidth": 0,
                        "ticks": ""
                      }
                    },
                    "colorscale": {
                      "diverging": [
                        [
                          0,
                          "#8e0152"
                        ],
                        [
                          0.1,
                          "#c51b7d"
                        ],
                        [
                          0.2,
                          "#de77ae"
                        ],
                        [
                          0.3,
                          "#f1b6da"
                        ],
                        [
                          0.4,
                          "#fde0ef"
                        ],
                        [
                          0.5,
                          "#f7f7f7"
                        ],
                        [
                          0.6,
                          "#e6f5d0"
                        ],
                        [
                          0.7,
                          "#b8e186"
                        ],
                        [
                          0.8,
                          "#7fbc41"
                        ],
                        [
                          0.9,
                          "#4d9221"
                        ],
                        [
                          1,
                          "#276419"
                        ]
                      ],
                      "sequential": [
                        [
                          0,
                          "#0d0887"
                        ],
                        [
                          0.1111111111111111,
                          "#46039f"
                        ],
                        [
                          0.2222222222222222,
                          "#7201a8"
                        ],
                        [
                          0.3333333333333333,
                          "#9c179e"
                        ],
                        [
                          0.4444444444444444,
                          "#bd3786"
                        ],
                        [
                          0.5555555555555556,
                          "#d8576b"
                        ],
                        [
                          0.6666666666666666,
                          "#ed7953"
                        ],
                        [
                          0.7777777777777778,
                          "#fb9f3a"
                        ],
                        [
                          0.8888888888888888,
                          "#fdca26"
                        ],
                        [
                          1,
                          "#f0f921"
                        ]
                      ],
                      "sequentialminus": [
                        [
                          0,
                          "#0d0887"
                        ],
                        [
                          0.1111111111111111,
                          "#46039f"
                        ],
                        [
                          0.2222222222222222,
                          "#7201a8"
                        ],
                        [
                          0.3333333333333333,
                          "#9c179e"
                        ],
                        [
                          0.4444444444444444,
                          "#bd3786"
                        ],
                        [
                          0.5555555555555556,
                          "#d8576b"
                        ],
                        [
                          0.6666666666666666,
                          "#ed7953"
                        ],
                        [
                          0.7777777777777778,
                          "#fb9f3a"
                        ],
                        [
                          0.8888888888888888,
                          "#fdca26"
                        ],
                        [
                          1,
                          "#f0f921"
                        ]
                      ]
                    },
                    "colorway": [
                      "#636efa",
                      "#EF553B",
                      "#00cc96",
                      "#ab63fa",
                      "#FFA15A",
                      "#19d3f3",
                      "#FF6692",
                      "#B6E880",
                      "#FF97FF",
                      "#FECB52"
                    ],
                    "font": {
                      "color": "#2a3f5f"
                    },
                    "geo": {
                      "bgcolor": "white",
                      "lakecolor": "white",
                      "landcolor": "#E5ECF6",
                      "showlakes": true,
                      "showland": true,
                      "subunitcolor": "white"
                    },
                    "hoverlabel": {
                      "align": "left"
                    },
                    "hovermode": "closest",
                    "mapbox": {
                      "style": "light"
                    },
                    "paper_bgcolor": "white",
                    "plot_bgcolor": "#E5ECF6",
                    "polar": {
                      "angularaxis": {
                        "gridcolor": "white",
                        "linecolor": "white",
                        "ticks": ""
                      },
                      "bgcolor": "#E5ECF6",
                      "radialaxis": {
                        "gridcolor": "white",
                        "linecolor": "white",
                        "ticks": ""
                      }
                    },
                    "scene": {
                      "xaxis": {
                        "backgroundcolor": "#E5ECF6",
                        "gridcolor": "white",
                        "gridwidth": 2,
                        "linecolor": "white",
                        "showbackground": true,
                        "ticks": "",
                        "zerolinecolor": "white"
                      },
                      "yaxis": {
                        "backgroundcolor": "#E5ECF6",
                        "gridcolor": "white",
                        "gridwidth": 2,
                        "linecolor": "white",
                        "showbackground": true,
                        "ticks": "",
                        "zerolinecolor": "white"
                      },
                      "zaxis": {
                        "backgroundcolor": "#E5ECF6",
                        "gridcolor": "white",
                        "gridwidth": 2,
                        "linecolor": "white",
                        "showbackground": true,
                        "ticks": "",
                        "zerolinecolor": "white"
                      }
                    },
                    "shapedefaults": {
                      "line": {
                        "color": "#2a3f5f"
                      }
                    },
                    "ternary": {
                      "aaxis": {
                        "gridcolor": "white",
                        "linecolor": "white",
                        "ticks": ""
                      },
                      "baxis": {
                        "gridcolor": "white",
                        "linecolor": "white",
                        "ticks": ""
                      },
                      "bgcolor": "#E5ECF6",
                      "caxis": {
                        "gridcolor": "white",
                        "linecolor": "white",
                        "ticks": ""
                      }
                    },
                    "title": {
                      "x": 0.05
                    },
                    "xaxis": {
                      "automargin": true,
                      "gridcolor": "white",
                      "linecolor": "white",
                      "ticks": "",
                      "title": {
                        "standoff": 15
                      },
                      "zerolinecolor": "white",
                      "zerolinewidth": 2
                    },
                    "yaxis": {
                      "automargin": true,
                      "gridcolor": "white",
                      "linecolor": "white",
                      "ticks": "",
                      "title": {
                        "standoff": 15
                      },
                      "zerolinecolor": "white",
                      "zerolinewidth": 2
                    }
                  }
                },
                "title": {
                  "text": "Value Counts for type"
                },
                "xaxis": {
                  "anchor": "y",
                  "domain": [
                    0,
                    1
                  ],
                  "tickangle": -45,
                  "title": {
                    "text": "Dataset Variables"
                  }
                },
                "yaxis": {
                  "anchor": "x",
                  "domain": [
                    0,
                    1
                  ],
                  "title": {
                    "text": "Count Distribution"
                  }
                }
              }
            }
          },
          "metadata": {},
          "output_type": "display_data"
        },
        {
          "data": {
            "application/vnd.plotly.v1+json": {
              "config": {
                "plotlyServerURL": "https://plot.ly"
              },
              "data": [
                {
                  "hovertemplate": "color=TV-MA<br>rating=%{x}<br>Frequency=%{y}<br>text=%{text}<extra></extra>",
                  "legendgroup": "TV-MA",
                  "marker": {
                    "color": "#1411CC",
                    "pattern": {
                      "shape": ""
                    }
                  },
                  "name": "TV-MA",
                  "orientation": "v",
                  "showlegend": true,
                  "text": {
                    "bdata": "AAAAAABepkA=",
                    "dtype": "f8"
                  },
                  "textposition": "outside",
                  "type": "bar",
                  "x": [
                    "TV-MA"
                  ],
                  "xaxis": "x",
                  "y": {
                    "bdata": "Lws=",
                    "dtype": "i2"
                  },
                  "yaxis": "y"
                },
                {
                  "hovertemplate": "color=TV-14<br>rating=%{x}<br>Frequency=%{y}<br>text=%{text}<extra></extra>",
                  "legendgroup": "TV-14",
                  "marker": {
                    "color": "#880428",
                    "pattern": {
                      "shape": ""
                    }
                  },
                  "name": "TV-14",
                  "orientation": "v",
                  "showlegend": true,
                  "text": {
                    "bdata": "AAAAAAAsnkA=",
                    "dtype": "f8"
                  },
                  "textposition": "outside",
                  "type": "bar",
                  "x": [
                    "TV-14"
                  ],
                  "xaxis": "x",
                  "y": {
                    "bdata": "iwc=",
                    "dtype": "i2"
                  },
                  "yaxis": "y"
                },
                {
                  "hovertemplate": "color=TV-PG<br>rating=%{x}<br>Frequency=%{y}<br>text=%{text}<extra></extra>",
                  "legendgroup": "TV-PG",
                  "marker": {
                    "color": "#463427",
                    "pattern": {
                      "shape": ""
                    }
                  },
                  "name": "TV-PG",
                  "orientation": "v",
                  "showlegend": true,
                  "text": {
                    "bdata": "AAAAAAAwiUA=",
                    "dtype": "f8"
                  },
                  "textposition": "outside",
                  "type": "bar",
                  "x": [
                    "TV-PG"
                  ],
                  "xaxis": "x",
                  "y": {
                    "bdata": "JgM=",
                    "dtype": "i2"
                  },
                  "yaxis": "y"
                },
                {
                  "hovertemplate": "color=R<br>rating=%{x}<br>Frequency=%{y}<br>text=%{text}<extra></extra>",
                  "legendgroup": "R",
                  "marker": {
                    "color": "#B6692D",
                    "pattern": {
                      "shape": ""
                    }
                  },
                  "name": "R",
                  "orientation": "v",
                  "showlegend": true,
                  "text": {
                    "bdata": "AAAAAADIhEA=",
                    "dtype": "f8"
                  },
                  "textposition": "outside",
                  "type": "bar",
                  "x": [
                    "R"
                  ],
                  "xaxis": "x",
                  "y": {
                    "bdata": "mQI=",
                    "dtype": "i2"
                  },
                  "yaxis": "y"
                },
                {
                  "hovertemplate": "color=PG-13<br>rating=%{x}<br>Frequency=%{y}<br>text=%{text}<extra></extra>",
                  "legendgroup": "PG-13",
                  "marker": {
                    "color": "#E74C44",
                    "pattern": {
                      "shape": ""
                    }
                  },
                  "name": "PG-13",
                  "orientation": "v",
                  "showlegend": true,
                  "text": {
                    "bdata": "AAAAAAAgeEA=",
                    "dtype": "f8"
                  },
                  "textposition": "outside",
                  "type": "bar",
                  "x": [
                    "PG-13"
                  ],
                  "xaxis": "x",
                  "y": {
                    "bdata": "ggE=",
                    "dtype": "i2"
                  },
                  "yaxis": "y"
                },
                {
                  "hovertemplate": "color=TV-Y<br>rating=%{x}<br>Frequency=%{y}<br>text=%{text}<extra></extra>",
                  "legendgroup": "TV-Y",
                  "marker": {
                    "color": "#84AC8F",
                    "pattern": {
                      "shape": ""
                    }
                  },
                  "name": "TV-Y",
                  "orientation": "v",
                  "showlegend": true,
                  "text": {
                    "bdata": "AAAAAACAcUA=",
                    "dtype": "f8"
                  },
                  "textposition": "outside",
                  "type": "bar",
                  "x": [
                    "TV-Y"
                  ],
                  "xaxis": "x",
                  "y": {
                    "bdata": "GAE=",
                    "dtype": "i2"
                  },
                  "yaxis": "y"
                },
                {
                  "hovertemplate": "color=TV-Y7<br>rating=%{x}<br>Frequency=%{y}<br>text=%{text}<extra></extra>",
                  "legendgroup": "TV-Y7",
                  "marker": {
                    "color": "#CF0450",
                    "pattern": {
                      "shape": ""
                    }
                  },
                  "name": "TV-Y7",
                  "orientation": "v",
                  "showlegend": true,
                  "text": {
                    "bdata": "AAAAAADwcEA=",
                    "dtype": "f8"
                  },
                  "textposition": "outside",
                  "type": "bar",
                  "x": [
                    "TV-Y7"
                  ],
                  "xaxis": "x",
                  "y": {
                    "bdata": "DwE=",
                    "dtype": "i2"
                  },
                  "yaxis": "y"
                },
                {
                  "hovertemplate": "color=PG<br>rating=%{x}<br>Frequency=%{y}<br>text=%{text}<extra></extra>",
                  "legendgroup": "PG",
                  "marker": {
                    "color": "#86BC6A",
                    "pattern": {
                      "shape": ""
                    }
                  },
                  "name": "PG",
                  "orientation": "v",
                  "showlegend": true,
                  "text": {
                    "bdata": "AAAAAADgbkA=",
                    "dtype": "f8"
                  },
                  "textposition": "outside",
                  "type": "bar",
                  "x": [
                    "PG"
                  ],
                  "xaxis": "x",
                  "y": {
                    "bdata": "9wA=",
                    "dtype": "i2"
                  },
                  "yaxis": "y"
                },
                {
                  "hovertemplate": "color=TV-G<br>rating=%{x}<br>Frequency=%{y}<br>text=%{text}<extra></extra>",
                  "legendgroup": "TV-G",
                  "marker": {
                    "color": "#8FE143",
                    "pattern": {
                      "shape": ""
                    }
                  },
                  "name": "TV-G",
                  "orientation": "v",
                  "showlegend": true,
                  "text": {
                    "bdata": "AAAAAABAaEA=",
                    "dtype": "f8"
                  },
                  "textposition": "outside",
                  "type": "bar",
                  "x": [
                    "TV-G"
                  ],
                  "xaxis": "x",
                  "y": {
                    "bdata": "wgA=",
                    "dtype": "i2"
                  },
                  "yaxis": "y"
                },
                {
                  "hovertemplate": "color=NR<br>rating=%{x}<br>Frequency=%{y}<br>text=%{text}<extra></extra>",
                  "legendgroup": "NR",
                  "marker": {
                    "color": "#AE292F",
                    "pattern": {
                      "shape": ""
                    }
                  },
                  "name": "NR",
                  "orientation": "v",
                  "showlegend": true,
                  "text": {
                    "bdata": "AAAAAAAAVUA=",
                    "dtype": "f8"
                  },
                  "textposition": "outside",
                  "type": "bar",
                  "x": [
                    "NR"
                  ],
                  "xaxis": "x",
                  "y": {
                    "bdata": "VA==",
                    "dtype": "i1"
                  },
                  "yaxis": "y"
                },
                {
                  "hovertemplate": "color=G<br>rating=%{x}<br>Frequency=%{y}<br>text=%{text}<extra></extra>",
                  "legendgroup": "G",
                  "marker": {
                    "color": "#F89267",
                    "pattern": {
                      "shape": ""
                    }
                  },
                  "name": "G",
                  "orientation": "v",
                  "showlegend": true,
                  "text": {
                    "bdata": "AAAAAACAQ0A=",
                    "dtype": "f8"
                  },
                  "textposition": "outside",
                  "type": "bar",
                  "x": [
                    "G"
                  ],
                  "xaxis": "x",
                  "y": {
                    "bdata": "Jw==",
                    "dtype": "i1"
                  },
                  "yaxis": "y"
                },
                {
                  "hovertemplate": "color=Not available<br>rating=%{x}<br>Frequency=%{y}<br>text=%{text}<extra></extra>",
                  "legendgroup": "Not available",
                  "marker": {
                    "color": "#65C228",
                    "pattern": {
                      "shape": ""
                    }
                  },
                  "name": "Not available",
                  "orientation": "v",
                  "showlegend": true,
                  "text": {
                    "bdata": "AAAAAAAAHEA=",
                    "dtype": "f8"
                  },
                  "textposition": "outside",
                  "type": "bar",
                  "x": [
                    "Not available"
                  ],
                  "xaxis": "x",
                  "y": {
                    "bdata": "Bw==",
                    "dtype": "i1"
                  },
                  "yaxis": "y"
                },
                {
                  "hovertemplate": "color=TV-Y7-FV<br>rating=%{x}<br>Frequency=%{y}<br>text=%{text}<extra></extra>",
                  "legendgroup": "TV-Y7-FV",
                  "marker": {
                    "color": "#13F6C4",
                    "pattern": {
                      "shape": ""
                    }
                  },
                  "name": "TV-Y7-FV",
                  "orientation": "v",
                  "showlegend": true,
                  "text": {
                    "bdata": "AAAAAAAAGEA=",
                    "dtype": "f8"
                  },
                  "textposition": "outside",
                  "type": "bar",
                  "x": [
                    "TV-Y7-FV"
                  ],
                  "xaxis": "x",
                  "y": {
                    "bdata": "Bg==",
                    "dtype": "i1"
                  },
                  "yaxis": "y"
                },
                {
                  "hovertemplate": "color=UR<br>rating=%{x}<br>Frequency=%{y}<br>text=%{text}<extra></extra>",
                  "legendgroup": "UR",
                  "marker": {
                    "color": "#843AAF",
                    "pattern": {
                      "shape": ""
                    }
                  },
                  "name": "UR",
                  "orientation": "v",
                  "showlegend": true,
                  "text": {
                    "bdata": "AAAAAAAAFEA=",
                    "dtype": "f8"
                  },
                  "textposition": "outside",
                  "type": "bar",
                  "x": [
                    "UR"
                  ],
                  "xaxis": "x",
                  "y": {
                    "bdata": "BQ==",
                    "dtype": "i1"
                  },
                  "yaxis": "y"
                },
                {
                  "hovertemplate": "color=NC-17<br>rating=%{x}<br>Frequency=%{y}<br>text=%{text}<extra></extra>",
                  "legendgroup": "NC-17",
                  "marker": {
                    "color": "#106E5C",
                    "pattern": {
                      "shape": ""
                    }
                  },
                  "name": "NC-17",
                  "orientation": "v",
                  "showlegend": true,
                  "text": {
                    "bdata": "AAAAAAAACEA=",
                    "dtype": "f8"
                  },
                  "textposition": "outside",
                  "type": "bar",
                  "x": [
                    "NC-17"
                  ],
                  "xaxis": "x",
                  "y": {
                    "bdata": "Aw==",
                    "dtype": "i1"
                  },
                  "yaxis": "y"
                }
              ],
              "layout": {
                "barmode": "relative",
                "legend": {
                  "title": {
                    "text": "color"
                  },
                  "tracegroupgap": 0
                },
                "template": {
                  "data": {
                    "bar": [
                      {
                        "error_x": {
                          "color": "#2a3f5f"
                        },
                        "error_y": {
                          "color": "#2a3f5f"
                        },
                        "marker": {
                          "line": {
                            "color": "#E5ECF6",
                            "width": 0.5
                          },
                          "pattern": {
                            "fillmode": "overlay",
                            "size": 10,
                            "solidity": 0.2
                          }
                        },
                        "type": "bar"
                      }
                    ],
                    "barpolar": [
                      {
                        "marker": {
                          "line": {
                            "color": "#E5ECF6",
                            "width": 0.5
                          },
                          "pattern": {
                            "fillmode": "overlay",
                            "size": 10,
                            "solidity": 0.2
                          }
                        },
                        "type": "barpolar"
                      }
                    ],
                    "carpet": [
                      {
                        "aaxis": {
                          "endlinecolor": "#2a3f5f",
                          "gridcolor": "white",
                          "linecolor": "white",
                          "minorgridcolor": "white",
                          "startlinecolor": "#2a3f5f"
                        },
                        "baxis": {
                          "endlinecolor": "#2a3f5f",
                          "gridcolor": "white",
                          "linecolor": "white",
                          "minorgridcolor": "white",
                          "startlinecolor": "#2a3f5f"
                        },
                        "type": "carpet"
                      }
                    ],
                    "choropleth": [
                      {
                        "colorbar": {
                          "outlinewidth": 0,
                          "ticks": ""
                        },
                        "type": "choropleth"
                      }
                    ],
                    "contour": [
                      {
                        "colorbar": {
                          "outlinewidth": 0,
                          "ticks": ""
                        },
                        "colorscale": [
                          [
                            0,
                            "#0d0887"
                          ],
                          [
                            0.1111111111111111,
                            "#46039f"
                          ],
                          [
                            0.2222222222222222,
                            "#7201a8"
                          ],
                          [
                            0.3333333333333333,
                            "#9c179e"
                          ],
                          [
                            0.4444444444444444,
                            "#bd3786"
                          ],
                          [
                            0.5555555555555556,
                            "#d8576b"
                          ],
                          [
                            0.6666666666666666,
                            "#ed7953"
                          ],
                          [
                            0.7777777777777778,
                            "#fb9f3a"
                          ],
                          [
                            0.8888888888888888,
                            "#fdca26"
                          ],
                          [
                            1,
                            "#f0f921"
                          ]
                        ],
                        "type": "contour"
                      }
                    ],
                    "contourcarpet": [
                      {
                        "colorbar": {
                          "outlinewidth": 0,
                          "ticks": ""
                        },
                        "type": "contourcarpet"
                      }
                    ],
                    "heatmap": [
                      {
                        "colorbar": {
                          "outlinewidth": 0,
                          "ticks": ""
                        },
                        "colorscale": [
                          [
                            0,
                            "#0d0887"
                          ],
                          [
                            0.1111111111111111,
                            "#46039f"
                          ],
                          [
                            0.2222222222222222,
                            "#7201a8"
                          ],
                          [
                            0.3333333333333333,
                            "#9c179e"
                          ],
                          [
                            0.4444444444444444,
                            "#bd3786"
                          ],
                          [
                            0.5555555555555556,
                            "#d8576b"
                          ],
                          [
                            0.6666666666666666,
                            "#ed7953"
                          ],
                          [
                            0.7777777777777778,
                            "#fb9f3a"
                          ],
                          [
                            0.8888888888888888,
                            "#fdca26"
                          ],
                          [
                            1,
                            "#f0f921"
                          ]
                        ],
                        "type": "heatmap"
                      }
                    ],
                    "histogram": [
                      {
                        "marker": {
                          "pattern": {
                            "fillmode": "overlay",
                            "size": 10,
                            "solidity": 0.2
                          }
                        },
                        "type": "histogram"
                      }
                    ],
                    "histogram2d": [
                      {
                        "colorbar": {
                          "outlinewidth": 0,
                          "ticks": ""
                        },
                        "colorscale": [
                          [
                            0,
                            "#0d0887"
                          ],
                          [
                            0.1111111111111111,
                            "#46039f"
                          ],
                          [
                            0.2222222222222222,
                            "#7201a8"
                          ],
                          [
                            0.3333333333333333,
                            "#9c179e"
                          ],
                          [
                            0.4444444444444444,
                            "#bd3786"
                          ],
                          [
                            0.5555555555555556,
                            "#d8576b"
                          ],
                          [
                            0.6666666666666666,
                            "#ed7953"
                          ],
                          [
                            0.7777777777777778,
                            "#fb9f3a"
                          ],
                          [
                            0.8888888888888888,
                            "#fdca26"
                          ],
                          [
                            1,
                            "#f0f921"
                          ]
                        ],
                        "type": "histogram2d"
                      }
                    ],
                    "histogram2dcontour": [
                      {
                        "colorbar": {
                          "outlinewidth": 0,
                          "ticks": ""
                        },
                        "colorscale": [
                          [
                            0,
                            "#0d0887"
                          ],
                          [
                            0.1111111111111111,
                            "#46039f"
                          ],
                          [
                            0.2222222222222222,
                            "#7201a8"
                          ],
                          [
                            0.3333333333333333,
                            "#9c179e"
                          ],
                          [
                            0.4444444444444444,
                            "#bd3786"
                          ],
                          [
                            0.5555555555555556,
                            "#d8576b"
                          ],
                          [
                            0.6666666666666666,
                            "#ed7953"
                          ],
                          [
                            0.7777777777777778,
                            "#fb9f3a"
                          ],
                          [
                            0.8888888888888888,
                            "#fdca26"
                          ],
                          [
                            1,
                            "#f0f921"
                          ]
                        ],
                        "type": "histogram2dcontour"
                      }
                    ],
                    "mesh3d": [
                      {
                        "colorbar": {
                          "outlinewidth": 0,
                          "ticks": ""
                        },
                        "type": "mesh3d"
                      }
                    ],
                    "parcoords": [
                      {
                        "line": {
                          "colorbar": {
                            "outlinewidth": 0,
                            "ticks": ""
                          }
                        },
                        "type": "parcoords"
                      }
                    ],
                    "pie": [
                      {
                        "automargin": true,
                        "type": "pie"
                      }
                    ],
                    "scatter": [
                      {
                        "fillpattern": {
                          "fillmode": "overlay",
                          "size": 10,
                          "solidity": 0.2
                        },
                        "type": "scatter"
                      }
                    ],
                    "scatter3d": [
                      {
                        "line": {
                          "colorbar": {
                            "outlinewidth": 0,
                            "ticks": ""
                          }
                        },
                        "marker": {
                          "colorbar": {
                            "outlinewidth": 0,
                            "ticks": ""
                          }
                        },
                        "type": "scatter3d"
                      }
                    ],
                    "scattercarpet": [
                      {
                        "marker": {
                          "colorbar": {
                            "outlinewidth": 0,
                            "ticks": ""
                          }
                        },
                        "type": "scattercarpet"
                      }
                    ],
                    "scattergeo": [
                      {
                        "marker": {
                          "colorbar": {
                            "outlinewidth": 0,
                            "ticks": ""
                          }
                        },
                        "type": "scattergeo"
                      }
                    ],
                    "scattergl": [
                      {
                        "marker": {
                          "colorbar": {
                            "outlinewidth": 0,
                            "ticks": ""
                          }
                        },
                        "type": "scattergl"
                      }
                    ],
                    "scattermap": [
                      {
                        "marker": {
                          "colorbar": {
                            "outlinewidth": 0,
                            "ticks": ""
                          }
                        },
                        "type": "scattermap"
                      }
                    ],
                    "scattermapbox": [
                      {
                        "marker": {
                          "colorbar": {
                            "outlinewidth": 0,
                            "ticks": ""
                          }
                        },
                        "type": "scattermapbox"
                      }
                    ],
                    "scatterpolar": [
                      {
                        "marker": {
                          "colorbar": {
                            "outlinewidth": 0,
                            "ticks": ""
                          }
                        },
                        "type": "scatterpolar"
                      }
                    ],
                    "scatterpolargl": [
                      {
                        "marker": {
                          "colorbar": {
                            "outlinewidth": 0,
                            "ticks": ""
                          }
                        },
                        "type": "scatterpolargl"
                      }
                    ],
                    "scatterternary": [
                      {
                        "marker": {
                          "colorbar": {
                            "outlinewidth": 0,
                            "ticks": ""
                          }
                        },
                        "type": "scatterternary"
                      }
                    ],
                    "surface": [
                      {
                        "colorbar": {
                          "outlinewidth": 0,
                          "ticks": ""
                        },
                        "colorscale": [
                          [
                            0,
                            "#0d0887"
                          ],
                          [
                            0.1111111111111111,
                            "#46039f"
                          ],
                          [
                            0.2222222222222222,
                            "#7201a8"
                          ],
                          [
                            0.3333333333333333,
                            "#9c179e"
                          ],
                          [
                            0.4444444444444444,
                            "#bd3786"
                          ],
                          [
                            0.5555555555555556,
                            "#d8576b"
                          ],
                          [
                            0.6666666666666666,
                            "#ed7953"
                          ],
                          [
                            0.7777777777777778,
                            "#fb9f3a"
                          ],
                          [
                            0.8888888888888888,
                            "#fdca26"
                          ],
                          [
                            1,
                            "#f0f921"
                          ]
                        ],
                        "type": "surface"
                      }
                    ],
                    "table": [
                      {
                        "cells": {
                          "fill": {
                            "color": "#EBF0F8"
                          },
                          "line": {
                            "color": "white"
                          }
                        },
                        "header": {
                          "fill": {
                            "color": "#C8D4E3"
                          },
                          "line": {
                            "color": "white"
                          }
                        },
                        "type": "table"
                      }
                    ]
                  },
                  "layout": {
                    "annotationdefaults": {
                      "arrowcolor": "#2a3f5f",
                      "arrowhead": 0,
                      "arrowwidth": 1
                    },
                    "autotypenumbers": "strict",
                    "coloraxis": {
                      "colorbar": {
                        "outlinewidth": 0,
                        "ticks": ""
                      }
                    },
                    "colorscale": {
                      "diverging": [
                        [
                          0,
                          "#8e0152"
                        ],
                        [
                          0.1,
                          "#c51b7d"
                        ],
                        [
                          0.2,
                          "#de77ae"
                        ],
                        [
                          0.3,
                          "#f1b6da"
                        ],
                        [
                          0.4,
                          "#fde0ef"
                        ],
                        [
                          0.5,
                          "#f7f7f7"
                        ],
                        [
                          0.6,
                          "#e6f5d0"
                        ],
                        [
                          0.7,
                          "#b8e186"
                        ],
                        [
                          0.8,
                          "#7fbc41"
                        ],
                        [
                          0.9,
                          "#4d9221"
                        ],
                        [
                          1,
                          "#276419"
                        ]
                      ],
                      "sequential": [
                        [
                          0,
                          "#0d0887"
                        ],
                        [
                          0.1111111111111111,
                          "#46039f"
                        ],
                        [
                          0.2222222222222222,
                          "#7201a8"
                        ],
                        [
                          0.3333333333333333,
                          "#9c179e"
                        ],
                        [
                          0.4444444444444444,
                          "#bd3786"
                        ],
                        [
                          0.5555555555555556,
                          "#d8576b"
                        ],
                        [
                          0.6666666666666666,
                          "#ed7953"
                        ],
                        [
                          0.7777777777777778,
                          "#fb9f3a"
                        ],
                        [
                          0.8888888888888888,
                          "#fdca26"
                        ],
                        [
                          1,
                          "#f0f921"
                        ]
                      ],
                      "sequentialminus": [
                        [
                          0,
                          "#0d0887"
                        ],
                        [
                          0.1111111111111111,
                          "#46039f"
                        ],
                        [
                          0.2222222222222222,
                          "#7201a8"
                        ],
                        [
                          0.3333333333333333,
                          "#9c179e"
                        ],
                        [
                          0.4444444444444444,
                          "#bd3786"
                        ],
                        [
                          0.5555555555555556,
                          "#d8576b"
                        ],
                        [
                          0.6666666666666666,
                          "#ed7953"
                        ],
                        [
                          0.7777777777777778,
                          "#fb9f3a"
                        ],
                        [
                          0.8888888888888888,
                          "#fdca26"
                        ],
                        [
                          1,
                          "#f0f921"
                        ]
                      ]
                    },
                    "colorway": [
                      "#636efa",
                      "#EF553B",
                      "#00cc96",
                      "#ab63fa",
                      "#FFA15A",
                      "#19d3f3",
                      "#FF6692",
                      "#B6E880",
                      "#FF97FF",
                      "#FECB52"
                    ],
                    "font": {
                      "color": "#2a3f5f"
                    },
                    "geo": {
                      "bgcolor": "white",
                      "lakecolor": "white",
                      "landcolor": "#E5ECF6",
                      "showlakes": true,
                      "showland": true,
                      "subunitcolor": "white"
                    },
                    "hoverlabel": {
                      "align": "left"
                    },
                    "hovermode": "closest",
                    "mapbox": {
                      "style": "light"
                    },
                    "paper_bgcolor": "white",
                    "plot_bgcolor": "#E5ECF6",
                    "polar": {
                      "angularaxis": {
                        "gridcolor": "white",
                        "linecolor": "white",
                        "ticks": ""
                      },
                      "bgcolor": "#E5ECF6",
                      "radialaxis": {
                        "gridcolor": "white",
                        "linecolor": "white",
                        "ticks": ""
                      }
                    },
                    "scene": {
                      "xaxis": {
                        "backgroundcolor": "#E5ECF6",
                        "gridcolor": "white",
                        "gridwidth": 2,
                        "linecolor": "white",
                        "showbackground": true,
                        "ticks": "",
                        "zerolinecolor": "white"
                      },
                      "yaxis": {
                        "backgroundcolor": "#E5ECF6",
                        "gridcolor": "white",
                        "gridwidth": 2,
                        "linecolor": "white",
                        "showbackground": true,
                        "ticks": "",
                        "zerolinecolor": "white"
                      },
                      "zaxis": {
                        "backgroundcolor": "#E5ECF6",
                        "gridcolor": "white",
                        "gridwidth": 2,
                        "linecolor": "white",
                        "showbackground": true,
                        "ticks": "",
                        "zerolinecolor": "white"
                      }
                    },
                    "shapedefaults": {
                      "line": {
                        "color": "#2a3f5f"
                      }
                    },
                    "ternary": {
                      "aaxis": {
                        "gridcolor": "white",
                        "linecolor": "white",
                        "ticks": ""
                      },
                      "baxis": {
                        "gridcolor": "white",
                        "linecolor": "white",
                        "ticks": ""
                      },
                      "bgcolor": "#E5ECF6",
                      "caxis": {
                        "gridcolor": "white",
                        "linecolor": "white",
                        "ticks": ""
                      }
                    },
                    "title": {
                      "x": 0.05
                    },
                    "xaxis": {
                      "automargin": true,
                      "gridcolor": "white",
                      "linecolor": "white",
                      "ticks": "",
                      "title": {
                        "standoff": 15
                      },
                      "zerolinecolor": "white",
                      "zerolinewidth": 2
                    },
                    "yaxis": {
                      "automargin": true,
                      "gridcolor": "white",
                      "linecolor": "white",
                      "ticks": "",
                      "title": {
                        "standoff": 15
                      },
                      "zerolinecolor": "white",
                      "zerolinewidth": 2
                    }
                  }
                },
                "title": {
                  "text": "Value Counts for rating"
                },
                "xaxis": {
                  "anchor": "y",
                  "domain": [
                    0,
                    1
                  ],
                  "tickangle": -45,
                  "title": {
                    "text": "Dataset Variables"
                  }
                },
                "yaxis": {
                  "anchor": "x",
                  "domain": [
                    0,
                    1
                  ],
                  "title": {
                    "text": "Count Distribution"
                  }
                }
              }
            }
          },
          "metadata": {},
          "output_type": "display_data"
        },
        {
          "data": {
            "application/vnd.plotly.v1+json": {
              "config": {
                "plotlyServerURL": "https://plot.ly"
              },
              "data": [
                {
                  "hovertemplate": "color=1 Season<br>duration=%{x}<br>Frequency=%{y}<br>text=%{text}<extra></extra>",
                  "legendgroup": "1 Season",
                  "marker": {
                    "color": "#8009B9",
                    "pattern": {
                      "shape": ""
                    }
                  },
                  "name": "1 Season",
                  "orientation": "v",
                  "showlegend": true,
                  "text": {
                    "bdata": "AAAAAAAgmUA=",
                    "dtype": "f8"
                  },
                  "textposition": "outside",
                  "type": "bar",
                  "x": [
                    "1 Season"
                  ],
                  "xaxis": "x",
                  "y": {
                    "bdata": "SAY=",
                    "dtype": "i2"
                  },
                  "yaxis": "y"
                },
                {
                  "hovertemplate": "color=2 Seasons<br>duration=%{x}<br>Frequency=%{y}<br>text=%{text}<extra></extra>",
                  "legendgroup": "2 Seasons",
                  "marker": {
                    "color": "#B712EF",
                    "pattern": {
                      "shape": ""
                    }
                  },
                  "name": "2 Seasons",
                  "orientation": "v",
                  "showlegend": true,
                  "text": {
                    "bdata": "AAAAAADgd0A=",
                    "dtype": "f8"
                  },
                  "textposition": "outside",
                  "type": "bar",
                  "x": [
                    "2 Seasons"
                  ],
                  "xaxis": "x",
                  "y": {
                    "bdata": "fgE=",
                    "dtype": "i2"
                  },
                  "yaxis": "y"
                },
                {
                  "hovertemplate": "color=3 Seasons<br>duration=%{x}<br>Frequency=%{y}<br>text=%{text}<extra></extra>",
                  "legendgroup": "3 Seasons",
                  "marker": {
                    "color": "#2A5523",
                    "pattern": {
                      "shape": ""
                    }
                  },
                  "name": "3 Seasons",
                  "orientation": "v",
                  "showlegend": true,
                  "text": {
                    "bdata": "AAAAAAAAZ0A=",
                    "dtype": "f8"
                  },
                  "textposition": "outside",
                  "type": "bar",
                  "x": [
                    "3 Seasons"
                  ],
                  "xaxis": "x",
                  "y": {
                    "bdata": "uAA=",
                    "dtype": "i2"
                  },
                  "yaxis": "y"
                },
                {
                  "hovertemplate": "color=90 min<br>duration=%{x}<br>Frequency=%{y}<br>text=%{text}<extra></extra>",
                  "legendgroup": "90 min",
                  "marker": {
                    "color": "#433866",
                    "pattern": {
                      "shape": ""
                    }
                  },
                  "name": "90 min",
                  "orientation": "v",
                  "showlegend": true,
                  "text": {
                    "bdata": "AAAAAAAAYUA=",
                    "dtype": "f8"
                  },
                  "textposition": "outside",
                  "type": "bar",
                  "x": [
                    "90 min"
                  ],
                  "xaxis": "x",
                  "y": {
                    "bdata": "iAA=",
                    "dtype": "i2"
                  },
                  "yaxis": "y"
                },
                {
                  "hovertemplate": "color=93 min<br>duration=%{x}<br>Frequency=%{y}<br>text=%{text}<extra></extra>",
                  "legendgroup": "93 min",
                  "marker": {
                    "color": "#E9EDB2",
                    "pattern": {
                      "shape": ""
                    }
                  },
                  "name": "93 min",
                  "orientation": "v",
                  "showlegend": true,
                  "text": {
                    "bdata": "AAAAAABgYEA=",
                    "dtype": "f8"
                  },
                  "textposition": "outside",
                  "type": "bar",
                  "x": [
                    "93 min"
                  ],
                  "xaxis": "x",
                  "y": {
                    "bdata": "gwA=",
                    "dtype": "i2"
                  },
                  "yaxis": "y"
                },
                {
                  "hovertemplate": "color=94 min<br>duration=%{x}<br>Frequency=%{y}<br>text=%{text}<extra></extra>",
                  "legendgroup": "94 min",
                  "marker": {
                    "color": "#0A27E0",
                    "pattern": {
                      "shape": ""
                    }
                  },
                  "name": "94 min",
                  "orientation": "v",
                  "showlegend": true,
                  "text": {
                    "bdata": "AAAAAABAX0A=",
                    "dtype": "f8"
                  },
                  "textposition": "outside",
                  "type": "bar",
                  "x": [
                    "94 min"
                  ],
                  "xaxis": "x",
                  "y": {
                    "bdata": "fQ==",
                    "dtype": "i1"
                  },
                  "yaxis": "y"
                },
                {
                  "hovertemplate": "color=91 min<br>duration=%{x}<br>Frequency=%{y}<br>text=%{text}<extra></extra>",
                  "legendgroup": "91 min",
                  "marker": {
                    "color": "#C6517A",
                    "pattern": {
                      "shape": ""
                    }
                  },
                  "name": "91 min",
                  "orientation": "v",
                  "showlegend": true,
                  "text": {
                    "bdata": "AAAAAABAX0A=",
                    "dtype": "f8"
                  },
                  "textposition": "outside",
                  "type": "bar",
                  "x": [
                    "91 min"
                  ],
                  "xaxis": "x",
                  "y": {
                    "bdata": "fQ==",
                    "dtype": "i1"
                  },
                  "yaxis": "y"
                },
                {
                  "hovertemplate": "color=95 min<br>duration=%{x}<br>Frequency=%{y}<br>text=%{text}<extra></extra>",
                  "legendgroup": "95 min",
                  "marker": {
                    "color": "#28A900",
                    "pattern": {
                      "shape": ""
                    }
                  },
                  "name": "95 min",
                  "orientation": "v",
                  "showlegend": true,
                  "text": {
                    "bdata": "AAAAAADAXUA=",
                    "dtype": "f8"
                  },
                  "textposition": "outside",
                  "type": "bar",
                  "x": [
                    "95 min"
                  ],
                  "xaxis": "x",
                  "y": {
                    "bdata": "dw==",
                    "dtype": "i1"
                  },
                  "yaxis": "y"
                },
                {
                  "hovertemplate": "color=92 min<br>duration=%{x}<br>Frequency=%{y}<br>text=%{text}<extra></extra>",
                  "legendgroup": "92 min",
                  "marker": {
                    "color": "#4DA514",
                    "pattern": {
                      "shape": ""
                    }
                  },
                  "name": "92 min",
                  "orientation": "v",
                  "showlegend": true,
                  "text": {
                    "bdata": "AAAAAACAXUA=",
                    "dtype": "f8"
                  },
                  "textposition": "outside",
                  "type": "bar",
                  "x": [
                    "92 min"
                  ],
                  "xaxis": "x",
                  "y": {
                    "bdata": "dg==",
                    "dtype": "i1"
                  },
                  "yaxis": "y"
                },
                {
                  "hovertemplate": "color=97 min<br>duration=%{x}<br>Frequency=%{y}<br>text=%{text}<extra></extra>",
                  "legendgroup": "97 min",
                  "marker": {
                    "color": "#3B9505",
                    "pattern": {
                      "shape": ""
                    }
                  },
                  "name": "97 min",
                  "orientation": "v",
                  "showlegend": true,
                  "text": {
                    "bdata": "AAAAAABAXUA=",
                    "dtype": "f8"
                  },
                  "textposition": "outside",
                  "type": "bar",
                  "x": [
                    "97 min"
                  ],
                  "xaxis": "x",
                  "y": {
                    "bdata": "dQ==",
                    "dtype": "i1"
                  },
                  "yaxis": "y"
                },
                {
                  "hovertemplate": "color=96 min<br>duration=%{x}<br>Frequency=%{y}<br>text=%{text}<extra></extra>",
                  "legendgroup": "96 min",
                  "marker": {
                    "color": "#4AF844",
                    "pattern": {
                      "shape": ""
                    }
                  },
                  "name": "96 min",
                  "orientation": "v",
                  "showlegend": true,
                  "text": {
                    "bdata": "AAAAAADAXEA=",
                    "dtype": "f8"
                  },
                  "textposition": "outside",
                  "type": "bar",
                  "x": [
                    "96 min"
                  ],
                  "xaxis": "x",
                  "y": {
                    "bdata": "cw==",
                    "dtype": "i1"
                  },
                  "yaxis": "y"
                },
                {
                  "hovertemplate": "color=98 min<br>duration=%{x}<br>Frequency=%{y}<br>text=%{text}<extra></extra>",
                  "legendgroup": "98 min",
                  "marker": {
                    "color": "#579F20",
                    "pattern": {
                      "shape": ""
                    }
                  },
                  "name": "98 min",
                  "orientation": "v",
                  "showlegend": true,
                  "text": {
                    "bdata": "AAAAAACAWkA=",
                    "dtype": "f8"
                  },
                  "textposition": "outside",
                  "type": "bar",
                  "x": [
                    "98 min"
                  ],
                  "xaxis": "x",
                  "y": {
                    "bdata": "ag==",
                    "dtype": "i1"
                  },
                  "yaxis": "y"
                },
                {
                  "hovertemplate": "color=103 min<br>duration=%{x}<br>Frequency=%{y}<br>text=%{text}<extra></extra>",
                  "legendgroup": "103 min",
                  "marker": {
                    "color": "#8B895B",
                    "pattern": {
                      "shape": ""
                    }
                  },
                  "name": "103 min",
                  "orientation": "v",
                  "showlegend": true,
                  "text": {
                    "bdata": "AAAAAABAWUA=",
                    "dtype": "f8"
                  },
                  "textposition": "outside",
                  "type": "bar",
                  "x": [
                    "103 min"
                  ],
                  "xaxis": "x",
                  "y": {
                    "bdata": "ZQ==",
                    "dtype": "i1"
                  },
                  "yaxis": "y"
                },
                {
                  "hovertemplate": "color=99 min<br>duration=%{x}<br>Frequency=%{y}<br>text=%{text}<extra></extra>",
                  "legendgroup": "99 min",
                  "marker": {
                    "color": "#122E61",
                    "pattern": {
                      "shape": ""
                    }
                  },
                  "name": "99 min",
                  "orientation": "v",
                  "showlegend": true,
                  "text": {
                    "bdata": "AAAAAABAWUA=",
                    "dtype": "f8"
                  },
                  "textposition": "outside",
                  "type": "bar",
                  "x": [
                    "99 min"
                  ],
                  "xaxis": "x",
                  "y": {
                    "bdata": "ZQ==",
                    "dtype": "i1"
                  },
                  "yaxis": "y"
                },
                {
                  "hovertemplate": "color=88 min<br>duration=%{x}<br>Frequency=%{y}<br>text=%{text}<extra></extra>",
                  "legendgroup": "88 min",
                  "marker": {
                    "color": "#51611B",
                    "pattern": {
                      "shape": ""
                    }
                  },
                  "name": "88 min",
                  "orientation": "v",
                  "showlegend": true,
                  "text": {
                    "bdata": "AAAAAABAWUA=",
                    "dtype": "f8"
                  },
                  "textposition": "outside",
                  "type": "bar",
                  "x": [
                    "88 min"
                  ],
                  "xaxis": "x",
                  "y": {
                    "bdata": "ZQ==",
                    "dtype": "i1"
                  },
                  "yaxis": "y"
                },
                {
                  "hovertemplate": "color=102 min<br>duration=%{x}<br>Frequency=%{y}<br>text=%{text}<extra></extra>",
                  "legendgroup": "102 min",
                  "marker": {
                    "color": "#DADA8F",
                    "pattern": {
                      "shape": ""
                    }
                  },
                  "name": "102 min",
                  "orientation": "v",
                  "showlegend": true,
                  "text": {
                    "bdata": "AAAAAACAWEA=",
                    "dtype": "f8"
                  },
                  "textposition": "outside",
                  "type": "bar",
                  "x": [
                    "102 min"
                  ],
                  "xaxis": "x",
                  "y": {
                    "bdata": "Yg==",
                    "dtype": "i1"
                  },
                  "yaxis": "y"
                },
                {
                  "hovertemplate": "color=100 min<br>duration=%{x}<br>Frequency=%{y}<br>text=%{text}<extra></extra>",
                  "legendgroup": "100 min",
                  "marker": {
                    "color": "#89C3A5",
                    "pattern": {
                      "shape": ""
                    }
                  },
                  "name": "100 min",
                  "orientation": "v",
                  "showlegend": true,
                  "text": {
                    "bdata": "AAAAAABAWEA=",
                    "dtype": "f8"
                  },
                  "textposition": "outside",
                  "type": "bar",
                  "x": [
                    "100 min"
                  ],
                  "xaxis": "x",
                  "y": {
                    "bdata": "YQ==",
                    "dtype": "i1"
                  },
                  "yaxis": "y"
                },
                {
                  "hovertemplate": "color=106 min<br>duration=%{x}<br>Frequency=%{y}<br>text=%{text}<extra></extra>",
                  "legendgroup": "106 min",
                  "marker": {
                    "color": "#BC8460",
                    "pattern": {
                      "shape": ""
                    }
                  },
                  "name": "106 min",
                  "orientation": "v",
                  "showlegend": true,
                  "text": {
                    "bdata": "AAAAAABAWEA=",
                    "dtype": "f8"
                  },
                  "textposition": "outside",
                  "type": "bar",
                  "x": [
                    "106 min"
                  ],
                  "xaxis": "x",
                  "y": {
                    "bdata": "YQ==",
                    "dtype": "i1"
                  },
                  "yaxis": "y"
                },
                {
                  "hovertemplate": "color=101 min<br>duration=%{x}<br>Frequency=%{y}<br>text=%{text}<extra></extra>",
                  "legendgroup": "101 min",
                  "marker": {
                    "color": "#3F76ED",
                    "pattern": {
                      "shape": ""
                    }
                  },
                  "name": "101 min",
                  "orientation": "v",
                  "showlegend": true,
                  "text": {
                    "bdata": "AAAAAAAAWEA=",
                    "dtype": "f8"
                  },
                  "textposition": "outside",
                  "type": "bar",
                  "x": [
                    "101 min"
                  ],
                  "xaxis": "x",
                  "y": {
                    "bdata": "YA==",
                    "dtype": "i1"
                  },
                  "yaxis": "y"
                },
                {
                  "hovertemplate": "color=86 min<br>duration=%{x}<br>Frequency=%{y}<br>text=%{text}<extra></extra>",
                  "legendgroup": "86 min",
                  "marker": {
                    "color": "#499FAF",
                    "pattern": {
                      "shape": ""
                    }
                  },
                  "name": "86 min",
                  "orientation": "v",
                  "showlegend": true,
                  "text": {
                    "bdata": "AAAAAABAV0A=",
                    "dtype": "f8"
                  },
                  "textposition": "outside",
                  "type": "bar",
                  "x": [
                    "86 min"
                  ],
                  "xaxis": "x",
                  "y": {
                    "bdata": "XQ==",
                    "dtype": "i1"
                  },
                  "yaxis": "y"
                },
                {
                  "hovertemplate": "color=105 min<br>duration=%{x}<br>Frequency=%{y}<br>text=%{text}<extra></extra>",
                  "legendgroup": "105 min",
                  "marker": {
                    "color": "#DAE737",
                    "pattern": {
                      "shape": ""
                    }
                  },
                  "name": "105 min",
                  "orientation": "v",
                  "showlegend": true,
                  "text": {
                    "bdata": "AAAAAADAVkA=",
                    "dtype": "f8"
                  },
                  "textposition": "outside",
                  "type": "bar",
                  "x": [
                    "105 min"
                  ],
                  "xaxis": "x",
                  "y": {
                    "bdata": "Ww==",
                    "dtype": "i1"
                  },
                  "yaxis": "y"
                },
                {
                  "hovertemplate": "color=104 min<br>duration=%{x}<br>Frequency=%{y}<br>text=%{text}<extra></extra>",
                  "legendgroup": "104 min",
                  "marker": {
                    "color": "#AC5B51",
                    "pattern": {
                      "shape": ""
                    }
                  },
                  "name": "104 min",
                  "orientation": "v",
                  "showlegend": true,
                  "text": {
                    "bdata": "AAAAAABAVkA=",
                    "dtype": "f8"
                  },
                  "textposition": "outside",
                  "type": "bar",
                  "x": [
                    "104 min"
                  ],
                  "xaxis": "x",
                  "y": {
                    "bdata": "WQ==",
                    "dtype": "i1"
                  },
                  "yaxis": "y"
                },
                {
                  "hovertemplate": "color=89 min<br>duration=%{x}<br>Frequency=%{y}<br>text=%{text}<extra></extra>",
                  "legendgroup": "89 min",
                  "marker": {
                    "color": "#ACF144",
                    "pattern": {
                      "shape": ""
                    }
                  },
                  "name": "89 min",
                  "orientation": "v",
                  "showlegend": true,
                  "text": {
                    "bdata": "AAAAAAAAVkA=",
                    "dtype": "f8"
                  },
                  "textposition": "outside",
                  "type": "bar",
                  "x": [
                    "89 min"
                  ],
                  "xaxis": "x",
                  "y": {
                    "bdata": "WA==",
                    "dtype": "i1"
                  },
                  "yaxis": "y"
                },
                {
                  "hovertemplate": "color=87 min<br>duration=%{x}<br>Frequency=%{y}<br>text=%{text}<extra></extra>",
                  "legendgroup": "87 min",
                  "marker": {
                    "color": "#BD9B67",
                    "pattern": {
                      "shape": ""
                    }
                  },
                  "name": "87 min",
                  "orientation": "v",
                  "showlegend": true,
                  "text": {
                    "bdata": "AAAAAADAVUA=",
                    "dtype": "f8"
                  },
                  "textposition": "outside",
                  "type": "bar",
                  "x": [
                    "87 min"
                  ],
                  "xaxis": "x",
                  "y": {
                    "bdata": "Vw==",
                    "dtype": "i1"
                  },
                  "yaxis": "y"
                },
                {
                  "hovertemplate": "color=4 Seasons<br>duration=%{x}<br>Frequency=%{y}<br>text=%{text}<extra></extra>",
                  "legendgroup": "4 Seasons",
                  "marker": {
                    "color": "#0693B3",
                    "pattern": {
                      "shape": ""
                    }
                  },
                  "name": "4 Seasons",
                  "orientation": "v",
                  "showlegend": true,
                  "text": {
                    "bdata": "AAAAAADAVUA=",
                    "dtype": "f8"
                  },
                  "textposition": "outside",
                  "type": "bar",
                  "x": [
                    "4 Seasons"
                  ],
                  "xaxis": "x",
                  "y": {
                    "bdata": "Vw==",
                    "dtype": "i1"
                  },
                  "yaxis": "y"
                },
                {
                  "hovertemplate": "color=110 min<br>duration=%{x}<br>Frequency=%{y}<br>text=%{text}<extra></extra>",
                  "legendgroup": "110 min",
                  "marker": {
                    "color": "#D2634E",
                    "pattern": {
                      "shape": ""
                    }
                  },
                  "name": "110 min",
                  "orientation": "v",
                  "showlegend": true,
                  "text": {
                    "bdata": "AAAAAACAVUA=",
                    "dtype": "f8"
                  },
                  "textposition": "outside",
                  "type": "bar",
                  "x": [
                    "110 min"
                  ],
                  "xaxis": "x",
                  "y": {
                    "bdata": "Vg==",
                    "dtype": "i1"
                  },
                  "yaxis": "y"
                },
                {
                  "hovertemplate": "color=107 min<br>duration=%{x}<br>Frequency=%{y}<br>text=%{text}<extra></extra>",
                  "legendgroup": "107 min",
                  "marker": {
                    "color": "#971354",
                    "pattern": {
                      "shape": ""
                    }
                  },
                  "name": "107 min",
                  "orientation": "v",
                  "showlegend": true,
                  "text": {
                    "bdata": "AAAAAABAVUA=",
                    "dtype": "f8"
                  },
                  "textposition": "outside",
                  "type": "bar",
                  "x": [
                    "107 min"
                  ],
                  "xaxis": "x",
                  "y": {
                    "bdata": "VQ==",
                    "dtype": "i1"
                  },
                  "yaxis": "y"
                },
                {
                  "hovertemplate": "color=108 min<br>duration=%{x}<br>Frequency=%{y}<br>text=%{text}<extra></extra>",
                  "legendgroup": "108 min",
                  "marker": {
                    "color": "#B9C5FD",
                    "pattern": {
                      "shape": ""
                    }
                  },
                  "name": "108 min",
                  "orientation": "v",
                  "showlegend": true,
                  "text": {
                    "bdata": "AAAAAACAUkA=",
                    "dtype": "f8"
                  },
                  "textposition": "outside",
                  "type": "bar",
                  "x": [
                    "108 min"
                  ],
                  "xaxis": "x",
                  "y": {
                    "bdata": "Sg==",
                    "dtype": "i1"
                  },
                  "yaxis": "y"
                },
                {
                  "hovertemplate": "color=116 min<br>duration=%{x}<br>Frequency=%{y}<br>text=%{text}<extra></extra>",
                  "legendgroup": "116 min",
                  "marker": {
                    "color": "#75CF7E",
                    "pattern": {
                      "shape": ""
                    }
                  },
                  "name": "116 min",
                  "orientation": "v",
                  "showlegend": true,
                  "text": {
                    "bdata": "AAAAAABAUEA=",
                    "dtype": "f8"
                  },
                  "textposition": "outside",
                  "type": "bar",
                  "x": [
                    "116 min"
                  ],
                  "xaxis": "x",
                  "y": {
                    "bdata": "QQ==",
                    "dtype": "i1"
                  },
                  "yaxis": "y"
                },
                {
                  "hovertemplate": "color=112 min<br>duration=%{x}<br>Frequency=%{y}<br>text=%{text}<extra></extra>",
                  "legendgroup": "112 min",
                  "marker": {
                    "color": "#9072BD",
                    "pattern": {
                      "shape": ""
                    }
                  },
                  "name": "112 min",
                  "orientation": "v",
                  "showlegend": true,
                  "text": {
                    "bdata": "AAAAAABAUEA=",
                    "dtype": "f8"
                  },
                  "textposition": "outside",
                  "type": "bar",
                  "x": [
                    "112 min"
                  ],
                  "xaxis": "x",
                  "y": {
                    "bdata": "QQ==",
                    "dtype": "i1"
                  },
                  "yaxis": "y"
                },
                {
                  "hovertemplate": "color=85 min<br>duration=%{x}<br>Frequency=%{y}<br>text=%{text}<extra></extra>",
                  "legendgroup": "85 min",
                  "marker": {
                    "color": "#ED2E87",
                    "pattern": {
                      "shape": ""
                    }
                  },
                  "name": "85 min",
                  "orientation": "v",
                  "showlegend": true,
                  "text": {
                    "bdata": "AAAAAACAT0A=",
                    "dtype": "f8"
                  },
                  "textposition": "outside",
                  "type": "bar",
                  "x": [
                    "85 min"
                  ],
                  "xaxis": "x",
                  "y": {
                    "bdata": "Pw==",
                    "dtype": "i1"
                  },
                  "yaxis": "y"
                },
                {
                  "hovertemplate": "color=109 min<br>duration=%{x}<br>Frequency=%{y}<br>text=%{text}<extra></extra>",
                  "legendgroup": "109 min",
                  "marker": {
                    "color": "#95CFDE",
                    "pattern": {
                      "shape": ""
                    }
                  },
                  "name": "109 min",
                  "orientation": "v",
                  "showlegend": true,
                  "text": {
                    "bdata": "AAAAAACATkA=",
                    "dtype": "f8"
                  },
                  "textposition": "outside",
                  "type": "bar",
                  "x": [
                    "109 min"
                  ],
                  "xaxis": "x",
                  "y": {
                    "bdata": "PQ==",
                    "dtype": "i1"
                  },
                  "yaxis": "y"
                },
                {
                  "hovertemplate": "color=83 min<br>duration=%{x}<br>Frequency=%{y}<br>text=%{text}<extra></extra>",
                  "legendgroup": "83 min",
                  "marker": {
                    "color": "#66E8BC",
                    "pattern": {
                      "shape": ""
                    }
                  },
                  "name": "83 min",
                  "orientation": "v",
                  "showlegend": true,
                  "text": {
                    "bdata": "AAAAAACATkA=",
                    "dtype": "f8"
                  },
                  "textposition": "outside",
                  "type": "bar",
                  "x": [
                    "83 min"
                  ],
                  "xaxis": "x",
                  "y": {
                    "bdata": "PQ==",
                    "dtype": "i1"
                  },
                  "yaxis": "y"
                },
                {
                  "hovertemplate": "color=111 min<br>duration=%{x}<br>Frequency=%{y}<br>text=%{text}<extra></extra>",
                  "legendgroup": "111 min",
                  "marker": {
                    "color": "#2C6E40",
                    "pattern": {
                      "shape": ""
                    }
                  },
                  "name": "111 min",
                  "orientation": "v",
                  "showlegend": true,
                  "text": {
                    "bdata": "AAAAAACATkA=",
                    "dtype": "f8"
                  },
                  "textposition": "outside",
                  "type": "bar",
                  "x": [
                    "111 min"
                  ],
                  "xaxis": "x",
                  "y": {
                    "bdata": "PQ==",
                    "dtype": "i1"
                  },
                  "yaxis": "y"
                },
                {
                  "hovertemplate": "color=84 min<br>duration=%{x}<br>Frequency=%{y}<br>text=%{text}<extra></extra>",
                  "legendgroup": "84 min",
                  "marker": {
                    "color": "#77F05D",
                    "pattern": {
                      "shape": ""
                    }
                  },
                  "name": "84 min",
                  "orientation": "v",
                  "showlegend": true,
                  "text": {
                    "bdata": "AAAAAAAATkA=",
                    "dtype": "f8"
                  },
                  "textposition": "outside",
                  "type": "bar",
                  "x": [
                    "84 min"
                  ],
                  "xaxis": "x",
                  "y": {
                    "bdata": "PA==",
                    "dtype": "i1"
                  },
                  "yaxis": "y"
                },
                {
                  "hovertemplate": "color=81 min<br>duration=%{x}<br>Frequency=%{y}<br>text=%{text}<extra></extra>",
                  "legendgroup": "81 min",
                  "marker": {
                    "color": "#6EC257",
                    "pattern": {
                      "shape": ""
                    }
                  },
                  "name": "81 min",
                  "orientation": "v",
                  "showlegend": true,
                  "text": {
                    "bdata": "AAAAAAAATUA=",
                    "dtype": "f8"
                  },
                  "textposition": "outside",
                  "type": "bar",
                  "x": [
                    "81 min"
                  ],
                  "xaxis": "x",
                  "y": {
                    "bdata": "Og==",
                    "dtype": "i1"
                  },
                  "yaxis": "y"
                },
                {
                  "hovertemplate": "color=5 Seasons<br>duration=%{x}<br>Frequency=%{y}<br>text=%{text}<extra></extra>",
                  "legendgroup": "5 Seasons",
                  "marker": {
                    "color": "#4FB170",
                    "pattern": {
                      "shape": ""
                    }
                  },
                  "name": "5 Seasons",
                  "orientation": "v",
                  "showlegend": true,
                  "text": {
                    "bdata": "AAAAAAAATUA=",
                    "dtype": "f8"
                  },
                  "textposition": "outside",
                  "type": "bar",
                  "x": [
                    "5 Seasons"
                  ],
                  "xaxis": "x",
                  "y": {
                    "bdata": "Og==",
                    "dtype": "i1"
                  },
                  "yaxis": "y"
                },
                {
                  "hovertemplate": "color=117 min<br>duration=%{x}<br>Frequency=%{y}<br>text=%{text}<extra></extra>",
                  "legendgroup": "117 min",
                  "marker": {
                    "color": "#327A01",
                    "pattern": {
                      "shape": ""
                    }
                  },
                  "name": "117 min",
                  "orientation": "v",
                  "showlegend": true,
                  "text": {
                    "bdata": "AAAAAAAATEA=",
                    "dtype": "f8"
                  },
                  "textposition": "outside",
                  "type": "bar",
                  "x": [
                    "117 min"
                  ],
                  "xaxis": "x",
                  "y": {
                    "bdata": "OA==",
                    "dtype": "i1"
                  },
                  "yaxis": "y"
                },
                {
                  "hovertemplate": "color=119 min<br>duration=%{x}<br>Frequency=%{y}<br>text=%{text}<extra></extra>",
                  "legendgroup": "119 min",
                  "marker": {
                    "color": "#241862",
                    "pattern": {
                      "shape": ""
                    }
                  },
                  "name": "119 min",
                  "orientation": "v",
                  "showlegend": true,
                  "text": {
                    "bdata": "AAAAAAAAS0A=",
                    "dtype": "f8"
                  },
                  "textposition": "outside",
                  "type": "bar",
                  "x": [
                    "119 min"
                  ],
                  "xaxis": "x",
                  "y": {
                    "bdata": "Ng==",
                    "dtype": "i1"
                  },
                  "yaxis": "y"
                },
                {
                  "hovertemplate": "color=113 min<br>duration=%{x}<br>Frequency=%{y}<br>text=%{text}<extra></extra>",
                  "legendgroup": "113 min",
                  "marker": {
                    "color": "#F15904",
                    "pattern": {
                      "shape": ""
                    }
                  },
                  "name": "113 min",
                  "orientation": "v",
                  "showlegend": true,
                  "text": {
                    "bdata": "AAAAAAAAS0A=",
                    "dtype": "f8"
                  },
                  "textposition": "outside",
                  "type": "bar",
                  "x": [
                    "113 min"
                  ],
                  "xaxis": "x",
                  "y": {
                    "bdata": "Ng==",
                    "dtype": "i1"
                  },
                  "yaxis": "y"
                },
                {
                  "hovertemplate": "color=118 min<br>duration=%{x}<br>Frequency=%{y}<br>text=%{text}<extra></extra>",
                  "legendgroup": "118 min",
                  "marker": {
                    "color": "#5B5698",
                    "pattern": {
                      "shape": ""
                    }
                  },
                  "name": "118 min",
                  "orientation": "v",
                  "showlegend": true,
                  "text": {
                    "bdata": "AAAAAACASUA=",
                    "dtype": "f8"
                  },
                  "textposition": "outside",
                  "type": "bar",
                  "x": [
                    "118 min"
                  ],
                  "xaxis": "x",
                  "y": {
                    "bdata": "Mw==",
                    "dtype": "i1"
                  },
                  "yaxis": "y"
                },
                {
                  "hovertemplate": "color=82 min<br>duration=%{x}<br>Frequency=%{y}<br>text=%{text}<extra></extra>",
                  "legendgroup": "82 min",
                  "marker": {
                    "color": "#DFE2C8",
                    "pattern": {
                      "shape": ""
                    }
                  },
                  "name": "82 min",
                  "orientation": "v",
                  "showlegend": true,
                  "text": {
                    "bdata": "AAAAAAAASEA=",
                    "dtype": "f8"
                  },
                  "textposition": "outside",
                  "type": "bar",
                  "x": [
                    "82 min"
                  ],
                  "xaxis": "x",
                  "y": {
                    "bdata": "MA==",
                    "dtype": "i1"
                  },
                  "yaxis": "y"
                },
                {
                  "hovertemplate": "color=115 min<br>duration=%{x}<br>Frequency=%{y}<br>text=%{text}<extra></extra>",
                  "legendgroup": "115 min",
                  "marker": {
                    "color": "#762044",
                    "pattern": {
                      "shape": ""
                    }
                  },
                  "name": "115 min",
                  "orientation": "v",
                  "showlegend": true,
                  "text": {
                    "bdata": "AAAAAACAR0A=",
                    "dtype": "f8"
                  },
                  "textposition": "outside",
                  "type": "bar",
                  "x": [
                    "115 min"
                  ],
                  "xaxis": "x",
                  "y": {
                    "bdata": "Lw==",
                    "dtype": "i1"
                  },
                  "yaxis": "y"
                },
                {
                  "hovertemplate": "color=120 min<br>duration=%{x}<br>Frequency=%{y}<br>text=%{text}<extra></extra>",
                  "legendgroup": "120 min",
                  "marker": {
                    "color": "#121267",
                    "pattern": {
                      "shape": ""
                    }
                  },
                  "name": "120 min",
                  "orientation": "v",
                  "showlegend": true,
                  "text": {
                    "bdata": "AAAAAACAR0A=",
                    "dtype": "f8"
                  },
                  "textposition": "outside",
                  "type": "bar",
                  "x": [
                    "120 min"
                  ],
                  "xaxis": "x",
                  "y": {
                    "bdata": "Lw==",
                    "dtype": "i1"
                  },
                  "yaxis": "y"
                },
                {
                  "hovertemplate": "color=124 min<br>duration=%{x}<br>Frequency=%{y}<br>text=%{text}<extra></extra>",
                  "legendgroup": "124 min",
                  "marker": {
                    "color": "#0BCF04",
                    "pattern": {
                      "shape": ""
                    }
                  },
                  "name": "124 min",
                  "orientation": "v",
                  "showlegend": true,
                  "text": {
                    "bdata": "AAAAAAAAR0A=",
                    "dtype": "f8"
                  },
                  "textposition": "outside",
                  "type": "bar",
                  "x": [
                    "124 min"
                  ],
                  "xaxis": "x",
                  "y": {
                    "bdata": "Lg==",
                    "dtype": "i1"
                  },
                  "yaxis": "y"
                },
                {
                  "hovertemplate": "color=114 min<br>duration=%{x}<br>Frequency=%{y}<br>text=%{text}<extra></extra>",
                  "legendgroup": "114 min",
                  "marker": {
                    "color": "#1D08C5",
                    "pattern": {
                      "shape": ""
                    }
                  },
                  "name": "114 min",
                  "orientation": "v",
                  "showlegend": true,
                  "text": {
                    "bdata": "AAAAAACARkA=",
                    "dtype": "f8"
                  },
                  "textposition": "outside",
                  "type": "bar",
                  "x": [
                    "114 min"
                  ],
                  "xaxis": "x",
                  "y": {
                    "bdata": "LQ==",
                    "dtype": "i1"
                  },
                  "yaxis": "y"
                },
                {
                  "hovertemplate": "color=121 min<br>duration=%{x}<br>Frequency=%{y}<br>text=%{text}<extra></extra>",
                  "legendgroup": "121 min",
                  "marker": {
                    "color": "#EBB749",
                    "pattern": {
                      "shape": ""
                    }
                  },
                  "name": "121 min",
                  "orientation": "v",
                  "showlegend": true,
                  "text": {
                    "bdata": "AAAAAAAARkA=",
                    "dtype": "f8"
                  },
                  "textposition": "outside",
                  "type": "bar",
                  "x": [
                    "121 min"
                  ],
                  "xaxis": "x",
                  "y": {
                    "bdata": "LA==",
                    "dtype": "i1"
                  },
                  "yaxis": "y"
                },
                {
                  "hovertemplate": "color=127 min<br>duration=%{x}<br>Frequency=%{y}<br>text=%{text}<extra></extra>",
                  "legendgroup": "127 min",
                  "marker": {
                    "color": "#E94F0D",
                    "pattern": {
                      "shape": ""
                    }
                  },
                  "name": "127 min",
                  "orientation": "v",
                  "showlegend": true,
                  "text": {
                    "bdata": "AAAAAAAAREA=",
                    "dtype": "f8"
                  },
                  "textposition": "outside",
                  "type": "bar",
                  "x": [
                    "127 min"
                  ],
                  "xaxis": "x",
                  "y": {
                    "bdata": "KA==",
                    "dtype": "i1"
                  },
                  "yaxis": "y"
                },
                {
                  "hovertemplate": "color=78 min<br>duration=%{x}<br>Frequency=%{y}<br>text=%{text}<extra></extra>",
                  "legendgroup": "78 min",
                  "marker": {
                    "color": "#182315",
                    "pattern": {
                      "shape": ""
                    }
                  },
                  "name": "78 min",
                  "orientation": "v",
                  "showlegend": true,
                  "text": {
                    "bdata": "AAAAAAAAREA=",
                    "dtype": "f8"
                  },
                  "textposition": "outside",
                  "type": "bar",
                  "x": [
                    "78 min"
                  ],
                  "xaxis": "x",
                  "y": {
                    "bdata": "KA==",
                    "dtype": "i1"
                  },
                  "yaxis": "y"
                },
                {
                  "hovertemplate": "color=126 min<br>duration=%{x}<br>Frequency=%{y}<br>text=%{text}<extra></extra>",
                  "legendgroup": "126 min",
                  "marker": {
                    "color": "#2C2219",
                    "pattern": {
                      "shape": ""
                    }
                  },
                  "name": "126 min",
                  "orientation": "v",
                  "showlegend": true,
                  "text": {
                    "bdata": "AAAAAAAAREA=",
                    "dtype": "f8"
                  },
                  "textposition": "outside",
                  "type": "bar",
                  "x": [
                    "126 min"
                  ],
                  "xaxis": "x",
                  "y": {
                    "bdata": "KA==",
                    "dtype": "i1"
                  },
                  "yaxis": "y"
                },
                {
                  "hovertemplate": "color=80 min<br>duration=%{x}<br>Frequency=%{y}<br>text=%{text}<extra></extra>",
                  "legendgroup": "80 min",
                  "marker": {
                    "color": "#0F351B",
                    "pattern": {
                      "shape": ""
                    }
                  },
                  "name": "80 min",
                  "orientation": "v",
                  "showlegend": true,
                  "text": {
                    "bdata": "AAAAAACAQ0A=",
                    "dtype": "f8"
                  },
                  "textposition": "outside",
                  "type": "bar",
                  "x": [
                    "80 min"
                  ],
                  "xaxis": "x",
                  "y": {
                    "bdata": "Jw==",
                    "dtype": "i1"
                  },
                  "yaxis": "y"
                },
                {
                  "hovertemplate": "color=128 min<br>duration=%{x}<br>Frequency=%{y}<br>text=%{text}<extra></extra>",
                  "legendgroup": "128 min",
                  "marker": {
                    "color": "#43C72B",
                    "pattern": {
                      "shape": ""
                    }
                  },
                  "name": "128 min",
                  "orientation": "v",
                  "showlegend": true,
                  "text": {
                    "bdata": "AAAAAAAAQ0A=",
                    "dtype": "f8"
                  },
                  "textposition": "outside",
                  "type": "bar",
                  "x": [
                    "128 min"
                  ],
                  "xaxis": "x",
                  "y": {
                    "bdata": "Jg==",
                    "dtype": "i1"
                  },
                  "yaxis": "y"
                },
                {
                  "hovertemplate": "color=122 min<br>duration=%{x}<br>Frequency=%{y}<br>text=%{text}<extra></extra>",
                  "legendgroup": "122 min",
                  "marker": {
                    "color": "#0D40C0",
                    "pattern": {
                      "shape": ""
                    }
                  },
                  "name": "122 min",
                  "orientation": "v",
                  "showlegend": true,
                  "text": {
                    "bdata": "AAAAAAAAQ0A=",
                    "dtype": "f8"
                  },
                  "textposition": "outside",
                  "type": "bar",
                  "x": [
                    "122 min"
                  ],
                  "xaxis": "x",
                  "y": {
                    "bdata": "Jg==",
                    "dtype": "i1"
                  },
                  "yaxis": "y"
                },
                {
                  "hovertemplate": "color=130 min<br>duration=%{x}<br>Frequency=%{y}<br>text=%{text}<extra></extra>",
                  "legendgroup": "130 min",
                  "marker": {
                    "color": "#FB6E16",
                    "pattern": {
                      "shape": ""
                    }
                  },
                  "name": "130 min",
                  "orientation": "v",
                  "showlegend": true,
                  "text": {
                    "bdata": "AAAAAAAAQ0A=",
                    "dtype": "f8"
                  },
                  "textposition": "outside",
                  "type": "bar",
                  "x": [
                    "130 min"
                  ],
                  "xaxis": "x",
                  "y": {
                    "bdata": "Jg==",
                    "dtype": "i1"
                  },
                  "yaxis": "y"
                },
                {
                  "hovertemplate": "color=137 min<br>duration=%{x}<br>Frequency=%{y}<br>text=%{text}<extra></extra>",
                  "legendgroup": "137 min",
                  "marker": {
                    "color": "#836C3B",
                    "pattern": {
                      "shape": ""
                    }
                  },
                  "name": "137 min",
                  "orientation": "v",
                  "showlegend": true,
                  "text": {
                    "bdata": "AAAAAACAQkA=",
                    "dtype": "f8"
                  },
                  "textposition": "outside",
                  "type": "bar",
                  "x": [
                    "137 min"
                  ],
                  "xaxis": "x",
                  "y": {
                    "bdata": "JQ==",
                    "dtype": "i1"
                  },
                  "yaxis": "y"
                },
                {
                  "hovertemplate": "color=135 min<br>duration=%{x}<br>Frequency=%{y}<br>text=%{text}<extra></extra>",
                  "legendgroup": "135 min",
                  "marker": {
                    "color": "#31A34E",
                    "pattern": {
                      "shape": ""
                    }
                  },
                  "name": "135 min",
                  "orientation": "v",
                  "showlegend": true,
                  "text": {
                    "bdata": "AAAAAACAQkA=",
                    "dtype": "f8"
                  },
                  "textposition": "outside",
                  "type": "bar",
                  "x": [
                    "135 min"
                  ],
                  "xaxis": "x",
                  "y": {
                    "bdata": "JQ==",
                    "dtype": "i1"
                  },
                  "yaxis": "y"
                },
                {
                  "hovertemplate": "color=133 min<br>duration=%{x}<br>Frequency=%{y}<br>text=%{text}<extra></extra>",
                  "legendgroup": "133 min",
                  "marker": {
                    "color": "#E97624",
                    "pattern": {
                      "shape": ""
                    }
                  },
                  "name": "133 min",
                  "orientation": "v",
                  "showlegend": true,
                  "text": {
                    "bdata": "AAAAAAAAQkA=",
                    "dtype": "f8"
                  },
                  "textposition": "outside",
                  "type": "bar",
                  "x": [
                    "133 min"
                  ],
                  "xaxis": "x",
                  "y": {
                    "bdata": "JA==",
                    "dtype": "i1"
                  },
                  "yaxis": "y"
                },
                {
                  "hovertemplate": "color=123 min<br>duration=%{x}<br>Frequency=%{y}<br>text=%{text}<extra></extra>",
                  "legendgroup": "123 min",
                  "marker": {
                    "color": "#AB4928",
                    "pattern": {
                      "shape": ""
                    }
                  },
                  "name": "123 min",
                  "orientation": "v",
                  "showlegend": true,
                  "text": {
                    "bdata": "AAAAAACAQUA=",
                    "dtype": "f8"
                  },
                  "textposition": "outside",
                  "type": "bar",
                  "x": [
                    "123 min"
                  ],
                  "xaxis": "x",
                  "y": {
                    "bdata": "Iw==",
                    "dtype": "i1"
                  },
                  "yaxis": "y"
                },
                {
                  "hovertemplate": "color=79 min<br>duration=%{x}<br>Frequency=%{y}<br>text=%{text}<extra></extra>",
                  "legendgroup": "79 min",
                  "marker": {
                    "color": "#2E1466",
                    "pattern": {
                      "shape": ""
                    }
                  },
                  "name": "79 min",
                  "orientation": "v",
                  "showlegend": true,
                  "text": {
                    "bdata": "AAAAAAAAQUA=",
                    "dtype": "f8"
                  },
                  "textposition": "outside",
                  "type": "bar",
                  "x": [
                    "79 min"
                  ],
                  "xaxis": "x",
                  "y": {
                    "bdata": "Ig==",
                    "dtype": "i1"
                  },
                  "yaxis": "y"
                },
                {
                  "hovertemplate": "color=75 min<br>duration=%{x}<br>Frequency=%{y}<br>text=%{text}<extra></extra>",
                  "legendgroup": "75 min",
                  "marker": {
                    "color": "#32CE0F",
                    "pattern": {
                      "shape": ""
                    }
                  },
                  "name": "75 min",
                  "orientation": "v",
                  "showlegend": true,
                  "text": {
                    "bdata": "AAAAAACAQEA=",
                    "dtype": "f8"
                  },
                  "textposition": "outside",
                  "type": "bar",
                  "x": [
                    "75 min"
                  ],
                  "xaxis": "x",
                  "y": {
                    "bdata": "IQ==",
                    "dtype": "i1"
                  },
                  "yaxis": "y"
                },
                {
                  "hovertemplate": "color=132 min<br>duration=%{x}<br>Frequency=%{y}<br>text=%{text}<extra></extra>",
                  "legendgroup": "132 min",
                  "marker": {
                    "color": "#8EE0F8",
                    "pattern": {
                      "shape": ""
                    }
                  },
                  "name": "132 min",
                  "orientation": "v",
                  "showlegend": true,
                  "text": {
                    "bdata": "AAAAAACAQEA=",
                    "dtype": "f8"
                  },
                  "textposition": "outside",
                  "type": "bar",
                  "x": [
                    "132 min"
                  ],
                  "xaxis": "x",
                  "y": {
                    "bdata": "IQ==",
                    "dtype": "i1"
                  },
                  "yaxis": "y"
                },
                {
                  "hovertemplate": "color=125 min<br>duration=%{x}<br>Frequency=%{y}<br>text=%{text}<extra></extra>",
                  "legendgroup": "125 min",
                  "marker": {
                    "color": "#2A6061",
                    "pattern": {
                      "shape": ""
                    }
                  },
                  "name": "125 min",
                  "orientation": "v",
                  "showlegend": true,
                  "text": {
                    "bdata": "AAAAAAAAQEA=",
                    "dtype": "f8"
                  },
                  "textposition": "outside",
                  "type": "bar",
                  "x": [
                    "125 min"
                  ],
                  "xaxis": "x",
                  "y": {
                    "bdata": "IA==",
                    "dtype": "i1"
                  },
                  "yaxis": "y"
                },
                {
                  "hovertemplate": "color=72 min<br>duration=%{x}<br>Frequency=%{y}<br>text=%{text}<extra></extra>",
                  "legendgroup": "72 min",
                  "marker": {
                    "color": "#8C6F16",
                    "pattern": {
                      "shape": ""
                    }
                  },
                  "name": "72 min",
                  "orientation": "v",
                  "showlegend": true,
                  "text": {
                    "bdata": "AAAAAAAAQEA=",
                    "dtype": "f8"
                  },
                  "textposition": "outside",
                  "type": "bar",
                  "x": [
                    "72 min"
                  ],
                  "xaxis": "x",
                  "y": {
                    "bdata": "IA==",
                    "dtype": "i1"
                  },
                  "yaxis": "y"
                },
                {
                  "hovertemplate": "color=129 min<br>duration=%{x}<br>Frequency=%{y}<br>text=%{text}<extra></extra>",
                  "legendgroup": "129 min",
                  "marker": {
                    "color": "#BC84F4",
                    "pattern": {
                      "shape": ""
                    }
                  },
                  "name": "129 min",
                  "orientation": "v",
                  "showlegend": true,
                  "text": {
                    "bdata": "AAAAAAAAPkA=",
                    "dtype": "f8"
                  },
                  "textposition": "outside",
                  "type": "bar",
                  "x": [
                    "129 min"
                  ],
                  "xaxis": "x",
                  "y": {
                    "bdata": "Hg==",
                    "dtype": "i1"
                  },
                  "yaxis": "y"
                },
                {
                  "hovertemplate": "color=6 Seasons<br>duration=%{x}<br>Frequency=%{y}<br>text=%{text}<extra></extra>",
                  "legendgroup": "6 Seasons",
                  "marker": {
                    "color": "#29C3AB",
                    "pattern": {
                      "shape": ""
                    }
                  },
                  "name": "6 Seasons",
                  "orientation": "v",
                  "showlegend": true,
                  "text": {
                    "bdata": "AAAAAAAAPkA=",
                    "dtype": "f8"
                  },
                  "textposition": "outside",
                  "type": "bar",
                  "x": [
                    "6 Seasons"
                  ],
                  "xaxis": "x",
                  "y": {
                    "bdata": "Hg==",
                    "dtype": "i1"
                  },
                  "yaxis": "y"
                },
                {
                  "hovertemplate": "color=74 min<br>duration=%{x}<br>Frequency=%{y}<br>text=%{text}<extra></extra>",
                  "legendgroup": "74 min",
                  "marker": {
                    "color": "#215DE7",
                    "pattern": {
                      "shape": ""
                    }
                  },
                  "name": "74 min",
                  "orientation": "v",
                  "showlegend": true,
                  "text": {
                    "bdata": "AAAAAAAAPUA=",
                    "dtype": "f8"
                  },
                  "textposition": "outside",
                  "type": "bar",
                  "x": [
                    "74 min"
                  ],
                  "xaxis": "x",
                  "y": {
                    "bdata": "HQ==",
                    "dtype": "i1"
                  },
                  "yaxis": "y"
                },
                {
                  "hovertemplate": "color=63 min<br>duration=%{x}<br>Frequency=%{y}<br>text=%{text}<extra></extra>",
                  "legendgroup": "63 min",
                  "marker": {
                    "color": "#5D0F1D",
                    "pattern": {
                      "shape": ""
                    }
                  },
                  "name": "63 min",
                  "orientation": "v",
                  "showlegend": true,
                  "text": {
                    "bdata": "AAAAAAAAPUA=",
                    "dtype": "f8"
                  },
                  "textposition": "outside",
                  "type": "bar",
                  "x": [
                    "63 min"
                  ],
                  "xaxis": "x",
                  "y": {
                    "bdata": "HQ==",
                    "dtype": "i1"
                  },
                  "yaxis": "y"
                },
                {
                  "hovertemplate": "color=66 min<br>duration=%{x}<br>Frequency=%{y}<br>text=%{text}<extra></extra>",
                  "legendgroup": "66 min",
                  "marker": {
                    "color": "#55F6E9",
                    "pattern": {
                      "shape": ""
                    }
                  },
                  "name": "66 min",
                  "orientation": "v",
                  "showlegend": true,
                  "text": {
                    "bdata": "AAAAAAAAPUA=",
                    "dtype": "f8"
                  },
                  "textposition": "outside",
                  "type": "bar",
                  "x": [
                    "66 min"
                  ],
                  "xaxis": "x",
                  "y": {
                    "bdata": "HQ==",
                    "dtype": "i1"
                  },
                  "yaxis": "y"
                },
                {
                  "hovertemplate": "color=131 min<br>duration=%{x}<br>Frequency=%{y}<br>text=%{text}<extra></extra>",
                  "legendgroup": "131 min",
                  "marker": {
                    "color": "#9A3F66",
                    "pattern": {
                      "shape": ""
                    }
                  },
                  "name": "131 min",
                  "orientation": "v",
                  "showlegend": true,
                  "text": {
                    "bdata": "AAAAAAAAPEA=",
                    "dtype": "f8"
                  },
                  "textposition": "outside",
                  "type": "bar",
                  "x": [
                    "131 min"
                  ],
                  "xaxis": "x",
                  "y": {
                    "bdata": "HA==",
                    "dtype": "i1"
                  },
                  "yaxis": "y"
                },
                {
                  "hovertemplate": "color=77 min<br>duration=%{x}<br>Frequency=%{y}<br>text=%{text}<extra></extra>",
                  "legendgroup": "77 min",
                  "marker": {
                    "color": "#FB4CB7",
                    "pattern": {
                      "shape": ""
                    }
                  },
                  "name": "77 min",
                  "orientation": "v",
                  "showlegend": true,
                  "text": {
                    "bdata": "AAAAAAAAPEA=",
                    "dtype": "f8"
                  },
                  "textposition": "outside",
                  "type": "bar",
                  "x": [
                    "77 min"
                  ],
                  "xaxis": "x",
                  "y": {
                    "bdata": "HA==",
                    "dtype": "i1"
                  },
                  "yaxis": "y"
                },
                {
                  "hovertemplate": "color=61 min<br>duration=%{x}<br>Frequency=%{y}<br>text=%{text}<extra></extra>",
                  "legendgroup": "61 min",
                  "marker": {
                    "color": "#92BACE",
                    "pattern": {
                      "shape": ""
                    }
                  },
                  "name": "61 min",
                  "orientation": "v",
                  "showlegend": true,
                  "text": {
                    "bdata": "AAAAAAAAPEA=",
                    "dtype": "f8"
                  },
                  "textposition": "outside",
                  "type": "bar",
                  "x": [
                    "61 min"
                  ],
                  "xaxis": "x",
                  "y": {
                    "bdata": "HA==",
                    "dtype": "i1"
                  },
                  "yaxis": "y"
                },
                {
                  "hovertemplate": "color=73 min<br>duration=%{x}<br>Frequency=%{y}<br>text=%{text}<extra></extra>",
                  "legendgroup": "73 min",
                  "marker": {
                    "color": "#63E4C3",
                    "pattern": {
                      "shape": ""
                    }
                  },
                  "name": "73 min",
                  "orientation": "v",
                  "showlegend": true,
                  "text": {
                    "bdata": "AAAAAAAAPEA=",
                    "dtype": "f8"
                  },
                  "textposition": "outside",
                  "type": "bar",
                  "x": [
                    "73 min"
                  ],
                  "xaxis": "x",
                  "y": {
                    "bdata": "HA==",
                    "dtype": "i1"
                  },
                  "yaxis": "y"
                },
                {
                  "hovertemplate": "color=69 min<br>duration=%{x}<br>Frequency=%{y}<br>text=%{text}<extra></extra>",
                  "legendgroup": "69 min",
                  "marker": {
                    "color": "#FA5B11",
                    "pattern": {
                      "shape": ""
                    }
                  },
                  "name": "69 min",
                  "orientation": "v",
                  "showlegend": true,
                  "text": {
                    "bdata": "AAAAAAAAO0A=",
                    "dtype": "f8"
                  },
                  "textposition": "outside",
                  "type": "bar",
                  "x": [
                    "69 min"
                  ],
                  "xaxis": "x",
                  "y": {
                    "bdata": "Gw==",
                    "dtype": "i1"
                  },
                  "yaxis": "y"
                },
                {
                  "hovertemplate": "color=60 min<br>duration=%{x}<br>Frequency=%{y}<br>text=%{text}<extra></extra>",
                  "legendgroup": "60 min",
                  "marker": {
                    "color": "#8D50FE",
                    "pattern": {
                      "shape": ""
                    }
                  },
                  "name": "60 min",
                  "orientation": "v",
                  "showlegend": true,
                  "text": {
                    "bdata": "AAAAAAAAOkA=",
                    "dtype": "f8"
                  },
                  "textposition": "outside",
                  "type": "bar",
                  "x": [
                    "60 min"
                  ],
                  "xaxis": "x",
                  "y": {
                    "bdata": "Gg==",
                    "dtype": "i1"
                  },
                  "yaxis": "y"
                },
                {
                  "hovertemplate": "color=71 min<br>duration=%{x}<br>Frequency=%{y}<br>text=%{text}<extra></extra>",
                  "legendgroup": "71 min",
                  "marker": {
                    "color": "#CCAA5E",
                    "pattern": {
                      "shape": ""
                    }
                  },
                  "name": "71 min",
                  "orientation": "v",
                  "showlegend": true,
                  "text": {
                    "bdata": "AAAAAAAAOkA=",
                    "dtype": "f8"
                  },
                  "textposition": "outside",
                  "type": "bar",
                  "x": [
                    "71 min"
                  ],
                  "xaxis": "x",
                  "y": {
                    "bdata": "Gg==",
                    "dtype": "i1"
                  },
                  "yaxis": "y"
                },
                {
                  "hovertemplate": "color=76 min<br>duration=%{x}<br>Frequency=%{y}<br>text=%{text}<extra></extra>",
                  "legendgroup": "76 min",
                  "marker": {
                    "color": "#ABC806",
                    "pattern": {
                      "shape": ""
                    }
                  },
                  "name": "76 min",
                  "orientation": "v",
                  "showlegend": true,
                  "text": {
                    "bdata": "AAAAAAAAOEA=",
                    "dtype": "f8"
                  },
                  "textposition": "outside",
                  "type": "bar",
                  "x": [
                    "76 min"
                  ],
                  "xaxis": "x",
                  "y": {
                    "bdata": "GA==",
                    "dtype": "i1"
                  },
                  "yaxis": "y"
                },
                {
                  "hovertemplate": "color=53 min<br>duration=%{x}<br>Frequency=%{y}<br>text=%{text}<extra></extra>",
                  "legendgroup": "53 min",
                  "marker": {
                    "color": "#36BEF4",
                    "pattern": {
                      "shape": ""
                    }
                  },
                  "name": "53 min",
                  "orientation": "v",
                  "showlegend": true,
                  "text": {
                    "bdata": "AAAAAAAAOEA=",
                    "dtype": "f8"
                  },
                  "textposition": "outside",
                  "type": "bar",
                  "x": [
                    "53 min"
                  ],
                  "xaxis": "x",
                  "y": {
                    "bdata": "GA==",
                    "dtype": "i1"
                  },
                  "yaxis": "y"
                },
                {
                  "hovertemplate": "color=59 min<br>duration=%{x}<br>Frequency=%{y}<br>text=%{text}<extra></extra>",
                  "legendgroup": "59 min",
                  "marker": {
                    "color": "#7B9457",
                    "pattern": {
                      "shape": ""
                    }
                  },
                  "name": "59 min",
                  "orientation": "v",
                  "showlegend": true,
                  "text": {
                    "bdata": "AAAAAAAAOEA=",
                    "dtype": "f8"
                  },
                  "textposition": "outside",
                  "type": "bar",
                  "x": [
                    "59 min"
                  ],
                  "xaxis": "x",
                  "y": {
                    "bdata": "GA==",
                    "dtype": "i1"
                  },
                  "yaxis": "y"
                },
                {
                  "hovertemplate": "color=62 min<br>duration=%{x}<br>Frequency=%{y}<br>text=%{text}<extra></extra>",
                  "legendgroup": "62 min",
                  "marker": {
                    "color": "#535960",
                    "pattern": {
                      "shape": ""
                    }
                  },
                  "name": "62 min",
                  "orientation": "v",
                  "showlegend": true,
                  "text": {
                    "bdata": "AAAAAAAAN0A=",
                    "dtype": "f8"
                  },
                  "textposition": "outside",
                  "type": "bar",
                  "x": [
                    "62 min"
                  ],
                  "xaxis": "x",
                  "y": {
                    "bdata": "Fw==",
                    "dtype": "i1"
                  },
                  "yaxis": "y"
                },
                {
                  "hovertemplate": "color=54 min<br>duration=%{x}<br>Frequency=%{y}<br>text=%{text}<extra></extra>",
                  "legendgroup": "54 min",
                  "marker": {
                    "color": "#3C20A4",
                    "pattern": {
                      "shape": ""
                    }
                  },
                  "name": "54 min",
                  "orientation": "v",
                  "showlegend": true,
                  "text": {
                    "bdata": "AAAAAAAAN0A=",
                    "dtype": "f8"
                  },
                  "textposition": "outside",
                  "type": "bar",
                  "x": [
                    "54 min"
                  ],
                  "xaxis": "x",
                  "y": {
                    "bdata": "Fw==",
                    "dtype": "i1"
                  },
                  "yaxis": "y"
                },
                {
                  "hovertemplate": "color=46 min<br>duration=%{x}<br>Frequency=%{y}<br>text=%{text}<extra></extra>",
                  "legendgroup": "46 min",
                  "marker": {
                    "color": "#152BB9",
                    "pattern": {
                      "shape": ""
                    }
                  },
                  "name": "46 min",
                  "orientation": "v",
                  "showlegend": true,
                  "text": {
                    "bdata": "AAAAAAAAN0A=",
                    "dtype": "f8"
                  },
                  "textposition": "outside",
                  "type": "bar",
                  "x": [
                    "46 min"
                  ],
                  "xaxis": "x",
                  "y": {
                    "bdata": "Fw==",
                    "dtype": "i1"
                  },
                  "yaxis": "y"
                },
                {
                  "hovertemplate": "color=70 min<br>duration=%{x}<br>Frequency=%{y}<br>text=%{text}<extra></extra>",
                  "legendgroup": "70 min",
                  "marker": {
                    "color": "#3DBF6D",
                    "pattern": {
                      "shape": ""
                    }
                  },
                  "name": "70 min",
                  "orientation": "v",
                  "showlegend": true,
                  "text": {
                    "bdata": "AAAAAAAANkA=",
                    "dtype": "f8"
                  },
                  "textposition": "outside",
                  "type": "bar",
                  "x": [
                    "70 min"
                  ],
                  "xaxis": "x",
                  "y": {
                    "bdata": "Fg==",
                    "dtype": "i1"
                  },
                  "yaxis": "y"
                },
                {
                  "hovertemplate": "color=140 min<br>duration=%{x}<br>Frequency=%{y}<br>text=%{text}<extra></extra>",
                  "legendgroup": "140 min",
                  "marker": {
                    "color": "#523579",
                    "pattern": {
                      "shape": ""
                    }
                  },
                  "name": "140 min",
                  "orientation": "v",
                  "showlegend": true,
                  "text": {
                    "bdata": "AAAAAAAANkA=",
                    "dtype": "f8"
                  },
                  "textposition": "outside",
                  "type": "bar",
                  "x": [
                    "140 min"
                  ],
                  "xaxis": "x",
                  "y": {
                    "bdata": "Fg==",
                    "dtype": "i1"
                  },
                  "yaxis": "y"
                },
                {
                  "hovertemplate": "color=65 min<br>duration=%{x}<br>Frequency=%{y}<br>text=%{text}<extra></extra>",
                  "legendgroup": "65 min",
                  "marker": {
                    "color": "#1A7025",
                    "pattern": {
                      "shape": ""
                    }
                  },
                  "name": "65 min",
                  "orientation": "v",
                  "showlegend": true,
                  "text": {
                    "bdata": "AAAAAAAANkA=",
                    "dtype": "f8"
                  },
                  "textposition": "outside",
                  "type": "bar",
                  "x": [
                    "65 min"
                  ],
                  "xaxis": "x",
                  "y": {
                    "bdata": "Fg==",
                    "dtype": "i1"
                  },
                  "yaxis": "y"
                },
                {
                  "hovertemplate": "color=24 min<br>duration=%{x}<br>Frequency=%{y}<br>text=%{text}<extra></extra>",
                  "legendgroup": "24 min",
                  "marker": {
                    "color": "#795C2E",
                    "pattern": {
                      "shape": ""
                    }
                  },
                  "name": "24 min",
                  "orientation": "v",
                  "showlegend": true,
                  "text": {
                    "bdata": "AAAAAAAANkA=",
                    "dtype": "f8"
                  },
                  "textposition": "outside",
                  "type": "bar",
                  "x": [
                    "24 min"
                  ],
                  "xaxis": "x",
                  "y": {
                    "bdata": "Fg==",
                    "dtype": "i1"
                  },
                  "yaxis": "y"
                },
                {
                  "hovertemplate": "color=134 min<br>duration=%{x}<br>Frequency=%{y}<br>text=%{text}<extra></extra>",
                  "legendgroup": "134 min",
                  "marker": {
                    "color": "#CC1915",
                    "pattern": {
                      "shape": ""
                    }
                  },
                  "name": "134 min",
                  "orientation": "v",
                  "showlegend": true,
                  "text": {
                    "bdata": "AAAAAAAANUA=",
                    "dtype": "f8"
                  },
                  "textposition": "outside",
                  "type": "bar",
                  "x": [
                    "134 min"
                  ],
                  "xaxis": "x",
                  "y": {
                    "bdata": "FQ==",
                    "dtype": "i1"
                  },
                  "yaxis": "y"
                },
                {
                  "hovertemplate": "color=58 min<br>duration=%{x}<br>Frequency=%{y}<br>text=%{text}<extra></extra>",
                  "legendgroup": "58 min",
                  "marker": {
                    "color": "#D55DCE",
                    "pattern": {
                      "shape": ""
                    }
                  },
                  "name": "58 min",
                  "orientation": "v",
                  "showlegend": true,
                  "text": {
                    "bdata": "AAAAAAAANUA=",
                    "dtype": "f8"
                  },
                  "textposition": "outside",
                  "type": "bar",
                  "x": [
                    "58 min"
                  ],
                  "xaxis": "x",
                  "y": {
                    "bdata": "FQ==",
                    "dtype": "i1"
                  },
                  "yaxis": "y"
                },
                {
                  "hovertemplate": "color=68 min<br>duration=%{x}<br>Frequency=%{y}<br>text=%{text}<extra></extra>",
                  "legendgroup": "68 min",
                  "marker": {
                    "color": "#1FD082",
                    "pattern": {
                      "shape": ""
                    }
                  },
                  "name": "68 min",
                  "orientation": "v",
                  "showlegend": true,
                  "text": {
                    "bdata": "AAAAAAAANEA=",
                    "dtype": "f8"
                  },
                  "textposition": "outside",
                  "type": "bar",
                  "x": [
                    "68 min"
                  ],
                  "xaxis": "x",
                  "y": {
                    "bdata": "FA==",
                    "dtype": "i1"
                  },
                  "yaxis": "y"
                },
                {
                  "hovertemplate": "color=44 min<br>duration=%{x}<br>Frequency=%{y}<br>text=%{text}<extra></extra>",
                  "legendgroup": "44 min",
                  "marker": {
                    "color": "#57DDB5",
                    "pattern": {
                      "shape": ""
                    }
                  },
                  "name": "44 min",
                  "orientation": "v",
                  "showlegend": true,
                  "text": {
                    "bdata": "AAAAAAAAM0A=",
                    "dtype": "f8"
                  },
                  "textposition": "outside",
                  "type": "bar",
                  "x": [
                    "44 min"
                  ],
                  "xaxis": "x",
                  "y": {
                    "bdata": "Ew==",
                    "dtype": "i1"
                  },
                  "yaxis": "y"
                },
                {
                  "hovertemplate": "color=7 Seasons<br>duration=%{x}<br>Frequency=%{y}<br>text=%{text}<extra></extra>",
                  "legendgroup": "7 Seasons",
                  "marker": {
                    "color": "#3A8BF3",
                    "pattern": {
                      "shape": ""
                    }
                  },
                  "name": "7 Seasons",
                  "orientation": "v",
                  "showlegend": true,
                  "text": {
                    "bdata": "AAAAAAAAM0A=",
                    "dtype": "f8"
                  },
                  "textposition": "outside",
                  "type": "bar",
                  "x": [
                    "7 Seasons"
                  ],
                  "xaxis": "x",
                  "y": {
                    "bdata": "Ew==",
                    "dtype": "i1"
                  },
                  "yaxis": "y"
                },
                {
                  "hovertemplate": "color=52 min<br>duration=%{x}<br>Frequency=%{y}<br>text=%{text}<extra></extra>",
                  "legendgroup": "52 min",
                  "marker": {
                    "color": "#C29292",
                    "pattern": {
                      "shape": ""
                    }
                  },
                  "name": "52 min",
                  "orientation": "v",
                  "showlegend": true,
                  "text": {
                    "bdata": "AAAAAAAAM0A=",
                    "dtype": "f8"
                  },
                  "textposition": "outside",
                  "type": "bar",
                  "x": [
                    "52 min"
                  ],
                  "xaxis": "x",
                  "y": {
                    "bdata": "Ew==",
                    "dtype": "i1"
                  },
                  "yaxis": "y"
                },
                {
                  "hovertemplate": "color=67 min<br>duration=%{x}<br>Frequency=%{y}<br>text=%{text}<extra></extra>",
                  "legendgroup": "67 min",
                  "marker": {
                    "color": "#2FF17A",
                    "pattern": {
                      "shape": ""
                    }
                  },
                  "name": "67 min",
                  "orientation": "v",
                  "showlegend": true,
                  "text": {
                    "bdata": "AAAAAAAAM0A=",
                    "dtype": "f8"
                  },
                  "textposition": "outside",
                  "type": "bar",
                  "x": [
                    "67 min"
                  ],
                  "xaxis": "x",
                  "y": {
                    "bdata": "Ew==",
                    "dtype": "i1"
                  },
                  "yaxis": "y"
                },
                {
                  "hovertemplate": "color=8 Seasons<br>duration=%{x}<br>Frequency=%{y}<br>text=%{text}<extra></extra>",
                  "legendgroup": "8 Seasons",
                  "marker": {
                    "color": "#DD3212",
                    "pattern": {
                      "shape": ""
                    }
                  },
                  "name": "8 Seasons",
                  "orientation": "v",
                  "showlegend": true,
                  "text": {
                    "bdata": "AAAAAAAAMkA=",
                    "dtype": "f8"
                  },
                  "textposition": "outside",
                  "type": "bar",
                  "x": [
                    "8 Seasons"
                  ],
                  "xaxis": "x",
                  "y": {
                    "bdata": "Eg==",
                    "dtype": "i1"
                  },
                  "yaxis": "y"
                },
                {
                  "hovertemplate": "color=148 min<br>duration=%{x}<br>Frequency=%{y}<br>text=%{text}<extra></extra>",
                  "legendgroup": "148 min",
                  "marker": {
                    "color": "#2F3FCC",
                    "pattern": {
                      "shape": ""
                    }
                  },
                  "name": "148 min",
                  "orientation": "v",
                  "showlegend": true,
                  "text": {
                    "bdata": "AAAAAAAAMkA=",
                    "dtype": "f8"
                  },
                  "textposition": "outside",
                  "type": "bar",
                  "x": [
                    "148 min"
                  ],
                  "xaxis": "x",
                  "y": {
                    "bdata": "Eg==",
                    "dtype": "i1"
                  },
                  "yaxis": "y"
                },
                {
                  "hovertemplate": "color=136 min<br>duration=%{x}<br>Frequency=%{y}<br>text=%{text}<extra></extra>",
                  "legendgroup": "136 min",
                  "marker": {
                    "color": "#16C602",
                    "pattern": {
                      "shape": ""
                    }
                  },
                  "name": "136 min",
                  "orientation": "v",
                  "showlegend": true,
                  "text": {
                    "bdata": "AAAAAAAAMkA=",
                    "dtype": "f8"
                  },
                  "textposition": "outside",
                  "type": "bar",
                  "x": [
                    "136 min"
                  ],
                  "xaxis": "x",
                  "y": {
                    "bdata": "Eg==",
                    "dtype": "i1"
                  },
                  "yaxis": "y"
                },
                {
                  "hovertemplate": "color=143 min<br>duration=%{x}<br>Frequency=%{y}<br>text=%{text}<extra></extra>",
                  "legendgroup": "143 min",
                  "marker": {
                    "color": "#D8488D",
                    "pattern": {
                      "shape": ""
                    }
                  },
                  "name": "143 min",
                  "orientation": "v",
                  "showlegend": true,
                  "text": {
                    "bdata": "AAAAAAAAMkA=",
                    "dtype": "f8"
                  },
                  "textposition": "outside",
                  "type": "bar",
                  "x": [
                    "143 min"
                  ],
                  "xaxis": "x",
                  "y": {
                    "bdata": "Eg==",
                    "dtype": "i1"
                  },
                  "yaxis": "y"
                },
                {
                  "hovertemplate": "color=141 min<br>duration=%{x}<br>Frequency=%{y}<br>text=%{text}<extra></extra>",
                  "legendgroup": "141 min",
                  "marker": {
                    "color": "#5B7C56",
                    "pattern": {
                      "shape": ""
                    }
                  },
                  "name": "141 min",
                  "orientation": "v",
                  "showlegend": true,
                  "text": {
                    "bdata": "AAAAAAAAMkA=",
                    "dtype": "f8"
                  },
                  "textposition": "outside",
                  "type": "bar",
                  "x": [
                    "141 min"
                  ],
                  "xaxis": "x",
                  "y": {
                    "bdata": "Eg==",
                    "dtype": "i1"
                  },
                  "yaxis": "y"
                },
                {
                  "hovertemplate": "color=139 min<br>duration=%{x}<br>Frequency=%{y}<br>text=%{text}<extra></extra>",
                  "legendgroup": "139 min",
                  "marker": {
                    "color": "#4D9B4F",
                    "pattern": {
                      "shape": ""
                    }
                  },
                  "name": "139 min",
                  "orientation": "v",
                  "showlegend": true,
                  "text": {
                    "bdata": "AAAAAAAAMUA=",
                    "dtype": "f8"
                  },
                  "textposition": "outside",
                  "type": "bar",
                  "x": [
                    "139 min"
                  ],
                  "xaxis": "x",
                  "y": {
                    "bdata": "EQ==",
                    "dtype": "i1"
                  },
                  "yaxis": "y"
                },
                {
                  "hovertemplate": "color=138 min<br>duration=%{x}<br>Frequency=%{y}<br>text=%{text}<extra></extra>",
                  "legendgroup": "138 min",
                  "marker": {
                    "color": "#965C90",
                    "pattern": {
                      "shape": ""
                    }
                  },
                  "name": "138 min",
                  "orientation": "v",
                  "showlegend": true,
                  "text": {
                    "bdata": "AAAAAAAAMUA=",
                    "dtype": "f8"
                  },
                  "textposition": "outside",
                  "type": "bar",
                  "x": [
                    "138 min"
                  ],
                  "xaxis": "x",
                  "y": {
                    "bdata": "EQ==",
                    "dtype": "i1"
                  },
                  "yaxis": "y"
                },
                {
                  "hovertemplate": "color=150 min<br>duration=%{x}<br>Frequency=%{y}<br>text=%{text}<extra></extra>",
                  "legendgroup": "150 min",
                  "marker": {
                    "color": "#6319EB",
                    "pattern": {
                      "shape": ""
                    }
                  },
                  "name": "150 min",
                  "orientation": "v",
                  "showlegend": true,
                  "text": {
                    "bdata": "AAAAAAAAMUA=",
                    "dtype": "f8"
                  },
                  "textposition": "outside",
                  "type": "bar",
                  "x": [
                    "150 min"
                  ],
                  "xaxis": "x",
                  "y": {
                    "bdata": "EQ==",
                    "dtype": "i1"
                  },
                  "yaxis": "y"
                },
                {
                  "hovertemplate": "color=64 min<br>duration=%{x}<br>Frequency=%{y}<br>text=%{text}<extra></extra>",
                  "legendgroup": "64 min",
                  "marker": {
                    "color": "#D3B947",
                    "pattern": {
                      "shape": ""
                    }
                  },
                  "name": "64 min",
                  "orientation": "v",
                  "showlegend": true,
                  "text": {
                    "bdata": "AAAAAAAAMEA=",
                    "dtype": "f8"
                  },
                  "textposition": "outside",
                  "type": "bar",
                  "x": [
                    "64 min"
                  ],
                  "xaxis": "x",
                  "y": {
                    "bdata": "EA==",
                    "dtype": "i1"
                  },
                  "yaxis": "y"
                },
                {
                  "hovertemplate": "color=22 min<br>duration=%{x}<br>Frequency=%{y}<br>text=%{text}<extra></extra>",
                  "legendgroup": "22 min",
                  "marker": {
                    "color": "#065E92",
                    "pattern": {
                      "shape": ""
                    }
                  },
                  "name": "22 min",
                  "orientation": "v",
                  "showlegend": true,
                  "text": {
                    "bdata": "AAAAAAAALkA=",
                    "dtype": "f8"
                  },
                  "textposition": "outside",
                  "type": "bar",
                  "x": [
                    "22 min"
                  ],
                  "xaxis": "x",
                  "y": {
                    "bdata": "Dw==",
                    "dtype": "i1"
                  },
                  "yaxis": "y"
                },
                {
                  "hovertemplate": "color=55 min<br>duration=%{x}<br>Frequency=%{y}<br>text=%{text}<extra></extra>",
                  "legendgroup": "55 min",
                  "marker": {
                    "color": "#2001F7",
                    "pattern": {
                      "shape": ""
                    }
                  },
                  "name": "55 min",
                  "orientation": "v",
                  "showlegend": true,
                  "text": {
                    "bdata": "AAAAAAAALkA=",
                    "dtype": "f8"
                  },
                  "textposition": "outside",
                  "type": "bar",
                  "x": [
                    "55 min"
                  ],
                  "xaxis": "x",
                  "y": {
                    "bdata": "Dw==",
                    "dtype": "i1"
                  },
                  "yaxis": "y"
                },
                {
                  "hovertemplate": "color=151 min<br>duration=%{x}<br>Frequency=%{y}<br>text=%{text}<extra></extra>",
                  "legendgroup": "151 min",
                  "marker": {
                    "color": "#A20203",
                    "pattern": {
                      "shape": ""
                    }
                  },
                  "name": "151 min",
                  "orientation": "v",
                  "showlegend": true,
                  "text": {
                    "bdata": "AAAAAAAALEA=",
                    "dtype": "f8"
                  },
                  "textposition": "outside",
                  "type": "bar",
                  "x": [
                    "151 min"
                  ],
                  "xaxis": "x",
                  "y": {
                    "bdata": "Dg==",
                    "dtype": "i1"
                  },
                  "yaxis": "y"
                },
                {
                  "hovertemplate": "color=57 min<br>duration=%{x}<br>Frequency=%{y}<br>text=%{text}<extra></extra>",
                  "legendgroup": "57 min",
                  "marker": {
                    "color": "#C8B9B3",
                    "pattern": {
                      "shape": ""
                    }
                  },
                  "name": "57 min",
                  "orientation": "v",
                  "showlegend": true,
                  "text": {
                    "bdata": "AAAAAAAALEA=",
                    "dtype": "f8"
                  },
                  "textposition": "outside",
                  "type": "bar",
                  "x": [
                    "57 min"
                  ],
                  "xaxis": "x",
                  "y": {
                    "bdata": "Dg==",
                    "dtype": "i1"
                  },
                  "yaxis": "y"
                },
                {
                  "hovertemplate": "color=146 min<br>duration=%{x}<br>Frequency=%{y}<br>text=%{text}<extra></extra>",
                  "legendgroup": "146 min",
                  "marker": {
                    "color": "#FC83A1",
                    "pattern": {
                      "shape": ""
                    }
                  },
                  "name": "146 min",
                  "orientation": "v",
                  "showlegend": true,
                  "text": {
                    "bdata": "AAAAAAAAKkA=",
                    "dtype": "f8"
                  },
                  "textposition": "outside",
                  "type": "bar",
                  "x": [
                    "146 min"
                  ],
                  "xaxis": "x",
                  "y": {
                    "bdata": "DQ==",
                    "dtype": "i1"
                  },
                  "yaxis": "y"
                },
                {
                  "hovertemplate": "color=162 min<br>duration=%{x}<br>Frequency=%{y}<br>text=%{text}<extra></extra>",
                  "legendgroup": "162 min",
                  "marker": {
                    "color": "#158582",
                    "pattern": {
                      "shape": ""
                    }
                  },
                  "name": "162 min",
                  "orientation": "v",
                  "showlegend": true,
                  "text": {
                    "bdata": "AAAAAAAAKkA=",
                    "dtype": "f8"
                  },
                  "textposition": "outside",
                  "type": "bar",
                  "x": [
                    "162 min"
                  ],
                  "xaxis": "x",
                  "y": {
                    "bdata": "DQ==",
                    "dtype": "i1"
                  },
                  "yaxis": "y"
                },
                {
                  "hovertemplate": "color=149 min<br>duration=%{x}<br>Frequency=%{y}<br>text=%{text}<extra></extra>",
                  "legendgroup": "149 min",
                  "marker": {
                    "color": "#CBADFB",
                    "pattern": {
                      "shape": ""
                    }
                  },
                  "name": "149 min",
                  "orientation": "v",
                  "showlegend": true,
                  "text": {
                    "bdata": "AAAAAAAAKkA=",
                    "dtype": "f8"
                  },
                  "textposition": "outside",
                  "type": "bar",
                  "x": [
                    "149 min"
                  ],
                  "xaxis": "x",
                  "y": {
                    "bdata": "DQ==",
                    "dtype": "i1"
                  },
                  "yaxis": "y"
                },
                {
                  "hovertemplate": "color=40 min<br>duration=%{x}<br>Frequency=%{y}<br>text=%{text}<extra></extra>",
                  "legendgroup": "40 min",
                  "marker": {
                    "color": "#55C47D",
                    "pattern": {
                      "shape": ""
                    }
                  },
                  "name": "40 min",
                  "orientation": "v",
                  "showlegend": true,
                  "text": {
                    "bdata": "AAAAAAAAKkA=",
                    "dtype": "f8"
                  },
                  "textposition": "outside",
                  "type": "bar",
                  "x": [
                    "40 min"
                  ],
                  "xaxis": "x",
                  "y": {
                    "bdata": "DQ==",
                    "dtype": "i1"
                  },
                  "yaxis": "y"
                },
                {
                  "hovertemplate": "color=154 min<br>duration=%{x}<br>Frequency=%{y}<br>text=%{text}<extra></extra>",
                  "legendgroup": "154 min",
                  "marker": {
                    "color": "#8A4A49",
                    "pattern": {
                      "shape": ""
                    }
                  },
                  "name": "154 min",
                  "orientation": "v",
                  "showlegend": true,
                  "text": {
                    "bdata": "AAAAAAAAKEA=",
                    "dtype": "f8"
                  },
                  "textposition": "outside",
                  "type": "bar",
                  "x": [
                    "154 min"
                  ],
                  "xaxis": "x",
                  "y": {
                    "bdata": "DA==",
                    "dtype": "i1"
                  },
                  "yaxis": "y"
                },
                {
                  "hovertemplate": "color=145 min<br>duration=%{x}<br>Frequency=%{y}<br>text=%{text}<extra></extra>",
                  "legendgroup": "145 min",
                  "marker": {
                    "color": "#8AB78C",
                    "pattern": {
                      "shape": ""
                    }
                  },
                  "name": "145 min",
                  "orientation": "v",
                  "showlegend": true,
                  "text": {
                    "bdata": "AAAAAAAAKEA=",
                    "dtype": "f8"
                  },
                  "textposition": "outside",
                  "type": "bar",
                  "x": [
                    "145 min"
                  ],
                  "xaxis": "x",
                  "y": {
                    "bdata": "DA==",
                    "dtype": "i1"
                  },
                  "yaxis": "y"
                },
                {
                  "hovertemplate": "color=23 min<br>duration=%{x}<br>Frequency=%{y}<br>text=%{text}<extra></extra>",
                  "legendgroup": "23 min",
                  "marker": {
                    "color": "#3B0BE5",
                    "pattern": {
                      "shape": ""
                    }
                  },
                  "name": "23 min",
                  "orientation": "v",
                  "showlegend": true,
                  "text": {
                    "bdata": "AAAAAAAAKEA=",
                    "dtype": "f8"
                  },
                  "textposition": "outside",
                  "type": "bar",
                  "x": [
                    "23 min"
                  ],
                  "xaxis": "x",
                  "y": {
                    "bdata": "DA==",
                    "dtype": "i1"
                  },
                  "yaxis": "y"
                },
                {
                  "hovertemplate": "color=56 min<br>duration=%{x}<br>Frequency=%{y}<br>text=%{text}<extra></extra>",
                  "legendgroup": "56 min",
                  "marker": {
                    "color": "#221BD7",
                    "pattern": {
                      "shape": ""
                    }
                  },
                  "name": "56 min",
                  "orientation": "v",
                  "showlegend": true,
                  "text": {
                    "bdata": "AAAAAAAAKEA=",
                    "dtype": "f8"
                  },
                  "textposition": "outside",
                  "type": "bar",
                  "x": [
                    "56 min"
                  ],
                  "xaxis": "x",
                  "y": {
                    "bdata": "DA==",
                    "dtype": "i1"
                  },
                  "yaxis": "y"
                },
                {
                  "hovertemplate": "color=163 min<br>duration=%{x}<br>Frequency=%{y}<br>text=%{text}<extra></extra>",
                  "legendgroup": "163 min",
                  "marker": {
                    "color": "#828449",
                    "pattern": {
                      "shape": ""
                    }
                  },
                  "name": "163 min",
                  "orientation": "v",
                  "showlegend": true,
                  "text": {
                    "bdata": "AAAAAAAAJkA=",
                    "dtype": "f8"
                  },
                  "textposition": "outside",
                  "type": "bar",
                  "x": [
                    "163 min"
                  ],
                  "xaxis": "x",
                  "y": {
                    "bdata": "Cw==",
                    "dtype": "i1"
                  },
                  "yaxis": "y"
                },
                {
                  "hovertemplate": "color=153 min<br>duration=%{x}<br>Frequency=%{y}<br>text=%{text}<extra></extra>",
                  "legendgroup": "153 min",
                  "marker": {
                    "color": "#9402E9",
                    "pattern": {
                      "shape": ""
                    }
                  },
                  "name": "153 min",
                  "orientation": "v",
                  "showlegend": true,
                  "text": {
                    "bdata": "AAAAAAAAJkA=",
                    "dtype": "f8"
                  },
                  "textposition": "outside",
                  "type": "bar",
                  "x": [
                    "153 min"
                  ],
                  "xaxis": "x",
                  "y": {
                    "bdata": "Cw==",
                    "dtype": "i1"
                  },
                  "yaxis": "y"
                },
                {
                  "hovertemplate": "color=158 min<br>duration=%{x}<br>Frequency=%{y}<br>text=%{text}<extra></extra>",
                  "legendgroup": "158 min",
                  "marker": {
                    "color": "#3641DB",
                    "pattern": {
                      "shape": ""
                    }
                  },
                  "name": "158 min",
                  "orientation": "v",
                  "showlegend": true,
                  "text": {
                    "bdata": "AAAAAAAAJkA=",
                    "dtype": "f8"
                  },
                  "textposition": "outside",
                  "type": "bar",
                  "x": [
                    "158 min"
                  ],
                  "xaxis": "x",
                  "y": {
                    "bdata": "Cw==",
                    "dtype": "i1"
                  },
                  "yaxis": "y"
                },
                {
                  "hovertemplate": "color=142 min<br>duration=%{x}<br>Frequency=%{y}<br>text=%{text}<extra></extra>",
                  "legendgroup": "142 min",
                  "marker": {
                    "color": "#048AE9",
                    "pattern": {
                      "shape": ""
                    }
                  },
                  "name": "142 min",
                  "orientation": "v",
                  "showlegend": true,
                  "text": {
                    "bdata": "AAAAAAAAJkA=",
                    "dtype": "f8"
                  },
                  "textposition": "outside",
                  "type": "bar",
                  "x": [
                    "142 min"
                  ],
                  "xaxis": "x",
                  "y": {
                    "bdata": "Cw==",
                    "dtype": "i1"
                  },
                  "yaxis": "y"
                },
                {
                  "hovertemplate": "color=45 min<br>duration=%{x}<br>Frequency=%{y}<br>text=%{text}<extra></extra>",
                  "legendgroup": "45 min",
                  "marker": {
                    "color": "#784FB6",
                    "pattern": {
                      "shape": ""
                    }
                  },
                  "name": "45 min",
                  "orientation": "v",
                  "showlegend": true,
                  "text": {
                    "bdata": "AAAAAAAAJEA=",
                    "dtype": "f8"
                  },
                  "textposition": "outside",
                  "type": "bar",
                  "x": [
                    "45 min"
                  ],
                  "xaxis": "x",
                  "y": {
                    "bdata": "Cg==",
                    "dtype": "i1"
                  },
                  "yaxis": "y"
                },
                {
                  "hovertemplate": "color=50 min<br>duration=%{x}<br>Frequency=%{y}<br>text=%{text}<extra></extra>",
                  "legendgroup": "50 min",
                  "marker": {
                    "color": "#81CB29",
                    "pattern": {
                      "shape": ""
                    }
                  },
                  "name": "50 min",
                  "orientation": "v",
                  "showlegend": true,
                  "text": {
                    "bdata": "AAAAAAAAJEA=",
                    "dtype": "f8"
                  },
                  "textposition": "outside",
                  "type": "bar",
                  "x": [
                    "50 min"
                  ],
                  "xaxis": "x",
                  "y": {
                    "bdata": "Cg==",
                    "dtype": "i1"
                  },
                  "yaxis": "y"
                },
                {
                  "hovertemplate": "color=147 min<br>duration=%{x}<br>Frequency=%{y}<br>text=%{text}<extra></extra>",
                  "legendgroup": "147 min",
                  "marker": {
                    "color": "#37FC77",
                    "pattern": {
                      "shape": ""
                    }
                  },
                  "name": "147 min",
                  "orientation": "v",
                  "showlegend": true,
                  "text": {
                    "bdata": "AAAAAAAAJEA=",
                    "dtype": "f8"
                  },
                  "textposition": "outside",
                  "type": "bar",
                  "x": [
                    "147 min"
                  ],
                  "xaxis": "x",
                  "y": {
                    "bdata": "Cg==",
                    "dtype": "i1"
                  },
                  "yaxis": "y"
                },
                {
                  "hovertemplate": "color=51 min<br>duration=%{x}<br>Frequency=%{y}<br>text=%{text}<extra></extra>",
                  "legendgroup": "51 min",
                  "marker": {
                    "color": "#D2A96F",
                    "pattern": {
                      "shape": ""
                    }
                  },
                  "name": "51 min",
                  "orientation": "v",
                  "showlegend": true,
                  "text": {
                    "bdata": "AAAAAAAAJEA=",
                    "dtype": "f8"
                  },
                  "textposition": "outside",
                  "type": "bar",
                  "x": [
                    "51 min"
                  ],
                  "xaxis": "x",
                  "y": {
                    "bdata": "Cg==",
                    "dtype": "i1"
                  },
                  "yaxis": "y"
                },
                {
                  "hovertemplate": "color=29 min<br>duration=%{x}<br>Frequency=%{y}<br>text=%{text}<extra></extra>",
                  "legendgroup": "29 min",
                  "marker": {
                    "color": "#E56593",
                    "pattern": {
                      "shape": ""
                    }
                  },
                  "name": "29 min",
                  "orientation": "v",
                  "showlegend": true,
                  "text": {
                    "bdata": "AAAAAAAAJEA=",
                    "dtype": "f8"
                  },
                  "textposition": "outside",
                  "type": "bar",
                  "x": [
                    "29 min"
                  ],
                  "xaxis": "x",
                  "y": {
                    "bdata": "Cg==",
                    "dtype": "i1"
                  },
                  "yaxis": "y"
                },
                {
                  "hovertemplate": "color=25 min<br>duration=%{x}<br>Frequency=%{y}<br>text=%{text}<extra></extra>",
                  "legendgroup": "25 min",
                  "marker": {
                    "color": "#871004",
                    "pattern": {
                      "shape": ""
                    }
                  },
                  "name": "25 min",
                  "orientation": "v",
                  "showlegend": true,
                  "text": {
                    "bdata": "AAAAAAAAJEA=",
                    "dtype": "f8"
                  },
                  "textposition": "outside",
                  "type": "bar",
                  "x": [
                    "25 min"
                  ],
                  "xaxis": "x",
                  "y": {
                    "bdata": "Cg==",
                    "dtype": "i1"
                  },
                  "yaxis": "y"
                },
                {
                  "hovertemplate": "color=28 min<br>duration=%{x}<br>Frequency=%{y}<br>text=%{text}<extra></extra>",
                  "legendgroup": "28 min",
                  "marker": {
                    "color": "#5698D1",
                    "pattern": {
                      "shape": ""
                    }
                  },
                  "name": "28 min",
                  "orientation": "v",
                  "showlegend": true,
                  "text": {
                    "bdata": "AAAAAAAAJEA=",
                    "dtype": "f8"
                  },
                  "textposition": "outside",
                  "type": "bar",
                  "x": [
                    "28 min"
                  ],
                  "xaxis": "x",
                  "y": {
                    "bdata": "Cg==",
                    "dtype": "i1"
                  },
                  "yaxis": "y"
                },
                {
                  "hovertemplate": "color=47 min<br>duration=%{x}<br>Frequency=%{y}<br>text=%{text}<extra></extra>",
                  "legendgroup": "47 min",
                  "marker": {
                    "color": "#8C214F",
                    "pattern": {
                      "shape": ""
                    }
                  },
                  "name": "47 min",
                  "orientation": "v",
                  "showlegend": true,
                  "text": {
                    "bdata": "AAAAAAAAJEA=",
                    "dtype": "f8"
                  },
                  "textposition": "outside",
                  "type": "bar",
                  "x": [
                    "47 min"
                  ],
                  "xaxis": "x",
                  "y": {
                    "bdata": "Cg==",
                    "dtype": "i1"
                  },
                  "yaxis": "y"
                },
                {
                  "hovertemplate": "color=156 min<br>duration=%{x}<br>Frequency=%{y}<br>text=%{text}<extra></extra>",
                  "legendgroup": "156 min",
                  "marker": {
                    "color": "#20C196",
                    "pattern": {
                      "shape": ""
                    }
                  },
                  "name": "156 min",
                  "orientation": "v",
                  "showlegend": true,
                  "text": {
                    "bdata": "AAAAAAAAIkA=",
                    "dtype": "f8"
                  },
                  "textposition": "outside",
                  "type": "bar",
                  "x": [
                    "156 min"
                  ],
                  "xaxis": "x",
                  "y": {
                    "bdata": "CQ==",
                    "dtype": "i1"
                  },
                  "yaxis": "y"
                },
                {
                  "hovertemplate": "color=155 min<br>duration=%{x}<br>Frequency=%{y}<br>text=%{text}<extra></extra>",
                  "legendgroup": "155 min",
                  "marker": {
                    "color": "#B8130F",
                    "pattern": {
                      "shape": ""
                    }
                  },
                  "name": "155 min",
                  "orientation": "v",
                  "showlegend": true,
                  "text": {
                    "bdata": "AAAAAAAAIkA=",
                    "dtype": "f8"
                  },
                  "textposition": "outside",
                  "type": "bar",
                  "x": [
                    "155 min"
                  ],
                  "xaxis": "x",
                  "y": {
                    "bdata": "CQ==",
                    "dtype": "i1"
                  },
                  "yaxis": "y"
                },
                {
                  "hovertemplate": "color=161 min<br>duration=%{x}<br>Frequency=%{y}<br>text=%{text}<extra></extra>",
                  "legendgroup": "161 min",
                  "marker": {
                    "color": "#0E8AC1",
                    "pattern": {
                      "shape": ""
                    }
                  },
                  "name": "161 min",
                  "orientation": "v",
                  "showlegend": true,
                  "text": {
                    "bdata": "AAAAAAAAIkA=",
                    "dtype": "f8"
                  },
                  "textposition": "outside",
                  "type": "bar",
                  "x": [
                    "161 min"
                  ],
                  "xaxis": "x",
                  "y": {
                    "bdata": "CQ==",
                    "dtype": "i1"
                  },
                  "yaxis": "y"
                },
                {
                  "hovertemplate": "color=165 min<br>duration=%{x}<br>Frequency=%{y}<br>text=%{text}<extra></extra>",
                  "legendgroup": "165 min",
                  "marker": {
                    "color": "#37F679",
                    "pattern": {
                      "shape": ""
                    }
                  },
                  "name": "165 min",
                  "orientation": "v",
                  "showlegend": true,
                  "text": {
                    "bdata": "AAAAAAAAIEA=",
                    "dtype": "f8"
                  },
                  "textposition": "outside",
                  "type": "bar",
                  "x": [
                    "165 min"
                  ],
                  "xaxis": "x",
                  "y": {
                    "bdata": "CA==",
                    "dtype": "i1"
                  },
                  "yaxis": "y"
                },
                {
                  "hovertemplate": "color=49 min<br>duration=%{x}<br>Frequency=%{y}<br>text=%{text}<extra></extra>",
                  "legendgroup": "49 min",
                  "marker": {
                    "color": "#58511A",
                    "pattern": {
                      "shape": ""
                    }
                  },
                  "name": "49 min",
                  "orientation": "v",
                  "showlegend": true,
                  "text": {
                    "bdata": "AAAAAAAAIEA=",
                    "dtype": "f8"
                  },
                  "textposition": "outside",
                  "type": "bar",
                  "x": [
                    "49 min"
                  ],
                  "xaxis": "x",
                  "y": {
                    "bdata": "CA==",
                    "dtype": "i1"
                  },
                  "yaxis": "y"
                },
                {
                  "hovertemplate": "color=42 min<br>duration=%{x}<br>Frequency=%{y}<br>text=%{text}<extra></extra>",
                  "legendgroup": "42 min",
                  "marker": {
                    "color": "#C78612",
                    "pattern": {
                      "shape": ""
                    }
                  },
                  "name": "42 min",
                  "orientation": "v",
                  "showlegend": true,
                  "text": {
                    "bdata": "AAAAAAAAIEA=",
                    "dtype": "f8"
                  },
                  "textposition": "outside",
                  "type": "bar",
                  "x": [
                    "42 min"
                  ],
                  "xaxis": "x",
                  "y": {
                    "bdata": "CA==",
                    "dtype": "i1"
                  },
                  "yaxis": "y"
                },
                {
                  "hovertemplate": "color=9 Seasons<br>duration=%{x}<br>Frequency=%{y}<br>text=%{text}<extra></extra>",
                  "legendgroup": "9 Seasons",
                  "marker": {
                    "color": "#9B73B7",
                    "pattern": {
                      "shape": ""
                    }
                  },
                  "name": "9 Seasons",
                  "orientation": "v",
                  "showlegend": true,
                  "text": {
                    "bdata": "AAAAAAAAIEA=",
                    "dtype": "f8"
                  },
                  "textposition": "outside",
                  "type": "bar",
                  "x": [
                    "9 Seasons"
                  ],
                  "xaxis": "x",
                  "y": {
                    "bdata": "CA==",
                    "dtype": "i1"
                  },
                  "yaxis": "y"
                },
                {
                  "hovertemplate": "color=144 min<br>duration=%{x}<br>Frequency=%{y}<br>text=%{text}<extra></extra>",
                  "legendgroup": "144 min",
                  "marker": {
                    "color": "#596D26",
                    "pattern": {
                      "shape": ""
                    }
                  },
                  "name": "144 min",
                  "orientation": "v",
                  "showlegend": true,
                  "text": {
                    "bdata": "AAAAAAAAIEA=",
                    "dtype": "f8"
                  },
                  "textposition": "outside",
                  "type": "bar",
                  "x": [
                    "144 min"
                  ],
                  "xaxis": "x",
                  "y": {
                    "bdata": "CA==",
                    "dtype": "i1"
                  },
                  "yaxis": "y"
                },
                {
                  "hovertemplate": "color=48 min<br>duration=%{x}<br>Frequency=%{y}<br>text=%{text}<extra></extra>",
                  "legendgroup": "48 min",
                  "marker": {
                    "color": "#AD17A3",
                    "pattern": {
                      "shape": ""
                    }
                  },
                  "name": "48 min",
                  "orientation": "v",
                  "showlegend": true,
                  "text": {
                    "bdata": "AAAAAAAAHEA=",
                    "dtype": "f8"
                  },
                  "textposition": "outside",
                  "type": "bar",
                  "x": [
                    "48 min"
                  ],
                  "xaxis": "x",
                  "y": {
                    "bdata": "Bw==",
                    "dtype": "i1"
                  },
                  "yaxis": "y"
                },
                {
                  "hovertemplate": "color=171 min<br>duration=%{x}<br>Frequency=%{y}<br>text=%{text}<extra></extra>",
                  "legendgroup": "171 min",
                  "marker": {
                    "color": "#F5D852",
                    "pattern": {
                      "shape": ""
                    }
                  },
                  "name": "171 min",
                  "orientation": "v",
                  "showlegend": true,
                  "text": {
                    "bdata": "AAAAAAAAHEA=",
                    "dtype": "f8"
                  },
                  "textposition": "outside",
                  "type": "bar",
                  "x": [
                    "171 min"
                  ],
                  "xaxis": "x",
                  "y": {
                    "bdata": "Bw==",
                    "dtype": "i1"
                  },
                  "yaxis": "y"
                },
                {
                  "hovertemplate": "color=166 min<br>duration=%{x}<br>Frequency=%{y}<br>text=%{text}<extra></extra>",
                  "legendgroup": "166 min",
                  "marker": {
                    "color": "#4709A1",
                    "pattern": {
                      "shape": ""
                    }
                  },
                  "name": "166 min",
                  "orientation": "v",
                  "showlegend": true,
                  "text": {
                    "bdata": "AAAAAAAAHEA=",
                    "dtype": "f8"
                  },
                  "textposition": "outside",
                  "type": "bar",
                  "x": [
                    "166 min"
                  ],
                  "xaxis": "x",
                  "y": {
                    "bdata": "Bw==",
                    "dtype": "i1"
                  },
                  "yaxis": "y"
                },
                {
                  "hovertemplate": "color=168 min<br>duration=%{x}<br>Frequency=%{y}<br>text=%{text}<extra></extra>",
                  "legendgroup": "168 min",
                  "marker": {
                    "color": "#0DE8FF",
                    "pattern": {
                      "shape": ""
                    }
                  },
                  "name": "168 min",
                  "orientation": "v",
                  "showlegend": true,
                  "text": {
                    "bdata": "AAAAAAAAHEA=",
                    "dtype": "f8"
                  },
                  "textposition": "outside",
                  "type": "bar",
                  "x": [
                    "168 min"
                  ],
                  "xaxis": "x",
                  "y": {
                    "bdata": "Bw==",
                    "dtype": "i1"
                  },
                  "yaxis": "y"
                },
                {
                  "hovertemplate": "color=32 min<br>duration=%{x}<br>Frequency=%{y}<br>text=%{text}<extra></extra>",
                  "legendgroup": "32 min",
                  "marker": {
                    "color": "#75AD84",
                    "pattern": {
                      "shape": ""
                    }
                  },
                  "name": "32 min",
                  "orientation": "v",
                  "showlegend": true,
                  "text": {
                    "bdata": "AAAAAAAAHEA=",
                    "dtype": "f8"
                  },
                  "textposition": "outside",
                  "type": "bar",
                  "x": [
                    "32 min"
                  ],
                  "xaxis": "x",
                  "y": {
                    "bdata": "Bw==",
                    "dtype": "i1"
                  },
                  "yaxis": "y"
                },
                {
                  "hovertemplate": "color=26 min<br>duration=%{x}<br>Frequency=%{y}<br>text=%{text}<extra></extra>",
                  "legendgroup": "26 min",
                  "marker": {
                    "color": "#0B298C",
                    "pattern": {
                      "shape": ""
                    }
                  },
                  "name": "26 min",
                  "orientation": "v",
                  "showlegend": true,
                  "text": {
                    "bdata": "AAAAAAAAGEA=",
                    "dtype": "f8"
                  },
                  "textposition": "outside",
                  "type": "bar",
                  "x": [
                    "26 min"
                  ],
                  "xaxis": "x",
                  "y": {
                    "bdata": "Bg==",
                    "dtype": "i1"
                  },
                  "yaxis": "y"
                },
                {
                  "hovertemplate": "color=30 min<br>duration=%{x}<br>Frequency=%{y}<br>text=%{text}<extra></extra>",
                  "legendgroup": "30 min",
                  "marker": {
                    "color": "#790590",
                    "pattern": {
                      "shape": ""
                    }
                  },
                  "name": "30 min",
                  "orientation": "v",
                  "showlegend": true,
                  "text": {
                    "bdata": "AAAAAAAAGEA=",
                    "dtype": "f8"
                  },
                  "textposition": "outside",
                  "type": "bar",
                  "x": [
                    "30 min"
                  ],
                  "xaxis": "x",
                  "y": {
                    "bdata": "Bg==",
                    "dtype": "i1"
                  },
                  "yaxis": "y"
                },
                {
                  "hovertemplate": "color=157 min<br>duration=%{x}<br>Frequency=%{y}<br>text=%{text}<extra></extra>",
                  "legendgroup": "157 min",
                  "marker": {
                    "color": "#CF97EA",
                    "pattern": {
                      "shape": ""
                    }
                  },
                  "name": "157 min",
                  "orientation": "v",
                  "showlegend": true,
                  "text": {
                    "bdata": "AAAAAAAAGEA=",
                    "dtype": "f8"
                  },
                  "textposition": "outside",
                  "type": "bar",
                  "x": [
                    "157 min"
                  ],
                  "xaxis": "x",
                  "y": {
                    "bdata": "Bg==",
                    "dtype": "i1"
                  },
                  "yaxis": "y"
                },
                {
                  "hovertemplate": "color=160 min<br>duration=%{x}<br>Frequency=%{y}<br>text=%{text}<extra></extra>",
                  "legendgroup": "160 min",
                  "marker": {
                    "color": "#2752DB",
                    "pattern": {
                      "shape": ""
                    }
                  },
                  "name": "160 min",
                  "orientation": "v",
                  "showlegend": true,
                  "text": {
                    "bdata": "AAAAAAAAGEA=",
                    "dtype": "f8"
                  },
                  "textposition": "outside",
                  "type": "bar",
                  "x": [
                    "160 min"
                  ],
                  "xaxis": "x",
                  "y": {
                    "bdata": "Bg==",
                    "dtype": "i1"
                  },
                  "yaxis": "y"
                },
                {
                  "hovertemplate": "color=159 min<br>duration=%{x}<br>Frequency=%{y}<br>text=%{text}<extra></extra>",
                  "legendgroup": "159 min",
                  "marker": {
                    "color": "#04B4BE",
                    "pattern": {
                      "shape": ""
                    }
                  },
                  "name": "159 min",
                  "orientation": "v",
                  "showlegend": true,
                  "text": {
                    "bdata": "AAAAAAAAGEA=",
                    "dtype": "f8"
                  },
                  "textposition": "outside",
                  "type": "bar",
                  "x": [
                    "159 min"
                  ],
                  "xaxis": "x",
                  "y": {
                    "bdata": "Bg==",
                    "dtype": "i1"
                  },
                  "yaxis": "y"
                },
                {
                  "hovertemplate": "color=10 Seasons<br>duration=%{x}<br>Frequency=%{y}<br>text=%{text}<extra></extra>",
                  "legendgroup": "10 Seasons",
                  "marker": {
                    "color": "#24AA74",
                    "pattern": {
                      "shape": ""
                    }
                  },
                  "name": "10 Seasons",
                  "orientation": "v",
                  "showlegend": true,
                  "text": {
                    "bdata": "AAAAAAAAGEA=",
                    "dtype": "f8"
                  },
                  "textposition": "outside",
                  "type": "bar",
                  "x": [
                    "10 Seasons"
                  ],
                  "xaxis": "x",
                  "y": {
                    "bdata": "Bg==",
                    "dtype": "i1"
                  },
                  "yaxis": "y"
                },
                {
                  "hovertemplate": "color=176 min<br>duration=%{x}<br>Frequency=%{y}<br>text=%{text}<extra></extra>",
                  "legendgroup": "176 min",
                  "marker": {
                    "color": "#9BADFA",
                    "pattern": {
                      "shape": ""
                    }
                  },
                  "name": "176 min",
                  "orientation": "v",
                  "showlegend": true,
                  "text": {
                    "bdata": "AAAAAAAAFEA=",
                    "dtype": "f8"
                  },
                  "textposition": "outside",
                  "type": "bar",
                  "x": [
                    "176 min"
                  ],
                  "xaxis": "x",
                  "y": {
                    "bdata": "BQ==",
                    "dtype": "i1"
                  },
                  "yaxis": "y"
                },
                {
                  "hovertemplate": "color=33 min<br>duration=%{x}<br>Frequency=%{y}<br>text=%{text}<extra></extra>",
                  "legendgroup": "33 min",
                  "marker": {
                    "color": "#3BA8AD",
                    "pattern": {
                      "shape": ""
                    }
                  },
                  "name": "33 min",
                  "orientation": "v",
                  "showlegend": true,
                  "text": {
                    "bdata": "AAAAAAAAFEA=",
                    "dtype": "f8"
                  },
                  "textposition": "outside",
                  "type": "bar",
                  "x": [
                    "33 min"
                  ],
                  "xaxis": "x",
                  "y": {
                    "bdata": "BQ==",
                    "dtype": "i1"
                  },
                  "yaxis": "y"
                },
                {
                  "hovertemplate": "color=173 min<br>duration=%{x}<br>Frequency=%{y}<br>text=%{text}<extra></extra>",
                  "legendgroup": "173 min",
                  "marker": {
                    "color": "#4E081D",
                    "pattern": {
                      "shape": ""
                    }
                  },
                  "name": "173 min",
                  "orientation": "v",
                  "showlegend": true,
                  "text": {
                    "bdata": "AAAAAAAAFEA=",
                    "dtype": "f8"
                  },
                  "textposition": "outside",
                  "type": "bar",
                  "x": [
                    "173 min"
                  ],
                  "xaxis": "x",
                  "y": {
                    "bdata": "BQ==",
                    "dtype": "i1"
                  },
                  "yaxis": "y"
                },
                {
                  "hovertemplate": "color=152 min<br>duration=%{x}<br>Frequency=%{y}<br>text=%{text}<extra></extra>",
                  "legendgroup": "152 min",
                  "marker": {
                    "color": "#ED455A",
                    "pattern": {
                      "shape": ""
                    }
                  },
                  "name": "152 min",
                  "orientation": "v",
                  "showlegend": true,
                  "text": {
                    "bdata": "AAAAAAAAFEA=",
                    "dtype": "f8"
                  },
                  "textposition": "outside",
                  "type": "bar",
                  "x": [
                    "152 min"
                  ],
                  "xaxis": "x",
                  "y": {
                    "bdata": "BQ==",
                    "dtype": "i1"
                  },
                  "yaxis": "y"
                },
                {
                  "hovertemplate": "color=185 min<br>duration=%{x}<br>Frequency=%{y}<br>text=%{text}<extra></extra>",
                  "legendgroup": "185 min",
                  "marker": {
                    "color": "#A59988",
                    "pattern": {
                      "shape": ""
                    }
                  },
                  "name": "185 min",
                  "orientation": "v",
                  "showlegend": true,
                  "text": {
                    "bdata": "AAAAAAAAFEA=",
                    "dtype": "f8"
                  },
                  "textposition": "outside",
                  "type": "bar",
                  "x": [
                    "185 min"
                  ],
                  "xaxis": "x",
                  "y": {
                    "bdata": "BQ==",
                    "dtype": "i1"
                  },
                  "yaxis": "y"
                },
                {
                  "hovertemplate": "color=170 min<br>duration=%{x}<br>Frequency=%{y}<br>text=%{text}<extra></extra>",
                  "legendgroup": "170 min",
                  "marker": {
                    "color": "#6A9B2E",
                    "pattern": {
                      "shape": ""
                    }
                  },
                  "name": "170 min",
                  "orientation": "v",
                  "showlegend": true,
                  "text": {
                    "bdata": "AAAAAAAAFEA=",
                    "dtype": "f8"
                  },
                  "textposition": "outside",
                  "type": "bar",
                  "x": [
                    "170 min"
                  ],
                  "xaxis": "x",
                  "y": {
                    "bdata": "BQ==",
                    "dtype": "i1"
                  },
                  "yaxis": "y"
                },
                {
                  "hovertemplate": "color=164 min<br>duration=%{x}<br>Frequency=%{y}<br>text=%{text}<extra></extra>",
                  "legendgroup": "164 min",
                  "marker": {
                    "color": "#96E439",
                    "pattern": {
                      "shape": ""
                    }
                  },
                  "name": "164 min",
                  "orientation": "v",
                  "showlegend": true,
                  "text": {
                    "bdata": "AAAAAAAAEEA=",
                    "dtype": "f8"
                  },
                  "textposition": "outside",
                  "type": "bar",
                  "x": [
                    "164 min"
                  ],
                  "xaxis": "x",
                  "y": {
                    "bdata": "BA==",
                    "dtype": "i1"
                  },
                  "yaxis": "y"
                },
                {
                  "hovertemplate": "color=177 min<br>duration=%{x}<br>Frequency=%{y}<br>text=%{text}<extra></extra>",
                  "legendgroup": "177 min",
                  "marker": {
                    "color": "#056E4A",
                    "pattern": {
                      "shape": ""
                    }
                  },
                  "name": "177 min",
                  "orientation": "v",
                  "showlegend": true,
                  "text": {
                    "bdata": "AAAAAAAAEEA=",
                    "dtype": "f8"
                  },
                  "textposition": "outside",
                  "type": "bar",
                  "x": [
                    "177 min"
                  ],
                  "xaxis": "x",
                  "y": {
                    "bdata": "BA==",
                    "dtype": "i1"
                  },
                  "yaxis": "y"
                },
                {
                  "hovertemplate": "color=172 min<br>duration=%{x}<br>Frequency=%{y}<br>text=%{text}<extra></extra>",
                  "legendgroup": "172 min",
                  "marker": {
                    "color": "#97A4D1",
                    "pattern": {
                      "shape": ""
                    }
                  },
                  "name": "172 min",
                  "orientation": "v",
                  "showlegend": true,
                  "text": {
                    "bdata": "AAAAAAAAEEA=",
                    "dtype": "f8"
                  },
                  "textposition": "outside",
                  "type": "bar",
                  "x": [
                    "172 min"
                  ],
                  "xaxis": "x",
                  "y": {
                    "bdata": "BA==",
                    "dtype": "i1"
                  },
                  "yaxis": "y"
                },
                {
                  "hovertemplate": "color=38 min<br>duration=%{x}<br>Frequency=%{y}<br>text=%{text}<extra></extra>",
                  "legendgroup": "38 min",
                  "marker": {
                    "color": "#95143C",
                    "pattern": {
                      "shape": ""
                    }
                  },
                  "name": "38 min",
                  "orientation": "v",
                  "showlegend": true,
                  "text": {
                    "bdata": "AAAAAAAAEEA=",
                    "dtype": "f8"
                  },
                  "textposition": "outside",
                  "type": "bar",
                  "x": [
                    "38 min"
                  ],
                  "xaxis": "x",
                  "y": {
                    "bdata": "BA==",
                    "dtype": "i1"
                  },
                  "yaxis": "y"
                },
                {
                  "hovertemplate": "color=27 min<br>duration=%{x}<br>Frequency=%{y}<br>text=%{text}<extra></extra>",
                  "legendgroup": "27 min",
                  "marker": {
                    "color": "#C24612",
                    "pattern": {
                      "shape": ""
                    }
                  },
                  "name": "27 min",
                  "orientation": "v",
                  "showlegend": true,
                  "text": {
                    "bdata": "AAAAAAAACEA=",
                    "dtype": "f8"
                  },
                  "textposition": "outside",
                  "type": "bar",
                  "x": [
                    "27 min"
                  ],
                  "xaxis": "x",
                  "y": {
                    "bdata": "Aw==",
                    "dtype": "i1"
                  },
                  "yaxis": "y"
                },
                {
                  "hovertemplate": "color=35 min<br>duration=%{x}<br>Frequency=%{y}<br>text=%{text}<extra></extra>",
                  "legendgroup": "35 min",
                  "marker": {
                    "color": "#350368",
                    "pattern": {
                      "shape": ""
                    }
                  },
                  "name": "35 min",
                  "orientation": "v",
                  "showlegend": true,
                  "text": {
                    "bdata": "AAAAAAAACEA=",
                    "dtype": "f8"
                  },
                  "textposition": "outside",
                  "type": "bar",
                  "x": [
                    "35 min"
                  ],
                  "xaxis": "x",
                  "y": {
                    "bdata": "Aw==",
                    "dtype": "i1"
                  },
                  "yaxis": "y"
                },
                {
                  "hovertemplate": "color=17 min<br>duration=%{x}<br>Frequency=%{y}<br>text=%{text}<extra></extra>",
                  "legendgroup": "17 min",
                  "marker": {
                    "color": "#9F0D55",
                    "pattern": {
                      "shape": ""
                    }
                  },
                  "name": "17 min",
                  "orientation": "v",
                  "showlegend": true,
                  "text": {
                    "bdata": "AAAAAAAACEA=",
                    "dtype": "f8"
                  },
                  "textposition": "outside",
                  "type": "bar",
                  "x": [
                    "17 min"
                  ],
                  "xaxis": "x",
                  "y": {
                    "bdata": "Aw==",
                    "dtype": "i1"
                  },
                  "yaxis": "y"
                },
                {
                  "hovertemplate": "color=14 min<br>duration=%{x}<br>Frequency=%{y}<br>text=%{text}<extra></extra>",
                  "legendgroup": "14 min",
                  "marker": {
                    "color": "#3D5D84",
                    "pattern": {
                      "shape": ""
                    }
                  },
                  "name": "14 min",
                  "orientation": "v",
                  "showlegend": true,
                  "text": {
                    "bdata": "AAAAAAAACEA=",
                    "dtype": "f8"
                  },
                  "textposition": "outside",
                  "type": "bar",
                  "x": [
                    "14 min"
                  ],
                  "xaxis": "x",
                  "y": {
                    "bdata": "Aw==",
                    "dtype": "i1"
                  },
                  "yaxis": "y"
                },
                {
                  "hovertemplate": "color=41 min<br>duration=%{x}<br>Frequency=%{y}<br>text=%{text}<extra></extra>",
                  "legendgroup": "41 min",
                  "marker": {
                    "color": "#600EBE",
                    "pattern": {
                      "shape": ""
                    }
                  },
                  "name": "41 min",
                  "orientation": "v",
                  "showlegend": true,
                  "text": {
                    "bdata": "AAAAAAAACEA=",
                    "dtype": "f8"
                  },
                  "textposition": "outside",
                  "type": "bar",
                  "x": [
                    "41 min"
                  ],
                  "xaxis": "x",
                  "y": {
                    "bdata": "Aw==",
                    "dtype": "i1"
                  },
                  "yaxis": "y"
                },
                {
                  "hovertemplate": "color=11 Seasons<br>duration=%{x}<br>Frequency=%{y}<br>text=%{text}<extra></extra>",
                  "legendgroup": "11 Seasons",
                  "marker": {
                    "color": "#C3E8FA",
                    "pattern": {
                      "shape": ""
                    }
                  },
                  "name": "11 Seasons",
                  "orientation": "v",
                  "showlegend": true,
                  "text": {
                    "bdata": "AAAAAAAACEA=",
                    "dtype": "f8"
                  },
                  "textposition": "outside",
                  "type": "bar",
                  "x": [
                    "11 Seasons"
                  ],
                  "xaxis": "x",
                  "y": {
                    "bdata": "Aw==",
                    "dtype": "i1"
                  },
                  "yaxis": "y"
                },
                {
                  "hovertemplate": "color=192 min<br>duration=%{x}<br>Frequency=%{y}<br>text=%{text}<extra></extra>",
                  "legendgroup": "192 min",
                  "marker": {
                    "color": "#BA3542",
                    "pattern": {
                      "shape": ""
                    }
                  },
                  "name": "192 min",
                  "orientation": "v",
                  "showlegend": true,
                  "text": {
                    "bdata": "AAAAAAAAAEA=",
                    "dtype": "f8"
                  },
                  "textposition": "outside",
                  "type": "bar",
                  "x": [
                    "192 min"
                  ],
                  "xaxis": "x",
                  "y": {
                    "bdata": "Ag==",
                    "dtype": "i1"
                  },
                  "yaxis": "y"
                },
                {
                  "hovertemplate": "color=15 Seasons<br>duration=%{x}<br>Frequency=%{y}<br>text=%{text}<extra></extra>",
                  "legendgroup": "15 Seasons",
                  "marker": {
                    "color": "#949530",
                    "pattern": {
                      "shape": ""
                    }
                  },
                  "name": "15 Seasons",
                  "orientation": "v",
                  "showlegend": true,
                  "text": {
                    "bdata": "AAAAAAAAAEA=",
                    "dtype": "f8"
                  },
                  "textposition": "outside",
                  "type": "bar",
                  "x": [
                    "15 Seasons"
                  ],
                  "xaxis": "x",
                  "y": {
                    "bdata": "Ag==",
                    "dtype": "i1"
                  },
                  "yaxis": "y"
                },
                {
                  "hovertemplate": "color=179 min<br>duration=%{x}<br>Frequency=%{y}<br>text=%{text}<extra></extra>",
                  "legendgroup": "179 min",
                  "marker": {
                    "color": "#A16380",
                    "pattern": {
                      "shape": ""
                    }
                  },
                  "name": "179 min",
                  "orientation": "v",
                  "showlegend": true,
                  "text": {
                    "bdata": "AAAAAAAAAEA=",
                    "dtype": "f8"
                  },
                  "textposition": "outside",
                  "type": "bar",
                  "x": [
                    "179 min"
                  ],
                  "xaxis": "x",
                  "y": {
                    "bdata": "Ag==",
                    "dtype": "i1"
                  },
                  "yaxis": "y"
                },
                {
                  "hovertemplate": "color=19 min<br>duration=%{x}<br>Frequency=%{y}<br>text=%{text}<extra></extra>",
                  "legendgroup": "19 min",
                  "marker": {
                    "color": "#AE59D7",
                    "pattern": {
                      "shape": ""
                    }
                  },
                  "name": "19 min",
                  "orientation": "v",
                  "showlegend": true,
                  "text": {
                    "bdata": "AAAAAAAAAEA=",
                    "dtype": "f8"
                  },
                  "textposition": "outside",
                  "type": "bar",
                  "x": [
                    "19 min"
                  ],
                  "xaxis": "x",
                  "y": {
                    "bdata": "Ag==",
                    "dtype": "i1"
                  },
                  "yaxis": "y"
                },
                {
                  "hovertemplate": "color=209 min<br>duration=%{x}<br>Frequency=%{y}<br>text=%{text}<extra></extra>",
                  "legendgroup": "209 min",
                  "marker": {
                    "color": "#BDAAF7",
                    "pattern": {
                      "shape": ""
                    }
                  },
                  "name": "209 min",
                  "orientation": "v",
                  "showlegend": true,
                  "text": {
                    "bdata": "AAAAAAAAAEA=",
                    "dtype": "f8"
                  },
                  "textposition": "outside",
                  "type": "bar",
                  "x": [
                    "209 min"
                  ],
                  "xaxis": "x",
                  "y": {
                    "bdata": "Ag==",
                    "dtype": "i1"
                  },
                  "yaxis": "y"
                },
                {
                  "hovertemplate": "color=195 min<br>duration=%{x}<br>Frequency=%{y}<br>text=%{text}<extra></extra>",
                  "legendgroup": "195 min",
                  "marker": {
                    "color": "#6EF70E",
                    "pattern": {
                      "shape": ""
                    }
                  },
                  "name": "195 min",
                  "orientation": "v",
                  "showlegend": true,
                  "text": {
                    "bdata": "AAAAAAAAAEA=",
                    "dtype": "f8"
                  },
                  "textposition": "outside",
                  "type": "bar",
                  "x": [
                    "195 min"
                  ],
                  "xaxis": "x",
                  "y": {
                    "bdata": "Ag==",
                    "dtype": "i1"
                  },
                  "yaxis": "y"
                },
                {
                  "hovertemplate": "color=187 min<br>duration=%{x}<br>Frequency=%{y}<br>text=%{text}<extra></extra>",
                  "legendgroup": "187 min",
                  "marker": {
                    "color": "#CD1F29",
                    "pattern": {
                      "shape": ""
                    }
                  },
                  "name": "187 min",
                  "orientation": "v",
                  "showlegend": true,
                  "text": {
                    "bdata": "AAAAAAAAAEA=",
                    "dtype": "f8"
                  },
                  "textposition": "outside",
                  "type": "bar",
                  "x": [
                    "187 min"
                  ],
                  "xaxis": "x",
                  "y": {
                    "bdata": "Ag==",
                    "dtype": "i1"
                  },
                  "yaxis": "y"
                },
                {
                  "hovertemplate": "color=190 min<br>duration=%{x}<br>Frequency=%{y}<br>text=%{text}<extra></extra>",
                  "legendgroup": "190 min",
                  "marker": {
                    "color": "#6CA2AA",
                    "pattern": {
                      "shape": ""
                    }
                  },
                  "name": "190 min",
                  "orientation": "v",
                  "showlegend": true,
                  "text": {
                    "bdata": "AAAAAAAAAEA=",
                    "dtype": "f8"
                  },
                  "textposition": "outside",
                  "type": "bar",
                  "x": [
                    "190 min"
                  ],
                  "xaxis": "x",
                  "y": {
                    "bdata": "Ag==",
                    "dtype": "i1"
                  },
                  "yaxis": "y"
                },
                {
                  "hovertemplate": "color=181 min<br>duration=%{x}<br>Frequency=%{y}<br>text=%{text}<extra></extra>",
                  "legendgroup": "181 min",
                  "marker": {
                    "color": "#C951D1",
                    "pattern": {
                      "shape": ""
                    }
                  },
                  "name": "181 min",
                  "orientation": "v",
                  "showlegend": true,
                  "text": {
                    "bdata": "AAAAAAAAAEA=",
                    "dtype": "f8"
                  },
                  "textposition": "outside",
                  "type": "bar",
                  "x": [
                    "181 min"
                  ],
                  "xaxis": "x",
                  "y": {
                    "bdata": "Ag==",
                    "dtype": "i1"
                  },
                  "yaxis": "y"
                },
                {
                  "hovertemplate": "color=31 min<br>duration=%{x}<br>Frequency=%{y}<br>text=%{text}<extra></extra>",
                  "legendgroup": "31 min",
                  "marker": {
                    "color": "#AFB252",
                    "pattern": {
                      "shape": ""
                    }
                  },
                  "name": "31 min",
                  "orientation": "v",
                  "showlegend": true,
                  "text": {
                    "bdata": "AAAAAAAAAEA=",
                    "dtype": "f8"
                  },
                  "textposition": "outside",
                  "type": "bar",
                  "x": [
                    "31 min"
                  ],
                  "xaxis": "x",
                  "y": {
                    "bdata": "Ag==",
                    "dtype": "i1"
                  },
                  "yaxis": "y"
                },
                {
                  "hovertemplate": "color=15 min<br>duration=%{x}<br>Frequency=%{y}<br>text=%{text}<extra></extra>",
                  "legendgroup": "15 min",
                  "marker": {
                    "color": "#3434A4",
                    "pattern": {
                      "shape": ""
                    }
                  },
                  "name": "15 min",
                  "orientation": "v",
                  "showlegend": true,
                  "text": {
                    "bdata": "AAAAAAAAAEA=",
                    "dtype": "f8"
                  },
                  "textposition": "outside",
                  "type": "bar",
                  "x": [
                    "15 min"
                  ],
                  "xaxis": "x",
                  "y": {
                    "bdata": "Ag==",
                    "dtype": "i1"
                  },
                  "yaxis": "y"
                },
                {
                  "hovertemplate": "color=169 min<br>duration=%{x}<br>Frequency=%{y}<br>text=%{text}<extra></extra>",
                  "legendgroup": "169 min",
                  "marker": {
                    "color": "#D88077",
                    "pattern": {
                      "shape": ""
                    }
                  },
                  "name": "169 min",
                  "orientation": "v",
                  "showlegend": true,
                  "text": {
                    "bdata": "AAAAAAAAAEA=",
                    "dtype": "f8"
                  },
                  "textposition": "outside",
                  "type": "bar",
                  "x": [
                    "169 min"
                  ],
                  "xaxis": "x",
                  "y": {
                    "bdata": "Ag==",
                    "dtype": "i1"
                  },
                  "yaxis": "y"
                },
                {
                  "hovertemplate": "color=12 Seasons<br>duration=%{x}<br>Frequency=%{y}<br>text=%{text}<extra></extra>",
                  "legendgroup": "12 Seasons",
                  "marker": {
                    "color": "#0BA822",
                    "pattern": {
                      "shape": ""
                    }
                  },
                  "name": "12 Seasons",
                  "orientation": "v",
                  "showlegend": true,
                  "text": {
                    "bdata": "AAAAAAAAAEA=",
                    "dtype": "f8"
                  },
                  "textposition": "outside",
                  "type": "bar",
                  "x": [
                    "12 Seasons"
                  ],
                  "xaxis": "x",
                  "y": {
                    "bdata": "Ag==",
                    "dtype": "i1"
                  },
                  "yaxis": "y"
                },
                {
                  "hovertemplate": "color=180 min<br>duration=%{x}<br>Frequency=%{y}<br>text=%{text}<extra></extra>",
                  "legendgroup": "180 min",
                  "marker": {
                    "color": "#4B14DC",
                    "pattern": {
                      "shape": ""
                    }
                  },
                  "name": "180 min",
                  "orientation": "v",
                  "showlegend": true,
                  "text": {
                    "bdata": "AAAAAAAAAEA=",
                    "dtype": "f8"
                  },
                  "textposition": "outside",
                  "type": "bar",
                  "x": [
                    "180 min"
                  ],
                  "xaxis": "x",
                  "y": {
                    "bdata": "Ag==",
                    "dtype": "i1"
                  },
                  "yaxis": "y"
                },
                {
                  "hovertemplate": "color=20 min<br>duration=%{x}<br>Frequency=%{y}<br>text=%{text}<extra></extra>",
                  "legendgroup": "20 min",
                  "marker": {
                    "color": "#4928FB",
                    "pattern": {
                      "shape": ""
                    }
                  },
                  "name": "20 min",
                  "orientation": "v",
                  "showlegend": true,
                  "text": {
                    "bdata": "AAAAAAAAAEA=",
                    "dtype": "f8"
                  },
                  "textposition": "outside",
                  "type": "bar",
                  "x": [
                    "20 min"
                  ],
                  "xaxis": "x",
                  "y": {
                    "bdata": "Ag==",
                    "dtype": "i1"
                  },
                  "yaxis": "y"
                },
                {
                  "hovertemplate": "color=21 min<br>duration=%{x}<br>Frequency=%{y}<br>text=%{text}<extra></extra>",
                  "legendgroup": "21 min",
                  "marker": {
                    "color": "#308E73",
                    "pattern": {
                      "shape": ""
                    }
                  },
                  "name": "21 min",
                  "orientation": "v",
                  "showlegend": true,
                  "text": {
                    "bdata": "AAAAAAAAAEA=",
                    "dtype": "f8"
                  },
                  "textposition": "outside",
                  "type": "bar",
                  "x": [
                    "21 min"
                  ],
                  "xaxis": "x",
                  "y": {
                    "bdata": "Ag==",
                    "dtype": "i1"
                  },
                  "yaxis": "y"
                },
                {
                  "hovertemplate": "color=11 min<br>duration=%{x}<br>Frequency=%{y}<br>text=%{text}<extra></extra>",
                  "legendgroup": "11 min",
                  "marker": {
                    "color": "#35E5FD",
                    "pattern": {
                      "shape": ""
                    }
                  },
                  "name": "11 min",
                  "orientation": "v",
                  "showlegend": true,
                  "text": {
                    "bdata": "AAAAAAAAAEA=",
                    "dtype": "f8"
                  },
                  "textposition": "outside",
                  "type": "bar",
                  "x": [
                    "11 min"
                  ],
                  "xaxis": "x",
                  "y": {
                    "bdata": "Ag==",
                    "dtype": "i1"
                  },
                  "yaxis": "y"
                },
                {
                  "hovertemplate": "color=174 min<br>duration=%{x}<br>Frequency=%{y}<br>text=%{text}<extra></extra>",
                  "legendgroup": "174 min",
                  "marker": {
                    "color": "#539066",
                    "pattern": {
                      "shape": ""
                    }
                  },
                  "name": "174 min",
                  "orientation": "v",
                  "showlegend": true,
                  "text": {
                    "bdata": "AAAAAAAAAEA=",
                    "dtype": "f8"
                  },
                  "textposition": "outside",
                  "type": "bar",
                  "x": [
                    "174 min"
                  ],
                  "xaxis": "x",
                  "y": {
                    "bdata": "Ag==",
                    "dtype": "i1"
                  },
                  "yaxis": "y"
                },
                {
                  "hovertemplate": "color=13 Seasons<br>duration=%{x}<br>Frequency=%{y}<br>text=%{text}<extra></extra>",
                  "legendgroup": "13 Seasons",
                  "marker": {
                    "color": "#1BF0F8",
                    "pattern": {
                      "shape": ""
                    }
                  },
                  "name": "13 Seasons",
                  "orientation": "v",
                  "showlegend": true,
                  "text": {
                    "bdata": "AAAAAAAAAEA=",
                    "dtype": "f8"
                  },
                  "textposition": "outside",
                  "type": "bar",
                  "x": [
                    "13 Seasons"
                  ],
                  "xaxis": "x",
                  "y": {
                    "bdata": "Ag==",
                    "dtype": "i1"
                  },
                  "yaxis": "y"
                },
                {
                  "hovertemplate": "color=12 min<br>duration=%{x}<br>Frequency=%{y}<br>text=%{text}<extra></extra>",
                  "legendgroup": "12 min",
                  "marker": {
                    "color": "#FC932F",
                    "pattern": {
                      "shape": ""
                    }
                  },
                  "name": "12 min",
                  "orientation": "v",
                  "showlegend": true,
                  "text": {
                    "bdata": "AAAAAAAAAEA=",
                    "dtype": "f8"
                  },
                  "textposition": "outside",
                  "type": "bar",
                  "x": [
                    "12 min"
                  ],
                  "xaxis": "x",
                  "y": {
                    "bdata": "Ag==",
                    "dtype": "i1"
                  },
                  "yaxis": "y"
                },
                {
                  "hovertemplate": "color=37 min<br>duration=%{x}<br>Frequency=%{y}<br>text=%{text}<extra></extra>",
                  "legendgroup": "37 min",
                  "marker": {
                    "color": "#B3B128",
                    "pattern": {
                      "shape": ""
                    }
                  },
                  "name": "37 min",
                  "orientation": "v",
                  "showlegend": true,
                  "text": {
                    "bdata": "AAAAAAAAAEA=",
                    "dtype": "f8"
                  },
                  "textposition": "outside",
                  "type": "bar",
                  "x": [
                    "37 min"
                  ],
                  "xaxis": "x",
                  "y": {
                    "bdata": "Ag==",
                    "dtype": "i1"
                  },
                  "yaxis": "y"
                },
                {
                  "hovertemplate": "color=34 min<br>duration=%{x}<br>Frequency=%{y}<br>text=%{text}<extra></extra>",
                  "legendgroup": "34 min",
                  "marker": {
                    "color": "#B6F76D",
                    "pattern": {
                      "shape": ""
                    }
                  },
                  "name": "34 min",
                  "orientation": "v",
                  "showlegend": true,
                  "text": {
                    "bdata": "AAAAAAAAAEA=",
                    "dtype": "f8"
                  },
                  "textposition": "outside",
                  "type": "bar",
                  "x": [
                    "34 min"
                  ],
                  "xaxis": "x",
                  "y": {
                    "bdata": "Ag==",
                    "dtype": "i1"
                  },
                  "yaxis": "y"
                },
                {
                  "hovertemplate": "color=5 min<br>duration=%{x}<br>Frequency=%{y}<br>text=%{text}<extra></extra>",
                  "legendgroup": "5 min",
                  "marker": {
                    "color": "#3DC72D",
                    "pattern": {
                      "shape": ""
                    }
                  },
                  "name": "5 min",
                  "orientation": "v",
                  "showlegend": true,
                  "text": {
                    "bdata": "AAAAAAAA8D8=",
                    "dtype": "f8"
                  },
                  "textposition": "outside",
                  "type": "bar",
                  "x": [
                    "5 min"
                  ],
                  "xaxis": "x",
                  "y": {
                    "bdata": "AQ==",
                    "dtype": "i1"
                  },
                  "yaxis": "y"
                },
                {
                  "hovertemplate": "color=16 min<br>duration=%{x}<br>Frequency=%{y}<br>text=%{text}<extra></extra>",
                  "legendgroup": "16 min",
                  "marker": {
                    "color": "#C793AA",
                    "pattern": {
                      "shape": ""
                    }
                  },
                  "name": "16 min",
                  "orientation": "v",
                  "showlegend": true,
                  "text": {
                    "bdata": "AAAAAAAA8D8=",
                    "dtype": "f8"
                  },
                  "textposition": "outside",
                  "type": "bar",
                  "x": [
                    "16 min"
                  ],
                  "xaxis": "x",
                  "y": {
                    "bdata": "AQ==",
                    "dtype": "i1"
                  },
                  "yaxis": "y"
                },
                {
                  "hovertemplate": "color=237 min<br>duration=%{x}<br>Frequency=%{y}<br>text=%{text}<extra></extra>",
                  "legendgroup": "237 min",
                  "marker": {
                    "color": "#F24647",
                    "pattern": {
                      "shape": ""
                    }
                  },
                  "name": "237 min",
                  "orientation": "v",
                  "showlegend": true,
                  "text": {
                    "bdata": "AAAAAAAA8D8=",
                    "dtype": "f8"
                  },
                  "textposition": "outside",
                  "type": "bar",
                  "x": [
                    "237 min"
                  ],
                  "xaxis": "x",
                  "y": {
                    "bdata": "AQ==",
                    "dtype": "i1"
                  },
                  "yaxis": "y"
                },
                {
                  "hovertemplate": "color=3 min<br>duration=%{x}<br>Frequency=%{y}<br>text=%{text}<extra></extra>",
                  "legendgroup": "3 min",
                  "marker": {
                    "color": "#14C01C",
                    "pattern": {
                      "shape": ""
                    }
                  },
                  "name": "3 min",
                  "orientation": "v",
                  "showlegend": true,
                  "text": {
                    "bdata": "AAAAAAAA8D8=",
                    "dtype": "f8"
                  },
                  "textposition": "outside",
                  "type": "bar",
                  "x": [
                    "3 min"
                  ],
                  "xaxis": "x",
                  "y": {
                    "bdata": "AQ==",
                    "dtype": "i1"
                  },
                  "yaxis": "y"
                },
                {
                  "hovertemplate": "color=10 min<br>duration=%{x}<br>Frequency=%{y}<br>text=%{text}<extra></extra>",
                  "legendgroup": "10 min",
                  "marker": {
                    "color": "#C97958",
                    "pattern": {
                      "shape": ""
                    }
                  },
                  "name": "10 min",
                  "orientation": "v",
                  "showlegend": true,
                  "text": {
                    "bdata": "AAAAAAAA8D8=",
                    "dtype": "f8"
                  },
                  "textposition": "outside",
                  "type": "bar",
                  "x": [
                    "10 min"
                  ],
                  "xaxis": "x",
                  "y": {
                    "bdata": "AQ==",
                    "dtype": "i1"
                  },
                  "yaxis": "y"
                },
                {
                  "hovertemplate": "color=36 min<br>duration=%{x}<br>Frequency=%{y}<br>text=%{text}<extra></extra>",
                  "legendgroup": "36 min",
                  "marker": {
                    "color": "#76BCF5",
                    "pattern": {
                      "shape": ""
                    }
                  },
                  "name": "36 min",
                  "orientation": "v",
                  "showlegend": true,
                  "text": {
                    "bdata": "AAAAAAAA8D8=",
                    "dtype": "f8"
                  },
                  "textposition": "outside",
                  "type": "bar",
                  "x": [
                    "36 min"
                  ],
                  "xaxis": "x",
                  "y": {
                    "bdata": "AQ==",
                    "dtype": "i1"
                  },
                  "yaxis": "y"
                },
                {
                  "hovertemplate": "color=18 min<br>duration=%{x}<br>Frequency=%{y}<br>text=%{text}<extra></extra>",
                  "legendgroup": "18 min",
                  "marker": {
                    "color": "#E4018D",
                    "pattern": {
                      "shape": ""
                    }
                  },
                  "name": "18 min",
                  "orientation": "v",
                  "showlegend": true,
                  "text": {
                    "bdata": "AAAAAAAA8D8=",
                    "dtype": "f8"
                  },
                  "textposition": "outside",
                  "type": "bar",
                  "x": [
                    "18 min"
                  ],
                  "xaxis": "x",
                  "y": {
                    "bdata": "AQ==",
                    "dtype": "i1"
                  },
                  "yaxis": "y"
                },
                {
                  "hovertemplate": "color=201 min<br>duration=%{x}<br>Frequency=%{y}<br>text=%{text}<extra></extra>",
                  "legendgroup": "201 min",
                  "marker": {
                    "color": "#05404E",
                    "pattern": {
                      "shape": ""
                    }
                  },
                  "name": "201 min",
                  "orientation": "v",
                  "showlegend": true,
                  "text": {
                    "bdata": "AAAAAAAA8D8=",
                    "dtype": "f8"
                  },
                  "textposition": "outside",
                  "type": "bar",
                  "x": [
                    "201 min"
                  ],
                  "xaxis": "x",
                  "y": {
                    "bdata": "AQ==",
                    "dtype": "i1"
                  },
                  "yaxis": "y"
                },
                {
                  "hovertemplate": "color=228 min<br>duration=%{x}<br>Frequency=%{y}<br>text=%{text}<extra></extra>",
                  "legendgroup": "228 min",
                  "marker": {
                    "color": "#E5888A",
                    "pattern": {
                      "shape": ""
                    }
                  },
                  "name": "228 min",
                  "orientation": "v",
                  "showlegend": true,
                  "text": {
                    "bdata": "AAAAAAAA8D8=",
                    "dtype": "f8"
                  },
                  "textposition": "outside",
                  "type": "bar",
                  "x": [
                    "228 min"
                  ],
                  "xaxis": "x",
                  "y": {
                    "bdata": "AQ==",
                    "dtype": "i1"
                  },
                  "yaxis": "y"
                },
                {
                  "hovertemplate": "color=194 min<br>duration=%{x}<br>Frequency=%{y}<br>text=%{text}<extra></extra>",
                  "legendgroup": "194 min",
                  "marker": {
                    "color": "#2DA6B8",
                    "pattern": {
                      "shape": ""
                    }
                  },
                  "name": "194 min",
                  "orientation": "v",
                  "showlegend": true,
                  "text": {
                    "bdata": "AAAAAAAA8D8=",
                    "dtype": "f8"
                  },
                  "textposition": "outside",
                  "type": "bar",
                  "x": [
                    "194 min"
                  ],
                  "xaxis": "x",
                  "y": {
                    "bdata": "AQ==",
                    "dtype": "i1"
                  },
                  "yaxis": "y"
                },
                {
                  "hovertemplate": "color=230 min<br>duration=%{x}<br>Frequency=%{y}<br>text=%{text}<extra></extra>",
                  "legendgroup": "230 min",
                  "marker": {
                    "color": "#C15CA2",
                    "pattern": {
                      "shape": ""
                    }
                  },
                  "name": "230 min",
                  "orientation": "v",
                  "showlegend": true,
                  "text": {
                    "bdata": "AAAAAAAA8D8=",
                    "dtype": "f8"
                  },
                  "textposition": "outside",
                  "type": "bar",
                  "x": [
                    "230 min"
                  ],
                  "xaxis": "x",
                  "y": {
                    "bdata": "AQ==",
                    "dtype": "i1"
                  },
                  "yaxis": "y"
                },
                {
                  "hovertemplate": "color=178 min<br>duration=%{x}<br>Frequency=%{y}<br>text=%{text}<extra></extra>",
                  "legendgroup": "178 min",
                  "marker": {
                    "color": "#04AFF2",
                    "pattern": {
                      "shape": ""
                    }
                  },
                  "name": "178 min",
                  "orientation": "v",
                  "showlegend": true,
                  "text": {
                    "bdata": "AAAAAAAA8D8=",
                    "dtype": "f8"
                  },
                  "textposition": "outside",
                  "type": "bar",
                  "x": [
                    "178 min"
                  ],
                  "xaxis": "x",
                  "y": {
                    "bdata": "AQ==",
                    "dtype": "i1"
                  },
                  "yaxis": "y"
                },
                {
                  "hovertemplate": "color=253 min<br>duration=%{x}<br>Frequency=%{y}<br>text=%{text}<extra></extra>",
                  "legendgroup": "253 min",
                  "marker": {
                    "color": "#E2821E",
                    "pattern": {
                      "shape": ""
                    }
                  },
                  "name": "253 min",
                  "orientation": "v",
                  "showlegend": true,
                  "text": {
                    "bdata": "AAAAAAAA8D8=",
                    "dtype": "f8"
                  },
                  "textposition": "outside",
                  "type": "bar",
                  "x": [
                    "253 min"
                  ],
                  "xaxis": "x",
                  "y": {
                    "bdata": "AQ==",
                    "dtype": "i1"
                  },
                  "yaxis": "y"
                },
                {
                  "hovertemplate": "color=203 min<br>duration=%{x}<br>Frequency=%{y}<br>text=%{text}<extra></extra>",
                  "legendgroup": "203 min",
                  "marker": {
                    "color": "#E92508",
                    "pattern": {
                      "shape": ""
                    }
                  },
                  "name": "203 min",
                  "orientation": "v",
                  "showlegend": true,
                  "text": {
                    "bdata": "AAAAAAAA8D8=",
                    "dtype": "f8"
                  },
                  "textposition": "outside",
                  "type": "bar",
                  "x": [
                    "203 min"
                  ],
                  "xaxis": "x",
                  "y": {
                    "bdata": "AQ==",
                    "dtype": "i1"
                  },
                  "yaxis": "y"
                },
                {
                  "hovertemplate": "color=205 min<br>duration=%{x}<br>Frequency=%{y}<br>text=%{text}<extra></extra>",
                  "legendgroup": "205 min",
                  "marker": {
                    "color": "#B7EDC2",
                    "pattern": {
                      "shape": ""
                    }
                  },
                  "name": "205 min",
                  "orientation": "v",
                  "showlegend": true,
                  "text": {
                    "bdata": "AAAAAAAA8D8=",
                    "dtype": "f8"
                  },
                  "textposition": "outside",
                  "type": "bar",
                  "x": [
                    "205 min"
                  ],
                  "xaxis": "x",
                  "y": {
                    "bdata": "AQ==",
                    "dtype": "i1"
                  },
                  "yaxis": "y"
                },
                {
                  "hovertemplate": "color=189 min<br>duration=%{x}<br>Frequency=%{y}<br>text=%{text}<extra></extra>",
                  "legendgroup": "189 min",
                  "marker": {
                    "color": "#CA3431",
                    "pattern": {
                      "shape": ""
                    }
                  },
                  "name": "189 min",
                  "orientation": "v",
                  "showlegend": true,
                  "text": {
                    "bdata": "AAAAAAAA8D8=",
                    "dtype": "f8"
                  },
                  "textposition": "outside",
                  "type": "bar",
                  "x": [
                    "189 min"
                  ],
                  "xaxis": "x",
                  "y": {
                    "bdata": "AQ==",
                    "dtype": "i1"
                  },
                  "yaxis": "y"
                },
                {
                  "hovertemplate": "color=208 min<br>duration=%{x}<br>Frequency=%{y}<br>text=%{text}<extra></extra>",
                  "legendgroup": "208 min",
                  "marker": {
                    "color": "#A1858C",
                    "pattern": {
                      "shape": ""
                    }
                  },
                  "name": "208 min",
                  "orientation": "v",
                  "showlegend": true,
                  "text": {
                    "bdata": "AAAAAAAA8D8=",
                    "dtype": "f8"
                  },
                  "textposition": "outside",
                  "type": "bar",
                  "x": [
                    "208 min"
                  ],
                  "xaxis": "x",
                  "y": {
                    "bdata": "AQ==",
                    "dtype": "i1"
                  },
                  "yaxis": "y"
                },
                {
                  "hovertemplate": "color=312 min<br>duration=%{x}<br>Frequency=%{y}<br>text=%{text}<extra></extra>",
                  "legendgroup": "312 min",
                  "marker": {
                    "color": "#05DD3B",
                    "pattern": {
                      "shape": ""
                    }
                  },
                  "name": "312 min",
                  "orientation": "v",
                  "showlegend": true,
                  "text": {
                    "bdata": "AAAAAAAA8D8=",
                    "dtype": "f8"
                  },
                  "textposition": "outside",
                  "type": "bar",
                  "x": [
                    "312 min"
                  ],
                  "xaxis": "x",
                  "y": {
                    "bdata": "AQ==",
                    "dtype": "i1"
                  },
                  "yaxis": "y"
                },
                {
                  "hovertemplate": "color=186 min<br>duration=%{x}<br>Frequency=%{y}<br>text=%{text}<extra></extra>",
                  "legendgroup": "186 min",
                  "marker": {
                    "color": "#7A2362",
                    "pattern": {
                      "shape": ""
                    }
                  },
                  "name": "186 min",
                  "orientation": "v",
                  "showlegend": true,
                  "text": {
                    "bdata": "AAAAAAAA8D8=",
                    "dtype": "f8"
                  },
                  "textposition": "outside",
                  "type": "bar",
                  "x": [
                    "186 min"
                  ],
                  "xaxis": "x",
                  "y": {
                    "bdata": "AQ==",
                    "dtype": "i1"
                  },
                  "yaxis": "y"
                },
                {
                  "hovertemplate": "color=200 min<br>duration=%{x}<br>Frequency=%{y}<br>text=%{text}<extra></extra>",
                  "legendgroup": "200 min",
                  "marker": {
                    "color": "#6128FF",
                    "pattern": {
                      "shape": ""
                    }
                  },
                  "name": "200 min",
                  "orientation": "v",
                  "showlegend": true,
                  "text": {
                    "bdata": "AAAAAAAA8D8=",
                    "dtype": "f8"
                  },
                  "textposition": "outside",
                  "type": "bar",
                  "x": [
                    "200 min"
                  ],
                  "xaxis": "x",
                  "y": {
                    "bdata": "AQ==",
                    "dtype": "i1"
                  },
                  "yaxis": "y"
                },
                {
                  "hovertemplate": "color=204 min<br>duration=%{x}<br>Frequency=%{y}<br>text=%{text}<extra></extra>",
                  "legendgroup": "204 min",
                  "marker": {
                    "color": "#C1CC1E",
                    "pattern": {
                      "shape": ""
                    }
                  },
                  "name": "204 min",
                  "orientation": "v",
                  "showlegend": true,
                  "text": {
                    "bdata": "AAAAAAAA8D8=",
                    "dtype": "f8"
                  },
                  "textposition": "outside",
                  "type": "bar",
                  "x": [
                    "204 min"
                  ],
                  "xaxis": "x",
                  "y": {
                    "bdata": "AQ==",
                    "dtype": "i1"
                  },
                  "yaxis": "y"
                },
                {
                  "hovertemplate": "color=43 min<br>duration=%{x}<br>Frequency=%{y}<br>text=%{text}<extra></extra>",
                  "legendgroup": "43 min",
                  "marker": {
                    "color": "#9162F7",
                    "pattern": {
                      "shape": ""
                    }
                  },
                  "name": "43 min",
                  "orientation": "v",
                  "showlegend": true,
                  "text": {
                    "bdata": "AAAAAAAA8D8=",
                    "dtype": "f8"
                  },
                  "textposition": "outside",
                  "type": "bar",
                  "x": [
                    "43 min"
                  ],
                  "xaxis": "x",
                  "y": {
                    "bdata": "AQ==",
                    "dtype": "i1"
                  },
                  "yaxis": "y"
                },
                {
                  "hovertemplate": "color=167 min<br>duration=%{x}<br>Frequency=%{y}<br>text=%{text}<extra></extra>",
                  "legendgroup": "167 min",
                  "marker": {
                    "color": "#71EE33",
                    "pattern": {
                      "shape": ""
                    }
                  },
                  "name": "167 min",
                  "orientation": "v",
                  "showlegend": true,
                  "text": {
                    "bdata": "AAAAAAAA8D8=",
                    "dtype": "f8"
                  },
                  "textposition": "outside",
                  "type": "bar",
                  "x": [
                    "167 min"
                  ],
                  "xaxis": "x",
                  "y": {
                    "bdata": "AQ==",
                    "dtype": "i1"
                  },
                  "yaxis": "y"
                },
                {
                  "hovertemplate": "color=16 Seasons<br>duration=%{x}<br>Frequency=%{y}<br>text=%{text}<extra></extra>",
                  "legendgroup": "16 Seasons",
                  "marker": {
                    "color": "#A6AE2D",
                    "pattern": {
                      "shape": ""
                    }
                  },
                  "name": "16 Seasons",
                  "orientation": "v",
                  "showlegend": true,
                  "text": {
                    "bdata": "AAAAAAAA8D8=",
                    "dtype": "f8"
                  },
                  "textposition": "outside",
                  "type": "bar",
                  "x": [
                    "16 Seasons"
                  ],
                  "xaxis": "x",
                  "y": {
                    "bdata": "AQ==",
                    "dtype": "i1"
                  },
                  "yaxis": "y"
                },
                {
                  "hovertemplate": "color=193 min<br>duration=%{x}<br>Frequency=%{y}<br>text=%{text}<extra></extra>",
                  "legendgroup": "193 min",
                  "marker": {
                    "color": "#6CAACF",
                    "pattern": {
                      "shape": ""
                    }
                  },
                  "name": "193 min",
                  "orientation": "v",
                  "showlegend": true,
                  "text": {
                    "bdata": "AAAAAAAA8D8=",
                    "dtype": "f8"
                  },
                  "textposition": "outside",
                  "type": "bar",
                  "x": [
                    "193 min"
                  ],
                  "xaxis": "x",
                  "y": {
                    "bdata": "AQ==",
                    "dtype": "i1"
                  },
                  "yaxis": "y"
                },
                {
                  "hovertemplate": "color=13 min<br>duration=%{x}<br>Frequency=%{y}<br>text=%{text}<extra></extra>",
                  "legendgroup": "13 min",
                  "marker": {
                    "color": "#88A443",
                    "pattern": {
                      "shape": ""
                    }
                  },
                  "name": "13 min",
                  "orientation": "v",
                  "showlegend": true,
                  "text": {
                    "bdata": "AAAAAAAA8D8=",
                    "dtype": "f8"
                  },
                  "textposition": "outside",
                  "type": "bar",
                  "x": [
                    "13 min"
                  ],
                  "xaxis": "x",
                  "y": {
                    "bdata": "AQ==",
                    "dtype": "i1"
                  },
                  "yaxis": "y"
                },
                {
                  "hovertemplate": "color=214 min<br>duration=%{x}<br>Frequency=%{y}<br>text=%{text}<extra></extra>",
                  "legendgroup": "214 min",
                  "marker": {
                    "color": "#C7B136",
                    "pattern": {
                      "shape": ""
                    }
                  },
                  "name": "214 min",
                  "orientation": "v",
                  "showlegend": true,
                  "text": {
                    "bdata": "AAAAAAAA8D8=",
                    "dtype": "f8"
                  },
                  "textposition": "outside",
                  "type": "bar",
                  "x": [
                    "214 min"
                  ],
                  "xaxis": "x",
                  "y": {
                    "bdata": "AQ==",
                    "dtype": "i1"
                  },
                  "yaxis": "y"
                },
                {
                  "hovertemplate": "color=8 min<br>duration=%{x}<br>Frequency=%{y}<br>text=%{text}<extra></extra>",
                  "legendgroup": "8 min",
                  "marker": {
                    "color": "#19549A",
                    "pattern": {
                      "shape": ""
                    }
                  },
                  "name": "8 min",
                  "orientation": "v",
                  "showlegend": true,
                  "text": {
                    "bdata": "AAAAAAAA8D8=",
                    "dtype": "f8"
                  },
                  "textposition": "outside",
                  "type": "bar",
                  "x": [
                    "8 min"
                  ],
                  "xaxis": "x",
                  "y": {
                    "bdata": "AQ==",
                    "dtype": "i1"
                  },
                  "yaxis": "y"
                },
                {
                  "hovertemplate": "color=9 min<br>duration=%{x}<br>Frequency=%{y}<br>text=%{text}<extra></extra>",
                  "legendgroup": "9 min",
                  "marker": {
                    "color": "#CF5F0A",
                    "pattern": {
                      "shape": ""
                    }
                  },
                  "name": "9 min",
                  "orientation": "v",
                  "showlegend": true,
                  "text": {
                    "bdata": "AAAAAAAA8D8=",
                    "dtype": "f8"
                  },
                  "textposition": "outside",
                  "type": "bar",
                  "x": [
                    "9 min"
                  ],
                  "xaxis": "x",
                  "y": {
                    "bdata": "AQ==",
                    "dtype": "i1"
                  },
                  "yaxis": "y"
                },
                {
                  "hovertemplate": "color=182 min<br>duration=%{x}<br>Frequency=%{y}<br>text=%{text}<extra></extra>",
                  "legendgroup": "182 min",
                  "marker": {
                    "color": "#2C6869",
                    "pattern": {
                      "shape": ""
                    }
                  },
                  "name": "182 min",
                  "orientation": "v",
                  "showlegend": true,
                  "text": {
                    "bdata": "AAAAAAAA8D8=",
                    "dtype": "f8"
                  },
                  "textposition": "outside",
                  "type": "bar",
                  "x": [
                    "182 min"
                  ],
                  "xaxis": "x",
                  "y": {
                    "bdata": "AQ==",
                    "dtype": "i1"
                  },
                  "yaxis": "y"
                },
                {
                  "hovertemplate": "color=224 min<br>duration=%{x}<br>Frequency=%{y}<br>text=%{text}<extra></extra>",
                  "legendgroup": "224 min",
                  "marker": {
                    "color": "#971F17",
                    "pattern": {
                      "shape": ""
                    }
                  },
                  "name": "224 min",
                  "orientation": "v",
                  "showlegend": true,
                  "text": {
                    "bdata": "AAAAAAAA8D8=",
                    "dtype": "f8"
                  },
                  "textposition": "outside",
                  "type": "bar",
                  "x": [
                    "224 min"
                  ],
                  "xaxis": "x",
                  "y": {
                    "bdata": "AQ==",
                    "dtype": "i1"
                  },
                  "yaxis": "y"
                },
                {
                  "hovertemplate": "color=233 min<br>duration=%{x}<br>Frequency=%{y}<br>text=%{text}<extra></extra>",
                  "legendgroup": "233 min",
                  "marker": {
                    "color": "#C148B2",
                    "pattern": {
                      "shape": ""
                    }
                  },
                  "name": "233 min",
                  "orientation": "v",
                  "showlegend": true,
                  "text": {
                    "bdata": "AAAAAAAA8D8=",
                    "dtype": "f8"
                  },
                  "textposition": "outside",
                  "type": "bar",
                  "x": [
                    "233 min"
                  ],
                  "xaxis": "x",
                  "y": {
                    "bdata": "AQ==",
                    "dtype": "i1"
                  },
                  "yaxis": "y"
                },
                {
                  "hovertemplate": "color=196 min<br>duration=%{x}<br>Frequency=%{y}<br>text=%{text}<extra></extra>",
                  "legendgroup": "196 min",
                  "marker": {
                    "color": "#644F3A",
                    "pattern": {
                      "shape": ""
                    }
                  },
                  "name": "196 min",
                  "orientation": "v",
                  "showlegend": true,
                  "text": {
                    "bdata": "AAAAAAAA8D8=",
                    "dtype": "f8"
                  },
                  "textposition": "outside",
                  "type": "bar",
                  "x": [
                    "196 min"
                  ],
                  "xaxis": "x",
                  "y": {
                    "bdata": "AQ==",
                    "dtype": "i1"
                  },
                  "yaxis": "y"
                },
                {
                  "hovertemplate": "color=191 min<br>duration=%{x}<br>Frequency=%{y}<br>text=%{text}<extra></extra>",
                  "legendgroup": "191 min",
                  "marker": {
                    "color": "#3FA9FE",
                    "pattern": {
                      "shape": ""
                    }
                  },
                  "name": "191 min",
                  "orientation": "v",
                  "showlegend": true,
                  "text": {
                    "bdata": "AAAAAAAA8D8=",
                    "dtype": "f8"
                  },
                  "textposition": "outside",
                  "type": "bar",
                  "x": [
                    "191 min"
                  ],
                  "xaxis": "x",
                  "y": {
                    "bdata": "AQ==",
                    "dtype": "i1"
                  },
                  "yaxis": "y"
                }
              ],
              "layout": {
                "barmode": "relative",
                "legend": {
                  "title": {
                    "text": "color"
                  },
                  "tracegroupgap": 0
                },
                "template": {
                  "data": {
                    "bar": [
                      {
                        "error_x": {
                          "color": "#2a3f5f"
                        },
                        "error_y": {
                          "color": "#2a3f5f"
                        },
                        "marker": {
                          "line": {
                            "color": "#E5ECF6",
                            "width": 0.5
                          },
                          "pattern": {
                            "fillmode": "overlay",
                            "size": 10,
                            "solidity": 0.2
                          }
                        },
                        "type": "bar"
                      }
                    ],
                    "barpolar": [
                      {
                        "marker": {
                          "line": {
                            "color": "#E5ECF6",
                            "width": 0.5
                          },
                          "pattern": {
                            "fillmode": "overlay",
                            "size": 10,
                            "solidity": 0.2
                          }
                        },
                        "type": "barpolar"
                      }
                    ],
                    "carpet": [
                      {
                        "aaxis": {
                          "endlinecolor": "#2a3f5f",
                          "gridcolor": "white",
                          "linecolor": "white",
                          "minorgridcolor": "white",
                          "startlinecolor": "#2a3f5f"
                        },
                        "baxis": {
                          "endlinecolor": "#2a3f5f",
                          "gridcolor": "white",
                          "linecolor": "white",
                          "minorgridcolor": "white",
                          "startlinecolor": "#2a3f5f"
                        },
                        "type": "carpet"
                      }
                    ],
                    "choropleth": [
                      {
                        "colorbar": {
                          "outlinewidth": 0,
                          "ticks": ""
                        },
                        "type": "choropleth"
                      }
                    ],
                    "contour": [
                      {
                        "colorbar": {
                          "outlinewidth": 0,
                          "ticks": ""
                        },
                        "colorscale": [
                          [
                            0,
                            "#0d0887"
                          ],
                          [
                            0.1111111111111111,
                            "#46039f"
                          ],
                          [
                            0.2222222222222222,
                            "#7201a8"
                          ],
                          [
                            0.3333333333333333,
                            "#9c179e"
                          ],
                          [
                            0.4444444444444444,
                            "#bd3786"
                          ],
                          [
                            0.5555555555555556,
                            "#d8576b"
                          ],
                          [
                            0.6666666666666666,
                            "#ed7953"
                          ],
                          [
                            0.7777777777777778,
                            "#fb9f3a"
                          ],
                          [
                            0.8888888888888888,
                            "#fdca26"
                          ],
                          [
                            1,
                            "#f0f921"
                          ]
                        ],
                        "type": "contour"
                      }
                    ],
                    "contourcarpet": [
                      {
                        "colorbar": {
                          "outlinewidth": 0,
                          "ticks": ""
                        },
                        "type": "contourcarpet"
                      }
                    ],
                    "heatmap": [
                      {
                        "colorbar": {
                          "outlinewidth": 0,
                          "ticks": ""
                        },
                        "colorscale": [
                          [
                            0,
                            "#0d0887"
                          ],
                          [
                            0.1111111111111111,
                            "#46039f"
                          ],
                          [
                            0.2222222222222222,
                            "#7201a8"
                          ],
                          [
                            0.3333333333333333,
                            "#9c179e"
                          ],
                          [
                            0.4444444444444444,
                            "#bd3786"
                          ],
                          [
                            0.5555555555555556,
                            "#d8576b"
                          ],
                          [
                            0.6666666666666666,
                            "#ed7953"
                          ],
                          [
                            0.7777777777777778,
                            "#fb9f3a"
                          ],
                          [
                            0.8888888888888888,
                            "#fdca26"
                          ],
                          [
                            1,
                            "#f0f921"
                          ]
                        ],
                        "type": "heatmap"
                      }
                    ],
                    "histogram": [
                      {
                        "marker": {
                          "pattern": {
                            "fillmode": "overlay",
                            "size": 10,
                            "solidity": 0.2
                          }
                        },
                        "type": "histogram"
                      }
                    ],
                    "histogram2d": [
                      {
                        "colorbar": {
                          "outlinewidth": 0,
                          "ticks": ""
                        },
                        "colorscale": [
                          [
                            0,
                            "#0d0887"
                          ],
                          [
                            0.1111111111111111,
                            "#46039f"
                          ],
                          [
                            0.2222222222222222,
                            "#7201a8"
                          ],
                          [
                            0.3333333333333333,
                            "#9c179e"
                          ],
                          [
                            0.4444444444444444,
                            "#bd3786"
                          ],
                          [
                            0.5555555555555556,
                            "#d8576b"
                          ],
                          [
                            0.6666666666666666,
                            "#ed7953"
                          ],
                          [
                            0.7777777777777778,
                            "#fb9f3a"
                          ],
                          [
                            0.8888888888888888,
                            "#fdca26"
                          ],
                          [
                            1,
                            "#f0f921"
                          ]
                        ],
                        "type": "histogram2d"
                      }
                    ],
                    "histogram2dcontour": [
                      {
                        "colorbar": {
                          "outlinewidth": 0,
                          "ticks": ""
                        },
                        "colorscale": [
                          [
                            0,
                            "#0d0887"
                          ],
                          [
                            0.1111111111111111,
                            "#46039f"
                          ],
                          [
                            0.2222222222222222,
                            "#7201a8"
                          ],
                          [
                            0.3333333333333333,
                            "#9c179e"
                          ],
                          [
                            0.4444444444444444,
                            "#bd3786"
                          ],
                          [
                            0.5555555555555556,
                            "#d8576b"
                          ],
                          [
                            0.6666666666666666,
                            "#ed7953"
                          ],
                          [
                            0.7777777777777778,
                            "#fb9f3a"
                          ],
                          [
                            0.8888888888888888,
                            "#fdca26"
                          ],
                          [
                            1,
                            "#f0f921"
                          ]
                        ],
                        "type": "histogram2dcontour"
                      }
                    ],
                    "mesh3d": [
                      {
                        "colorbar": {
                          "outlinewidth": 0,
                          "ticks": ""
                        },
                        "type": "mesh3d"
                      }
                    ],
                    "parcoords": [
                      {
                        "line": {
                          "colorbar": {
                            "outlinewidth": 0,
                            "ticks": ""
                          }
                        },
                        "type": "parcoords"
                      }
                    ],
                    "pie": [
                      {
                        "automargin": true,
                        "type": "pie"
                      }
                    ],
                    "scatter": [
                      {
                        "fillpattern": {
                          "fillmode": "overlay",
                          "size": 10,
                          "solidity": 0.2
                        },
                        "type": "scatter"
                      }
                    ],
                    "scatter3d": [
                      {
                        "line": {
                          "colorbar": {
                            "outlinewidth": 0,
                            "ticks": ""
                          }
                        },
                        "marker": {
                          "colorbar": {
                            "outlinewidth": 0,
                            "ticks": ""
                          }
                        },
                        "type": "scatter3d"
                      }
                    ],
                    "scattercarpet": [
                      {
                        "marker": {
                          "colorbar": {
                            "outlinewidth": 0,
                            "ticks": ""
                          }
                        },
                        "type": "scattercarpet"
                      }
                    ],
                    "scattergeo": [
                      {
                        "marker": {
                          "colorbar": {
                            "outlinewidth": 0,
                            "ticks": ""
                          }
                        },
                        "type": "scattergeo"
                      }
                    ],
                    "scattergl": [
                      {
                        "marker": {
                          "colorbar": {
                            "outlinewidth": 0,
                            "ticks": ""
                          }
                        },
                        "type": "scattergl"
                      }
                    ],
                    "scattermap": [
                      {
                        "marker": {
                          "colorbar": {
                            "outlinewidth": 0,
                            "ticks": ""
                          }
                        },
                        "type": "scattermap"
                      }
                    ],
                    "scattermapbox": [
                      {
                        "marker": {
                          "colorbar": {
                            "outlinewidth": 0,
                            "ticks": ""
                          }
                        },
                        "type": "scattermapbox"
                      }
                    ],
                    "scatterpolar": [
                      {
                        "marker": {
                          "colorbar": {
                            "outlinewidth": 0,
                            "ticks": ""
                          }
                        },
                        "type": "scatterpolar"
                      }
                    ],
                    "scatterpolargl": [
                      {
                        "marker": {
                          "colorbar": {
                            "outlinewidth": 0,
                            "ticks": ""
                          }
                        },
                        "type": "scatterpolargl"
                      }
                    ],
                    "scatterternary": [
                      {
                        "marker": {
                          "colorbar": {
                            "outlinewidth": 0,
                            "ticks": ""
                          }
                        },
                        "type": "scatterternary"
                      }
                    ],
                    "surface": [
                      {
                        "colorbar": {
                          "outlinewidth": 0,
                          "ticks": ""
                        },
                        "colorscale": [
                          [
                            0,
                            "#0d0887"
                          ],
                          [
                            0.1111111111111111,
                            "#46039f"
                          ],
                          [
                            0.2222222222222222,
                            "#7201a8"
                          ],
                          [
                            0.3333333333333333,
                            "#9c179e"
                          ],
                          [
                            0.4444444444444444,
                            "#bd3786"
                          ],
                          [
                            0.5555555555555556,
                            "#d8576b"
                          ],
                          [
                            0.6666666666666666,
                            "#ed7953"
                          ],
                          [
                            0.7777777777777778,
                            "#fb9f3a"
                          ],
                          [
                            0.8888888888888888,
                            "#fdca26"
                          ],
                          [
                            1,
                            "#f0f921"
                          ]
                        ],
                        "type": "surface"
                      }
                    ],
                    "table": [
                      {
                        "cells": {
                          "fill": {
                            "color": "#EBF0F8"
                          },
                          "line": {
                            "color": "white"
                          }
                        },
                        "header": {
                          "fill": {
                            "color": "#C8D4E3"
                          },
                          "line": {
                            "color": "white"
                          }
                        },
                        "type": "table"
                      }
                    ]
                  },
                  "layout": {
                    "annotationdefaults": {
                      "arrowcolor": "#2a3f5f",
                      "arrowhead": 0,
                      "arrowwidth": 1
                    },
                    "autotypenumbers": "strict",
                    "coloraxis": {
                      "colorbar": {
                        "outlinewidth": 0,
                        "ticks": ""
                      }
                    },
                    "colorscale": {
                      "diverging": [
                        [
                          0,
                          "#8e0152"
                        ],
                        [
                          0.1,
                          "#c51b7d"
                        ],
                        [
                          0.2,
                          "#de77ae"
                        ],
                        [
                          0.3,
                          "#f1b6da"
                        ],
                        [
                          0.4,
                          "#fde0ef"
                        ],
                        [
                          0.5,
                          "#f7f7f7"
                        ],
                        [
                          0.6,
                          "#e6f5d0"
                        ],
                        [
                          0.7,
                          "#b8e186"
                        ],
                        [
                          0.8,
                          "#7fbc41"
                        ],
                        [
                          0.9,
                          "#4d9221"
                        ],
                        [
                          1,
                          "#276419"
                        ]
                      ],
                      "sequential": [
                        [
                          0,
                          "#0d0887"
                        ],
                        [
                          0.1111111111111111,
                          "#46039f"
                        ],
                        [
                          0.2222222222222222,
                          "#7201a8"
                        ],
                        [
                          0.3333333333333333,
                          "#9c179e"
                        ],
                        [
                          0.4444444444444444,
                          "#bd3786"
                        ],
                        [
                          0.5555555555555556,
                          "#d8576b"
                        ],
                        [
                          0.6666666666666666,
                          "#ed7953"
                        ],
                        [
                          0.7777777777777778,
                          "#fb9f3a"
                        ],
                        [
                          0.8888888888888888,
                          "#fdca26"
                        ],
                        [
                          1,
                          "#f0f921"
                        ]
                      ],
                      "sequentialminus": [
                        [
                          0,
                          "#0d0887"
                        ],
                        [
                          0.1111111111111111,
                          "#46039f"
                        ],
                        [
                          0.2222222222222222,
                          "#7201a8"
                        ],
                        [
                          0.3333333333333333,
                          "#9c179e"
                        ],
                        [
                          0.4444444444444444,
                          "#bd3786"
                        ],
                        [
                          0.5555555555555556,
                          "#d8576b"
                        ],
                        [
                          0.6666666666666666,
                          "#ed7953"
                        ],
                        [
                          0.7777777777777778,
                          "#fb9f3a"
                        ],
                        [
                          0.8888888888888888,
                          "#fdca26"
                        ],
                        [
                          1,
                          "#f0f921"
                        ]
                      ]
                    },
                    "colorway": [
                      "#636efa",
                      "#EF553B",
                      "#00cc96",
                      "#ab63fa",
                      "#FFA15A",
                      "#19d3f3",
                      "#FF6692",
                      "#B6E880",
                      "#FF97FF",
                      "#FECB52"
                    ],
                    "font": {
                      "color": "#2a3f5f"
                    },
                    "geo": {
                      "bgcolor": "white",
                      "lakecolor": "white",
                      "landcolor": "#E5ECF6",
                      "showlakes": true,
                      "showland": true,
                      "subunitcolor": "white"
                    },
                    "hoverlabel": {
                      "align": "left"
                    },
                    "hovermode": "closest",
                    "mapbox": {
                      "style": "light"
                    },
                    "paper_bgcolor": "white",
                    "plot_bgcolor": "#E5ECF6",
                    "polar": {
                      "angularaxis": {
                        "gridcolor": "white",
                        "linecolor": "white",
                        "ticks": ""
                      },
                      "bgcolor": "#E5ECF6",
                      "radialaxis": {
                        "gridcolor": "white",
                        "linecolor": "white",
                        "ticks": ""
                      }
                    },
                    "scene": {
                      "xaxis": {
                        "backgroundcolor": "#E5ECF6",
                        "gridcolor": "white",
                        "gridwidth": 2,
                        "linecolor": "white",
                        "showbackground": true,
                        "ticks": "",
                        "zerolinecolor": "white"
                      },
                      "yaxis": {
                        "backgroundcolor": "#E5ECF6",
                        "gridcolor": "white",
                        "gridwidth": 2,
                        "linecolor": "white",
                        "showbackground": true,
                        "ticks": "",
                        "zerolinecolor": "white"
                      },
                      "zaxis": {
                        "backgroundcolor": "#E5ECF6",
                        "gridcolor": "white",
                        "gridwidth": 2,
                        "linecolor": "white",
                        "showbackground": true,
                        "ticks": "",
                        "zerolinecolor": "white"
                      }
                    },
                    "shapedefaults": {
                      "line": {
                        "color": "#2a3f5f"
                      }
                    },
                    "ternary": {
                      "aaxis": {
                        "gridcolor": "white",
                        "linecolor": "white",
                        "ticks": ""
                      },
                      "baxis": {
                        "gridcolor": "white",
                        "linecolor": "white",
                        "ticks": ""
                      },
                      "bgcolor": "#E5ECF6",
                      "caxis": {
                        "gridcolor": "white",
                        "linecolor": "white",
                        "ticks": ""
                      }
                    },
                    "title": {
                      "x": 0.05
                    },
                    "xaxis": {
                      "automargin": true,
                      "gridcolor": "white",
                      "linecolor": "white",
                      "ticks": "",
                      "title": {
                        "standoff": 15
                      },
                      "zerolinecolor": "white",
                      "zerolinewidth": 2
                    },
                    "yaxis": {
                      "automargin": true,
                      "gridcolor": "white",
                      "linecolor": "white",
                      "ticks": "",
                      "title": {
                        "standoff": 15
                      },
                      "zerolinecolor": "white",
                      "zerolinewidth": 2
                    }
                  }
                },
                "title": {
                  "text": "Value Counts for duration"
                },
                "xaxis": {
                  "anchor": "y",
                  "domain": [
                    0,
                    1
                  ],
                  "tickangle": -45,
                  "title": {
                    "text": "Dataset Variables"
                  }
                },
                "yaxis": {
                  "anchor": "x",
                  "domain": [
                    0,
                    1
                  ],
                  "title": {
                    "text": "Count Distribution"
                  }
                }
              }
            }
          },
          "metadata": {},
          "output_type": "display_data"
        }
      ],
      "source": [
        "# Check for infrequent values in categorical columns and visualize with Plotly Express\n",
        "for col in ['type', 'rating', 'duration']:  # Add other relevant columns\n",
        "    value_counts = df[col].value_counts()\n",
        "\n",
        "    # Create a list of random colors\n",
        "    num_colors = len(value_counts)\n",
        "    colors = [\"#\" + ''.join([random.choice('0123456789ABCDEF') for j in range(6)]) for i in range(num_colors)]\n",
        "\n",
        "    # Create a bar chart using Plotly Express with random colors and count numbers\n",
        "    fig = px.bar(x=value_counts.index, y=value_counts.values,\n",
        "                 labels={'x': col, 'y': 'Frequency'},\n",
        "                 title=f\"Value Counts for {col}\",\n",
        "                 color=value_counts.index, color_discrete_sequence=colors, text=value_counts.values)  # Added text for count numbers\n",
        "\n",
        "    # Customize the layout (optional)\n",
        "    fig.update_layout(xaxis_tickangle=-45, xaxis_title='Dataset Variables', yaxis_title='Count Distribution')\n",
        "    fig.update_traces(textposition='outside')  # Position count numbers outside the bars\n",
        "\n",
        "    # Show the plot\n",
        "    fig.show()"
      ]
    },
    {
      "cell_type": "markdown",
      "metadata": {
        "id": "li0kMLI_NN3I"
      },
      "source": [
        "There are higher count of Movies (5377) compared to TV Shows (2410), with TV-MA (2863) and TV-14 (1931) being the most common ratings, and most TV Shows having 1 season while movie durations vary widely, peaking around 90-100 minutes."
      ]
    },
    {
      "cell_type": "markdown",
      "metadata": {
        "id": "xF3r_wtwQ61C"
      },
      "source": [
        "#### Understand the type content available in different **COUNTRIES**"
      ]
    },
    {
      "cell_type": "code",
      "execution_count": 32,
      "metadata": {
        "colab": {
          "base_uri": "https://localhost:8080/",
          "height": 817
        },
        "id": "kbUKDWHo4Hb6",
        "outputId": "a7bb2f1e-5d51-48ab-8645-78a2c80615cd"
      },
      "outputs": [
        {
          "data": {
            "application/vnd.plotly.v1+json": {
              "config": {
                "plotlyServerURL": "https://plot.ly"
              },
              "data": [
                {
                  "alignmentgroup": "True",
                  "cliponaxis": false,
                  "hovertemplate": "Content Type=Movie_Count<br>Country=%{x}<br>Count=%{y}<extra></extra>",
                  "legendgroup": "Movie_Count",
                  "marker": {
                    "color": "#636efa",
                    "pattern": {
                      "shape": ""
                    }
                  },
                  "name": "Movie_Count",
                  "offsetgroup": "Movie_Count",
                  "orientation": "v",
                  "showlegend": true,
                  "textangle": 0,
                  "textfont": {
                    "size": 12
                  },
                  "textposition": "outside",
                  "texttemplate": "%{y}",
                  "type": "bar",
                  "x": [
                    "United States",
                    "India",
                    "Not available",
                    "United Kingdom",
                    "Canada",
                    "Spain",
                    "Egypt",
                    "Turkey",
                    "Philippines",
                    "Japan",
                    "France",
                    "Indonesia",
                    "Mexico",
                    "Nigeria",
                    "United Kingdom, United States"
                  ],
                  "xaxis": "x",
                  "y": {
                    "bdata": "AAAAAADonEAAAAAAAKCKQAAAAAAAwGxAAAAAAAAgaEAAAAAAAIBdQAAAAAAAQFZAAAAAAABAVkAAAAAAAEBSQAAAAAAAgFFAAAAAAABAUUAAAAAAAEBRQAAAAAAAAFFAAAAAAABAUEAAAAAAAABPQAAAAAAAAEpA",
                    "dtype": "f8"
                  },
                  "yaxis": "y"
                },
                {
                  "alignmentgroup": "True",
                  "cliponaxis": false,
                  "hovertemplate": "Content Type=TV_Show_Count<br>Country=%{x}<br>Count=%{y}<extra></extra>",
                  "legendgroup": "TV_Show_Count",
                  "marker": {
                    "color": "#EF553B",
                    "pattern": {
                      "shape": ""
                    }
                  },
                  "name": "TV_Show_Count",
                  "offsetgroup": "TV_Show_Count",
                  "orientation": "v",
                  "showlegend": true,
                  "textangle": 0,
                  "textfont": {
                    "size": 12
                  },
                  "textposition": "outside",
                  "texttemplate": "%{y}",
                  "type": "bar",
                  "x": [
                    "United States",
                    "India",
                    "Not available",
                    "United Kingdom",
                    "Canada",
                    "Spain",
                    "Egypt",
                    "Turkey",
                    "Philippines",
                    "Japan",
                    "France",
                    "Indonesia",
                    "Mexico",
                    "Nigeria",
                    "United Kingdom, United States"
                  ],
                  "xaxis": "x",
                  "y": {
                    "bdata": "AAAAAAAIhkAAAAAAAMBRQAAAAAAAUHFAAAAAAACAaUAAAAAAAIBNQAAAAAAAgEZAAAAAAAAAKEAAAAAAAAA7QAAAAAAAAPA/AAAAAACgY0AAAAAAAABHQAAAAAAAAABAAAAAAACAQUAAAAAAAAAgQAAAAAAAAChA",
                    "dtype": "f8"
                  },
                  "yaxis": "y"
                }
              ],
              "layout": {
                "barmode": "group",
                "height": 800,
                "legend": {
                  "title": {
                    "text": "Content Type"
                  },
                  "tracegroupgap": 0
                },
                "template": {
                  "data": {
                    "bar": [
                      {
                        "error_x": {
                          "color": "#2a3f5f"
                        },
                        "error_y": {
                          "color": "#2a3f5f"
                        },
                        "marker": {
                          "line": {
                            "color": "#E5ECF6",
                            "width": 0.5
                          },
                          "pattern": {
                            "fillmode": "overlay",
                            "size": 10,
                            "solidity": 0.2
                          }
                        },
                        "type": "bar"
                      }
                    ],
                    "barpolar": [
                      {
                        "marker": {
                          "line": {
                            "color": "#E5ECF6",
                            "width": 0.5
                          },
                          "pattern": {
                            "fillmode": "overlay",
                            "size": 10,
                            "solidity": 0.2
                          }
                        },
                        "type": "barpolar"
                      }
                    ],
                    "carpet": [
                      {
                        "aaxis": {
                          "endlinecolor": "#2a3f5f",
                          "gridcolor": "white",
                          "linecolor": "white",
                          "minorgridcolor": "white",
                          "startlinecolor": "#2a3f5f"
                        },
                        "baxis": {
                          "endlinecolor": "#2a3f5f",
                          "gridcolor": "white",
                          "linecolor": "white",
                          "minorgridcolor": "white",
                          "startlinecolor": "#2a3f5f"
                        },
                        "type": "carpet"
                      }
                    ],
                    "choropleth": [
                      {
                        "colorbar": {
                          "outlinewidth": 0,
                          "ticks": ""
                        },
                        "type": "choropleth"
                      }
                    ],
                    "contour": [
                      {
                        "colorbar": {
                          "outlinewidth": 0,
                          "ticks": ""
                        },
                        "colorscale": [
                          [
                            0,
                            "#0d0887"
                          ],
                          [
                            0.1111111111111111,
                            "#46039f"
                          ],
                          [
                            0.2222222222222222,
                            "#7201a8"
                          ],
                          [
                            0.3333333333333333,
                            "#9c179e"
                          ],
                          [
                            0.4444444444444444,
                            "#bd3786"
                          ],
                          [
                            0.5555555555555556,
                            "#d8576b"
                          ],
                          [
                            0.6666666666666666,
                            "#ed7953"
                          ],
                          [
                            0.7777777777777778,
                            "#fb9f3a"
                          ],
                          [
                            0.8888888888888888,
                            "#fdca26"
                          ],
                          [
                            1,
                            "#f0f921"
                          ]
                        ],
                        "type": "contour"
                      }
                    ],
                    "contourcarpet": [
                      {
                        "colorbar": {
                          "outlinewidth": 0,
                          "ticks": ""
                        },
                        "type": "contourcarpet"
                      }
                    ],
                    "heatmap": [
                      {
                        "colorbar": {
                          "outlinewidth": 0,
                          "ticks": ""
                        },
                        "colorscale": [
                          [
                            0,
                            "#0d0887"
                          ],
                          [
                            0.1111111111111111,
                            "#46039f"
                          ],
                          [
                            0.2222222222222222,
                            "#7201a8"
                          ],
                          [
                            0.3333333333333333,
                            "#9c179e"
                          ],
                          [
                            0.4444444444444444,
                            "#bd3786"
                          ],
                          [
                            0.5555555555555556,
                            "#d8576b"
                          ],
                          [
                            0.6666666666666666,
                            "#ed7953"
                          ],
                          [
                            0.7777777777777778,
                            "#fb9f3a"
                          ],
                          [
                            0.8888888888888888,
                            "#fdca26"
                          ],
                          [
                            1,
                            "#f0f921"
                          ]
                        ],
                        "type": "heatmap"
                      }
                    ],
                    "histogram": [
                      {
                        "marker": {
                          "pattern": {
                            "fillmode": "overlay",
                            "size": 10,
                            "solidity": 0.2
                          }
                        },
                        "type": "histogram"
                      }
                    ],
                    "histogram2d": [
                      {
                        "colorbar": {
                          "outlinewidth": 0,
                          "ticks": ""
                        },
                        "colorscale": [
                          [
                            0,
                            "#0d0887"
                          ],
                          [
                            0.1111111111111111,
                            "#46039f"
                          ],
                          [
                            0.2222222222222222,
                            "#7201a8"
                          ],
                          [
                            0.3333333333333333,
                            "#9c179e"
                          ],
                          [
                            0.4444444444444444,
                            "#bd3786"
                          ],
                          [
                            0.5555555555555556,
                            "#d8576b"
                          ],
                          [
                            0.6666666666666666,
                            "#ed7953"
                          ],
                          [
                            0.7777777777777778,
                            "#fb9f3a"
                          ],
                          [
                            0.8888888888888888,
                            "#fdca26"
                          ],
                          [
                            1,
                            "#f0f921"
                          ]
                        ],
                        "type": "histogram2d"
                      }
                    ],
                    "histogram2dcontour": [
                      {
                        "colorbar": {
                          "outlinewidth": 0,
                          "ticks": ""
                        },
                        "colorscale": [
                          [
                            0,
                            "#0d0887"
                          ],
                          [
                            0.1111111111111111,
                            "#46039f"
                          ],
                          [
                            0.2222222222222222,
                            "#7201a8"
                          ],
                          [
                            0.3333333333333333,
                            "#9c179e"
                          ],
                          [
                            0.4444444444444444,
                            "#bd3786"
                          ],
                          [
                            0.5555555555555556,
                            "#d8576b"
                          ],
                          [
                            0.6666666666666666,
                            "#ed7953"
                          ],
                          [
                            0.7777777777777778,
                            "#fb9f3a"
                          ],
                          [
                            0.8888888888888888,
                            "#fdca26"
                          ],
                          [
                            1,
                            "#f0f921"
                          ]
                        ],
                        "type": "histogram2dcontour"
                      }
                    ],
                    "mesh3d": [
                      {
                        "colorbar": {
                          "outlinewidth": 0,
                          "ticks": ""
                        },
                        "type": "mesh3d"
                      }
                    ],
                    "parcoords": [
                      {
                        "line": {
                          "colorbar": {
                            "outlinewidth": 0,
                            "ticks": ""
                          }
                        },
                        "type": "parcoords"
                      }
                    ],
                    "pie": [
                      {
                        "automargin": true,
                        "type": "pie"
                      }
                    ],
                    "scatter": [
                      {
                        "fillpattern": {
                          "fillmode": "overlay",
                          "size": 10,
                          "solidity": 0.2
                        },
                        "type": "scatter"
                      }
                    ],
                    "scatter3d": [
                      {
                        "line": {
                          "colorbar": {
                            "outlinewidth": 0,
                            "ticks": ""
                          }
                        },
                        "marker": {
                          "colorbar": {
                            "outlinewidth": 0,
                            "ticks": ""
                          }
                        },
                        "type": "scatter3d"
                      }
                    ],
                    "scattercarpet": [
                      {
                        "marker": {
                          "colorbar": {
                            "outlinewidth": 0,
                            "ticks": ""
                          }
                        },
                        "type": "scattercarpet"
                      }
                    ],
                    "scattergeo": [
                      {
                        "marker": {
                          "colorbar": {
                            "outlinewidth": 0,
                            "ticks": ""
                          }
                        },
                        "type": "scattergeo"
                      }
                    ],
                    "scattergl": [
                      {
                        "marker": {
                          "colorbar": {
                            "outlinewidth": 0,
                            "ticks": ""
                          }
                        },
                        "type": "scattergl"
                      }
                    ],
                    "scattermap": [
                      {
                        "marker": {
                          "colorbar": {
                            "outlinewidth": 0,
                            "ticks": ""
                          }
                        },
                        "type": "scattermap"
                      }
                    ],
                    "scattermapbox": [
                      {
                        "marker": {
                          "colorbar": {
                            "outlinewidth": 0,
                            "ticks": ""
                          }
                        },
                        "type": "scattermapbox"
                      }
                    ],
                    "scatterpolar": [
                      {
                        "marker": {
                          "colorbar": {
                            "outlinewidth": 0,
                            "ticks": ""
                          }
                        },
                        "type": "scatterpolar"
                      }
                    ],
                    "scatterpolargl": [
                      {
                        "marker": {
                          "colorbar": {
                            "outlinewidth": 0,
                            "ticks": ""
                          }
                        },
                        "type": "scatterpolargl"
                      }
                    ],
                    "scatterternary": [
                      {
                        "marker": {
                          "colorbar": {
                            "outlinewidth": 0,
                            "ticks": ""
                          }
                        },
                        "type": "scatterternary"
                      }
                    ],
                    "surface": [
                      {
                        "colorbar": {
                          "outlinewidth": 0,
                          "ticks": ""
                        },
                        "colorscale": [
                          [
                            0,
                            "#0d0887"
                          ],
                          [
                            0.1111111111111111,
                            "#46039f"
                          ],
                          [
                            0.2222222222222222,
                            "#7201a8"
                          ],
                          [
                            0.3333333333333333,
                            "#9c179e"
                          ],
                          [
                            0.4444444444444444,
                            "#bd3786"
                          ],
                          [
                            0.5555555555555556,
                            "#d8576b"
                          ],
                          [
                            0.6666666666666666,
                            "#ed7953"
                          ],
                          [
                            0.7777777777777778,
                            "#fb9f3a"
                          ],
                          [
                            0.8888888888888888,
                            "#fdca26"
                          ],
                          [
                            1,
                            "#f0f921"
                          ]
                        ],
                        "type": "surface"
                      }
                    ],
                    "table": [
                      {
                        "cells": {
                          "fill": {
                            "color": "#EBF0F8"
                          },
                          "line": {
                            "color": "white"
                          }
                        },
                        "header": {
                          "fill": {
                            "color": "#C8D4E3"
                          },
                          "line": {
                            "color": "white"
                          }
                        },
                        "type": "table"
                      }
                    ]
                  },
                  "layout": {
                    "annotationdefaults": {
                      "arrowcolor": "#2a3f5f",
                      "arrowhead": 0,
                      "arrowwidth": 1
                    },
                    "autotypenumbers": "strict",
                    "coloraxis": {
                      "colorbar": {
                        "outlinewidth": 0,
                        "ticks": ""
                      }
                    },
                    "colorscale": {
                      "diverging": [
                        [
                          0,
                          "#8e0152"
                        ],
                        [
                          0.1,
                          "#c51b7d"
                        ],
                        [
                          0.2,
                          "#de77ae"
                        ],
                        [
                          0.3,
                          "#f1b6da"
                        ],
                        [
                          0.4,
                          "#fde0ef"
                        ],
                        [
                          0.5,
                          "#f7f7f7"
                        ],
                        [
                          0.6,
                          "#e6f5d0"
                        ],
                        [
                          0.7,
                          "#b8e186"
                        ],
                        [
                          0.8,
                          "#7fbc41"
                        ],
                        [
                          0.9,
                          "#4d9221"
                        ],
                        [
                          1,
                          "#276419"
                        ]
                      ],
                      "sequential": [
                        [
                          0,
                          "#0d0887"
                        ],
                        [
                          0.1111111111111111,
                          "#46039f"
                        ],
                        [
                          0.2222222222222222,
                          "#7201a8"
                        ],
                        [
                          0.3333333333333333,
                          "#9c179e"
                        ],
                        [
                          0.4444444444444444,
                          "#bd3786"
                        ],
                        [
                          0.5555555555555556,
                          "#d8576b"
                        ],
                        [
                          0.6666666666666666,
                          "#ed7953"
                        ],
                        [
                          0.7777777777777778,
                          "#fb9f3a"
                        ],
                        [
                          0.8888888888888888,
                          "#fdca26"
                        ],
                        [
                          1,
                          "#f0f921"
                        ]
                      ],
                      "sequentialminus": [
                        [
                          0,
                          "#0d0887"
                        ],
                        [
                          0.1111111111111111,
                          "#46039f"
                        ],
                        [
                          0.2222222222222222,
                          "#7201a8"
                        ],
                        [
                          0.3333333333333333,
                          "#9c179e"
                        ],
                        [
                          0.4444444444444444,
                          "#bd3786"
                        ],
                        [
                          0.5555555555555556,
                          "#d8576b"
                        ],
                        [
                          0.6666666666666666,
                          "#ed7953"
                        ],
                        [
                          0.7777777777777778,
                          "#fb9f3a"
                        ],
                        [
                          0.8888888888888888,
                          "#fdca26"
                        ],
                        [
                          1,
                          "#f0f921"
                        ]
                      ]
                    },
                    "colorway": [
                      "#636efa",
                      "#EF553B",
                      "#00cc96",
                      "#ab63fa",
                      "#FFA15A",
                      "#19d3f3",
                      "#FF6692",
                      "#B6E880",
                      "#FF97FF",
                      "#FECB52"
                    ],
                    "font": {
                      "color": "#2a3f5f"
                    },
                    "geo": {
                      "bgcolor": "white",
                      "lakecolor": "white",
                      "landcolor": "#E5ECF6",
                      "showlakes": true,
                      "showland": true,
                      "subunitcolor": "white"
                    },
                    "hoverlabel": {
                      "align": "left"
                    },
                    "hovermode": "closest",
                    "mapbox": {
                      "style": "light"
                    },
                    "paper_bgcolor": "white",
                    "plot_bgcolor": "#E5ECF6",
                    "polar": {
                      "angularaxis": {
                        "gridcolor": "white",
                        "linecolor": "white",
                        "ticks": ""
                      },
                      "bgcolor": "#E5ECF6",
                      "radialaxis": {
                        "gridcolor": "white",
                        "linecolor": "white",
                        "ticks": ""
                      }
                    },
                    "scene": {
                      "xaxis": {
                        "backgroundcolor": "#E5ECF6",
                        "gridcolor": "white",
                        "gridwidth": 2,
                        "linecolor": "white",
                        "showbackground": true,
                        "ticks": "",
                        "zerolinecolor": "white"
                      },
                      "yaxis": {
                        "backgroundcolor": "#E5ECF6",
                        "gridcolor": "white",
                        "gridwidth": 2,
                        "linecolor": "white",
                        "showbackground": true,
                        "ticks": "",
                        "zerolinecolor": "white"
                      },
                      "zaxis": {
                        "backgroundcolor": "#E5ECF6",
                        "gridcolor": "white",
                        "gridwidth": 2,
                        "linecolor": "white",
                        "showbackground": true,
                        "ticks": "",
                        "zerolinecolor": "white"
                      }
                    },
                    "shapedefaults": {
                      "line": {
                        "color": "#2a3f5f"
                      }
                    },
                    "ternary": {
                      "aaxis": {
                        "gridcolor": "white",
                        "linecolor": "white",
                        "ticks": ""
                      },
                      "baxis": {
                        "gridcolor": "white",
                        "linecolor": "white",
                        "ticks": ""
                      },
                      "bgcolor": "#E5ECF6",
                      "caxis": {
                        "gridcolor": "white",
                        "linecolor": "white",
                        "ticks": ""
                      }
                    },
                    "title": {
                      "x": 0.05
                    },
                    "xaxis": {
                      "automargin": true,
                      "gridcolor": "white",
                      "linecolor": "white",
                      "ticks": "",
                      "title": {
                        "standoff": 15
                      },
                      "zerolinecolor": "white",
                      "zerolinewidth": 2
                    },
                    "yaxis": {
                      "automargin": true,
                      "gridcolor": "white",
                      "linecolor": "white",
                      "ticks": "",
                      "title": {
                        "standoff": 15
                      },
                      "zerolinecolor": "white",
                      "zerolinewidth": 2
                    }
                  }
                },
                "title": {
                  "text": "Content Type by Top 15 Countries"
                },
                "xaxis": {
                  "anchor": "y",
                  "domain": [
                    0,
                    1
                  ],
                  "tickangle": -45,
                  "title": {
                    "text": "Country"
                  }
                },
                "yaxis": {
                  "anchor": "x",
                  "domain": [
                    0,
                    1
                  ],
                  "title": {
                    "text": "Count"
                  }
                }
              }
            }
          },
          "metadata": {},
          "output_type": "display_data"
        }
      ],
      "source": [
        "# Group by country and type, then count titles\n",
        "content_by_country = df.groupby(['country', 'type']).size().reset_index(name='count')\n",
        "\n",
        "# Pivot the data to have separate columns for Movie and TV Show counts\n",
        "content_by_country = content_by_country.pivot(index='country', columns='type', values='count').fillna(0).reset_index()\n",
        "\n",
        "# Rename columns for clarity\n",
        "content_by_country.columns = ['country', 'Movie_Count', 'TV_Show_Count']\n",
        "\n",
        "# Now you can proceed with sorting and visualization\n",
        "top_15_countries = content_by_country.sort_values(by=['Movie_Count', 'TV_Show_Count'], ascending=False).head(15)\n",
        "\n",
        "# Create a bar chart using Plotly Express\n",
        "fig = px.bar(top_15_countries, x='country', y=['Movie_Count', 'TV_Show_Count'],\n",
        "             title='Content Type by Top 15 Countries', barmode='group',\n",
        "             labels={'country': 'Country', 'value': 'Count', 'variable': 'Content Type'},\n",
        "             text_auto=True,  # Display count numbers on bars\n",
        "             height=800)  # Increase bar height\n",
        "\n",
        "fig.update_traces(textfont_size=12, textangle=0, textposition='outside', cliponaxis=False)  # Adjust text properties\n",
        "fig.update_layout(xaxis_tickangle=-45) # Rotate x-axis labels for better visibility\n",
        "fig.show()"
      ]
    },
    {
      "cell_type": "markdown",
      "metadata": {
        "id": "r7u52IeLUwI6"
      },
      "source": [
        "The **United States** leads with the highest counts—approximately **1850 movies and 705 TV** shows—indicating its dominant contribution to Netflix's content library.\n",
        "\n",
        "**India** follows with a high movie count (**around 852**) but significantly fewer TV shows (**around 71**), suggesting a shift in content type distribution.\n",
        "\n",
        "**Other countries** like the United Kingdom, Canada, Spain, and others show varying levels of content production."
      ]
    },
    {
      "cell_type": "code",
      "execution_count": 33,
      "metadata": {
        "colab": {
          "base_uri": "https://localhost:8080/",
          "height": 423
        },
        "id": "hRCKSvBXTtIq",
        "outputId": "b833464c-df46-4c86-9af8-955233aee006"
      },
      "outputs": [
        {
          "data": {
            "text/html": [
              "<div>\n",
              "<style scoped>\n",
              "    .dataframe tbody tr th:only-of-type {\n",
              "        vertical-align: middle;\n",
              "    }\n",
              "\n",
              "    .dataframe tbody tr th {\n",
              "        vertical-align: top;\n",
              "    }\n",
              "\n",
              "    .dataframe thead th {\n",
              "        text-align: right;\n",
              "    }\n",
              "</style>\n",
              "<table border=\"1\" class=\"dataframe\">\n",
              "  <thead>\n",
              "    <tr style=\"text-align: right;\">\n",
              "      <th></th>\n",
              "      <th>country</th>\n",
              "      <th>Movie_Count</th>\n",
              "      <th>TV_Show_Count</th>\n",
              "    </tr>\n",
              "  </thead>\n",
              "  <tbody>\n",
              "    <tr>\n",
              "      <th>0</th>\n",
              "      <td>Argentina</td>\n",
              "      <td>34.0</td>\n",
              "      <td>16.0</td>\n",
              "    </tr>\n",
              "    <tr>\n",
              "      <th>1</th>\n",
              "      <td>Argentina, Brazil, France, Poland, Germany, De...</td>\n",
              "      <td>1.0</td>\n",
              "      <td>0.0</td>\n",
              "    </tr>\n",
              "    <tr>\n",
              "      <th>2</th>\n",
              "      <td>Argentina, Chile</td>\n",
              "      <td>1.0</td>\n",
              "      <td>0.0</td>\n",
              "    </tr>\n",
              "    <tr>\n",
              "      <th>3</th>\n",
              "      <td>Argentina, Chile, Peru</td>\n",
              "      <td>1.0</td>\n",
              "      <td>0.0</td>\n",
              "    </tr>\n",
              "    <tr>\n",
              "      <th>4</th>\n",
              "      <td>Argentina, France</td>\n",
              "      <td>1.0</td>\n",
              "      <td>0.0</td>\n",
              "    </tr>\n",
              "    <tr>\n",
              "      <th>...</th>\n",
              "      <td>...</td>\n",
              "      <td>...</td>\n",
              "      <td>...</td>\n",
              "    </tr>\n",
              "    <tr>\n",
              "      <th>677</th>\n",
              "      <td>Venezuela</td>\n",
              "      <td>1.0</td>\n",
              "      <td>0.0</td>\n",
              "    </tr>\n",
              "    <tr>\n",
              "      <th>678</th>\n",
              "      <td>Venezuela, Colombia</td>\n",
              "      <td>1.0</td>\n",
              "      <td>0.0</td>\n",
              "    </tr>\n",
              "    <tr>\n",
              "      <th>679</th>\n",
              "      <td>Vietnam</td>\n",
              "      <td>5.0</td>\n",
              "      <td>0.0</td>\n",
              "    </tr>\n",
              "    <tr>\n",
              "      <th>680</th>\n",
              "      <td>West Germany</td>\n",
              "      <td>1.0</td>\n",
              "      <td>0.0</td>\n",
              "    </tr>\n",
              "    <tr>\n",
              "      <th>681</th>\n",
              "      <td>Zimbabwe</td>\n",
              "      <td>1.0</td>\n",
              "      <td>0.0</td>\n",
              "    </tr>\n",
              "  </tbody>\n",
              "</table>\n",
              "<p>682 rows × 3 columns</p>\n",
              "</div>"
            ],
            "text/plain": [
              "                                               country  Movie_Count  \\\n",
              "0                                            Argentina         34.0   \n",
              "1    Argentina, Brazil, France, Poland, Germany, De...          1.0   \n",
              "2                                     Argentina, Chile          1.0   \n",
              "3                               Argentina, Chile, Peru          1.0   \n",
              "4                                    Argentina, France          1.0   \n",
              "..                                                 ...          ...   \n",
              "677                                          Venezuela          1.0   \n",
              "678                                Venezuela, Colombia          1.0   \n",
              "679                                            Vietnam          5.0   \n",
              "680                                       West Germany          1.0   \n",
              "681                                           Zimbabwe          1.0   \n",
              "\n",
              "     TV_Show_Count  \n",
              "0             16.0  \n",
              "1              0.0  \n",
              "2              0.0  \n",
              "3              0.0  \n",
              "4              0.0  \n",
              "..             ...  \n",
              "677            0.0  \n",
              "678            0.0  \n",
              "679            0.0  \n",
              "680            0.0  \n",
              "681            0.0  \n",
              "\n",
              "[682 rows x 3 columns]"
            ]
          },
          "execution_count": 33,
          "metadata": {},
          "output_type": "execute_result"
        }
      ],
      "source": [
        "# Display the content type distribution for all countries\n",
        "content_by_country[['country', 'Movie_Count', 'TV_Show_Count']]"
      ]
    },
    {
      "cell_type": "markdown",
      "metadata": {
        "id": "8xYuA6BmWVOB"
      },
      "source": [
        "#### **Genre Analysis** by Country"
      ]
    },
    {
      "cell_type": "code",
      "execution_count": 34,
      "metadata": {
        "colab": {
          "base_uri": "https://localhost:8080/",
          "height": 542
        },
        "id": "vCD2HsLrWXA8",
        "outputId": "dee234a5-7c0f-4624-af48-4682c9f8546e"
      },
      "outputs": [
        {
          "data": {
            "application/vnd.plotly.v1+json": {
              "config": {
                "plotlyServerURL": "https://plot.ly"
              },
              "data": [
                {
                  "branchvalues": "total",
                  "domain": {
                    "x": [
                      0,
                      1
                    ],
                    "y": [
                      0,
                      1
                    ]
                  },
                  "hovertemplate": "labels=%{label}<br>count=%{value}<br>parent=%{parent}<br>id=%{id}<extra></extra>",
                  "ids": [
                    "Canada/Action & Adventure",
                    "Canada/Children & Family Movies",
                    "Canada/Classic & Cult TV",
                    "Canada/Comedies",
                    "Canada/Crime TV Shows",
                    "Canada/Cult Movies",
                    "Canada/Documentaries",
                    "Canada/Docuseries",
                    "Canada/Dramas",
                    "Canada/Faith & Spirituality",
                    "Canada/Horror Movies",
                    "Canada/Independent Movies",
                    "Canada/International Movies",
                    "Canada/International TV Shows",
                    "Canada/Kids' TV",
                    "Canada/Korean TV Shows",
                    "Canada/LGBTQ Movies",
                    "Canada/Movies",
                    "Canada/Music & Musicals",
                    "Canada/Reality TV",
                    "Canada/Romantic Movies",
                    "Canada/Romantic TV Shows",
                    "Canada/Sci-Fi & Fantasy",
                    "Canada/Science & Nature TV",
                    "Canada/Sports Movies",
                    "Canada/Stand-Up Comedy",
                    "Canada/TV Action & Adventure",
                    "Canada/TV Comedies",
                    "Canada/TV Dramas",
                    "Canada/TV Horror",
                    "Canada/TV Mysteries",
                    "Canada/TV Sci-Fi & Fantasy",
                    "Canada/TV Thrillers",
                    "Canada/Teen TV Shows",
                    "Canada/Thrillers",
                    "Egypt/Action & Adventure",
                    "Egypt/Children & Family Movies",
                    "Egypt/Classic Movies",
                    "Egypt/Comedies",
                    "Egypt/Crime TV Shows",
                    "Egypt/Dramas",
                    "Egypt/Horror Movies",
                    "Egypt/Independent Movies",
                    "Egypt/International Movies",
                    "Egypt/International TV Shows",
                    "Egypt/Music & Musicals",
                    "Egypt/Romantic Movies",
                    "Egypt/Romantic TV Shows",
                    "Egypt/Sports Movies",
                    "Egypt/TV Comedies",
                    "Egypt/TV Dramas",
                    "Egypt/TV Horror",
                    "Egypt/TV Mysteries",
                    "Egypt/TV Sci-Fi & Fantasy",
                    "Egypt/Thrillers",
                    "France/Action & Adventure",
                    "France/Children & Family Movies",
                    "France/Comedies",
                    "France/Crime TV Shows",
                    "France/Documentaries",
                    "France/Docuseries",
                    "France/Dramas",
                    "France/Independent Movies",
                    "France/International Movies",
                    "France/International TV Shows",
                    "France/Kids' TV",
                    "France/LGBTQ Movies",
                    "France/Music & Musicals",
                    "France/Reality TV",
                    "France/Romantic Movies",
                    "France/Romantic TV Shows",
                    "France/Sci-Fi & Fantasy",
                    "France/Sports Movies",
                    "France/Stand-Up Comedy",
                    "France/Stand-Up Comedy & Talk Shows",
                    "France/TV Action & Adventure",
                    "France/TV Comedies",
                    "France/TV Dramas",
                    "France/TV Horror",
                    "France/TV Mysteries",
                    "France/TV Thrillers",
                    "France/Thrillers",
                    "India/Action & Adventure",
                    "India/British TV Shows",
                    "India/Children & Family Movies",
                    "India/Classic Movies",
                    "India/Comedies",
                    "India/Crime TV Shows",
                    "India/Cult Movies",
                    "India/Documentaries",
                    "India/Docuseries",
                    "India/Dramas",
                    "India/Faith & Spirituality",
                    "India/Horror Movies",
                    "India/Independent Movies",
                    "India/International Movies",
                    "India/International TV Shows",
                    "India/Kids' TV",
                    "India/LGBTQ Movies",
                    "India/Music & Musicals",
                    "India/Reality TV",
                    "India/Romantic Movies",
                    "India/Romantic TV Shows",
                    "India/Sci-Fi & Fantasy",
                    "India/Sports Movies",
                    "India/Stand-Up Comedy",
                    "India/Stand-Up Comedy & Talk Shows",
                    "India/TV Action & Adventure",
                    "India/TV Comedies",
                    "India/TV Dramas",
                    "India/TV Horror",
                    "India/TV Mysteries",
                    "India/TV Sci-Fi & Fantasy",
                    "India/TV Shows",
                    "India/TV Thrillers",
                    "India/Teen TV Shows",
                    "India/Thrillers",
                    "Indonesia/Action & Adventure",
                    "Indonesia/Children & Family Movies",
                    "Indonesia/Comedies",
                    "Indonesia/Documentaries",
                    "Indonesia/Dramas",
                    "Indonesia/Faith & Spirituality",
                    "Indonesia/Horror Movies",
                    "Indonesia/International Movies",
                    "Indonesia/International TV Shows",
                    "Indonesia/Music & Musicals",
                    "Indonesia/Romantic Movies",
                    "Indonesia/Romantic TV Shows",
                    "Indonesia/Sports Movies",
                    "Indonesia/TV Comedies",
                    "Indonesia/TV Dramas",
                    "Japan/Action & Adventure",
                    "Japan/Anime Features",
                    "Japan/Anime Series",
                    "Japan/Children & Family Movies",
                    "Japan/Classic Movies",
                    "Japan/Crime TV Shows",
                    "Japan/Docuseries",
                    "Japan/Dramas",
                    "Japan/Horror Movies",
                    "Japan/International Movies",
                    "Japan/International TV Shows",
                    "Japan/Kids' TV",
                    "Japan/Movies",
                    "Japan/Music & Musicals",
                    "Japan/Reality TV",
                    "Japan/Romantic Movies",
                    "Japan/Romantic TV Shows",
                    "Japan/Sci-Fi & Fantasy",
                    "Japan/Stand-Up Comedy & Talk Shows",
                    "Japan/TV Action & Adventure",
                    "Japan/TV Comedies",
                    "Japan/TV Dramas",
                    "Japan/TV Horror",
                    "Japan/TV Mysteries",
                    "Japan/TV Shows",
                    "Japan/TV Thrillers",
                    "Japan/Teen TV Shows",
                    "Japan/Thrillers",
                    "Mexico/Action & Adventure",
                    "Mexico/Children & Family Movies",
                    "Mexico/Classic & Cult TV",
                    "Mexico/Classic Movies",
                    "Mexico/Comedies",
                    "Mexico/Crime TV Shows",
                    "Mexico/Documentaries",
                    "Mexico/Docuseries",
                    "Mexico/Dramas",
                    "Mexico/Horror Movies",
                    "Mexico/Independent Movies",
                    "Mexico/International Movies",
                    "Mexico/International TV Shows",
                    "Mexico/Kids' TV",
                    "Mexico/LGBTQ Movies",
                    "Mexico/Music & Musicals",
                    "Mexico/Romantic Movies",
                    "Mexico/Romantic TV Shows",
                    "Mexico/Sci-Fi & Fantasy",
                    "Mexico/Spanish-Language TV Shows",
                    "Mexico/Sports Movies",
                    "Mexico/Stand-Up Comedy",
                    "Mexico/Stand-Up Comedy & Talk Shows",
                    "Mexico/TV Action & Adventure",
                    "Mexico/TV Comedies",
                    "Mexico/TV Dramas",
                    "Mexico/Thrillers",
                    "Nigeria/Action & Adventure",
                    "Nigeria/Comedies",
                    "Nigeria/Documentaries",
                    "Nigeria/Dramas",
                    "Nigeria/Horror Movies",
                    "Nigeria/Independent Movies",
                    "Nigeria/International Movies",
                    "Nigeria/International TV Shows",
                    "Nigeria/Music & Musicals",
                    "Nigeria/Romantic Movies",
                    "Nigeria/Romantic TV Shows",
                    "Nigeria/TV Comedies",
                    "Nigeria/TV Dramas",
                    "Nigeria/Thrillers",
                    "Not available/Action & Adventure",
                    "Not available/Anime Series",
                    "Not available/British TV Shows",
                    "Not available/Children & Family Movies",
                    "Not available/Comedies",
                    "Not available/Crime TV Shows",
                    "Not available/Documentaries",
                    "Not available/Docuseries",
                    "Not available/Dramas",
                    "Not available/Faith & Spirituality",
                    "Not available/Horror Movies",
                    "Not available/Independent Movies",
                    "Not available/International Movies",
                    "Not available/International TV Shows",
                    "Not available/Kids' TV",
                    "Not available/Korean TV Shows",
                    "Not available/LGBTQ Movies",
                    "Not available/Movies",
                    "Not available/Music & Musicals",
                    "Not available/Reality TV",
                    "Not available/Romantic Movies",
                    "Not available/Romantic TV Shows",
                    "Not available/Sci-Fi & Fantasy",
                    "Not available/Science & Nature TV",
                    "Not available/Spanish-Language TV Shows",
                    "Not available/Sports Movies",
                    "Not available/Stand-Up Comedy",
                    "Not available/Stand-Up Comedy & Talk Shows",
                    "Not available/TV Action & Adventure",
                    "Not available/TV Comedies",
                    "Not available/TV Dramas",
                    "Not available/TV Horror",
                    "Not available/TV Mysteries",
                    "Not available/TV Sci-Fi & Fantasy",
                    "Not available/TV Shows",
                    "Not available/TV Thrillers",
                    "Not available/Teen TV Shows",
                    "Not available/Thrillers",
                    "Philippines/Action & Adventure",
                    "Philippines/Comedies",
                    "Philippines/Dramas",
                    "Philippines/Horror Movies",
                    "Philippines/Independent Movies",
                    "Philippines/International Movies",
                    "Philippines/International TV Shows",
                    "Philippines/LGBTQ Movies",
                    "Philippines/Music & Musicals",
                    "Philippines/Romantic Movies",
                    "Philippines/Sports Movies",
                    "Philippines/TV Dramas",
                    "Spain/Action & Adventure",
                    "Spain/Anime Series",
                    "Spain/Children & Family Movies",
                    "Spain/Comedies",
                    "Spain/Crime TV Shows",
                    "Spain/Documentaries",
                    "Spain/Docuseries",
                    "Spain/Dramas",
                    "Spain/Faith & Spirituality",
                    "Spain/Horror Movies",
                    "Spain/Independent Movies",
                    "Spain/International Movies",
                    "Spain/International TV Shows",
                    "Spain/Kids' TV",
                    "Spain/LGBTQ Movies",
                    "Spain/Movies",
                    "Spain/Music & Musicals",
                    "Spain/Reality TV",
                    "Spain/Romantic Movies",
                    "Spain/Romantic TV Shows",
                    "Spain/Sci-Fi & Fantasy",
                    "Spain/Spanish-Language TV Shows",
                    "Spain/Sports Movies",
                    "Spain/TV Action & Adventure",
                    "Spain/TV Comedies",
                    "Spain/TV Dramas",
                    "Spain/Teen TV Shows",
                    "Spain/Thrillers",
                    "Turkey/Action & Adventure",
                    "Turkey/Children & Family Movies",
                    "Turkey/Comedies",
                    "Turkey/Crime TV Shows",
                    "Turkey/Dramas",
                    "Turkey/Horror Movies",
                    "Turkey/Independent Movies",
                    "Turkey/International Movies",
                    "Turkey/International TV Shows",
                    "Turkey/Music & Musicals",
                    "Turkey/Romantic Movies",
                    "Turkey/Romantic TV Shows",
                    "Turkey/Sports Movies",
                    "Turkey/TV Action & Adventure",
                    "Turkey/TV Comedies",
                    "Turkey/TV Dramas",
                    "Turkey/TV Horror",
                    "Turkey/TV Mysteries",
                    "Turkey/TV Thrillers",
                    "Turkey/Teen TV Shows",
                    "Turkey/Thrillers",
                    "United Kingdom/Action & Adventure",
                    "United Kingdom/British TV Shows",
                    "United Kingdom/Children & Family Movies",
                    "United Kingdom/Classic & Cult TV",
                    "United Kingdom/Classic Movies",
                    "United Kingdom/Comedies",
                    "United Kingdom/Crime TV Shows",
                    "United Kingdom/Cult Movies",
                    "United Kingdom/Documentaries",
                    "United Kingdom/Docuseries",
                    "United Kingdom/Dramas",
                    "United Kingdom/Horror Movies",
                    "United Kingdom/Independent Movies",
                    "United Kingdom/International Movies",
                    "United Kingdom/International TV Shows",
                    "United Kingdom/Kids' TV",
                    "United Kingdom/LGBTQ Movies",
                    "United Kingdom/Movies",
                    "United Kingdom/Music & Musicals",
                    "United Kingdom/Reality TV",
                    "United Kingdom/Romantic Movies",
                    "United Kingdom/Romantic TV Shows",
                    "United Kingdom/Sci-Fi & Fantasy",
                    "United Kingdom/Science & Nature TV",
                    "United Kingdom/Sports Movies",
                    "United Kingdom/Stand-Up Comedy",
                    "United Kingdom/Stand-Up Comedy & Talk Shows",
                    "United Kingdom/TV Action & Adventure",
                    "United Kingdom/TV Comedies",
                    "United Kingdom/TV Dramas",
                    "United Kingdom/TV Horror",
                    "United Kingdom/TV Mysteries",
                    "United Kingdom/TV Sci-Fi & Fantasy",
                    "United Kingdom/TV Thrillers",
                    "United Kingdom/Thrillers",
                    "United Kingdom, United States/Action & Adventure",
                    "United Kingdom, United States/British TV Shows",
                    "United Kingdom, United States/Children & Family Movies",
                    "United Kingdom, United States/Classic & Cult TV",
                    "United Kingdom, United States/Classic Movies",
                    "United Kingdom, United States/Comedies",
                    "United Kingdom, United States/Crime TV Shows",
                    "United Kingdom, United States/Cult Movies",
                    "United Kingdom, United States/Documentaries",
                    "United Kingdom, United States/Docuseries",
                    "United Kingdom, United States/Dramas",
                    "United Kingdom, United States/Faith & Spirituality",
                    "United Kingdom, United States/Horror Movies",
                    "United Kingdom, United States/Independent Movies",
                    "United Kingdom, United States/International Movies",
                    "United Kingdom, United States/International TV Shows",
                    "United Kingdom, United States/Kids' TV",
                    "United Kingdom, United States/Music & Musicals",
                    "United Kingdom, United States/Romantic Movies",
                    "United Kingdom, United States/Sci-Fi & Fantasy",
                    "United Kingdom, United States/Science & Nature TV",
                    "United Kingdom, United States/TV Action & Adventure",
                    "United Kingdom, United States/TV Comedies",
                    "United Kingdom, United States/TV Dramas",
                    "United Kingdom, United States/TV Sci-Fi & Fantasy",
                    "United Kingdom, United States/Thrillers",
                    "United States/Action & Adventure",
                    "United States/Anime Features",
                    "United States/Anime Series",
                    "United States/British TV Shows",
                    "United States/Children & Family Movies",
                    "United States/Classic & Cult TV",
                    "United States/Classic Movies",
                    "United States/Comedies",
                    "United States/Crime TV Shows",
                    "United States/Cult Movies",
                    "United States/Documentaries",
                    "United States/Docuseries",
                    "United States/Dramas",
                    "United States/Faith & Spirituality",
                    "United States/Horror Movies",
                    "United States/Independent Movies",
                    "United States/International Movies",
                    "United States/International TV Shows",
                    "United States/Kids' TV",
                    "United States/Korean TV Shows",
                    "United States/LGBTQ Movies",
                    "United States/Movies",
                    "United States/Music & Musicals",
                    "United States/Reality TV",
                    "United States/Romantic Movies",
                    "United States/Romantic TV Shows",
                    "United States/Sci-Fi & Fantasy",
                    "United States/Science & Nature TV",
                    "United States/Spanish-Language TV Shows",
                    "United States/Sports Movies",
                    "United States/Stand-Up Comedy",
                    "United States/Stand-Up Comedy & Talk Shows",
                    "United States/TV Action & Adventure",
                    "United States/TV Comedies",
                    "United States/TV Dramas",
                    "United States/TV Horror",
                    "United States/TV Mysteries",
                    "United States/TV Sci-Fi & Fantasy",
                    "United States/TV Shows",
                    "United States/TV Thrillers",
                    "United States/Teen TV Shows",
                    "United States/Thrillers",
                    "Canada",
                    "Egypt",
                    "France",
                    "India",
                    "Indonesia",
                    "Japan",
                    "Mexico",
                    "Nigeria",
                    "Not available",
                    "Philippines",
                    "Spain",
                    "Turkey",
                    "United Kingdom",
                    "United Kingdom, United States",
                    "United States"
                  ],
                  "labels": [
                    "Action & Adventure",
                    "Children & Family Movies",
                    "Classic & Cult TV",
                    "Comedies",
                    "Crime TV Shows",
                    "Cult Movies",
                    "Documentaries",
                    "Docuseries",
                    "Dramas",
                    "Faith & Spirituality",
                    "Horror Movies",
                    "Independent Movies",
                    "International Movies",
                    "International TV Shows",
                    "Kids' TV",
                    "Korean TV Shows",
                    "LGBTQ Movies",
                    "Movies",
                    "Music & Musicals",
                    "Reality TV",
                    "Romantic Movies",
                    "Romantic TV Shows",
                    "Sci-Fi & Fantasy",
                    "Science & Nature TV",
                    "Sports Movies",
                    "Stand-Up Comedy",
                    "TV Action & Adventure",
                    "TV Comedies",
                    "TV Dramas",
                    "TV Horror",
                    "TV Mysteries",
                    "TV Sci-Fi & Fantasy",
                    "TV Thrillers",
                    "Teen TV Shows",
                    "Thrillers",
                    "Action & Adventure",
                    "Children & Family Movies",
                    "Classic Movies",
                    "Comedies",
                    "Crime TV Shows",
                    "Dramas",
                    "Horror Movies",
                    "Independent Movies",
                    "International Movies",
                    "International TV Shows",
                    "Music & Musicals",
                    "Romantic Movies",
                    "Romantic TV Shows",
                    "Sports Movies",
                    "TV Comedies",
                    "TV Dramas",
                    "TV Horror",
                    "TV Mysteries",
                    "TV Sci-Fi & Fantasy",
                    "Thrillers",
                    "Action & Adventure",
                    "Children & Family Movies",
                    "Comedies",
                    "Crime TV Shows",
                    "Documentaries",
                    "Docuseries",
                    "Dramas",
                    "Independent Movies",
                    "International Movies",
                    "International TV Shows",
                    "Kids' TV",
                    "LGBTQ Movies",
                    "Music & Musicals",
                    "Reality TV",
                    "Romantic Movies",
                    "Romantic TV Shows",
                    "Sci-Fi & Fantasy",
                    "Sports Movies",
                    "Stand-Up Comedy",
                    "Stand-Up Comedy & Talk Shows",
                    "TV Action & Adventure",
                    "TV Comedies",
                    "TV Dramas",
                    "TV Horror",
                    "TV Mysteries",
                    "TV Thrillers",
                    "Thrillers",
                    "Action & Adventure",
                    "British TV Shows",
                    "Children & Family Movies",
                    "Classic Movies",
                    "Comedies",
                    "Crime TV Shows",
                    "Cult Movies",
                    "Documentaries",
                    "Docuseries",
                    "Dramas",
                    "Faith & Spirituality",
                    "Horror Movies",
                    "Independent Movies",
                    "International Movies",
                    "International TV Shows",
                    "Kids' TV",
                    "LGBTQ Movies",
                    "Music & Musicals",
                    "Reality TV",
                    "Romantic Movies",
                    "Romantic TV Shows",
                    "Sci-Fi & Fantasy",
                    "Sports Movies",
                    "Stand-Up Comedy",
                    "Stand-Up Comedy & Talk Shows",
                    "TV Action & Adventure",
                    "TV Comedies",
                    "TV Dramas",
                    "TV Horror",
                    "TV Mysteries",
                    "TV Sci-Fi & Fantasy",
                    "TV Shows",
                    "TV Thrillers",
                    "Teen TV Shows",
                    "Thrillers",
                    "Action & Adventure",
                    "Children & Family Movies",
                    "Comedies",
                    "Documentaries",
                    "Dramas",
                    "Faith & Spirituality",
                    "Horror Movies",
                    "International Movies",
                    "International TV Shows",
                    "Music & Musicals",
                    "Romantic Movies",
                    "Romantic TV Shows",
                    "Sports Movies",
                    "TV Comedies",
                    "TV Dramas",
                    "Action & Adventure",
                    "Anime Features",
                    "Anime Series",
                    "Children & Family Movies",
                    "Classic Movies",
                    "Crime TV Shows",
                    "Docuseries",
                    "Dramas",
                    "Horror Movies",
                    "International Movies",
                    "International TV Shows",
                    "Kids' TV",
                    "Movies",
                    "Music & Musicals",
                    "Reality TV",
                    "Romantic Movies",
                    "Romantic TV Shows",
                    "Sci-Fi & Fantasy",
                    "Stand-Up Comedy & Talk Shows",
                    "TV Action & Adventure",
                    "TV Comedies",
                    "TV Dramas",
                    "TV Horror",
                    "TV Mysteries",
                    "TV Shows",
                    "TV Thrillers",
                    "Teen TV Shows",
                    "Thrillers",
                    "Action & Adventure",
                    "Children & Family Movies",
                    "Classic & Cult TV",
                    "Classic Movies",
                    "Comedies",
                    "Crime TV Shows",
                    "Documentaries",
                    "Docuseries",
                    "Dramas",
                    "Horror Movies",
                    "Independent Movies",
                    "International Movies",
                    "International TV Shows",
                    "Kids' TV",
                    "LGBTQ Movies",
                    "Music & Musicals",
                    "Romantic Movies",
                    "Romantic TV Shows",
                    "Sci-Fi & Fantasy",
                    "Spanish-Language TV Shows",
                    "Sports Movies",
                    "Stand-Up Comedy",
                    "Stand-Up Comedy & Talk Shows",
                    "TV Action & Adventure",
                    "TV Comedies",
                    "TV Dramas",
                    "Thrillers",
                    "Action & Adventure",
                    "Comedies",
                    "Documentaries",
                    "Dramas",
                    "Horror Movies",
                    "Independent Movies",
                    "International Movies",
                    "International TV Shows",
                    "Music & Musicals",
                    "Romantic Movies",
                    "Romantic TV Shows",
                    "TV Comedies",
                    "TV Dramas",
                    "Thrillers",
                    "Action & Adventure",
                    "Anime Series",
                    "British TV Shows",
                    "Children & Family Movies",
                    "Comedies",
                    "Crime TV Shows",
                    "Documentaries",
                    "Docuseries",
                    "Dramas",
                    "Faith & Spirituality",
                    "Horror Movies",
                    "Independent Movies",
                    "International Movies",
                    "International TV Shows",
                    "Kids' TV",
                    "Korean TV Shows",
                    "LGBTQ Movies",
                    "Movies",
                    "Music & Musicals",
                    "Reality TV",
                    "Romantic Movies",
                    "Romantic TV Shows",
                    "Sci-Fi & Fantasy",
                    "Science & Nature TV",
                    "Spanish-Language TV Shows",
                    "Sports Movies",
                    "Stand-Up Comedy",
                    "Stand-Up Comedy & Talk Shows",
                    "TV Action & Adventure",
                    "TV Comedies",
                    "TV Dramas",
                    "TV Horror",
                    "TV Mysteries",
                    "TV Sci-Fi & Fantasy",
                    "TV Shows",
                    "TV Thrillers",
                    "Teen TV Shows",
                    "Thrillers",
                    "Action & Adventure",
                    "Comedies",
                    "Dramas",
                    "Horror Movies",
                    "Independent Movies",
                    "International Movies",
                    "International TV Shows",
                    "LGBTQ Movies",
                    "Music & Musicals",
                    "Romantic Movies",
                    "Sports Movies",
                    "TV Dramas",
                    "Action & Adventure",
                    "Anime Series",
                    "Children & Family Movies",
                    "Comedies",
                    "Crime TV Shows",
                    "Documentaries",
                    "Docuseries",
                    "Dramas",
                    "Faith & Spirituality",
                    "Horror Movies",
                    "Independent Movies",
                    "International Movies",
                    "International TV Shows",
                    "Kids' TV",
                    "LGBTQ Movies",
                    "Movies",
                    "Music & Musicals",
                    "Reality TV",
                    "Romantic Movies",
                    "Romantic TV Shows",
                    "Sci-Fi & Fantasy",
                    "Spanish-Language TV Shows",
                    "Sports Movies",
                    "TV Action & Adventure",
                    "TV Comedies",
                    "TV Dramas",
                    "Teen TV Shows",
                    "Thrillers",
                    "Action & Adventure",
                    "Children & Family Movies",
                    "Comedies",
                    "Crime TV Shows",
                    "Dramas",
                    "Horror Movies",
                    "Independent Movies",
                    "International Movies",
                    "International TV Shows",
                    "Music & Musicals",
                    "Romantic Movies",
                    "Romantic TV Shows",
                    "Sports Movies",
                    "TV Action & Adventure",
                    "TV Comedies",
                    "TV Dramas",
                    "TV Horror",
                    "TV Mysteries",
                    "TV Thrillers",
                    "Teen TV Shows",
                    "Thrillers",
                    "Action & Adventure",
                    "British TV Shows",
                    "Children & Family Movies",
                    "Classic & Cult TV",
                    "Classic Movies",
                    "Comedies",
                    "Crime TV Shows",
                    "Cult Movies",
                    "Documentaries",
                    "Docuseries",
                    "Dramas",
                    "Horror Movies",
                    "Independent Movies",
                    "International Movies",
                    "International TV Shows",
                    "Kids' TV",
                    "LGBTQ Movies",
                    "Movies",
                    "Music & Musicals",
                    "Reality TV",
                    "Romantic Movies",
                    "Romantic TV Shows",
                    "Sci-Fi & Fantasy",
                    "Science & Nature TV",
                    "Sports Movies",
                    "Stand-Up Comedy",
                    "Stand-Up Comedy & Talk Shows",
                    "TV Action & Adventure",
                    "TV Comedies",
                    "TV Dramas",
                    "TV Horror",
                    "TV Mysteries",
                    "TV Sci-Fi & Fantasy",
                    "TV Thrillers",
                    "Thrillers",
                    "Action & Adventure",
                    "British TV Shows",
                    "Children & Family Movies",
                    "Classic & Cult TV",
                    "Classic Movies",
                    "Comedies",
                    "Crime TV Shows",
                    "Cult Movies",
                    "Documentaries",
                    "Docuseries",
                    "Dramas",
                    "Faith & Spirituality",
                    "Horror Movies",
                    "Independent Movies",
                    "International Movies",
                    "International TV Shows",
                    "Kids' TV",
                    "Music & Musicals",
                    "Romantic Movies",
                    "Sci-Fi & Fantasy",
                    "Science & Nature TV",
                    "TV Action & Adventure",
                    "TV Comedies",
                    "TV Dramas",
                    "TV Sci-Fi & Fantasy",
                    "Thrillers",
                    "Action & Adventure",
                    "Anime Features",
                    "Anime Series",
                    "British TV Shows",
                    "Children & Family Movies",
                    "Classic & Cult TV",
                    "Classic Movies",
                    "Comedies",
                    "Crime TV Shows",
                    "Cult Movies",
                    "Documentaries",
                    "Docuseries",
                    "Dramas",
                    "Faith & Spirituality",
                    "Horror Movies",
                    "Independent Movies",
                    "International Movies",
                    "International TV Shows",
                    "Kids' TV",
                    "Korean TV Shows",
                    "LGBTQ Movies",
                    "Movies",
                    "Music & Musicals",
                    "Reality TV",
                    "Romantic Movies",
                    "Romantic TV Shows",
                    "Sci-Fi & Fantasy",
                    "Science & Nature TV",
                    "Spanish-Language TV Shows",
                    "Sports Movies",
                    "Stand-Up Comedy",
                    "Stand-Up Comedy & Talk Shows",
                    "TV Action & Adventure",
                    "TV Comedies",
                    "TV Dramas",
                    "TV Horror",
                    "TV Mysteries",
                    "TV Sci-Fi & Fantasy",
                    "TV Shows",
                    "TV Thrillers",
                    "Teen TV Shows",
                    "Thrillers",
                    "Canada",
                    "Egypt",
                    "France",
                    "India",
                    "Indonesia",
                    "Japan",
                    "Mexico",
                    "Nigeria",
                    "Not available",
                    "Philippines",
                    "Spain",
                    "Turkey",
                    "United Kingdom",
                    "United Kingdom, United States",
                    "United States"
                  ],
                  "name": "",
                  "parents": [
                    "Canada",
                    "Canada",
                    "Canada",
                    "Canada",
                    "Canada",
                    "Canada",
                    "Canada",
                    "Canada",
                    "Canada",
                    "Canada",
                    "Canada",
                    "Canada",
                    "Canada",
                    "Canada",
                    "Canada",
                    "Canada",
                    "Canada",
                    "Canada",
                    "Canada",
                    "Canada",
                    "Canada",
                    "Canada",
                    "Canada",
                    "Canada",
                    "Canada",
                    "Canada",
                    "Canada",
                    "Canada",
                    "Canada",
                    "Canada",
                    "Canada",
                    "Canada",
                    "Canada",
                    "Canada",
                    "Canada",
                    "Egypt",
                    "Egypt",
                    "Egypt",
                    "Egypt",
                    "Egypt",
                    "Egypt",
                    "Egypt",
                    "Egypt",
                    "Egypt",
                    "Egypt",
                    "Egypt",
                    "Egypt",
                    "Egypt",
                    "Egypt",
                    "Egypt",
                    "Egypt",
                    "Egypt",
                    "Egypt",
                    "Egypt",
                    "Egypt",
                    "France",
                    "France",
                    "France",
                    "France",
                    "France",
                    "France",
                    "France",
                    "France",
                    "France",
                    "France",
                    "France",
                    "France",
                    "France",
                    "France",
                    "France",
                    "France",
                    "France",
                    "France",
                    "France",
                    "France",
                    "France",
                    "France",
                    "France",
                    "France",
                    "France",
                    "France",
                    "France",
                    "India",
                    "India",
                    "India",
                    "India",
                    "India",
                    "India",
                    "India",
                    "India",
                    "India",
                    "India",
                    "India",
                    "India",
                    "India",
                    "India",
                    "India",
                    "India",
                    "India",
                    "India",
                    "India",
                    "India",
                    "India",
                    "India",
                    "India",
                    "India",
                    "India",
                    "India",
                    "India",
                    "India",
                    "India",
                    "India",
                    "India",
                    "India",
                    "India",
                    "India",
                    "India",
                    "Indonesia",
                    "Indonesia",
                    "Indonesia",
                    "Indonesia",
                    "Indonesia",
                    "Indonesia",
                    "Indonesia",
                    "Indonesia",
                    "Indonesia",
                    "Indonesia",
                    "Indonesia",
                    "Indonesia",
                    "Indonesia",
                    "Indonesia",
                    "Indonesia",
                    "Japan",
                    "Japan",
                    "Japan",
                    "Japan",
                    "Japan",
                    "Japan",
                    "Japan",
                    "Japan",
                    "Japan",
                    "Japan",
                    "Japan",
                    "Japan",
                    "Japan",
                    "Japan",
                    "Japan",
                    "Japan",
                    "Japan",
                    "Japan",
                    "Japan",
                    "Japan",
                    "Japan",
                    "Japan",
                    "Japan",
                    "Japan",
                    "Japan",
                    "Japan",
                    "Japan",
                    "Japan",
                    "Mexico",
                    "Mexico",
                    "Mexico",
                    "Mexico",
                    "Mexico",
                    "Mexico",
                    "Mexico",
                    "Mexico",
                    "Mexico",
                    "Mexico",
                    "Mexico",
                    "Mexico",
                    "Mexico",
                    "Mexico",
                    "Mexico",
                    "Mexico",
                    "Mexico",
                    "Mexico",
                    "Mexico",
                    "Mexico",
                    "Mexico",
                    "Mexico",
                    "Mexico",
                    "Mexico",
                    "Mexico",
                    "Mexico",
                    "Mexico",
                    "Nigeria",
                    "Nigeria",
                    "Nigeria",
                    "Nigeria",
                    "Nigeria",
                    "Nigeria",
                    "Nigeria",
                    "Nigeria",
                    "Nigeria",
                    "Nigeria",
                    "Nigeria",
                    "Nigeria",
                    "Nigeria",
                    "Nigeria",
                    "Not available",
                    "Not available",
                    "Not available",
                    "Not available",
                    "Not available",
                    "Not available",
                    "Not available",
                    "Not available",
                    "Not available",
                    "Not available",
                    "Not available",
                    "Not available",
                    "Not available",
                    "Not available",
                    "Not available",
                    "Not available",
                    "Not available",
                    "Not available",
                    "Not available",
                    "Not available",
                    "Not available",
                    "Not available",
                    "Not available",
                    "Not available",
                    "Not available",
                    "Not available",
                    "Not available",
                    "Not available",
                    "Not available",
                    "Not available",
                    "Not available",
                    "Not available",
                    "Not available",
                    "Not available",
                    "Not available",
                    "Not available",
                    "Not available",
                    "Not available",
                    "Philippines",
                    "Philippines",
                    "Philippines",
                    "Philippines",
                    "Philippines",
                    "Philippines",
                    "Philippines",
                    "Philippines",
                    "Philippines",
                    "Philippines",
                    "Philippines",
                    "Philippines",
                    "Spain",
                    "Spain",
                    "Spain",
                    "Spain",
                    "Spain",
                    "Spain",
                    "Spain",
                    "Spain",
                    "Spain",
                    "Spain",
                    "Spain",
                    "Spain",
                    "Spain",
                    "Spain",
                    "Spain",
                    "Spain",
                    "Spain",
                    "Spain",
                    "Spain",
                    "Spain",
                    "Spain",
                    "Spain",
                    "Spain",
                    "Spain",
                    "Spain",
                    "Spain",
                    "Spain",
                    "Spain",
                    "Turkey",
                    "Turkey",
                    "Turkey",
                    "Turkey",
                    "Turkey",
                    "Turkey",
                    "Turkey",
                    "Turkey",
                    "Turkey",
                    "Turkey",
                    "Turkey",
                    "Turkey",
                    "Turkey",
                    "Turkey",
                    "Turkey",
                    "Turkey",
                    "Turkey",
                    "Turkey",
                    "Turkey",
                    "Turkey",
                    "Turkey",
                    "United Kingdom",
                    "United Kingdom",
                    "United Kingdom",
                    "United Kingdom",
                    "United Kingdom",
                    "United Kingdom",
                    "United Kingdom",
                    "United Kingdom",
                    "United Kingdom",
                    "United Kingdom",
                    "United Kingdom",
                    "United Kingdom",
                    "United Kingdom",
                    "United Kingdom",
                    "United Kingdom",
                    "United Kingdom",
                    "United Kingdom",
                    "United Kingdom",
                    "United Kingdom",
                    "United Kingdom",
                    "United Kingdom",
                    "United Kingdom",
                    "United Kingdom",
                    "United Kingdom",
                    "United Kingdom",
                    "United Kingdom",
                    "United Kingdom",
                    "United Kingdom",
                    "United Kingdom",
                    "United Kingdom",
                    "United Kingdom",
                    "United Kingdom",
                    "United Kingdom",
                    "United Kingdom",
                    "United Kingdom",
                    "United Kingdom, United States",
                    "United Kingdom, United States",
                    "United Kingdom, United States",
                    "United Kingdom, United States",
                    "United Kingdom, United States",
                    "United Kingdom, United States",
                    "United Kingdom, United States",
                    "United Kingdom, United States",
                    "United Kingdom, United States",
                    "United Kingdom, United States",
                    "United Kingdom, United States",
                    "United Kingdom, United States",
                    "United Kingdom, United States",
                    "United Kingdom, United States",
                    "United Kingdom, United States",
                    "United Kingdom, United States",
                    "United Kingdom, United States",
                    "United Kingdom, United States",
                    "United Kingdom, United States",
                    "United Kingdom, United States",
                    "United Kingdom, United States",
                    "United Kingdom, United States",
                    "United Kingdom, United States",
                    "United Kingdom, United States",
                    "United Kingdom, United States",
                    "United Kingdom, United States",
                    "United States",
                    "United States",
                    "United States",
                    "United States",
                    "United States",
                    "United States",
                    "United States",
                    "United States",
                    "United States",
                    "United States",
                    "United States",
                    "United States",
                    "United States",
                    "United States",
                    "United States",
                    "United States",
                    "United States",
                    "United States",
                    "United States",
                    "United States",
                    "United States",
                    "United States",
                    "United States",
                    "United States",
                    "United States",
                    "United States",
                    "United States",
                    "United States",
                    "United States",
                    "United States",
                    "United States",
                    "United States",
                    "United States",
                    "United States",
                    "United States",
                    "United States",
                    "United States",
                    "United States",
                    "United States",
                    "United States",
                    "United States",
                    "United States",
                    "",
                    "",
                    "",
                    "",
                    "",
                    "",
                    "",
                    "",
                    "",
                    "",
                    "",
                    "",
                    "",
                    "",
                    ""
                  ],
                  "type": "treemap",
                  "values": {
                    "bdata": "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",
                    "dtype": "f8"
                  }
                }
              ],
              "layout": {
                "legend": {
                  "tracegroupgap": 0
                },
                "template": {
                  "data": {
                    "bar": [
                      {
                        "error_x": {
                          "color": "#2a3f5f"
                        },
                        "error_y": {
                          "color": "#2a3f5f"
                        },
                        "marker": {
                          "line": {
                            "color": "#E5ECF6",
                            "width": 0.5
                          },
                          "pattern": {
                            "fillmode": "overlay",
                            "size": 10,
                            "solidity": 0.2
                          }
                        },
                        "type": "bar"
                      }
                    ],
                    "barpolar": [
                      {
                        "marker": {
                          "line": {
                            "color": "#E5ECF6",
                            "width": 0.5
                          },
                          "pattern": {
                            "fillmode": "overlay",
                            "size": 10,
                            "solidity": 0.2
                          }
                        },
                        "type": "barpolar"
                      }
                    ],
                    "carpet": [
                      {
                        "aaxis": {
                          "endlinecolor": "#2a3f5f",
                          "gridcolor": "white",
                          "linecolor": "white",
                          "minorgridcolor": "white",
                          "startlinecolor": "#2a3f5f"
                        },
                        "baxis": {
                          "endlinecolor": "#2a3f5f",
                          "gridcolor": "white",
                          "linecolor": "white",
                          "minorgridcolor": "white",
                          "startlinecolor": "#2a3f5f"
                        },
                        "type": "carpet"
                      }
                    ],
                    "choropleth": [
                      {
                        "colorbar": {
                          "outlinewidth": 0,
                          "ticks": ""
                        },
                        "type": "choropleth"
                      }
                    ],
                    "contour": [
                      {
                        "colorbar": {
                          "outlinewidth": 0,
                          "ticks": ""
                        },
                        "colorscale": [
                          [
                            0,
                            "#0d0887"
                          ],
                          [
                            0.1111111111111111,
                            "#46039f"
                          ],
                          [
                            0.2222222222222222,
                            "#7201a8"
                          ],
                          [
                            0.3333333333333333,
                            "#9c179e"
                          ],
                          [
                            0.4444444444444444,
                            "#bd3786"
                          ],
                          [
                            0.5555555555555556,
                            "#d8576b"
                          ],
                          [
                            0.6666666666666666,
                            "#ed7953"
                          ],
                          [
                            0.7777777777777778,
                            "#fb9f3a"
                          ],
                          [
                            0.8888888888888888,
                            "#fdca26"
                          ],
                          [
                            1,
                            "#f0f921"
                          ]
                        ],
                        "type": "contour"
                      }
                    ],
                    "contourcarpet": [
                      {
                        "colorbar": {
                          "outlinewidth": 0,
                          "ticks": ""
                        },
                        "type": "contourcarpet"
                      }
                    ],
                    "heatmap": [
                      {
                        "colorbar": {
                          "outlinewidth": 0,
                          "ticks": ""
                        },
                        "colorscale": [
                          [
                            0,
                            "#0d0887"
                          ],
                          [
                            0.1111111111111111,
                            "#46039f"
                          ],
                          [
                            0.2222222222222222,
                            "#7201a8"
                          ],
                          [
                            0.3333333333333333,
                            "#9c179e"
                          ],
                          [
                            0.4444444444444444,
                            "#bd3786"
                          ],
                          [
                            0.5555555555555556,
                            "#d8576b"
                          ],
                          [
                            0.6666666666666666,
                            "#ed7953"
                          ],
                          [
                            0.7777777777777778,
                            "#fb9f3a"
                          ],
                          [
                            0.8888888888888888,
                            "#fdca26"
                          ],
                          [
                            1,
                            "#f0f921"
                          ]
                        ],
                        "type": "heatmap"
                      }
                    ],
                    "histogram": [
                      {
                        "marker": {
                          "pattern": {
                            "fillmode": "overlay",
                            "size": 10,
                            "solidity": 0.2
                          }
                        },
                        "type": "histogram"
                      }
                    ],
                    "histogram2d": [
                      {
                        "colorbar": {
                          "outlinewidth": 0,
                          "ticks": ""
                        },
                        "colorscale": [
                          [
                            0,
                            "#0d0887"
                          ],
                          [
                            0.1111111111111111,
                            "#46039f"
                          ],
                          [
                            0.2222222222222222,
                            "#7201a8"
                          ],
                          [
                            0.3333333333333333,
                            "#9c179e"
                          ],
                          [
                            0.4444444444444444,
                            "#bd3786"
                          ],
                          [
                            0.5555555555555556,
                            "#d8576b"
                          ],
                          [
                            0.6666666666666666,
                            "#ed7953"
                          ],
                          [
                            0.7777777777777778,
                            "#fb9f3a"
                          ],
                          [
                            0.8888888888888888,
                            "#fdca26"
                          ],
                          [
                            1,
                            "#f0f921"
                          ]
                        ],
                        "type": "histogram2d"
                      }
                    ],
                    "histogram2dcontour": [
                      {
                        "colorbar": {
                          "outlinewidth": 0,
                          "ticks": ""
                        },
                        "colorscale": [
                          [
                            0,
                            "#0d0887"
                          ],
                          [
                            0.1111111111111111,
                            "#46039f"
                          ],
                          [
                            0.2222222222222222,
                            "#7201a8"
                          ],
                          [
                            0.3333333333333333,
                            "#9c179e"
                          ],
                          [
                            0.4444444444444444,
                            "#bd3786"
                          ],
                          [
                            0.5555555555555556,
                            "#d8576b"
                          ],
                          [
                            0.6666666666666666,
                            "#ed7953"
                          ],
                          [
                            0.7777777777777778,
                            "#fb9f3a"
                          ],
                          [
                            0.8888888888888888,
                            "#fdca26"
                          ],
                          [
                            1,
                            "#f0f921"
                          ]
                        ],
                        "type": "histogram2dcontour"
                      }
                    ],
                    "mesh3d": [
                      {
                        "colorbar": {
                          "outlinewidth": 0,
                          "ticks": ""
                        },
                        "type": "mesh3d"
                      }
                    ],
                    "parcoords": [
                      {
                        "line": {
                          "colorbar": {
                            "outlinewidth": 0,
                            "ticks": ""
                          }
                        },
                        "type": "parcoords"
                      }
                    ],
                    "pie": [
                      {
                        "automargin": true,
                        "type": "pie"
                      }
                    ],
                    "scatter": [
                      {
                        "fillpattern": {
                          "fillmode": "overlay",
                          "size": 10,
                          "solidity": 0.2
                        },
                        "type": "scatter"
                      }
                    ],
                    "scatter3d": [
                      {
                        "line": {
                          "colorbar": {
                            "outlinewidth": 0,
                            "ticks": ""
                          }
                        },
                        "marker": {
                          "colorbar": {
                            "outlinewidth": 0,
                            "ticks": ""
                          }
                        },
                        "type": "scatter3d"
                      }
                    ],
                    "scattercarpet": [
                      {
                        "marker": {
                          "colorbar": {
                            "outlinewidth": 0,
                            "ticks": ""
                          }
                        },
                        "type": "scattercarpet"
                      }
                    ],
                    "scattergeo": [
                      {
                        "marker": {
                          "colorbar": {
                            "outlinewidth": 0,
                            "ticks": ""
                          }
                        },
                        "type": "scattergeo"
                      }
                    ],
                    "scattergl": [
                      {
                        "marker": {
                          "colorbar": {
                            "outlinewidth": 0,
                            "ticks": ""
                          }
                        },
                        "type": "scattergl"
                      }
                    ],
                    "scattermap": [
                      {
                        "marker": {
                          "colorbar": {
                            "outlinewidth": 0,
                            "ticks": ""
                          }
                        },
                        "type": "scattermap"
                      }
                    ],
                    "scattermapbox": [
                      {
                        "marker": {
                          "colorbar": {
                            "outlinewidth": 0,
                            "ticks": ""
                          }
                        },
                        "type": "scattermapbox"
                      }
                    ],
                    "scatterpolar": [
                      {
                        "marker": {
                          "colorbar": {
                            "outlinewidth": 0,
                            "ticks": ""
                          }
                        },
                        "type": "scatterpolar"
                      }
                    ],
                    "scatterpolargl": [
                      {
                        "marker": {
                          "colorbar": {
                            "outlinewidth": 0,
                            "ticks": ""
                          }
                        },
                        "type": "scatterpolargl"
                      }
                    ],
                    "scatterternary": [
                      {
                        "marker": {
                          "colorbar": {
                            "outlinewidth": 0,
                            "ticks": ""
                          }
                        },
                        "type": "scatterternary"
                      }
                    ],
                    "surface": [
                      {
                        "colorbar": {
                          "outlinewidth": 0,
                          "ticks": ""
                        },
                        "colorscale": [
                          [
                            0,
                            "#0d0887"
                          ],
                          [
                            0.1111111111111111,
                            "#46039f"
                          ],
                          [
                            0.2222222222222222,
                            "#7201a8"
                          ],
                          [
                            0.3333333333333333,
                            "#9c179e"
                          ],
                          [
                            0.4444444444444444,
                            "#bd3786"
                          ],
                          [
                            0.5555555555555556,
                            "#d8576b"
                          ],
                          [
                            0.6666666666666666,
                            "#ed7953"
                          ],
                          [
                            0.7777777777777778,
                            "#fb9f3a"
                          ],
                          [
                            0.8888888888888888,
                            "#fdca26"
                          ],
                          [
                            1,
                            "#f0f921"
                          ]
                        ],
                        "type": "surface"
                      }
                    ],
                    "table": [
                      {
                        "cells": {
                          "fill": {
                            "color": "#EBF0F8"
                          },
                          "line": {
                            "color": "white"
                          }
                        },
                        "header": {
                          "fill": {
                            "color": "#C8D4E3"
                          },
                          "line": {
                            "color": "white"
                          }
                        },
                        "type": "table"
                      }
                    ]
                  },
                  "layout": {
                    "annotationdefaults": {
                      "arrowcolor": "#2a3f5f",
                      "arrowhead": 0,
                      "arrowwidth": 1
                    },
                    "autotypenumbers": "strict",
                    "coloraxis": {
                      "colorbar": {
                        "outlinewidth": 0,
                        "ticks": ""
                      }
                    },
                    "colorscale": {
                      "diverging": [
                        [
                          0,
                          "#8e0152"
                        ],
                        [
                          0.1,
                          "#c51b7d"
                        ],
                        [
                          0.2,
                          "#de77ae"
                        ],
                        [
                          0.3,
                          "#f1b6da"
                        ],
                        [
                          0.4,
                          "#fde0ef"
                        ],
                        [
                          0.5,
                          "#f7f7f7"
                        ],
                        [
                          0.6,
                          "#e6f5d0"
                        ],
                        [
                          0.7,
                          "#b8e186"
                        ],
                        [
                          0.8,
                          "#7fbc41"
                        ],
                        [
                          0.9,
                          "#4d9221"
                        ],
                        [
                          1,
                          "#276419"
                        ]
                      ],
                      "sequential": [
                        [
                          0,
                          "#0d0887"
                        ],
                        [
                          0.1111111111111111,
                          "#46039f"
                        ],
                        [
                          0.2222222222222222,
                          "#7201a8"
                        ],
                        [
                          0.3333333333333333,
                          "#9c179e"
                        ],
                        [
                          0.4444444444444444,
                          "#bd3786"
                        ],
                        [
                          0.5555555555555556,
                          "#d8576b"
                        ],
                        [
                          0.6666666666666666,
                          "#ed7953"
                        ],
                        [
                          0.7777777777777778,
                          "#fb9f3a"
                        ],
                        [
                          0.8888888888888888,
                          "#fdca26"
                        ],
                        [
                          1,
                          "#f0f921"
                        ]
                      ],
                      "sequentialminus": [
                        [
                          0,
                          "#0d0887"
                        ],
                        [
                          0.1111111111111111,
                          "#46039f"
                        ],
                        [
                          0.2222222222222222,
                          "#7201a8"
                        ],
                        [
                          0.3333333333333333,
                          "#9c179e"
                        ],
                        [
                          0.4444444444444444,
                          "#bd3786"
                        ],
                        [
                          0.5555555555555556,
                          "#d8576b"
                        ],
                        [
                          0.6666666666666666,
                          "#ed7953"
                        ],
                        [
                          0.7777777777777778,
                          "#fb9f3a"
                        ],
                        [
                          0.8888888888888888,
                          "#fdca26"
                        ],
                        [
                          1,
                          "#f0f921"
                        ]
                      ]
                    },
                    "colorway": [
                      "#636efa",
                      "#EF553B",
                      "#00cc96",
                      "#ab63fa",
                      "#FFA15A",
                      "#19d3f3",
                      "#FF6692",
                      "#B6E880",
                      "#FF97FF",
                      "#FECB52"
                    ],
                    "font": {
                      "color": "#2a3f5f"
                    },
                    "geo": {
                      "bgcolor": "white",
                      "lakecolor": "white",
                      "landcolor": "#E5ECF6",
                      "showlakes": true,
                      "showland": true,
                      "subunitcolor": "white"
                    },
                    "hoverlabel": {
                      "align": "left"
                    },
                    "hovermode": "closest",
                    "mapbox": {
                      "style": "light"
                    },
                    "paper_bgcolor": "white",
                    "plot_bgcolor": "#E5ECF6",
                    "polar": {
                      "angularaxis": {
                        "gridcolor": "white",
                        "linecolor": "white",
                        "ticks": ""
                      },
                      "bgcolor": "#E5ECF6",
                      "radialaxis": {
                        "gridcolor": "white",
                        "linecolor": "white",
                        "ticks": ""
                      }
                    },
                    "scene": {
                      "xaxis": {
                        "backgroundcolor": "#E5ECF6",
                        "gridcolor": "white",
                        "gridwidth": 2,
                        "linecolor": "white",
                        "showbackground": true,
                        "ticks": "",
                        "zerolinecolor": "white"
                      },
                      "yaxis": {
                        "backgroundcolor": "#E5ECF6",
                        "gridcolor": "white",
                        "gridwidth": 2,
                        "linecolor": "white",
                        "showbackground": true,
                        "ticks": "",
                        "zerolinecolor": "white"
                      },
                      "zaxis": {
                        "backgroundcolor": "#E5ECF6",
                        "gridcolor": "white",
                        "gridwidth": 2,
                        "linecolor": "white",
                        "showbackground": true,
                        "ticks": "",
                        "zerolinecolor": "white"
                      }
                    },
                    "shapedefaults": {
                      "line": {
                        "color": "#2a3f5f"
                      }
                    },
                    "ternary": {
                      "aaxis": {
                        "gridcolor": "white",
                        "linecolor": "white",
                        "ticks": ""
                      },
                      "baxis": {
                        "gridcolor": "white",
                        "linecolor": "white",
                        "ticks": ""
                      },
                      "bgcolor": "#E5ECF6",
                      "caxis": {
                        "gridcolor": "white",
                        "linecolor": "white",
                        "ticks": ""
                      }
                    },
                    "title": {
                      "x": 0.05
                    },
                    "xaxis": {
                      "automargin": true,
                      "gridcolor": "white",
                      "linecolor": "white",
                      "ticks": "",
                      "title": {
                        "standoff": 15
                      },
                      "zerolinecolor": "white",
                      "zerolinewidth": 2
                    },
                    "yaxis": {
                      "automargin": true,
                      "gridcolor": "white",
                      "linecolor": "white",
                      "ticks": "",
                      "title": {
                        "standoff": 15
                      },
                      "zerolinecolor": "white",
                      "zerolinewidth": 2
                    }
                  }
                },
                "title": {
                  "text": "Genre Distribution in Top Countries (Treemap)"
                }
              }
            }
          },
          "metadata": {},
          "output_type": "display_data"
        }
      ],
      "source": [
        "# Pre-process the genre (listed_in) column: split and explode it\n",
        "df_genres = df.copy()\n",
        "df_genres['listed_in'] = df_genres['listed_in'].astype(str).str.split(',')\n",
        "df_genres = df_genres.explode('listed_in')\n",
        "df_genres['listed_in'] = df_genres['listed_in'].str.strip()\n",
        "\n",
        "# Group by country and genre to get counts\n",
        "genre_by_country = df_genres.groupby(['country', 'listed_in']).size().reset_index(name='count')\n",
        "\n",
        "# Optionally focus on the top 15 countries (from previous analysis)\n",
        "top_country_list = top_15_countries['country'].tolist()\n",
        "genre_top = genre_by_country[genre_by_country['country'].isin(top_country_list)]\n",
        "\n",
        "# Visualize using a Treemap chart\n",
        "fig_treemap = px.treemap(\n",
        "    genre_top,\n",
        "    path=['country', 'listed_in'],  # Hierarchical levels: country -> genre\n",
        "    values='count',                  # Size of each rectangle corresponds to the count\n",
        "    title=\"Genre Distribution in Top Countries (Treemap)\"\n",
        ")\n",
        "fig_treemap.show()"
      ]
    },
    {
      "cell_type": "markdown",
      "metadata": {
        "id": "sktYZe0FYftA"
      },
      "source": [
        "**United States:** Dominates with a vast variety of genres, notably Dramas, Comedies, and Documentaries.\n",
        "\n",
        "**India:** Shows strong presence in International Movies and Dramas, along with notable counts in Comedies and Thrillers.\n",
        "\n",
        "**United Kingdom & Japan:** The UK displays a mix including Reality TV and Documentaries, while Japan has a prominent focus on Anime Series.\n",
        "\n",
        "**Cultural Differences:** The visualization clearly illustrates how genre preferences vary across regions, highlighting distinctive cultural tastes in content consumption."
      ]
    },
    {
      "cell_type": "markdown",
      "metadata": {
        "id": "p98vsDL0W5jS"
      },
      "source": [
        "#### **Temporal Trends** by Country"
      ]
    },
    {
      "cell_type": "code",
      "execution_count": 35,
      "metadata": {
        "colab": {
          "base_uri": "https://localhost:8080/",
          "height": 542
        },
        "id": "f6DhFgakWXjv",
        "outputId": "d36edfe6-a1af-4ca5-9574-e74f193a6521"
      },
      "outputs": [
        {
          "data": {
            "application/vnd.plotly.v1+json": {
              "config": {
                "plotlyServerURL": "https://plot.ly"
              },
              "data": [
                {
                  "hovertemplate": "country=United States<br>Year Added=%{x}<br>Number of Titles=%{y}<extra></extra>",
                  "legendgroup": "United States",
                  "line": {
                    "color": "#636efa",
                    "dash": "solid"
                  },
                  "marker": {
                    "symbol": "circle"
                  },
                  "mode": "lines",
                  "name": "United States",
                  "orientation": "v",
                  "showlegend": true,
                  "type": "scatter",
                  "x": {
                    "bdata": "2AcAANkHAADaBwAA2wcAANwHAADdBwAA3gcAAN8HAADgBwAA4QcAAOIHAADjBwAA5AcAAOUHAAA=",
                    "dtype": "i4"
                  },
                  "xaxis": "x",
                  "y": {
                    "bdata": "AgABAAEADAACAAcADwAuAJgAaQHHAQADpgI3AA==",
                    "dtype": "i2"
                  },
                  "yaxis": "y"
                },
                {
                  "hovertemplate": "country=Canada<br>Year Added=%{x}<br>Number of Titles=%{y}<extra></extra>",
                  "legendgroup": "Canada",
                  "line": {
                    "color": "#EF553B",
                    "dash": "solid"
                  },
                  "marker": {
                    "symbol": "circle"
                  },
                  "mode": "lines",
                  "name": "Canada",
                  "orientation": "v",
                  "showlegend": true,
                  "type": "scatter",
                  "x": {
                    "bdata": "3QcAAN4HAADfBwAA4AcAAOEHAADiBwAA4wcAAOQHAAA=",
                    "dtype": "i4"
                  },
                  "xaxis": "x",
                  "y": {
                    "bdata": "AQEDCyEgLTM=",
                    "dtype": "i1"
                  },
                  "yaxis": "y"
                },
                {
                  "hovertemplate": "country=United Kingdom, United States<br>Year Added=%{x}<br>Number of Titles=%{y}<extra></extra>",
                  "legendgroup": "United Kingdom, United States",
                  "line": {
                    "color": "#00cc96",
                    "dash": "solid"
                  },
                  "marker": {
                    "symbol": "circle"
                  },
                  "mode": "lines",
                  "name": "United Kingdom, United States",
                  "orientation": "v",
                  "showlegend": true,
                  "type": "scatter",
                  "x": {
                    "bdata": "3gcAAOEHAADiBwAA4wcAAOQHAADlBwAA",
                    "dtype": "i4"
                  },
                  "xaxis": "x",
                  "y": {
                    "bdata": "AQcQExQB",
                    "dtype": "i1"
                  },
                  "yaxis": "y"
                },
                {
                  "hovertemplate": "country=France<br>Year Added=%{x}<br>Number of Titles=%{y}<extra></extra>",
                  "legendgroup": "France",
                  "line": {
                    "color": "#ab63fa",
                    "dash": "solid"
                  },
                  "marker": {
                    "symbol": "circle"
                  },
                  "mode": "lines",
                  "name": "France",
                  "orientation": "v",
                  "showlegend": true,
                  "type": "scatter",
                  "x": {
                    "bdata": "3wcAAOAHAADhBwAA4gcAAOMHAADkBwAA5QcAAA==",
                    "dtype": "i4"
                  },
                  "xaxis": "x",
                  "y": {
                    "bdata": "AggRFyEeAg==",
                    "dtype": "i1"
                  },
                  "yaxis": "y"
                },
                {
                  "hovertemplate": "country=Japan<br>Year Added=%{x}<br>Number of Titles=%{y}<extra></extra>",
                  "legendgroup": "Japan",
                  "line": {
                    "color": "#FFA15A",
                    "dash": "solid"
                  },
                  "marker": {
                    "symbol": "circle"
                  },
                  "mode": "lines",
                  "name": "Japan",
                  "orientation": "v",
                  "showlegend": true,
                  "type": "scatter",
                  "x": {
                    "bdata": "3wcAAOAHAADhBwAA4gcAAOMHAADkBwAA5QcAAA==",
                    "dtype": "i4"
                  },
                  "xaxis": "x",
                  "y": {
                    "bdata": "AREjJkFFAQ==",
                    "dtype": "i1"
                  },
                  "yaxis": "y"
                },
                {
                  "hovertemplate": "country=Mexico<br>Year Added=%{x}<br>Number of Titles=%{y}<extra></extra>",
                  "legendgroup": "Mexico",
                  "line": {
                    "color": "#19d3f3",
                    "dash": "solid"
                  },
                  "marker": {
                    "symbol": "circle"
                  },
                  "mode": "lines",
                  "name": "Mexico",
                  "orientation": "v",
                  "showlegend": true,
                  "type": "scatter",
                  "x": {
                    "bdata": "3wcAAOAHAADhBwAA4gcAAOMHAADkBwAA5QcAAA==",
                    "dtype": "i4"
                  },
                  "xaxis": "x",
                  "y": {
                    "bdata": "AQgcERoTAQ==",
                    "dtype": "i1"
                  },
                  "yaxis": "y"
                },
                {
                  "hovertemplate": "country=Nigeria<br>Year Added=%{x}<br>Number of Titles=%{y}<extra></extra>",
                  "legendgroup": "Nigeria",
                  "line": {
                    "color": "#FF6692",
                    "dash": "solid"
                  },
                  "marker": {
                    "symbol": "circle"
                  },
                  "mode": "lines",
                  "name": "Nigeria",
                  "orientation": "v",
                  "showlegend": true,
                  "type": "scatter",
                  "x": {
                    "bdata": "3wcAAOAHAADhBwAA4gcAAOMHAADkBwAA",
                    "dtype": "i4"
                  },
                  "xaxis": "x",
                  "y": {
                    "bdata": "AQEBARwm",
                    "dtype": "i1"
                  },
                  "yaxis": "y"
                },
                {
                  "hovertemplate": "country=Not available<br>Year Added=%{x}<br>Number of Titles=%{y}<extra></extra>",
                  "legendgroup": "Not available",
                  "line": {
                    "color": "#B6E880",
                    "dash": "solid"
                  },
                  "marker": {
                    "symbol": "circle"
                  },
                  "mode": "lines",
                  "name": "Not available",
                  "orientation": "v",
                  "showlegend": true,
                  "type": "scatter",
                  "x": {
                    "bdata": "3wcAAOAHAADhBwAA4gcAAOMHAADkBwAA5QcAAA==",
                    "dtype": "i4"
                  },
                  "xaxis": "x",
                  "y": {
                    "bdata": "BQATAEIAeQCiAHcADwA=",
                    "dtype": "i2"
                  },
                  "yaxis": "y"
                },
                {
                  "hovertemplate": "country=United Kingdom<br>Year Added=%{x}<br>Number of Titles=%{y}<extra></extra>",
                  "legendgroup": "United Kingdom",
                  "line": {
                    "color": "#FF97FF",
                    "dash": "solid"
                  },
                  "marker": {
                    "symbol": "circle"
                  },
                  "mode": "lines",
                  "name": "United Kingdom",
                  "orientation": "v",
                  "showlegend": true,
                  "type": "scatter",
                  "x": {
                    "bdata": "3wcAAOAHAADhBwAA4gcAAOMHAADkBwAA5QcAAA==",
                    "dtype": "i4"
                  },
                  "xaxis": "x",
                  "y": {
                    "bdata": "AyRbSHZKAw==",
                    "dtype": "i1"
                  },
                  "yaxis": "y"
                },
                {
                  "hovertemplate": "country=India<br>Year Added=%{x}<br>Number of Titles=%{y}<extra></extra>",
                  "legendgroup": "India",
                  "line": {
                    "color": "#FECB52",
                    "dash": "solid"
                  },
                  "marker": {
                    "symbol": "circle"
                  },
                  "mode": "lines",
                  "name": "India",
                  "orientation": "v",
                  "showlegend": true,
                  "type": "scatter",
                  "x": {
                    "bdata": "4AcAAOEHAADiBwAA4wcAAOQHAADlBwAA",
                    "dtype": "i4"
                  },
                  "xaxis": "x",
                  "y": {
                    "bdata": "CwCOAFQB4gDAAAwA",
                    "dtype": "i2"
                  },
                  "yaxis": "y"
                },
                {
                  "hovertemplate": "country=Spain<br>Year Added=%{x}<br>Number of Titles=%{y}<extra></extra>",
                  "legendgroup": "Spain",
                  "line": {
                    "color": "#636efa",
                    "dash": "solid"
                  },
                  "marker": {
                    "symbol": "circle"
                  },
                  "mode": "lines",
                  "name": "Spain",
                  "orientation": "v",
                  "showlegend": true,
                  "type": "scatter",
                  "x": {
                    "bdata": "4AcAAOEHAADiBwAA4wcAAOQHAADlBwAA",
                    "dtype": "i4"
                  },
                  "xaxis": "x",
                  "y": {
                    "bdata": "CxUdLBwB",
                    "dtype": "i1"
                  },
                  "yaxis": "y"
                },
                {
                  "hovertemplate": "country=Turkey<br>Year Added=%{x}<br>Number of Titles=%{y}<extra></extra>",
                  "legendgroup": "Turkey",
                  "line": {
                    "color": "#EF553B",
                    "dash": "solid"
                  },
                  "marker": {
                    "symbol": "circle"
                  },
                  "mode": "lines",
                  "name": "Turkey",
                  "orientation": "v",
                  "showlegend": true,
                  "type": "scatter",
                  "x": {
                    "bdata": "4AcAAOEHAADiBwAA4wcAAOQHAADlBwAA",
                    "dtype": "i4"
                  },
                  "xaxis": "x",
                  "y": {
                    "bdata": "AywFFhkB",
                    "dtype": "i1"
                  },
                  "yaxis": "y"
                },
                {
                  "hovertemplate": "country=Indonesia<br>Year Added=%{x}<br>Number of Titles=%{y}<extra></extra>",
                  "legendgroup": "Indonesia",
                  "line": {
                    "color": "#00cc96",
                    "dash": "solid"
                  },
                  "marker": {
                    "symbol": "circle"
                  },
                  "mode": "lines",
                  "name": "Indonesia",
                  "orientation": "v",
                  "showlegend": true,
                  "type": "scatter",
                  "x": {
                    "bdata": "4QcAAOIHAADjBwAA5AcAAOUHAAA=",
                    "dtype": "i4"
                  },
                  "xaxis": "x",
                  "y": {
                    "bdata": "AhgQGgI=",
                    "dtype": "i1"
                  },
                  "yaxis": "y"
                },
                {
                  "hovertemplate": "country=Egypt<br>Year Added=%{x}<br>Number of Titles=%{y}<extra></extra>",
                  "legendgroup": "Egypt",
                  "line": {
                    "color": "#ab63fa",
                    "dash": "solid"
                  },
                  "marker": {
                    "symbol": "circle"
                  },
                  "mode": "lines",
                  "name": "Egypt",
                  "orientation": "v",
                  "showlegend": true,
                  "type": "scatter",
                  "x": {
                    "bdata": "4gcAAOMHAADkBwAA",
                    "dtype": "i4"
                  },
                  "xaxis": "x",
                  "y": {
                    "bdata": "ATUv",
                    "dtype": "i1"
                  },
                  "yaxis": "y"
                },
                {
                  "hovertemplate": "country=Philippines<br>Year Added=%{x}<br>Number of Titles=%{y}<extra></extra>",
                  "legendgroup": "Philippines",
                  "line": {
                    "color": "#FFA15A",
                    "dash": "solid"
                  },
                  "marker": {
                    "symbol": "circle"
                  },
                  "mode": "lines",
                  "name": "Philippines",
                  "orientation": "v",
                  "showlegend": true,
                  "type": "scatter",
                  "x": {
                    "bdata": "4gcAAOMHAADkBwAA",
                    "dtype": "i4"
                  },
                  "xaxis": "x",
                  "y": {
                    "bdata": "BCUe",
                    "dtype": "i1"
                  },
                  "yaxis": "y"
                }
              ],
              "layout": {
                "legend": {
                  "title": {
                    "text": "country"
                  },
                  "tracegroupgap": 0
                },
                "template": {
                  "data": {
                    "bar": [
                      {
                        "error_x": {
                          "color": "#2a3f5f"
                        },
                        "error_y": {
                          "color": "#2a3f5f"
                        },
                        "marker": {
                          "line": {
                            "color": "#E5ECF6",
                            "width": 0.5
                          },
                          "pattern": {
                            "fillmode": "overlay",
                            "size": 10,
                            "solidity": 0.2
                          }
                        },
                        "type": "bar"
                      }
                    ],
                    "barpolar": [
                      {
                        "marker": {
                          "line": {
                            "color": "#E5ECF6",
                            "width": 0.5
                          },
                          "pattern": {
                            "fillmode": "overlay",
                            "size": 10,
                            "solidity": 0.2
                          }
                        },
                        "type": "barpolar"
                      }
                    ],
                    "carpet": [
                      {
                        "aaxis": {
                          "endlinecolor": "#2a3f5f",
                          "gridcolor": "white",
                          "linecolor": "white",
                          "minorgridcolor": "white",
                          "startlinecolor": "#2a3f5f"
                        },
                        "baxis": {
                          "endlinecolor": "#2a3f5f",
                          "gridcolor": "white",
                          "linecolor": "white",
                          "minorgridcolor": "white",
                          "startlinecolor": "#2a3f5f"
                        },
                        "type": "carpet"
                      }
                    ],
                    "choropleth": [
                      {
                        "colorbar": {
                          "outlinewidth": 0,
                          "ticks": ""
                        },
                        "type": "choropleth"
                      }
                    ],
                    "contour": [
                      {
                        "colorbar": {
                          "outlinewidth": 0,
                          "ticks": ""
                        },
                        "colorscale": [
                          [
                            0,
                            "#0d0887"
                          ],
                          [
                            0.1111111111111111,
                            "#46039f"
                          ],
                          [
                            0.2222222222222222,
                            "#7201a8"
                          ],
                          [
                            0.3333333333333333,
                            "#9c179e"
                          ],
                          [
                            0.4444444444444444,
                            "#bd3786"
                          ],
                          [
                            0.5555555555555556,
                            "#d8576b"
                          ],
                          [
                            0.6666666666666666,
                            "#ed7953"
                          ],
                          [
                            0.7777777777777778,
                            "#fb9f3a"
                          ],
                          [
                            0.8888888888888888,
                            "#fdca26"
                          ],
                          [
                            1,
                            "#f0f921"
                          ]
                        ],
                        "type": "contour"
                      }
                    ],
                    "contourcarpet": [
                      {
                        "colorbar": {
                          "outlinewidth": 0,
                          "ticks": ""
                        },
                        "type": "contourcarpet"
                      }
                    ],
                    "heatmap": [
                      {
                        "colorbar": {
                          "outlinewidth": 0,
                          "ticks": ""
                        },
                        "colorscale": [
                          [
                            0,
                            "#0d0887"
                          ],
                          [
                            0.1111111111111111,
                            "#46039f"
                          ],
                          [
                            0.2222222222222222,
                            "#7201a8"
                          ],
                          [
                            0.3333333333333333,
                            "#9c179e"
                          ],
                          [
                            0.4444444444444444,
                            "#bd3786"
                          ],
                          [
                            0.5555555555555556,
                            "#d8576b"
                          ],
                          [
                            0.6666666666666666,
                            "#ed7953"
                          ],
                          [
                            0.7777777777777778,
                            "#fb9f3a"
                          ],
                          [
                            0.8888888888888888,
                            "#fdca26"
                          ],
                          [
                            1,
                            "#f0f921"
                          ]
                        ],
                        "type": "heatmap"
                      }
                    ],
                    "histogram": [
                      {
                        "marker": {
                          "pattern": {
                            "fillmode": "overlay",
                            "size": 10,
                            "solidity": 0.2
                          }
                        },
                        "type": "histogram"
                      }
                    ],
                    "histogram2d": [
                      {
                        "colorbar": {
                          "outlinewidth": 0,
                          "ticks": ""
                        },
                        "colorscale": [
                          [
                            0,
                            "#0d0887"
                          ],
                          [
                            0.1111111111111111,
                            "#46039f"
                          ],
                          [
                            0.2222222222222222,
                            "#7201a8"
                          ],
                          [
                            0.3333333333333333,
                            "#9c179e"
                          ],
                          [
                            0.4444444444444444,
                            "#bd3786"
                          ],
                          [
                            0.5555555555555556,
                            "#d8576b"
                          ],
                          [
                            0.6666666666666666,
                            "#ed7953"
                          ],
                          [
                            0.7777777777777778,
                            "#fb9f3a"
                          ],
                          [
                            0.8888888888888888,
                            "#fdca26"
                          ],
                          [
                            1,
                            "#f0f921"
                          ]
                        ],
                        "type": "histogram2d"
                      }
                    ],
                    "histogram2dcontour": [
                      {
                        "colorbar": {
                          "outlinewidth": 0,
                          "ticks": ""
                        },
                        "colorscale": [
                          [
                            0,
                            "#0d0887"
                          ],
                          [
                            0.1111111111111111,
                            "#46039f"
                          ],
                          [
                            0.2222222222222222,
                            "#7201a8"
                          ],
                          [
                            0.3333333333333333,
                            "#9c179e"
                          ],
                          [
                            0.4444444444444444,
                            "#bd3786"
                          ],
                          [
                            0.5555555555555556,
                            "#d8576b"
                          ],
                          [
                            0.6666666666666666,
                            "#ed7953"
                          ],
                          [
                            0.7777777777777778,
                            "#fb9f3a"
                          ],
                          [
                            0.8888888888888888,
                            "#fdca26"
                          ],
                          [
                            1,
                            "#f0f921"
                          ]
                        ],
                        "type": "histogram2dcontour"
                      }
                    ],
                    "mesh3d": [
                      {
                        "colorbar": {
                          "outlinewidth": 0,
                          "ticks": ""
                        },
                        "type": "mesh3d"
                      }
                    ],
                    "parcoords": [
                      {
                        "line": {
                          "colorbar": {
                            "outlinewidth": 0,
                            "ticks": ""
                          }
                        },
                        "type": "parcoords"
                      }
                    ],
                    "pie": [
                      {
                        "automargin": true,
                        "type": "pie"
                      }
                    ],
                    "scatter": [
                      {
                        "fillpattern": {
                          "fillmode": "overlay",
                          "size": 10,
                          "solidity": 0.2
                        },
                        "type": "scatter"
                      }
                    ],
                    "scatter3d": [
                      {
                        "line": {
                          "colorbar": {
                            "outlinewidth": 0,
                            "ticks": ""
                          }
                        },
                        "marker": {
                          "colorbar": {
                            "outlinewidth": 0,
                            "ticks": ""
                          }
                        },
                        "type": "scatter3d"
                      }
                    ],
                    "scattercarpet": [
                      {
                        "marker": {
                          "colorbar": {
                            "outlinewidth": 0,
                            "ticks": ""
                          }
                        },
                        "type": "scattercarpet"
                      }
                    ],
                    "scattergeo": [
                      {
                        "marker": {
                          "colorbar": {
                            "outlinewidth": 0,
                            "ticks": ""
                          }
                        },
                        "type": "scattergeo"
                      }
                    ],
                    "scattergl": [
                      {
                        "marker": {
                          "colorbar": {
                            "outlinewidth": 0,
                            "ticks": ""
                          }
                        },
                        "type": "scattergl"
                      }
                    ],
                    "scattermap": [
                      {
                        "marker": {
                          "colorbar": {
                            "outlinewidth": 0,
                            "ticks": ""
                          }
                        },
                        "type": "scattermap"
                      }
                    ],
                    "scattermapbox": [
                      {
                        "marker": {
                          "colorbar": {
                            "outlinewidth": 0,
                            "ticks": ""
                          }
                        },
                        "type": "scattermapbox"
                      }
                    ],
                    "scatterpolar": [
                      {
                        "marker": {
                          "colorbar": {
                            "outlinewidth": 0,
                            "ticks": ""
                          }
                        },
                        "type": "scatterpolar"
                      }
                    ],
                    "scatterpolargl": [
                      {
                        "marker": {
                          "colorbar": {
                            "outlinewidth": 0,
                            "ticks": ""
                          }
                        },
                        "type": "scatterpolargl"
                      }
                    ],
                    "scatterternary": [
                      {
                        "marker": {
                          "colorbar": {
                            "outlinewidth": 0,
                            "ticks": ""
                          }
                        },
                        "type": "scatterternary"
                      }
                    ],
                    "surface": [
                      {
                        "colorbar": {
                          "outlinewidth": 0,
                          "ticks": ""
                        },
                        "colorscale": [
                          [
                            0,
                            "#0d0887"
                          ],
                          [
                            0.1111111111111111,
                            "#46039f"
                          ],
                          [
                            0.2222222222222222,
                            "#7201a8"
                          ],
                          [
                            0.3333333333333333,
                            "#9c179e"
                          ],
                          [
                            0.4444444444444444,
                            "#bd3786"
                          ],
                          [
                            0.5555555555555556,
                            "#d8576b"
                          ],
                          [
                            0.6666666666666666,
                            "#ed7953"
                          ],
                          [
                            0.7777777777777778,
                            "#fb9f3a"
                          ],
                          [
                            0.8888888888888888,
                            "#fdca26"
                          ],
                          [
                            1,
                            "#f0f921"
                          ]
                        ],
                        "type": "surface"
                      }
                    ],
                    "table": [
                      {
                        "cells": {
                          "fill": {
                            "color": "#EBF0F8"
                          },
                          "line": {
                            "color": "white"
                          }
                        },
                        "header": {
                          "fill": {
                            "color": "#C8D4E3"
                          },
                          "line": {
                            "color": "white"
                          }
                        },
                        "type": "table"
                      }
                    ]
                  },
                  "layout": {
                    "annotationdefaults": {
                      "arrowcolor": "#2a3f5f",
                      "arrowhead": 0,
                      "arrowwidth": 1
                    },
                    "autotypenumbers": "strict",
                    "coloraxis": {
                      "colorbar": {
                        "outlinewidth": 0,
                        "ticks": ""
                      }
                    },
                    "colorscale": {
                      "diverging": [
                        [
                          0,
                          "#8e0152"
                        ],
                        [
                          0.1,
                          "#c51b7d"
                        ],
                        [
                          0.2,
                          "#de77ae"
                        ],
                        [
                          0.3,
                          "#f1b6da"
                        ],
                        [
                          0.4,
                          "#fde0ef"
                        ],
                        [
                          0.5,
                          "#f7f7f7"
                        ],
                        [
                          0.6,
                          "#e6f5d0"
                        ],
                        [
                          0.7,
                          "#b8e186"
                        ],
                        [
                          0.8,
                          "#7fbc41"
                        ],
                        [
                          0.9,
                          "#4d9221"
                        ],
                        [
                          1,
                          "#276419"
                        ]
                      ],
                      "sequential": [
                        [
                          0,
                          "#0d0887"
                        ],
                        [
                          0.1111111111111111,
                          "#46039f"
                        ],
                        [
                          0.2222222222222222,
                          "#7201a8"
                        ],
                        [
                          0.3333333333333333,
                          "#9c179e"
                        ],
                        [
                          0.4444444444444444,
                          "#bd3786"
                        ],
                        [
                          0.5555555555555556,
                          "#d8576b"
                        ],
                        [
                          0.6666666666666666,
                          "#ed7953"
                        ],
                        [
                          0.7777777777777778,
                          "#fb9f3a"
                        ],
                        [
                          0.8888888888888888,
                          "#fdca26"
                        ],
                        [
                          1,
                          "#f0f921"
                        ]
                      ],
                      "sequentialminus": [
                        [
                          0,
                          "#0d0887"
                        ],
                        [
                          0.1111111111111111,
                          "#46039f"
                        ],
                        [
                          0.2222222222222222,
                          "#7201a8"
                        ],
                        [
                          0.3333333333333333,
                          "#9c179e"
                        ],
                        [
                          0.4444444444444444,
                          "#bd3786"
                        ],
                        [
                          0.5555555555555556,
                          "#d8576b"
                        ],
                        [
                          0.6666666666666666,
                          "#ed7953"
                        ],
                        [
                          0.7777777777777778,
                          "#fb9f3a"
                        ],
                        [
                          0.8888888888888888,
                          "#fdca26"
                        ],
                        [
                          1,
                          "#f0f921"
                        ]
                      ]
                    },
                    "colorway": [
                      "#636efa",
                      "#EF553B",
                      "#00cc96",
                      "#ab63fa",
                      "#FFA15A",
                      "#19d3f3",
                      "#FF6692",
                      "#B6E880",
                      "#FF97FF",
                      "#FECB52"
                    ],
                    "font": {
                      "color": "#2a3f5f"
                    },
                    "geo": {
                      "bgcolor": "white",
                      "lakecolor": "white",
                      "landcolor": "#E5ECF6",
                      "showlakes": true,
                      "showland": true,
                      "subunitcolor": "white"
                    },
                    "hoverlabel": {
                      "align": "left"
                    },
                    "hovermode": "closest",
                    "mapbox": {
                      "style": "light"
                    },
                    "paper_bgcolor": "white",
                    "plot_bgcolor": "#E5ECF6",
                    "polar": {
                      "angularaxis": {
                        "gridcolor": "white",
                        "linecolor": "white",
                        "ticks": ""
                      },
                      "bgcolor": "#E5ECF6",
                      "radialaxis": {
                        "gridcolor": "white",
                        "linecolor": "white",
                        "ticks": ""
                      }
                    },
                    "scene": {
                      "xaxis": {
                        "backgroundcolor": "#E5ECF6",
                        "gridcolor": "white",
                        "gridwidth": 2,
                        "linecolor": "white",
                        "showbackground": true,
                        "ticks": "",
                        "zerolinecolor": "white"
                      },
                      "yaxis": {
                        "backgroundcolor": "#E5ECF6",
                        "gridcolor": "white",
                        "gridwidth": 2,
                        "linecolor": "white",
                        "showbackground": true,
                        "ticks": "",
                        "zerolinecolor": "white"
                      },
                      "zaxis": {
                        "backgroundcolor": "#E5ECF6",
                        "gridcolor": "white",
                        "gridwidth": 2,
                        "linecolor": "white",
                        "showbackground": true,
                        "ticks": "",
                        "zerolinecolor": "white"
                      }
                    },
                    "shapedefaults": {
                      "line": {
                        "color": "#2a3f5f"
                      }
                    },
                    "ternary": {
                      "aaxis": {
                        "gridcolor": "white",
                        "linecolor": "white",
                        "ticks": ""
                      },
                      "baxis": {
                        "gridcolor": "white",
                        "linecolor": "white",
                        "ticks": ""
                      },
                      "bgcolor": "#E5ECF6",
                      "caxis": {
                        "gridcolor": "white",
                        "linecolor": "white",
                        "ticks": ""
                      }
                    },
                    "title": {
                      "x": 0.05
                    },
                    "xaxis": {
                      "automargin": true,
                      "gridcolor": "white",
                      "linecolor": "white",
                      "ticks": "",
                      "title": {
                        "standoff": 15
                      },
                      "zerolinecolor": "white",
                      "zerolinewidth": 2
                    },
                    "yaxis": {
                      "automargin": true,
                      "gridcolor": "white",
                      "linecolor": "white",
                      "ticks": "",
                      "title": {
                        "standoff": 15
                      },
                      "zerolinecolor": "white",
                      "zerolinewidth": 2
                    }
                  }
                },
                "title": {
                  "text": "Yearly Content Trends in Top Countries"
                },
                "xaxis": {
                  "anchor": "y",
                  "domain": [
                    0,
                    1
                  ],
                  "title": {
                    "text": "Year Added"
                  }
                },
                "yaxis": {
                  "anchor": "x",
                  "domain": [
                    0,
                    1
                  ],
                  "title": {
                    "text": "Number of Titles"
                  }
                }
              }
            }
          },
          "metadata": {},
          "output_type": "display_data"
        }
      ],
      "source": [
        "# Extract the year from the date_added column\n",
        "df['year_added'] = df['date_added'].dt.year\n",
        "\n",
        "# Group data by year_added and country, then count titles\n",
        "temporal_trends = df.groupby(['year_added', 'country']).size().reset_index(name='count')\n",
        "\n",
        "# Filter by top countries to reduce noise\n",
        "temporal_trends_top = temporal_trends[temporal_trends['country'].isin(top_country_list)]\n",
        "\n",
        "# Create an interactive line chart\n",
        "fig_trends = px.line(temporal_trends_top, x='year_added', y='count', color='country',\n",
        "                     title='Yearly Content Trends in Top Countries',\n",
        "                     labels={'year_added': 'Year Added', 'count': 'Number of Titles'})\n",
        "fig_trends.show()"
      ]
    },
    {
      "cell_type": "markdown",
      "metadata": {
        "id": "FmzZ01ypZG_R"
      },
      "source": [
        "Netflix evolved from **2008 to 2020** across various countries. Notably, the United States experienced a sharp increase starting around 2016, peaking in 2018, and then a steep decline by 2020, while other countries show more gradual and modest fluctuations over the same period."
      ]
    },
    {
      "cell_type": "markdown",
      "metadata": {
        "id": "i-dSou0qXA9C"
      },
      "source": [
        "#### Content **Rating Distribution** by Country"
      ]
    },
    {
      "cell_type": "code",
      "execution_count": 36,
      "metadata": {
        "colab": {
          "base_uri": "https://localhost:8080/",
          "height": 542
        },
        "id": "fkwNuPG8W65z",
        "outputId": "63d7d8c7-6c8d-4479-bb68-629cbbea42b6"
      },
      "outputs": [
        {
          "data": {
            "application/vnd.plotly.v1+json": {
              "config": {
                "plotlyServerURL": "https://plot.ly"
              },
              "data": [
                {
                  "hovertemplate": "Rating=G<br>Country=%{x}<br>Number of Titles=%{y}<extra></extra>",
                  "legendgroup": "G",
                  "marker": {
                    "color": "#636efa",
                    "pattern": {
                      "shape": ""
                    }
                  },
                  "name": "G",
                  "orientation": "v",
                  "showlegend": true,
                  "textposition": "auto",
                  "type": "bar",
                  "x": [
                    "Canada",
                    "United Kingdom, United States",
                    "United States"
                  ],
                  "xaxis": "x",
                  "y": {
                    "bdata": "AQEd",
                    "dtype": "i1"
                  },
                  "yaxis": "y"
                },
                {
                  "hovertemplate": "Rating=NC-17<br>Country=%{x}<br>Number of Titles=%{y}<extra></extra>",
                  "legendgroup": "NC-17",
                  "marker": {
                    "color": "#EF553B",
                    "pattern": {
                      "shape": ""
                    }
                  },
                  "name": "NC-17",
                  "orientation": "v",
                  "showlegend": true,
                  "textposition": "auto",
                  "type": "bar",
                  "x": [
                    "Canada",
                    "United States"
                  ],
                  "xaxis": "x",
                  "y": {
                    "bdata": "AQE=",
                    "dtype": "i1"
                  },
                  "yaxis": "y"
                },
                {
                  "hovertemplate": "Rating=NR<br>Country=%{x}<br>Number of Titles=%{y}<extra></extra>",
                  "legendgroup": "NR",
                  "marker": {
                    "color": "#00cc96",
                    "pattern": {
                      "shape": ""
                    }
                  },
                  "name": "NR",
                  "orientation": "v",
                  "showlegend": true,
                  "textposition": "auto",
                  "type": "bar",
                  "x": [
                    "Canada",
                    "India",
                    "Mexico",
                    "Nigeria",
                    "Spain",
                    "Turkey",
                    "United Kingdom",
                    "United Kingdom, United States",
                    "United States"
                  ],
                  "xaxis": "x",
                  "y": {
                    "bdata": "AgUEAQEDBQEj",
                    "dtype": "i1"
                  },
                  "yaxis": "y"
                },
                {
                  "hovertemplate": "Rating=PG<br>Country=%{x}<br>Number of Titles=%{y}<extra></extra>",
                  "legendgroup": "PG",
                  "marker": {
                    "color": "#ab63fa",
                    "pattern": {
                      "shape": ""
                    }
                  },
                  "name": "PG",
                  "orientation": "v",
                  "showlegend": true,
                  "textposition": "auto",
                  "type": "bar",
                  "x": [
                    "Canada",
                    "France",
                    "India",
                    "Japan",
                    "Not available",
                    "Spain",
                    "United Kingdom",
                    "United Kingdom, United States",
                    "United States"
                  ],
                  "xaxis": "x",
                  "y": {
                    "bdata": "CAABAAMABQADAAEAAgAGAJAA",
                    "dtype": "i2"
                  },
                  "yaxis": "y"
                },
                {
                  "hovertemplate": "Rating=PG-13<br>Country=%{x}<br>Number of Titles=%{y}<extra></extra>",
                  "legendgroup": "PG-13",
                  "marker": {
                    "color": "#FFA15A",
                    "pattern": {
                      "shape": ""
                    }
                  },
                  "name": "PG-13",
                  "orientation": "v",
                  "showlegend": true,
                  "textposition": "auto",
                  "type": "bar",
                  "x": [
                    "Canada",
                    "France",
                    "India",
                    "Japan",
                    "Mexico",
                    "Not available",
                    "Spain",
                    "United Kingdom",
                    "United Kingdom, United States",
                    "United States"
                  ],
                  "xaxis": "x",
                  "y": {
                    "bdata": "AwABAAQAAwABAAMAAQAHAA0A4wA=",
                    "dtype": "i2"
                  },
                  "yaxis": "y"
                },
                {
                  "hovertemplate": "Rating=R<br>Country=%{x}<br>Number of Titles=%{y}<extra></extra>",
                  "legendgroup": "R",
                  "marker": {
                    "color": "#19d3f3",
                    "pattern": {
                      "shape": ""
                    }
                  },
                  "name": "R",
                  "orientation": "v",
                  "showlegend": true,
                  "textposition": "auto",
                  "type": "bar",
                  "x": [
                    "Canada",
                    "France",
                    "India",
                    "Indonesia",
                    "Mexico",
                    "Not available",
                    "Philippines",
                    "Spain",
                    "United Kingdom",
                    "United Kingdom, United States",
                    "United States"
                  ],
                  "xaxis": "x",
                  "y": {
                    "bdata": "EAACAAIAAgAEAAIAAQACAB8AFABsAQ==",
                    "dtype": "i2"
                  },
                  "yaxis": "y"
                },
                {
                  "hovertemplate": "Rating=TV-14<br>Country=%{x}<br>Number of Titles=%{y}<extra></extra>",
                  "legendgroup": "TV-14",
                  "marker": {
                    "color": "#FF6692",
                    "pattern": {
                      "shape": ""
                    }
                  },
                  "name": "TV-14",
                  "orientation": "v",
                  "showlegend": true,
                  "textposition": "auto",
                  "type": "bar",
                  "x": [
                    "Canada",
                    "Egypt",
                    "France",
                    "India",
                    "Indonesia",
                    "Japan",
                    "Mexico",
                    "Nigeria",
                    "Not available",
                    "Philippines",
                    "Spain",
                    "Turkey",
                    "United Kingdom",
                    "United Kingdom, United States",
                    "United States"
                  ],
                  "xaxis": "x",
                  "y": {
                    "bdata": "FwBFABIACAIfAE0ADQAhAIgAIgAMACQARAAEAHoB",
                    "dtype": "i2"
                  },
                  "yaxis": "y"
                },
                {
                  "hovertemplate": "Rating=TV-G<br>Country=%{x}<br>Number of Titles=%{y}<extra></extra>",
                  "legendgroup": "TV-G",
                  "marker": {
                    "color": "#B6E880",
                    "pattern": {
                      "shape": ""
                    }
                  },
                  "name": "TV-G",
                  "orientation": "v",
                  "showlegend": true,
                  "textposition": "auto",
                  "type": "bar",
                  "x": [
                    "Canada",
                    "France",
                    "India",
                    "Indonesia",
                    "Japan",
                    "Mexico",
                    "Nigeria",
                    "Not available",
                    "Philippines",
                    "Spain",
                    "Turkey",
                    "United Kingdom",
                    "United States"
                  ],
                  "xaxis": "x",
                  "y": {
                    "bdata": "DgIJCAECAREEAQEVTQ==",
                    "dtype": "i1"
                  },
                  "yaxis": "y"
                },
                {
                  "hovertemplate": "Rating=TV-MA<br>Country=%{x}<br>Number of Titles=%{y}<extra></extra>",
                  "legendgroup": "TV-MA",
                  "marker": {
                    "color": "#FF97FF",
                    "pattern": {
                      "shape": ""
                    }
                  },
                  "name": "TV-MA",
                  "orientation": "v",
                  "showlegend": true,
                  "textposition": "auto",
                  "type": "bar",
                  "x": [
                    "Canada",
                    "Egypt",
                    "France",
                    "India",
                    "Indonesia",
                    "Japan",
                    "Mexico",
                    "Nigeria",
                    "Not available",
                    "Philippines",
                    "Spain",
                    "Turkey",
                    "United Kingdom",
                    "United Kingdom, United States",
                    "United States"
                  ],
                  "xaxis": "x",
                  "y": {
                    "bdata": "PAAcAEsA5AANAFIARQAdAJ8AGABtADIAqAAPAHAD",
                    "dtype": "i2"
                  },
                  "yaxis": "y"
                },
                {
                  "hovertemplate": "Rating=TV-PG<br>Country=%{x}<br>Number of Titles=%{y}<extra></extra>",
                  "legendgroup": "TV-PG",
                  "marker": {
                    "color": "#FECB52",
                    "pattern": {
                      "shape": ""
                    }
                  },
                  "name": "TV-PG",
                  "orientation": "v",
                  "showlegend": true,
                  "textposition": "auto",
                  "type": "bar",
                  "x": [
                    "Canada",
                    "Egypt",
                    "France",
                    "India",
                    "Indonesia",
                    "Japan",
                    "Mexico",
                    "Nigeria",
                    "Not available",
                    "Philippines",
                    "Spain",
                    "Turkey",
                    "United Kingdom",
                    "United Kingdom, United States",
                    "United States"
                  ],
                  "xaxis": "x",
                  "y": {
                    "bdata": "FgAEAAMAhQAQACcABQAGAEEACAAFAAoASgADAPEA",
                    "dtype": "i2"
                  },
                  "yaxis": "y"
                },
                {
                  "hovertemplate": "Rating=TV-Y<br>Country=%{x}<br>Number of Titles=%{y}<extra></extra>",
                  "legendgroup": "TV-Y",
                  "marker": {
                    "color": "#636efa",
                    "pattern": {
                      "shape": ""
                    }
                  },
                  "name": "TV-Y",
                  "orientation": "v",
                  "showlegend": true,
                  "textposition": "auto",
                  "type": "bar",
                  "x": [
                    "Canada",
                    "France",
                    "India",
                    "Japan",
                    "Not available",
                    "Spain",
                    "United Kingdom",
                    "United Kingdom, United States",
                    "United States"
                  ],
                  "xaxis": "x",
                  "y": {
                    "bdata": "EQkGAUYCEAFR",
                    "dtype": "i1"
                  },
                  "yaxis": "y"
                },
                {
                  "hovertemplate": "Rating=TV-Y7<br>Country=%{x}<br>Number of Titles=%{y}<extra></extra>",
                  "legendgroup": "TV-Y7",
                  "marker": {
                    "color": "#EF553B",
                    "pattern": {
                      "shape": ""
                    }
                  },
                  "name": "TV-Y7",
                  "orientation": "v",
                  "showlegend": true,
                  "textposition": "auto",
                  "type": "bar",
                  "x": [
                    "Canada",
                    "France",
                    "India",
                    "Japan",
                    "Mexico",
                    "Not available",
                    "United Kingdom",
                    "United States"
                  ],
                  "xaxis": "x",
                  "y": {
                    "bdata": "CQMLEQIyBV0=",
                    "dtype": "i1"
                  },
                  "yaxis": "y"
                },
                {
                  "hovertemplate": "Rating=TV-Y7-FV<br>Country=%{x}<br>Number of Titles=%{y}<extra></extra>",
                  "legendgroup": "TV-Y7-FV",
                  "marker": {
                    "color": "#00cc96",
                    "pattern": {
                      "shape": ""
                    }
                  },
                  "name": "TV-Y7-FV",
                  "orientation": "v",
                  "showlegend": true,
                  "textposition": "auto",
                  "type": "bar",
                  "x": [
                    "Canada",
                    "India",
                    "Not available",
                    "United States"
                  ],
                  "xaxis": "x",
                  "y": {
                    "bdata": "AQEBAQ==",
                    "dtype": "i1"
                  },
                  "yaxis": "y"
                },
                {
                  "hovertemplate": "Rating=UR<br>Country=%{x}<br>Number of Titles=%{y}<extra></extra>",
                  "legendgroup": "UR",
                  "marker": {
                    "color": "#ab63fa",
                    "pattern": {
                      "shape": ""
                    }
                  },
                  "name": "UR",
                  "orientation": "v",
                  "showlegend": true,
                  "textposition": "auto",
                  "type": "bar",
                  "x": [
                    "France",
                    "India",
                    "United States"
                  ],
                  "xaxis": "x",
                  "y": {
                    "bdata": "AQEB",
                    "dtype": "i1"
                  },
                  "yaxis": "y"
                },
                {
                  "hovertemplate": "Rating=Not available<br>Country=%{x}<br>Number of Titles=%{y}<extra></extra>",
                  "legendgroup": "Not available",
                  "marker": {
                    "color": "#FFA15A",
                    "pattern": {
                      "shape": ""
                    }
                  },
                  "name": "Not available",
                  "orientation": "v",
                  "showlegend": true,
                  "textposition": "auto",
                  "type": "bar",
                  "x": [
                    "Japan",
                    "Not available",
                    "United States"
                  ],
                  "xaxis": "x",
                  "y": {
                    "bdata": "AQED",
                    "dtype": "i1"
                  },
                  "yaxis": "y"
                }
              ],
              "layout": {
                "barmode": "relative",
                "legend": {
                  "title": {
                    "text": "Rating"
                  },
                  "tracegroupgap": 0
                },
                "template": {
                  "data": {
                    "bar": [
                      {
                        "error_x": {
                          "color": "#2a3f5f"
                        },
                        "error_y": {
                          "color": "#2a3f5f"
                        },
                        "marker": {
                          "line": {
                            "color": "#E5ECF6",
                            "width": 0.5
                          },
                          "pattern": {
                            "fillmode": "overlay",
                            "size": 10,
                            "solidity": 0.2
                          }
                        },
                        "type": "bar"
                      }
                    ],
                    "barpolar": [
                      {
                        "marker": {
                          "line": {
                            "color": "#E5ECF6",
                            "width": 0.5
                          },
                          "pattern": {
                            "fillmode": "overlay",
                            "size": 10,
                            "solidity": 0.2
                          }
                        },
                        "type": "barpolar"
                      }
                    ],
                    "carpet": [
                      {
                        "aaxis": {
                          "endlinecolor": "#2a3f5f",
                          "gridcolor": "white",
                          "linecolor": "white",
                          "minorgridcolor": "white",
                          "startlinecolor": "#2a3f5f"
                        },
                        "baxis": {
                          "endlinecolor": "#2a3f5f",
                          "gridcolor": "white",
                          "linecolor": "white",
                          "minorgridcolor": "white",
                          "startlinecolor": "#2a3f5f"
                        },
                        "type": "carpet"
                      }
                    ],
                    "choropleth": [
                      {
                        "colorbar": {
                          "outlinewidth": 0,
                          "ticks": ""
                        },
                        "type": "choropleth"
                      }
                    ],
                    "contour": [
                      {
                        "colorbar": {
                          "outlinewidth": 0,
                          "ticks": ""
                        },
                        "colorscale": [
                          [
                            0,
                            "#0d0887"
                          ],
                          [
                            0.1111111111111111,
                            "#46039f"
                          ],
                          [
                            0.2222222222222222,
                            "#7201a8"
                          ],
                          [
                            0.3333333333333333,
                            "#9c179e"
                          ],
                          [
                            0.4444444444444444,
                            "#bd3786"
                          ],
                          [
                            0.5555555555555556,
                            "#d8576b"
                          ],
                          [
                            0.6666666666666666,
                            "#ed7953"
                          ],
                          [
                            0.7777777777777778,
                            "#fb9f3a"
                          ],
                          [
                            0.8888888888888888,
                            "#fdca26"
                          ],
                          [
                            1,
                            "#f0f921"
                          ]
                        ],
                        "type": "contour"
                      }
                    ],
                    "contourcarpet": [
                      {
                        "colorbar": {
                          "outlinewidth": 0,
                          "ticks": ""
                        },
                        "type": "contourcarpet"
                      }
                    ],
                    "heatmap": [
                      {
                        "colorbar": {
                          "outlinewidth": 0,
                          "ticks": ""
                        },
                        "colorscale": [
                          [
                            0,
                            "#0d0887"
                          ],
                          [
                            0.1111111111111111,
                            "#46039f"
                          ],
                          [
                            0.2222222222222222,
                            "#7201a8"
                          ],
                          [
                            0.3333333333333333,
                            "#9c179e"
                          ],
                          [
                            0.4444444444444444,
                            "#bd3786"
                          ],
                          [
                            0.5555555555555556,
                            "#d8576b"
                          ],
                          [
                            0.6666666666666666,
                            "#ed7953"
                          ],
                          [
                            0.7777777777777778,
                            "#fb9f3a"
                          ],
                          [
                            0.8888888888888888,
                            "#fdca26"
                          ],
                          [
                            1,
                            "#f0f921"
                          ]
                        ],
                        "type": "heatmap"
                      }
                    ],
                    "histogram": [
                      {
                        "marker": {
                          "pattern": {
                            "fillmode": "overlay",
                            "size": 10,
                            "solidity": 0.2
                          }
                        },
                        "type": "histogram"
                      }
                    ],
                    "histogram2d": [
                      {
                        "colorbar": {
                          "outlinewidth": 0,
                          "ticks": ""
                        },
                        "colorscale": [
                          [
                            0,
                            "#0d0887"
                          ],
                          [
                            0.1111111111111111,
                            "#46039f"
                          ],
                          [
                            0.2222222222222222,
                            "#7201a8"
                          ],
                          [
                            0.3333333333333333,
                            "#9c179e"
                          ],
                          [
                            0.4444444444444444,
                            "#bd3786"
                          ],
                          [
                            0.5555555555555556,
                            "#d8576b"
                          ],
                          [
                            0.6666666666666666,
                            "#ed7953"
                          ],
                          [
                            0.7777777777777778,
                            "#fb9f3a"
                          ],
                          [
                            0.8888888888888888,
                            "#fdca26"
                          ],
                          [
                            1,
                            "#f0f921"
                          ]
                        ],
                        "type": "histogram2d"
                      }
                    ],
                    "histogram2dcontour": [
                      {
                        "colorbar": {
                          "outlinewidth": 0,
                          "ticks": ""
                        },
                        "colorscale": [
                          [
                            0,
                            "#0d0887"
                          ],
                          [
                            0.1111111111111111,
                            "#46039f"
                          ],
                          [
                            0.2222222222222222,
                            "#7201a8"
                          ],
                          [
                            0.3333333333333333,
                            "#9c179e"
                          ],
                          [
                            0.4444444444444444,
                            "#bd3786"
                          ],
                          [
                            0.5555555555555556,
                            "#d8576b"
                          ],
                          [
                            0.6666666666666666,
                            "#ed7953"
                          ],
                          [
                            0.7777777777777778,
                            "#fb9f3a"
                          ],
                          [
                            0.8888888888888888,
                            "#fdca26"
                          ],
                          [
                            1,
                            "#f0f921"
                          ]
                        ],
                        "type": "histogram2dcontour"
                      }
                    ],
                    "mesh3d": [
                      {
                        "colorbar": {
                          "outlinewidth": 0,
                          "ticks": ""
                        },
                        "type": "mesh3d"
                      }
                    ],
                    "parcoords": [
                      {
                        "line": {
                          "colorbar": {
                            "outlinewidth": 0,
                            "ticks": ""
                          }
                        },
                        "type": "parcoords"
                      }
                    ],
                    "pie": [
                      {
                        "automargin": true,
                        "type": "pie"
                      }
                    ],
                    "scatter": [
                      {
                        "fillpattern": {
                          "fillmode": "overlay",
                          "size": 10,
                          "solidity": 0.2
                        },
                        "type": "scatter"
                      }
                    ],
                    "scatter3d": [
                      {
                        "line": {
                          "colorbar": {
                            "outlinewidth": 0,
                            "ticks": ""
                          }
                        },
                        "marker": {
                          "colorbar": {
                            "outlinewidth": 0,
                            "ticks": ""
                          }
                        },
                        "type": "scatter3d"
                      }
                    ],
                    "scattercarpet": [
                      {
                        "marker": {
                          "colorbar": {
                            "outlinewidth": 0,
                            "ticks": ""
                          }
                        },
                        "type": "scattercarpet"
                      }
                    ],
                    "scattergeo": [
                      {
                        "marker": {
                          "colorbar": {
                            "outlinewidth": 0,
                            "ticks": ""
                          }
                        },
                        "type": "scattergeo"
                      }
                    ],
                    "scattergl": [
                      {
                        "marker": {
                          "colorbar": {
                            "outlinewidth": 0,
                            "ticks": ""
                          }
                        },
                        "type": "scattergl"
                      }
                    ],
                    "scattermap": [
                      {
                        "marker": {
                          "colorbar": {
                            "outlinewidth": 0,
                            "ticks": ""
                          }
                        },
                        "type": "scattermap"
                      }
                    ],
                    "scattermapbox": [
                      {
                        "marker": {
                          "colorbar": {
                            "outlinewidth": 0,
                            "ticks": ""
                          }
                        },
                        "type": "scattermapbox"
                      }
                    ],
                    "scatterpolar": [
                      {
                        "marker": {
                          "colorbar": {
                            "outlinewidth": 0,
                            "ticks": ""
                          }
                        },
                        "type": "scatterpolar"
                      }
                    ],
                    "scatterpolargl": [
                      {
                        "marker": {
                          "colorbar": {
                            "outlinewidth": 0,
                            "ticks": ""
                          }
                        },
                        "type": "scatterpolargl"
                      }
                    ],
                    "scatterternary": [
                      {
                        "marker": {
                          "colorbar": {
                            "outlinewidth": 0,
                            "ticks": ""
                          }
                        },
                        "type": "scatterternary"
                      }
                    ],
                    "surface": [
                      {
                        "colorbar": {
                          "outlinewidth": 0,
                          "ticks": ""
                        },
                        "colorscale": [
                          [
                            0,
                            "#0d0887"
                          ],
                          [
                            0.1111111111111111,
                            "#46039f"
                          ],
                          [
                            0.2222222222222222,
                            "#7201a8"
                          ],
                          [
                            0.3333333333333333,
                            "#9c179e"
                          ],
                          [
                            0.4444444444444444,
                            "#bd3786"
                          ],
                          [
                            0.5555555555555556,
                            "#d8576b"
                          ],
                          [
                            0.6666666666666666,
                            "#ed7953"
                          ],
                          [
                            0.7777777777777778,
                            "#fb9f3a"
                          ],
                          [
                            0.8888888888888888,
                            "#fdca26"
                          ],
                          [
                            1,
                            "#f0f921"
                          ]
                        ],
                        "type": "surface"
                      }
                    ],
                    "table": [
                      {
                        "cells": {
                          "fill": {
                            "color": "#EBF0F8"
                          },
                          "line": {
                            "color": "white"
                          }
                        },
                        "header": {
                          "fill": {
                            "color": "#C8D4E3"
                          },
                          "line": {
                            "color": "white"
                          }
                        },
                        "type": "table"
                      }
                    ]
                  },
                  "layout": {
                    "annotationdefaults": {
                      "arrowcolor": "#2a3f5f",
                      "arrowhead": 0,
                      "arrowwidth": 1
                    },
                    "autotypenumbers": "strict",
                    "coloraxis": {
                      "colorbar": {
                        "outlinewidth": 0,
                        "ticks": ""
                      }
                    },
                    "colorscale": {
                      "diverging": [
                        [
                          0,
                          "#8e0152"
                        ],
                        [
                          0.1,
                          "#c51b7d"
                        ],
                        [
                          0.2,
                          "#de77ae"
                        ],
                        [
                          0.3,
                          "#f1b6da"
                        ],
                        [
                          0.4,
                          "#fde0ef"
                        ],
                        [
                          0.5,
                          "#f7f7f7"
                        ],
                        [
                          0.6,
                          "#e6f5d0"
                        ],
                        [
                          0.7,
                          "#b8e186"
                        ],
                        [
                          0.8,
                          "#7fbc41"
                        ],
                        [
                          0.9,
                          "#4d9221"
                        ],
                        [
                          1,
                          "#276419"
                        ]
                      ],
                      "sequential": [
                        [
                          0,
                          "#0d0887"
                        ],
                        [
                          0.1111111111111111,
                          "#46039f"
                        ],
                        [
                          0.2222222222222222,
                          "#7201a8"
                        ],
                        [
                          0.3333333333333333,
                          "#9c179e"
                        ],
                        [
                          0.4444444444444444,
                          "#bd3786"
                        ],
                        [
                          0.5555555555555556,
                          "#d8576b"
                        ],
                        [
                          0.6666666666666666,
                          "#ed7953"
                        ],
                        [
                          0.7777777777777778,
                          "#fb9f3a"
                        ],
                        [
                          0.8888888888888888,
                          "#fdca26"
                        ],
                        [
                          1,
                          "#f0f921"
                        ]
                      ],
                      "sequentialminus": [
                        [
                          0,
                          "#0d0887"
                        ],
                        [
                          0.1111111111111111,
                          "#46039f"
                        ],
                        [
                          0.2222222222222222,
                          "#7201a8"
                        ],
                        [
                          0.3333333333333333,
                          "#9c179e"
                        ],
                        [
                          0.4444444444444444,
                          "#bd3786"
                        ],
                        [
                          0.5555555555555556,
                          "#d8576b"
                        ],
                        [
                          0.6666666666666666,
                          "#ed7953"
                        ],
                        [
                          0.7777777777777778,
                          "#fb9f3a"
                        ],
                        [
                          0.8888888888888888,
                          "#fdca26"
                        ],
                        [
                          1,
                          "#f0f921"
                        ]
                      ]
                    },
                    "colorway": [
                      "#636efa",
                      "#EF553B",
                      "#00cc96",
                      "#ab63fa",
                      "#FFA15A",
                      "#19d3f3",
                      "#FF6692",
                      "#B6E880",
                      "#FF97FF",
                      "#FECB52"
                    ],
                    "font": {
                      "color": "#2a3f5f"
                    },
                    "geo": {
                      "bgcolor": "white",
                      "lakecolor": "white",
                      "landcolor": "#E5ECF6",
                      "showlakes": true,
                      "showland": true,
                      "subunitcolor": "white"
                    },
                    "hoverlabel": {
                      "align": "left"
                    },
                    "hovermode": "closest",
                    "mapbox": {
                      "style": "light"
                    },
                    "paper_bgcolor": "white",
                    "plot_bgcolor": "#E5ECF6",
                    "polar": {
                      "angularaxis": {
                        "gridcolor": "white",
                        "linecolor": "white",
                        "ticks": ""
                      },
                      "bgcolor": "#E5ECF6",
                      "radialaxis": {
                        "gridcolor": "white",
                        "linecolor": "white",
                        "ticks": ""
                      }
                    },
                    "scene": {
                      "xaxis": {
                        "backgroundcolor": "#E5ECF6",
                        "gridcolor": "white",
                        "gridwidth": 2,
                        "linecolor": "white",
                        "showbackground": true,
                        "ticks": "",
                        "zerolinecolor": "white"
                      },
                      "yaxis": {
                        "backgroundcolor": "#E5ECF6",
                        "gridcolor": "white",
                        "gridwidth": 2,
                        "linecolor": "white",
                        "showbackground": true,
                        "ticks": "",
                        "zerolinecolor": "white"
                      },
                      "zaxis": {
                        "backgroundcolor": "#E5ECF6",
                        "gridcolor": "white",
                        "gridwidth": 2,
                        "linecolor": "white",
                        "showbackground": true,
                        "ticks": "",
                        "zerolinecolor": "white"
                      }
                    },
                    "shapedefaults": {
                      "line": {
                        "color": "#2a3f5f"
                      }
                    },
                    "ternary": {
                      "aaxis": {
                        "gridcolor": "white",
                        "linecolor": "white",
                        "ticks": ""
                      },
                      "baxis": {
                        "gridcolor": "white",
                        "linecolor": "white",
                        "ticks": ""
                      },
                      "bgcolor": "#E5ECF6",
                      "caxis": {
                        "gridcolor": "white",
                        "linecolor": "white",
                        "ticks": ""
                      }
                    },
                    "title": {
                      "x": 0.05
                    },
                    "xaxis": {
                      "automargin": true,
                      "gridcolor": "white",
                      "linecolor": "white",
                      "ticks": "",
                      "title": {
                        "standoff": 15
                      },
                      "zerolinecolor": "white",
                      "zerolinewidth": 2
                    },
                    "yaxis": {
                      "automargin": true,
                      "gridcolor": "white",
                      "linecolor": "white",
                      "ticks": "",
                      "title": {
                        "standoff": 15
                      },
                      "zerolinecolor": "white",
                      "zerolinewidth": 2
                    }
                  }
                },
                "title": {
                  "text": "Content Rating Distribution in Top Countries"
                },
                "xaxis": {
                  "anchor": "y",
                  "domain": [
                    0,
                    1
                  ],
                  "tickangle": -45,
                  "title": {
                    "text": "Country"
                  }
                },
                "yaxis": {
                  "anchor": "x",
                  "domain": [
                    0,
                    1
                  ],
                  "title": {
                    "text": "Number of Titles"
                  }
                }
              }
            }
          },
          "metadata": {},
          "output_type": "display_data"
        }
      ],
      "source": [
        "# Group by country and rating; count how many titles fall in each rating category\n",
        "rating_by_country = df.groupby(['country', 'rating']).size().reset_index(name='count')\n",
        "\n",
        "# Filter for top countries only\n",
        "rating_by_country_top = rating_by_country[rating_by_country['country'].isin(top_country_list)]\n",
        "\n",
        "# Create a grouped bar chart\n",
        "fig_rating = px.bar(rating_by_country_top, x='country', y='count', color='rating',\n",
        "                    title='Content Rating Distribution in Top Countries',\n",
        "                    labels={'country': 'Country', 'count': 'Number of Titles', 'rating': 'Rating'})\n",
        "fig_rating.update_layout(xaxis_tickangle=-45)\n",
        "fig_rating.show()\n"
      ]
    },
    {
      "cell_type": "markdown",
      "metadata": {
        "id": "vCR73GD_ZZR6"
      },
      "source": [
        "The **United States** leads with high counts—especially in ratings like **PG, TV-MA,** and **TV-14**—while India also shows significant numbers, particularly in **NR and TV-MA,** with other countries contributing comparatively fewer titles."
      ]
    },
    {
      "cell_type": "markdown",
      "metadata": {
        "id": "6nhDxRjRapAQ"
      },
      "source": [
        "#### If Netflix has been **increasingly focusing on TV** rather than movies in recent years"
      ]
    },
    {
      "cell_type": "code",
      "execution_count": 37,
      "metadata": {
        "colab": {
          "base_uri": "https://localhost:8080/",
          "height": 1000
        },
        "id": "Ch4wmxaTaETk",
        "outputId": "8ddc7d68-3ddf-4651-cd0c-984c05157899"
      },
      "outputs": [
        {
          "name": "stdout",
          "output_type": "stream",
          "text": [
            "type  year_added  Movie  TV Show\n",
            "0           2008    1.0      1.0\n",
            "1           2009    2.0      0.0\n",
            "2           2010    1.0      0.0\n",
            "3           2011   13.0      0.0\n",
            "4           2012    3.0      0.0\n"
          ]
        },
        {
          "data": {
            "application/vnd.plotly.v1+json": {
              "config": {
                "plotlyServerURL": "https://plot.ly"
              },
              "data": [
                {
                  "hovertemplate": "Content Type=Movie<br>Year Added=%{x}<br>Count=%{y}<extra></extra>",
                  "legendgroup": "Movie",
                  "line": {
                    "color": "#636efa",
                    "dash": "solid"
                  },
                  "marker": {
                    "symbol": "circle"
                  },
                  "mode": "lines+markers",
                  "name": "Movie",
                  "orientation": "v",
                  "showlegend": true,
                  "type": "scatter",
                  "x": {
                    "bdata": "2AcAANkHAADaBwAA2wcAANwHAADdBwAA3gcAAN8HAADgBwAA4QcAAOIHAADjBwAA5AcAAOUHAAA=",
                    "dtype": "i4"
                  },
                  "xaxis": "x",
                  "y": {
                    "bdata": "AAAAAAAA8D8AAAAAAAAAQAAAAAAAAPA/AAAAAAAAKkAAAAAAAAAIQAAAAAAAABhAAAAAAAAAM0AAAAAAAABNQAAAAAAAIHBAAAAAAAAAi0AAAAAAAJyTQAAAAAAAZJdAAAAAAACAlEAAAAAAAABWQA==",
                    "dtype": "f8"
                  },
                  "yaxis": "y"
                },
                {
                  "hovertemplate": "Content Type=TV Show<br>Year Added=%{x}<br>Count=%{y}<extra></extra>",
                  "legendgroup": "TV Show",
                  "line": {
                    "color": "#EF553B",
                    "dash": "solid"
                  },
                  "marker": {
                    "symbol": "circle"
                  },
                  "mode": "lines+markers",
                  "name": "TV Show",
                  "orientation": "v",
                  "showlegend": true,
                  "type": "scatter",
                  "x": {
                    "bdata": "2AcAANkHAADaBwAA2wcAANwHAADdBwAA3gcAAN8HAADgBwAA4QcAAOIHAADjBwAA5AcAAOUHAAA=",
                    "dtype": "i4"
                  },
                  "xaxis": "x",
                  "y": {
                    "bdata": "AAAAAAAA8D8AAAAAAAAAAAAAAAAAAAAAAAAAAAAAAAAAAAAAAAAAAAAAAAAAABBAAAAAAAAAFEAAAAAAAAA1QAAAAAAAwGVAAAAAAAAQdUAAAAAAAGB5QAAAAAAACIdAAAAAAADAhUAAAAAAAAA9QA==",
                    "dtype": "f8"
                  },
                  "yaxis": "y"
                }
              ],
              "layout": {
                "legend": {
                  "title": {
                    "text": "Content Type"
                  },
                  "tracegroupgap": 0
                },
                "template": {
                  "data": {
                    "bar": [
                      {
                        "error_x": {
                          "color": "#2a3f5f"
                        },
                        "error_y": {
                          "color": "#2a3f5f"
                        },
                        "marker": {
                          "line": {
                            "color": "#E5ECF6",
                            "width": 0.5
                          },
                          "pattern": {
                            "fillmode": "overlay",
                            "size": 10,
                            "solidity": 0.2
                          }
                        },
                        "type": "bar"
                      }
                    ],
                    "barpolar": [
                      {
                        "marker": {
                          "line": {
                            "color": "#E5ECF6",
                            "width": 0.5
                          },
                          "pattern": {
                            "fillmode": "overlay",
                            "size": 10,
                            "solidity": 0.2
                          }
                        },
                        "type": "barpolar"
                      }
                    ],
                    "carpet": [
                      {
                        "aaxis": {
                          "endlinecolor": "#2a3f5f",
                          "gridcolor": "white",
                          "linecolor": "white",
                          "minorgridcolor": "white",
                          "startlinecolor": "#2a3f5f"
                        },
                        "baxis": {
                          "endlinecolor": "#2a3f5f",
                          "gridcolor": "white",
                          "linecolor": "white",
                          "minorgridcolor": "white",
                          "startlinecolor": "#2a3f5f"
                        },
                        "type": "carpet"
                      }
                    ],
                    "choropleth": [
                      {
                        "colorbar": {
                          "outlinewidth": 0,
                          "ticks": ""
                        },
                        "type": "choropleth"
                      }
                    ],
                    "contour": [
                      {
                        "colorbar": {
                          "outlinewidth": 0,
                          "ticks": ""
                        },
                        "colorscale": [
                          [
                            0,
                            "#0d0887"
                          ],
                          [
                            0.1111111111111111,
                            "#46039f"
                          ],
                          [
                            0.2222222222222222,
                            "#7201a8"
                          ],
                          [
                            0.3333333333333333,
                            "#9c179e"
                          ],
                          [
                            0.4444444444444444,
                            "#bd3786"
                          ],
                          [
                            0.5555555555555556,
                            "#d8576b"
                          ],
                          [
                            0.6666666666666666,
                            "#ed7953"
                          ],
                          [
                            0.7777777777777778,
                            "#fb9f3a"
                          ],
                          [
                            0.8888888888888888,
                            "#fdca26"
                          ],
                          [
                            1,
                            "#f0f921"
                          ]
                        ],
                        "type": "contour"
                      }
                    ],
                    "contourcarpet": [
                      {
                        "colorbar": {
                          "outlinewidth": 0,
                          "ticks": ""
                        },
                        "type": "contourcarpet"
                      }
                    ],
                    "heatmap": [
                      {
                        "colorbar": {
                          "outlinewidth": 0,
                          "ticks": ""
                        },
                        "colorscale": [
                          [
                            0,
                            "#0d0887"
                          ],
                          [
                            0.1111111111111111,
                            "#46039f"
                          ],
                          [
                            0.2222222222222222,
                            "#7201a8"
                          ],
                          [
                            0.3333333333333333,
                            "#9c179e"
                          ],
                          [
                            0.4444444444444444,
                            "#bd3786"
                          ],
                          [
                            0.5555555555555556,
                            "#d8576b"
                          ],
                          [
                            0.6666666666666666,
                            "#ed7953"
                          ],
                          [
                            0.7777777777777778,
                            "#fb9f3a"
                          ],
                          [
                            0.8888888888888888,
                            "#fdca26"
                          ],
                          [
                            1,
                            "#f0f921"
                          ]
                        ],
                        "type": "heatmap"
                      }
                    ],
                    "histogram": [
                      {
                        "marker": {
                          "pattern": {
                            "fillmode": "overlay",
                            "size": 10,
                            "solidity": 0.2
                          }
                        },
                        "type": "histogram"
                      }
                    ],
                    "histogram2d": [
                      {
                        "colorbar": {
                          "outlinewidth": 0,
                          "ticks": ""
                        },
                        "colorscale": [
                          [
                            0,
                            "#0d0887"
                          ],
                          [
                            0.1111111111111111,
                            "#46039f"
                          ],
                          [
                            0.2222222222222222,
                            "#7201a8"
                          ],
                          [
                            0.3333333333333333,
                            "#9c179e"
                          ],
                          [
                            0.4444444444444444,
                            "#bd3786"
                          ],
                          [
                            0.5555555555555556,
                            "#d8576b"
                          ],
                          [
                            0.6666666666666666,
                            "#ed7953"
                          ],
                          [
                            0.7777777777777778,
                            "#fb9f3a"
                          ],
                          [
                            0.8888888888888888,
                            "#fdca26"
                          ],
                          [
                            1,
                            "#f0f921"
                          ]
                        ],
                        "type": "histogram2d"
                      }
                    ],
                    "histogram2dcontour": [
                      {
                        "colorbar": {
                          "outlinewidth": 0,
                          "ticks": ""
                        },
                        "colorscale": [
                          [
                            0,
                            "#0d0887"
                          ],
                          [
                            0.1111111111111111,
                            "#46039f"
                          ],
                          [
                            0.2222222222222222,
                            "#7201a8"
                          ],
                          [
                            0.3333333333333333,
                            "#9c179e"
                          ],
                          [
                            0.4444444444444444,
                            "#bd3786"
                          ],
                          [
                            0.5555555555555556,
                            "#d8576b"
                          ],
                          [
                            0.6666666666666666,
                            "#ed7953"
                          ],
                          [
                            0.7777777777777778,
                            "#fb9f3a"
                          ],
                          [
                            0.8888888888888888,
                            "#fdca26"
                          ],
                          [
                            1,
                            "#f0f921"
                          ]
                        ],
                        "type": "histogram2dcontour"
                      }
                    ],
                    "mesh3d": [
                      {
                        "colorbar": {
                          "outlinewidth": 0,
                          "ticks": ""
                        },
                        "type": "mesh3d"
                      }
                    ],
                    "parcoords": [
                      {
                        "line": {
                          "colorbar": {
                            "outlinewidth": 0,
                            "ticks": ""
                          }
                        },
                        "type": "parcoords"
                      }
                    ],
                    "pie": [
                      {
                        "automargin": true,
                        "type": "pie"
                      }
                    ],
                    "scatter": [
                      {
                        "fillpattern": {
                          "fillmode": "overlay",
                          "size": 10,
                          "solidity": 0.2
                        },
                        "type": "scatter"
                      }
                    ],
                    "scatter3d": [
                      {
                        "line": {
                          "colorbar": {
                            "outlinewidth": 0,
                            "ticks": ""
                          }
                        },
                        "marker": {
                          "colorbar": {
                            "outlinewidth": 0,
                            "ticks": ""
                          }
                        },
                        "type": "scatter3d"
                      }
                    ],
                    "scattercarpet": [
                      {
                        "marker": {
                          "colorbar": {
                            "outlinewidth": 0,
                            "ticks": ""
                          }
                        },
                        "type": "scattercarpet"
                      }
                    ],
                    "scattergeo": [
                      {
                        "marker": {
                          "colorbar": {
                            "outlinewidth": 0,
                            "ticks": ""
                          }
                        },
                        "type": "scattergeo"
                      }
                    ],
                    "scattergl": [
                      {
                        "marker": {
                          "colorbar": {
                            "outlinewidth": 0,
                            "ticks": ""
                          }
                        },
                        "type": "scattergl"
                      }
                    ],
                    "scattermap": [
                      {
                        "marker": {
                          "colorbar": {
                            "outlinewidth": 0,
                            "ticks": ""
                          }
                        },
                        "type": "scattermap"
                      }
                    ],
                    "scattermapbox": [
                      {
                        "marker": {
                          "colorbar": {
                            "outlinewidth": 0,
                            "ticks": ""
                          }
                        },
                        "type": "scattermapbox"
                      }
                    ],
                    "scatterpolar": [
                      {
                        "marker": {
                          "colorbar": {
                            "outlinewidth": 0,
                            "ticks": ""
                          }
                        },
                        "type": "scatterpolar"
                      }
                    ],
                    "scatterpolargl": [
                      {
                        "marker": {
                          "colorbar": {
                            "outlinewidth": 0,
                            "ticks": ""
                          }
                        },
                        "type": "scatterpolargl"
                      }
                    ],
                    "scatterternary": [
                      {
                        "marker": {
                          "colorbar": {
                            "outlinewidth": 0,
                            "ticks": ""
                          }
                        },
                        "type": "scatterternary"
                      }
                    ],
                    "surface": [
                      {
                        "colorbar": {
                          "outlinewidth": 0,
                          "ticks": ""
                        },
                        "colorscale": [
                          [
                            0,
                            "#0d0887"
                          ],
                          [
                            0.1111111111111111,
                            "#46039f"
                          ],
                          [
                            0.2222222222222222,
                            "#7201a8"
                          ],
                          [
                            0.3333333333333333,
                            "#9c179e"
                          ],
                          [
                            0.4444444444444444,
                            "#bd3786"
                          ],
                          [
                            0.5555555555555556,
                            "#d8576b"
                          ],
                          [
                            0.6666666666666666,
                            "#ed7953"
                          ],
                          [
                            0.7777777777777778,
                            "#fb9f3a"
                          ],
                          [
                            0.8888888888888888,
                            "#fdca26"
                          ],
                          [
                            1,
                            "#f0f921"
                          ]
                        ],
                        "type": "surface"
                      }
                    ],
                    "table": [
                      {
                        "cells": {
                          "fill": {
                            "color": "#EBF0F8"
                          },
                          "line": {
                            "color": "white"
                          }
                        },
                        "header": {
                          "fill": {
                            "color": "#C8D4E3"
                          },
                          "line": {
                            "color": "white"
                          }
                        },
                        "type": "table"
                      }
                    ]
                  },
                  "layout": {
                    "annotationdefaults": {
                      "arrowcolor": "#2a3f5f",
                      "arrowhead": 0,
                      "arrowwidth": 1
                    },
                    "autotypenumbers": "strict",
                    "coloraxis": {
                      "colorbar": {
                        "outlinewidth": 0,
                        "ticks": ""
                      }
                    },
                    "colorscale": {
                      "diverging": [
                        [
                          0,
                          "#8e0152"
                        ],
                        [
                          0.1,
                          "#c51b7d"
                        ],
                        [
                          0.2,
                          "#de77ae"
                        ],
                        [
                          0.3,
                          "#f1b6da"
                        ],
                        [
                          0.4,
                          "#fde0ef"
                        ],
                        [
                          0.5,
                          "#f7f7f7"
                        ],
                        [
                          0.6,
                          "#e6f5d0"
                        ],
                        [
                          0.7,
                          "#b8e186"
                        ],
                        [
                          0.8,
                          "#7fbc41"
                        ],
                        [
                          0.9,
                          "#4d9221"
                        ],
                        [
                          1,
                          "#276419"
                        ]
                      ],
                      "sequential": [
                        [
                          0,
                          "#0d0887"
                        ],
                        [
                          0.1111111111111111,
                          "#46039f"
                        ],
                        [
                          0.2222222222222222,
                          "#7201a8"
                        ],
                        [
                          0.3333333333333333,
                          "#9c179e"
                        ],
                        [
                          0.4444444444444444,
                          "#bd3786"
                        ],
                        [
                          0.5555555555555556,
                          "#d8576b"
                        ],
                        [
                          0.6666666666666666,
                          "#ed7953"
                        ],
                        [
                          0.7777777777777778,
                          "#fb9f3a"
                        ],
                        [
                          0.8888888888888888,
                          "#fdca26"
                        ],
                        [
                          1,
                          "#f0f921"
                        ]
                      ],
                      "sequentialminus": [
                        [
                          0,
                          "#0d0887"
                        ],
                        [
                          0.1111111111111111,
                          "#46039f"
                        ],
                        [
                          0.2222222222222222,
                          "#7201a8"
                        ],
                        [
                          0.3333333333333333,
                          "#9c179e"
                        ],
                        [
                          0.4444444444444444,
                          "#bd3786"
                        ],
                        [
                          0.5555555555555556,
                          "#d8576b"
                        ],
                        [
                          0.6666666666666666,
                          "#ed7953"
                        ],
                        [
                          0.7777777777777778,
                          "#fb9f3a"
                        ],
                        [
                          0.8888888888888888,
                          "#fdca26"
                        ],
                        [
                          1,
                          "#f0f921"
                        ]
                      ]
                    },
                    "colorway": [
                      "#636efa",
                      "#EF553B",
                      "#00cc96",
                      "#ab63fa",
                      "#FFA15A",
                      "#19d3f3",
                      "#FF6692",
                      "#B6E880",
                      "#FF97FF",
                      "#FECB52"
                    ],
                    "font": {
                      "color": "#2a3f5f"
                    },
                    "geo": {
                      "bgcolor": "white",
                      "lakecolor": "white",
                      "landcolor": "#E5ECF6",
                      "showlakes": true,
                      "showland": true,
                      "subunitcolor": "white"
                    },
                    "hoverlabel": {
                      "align": "left"
                    },
                    "hovermode": "closest",
                    "mapbox": {
                      "style": "light"
                    },
                    "paper_bgcolor": "white",
                    "plot_bgcolor": "#E5ECF6",
                    "polar": {
                      "angularaxis": {
                        "gridcolor": "white",
                        "linecolor": "white",
                        "ticks": ""
                      },
                      "bgcolor": "#E5ECF6",
                      "radialaxis": {
                        "gridcolor": "white",
                        "linecolor": "white",
                        "ticks": ""
                      }
                    },
                    "scene": {
                      "xaxis": {
                        "backgroundcolor": "#E5ECF6",
                        "gridcolor": "white",
                        "gridwidth": 2,
                        "linecolor": "white",
                        "showbackground": true,
                        "ticks": "",
                        "zerolinecolor": "white"
                      },
                      "yaxis": {
                        "backgroundcolor": "#E5ECF6",
                        "gridcolor": "white",
                        "gridwidth": 2,
                        "linecolor": "white",
                        "showbackground": true,
                        "ticks": "",
                        "zerolinecolor": "white"
                      },
                      "zaxis": {
                        "backgroundcolor": "#E5ECF6",
                        "gridcolor": "white",
                        "gridwidth": 2,
                        "linecolor": "white",
                        "showbackground": true,
                        "ticks": "",
                        "zerolinecolor": "white"
                      }
                    },
                    "shapedefaults": {
                      "line": {
                        "color": "#2a3f5f"
                      }
                    },
                    "ternary": {
                      "aaxis": {
                        "gridcolor": "white",
                        "linecolor": "white",
                        "ticks": ""
                      },
                      "baxis": {
                        "gridcolor": "white",
                        "linecolor": "white",
                        "ticks": ""
                      },
                      "bgcolor": "#E5ECF6",
                      "caxis": {
                        "gridcolor": "white",
                        "linecolor": "white",
                        "ticks": ""
                      }
                    },
                    "title": {
                      "x": 0.05
                    },
                    "xaxis": {
                      "automargin": true,
                      "gridcolor": "white",
                      "linecolor": "white",
                      "ticks": "",
                      "title": {
                        "standoff": 15
                      },
                      "zerolinecolor": "white",
                      "zerolinewidth": 2
                    },
                    "yaxis": {
                      "automargin": true,
                      "gridcolor": "white",
                      "linecolor": "white",
                      "ticks": "",
                      "title": {
                        "standoff": 15
                      },
                      "zerolinecolor": "white",
                      "zerolinewidth": 2
                    }
                  }
                },
                "title": {
                  "text": "Yearly Content Trends: Movies vs TV Shows on Netflix"
                },
                "xaxis": {
                  "anchor": "y",
                  "domain": [
                    0,
                    1
                  ],
                  "title": {
                    "text": "Year Added"
                  }
                },
                "yaxis": {
                  "anchor": "x",
                  "domain": [
                    0,
                    1
                  ],
                  "title": {
                    "text": "Count"
                  }
                }
              }
            }
          },
          "metadata": {},
          "output_type": "display_data"
        },
        {
          "data": {
            "application/vnd.plotly.v1+json": {
              "config": {
                "plotlyServerURL": "https://plot.ly"
              },
              "data": [
                {
                  "hovertemplate": "Year Added=%{x}<br>TV Show Percentage (%)=%{y}<extra></extra>",
                  "legendgroup": "",
                  "line": {
                    "color": "#636efa",
                    "dash": "solid"
                  },
                  "marker": {
                    "symbol": "circle"
                  },
                  "mode": "lines+markers",
                  "name": "",
                  "orientation": "v",
                  "showlegend": false,
                  "type": "scatter",
                  "x": {
                    "bdata": "2AcAANkHAADaBwAA2wcAANwHAADdBwAA3gcAAN8HAADgBwAA4QcAAOIHAADjBwAA5AcAAOUHAAA=",
                    "dtype": "i4"
                  },
                  "xaxis": "x",
                  "y": {
                    "bdata": "AAAAAAAASUAAAAAAAAAAAAAAAAAAAAAAAAAAAAAAAAAAAAAAAAAAAAAAAAAAAERAVlVVVVXVNEApHdkzEJU6QDmO4ziOI0RAAzTM4lgPPEC+xYFub3E4QOxNnE69fkBAXqxVRKdUQUCVTMmUTMk4QA==",
                    "dtype": "f8"
                  },
                  "yaxis": "y"
                }
              ],
              "layout": {
                "legend": {
                  "tracegroupgap": 0
                },
                "template": {
                  "data": {
                    "bar": [
                      {
                        "error_x": {
                          "color": "#2a3f5f"
                        },
                        "error_y": {
                          "color": "#2a3f5f"
                        },
                        "marker": {
                          "line": {
                            "color": "#E5ECF6",
                            "width": 0.5
                          },
                          "pattern": {
                            "fillmode": "overlay",
                            "size": 10,
                            "solidity": 0.2
                          }
                        },
                        "type": "bar"
                      }
                    ],
                    "barpolar": [
                      {
                        "marker": {
                          "line": {
                            "color": "#E5ECF6",
                            "width": 0.5
                          },
                          "pattern": {
                            "fillmode": "overlay",
                            "size": 10,
                            "solidity": 0.2
                          }
                        },
                        "type": "barpolar"
                      }
                    ],
                    "carpet": [
                      {
                        "aaxis": {
                          "endlinecolor": "#2a3f5f",
                          "gridcolor": "white",
                          "linecolor": "white",
                          "minorgridcolor": "white",
                          "startlinecolor": "#2a3f5f"
                        },
                        "baxis": {
                          "endlinecolor": "#2a3f5f",
                          "gridcolor": "white",
                          "linecolor": "white",
                          "minorgridcolor": "white",
                          "startlinecolor": "#2a3f5f"
                        },
                        "type": "carpet"
                      }
                    ],
                    "choropleth": [
                      {
                        "colorbar": {
                          "outlinewidth": 0,
                          "ticks": ""
                        },
                        "type": "choropleth"
                      }
                    ],
                    "contour": [
                      {
                        "colorbar": {
                          "outlinewidth": 0,
                          "ticks": ""
                        },
                        "colorscale": [
                          [
                            0,
                            "#0d0887"
                          ],
                          [
                            0.1111111111111111,
                            "#46039f"
                          ],
                          [
                            0.2222222222222222,
                            "#7201a8"
                          ],
                          [
                            0.3333333333333333,
                            "#9c179e"
                          ],
                          [
                            0.4444444444444444,
                            "#bd3786"
                          ],
                          [
                            0.5555555555555556,
                            "#d8576b"
                          ],
                          [
                            0.6666666666666666,
                            "#ed7953"
                          ],
                          [
                            0.7777777777777778,
                            "#fb9f3a"
                          ],
                          [
                            0.8888888888888888,
                            "#fdca26"
                          ],
                          [
                            1,
                            "#f0f921"
                          ]
                        ],
                        "type": "contour"
                      }
                    ],
                    "contourcarpet": [
                      {
                        "colorbar": {
                          "outlinewidth": 0,
                          "ticks": ""
                        },
                        "type": "contourcarpet"
                      }
                    ],
                    "heatmap": [
                      {
                        "colorbar": {
                          "outlinewidth": 0,
                          "ticks": ""
                        },
                        "colorscale": [
                          [
                            0,
                            "#0d0887"
                          ],
                          [
                            0.1111111111111111,
                            "#46039f"
                          ],
                          [
                            0.2222222222222222,
                            "#7201a8"
                          ],
                          [
                            0.3333333333333333,
                            "#9c179e"
                          ],
                          [
                            0.4444444444444444,
                            "#bd3786"
                          ],
                          [
                            0.5555555555555556,
                            "#d8576b"
                          ],
                          [
                            0.6666666666666666,
                            "#ed7953"
                          ],
                          [
                            0.7777777777777778,
                            "#fb9f3a"
                          ],
                          [
                            0.8888888888888888,
                            "#fdca26"
                          ],
                          [
                            1,
                            "#f0f921"
                          ]
                        ],
                        "type": "heatmap"
                      }
                    ],
                    "histogram": [
                      {
                        "marker": {
                          "pattern": {
                            "fillmode": "overlay",
                            "size": 10,
                            "solidity": 0.2
                          }
                        },
                        "type": "histogram"
                      }
                    ],
                    "histogram2d": [
                      {
                        "colorbar": {
                          "outlinewidth": 0,
                          "ticks": ""
                        },
                        "colorscale": [
                          [
                            0,
                            "#0d0887"
                          ],
                          [
                            0.1111111111111111,
                            "#46039f"
                          ],
                          [
                            0.2222222222222222,
                            "#7201a8"
                          ],
                          [
                            0.3333333333333333,
                            "#9c179e"
                          ],
                          [
                            0.4444444444444444,
                            "#bd3786"
                          ],
                          [
                            0.5555555555555556,
                            "#d8576b"
                          ],
                          [
                            0.6666666666666666,
                            "#ed7953"
                          ],
                          [
                            0.7777777777777778,
                            "#fb9f3a"
                          ],
                          [
                            0.8888888888888888,
                            "#fdca26"
                          ],
                          [
                            1,
                            "#f0f921"
                          ]
                        ],
                        "type": "histogram2d"
                      }
                    ],
                    "histogram2dcontour": [
                      {
                        "colorbar": {
                          "outlinewidth": 0,
                          "ticks": ""
                        },
                        "colorscale": [
                          [
                            0,
                            "#0d0887"
                          ],
                          [
                            0.1111111111111111,
                            "#46039f"
                          ],
                          [
                            0.2222222222222222,
                            "#7201a8"
                          ],
                          [
                            0.3333333333333333,
                            "#9c179e"
                          ],
                          [
                            0.4444444444444444,
                            "#bd3786"
                          ],
                          [
                            0.5555555555555556,
                            "#d8576b"
                          ],
                          [
                            0.6666666666666666,
                            "#ed7953"
                          ],
                          [
                            0.7777777777777778,
                            "#fb9f3a"
                          ],
                          [
                            0.8888888888888888,
                            "#fdca26"
                          ],
                          [
                            1,
                            "#f0f921"
                          ]
                        ],
                        "type": "histogram2dcontour"
                      }
                    ],
                    "mesh3d": [
                      {
                        "colorbar": {
                          "outlinewidth": 0,
                          "ticks": ""
                        },
                        "type": "mesh3d"
                      }
                    ],
                    "parcoords": [
                      {
                        "line": {
                          "colorbar": {
                            "outlinewidth": 0,
                            "ticks": ""
                          }
                        },
                        "type": "parcoords"
                      }
                    ],
                    "pie": [
                      {
                        "automargin": true,
                        "type": "pie"
                      }
                    ],
                    "scatter": [
                      {
                        "fillpattern": {
                          "fillmode": "overlay",
                          "size": 10,
                          "solidity": 0.2
                        },
                        "type": "scatter"
                      }
                    ],
                    "scatter3d": [
                      {
                        "line": {
                          "colorbar": {
                            "outlinewidth": 0,
                            "ticks": ""
                          }
                        },
                        "marker": {
                          "colorbar": {
                            "outlinewidth": 0,
                            "ticks": ""
                          }
                        },
                        "type": "scatter3d"
                      }
                    ],
                    "scattercarpet": [
                      {
                        "marker": {
                          "colorbar": {
                            "outlinewidth": 0,
                            "ticks": ""
                          }
                        },
                        "type": "scattercarpet"
                      }
                    ],
                    "scattergeo": [
                      {
                        "marker": {
                          "colorbar": {
                            "outlinewidth": 0,
                            "ticks": ""
                          }
                        },
                        "type": "scattergeo"
                      }
                    ],
                    "scattergl": [
                      {
                        "marker": {
                          "colorbar": {
                            "outlinewidth": 0,
                            "ticks": ""
                          }
                        },
                        "type": "scattergl"
                      }
                    ],
                    "scattermap": [
                      {
                        "marker": {
                          "colorbar": {
                            "outlinewidth": 0,
                            "ticks": ""
                          }
                        },
                        "type": "scattermap"
                      }
                    ],
                    "scattermapbox": [
                      {
                        "marker": {
                          "colorbar": {
                            "outlinewidth": 0,
                            "ticks": ""
                          }
                        },
                        "type": "scattermapbox"
                      }
                    ],
                    "scatterpolar": [
                      {
                        "marker": {
                          "colorbar": {
                            "outlinewidth": 0,
                            "ticks": ""
                          }
                        },
                        "type": "scatterpolar"
                      }
                    ],
                    "scatterpolargl": [
                      {
                        "marker": {
                          "colorbar": {
                            "outlinewidth": 0,
                            "ticks": ""
                          }
                        },
                        "type": "scatterpolargl"
                      }
                    ],
                    "scatterternary": [
                      {
                        "marker": {
                          "colorbar": {
                            "outlinewidth": 0,
                            "ticks": ""
                          }
                        },
                        "type": "scatterternary"
                      }
                    ],
                    "surface": [
                      {
                        "colorbar": {
                          "outlinewidth": 0,
                          "ticks": ""
                        },
                        "colorscale": [
                          [
                            0,
                            "#0d0887"
                          ],
                          [
                            0.1111111111111111,
                            "#46039f"
                          ],
                          [
                            0.2222222222222222,
                            "#7201a8"
                          ],
                          [
                            0.3333333333333333,
                            "#9c179e"
                          ],
                          [
                            0.4444444444444444,
                            "#bd3786"
                          ],
                          [
                            0.5555555555555556,
                            "#d8576b"
                          ],
                          [
                            0.6666666666666666,
                            "#ed7953"
                          ],
                          [
                            0.7777777777777778,
                            "#fb9f3a"
                          ],
                          [
                            0.8888888888888888,
                            "#fdca26"
                          ],
                          [
                            1,
                            "#f0f921"
                          ]
                        ],
                        "type": "surface"
                      }
                    ],
                    "table": [
                      {
                        "cells": {
                          "fill": {
                            "color": "#EBF0F8"
                          },
                          "line": {
                            "color": "white"
                          }
                        },
                        "header": {
                          "fill": {
                            "color": "#C8D4E3"
                          },
                          "line": {
                            "color": "white"
                          }
                        },
                        "type": "table"
                      }
                    ]
                  },
                  "layout": {
                    "annotationdefaults": {
                      "arrowcolor": "#2a3f5f",
                      "arrowhead": 0,
                      "arrowwidth": 1
                    },
                    "autotypenumbers": "strict",
                    "coloraxis": {
                      "colorbar": {
                        "outlinewidth": 0,
                        "ticks": ""
                      }
                    },
                    "colorscale": {
                      "diverging": [
                        [
                          0,
                          "#8e0152"
                        ],
                        [
                          0.1,
                          "#c51b7d"
                        ],
                        [
                          0.2,
                          "#de77ae"
                        ],
                        [
                          0.3,
                          "#f1b6da"
                        ],
                        [
                          0.4,
                          "#fde0ef"
                        ],
                        [
                          0.5,
                          "#f7f7f7"
                        ],
                        [
                          0.6,
                          "#e6f5d0"
                        ],
                        [
                          0.7,
                          "#b8e186"
                        ],
                        [
                          0.8,
                          "#7fbc41"
                        ],
                        [
                          0.9,
                          "#4d9221"
                        ],
                        [
                          1,
                          "#276419"
                        ]
                      ],
                      "sequential": [
                        [
                          0,
                          "#0d0887"
                        ],
                        [
                          0.1111111111111111,
                          "#46039f"
                        ],
                        [
                          0.2222222222222222,
                          "#7201a8"
                        ],
                        [
                          0.3333333333333333,
                          "#9c179e"
                        ],
                        [
                          0.4444444444444444,
                          "#bd3786"
                        ],
                        [
                          0.5555555555555556,
                          "#d8576b"
                        ],
                        [
                          0.6666666666666666,
                          "#ed7953"
                        ],
                        [
                          0.7777777777777778,
                          "#fb9f3a"
                        ],
                        [
                          0.8888888888888888,
                          "#fdca26"
                        ],
                        [
                          1,
                          "#f0f921"
                        ]
                      ],
                      "sequentialminus": [
                        [
                          0,
                          "#0d0887"
                        ],
                        [
                          0.1111111111111111,
                          "#46039f"
                        ],
                        [
                          0.2222222222222222,
                          "#7201a8"
                        ],
                        [
                          0.3333333333333333,
                          "#9c179e"
                        ],
                        [
                          0.4444444444444444,
                          "#bd3786"
                        ],
                        [
                          0.5555555555555556,
                          "#d8576b"
                        ],
                        [
                          0.6666666666666666,
                          "#ed7953"
                        ],
                        [
                          0.7777777777777778,
                          "#fb9f3a"
                        ],
                        [
                          0.8888888888888888,
                          "#fdca26"
                        ],
                        [
                          1,
                          "#f0f921"
                        ]
                      ]
                    },
                    "colorway": [
                      "#636efa",
                      "#EF553B",
                      "#00cc96",
                      "#ab63fa",
                      "#FFA15A",
                      "#19d3f3",
                      "#FF6692",
                      "#B6E880",
                      "#FF97FF",
                      "#FECB52"
                    ],
                    "font": {
                      "color": "#2a3f5f"
                    },
                    "geo": {
                      "bgcolor": "white",
                      "lakecolor": "white",
                      "landcolor": "#E5ECF6",
                      "showlakes": true,
                      "showland": true,
                      "subunitcolor": "white"
                    },
                    "hoverlabel": {
                      "align": "left"
                    },
                    "hovermode": "closest",
                    "mapbox": {
                      "style": "light"
                    },
                    "paper_bgcolor": "white",
                    "plot_bgcolor": "#E5ECF6",
                    "polar": {
                      "angularaxis": {
                        "gridcolor": "white",
                        "linecolor": "white",
                        "ticks": ""
                      },
                      "bgcolor": "#E5ECF6",
                      "radialaxis": {
                        "gridcolor": "white",
                        "linecolor": "white",
                        "ticks": ""
                      }
                    },
                    "scene": {
                      "xaxis": {
                        "backgroundcolor": "#E5ECF6",
                        "gridcolor": "white",
                        "gridwidth": 2,
                        "linecolor": "white",
                        "showbackground": true,
                        "ticks": "",
                        "zerolinecolor": "white"
                      },
                      "yaxis": {
                        "backgroundcolor": "#E5ECF6",
                        "gridcolor": "white",
                        "gridwidth": 2,
                        "linecolor": "white",
                        "showbackground": true,
                        "ticks": "",
                        "zerolinecolor": "white"
                      },
                      "zaxis": {
                        "backgroundcolor": "#E5ECF6",
                        "gridcolor": "white",
                        "gridwidth": 2,
                        "linecolor": "white",
                        "showbackground": true,
                        "ticks": "",
                        "zerolinecolor": "white"
                      }
                    },
                    "shapedefaults": {
                      "line": {
                        "color": "#2a3f5f"
                      }
                    },
                    "ternary": {
                      "aaxis": {
                        "gridcolor": "white",
                        "linecolor": "white",
                        "ticks": ""
                      },
                      "baxis": {
                        "gridcolor": "white",
                        "linecolor": "white",
                        "ticks": ""
                      },
                      "bgcolor": "#E5ECF6",
                      "caxis": {
                        "gridcolor": "white",
                        "linecolor": "white",
                        "ticks": ""
                      }
                    },
                    "title": {
                      "x": 0.05
                    },
                    "xaxis": {
                      "automargin": true,
                      "gridcolor": "white",
                      "linecolor": "white",
                      "ticks": "",
                      "title": {
                        "standoff": 15
                      },
                      "zerolinecolor": "white",
                      "zerolinewidth": 2
                    },
                    "yaxis": {
                      "automargin": true,
                      "gridcolor": "white",
                      "linecolor": "white",
                      "ticks": "",
                      "title": {
                        "standoff": 15
                      },
                      "zerolinecolor": "white",
                      "zerolinewidth": 2
                    }
                  }
                },
                "title": {
                  "text": "Yearly Percentage of TV Shows Added to Netflix"
                },
                "xaxis": {
                  "anchor": "y",
                  "domain": [
                    0,
                    1
                  ],
                  "title": {
                    "text": "Year Added"
                  }
                },
                "yaxis": {
                  "anchor": "x",
                  "domain": [
                    0,
                    1
                  ],
                  "title": {
                    "text": "TV Show Percentage (%)"
                  }
                }
              }
            }
          },
          "metadata": {},
          "output_type": "display_data"
        }
      ],
      "source": [
        "# Step 1: Group by 'year_added' and 'type' and count entries each year\n",
        "yearly_counts = df.groupby(['year_added', 'type']).size().reset_index(name='count')\n",
        "\n",
        "# Step 2: Pivot the data so that we have separate columns for Movies and TV Shows\n",
        "yearly_pivot = yearly_counts.pivot(index='year_added', columns='type', values='count').fillna(0).reset_index()\n",
        "# Display the first few rows to check if the pivot operation worked as expected\n",
        "print(yearly_pivot.head())\n",
        "\n",
        "# Step 3: Plot yearly counts of Movies and TV Shows using a line chart\n",
        "fig_line = px.line(\n",
        "    yearly_pivot,\n",
        "    x='year_added',\n",
        "    y=['Movie', 'TV Show'],\n",
        "    markers=True,\n",
        "    title=\"Yearly Content Trends: Movies vs TV Shows on Netflix\",\n",
        "    labels={'year_added': 'Year Added', 'value': 'Count', 'variable': 'Content Type'}\n",
        ")\n",
        "fig_line.show()\n",
        "\n",
        "# Step 4: Calculate the percentage of TV Shows each year for an alternative perspective\n",
        "yearly_pivot['Total'] = yearly_pivot['Movie'] + yearly_pivot['TV Show']\n",
        "yearly_pivot['TV_Show_Percentage'] = (yearly_pivot['TV Show'] / yearly_pivot['Total']) * 100\n",
        "\n",
        "# Plot the percentage of TV Shows over the years\n",
        "fig_percentage = px.line(\n",
        "    yearly_pivot,\n",
        "    x='year_added',\n",
        "    y='TV_Show_Percentage',\n",
        "    markers=True,\n",
        "    title=\"Yearly Percentage of TV Shows Added to Netflix\",\n",
        "    labels={'year_added': 'Year Added', 'TV_Show_Percentage': 'TV Show Percentage (%)'}\n",
        ")\n",
        "fig_percentage.show()\n"
      ]
    },
    {
      "cell_type": "markdown",
      "metadata": {
        "id": "HltNguCubi7w"
      },
      "source": [
        "Between 2008 and 2020, Netflix's content acquisition strategy shows distinct trends for movies and TV shows. Movies experienced a **dramatic surge** starting around **2015**, reaching a peak of approximately **1500 titles** in 2018 before a sharp **decline in 2020**. In contrast, TV shows—though lower in overall counts with a **peak around 400** in 2019—became increasingly significant over time. The percentage-based analysis reveals that TV show additions were minimal before 2010, then saw a sharp rise starting around 2013, **peaking near 40% in 2014**, and fluctuating through 2020, highlighting the evolving emphasis on TV content in Netflix's portfolio."
      ]
    },
    {
      "cell_type": "markdown",
      "metadata": {
        "id": "o74Tb7co2n1f"
      },
      "source": [
        "# **Final Summary Conclusion for Netflix Content Analysis Project**\n",
        "\n",
        "**Content Evolution and Strategic Shift:**\n",
        "Netflix has undergone a notable shift in its content strategy, with a marked increase in TV shows and a decline in movies. From 2008 to 2020, TV show additions nearly tripled, peaking at around 737 titles in 2019, while movies peaked at 1497 in 2018 before dropping sharply by over 2000 titles by 2020. The percentage of TV shows added rose significantly after 2010, peaking near 40% in 2014, indicating a strategic pivot towards TV content, likely to cater to evolving viewer preferences for serialized storytelling.\n",
        "Regional Content Variability:\n",
        "\n",
        "The United States dominates Netflix's content library with the highest title count (over 1800), followed by India (852 titles). Other countries like the United Kingdom, Canada, and Japan have significantly fewer titles. Content type distribution shows the U.S. and India favoring movies over TV shows, while countries like Japan and the Philippines have a more balanced mix. Ratings also vary regionally, with the U.S. and India having a high proportion of TV-MA and NR content, reflecting diverse audience preferences and regulatory environments.\n",
        "Content Characteristics:\n",
        "\n",
        "**Ratings Distribution:** TV-MA (2863 titles) and TV-14 (1931 titles) are the most common ratings, indicating a focus on mature and teen audiences. Less common ratings like NC-17 and UR suggest a limited emphasis on niche or highly restricted content.\n",
        "\n",
        "**Duration Trends:** Most movies have durations around 90-100 minutes, while TV shows predominantly have 1-2 seasons, reflecting a preference for shorter, binge-worthy series.\n",
        "\n",
        "**Genre Distribution:** Dramas, comedies, and international movies dominate, particularly in the U.S. and India. Genres like documentaries and kids' TV are also significant, showing Netflix's effort to cater to a broad audience.\n",
        "Insights for Business Strategy:\n",
        "\n",
        "The shift towards TV shows aligns with Netflix's broader strategy to retain subscribers through long-form, engaging content that encourages prolonged viewing. However, the sharp decline in movies suggests a need to balance its portfolio to maintain appeal for movie-focused audiences.\n",
        "\n",
        "Regional analysis highlights opportunities for tailored content strategies. For instance, increasing movie offerings in regions like the U.S. and India, while expanding TV show libraries in markets like Japan, could enhance viewer satisfaction.\n",
        "\n",
        "Clustering based on textual features (though optional in this analysis) could further uncover latent themes, aiding in content categorization and personalized recommendations, which are critical for user engagement.\n",
        "\n",
        "In conclusion, Netflix's content strategy has evolved to **prioritize TV shows**, reflecting changing viewer habits, but the** decline in movies** calls for a reassessment to maintain a diverse library. Regional differences underscore the importance of localized content strategies, and understanding content characteristics can guide future investments to optimize Netflix's global appeal and subscriber retention."
      ]
    }
  ],
  "metadata": {
    "colab": {
      "provenance": []
    },
    "kernelspec": {
      "display_name": "Python 3",
      "name": "python3"
    },
    "language_info": {
      "codemirror_mode": {
        "name": "ipython",
        "version": 3
      },
      "file_extension": ".py",
      "mimetype": "text/x-python",
      "name": "python",
      "nbconvert_exporter": "python",
      "pygments_lexer": "ipython3",
      "version": "3.12.3"
    }
  },
  "nbformat": 4,
  "nbformat_minor": 0
}
